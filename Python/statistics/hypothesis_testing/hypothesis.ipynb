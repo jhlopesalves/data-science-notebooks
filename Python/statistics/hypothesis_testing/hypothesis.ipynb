{
 "cells": [
  {
   "cell_type": "code",
   "execution_count": 2,
   "id": "b03d095b",
   "metadata": {},
   "outputs": [],
   "source": [
    "import matplotlib.pyplot as plt\n",
    "import numpy as np\n",
    "import pandas as pd\n",
    "import seaborn as sns"
   ]
  },
  {
   "cell_type": "markdown",
   "id": "9828e9c5",
   "metadata": {},
   "source": [
    "## The Framework of Hypothesis Testing\n",
    "\n",
    "Hypothesis testing is a core concept in inferential statistics. It provides a structured way to make decisions when faced with uncertainty. A common application is **A/B testing**, where a \"control\" group is compared to a \"treatment\" group to determine if a change had a real effect. The fundamental question is always the same: \"Is the difference I observed in my sample a real effect, or is it just a result of random sampling variability?\"\n",
    "\n",
    "The process begins with a **hypothesis** about a population parameter. For example, we might hypothesize that the mean annual compensation for a population of data scientists is $110,000.\n",
    "\n",
    "We then take a sample from that population and calculate a **point estimate** (the sample mean). If our sample mean is very close to the hypothesized mean, we have no reason to doubt the hypothesis. However, if our sample mean is very far from the hypothesized value, we might conclude that our initial hypothesis was wrong.\n",
    "\n",
    "\n",
    "### Using the Bootstrap Distribution to Estimate Variability\n",
    "\n",
    "To decide what constitutes \"far,\" we need to understand how much our sample mean is expected to vary by chance alone. The **standard error** quantifies this variability. As we've seen, we can estimate the standard error by generating a **bootstrap distribution** from our sample. The standard deviation of this bootstrap distribution is our best estimate of the standard error.\n",
    "\n",
    "```python\n",
    "import pandas as pd\n",
    "import numpy as np\n",
    "\n",
    "# Create a generic \"sample\" DataFrame\n",
    "np.random.seed(42)\n",
    "sample = pd.DataFrame({\n",
    "    'compensation': np.random.normal(loc=120000, scale=50000, size=500)\n",
    "})\n",
    "\n",
    "# Generate a bootstrap distribution of the sample mean\n",
    "bootstrap_dist = []\n",
    "for i in range(5000):\n",
    "    bootstrap_sample = sample.sample(frac=1, replace=True, random_state=i)\n",
    "    bootstrap_dist.append(bootstrap_sample['compensation'].mean())\n",
    "\n",
    "# The standard deviation of the bootstrap distribution is the standard error\n",
    "standard_error = np.std(bootstrap_dist, ddof=1)\n",
    "print(f\"Estimated Standard Error: {standard_error:.2f}\")\n",
    "```\n",
    "\n",
    "\n",
    "### The Z-Score: Standardizing the Difference\n",
    "\n",
    "The **z-score** is a standardized test statistic that reframes the difference between our sample statistic and the hypothesized parameter in units of standard errors. This allows us to assess how \"surprising\" our sample result is.\n",
    "\n",
    "The formula is:\n",
    "$$z = \\frac{\\text{Sample Statistic} - \\text{Hypothesized Parameter Value}}{\\text{Standard Error}}$$\n",
    "\n",
    "A z-score of 2.5 means our observed sample statistic is 2.5 standard errors away from the hypothesized value.\n",
    "\n",
    "```python\n",
    "# Calculate the z-score \n",
    "\n",
    "# Our hypothesis about the population\n",
    "hypothesized_mean = 110000\n",
    "\n",
    "# Our observed statistic from the sample\n",
    "sample_mean = sample['compensation'].mean()\n",
    "\n",
    "# Calculate the z-score\n",
    "z_score = (sample_mean - hypothesized_mean) / standard_error\n",
    "\n",
    "print(f\"Sample Mean: {sample_mean:.2f}\")\n",
    "print(f\"Hypothesized Mean: {hypothesized_mean}\")\n",
    "print(f\"Z-score: {z_score:.4f}\")\n",
    "```\n",
    "\n",
    "### Interpreting the Z-Score\n",
    "\n",
    "To determine if our z-score is large or small, we compare it to the **standard normal distribution**, which is a normal distribution with a mean of 0 and a standard deviation of 1. If our original hypothesis were true, we would expect our z-score to be a value that could plausibly come from this distribution (i.e., a value close to zero).\n",
    "\n",
    "A common threshold for statistical significance is a z-score whose absolute value is greater than **1.96**. This value corresponds to the middle 95% of the standard normal distribution. A z-score outside this range is considered unlikely to have occurred by random chance alone if the hypothesis were true.\n",
    "\n",
    "  * If `|z| > 1.96`, we typically **reject the hypothesis**. The evidence suggests the true population parameter is different from what was hypothesized.\n",
    "  * If `|z| ≤ 1.96`, we **fail to reject the hypothesis**. The observed difference is small enough that it could plausibly be due to random sampling variability.\n",
    "\n",
    "In our example, the calculated z-score is greater than 1.96, so we would reject the hypothesis that the true mean compensation is $110,000. Our sample provides strong evidence that the true mean is likely higher."
   ]
  },
  {
   "cell_type": "code",
   "execution_count": 3,
   "id": "18b4dc31",
   "metadata": {},
   "outputs": [
    {
     "data": {
      "application/vnd.microsoft.datawrangler.viewer.v0+json": {
       "columns": [
        {
         "name": "index",
         "rawType": "int64",
         "type": "integer"
        },
        {
         "name": "respondent",
         "rawType": "float64",
         "type": "float"
        },
        {
         "name": "main_branch",
         "rawType": "object",
         "type": "string"
        },
        {
         "name": "hobbyist",
         "rawType": "object",
         "type": "string"
        },
        {
         "name": "age",
         "rawType": "float64",
         "type": "float"
        },
        {
         "name": "age_1st_code",
         "rawType": "float64",
         "type": "float"
        },
        {
         "name": "age_first_code_cut",
         "rawType": "object",
         "type": "string"
        },
        {
         "name": "comp_freq",
         "rawType": "object",
         "type": "string"
        },
        {
         "name": "comp_total",
         "rawType": "float64",
         "type": "float"
        },
        {
         "name": "converted_comp",
         "rawType": "float64",
         "type": "float"
        },
        {
         "name": "country",
         "rawType": "object",
         "type": "string"
        },
        {
         "name": "currency_desc",
         "rawType": "object",
         "type": "string"
        },
        {
         "name": "currency_symbol",
         "rawType": "object",
         "type": "string"
        },
        {
         "name": "database_desire_next_year",
         "rawType": "object",
         "type": "unknown"
        },
        {
         "name": "database_worked_with",
         "rawType": "object",
         "type": "string"
        },
        {
         "name": "dev_type",
         "rawType": "object",
         "type": "string"
        },
        {
         "name": "ed_level",
         "rawType": "object",
         "type": "string"
        },
        {
         "name": "employment",
         "rawType": "object",
         "type": "string"
        },
        {
         "name": "ethnicity",
         "rawType": "object",
         "type": "string"
        },
        {
         "name": "gender",
         "rawType": "object",
         "type": "string"
        },
        {
         "name": "job_factors",
         "rawType": "object",
         "type": "string"
        },
        {
         "name": "job_sat",
         "rawType": "category",
         "type": "unknown"
        },
        {
         "name": "job_seek",
         "rawType": "object",
         "type": "string"
        },
        {
         "name": "language_desire_next_year",
         "rawType": "object",
         "type": "string"
        },
        {
         "name": "language_worked_with",
         "rawType": "object",
         "type": "string"
        },
        {
         "name": "misc_tech_desire_next_year",
         "rawType": "object",
         "type": "unknown"
        },
        {
         "name": "misc_tech_worked_with",
         "rawType": "object",
         "type": "string"
        },
        {
         "name": "new_collab_tools_desire_next_year",
         "rawType": "object",
         "type": "unknown"
        },
        {
         "name": "new_collab_tools_worked_with",
         "rawType": "object",
         "type": "string"
        },
        {
         "name": "new_dev_ops",
         "rawType": "object",
         "type": "string"
        },
        {
         "name": "new_dev_ops_impt",
         "rawType": "object",
         "type": "string"
        },
        {
         "name": "new_ed_impt",
         "rawType": "object",
         "type": "string"
        },
        {
         "name": "new_job_hunt",
         "rawType": "object",
         "type": "string"
        },
        {
         "name": "new_job_hunt_research",
         "rawType": "object",
         "type": "unknown"
        },
        {
         "name": "new_learn",
         "rawType": "object",
         "type": "string"
        },
        {
         "name": "new_off_topic",
         "rawType": "object",
         "type": "string"
        },
        {
         "name": "new_onboard_good",
         "rawType": "object",
         "type": "string"
        },
        {
         "name": "new_other_comms",
         "rawType": "object",
         "type": "string"
        },
        {
         "name": "new_overtime",
         "rawType": "object",
         "type": "string"
        },
        {
         "name": "new_purchase_research",
         "rawType": "object",
         "type": "unknown"
        },
        {
         "name": "purple_link",
         "rawType": "object",
         "type": "string"
        },
        {
         "name": "newso_sites",
         "rawType": "object",
         "type": "string"
        },
        {
         "name": "new_stuck",
         "rawType": "object",
         "type": "string"
        },
        {
         "name": "op_sys",
         "rawType": "object",
         "type": "string"
        },
        {
         "name": "org_size",
         "rawType": "object",
         "type": "string"
        },
        {
         "name": "platform_desire_next_year",
         "rawType": "object",
         "type": "string"
        },
        {
         "name": "platform_worked_with",
         "rawType": "object",
         "type": "unknown"
        },
        {
         "name": "purchase_what",
         "rawType": "object",
         "type": "string"
        },
        {
         "name": "sexuality",
         "rawType": "object",
         "type": "string"
        },
        {
         "name": "so_account",
         "rawType": "object",
         "type": "string"
        },
        {
         "name": "so_comm",
         "rawType": "object",
         "type": "string"
        },
        {
         "name": "so_part_freq",
         "rawType": "object",
         "type": "unknown"
        },
        {
         "name": "so_visit_freq",
         "rawType": "object",
         "type": "string"
        },
        {
         "name": "survey_ease",
         "rawType": "object",
         "type": "string"
        },
        {
         "name": "survey_length",
         "rawType": "object",
         "type": "string"
        },
        {
         "name": "trans",
         "rawType": "object",
         "type": "string"
        },
        {
         "name": "undergrad_major",
         "rawType": "object",
         "type": "unknown"
        },
        {
         "name": "webframe_desire_next_year",
         "rawType": "object",
         "type": "unknown"
        },
        {
         "name": "webframe_worked_with",
         "rawType": "object",
         "type": "unknown"
        },
        {
         "name": "welcome_change",
         "rawType": "object",
         "type": "string"
        },
        {
         "name": "work_week_hrs",
         "rawType": "float64",
         "type": "float"
        },
        {
         "name": "years_code",
         "rawType": "float64",
         "type": "float"
        },
        {
         "name": "years_code_pro",
         "rawType": "float64",
         "type": "float"
        },
        {
         "name": "age_cat",
         "rawType": "object",
         "type": "string"
        }
       ],
       "ref": "0b59a4fe-ea05-4625-b668-653b167a0ae1",
       "rows": [
        [
         "0",
         "36.0",
         "I am not primarily a developer, but I write code sometimes as part of my work",
         "Yes",
         "34.0",
         "30.0",
         "adult",
         "Yearly",
         "60000.0",
         "77556.0",
         "United Kingdom",
         "Pound sterling",
         "GBP",
         "Microsoft SQL Server;MongoDB;SQLite",
         "IBM DB2;Microsoft SQL Server;MongoDB;SQLite",
         "Data or business analyst;Data scientist or machine learning specialist",
         "Some college/university study without earning a degree",
         "Employed full-time",
         "White or of European descent",
         "Man",
         "Flex time or a flexible schedule;Office environment or company culture;Opportunities for professional development",
         "Slightly satisfied",
         "I’m not actively looking, but I am open to new opportunities",
         "C#;Go;HTML/CSS;JavaScript;Python;SQL",
         "C#;Go;HTML/CSS;Java;JavaScript;Python;R;SQL",
         "Keras;Node.js;Pandas;TensorFlow",
         "Node.js;Pandas",
         "Confluence;Jira;Github;Slack;Trello",
         "Confluence;Jira;Github;Slack;Trello",
         "Not sure",
         "Neutral",
         "Somewhat important",
         "Having a bad day (or week or month) at work;Curious about other opportunities;Wanting to work with new technologies;Growth or leadership opportunities",
         null,
         "Every few months",
         "No",
         "Yes",
         "No",
         "Sometimes: 1-2 days per month but less than weekly",
         null,
         "Hello, old friend",
         "Stack Overflow (public Q&A for anyone who codes);Stack Exchange (public Q&A for a variety of topics)",
         "Visit Stack Overflow;Go for a walk or other physical activity;Watch help / tutorial videos;Do other work and come back later",
         "Windows",
         "1,000 to 4,999 employees",
         "Linux;MacOS;Windows",
         "MacOS;Windows",
         "I have little or no influence",
         "Straight / Heterosexual",
         "Yes",
         "Yes, somewhat",
         "Less than once per month or monthly",
         "Multiple times per day",
         "Easy",
         "Appropriate in length",
         "No",
         "Computer science, computer engineering, or software engineering",
         "Express;React.js",
         "Express;React.js",
         "Just as welcome now as I felt last year",
         "40.0",
         "4.0",
         "3.0",
         "At least 30"
        ],
        [
         "1",
         "47.0",
         "I am a developer by profession",
         "Yes",
         "53.0",
         "10.0",
         "child",
         "Yearly",
         "58000.0",
         "74970.0",
         "United Kingdom",
         "Pound sterling",
         "GBP",
         "PostgreSQL;SQLite",
         "Microsoft SQL Server;Oracle;PostgreSQL;SQLite",
         "Data scientist or machine learning specialist;Developer, back-end;Developer, QA or test;Engineer, data;Scientist",
         "Other doctoral degree (Ph.D., Ed.D., etc.)",
         "Employed full-time",
         "White or of European descent",
         "Man",
         "Remote work options;How widely used or impactful my work output would be;Opportunities for professional development",
         "Very satisfied",
         "I’m not actively looking, but I am open to new opportunities",
         "Bash/Shell/PowerShell;Java;Python;SQL",
         "Bash/Shell/PowerShell;C#;Java;JavaScript;Python;Ruby;SQL",
         "Pandas",
         ".NET;.NET Core",
         "Github;Gitlab",
         "Confluence;Jira;Github;Gitlab;Microsoft Azure;Google Suite (Docs, Meet, etc)",
         "Yes",
         "Neutral",
         "Not at all important/not necessary",
         "Just because;Having a bad day (or week or month) at work;Curious about other opportunities;Wanting to work with new technologies;Looking to relocate",
         "Read company media, such as employee blogs or company culture videos;Company reviews from third party sites (e.g. Glassdoor, Blind);Personal network - friends or family;Directly asking current or past employees at the company",
         "Once a year",
         "No",
         "Onboarding? What onboarding?",
         "Yes",
         "Occasionally: 1-2 days per quarter but less than monthly",
         "Start a free trial;Ask developers I know/work with;Visit developer communities like Stack Overflow",
         "Hello, old friend",
         "Stack Overflow (public Q&A for anyone who codes);Stack Exchange (public Q&A for a variety of topics);Stack Overflow Jobs (for job seekers)",
         "Call a coworker or friend;Visit Stack Overflow;Go for a walk or other physical activity;Do other work and come back later",
         "Linux-based",
         "10 to 19 employees",
         "Arduino;Docker;Linux;Raspberry Pi",
         "Arduino;AWS;Linux;Microsoft Azure;Raspberry Pi",
         "I have some influence",
         "Straight / Heterosexual",
         "Yes",
         "Yes, definitely",
         "A few times per week",
         "A few times per week",
         "Neither easy nor difficult",
         "Appropriate in length",
         "No",
         "A natural science (such as biology, chemistry, physics, etc.)",
         "Flask;Spring",
         "Flask;Spring",
         "Just as welcome now as I felt last year",
         "40.0",
         "43.0",
         "28.0",
         "At least 30"
        ],
        [
         "2",
         "69.0",
         "I am a developer by profession",
         "Yes",
         "25.0",
         "12.0",
         "child",
         "Yearly",
         "550000.0",
         "594539.0",
         "France",
         "European Euro",
         "EUR",
         "PostgreSQL",
         "MongoDB",
         "Data scientist or machine learning specialist;Database administrator;Developer, back-end;Developer, full-stack;Engineer, data",
         "Master’s degree (M.A., M.S., M.Eng., MBA, etc.)",
         "Employed full-time",
         "White or of European descent",
         "Man",
         "Flex time or a flexible schedule;How widely used or impactful my work output would be;Opportunities for professional development",
         "Very satisfied",
         "I am not interested in new job opportunities",
         "Python;Rust;Scala;SQL",
         "HTML/CSS;Python",
         "Keras;Pandas;TensorFlow",
         "Keras;Pandas;TensorFlow",
         "Github;Slack;Google Suite (Docs, Meet, etc)",
         "Confluence;Jira;Github;Slack;Google Suite (Docs, Meet, etc)",
         "Yes",
         "Extremely important",
         "Very important",
         "Curious about other opportunities;Better compensation;Trouble with leadership at my company;Wanting to work with new technologies;Growth or leadership opportunities;Looking to relocate",
         "Read company media, such as employee blogs or company culture videos;Personal network - friends or family;Read other media like news articles, founder profiles, etc. about the company;Directly asking current or past employees at the company",
         "Once a year",
         "No",
         "No",
         "No",
         "Sometimes: 1-2 days per month but less than weekly",
         "Ask developers I know/work with;Visit developer communities like Stack Overflow",
         "Hello, old friend",
         "Stack Overflow (public Q&A for anyone who codes);Stack Exchange (public Q&A for a variety of topics)",
         "Call a coworker or friend;Visit Stack Overflow;Go for a walk or other physical activity;Watch help / tutorial videos;Do other work and come back later",
         "MacOS",
         "20 to 99 employees",
         "Kubernetes;Linux",
         "Linux;Microsoft Azure",
         "I have some influence",
         "Bisexual",
         "Yes",
         "Yes, somewhat",
         "A few times per month or weekly",
         "A few times per week",
         "Easy",
         "Too short",
         "No",
         "Computer science, computer engineering, or software engineering",
         "Django;Flask",
         "Django;Flask",
         "Just as welcome now as I felt last year",
         "40.0",
         "13.0",
         "3.0",
         "Under 30"
        ],
        [
         "3",
         "125.0",
         "I am not primarily a developer, but I write code sometimes as part of my work",
         "Yes",
         "41.0",
         "30.0",
         "adult",
         "Monthly",
         "200000.0",
         "2000000.0",
         "United States",
         "United States dollar",
         "USD",
         "PostgreSQL",
         "PostgreSQL",
         "Data scientist or machine learning specialist;Scientist",
         "Other doctoral degree (Ph.D., Ed.D., etc.)",
         "Employed full-time",
         "White or of European descent",
         "Man",
         "Flex time or a flexible schedule;Family friendliness",
         "Very satisfied",
         "I am not interested in new job opportunities",
         "Python",
         "Python;SQL",
         "Keras;Pandas;TensorFlow;Torch/PyTorch",
         "Keras;Pandas;TensorFlow",
         "Jira",
         "Jira",
         "Not sure",
         "Neutral",
         "Critically important",
         "Better work/life balance",
         "Personal network - friends or family;Directly asking current or past employees at the company",
         "Once every few years",
         "No",
         "Yes",
         "No",
         "Occasionally: 1-2 days per quarter but less than monthly",
         null,
         "Amused",
         "Stack Overflow (public Q&A for anyone who codes);Stack Exchange (public Q&A for a variety of topics)",
         "Visit Stack Overflow;Go for a walk or other physical activity;Watch help / tutorial videos;Visit another developer community (please name):",
         "Windows",
         "5,000 to 9,999 employees",
         "Docker;Kubernetes",
         "Docker",
         "I have little or no influence",
         "Straight / Heterosexual",
         "Not sure/can't remember",
         "No, not really",
         null,
         "Multiple times per day",
         "Easy",
         "Appropriate in length",
         "No",
         null,
         null,
         null,
         "Just as welcome now as I felt last year",
         "40.0",
         "11.0",
         "11.0",
         "At least 30"
        ],
        [
         "4",
         "147.0",
         "I am not primarily a developer, but I write code sometimes as part of my work",
         "No",
         "28.0",
         "15.0",
         "adult",
         "Yearly",
         "50000.0",
         "37816.0",
         "Canada",
         "Canadian dollar",
         "CAD",
         null,
         "MariaDB",
         "Data scientist or machine learning specialist;Database administrator;Designer;Developer, back-end;Developer, front-end;Developer, full-stack",
         "Bachelor’s degree (B.A., B.S., B.Eng., etc.)",
         "Employed full-time",
         "White or of European descent",
         "Man",
         "Diversity of the company or organization;Flex time or a flexible schedule;Office environment or company culture",
         "Very satisfied",
         "I am not interested in new job opportunities",
         "Rust",
         "HTML/CSS;JavaScript;Python;TypeScript",
         null,
         "Node.js;Pandas",
         null,
         "Github;Slack",
         "No",
         "Somewhat important",
         "Very important",
         "Curious about other opportunities;Wanting to work with new technologies;Growth or leadership opportunities",
         "Read company media, such as employee blogs or company culture videos;Personal network - friends or family",
         "Once a year",
         "No",
         "Onboarding? What onboarding?",
         "Yes",
         "Rarely: 1-2 days per year or less",
         "Start a free trial;Ask developers I know/work with;Visit developer communities like Stack Overflow",
         "Hello, old friend",
         "Stack Overflow (public Q&A for anyone who codes);Stack Exchange (public Q&A for a variety of topics)",
         "Play games;Call a coworker or friend;Visit Stack Overflow;Go for a walk or other physical activity;Visit another developer community (please name):",
         "Windows",
         "2 to 9 employees",
         "Docker;Kubernetes",
         null,
         "I have some influence",
         "Straight / Heterosexual",
         "Yes",
         "Yes, somewhat",
         "A few times per month or weekly",
         "Daily or almost daily",
         "Easy",
         "Appropriate in length",
         "No",
         "Another engineering discipline (such as civil, electrical, mechanical, etc.)",
         null,
         "Express;Flask",
         "Just as welcome now as I felt last year",
         "40.0",
         "5.0",
         "3.0",
         "Under 30"
        ]
       ],
       "shape": {
        "columns": 63,
        "rows": 5
       }
      },
      "text/html": [
       "<div>\n",
       "<style scoped>\n",
       "    .dataframe tbody tr th:only-of-type {\n",
       "        vertical-align: middle;\n",
       "    }\n",
       "\n",
       "    .dataframe tbody tr th {\n",
       "        vertical-align: top;\n",
       "    }\n",
       "\n",
       "    .dataframe thead th {\n",
       "        text-align: right;\n",
       "    }\n",
       "</style>\n",
       "<table border=\"1\" class=\"dataframe\">\n",
       "  <thead>\n",
       "    <tr style=\"text-align: right;\">\n",
       "      <th></th>\n",
       "      <th>respondent</th>\n",
       "      <th>main_branch</th>\n",
       "      <th>hobbyist</th>\n",
       "      <th>age</th>\n",
       "      <th>age_1st_code</th>\n",
       "      <th>age_first_code_cut</th>\n",
       "      <th>comp_freq</th>\n",
       "      <th>comp_total</th>\n",
       "      <th>converted_comp</th>\n",
       "      <th>country</th>\n",
       "      <th>...</th>\n",
       "      <th>survey_length</th>\n",
       "      <th>trans</th>\n",
       "      <th>undergrad_major</th>\n",
       "      <th>webframe_desire_next_year</th>\n",
       "      <th>webframe_worked_with</th>\n",
       "      <th>welcome_change</th>\n",
       "      <th>work_week_hrs</th>\n",
       "      <th>years_code</th>\n",
       "      <th>years_code_pro</th>\n",
       "      <th>age_cat</th>\n",
       "    </tr>\n",
       "  </thead>\n",
       "  <tbody>\n",
       "    <tr>\n",
       "      <th>0</th>\n",
       "      <td>36.0</td>\n",
       "      <td>I am not primarily a developer, but I write co...</td>\n",
       "      <td>Yes</td>\n",
       "      <td>34.0</td>\n",
       "      <td>30.0</td>\n",
       "      <td>adult</td>\n",
       "      <td>Yearly</td>\n",
       "      <td>60000.0</td>\n",
       "      <td>77556.0</td>\n",
       "      <td>United Kingdom</td>\n",
       "      <td>...</td>\n",
       "      <td>Appropriate in length</td>\n",
       "      <td>No</td>\n",
       "      <td>Computer science, computer engineering, or sof...</td>\n",
       "      <td>Express;React.js</td>\n",
       "      <td>Express;React.js</td>\n",
       "      <td>Just as welcome now as I felt last year</td>\n",
       "      <td>40.0</td>\n",
       "      <td>4.0</td>\n",
       "      <td>3.0</td>\n",
       "      <td>At least 30</td>\n",
       "    </tr>\n",
       "    <tr>\n",
       "      <th>1</th>\n",
       "      <td>47.0</td>\n",
       "      <td>I am a developer by profession</td>\n",
       "      <td>Yes</td>\n",
       "      <td>53.0</td>\n",
       "      <td>10.0</td>\n",
       "      <td>child</td>\n",
       "      <td>Yearly</td>\n",
       "      <td>58000.0</td>\n",
       "      <td>74970.0</td>\n",
       "      <td>United Kingdom</td>\n",
       "      <td>...</td>\n",
       "      <td>Appropriate in length</td>\n",
       "      <td>No</td>\n",
       "      <td>A natural science (such as biology, chemistry,...</td>\n",
       "      <td>Flask;Spring</td>\n",
       "      <td>Flask;Spring</td>\n",
       "      <td>Just as welcome now as I felt last year</td>\n",
       "      <td>40.0</td>\n",
       "      <td>43.0</td>\n",
       "      <td>28.0</td>\n",
       "      <td>At least 30</td>\n",
       "    </tr>\n",
       "    <tr>\n",
       "      <th>2</th>\n",
       "      <td>69.0</td>\n",
       "      <td>I am a developer by profession</td>\n",
       "      <td>Yes</td>\n",
       "      <td>25.0</td>\n",
       "      <td>12.0</td>\n",
       "      <td>child</td>\n",
       "      <td>Yearly</td>\n",
       "      <td>550000.0</td>\n",
       "      <td>594539.0</td>\n",
       "      <td>France</td>\n",
       "      <td>...</td>\n",
       "      <td>Too short</td>\n",
       "      <td>No</td>\n",
       "      <td>Computer science, computer engineering, or sof...</td>\n",
       "      <td>Django;Flask</td>\n",
       "      <td>Django;Flask</td>\n",
       "      <td>Just as welcome now as I felt last year</td>\n",
       "      <td>40.0</td>\n",
       "      <td>13.0</td>\n",
       "      <td>3.0</td>\n",
       "      <td>Under 30</td>\n",
       "    </tr>\n",
       "    <tr>\n",
       "      <th>3</th>\n",
       "      <td>125.0</td>\n",
       "      <td>I am not primarily a developer, but I write co...</td>\n",
       "      <td>Yes</td>\n",
       "      <td>41.0</td>\n",
       "      <td>30.0</td>\n",
       "      <td>adult</td>\n",
       "      <td>Monthly</td>\n",
       "      <td>200000.0</td>\n",
       "      <td>2000000.0</td>\n",
       "      <td>United States</td>\n",
       "      <td>...</td>\n",
       "      <td>Appropriate in length</td>\n",
       "      <td>No</td>\n",
       "      <td>None</td>\n",
       "      <td>None</td>\n",
       "      <td>None</td>\n",
       "      <td>Just as welcome now as I felt last year</td>\n",
       "      <td>40.0</td>\n",
       "      <td>11.0</td>\n",
       "      <td>11.0</td>\n",
       "      <td>At least 30</td>\n",
       "    </tr>\n",
       "    <tr>\n",
       "      <th>4</th>\n",
       "      <td>147.0</td>\n",
       "      <td>I am not primarily a developer, but I write co...</td>\n",
       "      <td>No</td>\n",
       "      <td>28.0</td>\n",
       "      <td>15.0</td>\n",
       "      <td>adult</td>\n",
       "      <td>Yearly</td>\n",
       "      <td>50000.0</td>\n",
       "      <td>37816.0</td>\n",
       "      <td>Canada</td>\n",
       "      <td>...</td>\n",
       "      <td>Appropriate in length</td>\n",
       "      <td>No</td>\n",
       "      <td>Another engineering discipline (such as civil,...</td>\n",
       "      <td>None</td>\n",
       "      <td>Express;Flask</td>\n",
       "      <td>Just as welcome now as I felt last year</td>\n",
       "      <td>40.0</td>\n",
       "      <td>5.0</td>\n",
       "      <td>3.0</td>\n",
       "      <td>Under 30</td>\n",
       "    </tr>\n",
       "  </tbody>\n",
       "</table>\n",
       "<p>5 rows × 63 columns</p>\n",
       "</div>"
      ],
      "text/plain": [
       "   respondent                                        main_branch hobbyist  \\\n",
       "0        36.0  I am not primarily a developer, but I write co...      Yes   \n",
       "1        47.0                     I am a developer by profession      Yes   \n",
       "2        69.0                     I am a developer by profession      Yes   \n",
       "3       125.0  I am not primarily a developer, but I write co...      Yes   \n",
       "4       147.0  I am not primarily a developer, but I write co...       No   \n",
       "\n",
       "    age  age_1st_code age_first_code_cut comp_freq  comp_total  \\\n",
       "0  34.0          30.0              adult    Yearly     60000.0   \n",
       "1  53.0          10.0              child    Yearly     58000.0   \n",
       "2  25.0          12.0              child    Yearly    550000.0   \n",
       "3  41.0          30.0              adult   Monthly    200000.0   \n",
       "4  28.0          15.0              adult    Yearly     50000.0   \n",
       "\n",
       "   converted_comp         country  ...          survey_length trans  \\\n",
       "0         77556.0  United Kingdom  ...  Appropriate in length    No   \n",
       "1         74970.0  United Kingdom  ...  Appropriate in length    No   \n",
       "2        594539.0          France  ...              Too short    No   \n",
       "3       2000000.0   United States  ...  Appropriate in length    No   \n",
       "4         37816.0          Canada  ...  Appropriate in length    No   \n",
       "\n",
       "                                     undergrad_major  \\\n",
       "0  Computer science, computer engineering, or sof...   \n",
       "1  A natural science (such as biology, chemistry,...   \n",
       "2  Computer science, computer engineering, or sof...   \n",
       "3                                               None   \n",
       "4  Another engineering discipline (such as civil,...   \n",
       "\n",
       "  webframe_desire_next_year webframe_worked_with  \\\n",
       "0          Express;React.js     Express;React.js   \n",
       "1              Flask;Spring         Flask;Spring   \n",
       "2              Django;Flask         Django;Flask   \n",
       "3                      None                 None   \n",
       "4                      None        Express;Flask   \n",
       "\n",
       "                            welcome_change work_week_hrs years_code  \\\n",
       "0  Just as welcome now as I felt last year          40.0        4.0   \n",
       "1  Just as welcome now as I felt last year          40.0       43.0   \n",
       "2  Just as welcome now as I felt last year          40.0       13.0   \n",
       "3  Just as welcome now as I felt last year          40.0       11.0   \n",
       "4  Just as welcome now as I felt last year          40.0        5.0   \n",
       "\n",
       "  years_code_pro      age_cat  \n",
       "0            3.0  At least 30  \n",
       "1           28.0  At least 30  \n",
       "2            3.0     Under 30  \n",
       "3           11.0  At least 30  \n",
       "4            3.0     Under 30  \n",
       "\n",
       "[5 rows x 63 columns]"
      ]
     },
     "execution_count": 3,
     "metadata": {},
     "output_type": "execute_result"
    }
   ],
   "source": [
    "url = \"https://assets.datacamp.com/production/repositories/5982/datasets/c59033b93930652f402e30db77c3b8ef713dd701/stack_overflow.feather\"\n",
    "stack_overflow = pd.read_feather(url)\n",
    "stack_overflow.head()"
   ]
  },
  {
   "cell_type": "code",
   "execution_count": 4,
   "id": "8af77df7",
   "metadata": {},
   "outputs": [],
   "source": [
    "# Generating a bootstrap distribution\n",
    "# This simulates the sampling distribution of the mean compensation by repeatedly resampling (with replacement)\n",
    "# from the stack_overflow dataset and calculating the mean for each resample.\n",
    "so_boot_distn = [\n",
    "    np.mean(stack_overflow.sample(frac=1, replace=True)[\"converted_comp\"])\n",
    "    for _ in range(5000)\n",
    "]"
   ]
  },
  {
   "cell_type": "code",
   "execution_count": 5,
   "id": "332cc8c2",
   "metadata": {},
   "outputs": [
    {
     "data": {
      "image/png": "[encoded data removed]",
      "text/plain": [
       "<Figure size 770x550 with 1 Axes>"
      ]
     },
     "metadata": {},
     "output_type": "display_data"
    }
   ],
   "source": [
    "# Plotting the bootstrap distribution of sample means for compensation\n",
    "\n",
    "fig, ax = plt.subplots(figsize=(7, 5), dpi=110)\n",
    "\n",
    "# Plot a histogram of the bootstrap sample means\n",
    "sns.histplot(so_boot_distn, bins=50, ax=ax, color=\"#0050B3\", edgecolor=\"black\")\n",
    "sns.despine()\n",
    "\n",
    "# Set axis labels and title\n",
    "ax.set(\n",
    "    xlabel=\"Bootstrap Sample Means (Compensation)\",\n",
    "    ylabel=\"Frequency\",\n",
    "    title=\"Bootstrap Distribution of Mean Compensation\",\n",
    ")\n",
    "\n",
    "# Add gridlines\n",
    "ax.grid(True, alpha=0.5, linewidth=0.8, color=\"grey\")\n",
    "ax.set_axisbelow(True)\n",
    "\n",
    "plt.tight_layout()\n",
    "plt.show()"
   ]
  },
  {
   "cell_type": "code",
   "execution_count": 6,
   "id": "20de2a41",
   "metadata": {},
   "outputs": [
    {
     "name": "stdout",
     "output_type": "stream",
     "text": [
      "1.737455825170608\n"
     ]
    }
   ],
   "source": [
    "# Set the hypothesized mean compensation (the value under the null hypothesis)\n",
    "mean_comp_hyp = 110_000\n",
    "\n",
    "# Calculate the sample mean compensation from the Stack Overflow dataset\n",
    "mean_comp_samp = stack_overflow[\"converted_comp\"].mean()\n",
    "\n",
    "# Estimate the standard error using the standard deviation of the bootstrap distribution\n",
    "std_error = np.std(so_boot_distn, ddof=1)\n",
    "\n",
    "# Calculate the z-score: how many standard errors the observed mean is from the hypothesized mean\n",
    "z_score = (mean_comp_samp - mean_comp_hyp) / std_error\n",
    "\n",
    "# Print the z-score; a higher absolute value indicates a greater difference from the hypothesized mean\n",
    "print(z_score)"
   ]
  },
  {
   "cell_type": "code",
   "execution_count": 7,
   "id": "2f8126d5",
   "metadata": {},
   "outputs": [],
   "source": [
    "url = \"https://assets.datacamp.com/production/repositories/5982/datasets/887ec4bc2bcfd4195e7d3ad113168555f36d3afa/late_shipments.feather\"\n",
    "late_shipments = pd.read_feather(url)"
   ]
  },
  {
   "cell_type": "markdown",
   "id": "2d051332",
   "metadata": {},
   "source": [
    "### Calculating the sample mean\n",
    "The late_shipments dataset contains supply chain data on the delivery of medical supplies. Each row represents one delivery of a part. The `late` columns denotes whether or not the part was delivered late. A value of `\"Yes\"` means that the part was delivered late, and a value of `\"No\"` means the part was delivered on time."
   ]
  },
  {
   "cell_type": "code",
   "execution_count": 8,
   "id": "3487565f",
   "metadata": {},
   "outputs": [
    {
     "data": {
      "application/vnd.microsoft.datawrangler.viewer.v0+json": {
       "columns": [
        {
         "name": "index",
         "rawType": "int64",
         "type": "integer"
        },
        {
         "name": "id",
         "rawType": "float64",
         "type": "float"
        },
        {
         "name": "country",
         "rawType": "object",
         "type": "string"
        },
        {
         "name": "managed_by",
         "rawType": "object",
         "type": "string"
        },
        {
         "name": "fulfill_via",
         "rawType": "object",
         "type": "string"
        },
        {
         "name": "vendor_inco_term",
         "rawType": "object",
         "type": "string"
        },
        {
         "name": "shipment_mode",
         "rawType": "object",
         "type": "string"
        },
        {
         "name": "late_delivery",
         "rawType": "float64",
         "type": "float"
        },
        {
         "name": "late",
         "rawType": "object",
         "type": "string"
        },
        {
         "name": "product_group",
         "rawType": "object",
         "type": "string"
        },
        {
         "name": "sub_classification",
         "rawType": "object",
         "type": "string"
        },
        {
         "name": "vendor",
         "rawType": "object",
         "type": "string"
        },
        {
         "name": "item_description",
         "rawType": "object",
         "type": "string"
        },
        {
         "name": "molecule_test_type",
         "rawType": "object",
         "type": "string"
        },
        {
         "name": "brand",
         "rawType": "object",
         "type": "string"
        },
        {
         "name": "dosage",
         "rawType": "object",
         "type": "string"
        },
        {
         "name": "dosage_form",
         "rawType": "object",
         "type": "string"
        },
        {
         "name": "unit_of_measure_per_pack",
         "rawType": "float64",
         "type": "float"
        },
        {
         "name": "line_item_quantity",
         "rawType": "float64",
         "type": "float"
        },
        {
         "name": "line_item_value",
         "rawType": "float64",
         "type": "float"
        },
        {
         "name": "pack_price",
         "rawType": "float64",
         "type": "float"
        },
        {
         "name": "unit_price",
         "rawType": "float64",
         "type": "float"
        },
        {
         "name": "manufacturing_site",
         "rawType": "object",
         "type": "string"
        },
        {
         "name": "first_line_designation",
         "rawType": "object",
         "type": "string"
        },
        {
         "name": "weight_kilograms",
         "rawType": "float64",
         "type": "float"
        },
        {
         "name": "freight_cost_usd",
         "rawType": "float64",
         "type": "float"
        },
        {
         "name": "freight_cost_groups",
         "rawType": "object",
         "type": "string"
        },
        {
         "name": "line_item_insurance_usd",
         "rawType": "float64",
         "type": "float"
        }
       ],
       "ref": "8aa7e37a-8a6c-407f-a2d8-21f74192637d",
       "rows": [
        [
         "0",
         "36203.0",
         "Nigeria",
         "PMO - US",
         "Direct Drop",
         "EXW",
         "Air",
         "1.0",
         "Yes",
         "HRDT",
         "HIV test",
         "Orgenics, Ltd",
         "HIV 1/2, Determine Complete HIV Kit, 100 Tests",
         "HIV 1/2, Determine Complete HIV Kit",
         "Determine",
         "N/A",
         "Test kit",
         "100.0",
         "2996.0",
         "266644.0",
         "89.0",
         "0.89",
         "Alere Medical Co., Ltd.",
         "Yes",
         "1426.0",
         "33279.83",
         "expensive",
         "373.83"
        ],
        [
         "1",
         "30998.0",
         "Botswana",
         "PMO - US",
         "Direct Drop",
         "EXW",
         "Air",
         "0.0",
         "No",
         "HRDT",
         "HIV test",
         "Trinity Biotech, Plc",
         "HIV 1/2, Uni-Gold HIV Kit, 20 Tests",
         "HIV 1/2, Uni-Gold HIV Kit",
         "Uni-Gold",
         "N/A",
         "Test kit",
         "20.0",
         "25.0",
         "800.0",
         "32.0",
         "1.6",
         "Trinity Biotech, Plc",
         "Yes",
         "10.0",
         "559.89",
         "reasonable",
         "1.72"
        ],
        [
         "2",
         "69871.0",
         "Vietnam",
         "PMO - US",
         "Direct Drop",
         "EXW",
         "Air",
         "0.0",
         "No",
         "ARV",
         "Adult",
         "HETERO LABS LIMITED",
         "Lamivudine/Nevirapine/Stavudine 150/200/30mg, tablets, 60 Tabs",
         "Lamivudine/Nevirapine/Stavudine",
         "Generic",
         "150/200/30mg",
         "Tablet - FDC",
         "60.0",
         "22925.0",
         "110040.0",
         "4.8",
         "0.08",
         "Hetero Unit III Hyderabad IN",
         "Yes",
         "3723.0",
         "19056.13",
         "expensive",
         "181.57"
        ],
        [
         "3",
         "17648.0",
         "South Africa",
         "PMO - US",
         "Direct Drop",
         "DDP",
         "Ocean",
         "0.0",
         "No",
         "ARV",
         "Adult",
         "Aurobindo Pharma Limited",
         "Lamivudine 150mg, tablets, 60 Tabs",
         "Lamivudine",
         "Generic",
         "150mg",
         "Tablet",
         "60.0",
         "152535.0",
         "361507.95",
         "2.37",
         "0.04",
         "Aurobindo Unit III, India",
         "Yes",
         "7698.0",
         "11372.23",
         "expensive",
         "779.41"
        ],
        [
         "4",
         "5647.0",
         "Uganda",
         "PMO - US",
         "Direct Drop",
         "EXW",
         "Air",
         "0.0",
         "No",
         "HRDT",
         "HIV test - Ancillary",
         "Orgenics, Ltd",
         "HIV, Lancet, Safety, for HIV Test kits, 100 Pcs",
         "HIV, Lancet, Safety, for HIV Test kits, 100 Pcs",
         "Generic",
         "N/A",
         "Test kit - Ancillary",
         "100.0",
         "850.0",
         "8.5",
         "0.01",
         "0.0",
         "Inverness Japan",
         "Yes",
         "56.0",
         "360.0",
         "reasonable",
         "0.01"
        ]
       ],
       "shape": {
        "columns": 27,
        "rows": 5
       }
      },
      "text/html": [
       "<div>\n",
       "<style scoped>\n",
       "    .dataframe tbody tr th:only-of-type {\n",
       "        vertical-align: middle;\n",
       "    }\n",
       "\n",
       "    .dataframe tbody tr th {\n",
       "        vertical-align: top;\n",
       "    }\n",
       "\n",
       "    .dataframe thead th {\n",
       "        text-align: right;\n",
       "    }\n",
       "</style>\n",
       "<table border=\"1\" class=\"dataframe\">\n",
       "  <thead>\n",
       "    <tr style=\"text-align: right;\">\n",
       "      <th></th>\n",
       "      <th>id</th>\n",
       "      <th>country</th>\n",
       "      <th>managed_by</th>\n",
       "      <th>fulfill_via</th>\n",
       "      <th>vendor_inco_term</th>\n",
       "      <th>shipment_mode</th>\n",
       "      <th>late_delivery</th>\n",
       "      <th>late</th>\n",
       "      <th>product_group</th>\n",
       "      <th>sub_classification</th>\n",
       "      <th>...</th>\n",
       "      <th>line_item_quantity</th>\n",
       "      <th>line_item_value</th>\n",
       "      <th>pack_price</th>\n",
       "      <th>unit_price</th>\n",
       "      <th>manufacturing_site</th>\n",
       "      <th>first_line_designation</th>\n",
       "      <th>weight_kilograms</th>\n",
       "      <th>freight_cost_usd</th>\n",
       "      <th>freight_cost_groups</th>\n",
       "      <th>line_item_insurance_usd</th>\n",
       "    </tr>\n",
       "  </thead>\n",
       "  <tbody>\n",
       "    <tr>\n",
       "      <th>0</th>\n",
       "      <td>36203.0</td>\n",
       "      <td>Nigeria</td>\n",
       "      <td>PMO - US</td>\n",
       "      <td>Direct Drop</td>\n",
       "      <td>EXW</td>\n",
       "      <td>Air</td>\n",
       "      <td>1.0</td>\n",
       "      <td>Yes</td>\n",
       "      <td>HRDT</td>\n",
       "      <td>HIV test</td>\n",
       "      <td>...</td>\n",
       "      <td>2996.0</td>\n",
       "      <td>266644.00</td>\n",
       "      <td>89.00</td>\n",
       "      <td>0.89</td>\n",
       "      <td>Alere Medical Co., Ltd.</td>\n",
       "      <td>Yes</td>\n",
       "      <td>1426.0</td>\n",
       "      <td>33279.83</td>\n",
       "      <td>expensive</td>\n",
       "      <td>373.83</td>\n",
       "    </tr>\n",
       "    <tr>\n",
       "      <th>1</th>\n",
       "      <td>30998.0</td>\n",
       "      <td>Botswana</td>\n",
       "      <td>PMO - US</td>\n",
       "      <td>Direct Drop</td>\n",
       "      <td>EXW</td>\n",
       "      <td>Air</td>\n",
       "      <td>0.0</td>\n",
       "      <td>No</td>\n",
       "      <td>HRDT</td>\n",
       "      <td>HIV test</td>\n",
       "      <td>...</td>\n",
       "      <td>25.0</td>\n",
       "      <td>800.00</td>\n",
       "      <td>32.00</td>\n",
       "      <td>1.60</td>\n",
       "      <td>Trinity Biotech, Plc</td>\n",
       "      <td>Yes</td>\n",
       "      <td>10.0</td>\n",
       "      <td>559.89</td>\n",
       "      <td>reasonable</td>\n",
       "      <td>1.72</td>\n",
       "    </tr>\n",
       "    <tr>\n",
       "      <th>2</th>\n",
       "      <td>69871.0</td>\n",
       "      <td>Vietnam</td>\n",
       "      <td>PMO - US</td>\n",
       "      <td>Direct Drop</td>\n",
       "      <td>EXW</td>\n",
       "      <td>Air</td>\n",
       "      <td>0.0</td>\n",
       "      <td>No</td>\n",
       "      <td>ARV</td>\n",
       "      <td>Adult</td>\n",
       "      <td>...</td>\n",
       "      <td>22925.0</td>\n",
       "      <td>110040.00</td>\n",
       "      <td>4.80</td>\n",
       "      <td>0.08</td>\n",
       "      <td>Hetero Unit III Hyderabad IN</td>\n",
       "      <td>Yes</td>\n",
       "      <td>3723.0</td>\n",
       "      <td>19056.13</td>\n",
       "      <td>expensive</td>\n",
       "      <td>181.57</td>\n",
       "    </tr>\n",
       "    <tr>\n",
       "      <th>3</th>\n",
       "      <td>17648.0</td>\n",
       "      <td>South Africa</td>\n",
       "      <td>PMO - US</td>\n",
       "      <td>Direct Drop</td>\n",
       "      <td>DDP</td>\n",
       "      <td>Ocean</td>\n",
       "      <td>0.0</td>\n",
       "      <td>No</td>\n",
       "      <td>ARV</td>\n",
       "      <td>Adult</td>\n",
       "      <td>...</td>\n",
       "      <td>152535.0</td>\n",
       "      <td>361507.95</td>\n",
       "      <td>2.37</td>\n",
       "      <td>0.04</td>\n",
       "      <td>Aurobindo Unit III, India</td>\n",
       "      <td>Yes</td>\n",
       "      <td>7698.0</td>\n",
       "      <td>11372.23</td>\n",
       "      <td>expensive</td>\n",
       "      <td>779.41</td>\n",
       "    </tr>\n",
       "    <tr>\n",
       "      <th>4</th>\n",
       "      <td>5647.0</td>\n",
       "      <td>Uganda</td>\n",
       "      <td>PMO - US</td>\n",
       "      <td>Direct Drop</td>\n",
       "      <td>EXW</td>\n",
       "      <td>Air</td>\n",
       "      <td>0.0</td>\n",
       "      <td>No</td>\n",
       "      <td>HRDT</td>\n",
       "      <td>HIV test - Ancillary</td>\n",
       "      <td>...</td>\n",
       "      <td>850.0</td>\n",
       "      <td>8.50</td>\n",
       "      <td>0.01</td>\n",
       "      <td>0.00</td>\n",
       "      <td>Inverness Japan</td>\n",
       "      <td>Yes</td>\n",
       "      <td>56.0</td>\n",
       "      <td>360.00</td>\n",
       "      <td>reasonable</td>\n",
       "      <td>0.01</td>\n",
       "    </tr>\n",
       "  </tbody>\n",
       "</table>\n",
       "<p>5 rows × 27 columns</p>\n",
       "</div>"
      ],
      "text/plain": [
       "        id       country managed_by  fulfill_via vendor_inco_term  \\\n",
       "0  36203.0       Nigeria   PMO - US  Direct Drop              EXW   \n",
       "1  30998.0      Botswana   PMO - US  Direct Drop              EXW   \n",
       "2  69871.0       Vietnam   PMO - US  Direct Drop              EXW   \n",
       "3  17648.0  South Africa   PMO - US  Direct Drop              DDP   \n",
       "4   5647.0        Uganda   PMO - US  Direct Drop              EXW   \n",
       "\n",
       "  shipment_mode  late_delivery late product_group    sub_classification  ...  \\\n",
       "0           Air            1.0  Yes          HRDT              HIV test  ...   \n",
       "1           Air            0.0   No          HRDT              HIV test  ...   \n",
       "2           Air            0.0   No           ARV                 Adult  ...   \n",
       "3         Ocean            0.0   No           ARV                 Adult  ...   \n",
       "4           Air            0.0   No          HRDT  HIV test - Ancillary  ...   \n",
       "\n",
       "  line_item_quantity line_item_value pack_price unit_price  \\\n",
       "0             2996.0       266644.00      89.00       0.89   \n",
       "1               25.0          800.00      32.00       1.60   \n",
       "2            22925.0       110040.00       4.80       0.08   \n",
       "3           152535.0       361507.95       2.37       0.04   \n",
       "4              850.0            8.50       0.01       0.00   \n",
       "\n",
       "             manufacturing_site first_line_designation  weight_kilograms  \\\n",
       "0       Alere Medical Co., Ltd.                    Yes            1426.0   \n",
       "1          Trinity Biotech, Plc                    Yes              10.0   \n",
       "2  Hetero Unit III Hyderabad IN                    Yes            3723.0   \n",
       "3     Aurobindo Unit III, India                    Yes            7698.0   \n",
       "4               Inverness Japan                    Yes              56.0   \n",
       "\n",
       "   freight_cost_usd  freight_cost_groups  line_item_insurance_usd  \n",
       "0          33279.83            expensive                   373.83  \n",
       "1            559.89           reasonable                     1.72  \n",
       "2          19056.13            expensive                   181.57  \n",
       "3          11372.23            expensive                   779.41  \n",
       "4            360.00           reasonable                     0.01  \n",
       "\n",
       "[5 rows x 27 columns]"
      ]
     },
     "execution_count": 8,
     "metadata": {},
     "output_type": "execute_result"
    }
   ],
   "source": [
    "# Print the late_shipments dataset.\n",
    "late_shipments.head()"
   ]
  },
  {
   "cell_type": "code",
   "execution_count": 9,
   "id": "94cdb612",
   "metadata": {},
   "outputs": [
    {
     "name": "stdout",
     "output_type": "stream",
     "text": [
      "0.061\n"
     ]
    }
   ],
   "source": [
    "# Calculate the proportion of late shipments in the sample; that is, the mean cases where the late column is \"Yes\".\n",
    "late_prop_samp = (late_shipments[\"late\"] == \"Yes\").mean()\n",
    "\n",
    "# Print the results\n",
    "print(late_prop_samp)"
   ]
  },
  {
   "cell_type": "markdown",
   "id": "e1114154",
   "metadata": {},
   "source": [
    "### Calculating a z-score\n",
    "Since variables have arbitrary ranges and units, we need to standardize them. For example, a hypothesis test that gave different answers if the variables were in Euros instead of US dollars would be of little value. Standardization avoids that.\n",
    "\n",
    "One standardized value of interest in a hypothesis test is called a z-score. To calculate it, you need three numbers: the sample statistic (point estimate), the hypothesized statistic, and the standard error of the statistic (estimated from the bootstrap distribution)."
   ]
  },
  {
   "cell_type": "code",
   "execution_count": 10,
   "id": "2c9b4cc5",
   "metadata": {},
   "outputs": [],
   "source": [
    "# Generate a bootstrap distribution for the proportion of late shipments\n",
    "# This simulates the sampling distribution of the sample proportion under repeated random sampling\n",
    "late_shipments_boot_distn = [\n",
    "    # For each bootstrap iteration, take a random sample (with replacement) from the 'late' column\n",
    "    np.mean(\n",
    "        (\n",
    "            late_shipments[\"late\"].sample(len(late_shipments), replace=True).values\n",
    "            # Calculate the proportion of \"Yes\" responses (late shipments) in the bootstrap sample\n",
    "            == \"Yes\"\n",
    "        )\n",
    "    )\n",
    "    # Repeat the process 5000 times to build a robust bootstrap distribution\n",
    "    for _ in range(5000)\n",
    "]"
   ]
  },
  {
   "cell_type": "code",
   "execution_count": 11,
   "id": "f6c8b0ee",
   "metadata": {},
   "outputs": [
    {
     "name": "stdout",
     "output_type": "stream",
     "text": [
      "0.13411527613631838\n"
     ]
    }
   ],
   "source": [
    "# Set the hypothesized proportion of late shipments under the null hypothesis (e.g., 6%)\n",
    "late_prop_hyp = 0.06\n",
    "\n",
    "# Estimate the standard error of the sample proportion using the standard deviation of the bootstrap distribution\n",
    "# The standard error quantifies the expected variability in the sample proportion due to random sampling\n",
    "std_error = np.std(late_shipments_boot_distn, ddof=1)\n",
    "\n",
    "# Calculate the z-score: how many standard errors the observed sample proportion is from the hypothesized value\n",
    "# This standardizes the difference, allowing us to assess how \"surprising\" our result is under the null hypothesis\n",
    "z_score = (late_prop_samp - late_prop_hyp) / std_error\n",
    "\n",
    "# Print the calculated z-score; a large absolute value suggests the observed proportion is unlikely under the null hypothesis\n",
    "print(z_score)"
   ]
  },
  {
   "cell_type": "markdown",
   "id": "a33f58f0",
   "metadata": {},
   "source": [
    "## The Logic of Hypothesis Testing\n",
    "\n",
    "Hypothesis testing is a formal procedure for making statistical decisions. The process is analogous to a criminal trial:\n",
    "\n",
    "1.  There are two competing claims: the **null hypothesis ($H\\_0$)** and the **alternative hypothesis ($H\\_A$)**.\n",
    "2.  We begin by assuming the null hypothesis is true, just as a defendant is presumed innocent.\n",
    "3.  We collect evidence (our sample data).\n",
    "4.  We determine if the evidence is strong enough (\"beyond a reasonable doubt\") to reject the null hypothesis in favor of the alternative.\n",
    "\n",
    "  * **Null Hypothesis ($H\\_0$)**: The hypothesis of no effect, no difference, or the status quo. It is the existing idea or baseline that we assume to be true.\n",
    "\n",
    "      * *Example*: $H\\_0$: The proportion of data scientists who started programming as children is 35%.\n",
    "\n",
    "  * **Alternative Hypothesis ($H\\_A$ or $H\\_1$)**: The new \"challenger\" idea that a researcher wants to find evidence for.\n",
    "\n",
    "      * *Example*: $H\\_A$: The proportion of data scientists who started programming as children is greater than 35%.\n",
    "\n",
    "### One-Tailed and Two-Tailed Tests\n",
    "\n",
    "The wording of the alternative hypothesis determines which \"tails\" of the sampling distribution we are interested in. This determines the type of test we are performing.\n",
    "\n",
    "| Alternative Hypothesis ($H_A$) | Test Type      | Question Asked                                                                 |\n",
    "| :----------------------------- | :------------- | :----------------------------------------------------------------------------- |\n",
    "| Parameter $\\neq$ Hypothesized Value | **Two-tailed**  | Is the sample statistic surprisingly far from the hypothesis in *either* direction? |\n",
    "| Parameter $>$ Hypothesized Value   | **Right-tailed**| Is the sample statistic surprisingly *high*?                                   |\n",
    "| Parameter $<$ Hypothesized Value   | **Left-tailed** | Is the sample statistic surprisingly *low*?                                    |\n",
    "\n",
    "In our example, since $H\\_A$ is that the proportion is *greater than* 35%, we are performing a **right-tailed test**.\n",
    "\n",
    "### The P-Value: Quantifying \"Surprise\"\n",
    "\n",
    "The **p-value** is the core of the hypothesis test. It is a single number that quantifies how surprising our sample result is, assuming the null hypothesis is correct.\n",
    "\n",
    "**Formal Definition**: The p-value is the probability of obtaining a test statistic *at least as extreme* as the one calculated from the sample, given that the null hypothesis is true.\n",
    "\n",
    "Visually, the p-value is the area in the tail(s) of the null distribution, starting from your observed test statistic.\n",
    "\n",
    "**Interpretation**:\n",
    "\n",
    "  * **Small p-value (e.g., p \\< 0.05)**: The observed data is very unlikely to have occurred by random chance if the null hypothesis were true. This provides strong evidence *against* $H\\_0$ and leads us to **reject the null hypothesis**.\n",
    "  * **Large p-value (e.g., p ≥ 0.05)**: The observed data is plausible under the null hypothesis. We do not have enough evidence to reject the null hypothesis, so we **fail to reject the null hypothesis**. We never \"accept\" the null hypothesis; we only conclude that there is not sufficient evidence to overturn it.\n",
    "\n",
    "### Calculating P-Values from a Z-Score\n",
    "\n",
    "Once we have a z-score, we can use the **Cumulative Distribution Function (CDF)** of the standard normal distribution to find the p-value. The `scipy.stats.norm.cdf()` function calculates the area under the curve to the left of a given z-score.\n",
    "\n",
    "  * **Right-tailed test**: The p-value is the area to the *right* of the z-score.\n",
    "      * `p_value = 1 - norm.cdf(z_score)`\n",
    "  * **Left-tailed test**: The p-value is the area to the *left* of the z-score.\n",
    "      * `p_value = norm.cdf(z_score)`\n",
    "  * **Two-tailed test**: The p-value is the area in both tails combined. We find the area in the more extreme tail and double it.\n",
    "      * `p_value = 2 * (1 - norm.cdf(abs(z_score)))`\n",
    "\n",
    "### A Complete Example\n",
    "\n",
    "Let's complete our hypothesis test from the previous topic.\n",
    "\n",
    "```python\n",
    "import pandas as pd\n",
    "import numpy as np\n",
    "from scipy.stats import norm\n",
    "\n",
    "# 1. Setup (from previous topic)\n",
    "# Assume we have a sample, a hypothesis, and have calculated the z-score.\n",
    "np.random.seed(42)\n",
    "sample = pd.DataFrame({'is_child_coder': np.random.choice([True, False], 500, p=[0.4, 0.6])})\n",
    "sample_prop = sample['is_child_coder'].mean()\n",
    "hypothesized_prop = 0.35\n",
    "\n",
    "# Generate bootstrap distribution to get standard error\n",
    "bootstrap_dist = []\n",
    "for i in range(5000):\n",
    "    bootstrap_sample = sample.sample(frac=1, replace=True, random_state=i)\n",
    "    bootstrap_dist.append(bootstrap_sample['is_child_coder'].mean())\n",
    "std_error = np.std(bootstrap_dist, ddof=1)\n",
    "\n",
    "# Calculate z-score\n",
    "z_score = (sample_prop - hypothesized_prop) / std_error\n",
    "\n",
    "print(f\"Sample Proportion: {sample_prop:.4f}\")\n",
    "print(f\"Hypothesized Proportion: {hypothesized_prop}\")\n",
    "print(f\"Standard Error: {std_error:.4f}\")\n",
    "print(f\"Z-score: {z_score:.4f}\")\n",
    "\n",
    "# 2. State Hypotheses and Define Test Type\n",
    "# H0: The true proportion is 0.35.\n",
    "# HA: The true proportion is greater than 0.35.\n",
    "# This is a right-tailed test.\n",
    "\n",
    "# 3. Calculate the p-value\n",
    "# For a right-tailed test, we calculate the area to the right of our z-score.\n",
    "p_value = 1 - norm.cdf(z_score)\n",
    "print(f\"\\nP-value: {p_value:.6f}\")\n",
    "\n",
    "# 4. Make a Statistical Decision \n",
    "# We compare the p-value to a significance level (alpha), typically 0.05.\n",
    "alpha = 0.05\n",
    "if p_value < alpha:\n",
    "    print(f\"Since p-value ({p_value:.6f}) < alpha ({alpha}), we reject the null hypothesis.\")\n",
    "else:\n",
    "    print(f\"Since p-value ({p_value:.6f}) >= alpha ({alpha}), we fail to reject the null hypothesis.\")\n",
    "```\n",
    "\n",
    "Because our p-value is very small, we reject the null hypothesis. Our sample provides strong statistical evidence that the true proportion of data scientists who started coding as children is likely greater than 35%."
   ]
  },
  {
   "cell_type": "code",
   "execution_count": 12,
   "id": "e70056b1",
   "metadata": {},
   "outputs": [],
   "source": [
    "# Generate a bootstrap distribution for the proportion of respondents who started coding as a child\n",
    "# This simulates the sampling distribution of the sample proportion under repeated random sampling\n",
    "first_code_boot_distn = [\n",
    "    # For each bootstrap iteration, take a random sample (with replacement) from the 'age_first_code_cut' column\n",
    "    np.mean(\n",
    "        (\n",
    "            stack_overflow[\"age_first_code_cut\"]\n",
    "            .sample(len(stack_overflow), replace=True)\n",
    "            .values\n",
    "            # Calculate the proportion of \"child\" responses in the bootstrap sample\n",
    "            == \"child\"\n",
    "        )\n",
    "    )\n",
    "    # Repeat the process 5000 times to build a robust bootstrap distribution\n",
    "    for _ in range(5000)\n",
    "]"
   ]
  },
  {
   "cell_type": "code",
   "execution_count": 13,
   "id": "578b003e",
   "metadata": {},
   "outputs": [
    {
     "name": "stdout",
     "output_type": "stream",
     "text": [
      "3.333427751517348e-05\n"
     ]
    }
   ],
   "source": [
    "from scipy.stats import norm\n",
    "\n",
    "# Calculate the sample proportion of respondents who started coding as a child\n",
    "prop_child_samp = (stack_overflow[\"age_first_code_cut\"] == \"child\").mean()\n",
    "\n",
    "# Set the hypothesized proportion under the null hypothesis\n",
    "prop_child_hyp = 0.35\n",
    "\n",
    "# Estimate the standard error from the bootstrap distribution of proportions\n",
    "std_error = np.std(first_code_boot_distn, ddof=1)\n",
    "\n",
    "# Calculate the z-score: standardized difference between sample and hypothesized proportion\n",
    "z_score = (prop_child_samp - prop_child_hyp) / std_error\n",
    "\n",
    "# Calculate the p-value for a right-tailed test (probability of observing a z-score this large or larger)\n",
    "p_value = 1 - norm.cdf(z_score)\n",
    "\n",
    "print(p_value)"
   ]
  },
  {
   "cell_type": "code",
   "execution_count": 14,
   "id": "bc7236e5",
   "metadata": {},
   "outputs": [
    {
     "name": "stdout",
     "output_type": "stream",
     "text": [
      "0.4616492794846806\n"
     ]
    }
   ],
   "source": [
    "from scipy.stats import norm\n",
    "\n",
    "z_score = (late_prop_samp - late_prop_hyp) / std_error\n",
    "\n",
    "# Calculate the p-value for the z-score, using a right-tailed test.\n",
    "p_value = 1 - norm.cdf(z_score)\n",
    "\n",
    "print(p_value)"
   ]
  },
  {
   "cell_type": "markdown",
   "id": "f65864ee",
   "metadata": {},
   "source": [
    "## The Significance Level ($\\alpha$): Defining the Threshold\n",
    "\n",
    "The **p-value** quantifies the evidence against the null hypothesis ($H_0$). A small p-value means the observed sample data is very unlikely if the null hypothesis were true. But how small is \"small enough\" to reject $H_0$?\n",
    "\n",
    "This cutoff point is the **significance level**, denoted by the Greek letter **$\\alpha$ (alpha)**. It represents the threshold for our \"beyond a reasonable doubt\" criterion.\n",
    "\n",
    "* **Definition**: The significance level, $\\alpha$, is the probability of rejecting the null hypothesis when it is, in fact, true (a Type I error).\n",
    "* **Common Values**: Typical values for $\\alpha$ are 0.1 (10%), 0.05 (5%), and 0.01 (1%). The most widely used standard in many fields is $\\alpha = 0.05$.\n",
    "* **Decision Rule**: The value of $\\alpha$ must be chosen *before* conducting the hypothesis test to avoid bias. The decision is then made by a direct comparison:\n",
    "        * If $p \\leq \\alpha$, we **reject the null hypothesis**. The result is statistically significant.\n",
    "        * If $p > \\alpha$, we **fail to reject the null hypothesis**. The result is not statistically significant.\n",
    "\n",
    "\n",
    "### The Relationship Between Confidence Intervals and Significance Tests\n",
    "\n",
    "Confidence intervals and hypothesis tests are two sides of the same coin; they are different ways of performing statistical inference on the same underlying data. There is a direct duality between them:\n",
    "\n",
    "A **two-tailed** hypothesis test with a significance level of $\\alpha$ is equivalent to checking if the hypothesized parameter value falls **outside** the corresponding $1 - \\alpha$ confidence interval.\n",
    "\n",
    "* If $\\alpha = 0.05$, we use a $1 - 0.05 = 0.95$, or **95% confidence interval**.\n",
    "* **Decision Rule**:\n",
    "        * If the hypothesized parameter value falls **outside** the 95% confidence interval, we **reject the null hypothesis**.\n",
    "        * If the hypothesized parameter value falls **inside** the 95% confidence interval, we **fail to reject the null hypothesis**.\n",
    "\n",
    "This provides a more intuitive, graphical way to interpret the result of a hypothesis test.\n",
    "\n",
    "### Types of Errors in Hypothesis Testing\n",
    "\n",
    "Because our decision is based on a sample, not the entire population, we can never be 100% certain about the true state of the world. Our statistical decision can sometimes be wrong. There are two types of errors we can make:\n",
    "\n",
    "|                       | **True State: $H_0$ is True**         | **True State: $H_A$ is True**         |\n",
    "|-----------------------|:--------------------------------------:|:--------------------------------------:|\n",
    "| **Fail to Reject $H_0$** | Correct Decision<br>(True Negative)     | **Type II Error**<br>(False Negative)  |\n",
    "| **Reject $H_0$**         | **Type I Error**<br>(False Positive)   | Correct Decision<br>(True Positive)    |\n",
    "\n",
    "- **Type I Error (False Positive)**: Rejecting the null hypothesis when it is actually true. We conclude there is an effect when, in reality, there is none. The probability of making a Type I error is equal to our chosen significance level, $\\alpha$.\n",
    "- **Type II Error (False Negative)**: Failing to reject the null hypothesis when it is actually false. We conclude there is no effect when, in reality, there is one. The probability of a Type II error is denoted by $\\beta$ (beta).\n",
    "\n",
    "\n",
    "### A Complete Example\n",
    "\n",
    "Let's tie these concepts together with a complete example, from calculating the p-value to making a decision and considering the confidence interval.\n",
    "\n",
    "```python\n",
    "import numpy as np\n",
    "from scipy.stats import norm\n",
    "\n",
    "# 1. Setup (from previous topics) \n",
    "# Assume we have a sample, a hypothesis, and have calculated the necessary statistics.\n",
    "sample_mean = 119500\n",
    "hypothesized_mean = 115000\n",
    "standard_error = 2300\n",
    "alpha = 0.05 # Our pre-defined significance level\n",
    "\n",
    "# 2. Perform the Hypothesis Test (p-value approach)\n",
    "# H0: The true mean is 115000.\n",
    "# HA: The true mean is not 115000 (a two-tailed test).\n",
    "\n",
    "# Calculate the z-score\n",
    "z_score = (sample_mean - hypothesized_mean) / standard_error\n",
    "# Calculate the two-tailed p-value\n",
    "p_value = 2 * (1 - norm.cdf(abs(z_score)))\n",
    "\n",
    "print(f\"Z-score: {z_score:.4f}\")\n",
    "print(f\"P-value: {p_value:.4f}\")\n",
    "\n",
    "# Make a decision\n",
    "if p_value < alpha:\n",
    "    print(f\"Decision: Reject H0, because p ({p_value:.4f}) < alpha ({alpha}). The result is statistically significant.\")\n",
    "else:\n",
    "    print(f\"Decision: Fail to reject H0, because p ({p_value:.4f}) >= alpha ({alpha}).\")\n",
    "\n",
    "# 3. Perform the Hypothesis Test (Confidence Interval approach) \n",
    "# For alpha = 0.05, we need a 95% confidence interval.\n",
    "# We will use the standard error method to construct it.\n",
    "confidence_level = 1 - alpha # 0.95\n",
    "lower_quantile = (1 - confidence_level) / 2 # 0.025\n",
    "upper_quantile = 1 - lower_quantile # 0.975\n",
    "\n",
    "# Calculate the bounds\n",
    "lower_bound = norm.ppf(lower_quantile, loc=sample_mean, scale=standard_error)\n",
    "upper_bound = norm.ppf(upper_quantile, loc=sample_mean, scale=standard_error)\n",
    "\n",
    "print(f\"95% Confidence Interval: ({lower_bound:.2f}, {upper_bound:.2f})\")\n",
    "\n",
    "# Make a decision\n",
    "if not (lower_bound <= hypothesized_mean <= upper_bound):\n",
    "    print(f\"Decision: Reject H0, because the hypothesized mean ({hypothesized_mean}) is outside the confidence interval.\")\n",
    "else:\n",
    "    print(f\"Decision: Fail to reject H0, because the hypothesized mean ({hypothesized_mean}) is inside the confidence interval.\")\n",
    "\n",
    "```\n",
    "\n",
    "Both approaches lead to the same conclusion. Because our p-value is less than our significance level of 0.05, and equivalently, because the hypothesized mean of 115,000 falls outside our calculated 95% confidence interval, we reject the null hypothesis. We have statistically significant evidence that the true mean is different from 115,000. If we were wrong in this conclusion (a Type I error), it would mean the true mean really was 115,000, and we were misled by an unusually high sample mean."
   ]
  },
  {
   "cell_type": "code",
   "execution_count": 15,
   "id": "a9b7a6e1",
   "metadata": {},
   "outputs": [
    {
     "name": "stdout",
     "output_type": "stream",
     "text": [
      "3.333427751517348e-05\n"
     ]
    }
   ],
   "source": [
    "# Set the significance level for the hypothesis test (probability of Type I error)\n",
    "alpha = 0.05\n",
    "\n",
    "# Calculate the sample proportion of respondents who started coding as a child\n",
    "# This is our point estimate from the observed data\n",
    "prop_child_samp = np.mean((stack_overflow[\"age_first_code_cut\"] == \"child\"))\n",
    "\n",
    "# Set the hypothesized proportion under the null hypothesis\n",
    "prop_child_hyp = 0.35\n",
    "\n",
    "# Estimate the standard error from the bootstrap distribution of proportions\n",
    "# The standard error quantifies the expected variability of the sample proportion\n",
    "std_error = np.std(first_code_boot_distn, ddof=1)\n",
    "\n",
    "# Calculate the z-score: standardized difference between sample and hypothesized proportion\n",
    "# The z-score tells us how many standard errors the observed value is from the null hypothesis\n",
    "z_score = (prop_child_samp - prop_child_hyp) / std_error\n",
    "\n",
    "# Calculate the p-value for a right-tailed test (probability of observing a z-score this large or larger)\n",
    "# The p-value quantifies how surprising our result is under the null hypothesis\n",
    "p_value = 1 - norm.cdf(z_score, loc=0, scale=1)\n",
    "\n",
    "# Print the p-value; a small value (below alpha) suggests the sample proportion is significantly greater than hypothesized\n",
    "print(p_value)"
   ]
  },
  {
   "cell_type": "code",
   "execution_count": 16,
   "id": "a2d75cde",
   "metadata": {},
   "outputs": [
    {
     "name": "stdout",
     "output_type": "stream",
     "text": [
      "(np.float64(0.047), np.float64(0.076))\n"
     ]
    }
   ],
   "source": [
    "# Calculate a 95% confidence interval from late_shipments_boot_distn using the quantile method, labeling the lower and upper intervals lower and upper.\n",
    "lower = np.quantile(late_shipments_boot_distn, 0.025)\n",
    "upper = np.quantile(late_shipments_boot_distn, 0.975)\n",
    "\n",
    "# Print the confidence interval\n",
    "print((lower, upper))"
   ]
  },
  {
   "cell_type": "markdown",
   "id": "1ca7bba5",
   "metadata": {},
   "source": [
    "## The Two-Sample Problem\n",
    "\n",
    "A common analytical task is to compare a continuous numerical variable across two distinct groups defined by a categorical variable. For example, we might want to know:\n",
    "\n",
    "  * Is the average salary different for employees who have a certification versus those who do not?\n",
    "  * Is the average blood pressure lower for a group taking a new drug compared to a group taking a placebo?\n",
    "\n",
    "This setup, where we compare the means of two independent groups, is the basis for the two-sample t-test.\n",
    "\n",
    "\n",
    "\n",
    "### Formulating hypotheses for a two-sample test\n",
    "\n",
    "Let $\\mu_1$ denote the population mean of Group 1 and $\\mu_2$ that of Group 2.\n",
    "\n",
    "* **Null hypothesis ($H_0$)** — no difference between population means:  \n",
    "  $H_0: \\mu_1 = \\mu_2$  \n",
    "  or equivalently  \n",
    "  $H_0: \\mu_1 - \\mu_2 = 0$\n",
    "\n",
    "* **Alternative hypothesis ($H_A$)** — actual difference exists (choose tail based on research question):\n",
    "  * *Two-tailed test* (any difference):  \n",
    "    $H_A: \\mu_1 \\neq \\mu_2$\n",
    "  * *Right-tailed test* (Group 1 > Group 2):  \n",
    "    $H_A: \\mu_1 > \\mu_2$\n",
    "  * *Left-tailed test* (Group 1 < Group 2):  \n",
    "    $H_A: \\mu_1 < \\mu_2$\n",
    "\n",
    "\n",
    "\n",
    "### The t‑statistic\n",
    "\n",
    "The test statistic for comparing two means is the **t‑statistic**. It standardises the difference between the two sample means into a single number, accounting for the variability within each sample. The generic form of a standardised test statistic is\n",
    "\n",
    "$$\n",
    "\\text{Test Statistic} = \\frac{\\text{Observed Sample Statistic} \\, - \\, \\text{Hypothesised Population Parameter}}{\\text{Standard Error of the Statistic}}\n",
    "$$\n",
    "\n",
    "### Two-Sample t-Test Formula\n",
    "\n",
    "The t-statistic for a two-sample test is calculated as:\n",
    "\n",
    "$$ t = \\frac{(\\bar{x}_1 - \\bar{x}_2) - (\\mu_1 - \\mu_2)}{\\text{SE}(\\bar{x}_1 - \\bar{x}_2)} $$\n",
    "\n",
    "where:\n",
    "- $\\bar{x}_1$ and $\\bar{x}_2$ are the sample means\n",
    "- $\\mu_1$ and $\\mu_2$ are the population means\n",
    "\n",
    "The standard error of the difference between two independent means is:\n",
    "\n",
    "$$ \\text{SE}(\\bar{x}_1 - \\bar{x}_2) = \\sqrt{\\frac{s_1^2}{n_1} + \\frac{s_2^2}{n_2}} $$\n",
    "\n",
    "where:\n",
    "- $s_1$ and $s_2$ are the sample standard deviations\n",
    "- $n_1$ and $n_2$ are the sample sizes\n",
    "\n",
    "#### Under the Null Hypothesis ($H_0$)\n",
    "\n",
    "When assuming $H_0$ is true ($\\mu_1 - \\mu_2 = 0$), the formula simplifies to:\n",
    "\n",
    "$$ t = \\frac{\\bar{x}_1 - \\bar{x}_2}{\\sqrt{\\dfrac{s_1^2}{n_1} + \\dfrac{s_2^2}{n_2}}} $$\n",
    "\n",
    "This t-value measures how many standard errors the observed difference ($\\bar{x}_1 - \\bar{x}_2$) lies from the hypothesized difference of zero.\n",
    "\n",
    "### A Complete Calculation in Python\n",
    "\n",
    "Let's walk through the calculation of the t-statistic for a two-sample problem.\n",
    "\n",
    "```python\n",
    "import pandas as pd\n",
    "import numpy as np\n",
    "\n",
    "# Create a generic, reproducible dataset\n",
    "np.random.seed(42)\n",
    "group1_data = np.random.normal(loc=110, scale=30, size=100)\n",
    "group2_data = np.random.normal(loc=100, scale=30, size=150)\n",
    "df = pd.DataFrame({\n",
    "    'group': ['Group 1'] * 100 + ['Group 2'] * 150,\n",
    "    'value': np.concatenate([group1_data, group2_data])\n",
    "})\n",
    "\n",
    "# Step 1: Calculate Groupwise Summary Statistics \n",
    "# Use .groupby() and .agg() to get mean, std, and count for each group\n",
    "summary_stats = df.groupby('group')['value'].agg(['mean', 'std', 'count'])\n",
    "print(summary_stats)\n",
    "\n",
    "# Extract the individual statistics\n",
    "mean_group1 = summary_stats.loc['Group 1', 'mean']\n",
    "mean_group2 = summary_stats.loc['Group 2', 'mean']\n",
    "std_group1 = summary_stats.loc['Group 1', 'std']\n",
    "std_group2 = summary_stats.loc['Group 2', 'std']\n",
    "n_group1 = summary_stats.loc['Group 1', 'count']\n",
    "n_group2 = summary_stats.loc['Group 2', 'count']\n",
    "\n",
    "# Step 2: Calculate the t-statistic \n",
    "# Numerator: Difference in sample means\n",
    "numerator = mean_group1 - mean_group2\n",
    "\n",
    "# Denominator: Standard error of the difference\n",
    "denominator = np.sqrt(\n",
    "    (std_group1 ** 2 / n_group1) + (std_group2 ** 2 / n_group2)\n",
    ")\n",
    "\n",
    "# Final t-statistic\n",
    "t_statistic = numerator / denominator\n",
    "\n",
    "print(f\"t-statistic: {t_statistic:.4f}\")\n",
    "```\n",
    "\n",
    "This calculated t-statistic would then be used to find a p-value, allowing us to make a formal conclusion about our hypothesis. A larger absolute t-statistic suggests a greater difference between the groups relative to their internal variability, providing stronger evidence against the null hypothesis."
   ]
  },
  {
   "cell_type": "code",
   "execution_count": 17,
   "id": "f0e961ae",
   "metadata": {},
   "outputs": [],
   "source": [
    "# Calculate the mean compensation for each group (\"adult\" and \"child\") using groupby and mean()\n",
    "xbar_adult, xbar_child = stack_overflow.groupby(\"age_first_code_cut\")[\n",
    "    \"converted_comp\"\n",
    "].mean()\n",
    "\n",
    "# Calculate the standard deviation of compensation for each group using groupby and std()\n",
    "s_adult, s_child = stack_overflow.groupby(\"age_first_code_cut\")[\"converted_comp\"].std()\n",
    "\n",
    "# Calculate the sample size (count) for each group using groupby and count()\n",
    "n_adult, n_child = stack_overflow.groupby(\"age_first_code_cut\")[\n",
    "    \"converted_comp\"\n",
    "].count()"
   ]
  },
  {
   "cell_type": "code",
   "execution_count": 18,
   "id": "50a27dfb",
   "metadata": {},
   "outputs": [
    {
     "name": "stdout",
     "output_type": "stream",
     "text": [
      "1.8699313316221844\n"
     ]
    }
   ],
   "source": [
    "# Calculate the numerator: difference in mean compensation between \"child\" and \"adult\" groups\n",
    "numerator = xbar_child - xbar_adult\n",
    "\n",
    "# Calculate the denominator: standard error of the difference in means\n",
    "# Formula: sqrt(s_child^2 / n_child + s_adult^2 / n_adult)\n",
    "denominator = np.sqrt(s_child**2 / n_child + s_adult**2 / n_adult)\n",
    "\n",
    "# Compute the t-statistic: standardized difference in means\n",
    "# t = (mean_child - mean_adult) / SE; measures how many standard errors the observed difference is from zero\n",
    "t_stat = numerator / denominator\n",
    "\n",
    "# Print the t-statistic; a larger absolute value indicates a more significant difference between groups\n",
    "print(t_stat)"
   ]
  },
  {
   "cell_type": "markdown",
   "id": "ca9bf3a9",
   "metadata": {},
   "source": [
    "#### Two-Sample t-Test Statistic\n",
    "\n",
    "The test statistic for comparing shipment weights:\n",
    "\n",
    "$$ t = \\frac{\\bar{x}_{\\text{no}} - \\bar{x}_{\\text{yes}}}{\\sqrt{ \\frac{s_{\\text{no}}^2}{n_{\\text{no}}} + \\frac{s_{\\text{yes}}^2}{n_{\\text{yes}}} }} $$\n",
    "\n",
    "Where:\n",
    "- $\\bar{x}_{\\text{no}}$: Mean weight of on-time shipments\n",
    "- $\\bar{x}_{\\text{yes}}$: Mean weight of late shipments\n",
    "- $s_{\\text{no}}$: Standard deviation of on-time shipments\n",
    "- $s_{\\text{yes}}$: Standard deviation of late shipments\n",
    "- $n_{\\text{no}}$: Number of on-time shipments\n",
    "- $n_{\\text{yes}}$: Number of late shipments\n",
    "\n",
    "### Research Context\n",
    "While trying to determine why some shipments are late, you may wonder if the weight of shipments that were **on time** is less than the weight of shipments that were **late**. \n",
    "\n",
    "The analysis uses:\n",
    "- `late_shipments` dataset split into:\n",
    "  - \"no\" group (`late == \"No\"`)\n",
    "  - \"yes\" group (`late == \"Yes\"`)\n",
    "- Weight measurements from `weight_kilograms` variable\n",
    "\n"
   ]
  },
  {
   "cell_type": "code",
   "execution_count": 19,
   "id": "6d7f3ace",
   "metadata": {},
   "outputs": [],
   "source": [
    "# Select all shipments that were delivered on time (\"No\" in the \"late\" column)\n",
    "late_no = late_shipments[late_shipments[\"late\"] == \"No\"]\n",
    "\n",
    "# Select all shipments that were delivered late (\"Yes\" in the \"late\" column)\n",
    "late_yes = late_shipments[late_shipments[\"late\"] == \"Yes\"]\n",
    "\n",
    "# Calculate the mean weight of on-time shipments\n",
    "xbar_no = np.mean(late_no[\"weight_kilograms\"])\n",
    "\n",
    "# Calculate the mean weight of late shipments\n",
    "xbar_yes = np.mean(late_yes[\"weight_kilograms\"])\n",
    "\n",
    "# Calculate the sample standard deviation of weights for on-time shipments\n",
    "s_no = np.std(late_no[\"weight_kilograms\"], ddof=1)\n",
    "\n",
    "# Calculate the sample standard deviation of weights for late shipments\n",
    "s_yes = np.std(late_yes[\"weight_kilograms\"], ddof=1)\n",
    "\n",
    "# Count the number of on-time shipments\n",
    "n_no = len(late_no)\n",
    "\n",
    "# Count the number of late shipments\n",
    "n_yes = len(late_yes)"
   ]
  },
  {
   "cell_type": "code",
   "execution_count": 20,
   "id": "d31638ea",
   "metadata": {},
   "outputs": [
    {
     "name": "stdout",
     "output_type": "stream",
     "text": [
      "-2.3936661778766433\n"
     ]
    }
   ],
   "source": [
    "# Calculate the numerator of the test statistic\n",
    "# A negative value means on-time shipments are lighter on average\n",
    "numerator = xbar_no - xbar_yes\n",
    "\n",
    "# Calculate the denominator (standard error) for independent samples\n",
    "# Formula: sqrt(s_no^2 / n_no + s_yes^2 / n_yes)\n",
    "# s_no**2 and s_yes**2 are the sample variances for each group\n",
    "# n_no and n_yes are the sample sizes for each group\n",
    "denominator = np.sqrt((s_no**2 / n_no) + (s_yes**2 / n_yes))\n",
    "\n",
    "# Calculate the t-statistic: standardized difference in means\n",
    "# t_stat tells us how many standard errors the observed difference is from zero (the null hypothesis)\n",
    "t_stat = numerator / denominator\n",
    "\n",
    "# Print the test statistic\n",
    "print(t_stat)"
   ]
  },
  {
   "cell_type": "markdown",
   "id": "4eb78041",
   "metadata": {},
   "source": [
    "Interpretation:\n",
    "1) A negative t-statistic indicates on-time shipments are lighter than late shipments.\n",
    "2) The magnitude shows how significant this difference is relative to sample variability."
   ]
  },
  {
   "cell_type": "markdown",
   "id": "966d1a26",
   "metadata": {},
   "source": [
    "## The t-distribution: A Family of Curves\n",
    "\n",
    "While a z-statistic follows the standard normal distribution, a **t-statistic** follows a **t-distribution**. Like the normal distribution, a t-distribution is bell-shaped and centered at zero. However, it has a key difference: **it has fatter tails**.\n",
    "\n",
    "This means that a t-distribution has more probability in its tails, reflecting the increased uncertainty we have when we use a sample standard deviation (`s`) to estimate a population standard deviation ($\\sigma$).\n",
    "\n",
    "The t-distribution is not a single distribution but a **family of distributions**. The exact shape of a particular t-distribution is defined by a single parameter: the **degrees of freedom (df)**.\n",
    "\n",
    "  * For a small number of degrees of freedom, the tails are very fat.\n",
    "  * As the degrees of freedom increase, the t-distribution's tails become thinner, and it converges towards the standard normal distribution. A t-distribution with infinite degrees of freedom is identical to the standard normal distribution.\n",
    "\n",
    "### Calculating Degrees of Freedom\n",
    "\n",
    "In statistics, **degrees of freedom** represent the number of independent values in a calculation that are free to vary. For an independent two-sample t-test, the degrees of freedom are calculated based on the sample sizes of the two groups. The standard formula is:\n",
    "\n",
    "$$df = n_1 + n_2 - 2$$\n",
    "\n",
    "Where $n\\_1$ and $n\\_2$ are the sample sizes of Group 1 and Group 2, respectively. The logic is that we start with $n\\_1 + n\\_2$ total observations and lose one degree of freedom for each of the two sample means we must estimate from the data.\n",
    "\n",
    "\n",
    "### Calculating the p-value from a t-statistic\n",
    "\n",
    "Once you have the t-statistic and degrees of freedom, calculate the p-value using the t-distribution's Cumulative Distribution Function (CDF). The `scipy.stats` library provides `t.cdf()` (analogous to `norm.cdf()` for z-tests).\n",
    "\n",
    "The calculation depends on the alternative hypothesis:\n",
    "\n",
    "* **Right-tailed test** ($H_A: \\mu_1 > \\mu_2$):  \n",
    "  p-value = area to the *right* of t-statistic  \n",
    "  ```python\n",
    "  p_value = 1 - t.cdf(t_stat, df=degrees_of_freedom)\n",
    "  ```\n",
    "\n",
    "* **Left-tailed test** ($H_A: \\mu_1 < \\mu_2$):  \n",
    "  p-value = area to the *left* of t-statistic  \n",
    "  ```python\n",
    "  p_value = t.cdf(t_stat, df=degrees_of_freedom)\n",
    "  ```\n",
    "\n",
    "* **Two-tailed test** ($H_A: \\mu_1 \\neq \\mu_2$):  \n",
    "  p-value = combined area in both tails  \n",
    "  ```python\n",
    "  p_value = 2 * (1 - t.cdf(abs(t_stat), df=degrees_of_freedom))\n",
    "  ```\n",
    "\n",
    "### A Complete Example\n",
    "\n",
    "Let's complete the hypothesis test from the previous topic by calculating the p-value from our t-statistic and making a statistical decision.\n",
    "\n",
    "```python\n",
    "import pandas as pd\n",
    "import numpy as np\n",
    "from scipy.stats import t\n",
    "\n",
    "# 1. Setup (from previous topic)\n",
    "# Create a generic, reproducible dataset\n",
    "np.random.seed(42)\n",
    "group1_data = np.random.normal(loc=110, scale=30, size=100)\n",
    "group2_data = np.random.normal(loc=100, scale=30, size=150)\n",
    "df = pd.DataFrame({\n",
    "    'group': ['Group 1'] * 100 + ['Group 2'] * 150,\n",
    "    'value': np.concatenate([group1_data, group2_data])\n",
    "})\n",
    "\n",
    "# Calculate groupwise summary statistics\n",
    "summary_stats = df.groupby('group')['value'].agg(['mean', 'std', 'count'])\n",
    "mean_group1 = summary_stats.loc['Group 1', 'mean']\n",
    "mean_group2 = summary_stats.loc['Group 2', 'mean']\n",
    "std_group1 = summary_stats.loc['Group 1', 'std']\n",
    "std_group2 = summary_stats.loc['Group 2', 'std']\n",
    "n_group1 = summary_stats.loc['Group 1', 'count']\n",
    "n_group2 = summary_stats.loc['Group 2', 'count']\n",
    "\n",
    "# Calculate the t-statistic\n",
    "numerator = mean_group1 - mean_group2\n",
    "denominator = np.sqrt((std_group1 ** 2 / n_group1) + (std_group2 ** 2 / n_group2))\n",
    "t_statistic = numerator / denominator\n",
    "\n",
    "# 2. State Hypotheses and Define Test\n",
    "# H0: The mean of Group 1 is equal to the mean of Group 2 (μ1 = μ2)\n",
    "# HA: The mean of Group 1 is greater than the mean of Group 2 (μ1 > μ2)\n",
    "# This is a right-tailed test.\n",
    "alpha = 0.05 # Significance level\n",
    "\n",
    "# 3. Calculate Degrees of Freedom\n",
    "degrees_of_freedom = n_group1 + n_group2 - 2\n",
    "\n",
    "# 4. Calculate the p-value \n",
    "# For a right-tailed test, we calculate the area to the right of our t-statistic.\n",
    "p_value = 1 - t.cdf(t_statistic, df=degrees_of_freedom)\n",
    "\n",
    "print(f\"t-statistic: {t_statistic:.4f}\")\n",
    "print(f\"Degrees of Freedom: {degrees_of_freedom}\")\n",
    "print(f\"P-value: {p_value:.4f}\")\n",
    "\n",
    "# 5. Make a Statistical Decision \n",
    "if p_value < alpha:\n",
    "    print(f\"\\nDecision: Reject H0, because p ({p_value:.4f}) < alpha ({alpha}).\")\n",
    "else:\n",
    "    print(f\"\\nDecision: Fail to reject H0, because p ({p_value:.4f}) >= alpha ({alpha}).\")\n",
    "```\n",
    "\n",
    "This complete workflow, from stating hypotheses to calculating the t-statistic and degrees of freedom to finally finding the p-value, allows for a rigorous statistical comparison between the means of two groups."
   ]
  },
  {
   "cell_type": "code",
   "execution_count": 21,
   "id": "3fe2f232",
   "metadata": {},
   "outputs": [
    {
     "name": "stdout",
     "output_type": "stream",
     "text": [
      "0.030811302165157595\n"
     ]
    }
   ],
   "source": [
    "# Import the t-distribution from scipy.stats for p-value calculation\n",
    "from scipy.stats import t\n",
    "\n",
    "# Calculate the numerator: difference in mean compensation between \"child\" and \"adult\" groups\n",
    "numerator = xbar_child - xbar_adult\n",
    "\n",
    "# Calculate the denominator: standard error of the difference in means\n",
    "# Formula: sqrt(s_child^2 / n_child + s_adult^2 / n_adult)\n",
    "denominator = np.sqrt(s_child**2 / n_child + s_adult**2 / n_adult)\n",
    "\n",
    "# Compute the t-statistic: standardized difference in means\n",
    "# t = (mean_child - mean_adult) / SE; measures how many standard errors the observed difference is from zero\n",
    "t_stat = numerator / denominator\n",
    "\n",
    "# Calculate the degrees of freedom for the two-sample t-test (independent samples)\n",
    "degrees_of_freedom = n_child + n_adult - 2\n",
    "\n",
    "# Calculate the p-value for a right-tailed test (H_A: mean_child > mean_adult)\n",
    "# 1 - t.cdf gives the probability of observing a t-statistic this large or larger\n",
    "p_value = 1 - t.cdf(t_stat, df=degrees_of_freedom)\n",
    "\n",
    "# Print the calculated p-value; a small value suggests a significant difference in means\n",
    "print(p_value)"
   ]
  },
  {
   "cell_type": "code",
   "execution_count": 22,
   "id": "0bfcd081",
   "metadata": {},
   "outputs": [
    {
     "name": "stdout",
     "output_type": "stream",
     "text": [
      "0.9691070256380481\n"
     ]
    }
   ],
   "source": [
    "from scipy.stats import t\n",
    "\n",
    "# Calculate the degrees of freedom for the two-sample t-test\n",
    "# For independent samples, df = n_no + n_yes - 2\n",
    "degrees_of_freedom = n_no + n_yes - 2\n",
    "\n",
    "# Calculate the p-value for a left-tailed test (H_A: mean of on-time < mean of late)\n",
    "# t.cdf gives the probability of observing a t-statistic less than or equal to the observed value\n",
    "p_value = t.cdf(t_stat, df=degrees_of_freedom)\n",
    "\n",
    "# Print the p-value; a small value (below alpha) suggests a significant difference in means\n",
    "print(p_value)"
   ]
  },
  {
   "cell_type": "code",
   "execution_count": 23,
   "id": "0990b455",
   "metadata": {},
   "outputs": [
    {
     "data": {
      "application/vnd.microsoft.datawrangler.viewer.v0+json": {
       "columns": [
        {
         "name": "index",
         "rawType": "int64",
         "type": "integer"
        },
        {
         "name": "state",
         "rawType": "object",
         "type": "string"
        },
        {
         "name": "county",
         "rawType": "object",
         "type": "string"
        },
        {
         "name": "dem_percent_12",
         "rawType": "float64",
         "type": "float"
        },
        {
         "name": "dem_percent_16",
         "rawType": "float64",
         "type": "float"
        }
       ],
       "ref": "84844751-4298-44dd-a0e6-752bf478cffc",
       "rows": [
        [
         "0",
         "Alabama",
         "Bullock",
         "76.30590003757986",
         "74.94692144373673"
        ],
        [
         "1",
         "Alabama",
         "Chilton",
         "19.453670828083837",
         "15.847351516141325"
        ],
        [
         "2",
         "Alabama",
         "Clay",
         "26.673671570099067",
         "18.67451690821256"
        ],
        [
         "3",
         "Alabama",
         "Cullman",
         "14.661752328989754",
         "10.028252316954031"
        ],
        [
         "4",
         "Alabama",
         "Escambia",
         "36.91573071491022",
         "31.020545638262043"
        ]
       ],
       "shape": {
        "columns": 4,
        "rows": 5
       }
      },
      "text/html": [
       "<div>\n",
       "<style scoped>\n",
       "    .dataframe tbody tr th:only-of-type {\n",
       "        vertical-align: middle;\n",
       "    }\n",
       "\n",
       "    .dataframe tbody tr th {\n",
       "        vertical-align: top;\n",
       "    }\n",
       "\n",
       "    .dataframe thead th {\n",
       "        text-align: right;\n",
       "    }\n",
       "</style>\n",
       "<table border=\"1\" class=\"dataframe\">\n",
       "  <thead>\n",
       "    <tr style=\"text-align: right;\">\n",
       "      <th></th>\n",
       "      <th>state</th>\n",
       "      <th>county</th>\n",
       "      <th>dem_percent_12</th>\n",
       "      <th>dem_percent_16</th>\n",
       "    </tr>\n",
       "  </thead>\n",
       "  <tbody>\n",
       "    <tr>\n",
       "      <th>0</th>\n",
       "      <td>Alabama</td>\n",
       "      <td>Bullock</td>\n",
       "      <td>76.305900</td>\n",
       "      <td>74.946921</td>\n",
       "    </tr>\n",
       "    <tr>\n",
       "      <th>1</th>\n",
       "      <td>Alabama</td>\n",
       "      <td>Chilton</td>\n",
       "      <td>19.453671</td>\n",
       "      <td>15.847352</td>\n",
       "    </tr>\n",
       "    <tr>\n",
       "      <th>2</th>\n",
       "      <td>Alabama</td>\n",
       "      <td>Clay</td>\n",
       "      <td>26.673672</td>\n",
       "      <td>18.674517</td>\n",
       "    </tr>\n",
       "    <tr>\n",
       "      <th>3</th>\n",
       "      <td>Alabama</td>\n",
       "      <td>Cullman</td>\n",
       "      <td>14.661752</td>\n",
       "      <td>10.028252</td>\n",
       "    </tr>\n",
       "    <tr>\n",
       "      <th>4</th>\n",
       "      <td>Alabama</td>\n",
       "      <td>Escambia</td>\n",
       "      <td>36.915731</td>\n",
       "      <td>31.020546</td>\n",
       "    </tr>\n",
       "  </tbody>\n",
       "</table>\n",
       "</div>"
      ],
      "text/plain": [
       "     state    county  dem_percent_12  dem_percent_16\n",
       "0  Alabama   Bullock       76.305900       74.946921\n",
       "1  Alabama   Chilton       19.453671       15.847352\n",
       "2  Alabama      Clay       26.673672       18.674517\n",
       "3  Alabama   Cullman       14.661752       10.028252\n",
       "4  Alabama  Escambia       36.915731       31.020546"
      ]
     },
     "execution_count": 23,
     "metadata": {},
     "output_type": "execute_result"
    }
   ],
   "source": [
    "url = \"https://assets.datacamp.com/production/repositories/5982/datasets/4ab6431d773d1fe659ac120b4b49a1b525a76712/dem_votes_potus_12_16.feather\"\n",
    "sample_dem_data = pd.read_feather(url)\n",
    "sample_dem_data.head()"
   ]
  },
  {
   "cell_type": "code",
   "execution_count": 24,
   "id": "9ed77a47",
   "metadata": {},
   "outputs": [
    {
     "name": "stdout",
     "output_type": "stream",
     "text": [
      "5.040139140132317\n"
     ]
    }
   ],
   "source": [
    "# Create a new column 'diff' that stores the difference in Democratic vote percentage between 2012 and 2016 for each county.\n",
    "sample_dem_data[\"diff\"] = (\n",
    "    sample_dem_data[\"dem_percent_12\"] - sample_dem_data[\"dem_percent_16\"]\n",
    ")\n",
    "\n",
    "# Calculate the mean of the 'diff' column; this represents the average change in Democratic vote share across all counties.\n",
    "xbar_diff = sample_dem_data[\"diff\"].mean()\n",
    "\n",
    "# Calculate the standard deviation of the 'diff' column; this measures the variability in the change of Democratic vote share.\n",
    "s_diff = sample_dem_data[\"diff\"].std()\n",
    "\n",
    "# Print the standard deviation to understand how much the change in vote share varies from county to county.\n",
    "print(s_diff)"
   ]
  },
  {
   "cell_type": "code",
   "execution_count": 25,
   "id": "f7acf2bd",
   "metadata": {},
   "outputs": [
    {
     "data": {
      "application/vnd.microsoft.datawrangler.viewer.v0+json": {
       "columns": [
        {
         "name": "index",
         "rawType": "int64",
         "type": "integer"
        },
        {
         "name": "state",
         "rawType": "object",
         "type": "string"
        },
        {
         "name": "county",
         "rawType": "object",
         "type": "string"
        },
        {
         "name": "dem_percent_12",
         "rawType": "float64",
         "type": "float"
        },
        {
         "name": "dem_percent_16",
         "rawType": "float64",
         "type": "float"
        },
        {
         "name": "diff",
         "rawType": "float64",
         "type": "float"
        }
       ],
       "ref": "f115cca4-afc5-4d96-9bbe-a820f84668aa",
       "rows": [
        [
         "0",
         "Alabama",
         "Bullock",
         "76.30590003757986",
         "74.94692144373673",
         "1.3589785938431334"
        ],
        [
         "1",
         "Alabama",
         "Chilton",
         "19.453670828083837",
         "15.847351516141325",
         "3.606319311942512"
        ],
        [
         "2",
         "Alabama",
         "Clay",
         "26.673671570099067",
         "18.67451690821256",
         "7.999154661886507"
        ],
        [
         "3",
         "Alabama",
         "Cullman",
         "14.661752328989754",
         "10.028252316954031",
         "4.633500012035723"
        ],
        [
         "4",
         "Alabama",
         "Escambia",
         "36.91573071491022",
         "31.020545638262043",
         "5.8951850766481755"
        ]
       ],
       "shape": {
        "columns": 5,
        "rows": 5
       }
      },
      "text/html": [
       "<div>\n",
       "<style scoped>\n",
       "    .dataframe tbody tr th:only-of-type {\n",
       "        vertical-align: middle;\n",
       "    }\n",
       "\n",
       "    .dataframe tbody tr th {\n",
       "        vertical-align: top;\n",
       "    }\n",
       "\n",
       "    .dataframe thead th {\n",
       "        text-align: right;\n",
       "    }\n",
       "</style>\n",
       "<table border=\"1\" class=\"dataframe\">\n",
       "  <thead>\n",
       "    <tr style=\"text-align: right;\">\n",
       "      <th></th>\n",
       "      <th>state</th>\n",
       "      <th>county</th>\n",
       "      <th>dem_percent_12</th>\n",
       "      <th>dem_percent_16</th>\n",
       "      <th>diff</th>\n",
       "    </tr>\n",
       "  </thead>\n",
       "  <tbody>\n",
       "    <tr>\n",
       "      <th>0</th>\n",
       "      <td>Alabama</td>\n",
       "      <td>Bullock</td>\n",
       "      <td>76.305900</td>\n",
       "      <td>74.946921</td>\n",
       "      <td>1.358979</td>\n",
       "    </tr>\n",
       "    <tr>\n",
       "      <th>1</th>\n",
       "      <td>Alabama</td>\n",
       "      <td>Chilton</td>\n",
       "      <td>19.453671</td>\n",
       "      <td>15.847352</td>\n",
       "      <td>3.606319</td>\n",
       "    </tr>\n",
       "    <tr>\n",
       "      <th>2</th>\n",
       "      <td>Alabama</td>\n",
       "      <td>Clay</td>\n",
       "      <td>26.673672</td>\n",
       "      <td>18.674517</td>\n",
       "      <td>7.999155</td>\n",
       "    </tr>\n",
       "    <tr>\n",
       "      <th>3</th>\n",
       "      <td>Alabama</td>\n",
       "      <td>Cullman</td>\n",
       "      <td>14.661752</td>\n",
       "      <td>10.028252</td>\n",
       "      <td>4.633500</td>\n",
       "    </tr>\n",
       "    <tr>\n",
       "      <th>4</th>\n",
       "      <td>Alabama</td>\n",
       "      <td>Escambia</td>\n",
       "      <td>36.915731</td>\n",
       "      <td>31.020546</td>\n",
       "      <td>5.895185</td>\n",
       "    </tr>\n",
       "  </tbody>\n",
       "</table>\n",
       "</div>"
      ],
      "text/plain": [
       "     state    county  dem_percent_12  dem_percent_16      diff\n",
       "0  Alabama   Bullock       76.305900       74.946921  1.358979\n",
       "1  Alabama   Chilton       19.453671       15.847352  3.606319\n",
       "2  Alabama      Clay       26.673672       18.674517  7.999155\n",
       "3  Alabama   Cullman       14.661752       10.028252  4.633500\n",
       "4  Alabama  Escambia       36.915731       31.020546  5.895185"
      ]
     },
     "execution_count": 25,
     "metadata": {},
     "output_type": "execute_result"
    }
   ],
   "source": [
    "sample_dem_data.head()"
   ]
  },
  {
   "cell_type": "code",
   "execution_count": 26,
   "id": "1755160c",
   "metadata": {},
   "outputs": [
    {
     "data": {
      "image/png": "[encoded data removed]",
      "text/plain": [
       "<Figure size 700x500 with 1 Axes>"
      ]
     },
     "metadata": {},
     "output_type": "display_data"
    }
   ],
   "source": [
    "fig, ax = plt.subplots(figsize=(7, 5))\n",
    "\n",
    "# Plot a histogram of the 'diff' column (change in Democratic vote %) with 20 bins\n",
    "sns.histplot(\n",
    "    sample_dem_data[\"diff\"], ax=ax, bins=20, color=\"#0050B3\", edgecolor=\"black\"\n",
    ")\n",
    "\n",
    "sns.despine()\n",
    "\n",
    "ax.set(\n",
    "    xlabel=\"Difference in Democratic Vote % (2012 - 2016)\",\n",
    "    ylabel=\"Number of Counties\",\n",
    "    title=\"Distribution of Change in Democratic Vote Share (2012 vs 2016)\",\n",
    ")\n",
    "\n",
    "ax.grid(True, alpha=0.5, linewidth=1, color=\"grey\")\n",
    "ax.set_axisbelow(True)\n",
    "\n",
    "plt.tight_layout()\n",
    "plt.show()"
   ]
  },
  {
   "cell_type": "markdown",
   "id": "32998ab2",
   "metadata": {},
   "source": [
    "### Using ttest()\n",
    "Manually calculating test statistics and transforming them with a CDF to get a p-value is a lot of effort to compare two sample means. The comparison of two sample means is called a t-test, and the `pingouin` Python package has a `.ttest()` method to accomplish it. This method provides some flexibility in how you perform the test.\n",
    "\n",
    "As in the previous exercise, you'll explore the difference between the proportion of county-level votes for the Democratic candidate in 2012 and 2016 to identify if the difference is significant. The hypotheses are as follows:\n",
    "\n",
    "$H_0$: The proportion of democratic votes in 2012 and 2016 were the same. <br>\n",
    "$H_A$: The proportion of democratic votes in 2012 and 2016 were different."
   ]
  },
  {
   "cell_type": "code",
   "execution_count": 27,
   "id": "1f1d2362",
   "metadata": {},
   "outputs": [
    {
     "data": {
      "application/vnd.microsoft.datawrangler.viewer.v0+json": {
       "columns": [
        {
         "name": "index",
         "rawType": "object",
         "type": "string"
        },
        {
         "name": "T",
         "rawType": "float64",
         "type": "float"
        },
        {
         "name": "dof",
         "rawType": "int64",
         "type": "integer"
        },
        {
         "name": "alternative",
         "rawType": "object",
         "type": "string"
        },
        {
         "name": "p-val",
         "rawType": "float64",
         "type": "float"
        },
        {
         "name": "CI95%",
         "rawType": "object",
         "type": "unknown"
        },
        {
         "name": "cohen-d",
         "rawType": "float64",
         "type": "float"
        },
        {
         "name": "BF10",
         "rawType": "object",
         "type": "string"
        },
        {
         "name": "power",
         "rawType": "object",
         "type": "unknown"
        }
       ],
       "ref": "60bb3d34-cee6-45f0-82d0-36bdac9b10e0",
       "rows": [
        [
         "T-test",
         "30.298384475151405",
         "499",
         "two-sided",
         "3.6006339790844295e-115",
         "[6.39 7.27]",
         "0.45420208123018846",
         "2.246e+111",
         null
        ]
       ],
       "shape": {
        "columns": 8,
        "rows": 1
       }
      },
      "text/html": [
       "<div>\n",
       "<style scoped>\n",
       "    .dataframe tbody tr th:only-of-type {\n",
       "        vertical-align: middle;\n",
       "    }\n",
       "\n",
       "    .dataframe tbody tr th {\n",
       "        vertical-align: top;\n",
       "    }\n",
       "\n",
       "    .dataframe thead th {\n",
       "        text-align: right;\n",
       "    }\n",
       "</style>\n",
       "<table border=\"1\" class=\"dataframe\">\n",
       "  <thead>\n",
       "    <tr style=\"text-align: right;\">\n",
       "      <th></th>\n",
       "      <th>T</th>\n",
       "      <th>dof</th>\n",
       "      <th>alternative</th>\n",
       "      <th>p-val</th>\n",
       "      <th>CI95%</th>\n",
       "      <th>cohen-d</th>\n",
       "      <th>BF10</th>\n",
       "      <th>power</th>\n",
       "    </tr>\n",
       "  </thead>\n",
       "  <tbody>\n",
       "    <tr>\n",
       "      <th>T-test</th>\n",
       "      <td>30.298384</td>\n",
       "      <td>499</td>\n",
       "      <td>two-sided</td>\n",
       "      <td>3.600634e-115</td>\n",
       "      <td>[6.39, 7.27]</td>\n",
       "      <td>0.454202</td>\n",
       "      <td>2.246e+111</td>\n",
       "      <td>NaN</td>\n",
       "    </tr>\n",
       "  </tbody>\n",
       "</table>\n",
       "</div>"
      ],
      "text/plain": [
       "                T  dof alternative          p-val         CI95%   cohen-d  \\\n",
       "T-test  30.298384  499   two-sided  3.600634e-115  [6.39, 7.27]  0.454202   \n",
       "\n",
       "              BF10 power  \n",
       "T-test  2.246e+111   NaN  "
      ]
     },
     "metadata": {},
     "output_type": "display_data"
    }
   ],
   "source": [
    "import pingouin\n",
    "\n",
    "# Perform a one-sample t-test on the 'diff' column to test if the mean difference is significantly different from zero\n",
    "# This tests the null hypothesis that the average change in Democratic vote share is zero (no change between 2012 and 2016)\n",
    "# The alternative=\"two-sided\" specifies a two-tailed test: we are interested in any difference, not just an increase or decrease\n",
    "test_results = pingouin.ttest(\n",
    "    x=sample_dem_data[\"diff\"],  # The observed differences in vote share\n",
    "    y=0,  # The hypothesized mean difference under the null hypothesis\n",
    "    alternative=\"two-sided\",  # Two-sided test: checks for any significant change\n",
    ")\n",
    "\n",
    "# Perform a paired t-test comparing the Democratic vote percentages in 2012 and 2016 for each county\n",
    "# This tests whether the mean vote share in 2012 is significantly different from that in 2016, accounting for the paired nature of the data\n",
    "# The paired t-test is appropriate because each county provides both a 2012 and a 2016 value (dependent samples)\n",
    "paired_test_results = pingouin.ttest(\n",
    "    x=sample_dem_data[\"dem_percent_12\"],  # Democratic vote percentage in 2012\n",
    "    y=sample_dem_data[\"dem_percent_16\"],  # Democratic vote percentage in 2016\n",
    "    paired=True,\n",
    "    alternative=\"two-sided\",  # Two-sided test: checks for any significant change\n",
    ")\n",
    "\n",
    "display(paired_test_results)"
   ]
  },
  {
   "cell_type": "markdown",
   "id": "ce6a7d23",
   "metadata": {},
   "source": [
    "## The Problem: Comparing Multiple Groups\n",
    "\n",
    "While a t-test is the appropriate tool for comparing the means of two groups, it is not suitable for comparing three or more groups simultaneously. Performing multiple t-tests on all possible pairs of groups (e.g., A vs. B, A vs. C, B vs. C) on the same data dramatically increases the probability of committing a **Type I error** (a false positive). Each test has an $\\\\alpha$ chance of being wrong, and these chances accumulate as you perform more tests.\n",
    "\n",
    "The correct approach is a two-step process: first, use an omnibus test (ANOVA) to see if *any* difference exists, and second, if a difference is found, use adjusted pairwise tests to find out where it is.\n",
    "\n",
    "\n",
    "### Analysis of Variance (ANOVA)\n",
    "\n",
    "**ANOVA** is a statistical test that determines whether there are any statistically significant differences between the means of three or more independent groups. It works by comparing the amount of variation **between** the different groups to the amount of variation **within** each group.\n",
    "\n",
    "#### Hypotheses for ANOVA\n",
    "\n",
    "  * **Null Hypothesis ($H\\_0$)**: The population means of all groups are equal.\n",
    "    $$H_0: \\mu_1 = \\mu_2 = \\dots = \\mu_k$$\n",
    "  * **Alternative Hypothesis ($H\\_A$)**: At least one group mean is different from the others.\n",
    "\n",
    "The ANOVA test is an **omnibus test**. A significant result (a small p-value) tells you that there is a difference *somewhere* among the groups, but it does not tell you which specific groups are different from each other.\n",
    "\n",
    "#### ANOVA in Python with `pingouin`\n",
    "\n",
    "The `pingouin` library provides a user-friendly interface for conducting statistical tests. The `pingouin.anova()` function is straightforward to use. You must first install the library: `pip install pingouin`.\n",
    "\n",
    "```python\n",
    "import pandas as pd\n",
    "import numpy as np\n",
    "import pingouin\n",
    "import seaborn as sns\n",
    "import matplotlib.pyplot as plt\n",
    "\n",
    "# Create a generic, reproducible dataset with multiple groups\n",
    "np.random.seed(42)\n",
    "group_means = {'Group A': 50, 'Group B': 55, 'Group C': 50}\n",
    "df = pd.DataFrame({\n",
    "    'group': np.random.choice(list(group_means.keys()), 200),\n",
    "    'value': 0.0 # Placeholder\n",
    "})\n",
    "df['value'] = df['group'].apply(lambda g: np.random.normal(loc=group_means[g], scale=5))\n",
    "\n",
    "# Visualize the group distributions\n",
    "sns.boxplot(x='group', y='value', data=df)\n",
    "plt.title('Value Distribution by Group')\n",
    "plt.show()\n",
    "\n",
    "# Perform the ANOVA test\n",
    "# dv: dependent variable (numeric)\n",
    "# between: the grouping variable (categorical)\n",
    "anova_results = pingouin.anova(data=df, dv='value', between='group')\n",
    "print(anova_results)\n",
    "```\n",
    "\n",
    "To interpret the result, we look at the p-value (`p-unc`). If `p-unc < α` (our chosen significance level, e.g., 0.05), we reject the null hypothesis and conclude that at least one group mean is different.\n",
    "\n",
    "\n",
    "### Pinpointing the Difference: Pairwise Tests with P-Value Adjustment\n",
    "\n",
    "If the ANOVA test is significant, we proceed to the second step: **pairwise t-tests** to compare each group against every other group.\n",
    "\n",
    "#### The Problem of Multiple Comparisons\n",
    "\n",
    "As mentioned, running many t-tests inflates the Type I error rate. To counteract this, we must apply a **p-value adjustment**. These methods modify the raw p-values from each t-test to control the overall false positive rate for the entire family of tests.\n",
    "\n",
    "#### Pairwise Tests with Bonferroni Correction\n",
    "\n",
    "The **Bonferroni correction** is one of the simplest and most common adjustment methods. It mitigates the issue of multiple comparisons by multiplying each individual p-value by the number of tests being performed. This makes it \"harder\" for any single test to be declared significant, thereby controlling the overall error rate.\n",
    "\n",
    "The `pingouin.pairwise_tests()` function can perform this entire process automatically.\n",
    "\n",
    "```python\n",
    "# Perform pairwise t-tests with Bonferroni correction \n",
    "# padjust='bonf' applies the correction\n",
    "pairwise_results = pingouin.pairwise_tests(\n",
    "    data=df,\n",
    "    dv='value',\n",
    "    between='group',\n",
    "    padjust='bonf' # Specify the p-value adjustment method\n",
    ")\n",
    "\n",
    "# We are interested in the 'p-corr' (corrected p-value) column\n",
    "print(pairwise_results[['A', 'B', 'p-unc', 'p-corr']])\n",
    "```\n",
    "\n",
    "**Interpretation**:\n",
    "You examine the **`p-corr`** (corrected p-value) column. If a `p-corr` for a specific pair of groups (e.g., 'Group A' vs. 'Group B') is less than your significance level $\\\\alpha$, you can conclude that there is a statistically significant difference between the means of those two specific groups. `pingouin` offers several other adjustment methods via the `padjust` argument, such as `'holm'` or `'fdr_bh'`, which are often less conservative than the Bonferroni correction."
   ]
  },
  {
   "cell_type": "code",
   "execution_count": 28,
   "id": "2b7ce976",
   "metadata": {},
   "outputs": [
    {
     "data": {
      "application/vnd.microsoft.datawrangler.viewer.v0+json": {
       "columns": [
        {
         "name": "job_sat",
         "rawType": "category",
         "type": "unknown"
        },
        {
         "name": "count",
         "rawType": "int64",
         "type": "integer"
        }
       ],
       "ref": "6745ee8e-373d-480a-8db9-de8fac21ca07",
       "rows": [
        [
         "Very satisfied",
         "879"
        ],
        [
         "Slightly satisfied",
         "680"
        ],
        [
         "Slightly dissatisfied",
         "342"
        ],
        [
         "Neither",
         "201"
        ],
        [
         "Very dissatisfied",
         "159"
        ]
       ],
       "shape": {
        "columns": 1,
        "rows": 5
       }
      },
      "text/plain": [
       "job_sat\n",
       "Very satisfied           879\n",
       "Slightly satisfied       680\n",
       "Slightly dissatisfied    342\n",
       "Neither                  201\n",
       "Very dissatisfied        159\n",
       "Name: count, dtype: int64"
      ]
     },
     "execution_count": 28,
     "metadata": {},
     "output_type": "execute_result"
    }
   ],
   "source": [
    "stack_overflow[\"job_sat\"].value_counts()"
   ]
  },
  {
   "cell_type": "code",
   "execution_count": 29,
   "id": "4d70fa67",
   "metadata": {},
   "outputs": [
    {
     "data": {
      "image/png": "[encoded data removed]",
      "text/plain": [
       "<Figure size 920x690 with 1 Axes>"
      ]
     },
     "metadata": {},
     "output_type": "display_data"
    }
   ],
   "source": [
    "fig, ax = plt.subplots(figsize=(8, 6), dpi=115)\n",
    "\n",
    "with sns.axes_style(\"darkgrid\", {\"axes.facecolor\": \".7\"}):\n",
    "    sns.boxplot(\n",
    "        x=\"converted_comp\",\n",
    "        y=\"job_sat\",\n",
    "        data=stack_overflow,\n",
    "        ax=ax,\n",
    "        hue=\"job_sat\",\n",
    "        palette=\"viridis\",\n",
    "    )\n",
    "\n",
    "ax.set_xlabel(\"Compensation (USD)\", fontsize=13, fontname=\"DejaVu Sans\")\n",
    "ax.set_ylabel(\"Job Satisfaction\", fontsize=13, fontname=\"DejaVu Sans\")\n",
    "ax.set_title(\"Compensation vs. Job Satisfaction\", fontsize=15, fontname=\"DejaVu Sans\")\n",
    "\n",
    "ax.grid(True, alpha=0.5, linewidth=0.4, color=\"grey\")\n",
    "plt.tight_layout()\n",
    "plt.show()"
   ]
  },
  {
   "cell_type": "markdown",
   "id": "084cde53",
   "metadata": {},
   "source": [
    "This block fits an ordinary least squares (OLS) regression model to test if compensation differs by job satisfaction group.<br>\n",
    "\n",
    "The formula `\"converted_comp ~ job_sat\"` models compensation as a function of job satisfaction.<br>\n",
    "\n",
    "`sm.stats.anova_lm()` performs an ANOVA (analysis of variance) to compare group means, outputting F-statistic and p-value.<br>\n",
    "\n",
    "Statistically, this tests the null hypothesis that all job satisfaction groups have the same mean compensation.<br>\n",
    "\n",
    "If the `p-value` for `job_sat` is below the chosen alpha (here, 0.2), we reject the null and conclude at least one group differs.<br>"
   ]
  },
  {
   "cell_type": "code",
   "execution_count": 30,
   "id": "484a5787",
   "metadata": {},
   "outputs": [
    {
     "data": {
      "application/vnd.microsoft.datawrangler.viewer.v0+json": {
       "columns": [
        {
         "name": "index",
         "rawType": "object",
         "type": "string"
        },
        {
         "name": "sum_sq",
         "rawType": "float64",
         "type": "float"
        },
        {
         "name": "df",
         "rawType": "float64",
         "type": "float"
        },
        {
         "name": "F",
         "rawType": "float64",
         "type": "float"
        },
        {
         "name": "PR(>F)",
         "rawType": "float64",
         "type": "float"
        }
       ],
       "ref": "d0e1a57f-aa70-43f4-ba0a-fe41fd093c22",
       "rows": [
        [
         "job_sat",
         "1256117888992.3796",
         "4.0",
         "4.480485200287129",
         "0.001314886015804737"
        ],
        [
         "Residual",
         "158119145075248.0",
         "2256.0",
         null,
         null
        ]
       ],
       "shape": {
        "columns": 4,
        "rows": 2
       }
      },
      "text/html": [
       "<div>\n",
       "<style scoped>\n",
       "    .dataframe tbody tr th:only-of-type {\n",
       "        vertical-align: middle;\n",
       "    }\n",
       "\n",
       "    .dataframe tbody tr th {\n",
       "        vertical-align: top;\n",
       "    }\n",
       "\n",
       "    .dataframe thead th {\n",
       "        text-align: right;\n",
       "    }\n",
       "</style>\n",
       "<table border=\"1\" class=\"dataframe\">\n",
       "  <thead>\n",
       "    <tr style=\"text-align: right;\">\n",
       "      <th></th>\n",
       "      <th>sum_sq</th>\n",
       "      <th>df</th>\n",
       "      <th>F</th>\n",
       "      <th>PR(&gt;F)</th>\n",
       "    </tr>\n",
       "  </thead>\n",
       "  <tbody>\n",
       "    <tr>\n",
       "      <th>job_sat</th>\n",
       "      <td>1.256118e+12</td>\n",
       "      <td>4.0</td>\n",
       "      <td>4.480485</td>\n",
       "      <td>0.001315</td>\n",
       "    </tr>\n",
       "    <tr>\n",
       "      <th>Residual</th>\n",
       "      <td>1.581191e+14</td>\n",
       "      <td>2256.0</td>\n",
       "      <td>NaN</td>\n",
       "      <td>NaN</td>\n",
       "    </tr>\n",
       "  </tbody>\n",
       "</table>\n",
       "</div>"
      ],
      "text/plain": [
       "                sum_sq      df         F    PR(>F)\n",
       "job_sat   1.256118e+12     4.0  4.480485  0.001315\n",
       "Residual  1.581191e+14  2256.0       NaN       NaN"
      ]
     },
     "metadata": {},
     "output_type": "display_data"
    }
   ],
   "source": [
    "import statsmodels.api as sm\n",
    "from statsmodels.formula.api import ols\n",
    "\n",
    "# Set the significance level (alpha) for the ANOVA test; this is the threshold for statistical significance\n",
    "alpha = 0.2\n",
    "\n",
    "# Fit an Ordinary Least Squares (OLS) regression model with compensation as the dependent variable and job satisfaction as the categorical predictor\n",
    "model = ols(formula=\"converted_comp ~ job_sat\", data=stack_overflow).fit()\n",
    "\n",
    "# Perform an ANOVA (Analysis of Variance) on the fitted model to test if mean compensation differs by job satisfaction group\n",
    "anova_table = sm.stats.anova_lm(model, typ=2)\n",
    "\n",
    "# Display the ANOVA results, which show whether there is a statistically significant difference in compensation between job satisfaction groups\n",
    "display(anova_table)"
   ]
  },
  {
   "cell_type": "markdown",
   "id": "b26b3b29",
   "metadata": {},
   "source": [
    "This block uses statsmodels' MultiComparison to perform pairwise t-tests between all job satisfaction groups for compensation.<br>\n",
    "\n",
    "The `.allpairtest()` method applies t-tests for each pair, with Bonferroni correction for multiple comparisons.<br>\n",
    "\n",
    "The result is a `SimpleTable`, which is converted to a pandas `DataFrame` for easier viewing.<br>\n",
    "\n",
    "Statistically, this identifies which job satisfaction groups differ significantly in compensation, controlling for family-wise error rate."
   ]
  },
  {
   "cell_type": "code",
   "execution_count": 31,
   "id": "73d86e5b",
   "metadata": {},
   "outputs": [
    {
     "data": {
      "application/vnd.microsoft.datawrangler.viewer.v0+json": {
       "columns": [
        {
         "name": "index",
         "rawType": "int64",
         "type": "integer"
        },
        {
         "name": "group1",
         "rawType": "object",
         "type": "string"
        },
        {
         "name": "group2",
         "rawType": "object",
         "type": "string"
        },
        {
         "name": "stat",
         "rawType": "float64",
         "type": "float"
        },
        {
         "name": "pval",
         "rawType": "float64",
         "type": "float"
        },
        {
         "name": "pval_corr",
         "rawType": "float64",
         "type": "float"
        },
        {
         "name": "reject",
         "rawType": "bool",
         "type": "boolean"
        }
       ],
       "ref": "b91930b9-47f6-4d67-b256-0d733648b95e",
       "rows": [
        [
         "0",
         "Neither",
         "Slightly dissatisfied",
         "0.6277",
         "0.5305",
         "1.0",
         "False"
        ],
        [
         "1",
         "Neither",
         "Slightly satisfied",
         "0.8541",
         "0.3933",
         "1.0",
         "False"
        ],
        [
         "2",
         "Neither",
         "Very dissatisfied",
         "-0.5527",
         "0.5808",
         "1.0",
         "False"
        ],
        [
         "3",
         "Neither",
         "Very satisfied",
         "-1.5374",
         "0.1245",
         "1.0",
         "False"
        ],
        [
         "4",
         "Slightly dissatisfied",
         "Slightly satisfied",
         "0.041",
         "0.9673",
         "1.0",
         "False"
        ],
        [
         "5",
         "Slightly dissatisfied",
         "Very dissatisfied",
         "-1.243",
         "0.2145",
         "1.0",
         "False"
        ],
        [
         "6",
         "Slightly dissatisfied",
         "Very satisfied",
         "-2.7201",
         "0.0066",
         "0.0662",
         "False"
        ],
        [
         "7",
         "Slightly satisfied",
         "Very dissatisfied",
         "-1.6546",
         "0.0984",
         "0.9838",
         "False"
        ],
        [
         "8",
         "Slightly satisfied",
         "Very satisfied",
         "-3.7795",
         "0.0002",
         "0.0016",
         "True"
        ],
        [
         "9",
         "Very dissatisfied",
         "Very satisfied",
         "-0.7371",
         "0.4612",
         "1.0",
         "False"
        ]
       ],
       "shape": {
        "columns": 6,
        "rows": 10
       }
      },
      "text/html": [
       "<div>\n",
       "<style scoped>\n",
       "    .dataframe tbody tr th:only-of-type {\n",
       "        vertical-align: middle;\n",
       "    }\n",
       "\n",
       "    .dataframe tbody tr th {\n",
       "        vertical-align: top;\n",
       "    }\n",
       "\n",
       "    .dataframe thead th {\n",
       "        text-align: right;\n",
       "    }\n",
       "</style>\n",
       "<table border=\"1\" class=\"dataframe\">\n",
       "  <thead>\n",
       "    <tr style=\"text-align: right;\">\n",
       "      <th></th>\n",
       "      <th>group1</th>\n",
       "      <th>group2</th>\n",
       "      <th>stat</th>\n",
       "      <th>pval</th>\n",
       "      <th>pval_corr</th>\n",
       "      <th>reject</th>\n",
       "    </tr>\n",
       "  </thead>\n",
       "  <tbody>\n",
       "    <tr>\n",
       "      <th>0</th>\n",
       "      <td>Neither</td>\n",
       "      <td>Slightly dissatisfied</td>\n",
       "      <td>0.6277</td>\n",
       "      <td>0.5305</td>\n",
       "      <td>1.0000</td>\n",
       "      <td>False</td>\n",
       "    </tr>\n",
       "    <tr>\n",
       "      <th>1</th>\n",
       "      <td>Neither</td>\n",
       "      <td>Slightly satisfied</td>\n",
       "      <td>0.8541</td>\n",
       "      <td>0.3933</td>\n",
       "      <td>1.0000</td>\n",
       "      <td>False</td>\n",
       "    </tr>\n",
       "    <tr>\n",
       "      <th>2</th>\n",
       "      <td>Neither</td>\n",
       "      <td>Very dissatisfied</td>\n",
       "      <td>-0.5527</td>\n",
       "      <td>0.5808</td>\n",
       "      <td>1.0000</td>\n",
       "      <td>False</td>\n",
       "    </tr>\n",
       "    <tr>\n",
       "      <th>3</th>\n",
       "      <td>Neither</td>\n",
       "      <td>Very satisfied</td>\n",
       "      <td>-1.5374</td>\n",
       "      <td>0.1245</td>\n",
       "      <td>1.0000</td>\n",
       "      <td>False</td>\n",
       "    </tr>\n",
       "    <tr>\n",
       "      <th>4</th>\n",
       "      <td>Slightly dissatisfied</td>\n",
       "      <td>Slightly satisfied</td>\n",
       "      <td>0.0410</td>\n",
       "      <td>0.9673</td>\n",
       "      <td>1.0000</td>\n",
       "      <td>False</td>\n",
       "    </tr>\n",
       "    <tr>\n",
       "      <th>5</th>\n",
       "      <td>Slightly dissatisfied</td>\n",
       "      <td>Very dissatisfied</td>\n",
       "      <td>-1.2430</td>\n",
       "      <td>0.2145</td>\n",
       "      <td>1.0000</td>\n",
       "      <td>False</td>\n",
       "    </tr>\n",
       "    <tr>\n",
       "      <th>6</th>\n",
       "      <td>Slightly dissatisfied</td>\n",
       "      <td>Very satisfied</td>\n",
       "      <td>-2.7201</td>\n",
       "      <td>0.0066</td>\n",
       "      <td>0.0662</td>\n",
       "      <td>False</td>\n",
       "    </tr>\n",
       "    <tr>\n",
       "      <th>7</th>\n",
       "      <td>Slightly satisfied</td>\n",
       "      <td>Very dissatisfied</td>\n",
       "      <td>-1.6546</td>\n",
       "      <td>0.0984</td>\n",
       "      <td>0.9838</td>\n",
       "      <td>False</td>\n",
       "    </tr>\n",
       "    <tr>\n",
       "      <th>8</th>\n",
       "      <td>Slightly satisfied</td>\n",
       "      <td>Very satisfied</td>\n",
       "      <td>-3.7795</td>\n",
       "      <td>0.0002</td>\n",
       "      <td>0.0016</td>\n",
       "      <td>True</td>\n",
       "    </tr>\n",
       "    <tr>\n",
       "      <th>9</th>\n",
       "      <td>Very dissatisfied</td>\n",
       "      <td>Very satisfied</td>\n",
       "      <td>-0.7371</td>\n",
       "      <td>0.4612</td>\n",
       "      <td>1.0000</td>\n",
       "      <td>False</td>\n",
       "    </tr>\n",
       "  </tbody>\n",
       "</table>\n",
       "</div>"
      ],
      "text/plain": [
       "                  group1                 group2    stat    pval  pval_corr  \\\n",
       "0                Neither  Slightly dissatisfied  0.6277  0.5305     1.0000   \n",
       "1                Neither     Slightly satisfied  0.8541  0.3933     1.0000   \n",
       "2                Neither      Very dissatisfied -0.5527  0.5808     1.0000   \n",
       "3                Neither         Very satisfied -1.5374  0.1245     1.0000   \n",
       "4  Slightly dissatisfied     Slightly satisfied  0.0410  0.9673     1.0000   \n",
       "5  Slightly dissatisfied      Very dissatisfied -1.2430  0.2145     1.0000   \n",
       "6  Slightly dissatisfied         Very satisfied -2.7201  0.0066     0.0662   \n",
       "7     Slightly satisfied      Very dissatisfied -1.6546  0.0984     0.9838   \n",
       "8     Slightly satisfied         Very satisfied -3.7795  0.0002     0.0016   \n",
       "9      Very dissatisfied         Very satisfied -0.7371  0.4612     1.0000   \n",
       "\n",
       "   reject  \n",
       "0   False  \n",
       "1   False  \n",
       "2   False  \n",
       "3   False  \n",
       "4   False  \n",
       "5   False  \n",
       "6   False  \n",
       "7   False  \n",
       "8    True  \n",
       "9   False  "
      ]
     },
     "metadata": {},
     "output_type": "display_data"
    }
   ],
   "source": [
    "import statsmodels.api as sm\n",
    "from statsmodels.stats.multicomp import MultiComparison\n",
    "\n",
    "# Create a MultiComparison object to compare compensation across job satisfaction groups\n",
    "# This sets up all possible pairwise comparisons between job satisfaction categories for compensation\n",
    "mc = MultiComparison(stack_overflow[\"converted_comp\"], stack_overflow[\"job_sat\"])\n",
    "\n",
    "# Perform all pairwise t-tests between job satisfaction groups, using Bonferroni correction for multiple comparisons\n",
    "# The Bonferroni method adjusts p-values to control the family-wise error rate when making many comparisons\n",
    "result = mc.allpairtest(sm.stats.ttest_ind, method=\"bonf\")\n",
    "\n",
    "# Extract the summary table (SimpleTable object) from the result tuple\n",
    "summary_table = result[0]  # SimpleTable object\n",
    "\n",
    "# Convert the summary table to a pandas DataFrame for easier inspection and further analysis\n",
    "anova_like_table = pd.DataFrame(summary_table.data[1:], columns=summary_table.data[0])\n",
    "\n",
    "display(anova_like_table)"
   ]
  },
  {
   "cell_type": "markdown",
   "id": "6f8d095a",
   "metadata": {},
   "source": [
    "The `pingouin.pairwise_tests()` function performs pairwise statistical comparisons between groups.<br>\n",
    "\n",
    "The `between` argument specifies the grouping variable, and `padjust=\"bonf\"` applies Bonferroni correction for multiple comparisons.<br>\n",
    "\n",
    "The output includes test statistics, raw and corrected p-values, and a reject column indicating significance at the default `alpha=0.05`.<br>\n",
    "\n",
    "Statistically, this helps identify which job satisfaction groups differ significantly in compensation after adjusting for multiple testing.<br>\n",
    "\n",
    "### Available P-Value Adjustment Methods\n",
    "\n",
    "The `padjust` parameter offers several methods for controlling Type I error in multiple comparisons:\n",
    "\n",
    "| Method | Description |\n",
    "|--------|-------------|\n",
    "| `'none'` | No correction (default) - uses raw p-values |\n",
    "| `'bonf'` | One-step Bonferroni correction - most conservative |\n",
    "| `'sidak'` | One-step Šidák correction - slightly less conservative than Bonferroni |\n",
    "| `'holm'` | Step-down Holm-Bonferroni method - less conservative than Bonferroni |\n",
    "| `'fdr_bh'` | Benjamini-Hochberg False Discovery Rate correction |\n",
    "| `'fdr_by'` | Benjamini-Yekutieli False Discovery Rate correction |\n",
    "\n",
    "**Recommendation**: Use `'bonf'` for strict control of family-wise error rate, or `'fdr_bh'` for better power while controlling false discovery rate.\n"
   ]
  },
  {
   "cell_type": "code",
   "execution_count": 32,
   "id": "f53de73e",
   "metadata": {},
   "outputs": [
    {
     "data": {
      "application/vnd.microsoft.datawrangler.viewer.v0+json": {
       "columns": [
        {
         "name": "index",
         "rawType": "int64",
         "type": "integer"
        },
        {
         "name": "Contrast",
         "rawType": "object",
         "type": "string"
        },
        {
         "name": "A",
         "rawType": "object",
         "type": "string"
        },
        {
         "name": "B",
         "rawType": "object",
         "type": "string"
        },
        {
         "name": "Paired",
         "rawType": "bool",
         "type": "boolean"
        },
        {
         "name": "Parametric",
         "rawType": "bool",
         "type": "boolean"
        },
        {
         "name": "T",
         "rawType": "float64",
         "type": "float"
        },
        {
         "name": "dof",
         "rawType": "float64",
         "type": "float"
        },
        {
         "name": "alternative",
         "rawType": "object",
         "type": "string"
        },
        {
         "name": "p-unc",
         "rawType": "float64",
         "type": "float"
        },
        {
         "name": "p-corr",
         "rawType": "float64",
         "type": "float"
        },
        {
         "name": "p-adjust",
         "rawType": "object",
         "type": "string"
        },
        {
         "name": "BF10",
         "rawType": "object",
         "type": "string"
        },
        {
         "name": "hedges",
         "rawType": "float64",
         "type": "float"
        }
       ],
       "ref": "ac52317d-52b6-43b6-8b86-8177ea809e92",
       "rows": [
        [
         "0",
         "job_sat",
         "Very dissatisfied",
         "Slightly dissatisfied",
         "False",
         "True",
         "1.1299509817235154",
         "247.57018723243593",
         "two-sided",
         "0.25959044674989595",
         "1.0",
         "bonf",
         "0.197",
         "0.11913108840566396"
        ],
        [
         "1",
         "job_sat",
         "Very dissatisfied",
         "Neither",
         "False",
         "True",
         "0.5459478571745497",
         "321.1657260220006",
         "two-sided",
         "0.5854807939106953",
         "1.0",
         "bonf",
         "0.135",
         "0.0585370334957226"
        ],
        [
         "2",
         "job_sat",
         "Very dissatisfied",
         "Slightly satisfied",
         "False",
         "True",
         "1.2436646995972618",
         "187.15332902196766",
         "two-sided",
         "0.21517852606593355",
         "1.0",
         "bonf",
         "0.208",
         "0.14562400332843398"
        ],
        [
         "3",
         "job_sat",
         "Very dissatisfied",
         "Very satisfied",
         "False",
         "True",
         "-0.7473789049928419",
         "221.6662045258967",
         "two-sided",
         "0.4556269473638408",
         "1.0",
         "bonf",
         "0.126",
         "-0.06347921377996527"
        ],
        [
         "4",
         "job_sat",
         "Slightly dissatisfied",
         "Neither",
         "False",
         "True",
         "-0.6022090930147095",
         "367.7300810159995",
         "two-sided",
         "0.5474060990747998",
         "1.0",
         "bonf",
         "0.118",
         "-0.055707083733598756"
        ],
        [
         "5",
         "job_sat",
         "Slightly dissatisfied",
         "Slightly satisfied",
         "False",
         "True",
         "0.038263992038964925",
         "569.9263285357216",
         "two-sided",
         "0.969490598974618",
         "1.0",
         "bonf",
         "0.074",
         "0.002719214529335829"
        ],
        [
         "6",
         "job_sat",
         "Slightly dissatisfied",
         "Very satisfied",
         "False",
         "True",
         "-3.076221763664718",
         "821.3030629831248",
         "two-sided",
         "0.00216593244423409",
         "0.021659324442340897",
         "bonf",
         "7.43",
         "-0.173246979829098"
        ],
        [
         "7",
         "job_sat",
         "Neither",
         "Slightly satisfied",
         "False",
         "True",
         "0.7007524886683659",
         "258.20454634109063",
         "two-sided",
         "0.48408848446652697",
         "1.0",
         "bonf",
         "0.114",
         "0.0685128677746937"
        ],
        [
         "8",
         "job_sat",
         "Neither",
         "Very satisfied",
         "False",
         "True",
         "-1.6629014104218194",
         "328.32663861754884",
         "two-sided",
         "0.0972864297454702",
         "0.9728642974547019",
         "bonf",
         "0.337",
         "-0.12011537271387011"
        ],
        [
         "9",
         "job_sat",
         "Slightly satisfied",
         "Very satisfied",
         "False",
         "True",
         "-4.009934728050376",
         "1478.6227985968776",
         "two-sided",
         "6.376638008353565e-05",
         "0.0006376638008353565",
         "bonf",
         "158.564",
         "-0.1929314785044822"
        ]
       ],
       "shape": {
        "columns": 13,
        "rows": 10
       }
      },
      "text/html": [
       "<div>\n",
       "<style scoped>\n",
       "    .dataframe tbody tr th:only-of-type {\n",
       "        vertical-align: middle;\n",
       "    }\n",
       "\n",
       "    .dataframe tbody tr th {\n",
       "        vertical-align: top;\n",
       "    }\n",
       "\n",
       "    .dataframe thead th {\n",
       "        text-align: right;\n",
       "    }\n",
       "</style>\n",
       "<table border=\"1\" class=\"dataframe\">\n",
       "  <thead>\n",
       "    <tr style=\"text-align: right;\">\n",
       "      <th></th>\n",
       "      <th>Contrast</th>\n",
       "      <th>A</th>\n",
       "      <th>B</th>\n",
       "      <th>Paired</th>\n",
       "      <th>Parametric</th>\n",
       "      <th>T</th>\n",
       "      <th>dof</th>\n",
       "      <th>alternative</th>\n",
       "      <th>p-unc</th>\n",
       "      <th>p-corr</th>\n",
       "      <th>p-adjust</th>\n",
       "      <th>BF10</th>\n",
       "      <th>hedges</th>\n",
       "    </tr>\n",
       "  </thead>\n",
       "  <tbody>\n",
       "    <tr>\n",
       "      <th>0</th>\n",
       "      <td>job_sat</td>\n",
       "      <td>Very dissatisfied</td>\n",
       "      <td>Slightly dissatisfied</td>\n",
       "      <td>False</td>\n",
       "      <td>True</td>\n",
       "      <td>1.129951</td>\n",
       "      <td>247.570187</td>\n",
       "      <td>two-sided</td>\n",
       "      <td>0.259590</td>\n",
       "      <td>1.000000</td>\n",
       "      <td>bonf</td>\n",
       "      <td>0.197</td>\n",
       "      <td>0.119131</td>\n",
       "    </tr>\n",
       "    <tr>\n",
       "      <th>1</th>\n",
       "      <td>job_sat</td>\n",
       "      <td>Very dissatisfied</td>\n",
       "      <td>Neither</td>\n",
       "      <td>False</td>\n",
       "      <td>True</td>\n",
       "      <td>0.545948</td>\n",
       "      <td>321.165726</td>\n",
       "      <td>two-sided</td>\n",
       "      <td>0.585481</td>\n",
       "      <td>1.000000</td>\n",
       "      <td>bonf</td>\n",
       "      <td>0.135</td>\n",
       "      <td>0.058537</td>\n",
       "    </tr>\n",
       "    <tr>\n",
       "      <th>2</th>\n",
       "      <td>job_sat</td>\n",
       "      <td>Very dissatisfied</td>\n",
       "      <td>Slightly satisfied</td>\n",
       "      <td>False</td>\n",
       "      <td>True</td>\n",
       "      <td>1.243665</td>\n",
       "      <td>187.153329</td>\n",
       "      <td>two-sided</td>\n",
       "      <td>0.215179</td>\n",
       "      <td>1.000000</td>\n",
       "      <td>bonf</td>\n",
       "      <td>0.208</td>\n",
       "      <td>0.145624</td>\n",
       "    </tr>\n",
       "    <tr>\n",
       "      <th>3</th>\n",
       "      <td>job_sat</td>\n",
       "      <td>Very dissatisfied</td>\n",
       "      <td>Very satisfied</td>\n",
       "      <td>False</td>\n",
       "      <td>True</td>\n",
       "      <td>-0.747379</td>\n",
       "      <td>221.666205</td>\n",
       "      <td>two-sided</td>\n",
       "      <td>0.455627</td>\n",
       "      <td>1.000000</td>\n",
       "      <td>bonf</td>\n",
       "      <td>0.126</td>\n",
       "      <td>-0.063479</td>\n",
       "    </tr>\n",
       "    <tr>\n",
       "      <th>4</th>\n",
       "      <td>job_sat</td>\n",
       "      <td>Slightly dissatisfied</td>\n",
       "      <td>Neither</td>\n",
       "      <td>False</td>\n",
       "      <td>True</td>\n",
       "      <td>-0.602209</td>\n",
       "      <td>367.730081</td>\n",
       "      <td>two-sided</td>\n",
       "      <td>0.547406</td>\n",
       "      <td>1.000000</td>\n",
       "      <td>bonf</td>\n",
       "      <td>0.118</td>\n",
       "      <td>-0.055707</td>\n",
       "    </tr>\n",
       "    <tr>\n",
       "      <th>5</th>\n",
       "      <td>job_sat</td>\n",
       "      <td>Slightly dissatisfied</td>\n",
       "      <td>Slightly satisfied</td>\n",
       "      <td>False</td>\n",
       "      <td>True</td>\n",
       "      <td>0.038264</td>\n",
       "      <td>569.926329</td>\n",
       "      <td>two-sided</td>\n",
       "      <td>0.969491</td>\n",
       "      <td>1.000000</td>\n",
       "      <td>bonf</td>\n",
       "      <td>0.074</td>\n",
       "      <td>0.002719</td>\n",
       "    </tr>\n",
       "    <tr>\n",
       "      <th>6</th>\n",
       "      <td>job_sat</td>\n",
       "      <td>Slightly dissatisfied</td>\n",
       "      <td>Very satisfied</td>\n",
       "      <td>False</td>\n",
       "      <td>True</td>\n",
       "      <td>-3.076222</td>\n",
       "      <td>821.303063</td>\n",
       "      <td>two-sided</td>\n",
       "      <td>0.002166</td>\n",
       "      <td>0.021659</td>\n",
       "      <td>bonf</td>\n",
       "      <td>7.43</td>\n",
       "      <td>-0.173247</td>\n",
       "    </tr>\n",
       "    <tr>\n",
       "      <th>7</th>\n",
       "      <td>job_sat</td>\n",
       "      <td>Neither</td>\n",
       "      <td>Slightly satisfied</td>\n",
       "      <td>False</td>\n",
       "      <td>True</td>\n",
       "      <td>0.700752</td>\n",
       "      <td>258.204546</td>\n",
       "      <td>two-sided</td>\n",
       "      <td>0.484088</td>\n",
       "      <td>1.000000</td>\n",
       "      <td>bonf</td>\n",
       "      <td>0.114</td>\n",
       "      <td>0.068513</td>\n",
       "    </tr>\n",
       "    <tr>\n",
       "      <th>8</th>\n",
       "      <td>job_sat</td>\n",
       "      <td>Neither</td>\n",
       "      <td>Very satisfied</td>\n",
       "      <td>False</td>\n",
       "      <td>True</td>\n",
       "      <td>-1.662901</td>\n",
       "      <td>328.326639</td>\n",
       "      <td>two-sided</td>\n",
       "      <td>0.097286</td>\n",
       "      <td>0.972864</td>\n",
       "      <td>bonf</td>\n",
       "      <td>0.337</td>\n",
       "      <td>-0.120115</td>\n",
       "    </tr>\n",
       "    <tr>\n",
       "      <th>9</th>\n",
       "      <td>job_sat</td>\n",
       "      <td>Slightly satisfied</td>\n",
       "      <td>Very satisfied</td>\n",
       "      <td>False</td>\n",
       "      <td>True</td>\n",
       "      <td>-4.009935</td>\n",
       "      <td>1478.622799</td>\n",
       "      <td>two-sided</td>\n",
       "      <td>0.000064</td>\n",
       "      <td>0.000638</td>\n",
       "      <td>bonf</td>\n",
       "      <td>158.564</td>\n",
       "      <td>-0.192931</td>\n",
       "    </tr>\n",
       "  </tbody>\n",
       "</table>\n",
       "</div>"
      ],
      "text/plain": [
       "  Contrast                      A                      B  Paired  Parametric  \\\n",
       "0  job_sat      Very dissatisfied  Slightly dissatisfied   False        True   \n",
       "1  job_sat      Very dissatisfied                Neither   False        True   \n",
       "2  job_sat      Very dissatisfied     Slightly satisfied   False        True   \n",
       "3  job_sat      Very dissatisfied         Very satisfied   False        True   \n",
       "4  job_sat  Slightly dissatisfied                Neither   False        True   \n",
       "5  job_sat  Slightly dissatisfied     Slightly satisfied   False        True   \n",
       "6  job_sat  Slightly dissatisfied         Very satisfied   False        True   \n",
       "7  job_sat                Neither     Slightly satisfied   False        True   \n",
       "8  job_sat                Neither         Very satisfied   False        True   \n",
       "9  job_sat     Slightly satisfied         Very satisfied   False        True   \n",
       "\n",
       "          T          dof alternative     p-unc    p-corr p-adjust     BF10  \\\n",
       "0  1.129951   247.570187   two-sided  0.259590  1.000000     bonf    0.197   \n",
       "1  0.545948   321.165726   two-sided  0.585481  1.000000     bonf    0.135   \n",
       "2  1.243665   187.153329   two-sided  0.215179  1.000000     bonf    0.208   \n",
       "3 -0.747379   221.666205   two-sided  0.455627  1.000000     bonf    0.126   \n",
       "4 -0.602209   367.730081   two-sided  0.547406  1.000000     bonf    0.118   \n",
       "5  0.038264   569.926329   two-sided  0.969491  1.000000     bonf    0.074   \n",
       "6 -3.076222   821.303063   two-sided  0.002166  0.021659     bonf     7.43   \n",
       "7  0.700752   258.204546   two-sided  0.484088  1.000000     bonf    0.114   \n",
       "8 -1.662901   328.326639   two-sided  0.097286  0.972864     bonf    0.337   \n",
       "9 -4.009935  1478.622799   two-sided  0.000064  0.000638     bonf  158.564   \n",
       "\n",
       "     hedges  \n",
       "0  0.119131  \n",
       "1  0.058537  \n",
       "2  0.145624  \n",
       "3 -0.063479  \n",
       "4 -0.055707  \n",
       "5  0.002719  \n",
       "6 -0.173247  \n",
       "7  0.068513  \n",
       "8 -0.120115  \n",
       "9 -0.192931  "
      ]
     },
     "execution_count": 32,
     "metadata": {},
     "output_type": "execute_result"
    }
   ],
   "source": [
    "# Perform pairwise t-tests comparing mean compensation (\"converted_comp\") between all job satisfaction (\"job_sat\") groups in the Stack Overflow dataset\n",
    "pingouin.pairwise_tests(\n",
    "    # The dataset containing compensation and job satisfaction columns\n",
    "    data=stack_overflow,\n",
    "    # The dependent variable: compensation in USD\n",
    "    dv=\"converted_comp\",\n",
    "    # The grouping variable: job satisfaction category\n",
    "    between=\"job_sat\",\n",
    "    # Apply Bonferroni correction to adjust p-values for multiple comparisons, controlling the family-wise error rate\n",
    "    padjust=\"bonf\",\n",
    ")"
   ]
  },
  {
   "cell_type": "code",
   "execution_count": 33,
   "id": "658a80e1",
   "metadata": {},
   "outputs": [
    {
     "data": {
      "application/vnd.microsoft.datawrangler.viewer.v0+json": {
       "columns": [
        {
         "name": "shipment_mode",
         "rawType": "object",
         "type": "string"
        },
        {
         "name": "pack_price",
         "rawType": "float64",
         "type": "float"
        }
       ],
       "ref": "fcd47fed-2e30-4d8a-b442-794f3d5b6dbf",
       "rows": [
        [
         "Air",
         "48.93286095702218"
        ],
        [
         "Air Charter",
         "0.9929686131326944"
        ],
        [
         "Ocean",
         "5.303046560357228"
        ]
       ],
       "shape": {
        "columns": 1,
        "rows": 3
       }
      },
      "text/plain": [
       "shipment_mode\n",
       "Air            48.932861\n",
       "Air Charter     0.992969\n",
       "Ocean           5.303047\n",
       "Name: pack_price, dtype: float64"
      ]
     },
     "metadata": {},
     "output_type": "display_data"
    }
   ],
   "source": [
    "# Group the late_shipments DataFrame by the 'shipment_mode' column and calculate the mean of 'pack_price' for each group.\n",
    "# This gives the average pack price for each shipment mode, helping us compare central tendencies across categories.\n",
    "xbar_pack_by_mode = late_shipments.groupby(\"shipment_mode\")[\"pack_price\"].mean()\n",
    "\n",
    "# Group the late_shipments DataFrame by 'shipment_mode' and calculate the standard deviation of 'pack_price' for each group.\n",
    "# The standard deviation measures the spread or variability of pack prices within each shipment mode group.\n",
    "s_pack_by_mode = late_shipments.groupby(\"shipment_mode\")[\"pack_price\"].std()\n",
    "\n",
    "display(s_pack_by_mode)"
   ]
  },
  {
   "cell_type": "code",
   "execution_count": 34,
   "id": "2ee712fc",
   "metadata": {},
   "outputs": [
    {
     "data": {
      "image/png": "[encoded data removed]",
      "text/plain": [
       "<Figure size 920x690 with 1 Axes>"
      ]
     },
     "metadata": {},
     "output_type": "display_data"
    }
   ],
   "source": [
    "# Create a boxplot from late_shipments with \"pack_price\" as x and \"shipment_mode\" as y.\n",
    "fig, ax = plt.subplots(figsize=(8, 6), dpi=115)\n",
    "\n",
    "with sns.axes_style(\"darkgrid\", {\"axes.facecolor\": \".7\"}):\n",
    "    sns.boxplot(\n",
    "        x=\"pack_price\",\n",
    "        y=\"shipment_mode\",\n",
    "        data=late_shipments,\n",
    "        ax=ax,\n",
    "        palette=\"viridis\",\n",
    "        hue=\"shipment_mode\",\n",
    "    )\n",
    "\n",
    "ax.set_xlabel(\"Pack Price (USD)\", fontsize=13, fontname=\"DejaVu Sans\")\n",
    "ax.set_ylabel(\"Shipment Mode\", fontsize=13, fontname=\"DejaVu Sans\")\n",
    "ax.set_title(\n",
    "    \"Distribution of Pack Prices by Shipment Mode\",\n",
    "    fontsize=15,\n",
    "    fontname=\"DejaVu Sans\",\n",
    ")\n",
    "ax.grid(True, alpha=0.5, linewidth=0.4, color=\"grey\")\n",
    "ax.set_axisbelow(True)\n",
    "\n",
    "plt.tight_layout()\n",
    "plt.show()"
   ]
  },
  {
   "cell_type": "markdown",
   "id": "e4f5166a",
   "metadata": {},
   "source": [
    "### Conducting an ANOVA test\n",
    "The box plots made it look like the distribution of pack price was different for each of the three shipment modes. However, it didn't tell us whether the mean pack price was different in each category. To determine that, we can use an ANOVA test. The null and alternative hypotheses can be written as follows.\n",
    "\n",
    "$H_0$: Pack prices for every category of shipment mode are the same.<br>\n",
    "$H_A$: Pack prices for some categories of shipment mode are different.\n",
    "\n",
    "\n",
    "Use a significance level of 0.1."
   ]
  },
  {
   "cell_type": "code",
   "execution_count": 35,
   "id": "d7fe259a",
   "metadata": {},
   "outputs": [
    {
     "name": "stdout",
     "output_type": "stream",
     "text": [
      "          Source  ddof1  ddof2        F         p-unc       np2\n",
      "0  shipment_mode      2    997  21.8646  5.089479e-10  0.042018\n"
     ]
    }
   ],
   "source": [
    "# Run an ANOVA (Analysis of Variance) to test if the mean pack price differs across shipment modes\n",
    "# This tests the null hypothesis that all shipment_mode groups have the same mean pack_price\n",
    "anova_results = pingouin.anova(\n",
    "    # DataFrame containing the data to analyze\n",
    "    data=late_shipments,\n",
    "    # Dependent variable: the numeric variable whose means are compared\n",
    "    dv=\"pack_price\",\n",
    "    # Categorical variable defining the groups to compare\n",
    "    between=\"shipment_mode\",\n",
    ")\n",
    "\n",
    "# A small p-value (below alpha) indicates at least one group mean is significantly different\n",
    "print(anova_results)"
   ]
  },
  {
   "cell_type": "code",
   "execution_count": 36,
   "id": "8fd3217f",
   "metadata": {},
   "outputs": [
    {
     "name": "stdout",
     "output_type": "stream",
     "text": [
      "                     sum_sq     df        F        PR(>F)\n",
      "shipment_mode  9.515185e+04    2.0  21.8646  5.089479e-10\n",
      "Residual       2.169406e+06  997.0      NaN           NaN\n"
     ]
    }
   ],
   "source": [
    "import statsmodels.api as sm\n",
    "from statsmodels.formula.api import ols\n",
    "\n",
    "# Fit an Ordinary Least Squares (OLS) regression model\n",
    "# This models 'pack_price' as a function of the categorical variable 'shipment_mode'\n",
    "# Statistically, this is equivalent to comparing the mean pack price across shipment modes (ANOVA)\n",
    "model = ols(formula=\"pack_price ~ shipment_mode\", data=late_shipments).fit()\n",
    "\n",
    "# Perform an ANOVA (Analysis of Variance) on the fitted model\n",
    "# This tests the null hypothesis that all shipment_mode groups have the same mean pack_price\n",
    "# The output includes the F-statistic and associated p-value for the group variable\n",
    "anova_table = sm.stats.anova_lm(model, typ=2)\n",
    "\n",
    "# Print the ANOVA results table\n",
    "# If the p-value for 'shipment_mode' is below your chosen alpha, you reject the null hypothesis\n",
    "print(anova_table)"
   ]
  },
  {
   "cell_type": "code",
   "execution_count": 37,
   "id": "d326d1f2",
   "metadata": {},
   "outputs": [
    {
     "data": {
      "application/vnd.microsoft.datawrangler.viewer.v0+json": {
       "columns": [
        {
         "name": "index",
         "rawType": "int64",
         "type": "integer"
        },
        {
         "name": "Contrast",
         "rawType": "object",
         "type": "string"
        },
        {
         "name": "A",
         "rawType": "object",
         "type": "string"
        },
        {
         "name": "B",
         "rawType": "object",
         "type": "string"
        },
        {
         "name": "Paired",
         "rawType": "bool",
         "type": "boolean"
        },
        {
         "name": "Parametric",
         "rawType": "bool",
         "type": "boolean"
        },
        {
         "name": "T",
         "rawType": "float64",
         "type": "float"
        },
        {
         "name": "dof",
         "rawType": "float64",
         "type": "float"
        },
        {
         "name": "alternative",
         "rawType": "object",
         "type": "string"
        },
        {
         "name": "p-unc",
         "rawType": "float64",
         "type": "float"
        },
        {
         "name": "BF10",
         "rawType": "object",
         "type": "string"
        },
        {
         "name": "hedges",
         "rawType": "float64",
         "type": "float"
        }
       ],
       "ref": "39e9986b-1457-4e4f-b912-13737e2d8f08",
       "rows": [
        [
         "0",
         "shipment_mode",
         "Air",
         "Air Charter",
         "False",
         "True",
         "21.179625237157303",
         "600.6856822816193",
         "two-sided",
         "8.748345979164269e-75",
         "5.809e+76",
         "0.7265923955725941"
        ],
        [
         "1",
         "shipment_mode",
         "Air",
         "Ocean",
         "False",
         "True",
         "19.33576038767632",
         "986.9797854844024",
         "two-sided",
         "6.9345550920145624e-71",
         "1.129e+67",
         "0.7111189676291639"
        ],
        [
         "2",
         "shipment_mode",
         "Air Charter",
         "Ocean",
         "False",
         "True",
         "-3.1706544132750296",
         "35.61502600665747",
         "two-sided",
         "0.0031230122870821568",
         "15.277",
         "-0.42377468109259914"
        ]
       ],
       "shape": {
        "columns": 11,
        "rows": 3
       }
      },
      "text/html": [
       "<div>\n",
       "<style scoped>\n",
       "    .dataframe tbody tr th:only-of-type {\n",
       "        vertical-align: middle;\n",
       "    }\n",
       "\n",
       "    .dataframe tbody tr th {\n",
       "        vertical-align: top;\n",
       "    }\n",
       "\n",
       "    .dataframe thead th {\n",
       "        text-align: right;\n",
       "    }\n",
       "</style>\n",
       "<table border=\"1\" class=\"dataframe\">\n",
       "  <thead>\n",
       "    <tr style=\"text-align: right;\">\n",
       "      <th></th>\n",
       "      <th>Contrast</th>\n",
       "      <th>A</th>\n",
       "      <th>B</th>\n",
       "      <th>Paired</th>\n",
       "      <th>Parametric</th>\n",
       "      <th>T</th>\n",
       "      <th>dof</th>\n",
       "      <th>alternative</th>\n",
       "      <th>p-unc</th>\n",
       "      <th>BF10</th>\n",
       "      <th>hedges</th>\n",
       "    </tr>\n",
       "  </thead>\n",
       "  <tbody>\n",
       "    <tr>\n",
       "      <th>0</th>\n",
       "      <td>shipment_mode</td>\n",
       "      <td>Air</td>\n",
       "      <td>Air Charter</td>\n",
       "      <td>False</td>\n",
       "      <td>True</td>\n",
       "      <td>21.179625</td>\n",
       "      <td>600.685682</td>\n",
       "      <td>two-sided</td>\n",
       "      <td>8.748346e-75</td>\n",
       "      <td>5.809e+76</td>\n",
       "      <td>0.726592</td>\n",
       "    </tr>\n",
       "    <tr>\n",
       "      <th>1</th>\n",
       "      <td>shipment_mode</td>\n",
       "      <td>Air</td>\n",
       "      <td>Ocean</td>\n",
       "      <td>False</td>\n",
       "      <td>True</td>\n",
       "      <td>19.335760</td>\n",
       "      <td>986.979785</td>\n",
       "      <td>two-sided</td>\n",
       "      <td>6.934555e-71</td>\n",
       "      <td>1.129e+67</td>\n",
       "      <td>0.711119</td>\n",
       "    </tr>\n",
       "    <tr>\n",
       "      <th>2</th>\n",
       "      <td>shipment_mode</td>\n",
       "      <td>Air Charter</td>\n",
       "      <td>Ocean</td>\n",
       "      <td>False</td>\n",
       "      <td>True</td>\n",
       "      <td>-3.170654</td>\n",
       "      <td>35.615026</td>\n",
       "      <td>two-sided</td>\n",
       "      <td>3.123012e-03</td>\n",
       "      <td>15.277</td>\n",
       "      <td>-0.423775</td>\n",
       "    </tr>\n",
       "  </tbody>\n",
       "</table>\n",
       "</div>"
      ],
      "text/plain": [
       "        Contrast            A            B  Paired  Parametric          T  \\\n",
       "0  shipment_mode          Air  Air Charter   False        True  21.179625   \n",
       "1  shipment_mode          Air        Ocean   False        True  19.335760   \n",
       "2  shipment_mode  Air Charter        Ocean   False        True  -3.170654   \n",
       "\n",
       "          dof alternative         p-unc       BF10    hedges  \n",
       "0  600.685682   two-sided  8.748346e-75  5.809e+76  0.726592  \n",
       "1  986.979785   two-sided  6.934555e-71  1.129e+67  0.711119  \n",
       "2   35.615026   two-sided  3.123012e-03     15.277 -0.423775  "
      ]
     },
     "execution_count": 37,
     "metadata": {},
     "output_type": "execute_result"
    }
   ],
   "source": [
    "# Perform pairwise t-tests to compare the mean pack price between each pair of shipment modes in the late_shipments dataset\n",
    "pingouin.pairwise_tests(\n",
    "    # DataFrame containing the data to analyze\n",
    "    data=late_shipments,\n",
    "    # Dependent variable: the numeric variable whose means are compared\n",
    "    dv=\"pack_price\",\n",
    "    # Categorical variable defining the groups to compare\n",
    "    between=\"shipment_mode\",\n",
    "    # No p-value adjustment: each test's p-value is reported as-is (risk of inflated Type I error if many comparisons)\n",
    "    padjust=None,\n",
    ")"
   ]
  },
  {
   "cell_type": "code",
   "execution_count": 38,
   "id": "164664b0",
   "metadata": {},
   "outputs": [
    {
     "data": {
      "application/vnd.microsoft.datawrangler.viewer.v0+json": {
       "columns": [
        {
         "name": "index",
         "rawType": "int64",
         "type": "integer"
        },
        {
         "name": "group1",
         "rawType": "object",
         "type": "string"
        },
        {
         "name": "group2",
         "rawType": "object",
         "type": "string"
        },
        {
         "name": "stat",
         "rawType": "float64",
         "type": "float"
        },
        {
         "name": "pval",
         "rawType": "float64",
         "type": "float"
        },
        {
         "name": "pval_corr",
         "rawType": "float64",
         "type": "float"
        },
        {
         "name": "reject",
         "rawType": "bool",
         "type": "boolean"
        }
       ],
       "ref": "6f02848e-7a1d-41e9-b21a-24d9c2ce2d17",
       "rows": [
        [
         "0",
         "Air",
         "Air Charter",
         "1.7754",
         "0.0762",
         "0.2285",
         "False"
        ],
        [
         "1",
         "Air",
         "Ocean",
         "6.3736",
         "0.0",
         "0.0",
         "True"
        ],
        [
         "2",
         "Air Charter",
         "Ocean",
         "-1.0126",
         "0.3139",
         "0.9417",
         "False"
        ]
       ],
       "shape": {
        "columns": 6,
        "rows": 3
       }
      },
      "text/html": [
       "<div>\n",
       "<style scoped>\n",
       "    .dataframe tbody tr th:only-of-type {\n",
       "        vertical-align: middle;\n",
       "    }\n",
       "\n",
       "    .dataframe tbody tr th {\n",
       "        vertical-align: top;\n",
       "    }\n",
       "\n",
       "    .dataframe thead th {\n",
       "        text-align: right;\n",
       "    }\n",
       "</style>\n",
       "<table border=\"1\" class=\"dataframe\">\n",
       "  <thead>\n",
       "    <tr style=\"text-align: right;\">\n",
       "      <th></th>\n",
       "      <th>group1</th>\n",
       "      <th>group2</th>\n",
       "      <th>stat</th>\n",
       "      <th>pval</th>\n",
       "      <th>pval_corr</th>\n",
       "      <th>reject</th>\n",
       "    </tr>\n",
       "  </thead>\n",
       "  <tbody>\n",
       "    <tr>\n",
       "      <th>0</th>\n",
       "      <td>Air</td>\n",
       "      <td>Air Charter</td>\n",
       "      <td>1.7754</td>\n",
       "      <td>0.0762</td>\n",
       "      <td>0.2285</td>\n",
       "      <td>False</td>\n",
       "    </tr>\n",
       "    <tr>\n",
       "      <th>1</th>\n",
       "      <td>Air</td>\n",
       "      <td>Ocean</td>\n",
       "      <td>6.3736</td>\n",
       "      <td>0.0000</td>\n",
       "      <td>0.0000</td>\n",
       "      <td>True</td>\n",
       "    </tr>\n",
       "    <tr>\n",
       "      <th>2</th>\n",
       "      <td>Air Charter</td>\n",
       "      <td>Ocean</td>\n",
       "      <td>-1.0126</td>\n",
       "      <td>0.3139</td>\n",
       "      <td>0.9417</td>\n",
       "      <td>False</td>\n",
       "    </tr>\n",
       "  </tbody>\n",
       "</table>\n",
       "</div>"
      ],
      "text/plain": [
       "        group1       group2    stat    pval  pval_corr  reject\n",
       "0          Air  Air Charter  1.7754  0.0762     0.2285   False\n",
       "1          Air        Ocean  6.3736  0.0000     0.0000    True\n",
       "2  Air Charter        Ocean -1.0126  0.3139     0.9417   False"
      ]
     },
     "metadata": {},
     "output_type": "display_data"
    }
   ],
   "source": [
    "import statsmodels.api as sm\n",
    "from statsmodels.stats.multicomp import MultiComparison\n",
    "\n",
    "# Set up a MultiComparison object to compare pack prices across shipment modes\n",
    "# This object enables all possible pairwise comparisons between the categories in 'shipment_mode'\n",
    "mc = MultiComparison(late_shipments[\"pack_price\"], late_shipments[\"shipment_mode\"])\n",
    "\n",
    "# Perform all pairwise t-tests between shipment modes, using Bonferroni correction to control for multiple comparisons\n",
    "# The Bonferroni method adjusts p-values to reduce the risk of Type I error when making many comparisons\n",
    "result = mc.allpairtest(sm.stats.ttest_ind, method=\"bonf\")\n",
    "\n",
    "# Extract the summary table (SimpleTable object) containing the results of all pairwise tests\n",
    "summary_table = result[0]  # SimpleTable object\n",
    "\n",
    "# Convert the summary table to a pandas DataFrame for easier inspection and further analysis\n",
    "anova_like_table = pd.DataFrame(summary_table.data[1:], columns=summary_table.data[0])\n",
    "\n",
    "display(anova_like_table)"
   ]
  },
  {
   "cell_type": "markdown",
   "id": "ca44b457",
   "metadata": {},
   "source": [
    "## From Bootstrapping to a Direct Formula\n",
    "\n",
    "Previously, we determined the significance of a point estimate by a four-step process:\n",
    "\n",
    "1.  Generate a bootstrap distribution to approximate the sampling distribution.\n",
    "2.  Calculate the standard error as the standard deviation of the bootstrap distribution.\n",
    "3.  Compute a standardized test statistic (z-score) using this standard error.\n",
    "4.  Calculate a p-value from the test statistic to make a decision.\n",
    "\n",
    "For tests involving proportions, there is a more direct, analytical method that bypasses the need for the computationally intensive bootstrap simulation. This method allows us to calculate the standard error and the z-statistic directly from a known formula.\n",
    "\n",
    "### The Standardized Test Statistic for Proportions\n",
    "\n",
    "The general formula for a standardized test statistic is:\n",
    "\n",
    "$$z = \\frac{\\text{Sample Statistic} - \\text{Hypothesized Parameter}}{SE(\\text{Sample Statistic})}$$\n",
    "\n",
    "For a one-sample test of a proportion, the specific terms are:\n",
    "\n",
    "  * **Sample Statistic**: $\\hat{p}$, the observed sample proportion.\n",
    "  * **Hypothesized Parameter**: $p_0$, the population proportion assumed under the null hypothesis.\n",
    "  * **Standard Error**: $SE(\\hat{p})$, the standard error of the sample proportion.\n",
    "  Assuming the null hypothesis is true ($H_0: p = p_0$), the formula becomes:\n",
    "\n",
    "$$z = \\frac{\\hat{p} - p_0}{SE(\\hat{p})}$$\n",
    "\n",
    "### A Simplified Standard Error\n",
    "\n",
    "The key to bypassing the bootstrap is having a direct formula for the standard error. The logic of hypothesis testing requires us to assume the null hypothesis is true. Under this assumption, our best guess for the true population proportion is the hypothesized value, $p_0$. Therefore, we use $p_0$ to calculate the standard error.\n",
    "\n",
    "The standard error for a sample proportion, under the null hypothesis, is:\n",
    "\n",
    "$$SE(\\hat{p}) = \\sqrt{\\frac{p_0(1-p_0)}{n}}$$\n",
    "\n",
    "By substituting this simplified standard error back into the z-statistic formula, we arrive at the final test statistic, which can be calculated without any simulation:\n",
    "\n",
    "$$z = \\frac{\\hat{p} - p_0}{\\sqrt{\\frac{p_0(1-p_0)}{n}}}$$\n",
    "\n",
    "This powerful formula depends only on the sample proportion ($\\hat{p}$), the sample size (`n`), and the hypothesized proportion ($p_0$).\n",
    "\n",
    "### Why a z-test and not a t-test?\n",
    "\n",
    "We use a **t-test** when we must estimate a population standard deviation ($\\sigma$) from our sample standard deviation (`s`). This estimation introduces extra uncertainty, which is accounted for by the \"fatter tails\" of the t-distribution.\n",
    "\n",
    "For a proportion test, the situation is different. The variability of a proportion is intrinsically linked to its value. Under the null hypothesis, the standard error is *fully determined* by the hypothesized proportion ($p_0$) and the sample size (`n`). We are not estimating a separate standard deviation parameter from the sample. Since this extra source of uncertainty is absent, the z-distribution is appropriate.\n",
    "\n",
    "\n",
    "### A Complete Example: One-Sample Proportion Test\n",
    "\n",
    "Let's conduct a complete one-sample proportion test using this direct analytical method.\n",
    "\n",
    "**Scenario**: A company claims that 25% of its website visitors make a purchase. We take a sample of 1000 visitors and find that 280 of them made a purchase. Is there significant evidence to suggest the true proportion is different from 25%?\n",
    "\n",
    "```python\n",
    "import numpy as np\n",
    "from scipy.stats import norm\n",
    "\n",
    "# 1. State Hypotheses and Define Parameters \n",
    "# H0: The true proportion of purchasing visitors is 0.25. (p = 0.25)\n",
    "# HA: The true proportion is not 0.25. (p ≠ 0.25) -> This is a two-tailed test.\n",
    "\n",
    "p_0 = 0.25  # Hypothesized population proportion\n",
    "n = 1000    # Sample size\n",
    "p_hat = 280 / 1000 # Observed sample proportion\n",
    "alpha = 0.05 # Significance level\n",
    "\n",
    "# 2. Calculate the z-statistic\n",
    "numerator = p_hat - p_0\n",
    "denominator = np.sqrt(p_0 * (1 - p_0) / n)\n",
    "z_score = numerator / denominator\n",
    "\n",
    "print(f\"Sample Proportion (p-hat): {p_hat:.4f}\")\n",
    "print(f\"Hypothesized Proportion (p_0): {p_0}\")\n",
    "print(f\"Z-score: {z_score:.4f}\")\n",
    "\n",
    "# 3. Calculate the p-value\n",
    "# For a two-tailed test, we find the area in the tails beyond |z_score|\n",
    "p_value = 2 * (1 - norm.cdf(abs(z_score)))\n",
    "\n",
    "print(f\"\\nP-value: {p_value:.4f}\")\n",
    "\n",
    "# 4. Make a Statistical Decision \n",
    "if p_value < alpha:\n",
    "    print(f\"\\nDecision: Reject H0, because p ({p_value:.4f}) < alpha ({alpha}).\")\n",
    "    print(\"The evidence suggests the true proportion of purchasing visitors is different from 0.25.\")\n",
    "else:\n",
    "    print(f\"\\nDecision: Fail to reject H0, because p ({p_value:.4f}) >= alpha ({alpha}).\")\n",
    "    print(\"There is not enough evidence to conclude the proportion is different from 0.25.\")\n",
    "```\n",
    "\n",
    "The small p-value allows us to reject the null hypothesis, concluding that our sample provides strong evidence that the true proportion of visitors who make a purchase is not 25%."
   ]
  },
  {
   "cell_type": "code",
   "execution_count": 39,
   "id": "eed0bf3e",
   "metadata": {},
   "outputs": [
    {
     "data": {
      "application/vnd.microsoft.datawrangler.viewer.v0+json": {
       "columns": [
        {
         "name": "age_cat",
         "rawType": "object",
         "type": "string"
        },
        {
         "name": "proportion",
         "rawType": "float64",
         "type": "float"
        }
       ],
       "ref": "b93f1c40-b602-45b8-bf9c-6758f6d82ca4",
       "rows": [
        [
         "Under 30",
         "0.5356037151702786"
        ],
        [
         "At least 30",
         "0.46439628482972134"
        ]
       ],
       "shape": {
        "columns": 1,
        "rows": 2
       }
      },
      "text/plain": [
       "age_cat\n",
       "Under 30       0.535604\n",
       "At least 30    0.464396\n",
       "Name: proportion, dtype: float64"
      ]
     },
     "execution_count": 39,
     "metadata": {},
     "output_type": "execute_result"
    }
   ],
   "source": [
    "stack_overflow[\"age_cat\"].value_counts(normalize=True)"
   ]
  },
  {
   "cell_type": "code",
   "execution_count": 40,
   "id": "d5ce320d",
   "metadata": {},
   "outputs": [],
   "source": [
    "# Set the significance level (alpha) for the hypothesis test.\n",
    "# This is the probability of making a Type I error (rejecting the null hypothesis when it is true).\n",
    "alpha = 0.01\n",
    "\n",
    "# Calculate the observed sample proportion (p_hat) of respondents under 30 years old.\n",
    "# This is the mean of a boolean Series: True (1) if \"age_cat\" is \"Under 30\", False (0) otherwise.\n",
    "p_hat = (stack_overflow[\"age_cat\"] == \"Under 30\").mean()\n",
    "\n",
    "# Set the hypothesized population proportion (p_0) under the null hypothesis.\n",
    "# Here, we are testing if the true proportion of \"Under 30\" is 0.50 (50%).\n",
    "p_0 = 0.50\n",
    "\n",
    "# Calculate the sample size (n), i.e., the number of respondents in the dataset.\n",
    "n = len(stack_overflow)"
   ]
  },
  {
   "cell_type": "code",
   "execution_count": 41,
   "id": "60b15301",
   "metadata": {},
   "outputs": [
    {
     "name": "stdout",
     "output_type": "stream",
     "text": [
      "3.385911440783663\n"
     ]
    }
   ],
   "source": [
    "# Calculate the numerator: the difference between the observed sample proportion and the hypothesized proportion\n",
    "# Statistically, this measures how far our sample result is from what we'd expect under the null hypothesis\n",
    "numerator = p_hat - p_0\n",
    "\n",
    "# Calculate the denominator: the standard error of the sample proportion under the null hypothesis\n",
    "# Formula: sqrt(p_0 * (1 - p_0) / n)\n",
    "denominator = np.sqrt(p_0 * (1 - p_0) / n)\n",
    "\n",
    "# Compute the z-score: standardized test statistic for a one-sample proportion test\n",
    "# z = (observed proportion - hypothesized proportion) / standard error\n",
    "z_score = numerator / denominator\n",
    "\n",
    "# Print the calculated z-score; a large absolute value suggests the observed proportion is unlikely under the null hypothesis\n",
    "print(z_score)"
   ]
  },
  {
   "cell_type": "code",
   "execution_count": 42,
   "id": "67a9245a",
   "metadata": {},
   "outputs": [
    {
     "name": "stdout",
     "output_type": "stream",
     "text": [
      "0.0007094227368100725\n"
     ]
    }
   ],
   "source": [
    "from scipy.stats import norm\n",
    "\n",
    "# Statistically: The p-value is the probability, under the null hypothesis, of observing a test statistic as extreme or more extreme than the one calculated.\n",
    "# Syntax: norm.cdf(abs(z_score)) gives the cumulative probability up to |z_score|; 1 - ... gives the upper tail; multiply by 2 for both tails (two-sided test).\n",
    "p_value = 2 * (1 - norm.cdf(abs(z_score)))\n",
    "\n",
    "# Print the p-value; a small value (below alpha) suggests the observed proportion is significantly different from the hypothesized value\n",
    "print(p_value)"
   ]
  },
  {
   "cell_type": "markdown",
   "id": "b3da0191",
   "metadata": {},
   "source": [
    "### Test for single proportions\n",
    "In Chapter 1, you calculated a p-value for a test hypothesizing that the proportion of late shipments was greater than 6%. In that chapter, you used a bootstrap distribution to estimate the standard error of the statistic. An alternative is to use an equation for the standard error based on the sample proportion, hypothesized proportion, and sample size.\n",
    "\n",
    "The formula for the z-score in a one-sample proportion test is:\n",
    "\n",
    "$$\n",
    "z = \\frac{\\hat{p} - p_0}{\\sqrt{\\frac{p_0(1-p_0)}{n}}}\n",
    "$$\n",
    "\n",
    "where  \n",
    "$\\hat{p}$ = observed sample proportion  \n",
    "$p_0$ = hypothesized population proportion  \n",
    "$n$ = sample size\n",
    "\n",
    " \n",
    " "
   ]
  },
  {
   "cell_type": "code",
   "execution_count": 43,
   "id": "083140c8",
   "metadata": {},
   "outputs": [
    {
     "name": "stdout",
     "output_type": "stream",
     "text": [
      "0.44703503936503364\n"
     ]
    }
   ],
   "source": [
    "# Set the hypothesized population proportion under the null hypothesis (H0: true late shipment rate is 6%)\n",
    "p_0 = 0.06\n",
    "\n",
    "# Calculate the observed sample proportion of late shipments (\"Yes\" in the 'late' column)\n",
    "# This is our point estimate (p̂) for the true proportion\n",
    "p_hat = (late_shipments[\"late\"] == \"Yes\").mean()\n",
    "\n",
    "# Determine the sample size (number of shipments in the dataset)\n",
    "n = len(late_shipments)\n",
    "\n",
    "# Compute the numerator: difference between observed and hypothesized proportions (p̂ - p₀)\n",
    "# This measures how far our sample result is from the null hypothesis\n",
    "numerator = p_hat - p_0\n",
    "\n",
    "# Compute the denominator: standard error of the sample proportion under H0\n",
    "# Formula: sqrt(p₀ * (1 - p₀) / n), which quantifies expected sampling variability if H0 is true\n",
    "denominator = np.sqrt(p_0 * (1 - p_0) / n)\n",
    "\n",
    "# Calculate the z-score: standardized test statistic for a one-sample proportion test\n",
    "# z = (p̂ - p₀) / SE; tells us how many standard errors our observed result is from the null hypothesis\n",
    "z_score = numerator / denominator\n",
    "\n",
    "# Import the normal distribution CDF for p-value calculation\n",
    "from scipy.stats import norm\n",
    "\n",
    "# Calculate the p-value for a right-tailed test (H_A: true proportion > 0.06)\n",
    "# p-value = probability of observing a z-score this large or larger under H0\n",
    "p_value = 1 - norm.cdf(z_score)\n",
    "\n",
    "# Print the p-value; a small value (below alpha) suggests the sample proportion is significantly greater than hypothesized\n",
    "print(p_value)"
   ]
  },
  {
   "cell_type": "markdown",
   "id": "04addead",
   "metadata": {},
   "source": [
    "## The Two-Sample Problem for Proportions\n",
    "\n",
    "This hypothesis test is used when you want to compare a binary categorical variable across two different groups. For example:\n",
    "\n",
    "  * Is the proportion of customers who click on an ad different for users in Group A versus Group B?\n",
    "  * Is the proportion of students who pass an exam different for those who used a new study guide versus those who used the old one?\n",
    "\n",
    "The test evaluates whether any observed difference in the sample proportions is statistically significant or if it could have occurred due to random sampling variability.\n",
    "\n",
    "### Formulating Hypotheses\n",
    "\n",
    "Let $p_1$ be the population proportion for Group 1 and $p_2$ be the population proportion for Group 2.\n",
    "\n",
    "  * **Null Hypothesis ($H_0$)**: This hypothesis states that the population proportions for the two groups are **equal**.\n",
    "    $$H_0: p_1 = p_2 \\quad \\text{or equivalently} \\quad H_0: p_1 - p_2 = 0$$\n",
    "\n",
    "  * **Alternative Hypothesis ($H_A$)**: This hypothesis states that the population proportions are **not equal**.\n",
    "\n",
    "      * **Two-tailed**: $H_A: p_1 \\neq p_2$\n",
    "      * **Right-tailed**: $H_A: p_1 > p_2$\n",
    "      * **Left-tailed**: $H_A: p_1 < p_2$\n",
    "\n",
    "### The z-statistic for Comparing Two Proportions\n",
    "\n",
    "The test statistic for comparing two proportions is a **z-statistic**. Assuming the null hypothesis is true (that the difference is zero), the formula is:\n",
    "\n",
    "$$z = \\frac{(\\hat{p}_1 - \\hat{p}_2) - 0}{SE(\\hat{p}_1 - \\hat{p}_2)}$$\n",
    "\n",
    "### The Pooled Proportion and Standard Error\n",
    "\n",
    "A key step in this calculation is finding the standard error. Under the null hypothesis, we assume that $p_1 = p_2$. Therefore, our best estimate for this single, common proportion is the **pooled sample proportion**, $\\hat{p}_{pool}$, which combines the data from both samples.\n",
    "\n",
    "$$\\hat{p}_{pool} = \\frac{n_1\\hat{p}_1 + n_2\\hat{p}_2}{n_1 + n_2} = \\frac{\\text{Total number of successes in both groups}}{\\text{Total sample size of both groups}}$$\n",
    "\n",
    "We then use this pooled proportion to calculate the standard error of the difference:\n",
    "\n",
    "$$SE(\\hat{p}_1 - \\hat{p}_2) = \\sqrt{\\hat{p}_{pool}(1-\\hat{p}_{pool})\\left(\\frac{1}{n_1} + \\frac{1}{n_2}\\right)}$$\n",
    "\n",
    "This gives us the final formula for the z-statistic:\n",
    "\n",
    "$$z = \\frac{\\hat{p}_1 - \\hat{p}_2}{\\sqrt{\\hat{p}_{pool}(1-\\hat{p}_{pool})\\left(\\frac{1}{n_1} + \\frac{1}{n_2}\\right)}}$$\n",
    "\n",
    "### Implementation in Python\n",
    "\n",
    "You can perform a two-sample proportion test either by calculating the z-statistic manually or by using a dedicated function from a library like `statsmodels`.\n",
    "\n",
    "#### Manual Calculation\n",
    "\n",
    "Let's walk through the steps to calculate the z-statistic manually.\n",
    "\n",
    "```python\n",
    "import pandas as pd\n",
    "import numpy as np\n",
    "\n",
    "# Create a generic, reproducible dataset\n",
    "np.random.seed(42)\n",
    "df = pd.DataFrame({\n",
    "    'group': ['Group A'] * 200 + ['Group B'] * 300,\n",
    "    'outcome': np.concatenate([\n",
    "        np.random.choice(['Success', 'Failure'], 200, p=[0.85, 0.15]),\n",
    "        np.random.choice(['Success', 'Failure'], 300, p=[0.80, 0.20])\n",
    "    ])\n",
    "})\n",
    "\n",
    "# Step 1: Calculate sample statistics for each group\n",
    "p_hats = df.groupby('group')['outcome'].value_counts(normalize=True)\n",
    "n_counts = df.groupby('group').size()\n",
    "\n",
    "p_hat_A = p_hats.loc[('Group A', 'Success')]\n",
    "p_hat_B = p_hats.loc[('Group B', 'Success')]\n",
    "n_A = n_counts.loc['Group A']\n",
    "n_B = n_counts.loc['Group B']\n",
    "\n",
    "# Step 2: Calculate the pooled proportion \n",
    "num_successes = (p_hat_A * n_A) + (p_hat_B * n_B)\n",
    "total_size = n_A + n_B\n",
    "p_hat_pool = num_successes / total_size\n",
    "\n",
    "# Step 3: Calculate the standard error and z-statistic \n",
    "std_error = np.sqrt(p_hat_pool * (1 - p_hat_pool) * (1/n_A + 1/n_B))\n",
    "z_score_manual = (p_hat_A - p_hat_B) / std_error\n",
    "\n",
    "print(f\"p-hat for Group A: {p_hat_A:.4f}\")\n",
    "print(f\"p-hat for Group B: {p_hat_B:.4f}\")\n",
    "print(f\"Pooled p-hat: {p_hat_pool:.4f}\")\n",
    "print(f\"Z-score: {z_score_manual:.4f}\")\n",
    "```\n",
    "\n",
    "#### Using `statsmodels`\n",
    "\n",
    "The `statsmodels.stats.proportion.proportions_ztest` function provides a direct and convenient way to perform the test.\n",
    "\n",
    "```python\n",
    "from statsmodels.stats.proportion import proportions_ztest\n",
    "\n",
    "# The function needs the count of successes and the total number of observations for each group.\n",
    "count_successes = np.array([p_hat_A * n_A, p_hat_B * n_B])\n",
    "nobs = np.array([n_A, n_B])\n",
    "\n",
    "# Perform the z-test\n",
    "z_score_sm, p_value_sm = proportions_ztest(count=count_successes, nobs=nobs, alternative='two-sided')\n",
    "\n",
    "print(f\"Z-score: {z_score_sm:.4f}\")\n",
    "print(f\"P-value: {p_value_sm:.4f}\")\n",
    "```\n",
    "\n",
    "The z-score from the `statsmodels` function matches our manual calculation, confirming our understanding of the underlying formula. The function also directly provides the p-value, allowing us to immediately make a statistical decision about our hypothesis."
   ]
  },
  {
   "cell_type": "code",
   "execution_count": 44,
   "id": "7f99444b",
   "metadata": {},
   "outputs": [],
   "source": [
    "# Set the significance level (alpha) for the hypothesis test; this is the threshold for statistical significance (Type I error rate)\n",
    "alpha = 0.05\n",
    "\n",
    "# Calculate the proportion of respondents who are hobbyists within each age category\n",
    "p_hats = stack_overflow.groupby(\"age_cat\")[\"hobbyist\"].value_counts(normalize=True)\n",
    "\n",
    "# Calculate the sample size (number of respondents) in each age category\n",
    "n = stack_overflow.groupby(\"age_cat\")[\"hobbyist\"].count()\n",
    "\n",
    "# Extract the sample proportion of hobbyists (\"Yes\") in the \"At least 30\" age group\n",
    "p_hats_at_least_30 = p_hats[(\"At least 30\", \"Yes\")]\n",
    "\n",
    "# This is our point estimate for the proportion in the younger age group\n",
    "p_hats_under_30 = p_hats[(\"Under 30\", \"Yes\")]\n",
    "\n",
    "# Extract the sample size for the \"At least 30\" age group\n",
    "n_at_least_30 = n[\"At least 30\"]\n",
    "\n",
    "# Extract the sample size for the \"Under 30\" age group\n",
    "n_under_30 = n[\"Under 30\"]"
   ]
  },
  {
   "cell_type": "code",
   "execution_count": 45,
   "id": "cbc091d8",
   "metadata": {},
   "outputs": [
    {
     "name": "stdout",
     "output_type": "stream",
     "text": [
      "-4.223691463320559\n"
     ]
    }
   ],
   "source": [
    "# Calculate the pooled proportion of hobbyists across both age groups\n",
    "p_hat = (n_at_least_30 * p_hats_at_least_30 + n_under_30 * p_hats_under_30) / (\n",
    "    n_at_least_30 + n_under_30\n",
    ")\n",
    "\n",
    "# Calculate the standard error of the difference in proportions using the pooled proportion\n",
    "# Formula: sqrt(p_hat * (1 - p_hat) / n1 + p_hat * (1 - p_hat) / n2)\n",
    "std_error = np.sqrt(\n",
    "    p_hat * (1 - p_hat) / n_at_least_30 + p_hat * (1 - p_hat) / n_under_30\n",
    ")\n",
    "\n",
    "# Compute the z-score: standardized difference between sample proportions\n",
    "# Formula: (observed difference) / (standard error)\n",
    "z_score = (p_hats_at_least_30 - p_hats_under_30) / std_error\n",
    "\n",
    "# Print the calculated z-score; a large absolute value suggests a significant difference in proportions\n",
    "print(z_score)"
   ]
  },
  {
   "cell_type": "code",
   "execution_count": 46,
   "id": "fa8b7e90",
   "metadata": {},
   "outputs": [
    {
     "data": {
      "application/vnd.microsoft.datawrangler.viewer.v0+json": {
       "columns": [
        {
         "name": "('age_cat', 'hobbyist')",
         "rawType": "object",
         "type": "unknown"
        },
        {
         "name": "count",
         "rawType": "int64",
         "type": "integer"
        }
       ],
       "ref": "04d813aa-2747-400d-953f-59c2a6a7435b",
       "rows": [
        [
         "('At least 30', 'Yes')",
         "812"
        ],
        [
         "('At least 30', 'No')",
         "238"
        ],
        [
         "('Under 30', 'Yes')",
         "1021"
        ],
        [
         "('Under 30', 'No')",
         "190"
        ]
       ],
       "shape": {
        "columns": 1,
        "rows": 4
       }
      },
      "text/plain": [
       "age_cat      hobbyist\n",
       "At least 30  Yes          812\n",
       "             No           238\n",
       "Under 30     Yes         1021\n",
       "             No           190\n",
       "Name: count, dtype: int64"
      ]
     },
     "execution_count": 46,
     "metadata": {},
     "output_type": "execute_result"
    }
   ],
   "source": [
    "stack_overflow.groupby(\"age_cat\")[\"hobbyist\"].value_counts()"
   ]
  },
  {
   "cell_type": "code",
   "execution_count": 47,
   "id": "db63c4ba",
   "metadata": {},
   "outputs": [
    {
     "name": "stdout",
     "output_type": "stream",
     "text": [
      "2.403330142685068e-05 -4.223691463320559\n"
     ]
    }
   ],
   "source": [
    "from statsmodels.stats.proportion import proportions_ztest\n",
    "\n",
    "# Define the number of hobbyists (\"Yes\" responses) in each age group\n",
    "n_hobbyists = [812, 1021]\n",
    "\n",
    "# Define the total number of respondents in each age group (hobbyists + non-hobbyists)\n",
    "n_rows = [812 + 238, 1021 + 190]\n",
    "\n",
    "# Statistically: Tests H0: p1 = p2 vs. HA: p1 ≠ p2 (two-sided)\n",
    "# 'count' is the number of successes in each group, 'nobs' is the sample size for each group\n",
    "z_score, p_value = proportions_ztest(\n",
    "    count=n_hobbyists, nobs=n_rows, alternative=\"two-sided\"\n",
    ")\n",
    "\n",
    "# Interpretation: A small p-value (below alpha) suggests a significant difference in proportions between groups\n",
    "print(p_value, z_score)"
   ]
  },
  {
   "cell_type": "markdown",
   "id": "03e51b50",
   "metadata": {},
   "source": [
    "### Test of two proportions\n",
    "You may wonder if the amount paid for freight affects whether or not the shipment was late. Recall that in the `late_shipments` dataset, whether or not the shipment was late is stored in the late column. Freight costs are stored in the `freight_cost_group` column, and the categories are `\"expensive\"` and `\"reasonable\"`.\n",
    "\n",
    "The hypotheses to test, with \"late\" corresponding to the proportion of late shipments for that group, are\n",
    "\n",
    "\n",
    "$H_0:~ late_{\\text{expensive}} - late_{\\text{reasonable}} = 0$ <br>\n",
    "$H_A:~ late_{\\text{expensive}} - late_{\\text{reasonable}} > 0$\n",
    "\n"
   ]
  },
  {
   "cell_type": "code",
   "execution_count": 48,
   "id": "458d9102",
   "metadata": {},
   "outputs": [],
   "source": [
    "# Group the late_shipments DataFrame by freight cost group and calculate the proportion of late shipments (\"Yes\"/\"No\") in each group\n",
    "p_hats = late_shipments.groupby(\"freight_cost_groups\")[\"late\"].value_counts(\n",
    "    normalize=True\n",
    ")\n",
    "\n",
    "# Extract the sample proportion of late shipments (\"Yes\") for the \"expensive\" freight cost group\n",
    "p_hat_expensive = p_hats[(\"expensive\", \"Yes\")]\n",
    "\n",
    "# Extract the sample proportion of late shipments (\"Yes\") for the \"reasonable\" freight cost group\n",
    "p_hat_reasonable = p_hats[(\"reasonable\", \"Yes\")]\n",
    "\n",
    "# Calculate the sample size (number of shipments) in the \"expensive\" freight cost group\n",
    "n_expensive = len(late_shipments[late_shipments[\"freight_cost_groups\"] == \"expensive\"])\n",
    "\n",
    "# Calculate the sample size (number of shipments) in the \"reasonable\" freight cost group\n",
    "n_reasonable = len(\n",
    "    late_shipments[late_shipments[\"freight_cost_groups\"] == \"reasonable\"]\n",
    ")"
   ]
  },
  {
   "cell_type": "code",
   "execution_count": 49,
   "id": "49fbd8f2",
   "metadata": {},
   "outputs": [
    {
     "name": "stdout",
     "output_type": "stream",
     "text": [
      "0.058823529411764705\n"
     ]
    }
   ],
   "source": [
    "# Calculate the pooled sample proportion of late shipments across both freight cost groups\n",
    "# Statistically: This is the best estimate of the common population proportion under the null hypothesis (H0: proportions are equal)\n",
    "p_hat = (n_expensive * p_hat_expensive + n_reasonable * p_hat_reasonable) / (\n",
    "    n_expensive + n_reasonable\n",
    ")\n",
    "\n",
    "# Print the pooled proportion; this value is used to compute the standard error for the two-proportion z-test\n",
    "print(p_hat)"
   ]
  },
  {
   "cell_type": "markdown",
   "id": "b9b0658a",
   "metadata": {},
   "source": [
    "Calculate the standard error of the sample using this equation:\n",
    "\n",
    "\n",
    "\n",
    "$$\n",
    "\\mathrm{SE}\\bigl(\\hat p_{\\text{expensive}} - \\hat p_{\\text{reasonable}}\\bigr)\n",
    "=\n",
    "\\sqrt{\n",
    "  \\frac{\\hat p\\,\\bigl(1 - \\hat p\\bigr)}{n_{\\text{expensive}}}\n",
    "  +\n",
    "  \\frac{\\hat p\\,\\bigl(1 - \\hat p\\bigr)}{n_{\\text{reasonable}}}\n",
    "}\n",
    "$$\n"
   ]
  },
  {
   "cell_type": "code",
   "execution_count": 50,
   "id": "d82e555b",
   "metadata": {},
   "outputs": [],
   "source": [
    "# Calculate the first term of the standard error: pooled proportion times one minus pooled proportion, divided by the sample size of the \"expensive\" group\n",
    "p_hat_times_not_p_hat = p_hat * (1 - p_hat) / n_expensive\n",
    "\n",
    "# Calculate the second term of the standard error: pooled proportion times one minus pooled proportion, divided by the sample size of the \"reasonable\" group\n",
    "p_hat_times_not_p_hat_over_ns = p_hat * (1 - p_hat) / n_reasonable\n",
    "\n",
    "# Compute the standard error for the difference in proportions using the pooled estimate\n",
    "# Statistically: SE = sqrt[ p̂(1-p̂)/n_expensive + p̂(1-p̂)/n_reasonable ]\n",
    "std_error = np.sqrt(p_hat_times_not_p_hat + p_hat_times_not_p_hat_over_ns)"
   ]
  },
  {
   "cell_type": "markdown",
   "id": "36d8de2e",
   "metadata": {},
   "source": [
    "Calculate the z-score using the following equation:\n",
    "\n",
    "$$\n",
    "z \\;=\\;\n",
    "\\frac{\\hat p_{\\text{expensive}} \\;-\\; \\hat p_{\\text{reasonable}}}\n",
    "     {\\displaystyle \\mathrm{SE}\\bigl(\\hat p_{\\text{expensive}} - \\hat p_{\\text{reasonable}}\\bigr)}\n",
    "$$\n",
    "\n"
   ]
  },
  {
   "cell_type": "code",
   "execution_count": 51,
   "id": "11c6e83a",
   "metadata": {},
   "outputs": [
    {
     "name": "stdout",
     "output_type": "stream",
     "text": [
      "0.0017353400023595311\n"
     ]
    }
   ],
   "source": [
    "# Import the normal distribution CDF for p-value calculation\n",
    "from scipy.stats import norm\n",
    "\n",
    "# Calculate the z-score: standardized difference in proportions, tells us how many standard errors the observed difference is from zero\n",
    "z_score = (p_hat_expensive - p_hat_reasonable) / std_error\n",
    "\n",
    "# Calculate the p-value for a right-tailed test (H_A: late_expensive > late_reasonable); gives probability of observing a z this large or larger under H0\n",
    "p_value = 1 - norm.cdf(z_score)\n",
    "\n",
    "# Print the p-value; a small value (below alpha) suggests the proportion of late shipments is significantly higher for expensive freight\n",
    "print(p_value)"
   ]
  },
  {
   "cell_type": "markdown",
   "id": "7f314726",
   "metadata": {},
   "source": [
    "### proportions_ztest() for two samples\n",
    "That took a lot of effort to calculate the p-value, so while it is useful to see how the calculations work, it isn't practical to do in real-world analyses. For daily usage, it's better to use the `statsmodels` package.\n",
    "\n",
    "Recall the hypotheses.\n",
    "\n",
    "$H_0:~ late_{\\text{expensive}} - late_{\\text{reasonable}} = 0$ <br>\n",
    "$H_A:~ late_{\\text{expensive}} - late_{\\text{reasonable}} > 0$\n"
   ]
  },
  {
   "cell_type": "code",
   "execution_count": null,
   "id": "8d8da89c",
   "metadata": {},
   "outputs": [
    {
     "name": "stdout",
     "output_type": "stream",
     "text": [
      "z-score: 2.92265, p-value: 0.00174\n"
     ]
    },
    {
     "ename": "",
     "evalue": "",
     "output_type": "error",
     "traceback": [
      "\u001b[1;31mThe Kernel crashed while executing code in the current cell or a previous cell. \n",
      "\u001b[1;31mPlease review the code in the cell(s) to identify a possible cause of the failure. \n",
      "\u001b[1;31mClick <a href='https://aka.ms/vscodeJupyterKernelCrash'>here</a> for more info. \n",
      "\u001b[1;31mView Jupyter <a href='command:jupyter.viewOutput'>log</a> for further details."
     ]
    }
   ],
   "source": [
    "from statsmodels.stats.proportion import proportions_ztest\n",
    "\n",
    "# Build a contingency table: rows are freight cost groups, columns are late shipment status (\"Yes\"/\"No\")\n",
    "contingency = pd.crosstab(late_shipments[\"freight_cost_groups\"], late_shipments[\"late\"])\n",
    "\n",
    "# Extract the number of late shipments (\"Yes\") for each freight cost group as an array\n",
    "success_counts = contingency[\"Yes\"].to_numpy()\n",
    "\n",
    "# Extract the total number of shipments in each freight cost group (sum of \"Yes\" and \"No\")\n",
    "total_counts = contingency.sum(axis=1).to_numpy()\n",
    "\n",
    "# Run a one-sided (right-tailed) z-test for two proportions: H0: p_expensive = p_reasonable, HA: p_expensive > p_reasonable\n",
    "stat, p_value = proportions_ztest(\n",
    "    count=success_counts,\n",
    "    nobs=total_counts,\n",
    "    alternative=\"larger\",  # Specifies a right-tailed test (tests if first group > second group)\n",
    ")\n",
    "\n",
    "# Print the test statistic (z-score) and the p-value; a small p-value suggests a higher late rate for expensive freight\n",
    "print(f\"z-score: {stat:.5f}, p-value: {p_value:.5f}\")"
   ]
  },
  {
   "cell_type": "markdown",
   "id": "d8aa02da",
   "metadata": {},
   "source": [
    "## From Two Proportions to Two Categorical Variables\n",
    "\n",
    "A two-sample proportion test is used to compare a binary variable across two groups. This is, in fact, a special case of the more general chi-square test. A two-sample proportion test analyzes a 2x2 contingency table. The chi-square test of independence extends this analysis to contingency tables of any size (e.g., 2x5, 3x3, etc.), allowing us to test for an association between categorical variables with any number of levels.\n",
    "\n",
    "For a 2x2 table, the chi-square statistic ($\\chi^2$) is mathematically equivalent to the z-statistic squared ($z^2$) from the corresponding two-sample proportion test.\n",
    "\n",
    "\n",
    "### The Logic of the Chi-Square Test\n",
    "\n",
    "The test is built around the concept of **statistical independence**. Two categorical variables are considered independent if the distribution of proportions for one variable is the same across all categories of the other variable.\n",
    "\n",
    "#### Hypotheses\n",
    "\n",
    "  * **Null Hypothesis ($H_0$)**: The two categorical variables are **independent**. There is no association between them in the population.\n",
    "  * **Alternative Hypothesis ($H_A$)**: The two categorical variables are **not independent**. There is an association between them.\n",
    "\n",
    "The test statistic, denoted $\\chi^2$, quantifies how far the **observed counts** in your sample's contingency table are from the **expected counts** that you would see if the null hypothesis of independence were true. A large $\\chi^2$ value suggests a significant difference between observed and expected counts, providing evidence against the null hypothesis.\n",
    "\n",
    "#### Degrees of Freedom\n",
    "\n",
    "The shape of the chi-square distribution is determined by the **degrees of freedom (df)**, which for this test is calculated as:\n",
    "\n",
    "$$df = (\\text{Number of categories in variable 1} - 1) \\times (\\text{Number of categories in variable 2} - 1)$$\n",
    "\n",
    "\n",
    "### Exploratory Visualization\n",
    "\n",
    "Before performing the test, it is essential to visualize the relationship. A **proportional stacked bar chart** is an excellent tool for this. If the variables are independent, the proportions within each bar should be roughly identical. If the proportions differ significantly across the bars, it suggests an association between the variables.\n",
    "\n",
    "\n",
    "### Performing the Chi-Square Test in Python\n",
    "\n",
    "The `pingouin` library provides a convenient function, `chi2_independence()`, for performing this test. You must first install the library: `pip install pingouin`.\n",
    "\n",
    "The function returns the expected counts, observed counts, and a DataFrame of test statistics.\n",
    "\n",
    "#### Test Properties\n",
    "\n",
    "  * **Symmetry**: The test is symmetrical. The question is \"Are variable X and variable Y independent?\", not \"Is X independent from Y?\". Swapping the variables in the function will yield the same result.\n",
    "  * **Direction**: The chi-square test is almost always a **right-tailed test**. The test statistic is based on squared differences and is always non-negative. We are interested in whether this statistic is unusually large, which would indicate a significant deviation from what's expected under the null hypothesis.\n",
    "\n",
    "### A Complete Example\n",
    "\n",
    "**Scenario**: A company wants to know if there is an association between a customer's subscription tier (`Basic`, `Premium`, `Enterprise`) and their satisfaction level (`Satisfied`, `Neutral`, `Dissatisfied`).\n",
    "\n",
    "```python\n",
    "import pandas as pd\n",
    "import numpy as np\n",
    "import matplotlib.pyplot as plt\n",
    "import seaborn as sns\n",
    "import pingouin\n",
    "\n",
    "# 1. Create a generic, reproducible dataset\n",
    "np.random.seed(42)\n",
    "df = pd.DataFrame({\n",
    "    'tier': np.random.choice(['Basic', 'Premium', 'Enterprise'], 500, p=[0.5, 0.3, 0.2]),\n",
    "    'satisfaction': np.random.choice(['Satisfied', 'Neutral', 'Dissatisfied'], 500)\n",
    "})\n",
    "\n",
    "# To create an association, let's make Enterprise users more likely to be Satisfied\n",
    "is_enterprise = df['tier'] == 'Enterprise'\n",
    "df.loc[is_enterprise, 'satisfaction'] = np.random.choice(\n",
    "    ['Satisfied', 'Neutral', 'Dissatisfied'], \n",
    "    size=is_enterprise.sum(), \n",
    "    p=[0.7, 0.2, 0.1]\n",
    ")\n",
    "\n",
    "# 2. Visualize the relationship with a proportional stacked bar chart\n",
    "# Create a contingency table of proportions\n",
    "props = df.groupby('tier')['satisfaction'].value_counts(normalize=True).unstack()\n",
    "props = props.reset_index().melt(id_vars='tier', var_name='satisfaction', value_name='proportion')\n",
    "\n",
    "\n",
    "fig, ax = plt.subplots(figsize=(10, 6))\n",
    "sns.barplot(\n",
    "    data=props,\n",
    "    x='tier',\n",
    "    y='proportion',\n",
    "    hue='satisfaction',\n",
    "    ax=ax,\n",
    "    estimator=sum,\n",
    "    dodge=False\n",
    ")\n",
    "ax.set_title('Proportion of Satisfaction Levels by Subscription Tier')\n",
    "ax.set_ylabel('Proportion')\n",
    "ax.legend(title='Satisfaction')\n",
    "plt.show()\n",
    "\n",
    "# 3. Perform the Chi-Square Test\n",
    "expected, observed, stats = pingouin.chi2_independence(data=df, x='tier', y='satisfaction')\n",
    "\n",
    "print(\"Observed Counts\")\n",
    "print(observed)\n",
    "print(\"Expected Counts (if independent)\")\n",
    "print(expected)\n",
    "print(\" Chi-Square Test Statistics\")\n",
    "# We are typically interested in the 'pearson' test row\n",
    "print(stats[stats['test'] == 'pearson'])\n",
    "\n",
    "# 4. Interpret the results\n",
    "alpha = 0.05\n",
    "p_value = stats[stats['test'] == 'pearson']['pval'].iloc[0]\n",
    "\n",
    "if p_value < alpha:\n",
    "    print(f\"Decision: Reject H0, because p-value ({p_value:.4f}) < alpha ({alpha}).\")\n",
    "    print(\"There is a statistically significant association between subscription tier and satisfaction level.\")\n",
    "else:\n",
    "    print(f\"Decision: Fail to reject H0, because p-value ({p_value:.4f}) >= alpha ({alpha}).\")\n",
    "    print(\"There is not enough evidence to conclude an association exists.\")\n",
    "```\n",
    "\n",
    "The visualization shows different proportional breakdowns for each tier, and the very small p-value from the chi-square test confirms that this observed association is statistically significant and not likely due to random chance."
   ]
  },
  {
   "cell_type": "code",
   "execution_count": null,
   "id": "0e38b404",
   "metadata": {},
   "outputs": [],
   "source": []
  }
 ],
 "metadata": {
  "kernelspec": {
   "display_name": "datacamp",
   "language": "python",
   "name": "python3"
  },
  "language_info": {
   "codemirror_mode": {
    "name": "ipython",
    "version": 3
   },
   "file_extension": ".py",
   "mimetype": "text/x-python",
   "name": "python",
   "nbconvert_exporter": "python",
   "pygments_lexer": "ipython3",
   "version": "3.13.5"
  }
 },
 "nbformat": 4,
 "nbformat_minor": 5
}
