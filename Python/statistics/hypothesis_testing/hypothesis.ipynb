{
 "cells": [
  {
   "cell_type": "code",
   "execution_count": 226,
   "id": "b03d095b",
   "metadata": {},
   "outputs": [],
   "source": [
    "import matplotlib.pyplot as plt\n",
    "import numpy as np\n",
    "import pandas as pd\n",
    "import seaborn as sns"
   ]
  },
  {
   "cell_type": "markdown",
   "id": "9828e9c5",
   "metadata": {},
   "source": [
    "## The Framework of Hypothesis Testing\n",
    "\n",
    "Hypothesis testing is a core concept in inferential statistics. It provides a structured way to make decisions when faced with uncertainty. A common application is **A/B testing**, where a \"control\" group is compared to a \"treatment\" group to determine if a change had a real effect. The fundamental question is always the same: \"Is the difference I observed in my sample a real effect, or is it just a result of random sampling variability?\"\n",
    "\n",
    "The process begins with a **hypothesis** about a population parameter. For example, we might hypothesize that the mean annual compensation for a population of data scientists is $110,000.\n",
    "\n",
    "We then take a sample from that population and calculate a **point estimate** (the sample mean). If our sample mean is very close to the hypothesized mean, we have no reason to doubt the hypothesis. However, if our sample mean is very far from the hypothesized value, we might conclude that our initial hypothesis was wrong.\n",
    "\n",
    "\n",
    "### Using the Bootstrap Distribution to Estimate Variability\n",
    "\n",
    "To decide what constitutes \"far,\" we need to understand how much our sample mean is expected to vary by chance alone. The **standard error** quantifies this variability. As we've seen, we can estimate the standard error by generating a **bootstrap distribution** from our sample. The standard deviation of this bootstrap distribution is our best estimate of the standard error.\n",
    "\n",
    "```python\n",
    "import pandas as pd\n",
    "import numpy as np\n",
    "\n",
    "# Create a generic \"sample\" DataFrame\n",
    "np.random.seed(42)\n",
    "sample = pd.DataFrame({\n",
    "    'compensation': np.random.normal(loc=120000, scale=50000, size=500)\n",
    "})\n",
    "\n",
    "# Generate a bootstrap distribution of the sample mean\n",
    "bootstrap_dist = []\n",
    "for i in range(5000):\n",
    "    bootstrap_sample = sample.sample(frac=1, replace=True, random_state=i)\n",
    "    bootstrap_dist.append(bootstrap_sample['compensation'].mean())\n",
    "\n",
    "# The standard deviation of the bootstrap distribution is the standard error\n",
    "standard_error = np.std(bootstrap_dist, ddof=1)\n",
    "print(f\"Estimated Standard Error: {standard_error:.2f}\")\n",
    "```\n",
    "\n",
    "\n",
    "### The Z-Score: Standardizing the Difference\n",
    "\n",
    "The **z-score** is a standardized test statistic that reframes the difference between our sample statistic and the hypothesized parameter in units of standard errors. This allows us to assess how \"surprising\" our sample result is.\n",
    "\n",
    "The formula is:\n",
    "$$z = \\frac{\\text{Sample Statistic} - \\text{Hypothesized Parameter Value}}{\\text{Standard Error}}$$\n",
    "\n",
    "A z-score of 2.5 means our observed sample statistic is 2.5 standard errors away from the hypothesized value.\n",
    "\n",
    "```python\n",
    "# Calculate the z-score \n",
    "\n",
    "# Our hypothesis about the population\n",
    "hypothesized_mean = 110000\n",
    "\n",
    "# Our observed statistic from the sample\n",
    "sample_mean = sample['compensation'].mean()\n",
    "\n",
    "# Calculate the z-score\n",
    "z_score = (sample_mean - hypothesized_mean) / standard_error\n",
    "\n",
    "print(f\"Sample Mean: {sample_mean:.2f}\")\n",
    "print(f\"Hypothesized Mean: {hypothesized_mean}\")\n",
    "print(f\"Z-score: {z_score:.4f}\")\n",
    "```\n",
    "\n",
    "### Interpreting the Z-Score\n",
    "\n",
    "To determine if our z-score is large or small, we compare it to the **standard normal distribution**, which is a normal distribution with a mean of 0 and a standard deviation of 1. If our original hypothesis were true, we would expect our z-score to be a value that could plausibly come from this distribution (i.e., a value close to zero).\n",
    "\n",
    "A common threshold for statistical significance is a z-score whose absolute value is greater than **1.96**. This value corresponds to the middle 95% of the standard normal distribution. A z-score outside this range is considered unlikely to have occurred by random chance alone if the hypothesis were true.\n",
    "\n",
    "  * If `|z| > 1.96`, we typically **reject the hypothesis**. The evidence suggests the true population parameter is different from what was hypothesized.\n",
    "  * If `|z| ≤ 1.96`, we **fail to reject the hypothesis**. The observed difference is small enough that it could plausibly be due to random sampling variability.\n",
    "\n",
    "In our example, the calculated z-score is greater than 1.96, so we would reject the hypothesis that the true mean compensation is $110,000. Our sample provides strong evidence that the true mean is likely higher."
   ]
  },
  {
   "cell_type": "code",
   "execution_count": 227,
   "id": "18b4dc31",
   "metadata": {},
   "outputs": [
    {
     "data": {
      "application/vnd.microsoft.datawrangler.viewer.v0+json": {
       "columns": [
        {
         "name": "index",
         "rawType": "int64",
         "type": "integer"
        },
        {
         "name": "respondent",
         "rawType": "float64",
         "type": "float"
        },
        {
         "name": "main_branch",
         "rawType": "object",
         "type": "string"
        },
        {
         "name": "hobbyist",
         "rawType": "object",
         "type": "string"
        },
        {
         "name": "age",
         "rawType": "float64",
         "type": "float"
        },
        {
         "name": "age_1st_code",
         "rawType": "float64",
         "type": "float"
        },
        {
         "name": "age_first_code_cut",
         "rawType": "object",
         "type": "string"
        },
        {
         "name": "comp_freq",
         "rawType": "object",
         "type": "string"
        },
        {
         "name": "comp_total",
         "rawType": "float64",
         "type": "float"
        },
        {
         "name": "converted_comp",
         "rawType": "float64",
         "type": "float"
        },
        {
         "name": "country",
         "rawType": "object",
         "type": "string"
        },
        {
         "name": "currency_desc",
         "rawType": "object",
         "type": "string"
        },
        {
         "name": "currency_symbol",
         "rawType": "object",
         "type": "string"
        },
        {
         "name": "database_desire_next_year",
         "rawType": "object",
         "type": "unknown"
        },
        {
         "name": "database_worked_with",
         "rawType": "object",
         "type": "string"
        },
        {
         "name": "dev_type",
         "rawType": "object",
         "type": "string"
        },
        {
         "name": "ed_level",
         "rawType": "object",
         "type": "string"
        },
        {
         "name": "employment",
         "rawType": "object",
         "type": "string"
        },
        {
         "name": "ethnicity",
         "rawType": "object",
         "type": "string"
        },
        {
         "name": "gender",
         "rawType": "object",
         "type": "string"
        },
        {
         "name": "job_factors",
         "rawType": "object",
         "type": "string"
        },
        {
         "name": "job_sat",
         "rawType": "category",
         "type": "unknown"
        },
        {
         "name": "job_seek",
         "rawType": "object",
         "type": "string"
        },
        {
         "name": "language_desire_next_year",
         "rawType": "object",
         "type": "string"
        },
        {
         "name": "language_worked_with",
         "rawType": "object",
         "type": "string"
        },
        {
         "name": "misc_tech_desire_next_year",
         "rawType": "object",
         "type": "unknown"
        },
        {
         "name": "misc_tech_worked_with",
         "rawType": "object",
         "type": "string"
        },
        {
         "name": "new_collab_tools_desire_next_year",
         "rawType": "object",
         "type": "unknown"
        },
        {
         "name": "new_collab_tools_worked_with",
         "rawType": "object",
         "type": "string"
        },
        {
         "name": "new_dev_ops",
         "rawType": "object",
         "type": "string"
        },
        {
         "name": "new_dev_ops_impt",
         "rawType": "object",
         "type": "string"
        },
        {
         "name": "new_ed_impt",
         "rawType": "object",
         "type": "string"
        },
        {
         "name": "new_job_hunt",
         "rawType": "object",
         "type": "string"
        },
        {
         "name": "new_job_hunt_research",
         "rawType": "object",
         "type": "unknown"
        },
        {
         "name": "new_learn",
         "rawType": "object",
         "type": "string"
        },
        {
         "name": "new_off_topic",
         "rawType": "object",
         "type": "string"
        },
        {
         "name": "new_onboard_good",
         "rawType": "object",
         "type": "string"
        },
        {
         "name": "new_other_comms",
         "rawType": "object",
         "type": "string"
        },
        {
         "name": "new_overtime",
         "rawType": "object",
         "type": "string"
        },
        {
         "name": "new_purchase_research",
         "rawType": "object",
         "type": "unknown"
        },
        {
         "name": "purple_link",
         "rawType": "object",
         "type": "string"
        },
        {
         "name": "newso_sites",
         "rawType": "object",
         "type": "string"
        },
        {
         "name": "new_stuck",
         "rawType": "object",
         "type": "string"
        },
        {
         "name": "op_sys",
         "rawType": "object",
         "type": "string"
        },
        {
         "name": "org_size",
         "rawType": "object",
         "type": "string"
        },
        {
         "name": "platform_desire_next_year",
         "rawType": "object",
         "type": "string"
        },
        {
         "name": "platform_worked_with",
         "rawType": "object",
         "type": "unknown"
        },
        {
         "name": "purchase_what",
         "rawType": "object",
         "type": "string"
        },
        {
         "name": "sexuality",
         "rawType": "object",
         "type": "string"
        },
        {
         "name": "so_account",
         "rawType": "object",
         "type": "string"
        },
        {
         "name": "so_comm",
         "rawType": "object",
         "type": "string"
        },
        {
         "name": "so_part_freq",
         "rawType": "object",
         "type": "unknown"
        },
        {
         "name": "so_visit_freq",
         "rawType": "object",
         "type": "string"
        },
        {
         "name": "survey_ease",
         "rawType": "object",
         "type": "string"
        },
        {
         "name": "survey_length",
         "rawType": "object",
         "type": "string"
        },
        {
         "name": "trans",
         "rawType": "object",
         "type": "string"
        },
        {
         "name": "undergrad_major",
         "rawType": "object",
         "type": "unknown"
        },
        {
         "name": "webframe_desire_next_year",
         "rawType": "object",
         "type": "unknown"
        },
        {
         "name": "webframe_worked_with",
         "rawType": "object",
         "type": "unknown"
        },
        {
         "name": "welcome_change",
         "rawType": "object",
         "type": "string"
        },
        {
         "name": "work_week_hrs",
         "rawType": "float64",
         "type": "float"
        },
        {
         "name": "years_code",
         "rawType": "float64",
         "type": "float"
        },
        {
         "name": "years_code_pro",
         "rawType": "float64",
         "type": "float"
        },
        {
         "name": "age_cat",
         "rawType": "object",
         "type": "string"
        }
       ],
       "ref": "60e1a0fa-905b-4192-b6dd-99a441becb67",
       "rows": [
        [
         "0",
         "36.0",
         "I am not primarily a developer, but I write code sometimes as part of my work",
         "Yes",
         "34.0",
         "30.0",
         "adult",
         "Yearly",
         "60000.0",
         "77556.0",
         "United Kingdom",
         "Pound sterling",
         "GBP",
         "Microsoft SQL Server;MongoDB;SQLite",
         "IBM DB2;Microsoft SQL Server;MongoDB;SQLite",
         "Data or business analyst;Data scientist or machine learning specialist",
         "Some college/university study without earning a degree",
         "Employed full-time",
         "White or of European descent",
         "Man",
         "Flex time or a flexible schedule;Office environment or company culture;Opportunities for professional development",
         "Slightly satisfied",
         "I’m not actively looking, but I am open to new opportunities",
         "C#;Go;HTML/CSS;JavaScript;Python;SQL",
         "C#;Go;HTML/CSS;Java;JavaScript;Python;R;SQL",
         "Keras;Node.js;Pandas;TensorFlow",
         "Node.js;Pandas",
         "Confluence;Jira;Github;Slack;Trello",
         "Confluence;Jira;Github;Slack;Trello",
         "Not sure",
         "Neutral",
         "Somewhat important",
         "Having a bad day (or week or month) at work;Curious about other opportunities;Wanting to work with new technologies;Growth or leadership opportunities",
         null,
         "Every few months",
         "No",
         "Yes",
         "No",
         "Sometimes: 1-2 days per month but less than weekly",
         null,
         "Hello, old friend",
         "Stack Overflow (public Q&A for anyone who codes);Stack Exchange (public Q&A for a variety of topics)",
         "Visit Stack Overflow;Go for a walk or other physical activity;Watch help / tutorial videos;Do other work and come back later",
         "Windows",
         "1,000 to 4,999 employees",
         "Linux;MacOS;Windows",
         "MacOS;Windows",
         "I have little or no influence",
         "Straight / Heterosexual",
         "Yes",
         "Yes, somewhat",
         "Less than once per month or monthly",
         "Multiple times per day",
         "Easy",
         "Appropriate in length",
         "No",
         "Computer science, computer engineering, or software engineering",
         "Express;React.js",
         "Express;React.js",
         "Just as welcome now as I felt last year",
         "40.0",
         "4.0",
         "3.0",
         "At least 30"
        ],
        [
         "1",
         "47.0",
         "I am a developer by profession",
         "Yes",
         "53.0",
         "10.0",
         "child",
         "Yearly",
         "58000.0",
         "74970.0",
         "United Kingdom",
         "Pound sterling",
         "GBP",
         "PostgreSQL;SQLite",
         "Microsoft SQL Server;Oracle;PostgreSQL;SQLite",
         "Data scientist or machine learning specialist;Developer, back-end;Developer, QA or test;Engineer, data;Scientist",
         "Other doctoral degree (Ph.D., Ed.D., etc.)",
         "Employed full-time",
         "White or of European descent",
         "Man",
         "Remote work options;How widely used or impactful my work output would be;Opportunities for professional development",
         "Very satisfied",
         "I’m not actively looking, but I am open to new opportunities",
         "Bash/Shell/PowerShell;Java;Python;SQL",
         "Bash/Shell/PowerShell;C#;Java;JavaScript;Python;Ruby;SQL",
         "Pandas",
         ".NET;.NET Core",
         "Github;Gitlab",
         "Confluence;Jira;Github;Gitlab;Microsoft Azure;Google Suite (Docs, Meet, etc)",
         "Yes",
         "Neutral",
         "Not at all important/not necessary",
         "Just because;Having a bad day (or week or month) at work;Curious about other opportunities;Wanting to work with new technologies;Looking to relocate",
         "Read company media, such as employee blogs or company culture videos;Company reviews from third party sites (e.g. Glassdoor, Blind);Personal network - friends or family;Directly asking current or past employees at the company",
         "Once a year",
         "No",
         "Onboarding? What onboarding?",
         "Yes",
         "Occasionally: 1-2 days per quarter but less than monthly",
         "Start a free trial;Ask developers I know/work with;Visit developer communities like Stack Overflow",
         "Hello, old friend",
         "Stack Overflow (public Q&A for anyone who codes);Stack Exchange (public Q&A for a variety of topics);Stack Overflow Jobs (for job seekers)",
         "Call a coworker or friend;Visit Stack Overflow;Go for a walk or other physical activity;Do other work and come back later",
         "Linux-based",
         "10 to 19 employees",
         "Arduino;Docker;Linux;Raspberry Pi",
         "Arduino;AWS;Linux;Microsoft Azure;Raspberry Pi",
         "I have some influence",
         "Straight / Heterosexual",
         "Yes",
         "Yes, definitely",
         "A few times per week",
         "A few times per week",
         "Neither easy nor difficult",
         "Appropriate in length",
         "No",
         "A natural science (such as biology, chemistry, physics, etc.)",
         "Flask;Spring",
         "Flask;Spring",
         "Just as welcome now as I felt last year",
         "40.0",
         "43.0",
         "28.0",
         "At least 30"
        ],
        [
         "2",
         "69.0",
         "I am a developer by profession",
         "Yes",
         "25.0",
         "12.0",
         "child",
         "Yearly",
         "550000.0",
         "594539.0",
         "France",
         "European Euro",
         "EUR",
         "PostgreSQL",
         "MongoDB",
         "Data scientist or machine learning specialist;Database administrator;Developer, back-end;Developer, full-stack;Engineer, data",
         "Master’s degree (M.A., M.S., M.Eng., MBA, etc.)",
         "Employed full-time",
         "White or of European descent",
         "Man",
         "Flex time or a flexible schedule;How widely used or impactful my work output would be;Opportunities for professional development",
         "Very satisfied",
         "I am not interested in new job opportunities",
         "Python;Rust;Scala;SQL",
         "HTML/CSS;Python",
         "Keras;Pandas;TensorFlow",
         "Keras;Pandas;TensorFlow",
         "Github;Slack;Google Suite (Docs, Meet, etc)",
         "Confluence;Jira;Github;Slack;Google Suite (Docs, Meet, etc)",
         "Yes",
         "Extremely important",
         "Very important",
         "Curious about other opportunities;Better compensation;Trouble with leadership at my company;Wanting to work with new technologies;Growth or leadership opportunities;Looking to relocate",
         "Read company media, such as employee blogs or company culture videos;Personal network - friends or family;Read other media like news articles, founder profiles, etc. about the company;Directly asking current or past employees at the company",
         "Once a year",
         "No",
         "No",
         "No",
         "Sometimes: 1-2 days per month but less than weekly",
         "Ask developers I know/work with;Visit developer communities like Stack Overflow",
         "Hello, old friend",
         "Stack Overflow (public Q&A for anyone who codes);Stack Exchange (public Q&A for a variety of topics)",
         "Call a coworker or friend;Visit Stack Overflow;Go for a walk or other physical activity;Watch help / tutorial videos;Do other work and come back later",
         "MacOS",
         "20 to 99 employees",
         "Kubernetes;Linux",
         "Linux;Microsoft Azure",
         "I have some influence",
         "Bisexual",
         "Yes",
         "Yes, somewhat",
         "A few times per month or weekly",
         "A few times per week",
         "Easy",
         "Too short",
         "No",
         "Computer science, computer engineering, or software engineering",
         "Django;Flask",
         "Django;Flask",
         "Just as welcome now as I felt last year",
         "40.0",
         "13.0",
         "3.0",
         "Under 30"
        ],
        [
         "3",
         "125.0",
         "I am not primarily a developer, but I write code sometimes as part of my work",
         "Yes",
         "41.0",
         "30.0",
         "adult",
         "Monthly",
         "200000.0",
         "2000000.0",
         "United States",
         "United States dollar",
         "USD",
         "PostgreSQL",
         "PostgreSQL",
         "Data scientist or machine learning specialist;Scientist",
         "Other doctoral degree (Ph.D., Ed.D., etc.)",
         "Employed full-time",
         "White or of European descent",
         "Man",
         "Flex time or a flexible schedule;Family friendliness",
         "Very satisfied",
         "I am not interested in new job opportunities",
         "Python",
         "Python;SQL",
         "Keras;Pandas;TensorFlow;Torch/PyTorch",
         "Keras;Pandas;TensorFlow",
         "Jira",
         "Jira",
         "Not sure",
         "Neutral",
         "Critically important",
         "Better work/life balance",
         "Personal network - friends or family;Directly asking current or past employees at the company",
         "Once every few years",
         "No",
         "Yes",
         "No",
         "Occasionally: 1-2 days per quarter but less than monthly",
         null,
         "Amused",
         "Stack Overflow (public Q&A for anyone who codes);Stack Exchange (public Q&A for a variety of topics)",
         "Visit Stack Overflow;Go for a walk or other physical activity;Watch help / tutorial videos;Visit another developer community (please name):",
         "Windows",
         "5,000 to 9,999 employees",
         "Docker;Kubernetes",
         "Docker",
         "I have little or no influence",
         "Straight / Heterosexual",
         "Not sure/can't remember",
         "No, not really",
         null,
         "Multiple times per day",
         "Easy",
         "Appropriate in length",
         "No",
         null,
         null,
         null,
         "Just as welcome now as I felt last year",
         "40.0",
         "11.0",
         "11.0",
         "At least 30"
        ],
        [
         "4",
         "147.0",
         "I am not primarily a developer, but I write code sometimes as part of my work",
         "No",
         "28.0",
         "15.0",
         "adult",
         "Yearly",
         "50000.0",
         "37816.0",
         "Canada",
         "Canadian dollar",
         "CAD",
         null,
         "MariaDB",
         "Data scientist or machine learning specialist;Database administrator;Designer;Developer, back-end;Developer, front-end;Developer, full-stack",
         "Bachelor’s degree (B.A., B.S., B.Eng., etc.)",
         "Employed full-time",
         "White or of European descent",
         "Man",
         "Diversity of the company or organization;Flex time or a flexible schedule;Office environment or company culture",
         "Very satisfied",
         "I am not interested in new job opportunities",
         "Rust",
         "HTML/CSS;JavaScript;Python;TypeScript",
         null,
         "Node.js;Pandas",
         null,
         "Github;Slack",
         "No",
         "Somewhat important",
         "Very important",
         "Curious about other opportunities;Wanting to work with new technologies;Growth or leadership opportunities",
         "Read company media, such as employee blogs or company culture videos;Personal network - friends or family",
         "Once a year",
         "No",
         "Onboarding? What onboarding?",
         "Yes",
         "Rarely: 1-2 days per year or less",
         "Start a free trial;Ask developers I know/work with;Visit developer communities like Stack Overflow",
         "Hello, old friend",
         "Stack Overflow (public Q&A for anyone who codes);Stack Exchange (public Q&A for a variety of topics)",
         "Play games;Call a coworker or friend;Visit Stack Overflow;Go for a walk or other physical activity;Visit another developer community (please name):",
         "Windows",
         "2 to 9 employees",
         "Docker;Kubernetes",
         null,
         "I have some influence",
         "Straight / Heterosexual",
         "Yes",
         "Yes, somewhat",
         "A few times per month or weekly",
         "Daily or almost daily",
         "Easy",
         "Appropriate in length",
         "No",
         "Another engineering discipline (such as civil, electrical, mechanical, etc.)",
         null,
         "Express;Flask",
         "Just as welcome now as I felt last year",
         "40.0",
         "5.0",
         "3.0",
         "Under 30"
        ]
       ],
       "shape": {
        "columns": 63,
        "rows": 5
       }
      },
      "text/html": [
       "<div>\n",
       "<style scoped>\n",
       "    .dataframe tbody tr th:only-of-type {\n",
       "        vertical-align: middle;\n",
       "    }\n",
       "\n",
       "    .dataframe tbody tr th {\n",
       "        vertical-align: top;\n",
       "    }\n",
       "\n",
       "    .dataframe thead th {\n",
       "        text-align: right;\n",
       "    }\n",
       "</style>\n",
       "<table border=\"1\" class=\"dataframe\">\n",
       "  <thead>\n",
       "    <tr style=\"text-align: right;\">\n",
       "      <th></th>\n",
       "      <th>respondent</th>\n",
       "      <th>main_branch</th>\n",
       "      <th>hobbyist</th>\n",
       "      <th>age</th>\n",
       "      <th>age_1st_code</th>\n",
       "      <th>age_first_code_cut</th>\n",
       "      <th>comp_freq</th>\n",
       "      <th>comp_total</th>\n",
       "      <th>converted_comp</th>\n",
       "      <th>country</th>\n",
       "      <th>...</th>\n",
       "      <th>survey_length</th>\n",
       "      <th>trans</th>\n",
       "      <th>undergrad_major</th>\n",
       "      <th>webframe_desire_next_year</th>\n",
       "      <th>webframe_worked_with</th>\n",
       "      <th>welcome_change</th>\n",
       "      <th>work_week_hrs</th>\n",
       "      <th>years_code</th>\n",
       "      <th>years_code_pro</th>\n",
       "      <th>age_cat</th>\n",
       "    </tr>\n",
       "  </thead>\n",
       "  <tbody>\n",
       "    <tr>\n",
       "      <th>0</th>\n",
       "      <td>36.0</td>\n",
       "      <td>I am not primarily a developer, but I write co...</td>\n",
       "      <td>Yes</td>\n",
       "      <td>34.0</td>\n",
       "      <td>30.0</td>\n",
       "      <td>adult</td>\n",
       "      <td>Yearly</td>\n",
       "      <td>60000.0</td>\n",
       "      <td>77556.0</td>\n",
       "      <td>United Kingdom</td>\n",
       "      <td>...</td>\n",
       "      <td>Appropriate in length</td>\n",
       "      <td>No</td>\n",
       "      <td>Computer science, computer engineering, or sof...</td>\n",
       "      <td>Express;React.js</td>\n",
       "      <td>Express;React.js</td>\n",
       "      <td>Just as welcome now as I felt last year</td>\n",
       "      <td>40.0</td>\n",
       "      <td>4.0</td>\n",
       "      <td>3.0</td>\n",
       "      <td>At least 30</td>\n",
       "    </tr>\n",
       "    <tr>\n",
       "      <th>1</th>\n",
       "      <td>47.0</td>\n",
       "      <td>I am a developer by profession</td>\n",
       "      <td>Yes</td>\n",
       "      <td>53.0</td>\n",
       "      <td>10.0</td>\n",
       "      <td>child</td>\n",
       "      <td>Yearly</td>\n",
       "      <td>58000.0</td>\n",
       "      <td>74970.0</td>\n",
       "      <td>United Kingdom</td>\n",
       "      <td>...</td>\n",
       "      <td>Appropriate in length</td>\n",
       "      <td>No</td>\n",
       "      <td>A natural science (such as biology, chemistry,...</td>\n",
       "      <td>Flask;Spring</td>\n",
       "      <td>Flask;Spring</td>\n",
       "      <td>Just as welcome now as I felt last year</td>\n",
       "      <td>40.0</td>\n",
       "      <td>43.0</td>\n",
       "      <td>28.0</td>\n",
       "      <td>At least 30</td>\n",
       "    </tr>\n",
       "    <tr>\n",
       "      <th>2</th>\n",
       "      <td>69.0</td>\n",
       "      <td>I am a developer by profession</td>\n",
       "      <td>Yes</td>\n",
       "      <td>25.0</td>\n",
       "      <td>12.0</td>\n",
       "      <td>child</td>\n",
       "      <td>Yearly</td>\n",
       "      <td>550000.0</td>\n",
       "      <td>594539.0</td>\n",
       "      <td>France</td>\n",
       "      <td>...</td>\n",
       "      <td>Too short</td>\n",
       "      <td>No</td>\n",
       "      <td>Computer science, computer engineering, or sof...</td>\n",
       "      <td>Django;Flask</td>\n",
       "      <td>Django;Flask</td>\n",
       "      <td>Just as welcome now as I felt last year</td>\n",
       "      <td>40.0</td>\n",
       "      <td>13.0</td>\n",
       "      <td>3.0</td>\n",
       "      <td>Under 30</td>\n",
       "    </tr>\n",
       "    <tr>\n",
       "      <th>3</th>\n",
       "      <td>125.0</td>\n",
       "      <td>I am not primarily a developer, but I write co...</td>\n",
       "      <td>Yes</td>\n",
       "      <td>41.0</td>\n",
       "      <td>30.0</td>\n",
       "      <td>adult</td>\n",
       "      <td>Monthly</td>\n",
       "      <td>200000.0</td>\n",
       "      <td>2000000.0</td>\n",
       "      <td>United States</td>\n",
       "      <td>...</td>\n",
       "      <td>Appropriate in length</td>\n",
       "      <td>No</td>\n",
       "      <td>None</td>\n",
       "      <td>None</td>\n",
       "      <td>None</td>\n",
       "      <td>Just as welcome now as I felt last year</td>\n",
       "      <td>40.0</td>\n",
       "      <td>11.0</td>\n",
       "      <td>11.0</td>\n",
       "      <td>At least 30</td>\n",
       "    </tr>\n",
       "    <tr>\n",
       "      <th>4</th>\n",
       "      <td>147.0</td>\n",
       "      <td>I am not primarily a developer, but I write co...</td>\n",
       "      <td>No</td>\n",
       "      <td>28.0</td>\n",
       "      <td>15.0</td>\n",
       "      <td>adult</td>\n",
       "      <td>Yearly</td>\n",
       "      <td>50000.0</td>\n",
       "      <td>37816.0</td>\n",
       "      <td>Canada</td>\n",
       "      <td>...</td>\n",
       "      <td>Appropriate in length</td>\n",
       "      <td>No</td>\n",
       "      <td>Another engineering discipline (such as civil,...</td>\n",
       "      <td>None</td>\n",
       "      <td>Express;Flask</td>\n",
       "      <td>Just as welcome now as I felt last year</td>\n",
       "      <td>40.0</td>\n",
       "      <td>5.0</td>\n",
       "      <td>3.0</td>\n",
       "      <td>Under 30</td>\n",
       "    </tr>\n",
       "  </tbody>\n",
       "</table>\n",
       "<p>5 rows × 63 columns</p>\n",
       "</div>"
      ],
      "text/plain": [
       "   respondent                                        main_branch hobbyist  \\\n",
       "0        36.0  I am not primarily a developer, but I write co...      Yes   \n",
       "1        47.0                     I am a developer by profession      Yes   \n",
       "2        69.0                     I am a developer by profession      Yes   \n",
       "3       125.0  I am not primarily a developer, but I write co...      Yes   \n",
       "4       147.0  I am not primarily a developer, but I write co...       No   \n",
       "\n",
       "    age  age_1st_code age_first_code_cut comp_freq  comp_total  \\\n",
       "0  34.0          30.0              adult    Yearly     60000.0   \n",
       "1  53.0          10.0              child    Yearly     58000.0   \n",
       "2  25.0          12.0              child    Yearly    550000.0   \n",
       "3  41.0          30.0              adult   Monthly    200000.0   \n",
       "4  28.0          15.0              adult    Yearly     50000.0   \n",
       "\n",
       "   converted_comp         country  ...          survey_length trans  \\\n",
       "0         77556.0  United Kingdom  ...  Appropriate in length    No   \n",
       "1         74970.0  United Kingdom  ...  Appropriate in length    No   \n",
       "2        594539.0          France  ...              Too short    No   \n",
       "3       2000000.0   United States  ...  Appropriate in length    No   \n",
       "4         37816.0          Canada  ...  Appropriate in length    No   \n",
       "\n",
       "                                     undergrad_major  \\\n",
       "0  Computer science, computer engineering, or sof...   \n",
       "1  A natural science (such as biology, chemistry,...   \n",
       "2  Computer science, computer engineering, or sof...   \n",
       "3                                               None   \n",
       "4  Another engineering discipline (such as civil,...   \n",
       "\n",
       "  webframe_desire_next_year webframe_worked_with  \\\n",
       "0          Express;React.js     Express;React.js   \n",
       "1              Flask;Spring         Flask;Spring   \n",
       "2              Django;Flask         Django;Flask   \n",
       "3                      None                 None   \n",
       "4                      None        Express;Flask   \n",
       "\n",
       "                            welcome_change work_week_hrs years_code  \\\n",
       "0  Just as welcome now as I felt last year          40.0        4.0   \n",
       "1  Just as welcome now as I felt last year          40.0       43.0   \n",
       "2  Just as welcome now as I felt last year          40.0       13.0   \n",
       "3  Just as welcome now as I felt last year          40.0       11.0   \n",
       "4  Just as welcome now as I felt last year          40.0        5.0   \n",
       "\n",
       "  years_code_pro      age_cat  \n",
       "0            3.0  At least 30  \n",
       "1           28.0  At least 30  \n",
       "2            3.0     Under 30  \n",
       "3           11.0  At least 30  \n",
       "4            3.0     Under 30  \n",
       "\n",
       "[5 rows x 63 columns]"
      ]
     },
     "execution_count": 227,
     "metadata": {},
     "output_type": "execute_result"
    }
   ],
   "source": [
    "url = \"https://assets.datacamp.com/production/repositories/5982/datasets/c59033b93930652f402e30db77c3b8ef713dd701/stack_overflow.feather\"\n",
    "stack_overflow = pd.read_feather(url)\n",
    "stack_overflow.head()"
   ]
  },
  {
   "cell_type": "markdown",
   "id": "aa4c270a",
   "metadata": {},
   "source": [
    "### Hypothesizing about the mean\n",
    "A hypothesis:\n",
    "> The mean annual compensation of the population of data scientists is $110,000"
   ]
  },
  {
   "cell_type": "code",
   "execution_count": 228,
   "id": "9876cd62",
   "metadata": {},
   "outputs": [
    {
     "name": "stdout",
     "output_type": "stream",
     "text": [
      "119574.71738168952\n"
     ]
    }
   ],
   "source": [
    "mean_comp_samp = stack_overflow[\"converted_comp\"].mean()\n",
    "print(mean_comp_samp)"
   ]
  },
  {
   "cell_type": "markdown",
   "id": "1efbe8c0",
   "metadata": {},
   "source": [
    "The result is different from our hypothesis, but is it meaningfully different? To answer this, we need to generate a bootstrap distribution of sample means. This is done by resampling the dataset, calculating the sample mean for that resample, then repeating those steps to create a list of sample means."
   ]
  },
  {
   "cell_type": "code",
   "execution_count": 229,
   "id": "8af77df7",
   "metadata": {},
   "outputs": [],
   "source": [
    "# Generating a bootstrap distribution\n",
    "# This simulates the sampling distribution of the mean compensation by repeatedly resampling (with replacement)\n",
    "# from the stack_overflow dataset and calculating the mean for each resample.\n",
    "so_boot_distn = [\n",
    "    np.mean(stack_overflow.sample(frac=1, replace=True)[\"converted_comp\"])\n",
    "    for _ in range(5000)\n",
    "]"
   ]
  },
  {
   "cell_type": "code",
   "execution_count": 230,
   "id": "332cc8c2",
   "metadata": {},
   "outputs": [
    {
     "data": {
      "image/png": "[encoded data removed]",
      "text/plain": [
       "<Figure size 770x550 with 1 Axes>"
      ]
     },
     "metadata": {},
     "output_type": "display_data"
    }
   ],
   "source": [
    "# Plotting the bootstrap distribution of sample means for compensation\n",
    "fig, ax = plt.subplots(figsize=(7, 5), dpi=110)\n",
    "\n",
    "# Plot a histogram of the bootstrap sample means\n",
    "sns.histplot(so_boot_distn, bins=50, ax=ax, color=\"steelblue\", edgecolor=\"black\")\n",
    "sns.despine()\n",
    "\n",
    "# Set axis labels and title\n",
    "ax.set(\n",
    "    xlabel=\"Bootstrap Sample Means (Compensation)\",\n",
    "    ylabel=\"Frequency\",\n",
    "    title=\"Bootstrap Distribution of Mean Compensation\",\n",
    ")\n",
    "\n",
    "# Add gridlines\n",
    "ax.grid(True, alpha=0.5, linewidth=0.8, color=\"grey\")\n",
    "ax.set_axisbelow(True)\n",
    "\n",
    "plt.tight_layout()\n",
    "plt.show()"
   ]
  },
  {
   "cell_type": "markdown",
   "id": "6c1c8b73",
   "metadata": {},
   "source": [
    "### 1. Bootstrap Standard Error ($SE_{\\text{boot}}$)\n",
    "\n",
    "**Definition**: The bootstrap SE is an empirical estimate of the standard deviation of the sampling distribution of $\\hat p$, obtained by repeatedly resampling the original data with replacement and computing the variability of the resampled proportions. It approximates the SE without assuming a specific parametric form. This method, introduced by Bradley Efron in 1979, uses computation to mimic sampling from the population by treating the sample as a proxy for the population.\n",
    "\n",
    "**Formula**:\n",
    "\n",
    "$$\n",
    "SE_{\\text{boot}}\n",
    "= \\sqrt{\\frac{1}{B-1}\\sum_{b=1}^{B}\\big(\\hat p_b^{*}-\\bar{\\hat p}^{*}\\big)^{2}},\n",
    "\\qquad\n",
    "\\bar{\\hat p}^{*}=\\frac{1}{B}\\sum_{b=1}^{B}\\hat p_b^{*}.\n",
    "$$\n",
    "\n",
    "**Calculation Steps**:\n",
    "\n",
    "1. Start with your sample data (e.g., a vector of $n$ binary outcomes).\n",
    "2. For each of $B$ replicates:\n",
    "   * Draw a bootstrap sample: randomly select $n$ observations with replacement.\n",
    "   * Compute the proportion $\\hat p_b^{*}$ in that sample.\n",
    "3. Compute the sample standard deviation of the $B$ values $\\{\\hat p_b^{*}\\}_{b=1}^{B}$ using the divisor $B-1$.\n",
    "\n",
    "**When to Use**:\n",
    "\n",
    "* When a nonparametric estimate is preferred that does not assume normality or a binomial model; useful for small samples, skewed data, or for validating parametric SEs.\n",
    "* Commonly used for confidence intervals (e.g., percentile bootstrap CI) or as a check against $SE_{\\hat p}$.\n",
    "* Avoid when $n$ is very small (e.g., $<20$–$30$), because bootstrap may underestimate variability; also avoid if computation is severely constrained.\n",
    "\n",
    "\n",
    "\n"
   ]
  },
  {
   "cell_type": "code",
   "execution_count": 231,
   "id": "766f6beb",
   "metadata": {},
   "outputs": [
    {
     "name": "stdout",
     "output_type": "stream",
     "text": [
      "Bootstrap SE: 0.0151\n"
     ]
    }
   ],
   "source": [
    "# Set the random seed for reproducibility of random numbers\n",
    "np.random.seed(42)\n",
    "\n",
    "# Simulate 1000 Bernoulli trials with success probability 0.4; returns 1 for success, 0 for failure\n",
    "is_success = np.random.binomial(1, 0.4, 1000)\n",
    "\n",
    "# Calculate the sample size (number of trials)\n",
    "n = is_success.size\n",
    "\n",
    "# Number of bootstrap samples to generate\n",
    "B = 1000\n",
    "\n",
    "# Generate bootstrap indices: random sampling with replacement, creating B resamples of size n\n",
    "boot_indices = np.random.choice(n, size=(B, n), replace=True)\n",
    "\n",
    "# Calculate the proportion of successes for each bootstrap sample\n",
    "boot_proportions = is_success[boot_indices].mean(axis=1)\n",
    "\n",
    "# Calculate the bootstrap standard error (SE): standard deviation of bootstrap proportions\n",
    "SE_boot = boot_proportions.std(ddof=1)\n",
    "\n",
    "# Print the bootstrap standard error rounded to 4 decimal places\n",
    "print(f\"Bootstrap SE: {SE_boot:.4f}\")"
   ]
  },
  {
   "cell_type": "markdown",
   "id": "eeb973d7",
   "metadata": {},
   "source": [
    "**Notes**:\n",
    "\n",
    "* Pros: Flexible, minimal assumptions; handles complex statistics beyond proportions.\n",
    "* Cons: Computationally heavier than a closed-form plug-in; may be biased in very small samples.\n",
    "* Pedagogical point: If $SE_{\\text{boot}}$ aligns with $SE_{\\hat p}$, that supports the usual normal approximation in your setting."
   ]
  },
  {
   "cell_type": "markdown",
   "id": "0714c0a0",
   "metadata": {},
   "source": [
    "\n",
    "\n",
    "### 2. Plug-in (Estimated) Standard Error ($SE_{\\hat p}$)\n",
    "\n",
    "**Definition**: The plug-in (asymptotic) SE is a parametric estimate derived from the variance of the binomial proportion under a normal approximation. It plugs in the sample proportion $\\hat p$ into the theoretical formula, assuming a binomial model.\n",
    "\n",
    "**Formula**:\n",
    "\n",
    "$$\n",
    "SE_{\\hat p}=\\sqrt{\\frac{\\hat p(1-\\hat p)}{n}}, \\qquad \\hat p=\\frac{1}{n}\\sum_{i=1}^{n} y_i.\n",
    "$$\n",
    "\n",
    "**Calculation Steps**:\n",
    "\n",
    "1. Compute the sample proportion $\\hat p$.\n",
    "2. Evaluate $\\sqrt{\\hat p(1-\\hat p)/n}$.\n",
    "\n",
    "**When to Use**:\n",
    "\n",
    "* For quick estimation of variability and for constructing standard Wald-type confidence intervals: $\\hat p \\pm z^{*}SE_{\\hat p}$ (e.g., $z^{*}\\approx 1.96$ for 95%).\n",
    "* Requires large-sample conditions such as $n\\hat p \\ge 10$ and $n(1-\\hat p)\\ge 10$."
   ]
  },
  {
   "cell_type": "code",
   "execution_count": 232,
   "id": "4a12df3f",
   "metadata": {},
   "outputs": [
    {
     "name": "stdout",
     "output_type": "stream",
     "text": [
      "Plug-in SE: 0.0154\n"
     ]
    }
   ],
   "source": [
    "# Set the random seed for reproducibility of random numbers\n",
    "np.random.seed(42)\n",
    "\n",
    "# Simulate 1000 Bernoulli trials with success probability 0.4; returns 1 for success, 0 for failure\n",
    "is_success = np.random.binomial(1, 0.4, 1000)\n",
    "\n",
    "# Calculate the sample size (number of trials)\n",
    "n = is_success.size\n",
    "\n",
    "# Calculate the sample proportion of successes (p̂ = x/n)\n",
    "p_hat = is_success.mean()\n",
    "\n",
    "# Calculate the plug-in standard error (SE) for the sample proportion\n",
    "# Formula: SE(p̂) = sqrt(p̂ * (1 - p̂) / n), where p̂ is the sample proportion\n",
    "SE_hat = np.sqrt(p_hat * (1 - p_hat) / n)\n",
    "\n",
    "# Print the plug-in standard error rounded to 4 decimal places\n",
    "print(f\"Plug-in SE: {SE_hat:.4f}\")"
   ]
  },
  {
   "cell_type": "markdown",
   "id": "0e9e846b",
   "metadata": {},
   "source": [
    "\n",
    "\n",
    "**Notes**:\n",
    "\n",
    "* Pros: Simple, fast, consistent as $n \\to \\infty$.\n",
    "* Cons: Can be inaccurate for small $n$ or extreme $\\hat p$ near $0$ or $1$; the Wilson or Agresti–Coull intervals are usually superior for small to moderate $n$."
   ]
  },
  {
   "cell_type": "markdown",
   "id": "add28b53",
   "metadata": {},
   "source": [
    "\n",
    "\n",
    "### 3. Null-Based Standard Error ($SE_{\\text{null}}$)\n",
    "\n",
    "**Definition**: The null-based SE is used in hypothesis testing when the null hypothesis is $H_{0}: p = p_{0}$. It computes variability assuming the null is true so that the test statistic is correctly standardised under $H_{0}$.\n",
    "\n",
    "**Formula**:\n",
    "\n",
    "$$\n",
    "SE_{\\text{null}}=\\sqrt{\\frac{p_{0}(1-p_{0})}{n}}.\n",
    "$$\n",
    "\n",
    "**Calculation Steps**:\n",
    "\n",
    "1. Specify $p_{0}$ from $H_{0}$.\n",
    "2. Evaluate $\\sqrt{p_{0}(1-p_{0})/n}$.\n",
    "\n",
    "**When to Use**:\n",
    "\n",
    "* Exclusively for one-sample proportion tests (one-sided or two-sided), with\n",
    "\n",
    "  $$\n",
    "  z=\\frac{\\hat p - p_{0}}{SE_{\\text{null}}}.\n",
    "  $$\n",
    "* Requires large-sample conditions relative to $p_{0}$ (e.g., $n p_{0}\\ge 10$ and $n(1-p_{0})\\ge 10$).\n",
    "\n",
    "\n"
   ]
  },
  {
   "cell_type": "code",
   "execution_count": 233,
   "id": "408ec280",
   "metadata": {},
   "outputs": [
    {
     "name": "stdout",
     "output_type": "stream",
     "text": [
      "Null-based SE: 0.0151\n",
      "Z-score: 4.6410\n"
     ]
    }
   ],
   "source": [
    "n = 1000  # Sample size (number of observations)\n",
    "p_hat = 0.42  # Observed sample proportion\n",
    "p0 = 0.35  # Hypothesized population proportion under the null hypothesis\n",
    "\n",
    "# Calculate the standard error (SE) under the null hypothesis\n",
    "SE_null = np.sqrt(p0 * (1 - p0) / n)  # Formula: sqrt(p0 * (1 - p0) / n)\n",
    "\n",
    "# Calculate the z-score: standardized difference between observed and hypothesized proportions\n",
    "z_score = (p_hat - p0) / SE_null  # Formula: (p_hat - p0) / SE_null\n",
    "\n",
    "print(f\"Null-based SE: {SE_null:.4f}\")\n",
    "\n",
    "print(f\"Z-score: {z_score:.4f}\")"
   ]
  },
  {
   "cell_type": "markdown",
   "id": "d4e76f90",
   "metadata": {},
   "source": [
    "\n",
    "**Notes**:\n",
    "\n",
    "* Pros: Calibrates tests correctly under $H_{0}$ and is straightforward to compute.\n",
    "* Cons: Not for estimation or confidence intervals; if $p_{0}$ is far from $\\hat p$ the value will differ noticeably from $SE_{\\hat p}$, which is precisely why it should be reserved for testing.\n",
    " with Markdown+Math extension)."
   ]
  },
  {
   "cell_type": "markdown",
   "id": "c1812c95",
   "metadata": {},
   "source": [
    "Since variables have arbitrary units and ranges, before we test our hypothesis, we need to standardize the values. \n",
    "A common way of standardizing values is to subtract the mean, and divide by the standard deviation. \n",
    "\n",
    "$$\\text{standardised value}=\\frac{\\text{value}-\\text{mean}}{\\text{standard deviation}}$$\n",
    "\n",
    "For hypothesis testing, we use a variation where we take the sample statistic, subtract the hypothesized parameter value, and divide by the standard error. The result is called a z-score.\n",
    "\n",
    "$$z=\\frac{\\text{sample statistic}-\\text{hypothesised parameter value}}{\\text{standard error}}$$\n"
   ]
  },
  {
   "cell_type": "code",
   "execution_count": 234,
   "id": "20de2a41",
   "metadata": {},
   "outputs": [
    {
     "name": "stdout",
     "output_type": "stream",
     "text": [
      "1.7220827037549484\n"
     ]
    }
   ],
   "source": [
    "# Set the hypothesized mean compensation (the value under the null hypothesis)\n",
    "mean_comp_hyp = 110_000\n",
    "\n",
    "# Calculate the sample mean compensation from the Stack Overflow dataset\n",
    "mean_comp_samp = stack_overflow[\"converted_comp\"].mean()\n",
    "\n",
    "# Estimate the standard error using the standard deviation of the bootstrap distribution\n",
    "std_error = np.std(so_boot_distn, ddof=1)\n",
    "\n",
    "# Calculate the z-score: how many standard errors the observed mean is from the hypothesized mean\n",
    "z_score = (mean_comp_samp - mean_comp_hyp) / std_error\n",
    "\n",
    "# Print the z-score; a higher absolute value indicates a greater difference from the hypothesized mean\n",
    "print(z_score)"
   ]
  },
  {
   "cell_type": "markdown",
   "id": "a5b952c9",
   "metadata": {},
   "source": [
    "### Testing the hypothesis:\n",
    "- Is 1.70169 a high or low number?\n",
    "\n",
    "#### Hypothesis testing use case:\n",
    "> Determine whether sample statistics are close to or far away from epected (or \"hypothesized\" values)"
   ]
  },
  {
   "cell_type": "markdown",
   "id": "bd95b89e",
   "metadata": {},
   "source": [
    "Here's a plot of the probability density function for the standard normal distribution, which is a normal distribution with mean of zero and standard deviation of one. \n",
    "\n",
    "It's often called the z-distribution, and z-scores are related to this distribution. "
   ]
  },
  {
   "cell_type": "code",
   "execution_count": 235,
   "id": "c55c426c",
   "metadata": {},
   "outputs": [
    {
     "data": {
      "image/png": "[encoded data removed]",
      "text/plain": [
       "<Figure size 640x480 with 1 Axes>"
      ]
     },
     "metadata": {},
     "output_type": "display_data"
    }
   ],
   "source": [
    "from scipy.stats import norm\n",
    "\n",
    "# Data for the normal distribution\n",
    "x = np.linspace(-4, 4, 500)\n",
    "y = norm.pdf(x, 0, 1)  # Mean = 0, Standard deviation = 1\n",
    "\n",
    "fig, ax = plt.subplots()\n",
    "ax.plot(x, y, color=\"black\", linewidth=1.5)\n",
    "\n",
    "# Axis labels\n",
    "ax.set_xlabel(\"x\")\n",
    "ax.set_ylabel(\"PDF(x)\")\n",
    "\n",
    "# Grid style similar to ggplot2 in R\n",
    "ax.set_facecolor(\"#E5E5E5\")\n",
    "ax.grid(True, color=\"white\")\n",
    "ax.set_axisbelow(True)\n",
    "\n",
    "ax.set_xlim([-4, 4])\n",
    "ax.set_ylim([0, 0.42])\n",
    "\n",
    "plt.show()"
   ]
  },
  {
   "cell_type": "code",
   "execution_count": 236,
   "id": "2f8126d5",
   "metadata": {},
   "outputs": [],
   "source": [
    "url = \"https://assets.datacamp.com/production/repositories/5982/datasets/887ec4bc2bcfd4195e7d3ad113168555f36d3afa/late_shipments.feather\"\n",
    "late_shipments = pd.read_feather(url)"
   ]
  },
  {
   "cell_type": "markdown",
   "id": "2d051332",
   "metadata": {},
   "source": [
    "### Calculating the sample mean\n",
    "The late_shipments dataset contains supply chain data on the delivery of medical supplies. Each row represents one delivery of a part. The `late` columns denotes whether or not the part was delivered late. A value of `\"Yes\"` means that the part was delivered late, and a value of `\"No\"` means the part was delivered on time."
   ]
  },
  {
   "cell_type": "code",
   "execution_count": 237,
   "id": "3487565f",
   "metadata": {},
   "outputs": [
    {
     "data": {
      "application/vnd.microsoft.datawrangler.viewer.v0+json": {
       "columns": [
        {
         "name": "index",
         "rawType": "int64",
         "type": "integer"
        },
        {
         "name": "id",
         "rawType": "float64",
         "type": "float"
        },
        {
         "name": "country",
         "rawType": "object",
         "type": "string"
        },
        {
         "name": "managed_by",
         "rawType": "object",
         "type": "string"
        },
        {
         "name": "fulfill_via",
         "rawType": "object",
         "type": "string"
        },
        {
         "name": "vendor_inco_term",
         "rawType": "object",
         "type": "string"
        },
        {
         "name": "shipment_mode",
         "rawType": "object",
         "type": "string"
        },
        {
         "name": "late_delivery",
         "rawType": "float64",
         "type": "float"
        },
        {
         "name": "late",
         "rawType": "object",
         "type": "string"
        },
        {
         "name": "product_group",
         "rawType": "object",
         "type": "string"
        },
        {
         "name": "sub_classification",
         "rawType": "object",
         "type": "string"
        },
        {
         "name": "vendor",
         "rawType": "object",
         "type": "string"
        },
        {
         "name": "item_description",
         "rawType": "object",
         "type": "string"
        },
        {
         "name": "molecule_test_type",
         "rawType": "object",
         "type": "string"
        },
        {
         "name": "brand",
         "rawType": "object",
         "type": "string"
        },
        {
         "name": "dosage",
         "rawType": "object",
         "type": "string"
        },
        {
         "name": "dosage_form",
         "rawType": "object",
         "type": "string"
        },
        {
         "name": "unit_of_measure_per_pack",
         "rawType": "float64",
         "type": "float"
        },
        {
         "name": "line_item_quantity",
         "rawType": "float64",
         "type": "float"
        },
        {
         "name": "line_item_value",
         "rawType": "float64",
         "type": "float"
        },
        {
         "name": "pack_price",
         "rawType": "float64",
         "type": "float"
        },
        {
         "name": "unit_price",
         "rawType": "float64",
         "type": "float"
        },
        {
         "name": "manufacturing_site",
         "rawType": "object",
         "type": "string"
        },
        {
         "name": "first_line_designation",
         "rawType": "object",
         "type": "string"
        },
        {
         "name": "weight_kilograms",
         "rawType": "float64",
         "type": "float"
        },
        {
         "name": "freight_cost_usd",
         "rawType": "float64",
         "type": "float"
        },
        {
         "name": "freight_cost_groups",
         "rawType": "object",
         "type": "string"
        },
        {
         "name": "line_item_insurance_usd",
         "rawType": "float64",
         "type": "float"
        }
       ],
       "ref": "bb787c5c-ec42-49ce-8ebc-680361806d5f",
       "rows": [
        [
         "0",
         "36203.0",
         "Nigeria",
         "PMO - US",
         "Direct Drop",
         "EXW",
         "Air",
         "1.0",
         "Yes",
         "HRDT",
         "HIV test",
         "Orgenics, Ltd",
         "HIV 1/2, Determine Complete HIV Kit, 100 Tests",
         "HIV 1/2, Determine Complete HIV Kit",
         "Determine",
         "N/A",
         "Test kit",
         "100.0",
         "2996.0",
         "266644.0",
         "89.0",
         "0.89",
         "Alere Medical Co., Ltd.",
         "Yes",
         "1426.0",
         "33279.83",
         "expensive",
         "373.83"
        ],
        [
         "1",
         "30998.0",
         "Botswana",
         "PMO - US",
         "Direct Drop",
         "EXW",
         "Air",
         "0.0",
         "No",
         "HRDT",
         "HIV test",
         "Trinity Biotech, Plc",
         "HIV 1/2, Uni-Gold HIV Kit, 20 Tests",
         "HIV 1/2, Uni-Gold HIV Kit",
         "Uni-Gold",
         "N/A",
         "Test kit",
         "20.0",
         "25.0",
         "800.0",
         "32.0",
         "1.6",
         "Trinity Biotech, Plc",
         "Yes",
         "10.0",
         "559.89",
         "reasonable",
         "1.72"
        ],
        [
         "2",
         "69871.0",
         "Vietnam",
         "PMO - US",
         "Direct Drop",
         "EXW",
         "Air",
         "0.0",
         "No",
         "ARV",
         "Adult",
         "HETERO LABS LIMITED",
         "Lamivudine/Nevirapine/Stavudine 150/200/30mg, tablets, 60 Tabs",
         "Lamivudine/Nevirapine/Stavudine",
         "Generic",
         "150/200/30mg",
         "Tablet - FDC",
         "60.0",
         "22925.0",
         "110040.0",
         "4.8",
         "0.08",
         "Hetero Unit III Hyderabad IN",
         "Yes",
         "3723.0",
         "19056.13",
         "expensive",
         "181.57"
        ],
        [
         "3",
         "17648.0",
         "South Africa",
         "PMO - US",
         "Direct Drop",
         "DDP",
         "Ocean",
         "0.0",
         "No",
         "ARV",
         "Adult",
         "Aurobindo Pharma Limited",
         "Lamivudine 150mg, tablets, 60 Tabs",
         "Lamivudine",
         "Generic",
         "150mg",
         "Tablet",
         "60.0",
         "152535.0",
         "361507.95",
         "2.37",
         "0.04",
         "Aurobindo Unit III, India",
         "Yes",
         "7698.0",
         "11372.23",
         "expensive",
         "779.41"
        ],
        [
         "4",
         "5647.0",
         "Uganda",
         "PMO - US",
         "Direct Drop",
         "EXW",
         "Air",
         "0.0",
         "No",
         "HRDT",
         "HIV test - Ancillary",
         "Orgenics, Ltd",
         "HIV, Lancet, Safety, for HIV Test kits, 100 Pcs",
         "HIV, Lancet, Safety, for HIV Test kits, 100 Pcs",
         "Generic",
         "N/A",
         "Test kit - Ancillary",
         "100.0",
         "850.0",
         "8.5",
         "0.01",
         "0.0",
         "Inverness Japan",
         "Yes",
         "56.0",
         "360.0",
         "reasonable",
         "0.01"
        ]
       ],
       "shape": {
        "columns": 27,
        "rows": 5
       }
      },
      "text/html": [
       "<div>\n",
       "<style scoped>\n",
       "    .dataframe tbody tr th:only-of-type {\n",
       "        vertical-align: middle;\n",
       "    }\n",
       "\n",
       "    .dataframe tbody tr th {\n",
       "        vertical-align: top;\n",
       "    }\n",
       "\n",
       "    .dataframe thead th {\n",
       "        text-align: right;\n",
       "    }\n",
       "</style>\n",
       "<table border=\"1\" class=\"dataframe\">\n",
       "  <thead>\n",
       "    <tr style=\"text-align: right;\">\n",
       "      <th></th>\n",
       "      <th>id</th>\n",
       "      <th>country</th>\n",
       "      <th>managed_by</th>\n",
       "      <th>fulfill_via</th>\n",
       "      <th>vendor_inco_term</th>\n",
       "      <th>shipment_mode</th>\n",
       "      <th>late_delivery</th>\n",
       "      <th>late</th>\n",
       "      <th>product_group</th>\n",
       "      <th>sub_classification</th>\n",
       "      <th>...</th>\n",
       "      <th>line_item_quantity</th>\n",
       "      <th>line_item_value</th>\n",
       "      <th>pack_price</th>\n",
       "      <th>unit_price</th>\n",
       "      <th>manufacturing_site</th>\n",
       "      <th>first_line_designation</th>\n",
       "      <th>weight_kilograms</th>\n",
       "      <th>freight_cost_usd</th>\n",
       "      <th>freight_cost_groups</th>\n",
       "      <th>line_item_insurance_usd</th>\n",
       "    </tr>\n",
       "  </thead>\n",
       "  <tbody>\n",
       "    <tr>\n",
       "      <th>0</th>\n",
       "      <td>36203.0</td>\n",
       "      <td>Nigeria</td>\n",
       "      <td>PMO - US</td>\n",
       "      <td>Direct Drop</td>\n",
       "      <td>EXW</td>\n",
       "      <td>Air</td>\n",
       "      <td>1.0</td>\n",
       "      <td>Yes</td>\n",
       "      <td>HRDT</td>\n",
       "      <td>HIV test</td>\n",
       "      <td>...</td>\n",
       "      <td>2996.0</td>\n",
       "      <td>266644.00</td>\n",
       "      <td>89.00</td>\n",
       "      <td>0.89</td>\n",
       "      <td>Alere Medical Co., Ltd.</td>\n",
       "      <td>Yes</td>\n",
       "      <td>1426.0</td>\n",
       "      <td>33279.83</td>\n",
       "      <td>expensive</td>\n",
       "      <td>373.83</td>\n",
       "    </tr>\n",
       "    <tr>\n",
       "      <th>1</th>\n",
       "      <td>30998.0</td>\n",
       "      <td>Botswana</td>\n",
       "      <td>PMO - US</td>\n",
       "      <td>Direct Drop</td>\n",
       "      <td>EXW</td>\n",
       "      <td>Air</td>\n",
       "      <td>0.0</td>\n",
       "      <td>No</td>\n",
       "      <td>HRDT</td>\n",
       "      <td>HIV test</td>\n",
       "      <td>...</td>\n",
       "      <td>25.0</td>\n",
       "      <td>800.00</td>\n",
       "      <td>32.00</td>\n",
       "      <td>1.60</td>\n",
       "      <td>Trinity Biotech, Plc</td>\n",
       "      <td>Yes</td>\n",
       "      <td>10.0</td>\n",
       "      <td>559.89</td>\n",
       "      <td>reasonable</td>\n",
       "      <td>1.72</td>\n",
       "    </tr>\n",
       "    <tr>\n",
       "      <th>2</th>\n",
       "      <td>69871.0</td>\n",
       "      <td>Vietnam</td>\n",
       "      <td>PMO - US</td>\n",
       "      <td>Direct Drop</td>\n",
       "      <td>EXW</td>\n",
       "      <td>Air</td>\n",
       "      <td>0.0</td>\n",
       "      <td>No</td>\n",
       "      <td>ARV</td>\n",
       "      <td>Adult</td>\n",
       "      <td>...</td>\n",
       "      <td>22925.0</td>\n",
       "      <td>110040.00</td>\n",
       "      <td>4.80</td>\n",
       "      <td>0.08</td>\n",
       "      <td>Hetero Unit III Hyderabad IN</td>\n",
       "      <td>Yes</td>\n",
       "      <td>3723.0</td>\n",
       "      <td>19056.13</td>\n",
       "      <td>expensive</td>\n",
       "      <td>181.57</td>\n",
       "    </tr>\n",
       "    <tr>\n",
       "      <th>3</th>\n",
       "      <td>17648.0</td>\n",
       "      <td>South Africa</td>\n",
       "      <td>PMO - US</td>\n",
       "      <td>Direct Drop</td>\n",
       "      <td>DDP</td>\n",
       "      <td>Ocean</td>\n",
       "      <td>0.0</td>\n",
       "      <td>No</td>\n",
       "      <td>ARV</td>\n",
       "      <td>Adult</td>\n",
       "      <td>...</td>\n",
       "      <td>152535.0</td>\n",
       "      <td>361507.95</td>\n",
       "      <td>2.37</td>\n",
       "      <td>0.04</td>\n",
       "      <td>Aurobindo Unit III, India</td>\n",
       "      <td>Yes</td>\n",
       "      <td>7698.0</td>\n",
       "      <td>11372.23</td>\n",
       "      <td>expensive</td>\n",
       "      <td>779.41</td>\n",
       "    </tr>\n",
       "    <tr>\n",
       "      <th>4</th>\n",
       "      <td>5647.0</td>\n",
       "      <td>Uganda</td>\n",
       "      <td>PMO - US</td>\n",
       "      <td>Direct Drop</td>\n",
       "      <td>EXW</td>\n",
       "      <td>Air</td>\n",
       "      <td>0.0</td>\n",
       "      <td>No</td>\n",
       "      <td>HRDT</td>\n",
       "      <td>HIV test - Ancillary</td>\n",
       "      <td>...</td>\n",
       "      <td>850.0</td>\n",
       "      <td>8.50</td>\n",
       "      <td>0.01</td>\n",
       "      <td>0.00</td>\n",
       "      <td>Inverness Japan</td>\n",
       "      <td>Yes</td>\n",
       "      <td>56.0</td>\n",
       "      <td>360.00</td>\n",
       "      <td>reasonable</td>\n",
       "      <td>0.01</td>\n",
       "    </tr>\n",
       "  </tbody>\n",
       "</table>\n",
       "<p>5 rows × 27 columns</p>\n",
       "</div>"
      ],
      "text/plain": [
       "        id       country managed_by  fulfill_via vendor_inco_term  \\\n",
       "0  36203.0       Nigeria   PMO - US  Direct Drop              EXW   \n",
       "1  30998.0      Botswana   PMO - US  Direct Drop              EXW   \n",
       "2  69871.0       Vietnam   PMO - US  Direct Drop              EXW   \n",
       "3  17648.0  South Africa   PMO - US  Direct Drop              DDP   \n",
       "4   5647.0        Uganda   PMO - US  Direct Drop              EXW   \n",
       "\n",
       "  shipment_mode  late_delivery late product_group    sub_classification  ...  \\\n",
       "0           Air            1.0  Yes          HRDT              HIV test  ...   \n",
       "1           Air            0.0   No          HRDT              HIV test  ...   \n",
       "2           Air            0.0   No           ARV                 Adult  ...   \n",
       "3         Ocean            0.0   No           ARV                 Adult  ...   \n",
       "4           Air            0.0   No          HRDT  HIV test - Ancillary  ...   \n",
       "\n",
       "  line_item_quantity line_item_value pack_price unit_price  \\\n",
       "0             2996.0       266644.00      89.00       0.89   \n",
       "1               25.0          800.00      32.00       1.60   \n",
       "2            22925.0       110040.00       4.80       0.08   \n",
       "3           152535.0       361507.95       2.37       0.04   \n",
       "4              850.0            8.50       0.01       0.00   \n",
       "\n",
       "             manufacturing_site first_line_designation  weight_kilograms  \\\n",
       "0       Alere Medical Co., Ltd.                    Yes            1426.0   \n",
       "1          Trinity Biotech, Plc                    Yes              10.0   \n",
       "2  Hetero Unit III Hyderabad IN                    Yes            3723.0   \n",
       "3     Aurobindo Unit III, India                    Yes            7698.0   \n",
       "4               Inverness Japan                    Yes              56.0   \n",
       "\n",
       "   freight_cost_usd  freight_cost_groups  line_item_insurance_usd  \n",
       "0          33279.83            expensive                   373.83  \n",
       "1            559.89           reasonable                     1.72  \n",
       "2          19056.13            expensive                   181.57  \n",
       "3          11372.23            expensive                   779.41  \n",
       "4            360.00           reasonable                     0.01  \n",
       "\n",
       "[5 rows x 27 columns]"
      ]
     },
     "execution_count": 237,
     "metadata": {},
     "output_type": "execute_result"
    }
   ],
   "source": [
    "# Print the late_shipments dataset.\n",
    "late_shipments.head()"
   ]
  },
  {
   "cell_type": "code",
   "execution_count": 238,
   "id": "94cdb612",
   "metadata": {},
   "outputs": [
    {
     "name": "stdout",
     "output_type": "stream",
     "text": [
      "0.061\n"
     ]
    }
   ],
   "source": [
    "# Calculate the proportion of late shipments in the sample; that is, the mean cases where the late column is \"Yes\".\n",
    "late_prop_samp = (late_shipments[\"late\"] == \"Yes\").mean()\n",
    "\n",
    "# Print the results\n",
    "print(late_prop_samp)"
   ]
  },
  {
   "cell_type": "markdown",
   "id": "e1114154",
   "metadata": {},
   "source": [
    "### Calculating a z-score\n",
    "Since variables have arbitrary ranges and units, we need to standardize them. For example, a hypothesis test that gave different answers if the variables were in Euros instead of US dollars would be of little value. Standardization avoids that.\n",
    "\n",
    "One standardized value of interest in a hypothesis test is called a z-score. To calculate it, you need three numbers: the sample statistic (point estimate), the hypothesized statistic, and the standard error of the statistic (estimated from the bootstrap distribution)."
   ]
  },
  {
   "cell_type": "code",
   "execution_count": 239,
   "id": "2c9b4cc5",
   "metadata": {},
   "outputs": [],
   "source": [
    "is_late = late_shipments[\"late\"] == \"Yes\"\n",
    "np.random.seed(42)\n",
    "# Generate a bootstrap distribution for the proportion of late shipments\n",
    "# This simulates the sampling distribution of the sample proportion under repeated random sampling\n",
    "late_shipments_boot_distn = [\n",
    "    # For each bootstrap iteration, take a random sample (with replacement) from the 'late' column\n",
    "    np.mean(is_late.sample(frac=1, replace=True))\n",
    "    # Repeat the process 5000 times to build a robust bootstrap distribution\n",
    "    for _ in range(5000)\n",
    "]"
   ]
  },
  {
   "cell_type": "code",
   "execution_count": 240,
   "id": "f6c8b0ee",
   "metadata": {},
   "outputs": [
    {
     "name": "stdout",
     "output_type": "stream",
     "text": [
      "0.1321627029889662\n"
     ]
    }
   ],
   "source": [
    "# Set the hypothesized proportion of late shipments under the null hypothesis (e.g., 6%)\n",
    "late_prop_hyp = 0.06\n",
    "\n",
    "# Estimate the standard error of the sample proportion using the standard deviation of the bootstrap distribution\n",
    "# The standard error quantifies the expected variability in the sample proportion due to random sampling\n",
    "std_error = np.std(late_shipments_boot_distn, ddof=1)\n",
    "\n",
    "# Calculate the z-score: how many standard errors the observed sample proportion is from the hypothesized value\n",
    "# This standardizes the difference, allowing us to assess how \"surprising\" our result is under the null hypothesis\n",
    "z_score = (late_prop_samp - late_prop_hyp) / std_error\n",
    "\n",
    "# Print the calculated z-score; a large absolute value suggests the observed proportion is unlikely under the null hypothesis\n",
    "print(z_score)"
   ]
  },
  {
   "cell_type": "markdown",
   "id": "a33f58f0",
   "metadata": {},
   "source": [
    "## The Logic of Hypothesis Testing\n",
    "\n",
    "Hypothesis testing is a formal procedure for making statistical decisions. The process is analogous to a criminal trial:\n",
    "\n",
    "1.  There are two competing claims: the **null hypothesis ($H_0$)** and the **alternative hypothesis ($H_A$)**.\n",
    "2.  We begin by assuming the null hypothesis is true, just as a defendant is presumed innocent.\n",
    "3.  We collect evidence (our sample data).\n",
    "4.  We determine if the evidence is strong enough (\"beyond a reasonable doubt\") to reject the null hypothesis in favor of the alternative.\n",
    "\n",
    "  * **Null Hypothesis ($H_0$)**: The hypothesis of no effect, no difference, or the status quo. It is the existing idea or baseline that we assume to be true.\n",
    "\n",
    "      * *Example*: $H_0$: The proportion of data scientists who started programming as children is 35%.\n",
    "\n",
    "  * **Alternative Hypothesis ($H_A$ or $H_1$)**: The new \"challenger\" idea that a researcher wants to find evidence for.\n",
    "\n",
    "      * *Example*: $H_A$: The proportion of data scientists who started programming as children is greater than 35%.\n",
    "\n",
    "### One-Tailed and Two-Tailed Tests\n",
    "\n",
    "The wording of the alternative hypothesis determines which \"tails\" of the sampling distribution we are interested in. This determines the type of test we are performing.\n",
    "\n",
    "| Alternative Hypothesis ($H_A$) | Test Type      | Question Asked                                                                 |\n",
    "| :----------------------------- | :------------- | :----------------------------------------------------------------------------- |\n",
    "| Parameter $\\neq$ Hypothesized Value | **Two-tailed**  | Is the sample statistic surprisingly far from the hypothesis in *either* direction? |\n",
    "| Parameter $>$ Hypothesized Value   | **Right-tailed**| Is the sample statistic surprisingly *high*?                                   |\n",
    "| Parameter $<$ Hypothesized Value   | **Left-tailed** | Is the sample statistic surprisingly *low*?                                    |\n",
    "\n",
    "In our example, since $H_A$ is that the proportion is *greater than* 35%, we are performing a **right-tailed test**.\n",
    "\n",
    "### The P-Value: Quantifying \"Surprise\"\n",
    "\n",
    "The **p-value** is the core of the hypothesis test. It is a single number that quantifies how surprising our sample result is, assuming the null hypothesis is correct.\n",
    "\n",
    "**Formal Definition**: The p-value is the probability of obtaining a test statistic *at least as extreme* as the one calculated from the sample, given that the null hypothesis is true.\n",
    "\n",
    "Visually, the p-value is the area in the tail(s) of the null distribution, starting from your observed test statistic.\n",
    "\n",
    "**Interpretation**:\n",
    "\n",
    "  * **Small p-value (e.g., p \\< 0.05)**: The observed data is very unlikely to have occurred by random chance if the null hypothesis were true. This provides strong evidence *against* $H_0$ and leads us to **reject the null hypothesis**.\n",
    "  * **Large p-value (e.g., p ≥ 0.05)**: The observed data is plausible under the null hypothesis. We do not have enough evidence to reject the null hypothesis, so we **fail to reject the null hypothesis**. We never \"accept\" the null hypothesis; we only conclude that there is not sufficient evidence to overturn it.\n",
    "\n",
    "### Calculating P-Values from a Z-Score\n",
    "\n",
    "Once we have a z-score, we can use the **Cumulative Distribution Function (CDF)** of the standard normal distribution to find the p-value. The `scipy.stats.norm.cdf()` function calculates the area under the curve to the left of a given z-score.\n",
    "\n",
    "  * **Right-tailed test**: The p-value is the area to the *right* of the z-score.\n",
    "      * `p_value = 1 - norm.cdf(z_score)`\n",
    "  * **Left-tailed test**: The p-value is the area to the *left* of the z-score.\n",
    "      * `p_value = norm.cdf(z_score)`\n",
    "  * **Two-tailed test**: The p-value is the area in both tails combined. We find the area in the more extreme tail and double it.\n",
    "      * `p_value = 2 * (1 - norm.cdf(abs(z_score)))`\n",
    "\n",
    "### A Complete Example\n",
    "\n",
    "Let's complete our hypothesis test from the previous topic.\n",
    "\n",
    "```python\n",
    "import pandas as pd\n",
    "import numpy as np\n",
    "from scipy.stats import norm\n",
    "\n",
    "# 1. Setup (from previous topic)\n",
    "# Assume we have a sample, a hypothesis, and have calculated the z-score.\n",
    "np.random.seed(42)\n",
    "sample = pd.DataFrame({'is_child_coder': np.random.choice([True, False], 500, p=[0.4, 0.6])})\n",
    "sample_prop = sample['is_child_coder'].mean()\n",
    "hypothesized_prop = 0.35\n",
    "\n",
    "# Generate bootstrap distribution to get standard error\n",
    "bootstrap_dist = []\n",
    "for i in range(5000):\n",
    "    bootstrap_sample = sample.sample(frac=1, replace=True, random_state=i)\n",
    "    bootstrap_dist.append(bootstrap_sample['is_child_coder'].mean())\n",
    "std_error = np.std(bootstrap_dist, ddof=1)\n",
    "\n",
    "# Calculate z-score\n",
    "z_score = (sample_prop - hypothesized_prop) / std_error\n",
    "\n",
    "print(f\"Sample Proportion: {sample_prop:.4f}\")\n",
    "print(f\"Hypothesized Proportion: {hypothesized_prop}\")\n",
    "print(f\"Standard Error: {std_error:.4f}\")\n",
    "print(f\"Z-score: {z_score:.4f}\")\n",
    "\n",
    "# 2. State Hypotheses and Define Test Type\n",
    "# H0: The true proportion is 0.35.\n",
    "# HA: The true proportion is greater than 0.35.\n",
    "# This is a right-tailed test.\n",
    "\n",
    "# 3. Calculate the p-value\n",
    "# For a right-tailed test, we calculate the area to the right of our z-score.\n",
    "p_value = 1 - norm.cdf(z_score)\n",
    "print(f\"\\nP-value: {p_value:.6f}\")\n",
    "\n",
    "# 4. Make a Statistical Decision \n",
    "# We compare the p-value to a significance level (alpha), typically 0.05.\n",
    "alpha = 0.05\n",
    "if p_value < alpha:\n",
    "    print(f\"Since p-value ({p_value:.6f}) < alpha ({alpha}), we reject the null hypothesis.\")\n",
    "else:\n",
    "    print(f\"Since p-value ({p_value:.6f}) >= alpha ({alpha}), we fail to reject the null hypothesis.\")\n",
    "```\n",
    "\n",
    "Because our p-value is very small, we reject the null hypothesis. Our sample provides strong statistical evidence that the true proportion of data scientists who started coding as children is likely greater than 35%."
   ]
  },
  {
   "attachments": {
    "image.png": {
     "image/png": "[encoded data removed]"
    }
   },
   "cell_type": "markdown",
   "id": "7457b604",
   "metadata": {},
   "source": [
    "### Some Definitions\n",
    "> A hypothesis is a statement about an unknown population parameter\n",
    "> A hypothesis test is a test of two competing hypotheses\n",
    "\n",
    "- The _null hypothesis_ ($H_0$)  is the existing idea\n",
    "- The _alternative hypothesis_ ($H_A$) is the new \"challenger\" idea of the researcher\n",
    "  \n",
    "#### For our problem:\n",
    "- ($H_0$): The proportion of data scientists starting programming as children is 35%\n",
    "- ($H_A$): The proportion of data scientists starting programming as children is greater than 35%\n",
    "\n",
    "#### One-Tailed and Two-Tailed Tests\n",
    "\n",
    "The wording of the alternative hypothesis determines which \"tails\" of the sampling distribution we are interested in. This determines the type of test we are performing.\n",
    "\n",
    "| Alternative Hypothesis ($H_A$) | Test Type      | Question Asked                                                                 |\n",
    "| :----------------------------- | :------------- | :----------------------------------------------------------------------------- |\n",
    "| Parameter $\\neq$ Hypothesized Value | **Two-tailed**  | Is the sample statistic surprisingly far from the hypothesis in *either* direction? |\n",
    "| Parameter $>$ Hypothesized Value   | **Right-tailed**| Is the sample statistic surprisingly *high*?                                   |\n",
    "| Parameter $<$ Hypothesized Value   | **Left-tailed** | Is the sample statistic surprisingly *low*?  \n",
    "\n",
    "![image.png](attachment:image.png)"
   ]
  },
  {
   "attachments": {
    "image-2.png": {
     "image/png": "[encoded data removed]"
    }
   },
   "cell_type": "markdown",
   "id": "c65da982",
   "metadata": {},
   "source": [
    "####  **p-values**\n",
    "\n",
    "**p-values**: probability of obtaining a result, assuming the null hypothesis is true.\n",
    "\n",
    "- Large p-value, large support for $H_0$\n",
    "  - Statistic likely **not** in the tail of the *null distribution*\n",
    "- Small p-value, strong evidence against $H_0$\n",
    "  - Statistic likely in the tail of the *null distribution*\n",
    "- \"p\" in *p-value* → probability\n",
    "- \"small\" means \"close to zero\"\n",
    "\n",
    "![image-2.png](attachment:image-2.png)\n"
   ]
  },
  {
   "cell_type": "code",
   "execution_count": 241,
   "id": "e70056b1",
   "metadata": {},
   "outputs": [],
   "source": [
    "# Create a boolean Series where True indicates respondents who started coding as a child\n",
    "is_child = stack_overflow[\"age_first_code_cut\"] == \"child\"\n",
    "\n",
    "# Set the random seed for reproducibility of random sampling\n",
    "np.random.seed(42)\n",
    "\n",
    "# Generate a bootstrap distribution of the proportion of respondents who started coding as a child\n",
    "# For each iteration, sample with replacement from the 'is_child' Series and calculate the mean proportion\n",
    "first_code_boot_distn = [\n",
    "    is_child.sample(frac=1.0, replace=True).mean() for _ in range(1000)\n",
    "]"
   ]
  },
  {
   "cell_type": "code",
   "execution_count": 242,
   "id": "578b003e",
   "metadata": {},
   "outputs": [
    {
     "name": "stdout",
     "output_type": "stream",
     "text": [
      "2.4023022520913706e-05\n"
     ]
    }
   ],
   "source": [
    "from scipy.stats import norm\n",
    "\n",
    "# Calculate the sample proportion of respondents who started coding as a child\n",
    "prop_child_samp = (stack_overflow[\"age_first_code_cut\"] == \"child\").mean()\n",
    "\n",
    "# Set the hypothesized proportion under the null hypothesis\n",
    "prop_child_hyp = 0.35\n",
    "\n",
    "# Estimate the standard error from the bootstrap distribution of proportions\n",
    "std_error = np.std(first_code_boot_distn, ddof=1)\n",
    "\n",
    "# Calculate the z-score: standardized difference between sample and hypothesized proportion\n",
    "z_score = (prop_child_samp - prop_child_hyp) / std_error\n",
    "\n",
    "# Calculate the p-value for a right-tailed test (probability of observing a z-score this large or larger)\n",
    "p_value = 1 - norm.cdf(z_score, loc=0, scale=1)\n",
    "\n",
    "print(p_value)"
   ]
  },
  {
   "cell_type": "markdown",
   "id": "7fda2bbe",
   "metadata": {},
   "source": [
    "#### Late shipments "
   ]
  },
  {
   "cell_type": "code",
   "execution_count": 243,
   "id": "bc7236e5",
   "metadata": {},
   "outputs": [
    {
     "name": "stdout",
     "output_type": "stream",
     "text": [
      "0.4609105419487346\n"
     ]
    }
   ],
   "source": [
    "from scipy.stats import norm\n",
    "\n",
    "# Calculate the z-score: standardizes the difference between sample and hypothesized proportions\n",
    "z_score = (late_prop_samp - late_prop_hyp) / std_error\n",
    "\n",
    "# Calculate the p-value: probability of observing a z-score this large or larger under the null hypothesis (right-tailed test)\n",
    "p_value = 1 - norm.cdf(z_score)\n",
    "\n",
    "# Print the p-value; a small value suggests the sample proportion is significantly greater than hypothesized\n",
    "print(p_value)"
   ]
  },
  {
   "cell_type": "markdown",
   "id": "f65864ee",
   "metadata": {},
   "source": [
    "## The Significance Level ($\\alpha$): Defining the Threshold\n",
    "\n",
    "The **p-value** quantifies the evidence against the null hypothesis ($H_0$). A small p-value means the observed sample data is very unlikely if the null hypothesis were true. But how small is \"small enough\" to reject $H_0$?\n",
    "\n",
    "This cutoff point is the **significance level**, denoted by the Greek letter **$\\alpha$ (alpha)**. It represents the threshold for our \"beyond a reasonable doubt\" criterion.\n",
    "\n",
    "* **Definition**: The significance level, $\\alpha$, is the probability of rejecting the null hypothesis when it is, in fact, true (a Type I error).\n",
    "* **Common Values**: Typical values for $\\alpha$ are 0.1 (10%), 0.05 (5%), and 0.01 (1%). The most widely used standard in many fields is $\\alpha = 0.05$.\n",
    "* **Decision Rule**: The value of $\\alpha$ must be chosen *before* conducting the hypothesis test to avoid bias. The decision is then made by a direct comparison:\n",
    "        * If $p \\leq \\alpha$, we **reject the null hypothesis**. The result is statistically significant.\n",
    "        * If $p > \\alpha$, we **fail to reject the null hypothesis**. The result is not statistically significant.\n",
    "\n",
    "\n",
    "### The Relationship Between Confidence Intervals and Significance Tests\n",
    "\n",
    "Confidence intervals and hypothesis tests are two sides of the same coin; they are different ways of performing statistical inference on the same underlying data. There is a direct duality between them:\n",
    "\n",
    "A **two-tailed** hypothesis test with a significance level of $\\alpha$ is equivalent to checking if the hypothesized parameter value falls **outside** the corresponding $1 - \\alpha$ confidence interval.\n",
    "\n",
    "* If $\\alpha = 0.05$, we use a $1 - 0.05 = 0.95$, or **95% confidence interval**.\n",
    "* **Decision Rule**:\n",
    "        * If the hypothesized parameter value falls **outside** the 95% confidence interval, we **reject the null hypothesis**.\n",
    "        * If the hypothesized parameter value falls **inside** the 95% confidence interval, we **fail to reject the null hypothesis**.\n",
    "\n",
    "This provides a more intuitive, graphical way to interpret the result of a hypothesis test.\n",
    "\n",
    "### Types of Errors in Hypothesis Testing\n",
    "\n",
    "Because our decision is based on a sample, not the entire population, we can never be 100% certain about the true state of the world. Our statistical decision can sometimes be wrong. There are two types of errors we can make:\n",
    "\n",
    "|                       | **True State: $H_0$ is True**         | **True State: $H_A$ is True**         |\n",
    "|-----------------------|:--------------------------------------:|:--------------------------------------:|\n",
    "| **Fail to Reject $H_0$** | Correct Decision<br>(True Negative)     | **Type II Error**<br>(False Negative)  |\n",
    "| **Reject $H_0$**         | **Type I Error**<br>(False Positive)   | Correct Decision<br>(True Positive)    |\n",
    "\n",
    "- **Type I Error (False Positive)**: Rejecting the null hypothesis when it is actually true. We conclude there is an effect when, in reality, there is none. The probability of making a Type I error is equal to our chosen significance level, $\\alpha$.\n",
    "- **Type II Error (False Negative)**: Failing to reject the null hypothesis when it is actually false. We conclude there is no effect when, in reality, there is one. The probability of a Type II error is denoted by $\\beta$ (beta).\n",
    "\n",
    "\n",
    "### A Complete Example\n",
    "\n",
    "Let's tie these concepts together with a complete example, from calculating the p-value to making a decision and considering the confidence interval.\n",
    "\n",
    "```python\n",
    "import numpy as np\n",
    "from scipy.stats import norm\n",
    "\n",
    "# 1. Setup (from previous topics) \n",
    "# Assume we have a sample, a hypothesis, and have calculated the necessary statistics.\n",
    "sample_mean = 119500\n",
    "hypothesized_mean = 115000\n",
    "standard_error = 2300\n",
    "alpha = 0.05 # Our pre-defined significance level\n",
    "\n",
    "# 2. Perform the Hypothesis Test (p-value approach)\n",
    "# H0: The true mean is 115000.\n",
    "# HA: The true mean is not 115000 (a two-tailed test).\n",
    "\n",
    "# Calculate the z-score\n",
    "z_score = (sample_mean - hypothesized_mean) / standard_error\n",
    "# Calculate the two-tailed p-value\n",
    "p_value = 2 * (1 - norm.cdf(abs(z_score)))\n",
    "\n",
    "print(f\"Z-score: {z_score:.4f}\")\n",
    "print(f\"P-value: {p_value:.4f}\")\n",
    "\n",
    "# Make a decision\n",
    "if p_value < alpha:\n",
    "    print(f\"Decision: Reject H0, because p ({p_value:.4f}) < alpha ({alpha}). The result is statistically significant.\")\n",
    "else:\n",
    "    print(f\"Decision: Fail to reject H0, because p ({p_value:.4f}) >= alpha ({alpha}).\")\n",
    "\n",
    "# 3. Perform the Hypothesis Test (Confidence Interval approach) \n",
    "# For alpha = 0.05, we need a 95% confidence interval.\n",
    "# We will use the standard error method to construct it.\n",
    "confidence_level = 1 - alpha # 0.95\n",
    "lower_quantile = (1 - confidence_level) / 2 # 0.025\n",
    "upper_quantile = 1 - lower_quantile # 0.975\n",
    "\n",
    "# Calculate the bounds\n",
    "lower_bound = norm.ppf(lower_quantile, loc=sample_mean, scale=standard_error)\n",
    "upper_bound = norm.ppf(upper_quantile, loc=sample_mean, scale=standard_error)\n",
    "\n",
    "print(f\"95% Confidence Interval: ({lower_bound:.2f}, {upper_bound:.2f})\")\n",
    "\n",
    "# Make a decision\n",
    "if not (lower_bound <= hypothesized_mean <= upper_bound):\n",
    "    print(f\"Decision: Reject H0, because the hypothesized mean ({hypothesized_mean}) is outside the confidence interval.\")\n",
    "else:\n",
    "    print(f\"Decision: Fail to reject H0, because the hypothesized mean ({hypothesized_mean}) is inside the confidence interval.\")\n",
    "\n",
    "```\n",
    "\n",
    "Both approaches lead to the same conclusion. Because our p-value is less than our significance level of 0.05, and equivalently, because the hypothesized mean of 115,000 falls outside our calculated 95% confidence interval, we reject the null hypothesis. We have statistically significant evidence that the true mean is different from 115,000. If we were wrong in this conclusion (a Type I error), it would mean the true mean really was 115,000, and we were misled by an unusually high sample mean."
   ]
  },
  {
   "cell_type": "code",
   "execution_count": 244,
   "id": "a9b7a6e1",
   "metadata": {},
   "outputs": [
    {
     "name": "stdout",
     "output_type": "stream",
     "text": [
      "1.8200719041461255e-05\n"
     ]
    }
   ],
   "source": [
    "n = len(stack_overflow)\n",
    "\n",
    "# Set the significance level for the hypothesis test (probability of Type I error)\n",
    "alpha = 0.05\n",
    "\n",
    "# Calculate the sample proportion of respondents who started coding as a child\n",
    "prop_child_samp = np.mean((stack_overflow[\"age_first_code_cut\"] == \"child\"))\n",
    "\n",
    "# Set the hypothesized proportion under the null hypothesis\n",
    "prop_child_hyp = 0.35\n",
    "\n",
    "# Estimate the standard error from the bootstrap distribution of proportions\n",
    "# The standard error quantifies the expected variability of the sample proportion\n",
    "std_error_null = np.sqrt(prop_child_hyp * (1 - prop_child_hyp) / n)\n",
    "\n",
    "# Calculate the z-score: standardized difference between sample and hypothesized proportion\n",
    "# The z-score tells us how many standard errors the observed value is from the null hypothesis\n",
    "z_score = (prop_child_samp - prop_child_hyp) / std_error_null\n",
    "\n",
    "# Calculate the p-value for a right-tailed test (probability of observing a z-score this large or larger)\n",
    "# The p-value quantifies how surprising our result is under the null hypothesis\n",
    "p_value = 1 - norm.cdf(z_score, loc=0, scale=1)\n",
    "\n",
    "# Print the p-value; a small value (below alpha) suggests the sample proportion is significantly greater than hypothesized\n",
    "print(p_value)"
   ]
  },
  {
   "cell_type": "markdown",
   "id": "09be0eb2",
   "metadata": {},
   "source": [
    "Stackoverflow "
   ]
  },
  {
   "cell_type": "code",
   "execution_count": 245,
   "id": "5858c964",
   "metadata": {},
   "outputs": [
    {
     "name": "stdout",
     "output_type": "stream",
     "text": [
      "Lower quantile: 0.3719482529854047\n",
      "Upper quantile: 0.410437859354268\n"
     ]
    }
   ],
   "source": [
    "# Use np.quantile to compute the 2.5th and 97.5th percentiles of the bootstrap distribution (95% confidence interval)\n",
    "lower, upper = np.quantile(first_code_boot_distn, [0.025, 0.975])\n",
    "\n",
    "# Print the lower bound of the confidence interval\n",
    "print(f\"Lower quantile: {lower}\")\n",
    "\n",
    "# Print the upper bound of the confidence interval\n",
    "print(f\"Upper quantile: {upper}\")"
   ]
  },
  {
   "cell_type": "code",
   "execution_count": 246,
   "id": "25bfe950",
   "metadata": {},
   "outputs": [
    {
     "name": "stdout",
     "output_type": "stream",
     "text": [
      "CI excludes 0.35, consistent with rejecting H0 at 5% level.\n"
     ]
    }
   ],
   "source": [
    "# Tie to hypothesis: Does CI contain the null value?\n",
    "if lower > prop_child_hyp:\n",
    "    print(f\"CI excludes {prop_child_hyp}, consistent with rejecting H0 at 5% level.\")\n",
    "elif upper < prop_child_hyp:\n",
    "    print(f\"CI excludes {prop_child_hyp} (below), but note: our test was right-tailed.\")\n",
    "else:\n",
    "    print(f\"CI includes {prop_child_hyp}, consistent with failing to reject H0.\")"
   ]
  },
  {
   "cell_type": "markdown",
   "id": "348a9090",
   "metadata": {},
   "source": [
    "Late Shipments"
   ]
  },
  {
   "cell_type": "code",
   "execution_count": 247,
   "id": "a2d75cde",
   "metadata": {},
   "outputs": [
    {
     "name": "stdout",
     "output_type": "stream",
     "text": [
      "Lower quantile: 0.046\n",
      "Upper quantile: 0.076\n"
     ]
    }
   ],
   "source": [
    "# Calculate a 95% confidence interval from late_shipments_boot_distn using the quantile method, labeling the lower and upper intervals lower and upper.\n",
    "lower, upper = np.quantile(late_shipments_boot_distn, [0.025, 0.975])\n",
    "\n",
    "print(f\"Lower quantile: {lower}\")\n",
    "print(f\"Upper quantile: {upper}\")"
   ]
  },
  {
   "cell_type": "markdown",
   "id": "1ca7bba5",
   "metadata": {},
   "source": [
    "## The Two-Sample Problem\n",
    "\n",
    "A common analytical task is to compare a continuous numerical variable across two distinct groups defined by a categorical variable. For example, we might want to know:\n",
    "\n",
    "  * Is the average salary different for employees who have a certification versus those who do not?\n",
    "  * Is the average blood pressure lower for a group taking a new drug compared to a group taking a placebo?\n",
    "\n",
    "This setup, where we compare the means of two independent groups, is the basis for the two-sample t-test.\n",
    "\n",
    "\n",
    "\n",
    "### Formulating hypotheses for a two-sample test\n",
    "\n",
    "Let $\\mu_1$ denote the population mean of Group 1 and $\\mu_2$ that of Group 2.\n",
    "\n",
    "* **Null hypothesis ($H_0$)** — no difference between population means:  \n",
    "  $H_0: \\mu_1 = \\mu_2$  \n",
    "  or equivalently  \n",
    "  $H_0: \\mu_1 - \\mu_2 = 0$\n",
    "\n",
    "* **Alternative hypothesis ($H_A$)** — actual difference exists (choose tail based on research question):\n",
    "  * *Two-tailed test* (any difference):  \n",
    "    $H_A: \\mu_1 \\neq \\mu_2$\n",
    "  * *Right-tailed test* (Group 1 > Group 2):  \n",
    "    $H_A: \\mu_1 > \\mu_2$\n",
    "  * *Left-tailed test* (Group 1 < Group 2):  \n",
    "    $H_A: \\mu_1 < \\mu_2$\n",
    "\n",
    "\n",
    "\n",
    "### The t‑statistic\n",
    "\n",
    "The test statistic for comparing two means is the **t‑statistic**. It standardises the difference between the two sample means into a single number, accounting for the variability within each sample. The generic form of a standardised test statistic is\n",
    "\n",
    "$$\n",
    "\\text{Test Statistic} = \\frac{\\text{Observed Sample Statistic} \\, - \\, \\text{Hypothesised Population Parameter}}{\\text{Standard Error of the Statistic}}\n",
    "$$\n",
    "\n",
    "### Two-Sample t-Test Formula\n",
    "\n",
    "The t-statistic for a two-sample test is calculated as:\n",
    "\n",
    "$$ t = \\frac{(\\bar{x}_1 - \\bar{x}_2) - (\\mu_1 - \\mu_2)}{\\text{SE}(\\bar{x}_1 - \\bar{x}_2)} $$\n",
    "\n",
    "where:\n",
    "- $\\bar{x}_1$ and $\\bar{x}_2$ are the sample means\n",
    "- $\\mu_1$ and $\\mu_2$ are the population means\n",
    "\n",
    "The standard error of the difference between two independent means is:\n",
    "\n",
    "$$ \\text{SE}(\\bar{x}_1 - \\bar{x}_2) = \\sqrt{\\frac{s_1^2}{n_1} + \\frac{s_2^2}{n_2}} $$\n",
    "\n",
    "where:\n",
    "- $s_1$ and $s_2$ are the sample standard deviations\n",
    "- $n_1$ and $n_2$ are the sample sizes\n",
    "\n",
    "#### Under the Null Hypothesis ($H_0$)\n",
    "\n",
    "When assuming $H_0$ is true ($\\mu_1 - \\mu_2 = 0$), the formula simplifies to:\n",
    "\n",
    "$$ t = \\frac{\\bar{x}_1 - \\bar{x}_2}{\\sqrt{\\dfrac{s_1^2}{n_1} + \\dfrac{s_2^2}{n_2}}} $$\n",
    "\n",
    "This t-value measures how many standard errors the observed difference ($\\bar{x}_1 - \\bar{x}_2$) lies from the hypothesized difference of zero.\n",
    "\n",
    "### A Complete Calculation in Python\n",
    "\n",
    "Let's walk through the calculation of the t-statistic for a two-sample problem.\n",
    "\n",
    "```python\n",
    "import pandas as pd\n",
    "import numpy as np\n",
    "\n",
    "# Create a generic, reproducible dataset\n",
    "np.random.seed(42)\n",
    "group1_data = np.random.normal(loc=110, scale=30, size=100)\n",
    "group2_data = np.random.normal(loc=100, scale=30, size=150)\n",
    "df = pd.DataFrame({\n",
    "    'group': ['Group 1'] * 100 + ['Group 2'] * 150,\n",
    "    'value': np.concatenate([group1_data, group2_data])\n",
    "})\n",
    "\n",
    "# Step 1: Calculate Groupwise Summary Statistics \n",
    "# Use .groupby() and .agg() to get mean, std, and count for each group\n",
    "summary_stats = df.groupby('group')['value'].agg(['mean', 'std', 'count'])\n",
    "print(summary_stats)\n",
    "\n",
    "# Extract the individual statistics\n",
    "mean_group1 = summary_stats.loc['Group 1', 'mean']\n",
    "mean_group2 = summary_stats.loc['Group 2', 'mean']\n",
    "std_group1 = summary_stats.loc['Group 1', 'std']\n",
    "std_group2 = summary_stats.loc['Group 2', 'std']\n",
    "n_group1 = summary_stats.loc['Group 1', 'count']\n",
    "n_group2 = summary_stats.loc['Group 2', 'count']\n",
    "\n",
    "# Step 2: Calculate the t-statistic \n",
    "# Numerator: Difference in sample means\n",
    "numerator = mean_group1 - mean_group2\n",
    "\n",
    "# Denominator: Standard error of the difference\n",
    "denominator = np.sqrt(\n",
    "    (std_group1 ** 2 / n_group1) + (std_group2 ** 2 / n_group2)\n",
    ")\n",
    "\n",
    "# Final t-statistic\n",
    "t_statistic = numerator / denominator\n",
    "\n",
    "print(f\"t-statistic: {t_statistic:.4f}\")\n",
    "```\n",
    "\n",
    "This calculated t-statistic would then be used to find a p-value, allowing us to make a formal conclusion about our hypothesis. A larger absolute t-statistic suggests a greater difference between the groups relative to their internal variability, providing stronger evidence against the null hypothesis."
   ]
  },
  {
   "cell_type": "code",
   "execution_count": 248,
   "id": "f0e961ae",
   "metadata": {},
   "outputs": [],
   "source": [
    "# Calculate the mean compensation for each group (\"adult\" and \"child\") using groupby and mean()\n",
    "xbar_adult, xbar_child = stack_overflow.groupby(\"age_first_code_cut\")[\n",
    "    \"converted_comp\"\n",
    "].mean()\n",
    "\n",
    "# Calculate the standard deviation of compensation for each group using groupby and std()\n",
    "s_adult, s_child = stack_overflow.groupby(\"age_first_code_cut\")[\"converted_comp\"].std()\n",
    "\n",
    "# Calculate the sample size (count) for each group using groupby and count()\n",
    "n_adult, n_child = stack_overflow.groupby(\"age_first_code_cut\")[\n",
    "    \"converted_comp\"\n",
    "].count()"
   ]
  },
  {
   "cell_type": "markdown",
   "id": "ca9bf3a9",
   "metadata": {},
   "source": [
    "#### Two-Sample t-Test Statistic\n",
    "\n",
    "The test statistic for comparing shipment weights:\n",
    "\n",
    "$$ t = \\frac{\\bar{x}_{\\text{no}} - \\bar{x}_{\\text{yes}}}{\\sqrt{ \\frac{s_{\\text{no}}^2}{n_{\\text{no}}} + \\frac{s_{\\text{yes}}^2}{n_{\\text{yes}}} }} $$\n",
    "\n",
    "Where:\n",
    "- $\\bar{x}_{\\text{no}}$: Mean weight of on-time shipments\n",
    "- $\\bar{x}_{\\text{yes}}$: Mean weight of late shipments\n",
    "- $s_{\\text{no}}$: Standard deviation of on-time shipments\n",
    "- $s_{\\text{yes}}$: Standard deviation of late shipments\n",
    "- $n_{\\text{no}}$: Number of on-time shipments\n",
    "- $n_{\\text{yes}}$: Number of late shipments\n",
    "\n",
    "### Research Context\n",
    "While trying to determine why some shipments are late, you may wonder if the weight of shipments that were **on time** is less than the weight of shipments that were **late**. \n",
    "\n",
    "The analysis uses:\n",
    "- `late_shipments` dataset split into:\n",
    "  - \"no\" group (`late == \"No\"`)\n",
    "  - \"yes\" group (`late == \"Yes\"`)\n",
    "- Weight measurements from `weight_kilograms` variable\n",
    "\n"
   ]
  },
  {
   "cell_type": "code",
   "execution_count": 249,
   "id": "50a27dfb",
   "metadata": {},
   "outputs": [
    {
     "name": "stdout",
     "output_type": "stream",
     "text": [
      "1.8699313316221844\n"
     ]
    }
   ],
   "source": [
    "# Calculate the numerator: difference in mean compensation between \"child\" and \"adult\" groups\n",
    "numerator = xbar_child - xbar_adult\n",
    "\n",
    "# Calculate the denominator: standard error of the difference in means\n",
    "# Formula: sqrt(s_child^2 / n_child + s_adult^2 / n_adult)\n",
    "denominator = np.sqrt(s_child**2 / n_child + s_adult**2 / n_adult)\n",
    "\n",
    "# Compute the t-statistic: standardized difference in means\n",
    "# t = (mean_child - mean_adult) / SE; measures how many standard errors the observed difference is from zero\n",
    "t_stat = numerator / denominator\n",
    "\n",
    "# Print the t-statistic; a larger absolute value indicates a more significant difference between groups\n",
    "print(t_stat)"
   ]
  },
  {
   "cell_type": "markdown",
   "id": "b2f5534e",
   "metadata": {},
   "source": [
    "### Standard error\n",
    "\n",
    "$$\n",
    "SE\\bigl(\\bar{x}_{\\text{child}} - \\bar{x}_{\\text{adult}}\\bigr) \\approx \\sqrt{\\frac{s_{\\text{child}}^{2}}{n_{\\text{child}}} + \\frac{s_{\\text{adult}}^{2}}{n_{\\text{adult}}}}\n",
    "$$\n",
    "\n",
    "$s$ is the standard deviation of the variable  \n",
    "$n$ is the sample size (number of observations/rows in the sample)\n",
    "\n",
    "\n",
    "#### Null Hypothesis == True\n",
    "If we assume that the null hypothesis is true, there's a simplification we can make. The null hypothesis assumes that the population means are equal, and their difference is zero, so the population term in the numerator disappears.\n",
    "\n",
    "\n",
    "If $H_0:\\ \\mu_{\\text{child}}=\\mu_{\\text{adult}}$ (so $\\mu_{\\text{child}}-\\mu_{\\text{adult}}=0$), the t-statistic is\n",
    "\n",
    "$$\n",
    "t\n",
    "=\n",
    "\\frac{(\\bar{x}_{\\text{child}} - \\bar{x}_{\\text{adult}}) - (\\mu_{\\text{child}} - \\mu_{\\text{adult}})}\n",
    "{\\mathrm{SE}(\\bar{x}_{\\text{child}} - \\bar{x}_{\\text{adult}})}\n",
    "=\n",
    "\\frac{\\bar{x}_{\\text{child}} - \\bar{x}_{\\text{adult}}}\n",
    "{\\mathrm{SE}(\\bar{x}_{\\text{child}} - \\bar{x}_{\\text{adult}})}.\n",
    "$$\n",
    "\n",
    "- $t$: t-statistic  \n",
    "- $\\bar{x}_{\\text{child}}$: sample mean of the child group  \n",
    "- $\\bar{x}_{\\text{adult}}$: sample mean of the adult group  \n",
    "- $\\mu_{\\text{child}},\\ \\mu_{\\text{adult}}$: population means  \n",
    "- $\\mathrm{SE}(\\bar{x}_{\\text{child}} - \\bar{x}_{\\text{adult}})$: standard error of the difference in means"
   ]
  },
  {
   "cell_type": "code",
   "execution_count": 250,
   "id": "fdf4ac3c",
   "metadata": {},
   "outputs": [],
   "source": [
    "late_no, late_yes = (\n",
    "    late_shipments[late_shipments[\"late\"] == flag] for flag in (\"No\", \"Yes\")\n",
    ")\n",
    "\n",
    "# Compute the mean and standard deviation of shipment weights for each group using tuple unpacking and generator expressions\n",
    "xbar_no, xbar_yes = late_shipments.groupby(\"late\")[\"weight_kilograms\"].mean()[\n",
    "    [\"No\", \"Yes\"]\n",
    "]\n",
    "\n",
    "s_no, s_yes = late_shipments.groupby(\"late\")[\"weight_kilograms\"].std(ddof=1)[\n",
    "    [\"No\", \"Yes\"]\n",
    "]\n",
    "\n",
    "# Get the sample size for each group by counting the number of rows in each DataFrame\n",
    "n_no, n_yes = len(late_no), len(late_yes)"
   ]
  },
  {
   "cell_type": "code",
   "execution_count": 251,
   "id": "d31638ea",
   "metadata": {},
   "outputs": [
    {
     "name": "stdout",
     "output_type": "stream",
     "text": [
      "-2.3936661778766433\n"
     ]
    }
   ],
   "source": [
    "# Calculate the numerator of the test statistic\n",
    "# A negative value means on-time shipments are lighter on average\n",
    "numerator = xbar_no - xbar_yes\n",
    "\n",
    "# Calculate the denominator (standard error) for independent samples\n",
    "# Formula: sqrt(s_no^2 / n_no + s_yes^2 / n_yes)\n",
    "# s_no**2 and s_yes**2 are the sample variances for each group\n",
    "# n_no and n_yes are the sample sizes for each group\n",
    "denominator = np.sqrt((s_no**2 / n_no) + (s_yes**2 / n_yes))\n",
    "\n",
    "# Calculate the t-statistic: standardized difference in means\n",
    "# t_stat tells us how many standard errors the observed difference is from zero (the null hypothesis)\n",
    "t_stat = numerator / denominator\n",
    "\n",
    "print(t_stat)"
   ]
  },
  {
   "cell_type": "markdown",
   "id": "4eb78041",
   "metadata": {},
   "source": [
    "Interpretation:\n",
    "1) A negative t-statistic indicates on-time shipments are lighter than late shipments.\n",
    "2) The magnitude shows how significant this difference is relative to sample variability."
   ]
  },
  {
   "cell_type": "markdown",
   "id": "966d1a26",
   "metadata": {},
   "source": [
    "## The t-distribution: A Family of Curves\n",
    "\n",
    "While a z-statistic follows the standard normal distribution, a **t-statistic** follows a **t-distribution**. Like the normal distribution, a t-distribution is bell-shaped and centered at zero. However, it has a key difference: **it has fatter tails**.\n",
    "\n",
    "This means that a t-distribution has more probability in its tails, reflecting the increased uncertainty we have when we use a sample standard deviation (`s`) to estimate a population standard deviation ($\\sigma$).\n",
    "\n",
    "The t-distribution is not a single distribution but a **family of distributions**. The exact shape of a particular t-distribution is defined by a single parameter: the **degrees of freedom (df)**.\n",
    "\n",
    "  * For a small number of degrees of freedom, the tails are very fat.\n",
    "  * As the degrees of freedom increase, the t-distribution's tails become thinner, and it converges towards the standard normal distribution. A t-distribution with infinite degrees of freedom is identical to the standard normal distribution.\n",
    "\n",
    "### Calculating Degrees of Freedom\n",
    "\n",
    "In statistics, **degrees of freedom** represent the number of independent values in a calculation that are free to vary. For an independent two-sample t-test, the degrees of freedom are calculated based on the sample sizes of the two groups. The standard formula is:\n",
    "\n",
    "$$df = n_1 + n_2 - 2$$\n",
    "\n",
    "Where $n\\_1$ and $n\\_2$ are the sample sizes of Group 1 and Group 2, respectively. The logic is that we start with $n_1 + n_2$ total observations and lose one degree of freedom for each of the two sample means we must estimate from the data.\n",
    "\n",
    "\n",
    "### Calculating the p-value from a t-statistic\n",
    "\n",
    "Once you have the t-statistic and degrees of freedom, calculate the p-value using the t-distribution's Cumulative Distribution Function (CDF). The `scipy.stats` library provides `t.cdf()` (analogous to `norm.cdf()` for z-tests).\n",
    "\n",
    "The calculation depends on the alternative hypothesis:\n",
    "\n",
    "* **Right-tailed test** ($H_A: \\mu_1 > \\mu_2$):  \n",
    "  p-value = area to the *right* of t-statistic  \n",
    "  ```python\n",
    "  p_value = 1 - t.cdf(t_stat, df=degrees_of_freedom)\n",
    "  ```\n",
    "\n",
    "* **Left-tailed test** ($H_A: \\mu_1 < \\mu_2$):  \n",
    "  p-value = area to the *left* of t-statistic  \n",
    "  ```python\n",
    "  p_value = t.cdf(t_stat, df=degrees_of_freedom)\n",
    "  ```\n",
    "\n",
    "* **Two-tailed test** ($H_A: \\mu_1 \\neq \\mu_2$):  \n",
    "  p-value = combined area in both tails  \n",
    "  ```python\n",
    "  p_value = 2 * (1 - t.cdf(abs(t_stat), df=degrees_of_freedom))\n",
    "  ```\n",
    "\n",
    "### A Complete Example\n",
    "\n",
    "Let's complete the hypothesis test from the previous topic by calculating the p-value from our t-statistic and making a statistical decision.\n",
    "\n",
    "```python\n",
    "import pandas as pd\n",
    "import numpy as np\n",
    "from scipy.stats import t\n",
    "\n",
    "# 1. Setup (from previous topic)\n",
    "# Create a generic, reproducible dataset\n",
    "np.random.seed(42)\n",
    "group1_data = np.random.normal(loc=110, scale=30, size=100)\n",
    "group2_data = np.random.normal(loc=100, scale=30, size=150)\n",
    "df = pd.DataFrame({\n",
    "    'group': ['Group 1'] * 100 + ['Group 2'] * 150,\n",
    "    'value': np.concatenate([group1_data, group2_data])\n",
    "})\n",
    "\n",
    "# Calculate groupwise summary statistics\n",
    "summary_stats = df.groupby('group')['value'].agg(['mean', 'std', 'count'])\n",
    "mean_group1 = summary_stats.loc['Group 1', 'mean']\n",
    "mean_group2 = summary_stats.loc['Group 2', 'mean']\n",
    "std_group1 = summary_stats.loc['Group 1', 'std']\n",
    "std_group2 = summary_stats.loc['Group 2', 'std']\n",
    "n_group1 = summary_stats.loc['Group 1', 'count']\n",
    "n_group2 = summary_stats.loc['Group 2', 'count']\n",
    "\n",
    "# Calculate the t-statistic\n",
    "numerator = mean_group1 - mean_group2\n",
    "denominator = np.sqrt((std_group1 ** 2 / n_group1) + (std_group2 ** 2 / n_group2))\n",
    "t_statistic = numerator / denominator\n",
    "\n",
    "# 2. State Hypotheses and Define Test\n",
    "# H0: The mean of Group 1 is equal to the mean of Group 2 (μ1 = μ2)\n",
    "# HA: The mean of Group 1 is greater than the mean of Group 2 (μ1 > μ2)\n",
    "# This is a right-tailed test.\n",
    "alpha = 0.05 # Significance level\n",
    "\n",
    "# 3. Calculate Degrees of Freedom\n",
    "degrees_of_freedom = n_group1 + n_group2 - 2\n",
    "\n",
    "# 4. Calculate the p-value \n",
    "# For a right-tailed test, we calculate the area to the right of our t-statistic.\n",
    "p_value = 1 - t.cdf(t_statistic, df=degrees_of_freedom)\n",
    "\n",
    "print(f\"t-statistic: {t_statistic:.4f}\")\n",
    "print(f\"Degrees of Freedom: {degrees_of_freedom}\")\n",
    "print(f\"P-value: {p_value:.4f}\")\n",
    "\n",
    "# 5. Make a Statistical Decision \n",
    "if p_value < alpha:\n",
    "    print(f\"\\nDecision: Reject H0, because p ({p_value:.4f}) < alpha ({alpha}).\")\n",
    "else:\n",
    "    print(f\"\\nDecision: Fail to reject H0, because p ({p_value:.4f}) >= alpha ({alpha}).\")\n",
    "```\n",
    "\n",
    "This complete workflow, from stating hypotheses to calculating the t-statistic and degrees of freedom to finally finding the p-value, allows for a rigorous statistical comparison between the means of two groups."
   ]
  },
  {
   "cell_type": "code",
   "execution_count": 252,
   "id": "b000f068",
   "metadata": {},
   "outputs": [
    {
     "name": "stdout",
     "output_type": "stream",
     "text": [
      "1.8699313316221844\n"
     ]
    }
   ],
   "source": [
    "# Calculating p-values: two means from different groups (RECAP)\n",
    "alpha = 0.1\n",
    "\n",
    "# Calculate the mean compensation for each group (\"adult\" and \"child\") using groupby and mean()\n",
    "xbar_adult, xbar_child = stack_overflow.groupby(\"age_first_code_cut\")[\n",
    "    \"converted_comp\"\n",
    "].mean()\n",
    "\n",
    "# Calculate the standard deviation of compensation for each group using groupby and std()\n",
    "s_adult, s_child = stack_overflow.groupby(\"age_first_code_cut\")[\"converted_comp\"].std()\n",
    "\n",
    "# Calculate the sample size (count) for each group using groupby and count()\n",
    "n_adult, n_child = stack_overflow.groupby(\"age_first_code_cut\")[\n",
    "    \"converted_comp\"\n",
    "].count()\n",
    "\n",
    "# Calculate the numerator: difference in mean compensation between \"child\" and \"adult\" groups\n",
    "numerator = xbar_child - xbar_adult\n",
    "\n",
    "# Calculate the denominator: standard error of the difference in means\n",
    "# Formula: sqrt(s_child^2 / n_child + s_adult^2 / n_adult)\n",
    "denominator = np.sqrt(s_child**2 / n_child + s_adult**2 / n_adult)\n",
    "\n",
    "# Compute the t-statistic: standardized difference in means\n",
    "# t = (mean_child - mean_adult) / SE; measures how many standard errors the observed difference is from zero\n",
    "t_stat = numerator / denominator\n",
    "\n",
    "# Print the t-statistic; a larger absolute value indicates a more significant difference between groups\n",
    "print(t_stat)"
   ]
  },
  {
   "cell_type": "markdown",
   "id": "b50ae5bc",
   "metadata": {},
   "source": [
    "Continuing the calculation from the RECAP"
   ]
  },
  {
   "cell_type": "code",
   "execution_count": 253,
   "id": "48706829",
   "metadata": {},
   "outputs": [
    {
     "name": "stdout",
     "output_type": "stream",
     "text": [
      "Right-tailed two-sample t-test for mean compensation (H_A: μ_child > μ_adult): p-value = 0.030811 (t = 1.8699, df = 2259)\n",
      "\n",
      "        Therefore, we should reject the null hypothesis in favor of the alternative hypothesis \n",
      "        that Stack Overflow data scientists who started coding as children earn more.\n",
      "        \n"
     ]
    }
   ],
   "source": [
    "from scipy.stats import t\n",
    "\n",
    "# Total number of observations from both groups -2\n",
    "degrees_of_freedom = n_child + n_adult - 2\n",
    "\n",
    "# Use t-distribution CDF not normal CDF\n",
    "p_value = 1 - t.cdf(t_stat, df=degrees_of_freedom)\n",
    "\n",
    "\n",
    "if p_value < alpha:\n",
    "    print(\n",
    "        f\"Right-tailed two-sample t-test for mean compensation (H_A: μ_child > μ_adult): p-value = {p_value:.6f} (t = {t_stat:.4f}, df = {degrees_of_freedom})\"\n",
    "    )\n",
    "    print(\n",
    "        \"\"\"\n",
    "        Therefore, we should reject the null hypothesis in favor of the alternative hypothesis \n",
    "        that Stack Overflow data scientists who started coding as children earn more.\n",
    "        \"\"\"\n",
    "    )"
   ]
  },
  {
   "cell_type": "markdown",
   "id": "badadf0a",
   "metadata": {},
   "source": [
    "Moving on to the late_shipment dataset now"
   ]
  },
  {
   "cell_type": "code",
   "execution_count": 254,
   "id": "1effb1bd",
   "metadata": {},
   "outputs": [
    {
     "name": "stdout",
     "output_type": "stream",
     "text": [
      "  t = -2.3937, df = 998, p-value (left-tailed) = 0.008432\n",
      "Conclusion: Reject H0 at alpha = 0.10.\n",
      "There is strong evidence that on-time shipments are lighter than late shipments \n",
      "(p = 0.008432 < 0.10).\n"
     ]
    }
   ],
   "source": [
    "# Significance threshold for the hypothesis test\n",
    "alpha = 0.1\n",
    "\n",
    "# Split the late_shipments dataset into on-time (\"No\") and late (\"Yes\") groups\n",
    "late_no, late_yes = (\n",
    "    late_shipments[late_shipments[\"late\"] == flag] for flag in (\"No\", \"Yes\")\n",
    ")\n",
    "\n",
    "# Group summary: mean weight (kilograms) for on-time and late shipments\n",
    "xbar_no, xbar_yes = late_shipments.groupby(\"late\")[\"weight_kilograms\"].mean()[\n",
    "    [\"No\", \"Yes\"]\n",
    "]\n",
    "\n",
    "# Group summary: sample standard deviations (ddof=1) for each group\n",
    "s_no, s_yes = late_shipments.groupby(\"late\")[\"weight_kilograms\"].std(ddof=1)[\n",
    "    [\"No\", \"Yes\"]\n",
    "]\n",
    "\n",
    "# Sample sizes for each group\n",
    "n_no, n_yes = len(late_no), len(late_yes)\n",
    "\n",
    "# Compute the test statistic for the independent two-sample t-test:\n",
    "# t = (mean_no - mean_yes) / sqrt(s_no^2/n_no + s_yes^2/n_yes)\n",
    "numerator = xbar_no - xbar_yes\n",
    "denominator = np.sqrt((s_no**2 / n_no) + (s_yes**2 / n_yes))\n",
    "t_stat = numerator / denominator\n",
    "\n",
    "# Degrees of freedom for the independent two-sample t-test (pooled df)\n",
    "degrees_of_freedom = n_no + n_yes - 2\n",
    "\n",
    "# Our research question: are on-time shipments lighter than late shipments?\n",
    "# This is a left-tailed test: H_A: mu_no < mu_yes\n",
    "p_value = t.cdf(t_stat, df=degrees_of_freedom)\n",
    "\n",
    "# Report results with context and decisive language\n",
    "print(\n",
    "    f\"  t = {t_stat:.4f}, df = {degrees_of_freedom}, p-value (left-tailed) = {p_value:.6f}\"\n",
    ")\n",
    "\n",
    "if p_value < alpha:\n",
    "    print(\n",
    "        f\"Conclusion: Reject H0 at alpha = {alpha:.2f}.\\n\"\n",
    "        f\"There is strong evidence that on-time shipments are lighter than late shipments \\n\"\n",
    "        f\"(p = {p_value:.6f} < {alpha:.2f}).\"\n",
    "    )\n",
    "else:\n",
    "    print(\n",
    "        f\"Conclusion: Fail to reject H0 at alpha = {alpha:.2f}. \\n\"\n",
    "        f\"There is insufficient evidence that on-time shipments are lighter than late shipments \"\n",
    "        f\"(p = {p_value:.6f} >= {alpha:.2f}).\"\n",
    "    )"
   ]
  },
  {
   "cell_type": "markdown",
   "id": "54aa1a99",
   "metadata": {},
   "source": [
    "## Independent vs. Paired Samples\n",
    "\n",
    "It is critical to distinguish between independent and paired samples, as using the wrong test can lead to incorrect conclusions.\n",
    "\n",
    "  * **Independent Samples**: The observations in one group have no direct relationship to the observations in the other. The groups are mutually exclusive. An example is comparing the test scores of a control group of students to a treatment group of *different* students. An **independent two-sample t-test** is used here.\n",
    "\n",
    "  * **Paired (or Dependent) Samples**: Each observation in one group is directly linked to a specific observation in the other group. This structure is common in:\n",
    "\n",
    "      * **Before-and-after studies**: Measuring a subject's weight before and after an intervention.\n",
    "      * **Matched-pair studies**: Comparing outcomes for subjects who have been matched on key characteristics.\n",
    "      * **Repeated measures**: Measuring the same subject under two different conditions. The provided example of comparing vote percentages in the *same counties* across two different elections is a classic case of paired data.\n",
    "\n",
    "Using an independent (unpaired) t-test on paired data is a statistical error. It ignores the valuable information contained in the pairing, which can reduce the statistical power of the test and increase the chances of a false negative (a Type II error).\n",
    "\n",
    "### The Logic of the Paired t-test: From Two Samples to One\n",
    "\n",
    "The elegance of the paired t-test is that it simplifies a two-sample problem into a **one-sample problem**. Instead of analyzing two separate groups of data, we analyze a single group of **differences**.\n",
    "\n",
    "1.  For each pair, calculate the difference between the two measurements.\n",
    "2.  This creates a single new sample of these difference values.\n",
    "3.  We then perform a one-sample t-test on this sample of differences.\n",
    "\n",
    "This transforms the original hypothesis about the two group means into an equivalent hypothesis about the mean of the differences ($\\mu_{\\text{diff}}$).\n",
    "\n",
    "  * **Original Hypotheses**: $H_0: \\mu_1 - \\mu_2 = 0 \\quad$ vs. $ \\quad H_A: \\mu_1 - \\mu_2 \\neq 0$\n",
    "  * **Equivalent Paired Hypotheses**: $H_0: \\mu_{\\text{diff}} = 0 \\quad$ vs. $ \\quad H_A: \\mu_{\\text{diff}} \\neq 0$\n",
    "\n",
    "\n",
    "## The Paired t-statistic\n",
    "\n",
    "Since the problem is reduced to a one-sample test on the differences, we use the one-sample t-statistic formula:\n",
    "\n",
    "$$\n",
    "t \\;=\\; \\frac{\\bar{x}_{\\text{diff}} - \\mu_{\\text{diff,hypothesized}}}{\\operatorname{SE}(\\bar{x}_{\\text{diff}})}\n",
    "\\;=\\;\n",
    "\\frac{\\bar{x}_{\\text{diff}} - 0}{\\dfrac{s_{\\text{diff}}}{\\sqrt{n_{\\text{diff}}}}}\n",
    "$$\n",
    "\n",
    "Where:\n",
    "\n",
    "  * $\\bar{x}_{\\text{diff}}$ is the mean of the sample differences.\n",
    "  * $s_{\\text{diff}}$ is the standard deviation of the sample differences.\n",
    "  * $n_{\\text{diff}}$ is the number of pairs (i.e., the sample size of the differences).\n",
    "\n",
    "The degrees of freedom (df) for this test are:\n",
    "\n",
    "$$\n",
    "df = n_{\\text{diff}} - 1\n",
    "$$\n",
    "\n",
    "\n",
    "### Implementation in Python\n",
    "\n",
    "We can perform a paired t-test in two ways: by manually calculating the differences and running a one-sample test, or by using a function that handles the pairing directly.\n",
    "\n",
    "#### The Manual Approach (as a One-Sample t-test)\n",
    "\n",
    "This approach makes the underlying logic of the test explicit.\n",
    "\n",
    "```python\n",
    "import pandas as pd\n",
    "import numpy as np\n",
    "import pingouin\n",
    "from scipy.stats import t\n",
    "\n",
    "# 1. Create a generic, reproducible paired dataset\n",
    "np.random.seed(42)\n",
    "before_scores = np.random.normal(loc=100, scale=15, size=50)\n",
    "# Create 'after' scores that are slightly higher on average\n",
    "after_scores = before_scores + np.random.normal(loc=5, scale=5, size=50)\n",
    "df = pd.DataFrame({'before': before_scores, 'after': after_scores})\n",
    "\n",
    "# 2. Calculate the 'difference' column\n",
    "df['difference'] = df['after'] - df['before']\n",
    "\n",
    "# 3. Perform a one-sample t-test on the differences against a mean of 0\n",
    "# This is equivalent to pingouin.ttest(x=df['difference'], y=0)\n",
    "xbar_diff = df['difference'].mean()\n",
    "s_diff = df['difference'].std()\n",
    "n_diff = len(df['difference'])\n",
    "df_diff = n_diff - 1\n",
    "\n",
    "# Calculate the t-statistic manually\n",
    "t_statistic_manual = (xbar_diff - 0) / (s_diff / np.sqrt(n_diff))\n",
    "# Calculate the p-value\n",
    "p_value_manual = 1 - t.cdf(t_statistic_manual, df=df_diff) # for a right-tailed test\n",
    "\n",
    "print(f\"Mean Difference: {xbar_diff:.4f}\")\n",
    "print(f\"t-statistic: {t_statistic_manual:.4f}\")\n",
    "print(f\"p-value: {p_value_manual:.8f}\")\n",
    "```\n",
    "\n",
    "#### The Direct Approach (Using `pingouin`)\n",
    "\n",
    "The `pingouin.ttest()` function can perform the entire operation directly by setting the `paired=True` argument. This is the more common and convenient approach.\n",
    "\n",
    "```python\n",
    "# Use pingouin.ttest with paired=True\n",
    "# We test HA: after > before, which is a 'greater' alternative.\n",
    "ttest_results = pingouin.ttest(\n",
    "    x=df['after'], \n",
    "    y=df['before'],\n",
    "    paired=True,\n",
    "    alternative='greater'\n",
    ")\n",
    "\n",
    "print(ttest_results)\n",
    "```\n",
    "\n",
    "The t-statistic and p-value from the direct `pingouin` function are identical to our manual one-sample test on the differences, confirming that both methods are performing the same underlying calculation. This streamlined approach correctly accounts for the paired nature of the data to produce a more powerful and accurate statistical test."
   ]
  },
  {
   "cell_type": "code",
   "execution_count": 255,
   "id": "5de28c8f",
   "metadata": {},
   "outputs": [
    {
     "data": {
      "application/vnd.microsoft.datawrangler.viewer.v0+json": {
       "columns": [
        {
         "name": "index",
         "rawType": "int64",
         "type": "integer"
        },
        {
         "name": "state",
         "rawType": "object",
         "type": "string"
        },
        {
         "name": "county",
         "rawType": "object",
         "type": "string"
        },
        {
         "name": "repub_percent_08",
         "rawType": "float64",
         "type": "float"
        },
        {
         "name": "repub_percent_12",
         "rawType": "float64",
         "type": "float"
        }
       ],
       "ref": "8f2d9f38-b427-48ea-90cd-69cc6438e056",
       "rows": [
        [
         "0",
         "Alabama",
         "Hale",
         "38.95787679571463",
         "37.13988198542173"
        ],
        [
         "1",
         "Arkansas",
         "Nevada",
         "56.72627235213204",
         "58.98345153664303"
        ],
        [
         "2",
         "California",
         "Lake",
         "38.896719129277265",
         "39.33136676499508"
        ],
        [
         "3",
         "California",
         "Ventura",
         "42.923190111830486",
         "45.250692715628766"
        ],
        [
         "4",
         "Colorado",
         "Lincoln",
         "74.52256944444444",
         "73.76475732400525"
        ]
       ],
       "shape": {
        "columns": 4,
        "rows": 5
       }
      },
      "text/html": [
       "<div>\n",
       "<style scoped>\n",
       "    .dataframe tbody tr th:only-of-type {\n",
       "        vertical-align: middle;\n",
       "    }\n",
       "\n",
       "    .dataframe tbody tr th {\n",
       "        vertical-align: top;\n",
       "    }\n",
       "\n",
       "    .dataframe thead th {\n",
       "        text-align: right;\n",
       "    }\n",
       "</style>\n",
       "<table border=\"1\" class=\"dataframe\">\n",
       "  <thead>\n",
       "    <tr style=\"text-align: right;\">\n",
       "      <th></th>\n",
       "      <th>state</th>\n",
       "      <th>county</th>\n",
       "      <th>repub_percent_08</th>\n",
       "      <th>repub_percent_12</th>\n",
       "    </tr>\n",
       "  </thead>\n",
       "  <tbody>\n",
       "    <tr>\n",
       "      <th>0</th>\n",
       "      <td>Alabama</td>\n",
       "      <td>Hale</td>\n",
       "      <td>38.957877</td>\n",
       "      <td>37.139882</td>\n",
       "    </tr>\n",
       "    <tr>\n",
       "      <th>1</th>\n",
       "      <td>Arkansas</td>\n",
       "      <td>Nevada</td>\n",
       "      <td>56.726272</td>\n",
       "      <td>58.983452</td>\n",
       "    </tr>\n",
       "    <tr>\n",
       "      <th>2</th>\n",
       "      <td>California</td>\n",
       "      <td>Lake</td>\n",
       "      <td>38.896719</td>\n",
       "      <td>39.331367</td>\n",
       "    </tr>\n",
       "    <tr>\n",
       "      <th>3</th>\n",
       "      <td>California</td>\n",
       "      <td>Ventura</td>\n",
       "      <td>42.923190</td>\n",
       "      <td>45.250693</td>\n",
       "    </tr>\n",
       "    <tr>\n",
       "      <th>4</th>\n",
       "      <td>Colorado</td>\n",
       "      <td>Lincoln</td>\n",
       "      <td>74.522569</td>\n",
       "      <td>73.764757</td>\n",
       "    </tr>\n",
       "  </tbody>\n",
       "</table>\n",
       "</div>"
      ],
      "text/plain": [
       "        state   county  repub_percent_08  repub_percent_12\n",
       "0     Alabama     Hale         38.957877         37.139882\n",
       "1    Arkansas   Nevada         56.726272         58.983452\n",
       "2  California     Lake         38.896719         39.331367\n",
       "3  California  Ventura         42.923190         45.250693\n",
       "4    Colorado  Lincoln         74.522569         73.764757"
      ]
     },
     "execution_count": 255,
     "metadata": {},
     "output_type": "execute_result"
    }
   ],
   "source": [
    "url = \"https://assets.datacamp.com/production/repositories/5982/datasets/7e3351ff263f77755c046c79d5ff855f4de3307e/repub_votes_potus_08_12.feather\"\n",
    "repub_votes = pd.read_feather(url)\n",
    "repub_votes.head()"
   ]
  },
  {
   "cell_type": "code",
   "execution_count": 256,
   "id": "2e6f0475",
   "metadata": {},
   "outputs": [
    {
     "data": {
      "image/png": "[encoded data removed]",
      "text/plain": [
       "<Figure size 700x500 with 1 Axes>"
      ]
     },
     "metadata": {},
     "output_type": "display_data"
    }
   ],
   "source": [
    "import matplotlib.pyplot as plt\n",
    "import seaborn as sns\n",
    "\n",
    "repub_votes[\"diff\"] = repub_votes[\"repub_percent_08\"] - repub_votes[\"repub_percent_12\"]\n",
    "\n",
    "fig, ax = plt.subplots(figsize=(7, 5))\n",
    "\n",
    "# Histogram with kernel density estimate\n",
    "sns.histplot(\n",
    "    repub_votes[\"diff\"], bins=20, kde=True, color=\"C0\", edgecolor=\"black\", ax=ax\n",
    ")\n",
    "\n",
    "# Labels, title and styling\n",
    "ax.set_xlabel(\"Change in Republican Vote % (2008 - 2012)\")\n",
    "ax.set_ylabel(\"Number of counties\")\n",
    "ax.set_title(\"Distribution of Change in Republican Vote Share (2008 vs 2012)\")\n",
    "\n",
    "sns.despine()\n",
    "ax.grid(True, alpha=0.5, linewidth=0.5, color=\"grey\")\n",
    "\n",
    "plt.tight_layout()\n",
    "plt.show()"
   ]
  },
  {
   "cell_type": "code",
   "execution_count": 257,
   "id": "c86b2367",
   "metadata": {},
   "outputs": [
    {
     "name": "stdout",
     "output_type": "stream",
     "text": [
      "Conclusion: Reject H0 at alpha = 0.50.\n",
      "Evidence suggests the mean change in Republican vote share (2008 − 2012) is less than 0.\n",
      "Mean change = -2.8771, t = -5.6010, df = 99, p (left-tailed) = 9.57e-08.\n"
     ]
    }
   ],
   "source": [
    "# import the t-distribution object from scipy.stats to compute CDF and other t-based functions\n",
    "from scipy.stats import t\n",
    "\n",
    "# set the significance level (alpha) — probability of type I error; choose before testing\n",
    "alpha = 0.5\n",
    "\n",
    "# compute the sample mean of the paired differences (mean change in Republican vote share)\n",
    "xbar_diff = repub_votes[\"diff\"].mean()\n",
    "\n",
    "# determine the number of paired observations (sample size)\n",
    "n_diff = len(repub_votes)\n",
    "\n",
    "# compute the sample standard deviation of the differences (estimator of variability)\n",
    "s_diff = repub_votes[\"diff\"].std()\n",
    "\n",
    "# compute the one-sample t-statistic:\n",
    "# numerator = observed mean difference - hypothesized mean difference (0 here),\n",
    "# denominator = estimated standard error = s_diff / sqrt(n)\n",
    "t_stat = (xbar_diff - 0) / np.sqrt(s_diff**2 / n_diff)\n",
    "\n",
    "# degrees of freedom for a one-sample (paired) t-test is n - 1\n",
    "degrees_of_freedom = n_diff - 1\n",
    "\n",
    "# calculate the left-tailed p-value using the t-distribution CDF:\n",
    "# p = P(T <= t_stat | H0) for the t random variable with specified df\n",
    "p_value = t.cdf(t_stat, df=degrees_of_freedom)\n",
    "\n",
    "# decision rule: if p-value is less than alpha, reject H0 in favor of the left-tailed alternative\n",
    "if p_value < alpha:\n",
    "    # report rejection of the null hypothesis and provide test statistics and p-value\n",
    "    print(\n",
    "        f\"Conclusion: Reject H0 at alpha = {alpha:.2f}.\\n\"\n",
    "        f\"Evidence suggests the mean change in Republican vote share (2008 − 2012) is less than 0.\\n\"\n",
    "        f\"Mean change = {xbar_diff:.4f}, t = {t_stat:.4f}, df = {degrees_of_freedom}, p (left-tailed) = {p_value:.2e}.\"\n",
    "    )\n",
    "else:\n",
    "    # report failure to reject the null hypothesis and provide test statistics and p-value\n",
    "    print(\n",
    "        f\"Conclusion: Fail to reject H0 at alpha = {alpha:.2f}.\\n\"\n",
    "        f\"There is insufficient evidence that the mean change in Republican vote share (2008 − 2012) is less than 0.\\n\"\n",
    "        f\"Mean change = {xbar_diff:.4f}, t = {t_stat:.4f}, df = {degrees_of_freedom}, p (left-tailed) = {p_value:.2e}.\"\n",
    "    )"
   ]
  },
  {
   "cell_type": "code",
   "execution_count": 258,
   "id": "816299c4",
   "metadata": {},
   "outputs": [
    {
     "data": {
      "application/vnd.microsoft.datawrangler.viewer.v0+json": {
       "columns": [
        {
         "name": "index",
         "rawType": "object",
         "type": "string"
        },
        {
         "name": "T",
         "rawType": "float64",
         "type": "float"
        },
        {
         "name": "dof",
         "rawType": "int64",
         "type": "integer"
        },
        {
         "name": "alternative",
         "rawType": "object",
         "type": "string"
        },
        {
         "name": "p-val",
         "rawType": "float64",
         "type": "float"
        },
        {
         "name": "CI95%",
         "rawType": "object",
         "type": "unknown"
        },
        {
         "name": "cohen-d",
         "rawType": "float64",
         "type": "float"
        },
        {
         "name": "BF10",
         "rawType": "object",
         "type": "string"
        },
        {
         "name": "power",
         "rawType": "float64",
         "type": "float"
        }
       ],
       "ref": "ef8d187e-7ecd-49d4-9be3-a398b70d2cfc",
       "rows": [
        [
         "T-test",
         "-5.601043121928488",
         "99",
         "less",
         "9.572537285272479e-08",
         "[ -inf -2.02]",
         "0.560104312192849",
         "1.323e+05",
         "0.9999552553934182"
        ]
       ],
       "shape": {
        "columns": 8,
        "rows": 1
       }
      },
      "text/html": [
       "<div>\n",
       "<style scoped>\n",
       "    .dataframe tbody tr th:only-of-type {\n",
       "        vertical-align: middle;\n",
       "    }\n",
       "\n",
       "    .dataframe tbody tr th {\n",
       "        vertical-align: top;\n",
       "    }\n",
       "\n",
       "    .dataframe thead th {\n",
       "        text-align: right;\n",
       "    }\n",
       "</style>\n",
       "<table border=\"1\" class=\"dataframe\">\n",
       "  <thead>\n",
       "    <tr style=\"text-align: right;\">\n",
       "      <th></th>\n",
       "      <th>T</th>\n",
       "      <th>dof</th>\n",
       "      <th>alternative</th>\n",
       "      <th>p-val</th>\n",
       "      <th>CI95%</th>\n",
       "      <th>cohen-d</th>\n",
       "      <th>BF10</th>\n",
       "      <th>power</th>\n",
       "    </tr>\n",
       "  </thead>\n",
       "  <tbody>\n",
       "    <tr>\n",
       "      <th>T-test</th>\n",
       "      <td>-5.601043</td>\n",
       "      <td>99</td>\n",
       "      <td>less</td>\n",
       "      <td>9.572537e-08</td>\n",
       "      <td>[-inf, -2.02]</td>\n",
       "      <td>0.560104</td>\n",
       "      <td>1.323e+05</td>\n",
       "      <td>0.999955</td>\n",
       "    </tr>\n",
       "  </tbody>\n",
       "</table>\n",
       "</div>"
      ],
      "text/plain": [
       "               T  dof alternative         p-val          CI95%   cohen-d  \\\n",
       "T-test -5.601043   99        less  9.572537e-08  [-inf, -2.02]  0.560104   \n",
       "\n",
       "             BF10     power  \n",
       "T-test  1.323e+05  0.999955  "
      ]
     },
     "metadata": {},
     "output_type": "display_data"
    }
   ],
   "source": [
    "# pingouin.ttest computes t-statistic, p-value, degrees of freedom and effect sizes for one-sample/paired/two-sample tests.\n",
    "from pingouin import ttest\n",
    "\n",
    "# Perform a one-sample t-test on the 'diff' column vs. 0.\n",
    "# H0: μ_diff = 0; alternative='less' specifies a left-tailed test (HA: μ_diff < 0).\n",
    "repub_ttest = ttest(x=repub_votes[\"diff\"], y=0, alternative=\"less\")\n",
    "\n",
    "# Display the pingouin result table (contains t, dof, tail, p-val, CI, and effect size estimates).\n",
    "display(repub_ttest)"
   ]
  },
  {
   "cell_type": "markdown",
   "id": "ec8dc042",
   "metadata": {},
   "source": [
    "Variation for a ttest with paired=True"
   ]
  },
  {
   "cell_type": "code",
   "execution_count": 259,
   "id": "2f5b9b8d",
   "metadata": {},
   "outputs": [
    {
     "data": {
      "application/vnd.microsoft.datawrangler.viewer.v0+json": {
       "columns": [
        {
         "name": "index",
         "rawType": "object",
         "type": "string"
        },
        {
         "name": "T",
         "rawType": "float64",
         "type": "float"
        },
        {
         "name": "dof",
         "rawType": "int64",
         "type": "integer"
        },
        {
         "name": "alternative",
         "rawType": "object",
         "type": "string"
        },
        {
         "name": "p-val",
         "rawType": "float64",
         "type": "float"
        },
        {
         "name": "CI95%",
         "rawType": "object",
         "type": "unknown"
        },
        {
         "name": "cohen-d",
         "rawType": "float64",
         "type": "float"
        },
        {
         "name": "BF10",
         "rawType": "object",
         "type": "string"
        },
        {
         "name": "power",
         "rawType": "float64",
         "type": "float"
        }
       ],
       "ref": "37ed4d07-bf61-4e65-8648-c55ae8aca5f6",
       "rows": [
        [
         "T-test",
         "-5.601043121928488",
         "99",
         "less",
         "9.572537285272479e-08",
         "[ -inf -2.02]",
         "0.21736425200286677",
         "1.323e+05",
         "0.6963379189196939"
        ]
       ],
       "shape": {
        "columns": 8,
        "rows": 1
       }
      },
      "text/html": [
       "<div>\n",
       "<style scoped>\n",
       "    .dataframe tbody tr th:only-of-type {\n",
       "        vertical-align: middle;\n",
       "    }\n",
       "\n",
       "    .dataframe tbody tr th {\n",
       "        vertical-align: top;\n",
       "    }\n",
       "\n",
       "    .dataframe thead th {\n",
       "        text-align: right;\n",
       "    }\n",
       "</style>\n",
       "<table border=\"1\" class=\"dataframe\">\n",
       "  <thead>\n",
       "    <tr style=\"text-align: right;\">\n",
       "      <th></th>\n",
       "      <th>T</th>\n",
       "      <th>dof</th>\n",
       "      <th>alternative</th>\n",
       "      <th>p-val</th>\n",
       "      <th>CI95%</th>\n",
       "      <th>cohen-d</th>\n",
       "      <th>BF10</th>\n",
       "      <th>power</th>\n",
       "    </tr>\n",
       "  </thead>\n",
       "  <tbody>\n",
       "    <tr>\n",
       "      <th>T-test</th>\n",
       "      <td>-5.601043</td>\n",
       "      <td>99</td>\n",
       "      <td>less</td>\n",
       "      <td>9.572537e-08</td>\n",
       "      <td>[-inf, -2.02]</td>\n",
       "      <td>0.217364</td>\n",
       "      <td>1.323e+05</td>\n",
       "      <td>0.696338</td>\n",
       "    </tr>\n",
       "  </tbody>\n",
       "</table>\n",
       "</div>"
      ],
      "text/plain": [
       "               T  dof alternative         p-val          CI95%   cohen-d  \\\n",
       "T-test -5.601043   99        less  9.572537e-08  [-inf, -2.02]  0.217364   \n",
       "\n",
       "             BF10     power  \n",
       "T-test  1.323e+05  0.696338  "
      ]
     },
     "metadata": {},
     "output_type": "display_data"
    }
   ],
   "source": [
    "from pingouin import ttest\n",
    "\n",
    "# It returns a result table with t, degrees of freedom, tail, p-value, CI, and effect sizes.\n",
    "# Syntax: ttest(x=..., y=..., paired=True, alternative='less') where alternative='less' sets a left-tailed test (HA: mean_08 < mean_12).\n",
    "repub_ttest_paired = ttest(\n",
    "    x=repub_votes[\"repub_percent_08\"],\n",
    "    y=repub_votes[\"repub_percent_12\"],\n",
    "    paired=True,\n",
    "    alternative=\"less\",\n",
    ")\n",
    "\n",
    "# Display the pingouin result object (table). For a left-tailed test the p-value is P(T <= t);\n",
    "display(repub_ttest_paired)"
   ]
  },
  {
   "cell_type": "code",
   "execution_count": 260,
   "id": "0990b455",
   "metadata": {},
   "outputs": [
    {
     "data": {
      "application/vnd.microsoft.datawrangler.viewer.v0+json": {
       "columns": [
        {
         "name": "index",
         "rawType": "int64",
         "type": "integer"
        },
        {
         "name": "state",
         "rawType": "object",
         "type": "string"
        },
        {
         "name": "county",
         "rawType": "object",
         "type": "string"
        },
        {
         "name": "dem_percent_12",
         "rawType": "float64",
         "type": "float"
        },
        {
         "name": "dem_percent_16",
         "rawType": "float64",
         "type": "float"
        }
       ],
       "ref": "d9a012b0-195a-416b-9d35-ab3ed329c81c",
       "rows": [
        [
         "0",
         "Alabama",
         "Bullock",
         "76.30590003757986",
         "74.94692144373673"
        ],
        [
         "1",
         "Alabama",
         "Chilton",
         "19.453670828083837",
         "15.847351516141325"
        ],
        [
         "2",
         "Alabama",
         "Clay",
         "26.673671570099067",
         "18.67451690821256"
        ],
        [
         "3",
         "Alabama",
         "Cullman",
         "14.661752328989754",
         "10.028252316954031"
        ],
        [
         "4",
         "Alabama",
         "Escambia",
         "36.91573071491022",
         "31.020545638262043"
        ]
       ],
       "shape": {
        "columns": 4,
        "rows": 5
       }
      },
      "text/html": [
       "<div>\n",
       "<style scoped>\n",
       "    .dataframe tbody tr th:only-of-type {\n",
       "        vertical-align: middle;\n",
       "    }\n",
       "\n",
       "    .dataframe tbody tr th {\n",
       "        vertical-align: top;\n",
       "    }\n",
       "\n",
       "    .dataframe thead th {\n",
       "        text-align: right;\n",
       "    }\n",
       "</style>\n",
       "<table border=\"1\" class=\"dataframe\">\n",
       "  <thead>\n",
       "    <tr style=\"text-align: right;\">\n",
       "      <th></th>\n",
       "      <th>state</th>\n",
       "      <th>county</th>\n",
       "      <th>dem_percent_12</th>\n",
       "      <th>dem_percent_16</th>\n",
       "    </tr>\n",
       "  </thead>\n",
       "  <tbody>\n",
       "    <tr>\n",
       "      <th>0</th>\n",
       "      <td>Alabama</td>\n",
       "      <td>Bullock</td>\n",
       "      <td>76.305900</td>\n",
       "      <td>74.946921</td>\n",
       "    </tr>\n",
       "    <tr>\n",
       "      <th>1</th>\n",
       "      <td>Alabama</td>\n",
       "      <td>Chilton</td>\n",
       "      <td>19.453671</td>\n",
       "      <td>15.847352</td>\n",
       "    </tr>\n",
       "    <tr>\n",
       "      <th>2</th>\n",
       "      <td>Alabama</td>\n",
       "      <td>Clay</td>\n",
       "      <td>26.673672</td>\n",
       "      <td>18.674517</td>\n",
       "    </tr>\n",
       "    <tr>\n",
       "      <th>3</th>\n",
       "      <td>Alabama</td>\n",
       "      <td>Cullman</td>\n",
       "      <td>14.661752</td>\n",
       "      <td>10.028252</td>\n",
       "    </tr>\n",
       "    <tr>\n",
       "      <th>4</th>\n",
       "      <td>Alabama</td>\n",
       "      <td>Escambia</td>\n",
       "      <td>36.915731</td>\n",
       "      <td>31.020546</td>\n",
       "    </tr>\n",
       "  </tbody>\n",
       "</table>\n",
       "</div>"
      ],
      "text/plain": [
       "     state    county  dem_percent_12  dem_percent_16\n",
       "0  Alabama   Bullock       76.305900       74.946921\n",
       "1  Alabama   Chilton       19.453671       15.847352\n",
       "2  Alabama      Clay       26.673672       18.674517\n",
       "3  Alabama   Cullman       14.661752       10.028252\n",
       "4  Alabama  Escambia       36.915731       31.020546"
      ]
     },
     "execution_count": 260,
     "metadata": {},
     "output_type": "execute_result"
    }
   ],
   "source": [
    "url = \"https://assets.datacamp.com/production/repositories/5982/datasets/4ab6431d773d1fe659ac120b4b49a1b525a76712/dem_votes_potus_12_16.feather\"\n",
    "sample_dem_data = pd.read_feather(url)\n",
    "sample_dem_data.head()"
   ]
  },
  {
   "cell_type": "code",
   "execution_count": 261,
   "id": "9ed77a47",
   "metadata": {},
   "outputs": [
    {
     "name": "stdout",
     "output_type": "stream",
     "text": [
      "5.040139140132317\n"
     ]
    }
   ],
   "source": [
    "# Create a new column 'diff' that stores the difference in Democratic vote percentage between 2012 and 2016 for each county.\n",
    "sample_dem_data[\"diff\"] = (\n",
    "    sample_dem_data[\"dem_percent_12\"] - sample_dem_data[\"dem_percent_16\"]\n",
    ")\n",
    "\n",
    "# Calculate the mean of the 'diff' column; this represents the average change in Democratic vote share across all counties.\n",
    "xbar_diff = sample_dem_data[\"diff\"].mean()\n",
    "\n",
    "# Calculate the standard deviation of the 'diff' column; this measures the variability in the change of Democratic vote share.\n",
    "s_diff = sample_dem_data[\"diff\"].std()\n",
    "\n",
    "# Print the standard deviation to understand how much the change in vote share varies from county to county.\n",
    "print(s_diff)"
   ]
  },
  {
   "cell_type": "code",
   "execution_count": 262,
   "id": "f7acf2bd",
   "metadata": {},
   "outputs": [
    {
     "data": {
      "application/vnd.microsoft.datawrangler.viewer.v0+json": {
       "columns": [
        {
         "name": "index",
         "rawType": "int64",
         "type": "integer"
        },
        {
         "name": "state",
         "rawType": "object",
         "type": "string"
        },
        {
         "name": "county",
         "rawType": "object",
         "type": "string"
        },
        {
         "name": "dem_percent_12",
         "rawType": "float64",
         "type": "float"
        },
        {
         "name": "dem_percent_16",
         "rawType": "float64",
         "type": "float"
        },
        {
         "name": "diff",
         "rawType": "float64",
         "type": "float"
        }
       ],
       "ref": "3a843d19-4815-4e1e-9d98-89e36dfcb8f3",
       "rows": [
        [
         "0",
         "Alabama",
         "Bullock",
         "76.30590003757986",
         "74.94692144373673",
         "1.3589785938431334"
        ],
        [
         "1",
         "Alabama",
         "Chilton",
         "19.453670828083837",
         "15.847351516141325",
         "3.606319311942512"
        ],
        [
         "2",
         "Alabama",
         "Clay",
         "26.673671570099067",
         "18.67451690821256",
         "7.999154661886507"
        ],
        [
         "3",
         "Alabama",
         "Cullman",
         "14.661752328989754",
         "10.028252316954031",
         "4.633500012035723"
        ],
        [
         "4",
         "Alabama",
         "Escambia",
         "36.91573071491022",
         "31.020545638262043",
         "5.8951850766481755"
        ]
       ],
       "shape": {
        "columns": 5,
        "rows": 5
       }
      },
      "text/html": [
       "<div>\n",
       "<style scoped>\n",
       "    .dataframe tbody tr th:only-of-type {\n",
       "        vertical-align: middle;\n",
       "    }\n",
       "\n",
       "    .dataframe tbody tr th {\n",
       "        vertical-align: top;\n",
       "    }\n",
       "\n",
       "    .dataframe thead th {\n",
       "        text-align: right;\n",
       "    }\n",
       "</style>\n",
       "<table border=\"1\" class=\"dataframe\">\n",
       "  <thead>\n",
       "    <tr style=\"text-align: right;\">\n",
       "      <th></th>\n",
       "      <th>state</th>\n",
       "      <th>county</th>\n",
       "      <th>dem_percent_12</th>\n",
       "      <th>dem_percent_16</th>\n",
       "      <th>diff</th>\n",
       "    </tr>\n",
       "  </thead>\n",
       "  <tbody>\n",
       "    <tr>\n",
       "      <th>0</th>\n",
       "      <td>Alabama</td>\n",
       "      <td>Bullock</td>\n",
       "      <td>76.305900</td>\n",
       "      <td>74.946921</td>\n",
       "      <td>1.358979</td>\n",
       "    </tr>\n",
       "    <tr>\n",
       "      <th>1</th>\n",
       "      <td>Alabama</td>\n",
       "      <td>Chilton</td>\n",
       "      <td>19.453671</td>\n",
       "      <td>15.847352</td>\n",
       "      <td>3.606319</td>\n",
       "    </tr>\n",
       "    <tr>\n",
       "      <th>2</th>\n",
       "      <td>Alabama</td>\n",
       "      <td>Clay</td>\n",
       "      <td>26.673672</td>\n",
       "      <td>18.674517</td>\n",
       "      <td>7.999155</td>\n",
       "    </tr>\n",
       "    <tr>\n",
       "      <th>3</th>\n",
       "      <td>Alabama</td>\n",
       "      <td>Cullman</td>\n",
       "      <td>14.661752</td>\n",
       "      <td>10.028252</td>\n",
       "      <td>4.633500</td>\n",
       "    </tr>\n",
       "    <tr>\n",
       "      <th>4</th>\n",
       "      <td>Alabama</td>\n",
       "      <td>Escambia</td>\n",
       "      <td>36.915731</td>\n",
       "      <td>31.020546</td>\n",
       "      <td>5.895185</td>\n",
       "    </tr>\n",
       "  </tbody>\n",
       "</table>\n",
       "</div>"
      ],
      "text/plain": [
       "     state    county  dem_percent_12  dem_percent_16      diff\n",
       "0  Alabama   Bullock       76.305900       74.946921  1.358979\n",
       "1  Alabama   Chilton       19.453671       15.847352  3.606319\n",
       "2  Alabama      Clay       26.673672       18.674517  7.999155\n",
       "3  Alabama   Cullman       14.661752       10.028252  4.633500\n",
       "4  Alabama  Escambia       36.915731       31.020546  5.895185"
      ]
     },
     "execution_count": 262,
     "metadata": {},
     "output_type": "execute_result"
    }
   ],
   "source": [
    "sample_dem_data.head()"
   ]
  },
  {
   "cell_type": "code",
   "execution_count": 263,
   "id": "1755160c",
   "metadata": {},
   "outputs": [
    {
     "data": {
      "image/png": "[encoded data removed]",
      "text/plain": [
       "<Figure size 700x500 with 1 Axes>"
      ]
     },
     "metadata": {},
     "output_type": "display_data"
    }
   ],
   "source": [
    "fig, ax = plt.subplots(figsize=(7, 5))\n",
    "\n",
    "# Plot a histogram of the 'diff' column (change in Democratic vote %) with 20 bins\n",
    "sns.histplot(\n",
    "    sample_dem_data[\"diff\"], ax=ax, bins=20, color=\"#0050B3\", edgecolor=\"black\"\n",
    ")\n",
    "\n",
    "sns.despine()\n",
    "\n",
    "ax.set(\n",
    "    xlabel=\"Difference in Democratic Vote % (2012 - 2016)\",\n",
    "    ylabel=\"Number of Counties\",\n",
    "    title=\"Distribution of Change in Democratic Vote Share (2012 vs 2016)\",\n",
    ")\n",
    "\n",
    "ax.grid(True, alpha=0.5, linewidth=1, color=\"grey\")\n",
    "ax.set_axisbelow(True)\n",
    "\n",
    "plt.tight_layout()\n",
    "plt.show()"
   ]
  },
  {
   "cell_type": "markdown",
   "id": "32998ab2",
   "metadata": {},
   "source": [
    "### Using ttest()\n",
    "Manually calculating test statistics and transforming them with a CDF to get a p-value is a lot of effort to compare two sample means. The comparison of two sample means is called a t-test, and the `pingouin` Python package has a `.ttest()` method to accomplish it. This method provides some flexibility in how you perform the test.\n",
    "\n",
    "As in the previous exercise, you'll explore the difference between the proportion of county-level votes for the Democratic candidate in 2012 and 2016 to identify if the difference is significant. The hypotheses are as follows:\n",
    "\n",
    "$H_0$: The proportion of democratic votes in 2012 and 2016 were the same. <br>\n",
    "$H_A$: The proportion of democratic votes in 2012 and 2016 were different."
   ]
  },
  {
   "cell_type": "code",
   "execution_count": 264,
   "id": "1f1d2362",
   "metadata": {},
   "outputs": [
    {
     "data": {
      "application/vnd.microsoft.datawrangler.viewer.v0+json": {
       "columns": [
        {
         "name": "index",
         "rawType": "object",
         "type": "string"
        },
        {
         "name": "T",
         "rawType": "float64",
         "type": "float"
        },
        {
         "name": "dof",
         "rawType": "int64",
         "type": "integer"
        },
        {
         "name": "alternative",
         "rawType": "object",
         "type": "string"
        },
        {
         "name": "p-val",
         "rawType": "float64",
         "type": "float"
        },
        {
         "name": "CI95%",
         "rawType": "object",
         "type": "unknown"
        },
        {
         "name": "cohen-d",
         "rawType": "float64",
         "type": "float"
        },
        {
         "name": "BF10",
         "rawType": "object",
         "type": "string"
        },
        {
         "name": "power",
         "rawType": "float64",
         "type": "float"
        }
       ],
       "ref": "3b76d5d0-46d5-4059-a037-3e0ec10fc6b5",
       "rows": [
        [
         "T-test",
         "30.298384475151405",
         "499",
         "two-sided",
         "3.6006339790844295e-115",
         "[6.39 7.27]",
         "0.45420208123018846",
         "2.246e+111",
         "0.9999999999999999"
        ]
       ],
       "shape": {
        "columns": 8,
        "rows": 1
       }
      },
      "text/html": [
       "<div>\n",
       "<style scoped>\n",
       "    .dataframe tbody tr th:only-of-type {\n",
       "        vertical-align: middle;\n",
       "    }\n",
       "\n",
       "    .dataframe tbody tr th {\n",
       "        vertical-align: top;\n",
       "    }\n",
       "\n",
       "    .dataframe thead th {\n",
       "        text-align: right;\n",
       "    }\n",
       "</style>\n",
       "<table border=\"1\" class=\"dataframe\">\n",
       "  <thead>\n",
       "    <tr style=\"text-align: right;\">\n",
       "      <th></th>\n",
       "      <th>T</th>\n",
       "      <th>dof</th>\n",
       "      <th>alternative</th>\n",
       "      <th>p-val</th>\n",
       "      <th>CI95%</th>\n",
       "      <th>cohen-d</th>\n",
       "      <th>BF10</th>\n",
       "      <th>power</th>\n",
       "    </tr>\n",
       "  </thead>\n",
       "  <tbody>\n",
       "    <tr>\n",
       "      <th>T-test</th>\n",
       "      <td>30.298384</td>\n",
       "      <td>499</td>\n",
       "      <td>two-sided</td>\n",
       "      <td>3.600634e-115</td>\n",
       "      <td>[6.39, 7.27]</td>\n",
       "      <td>0.454202</td>\n",
       "      <td>2.246e+111</td>\n",
       "      <td>1.0</td>\n",
       "    </tr>\n",
       "  </tbody>\n",
       "</table>\n",
       "</div>"
      ],
      "text/plain": [
       "                T  dof alternative          p-val         CI95%   cohen-d  \\\n",
       "T-test  30.298384  499   two-sided  3.600634e-115  [6.39, 7.27]  0.454202   \n",
       "\n",
       "              BF10  power  \n",
       "T-test  2.246e+111    1.0  "
      ]
     },
     "metadata": {},
     "output_type": "display_data"
    }
   ],
   "source": [
    "import pingouin\n",
    "\n",
    "# Perform a one-sample t-test on the 'diff' column to test if the mean difference is significantly different from zero\n",
    "# This tests the null hypothesis that the average change in Democratic vote share is zero (no change between 2012 and 2016)\n",
    "# The alternative=\"two-sided\" specifies a two-tailed test: we are interested in any difference, not just an increase or decrease\n",
    "test_results = pingouin.ttest(\n",
    "    x=sample_dem_data[\"diff\"],  # The observed differences in vote share\n",
    "    y=0,  # The hypothesized mean difference under the null hypothesis\n",
    "    alternative=\"two-sided\",  # Two-sided test: checks for any significant change\n",
    ")\n",
    "\n",
    "# Perform a paired t-test comparing the Democratic vote percentages in 2012 and 2016 for each county\n",
    "# This tests whether the mean vote share in 2012 is significantly different from that in 2016, accounting for the paired nature of the data\n",
    "# The paired t-test is appropriate because each county provides both a 2012 and a 2016 value (dependent samples)\n",
    "paired_test_results = pingouin.ttest(\n",
    "    x=sample_dem_data[\"dem_percent_12\"],  # Democratic vote percentage in 2012\n",
    "    y=sample_dem_data[\"dem_percent_16\"],  # Democratic vote percentage in 2016\n",
    "    paired=True,\n",
    "    alternative=\"two-sided\",  # Two-sided test: checks for any significant change\n",
    ")\n",
    "\n",
    "display(paired_test_results)"
   ]
  },
  {
   "cell_type": "markdown",
   "id": "ce6a7d23",
   "metadata": {},
   "source": [
    "## The Problem: Comparing Multiple Groups\n",
    "\n",
    "While a t-test is the appropriate tool for comparing the means of two groups, it is not suitable for comparing three or more groups simultaneously. Performing multiple t-tests on all possible pairs of groups (e.g., A vs. B, A vs. C, B vs. C) on the same data dramatically increases the probability of committing a **Type I error** (a false positive). Each test has an $\\\\alpha$ chance of being wrong, and these chances accumulate as you perform more tests.\n",
    "\n",
    "The correct approach is a two-step process: first, use an omnibus test (ANOVA) to see if *any* difference exists, and second, if a difference is found, use adjusted pairwise tests to find out where it is.\n",
    "\n",
    "\n",
    "### Analysis of Variance (ANOVA)\n",
    "\n",
    "**ANOVA** is a statistical test that determines whether there are any statistically significant differences between the means of three or more independent groups. It works by comparing the amount of variation **between** the different groups to the amount of variation **within** each group.\n",
    "\n",
    "#### Hypotheses for ANOVA\n",
    "\n",
    "  * **Null Hypothesis ($H_0$)**: The population means of all groups are equal.\n",
    "    $$H_0: \\mu_1 = \\mu_2 = \\dots = \\mu_k$$\n",
    "  * **Alternative Hypothesis ($H_A$)**: At least one group mean is different from the others.\n",
    "\n",
    "The ANOVA test is an **omnibus test**. A significant result (a small p-value) tells you that there is a difference *somewhere* among the groups, but it does not tell you which specific groups are different from each other.\n",
    "\n",
    "#### ANOVA in Python with `pingouin`\n",
    "\n",
    "The `pingouin` library provides a user-friendly interface for conducting statistical tests. The `pingouin.anova()` function is straightforward to use. You must first install the library: `pip install pingouin`.\n",
    "\n",
    "```python\n",
    "import pandas as pd\n",
    "import numpy as np\n",
    "import pingouin\n",
    "import seaborn as sns\n",
    "import matplotlib.pyplot as plt\n",
    "\n",
    "# Create a generic, reproducible dataset with multiple groups\n",
    "np.random.seed(42)\n",
    "group_means = {'Group A': 50, 'Group B': 55, 'Group C': 50}\n",
    "df = pd.DataFrame({\n",
    "    'group': np.random.choice(list(group_means.keys()), 200),\n",
    "    'value': 0.0 # Placeholder\n",
    "})\n",
    "df['value'] = df['group'].apply(lambda g: np.random.normal(loc=group_means[g], scale=5))\n",
    "\n",
    "# Visualize the group distributions\n",
    "sns.boxplot(x='group', y='value', data=df)\n",
    "plt.title('Value Distribution by Group')\n",
    "plt.show()\n",
    "\n",
    "# Perform the ANOVA test\n",
    "# dv: dependent variable (numeric)\n",
    "# between: the grouping variable (categorical)\n",
    "anova_results = pingouin.anova(data=df, dv='value', between='group')\n",
    "print(anova_results)\n",
    "```\n",
    "\n",
    "To interpret the result, we look at the p-value (`p-unc`). If `p-unc < α` (our chosen significance level, e.g., 0.05), we reject the null hypothesis and conclude that at least one group mean is different.\n",
    "\n",
    "\n",
    "### Pinpointing the Difference: Pairwise Tests with P-Value Adjustment\n",
    "\n",
    "If the ANOVA test is significant, we proceed to the second step: **pairwise t-tests** to compare each group against every other group.\n",
    "\n",
    "#### The Problem of Multiple Comparisons\n",
    "\n",
    "As mentioned, running many t-tests inflates the Type I error rate. To counteract this, we must apply a **p-value adjustment**. These methods modify the raw p-values from each t-test to control the overall false positive rate for the entire family of tests.\n",
    "\n",
    "#### Pairwise Tests with Bonferroni Correction\n",
    "\n",
    "The **Bonferroni correction** is one of the simplest and most common adjustment methods. It mitigates the issue of multiple comparisons by multiplying each individual p-value by the number of tests being performed. This makes it \"harder\" for any single test to be declared significant, thereby controlling the overall error rate.\n",
    "\n",
    "The `pingouin.pairwise_tests()` function can perform this entire process automatically.\n",
    "\n",
    "```python\n",
    "# Perform pairwise t-tests with Bonferroni correction \n",
    "# padjust='bonf' applies the correction\n",
    "pairwise_results = pingouin.pairwise_tests(\n",
    "    data=df,\n",
    "    dv='value',\n",
    "    between='group',\n",
    "    padjust='bonf' # Specify the p-value adjustment method\n",
    ")\n",
    "\n",
    "# We are interested in the 'p-corr' (corrected p-value) column\n",
    "print(pairwise_results[['A', 'B', 'p-unc', 'p-corr']])\n",
    "```\n",
    "\n",
    "**Interpretation**:\n",
    "You examine the **`p-corr`** (corrected p-value) column. If a `p-corr` for a specific pair of groups (e.g., 'Group A' vs. 'Group B') is less than your significance level $\\\\alpha$, you can conclude that there is a statistically significant difference between the means of those two specific groups. `pingouin` offers several other adjustment methods via the `padjust` argument, such as `'holm'` or `'fdr_bh'`, which are often less conservative than the Bonferroni correction."
   ]
  },
  {
   "cell_type": "code",
   "execution_count": 265,
   "id": "2b7ce976",
   "metadata": {},
   "outputs": [
    {
     "data": {
      "application/vnd.microsoft.datawrangler.viewer.v0+json": {
       "columns": [
        {
         "name": "job_sat",
         "rawType": "category",
         "type": "unknown"
        },
        {
         "name": "count",
         "rawType": "int64",
         "type": "integer"
        }
       ],
       "ref": "f0af734c-4f2e-46e8-ab04-eda4f6c39926",
       "rows": [
        [
         "Very satisfied",
         "879"
        ],
        [
         "Slightly satisfied",
         "680"
        ],
        [
         "Slightly dissatisfied",
         "342"
        ],
        [
         "Neither",
         "201"
        ],
        [
         "Very dissatisfied",
         "159"
        ]
       ],
       "shape": {
        "columns": 1,
        "rows": 5
       }
      },
      "text/plain": [
       "job_sat\n",
       "Very satisfied           879\n",
       "Slightly satisfied       680\n",
       "Slightly dissatisfied    342\n",
       "Neither                  201\n",
       "Very dissatisfied        159\n",
       "Name: count, dtype: int64"
      ]
     },
     "execution_count": 265,
     "metadata": {},
     "output_type": "execute_result"
    }
   ],
   "source": [
    "stack_overflow[\"job_sat\"].value_counts()"
   ]
  },
  {
   "cell_type": "code",
   "execution_count": 266,
   "id": "4d70fa67",
   "metadata": {},
   "outputs": [
    {
     "data": {
      "image/png": "[encoded data removed]",
      "text/plain": [
       "<Figure size 920x690 with 1 Axes>"
      ]
     },
     "metadata": {},
     "output_type": "display_data"
    }
   ],
   "source": [
    "fig, ax = plt.subplots(figsize=(8, 6), dpi=115)\n",
    "\n",
    "with sns.axes_style(\"darkgrid\", {\"axes.facecolor\": \".7\"}):\n",
    "    sns.boxplot(\n",
    "        x=\"converted_comp\",\n",
    "        y=\"job_sat\",\n",
    "        data=stack_overflow,\n",
    "        ax=ax,\n",
    "        hue=\"job_sat\",\n",
    "        palette=\"viridis\",\n",
    "    )\n",
    "\n",
    "ax.set_xlabel(\"Compensation (USD)\", fontsize=13, fontname=\"DejaVu Sans\")\n",
    "ax.set_ylabel(\"Job Satisfaction\", fontsize=13, fontname=\"DejaVu Sans\")\n",
    "ax.set_title(\"Compensation vs. Job Satisfaction\", fontsize=15, fontname=\"DejaVu Sans\")\n",
    "\n",
    "ax.grid(True, alpha=0.5, linewidth=0.4, color=\"grey\")\n",
    "plt.tight_layout()\n",
    "plt.show()"
   ]
  },
  {
   "cell_type": "code",
   "execution_count": 267,
   "id": "6d6e13d9",
   "metadata": {},
   "outputs": [
    {
     "data": {
      "application/vnd.microsoft.datawrangler.viewer.v0+json": {
       "columns": [
        {
         "name": "index",
         "rawType": "int64",
         "type": "integer"
        },
        {
         "name": "Source",
         "rawType": "object",
         "type": "string"
        },
        {
         "name": "ddof1",
         "rawType": "int64",
         "type": "integer"
        },
        {
         "name": "ddof2",
         "rawType": "int64",
         "type": "integer"
        },
        {
         "name": "F",
         "rawType": "float64",
         "type": "float"
        },
        {
         "name": "p-unc",
         "rawType": "float64",
         "type": "float"
        },
        {
         "name": "np2",
         "rawType": "float64",
         "type": "float"
        }
       ],
       "ref": "5c0d354f-f067-4d56-be5b-a59e665d9f64",
       "rows": [
        [
         "0",
         "job_sat",
         "4",
         "2256",
         "4.480485200287077",
         "0.0013148860158050046",
         "0.007881511005093714"
        ]
       ],
       "shape": {
        "columns": 6,
        "rows": 1
       }
      },
      "text/html": [
       "<div>\n",
       "<style scoped>\n",
       "    .dataframe tbody tr th:only-of-type {\n",
       "        vertical-align: middle;\n",
       "    }\n",
       "\n",
       "    .dataframe tbody tr th {\n",
       "        vertical-align: top;\n",
       "    }\n",
       "\n",
       "    .dataframe thead th {\n",
       "        text-align: right;\n",
       "    }\n",
       "</style>\n",
       "<table border=\"1\" class=\"dataframe\">\n",
       "  <thead>\n",
       "    <tr style=\"text-align: right;\">\n",
       "      <th></th>\n",
       "      <th>Source</th>\n",
       "      <th>ddof1</th>\n",
       "      <th>ddof2</th>\n",
       "      <th>F</th>\n",
       "      <th>p-unc</th>\n",
       "      <th>np2</th>\n",
       "    </tr>\n",
       "  </thead>\n",
       "  <tbody>\n",
       "    <tr>\n",
       "      <th>0</th>\n",
       "      <td>job_sat</td>\n",
       "      <td>4</td>\n",
       "      <td>2256</td>\n",
       "      <td>4.480485</td>\n",
       "      <td>0.001315</td>\n",
       "      <td>0.007882</td>\n",
       "    </tr>\n",
       "  </tbody>\n",
       "</table>\n",
       "</div>"
      ],
      "text/plain": [
       "    Source  ddof1  ddof2         F     p-unc       np2\n",
       "0  job_sat      4   2256  4.480485  0.001315  0.007882"
      ]
     },
     "metadata": {},
     "output_type": "display_data"
    }
   ],
   "source": [
    "from pingouin import anova\n",
    "\n",
    "# Set the significance level (alpha) for the hypothesis test: probability of a Type I error (rejecting H0 when true)\n",
    "alpha = 0.2\n",
    "\n",
    "# Run a one-way ANOVA comparing mean 'converted_comp' across 'job_sat' groups;\n",
    "# returns an ANOVA table (F-statistic, degrees of freedom, p-value) used to test H0: all group means equal\n",
    "anova_test = anova(data=stack_overflow, dv=\"converted_comp\", between=\"job_sat\")\n",
    "\n",
    "display(anova_test)"
   ]
  },
  {
   "cell_type": "markdown",
   "id": "6f8d095a",
   "metadata": {},
   "source": [
    "The `pingouin.pairwise_tests()` function performs pairwise statistical comparisons between groups.<br>\n",
    "The `between` argument specifies the grouping variable, and `padjust=\"bonf\"` applies Bonferroni correction for multiple comparisons.<br>\n",
    "The output includes test statistics, raw and corrected p-values, and a reject column indicating significance at the default `alpha=0.05`.<br>\n",
    "Statistically, this helps identify which job satisfaction groups differ significantly in compensation after adjusting for multiple testing.<br>\n",
    "\n",
    "### Available P-Value Adjustment Methods\n",
    "\n",
    "The `padjust` parameter offers several methods for controlling Type I error in multiple comparisons:\n",
    "\n",
    "| Method | Description |\n",
    "|--------|-------------|\n",
    "| `'none'` | No correction (default) - uses raw p-values |\n",
    "| `'bonf'` | One-step Bonferroni correction - most conservative |\n",
    "| `'sidak'` | One-step Šidák correction - slightly less conservative than Bonferroni |\n",
    "| `'holm'` | Step-down Holm-Bonferroni method - less conservative than Bonferroni |\n",
    "| `'fdr_bh'` | Benjamini-Hochberg False Discovery Rate correction |\n",
    "| `'fdr_by'` | Benjamini-Yekutieli False Discovery Rate correction |\n",
    "\n",
    "**Recommendation**: Use `'bonf'` for strict control of family-wise error rate, or `'fdr_bh'` for better power while controlling false discovery rate.\n"
   ]
  },
  {
   "cell_type": "code",
   "execution_count": 268,
   "id": "80ca2954",
   "metadata": {},
   "outputs": [
    {
     "data": {
      "application/vnd.microsoft.datawrangler.viewer.v0+json": {
       "columns": [
        {
         "name": "index",
         "rawType": "int64",
         "type": "integer"
        },
        {
         "name": "Contrast",
         "rawType": "object",
         "type": "string"
        },
        {
         "name": "A",
         "rawType": "object",
         "type": "string"
        },
        {
         "name": "B",
         "rawType": "object",
         "type": "string"
        },
        {
         "name": "Paired",
         "rawType": "bool",
         "type": "boolean"
        },
        {
         "name": "Parametric",
         "rawType": "bool",
         "type": "boolean"
        },
        {
         "name": "T",
         "rawType": "float64",
         "type": "float"
        },
        {
         "name": "dof",
         "rawType": "float64",
         "type": "float"
        },
        {
         "name": "alternative",
         "rawType": "object",
         "type": "string"
        },
        {
         "name": "p-unc",
         "rawType": "float64",
         "type": "float"
        },
        {
         "name": "p-corr",
         "rawType": "float64",
         "type": "float"
        },
        {
         "name": "p-adjust",
         "rawType": "object",
         "type": "string"
        },
        {
         "name": "BF10",
         "rawType": "object",
         "type": "string"
        },
        {
         "name": "hedges",
         "rawType": "float64",
         "type": "float"
        }
       ],
       "ref": "1bc41625-3024-4d3d-86ce-c49366e2498c",
       "rows": [
        [
         "0",
         "job_sat",
         "Very dissatisfied",
         "Slightly dissatisfied",
         "False",
         "True",
         "1.1299509817235154",
         "247.57018723243593",
         "two-sided",
         "0.25959044674989595",
         "1.0",
         "bonf",
         "0.197",
         "0.11913108840566396"
        ],
        [
         "1",
         "job_sat",
         "Very dissatisfied",
         "Neither",
         "False",
         "True",
         "0.5459478571745497",
         "321.1657260220006",
         "two-sided",
         "0.5854807939106953",
         "1.0",
         "bonf",
         "0.135",
         "0.0585370334957226"
        ],
        [
         "2",
         "job_sat",
         "Very dissatisfied",
         "Slightly satisfied",
         "False",
         "True",
         "1.2436646995972618",
         "187.15332902196766",
         "two-sided",
         "0.21517852606593355",
         "1.0",
         "bonf",
         "0.208",
         "0.14562400332843398"
        ],
        [
         "3",
         "job_sat",
         "Very dissatisfied",
         "Very satisfied",
         "False",
         "True",
         "-0.7473789049928419",
         "221.6662045258967",
         "two-sided",
         "0.4556269473638408",
         "1.0",
         "bonf",
         "0.126",
         "-0.06347921377996527"
        ],
        [
         "4",
         "job_sat",
         "Slightly dissatisfied",
         "Neither",
         "False",
         "True",
         "-0.6022090930147095",
         "367.7300810159995",
         "two-sided",
         "0.5474060990747998",
         "1.0",
         "bonf",
         "0.118",
         "-0.055707083733598756"
        ],
        [
         "5",
         "job_sat",
         "Slightly dissatisfied",
         "Slightly satisfied",
         "False",
         "True",
         "0.038263992038964925",
         "569.9263285357216",
         "two-sided",
         "0.969490598974618",
         "1.0",
         "bonf",
         "0.074",
         "0.002719214529335829"
        ],
        [
         "6",
         "job_sat",
         "Slightly dissatisfied",
         "Very satisfied",
         "False",
         "True",
         "-3.076221763664718",
         "821.3030629831248",
         "two-sided",
         "0.00216593244423409",
         "0.021659324442340897",
         "bonf",
         "7.43",
         "-0.173246979829098"
        ],
        [
         "7",
         "job_sat",
         "Neither",
         "Slightly satisfied",
         "False",
         "True",
         "0.7007524886683659",
         "258.20454634109063",
         "two-sided",
         "0.48408848446652697",
         "1.0",
         "bonf",
         "0.114",
         "0.0685128677746937"
        ],
        [
         "8",
         "job_sat",
         "Neither",
         "Very satisfied",
         "False",
         "True",
         "-1.6629014104218194",
         "328.32663861754884",
         "two-sided",
         "0.0972864297454702",
         "0.9728642974547019",
         "bonf",
         "0.337",
         "-0.12011537271387011"
        ],
        [
         "9",
         "job_sat",
         "Slightly satisfied",
         "Very satisfied",
         "False",
         "True",
         "-4.009934728050376",
         "1478.6227985968776",
         "two-sided",
         "6.376638008353565e-05",
         "0.0006376638008353565",
         "bonf",
         "158.564",
         "-0.1929314785044822"
        ]
       ],
       "shape": {
        "columns": 13,
        "rows": 10
       }
      },
      "text/html": [
       "<div>\n",
       "<style scoped>\n",
       "    .dataframe tbody tr th:only-of-type {\n",
       "        vertical-align: middle;\n",
       "    }\n",
       "\n",
       "    .dataframe tbody tr th {\n",
       "        vertical-align: top;\n",
       "    }\n",
       "\n",
       "    .dataframe thead th {\n",
       "        text-align: right;\n",
       "    }\n",
       "</style>\n",
       "<table border=\"1\" class=\"dataframe\">\n",
       "  <thead>\n",
       "    <tr style=\"text-align: right;\">\n",
       "      <th></th>\n",
       "      <th>Contrast</th>\n",
       "      <th>A</th>\n",
       "      <th>B</th>\n",
       "      <th>Paired</th>\n",
       "      <th>Parametric</th>\n",
       "      <th>T</th>\n",
       "      <th>dof</th>\n",
       "      <th>alternative</th>\n",
       "      <th>p-unc</th>\n",
       "      <th>p-corr</th>\n",
       "      <th>p-adjust</th>\n",
       "      <th>BF10</th>\n",
       "      <th>hedges</th>\n",
       "    </tr>\n",
       "  </thead>\n",
       "  <tbody>\n",
       "    <tr>\n",
       "      <th>0</th>\n",
       "      <td>job_sat</td>\n",
       "      <td>Very dissatisfied</td>\n",
       "      <td>Slightly dissatisfied</td>\n",
       "      <td>False</td>\n",
       "      <td>True</td>\n",
       "      <td>1.129951</td>\n",
       "      <td>247.570187</td>\n",
       "      <td>two-sided</td>\n",
       "      <td>0.259590</td>\n",
       "      <td>1.000000</td>\n",
       "      <td>bonf</td>\n",
       "      <td>0.197</td>\n",
       "      <td>0.119131</td>\n",
       "    </tr>\n",
       "    <tr>\n",
       "      <th>1</th>\n",
       "      <td>job_sat</td>\n",
       "      <td>Very dissatisfied</td>\n",
       "      <td>Neither</td>\n",
       "      <td>False</td>\n",
       "      <td>True</td>\n",
       "      <td>0.545948</td>\n",
       "      <td>321.165726</td>\n",
       "      <td>two-sided</td>\n",
       "      <td>0.585481</td>\n",
       "      <td>1.000000</td>\n",
       "      <td>bonf</td>\n",
       "      <td>0.135</td>\n",
       "      <td>0.058537</td>\n",
       "    </tr>\n",
       "    <tr>\n",
       "      <th>2</th>\n",
       "      <td>job_sat</td>\n",
       "      <td>Very dissatisfied</td>\n",
       "      <td>Slightly satisfied</td>\n",
       "      <td>False</td>\n",
       "      <td>True</td>\n",
       "      <td>1.243665</td>\n",
       "      <td>187.153329</td>\n",
       "      <td>two-sided</td>\n",
       "      <td>0.215179</td>\n",
       "      <td>1.000000</td>\n",
       "      <td>bonf</td>\n",
       "      <td>0.208</td>\n",
       "      <td>0.145624</td>\n",
       "    </tr>\n",
       "    <tr>\n",
       "      <th>3</th>\n",
       "      <td>job_sat</td>\n",
       "      <td>Very dissatisfied</td>\n",
       "      <td>Very satisfied</td>\n",
       "      <td>False</td>\n",
       "      <td>True</td>\n",
       "      <td>-0.747379</td>\n",
       "      <td>221.666205</td>\n",
       "      <td>two-sided</td>\n",
       "      <td>0.455627</td>\n",
       "      <td>1.000000</td>\n",
       "      <td>bonf</td>\n",
       "      <td>0.126</td>\n",
       "      <td>-0.063479</td>\n",
       "    </tr>\n",
       "    <tr>\n",
       "      <th>4</th>\n",
       "      <td>job_sat</td>\n",
       "      <td>Slightly dissatisfied</td>\n",
       "      <td>Neither</td>\n",
       "      <td>False</td>\n",
       "      <td>True</td>\n",
       "      <td>-0.602209</td>\n",
       "      <td>367.730081</td>\n",
       "      <td>two-sided</td>\n",
       "      <td>0.547406</td>\n",
       "      <td>1.000000</td>\n",
       "      <td>bonf</td>\n",
       "      <td>0.118</td>\n",
       "      <td>-0.055707</td>\n",
       "    </tr>\n",
       "    <tr>\n",
       "      <th>5</th>\n",
       "      <td>job_sat</td>\n",
       "      <td>Slightly dissatisfied</td>\n",
       "      <td>Slightly satisfied</td>\n",
       "      <td>False</td>\n",
       "      <td>True</td>\n",
       "      <td>0.038264</td>\n",
       "      <td>569.926329</td>\n",
       "      <td>two-sided</td>\n",
       "      <td>0.969491</td>\n",
       "      <td>1.000000</td>\n",
       "      <td>bonf</td>\n",
       "      <td>0.074</td>\n",
       "      <td>0.002719</td>\n",
       "    </tr>\n",
       "    <tr>\n",
       "      <th>6</th>\n",
       "      <td>job_sat</td>\n",
       "      <td>Slightly dissatisfied</td>\n",
       "      <td>Very satisfied</td>\n",
       "      <td>False</td>\n",
       "      <td>True</td>\n",
       "      <td>-3.076222</td>\n",
       "      <td>821.303063</td>\n",
       "      <td>two-sided</td>\n",
       "      <td>0.002166</td>\n",
       "      <td>0.021659</td>\n",
       "      <td>bonf</td>\n",
       "      <td>7.43</td>\n",
       "      <td>-0.173247</td>\n",
       "    </tr>\n",
       "    <tr>\n",
       "      <th>7</th>\n",
       "      <td>job_sat</td>\n",
       "      <td>Neither</td>\n",
       "      <td>Slightly satisfied</td>\n",
       "      <td>False</td>\n",
       "      <td>True</td>\n",
       "      <td>0.700752</td>\n",
       "      <td>258.204546</td>\n",
       "      <td>two-sided</td>\n",
       "      <td>0.484088</td>\n",
       "      <td>1.000000</td>\n",
       "      <td>bonf</td>\n",
       "      <td>0.114</td>\n",
       "      <td>0.068513</td>\n",
       "    </tr>\n",
       "    <tr>\n",
       "      <th>8</th>\n",
       "      <td>job_sat</td>\n",
       "      <td>Neither</td>\n",
       "      <td>Very satisfied</td>\n",
       "      <td>False</td>\n",
       "      <td>True</td>\n",
       "      <td>-1.662901</td>\n",
       "      <td>328.326639</td>\n",
       "      <td>two-sided</td>\n",
       "      <td>0.097286</td>\n",
       "      <td>0.972864</td>\n",
       "      <td>bonf</td>\n",
       "      <td>0.337</td>\n",
       "      <td>-0.120115</td>\n",
       "    </tr>\n",
       "    <tr>\n",
       "      <th>9</th>\n",
       "      <td>job_sat</td>\n",
       "      <td>Slightly satisfied</td>\n",
       "      <td>Very satisfied</td>\n",
       "      <td>False</td>\n",
       "      <td>True</td>\n",
       "      <td>-4.009935</td>\n",
       "      <td>1478.622799</td>\n",
       "      <td>two-sided</td>\n",
       "      <td>0.000064</td>\n",
       "      <td>0.000638</td>\n",
       "      <td>bonf</td>\n",
       "      <td>158.564</td>\n",
       "      <td>-0.192931</td>\n",
       "    </tr>\n",
       "  </tbody>\n",
       "</table>\n",
       "</div>"
      ],
      "text/plain": [
       "  Contrast                      A                      B  Paired  Parametric  \\\n",
       "0  job_sat      Very dissatisfied  Slightly dissatisfied   False        True   \n",
       "1  job_sat      Very dissatisfied                Neither   False        True   \n",
       "2  job_sat      Very dissatisfied     Slightly satisfied   False        True   \n",
       "3  job_sat      Very dissatisfied         Very satisfied   False        True   \n",
       "4  job_sat  Slightly dissatisfied                Neither   False        True   \n",
       "5  job_sat  Slightly dissatisfied     Slightly satisfied   False        True   \n",
       "6  job_sat  Slightly dissatisfied         Very satisfied   False        True   \n",
       "7  job_sat                Neither     Slightly satisfied   False        True   \n",
       "8  job_sat                Neither         Very satisfied   False        True   \n",
       "9  job_sat     Slightly satisfied         Very satisfied   False        True   \n",
       "\n",
       "          T          dof alternative     p-unc    p-corr p-adjust     BF10  \\\n",
       "0  1.129951   247.570187   two-sided  0.259590  1.000000     bonf    0.197   \n",
       "1  0.545948   321.165726   two-sided  0.585481  1.000000     bonf    0.135   \n",
       "2  1.243665   187.153329   two-sided  0.215179  1.000000     bonf    0.208   \n",
       "3 -0.747379   221.666205   two-sided  0.455627  1.000000     bonf    0.126   \n",
       "4 -0.602209   367.730081   two-sided  0.547406  1.000000     bonf    0.118   \n",
       "5  0.038264   569.926329   two-sided  0.969491  1.000000     bonf    0.074   \n",
       "6 -3.076222   821.303063   two-sided  0.002166  0.021659     bonf     7.43   \n",
       "7  0.700752   258.204546   two-sided  0.484088  1.000000     bonf    0.114   \n",
       "8 -1.662901   328.326639   two-sided  0.097286  0.972864     bonf    0.337   \n",
       "9 -4.009935  1478.622799   two-sided  0.000064  0.000638     bonf  158.564   \n",
       "\n",
       "     hedges  \n",
       "0  0.119131  \n",
       "1  0.058537  \n",
       "2  0.145624  \n",
       "3 -0.063479  \n",
       "4 -0.055707  \n",
       "5  0.002719  \n",
       "6 -0.173247  \n",
       "7  0.068513  \n",
       "8 -0.120115  \n",
       "9 -0.192931  "
      ]
     },
     "metadata": {},
     "output_type": "display_data"
    }
   ],
   "source": [
    "from pingouin import pairwise_tests\n",
    "\n",
    "# Execute pairwise comparisons of 'converted_comp' across levels of 'job_sat'.\n",
    "# Arguments: data=DataFrame, dv=dependent variable name, between=grouping column, padjust='none' returns raw (unadjusted) p-values.\n",
    "anova_pairwise = pairwise_tests(\n",
    "    data=stack_overflow, dv=\"converted_comp\", between=\"job_sat\", padjust=\"bonf\"\n",
    ")\n",
    "\n",
    "display(anova_pairwise)"
   ]
  },
  {
   "cell_type": "code",
   "execution_count": 269,
   "id": "30483d7c",
   "metadata": {},
   "outputs": [
    {
     "data": {
      "application/vnd.microsoft.datawrangler.viewer.v0+json": {
       "columns": [
        {
         "name": "index",
         "rawType": "int64",
         "type": "integer"
        },
        {
         "name": "Contrast",
         "rawType": "object",
         "type": "string"
        },
        {
         "name": "A",
         "rawType": "object",
         "type": "string"
        },
        {
         "name": "B",
         "rawType": "object",
         "type": "string"
        },
        {
         "name": "Paired",
         "rawType": "bool",
         "type": "boolean"
        },
        {
         "name": "Parametric",
         "rawType": "bool",
         "type": "boolean"
        },
        {
         "name": "T",
         "rawType": "float64",
         "type": "float"
        },
        {
         "name": "dof",
         "rawType": "float64",
         "type": "float"
        },
        {
         "name": "alternative",
         "rawType": "object",
         "type": "string"
        },
        {
         "name": "p-unc",
         "rawType": "float64",
         "type": "float"
        },
        {
         "name": "p-corr",
         "rawType": "float64",
         "type": "float"
        },
        {
         "name": "p-adjust",
         "rawType": "object",
         "type": "string"
        },
        {
         "name": "BF10",
         "rawType": "object",
         "type": "string"
        },
        {
         "name": "hedges",
         "rawType": "float64",
         "type": "float"
        }
       ],
       "ref": "b91835ad-11bf-47a7-af05-9799d3de0b12",
       "rows": [
        [
         "6",
         "job_sat",
         "Slightly dissatisfied",
         "Very satisfied",
         "False",
         "True",
         "-3.076221763664718",
         "821.3030629831248",
         "two-sided",
         "0.00216593244423409",
         "0.021659324442340897",
         "bonf",
         "7.43",
         "-0.173246979829098"
        ],
        [
         "9",
         "job_sat",
         "Slightly satisfied",
         "Very satisfied",
         "False",
         "True",
         "-4.009934728050376",
         "1478.6227985968776",
         "two-sided",
         "6.376638008353565e-05",
         "0.0006376638008353565",
         "bonf",
         "158.564",
         "-0.1929314785044822"
        ]
       ],
       "shape": {
        "columns": 13,
        "rows": 2
       }
      },
      "text/html": [
       "<div>\n",
       "<style scoped>\n",
       "    .dataframe tbody tr th:only-of-type {\n",
       "        vertical-align: middle;\n",
       "    }\n",
       "\n",
       "    .dataframe tbody tr th {\n",
       "        vertical-align: top;\n",
       "    }\n",
       "\n",
       "    .dataframe thead th {\n",
       "        text-align: right;\n",
       "    }\n",
       "</style>\n",
       "<table border=\"1\" class=\"dataframe\">\n",
       "  <thead>\n",
       "    <tr style=\"text-align: right;\">\n",
       "      <th></th>\n",
       "      <th>Contrast</th>\n",
       "      <th>A</th>\n",
       "      <th>B</th>\n",
       "      <th>Paired</th>\n",
       "      <th>Parametric</th>\n",
       "      <th>T</th>\n",
       "      <th>dof</th>\n",
       "      <th>alternative</th>\n",
       "      <th>p-unc</th>\n",
       "      <th>p-corr</th>\n",
       "      <th>p-adjust</th>\n",
       "      <th>BF10</th>\n",
       "      <th>hedges</th>\n",
       "    </tr>\n",
       "  </thead>\n",
       "  <tbody>\n",
       "    <tr>\n",
       "      <th>6</th>\n",
       "      <td>job_sat</td>\n",
       "      <td>Slightly dissatisfied</td>\n",
       "      <td>Very satisfied</td>\n",
       "      <td>False</td>\n",
       "      <td>True</td>\n",
       "      <td>-3.076222</td>\n",
       "      <td>821.303063</td>\n",
       "      <td>two-sided</td>\n",
       "      <td>0.002166</td>\n",
       "      <td>0.021659</td>\n",
       "      <td>bonf</td>\n",
       "      <td>7.43</td>\n",
       "      <td>-0.173247</td>\n",
       "    </tr>\n",
       "    <tr>\n",
       "      <th>9</th>\n",
       "      <td>job_sat</td>\n",
       "      <td>Slightly satisfied</td>\n",
       "      <td>Very satisfied</td>\n",
       "      <td>False</td>\n",
       "      <td>True</td>\n",
       "      <td>-4.009935</td>\n",
       "      <td>1478.622799</td>\n",
       "      <td>two-sided</td>\n",
       "      <td>0.000064</td>\n",
       "      <td>0.000638</td>\n",
       "      <td>bonf</td>\n",
       "      <td>158.564</td>\n",
       "      <td>-0.192931</td>\n",
       "    </tr>\n",
       "  </tbody>\n",
       "</table>\n",
       "</div>"
      ],
      "text/plain": [
       "  Contrast                      A               B  Paired  Parametric  \\\n",
       "6  job_sat  Slightly dissatisfied  Very satisfied   False        True   \n",
       "9  job_sat     Slightly satisfied  Very satisfied   False        True   \n",
       "\n",
       "          T          dof alternative     p-unc    p-corr p-adjust     BF10  \\\n",
       "6 -3.076222   821.303063   two-sided  0.002166  0.021659     bonf     7.43   \n",
       "9 -4.009935  1478.622799   two-sided  0.000064  0.000638     bonf  158.564   \n",
       "\n",
       "     hedges  \n",
       "6 -0.173247  \n",
       "9 -0.192931  "
      ]
     },
     "metadata": {},
     "output_type": "display_data"
    }
   ],
   "source": [
    "# Boolean-index the pingouin pairwise_tests DataFrame to keep rows where the adjusted p-value ('p-corr') is less than alpha.\n",
    "lower_values = anova_pairwise[anova_pairwise[\"p-corr\"] < alpha]\n",
    "\n",
    "# Render the filtered DataFrame in the notebook (Jupyter will display it as a table)\n",
    "display(lower_values)"
   ]
  },
  {
   "cell_type": "markdown",
   "id": "084cde53",
   "metadata": {},
   "source": [
    "This block fits an ordinary least squares (OLS) regression model to test if compensation differs by job satisfaction group.<br>\n",
    "The formula `\"converted_comp ~ job_sat\"` models compensation as a function of job satisfaction.<br>\n",
    "`sm.stats.anova_lm()` performs an ANOVA (analysis of variance) to compare group means, outputting F-statistic and p-value.<br>\n",
    "Statistically, this tests the null hypothesis that all job satisfaction groups have the same mean compensation.<br>\n",
    "If the `p-value` for `job_sat` is below the chosen alpha (here, 0.2), we reject the null and conclude at least one group differs.<br>"
   ]
  },
  {
   "cell_type": "code",
   "execution_count": 270,
   "id": "484a5787",
   "metadata": {},
   "outputs": [
    {
     "data": {
      "application/vnd.microsoft.datawrangler.viewer.v0+json": {
       "columns": [
        {
         "name": "index",
         "rawType": "object",
         "type": "string"
        },
        {
         "name": "sum_sq",
         "rawType": "float64",
         "type": "float"
        },
        {
         "name": "df",
         "rawType": "float64",
         "type": "float"
        },
        {
         "name": "F",
         "rawType": "float64",
         "type": "float"
        },
        {
         "name": "PR(>F)",
         "rawType": "float64",
         "type": "float"
        }
       ],
       "ref": "f30443e4-77fb-4a43-8776-1702e4bb183d",
       "rows": [
        [
         "job_sat",
         "1256117888992.3796",
         "4.0",
         "4.480485200287129",
         "0.001314886015804737"
        ],
        [
         "Residual",
         "158119145075248.0",
         "2256.0",
         null,
         null
        ]
       ],
       "shape": {
        "columns": 4,
        "rows": 2
       }
      },
      "text/html": [
       "<div>\n",
       "<style scoped>\n",
       "    .dataframe tbody tr th:only-of-type {\n",
       "        vertical-align: middle;\n",
       "    }\n",
       "\n",
       "    .dataframe tbody tr th {\n",
       "        vertical-align: top;\n",
       "    }\n",
       "\n",
       "    .dataframe thead th {\n",
       "        text-align: right;\n",
       "    }\n",
       "</style>\n",
       "<table border=\"1\" class=\"dataframe\">\n",
       "  <thead>\n",
       "    <tr style=\"text-align: right;\">\n",
       "      <th></th>\n",
       "      <th>sum_sq</th>\n",
       "      <th>df</th>\n",
       "      <th>F</th>\n",
       "      <th>PR(&gt;F)</th>\n",
       "    </tr>\n",
       "  </thead>\n",
       "  <tbody>\n",
       "    <tr>\n",
       "      <th>job_sat</th>\n",
       "      <td>1.256118e+12</td>\n",
       "      <td>4.0</td>\n",
       "      <td>4.480485</td>\n",
       "      <td>0.001315</td>\n",
       "    </tr>\n",
       "    <tr>\n",
       "      <th>Residual</th>\n",
       "      <td>1.581191e+14</td>\n",
       "      <td>2256.0</td>\n",
       "      <td>NaN</td>\n",
       "      <td>NaN</td>\n",
       "    </tr>\n",
       "  </tbody>\n",
       "</table>\n",
       "</div>"
      ],
      "text/plain": [
       "                sum_sq      df         F    PR(>F)\n",
       "job_sat   1.256118e+12     4.0  4.480485  0.001315\n",
       "Residual  1.581191e+14  2256.0       NaN       NaN"
      ]
     },
     "metadata": {},
     "output_type": "display_data"
    }
   ],
   "source": [
    "import statsmodels.api as sm\n",
    "from statsmodels.formula.api import ols\n",
    "\n",
    "# Set the significance level (alpha) for the ANOVA test; this is the threshold for statistical significance\n",
    "alpha = 0.2\n",
    "\n",
    "# Fit an Ordinary Least Squares (OLS) regression model with compensation as the dependent variable and job satisfaction as the categorical predictor\n",
    "model = ols(formula=\"converted_comp ~ job_sat\", data=stack_overflow).fit()\n",
    "\n",
    "# Perform an ANOVA (Analysis of Variance) on the fitted model to test if mean compensation differs by job satisfaction group\n",
    "anova_table = sm.stats.anova_lm(model, typ=2)\n",
    "\n",
    "# Display the ANOVA results, which show whether there is a statistically significant difference in compensation between job satisfaction groups\n",
    "display(anova_table)"
   ]
  },
  {
   "cell_type": "markdown",
   "id": "b26b3b29",
   "metadata": {},
   "source": [
    "This block uses statsmodels' MultiComparison to perform pairwise t-tests between all job satisfaction groups for compensation.<br>\n",
    "The `.allpairtest()` method applies t-tests for each pair, with Bonferroni correction for multiple comparisons.<br>\n",
    "The result is a `SimpleTable`, which is converted to a pandas `DataFrame` for easier viewing.<br>\n",
    "Statistically, this identifies which job satisfaction groups differ significantly in compensation, controlling for family-wise error rate."
   ]
  },
  {
   "cell_type": "code",
   "execution_count": 271,
   "id": "73d86e5b",
   "metadata": {},
   "outputs": [
    {
     "data": {
      "application/vnd.microsoft.datawrangler.viewer.v0+json": {
       "columns": [
        {
         "name": "index",
         "rawType": "int64",
         "type": "integer"
        },
        {
         "name": "group1",
         "rawType": "object",
         "type": "string"
        },
        {
         "name": "group2",
         "rawType": "object",
         "type": "string"
        },
        {
         "name": "stat",
         "rawType": "float64",
         "type": "float"
        },
        {
         "name": "pval",
         "rawType": "float64",
         "type": "float"
        },
        {
         "name": "pval_corr",
         "rawType": "float64",
         "type": "float"
        },
        {
         "name": "reject",
         "rawType": "bool",
         "type": "boolean"
        }
       ],
       "ref": "3cb1d09e-ab3a-488f-b957-7e38bccfb635",
       "rows": [
        [
         "0",
         "Neither",
         "Slightly dissatisfied",
         "0.6277",
         "0.5305",
         "1.0",
         "False"
        ],
        [
         "1",
         "Neither",
         "Slightly satisfied",
         "0.8541",
         "0.3933",
         "1.0",
         "False"
        ],
        [
         "2",
         "Neither",
         "Very dissatisfied",
         "-0.5527",
         "0.5808",
         "1.0",
         "False"
        ],
        [
         "3",
         "Neither",
         "Very satisfied",
         "-1.5374",
         "0.1245",
         "1.0",
         "False"
        ],
        [
         "4",
         "Slightly dissatisfied",
         "Slightly satisfied",
         "0.041",
         "0.9673",
         "1.0",
         "False"
        ],
        [
         "5",
         "Slightly dissatisfied",
         "Very dissatisfied",
         "-1.243",
         "0.2145",
         "1.0",
         "False"
        ],
        [
         "6",
         "Slightly dissatisfied",
         "Very satisfied",
         "-2.7201",
         "0.0066",
         "0.0662",
         "False"
        ],
        [
         "7",
         "Slightly satisfied",
         "Very dissatisfied",
         "-1.6546",
         "0.0984",
         "0.9838",
         "False"
        ],
        [
         "8",
         "Slightly satisfied",
         "Very satisfied",
         "-3.7795",
         "0.0002",
         "0.0016",
         "True"
        ],
        [
         "9",
         "Very dissatisfied",
         "Very satisfied",
         "-0.7371",
         "0.4612",
         "1.0",
         "False"
        ]
       ],
       "shape": {
        "columns": 6,
        "rows": 10
       }
      },
      "text/html": [
       "<div>\n",
       "<style scoped>\n",
       "    .dataframe tbody tr th:only-of-type {\n",
       "        vertical-align: middle;\n",
       "    }\n",
       "\n",
       "    .dataframe tbody tr th {\n",
       "        vertical-align: top;\n",
       "    }\n",
       "\n",
       "    .dataframe thead th {\n",
       "        text-align: right;\n",
       "    }\n",
       "</style>\n",
       "<table border=\"1\" class=\"dataframe\">\n",
       "  <thead>\n",
       "    <tr style=\"text-align: right;\">\n",
       "      <th></th>\n",
       "      <th>group1</th>\n",
       "      <th>group2</th>\n",
       "      <th>stat</th>\n",
       "      <th>pval</th>\n",
       "      <th>pval_corr</th>\n",
       "      <th>reject</th>\n",
       "    </tr>\n",
       "  </thead>\n",
       "  <tbody>\n",
       "    <tr>\n",
       "      <th>0</th>\n",
       "      <td>Neither</td>\n",
       "      <td>Slightly dissatisfied</td>\n",
       "      <td>0.6277</td>\n",
       "      <td>0.5305</td>\n",
       "      <td>1.0000</td>\n",
       "      <td>False</td>\n",
       "    </tr>\n",
       "    <tr>\n",
       "      <th>1</th>\n",
       "      <td>Neither</td>\n",
       "      <td>Slightly satisfied</td>\n",
       "      <td>0.8541</td>\n",
       "      <td>0.3933</td>\n",
       "      <td>1.0000</td>\n",
       "      <td>False</td>\n",
       "    </tr>\n",
       "    <tr>\n",
       "      <th>2</th>\n",
       "      <td>Neither</td>\n",
       "      <td>Very dissatisfied</td>\n",
       "      <td>-0.5527</td>\n",
       "      <td>0.5808</td>\n",
       "      <td>1.0000</td>\n",
       "      <td>False</td>\n",
       "    </tr>\n",
       "    <tr>\n",
       "      <th>3</th>\n",
       "      <td>Neither</td>\n",
       "      <td>Very satisfied</td>\n",
       "      <td>-1.5374</td>\n",
       "      <td>0.1245</td>\n",
       "      <td>1.0000</td>\n",
       "      <td>False</td>\n",
       "    </tr>\n",
       "    <tr>\n",
       "      <th>4</th>\n",
       "      <td>Slightly dissatisfied</td>\n",
       "      <td>Slightly satisfied</td>\n",
       "      <td>0.0410</td>\n",
       "      <td>0.9673</td>\n",
       "      <td>1.0000</td>\n",
       "      <td>False</td>\n",
       "    </tr>\n",
       "    <tr>\n",
       "      <th>5</th>\n",
       "      <td>Slightly dissatisfied</td>\n",
       "      <td>Very dissatisfied</td>\n",
       "      <td>-1.2430</td>\n",
       "      <td>0.2145</td>\n",
       "      <td>1.0000</td>\n",
       "      <td>False</td>\n",
       "    </tr>\n",
       "    <tr>\n",
       "      <th>6</th>\n",
       "      <td>Slightly dissatisfied</td>\n",
       "      <td>Very satisfied</td>\n",
       "      <td>-2.7201</td>\n",
       "      <td>0.0066</td>\n",
       "      <td>0.0662</td>\n",
       "      <td>False</td>\n",
       "    </tr>\n",
       "    <tr>\n",
       "      <th>7</th>\n",
       "      <td>Slightly satisfied</td>\n",
       "      <td>Very dissatisfied</td>\n",
       "      <td>-1.6546</td>\n",
       "      <td>0.0984</td>\n",
       "      <td>0.9838</td>\n",
       "      <td>False</td>\n",
       "    </tr>\n",
       "    <tr>\n",
       "      <th>8</th>\n",
       "      <td>Slightly satisfied</td>\n",
       "      <td>Very satisfied</td>\n",
       "      <td>-3.7795</td>\n",
       "      <td>0.0002</td>\n",
       "      <td>0.0016</td>\n",
       "      <td>True</td>\n",
       "    </tr>\n",
       "    <tr>\n",
       "      <th>9</th>\n",
       "      <td>Very dissatisfied</td>\n",
       "      <td>Very satisfied</td>\n",
       "      <td>-0.7371</td>\n",
       "      <td>0.4612</td>\n",
       "      <td>1.0000</td>\n",
       "      <td>False</td>\n",
       "    </tr>\n",
       "  </tbody>\n",
       "</table>\n",
       "</div>"
      ],
      "text/plain": [
       "                  group1                 group2    stat    pval  pval_corr  \\\n",
       "0                Neither  Slightly dissatisfied  0.6277  0.5305     1.0000   \n",
       "1                Neither     Slightly satisfied  0.8541  0.3933     1.0000   \n",
       "2                Neither      Very dissatisfied -0.5527  0.5808     1.0000   \n",
       "3                Neither         Very satisfied -1.5374  0.1245     1.0000   \n",
       "4  Slightly dissatisfied     Slightly satisfied  0.0410  0.9673     1.0000   \n",
       "5  Slightly dissatisfied      Very dissatisfied -1.2430  0.2145     1.0000   \n",
       "6  Slightly dissatisfied         Very satisfied -2.7201  0.0066     0.0662   \n",
       "7     Slightly satisfied      Very dissatisfied -1.6546  0.0984     0.9838   \n",
       "8     Slightly satisfied         Very satisfied -3.7795  0.0002     0.0016   \n",
       "9      Very dissatisfied         Very satisfied -0.7371  0.4612     1.0000   \n",
       "\n",
       "   reject  \n",
       "0   False  \n",
       "1   False  \n",
       "2   False  \n",
       "3   False  \n",
       "4   False  \n",
       "5   False  \n",
       "6   False  \n",
       "7   False  \n",
       "8    True  \n",
       "9   False  "
      ]
     },
     "metadata": {},
     "output_type": "display_data"
    }
   ],
   "source": [
    "import statsmodels.api as sm\n",
    "from statsmodels.stats.multicomp import MultiComparison\n",
    "\n",
    "# Create a MultiComparison object to compare compensation across job satisfaction groups\n",
    "# This sets up all possible pairwise comparisons between job satisfaction categories for compensation\n",
    "mc = MultiComparison(stack_overflow[\"converted_comp\"], stack_overflow[\"job_sat\"])\n",
    "\n",
    "# Perform all pairwise t-tests between job satisfaction groups, using Bonferroni correction for multiple comparisons\n",
    "# The Bonferroni method adjusts p-values to control the family-wise error rate when making many comparisons\n",
    "result = mc.allpairtest(sm.stats.ttest_ind, method=\"bonf\")\n",
    "\n",
    "# Extract the summary table (SimpleTable object) from the result tuple\n",
    "summary_table = result[0]  # SimpleTable object\n",
    "\n",
    "# Convert the summary table to a pandas DataFrame for easier inspection and further analysis\n",
    "anova_like_table = pd.DataFrame(summary_table.data[1:], columns=summary_table.data[0])\n",
    "\n",
    "display(anova_like_table)"
   ]
  },
  {
   "cell_type": "code",
   "execution_count": 272,
   "id": "658a80e1",
   "metadata": {},
   "outputs": [
    {
     "data": {
      "application/vnd.microsoft.datawrangler.viewer.v0+json": {
       "columns": [
        {
         "name": "shipment_mode",
         "rawType": "object",
         "type": "string"
        },
        {
         "name": "pack_price",
         "rawType": "float64",
         "type": "float"
        }
       ],
       "ref": "47b4443c-e923-4ff6-8db7-e1366fc5f661",
       "rows": [
        [
         "Air",
         "48.93286095702218"
        ],
        [
         "Air Charter",
         "0.9929686131326944"
        ],
        [
         "Ocean",
         "5.303046560357228"
        ]
       ],
       "shape": {
        "columns": 1,
        "rows": 3
       }
      },
      "text/plain": [
       "shipment_mode\n",
       "Air            48.932861\n",
       "Air Charter     0.992969\n",
       "Ocean           5.303047\n",
       "Name: pack_price, dtype: float64"
      ]
     },
     "metadata": {},
     "output_type": "display_data"
    }
   ],
   "source": [
    "# Group the late_shipments DataFrame by the 'shipment_mode' column and calculate the mean of 'pack_price' for each group.\n",
    "# This gives the average pack price for each shipment mode, helping us compare central tendencies across categories.\n",
    "xbar_pack_by_mode = late_shipments.groupby(\"shipment_mode\")[\"pack_price\"].mean()\n",
    "\n",
    "# Group the late_shipments DataFrame by 'shipment_mode' and calculate the standard deviation of 'pack_price' for each group.\n",
    "# The standard deviation measures the spread or variability of pack prices within each shipment mode group.\n",
    "s_pack_by_mode = late_shipments.groupby(\"shipment_mode\")[\"pack_price\"].std()\n",
    "\n",
    "display(s_pack_by_mode)"
   ]
  },
  {
   "cell_type": "code",
   "execution_count": 273,
   "id": "2ee712fc",
   "metadata": {},
   "outputs": [
    {
     "data": {
      "image/png": "[encoded data removed]",
      "text/plain": [
       "<Figure size 920x690 with 1 Axes>"
      ]
     },
     "metadata": {},
     "output_type": "display_data"
    }
   ],
   "source": [
    "# Create a boxplot from late_shipments with \"pack_price\" as x and \"shipment_mode\" as y.\n",
    "fig, ax = plt.subplots(figsize=(8, 6), dpi=115)\n",
    "\n",
    "with sns.axes_style(\"darkgrid\", {\"axes.facecolor\": \".7\"}):\n",
    "    sns.boxplot(\n",
    "        x=\"pack_price\",\n",
    "        y=\"shipment_mode\",\n",
    "        data=late_shipments,\n",
    "        ax=ax,\n",
    "        palette=\"viridis\",\n",
    "        hue=\"shipment_mode\",\n",
    "    )\n",
    "\n",
    "ax.set_xlabel(\"Pack Price (USD)\", fontsize=13, fontname=\"DejaVu Sans\")\n",
    "ax.set_ylabel(\"Shipment Mode\", fontsize=13, fontname=\"DejaVu Sans\")\n",
    "ax.set_title(\n",
    "    \"Distribution of Pack Prices by Shipment Mode\",\n",
    "    fontsize=15,\n",
    "    fontname=\"DejaVu Sans\",\n",
    ")\n",
    "ax.grid(True, alpha=0.5, linewidth=0.4, color=\"grey\")\n",
    "ax.set_axisbelow(True)\n",
    "\n",
    "plt.tight_layout()\n",
    "plt.show()"
   ]
  },
  {
   "cell_type": "markdown",
   "id": "e4f5166a",
   "metadata": {},
   "source": [
    "### Conducting an ANOVA test\n",
    "The box plots made it look like the distribution of pack price was different for each of the three shipment modes. However, it didn't tell us whether the mean pack price was different in each category. To determine that, we can use an ANOVA test. The null and alternative hypotheses can be written as follows.\n",
    "\n",
    "$H_0$: Pack prices for every category of shipment mode are the same.<br>\n",
    "$H_A$: Pack prices for some categories of shipment mode are different.\n",
    "\n",
    "\n",
    "Use a significance level of 0.1."
   ]
  },
  {
   "cell_type": "code",
   "execution_count": 274,
   "id": "d7fe259a",
   "metadata": {},
   "outputs": [
    {
     "name": "stdout",
     "output_type": "stream",
     "text": [
      "          Source  ddof1  ddof2        F         p-unc       np2\n",
      "0  shipment_mode      2    997  21.8646  5.089479e-10  0.042018\n"
     ]
    }
   ],
   "source": [
    "# Run an ANOVA (Analysis of Variance) to test if the mean pack price differs across shipment modes\n",
    "# This tests the null hypothesis that all shipment_mode groups have the same mean pack_price\n",
    "anova_results = pingouin.anova(\n",
    "    # DataFrame containing the data to analyze\n",
    "    data=late_shipments,\n",
    "    # Dependent variable: the numeric variable whose means are compared\n",
    "    dv=\"pack_price\",\n",
    "    # Categorical variable defining the groups to compare\n",
    "    between=\"shipment_mode\",\n",
    ")\n",
    "\n",
    "# A small p-value (below alpha) indicates at least one group mean is significantly different\n",
    "print(anova_results)"
   ]
  },
  {
   "cell_type": "code",
   "execution_count": 275,
   "id": "8fd3217f",
   "metadata": {},
   "outputs": [
    {
     "name": "stdout",
     "output_type": "stream",
     "text": [
      "                     sum_sq     df        F        PR(>F)\n",
      "shipment_mode  9.515185e+04    2.0  21.8646  5.089479e-10\n",
      "Residual       2.169406e+06  997.0      NaN           NaN\n"
     ]
    }
   ],
   "source": [
    "import statsmodels.api as sm\n",
    "from statsmodels.formula.api import ols\n",
    "\n",
    "# Fit an Ordinary Least Squares (OLS) regression model\n",
    "# This models 'pack_price' as a function of the categorical variable 'shipment_mode'\n",
    "# Statistically, this is equivalent to comparing the mean pack price across shipment modes (ANOVA)\n",
    "model = ols(formula=\"pack_price ~ shipment_mode\", data=late_shipments).fit()\n",
    "\n",
    "# Perform an ANOVA (Analysis of Variance) on the fitted model\n",
    "# This tests the null hypothesis that all shipment_mode groups have the same mean pack_price\n",
    "# The output includes the F-statistic and associated p-value for the group variable\n",
    "anova_table = sm.stats.anova_lm(model, typ=2)\n",
    "\n",
    "# Print the ANOVA results table\n",
    "# If the p-value for 'shipment_mode' is below your chosen alpha, you reject the null hypothesis\n",
    "print(anova_table)"
   ]
  },
  {
   "cell_type": "code",
   "execution_count": 276,
   "id": "d326d1f2",
   "metadata": {},
   "outputs": [
    {
     "data": {
      "application/vnd.microsoft.datawrangler.viewer.v0+json": {
       "columns": [
        {
         "name": "index",
         "rawType": "int64",
         "type": "integer"
        },
        {
         "name": "Contrast",
         "rawType": "object",
         "type": "string"
        },
        {
         "name": "A",
         "rawType": "object",
         "type": "string"
        },
        {
         "name": "B",
         "rawType": "object",
         "type": "string"
        },
        {
         "name": "Paired",
         "rawType": "bool",
         "type": "boolean"
        },
        {
         "name": "Parametric",
         "rawType": "bool",
         "type": "boolean"
        },
        {
         "name": "T",
         "rawType": "float64",
         "type": "float"
        },
        {
         "name": "dof",
         "rawType": "float64",
         "type": "float"
        },
        {
         "name": "alternative",
         "rawType": "object",
         "type": "string"
        },
        {
         "name": "p-unc",
         "rawType": "float64",
         "type": "float"
        },
        {
         "name": "BF10",
         "rawType": "object",
         "type": "string"
        },
        {
         "name": "hedges",
         "rawType": "float64",
         "type": "float"
        }
       ],
       "ref": "29a9c41c-0100-4c1f-aa3c-479404dec645",
       "rows": [
        [
         "0",
         "shipment_mode",
         "Air",
         "Air Charter",
         "False",
         "True",
         "21.179625237157303",
         "600.6856822816193",
         "two-sided",
         "8.748345979164269e-75",
         "5.809e+76",
         "0.7265923955725941"
        ],
        [
         "1",
         "shipment_mode",
         "Air",
         "Ocean",
         "False",
         "True",
         "19.33576038767632",
         "986.9797854844024",
         "two-sided",
         "6.9345550920145624e-71",
         "1.129e+67",
         "0.7111189676291639"
        ],
        [
         "2",
         "shipment_mode",
         "Air Charter",
         "Ocean",
         "False",
         "True",
         "-3.1706544132750296",
         "35.61502600665747",
         "two-sided",
         "0.0031230122870821568",
         "15.277",
         "-0.42377468109259914"
        ]
       ],
       "shape": {
        "columns": 11,
        "rows": 3
       }
      },
      "text/html": [
       "<div>\n",
       "<style scoped>\n",
       "    .dataframe tbody tr th:only-of-type {\n",
       "        vertical-align: middle;\n",
       "    }\n",
       "\n",
       "    .dataframe tbody tr th {\n",
       "        vertical-align: top;\n",
       "    }\n",
       "\n",
       "    .dataframe thead th {\n",
       "        text-align: right;\n",
       "    }\n",
       "</style>\n",
       "<table border=\"1\" class=\"dataframe\">\n",
       "  <thead>\n",
       "    <tr style=\"text-align: right;\">\n",
       "      <th></th>\n",
       "      <th>Contrast</th>\n",
       "      <th>A</th>\n",
       "      <th>B</th>\n",
       "      <th>Paired</th>\n",
       "      <th>Parametric</th>\n",
       "      <th>T</th>\n",
       "      <th>dof</th>\n",
       "      <th>alternative</th>\n",
       "      <th>p-unc</th>\n",
       "      <th>BF10</th>\n",
       "      <th>hedges</th>\n",
       "    </tr>\n",
       "  </thead>\n",
       "  <tbody>\n",
       "    <tr>\n",
       "      <th>0</th>\n",
       "      <td>shipment_mode</td>\n",
       "      <td>Air</td>\n",
       "      <td>Air Charter</td>\n",
       "      <td>False</td>\n",
       "      <td>True</td>\n",
       "      <td>21.179625</td>\n",
       "      <td>600.685682</td>\n",
       "      <td>two-sided</td>\n",
       "      <td>8.748346e-75</td>\n",
       "      <td>5.809e+76</td>\n",
       "      <td>0.726592</td>\n",
       "    </tr>\n",
       "    <tr>\n",
       "      <th>1</th>\n",
       "      <td>shipment_mode</td>\n",
       "      <td>Air</td>\n",
       "      <td>Ocean</td>\n",
       "      <td>False</td>\n",
       "      <td>True</td>\n",
       "      <td>19.335760</td>\n",
       "      <td>986.979785</td>\n",
       "      <td>two-sided</td>\n",
       "      <td>6.934555e-71</td>\n",
       "      <td>1.129e+67</td>\n",
       "      <td>0.711119</td>\n",
       "    </tr>\n",
       "    <tr>\n",
       "      <th>2</th>\n",
       "      <td>shipment_mode</td>\n",
       "      <td>Air Charter</td>\n",
       "      <td>Ocean</td>\n",
       "      <td>False</td>\n",
       "      <td>True</td>\n",
       "      <td>-3.170654</td>\n",
       "      <td>35.615026</td>\n",
       "      <td>two-sided</td>\n",
       "      <td>3.123012e-03</td>\n",
       "      <td>15.277</td>\n",
       "      <td>-0.423775</td>\n",
       "    </tr>\n",
       "  </tbody>\n",
       "</table>\n",
       "</div>"
      ],
      "text/plain": [
       "        Contrast            A            B  Paired  Parametric          T  \\\n",
       "0  shipment_mode          Air  Air Charter   False        True  21.179625   \n",
       "1  shipment_mode          Air        Ocean   False        True  19.335760   \n",
       "2  shipment_mode  Air Charter        Ocean   False        True  -3.170654   \n",
       "\n",
       "          dof alternative         p-unc       BF10    hedges  \n",
       "0  600.685682   two-sided  8.748346e-75  5.809e+76  0.726592  \n",
       "1  986.979785   two-sided  6.934555e-71  1.129e+67  0.711119  \n",
       "2   35.615026   two-sided  3.123012e-03     15.277 -0.423775  "
      ]
     },
     "execution_count": 276,
     "metadata": {},
     "output_type": "execute_result"
    }
   ],
   "source": [
    "# Perform pairwise t-tests to compare the mean pack price between each pair of shipment modes in the late_shipments dataset\n",
    "pingouin.pairwise_tests(\n",
    "    # DataFrame containing the data to analyze\n",
    "    data=late_shipments,\n",
    "    # Dependent variable: the numeric variable whose means are compared\n",
    "    dv=\"pack_price\",\n",
    "    # Categorical variable defining the groups to compare\n",
    "    between=\"shipment_mode\",\n",
    "    # No p-value adjustment: each test's p-value is reported as-is (risk of inflated Type I error if many comparisons)\n",
    "    padjust=None,\n",
    ")"
   ]
  },
  {
   "cell_type": "code",
   "execution_count": 277,
   "id": "164664b0",
   "metadata": {},
   "outputs": [
    {
     "data": {
      "application/vnd.microsoft.datawrangler.viewer.v0+json": {
       "columns": [
        {
         "name": "index",
         "rawType": "int64",
         "type": "integer"
        },
        {
         "name": "group1",
         "rawType": "object",
         "type": "string"
        },
        {
         "name": "group2",
         "rawType": "object",
         "type": "string"
        },
        {
         "name": "stat",
         "rawType": "float64",
         "type": "float"
        },
        {
         "name": "pval",
         "rawType": "float64",
         "type": "float"
        },
        {
         "name": "pval_corr",
         "rawType": "float64",
         "type": "float"
        },
        {
         "name": "reject",
         "rawType": "bool",
         "type": "boolean"
        }
       ],
       "ref": "c7e1df3f-cdc4-4345-9639-76ffd797f3ad",
       "rows": [
        [
         "0",
         "Air",
         "Air Charter",
         "1.7754",
         "0.0762",
         "0.2285",
         "False"
        ],
        [
         "1",
         "Air",
         "Ocean",
         "6.3736",
         "0.0",
         "0.0",
         "True"
        ],
        [
         "2",
         "Air Charter",
         "Ocean",
         "-1.0126",
         "0.3139",
         "0.9417",
         "False"
        ]
       ],
       "shape": {
        "columns": 6,
        "rows": 3
       }
      },
      "text/html": [
       "<div>\n",
       "<style scoped>\n",
       "    .dataframe tbody tr th:only-of-type {\n",
       "        vertical-align: middle;\n",
       "    }\n",
       "\n",
       "    .dataframe tbody tr th {\n",
       "        vertical-align: top;\n",
       "    }\n",
       "\n",
       "    .dataframe thead th {\n",
       "        text-align: right;\n",
       "    }\n",
       "</style>\n",
       "<table border=\"1\" class=\"dataframe\">\n",
       "  <thead>\n",
       "    <tr style=\"text-align: right;\">\n",
       "      <th></th>\n",
       "      <th>group1</th>\n",
       "      <th>group2</th>\n",
       "      <th>stat</th>\n",
       "      <th>pval</th>\n",
       "      <th>pval_corr</th>\n",
       "      <th>reject</th>\n",
       "    </tr>\n",
       "  </thead>\n",
       "  <tbody>\n",
       "    <tr>\n",
       "      <th>0</th>\n",
       "      <td>Air</td>\n",
       "      <td>Air Charter</td>\n",
       "      <td>1.7754</td>\n",
       "      <td>0.0762</td>\n",
       "      <td>0.2285</td>\n",
       "      <td>False</td>\n",
       "    </tr>\n",
       "    <tr>\n",
       "      <th>1</th>\n",
       "      <td>Air</td>\n",
       "      <td>Ocean</td>\n",
       "      <td>6.3736</td>\n",
       "      <td>0.0000</td>\n",
       "      <td>0.0000</td>\n",
       "      <td>True</td>\n",
       "    </tr>\n",
       "    <tr>\n",
       "      <th>2</th>\n",
       "      <td>Air Charter</td>\n",
       "      <td>Ocean</td>\n",
       "      <td>-1.0126</td>\n",
       "      <td>0.3139</td>\n",
       "      <td>0.9417</td>\n",
       "      <td>False</td>\n",
       "    </tr>\n",
       "  </tbody>\n",
       "</table>\n",
       "</div>"
      ],
      "text/plain": [
       "        group1       group2    stat    pval  pval_corr  reject\n",
       "0          Air  Air Charter  1.7754  0.0762     0.2285   False\n",
       "1          Air        Ocean  6.3736  0.0000     0.0000    True\n",
       "2  Air Charter        Ocean -1.0126  0.3139     0.9417   False"
      ]
     },
     "metadata": {},
     "output_type": "display_data"
    }
   ],
   "source": [
    "import statsmodels.api as sm\n",
    "from statsmodels.stats.multicomp import MultiComparison\n",
    "\n",
    "# Set up a MultiComparison object to compare pack prices across shipment modes\n",
    "# This object enables all possible pairwise comparisons between the categories in 'shipment_mode'\n",
    "mc = MultiComparison(late_shipments[\"pack_price\"], late_shipments[\"shipment_mode\"])\n",
    "\n",
    "# Perform all pairwise t-tests between shipment modes, using Bonferroni correction to control for multiple comparisons\n",
    "# The Bonferroni method adjusts p-values to reduce the risk of Type I error when making many comparisons\n",
    "result = mc.allpairtest(sm.stats.ttest_ind, method=\"bonf\")\n",
    "\n",
    "# Extract the summary table (SimpleTable object) containing the results of all pairwise tests\n",
    "summary_table = result[0]  # SimpleTable object\n",
    "\n",
    "# Convert the summary table to a pandas DataFrame for easier inspection and further analysis\n",
    "anova_like_table = pd.DataFrame(summary_table.data[1:], columns=summary_table.data[0])\n",
    "\n",
    "display(anova_like_table)"
   ]
  },
  {
   "cell_type": "markdown",
   "id": "ca44b457",
   "metadata": {},
   "source": [
    "## From Bootstrapping to a Direct Formula\n",
    "\n",
    "Previously, we determined the significance of a point estimate by a four-step process:\n",
    "\n",
    "1.  Generate a bootstrap distribution to approximate the sampling distribution.\n",
    "2.  Calculate the standard error as the standard deviation of the bootstrap distribution.\n",
    "3.  Compute a standardized test statistic (z-score) using this standard error.\n",
    "4.  Calculate a p-value from the test statistic to make a decision.\n",
    "\n",
    "For tests involving proportions, there is a more direct, analytical method that bypasses the need for the computationally intensive bootstrap simulation. This method allows us to calculate the standard error and the z-statistic directly from a known formula.\n",
    "\n",
    "### The Standardized Test Statistic for Proportions\n",
    "\n",
    "The general formula for a standardized test statistic is:\n",
    "\n",
    "$$z = \\frac{\\text{Sample Statistic} - \\text{Hypothesized Parameter}}{SE(\\text{Sample Statistic})}$$\n",
    "\n",
    "For a one-sample test of a proportion, the specific terms are:\n",
    "\n",
    "  * **Sample Statistic**: $\\hat{p}$, the observed sample proportion.\n",
    "  * **Hypothesized Parameter**: $p_0$, the population proportion assumed under the null hypothesis.\n",
    "  * **Standard Error**: $SE(\\hat{p})$, the standard error of the sample proportion.\n",
    "  Assuming the null hypothesis is true ($H_0: p = p_0$), the formula becomes:\n",
    "\n",
    "$$z = \\frac{\\hat{p} - p_0}{SE(\\hat{p})}$$\n",
    "\n",
    "### A Simplified Standard Error\n",
    "\n",
    "The key to bypassing the bootstrap is having a direct formula for the standard error. The logic of hypothesis testing requires us to assume the null hypothesis is true. Under this assumption, our best guess for the true population proportion is the hypothesized value, $p_0$. Therefore, we use $p_0$ to calculate the standard error.\n",
    "\n",
    "The standard error for a sample proportion, under the null hypothesis, is:\n",
    "\n",
    "$$SE(\\hat{p}) = \\sqrt{\\frac{p_0(1-p_0)}{n}}$$\n",
    "\n",
    "By substituting this simplified standard error back into the z-statistic formula, we arrive at the final test statistic, which can be calculated without any simulation:\n",
    "\n",
    "$$z = \\frac{\\hat{p} - p_0}{\\sqrt{\\frac{p_0(1-p_0)}{n}}}$$\n",
    "\n",
    "This powerful formula depends only on the sample proportion ($\\hat{p}$), the sample size (`n`), and the hypothesized proportion ($p_0$).\n",
    "\n",
    "### Why a z-test and not a t-test?\n",
    "\n",
    "We use a **t-test** when we must estimate a population standard deviation ($\\sigma$) from our sample standard deviation (`s`). This estimation introduces extra uncertainty, which is accounted for by the \"fatter tails\" of the t-distribution.\n",
    "\n",
    "For a proportion test, the situation is different. The variability of a proportion is intrinsically linked to its value. Under the null hypothesis, the standard error is *fully determined* by the hypothesized proportion ($p_0$) and the sample size (`n`). We are not estimating a separate standard deviation parameter from the sample. Since this extra source of uncertainty is absent, the z-distribution is appropriate.\n",
    "\n",
    "\n",
    "### A Complete Example: One-Sample Proportion Test\n",
    "\n",
    "Let's conduct a complete one-sample proportion test using this direct analytical method.\n",
    "\n",
    "**Scenario**: A company claims that 25% of its website visitors make a purchase. We take a sample of 1000 visitors and find that 280 of them made a purchase. Is there significant evidence to suggest the true proportion is different from 25%?\n",
    "\n",
    "```python\n",
    "import numpy as np\n",
    "from scipy.stats import norm\n",
    "\n",
    "# 1. State Hypotheses and Define Parameters \n",
    "# H0: The true proportion of purchasing visitors is 0.25. (p = 0.25)\n",
    "# HA: The true proportion is not 0.25. (p ≠ 0.25) -> This is a two-tailed test.\n",
    "\n",
    "p_0 = 0.25  # Hypothesized population proportion\n",
    "n = 1000    # Sample size\n",
    "p_hat = 280 / 1000 # Observed sample proportion\n",
    "alpha = 0.05 # Significance level\n",
    "\n",
    "# 2. Calculate the z-statistic\n",
    "numerator = p_hat - p_0\n",
    "denominator = np.sqrt(p_0 * (1 - p_0) / n)\n",
    "z_score = numerator / denominator\n",
    "\n",
    "print(f\"Sample Proportion (p-hat): {p_hat:.4f}\")\n",
    "print(f\"Hypothesized Proportion (p_0): {p_0}\")\n",
    "print(f\"Z-score: {z_score:.4f}\")\n",
    "\n",
    "# 3. Calculate the p-value\n",
    "# For a two-tailed test, we find the area in the tails beyond |z_score|\n",
    "p_value = 2 * (1 - norm.cdf(abs(z_score)))\n",
    "\n",
    "print(f\"\\nP-value: {p_value:.4f}\")\n",
    "\n",
    "# 4. Make a Statistical Decision \n",
    "if p_value < alpha:\n",
    "    print(f\"\\nDecision: Reject H0, because p ({p_value:.4f}) < alpha ({alpha}).\")\n",
    "    print(\"The evidence suggests the true proportion of purchasing visitors is different from 0.25.\")\n",
    "else:\n",
    "    print(f\"\\nDecision: Fail to reject H0, because p ({p_value:.4f}) >= alpha ({alpha}).\")\n",
    "    print(\"There is not enough evidence to conclude the proportion is different from 0.25.\")\n",
    "```\n",
    "\n",
    "The small p-value allows us to reject the null hypothesis, concluding that our sample provides strong evidence that the true proportion of visitors who make a purchase is not 25%."
   ]
  },
  {
   "cell_type": "code",
   "execution_count": 278,
   "id": "60b15301",
   "metadata": {},
   "outputs": [
    {
     "name": "stdout",
     "output_type": "stream",
     "text": [
      "Sample proportion (p̂): 0.5356\n",
      "Hypothesized proportion (p0): 0.5\n",
      "Z-score: 3.3859\n",
      "P-value (two-sided): 0.000709\n",
      "\n",
      "Since p-value (0.000709) <= alpha (0.01), we reject the null hypothesis.\n",
      "Conclusion: There is statistically significant evidence at the 1.00% level that the proportion of users under thirty-five is not equal to 0.5.\n"
     ]
    }
   ],
   "source": [
    "from scipy.stats import norm\n",
    "\n",
    "# Set the significance level (alpha) for the hypothesis test.\n",
    "alpha = 0.01\n",
    "\n",
    "# Calculate the observed sample proportion (p_hat) of respondents under 30 years old.\n",
    "p_hat = (stack_overflow[\"age_cat\"] == \"Under 30\").mean()\n",
    "\n",
    "# Set the hypothesized population proportion (p_0) under the null hypothesis.\n",
    "p_0 = 0.50\n",
    "\n",
    "# Calculate the sample size (n), i.e., the number of respondents in the dataset.\n",
    "n = len(stack_overflow)\n",
    "\n",
    "# Calculate the numerator: the difference between the observed sample proportion and the hypothesized proportion\n",
    "# Statistically, this measures how far our sample result is from what we'd expect under the null hypothesis\n",
    "numerator = p_hat - p_0\n",
    "\n",
    "# Calculate the denominator: the standard error of the sample proportion under the null hypothesis\n",
    "# Formula: sqrt(p_0 * (1 - p_0) / n)\n",
    "denominator = np.sqrt(p_0 * (1 - p_0) / n)\n",
    "\n",
    "# Compute the z-score: standardized test statistic for a one-sample proportion test\n",
    "# z = (observed proportion - hypothesized proportion) / standard error\n",
    "z_score = numerator / denominator\n",
    "\n",
    "\n",
    "# Statistically: The p-value is the probability, under the null hypothesis, of observing a test statistic as extreme or more extreme than the one calculated.\n",
    "# Syntax: norm.cdf(abs(z_score)) gives the cumulative probability up to |z_score|; 1 - ... gives the upper tail; multiply by 2 for both tails (two-sided test).\n",
    "p_value = 2 * (1 - norm.cdf(abs(z_score)))\n",
    "\n",
    "# Print diagnostics and make a decision using the chosen significance level\n",
    "print(f\"Sample proportion (p̂): {p_hat:.4f}\")\n",
    "print(f\"Hypothesized proportion (p0): {p_0}\")\n",
    "print(f\"Z-score: {z_score:.4f}\")\n",
    "print(f\"P-value (two-sided): {p_value:.6f}\")\n",
    "\n",
    "if p_value <= alpha:\n",
    "    print(\n",
    "        f\"\\nSince p-value ({p_value:.6f}) <= alpha ({alpha}), we reject the null hypothesis.\"\n",
    "    )\n",
    "    print(\n",
    "        f\"Conclusion: There is statistically significant evidence at the {alpha:.2%} level \"\n",
    "        f\"that the proportion of users under thirty-five is not equal to {p_0}.\"\n",
    "    )\n",
    "else:\n",
    "    print(\n",
    "        f\"\\nSince p-value ({p_value:.6f}) > alpha ({alpha}), we fail to reject the null hypothesis.\"\n",
    "    )\n",
    "    print(\n",
    "        f\"Conclusion: There is insufficient evidence at the {alpha:.2%} level to conclude \"\n",
    "        f\"that the proportion of users under thirty-five differs from {p_0}.\"\n",
    "    )"
   ]
  },
  {
   "cell_type": "markdown",
   "id": "b3da0191",
   "metadata": {},
   "source": [
    "### Test for single proportions\n",
    "In Chapter 1, you calculated a p-value for a test hypothesizing that the proportion of late shipments was greater than 6%. In that chapter, you used a bootstrap distribution to estimate the standard error of the statistic. An alternative is to use an equation for the standard error based on the sample proportion, hypothesized proportion, and sample size.\n",
    "\n",
    "The formula for the z-score in a one-sample proportion test is:\n",
    "\n",
    "$$\n",
    "z = \\frac{\\hat{p} - p_0}{\\sqrt{\\frac{p_0(1-p_0)}{n}}}\n",
    "$$\n",
    "\n",
    "where  \n",
    "$\\hat{p}$ = observed sample proportion  \n",
    "$p_0$ = hypothesized population proportion  \n",
    "$n$ = sample size\n",
    "\n",
    " \n",
    " "
   ]
  },
  {
   "cell_type": "code",
   "execution_count": 279,
   "id": "083140c8",
   "metadata": {},
   "outputs": [
    {
     "name": "stdout",
     "output_type": "stream",
     "text": [
      "0.44703503936503364\n"
     ]
    }
   ],
   "source": [
    "# Import the normal distribution CDF for p-value calculation\n",
    "from scipy.stats import norm\n",
    "\n",
    "# Set the hypothesized population proportion under the null hypothesis (H0: true late shipment rate is 6%)\n",
    "p_0 = 0.06\n",
    "\n",
    "# Calculate the observed sample proportion of late shipments (\"Yes\" in the 'late' column)\n",
    "# This is our point estimate (p̂) for the true proportion\n",
    "p_hat = (late_shipments[\"late\"] == \"Yes\").mean()\n",
    "\n",
    "# Determine the sample size (number of shipments in the dataset)\n",
    "n = len(late_shipments)\n",
    "\n",
    "# Compute the numerator: difference between observed and hypothesized proportions (p̂ - p₀)\n",
    "# This measures how far our sample result is from the null hypothesis\n",
    "numerator = p_hat - p_0\n",
    "\n",
    "# Compute the denominator: standard error of the sample proportion under H0\n",
    "# Formula: sqrt(p₀ * (1 - p₀) / n), which quantifies expected sampling variability if H0 is true\n",
    "denominator = np.sqrt(p_0 * (1 - p_0) / n)\n",
    "\n",
    "# Calculate the z-score: standardized test statistic for a one-sample proportion test\n",
    "# z = (p̂ - p₀) / SE; tells us how many standard errors our observed result is from the null hypothesis\n",
    "z_score = numerator / denominator\n",
    "\n",
    "# Calculate the p-value for a right-tailed test (H_A: true proportion > 0.06)\n",
    "# p-value = probability of observing a z-score this large or larger under H0\n",
    "p_value = 1 - norm.cdf(z_score)\n",
    "\n",
    "# Print the p-value; a small value (below alpha) suggests the sample proportion is significantly greater than hypothesized\n",
    "print(p_value)"
   ]
  },
  {
   "cell_type": "markdown",
   "id": "04addead",
   "metadata": {},
   "source": [
    "## The Two-Sample Problem for Proportions\n",
    "\n",
    "This hypothesis test is used when you want to compare a binary categorical variable across two different groups. For example:\n",
    "\n",
    "  * Is the proportion of customers who click on an ad different for users in Group A versus Group B?\n",
    "  * Is the proportion of students who pass an exam different for those who used a new study guide versus those who used the old one?\n",
    "\n",
    "The test evaluates whether any observed difference in the sample proportions is statistically significant or if it could have occurred due to random sampling variability.\n",
    "\n",
    "### Formulating Hypotheses\n",
    "\n",
    "Let $p_1$ be the population proportion for Group 1 and $p_2$ be the population proportion for Group 2.\n",
    "\n",
    "  * **Null Hypothesis ($H_0$)**: This hypothesis states that the population proportions for the two groups are **equal**.\n",
    "    $$H_0: p_1 = p_2 \\quad \\text{or equivalently} \\quad H_0: p_1 - p_2 = 0$$\n",
    "\n",
    "  * **Alternative Hypothesis ($H_A$)**: This hypothesis states that the population proportions are **not equal**.\n",
    "\n",
    "      * **Two-tailed**: $H_A: p_1 \\neq p_2$\n",
    "      * **Right-tailed**: $H_A: p_1 > p_2$\n",
    "      * **Left-tailed**: $H_A: p_1 < p_2$\n",
    "\n",
    "### The z-statistic for Comparing Two Proportions\n",
    "\n",
    "The test statistic for comparing two proportions is a **z-statistic**. Assuming the null hypothesis is true (that the difference is zero), the formula is:\n",
    "\n",
    "$$z = \\frac{(\\hat{p}_1 - \\hat{p}_2) - 0}{SE(\\hat{p}_1 - \\hat{p}_2)}$$\n",
    "\n",
    "### The Pooled Proportion and Standard Error\n",
    "\n",
    "A key step in this calculation is finding the standard error. Under the null hypothesis, we assume that $p_1 = p_2$. Therefore, our best estimate for this single, common proportion is the **pooled sample proportion**, $\\hat{p}_{pool}$, which combines the data from both samples.\n",
    "\n",
    "$$\\hat{p}_{pool} = \\frac{n_1\\hat{p}_1 + n_2\\hat{p}_2}{n_1 + n_2} = \\frac{\\text{Total number of successes in both groups}}{\\text{Total sample size of both groups}}$$\n",
    "\n",
    "We then use this pooled proportion to calculate the standard error of the difference:\n",
    "\n",
    "$$SE(\\hat{p}_1 - \\hat{p}_2) = \\sqrt{\\hat{p}_{pool}(1-\\hat{p}_{pool})\\left(\\frac{1}{n_1} + \\frac{1}{n_2}\\right)}$$\n",
    "\n",
    "This gives us the final formula for the z-statistic:\n",
    "\n",
    "$$z = \\frac{\\hat{p}_1 - \\hat{p}_2}{\\sqrt{\\hat{p}_{pool}(1-\\hat{p}_{pool})\\left(\\frac{1}{n_1} + \\frac{1}{n_2}\\right)}}$$\n",
    "\n",
    "### Implementation in Python\n",
    "\n",
    "You can perform a two-sample proportion test either by calculating the z-statistic manually or by using a dedicated function from a library like `statsmodels`.\n",
    "\n",
    "#### Manual Calculation\n",
    "\n",
    "Let's walk through the steps to calculate the z-statistic manually.\n",
    "\n",
    "```python\n",
    "import pandas as pd\n",
    "import numpy as np\n",
    "\n",
    "# Create a generic, reproducible dataset\n",
    "np.random.seed(42)\n",
    "df = pd.DataFrame({\n",
    "    'group': ['Group A'] * 200 + ['Group B'] * 300,\n",
    "    'outcome': np.concatenate([\n",
    "        np.random.choice(['Success', 'Failure'], 200, p=[0.85, 0.15]),\n",
    "        np.random.choice(['Success', 'Failure'], 300, p=[0.80, 0.20])\n",
    "    ])\n",
    "})\n",
    "\n",
    "# Step 1: Calculate sample statistics for each group\n",
    "p_hats = df.groupby('group')['outcome'].value_counts(normalize=True)\n",
    "n_counts = df.groupby('group').size()\n",
    "\n",
    "p_hat_A = p_hats.loc[('Group A', 'Success')]\n",
    "p_hat_B = p_hats.loc[('Group B', 'Success')]\n",
    "n_A = n_counts.loc['Group A']\n",
    "n_B = n_counts.loc['Group B']\n",
    "\n",
    "# Step 2: Calculate the pooled proportion \n",
    "num_successes = (p_hat_A * n_A) + (p_hat_B * n_B)\n",
    "total_size = n_A + n_B\n",
    "p_hat_pool = num_successes / total_size\n",
    "\n",
    "# Step 3: Calculate the standard error and z-statistic \n",
    "std_error = np.sqrt(p_hat_pool * (1 - p_hat_pool) * (1/n_A + 1/n_B))\n",
    "z_score_manual = (p_hat_A - p_hat_B) / std_error\n",
    "\n",
    "print(f\"p-hat for Group A: {p_hat_A:.4f}\")\n",
    "print(f\"p-hat for Group B: {p_hat_B:.4f}\")\n",
    "print(f\"Pooled p-hat: {p_hat_pool:.4f}\")\n",
    "print(f\"Z-score: {z_score_manual:.4f}\")\n",
    "```\n",
    "\n",
    "#### Using `statsmodels`\n",
    "\n",
    "The `statsmodels.stats.proportion.proportions_ztest` function provides a direct and convenient way to perform the test.\n",
    "\n",
    "```python\n",
    "from statsmodels.stats.proportion import proportions_ztest\n",
    "\n",
    "# The function needs the count of successes and the total number of observations for each group.\n",
    "count_successes = np.array([p_hat_A * n_A, p_hat_B * n_B])\n",
    "nobs = np.array([n_A, n_B])\n",
    "\n",
    "# Perform the z-test\n",
    "z_score_sm, p_value_sm = proportions_ztest(count=count_successes, nobs=nobs, alternative='two-sided')\n",
    "\n",
    "print(f\"Z-score: {z_score_sm:.4f}\")\n",
    "print(f\"P-value: {p_value_sm:.4f}\")\n",
    "```\n",
    "\n",
    "The z-score from the `statsmodels` function matches our manual calculation, confirming our understanding of the underlying formula. The function also directly provides the p-value, allowing us to immediately make a statistical decision about our hypothesis."
   ]
  },
  {
   "cell_type": "code",
   "execution_count": 280,
   "id": "cbc091d8",
   "metadata": {},
   "outputs": [
    {
     "name": "stdout",
     "output_type": "stream",
     "text": [
      "-4.223691463320559\n"
     ]
    }
   ],
   "source": [
    "# Significance level for any subsequent hypothesis tests (probability of Type I error)\n",
    "alpha = 0.05\n",
    "\n",
    "# Compute the proportion of respondents who are hobbyists within each age category.\n",
    "p_hats = stack_overflow.groupby(\"age_cat\")[\"hobbyist\"].value_counts(normalize=True)\n",
    "\n",
    "# Compute the sample size (number of respondents) in each age category.\n",
    "n = stack_overflow.groupby(\"age_cat\")[\"hobbyist\"].count()\n",
    "\n",
    "# Extract the sample proportion of hobbyists (\"Yes\") for the \"At least 30\" and \"Under 30\" groups.\n",
    "p_hats_at_least_30, p_hats_under_30 = p_hats[\n",
    "    [(\"At least 30\", \"Yes\"), (\"Under 30\", \"Yes\")]\n",
    "]\n",
    "\n",
    "# Extract the sample sizes for the two age groups.\n",
    "n_at_least_30, n_under_30 = n[[\"At least 30\", \"Under 30\"]]\n",
    "\n",
    "# Calculate the pooled proportion of hobbyists across both age groups\n",
    "p_hat = (n_at_least_30 * p_hats_at_least_30 + n_under_30 * p_hats_under_30) / (\n",
    "    n_at_least_30 + n_under_30\n",
    ")\n",
    "\n",
    "# Calculate the standard error of the difference in proportions using the pooled proportion\n",
    "# Formula: sqrt(p_hat * (1 - p_hat) / n1 + p_hat * (1 - p_hat) / n2)\n",
    "std_error = np.sqrt(\n",
    "    p_hat * (1 - p_hat) / n_at_least_30 + p_hat * (1 - p_hat) / n_under_30\n",
    ")\n",
    "\n",
    "# Compute the z-score: standardized difference between sample proportions\n",
    "# Formula: (observed difference) / (standard error)\n",
    "z_score = (p_hats_at_least_30 - p_hats_under_30) / std_error\n",
    "\n",
    "# Print the calculated z-score; a large absolute value suggests a significant difference in proportions\n",
    "print(z_score)"
   ]
  },
  {
   "cell_type": "code",
   "execution_count": 281,
   "id": "fa8b7e90",
   "metadata": {},
   "outputs": [
    {
     "data": {
      "application/vnd.microsoft.datawrangler.viewer.v0+json": {
       "columns": [
        {
         "name": "('age_cat', 'hobbyist')",
         "rawType": "object",
         "type": "unknown"
        },
        {
         "name": "count",
         "rawType": "int64",
         "type": "integer"
        }
       ],
       "ref": "abeac80a-1dfe-4796-b3ae-ca551d8077f3",
       "rows": [
        [
         "('At least 30', 'Yes')",
         "812"
        ],
        [
         "('At least 30', 'No')",
         "238"
        ],
        [
         "('Under 30', 'Yes')",
         "1021"
        ],
        [
         "('Under 30', 'No')",
         "190"
        ]
       ],
       "shape": {
        "columns": 1,
        "rows": 4
       }
      },
      "text/plain": [
       "age_cat      hobbyist\n",
       "At least 30  Yes          812\n",
       "             No           238\n",
       "Under 30     Yes         1021\n",
       "             No           190\n",
       "Name: count, dtype: int64"
      ]
     },
     "execution_count": 281,
     "metadata": {},
     "output_type": "execute_result"
    }
   ],
   "source": [
    "stack_overflow.groupby(\"age_cat\")[\"hobbyist\"].value_counts()"
   ]
  },
  {
   "cell_type": "code",
   "execution_count": 282,
   "id": "db63c4ba",
   "metadata": {},
   "outputs": [
    {
     "name": "stdout",
     "output_type": "stream",
     "text": [
      "Group 'At least 30': successes = 812, n = 1050, p̂ = 0.773\n",
      "Group 'Under 30'   : successes = 1021, n = 1211, p̂ = 0.843\n",
      "z = -4.2237, p-value (two-sided) = 0.000024, alpha = 0.05\n",
      "\n",
      "Since p-value (0.000024) <= alpha (0.05), reject H0.\n",
      "Conclusion: There is statistically significant evidence (α=0.05) that the proportion of hobbyists differs between the age groups. The higher observed proportion is in 'Under 30' (p̂ = 0.843).\n"
     ]
    }
   ],
   "source": [
    "# Import the proportions_ztest function which performs a z-test for two proportions (returns z-stat and p-value).\n",
    "from statsmodels.stats.proportion import proportions_ztest\n",
    "\n",
    "alpha = 0.05\n",
    "\n",
    "# Compute counts of hobbyist responses grouped by age category and hobbyist status (gives a MultiIndex Series).\n",
    "counts_hobbyist = stack_overflow.groupby(\"age_cat\")[\"hobbyist\"].value_counts()\n",
    "\n",
    "# Build a list of \"success\" counts (number of hobbyists == \"Yes\") for the two age groups in the specified order.\n",
    "n_hobbyists = [\n",
    "    counts_hobbyist.xs((\"At least 30\", \"Yes\")),\n",
    "    counts_hobbyist.xs((\"Under 30\", \"Yes\")),\n",
    "]\n",
    "\n",
    "# Build a list of total sample sizes (rows) for each age group by summing counts at the first level.\n",
    "n_rows = [\n",
    "    counts_hobbyist.xs(\"At least 30\", level=0).sum(),\n",
    "    counts_hobbyist.xs(\"Under 30\", level=0).sum(),\n",
    "]\n",
    "\n",
    "# Perform a two-sided z-test for difference in proportions:\n",
    "# - 'count' expects array-like of success counts per group\n",
    "# - 'nobs' expects array-like of total observations per group\n",
    "# - alternative=\"two-sided\" tests H0: p1 == p2 vs HA: p1 != p2\n",
    "z_score, p_value = proportions_ztest(\n",
    "    count=n_hobbyists, nobs=n_rows, alternative=\"two-sided\"\n",
    ")\n",
    "\n",
    "# Compute sample proportions for each group\n",
    "p_at_least_30 = n_hobbyists[0] / n_rows[0]\n",
    "p_under_30 = n_hobbyists[1] / n_rows[1]\n",
    "\n",
    "# Report test statistics and group summaries\n",
    "print(\n",
    "    f\"Group 'At least 30': successes = {n_hobbyists[0]}, n = {n_rows[0]}, p̂ = {p_at_least_30:.3f}\"\n",
    ")\n",
    "print(\n",
    "    f\"Group 'Under 30'   : successes = {n_hobbyists[1]}, n = {n_rows[1]}, p̂ = {p_under_30:.3f}\"\n",
    ")\n",
    "print(f\"z = {z_score:.4f}, p-value (two-sided) = {p_value:.6f}, alpha = {alpha}\")\n",
    "\n",
    "# Decision and concise interpretation\n",
    "if p_value <= alpha:\n",
    "    print(f\"\\nSince p-value ({p_value:.6f}) <= alpha ({alpha}), reject H0.\")\n",
    "    larger = \"'At least 30'\" if p_at_least_30 > p_under_30 else \"'Under 30'\"\n",
    "    print(\n",
    "        f\"Conclusion: There is statistically significant evidence (α={alpha}) that the proportion of hobbyists \"\n",
    "        f\"differs between the age groups. The higher observed proportion is in {larger} (p̂ = \"\n",
    "        f\"{max(p_at_least_30, p_under_30):.3f}).\"\n",
    "    )\n",
    "else:\n",
    "    print(f\"\\nSince p-value ({p_value:.6f}) > alpha ({alpha}), fail to reject H0.\")\n",
    "    print(\n",
    "        f\"Conclusion: There is insufficient evidence (α={alpha}) to conclude the proportion of hobbyists \"\n",
    "        f\"differs between 'At least 30' and 'Under 30'.\"\n",
    "    )"
   ]
  },
  {
   "cell_type": "markdown",
   "id": "03e51b50",
   "metadata": {},
   "source": [
    "### Test of two proportions\n",
    "You may wonder if the amount paid for freight affects whether or not the shipment was late. Recall that in the `late_shipments` dataset, whether or not the shipment was late is stored in the late column. Freight costs are stored in the `freight_cost_group` column, and the categories are `\"expensive\"` and `\"reasonable\"`.\n",
    "\n",
    "The hypotheses to test, with \"late\" corresponding to the proportion of late shipments for that group, are\n",
    "\n",
    "\n",
    "$H_0:~ late_{\\text{expensive}} - late_{\\text{reasonable}} = 0$ <br>\n",
    "$H_A:~ late_{\\text{expensive}} - late_{\\text{reasonable}} > 0$\n",
    "\n"
   ]
  },
  {
   "cell_type": "code",
   "execution_count": 283,
   "id": "458d9102",
   "metadata": {},
   "outputs": [],
   "source": [
    "# Prepare inputs for a two-sample proportion test comparing the late rate between \"expensive\" and \"reasonable\" freight cost groups (HA: p_expensive > p_reasonable).\n",
    "# Compute groupwise proportions of \"late\" outcomes within each freight cost group.\n",
    "\n",
    "p_hats = late_shipments.groupby(\"freight_cost_groups\")[\"late\"].value_counts(\n",
    "    normalize=True\n",
    ")\n",
    "\n",
    "# Extract the point estimates (p-hat) for \"late == Yes\" in each group.\n",
    "p_hat_expensive, p_hat_reasonable = p_hats[\n",
    "    [(\"expensive\", \"Yes\"), (\"reasonable\", \"Yes\")]\n",
    "]\n",
    "\n",
    "# Get sample sizes (n) for each freight cost group; These are the denominators required for the pooled proportion SE and for proportions_ztest().\n",
    "group_counts = late_shipments.groupby(\"freight_cost_groups\")[\"late\"].size()\n",
    "n_expensive, n_reasonable = group_counts[[\"expensive\", \"reasonable\"]]"
   ]
  },
  {
   "cell_type": "code",
   "execution_count": 284,
   "id": "49fbd8f2",
   "metadata": {},
   "outputs": [
    {
     "name": "stdout",
     "output_type": "stream",
     "text": [
      "0.058823529411764705\n"
     ]
    }
   ],
   "source": [
    "# Calculate the pooled sample proportion of late shipments across both freight cost groups\n",
    "# Statistically: This is the best estimate of the common population proportion under the null hypothesis (H0: proportions are equal)\n",
    "p_hat = (n_expensive * p_hat_expensive + n_reasonable * p_hat_reasonable) / (\n",
    "    n_expensive + n_reasonable\n",
    ")\n",
    "\n",
    "# Print the pooled proportion; this value is used to compute the standard error for the two-proportion z-test\n",
    "print(p_hat)"
   ]
  },
  {
   "cell_type": "markdown",
   "id": "b9b0658a",
   "metadata": {},
   "source": [
    "Calculate the standard error of the sample using this equation:\n",
    "\n",
    "\n",
    "\n",
    "$$\n",
    "\\mathrm{SE}\\bigl(\\hat p_{\\text{expensive}} - \\hat p_{\\text{reasonable}}\\bigr)\n",
    "=\n",
    "\\sqrt{\n",
    "  \\frac{\\hat p\\,\\bigl(1 - \\hat p\\bigr)}{n_{\\text{expensive}}}\n",
    "  +\n",
    "  \\frac{\\hat p\\,\\bigl(1 - \\hat p\\bigr)}{n_{\\text{reasonable}}}\n",
    "}\n",
    "$$\n"
   ]
  },
  {
   "cell_type": "code",
   "execution_count": 285,
   "id": "d82e555b",
   "metadata": {},
   "outputs": [],
   "source": [
    "# Calculate the first term of the standard error: pooled proportion times one minus pooled proportion, divided by the sample size of the \"expensive\" group\n",
    "p_hat_times_not_p_hat = p_hat * (1 - p_hat) / n_expensive\n",
    "\n",
    "# Calculate the second term of the standard error: pooled proportion times one minus pooled proportion, divided by the sample size of the \"reasonable\" group\n",
    "p_hat_times_not_p_hat_over_ns = p_hat * (1 - p_hat) / n_reasonable\n",
    "\n",
    "# Compute the standard error for the difference in proportions using the pooled estimate\n",
    "# Statistically: SE = sqrt[ p̂(1-p̂)/n_expensive + p̂(1-p̂)/n_reasonable ]\n",
    "std_error = np.sqrt(p_hat_times_not_p_hat + p_hat_times_not_p_hat_over_ns)"
   ]
  },
  {
   "cell_type": "markdown",
   "id": "36d8de2e",
   "metadata": {},
   "source": [
    "Calculate the z-score using the following equation:\n",
    "\n",
    "$$\n",
    "z \\;=\\;\n",
    "\\frac{\\hat p_{\\text{expensive}} \\;-\\; \\hat p_{\\text{reasonable}}}\n",
    "     {\\displaystyle \\mathrm{SE}\\bigl(\\hat p_{\\text{expensive}} - \\hat p_{\\text{reasonable}}\\bigr)}\n",
    "$$\n",
    "\n"
   ]
  },
  {
   "cell_type": "code",
   "execution_count": 286,
   "id": "11c6e83a",
   "metadata": {},
   "outputs": [
    {
     "name": "stdout",
     "output_type": "stream",
     "text": [
      "0.0017353400023595311\n"
     ]
    }
   ],
   "source": [
    "# Import the normal distribution CDF for p-value calculation\n",
    "from scipy.stats import norm\n",
    "\n",
    "# Calculate the z-score: standardized difference in proportions, tells us how many standard errors the observed difference is from zero\n",
    "z_score = (p_hat_expensive - p_hat_reasonable) / std_error\n",
    "\n",
    "# Calculate the p-value for a right-tailed test (H_A: late_expensive > late_reasonable); gives probability of observing a z this large or larger under H0\n",
    "p_value = 1 - norm.cdf(z_score)\n",
    "\n",
    "# Print the p-value; a small value (below alpha) suggests the proportion of late shipments is significantly higher for expensive freight\n",
    "print(p_value)"
   ]
  },
  {
   "cell_type": "markdown",
   "id": "7f314726",
   "metadata": {},
   "source": [
    "### proportions_ztest() for two samples\n",
    "That took a lot of effort to calculate the p-value, so while it is useful to see how the calculations work, it isn't practical to do in real-world analyses. For daily usage, it's better to use the `statsmodels` package.\n",
    "\n",
    "Recall the hypotheses.\n",
    "\n",
    "$H_0:~ late_{\\text{expensive}} - late_{\\text{reasonable}} = 0$ <br>\n",
    "$H_A:~ late_{\\text{expensive}} - late_{\\text{reasonable}} > 0$\n"
   ]
  },
  {
   "cell_type": "code",
   "execution_count": 287,
   "id": "8d8da89c",
   "metadata": {},
   "outputs": [
    {
     "name": "stdout",
     "output_type": "stream",
     "text": [
      "z-score: 2.92265, p-value: 0.00174\n"
     ]
    }
   ],
   "source": [
    "from statsmodels.stats.proportion import proportions_ztest\n",
    "\n",
    "# Build a contingency table: rows are freight cost groups, columns are late shipment status (\"Yes\"/\"No\")\n",
    "contingency = pd.crosstab(late_shipments[\"freight_cost_groups\"], late_shipments[\"late\"])\n",
    "\n",
    "# Extract the number of late shipments (\"Yes\") for each freight cost group as an array\n",
    "success_counts = contingency[\"Yes\"].to_numpy()\n",
    "\n",
    "# Extract the total number of shipments in each freight cost group (sum of \"Yes\" and \"No\")\n",
    "total_counts = contingency.sum(axis=1).to_numpy()\n",
    "\n",
    "# Run a one-sided (right-tailed) z-test for two proportions: H0: p_expensive = p_reasonable, HA: p_expensive > p_reasonable\n",
    "stat, p_value = proportions_ztest(\n",
    "    count=success_counts,\n",
    "    nobs=total_counts,\n",
    "    alternative=\"larger\",  # Specifies a right-tailed test (tests if first group > second group)\n",
    ")\n",
    "\n",
    "# Print the test statistic (z-score) and the p-value; a small p-value suggests a higher late rate for expensive freight\n",
    "print(f\"z-score: {stat:.5f}, p-value: {p_value:.5f}\")"
   ]
  },
  {
   "cell_type": "markdown",
   "id": "d8aa02da",
   "metadata": {},
   "source": [
    "## From Two Proportions to Two Categorical Variables\n",
    "\n",
    "A two-sample proportion test is used to compare a binary variable across two groups. This is, in fact, a special case of the more general chi-square test. A two-sample proportion test analyzes a 2x2 contingency table. The chi-square test of independence extends this analysis to contingency tables of any size (e.g., 2x5, 3x3, etc.), allowing us to test for an association between categorical variables with any number of levels.\n",
    "\n",
    "For a 2x2 table, the chi-square statistic ($\\chi^2$) is mathematically equivalent to the z-statistic squared ($z^2$) from the corresponding two-sample proportion test.\n",
    "\n",
    "\n",
    "### The Logic of the Chi-Square Test\n",
    "\n",
    "The test is built around the concept of **statistical independence**. Two categorical variables are considered independent if the distribution of proportions for one variable is the same across all categories of the other variable.\n",
    "\n",
    "#### Hypotheses\n",
    "\n",
    "  * **Null Hypothesis ($H_0$)**: The two categorical variables are **independent**. There is no association between them in the population.\n",
    "  * **Alternative Hypothesis ($H_A$)**: The two categorical variables are **not independent**. There is an association between them.\n",
    "\n",
    "The test statistic, denoted $\\chi^2$, quantifies how far the **observed counts** in your sample's contingency table are from the **expected counts** that you would see if the null hypothesis of independence were true. A large $\\chi^2$ value suggests a significant difference between observed and expected counts, providing evidence against the null hypothesis.\n",
    "\n",
    "#### Degrees of Freedom\n",
    "\n",
    "The shape of the chi-square distribution is determined by the **degrees of freedom (df)**, which for this test is calculated as:\n",
    "\n",
    "$$df = (\\text{Number of categories in variable 1} - 1) \\times (\\text{Number of categories in variable 2} - 1)$$\n",
    "\n",
    "\n",
    "### Exploratory Visualization\n",
    "\n",
    "Before performing the test, it is essential to visualize the relationship. A **proportional stacked bar chart** is an excellent tool for this. If the variables are independent, the proportions within each bar should be roughly identical. If the proportions differ significantly across the bars, it suggests an association between the variables.\n",
    "\n",
    "\n",
    "### Performing the Chi-Square Test in Python\n",
    "\n",
    "The `pingouin` library provides a convenient function, `chi2_independence()`, for performing this test. You must first install the library: `pip install pingouin`.\n",
    "\n",
    "The function returns the expected counts, observed counts, and a DataFrame of test statistics.\n",
    "\n",
    "#### Test Properties\n",
    "\n",
    "  * **Symmetry**: The test is symmetrical. The question is \"Are variable X and variable Y independent?\", not \"Is X independent from Y?\". Swapping the variables in the function will yield the same result.\n",
    "  * **Direction**: The chi-square test is almost always a **right-tailed test**. The test statistic is based on squared differences and is always non-negative. We are interested in whether this statistic is unusually large, which would indicate a significant deviation from what's expected under the null hypothesis.\n",
    "\n",
    "### A Complete Example\n",
    "\n",
    "**Scenario**: A company wants to know if there is an association between a customer's subscription tier (`Basic`, `Premium`, `Enterprise`) and their satisfaction level (`Satisfied`, `Neutral`, `Dissatisfied`).\n",
    "\n",
    "```python\n",
    "import pandas as pd\n",
    "import numpy as np\n",
    "import matplotlib.pyplot as plt\n",
    "import seaborn as sns\n",
    "import pingouin\n",
    "\n",
    "# 1. Create a generic, reproducible dataset\n",
    "np.random.seed(42)\n",
    "df = pd.DataFrame({\n",
    "    'tier': np.random.choice(['Basic', 'Premium', 'Enterprise'], 500, p=[0.5, 0.3, 0.2]),\n",
    "    'satisfaction': np.random.choice(['Satisfied', 'Neutral', 'Dissatisfied'], 500)\n",
    "})\n",
    "\n",
    "# To create an association, let's make Enterprise users more likely to be Satisfied\n",
    "is_enterprise = df['tier'] == 'Enterprise'\n",
    "df.loc[is_enterprise, 'satisfaction'] = np.random.choice(\n",
    "    ['Satisfied', 'Neutral', 'Dissatisfied'], \n",
    "    size=is_enterprise.sum(), \n",
    "    p=[0.7, 0.2, 0.1]\n",
    ")\n",
    "\n",
    "# 2. Visualize the relationship with a proportional stacked bar chart\n",
    "# Create a contingency table of proportions\n",
    "props = df.groupby('tier')['satisfaction'].value_counts(normalize=True).unstack()\n",
    "props = props.reset_index().melt(id_vars='tier', var_name='satisfaction', value_name='proportion')\n",
    "\n",
    "\n",
    "fig, ax = plt.subplots(figsize=(10, 6))\n",
    "sns.barplot(\n",
    "    data=props,\n",
    "    x='tier',\n",
    "    y='proportion',\n",
    "    hue='satisfaction',\n",
    "    ax=ax,\n",
    "    estimator=sum,\n",
    "    dodge=False\n",
    ")\n",
    "ax.set_title('Proportion of Satisfaction Levels by Subscription Tier')\n",
    "ax.set_ylabel('Proportion')\n",
    "ax.legend(title='Satisfaction')\n",
    "plt.show()\n",
    "\n",
    "# 3. Perform the Chi-Square Test\n",
    "expected, observed, stats = pingouin.chi2_independence(data=df, x='tier', y='satisfaction')\n",
    "\n",
    "print(\"Observed Counts\")\n",
    "print(observed)\n",
    "print(\"Expected Counts (if independent)\")\n",
    "print(expected)\n",
    "print(\" Chi-Square Test Statistics\")\n",
    "# We are typically interested in the 'pearson' test row\n",
    "print(stats[stats['test'] == 'pearson'])\n",
    "\n",
    "# 4. Interpret the results\n",
    "alpha = 0.05\n",
    "p_value = stats[stats['test'] == 'pearson']['pval'].iloc[0]\n",
    "\n",
    "if p_value < alpha:\n",
    "    print(f\"Decision: Reject H0, because p-value ({p_value:.4f}) < alpha ({alpha}).\")\n",
    "    print(\"There is a statistically significant association between subscription tier and satisfaction level.\")\n",
    "else:\n",
    "    print(f\"Decision: Fail to reject H0, because p-value ({p_value:.4f}) >= alpha ({alpha}).\")\n",
    "    print(\"There is not enough evidence to conclude an association exists.\")\n",
    "```\n",
    "\n",
    "The visualization shows different proportional breakdowns for each tier, and the very small p-value from the chi-square test confirms that this observed association is statistically significant and not likely due to random chance."
   ]
  },
  {
   "cell_type": "code",
   "execution_count": 288,
   "id": "df63e807",
   "metadata": {},
   "outputs": [
    {
     "name": "stdout",
     "output_type": "stream",
     "text": [
      "z-stats value: -4.223691463320559, p-value: 2.403330142685068e-05\n"
     ]
    }
   ],
   "source": [
    "from statsmodels.stats.proportion import proportions_ztest\n",
    "\n",
    "# Revisiting the proportion test\n",
    "# Group the stack_overflow DataFrame by both 'age_cat' and 'hobbyist' columns and count occurrences of each combination\n",
    "age_by_hobbyist = stack_overflow.groupby([\"age_cat\", \"hobbyist\"]).size()\n",
    "\n",
    "# Unstack the 'hobbyist' level to create columns for 'Yes' and 'No', transforming the MultiIndex Series into a DataFrame\n",
    "unstacked = age_by_hobbyist.unstack(level=\"hobbyist\")\n",
    "\n",
    "# Extract the number of hobbyists (\"Yes\" responses) for each age category as a numpy array\n",
    "n_hobbyists = unstacked[\"Yes\"].values\n",
    "\n",
    "# Calculate total sample sizes by summing across hobbyist responses for each age category\n",
    "n_rows = unstacked.sum(axis=1).values\n",
    "\n",
    "# This tests H0: p_age1 = p_age2 vs HA: p_age1 ≠ p_age2 (two-sided test)\n",
    "# Returns z-statistic and p-value for comparing hobbyist proportions between age groups\n",
    "z_stat, p_value = proportions_ztest(\n",
    "    count=n_hobbyists, nobs=n_rows, alternative=\"two-sided\"\n",
    ")\n",
    "print(f\"z-stats value: {z_stat}, p-value: {p_value}\")"
   ]
  },
  {
   "cell_type": "code",
   "execution_count": 289,
   "id": "71043122",
   "metadata": {},
   "outputs": [
    {
     "data": {
      "image/png": "[encoded data removed]",
      "text/plain": [
       "<Figure size 640x480 with 1 Axes>"
      ]
     },
     "metadata": {},
     "output_type": "display_data"
    }
   ],
   "source": [
    "alpha = 0.1\n",
    "props = stack_overflow.groupby(\"age_cat\", observed=True)[\"job_sat\"].value_counts(\n",
    "    normalize=True\n",
    ")\n",
    "wide_props = props.unstack()\n",
    "wide_props.plot(kind=\"bar\", stacked=True)\n",
    "plt.show()"
   ]
  },
  {
   "cell_type": "code",
   "execution_count": 290,
   "id": "57bd87cf",
   "metadata": {},
   "outputs": [
    {
     "name": "stdout",
     "output_type": "stream",
     "text": [
      "                 test    lambda      chi2  dof      pval    cramer     power\n",
      "0             pearson  1.000000  5.552373  4.0  0.235164  0.049555  0.437417\n",
      "1        cressie-read  0.666667  5.554106  4.0  0.235014  0.049563  0.437545\n",
      "2      log-likelihood  0.000000  5.558529  4.0  0.234632  0.049583  0.437871\n",
      "3       freeman-tukey -0.500000  5.562688  4.0  0.234274  0.049601  0.438178\n",
      "4  mod-log-likelihood -1.000000  5.567570  4.0  0.233854  0.049623  0.438538\n",
      "5              neyman -2.000000  5.579519  4.0  0.232828  0.049676  0.439419\n"
     ]
    }
   ],
   "source": [
    "from pingouin import chi2_independence\n",
    "\n",
    "expected, observed, stats = chi2_independence(\n",
    "    data=stack_overflow, x=\"job_sat\", y=\"age_cat\"\n",
    ")\n",
    "print(stats)"
   ]
  },
  {
   "cell_type": "code",
   "execution_count": 291,
   "id": "62a2fc46",
   "metadata": {},
   "outputs": [
    {
     "name": "stdout",
     "output_type": "stream",
     "text": [
      "                 test    lambda      chi2  dof      pval    cramer     power\n",
      "0             pearson  1.000000  5.552373  4.0  0.235164  0.049555  0.437417\n",
      "1        cressie-read  0.666667  5.554106  4.0  0.235014  0.049563  0.437545\n",
      "2      log-likelihood  0.000000  5.558529  4.0  0.234632  0.049583  0.437871\n",
      "3       freeman-tukey -0.500000  5.562688  4.0  0.234274  0.049601  0.438178\n",
      "4  mod-log-likelihood -1.000000  5.567570  4.0  0.233854  0.049623  0.438538\n",
      "5              neyman -2.000000  5.579519  4.0  0.232828  0.049676  0.439419\n"
     ]
    }
   ],
   "source": [
    "# Swaped variables\n",
    "from pingouin import chi2_independence\n",
    "\n",
    "expected, observed, stats = chi2_independence(\n",
    "    data=stack_overflow, x=\"age_cat\", y=\"job_sat\"\n",
    ")\n",
    "print(stats)"
   ]
  },
  {
   "cell_type": "markdown",
   "id": "dbd4aa60",
   "metadata": {},
   "source": [
    "Performing a chi-square test\n",
    "The chi-square independence test compares proportions of successes of one categorical variable across the categories of another categorical variable.\n",
    "\n",
    "Trade deals often use a form of business shorthand in order to specify the exact details of their contract. These are International Chamber of Commerce (ICC) international commercial terms, or _incoterms_ for short.\n",
    "\n",
    "The `late_shipments` dataset includes a `vendor_inco_term` that describes the incoterms that applied to a given shipment. The choices are:\n",
    "\n",
    "- `EXW`: \"Ex works\". The buyer pays for transportation of the goods.\n",
    "- `CIP`: \"Carriage and insurance paid to\". The seller pays for freight and insurance until the goods board a ship.\n",
    "- `DDP`: \"Delivered duty paid\". The seller pays for transportation of the goods until they reach a destination port.\n",
    "- `FCA`: \"Free carrier\". The seller pays for transportation of the goods.\n",
    "Perhaps the incoterms affect whether or not the freight costs are expensive. Test these hypotheses with a significance level of `0.01`.\n",
    "\n",
    "$H_0$: `vendor_inco_term` and `freight_cost_groups` are independent.<br>\n",
    "\n",
    "$H_A$: `vendor_inco_term` and `freight_cost_groups` are associated."
   ]
  },
  {
   "cell_type": "code",
   "execution_count": 292,
   "id": "47ff76dc",
   "metadata": {},
   "outputs": [],
   "source": [
    "# Before calculating props, drop rows with NaN in any column\n",
    "late_shipments.dropna(inplace=True)"
   ]
  },
  {
   "cell_type": "code",
   "execution_count": 293,
   "id": "d26058ab",
   "metadata": {},
   "outputs": [
    {
     "name": "stdout",
     "output_type": "stream",
     "text": [
      "freight_cost_groups  expensive  reasonable\n",
      "vendor_inco_term                          \n",
      "CIP                   0.297872    0.702128\n",
      "DDP                   0.550000    0.450000\n",
      "DDU                   0.000000    1.000000\n",
      "EXW                   0.587143    0.412857\n",
      "FCA                   0.336449    0.663551\n"
     ]
    }
   ],
   "source": [
    "# Your proportions calculation remains the same\n",
    "props = late_shipments.groupby(by=\"vendor_inco_term\")[\n",
    "    \"freight_cost_groups\"\n",
    "].value_counts(normalize=True)\n",
    "wide_props = props.unstack()\n",
    "\n",
    "# After unstacking, fill the resulting NaN values with 0\n",
    "wide_props = wide_props.fillna(0)\n",
    "\n",
    "print(wide_props)"
   ]
  },
  {
   "cell_type": "code",
   "execution_count": 294,
   "id": "a0c53305",
   "metadata": {},
   "outputs": [
    {
     "data": {
      "image/png": "[encoded data removed]",
      "text/plain": [
       "<Figure size 700x500 with 1 Axes>"
      ]
     },
     "metadata": {},
     "output_type": "display_data"
    }
   ],
   "source": [
    "# Proportional stacked bar plot\n",
    "fig, ax = plt.subplots(figsize=(7, 5))\n",
    "\n",
    "palette = sns.color_palette(\"crest\", n_colors=wide_props.shape[1])\n",
    "bottoms = np.zeros(len(wide_props))\n",
    "\n",
    "for color, col in zip(palette, wide_props.columns):\n",
    "    ax.bar(\n",
    "        wide_props.index.astype(str),\n",
    "        wide_props[col].values,\n",
    "        bottom=bottoms,\n",
    "        color=color,\n",
    "        edgecolor=\"black\",\n",
    "        label=col,\n",
    "    )\n",
    "    bottoms += wide_props[col].values\n",
    "\n",
    "ax.set(\n",
    "    xlabel=\"Incoterm (vendor_inco_term)\",\n",
    "    ylabel=\"Proportion\",\n",
    "    title=\"Proportional Stacked Bar: Freight Cost Group by Incoterm\",\n",
    ")\n",
    "\n",
    "ax.legend(title=\"freight_cost_groups\")\n",
    "ax.grid(True, axis=\"y\", alpha=0.5, linewidth=0.5, color=\"grey\")\n",
    "ax.set_axisbelow(True)\n",
    "\n",
    "plt.tight_layout()\n",
    "plt.show()"
   ]
  },
  {
   "cell_type": "code",
   "execution_count": 295,
   "id": "2c8e2478",
   "metadata": {},
   "outputs": [
    {
     "data": {
      "application/vnd.microsoft.datawrangler.viewer.v0+json": {
       "columns": [
        {
         "name": "index",
         "rawType": "int64",
         "type": "integer"
        },
        {
         "name": "test",
         "rawType": "object",
         "type": "string"
        },
        {
         "name": "lambda",
         "rawType": "float64",
         "type": "float"
        },
        {
         "name": "chi2",
         "rawType": "float64",
         "type": "float"
        },
        {
         "name": "dof",
         "rawType": "float64",
         "type": "float"
        },
        {
         "name": "pval",
         "rawType": "float64",
         "type": "float"
        },
        {
         "name": "cramer",
         "rawType": "float64",
         "type": "float"
        },
        {
         "name": "power",
         "rawType": "float64",
         "type": "float"
        }
       ],
       "ref": "b4cb00a3-c85e-46e3-af0d-2576fcda1229",
       "rows": [
        [
         "0",
         "pearson",
         "1.0",
         "36.42069735158749",
         "4.0",
         "2.3707256803612327e-07",
         "0.19528659929840717",
         "0.9995165448642921"
        ],
        [
         "1",
         "cressie-read",
         "0.6666666666666666",
         "36.461778174346605",
         "4.0",
         "2.3250100385811625e-07",
         "0.19539670527895497",
         "0.999522186725973"
        ],
        [
         "2",
         "log-likelihood",
         "0.0",
         "37.11177516175615",
         "4.0",
         "1.7082756436333386e-07",
         "0.19713066111484817",
         "0.9996033804799567"
        ],
        [
         "3",
         "freeman-tukey",
         "-0.5",
         null,
         "4.0",
         null,
         null,
         null
        ],
        [
         "4",
         "mod-log-likelihood",
         "-1.0",
         "inf",
         "4.0",
         "0.0",
         "inf",
         null
        ],
        [
         "5",
         "neyman",
         "-2.0",
         null,
         "4.0",
         null,
         null,
         null
        ]
       ],
       "shape": {
        "columns": 7,
        "rows": 6
       }
      },
      "text/html": [
       "<div>\n",
       "<style scoped>\n",
       "    .dataframe tbody tr th:only-of-type {\n",
       "        vertical-align: middle;\n",
       "    }\n",
       "\n",
       "    .dataframe tbody tr th {\n",
       "        vertical-align: top;\n",
       "    }\n",
       "\n",
       "    .dataframe thead th {\n",
       "        text-align: right;\n",
       "    }\n",
       "</style>\n",
       "<table border=\"1\" class=\"dataframe\">\n",
       "  <thead>\n",
       "    <tr style=\"text-align: right;\">\n",
       "      <th></th>\n",
       "      <th>test</th>\n",
       "      <th>lambda</th>\n",
       "      <th>chi2</th>\n",
       "      <th>dof</th>\n",
       "      <th>pval</th>\n",
       "      <th>cramer</th>\n",
       "      <th>power</th>\n",
       "    </tr>\n",
       "  </thead>\n",
       "  <tbody>\n",
       "    <tr>\n",
       "      <th>0</th>\n",
       "      <td>pearson</td>\n",
       "      <td>1.000000</td>\n",
       "      <td>36.420697</td>\n",
       "      <td>4.0</td>\n",
       "      <td>2.370726e-07</td>\n",
       "      <td>0.195287</td>\n",
       "      <td>0.999517</td>\n",
       "    </tr>\n",
       "    <tr>\n",
       "      <th>1</th>\n",
       "      <td>cressie-read</td>\n",
       "      <td>0.666667</td>\n",
       "      <td>36.461778</td>\n",
       "      <td>4.0</td>\n",
       "      <td>2.325010e-07</td>\n",
       "      <td>0.195397</td>\n",
       "      <td>0.999522</td>\n",
       "    </tr>\n",
       "    <tr>\n",
       "      <th>2</th>\n",
       "      <td>log-likelihood</td>\n",
       "      <td>0.000000</td>\n",
       "      <td>37.111775</td>\n",
       "      <td>4.0</td>\n",
       "      <td>1.708276e-07</td>\n",
       "      <td>0.197131</td>\n",
       "      <td>0.999603</td>\n",
       "    </tr>\n",
       "    <tr>\n",
       "      <th>3</th>\n",
       "      <td>freeman-tukey</td>\n",
       "      <td>-0.500000</td>\n",
       "      <td>NaN</td>\n",
       "      <td>4.0</td>\n",
       "      <td>NaN</td>\n",
       "      <td>NaN</td>\n",
       "      <td>NaN</td>\n",
       "    </tr>\n",
       "    <tr>\n",
       "      <th>4</th>\n",
       "      <td>mod-log-likelihood</td>\n",
       "      <td>-1.000000</td>\n",
       "      <td>inf</td>\n",
       "      <td>4.0</td>\n",
       "      <td>0.000000e+00</td>\n",
       "      <td>inf</td>\n",
       "      <td>NaN</td>\n",
       "    </tr>\n",
       "    <tr>\n",
       "      <th>5</th>\n",
       "      <td>neyman</td>\n",
       "      <td>-2.000000</td>\n",
       "      <td>NaN</td>\n",
       "      <td>4.0</td>\n",
       "      <td>NaN</td>\n",
       "      <td>NaN</td>\n",
       "      <td>NaN</td>\n",
       "    </tr>\n",
       "  </tbody>\n",
       "</table>\n",
       "</div>"
      ],
      "text/plain": [
       "                 test    lambda       chi2  dof          pval    cramer  \\\n",
       "0             pearson  1.000000  36.420697  4.0  2.370726e-07  0.195287   \n",
       "1        cressie-read  0.666667  36.461778  4.0  2.325010e-07  0.195397   \n",
       "2      log-likelihood  0.000000  37.111775  4.0  1.708276e-07  0.197131   \n",
       "3       freeman-tukey -0.500000        NaN  4.0           NaN       NaN   \n",
       "4  mod-log-likelihood -1.000000        inf  4.0  0.000000e+00       inf   \n",
       "5              neyman -2.000000        NaN  4.0           NaN       NaN   \n",
       "\n",
       "      power  \n",
       "0  0.999517  \n",
       "1  0.999522  \n",
       "2  0.999603  \n",
       "3       NaN  \n",
       "4       NaN  \n",
       "5       NaN  "
      ]
     },
     "metadata": {},
     "output_type": "display_data"
    }
   ],
   "source": [
    "import warnings\n",
    "\n",
    "from pingouin import chi2_independence\n",
    "\n",
    "warnings.filterwarnings(\"ignore\")\n",
    "\n",
    "# Determine if freight_cost_group and vendor_inco_term are independent\n",
    "expected, observed, stats = chi2_independence(\n",
    "    data=late_shipments, x=\"vendor_inco_term\", y=\"freight_cost_groups\", correction=False\n",
    ")\n",
    "\n",
    "# Print the Pearson chi-square test results\n",
    "display(stats)"
   ]
  },
  {
   "cell_type": "code",
   "execution_count": 296,
   "id": "fa44461a",
   "metadata": {},
   "outputs": [
    {
     "data": {
      "application/vnd.microsoft.datawrangler.viewer.v0+json": {
       "columns": [
        {
         "name": "index",
         "rawType": "int64",
         "type": "integer"
        },
        {
         "name": "test",
         "rawType": "object",
         "type": "string"
        },
        {
         "name": "lambda",
         "rawType": "float64",
         "type": "float"
        },
        {
         "name": "dof",
         "rawType": "int64",
         "type": "integer"
        },
        {
         "name": "pval",
         "rawType": "float64",
         "type": "float"
        }
       ],
       "ref": "e6214045-d5a2-49e0-a0a7-bbeaa2ffb01c",
       "rows": [
        [
         "0",
         "pearson",
         "36.42069735158749",
         "4",
         "2.3707256803612327e-07"
        ]
       ],
       "shape": {
        "columns": 4,
        "rows": 1
       }
      },
      "text/html": [
       "<div>\n",
       "<style scoped>\n",
       "    .dataframe tbody tr th:only-of-type {\n",
       "        vertical-align: middle;\n",
       "    }\n",
       "\n",
       "    .dataframe tbody tr th {\n",
       "        vertical-align: top;\n",
       "    }\n",
       "\n",
       "    .dataframe thead th {\n",
       "        text-align: right;\n",
       "    }\n",
       "</style>\n",
       "<table border=\"1\" class=\"dataframe\">\n",
       "  <thead>\n",
       "    <tr style=\"text-align: right;\">\n",
       "      <th></th>\n",
       "      <th>test</th>\n",
       "      <th>lambda</th>\n",
       "      <th>dof</th>\n",
       "      <th>pval</th>\n",
       "    </tr>\n",
       "  </thead>\n",
       "  <tbody>\n",
       "    <tr>\n",
       "      <th>0</th>\n",
       "      <td>pearson</td>\n",
       "      <td>36.420697</td>\n",
       "      <td>4</td>\n",
       "      <td>2.370726e-07</td>\n",
       "    </tr>\n",
       "  </tbody>\n",
       "</table>\n",
       "</div>"
      ],
      "text/plain": [
       "      test     lambda  dof          pval\n",
       "0  pearson  36.420697    4  2.370726e-07"
      ]
     },
     "metadata": {},
     "output_type": "display_data"
    }
   ],
   "source": [
    "from scipy.stats import chi2_contingency\n",
    "\n",
    "# Create contingency table\n",
    "observed = pd.crosstab(\n",
    "    index=late_shipments[\"vendor_inco_term\"],\n",
    "    columns=late_shipments[\"freight_cost_groups\"],\n",
    ")\n",
    "\n",
    "# Perform chi-square test\n",
    "chi2, p_value, dof, expected = chi2_contingency(\n",
    "    observed=observed, correction=False  # Same as pingouin's correction=False\n",
    ")\n",
    "\n",
    "# Create results summary\n",
    "stats = pd.DataFrame(\n",
    "    {\"test\": [\"pearson\"], \"lambda\": [chi2], \"dof\": [dof], \"pval\": [p_value]}\n",
    ")\n",
    "\n",
    "display(stats)"
   ]
  },
  {
   "cell_type": "code",
   "execution_count": 297,
   "id": "30e14e26",
   "metadata": {},
   "outputs": [
    {
     "data": {
      "application/vnd.microsoft.datawrangler.viewer.v0+json": {
       "columns": [
        {
         "name": "index",
         "rawType": "int64",
         "type": "integer"
        },
        {
         "name": "test",
         "rawType": "object",
         "type": "string"
        },
        {
         "name": "chi2",
         "rawType": "float64",
         "type": "float"
        },
        {
         "name": "p-val",
         "rawType": "float64",
         "type": "float"
        },
        {
         "name": "dof",
         "rawType": "int64",
         "type": "integer"
        }
       ],
       "ref": "9a0e3795-0a86-4159-8c16-e7f96a1b97fd",
       "rows": [
        [
         "0",
         "pearson",
         "36.42069735158749",
         "2.3707256803612327e-07",
         "4"
        ]
       ],
       "shape": {
        "columns": 4,
        "rows": 1
       }
      },
      "text/html": [
       "<div>\n",
       "<style scoped>\n",
       "    .dataframe tbody tr th:only-of-type {\n",
       "        vertical-align: middle;\n",
       "    }\n",
       "\n",
       "    .dataframe tbody tr th {\n",
       "        vertical-align: top;\n",
       "    }\n",
       "\n",
       "    .dataframe thead th {\n",
       "        text-align: right;\n",
       "    }\n",
       "</style>\n",
       "<table border=\"1\" class=\"dataframe\">\n",
       "  <thead>\n",
       "    <tr style=\"text-align: right;\">\n",
       "      <th></th>\n",
       "      <th>test</th>\n",
       "      <th>chi2</th>\n",
       "      <th>p-val</th>\n",
       "      <th>dof</th>\n",
       "    </tr>\n",
       "  </thead>\n",
       "  <tbody>\n",
       "    <tr>\n",
       "      <th>0</th>\n",
       "      <td>pearson</td>\n",
       "      <td>36.420697</td>\n",
       "      <td>2.370726e-07</td>\n",
       "      <td>4</td>\n",
       "    </tr>\n",
       "  </tbody>\n",
       "</table>\n",
       "</div>"
      ],
      "text/plain": [
       "      test       chi2         p-val  dof\n",
       "0  pearson  36.420697  2.370726e-07    4"
      ]
     },
     "metadata": {},
     "output_type": "display_data"
    }
   ],
   "source": [
    "from scipy.stats import chi2_contingency\n",
    "from scipy.stats.contingency import crosstab\n",
    "\n",
    "# Create contingency table and perform test in one step\n",
    "result = crosstab(\n",
    "    late_shipments[\"vendor_inco_term\"], late_shipments[\"freight_cost_groups\"]\n",
    ")\n",
    "contingency_table = result.count\n",
    "\n",
    "# Perform chi-square test\n",
    "chi2, p_value, dof, expected = chi2_contingency(contingency_table, correction=False)\n",
    "\n",
    "# Create a results DataFrame similar to pingouin\n",
    "results = pd.DataFrame(\n",
    "    {\"test\": [\"pearson\"], \"chi2\": [chi2], \"p-val\": [p_value], \"dof\": [dof]}\n",
    ")\n",
    "display(results)"
   ]
  },
  {
   "cell_type": "markdown",
   "id": "c8e8f9f0",
   "metadata": {},
   "source": [
    "## Goodness of Fit vs. Test of Independence\n",
    "\n",
    "It is crucial to distinguish between the two main types of chi-square tests:\n",
    "\n",
    "  * **Chi-Square Test of Independence**: This test involves **two categorical variables** and is used to determine if there is a statistically significant association between them. The expected counts are calculated based on the marginal totals of the sample data itself.\n",
    "\n",
    "  * **Chi-Square Goodness of Fit Test**: This test involves only **one categorical variable**. It compares the distribution of this variable in a sample to a **pre-defined, external hypothesis** about its distribution in the population. The expected counts are derived from this external hypothesis.\n",
    "\n",
    "### The Logic of the Goodness of Fit Test\n",
    "\n",
    "This test evaluates how well a sample of categorical data \"fits\" a hypothesized distribution.\n",
    "\n",
    "### Hypotheses\n",
    "\n",
    "  * **Null Hypothesis ($H_0$)**: The sample data was drawn from a population that has the specified, hypothesized distribution.\n",
    "  * **Alternative Hypothesis ($H_A$)**: The sample data was *not* drawn from a population with the hypothesized distribution.\n",
    "\n",
    "The test works by quantifying the discrepancy between the `Observed` counts for each category in your sample and the `Expected` counts you would anticipate under the null hypothesis. This discrepancy is captured by the **chi-square ($\\\\chi^2$) test statistic**:\n",
    "\n",
    "$$\\chi^2 = \\sum_{i=1}^{k} \\frac{(\\text{Observed}_i - \\text{Expected}_i)^2}{\\text{Expected}_i}$$\n",
    "\n",
    "Where the sum is taken over all `k` categories. A small $\\\\chi^2$ value indicates a good fit between your data and the hypothesis, while a large value indicates a poor fit. The **degrees of freedom** for this test are `k - 1`.\n",
    "\n",
    "\n",
    "### A Step-by-Step Example\n",
    "\n",
    "**Scenario**: A company launches a new product and hypothesizes that its market share will be distributed as follows: 40% for their product (Product A), 30% for Competitor B, and 30% for Competitor C. After a month, they take a random sample of 500 recent sales to test this hypothesis.\n",
    "\n",
    "#### 1. State the Hypothesis and Collect Data\n",
    "\n",
    "  * **$H_0$**: The market share distribution is 40% for A, 30% for B, and 30% for C.\n",
    "  * **$H_A$**: The market share distribution is different from the one stated in $H_0$.\n",
    "  * **Significance Level**: We'll set $\\\\alpha = 0.05$.\n",
    "\n",
    "\n",
    "```python\n",
    "import pandas as pd\n",
    "import numpy as np\n",
    "from scipy.stats import chisquare\n",
    "import matplotlib.pyplot as plt\n",
    "\n",
    "# 1. Define the hypothesized distribution and sample size \n",
    "hypothesized_props = {'Product A': 0.40, 'Product B': 0.30, 'Product C': 0.30}\n",
    "hypothesized = pd.DataFrame(list(hypothesized_props.items()), columns=['product', 'prop'])\n",
    "n_total = 500\n",
    "\n",
    "# 2. Create sample data with observed counts\n",
    "# In a real scenario, this data would be collected. We will simulate it.\n",
    "np.random.seed(42)\n",
    "observed_data = pd.DataFrame({\n",
    "    'product': np.random.choice(list(hypothesized_props.keys()), n_total, p=[0.45, 0.28, 0.27])\n",
    "})\n",
    "observed_counts = observed_data['product'].value_counts().reset_index()\n",
    "observed_counts.columns = ['product', 'n']\n",
    "# Ensure the order of products matches for comparison\n",
    "observed_counts = observed_counts.sort_values('product').reset_index(drop=True)\n",
    "\n",
    "print(observed_counts)\n",
    "```\n",
    "\n",
    "#### 2. Calculate Expected Counts\n",
    "\n",
    "The expected count for each category is its hypothesized proportion multiplied by the total sample size.\n",
    "\n",
    "```python\n",
    "# Calculate the expected counts based on the null hypothesis\n",
    "hypothesized['n'] = hypothesized['prop'] * n_total\n",
    "\n",
    "print(hypothesized)\n",
    "```\n",
    "\n",
    "#### 3. Visualize the Counts\n",
    "\n",
    "A bar chart is an effective way to visually compare the observed counts from our sample to the counts we would have expected under the null hypothesis.\n",
    "\n",
    "```python\n",
    "# Visualize the comparison using seaborn \n",
    "import seaborn as sns\n",
    "\n",
    "# Ensure consistent product order\n",
    "product_order = observed_counts['product'].tolist()\n",
    "\n",
    "# Prepare data for seaborn\n",
    "obs = observed_counts[['product', 'n']].assign(group='Observed')\n",
    "exp = hypothesized[['product', 'n']].sort_values('product').assign(group='Hypothesized')\n",
    "plot_df = pd.concat([obs, exp], ignore_index=True)\n",
    "\n",
    "fig, ax = plt.subplots(figsize=(8, 6))\n",
    "sns.barplot(\n",
    "    data=plot_df,\n",
    "    x='product',\n",
    "    y='n',\n",
    "    hue='group',\n",
    "    order=product_order,\n",
    "    ax=ax,\n",
    "    palette={'Observed': 'skyblue', 'Hypothesized': 'salmon'},\n",
    "    edgecolor='black'\n",
    ")\n",
    "\n",
    "ax.set_title(\"Observed vs. Hypothesized Counts\")\n",
    "ax.set_xlabel(\"Product\")\n",
    "ax.set_ylabel(\"Number of Sales\")\n",
    "ax.legend(title=\"\")\n",
    "plt.tight_layout()\n",
    "plt.show()\n",
    "```\n",
    "\n",
    "#### 4. Perform the Test and Make a Decision\n",
    "\n",
    "The `scipy.stats.chisquare()` function performs the goodness of fit test directly. It takes the observed counts (`f_obs`) and the expected counts (`f_exp`) as arguments.\n",
    "\n",
    "```python\n",
    "from scipy.stats import chisquare\n",
    "# Perform the chi-square goodness of fit test \n",
    "# The function requires the counts to be in the same order.\n",
    "chi2_stat, p_value = chisquare(\n",
    "    f_obs=observed_counts['n'],\n",
    "    f_exp=hypothesized['n']\n",
    ")\n",
    "\n",
    "print(f\"Chi-square statistic: {chi2_stat:.4f}\")\n",
    "print(f\"P-value: {p_value:.4f}\")\n",
    "\n",
    "# Make a statistical decision\n",
    "if p_value < alpha:\n",
    "    print(f\"\\nDecision: Reject H0, because p-value ({p_value:.4f}) < alpha ({alpha}).\")\n",
    "    print(\"The sample data distribution does not match the hypothesized distribution.\")\n",
    "else:\n",
    "    print(f\"\\nDecision: Fail to reject H0, because p-value ({p_value:.4f}) >= alpha ({alpha}).\")\n",
    "    print(\"There is not enough evidence to conclude the distributions are different.\")\n",
    "```\n",
    "\n",
    "In this case, the p-value is large, so we fail to reject the null hypothesis. The observed differences between our sample and the company's hypothesized market share are small enough that they could plausibly be due to random sampling variability."
   ]
  },
  {
   "cell_type": "code",
   "execution_count": 298,
   "id": "c0521b06",
   "metadata": {},
   "outputs": [
    {
     "data": {
      "application/vnd.microsoft.datawrangler.viewer.v0+json": {
       "columns": [
        {
         "name": "purple_link",
         "rawType": "object",
         "type": "string"
        },
        {
         "name": "count",
         "rawType": "int64",
         "type": "integer"
        }
       ],
       "ref": "13dbb61e-14a3-429e-b0d3-4020eaa92022",
       "rows": [
        [
         "Hello, old friend",
         "1225"
        ],
        [
         "Indifferent",
         "405"
        ],
        [
         "Amused",
         "368"
        ],
        [
         "Annoyed",
         "263"
        ]
       ],
       "shape": {
        "columns": 1,
        "rows": 4
       }
      },
      "text/plain": [
       "purple_link\n",
       "Hello, old friend    1225\n",
       "Indifferent           405\n",
       "Amused                368\n",
       "Annoyed               263\n",
       "Name: count, dtype: int64"
      ]
     },
     "metadata": {},
     "output_type": "display_data"
    }
   ],
   "source": [
    "purple_link_counts = stack_overflow[\"purple_link\"].value_counts()\n",
    "display(purple_link_counts)"
   ]
  },
  {
   "cell_type": "code",
   "execution_count": 299,
   "id": "792dc3ef",
   "metadata": {},
   "outputs": [
    {
     "data": {
      "application/vnd.microsoft.datawrangler.viewer.v0+json": {
       "columns": [
        {
         "name": "index",
         "rawType": "int64",
         "type": "integer"
        },
        {
         "name": "purple_link",
         "rawType": "object",
         "type": "string"
        },
        {
         "name": "n",
         "rawType": "int64",
         "type": "integer"
        }
       ],
       "ref": "15fb3cda-f804-4360-8281-40169a9f1969",
       "rows": [
        [
         "2",
         "Amused",
         "368"
        ],
        [
         "3",
         "Annoyed",
         "263"
        ],
        [
         "0",
         "Hello, old friend",
         "1225"
        ],
        [
         "1",
         "Indifferent",
         "405"
        ]
       ],
       "shape": {
        "columns": 2,
        "rows": 4
       }
      },
      "text/html": [
       "<div>\n",
       "<style scoped>\n",
       "    .dataframe tbody tr th:only-of-type {\n",
       "        vertical-align: middle;\n",
       "    }\n",
       "\n",
       "    .dataframe tbody tr th {\n",
       "        vertical-align: top;\n",
       "    }\n",
       "\n",
       "    .dataframe thead th {\n",
       "        text-align: right;\n",
       "    }\n",
       "</style>\n",
       "<table border=\"1\" class=\"dataframe\">\n",
       "  <thead>\n",
       "    <tr style=\"text-align: right;\">\n",
       "      <th></th>\n",
       "      <th>purple_link</th>\n",
       "      <th>n</th>\n",
       "    </tr>\n",
       "  </thead>\n",
       "  <tbody>\n",
       "    <tr>\n",
       "      <th>2</th>\n",
       "      <td>Amused</td>\n",
       "      <td>368</td>\n",
       "    </tr>\n",
       "    <tr>\n",
       "      <th>3</th>\n",
       "      <td>Annoyed</td>\n",
       "      <td>263</td>\n",
       "    </tr>\n",
       "    <tr>\n",
       "      <th>0</th>\n",
       "      <td>Hello, old friend</td>\n",
       "      <td>1225</td>\n",
       "    </tr>\n",
       "    <tr>\n",
       "      <th>1</th>\n",
       "      <td>Indifferent</td>\n",
       "      <td>405</td>\n",
       "    </tr>\n",
       "  </tbody>\n",
       "</table>\n",
       "</div>"
      ],
      "text/plain": [
       "         purple_link     n\n",
       "2             Amused   368\n",
       "3            Annoyed   263\n",
       "0  Hello, old friend  1225\n",
       "1        Indifferent   405"
      ]
     },
     "metadata": {},
     "output_type": "display_data"
    }
   ],
   "source": [
    "purple_link_counts = (\n",
    "    purple_link_counts.rename_axis(\"purple_link\")\n",
    "    .reset_index(name=\"n\")\n",
    "    .sort_values(by=\"purple_link\")\n",
    ")\n",
    "display(purple_link_counts)"
   ]
  },
  {
   "cell_type": "code",
   "execution_count": 300,
   "id": "fbac4289",
   "metadata": {},
   "outputs": [
    {
     "data": {
      "application/vnd.microsoft.datawrangler.viewer.v0+json": {
       "columns": [
        {
         "name": "index",
         "rawType": "int64",
         "type": "integer"
        },
        {
         "name": "purple_link",
         "rawType": "object",
         "type": "string"
        },
        {
         "name": "prop",
         "rawType": "float64",
         "type": "float"
        }
       ],
       "ref": "f167c74c-8b51-459d-b8ec-b3cc3c5ae733",
       "rows": [
        [
         "0",
         "Amused",
         "0.16666666666666666"
        ],
        [
         "1",
         "Annoyed",
         "0.16666666666666666"
        ],
        [
         "2",
         "Hello, old friend",
         "0.5"
        ],
        [
         "3",
         "Indifferent",
         "0.16666666666666666"
        ]
       ],
       "shape": {
        "columns": 2,
        "rows": 4
       }
      },
      "text/html": [
       "<div>\n",
       "<style scoped>\n",
       "    .dataframe tbody tr th:only-of-type {\n",
       "        vertical-align: middle;\n",
       "    }\n",
       "\n",
       "    .dataframe tbody tr th {\n",
       "        vertical-align: top;\n",
       "    }\n",
       "\n",
       "    .dataframe thead th {\n",
       "        text-align: right;\n",
       "    }\n",
       "</style>\n",
       "<table border=\"1\" class=\"dataframe\">\n",
       "  <thead>\n",
       "    <tr style=\"text-align: right;\">\n",
       "      <th></th>\n",
       "      <th>purple_link</th>\n",
       "      <th>prop</th>\n",
       "    </tr>\n",
       "  </thead>\n",
       "  <tbody>\n",
       "    <tr>\n",
       "      <th>0</th>\n",
       "      <td>Amused</td>\n",
       "      <td>0.166667</td>\n",
       "    </tr>\n",
       "    <tr>\n",
       "      <th>1</th>\n",
       "      <td>Annoyed</td>\n",
       "      <td>0.166667</td>\n",
       "    </tr>\n",
       "    <tr>\n",
       "      <th>2</th>\n",
       "      <td>Hello, old friend</td>\n",
       "      <td>0.500000</td>\n",
       "    </tr>\n",
       "    <tr>\n",
       "      <th>3</th>\n",
       "      <td>Indifferent</td>\n",
       "      <td>0.166667</td>\n",
       "    </tr>\n",
       "  </tbody>\n",
       "</table>\n",
       "</div>"
      ],
      "text/plain": [
       "         purple_link      prop\n",
       "0             Amused  0.166667\n",
       "1            Annoyed  0.166667\n",
       "2  Hello, old friend  0.500000\n",
       "3        Indifferent  0.166667"
      ]
     },
     "metadata": {},
     "output_type": "display_data"
    }
   ],
   "source": [
    "hypothesized = pd.DataFrame(\n",
    "    {\n",
    "        \"purple_link\": [\"Amused\", \"Annoyed\", \"Hello, old friend\", \"Indifferent\"],\n",
    "        \"prop\": [1 / 6, 1 / 6, 1 / 2, 1 / 6],\n",
    "    }\n",
    ")\n",
    "display(hypothesized)"
   ]
  },
  {
   "cell_type": "code",
   "execution_count": 301,
   "id": "27263dda",
   "metadata": {},
   "outputs": [
    {
     "data": {
      "application/vnd.microsoft.datawrangler.viewer.v0+json": {
       "columns": [
        {
         "name": "index",
         "rawType": "int64",
         "type": "integer"
        },
        {
         "name": "purple_link",
         "rawType": "object",
         "type": "string"
        },
        {
         "name": "prop",
         "rawType": "float64",
         "type": "float"
        },
        {
         "name": "n",
         "rawType": "float64",
         "type": "float"
        }
       ],
       "ref": "30eb7928-3700-4ff8-bad1-70587ec961ae",
       "rows": [
        [
         "0",
         "Amused",
         "0.16666666666666666",
         "376.8333333333333"
        ],
        [
         "1",
         "Annoyed",
         "0.16666666666666666",
         "376.8333333333333"
        ],
        [
         "2",
         "Hello, old friend",
         "0.5",
         "1130.5"
        ],
        [
         "3",
         "Indifferent",
         "0.16666666666666666",
         "376.8333333333333"
        ]
       ],
       "shape": {
        "columns": 3,
        "rows": 4
       }
      },
      "text/html": [
       "<div>\n",
       "<style scoped>\n",
       "    .dataframe tbody tr th:only-of-type {\n",
       "        vertical-align: middle;\n",
       "    }\n",
       "\n",
       "    .dataframe tbody tr th {\n",
       "        vertical-align: top;\n",
       "    }\n",
       "\n",
       "    .dataframe thead th {\n",
       "        text-align: right;\n",
       "    }\n",
       "</style>\n",
       "<table border=\"1\" class=\"dataframe\">\n",
       "  <thead>\n",
       "    <tr style=\"text-align: right;\">\n",
       "      <th></th>\n",
       "      <th>purple_link</th>\n",
       "      <th>prop</th>\n",
       "      <th>n</th>\n",
       "    </tr>\n",
       "  </thead>\n",
       "  <tbody>\n",
       "    <tr>\n",
       "      <th>0</th>\n",
       "      <td>Amused</td>\n",
       "      <td>0.166667</td>\n",
       "      <td>376.833333</td>\n",
       "    </tr>\n",
       "    <tr>\n",
       "      <th>1</th>\n",
       "      <td>Annoyed</td>\n",
       "      <td>0.166667</td>\n",
       "      <td>376.833333</td>\n",
       "    </tr>\n",
       "    <tr>\n",
       "      <th>2</th>\n",
       "      <td>Hello, old friend</td>\n",
       "      <td>0.500000</td>\n",
       "      <td>1130.500000</td>\n",
       "    </tr>\n",
       "    <tr>\n",
       "      <th>3</th>\n",
       "      <td>Indifferent</td>\n",
       "      <td>0.166667</td>\n",
       "      <td>376.833333</td>\n",
       "    </tr>\n",
       "  </tbody>\n",
       "</table>\n",
       "</div>"
      ],
      "text/plain": [
       "         purple_link      prop            n\n",
       "0             Amused  0.166667   376.833333\n",
       "1            Annoyed  0.166667   376.833333\n",
       "2  Hello, old friend  0.500000  1130.500000\n",
       "3        Indifferent  0.166667   376.833333"
      ]
     },
     "metadata": {},
     "output_type": "display_data"
    }
   ],
   "source": [
    "alpha = 0.01\n",
    "n_total = len(stack_overflow)\n",
    "hypothesized[\"n\"] = hypothesized[\"prop\"] * n_total\n",
    "display(hypothesized)"
   ]
  },
  {
   "cell_type": "code",
   "execution_count": 302,
   "id": "bfbf0222",
   "metadata": {},
   "outputs": [
    {
     "data": {
      "image/png": "[encoded data removed]",
      "text/plain": [
       "<Figure size 700x500 with 1 Axes>"
      ]
     },
     "metadata": {},
     "output_type": "display_data"
    }
   ],
   "source": [
    "import matplotlib.pyplot as plt\n",
    "\n",
    "fig, ax = plt.subplots(figsize=(7, 5))\n",
    "\n",
    "# Create bar positions\n",
    "x_pos = range(len(purple_link_counts))\n",
    "\n",
    "# Plot observed counts\n",
    "ax.bar(\n",
    "    x_pos, purple_link_counts[\"n\"], color=\"red\", alpha=0.7, label=\"Observed\", width=0.6\n",
    ")\n",
    "\n",
    "# Plot hypothesized counts with transparency\n",
    "ax.bar(\n",
    "    x_pos, hypothesized[\"n\"], color=\"blue\", alpha=0.5, label=\"Hypothesized\", width=0.6\n",
    ")\n",
    "\n",
    "# Set x-axis labels\n",
    "ax.set_xticks(x_pos)\n",
    "ax.set_xticklabels(purple_link_counts[\"purple_link\"], rotation=45, ha=\"right\")\n",
    "\n",
    "# Labels and formatting\n",
    "ax.set_xlabel(\"Purple Link Response\")\n",
    "ax.set_ylabel(\"Count\")\n",
    "ax.set_title(\"Observed vs Hypothesized Purple Link Responses\")\n",
    "ax.legend()\n",
    "ax.grid(True, alpha=0.3)\n",
    "ax.set_axisbelow(True)\n",
    "\n",
    "plt.tight_layout()\n",
    "plt.show()"
   ]
  },
  {
   "cell_type": "code",
   "execution_count": 303,
   "id": "c08b0ae2",
   "metadata": {},
   "outputs": [
    {
     "data": {
      "text/plain": [
       "Power_divergenceResult(statistic=np.float64(44.59840778416629), pvalue=np.float64(1.1261810719413759e-09))"
      ]
     },
     "execution_count": 303,
     "metadata": {},
     "output_type": "execute_result"
    }
   ],
   "source": [
    "from scipy.stats import chisquare\n",
    "\n",
    "chisquare(f_obs=purple_link_counts[\"n\"], f_exp=hypothesized[\"n\"])"
   ]
  },
  {
   "cell_type": "code",
   "execution_count": 304,
   "id": "e84ac6e6",
   "metadata": {},
   "outputs": [],
   "source": [
    "# Find the number of rows in late_shipments\n",
    "incoterm_counts = late_shipments[\"vendor_inco_term\"].value_counts()\n",
    "\n",
    "incoterm_counts = (\n",
    "    incoterm_counts.rename_axis(\"vendor_inco_term\")\n",
    "    .reset_index(name=\"n\")\n",
    "    .sort_values(by=\"vendor_inco_term\")\n",
    ").drop(index=4, axis=0)"
   ]
  },
  {
   "cell_type": "code",
   "execution_count": 305,
   "id": "ee1b6005",
   "metadata": {},
   "outputs": [
    {
     "data": {
      "application/vnd.microsoft.datawrangler.viewer.v0+json": {
       "columns": [
        {
         "name": "index",
         "rawType": "int64",
         "type": "integer"
        },
        {
         "name": "vendor_inco_term",
         "rawType": "object",
         "type": "string"
        },
        {
         "name": "prop",
         "rawType": "float64",
         "type": "float"
        },
        {
         "name": "n",
         "rawType": "float64",
         "type": "float"
        }
       ],
       "ref": "9048f826-4006-40ca-9923-80672c5c345b",
       "rows": [
        [
         "0",
         "CIP",
         "0.16666666666666666",
         "159.16666666666666"
        ],
        [
         "1",
         "DDP",
         "0.16666666666666666",
         "159.16666666666666"
        ],
        [
         "2",
         "EXW",
         "0.5",
         "477.5"
        ],
        [
         "3",
         "FCA",
         "0.16666666666666666",
         "159.16666666666666"
        ]
       ],
       "shape": {
        "columns": 3,
        "rows": 4
       }
      },
      "text/html": [
       "<div>\n",
       "<style scoped>\n",
       "    .dataframe tbody tr th:only-of-type {\n",
       "        vertical-align: middle;\n",
       "    }\n",
       "\n",
       "    .dataframe tbody tr th {\n",
       "        vertical-align: top;\n",
       "    }\n",
       "\n",
       "    .dataframe thead th {\n",
       "        text-align: right;\n",
       "    }\n",
       "</style>\n",
       "<table border=\"1\" class=\"dataframe\">\n",
       "  <thead>\n",
       "    <tr style=\"text-align: right;\">\n",
       "      <th></th>\n",
       "      <th>vendor_inco_term</th>\n",
       "      <th>prop</th>\n",
       "      <th>n</th>\n",
       "    </tr>\n",
       "  </thead>\n",
       "  <tbody>\n",
       "    <tr>\n",
       "      <th>0</th>\n",
       "      <td>CIP</td>\n",
       "      <td>0.166667</td>\n",
       "      <td>159.166667</td>\n",
       "    </tr>\n",
       "    <tr>\n",
       "      <th>1</th>\n",
       "      <td>DDP</td>\n",
       "      <td>0.166667</td>\n",
       "      <td>159.166667</td>\n",
       "    </tr>\n",
       "    <tr>\n",
       "      <th>2</th>\n",
       "      <td>EXW</td>\n",
       "      <td>0.500000</td>\n",
       "      <td>477.500000</td>\n",
       "    </tr>\n",
       "    <tr>\n",
       "      <th>3</th>\n",
       "      <td>FCA</td>\n",
       "      <td>0.166667</td>\n",
       "      <td>159.166667</td>\n",
       "    </tr>\n",
       "  </tbody>\n",
       "</table>\n",
       "</div>"
      ],
      "text/plain": [
       "  vendor_inco_term      prop           n\n",
       "0              CIP  0.166667  159.166667\n",
       "1              DDP  0.166667  159.166667\n",
       "2              EXW  0.500000  477.500000\n",
       "3              FCA  0.166667  159.166667"
      ]
     },
     "metadata": {},
     "output_type": "display_data"
    }
   ],
   "source": [
    "hypothesized = pd.DataFrame(\n",
    "    {\n",
    "        \"vendor_inco_term\": [\"CIP\", \"DDP\", \"EXW\", \"FCA\"],\n",
    "        \"prop\": [1 / 6, 1 / 6, 1 / 2, 1 / 6],\n",
    "    }\n",
    ")\n",
    "hypothesized[\"n\"] = hypothesized[\"prop\"] * len(late_shipments)\n",
    "display(hypothesized)"
   ]
  },
  {
   "cell_type": "code",
   "execution_count": 306,
   "id": "a04625a0",
   "metadata": {},
   "outputs": [
    {
     "data": {
      "image/png": "[encoded data removed]",
      "text/plain": [
       "<Figure size 640x480 with 1 Axes>"
      ]
     },
     "metadata": {},
     "output_type": "display_data"
    }
   ],
   "source": [
    "# Plot a red bar graph of n vs. vendor_inco_term for incoterm_counts\n",
    "plt.bar(\n",
    "    incoterm_counts[\"vendor_inco_term\"],\n",
    "    incoterm_counts[\"n\"],\n",
    "    color=\"red\",\n",
    "    label=\"Observed\",\n",
    ")\n",
    "\n",
    "# Add a blue bar plot for the hypothesized counts\n",
    "plt.bar(\n",
    "    hypothesized[\"vendor_inco_term\"],\n",
    "    hypothesized[\"n\"],\n",
    "    color=\"blue\",\n",
    "    alpha=0.5,\n",
    "    label=\"Hypothesized\",\n",
    ")\n",
    "plt.legend()\n",
    "plt.show()"
   ]
  },
  {
   "cell_type": "markdown",
   "id": "ff5c0f71",
   "metadata": {},
   "source": [
    "```python\n",
    "# Perform a goodness of fit test on the incoterm counts n\n",
    "gof_test = chisquare(f_obs=incoterm_counts[\"n\"], f_exp=hypothesized[\"n\"])\n",
    "\n",
    "# Extract the test statistic and p-value\n",
    "chi2_stat, p_value = gof_test\n",
    "\n",
    "# Print gof_test results\n",
    "print(f\"Chi-square statistic: {chi2_stat:.4f}\")\n",
    "print(f\"P-value: {p_value:.6f}\")\n",
    "\n",
    "# Set significance level and make decision\n",
    "alpha = 0.05\n",
    "if p_value < alpha:\n",
    "    print(f\"\\nDecision: Reject H0 (p-value {p_value:.6f} < α {alpha})\")\n",
    "    print(\n",
    "        \"The observed incoterm distribution differs significantly from the hypothesized distribution.\"\n",
    "    )\n",
    "else:\n",
    "    print(f\"\\nDecision: Fail to reject H0 (p-value {p_value:.6f} >= α {alpha})\")\n",
    "    print(\n",
    "        \"There is insufficient evidence that the incoterm distribution differs from the hypothesis.\"\n",
    "    )"
   ]
  },
  {
   "cell_type": "markdown",
   "id": "34464389",
   "metadata": {},
   "source": [
    "## Assumptions in Hypothesis Testing\n",
    "\n",
    "The validity of standard hypothesis tests, including t-tests, proportion tests, and chi-square tests, relies on three core assumptions about your data: that it was collected **randomly**, that the individual observations are **independent**, and that the **sample size is sufficiently large**. Violating these assumptions can lead to incorrect calculations and invalid statistical conclusions.\n",
    "\n",
    "### 1. Randomness\n",
    "\n",
    "  * **Assumption**: The sample data must be a random subset of the population of interest. This means every individual in the population had an equal chance of being selected.\n",
    "\n",
    "  * **Consequences of Violation**: If the sample is not random (e.g., it's a convenience sample), it is likely not representative of the population. This introduces **sample bias**, meaning any conclusions you draw from the test may not apply to the broader population you are trying to understand.\n",
    "\n",
    "  * **How to Check**: This assumption cannot be verified with code. It is a **methodological** check that requires you to understand how the data was collected. You must confirm that a proper randomization procedure was used. A code demonstration can, however, show the *effect* of a biased sample.\n",
    "\n",
    "```python\n",
    "import numpy as np\n",
    "import pandas as pd\n",
    "\n",
    "# Population with a true mean of 100\n",
    "population = pd.DataFrame({'value': np.random.normal(loc=100, scale=20, size=10000)})\n",
    "# A biased sample that only includes values greater than the mean\n",
    "biased_sample = population[population['value'] > 100].sample(n=100, random_state=42)\n",
    "\n",
    "print(f\"True Population Mean: {population['value'].mean():.2f}\")\n",
    "print(f\"Biased Sample Mean: {biased_sample['value'].mean():.2f}\")\n",
    "# The biased sample mean is a poor estimate of the population mean.\n",
    "```\n",
    "\n",
    "### 2. Independence of Observations\n",
    "\n",
    "  * **Assumption**: Each observation (row) in the dataset must be independent of the others. This means the value of one observation does not influence the value of another.\n",
    "\n",
    "  * **Consequences of Violation**: If observations are dependent (e.g., measuring the same person's performance over several consecutive days), the sample contains less unique information than its size suggests. This can artificially reduce the calculated standard error, leading to an inflated test statistic and an an increased probability of a **false positive (Type I error)**.\n",
    "\n",
    "  * **How to Check**: Like randomness, this is primarily a check of the data collection methodology. For data collected over time (time-series data), you can diagnose a lack of independence by checking for **autocorrelation** (whether an observation is correlated with preceding observations).\n",
    "\n",
    "\n",
    "```python\n",
    "from statsmodels.graphics.tsaplots import plot_acf\n",
    "import matplotlib.pyplot as plt\n",
    "\n",
    "# Create a non-independent (autocorrelated) series\n",
    "np.random.seed(42)\n",
    "non_independent_data = [50]\n",
    "for _ in range(99):\n",
    "    non_independent_data.append(non_independent_data[-1] + np.random.normal(0, 5))\n",
    "\n",
    "# A plot showing significant correlation at various lags indicates non-independence\n",
    "plot_acf(pd.Series(non_independent_data))\n",
    "plt.title(\"Autocorrelation Plot for Non-Independent Data\")\n",
    "plt.show()\n",
    "```\n",
    "\n",
    "### 3. Large Sample Size\n",
    "\n",
    "  * **Assumption**: The sample size must be large enough for the Central Limit Theorem to apply, which ensures that the sampling distribution of the test statistic is well-approximated by its theoretical distribution (e.g., normal or t-distribution).\n",
    "\n",
    "  * **Consequences of Violation**: With small samples, the test may lack statistical power (increasing the chance of a **false negative (Type II error)**), and the calculated p-values may not be reliable.\n",
    "\n",
    "  * **How to Check**: The rule of thumb for a \"large enough\" sample size depends on the type of test being performed.\n",
    "\n",
    "### T-tests (One-sample, Two-sample, Paired, ANOVA)\n",
    "\n",
    "The sample size `n` (or the size of each sample, $n_i$) should be **at least 30**. \n",
    "\n",
    "```python\n",
    "# Check for a two-sample t-test\n",
    "# Assume 'df' has a 'group' column and 'value' column\n",
    "group_sizes = df.groupby('group')['value'].count()\n",
    "print(group_sizes)\n",
    "print(group_sizes >= 30)\n",
    "```\n",
    "\n",
    "#### Proportion Tests\n",
    "\n",
    "The number of **successes** and **failures** in each sample must be **at least 10**. \n",
    "\n",
    "```python\n",
    "# Check for a one-sample proportion test\n",
    "n = len(sample_data)\n",
    "p_hat = sample_data['outcome'].mean()\n",
    "successes = n * p_hat\n",
    "failures = n * (1 - p_hat)\n",
    "print(f\"Successes: {successes}, Failures: {failures}\")\n",
    "print(f\"Conditions met: {successes >= 10 and failures >= 10}\")\n",
    "```\n",
    "\n",
    "#### Chi-square Tests\n",
    "\n",
    "The **expected count** for each cell in the contingency table must be **at least 5**.\n",
    "\n",
    "```python\n",
    "import pingouin\n",
    "\n",
    "# Check for a chi-square test of independence\n",
    "# Assume 'df' has two categorical columns: 'cat1' and 'cat2'\n",
    "expected, observed, stats = pingouin.chi2_independence(data=df, x='cat1', y='cat2')\n",
    "print(f\"Minimum expected count: {expected.min().min()}\")\n",
    "print(f\"Condition met: {expected.min().min() >= 5}\")\n",
    "```\n",
    "\n",
    "\n",
    "\n",
    "### Large Sample Hypothesis Test Requirements\n",
    "\n",
    "#### t-tests\n",
    "\n",
    "| Test Type       | Condition                                                               |\n",
    "| --------------- | ----------------------------------------------------------------------- |\n",
    "| **One sample**  | At least 30 observations in the sample (*n ≥ 30*)                       |\n",
    "| **Two samples** | At least 30 observations in each sample (*n₁ ≥ 30, n₂ ≥ 30*)            |\n",
    "| **Paired**      | At least 30 pairs of observations across the samples (*rows ≥ 30*)      |\n",
    "| **ANOVA**       | At least 30 observations in each sample (*nᵢ ≥ 30 for all values of i*) |\n",
    "\n",
    "\n",
    "#### Proportion tests\n",
    "\n",
    "| Test Type       | Condition                                                                                                                                                           |\n",
    "| --------------- | ------------------------------------------------------------------------------------------------------------------------------------------------------------------- |\n",
    "| **One sample**  | - Number of successes ≥ 10 (*n × p̂ ≥ 10*)<br>- Number of failures ≥ 10 (*n × (1 - p̂) ≥ 10*)                                                                       |\n",
    "| **Two samples** | - Number of successes in each sample ≥ 10 (*n₁ × p̂₁ ≥ 10, n₂ × p̂₂ ≥ 10*)<br>- Number of failures in each sample ≥ 10 (*n₁ × (1 - p̂₁) ≥ 10, n₂ × (1 - p̂₂) ≥ 10*) |\n",
    "\n",
    "\n",
    "#### Chi-square tests\n",
    "\n",
    "| Test Type      | Condition                                                                                                                                                         |\n",
    "| -------------- | ----------------------------------------------------------------------------------------------------------------------------------------------------------------- |\n",
    "| **Chi-square** | - Number of successes in each group ≥ 5 (*nᵢ × p̂ᵢ ≥ 5 for all values of i*)<br>- Number of failures in each group ≥ 5 (*nᵢ × (1 - p̂ᵢ) ≥ 5 for all values of i*) |\n",
    "\n",
    "\n",
    "### A Final Sanity Check\n",
    "\n",
    "If you are unsure whether your assumptions are met, you can generate a bootstrap distribution of your statistic. If the resulting histogram does not look reasonably symmetric and bell-shaped, it's a strong indicator that the sample size may be too small or other assumptions are violated, and the results of your formal hypothesis test should be interpreted with caution.\n",
    "\n",
    "#### Test Statistic Formulas (Large Sample)\n",
    "\n",
    "| Test Family | Test Type | Test Statistic Formula |\n",
    "| --- | --- | --- |\n",
    "| **t-test** | One sample | $t = \\frac{\\bar{X} - \\mu_0}{s / \\sqrt{n}}$ |\n",
    "|  | Two samples (independent) | $t = \\frac{\\bar{X}_1 - \\bar{X}_2}{\\sqrt{\\frac{s_1^2}{n_1} + \\frac{s_2^2}{n_2}}}$ |\n",
    "|  | Paired samples | $t = \\frac{\\bar{D}}{s_D / \\sqrt{n}}$, where $\\bar{D}$ = mean of differences |\n",
    "|  | ANOVA (k groups) | $\\large F = \\frac{\\text{MS}_{\\text{between}}}{\\text{MS}_{\\text{within}}}$ |\n",
    "| **Proportion** | One sample | $z = \\frac{\\hat{p} - p_0}{\\sqrt{p_0(1 - p_0)/n}}$ |\n",
    "|  | Two samples | $z = \\frac{\\hat{p}_1 - \\hat{p}_2}{\\sqrt{\\hat{p}(1 - \\hat{p})\\left(\\frac{1}{n_1} + \\frac{1}{n_2}\\right)}}$, with pooled $\\hat{p}$ |\n",
    "| **Chi-square** | Goodness of Fit | $\\chi^2 = \\sum \\frac{(O_i - E_i)^2}{E_i}$ |\n",
    "|  | Independence | $\\chi^2 = \\sum \\frac{(O_{ij} - E_{ij})^2}{E_{ij}}$, where  $E_{ij} = \\frac{(\\text{row total})(\\text{col total})}{N}$ |\n",
    "\n",
    "This one is the **mathematical reference card**:\n",
    "\n",
    "- $\\bar{X}$ = sample mean\n",
    "- $\\mu_0$ = hypothesised population mean\n",
    "- $s$ = sample standard deviation\n",
    "- $n$ = sample size\n",
    "- $\\hat{p}$ = sample proportion\n",
    "- $O$ = observed frequency, $E$ = expected frequency"
   ]
  },
  {
   "cell_type": "code",
   "execution_count": 307,
   "id": "d0e50306",
   "metadata": {},
   "outputs": [
    {
     "name": "stdout",
     "output_type": "stream",
     "text": [
      "True\n"
     ]
    }
   ],
   "source": [
    "# Count the freight_cost_group values\n",
    "counts = late_shipments[\"freight_cost_groups\"].value_counts()\n",
    "\n",
    "# Inspect whether the counts are big enough\n",
    "print((counts >= 30).all())"
   ]
  },
  {
   "cell_type": "code",
   "execution_count": 308,
   "id": "fedf83d0",
   "metadata": {},
   "outputs": [
    {
     "name": "stdout",
     "output_type": "stream",
     "text": [
      "True\n"
     ]
    }
   ],
   "source": [
    "# Get the count of each value in the late column of late_shipments\n",
    "counts = late_shipments[\"late\"].value_counts()\n",
    "\n",
    "# Inspect whether the counts are big enough\n",
    "print((counts >= 10).all())"
   ]
  },
  {
   "cell_type": "code",
   "execution_count": 309,
   "id": "76020d8d",
   "metadata": {},
   "outputs": [
    {
     "name": "stdout",
     "output_type": "stream",
     "text": [
      "False\n"
     ]
    }
   ],
   "source": [
    "# Count the values of freight_cost_group grouped by vendor_inco_term\n",
    "counts = late_shipments.groupby(\"vendor_inco_term\")[\n",
    "    \"freight_cost_groups\"\n",
    "].value_counts()\n",
    "\n",
    "print((counts >= 5).all())"
   ]
  },
  {
   "cell_type": "code",
   "execution_count": 310,
   "id": "a79f7b9b",
   "metadata": {},
   "outputs": [
    {
     "name": "stdout",
     "output_type": "stream",
     "text": [
      "False\n"
     ]
    }
   ],
   "source": [
    "# Count the shipment_mode values\n",
    "counts = late_shipments[\"shipment_mode\"].value_counts()\n",
    "\n",
    "\n",
    "# Inspect whether the counts are big enough\n",
    "print((counts >= 30).all())"
   ]
  },
  {
   "cell_type": "markdown",
   "id": "04ad9100",
   "metadata": {},
   "source": [
    "## The Limits of Parametric Tests\n",
    "\n",
    "Hypothesis tests like the z-test, t-test, and ANOVA are **parametric**. This means they make certain assumptions about the parameters of the population distribution from which the sample is drawn. The most common and critical assumption is that the data (or, more formally, the sampling distribution of the statistic) follows a normal distribution.\n",
    "\n",
    "These tests rely on the Central Limit Theorem to ensure this normality assumption holds, which requires a **sufficiently large sample size** (e.g., n ≥ 30 for t-tests). When these assumptions are violated, particularly when dealing with small samples or heavily skewed data, the results of parametric tests may be unreliable.\n",
    "\n",
    "### Non-Parametric Tests: A Distribution-Free Approach\n",
    "\n",
    "Non-parametric tests are a powerful alternative when the assumptions of parametric tests are not met. They are often called \"distribution-free\" because they do not rely on assumptions about the underlying population distribution.\n",
    "\n",
    "Many non-parametric tests achieve this by working with the **ranks** of the data rather than the raw data values themselves. Ranking converts the data into an ordinal scale, which preserves information about the order and relative magnitude of the observations but is insensitive to the specific distribution shape and the influence of outliers.\n",
    "\n",
    "```python\n",
    "from scipy.stats import rankdata\n",
    "\n",
    "# A sample of raw data\n",
    "raw_data = [12.5, 30.1, 5.8, 25.5, 18.0]\n",
    "\n",
    "# Convert the data to ranks\n",
    "ranked_data = rankdata(raw_data)\n",
    "\n",
    "print(f\"Original Data: {raw_data}\")\n",
    "print(f\"Ranked Data:   {ranked_data}\")\n",
    "```\n",
    "\n",
    "### The Wilcoxon Signed-Rank Test\n",
    "\n",
    "The **Wilcoxon signed-rank test** is the non-parametric alternative to the **paired t-test**. It is used to determine if there is a significant difference between two related, paired samples, and it is particularly reliable for small sample sizes.\n",
    "\n",
    "#### The Logic of the Test\n",
    "\n",
    "Instead of working with the raw values, the test analyzes the ranks of the differences between pairs. The process is as follows:\n",
    "\n",
    "1.  Calculate the **difference** between each pair of observations.\n",
    "2.  Calculate the **absolute value** of these differences.\n",
    "3.  **Rank** the non-zero absolute differences from smallest to largest.\n",
    "4.  The test statistic, `W`, is calculated from the sum of the ranks corresponding to the original positive differences and the sum of the ranks corresponding to the original negative differences. It effectively tests whether there is a systematic tendency for the differences to be positive or negative.\n",
    "\n",
    "### Implementation in Python\n",
    "\n",
    "While the manual calculation is insightful, the `pingouin` library provides a direct and convenient function for performing this test: `pingouin.wilcoxon()`.\n",
    "\n",
    "#### A Complete Example\n",
    "\n",
    "**Scenario**: A company tests a new website design on a small group of 12 users. They measure each user's engagement score on the old design and the new design. We want to know if the new design significantly increased engagement. Our sample size is too small for a paired t-test to be reliable.\n",
    "\n",
    "```python\n",
    "import pandas as pd\n",
    "import numpy as np\n",
    "import pingouin\n",
    "\n",
    "# 1. Create a small, synthetic paired dataset (n=12)\n",
    "np.random.seed(42)\n",
    "df = pd.DataFrame({\n",
    "    'old_design_score': np.random.normal(loc=70, scale=10, size=12),\n",
    "    'new_design_score': np.random.normal(loc=78, scale=12, size=12)\n",
    "})\n",
    "\n",
    "# 2. State Hypotheses and Significance Level\n",
    "# H0: The median difference between new and old scores is zero.\n",
    "# HA: The median new score is greater than the median old score.\n",
    "# This is a right-tailed test.\n",
    "alpha = 0.05\n",
    "\n",
    "# 3. Perform the Wilcoxon signed-rank test\n",
    "# The syntax is very similar to pingouin.ttest()\n",
    "# For a paired test, we provide x and y.\n",
    "wilcoxon_results = pingouin.wilcoxon(\n",
    "    x=df['new_design_score'],\n",
    "    y=df['old_design_score'],\n",
    "    alternative='greater' # 'greater' corresponds to HA: new > old\n",
    ")\n",
    "\n",
    "print(wilcoxon_results)\n",
    "\n",
    "# 4. Make a Statistical Decision\n",
    "p_value = wilcoxon_results['p-val'].iloc[0]\n",
    "\n",
    "if p_value < alpha:\n",
    "    print(f\"Decision: Reject H0, because p-value ({p_value:.4f}) < alpha ({alpha}).\")\n",
    "    print(\"The evidence suggests the new design significantly increased engagement scores.\")\n",
    "else:\n",
    "    print(f\"Decision: Fail to reject H0, because p-value ({p_value:.4f}) >= alpha ({alpha}).\")\n",
    "    print(\"There is not enough evidence to conclude a significant increase in engagement.\")\n",
    "```\n",
    "\n",
    "The Wilcoxon signed-rank test provides a robust method for comparing paired samples without relying on the strict assumptions of the paired t-test, making it an essential tool for working with small or non-normally distributed datasets."
   ]
  },
  {
   "cell_type": "code",
   "execution_count": 311,
   "id": "046a3dd7",
   "metadata": {},
   "outputs": [
    {
     "data": {
      "application/vnd.microsoft.datawrangler.viewer.v0+json": {
       "columns": [
        {
         "name": "index",
         "rawType": "int64",
         "type": "integer"
        },
        {
         "name": "state",
         "rawType": "object",
         "type": "string"
        },
        {
         "name": "county",
         "rawType": "object",
         "type": "string"
        },
        {
         "name": "repub_percent_08",
         "rawType": "float64",
         "type": "float"
        },
        {
         "name": "repub_percent_12",
         "rawType": "float64",
         "type": "float"
        },
        {
         "name": "diff",
         "rawType": "float64",
         "type": "float"
        }
       ],
       "ref": "a909c513-6021-46fd-b9c3-2719d9fc1895",
       "rows": [
        [
         "83",
         "Texas",
         "Terrell",
         "62.23506743737958",
         "64.5045045045045",
         "-2.269437067124919"
        ],
        [
         "53",
         "New Mexico",
         "Eddy",
         "62.21072015129647",
         "65.30178006123826",
         "-3.091059909941791"
        ],
        [
         "70",
         "South Dakota",
         "Bon Homme",
         "54.942233632862646",
         "59.53155497722836",
         "-4.589321344365715"
        ],
        [
         "45",
         "Missouri",
         "Montgomery",
         "58.53825136612022",
         "65.51529941805894",
         "-6.9770480519387235"
        ],
        [
         "44",
         "Missouri",
         "Iron",
         "47.34934299954689",
         "55.86703051352022",
         "-8.517687513973328"
        ]
       ],
       "shape": {
        "columns": 5,
        "rows": 5
       }
      },
      "text/html": [
       "<div>\n",
       "<style scoped>\n",
       "    .dataframe tbody tr th:only-of-type {\n",
       "        vertical-align: middle;\n",
       "    }\n",
       "\n",
       "    .dataframe tbody tr th {\n",
       "        vertical-align: top;\n",
       "    }\n",
       "\n",
       "    .dataframe thead th {\n",
       "        text-align: right;\n",
       "    }\n",
       "</style>\n",
       "<table border=\"1\" class=\"dataframe\">\n",
       "  <thead>\n",
       "    <tr style=\"text-align: right;\">\n",
       "      <th></th>\n",
       "      <th>state</th>\n",
       "      <th>county</th>\n",
       "      <th>repub_percent_08</th>\n",
       "      <th>repub_percent_12</th>\n",
       "      <th>diff</th>\n",
       "    </tr>\n",
       "  </thead>\n",
       "  <tbody>\n",
       "    <tr>\n",
       "      <th>83</th>\n",
       "      <td>Texas</td>\n",
       "      <td>Terrell</td>\n",
       "      <td>62.235067</td>\n",
       "      <td>64.504505</td>\n",
       "      <td>-2.269437</td>\n",
       "    </tr>\n",
       "    <tr>\n",
       "      <th>53</th>\n",
       "      <td>New Mexico</td>\n",
       "      <td>Eddy</td>\n",
       "      <td>62.210720</td>\n",
       "      <td>65.301780</td>\n",
       "      <td>-3.091060</td>\n",
       "    </tr>\n",
       "    <tr>\n",
       "      <th>70</th>\n",
       "      <td>South Dakota</td>\n",
       "      <td>Bon Homme</td>\n",
       "      <td>54.942234</td>\n",
       "      <td>59.531555</td>\n",
       "      <td>-4.589321</td>\n",
       "    </tr>\n",
       "    <tr>\n",
       "      <th>45</th>\n",
       "      <td>Missouri</td>\n",
       "      <td>Montgomery</td>\n",
       "      <td>58.538251</td>\n",
       "      <td>65.515299</td>\n",
       "      <td>-6.977048</td>\n",
       "    </tr>\n",
       "    <tr>\n",
       "      <th>44</th>\n",
       "      <td>Missouri</td>\n",
       "      <td>Iron</td>\n",
       "      <td>47.349343</td>\n",
       "      <td>55.867031</td>\n",
       "      <td>-8.517688</td>\n",
       "    </tr>\n",
       "  </tbody>\n",
       "</table>\n",
       "</div>"
      ],
      "text/plain": [
       "           state      county  repub_percent_08  repub_percent_12      diff\n",
       "83         Texas     Terrell         62.235067         64.504505 -2.269437\n",
       "53    New Mexico        Eddy         62.210720         65.301780 -3.091060\n",
       "70  South Dakota   Bon Homme         54.942234         59.531555 -4.589321\n",
       "45      Missouri  Montgomery         58.538251         65.515299 -6.977048\n",
       "44      Missouri        Iron         47.349343         55.867031 -8.517688"
      ]
     },
     "metadata": {},
     "output_type": "display_data"
    }
   ],
   "source": [
    "# repub_votes.sample(5, random_state=42) picks 5 random rows (reproducible seed); Stats: a small random sample gives a quick, unbiased peek at data variability and structure.\n",
    "repub_votes_small = repub_votes.sample(5, random_state=42)\n",
    "\n",
    "display(repub_votes_small)"
   ]
  },
  {
   "cell_type": "code",
   "execution_count": 312,
   "id": "3ce22f44",
   "metadata": {},
   "outputs": [
    {
     "data": {
      "application/vnd.microsoft.datawrangler.viewer.v0+json": {
       "columns": [
        {
         "name": "index",
         "rawType": "object",
         "type": "string"
        },
        {
         "name": "T",
         "rawType": "float64",
         "type": "float"
        },
        {
         "name": "dof",
         "rawType": "int64",
         "type": "integer"
        },
        {
         "name": "alternative",
         "rawType": "object",
         "type": "string"
        },
        {
         "name": "p-val",
         "rawType": "float64",
         "type": "float"
        },
        {
         "name": "CI95%",
         "rawType": "object",
         "type": "unknown"
        },
        {
         "name": "cohen-d",
         "rawType": "float64",
         "type": "float"
        },
        {
         "name": "BF10",
         "rawType": "object",
         "type": "string"
        },
        {
         "name": "power",
         "rawType": "float64",
         "type": "float"
        }
       ],
       "ref": "c6020544-9f2f-4018-9611-9decc5c3c88d",
       "rows": [
        [
         "T-test",
         "-4.338890973663603",
         "4",
         "less",
         "0.0061318137510240735",
         "[ -inf -2.59]",
         "0.9544706822056348",
         "12.165",
         "0.5474702680586494"
        ]
       ],
       "shape": {
        "columns": 8,
        "rows": 1
       }
      },
      "text/html": [
       "<div>\n",
       "<style scoped>\n",
       "    .dataframe tbody tr th:only-of-type {\n",
       "        vertical-align: middle;\n",
       "    }\n",
       "\n",
       "    .dataframe tbody tr th {\n",
       "        vertical-align: top;\n",
       "    }\n",
       "\n",
       "    .dataframe thead th {\n",
       "        text-align: right;\n",
       "    }\n",
       "</style>\n",
       "<table border=\"1\" class=\"dataframe\">\n",
       "  <thead>\n",
       "    <tr style=\"text-align: right;\">\n",
       "      <th></th>\n",
       "      <th>T</th>\n",
       "      <th>dof</th>\n",
       "      <th>alternative</th>\n",
       "      <th>p-val</th>\n",
       "      <th>CI95%</th>\n",
       "      <th>cohen-d</th>\n",
       "      <th>BF10</th>\n",
       "      <th>power</th>\n",
       "    </tr>\n",
       "  </thead>\n",
       "  <tbody>\n",
       "    <tr>\n",
       "      <th>T-test</th>\n",
       "      <td>-4.338891</td>\n",
       "      <td>4</td>\n",
       "      <td>less</td>\n",
       "      <td>0.006132</td>\n",
       "      <td>[-inf, -2.59]</td>\n",
       "      <td>0.954471</td>\n",
       "      <td>12.165</td>\n",
       "      <td>0.54747</td>\n",
       "    </tr>\n",
       "  </tbody>\n",
       "</table>\n",
       "</div>"
      ],
      "text/plain": [
       "               T  dof alternative     p-val          CI95%   cohen-d    BF10  \\\n",
       "T-test -4.338891    4        less  0.006132  [-inf, -2.59]  0.954471  12.165   \n",
       "\n",
       "          power  \n",
       "T-test  0.54747  "
      ]
     },
     "execution_count": 312,
     "metadata": {},
     "output_type": "execute_result"
    }
   ],
   "source": [
    "# Set the significance level (alpha) for the hypothesis test; probability of Type I error (rejecting H0 when true)\n",
    "alpha = 0.01\n",
    "\n",
    "# Perform a paired t-test comparing Republican vote percentages in 2008 and 2012\n",
    "# x: first sample (2008 percentages), y: second sample (2012 percentages)\n",
    "# paired=True: indicates paired samples (same counties in both years)\n",
    "# alternative=\"less\": tests if the mean of x is less than the mean of y (one-tailed test)\n",
    "pingouin.ttest(\n",
    "    x=repub_votes_small[\"repub_percent_08\"],\n",
    "    y=repub_votes_small[\"repub_percent_12\"],\n",
    "    paired=True,\n",
    "    alternative=\"less\",\n",
    ")"
   ]
  },
  {
   "cell_type": "markdown",
   "id": "0e4c0028",
   "metadata": {},
   "source": [
    "### Wilcoxon-signed rank test (Step 1)\n"
   ]
  },
  {
   "cell_type": "markdown",
   "id": "f97d1194",
   "metadata": {},
   "source": [
    "**Test Statistic (W)**\n",
    "\n",
    "The test statistic $W$ is the minimum of the sum of positive ranks ($W^{+}$) and the sum of negative ranks ($W^{-}$):\n",
    "\n",
    "$$\n",
    "W = \\min\\left(W^{+}, W^{-}\\right)\n",
    "$$\n",
    "\n",
    "**Where:**\n",
    "- **Sum of positive ranks ($W^{+}$):**\n",
    "  $$\n",
    "  W^{+} = \\sum_{i=1}^{N\\_r} R\\_i \\cdot \\mathbf{1}(d\\_i > 0)\n",
    "  $$\n",
    "- **Sum of negative ranks ($W^{-}$):**\n",
    "  $$\n",
    "  W^{-} = \\sum_{i=1}^{N\\_r} R\\_i \\cdot \\mathbf{1}(d\\_i < 0)\n",
    "  $$\n",
    "\n",
    "**Notes:**\n",
    "- ( $N_r$ ) is the number of **nonzero** paired differences.\n",
    "- ( $R_i$ ) is the rank of the absolute difference ( $|d_i|$ ).\n",
    "- ( $\\mathbf{1}(\\cdot)$) denotes the indicator function (equals 1 if the condition is true, 0 otherwise)."
   ]
  },
  {
   "cell_type": "code",
   "execution_count": 313,
   "id": "3955317d",
   "metadata": {},
   "outputs": [
    {
     "data": {
      "application/vnd.microsoft.datawrangler.viewer.v0+json": {
       "columns": [
        {
         "name": "index",
         "rawType": "int64",
         "type": "integer"
        },
        {
         "name": "state",
         "rawType": "object",
         "type": "string"
        },
        {
         "name": "county",
         "rawType": "object",
         "type": "string"
        },
        {
         "name": "repub_percent_08",
         "rawType": "float64",
         "type": "float"
        },
        {
         "name": "repub_percent_12",
         "rawType": "float64",
         "type": "float"
        },
        {
         "name": "diff",
         "rawType": "float64",
         "type": "float"
        }
       ],
       "ref": "68b0ad46-1e59-4d56-bbae-05fae3cb9812",
       "rows": [
        [
         "83",
         "Texas",
         "Terrell",
         "62.23506743737958",
         "64.5045045045045",
         "-2.269437067124919"
        ],
        [
         "53",
         "New Mexico",
         "Eddy",
         "62.21072015129647",
         "65.30178006123826",
         "-3.091059909941791"
        ],
        [
         "70",
         "South Dakota",
         "Bon Homme",
         "54.942233632862646",
         "59.53155497722836",
         "-4.589321344365715"
        ],
        [
         "45",
         "Missouri",
         "Montgomery",
         "58.53825136612022",
         "65.51529941805894",
         "-6.9770480519387235"
        ],
        [
         "44",
         "Missouri",
         "Iron",
         "47.34934299954689",
         "55.86703051352022",
         "-8.517687513973328"
        ]
       ],
       "shape": {
        "columns": 5,
        "rows": 5
       }
      },
      "text/html": [
       "<div>\n",
       "<style scoped>\n",
       "    .dataframe tbody tr th:only-of-type {\n",
       "        vertical-align: middle;\n",
       "    }\n",
       "\n",
       "    .dataframe tbody tr th {\n",
       "        vertical-align: top;\n",
       "    }\n",
       "\n",
       "    .dataframe thead th {\n",
       "        text-align: right;\n",
       "    }\n",
       "</style>\n",
       "<table border=\"1\" class=\"dataframe\">\n",
       "  <thead>\n",
       "    <tr style=\"text-align: right;\">\n",
       "      <th></th>\n",
       "      <th>state</th>\n",
       "      <th>county</th>\n",
       "      <th>repub_percent_08</th>\n",
       "      <th>repub_percent_12</th>\n",
       "      <th>diff</th>\n",
       "    </tr>\n",
       "  </thead>\n",
       "  <tbody>\n",
       "    <tr>\n",
       "      <th>83</th>\n",
       "      <td>Texas</td>\n",
       "      <td>Terrell</td>\n",
       "      <td>62.235067</td>\n",
       "      <td>64.504505</td>\n",
       "      <td>-2.269437</td>\n",
       "    </tr>\n",
       "    <tr>\n",
       "      <th>53</th>\n",
       "      <td>New Mexico</td>\n",
       "      <td>Eddy</td>\n",
       "      <td>62.210720</td>\n",
       "      <td>65.301780</td>\n",
       "      <td>-3.091060</td>\n",
       "    </tr>\n",
       "    <tr>\n",
       "      <th>70</th>\n",
       "      <td>South Dakota</td>\n",
       "      <td>Bon Homme</td>\n",
       "      <td>54.942234</td>\n",
       "      <td>59.531555</td>\n",
       "      <td>-4.589321</td>\n",
       "    </tr>\n",
       "    <tr>\n",
       "      <th>45</th>\n",
       "      <td>Missouri</td>\n",
       "      <td>Montgomery</td>\n",
       "      <td>58.538251</td>\n",
       "      <td>65.515299</td>\n",
       "      <td>-6.977048</td>\n",
       "    </tr>\n",
       "    <tr>\n",
       "      <th>44</th>\n",
       "      <td>Missouri</td>\n",
       "      <td>Iron</td>\n",
       "      <td>47.349343</td>\n",
       "      <td>55.867031</td>\n",
       "      <td>-8.517688</td>\n",
       "    </tr>\n",
       "  </tbody>\n",
       "</table>\n",
       "</div>"
      ],
      "text/plain": [
       "           state      county  repub_percent_08  repub_percent_12      diff\n",
       "83         Texas     Terrell         62.235067         64.504505 -2.269437\n",
       "53    New Mexico        Eddy         62.210720         65.301780 -3.091060\n",
       "70  South Dakota   Bon Homme         54.942234         59.531555 -4.589321\n",
       "45      Missouri  Montgomery         58.538251         65.515299 -6.977048\n",
       "44      Missouri        Iron         47.349343         55.867031 -8.517688"
      ]
     },
     "metadata": {},
     "output_type": "display_data"
    }
   ],
   "source": [
    "# Calculate the difference in Republican vote percentages between 2008 and 2012 for each county\n",
    "repub_votes_small[\"diff\"] = (\n",
    "    repub_votes_small[\"repub_percent_08\"] - repub_votes_small[\"repub_percent_12\"]\n",
    ")\n",
    "\n",
    "display(repub_votes_small)"
   ]
  },
  {
   "cell_type": "markdown",
   "id": "ab2ba123",
   "metadata": {},
   "source": [
    "### Wilcoxon-signed rank test (Steр 2)\n"
   ]
  },
  {
   "cell_type": "code",
   "execution_count": 314,
   "id": "87bb7ba6",
   "metadata": {},
   "outputs": [
    {
     "data": {
      "application/vnd.microsoft.datawrangler.viewer.v0+json": {
       "columns": [
        {
         "name": "index",
         "rawType": "int64",
         "type": "integer"
        },
        {
         "name": "state",
         "rawType": "object",
         "type": "string"
        },
        {
         "name": "county",
         "rawType": "object",
         "type": "string"
        },
        {
         "name": "repub_percent_08",
         "rawType": "float64",
         "type": "float"
        },
        {
         "name": "repub_percent_12",
         "rawType": "float64",
         "type": "float"
        },
        {
         "name": "diff",
         "rawType": "float64",
         "type": "float"
        },
        {
         "name": "abs_diff",
         "rawType": "float64",
         "type": "float"
        }
       ],
       "ref": "55b63595-beef-413b-9633-973d6adae169",
       "rows": [
        [
         "83",
         "Texas",
         "Terrell",
         "62.23506743737958",
         "64.5045045045045",
         "-2.269437067124919",
         "2.269437067124919"
        ],
        [
         "53",
         "New Mexico",
         "Eddy",
         "62.21072015129647",
         "65.30178006123826",
         "-3.091059909941791",
         "3.091059909941791"
        ],
        [
         "70",
         "South Dakota",
         "Bon Homme",
         "54.942233632862646",
         "59.53155497722836",
         "-4.589321344365715",
         "4.589321344365715"
        ],
        [
         "45",
         "Missouri",
         "Montgomery",
         "58.53825136612022",
         "65.51529941805894",
         "-6.9770480519387235",
         "6.9770480519387235"
        ],
        [
         "44",
         "Missouri",
         "Iron",
         "47.34934299954689",
         "55.86703051352022",
         "-8.517687513973328",
         "8.517687513973328"
        ]
       ],
       "shape": {
        "columns": 6,
        "rows": 5
       }
      },
      "text/html": [
       "<div>\n",
       "<style scoped>\n",
       "    .dataframe tbody tr th:only-of-type {\n",
       "        vertical-align: middle;\n",
       "    }\n",
       "\n",
       "    .dataframe tbody tr th {\n",
       "        vertical-align: top;\n",
       "    }\n",
       "\n",
       "    .dataframe thead th {\n",
       "        text-align: right;\n",
       "    }\n",
       "</style>\n",
       "<table border=\"1\" class=\"dataframe\">\n",
       "  <thead>\n",
       "    <tr style=\"text-align: right;\">\n",
       "      <th></th>\n",
       "      <th>state</th>\n",
       "      <th>county</th>\n",
       "      <th>repub_percent_08</th>\n",
       "      <th>repub_percent_12</th>\n",
       "      <th>diff</th>\n",
       "      <th>abs_diff</th>\n",
       "    </tr>\n",
       "  </thead>\n",
       "  <tbody>\n",
       "    <tr>\n",
       "      <th>83</th>\n",
       "      <td>Texas</td>\n",
       "      <td>Terrell</td>\n",
       "      <td>62.235067</td>\n",
       "      <td>64.504505</td>\n",
       "      <td>-2.269437</td>\n",
       "      <td>2.269437</td>\n",
       "    </tr>\n",
       "    <tr>\n",
       "      <th>53</th>\n",
       "      <td>New Mexico</td>\n",
       "      <td>Eddy</td>\n",
       "      <td>62.210720</td>\n",
       "      <td>65.301780</td>\n",
       "      <td>-3.091060</td>\n",
       "      <td>3.091060</td>\n",
       "    </tr>\n",
       "    <tr>\n",
       "      <th>70</th>\n",
       "      <td>South Dakota</td>\n",
       "      <td>Bon Homme</td>\n",
       "      <td>54.942234</td>\n",
       "      <td>59.531555</td>\n",
       "      <td>-4.589321</td>\n",
       "      <td>4.589321</td>\n",
       "    </tr>\n",
       "    <tr>\n",
       "      <th>45</th>\n",
       "      <td>Missouri</td>\n",
       "      <td>Montgomery</td>\n",
       "      <td>58.538251</td>\n",
       "      <td>65.515299</td>\n",
       "      <td>-6.977048</td>\n",
       "      <td>6.977048</td>\n",
       "    </tr>\n",
       "    <tr>\n",
       "      <th>44</th>\n",
       "      <td>Missouri</td>\n",
       "      <td>Iron</td>\n",
       "      <td>47.349343</td>\n",
       "      <td>55.867031</td>\n",
       "      <td>-8.517688</td>\n",
       "      <td>8.517688</td>\n",
       "    </tr>\n",
       "  </tbody>\n",
       "</table>\n",
       "</div>"
      ],
      "text/plain": [
       "           state      county  repub_percent_08  repub_percent_12      diff  \\\n",
       "83         Texas     Terrell         62.235067         64.504505 -2.269437   \n",
       "53    New Mexico        Eddy         62.210720         65.301780 -3.091060   \n",
       "70  South Dakota   Bon Homme         54.942234         59.531555 -4.589321   \n",
       "45      Missouri  Montgomery         58.538251         65.515299 -6.977048   \n",
       "44      Missouri        Iron         47.349343         55.867031 -8.517688   \n",
       "\n",
       "    abs_diff  \n",
       "83  2.269437  \n",
       "53  3.091060  \n",
       "70  4.589321  \n",
       "45  6.977048  \n",
       "44  8.517688  "
      ]
     },
     "metadata": {},
     "output_type": "display_data"
    }
   ],
   "source": [
    "# Compute the absolute value of the differences; ranks are based on absolute differences (ignores direction of change)\n",
    "repub_votes_small[\"abs_diff\"] = repub_votes_small[\"diff\"].abs()\n",
    "\n",
    "display(repub_votes_small)"
   ]
  },
  {
   "cell_type": "markdown",
   "id": "5c727436",
   "metadata": {},
   "source": [
    "### Wilcoxon-signed rank test (Steр 3)\n"
   ]
  },
  {
   "cell_type": "code",
   "execution_count": 315,
   "id": "21c2abc1",
   "metadata": {},
   "outputs": [
    {
     "data": {
      "application/vnd.microsoft.datawrangler.viewer.v0+json": {
       "columns": [
        {
         "name": "index",
         "rawType": "int64",
         "type": "integer"
        },
        {
         "name": "state",
         "rawType": "object",
         "type": "string"
        },
        {
         "name": "county",
         "rawType": "object",
         "type": "string"
        },
        {
         "name": "repub_percent_08",
         "rawType": "float64",
         "type": "float"
        },
        {
         "name": "repub_percent_12",
         "rawType": "float64",
         "type": "float"
        },
        {
         "name": "diff",
         "rawType": "float64",
         "type": "float"
        },
        {
         "name": "abs_diff",
         "rawType": "float64",
         "type": "float"
        },
        {
         "name": "rank_abs_diff",
         "rawType": "float64",
         "type": "float"
        }
       ],
       "ref": "ce9b62e5-00a9-4f2f-8a2a-e04d4b9d1ea2",
       "rows": [
        [
         "83",
         "Texas",
         "Terrell",
         "62.23506743737958",
         "64.5045045045045",
         "-2.269437067124919",
         "2.269437067124919",
         "1.0"
        ],
        [
         "53",
         "New Mexico",
         "Eddy",
         "62.21072015129647",
         "65.30178006123826",
         "-3.091059909941791",
         "3.091059909941791",
         "2.0"
        ],
        [
         "70",
         "South Dakota",
         "Bon Homme",
         "54.942233632862646",
         "59.53155497722836",
         "-4.589321344365715",
         "4.589321344365715",
         "3.0"
        ],
        [
         "45",
         "Missouri",
         "Montgomery",
         "58.53825136612022",
         "65.51529941805894",
         "-6.9770480519387235",
         "6.9770480519387235",
         "4.0"
        ],
        [
         "44",
         "Missouri",
         "Iron",
         "47.34934299954689",
         "55.86703051352022",
         "-8.517687513973328",
         "8.517687513973328",
         "5.0"
        ]
       ],
       "shape": {
        "columns": 7,
        "rows": 5
       }
      },
      "text/html": [
       "<div>\n",
       "<style scoped>\n",
       "    .dataframe tbody tr th:only-of-type {\n",
       "        vertical-align: middle;\n",
       "    }\n",
       "\n",
       "    .dataframe tbody tr th {\n",
       "        vertical-align: top;\n",
       "    }\n",
       "\n",
       "    .dataframe thead th {\n",
       "        text-align: right;\n",
       "    }\n",
       "</style>\n",
       "<table border=\"1\" class=\"dataframe\">\n",
       "  <thead>\n",
       "    <tr style=\"text-align: right;\">\n",
       "      <th></th>\n",
       "      <th>state</th>\n",
       "      <th>county</th>\n",
       "      <th>repub_percent_08</th>\n",
       "      <th>repub_percent_12</th>\n",
       "      <th>diff</th>\n",
       "      <th>abs_diff</th>\n",
       "      <th>rank_abs_diff</th>\n",
       "    </tr>\n",
       "  </thead>\n",
       "  <tbody>\n",
       "    <tr>\n",
       "      <th>83</th>\n",
       "      <td>Texas</td>\n",
       "      <td>Terrell</td>\n",
       "      <td>62.235067</td>\n",
       "      <td>64.504505</td>\n",
       "      <td>-2.269437</td>\n",
       "      <td>2.269437</td>\n",
       "      <td>1.0</td>\n",
       "    </tr>\n",
       "    <tr>\n",
       "      <th>53</th>\n",
       "      <td>New Mexico</td>\n",
       "      <td>Eddy</td>\n",
       "      <td>62.210720</td>\n",
       "      <td>65.301780</td>\n",
       "      <td>-3.091060</td>\n",
       "      <td>3.091060</td>\n",
       "      <td>2.0</td>\n",
       "    </tr>\n",
       "    <tr>\n",
       "      <th>70</th>\n",
       "      <td>South Dakota</td>\n",
       "      <td>Bon Homme</td>\n",
       "      <td>54.942234</td>\n",
       "      <td>59.531555</td>\n",
       "      <td>-4.589321</td>\n",
       "      <td>4.589321</td>\n",
       "      <td>3.0</td>\n",
       "    </tr>\n",
       "    <tr>\n",
       "      <th>45</th>\n",
       "      <td>Missouri</td>\n",
       "      <td>Montgomery</td>\n",
       "      <td>58.538251</td>\n",
       "      <td>65.515299</td>\n",
       "      <td>-6.977048</td>\n",
       "      <td>6.977048</td>\n",
       "      <td>4.0</td>\n",
       "    </tr>\n",
       "    <tr>\n",
       "      <th>44</th>\n",
       "      <td>Missouri</td>\n",
       "      <td>Iron</td>\n",
       "      <td>47.349343</td>\n",
       "      <td>55.867031</td>\n",
       "      <td>-8.517688</td>\n",
       "      <td>8.517688</td>\n",
       "      <td>5.0</td>\n",
       "    </tr>\n",
       "  </tbody>\n",
       "</table>\n",
       "</div>"
      ],
      "text/plain": [
       "           state      county  repub_percent_08  repub_percent_12      diff  \\\n",
       "83         Texas     Terrell         62.235067         64.504505 -2.269437   \n",
       "53    New Mexico        Eddy         62.210720         65.301780 -3.091060   \n",
       "70  South Dakota   Bon Homme         54.942234         59.531555 -4.589321   \n",
       "45      Missouri  Montgomery         58.538251         65.515299 -6.977048   \n",
       "44      Missouri        Iron         47.349343         55.867031 -8.517688   \n",
       "\n",
       "    abs_diff  rank_abs_diff  \n",
       "83  2.269437            1.0  \n",
       "53  3.091060            2.0  \n",
       "70  4.589321            3.0  \n",
       "45  6.977048            4.0  \n",
       "44  8.517688            5.0  "
      ]
     },
     "metadata": {},
     "output_type": "display_data"
    }
   ],
   "source": [
    "from scipy.stats import rankdata\n",
    "\n",
    "# Rank the absolute differences; ranks are assigned to the absolute values of differences (smallest = rank 1)\n",
    "repub_votes_small[\"rank_abs_diff\"] = rankdata(repub_votes_small[\"abs_diff\"])\n",
    "\n",
    "display(repub_votes_small)"
   ]
  },
  {
   "cell_type": "markdown",
   "id": "c097563f",
   "metadata": {},
   "source": [
    "### Wilcoxon-signed rank test (Steр 4)\n",
    "- Incorporate the sum of the ranks for negative and positive differences\n"
   ]
  },
  {
   "cell_type": "code",
   "execution_count": 316,
   "id": "13447284",
   "metadata": {},
   "outputs": [
    {
     "name": "stdout",
     "output_type": "stream",
     "text": [
      "0.0\n"
     ]
    }
   ],
   "source": [
    "# Calculate the sum of ranks for negative differences (T-); ranks of counties where 2008 > 2012\n",
    "T_minus = repub_votes_small.loc[repub_votes_small[\"diff\"] < 0, \"rank_abs_diff\"].sum()\n",
    "\n",
    "# Calculate the sum of ranks for positive differences (T+); ranks of counties where 2008 < 2012\n",
    "T_plus = repub_votes_small.loc[repub_votes_small[\"diff\"] > 0, \"rank_abs_diff\"].sum()\n",
    "\n",
    "# Wilcoxon test statistic (W): minimum of T- and T+; tests symmetry of differences around zero\n",
    "W = np.min([T_minus, T_plus])\n",
    "\n",
    "# Print the Wilcoxon test statistic (W); smaller value indicates stronger evidence against H0\n",
    "print(W)"
   ]
  },
  {
   "cell_type": "markdown",
   "id": "16699f69",
   "metadata": {},
   "source": [
    "### Implementation with `pingouin.wilcoxon()`"
   ]
  },
  {
   "cell_type": "code",
   "execution_count": 317,
   "id": "28bf7c07",
   "metadata": {},
   "outputs": [
    {
     "data": {
      "application/vnd.microsoft.datawrangler.viewer.v0+json": {
       "columns": [
        {
         "name": "index",
         "rawType": "object",
         "type": "string"
        },
        {
         "name": "W-val",
         "rawType": "float64",
         "type": "float"
        },
        {
         "name": "alternative",
         "rawType": "object",
         "type": "string"
        },
        {
         "name": "p-val",
         "rawType": "float64",
         "type": "float"
        },
        {
         "name": "RBC",
         "rawType": "float64",
         "type": "float"
        },
        {
         "name": "CLES",
         "rawType": "float64",
         "type": "float"
        }
       ],
       "ref": "b7204624-8538-4307-a530-56383f1c4f7b",
       "rows": [
        [
         "Wilcoxon",
         "0.0",
         "less",
         "0.03125",
         "-1.0",
         "0.8"
        ]
       ],
       "shape": {
        "columns": 5,
        "rows": 1
       }
      },
      "text/html": [
       "<div>\n",
       "<style scoped>\n",
       "    .dataframe tbody tr th:only-of-type {\n",
       "        vertical-align: middle;\n",
       "    }\n",
       "\n",
       "    .dataframe tbody tr th {\n",
       "        vertical-align: top;\n",
       "    }\n",
       "\n",
       "    .dataframe thead th {\n",
       "        text-align: right;\n",
       "    }\n",
       "</style>\n",
       "<table border=\"1\" class=\"dataframe\">\n",
       "  <thead>\n",
       "    <tr style=\"text-align: right;\">\n",
       "      <th></th>\n",
       "      <th>W-val</th>\n",
       "      <th>alternative</th>\n",
       "      <th>p-val</th>\n",
       "      <th>RBC</th>\n",
       "      <th>CLES</th>\n",
       "    </tr>\n",
       "  </thead>\n",
       "  <tbody>\n",
       "    <tr>\n",
       "      <th>Wilcoxon</th>\n",
       "      <td>0.0</td>\n",
       "      <td>less</td>\n",
       "      <td>0.03125</td>\n",
       "      <td>-1.0</td>\n",
       "      <td>0.8</td>\n",
       "    </tr>\n",
       "  </tbody>\n",
       "</table>\n",
       "</div>"
      ],
      "text/plain": [
       "          W-val alternative    p-val  RBC  CLES\n",
       "Wilcoxon    0.0        less  0.03125 -1.0   0.8"
      ]
     },
     "execution_count": 317,
     "metadata": {},
     "output_type": "execute_result"
    }
   ],
   "source": [
    "# Set the significance level (alpha) for the hypothesis test; probability of Type I error (rejecting H0 when true)\n",
    "alpha = 0.01\n",
    "\n",
    "# Perform the Wilcoxon signed-rank test for paired samples\n",
    "# x, y: paired samples (2008 and 2012 Republican vote percentages)\n",
    "# alternative=\"less\": tests if the median of x is less than the median of y (one-tailed test)\n",
    "pingouin.wilcoxon(\n",
    "    x=repub_votes_small[\"repub_percent_08\"],\n",
    "    y=repub_votes_small[\"repub_percent_12\"],\n",
    "    alternative=\"less\",\n",
    ")"
   ]
  },
  {
   "cell_type": "code",
   "execution_count": 318,
   "id": "904560d4",
   "metadata": {},
   "outputs": [
    {
     "data": {
      "application/vnd.microsoft.datawrangler.viewer.v0+json": {
       "columns": [
        {
         "name": "index",
         "rawType": "int64",
         "type": "integer"
        },
        {
         "name": "state",
         "rawType": "object",
         "type": "string"
        },
        {
         "name": "county",
         "rawType": "object",
         "type": "string"
        },
        {
         "name": "dem_percent_12",
         "rawType": "float64",
         "type": "float"
        },
        {
         "name": "dem_percent_16",
         "rawType": "float64",
         "type": "float"
        },
        {
         "name": "diff",
         "rawType": "float64",
         "type": "float"
        }
       ],
       "ref": "19eaa605-4143-4661-b538-f8ce28377090",
       "rows": [
        [
         "0",
         "Alabama",
         "Bullock",
         "76.30590003757986",
         "74.94692144373673",
         "1.3589785938431334"
        ],
        [
         "1",
         "Alabama",
         "Chilton",
         "19.453670828083837",
         "15.847351516141325",
         "3.606319311942512"
        ],
        [
         "2",
         "Alabama",
         "Clay",
         "26.673671570099067",
         "18.67451690821256",
         "7.999154661886507"
        ],
        [
         "3",
         "Alabama",
         "Cullman",
         "14.661752328989754",
         "10.028252316954031",
         "4.633500012035723"
        ],
        [
         "4",
         "Alabama",
         "Escambia",
         "36.91573071491022",
         "31.020545638262043",
         "5.8951850766481755"
        ],
        [
         "5",
         "Alabama",
         "Fayette",
         "22.866851245909892",
         "16.5110922536065",
         "6.355758992303393"
        ],
        [
         "6",
         "Alabama",
         "Franklin",
         "29.20158393958928",
         "18.24750830564784",
         "10.95407563394144"
        ],
        [
         "7",
         "Alabama",
         "Hale",
         "62.60557676732616",
         "59.39054726368159",
         "3.2150295036445726"
        ],
        [
         "8",
         "Alabama",
         "Lamar",
         "22.96957856544795",
         "14.872236577662933",
         "8.097341987785017"
        ],
        [
         "9",
         "Alabama",
         "Lauderdale",
         "33.883111255551945",
         "25.179000632511066",
         "8.70411062304088"
        ],
        [
         "10",
         "Alabama",
         "Monroe",
         "45.89092267463579",
         "42.177003212929606",
         "3.7139194617061833"
        ],
        [
         "11",
         "Alabama",
         "Pike",
         "42.78018005245623",
         "38.39611178614824",
         "4.384068266307992"
        ],
        [
         "12",
         "Alabama",
         "Shelby",
         "21.67511647767196",
         "22.692436842001303",
         "-1.0173203643293434"
        ],
        [
         "13",
         "Alabama",
         "Walker",
         "22.990077486764136",
         "15.258550488599349",
         "7.731526998164787"
        ],
        [
         "14",
         "Arizona",
         "Graham",
         "30.44285111767187",
         "16.25627893233527",
         "14.186572185336601"
        ],
        [
         "15",
         "Arkansas",
         "Baxter",
         "26.74388541289622",
         "21.091773752909035",
         "5.652111659987185"
        ],
        [
         "16",
         "Arkansas",
         "Benton",
         "28.560253353016137",
         "28.92361398000496",
         "-0.3633606269888219"
        ],
        [
         "17",
         "Arkansas",
         "Bradley",
         "39.67688937568455",
         "36.05255954010402",
         "3.6243298355805322"
        ],
        [
         "18",
         "Arkansas",
         "Craighead",
         "33.20820189274448",
         "29.623590925702075",
         "3.5846109670424084"
        ],
        [
         "19",
         "Arkansas",
         "Dallas",
         "43.35278858625162",
         "42.042583904727536",
         "1.310204681524084"
        ],
        [
         "20",
         "Arkansas",
         "Desha",
         "55.27149321266969",
         "52.337326755931414",
         "2.934166456738275"
        ],
        [
         "21",
         "Arkansas",
         "Faulkner",
         "32.85335262904004",
         "30.78039851032045",
         "2.07295411871959"
        ],
        [
         "22",
         "Arkansas",
         "Howard",
         "32.96727924697445",
         "28.904578519469403",
         "4.062700727505046"
        ],
        [
         "23",
         "Arkansas",
         "Logan",
         "27.404174055381258",
         "21.651306653200354",
         "5.752867402180904"
        ],
        [
         "24",
         "Arkansas",
         "Marion",
         "28.88951921713232",
         "20.17728999577881",
         "8.71222922135351"
        ],
        [
         "25",
         "Arkansas",
         "Newton",
         "27.123736683966133",
         "18.62509992006395",
         "8.498636763902184"
        ],
        [
         "26",
         "California",
         "Alameda",
         "78.85340523334486",
         "78.69001293052061",
         "0.1633923028242492"
        ],
        [
         "27",
         "California",
         "Calaveras",
         "39.79619939410631",
         "34.33609958506224",
         "5.460099809044067"
        ],
        [
         "28",
         "California",
         "Humboldt",
         "59.95649904297895",
         "56.03753839921682",
         "3.9189606437621265"
        ],
        [
         "29",
         "California",
         "Mariposa",
         "38.86666666666667",
         "35.16953925875859",
         "3.697127407908077"
        ],
        [
         "30",
         "California",
         "Merced",
         "53.18497510353385",
         "52.71581742926161",
         "0.469157674272239"
        ],
        [
         "31",
         "California",
         "Modoc",
         "27.87255393878575",
         "23.15205913410771",
         "4.72049480467804"
        ],
        [
         "32",
         "California",
         "Mono",
         "52.7504342790967",
         "52.558756633813495",
         "0.19167764528320674"
        ],
        [
         "33",
         "California",
         "Napa",
         "62.96517343069794",
         "63.87114645115036",
         "-0.9059730204524215"
        ],
        [
         "34",
         "California",
         "Placer",
         "39.00141254479868",
         "40.204223387789256",
         "-1.2028108429905728"
        ],
        [
         "35",
         "California",
         "Riverside",
         "49.71438585783199",
         "49.73376045228117",
         "-0.01937459444917522"
        ],
        [
         "36",
         "California",
         "Santa Barbara",
         "57.63470487386726",
         "60.60547780932879",
         "-2.9707729354615324"
        ],
        [
         "37",
         "California",
         "Santa Clara",
         "70.10174298816186",
         "72.71244221688227",
         "-2.6106992287204065"
        ],
        [
         "38",
         "California",
         "Stanislaus",
         "50.02542334699972",
         "47.4289266088088",
         "2.596496738190922"
        ],
        [
         "39",
         "California",
         "Tulare",
         "41.297725024727995",
         "42.36028272829241",
         "-1.0625577035644156"
        ],
        [
         "40",
         "Colorado",
         "Alamosa",
         "56.753536857781086",
         "45.957630782533506",
         "10.79590607524758"
        ],
        [
         "41",
         "Colorado",
         "Arapahoe",
         "53.90415948668375",
         "52.75931706737591",
         "1.1448424193078424"
        ],
        [
         "42",
         "Colorado",
         "Cheyenne",
         "15.736505032021958",
         "11.978221415607985",
         "3.758283616413973"
        ],
        [
         "43",
         "Colorado",
         "Elbert",
         "25.412611087600506",
         "19.61446989610715",
         "5.798141191493357"
        ],
        [
         "44",
         "Colorado",
         "Las Animas",
         "50.20402215097639",
         "39.0107463565435",
         "11.193275794432893"
        ],
        [
         "45",
         "Colorado",
         "Moffat",
         "21.562905317769133",
         "13.39463601532567",
         "8.168269302443463"
        ],
        [
         "46",
         "Colorado",
         "Morgan",
         "36.29952676997309",
         "26.346153846153847",
         "9.953372923819245"
        ],
        [
         "47",
         "Colorado",
         "Park",
         "41.2342515481529",
         "32.840549102428724",
         "8.393702445724173"
        ],
        [
         "48",
         "Colorado",
         "Phillips",
         "25.96026490066225",
         "18.69639794168096",
         "7.263866958981289"
        ],
        [
         "49",
         "Colorado",
         "Rio Blanco",
         "16.859602255862274",
         "12.63768115942029",
         "4.221921096441985"
        ]
       ],
       "shape": {
        "columns": 5,
        "rows": 500
       }
      },
      "text/html": [
       "<div>\n",
       "<style scoped>\n",
       "    .dataframe tbody tr th:only-of-type {\n",
       "        vertical-align: middle;\n",
       "    }\n",
       "\n",
       "    .dataframe tbody tr th {\n",
       "        vertical-align: top;\n",
       "    }\n",
       "\n",
       "    .dataframe thead th {\n",
       "        text-align: right;\n",
       "    }\n",
       "</style>\n",
       "<table border=\"1\" class=\"dataframe\">\n",
       "  <thead>\n",
       "    <tr style=\"text-align: right;\">\n",
       "      <th></th>\n",
       "      <th>state</th>\n",
       "      <th>county</th>\n",
       "      <th>dem_percent_12</th>\n",
       "      <th>dem_percent_16</th>\n",
       "      <th>diff</th>\n",
       "    </tr>\n",
       "  </thead>\n",
       "  <tbody>\n",
       "    <tr>\n",
       "      <th>0</th>\n",
       "      <td>Alabama</td>\n",
       "      <td>Bullock</td>\n",
       "      <td>76.305900</td>\n",
       "      <td>74.946921</td>\n",
       "      <td>1.358979</td>\n",
       "    </tr>\n",
       "    <tr>\n",
       "      <th>1</th>\n",
       "      <td>Alabama</td>\n",
       "      <td>Chilton</td>\n",
       "      <td>19.453671</td>\n",
       "      <td>15.847352</td>\n",
       "      <td>3.606319</td>\n",
       "    </tr>\n",
       "    <tr>\n",
       "      <th>2</th>\n",
       "      <td>Alabama</td>\n",
       "      <td>Clay</td>\n",
       "      <td>26.673672</td>\n",
       "      <td>18.674517</td>\n",
       "      <td>7.999155</td>\n",
       "    </tr>\n",
       "    <tr>\n",
       "      <th>3</th>\n",
       "      <td>Alabama</td>\n",
       "      <td>Cullman</td>\n",
       "      <td>14.661752</td>\n",
       "      <td>10.028252</td>\n",
       "      <td>4.633500</td>\n",
       "    </tr>\n",
       "    <tr>\n",
       "      <th>4</th>\n",
       "      <td>Alabama</td>\n",
       "      <td>Escambia</td>\n",
       "      <td>36.915731</td>\n",
       "      <td>31.020546</td>\n",
       "      <td>5.895185</td>\n",
       "    </tr>\n",
       "    <tr>\n",
       "      <th>...</th>\n",
       "      <td>...</td>\n",
       "      <td>...</td>\n",
       "      <td>...</td>\n",
       "      <td>...</td>\n",
       "      <td>...</td>\n",
       "    </tr>\n",
       "    <tr>\n",
       "      <th>495</th>\n",
       "      <td>Wyoming</td>\n",
       "      <td>Uinta</td>\n",
       "      <td>19.065464</td>\n",
       "      <td>14.191263</td>\n",
       "      <td>4.874201</td>\n",
       "    </tr>\n",
       "    <tr>\n",
       "      <th>496</th>\n",
       "      <td>Wyoming</td>\n",
       "      <td>Washakie</td>\n",
       "      <td>20.131846</td>\n",
       "      <td>13.948610</td>\n",
       "      <td>6.183235</td>\n",
       "    </tr>\n",
       "    <tr>\n",
       "      <th>497</th>\n",
       "      <td>Alaska</td>\n",
       "      <td>District 3</td>\n",
       "      <td>33.514582</td>\n",
       "      <td>16.301064</td>\n",
       "      <td>17.213518</td>\n",
       "    </tr>\n",
       "    <tr>\n",
       "      <th>498</th>\n",
       "      <td>Alaska</td>\n",
       "      <td>District 18</td>\n",
       "      <td>61.284271</td>\n",
       "      <td>52.810051</td>\n",
       "      <td>8.474220</td>\n",
       "    </tr>\n",
       "    <tr>\n",
       "      <th>499</th>\n",
       "      <td>Alaska</td>\n",
       "      <td>District 24</td>\n",
       "      <td>42.913980</td>\n",
       "      <td>39.405286</td>\n",
       "      <td>3.508694</td>\n",
       "    </tr>\n",
       "  </tbody>\n",
       "</table>\n",
       "<p>500 rows × 5 columns</p>\n",
       "</div>"
      ],
      "text/plain": [
       "       state       county  dem_percent_12  dem_percent_16       diff\n",
       "0    Alabama      Bullock       76.305900       74.946921   1.358979\n",
       "1    Alabama      Chilton       19.453671       15.847352   3.606319\n",
       "2    Alabama         Clay       26.673672       18.674517   7.999155\n",
       "3    Alabama      Cullman       14.661752       10.028252   4.633500\n",
       "4    Alabama     Escambia       36.915731       31.020546   5.895185\n",
       "..       ...          ...             ...             ...        ...\n",
       "495  Wyoming        Uinta       19.065464       14.191263   4.874201\n",
       "496  Wyoming     Washakie       20.131846       13.948610   6.183235\n",
       "497   Alaska   District 3       33.514582       16.301064  17.213518\n",
       "498   Alaska  District 18       61.284271       52.810051   8.474220\n",
       "499   Alaska  District 24       42.913980       39.405286   3.508694\n",
       "\n",
       "[500 rows x 5 columns]"
      ]
     },
     "execution_count": 318,
     "metadata": {},
     "output_type": "execute_result"
    }
   ],
   "source": [
    "sample_dem_data"
   ]
  },
  {
   "cell_type": "code",
   "execution_count": 319,
   "id": "81d2a75d",
   "metadata": {},
   "outputs": [
    {
     "data": {
      "application/vnd.microsoft.datawrangler.viewer.v0+json": {
       "columns": [
        {
         "name": "index",
         "rawType": "int64",
         "type": "integer"
        },
        {
         "name": "state",
         "rawType": "object",
         "type": "string"
        },
        {
         "name": "county",
         "rawType": "object",
         "type": "string"
        },
        {
         "name": "dem_percent_12",
         "rawType": "float64",
         "type": "float"
        },
        {
         "name": "dem_percent_16",
         "rawType": "float64",
         "type": "float"
        }
       ],
       "ref": "e2ddaae5-069f-437e-be6e-83d2426d233d",
       "rows": [
        [
         "0",
         "Alabama",
         "Bullock",
         "76.30590003757986",
         "74.94692144373673"
        ],
        [
         "1",
         "Alabama",
         "Chilton",
         "19.453670828083837",
         "15.847351516141325"
        ],
        [
         "2",
         "Alabama",
         "Clay",
         "26.673671570099067",
         "18.67451690821256"
        ],
        [
         "3",
         "Alabama",
         "Cullman",
         "14.661752328989754",
         "10.028252316954031"
        ],
        [
         "4",
         "Alabama",
         "Escambia",
         "36.91573071491022",
         "31.020545638262043"
        ]
       ],
       "shape": {
        "columns": 4,
        "rows": 5
       }
      },
      "text/html": [
       "<div>\n",
       "<style scoped>\n",
       "    .dataframe tbody tr th:only-of-type {\n",
       "        vertical-align: middle;\n",
       "    }\n",
       "\n",
       "    .dataframe tbody tr th {\n",
       "        vertical-align: top;\n",
       "    }\n",
       "\n",
       "    .dataframe thead th {\n",
       "        text-align: right;\n",
       "    }\n",
       "</style>\n",
       "<table border=\"1\" class=\"dataframe\">\n",
       "  <thead>\n",
       "    <tr style=\"text-align: right;\">\n",
       "      <th></th>\n",
       "      <th>state</th>\n",
       "      <th>county</th>\n",
       "      <th>dem_percent_12</th>\n",
       "      <th>dem_percent_16</th>\n",
       "    </tr>\n",
       "  </thead>\n",
       "  <tbody>\n",
       "    <tr>\n",
       "      <th>0</th>\n",
       "      <td>Alabama</td>\n",
       "      <td>Bullock</td>\n",
       "      <td>76.305900</td>\n",
       "      <td>74.946921</td>\n",
       "    </tr>\n",
       "    <tr>\n",
       "      <th>1</th>\n",
       "      <td>Alabama</td>\n",
       "      <td>Chilton</td>\n",
       "      <td>19.453671</td>\n",
       "      <td>15.847352</td>\n",
       "    </tr>\n",
       "    <tr>\n",
       "      <th>2</th>\n",
       "      <td>Alabama</td>\n",
       "      <td>Clay</td>\n",
       "      <td>26.673672</td>\n",
       "      <td>18.674517</td>\n",
       "    </tr>\n",
       "    <tr>\n",
       "      <th>3</th>\n",
       "      <td>Alabama</td>\n",
       "      <td>Cullman</td>\n",
       "      <td>14.661752</td>\n",
       "      <td>10.028252</td>\n",
       "    </tr>\n",
       "    <tr>\n",
       "      <th>4</th>\n",
       "      <td>Alabama</td>\n",
       "      <td>Escambia</td>\n",
       "      <td>36.915731</td>\n",
       "      <td>31.020546</td>\n",
       "    </tr>\n",
       "  </tbody>\n",
       "</table>\n",
       "</div>"
      ],
      "text/plain": [
       "     state    county  dem_percent_12  dem_percent_16\n",
       "0  Alabama   Bullock       76.305900       74.946921\n",
       "1  Alabama   Chilton       19.453671       15.847352\n",
       "2  Alabama      Clay       26.673672       18.674517\n",
       "3  Alabama   Cullman       14.661752       10.028252\n",
       "4  Alabama  Escambia       36.915731       31.020546"
      ]
     },
     "execution_count": 319,
     "metadata": {},
     "output_type": "execute_result"
    }
   ],
   "source": [
    "url = \"https://assets.datacamp.com/production/repositories/5982/datasets/4ab6431d773d1fe659ac120b4b49a1b525a76712/dem_votes_potus_12_16.feather\"\n",
    "sample_dem_data = pd.read_feather(url)\n",
    "sample_dem_data.head()"
   ]
  },
  {
   "cell_type": "code",
   "execution_count": 320,
   "id": "3b584218",
   "metadata": {},
   "outputs": [
    {
     "data": {
      "application/vnd.microsoft.datawrangler.viewer.v0+json": {
       "columns": [
        {
         "name": "index",
         "rawType": "object",
         "type": "string"
        },
        {
         "name": "T",
         "rawType": "float64",
         "type": "float"
        },
        {
         "name": "dof",
         "rawType": "int64",
         "type": "integer"
        },
        {
         "name": "alternative",
         "rawType": "object",
         "type": "string"
        },
        {
         "name": "p-val",
         "rawType": "float64",
         "type": "float"
        },
        {
         "name": "CI95%",
         "rawType": "object",
         "type": "unknown"
        },
        {
         "name": "cohen-d",
         "rawType": "float64",
         "type": "float"
        },
        {
         "name": "BF10",
         "rawType": "object",
         "type": "string"
        },
        {
         "name": "power",
         "rawType": "float64",
         "type": "float"
        }
       ],
       "ref": "6069564d-41fa-449f-a890-3b9e2985dca8",
       "rows": [
        [
         "T-test",
         "30.298384475151405",
         "499",
         "two-sided",
         "3.6006339790844295e-115",
         "[6.39 7.27]",
         "0.45420208123018846",
         "2.246e+111",
         "0.9999999999999999"
        ]
       ],
       "shape": {
        "columns": 8,
        "rows": 1
       }
      },
      "text/html": [
       "<div>\n",
       "<style scoped>\n",
       "    .dataframe tbody tr th:only-of-type {\n",
       "        vertical-align: middle;\n",
       "    }\n",
       "\n",
       "    .dataframe tbody tr th {\n",
       "        vertical-align: top;\n",
       "    }\n",
       "\n",
       "    .dataframe thead th {\n",
       "        text-align: right;\n",
       "    }\n",
       "</style>\n",
       "<table border=\"1\" class=\"dataframe\">\n",
       "  <thead>\n",
       "    <tr style=\"text-align: right;\">\n",
       "      <th></th>\n",
       "      <th>T</th>\n",
       "      <th>dof</th>\n",
       "      <th>alternative</th>\n",
       "      <th>p-val</th>\n",
       "      <th>CI95%</th>\n",
       "      <th>cohen-d</th>\n",
       "      <th>BF10</th>\n",
       "      <th>power</th>\n",
       "    </tr>\n",
       "  </thead>\n",
       "  <tbody>\n",
       "    <tr>\n",
       "      <th>T-test</th>\n",
       "      <td>30.298384</td>\n",
       "      <td>499</td>\n",
       "      <td>two-sided</td>\n",
       "      <td>3.600634e-115</td>\n",
       "      <td>[6.39, 7.27]</td>\n",
       "      <td>0.454202</td>\n",
       "      <td>2.246e+111</td>\n",
       "      <td>1.0</td>\n",
       "    </tr>\n",
       "  </tbody>\n",
       "</table>\n",
       "</div>"
      ],
      "text/plain": [
       "                T  dof alternative          p-val         CI95%   cohen-d  \\\n",
       "T-test  30.298384  499   two-sided  3.600634e-115  [6.39, 7.27]  0.454202   \n",
       "\n",
       "              BF10  power  \n",
       "T-test  2.246e+111    1.0  "
      ]
     },
     "metadata": {},
     "output_type": "display_data"
    }
   ],
   "source": [
    "# Perform a paired t-test to compare means of two related samples (2012 vs. 2016 Democratic vote percentages)\n",
    "paired_test_results = pingouin.ttest(\n",
    "    x=sample_dem_data[\"dem_percent_12\"],\n",
    "    y=sample_dem_data[\"dem_percent_16\"],\n",
    "    alternative=\"two-sided\",\n",
    "    paired=True,\n",
    ")\n",
    "\n",
    "# t-test results (includes t-statistic, p-value, and confidence intervals)\n",
    "display(paired_test_results)"
   ]
  },
  {
   "cell_type": "code",
   "execution_count": 321,
   "id": "8e9563e3",
   "metadata": {},
   "outputs": [
    {
     "data": {
      "application/vnd.microsoft.datawrangler.viewer.v0+json": {
       "columns": [
        {
         "name": "index",
         "rawType": "object",
         "type": "string"
        },
        {
         "name": "W-val",
         "rawType": "float64",
         "type": "float"
        },
        {
         "name": "alternative",
         "rawType": "object",
         "type": "string"
        },
        {
         "name": "p-val",
         "rawType": "float64",
         "type": "float"
        },
        {
         "name": "RBC",
         "rawType": "float64",
         "type": "float"
        },
        {
         "name": "CLES",
         "rawType": "float64",
         "type": "float"
        }
       ],
       "ref": "48d69963-ca2c-48e4-9f0a-8be1aecc459a",
       "rows": [
        [
         "Wilcoxon",
         "2401.0",
         "two-sided",
         "1.780395904650402e-77",
         "0.9616606786427147",
         "0.644816"
        ]
       ],
       "shape": {
        "columns": 5,
        "rows": 1
       }
      },
      "text/html": [
       "<div>\n",
       "<style scoped>\n",
       "    .dataframe tbody tr th:only-of-type {\n",
       "        vertical-align: middle;\n",
       "    }\n",
       "\n",
       "    .dataframe tbody tr th {\n",
       "        vertical-align: top;\n",
       "    }\n",
       "\n",
       "    .dataframe thead th {\n",
       "        text-align: right;\n",
       "    }\n",
       "</style>\n",
       "<table border=\"1\" class=\"dataframe\">\n",
       "  <thead>\n",
       "    <tr style=\"text-align: right;\">\n",
       "      <th></th>\n",
       "      <th>W-val</th>\n",
       "      <th>alternative</th>\n",
       "      <th>p-val</th>\n",
       "      <th>RBC</th>\n",
       "      <th>CLES</th>\n",
       "    </tr>\n",
       "  </thead>\n",
       "  <tbody>\n",
       "    <tr>\n",
       "      <th>Wilcoxon</th>\n",
       "      <td>2401.0</td>\n",
       "      <td>two-sided</td>\n",
       "      <td>1.780396e-77</td>\n",
       "      <td>0.961661</td>\n",
       "      <td>0.644816</td>\n",
       "    </tr>\n",
       "  </tbody>\n",
       "</table>\n",
       "</div>"
      ],
      "text/plain": [
       "           W-val alternative         p-val       RBC      CLES\n",
       "Wilcoxon  2401.0   two-sided  1.780396e-77  0.961661  0.644816"
      ]
     },
     "metadata": {},
     "output_type": "display_data"
    }
   ],
   "source": [
    "# Conduct a Wilcoxon test on dem_percent_12 and dem_percent_16\n",
    "wilcoxon_test_results = pingouin.wilcoxon(\n",
    "    x=sample_dem_data[\"dem_percent_12\"],\n",
    "    y=sample_dem_data[\"dem_percent_16\"],\n",
    "    alternative=\"two-sided\",\n",
    ")\n",
    "\n",
    "\n",
    "# Print Wilcoxon test results\n",
    "display(wilcoxon_test_results)"
   ]
  },
  {
   "cell_type": "markdown",
   "id": "5d9a2c94",
   "metadata": {},
   "source": [
    "## Non-Parametric Tests for Independent (Unpaired) Samples\n",
    "\n",
    "While the Wilcoxon signed-rank test is the appropriate non-parametric tool for *paired* data, we need different tests for comparing **independent groups**. These tests are essential when the assumptions of parametric tests are not met, such as when the data is not normally distributed or when sample sizes are small.\n",
    "\n",
    "### The Mann-Whitney U Test (Wilcoxon-Mann-Whitney)\n",
    "\n",
    "The **Mann-Whitney U test** (also known as the Wilcoxon-Mann-Whitney test) is the non-parametric alternative to the **independent two-sample t-test**. It is used to determine if there is a significant difference between the distributions of two independent groups.\n",
    "\n",
    "#### The Logic of the Test\n",
    "\n",
    "The test does not compare the means of the groups directly. Instead, it works with the **ranks** of the data:\n",
    "\n",
    "1.  All observations from both groups are combined into a single dataset.\n",
    "2.  These combined observations are ranked from smallest to largest.\n",
    "3.  The test then compares the sum of the ranks for each of the two groups.\n",
    "\n",
    "The null hypothesis ($H_0$) is that the two distributions are identical. If this is true, the ranks should be randomly mixed between the two groups, and their sum of ranks should be similar. A large difference in the sum of ranks provides evidence against the null hypothesis.\n",
    "\n",
    "#### Implementation in `pingouin`\n",
    "\n",
    "The `pingouin.mwu()` function performs this test. It requires the data for the two groups, `x` and `y`, to be provided as separate arrays or Series without missing values.\n",
    "\n",
    "```python\n",
    "import pandas as pd\n",
    "import numpy as np\n",
    "import pingouin\n",
    "\n",
    "# Create a generic, reproducible dataset with two independent groups\n",
    "# We will use a skewed distribution (log-normal) where a t-test might be inappropriate.\n",
    "np.random.seed(42)\n",
    "df_two_groups = pd.DataFrame({\n",
    "    'group': ['Group A'] * 40 + ['Group B'] * 50,\n",
    "    'value': np.concatenate([\n",
    "        np.random.lognormal(mean=3.0, sigma=0.5, size=40),\n",
    "        np.random.lognormal(mean=3.2, sigma=0.5, size=50)\n",
    "    ])\n",
    "})\n",
    "\n",
    "# Prepare the data for pingouin.mwu() by separating the groups\n",
    "group_a_values = df_two_groups[df_two_groups['group'] == 'Group A']['value']\n",
    "group_b_values = df_two_groups[df_two_groups['group'] == 'Group B']['value']\n",
    "\n",
    "# Perform the Mann-Whitney U test\n",
    "# HA: The distribution of Group B is greater than Group A\n",
    "mwu_results = pingouin.mwu(x=group_b_values, y=group_a_values, alternative='greater')\n",
    "\n",
    "print(mwu_results)\n",
    "```\n",
    "\n",
    "### The Kruskal-Wallis Test\n",
    "\n",
    "The relationship between the **Kruskal-Wallis test** and the Mann-Whitney U test is analogous to the relationship between ANOVA and the t-test. The Kruskal-Wallis test is the non-parametric alternative to the **one-way ANOVA**.\n",
    "\n",
    "#### The Logic of the Test\n",
    "\n",
    "It is an omnibus test used to determine if there are statistically significant differences between the distributions of **three or more independent groups**. Its logic is an extension of the Mann-Whitney U test: it pools all data, ranks it, and then compares the average rank for each group.\n",
    "\n",
    "  * **Null Hypothesis ($H_0$)**: The distributions of all groups are identical.\n",
    "  * **Alternative Hypothesis ($H_A$)**: At least one group's distribution is different from the others.\n",
    "\n",
    "### Implementation in `pingouin`\n",
    "\n",
    "The `pingouin.kruskal()` function performs this test, using a syntax similar to `pingouin.anova()`.\n",
    "\n",
    "```python\n",
    "# Create a dataset with three independent groups\n",
    "np.random.seed(42)\n",
    "df_three_groups = pd.DataFrame({\n",
    "    'group': ['Group A'] * 40 + ['Group B'] * 50 + ['Group C'] * 45,\n",
    "    'value': np.concatenate([\n",
    "        np.random.lognormal(mean=3.0, sigma=0.5, size=40),\n",
    "        np.random.lognormal(mean=3.2, sigma=0.5, size=50),\n",
    "        np.random.lognormal(mean=3.0, sigma=0.5, size=45) # A and C are similar\n",
    "    ])\n",
    "})\n",
    "\n",
    "# Perform the Kruskal-Wallis test \n",
    "kruskal_results = pingouin.kruskal(data=df_three_groups, dv='value', between='group')\n",
    "\n",
    "print(kruskal_results)\n",
    "\n",
    "# Interpretation \n",
    "alpha = 0.05\n",
    "p_value = kruskal_results['p-unc'].iloc[0]\n",
    "\n",
    "if p_value < alpha:\n",
    "    print(f\"Decision: Reject H0, because p-value ({p_value:.4f}) < alpha ({alpha}).\")\n",
    "    print(\"The evidence suggests at least one group has a different distribution.\")\n",
    "else:\n",
    "    print(f\"Decision: Fail to reject H0, because p-value ({p_value:.4f}) >= alpha ({alpha}).\")\n",
    "    print(\"There is not enough evidence to conclude the distributions are different.\")\n",
    "```\n",
    "\n",
    "A significant result from the Kruskal-Wallis test indicates that a difference exists somewhere among the groups. To determine which specific pairs of groups are different, one would then perform post-hoc tests (such as Dunn's test), which are the non-parametric equivalent of the pairwise t-tests that follow an ANOVA."
   ]
  },
  {
   "cell_type": "code",
   "execution_count": 322,
   "id": "67497c8c",
   "metadata": {},
   "outputs": [
    {
     "data": {
      "application/vnd.microsoft.datawrangler.viewer.v0+json": {
       "columns": [
        {
         "name": "index",
         "rawType": "int64",
         "type": "integer"
        },
        {
         "name": "adult",
         "rawType": "float64",
         "type": "float"
        },
        {
         "name": "child",
         "rawType": "float64",
         "type": "float"
        }
       ],
       "ref": "f94354ea-3aaa-4a31-bf5f-6c837df8060f",
       "rows": [
        [
         "0",
         "77556.0",
         null
        ],
        [
         "1",
         null,
         "74970.0"
        ],
        [
         "2",
         null,
         "594539.0"
        ],
        [
         "3",
         "2000000.0",
         null
        ],
        [
         "4",
         "37816.0",
         null
        ],
        [
         "5",
         "121980.0",
         null
        ],
        [
         "6",
         null,
         "48644.0"
        ],
        [
         "7",
         "130000.0",
         null
        ],
        [
         "8",
         null,
         "94539.0"
        ],
        [
         "9",
         "1920000.0",
         null
        ],
        [
         "10",
         "48644.0",
         null
        ],
        [
         "11",
         "54049.0",
         null
        ],
        [
         "12",
         null,
         "171000.0"
        ],
        [
         "13",
         "125000.0",
         null
        ],
        [
         "14",
         "85000.0",
         null
        ],
        [
         "15",
         null,
         "165000.0"
        ],
        [
         "16",
         "4188.0",
         null
        ],
        [
         "17",
         null,
         "130000.0"
        ],
        [
         "18",
         "23735.0",
         null
        ],
        [
         "19",
         null,
         "581667.0"
        ],
        [
         "20",
         "48950.0",
         null
        ],
        [
         "21",
         "137271.0",
         null
        ],
        [
         "22",
         "42804.0",
         null
        ],
        [
         "23",
         "67000.0",
         null
        ],
        [
         "24",
         "51888.0",
         null
        ],
        [
         "25",
         null,
         "200000.0"
        ],
        [
         "26",
         null,
         "151263.0"
        ],
        [
         "27",
         null,
         "110000.0"
        ],
        [
         "28",
         "38456.0",
         null
        ],
        [
         "29",
         null,
         "958584.0"
        ],
        [
         "30",
         "50000.0",
         null
        ],
        [
         "31",
         "150000.0",
         null
        ],
        [
         "32",
         null,
         "55000.0"
        ],
        [
         "33",
         null,
         "118000.0"
        ],
        [
         "34",
         "14544.0",
         null
        ],
        [
         "35",
         "38778.0",
         null
        ],
        [
         "36",
         null,
         "130000.0"
        ],
        [
         "37",
         "138936.0",
         null
        ],
        [
         "38",
         null,
         "83500.0"
        ],
        [
         "39",
         "70000.0",
         null
        ],
        [
         "40",
         null,
         "51887.0"
        ],
        [
         "41",
         "2328.0",
         null
        ],
        [
         "42",
         "34904.0",
         null
        ],
        [
         "43",
         null,
         "59454.0"
        ],
        [
         "44",
         null,
         "170000.0"
        ],
        [
         "45",
         null,
         "170000.0"
        ],
        [
         "46",
         "150000.0",
         null
        ],
        [
         "47",
         "85000.0",
         null
        ],
        [
         "48",
         "22701.0",
         null
        ],
        [
         "49",
         null,
         "168000.0"
        ]
       ],
       "shape": {
        "columns": 2,
        "rows": 2261
       }
      },
      "text/html": [
       "<div>\n",
       "<style scoped>\n",
       "    .dataframe tbody tr th:only-of-type {\n",
       "        vertical-align: middle;\n",
       "    }\n",
       "\n",
       "    .dataframe tbody tr th {\n",
       "        vertical-align: top;\n",
       "    }\n",
       "\n",
       "    .dataframe thead th {\n",
       "        text-align: right;\n",
       "    }\n",
       "</style>\n",
       "<table border=\"1\" class=\"dataframe\">\n",
       "  <thead>\n",
       "    <tr style=\"text-align: right;\">\n",
       "      <th>age_first_code_cut</th>\n",
       "      <th>adult</th>\n",
       "      <th>child</th>\n",
       "    </tr>\n",
       "  </thead>\n",
       "  <tbody>\n",
       "    <tr>\n",
       "      <th>0</th>\n",
       "      <td>77556.0</td>\n",
       "      <td>NaN</td>\n",
       "    </tr>\n",
       "    <tr>\n",
       "      <th>1</th>\n",
       "      <td>NaN</td>\n",
       "      <td>74970.0</td>\n",
       "    </tr>\n",
       "    <tr>\n",
       "      <th>2</th>\n",
       "      <td>NaN</td>\n",
       "      <td>594539.0</td>\n",
       "    </tr>\n",
       "    <tr>\n",
       "      <th>3</th>\n",
       "      <td>2000000.0</td>\n",
       "      <td>NaN</td>\n",
       "    </tr>\n",
       "    <tr>\n",
       "      <th>4</th>\n",
       "      <td>37816.0</td>\n",
       "      <td>NaN</td>\n",
       "    </tr>\n",
       "    <tr>\n",
       "      <th>...</th>\n",
       "      <td>...</td>\n",
       "      <td>...</td>\n",
       "    </tr>\n",
       "    <tr>\n",
       "      <th>2256</th>\n",
       "      <td>NaN</td>\n",
       "      <td>145000.0</td>\n",
       "    </tr>\n",
       "    <tr>\n",
       "      <th>2257</th>\n",
       "      <td>NaN</td>\n",
       "      <td>33972.0</td>\n",
       "    </tr>\n",
       "    <tr>\n",
       "      <th>2258</th>\n",
       "      <td>NaN</td>\n",
       "      <td>97284.0</td>\n",
       "    </tr>\n",
       "    <tr>\n",
       "      <th>2259</th>\n",
       "      <td>NaN</td>\n",
       "      <td>72000.0</td>\n",
       "    </tr>\n",
       "    <tr>\n",
       "      <th>2260</th>\n",
       "      <td>NaN</td>\n",
       "      <td>180000.0</td>\n",
       "    </tr>\n",
       "  </tbody>\n",
       "</table>\n",
       "<p>2261 rows × 2 columns</p>\n",
       "</div>"
      ],
      "text/plain": [
       "age_first_code_cut      adult     child\n",
       "0                     77556.0       NaN\n",
       "1                         NaN   74970.0\n",
       "2                         NaN  594539.0\n",
       "3                   2000000.0       NaN\n",
       "4                     37816.0       NaN\n",
       "...                       ...       ...\n",
       "2256                      NaN  145000.0\n",
       "2257                      NaN   33972.0\n",
       "2258                      NaN   97284.0\n",
       "2259                      NaN   72000.0\n",
       "2260                      NaN  180000.0\n",
       "\n",
       "[2261 rows x 2 columns]"
      ]
     },
     "metadata": {},
     "output_type": "display_data"
    }
   ],
   "source": [
    "age_vs_comp = stack_overflow[[\"converted_comp\", \"age_first_code_cut\"]]\n",
    "age_vs_comp_wide = age_vs_comp.pivot(\n",
    "    columns=\"age_first_code_cut\", values=\"converted_comp\"\n",
    ")\n",
    "display(age_vs_comp_wide)"
   ]
  },
  {
   "cell_type": "markdown",
   "id": "04d2dbc1",
   "metadata": {},
   "source": [
    "### Wilcoxon-Mann-Whitney test\n",
    "We can avoid assumptions about normally distributed data by performing hypothesis tests on the ranks of a numeric input.\n",
    "The Wilcoxon-Mann-Whitney test is, very roughly speaking, a t-test on ranked data. \n",
    "\n",
    "\n",
    "$$U_1 = R_1 - \\frac{n_1(n_1 + 1)}{2}, \\quad \n",
    "U_2 = R_2 - \\frac{n_2(n_2 + 1)}{2}$$\n",
    "\n",
    "$$U = \\min(U_1, U_2)$$\n",
    "\n",
    "**Wilcoxon Rank-Sum:**\n",
    "$$W = \\min(W_1, W_2)$$\n",
    "where $W_1 = R_1$ and $W_2 = R_2$ (sum of ranks for samples 1 and 2).\n",
    "\n",
    "### Normal Approximation (No Ties)\n",
    "$$z = \\frac{U - \\mu_U}{\\sigma_U}$$\n",
    "with:\n",
    "$$\\mu_U = \\frac{n_1 n_2}{2}, \\quad \n",
    "\\sigma_U = \\sqrt{\\frac{n_1 n_2 (n_1 + n_2 + 1)}{12}}$$\n",
    "\n",
    "### Tie Correction\n",
    "With tied ranks, adjust $\\sigma_U$:\n",
    "$$\\sigma_U = \\sqrt{\\frac{n_1 n_2}{12} \\left( (n_1 + n_2 + 1) - \\frac{\\sum_{k=1}^{K} (t_k^3 - t_k)}{(n_1 + n_2)(n_1 + n_2 - 1)} \\right)}$$\n",
    "where $t_k$ = number of ties in the $k$-th group of tied ranks.\n"
   ]
  },
  {
   "cell_type": "code",
   "execution_count": 323,
   "id": "ce7c7074",
   "metadata": {},
   "outputs": [
    {
     "data": {
      "application/vnd.microsoft.datawrangler.viewer.v0+json": {
       "columns": [
        {
         "name": "index",
         "rawType": "object",
         "type": "string"
        },
        {
         "name": "U-val",
         "rawType": "float64",
         "type": "float"
        },
        {
         "name": "alternative",
         "rawType": "object",
         "type": "string"
        },
        {
         "name": "p-val",
         "rawType": "float64",
         "type": "float"
        },
        {
         "name": "RBC",
         "rawType": "float64",
         "type": "float"
        },
        {
         "name": "CLES",
         "rawType": "float64",
         "type": "float"
        }
       ],
       "ref": "12f6d7bd-a080-4615-801e-b44c86e259a2",
       "rows": [
        [
         "MWU",
         "744365.5",
         "greater",
         "1.9027232924005235e-19",
         "0.22251593088950206",
         "0.611257965444751"
        ]
       ],
       "shape": {
        "columns": 5,
        "rows": 1
       }
      },
      "text/html": [
       "<div>\n",
       "<style scoped>\n",
       "    .dataframe tbody tr th:only-of-type {\n",
       "        vertical-align: middle;\n",
       "    }\n",
       "\n",
       "    .dataframe tbody tr th {\n",
       "        vertical-align: top;\n",
       "    }\n",
       "\n",
       "    .dataframe thead th {\n",
       "        text-align: right;\n",
       "    }\n",
       "</style>\n",
       "<table border=\"1\" class=\"dataframe\">\n",
       "  <thead>\n",
       "    <tr style=\"text-align: right;\">\n",
       "      <th></th>\n",
       "      <th>U-val</th>\n",
       "      <th>alternative</th>\n",
       "      <th>p-val</th>\n",
       "      <th>RBC</th>\n",
       "      <th>CLES</th>\n",
       "    </tr>\n",
       "  </thead>\n",
       "  <tbody>\n",
       "    <tr>\n",
       "      <th>MWU</th>\n",
       "      <td>744365.5</td>\n",
       "      <td>greater</td>\n",
       "      <td>1.902723e-19</td>\n",
       "      <td>0.222516</td>\n",
       "      <td>0.611258</td>\n",
       "    </tr>\n",
       "  </tbody>\n",
       "</table>\n",
       "</div>"
      ],
      "text/plain": [
       "        U-val alternative         p-val       RBC      CLES\n",
       "MWU  744365.5     greater  1.902723e-19  0.222516  0.611258"
      ]
     },
     "execution_count": 323,
     "metadata": {},
     "output_type": "execute_result"
    }
   ],
   "source": [
    "alpha = 0.01\n",
    "\n",
    "pingouin.mwu(\n",
    "    x=age_vs_comp_wide[\"child\"], y=age_vs_comp_wide[\"adult\"], alternative=\"greater\"\n",
    ")"
   ]
  },
  {
   "cell_type": "markdown",
   "id": "37e03d8c",
   "metadata": {},
   "source": [
    "### Kruskal-Wallis test\n",
    "\n",
    "In the same way that ANOVA extends t-tests to more than two groups, the Kruskal-Wallis test extends the Wilcoxon-Mann-Whitney test to more than two groups. That is, the Kruskal-Wallis test is a non-parametric version of ANOVA."
   ]
  },
  {
   "cell_type": "code",
   "execution_count": 324,
   "id": "3e7ce64d",
   "metadata": {},
   "outputs": [
    {
     "data": {
      "application/vnd.microsoft.datawrangler.viewer.v0+json": {
       "columns": [
        {
         "name": "index",
         "rawType": "object",
         "type": "string"
        },
        {
         "name": "Source",
         "rawType": "object",
         "type": "string"
        },
        {
         "name": "ddof1",
         "rawType": "int64",
         "type": "integer"
        },
        {
         "name": "H",
         "rawType": "float64",
         "type": "float"
        },
        {
         "name": "p-unc",
         "rawType": "float64",
         "type": "float"
        }
       ],
       "ref": "66e79c97-e38b-4d2e-8a8d-72800a9c950f",
       "rows": [
        [
         "Kruskal",
         "job_sat",
         "4",
         "72.81493915023472",
         "5.772915423012869e-15"
        ]
       ],
       "shape": {
        "columns": 4,
        "rows": 1
       }
      },
      "text/html": [
       "<div>\n",
       "<style scoped>\n",
       "    .dataframe tbody tr th:only-of-type {\n",
       "        vertical-align: middle;\n",
       "    }\n",
       "\n",
       "    .dataframe tbody tr th {\n",
       "        vertical-align: top;\n",
       "    }\n",
       "\n",
       "    .dataframe thead th {\n",
       "        text-align: right;\n",
       "    }\n",
       "</style>\n",
       "<table border=\"1\" class=\"dataframe\">\n",
       "  <thead>\n",
       "    <tr style=\"text-align: right;\">\n",
       "      <th></th>\n",
       "      <th>Source</th>\n",
       "      <th>ddof1</th>\n",
       "      <th>H</th>\n",
       "      <th>p-unc</th>\n",
       "    </tr>\n",
       "  </thead>\n",
       "  <tbody>\n",
       "    <tr>\n",
       "      <th>Kruskal</th>\n",
       "      <td>job_sat</td>\n",
       "      <td>4</td>\n",
       "      <td>72.814939</td>\n",
       "      <td>5.772915e-15</td>\n",
       "    </tr>\n",
       "  </tbody>\n",
       "</table>\n",
       "</div>"
      ],
      "text/plain": [
       "          Source  ddof1          H         p-unc\n",
       "Kruskal  job_sat      4  72.814939  5.772915e-15"
      ]
     },
     "execution_count": 324,
     "metadata": {},
     "output_type": "execute_result"
    }
   ],
   "source": [
    "alpha = 0.01\n",
    "pingouin.kruskal(data=stack_overflow, dv=\"converted_comp\", between=\"job_sat\")"
   ]
  },
  {
   "cell_type": "code",
   "execution_count": 325,
   "id": "4c4b42f0",
   "metadata": {},
   "outputs": [
    {
     "data": {
      "application/vnd.microsoft.datawrangler.viewer.v0+json": {
       "columns": [
        {
         "name": "index",
         "rawType": "object",
         "type": "string"
        },
        {
         "name": "U-val",
         "rawType": "float64",
         "type": "float"
        },
        {
         "name": "alternative",
         "rawType": "object",
         "type": "string"
        },
        {
         "name": "p-val",
         "rawType": "float64",
         "type": "float"
        },
        {
         "name": "RBC",
         "rawType": "float64",
         "type": "float"
        },
        {
         "name": "CLES",
         "rawType": "float64",
         "type": "float"
        }
       ],
       "ref": "53780b97-981c-4672-a219-ee8888c7f07e",
       "rows": [
        [
         "MWU",
         "34518.0",
         "two-sided",
         "9.894115106915136e-06",
         "0.3487281678583988",
         "0.6743640839291994"
        ]
       ],
       "shape": {
        "columns": 5,
        "rows": 1
       }
      },
      "text/html": [
       "<div>\n",
       "<style scoped>\n",
       "    .dataframe tbody tr th:only-of-type {\n",
       "        vertical-align: middle;\n",
       "    }\n",
       "\n",
       "    .dataframe tbody tr th {\n",
       "        vertical-align: top;\n",
       "    }\n",
       "\n",
       "    .dataframe thead th {\n",
       "        text-align: right;\n",
       "    }\n",
       "</style>\n",
       "<table border=\"1\" class=\"dataframe\">\n",
       "  <thead>\n",
       "    <tr style=\"text-align: right;\">\n",
       "      <th></th>\n",
       "      <th>U-val</th>\n",
       "      <th>alternative</th>\n",
       "      <th>p-val</th>\n",
       "      <th>RBC</th>\n",
       "      <th>CLES</th>\n",
       "    </tr>\n",
       "  </thead>\n",
       "  <tbody>\n",
       "    <tr>\n",
       "      <th>MWU</th>\n",
       "      <td>34518.0</td>\n",
       "      <td>two-sided</td>\n",
       "      <td>0.00001</td>\n",
       "      <td>0.348728</td>\n",
       "      <td>0.674364</td>\n",
       "    </tr>\n",
       "  </tbody>\n",
       "</table>\n",
       "</div>"
      ],
      "text/plain": [
       "       U-val alternative    p-val       RBC      CLES\n",
       "MWU  34518.0   two-sided  0.00001  0.348728  0.674364"
      ]
     },
     "metadata": {},
     "output_type": "display_data"
    }
   ],
   "source": [
    "weight_vs_late = late_shipments[[\"weight_kilograms\", \"late\"]]\n",
    "\n",
    "# Reshape the data into a wide format with separate columns for \"Yes\" and \"No\" late shipments\n",
    "weight_vs_late_table = weight_vs_late.pivot(columns=\"late\", values=\"weight_kilograms\")\n",
    "\n",
    "# Null Hypothesis (H0): The distributions of weights are identical for late and non-late shipments\n",
    "wmw_test = pingouin.mwu(\n",
    "    x=weight_vs_late_table[\"Yes\"],\n",
    "    y=weight_vs_late_table[\"No\"],\n",
    "    alternative=\"two-sided\",\n",
    ")\n",
    "\n",
    "display(wmw_test)"
   ]
  },
  {
   "cell_type": "code",
   "execution_count": 326,
   "id": "2cb3ac72",
   "metadata": {},
   "outputs": [
    {
     "data": {
      "application/vnd.microsoft.datawrangler.viewer.v0+json": {
       "columns": [
        {
         "name": "index",
         "rawType": "object",
         "type": "string"
        },
        {
         "name": "Source",
         "rawType": "object",
         "type": "string"
        },
        {
         "name": "ddof1",
         "rawType": "int64",
         "type": "integer"
        },
        {
         "name": "H",
         "rawType": "float64",
         "type": "float"
        },
        {
         "name": "p-unc",
         "rawType": "float64",
         "type": "float"
        }
       ],
       "ref": "6858aec7-2ce5-4f6e-b70f-b70a49a65416",
       "rows": [
        [
         "Kruskal",
         "shipment_mode",
         "2",
         "124.60880582114282",
         "8.740607482526103e-28"
        ]
       ],
       "shape": {
        "columns": 4,
        "rows": 1
       }
      },
      "text/html": [
       "<div>\n",
       "<style scoped>\n",
       "    .dataframe tbody tr th:only-of-type {\n",
       "        vertical-align: middle;\n",
       "    }\n",
       "\n",
       "    .dataframe tbody tr th {\n",
       "        vertical-align: top;\n",
       "    }\n",
       "\n",
       "    .dataframe thead th {\n",
       "        text-align: right;\n",
       "    }\n",
       "</style>\n",
       "<table border=\"1\" class=\"dataframe\">\n",
       "  <thead>\n",
       "    <tr style=\"text-align: right;\">\n",
       "      <th></th>\n",
       "      <th>Source</th>\n",
       "      <th>ddof1</th>\n",
       "      <th>H</th>\n",
       "      <th>p-unc</th>\n",
       "    </tr>\n",
       "  </thead>\n",
       "  <tbody>\n",
       "    <tr>\n",
       "      <th>Kruskal</th>\n",
       "      <td>shipment_mode</td>\n",
       "      <td>2</td>\n",
       "      <td>124.608806</td>\n",
       "      <td>8.740607e-28</td>\n",
       "    </tr>\n",
       "  </tbody>\n",
       "</table>\n",
       "</div>"
      ],
      "text/plain": [
       "                Source  ddof1           H         p-unc\n",
       "Kruskal  shipment_mode      2  124.608806  8.740607e-28"
      ]
     },
     "metadata": {},
     "output_type": "display_data"
    }
   ],
   "source": [
    "# Perform a Kruskal-Wallis test: a non-parametric alternative to one-way ANOVA for comparing medians across groups\n",
    "kw_test = pingouin.kruskal(\n",
    "    data=late_shipments, dv=\"weight_kilograms\", between=\"shipment_mode\"\n",
    ")\n",
    "\n",
    "# Display the test results, including H-statistic, degrees of freedom, and p-value\n",
    "display(kw_test)"
   ]
  },
  {
   "cell_type": "code",
   "execution_count": null,
   "id": "7c64b761",
   "metadata": {},
   "outputs": [],
   "source": []
  }
 ],
 "metadata": {
  "kernelspec": {
   "display_name": "datacamp",
   "language": "python",
   "name": "python3"
  },
  "language_info": {
   "codemirror_mode": {
    "name": "ipython",
    "version": 3
   },
   "file_extension": ".py",
   "mimetype": "text/x-python",
   "name": "python",
   "nbconvert_exporter": "python",
   "pygments_lexer": "ipython3",
   "version": "3.12.7"
  }
 },
 "nbformat": 4,
 "nbformat_minor": 5
}
