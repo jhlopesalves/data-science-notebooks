{
 "cells": [
  {
   "cell_type": "markdown",
   "id": "9e7581a6",
   "metadata": {},
   "source": [
    "### The Goal of Experimental Design\n",
    "\n",
    "The purpose of a formal experiment is to move from informal observations to robust, quantifiable conclusions about cause and effect. It provides an objective and controlled way to test a specific hypothesis. Instead of a vague statement like \"X probably affected Y,\" a well-designed experiment combined with statistical analysis allows for a precise conclusion, such as:\n",
    "\n",
    "> \"The evidence indicates that X had a statistically significant effect on Y, with a 5% risk of a Type I error (a false positive).\"\n",
    "\n",
    "This level of rigor is essential in fields ranging from medical research and product analytics to marketing and government policy.\n",
    "\n",
    "#### Core Terminology\n",
    "\n",
    "  * **Subjects**: The entities on which the experiment is performed (e.g., users, patients, employees, plots of land).\n",
    "  * **Treatment Group**: The group of subjects that receives the specific change or intervention being tested.\n",
    "  * **Control Group**: The group of subjects that does not receive the treatment. This group serves as a baseline for comparison, showing what would have happened without the intervention.\n",
    "\n",
    "### The Critical Role of Random Assignment\n",
    "\n",
    "The validity of an experiment's conclusion rests almost entirely on how subjects are assigned to the treatment and control groups. The goal is to create two groups that are as similar as possible in every respect *before* the treatment is applied.\n",
    "\n",
    "#### The Flaw of Non-random Assignment\n",
    "\n",
    "A common but incorrect approach is to assign subjects non-randomly, for example, by splitting a list of users in half. This method is highly susceptible to **selection bias**. If there is any underlying order in the data (e.g., users are sorted by their sign-up date or activity level), the two groups will be systematically different from the start. Any observed difference in the outcome could be due to this pre-existing difference, not the treatment, making the experiment's results invalid.\n",
    "\n",
    "```python\n",
    "import pandas as pd\n",
    "import numpy as np\n",
    "\n",
    "# Create a generic dataset of 200 subjects, sorted by a baseline metric\n",
    "# This simulates a non-random ordering\n",
    "np.random.seed(42)\n",
    "subjects = pd.DataFrame({\n",
    "    'id': np.arange(200),\n",
    "    'baseline_metric': np.sort(np.random.normal(loc=100, scale=10, size=200))\n",
    "})\n",
    "\n",
    "# Non-random assignment by slicing the DataFrame\n",
    "group1_nonrandom = subjects.iloc[0:100]\n",
    "group2_nonrandom = subjects.iloc[100:]\n",
    "\n",
    "# Compare the baseline metric for the two groups\n",
    "print(\"Group 1 Mean:\", group1_nonrandom['baseline_metric'].mean())\n",
    "print(\"Group 2 Mean:\", group2_nonrandom['baseline_metric'].mean())\n",
    "```\n",
    "\n",
    "The means are significantly different *before* any treatment is applied. An experiment conducted on these groups would be fundamentally flawed.\n",
    "\n",
    "#### The Solution: Random Assignment\n",
    "\n",
    "**Random assignment** is the cornerstone of experimental design. By randomly assigning each subject to either the treatment or control group, we ensure that, on average, any pre-existing characteristics (both known and unknown) are distributed equally between the two groups. This isolates the treatment as the only systematic difference, allowing us to confidently attribute any observed change in the outcome to the treatment itself.\n",
    "\n",
    "In pandas, this can be achieved using the `.sample()` method.\n",
    "\n",
    "```python\n",
    "# Random assignment using .sample() \n",
    "# Randomly select 50% of subjects for Group 1\n",
    "group1_random = subjects.sample(frac=0.5, random_state=42)\n",
    "# The remaining subjects go into Group 2\n",
    "group2_random = subjects.drop(group1_random.index)\n",
    "\n",
    "# Compare the baseline metric for the two randomly assigned groups\n",
    "print(\"Group 1 Mean:\", group1_random['baseline_metric'].mean())\n",
    "print(\"Group 2 Mean:\", group2_random['baseline_metric'].mean())\n",
    "```\n",
    "\n",
    "With random assignment, the baseline means of the two groups are now nearly identical. This creates a fair and unbiased starting point for the experiment, ensuring that any significant difference observed after the treatment can be attributed to the treatment itself."
   ]
  },
  {
   "cell_type": "code",
   "execution_count": 1,
   "id": "d6abaccb",
   "metadata": {},
   "outputs": [],
   "source": [
    "import matplotlib.pyplot as plt\n",
    "import numpy as np\n",
    "import pandas as pd\n",
    "import seaborn as sns"
   ]
  },
  {
   "cell_type": "code",
   "execution_count": 2,
   "id": "2b376dd7",
   "metadata": {},
   "outputs": [],
   "source": [
    "url = \"https://raw.githubusercontent.com/jhlopesalves/data-science-practice-notebook/refs/heads/main/Python/statistics/experimental_design/data/weights.csv\"\n",
    "weights = pd.read_csv(url, usecols=lambda col: not col.startswith(\"Unnamed\"))"
   ]
  },
  {
   "cell_type": "code",
   "execution_count": 3,
   "id": "0ef6094a",
   "metadata": {},
   "outputs": [
    {
     "data": {
      "application/vnd.microsoft.datawrangler.viewer.v0+json": {
       "columns": [
        {
         "name": "index",
         "rawType": "object",
         "type": "string"
        },
        {
         "name": "weight",
         "rawType": "float64",
         "type": "float"
        },
        {
         "name": "weight",
         "rawType": "float64",
         "type": "float"
        }
       ],
       "ref": "a86f95f4-6bfe-4d1f-946c-ec4042f5f0aa",
       "rows": [
        [
         "count",
         "250.0",
         "250.0"
        ],
        [
         "mean",
         "58.821560000000005",
         "71.28748000000002"
        ],
        [
         "std",
         "4.503791214924435",
         "5.019957564101666"
        ],
        [
         "min",
         "39.07",
         "65.1"
        ],
        [
         "25%",
         "56.2",
         "67.49"
        ],
        [
         "50%",
         "59.39",
         "70.115"
        ],
        [
         "75%",
         "62.5275",
         "73.77000000000001"
        ],
        [
         "max",
         "65.1",
         "95.82"
        ]
       ],
       "shape": {
        "columns": 2,
        "rows": 8
       }
      },
      "text/html": [
       "<div>\n",
       "<style scoped>\n",
       "    .dataframe tbody tr th:only-of-type {\n",
       "        vertical-align: middle;\n",
       "    }\n",
       "\n",
       "    .dataframe tbody tr th {\n",
       "        vertical-align: top;\n",
       "    }\n",
       "\n",
       "    .dataframe thead th {\n",
       "        text-align: right;\n",
       "    }\n",
       "</style>\n",
       "<table border=\"1\" class=\"dataframe\">\n",
       "  <thead>\n",
       "    <tr style=\"text-align: right;\">\n",
       "      <th></th>\n",
       "      <th>weight</th>\n",
       "      <th>weight</th>\n",
       "    </tr>\n",
       "  </thead>\n",
       "  <tbody>\n",
       "    <tr>\n",
       "      <th>count</th>\n",
       "      <td>250.000000</td>\n",
       "      <td>250.000000</td>\n",
       "    </tr>\n",
       "    <tr>\n",
       "      <th>mean</th>\n",
       "      <td>58.821560</td>\n",
       "      <td>71.287480</td>\n",
       "    </tr>\n",
       "    <tr>\n",
       "      <th>std</th>\n",
       "      <td>4.503791</td>\n",
       "      <td>5.019958</td>\n",
       "    </tr>\n",
       "    <tr>\n",
       "      <th>min</th>\n",
       "      <td>39.070000</td>\n",
       "      <td>65.100000</td>\n",
       "    </tr>\n",
       "    <tr>\n",
       "      <th>25%</th>\n",
       "      <td>56.200000</td>\n",
       "      <td>67.490000</td>\n",
       "    </tr>\n",
       "    <tr>\n",
       "      <th>50%</th>\n",
       "      <td>59.390000</td>\n",
       "      <td>70.115000</td>\n",
       "    </tr>\n",
       "    <tr>\n",
       "      <th>75%</th>\n",
       "      <td>62.527500</td>\n",
       "      <td>73.770000</td>\n",
       "    </tr>\n",
       "    <tr>\n",
       "      <th>max</th>\n",
       "      <td>65.100000</td>\n",
       "      <td>95.820000</td>\n",
       "    </tr>\n",
       "  </tbody>\n",
       "</table>\n",
       "</div>"
      ],
      "text/plain": [
       "           weight      weight\n",
       "count  250.000000  250.000000\n",
       "mean    58.821560   71.287480\n",
       "std      4.503791    5.019958\n",
       "min     39.070000   65.100000\n",
       "25%     56.200000   67.490000\n",
       "50%     59.390000   70.115000\n",
       "75%     62.527500   73.770000\n",
       "max     65.100000   95.820000"
      ]
     },
     "metadata": {},
     "output_type": "display_data"
    }
   ],
   "source": [
    "# Select the first 250 rows for group 1 (non-random assignment)\n",
    "group1_non_rand = weights.iloc[0:250]\n",
    "\n",
    "# Select the remaining rows for group 2 (non-random assignment)\n",
    "group2_non_rand = weights.iloc[250:]\n",
    "\n",
    "# Concatenate descriptive statistics of both groups for comparison\n",
    "compare_df_non_rand = pd.concat(\n",
    "    [group1_non_rand[\"weight\"].describe(), group2_non_rand[\"weight\"].describe()], axis=1\n",
    ")\n",
    "\n",
    "display(compare_df_non_rand)"
   ]
  },
  {
   "cell_type": "code",
   "execution_count": 4,
   "id": "5a94fe70",
   "metadata": {},
   "outputs": [
    {
     "data": {
      "application/vnd.microsoft.datawrangler.viewer.v0+json": {
       "columns": [
        {
         "name": "index",
         "rawType": "object",
         "type": "string"
        },
        {
         "name": "group1",
         "rawType": "float64",
         "type": "float"
        },
        {
         "name": "group2",
         "rawType": "float64",
         "type": "float"
        }
       ],
       "ref": "d9ef0432-d1f2-4114-b528-a62099e08f72",
       "rows": [
        [
         "count",
         "250.0",
         "250.0"
        ],
        [
         "mean",
         "64.49996",
         "65.60908"
        ],
        [
         "std",
         "8.073024569590062",
         "7.596345636007273"
        ],
        [
         "min",
         "39.07",
         "44.04"
        ],
        [
         "25%",
         "58.66",
         "60.3125"
        ],
        [
         "50%",
         "64.62",
         "65.54"
        ],
        [
         "75%",
         "69.95750000000001",
         "70.4425"
        ],
        [
         "max",
         "86.76",
         "95.82"
        ]
       ],
       "shape": {
        "columns": 2,
        "rows": 8
       }
      },
      "text/html": [
       "<div>\n",
       "<style scoped>\n",
       "    .dataframe tbody tr th:only-of-type {\n",
       "        vertical-align: middle;\n",
       "    }\n",
       "\n",
       "    .dataframe tbody tr th {\n",
       "        vertical-align: top;\n",
       "    }\n",
       "\n",
       "    .dataframe thead th {\n",
       "        text-align: right;\n",
       "    }\n",
       "</style>\n",
       "<table border=\"1\" class=\"dataframe\">\n",
       "  <thead>\n",
       "    <tr style=\"text-align: right;\">\n",
       "      <th></th>\n",
       "      <th>group1</th>\n",
       "      <th>group2</th>\n",
       "    </tr>\n",
       "  </thead>\n",
       "  <tbody>\n",
       "    <tr>\n",
       "      <th>count</th>\n",
       "      <td>250.000000</td>\n",
       "      <td>250.000000</td>\n",
       "    </tr>\n",
       "    <tr>\n",
       "      <th>mean</th>\n",
       "      <td>64.499960</td>\n",
       "      <td>65.609080</td>\n",
       "    </tr>\n",
       "    <tr>\n",
       "      <th>std</th>\n",
       "      <td>8.073025</td>\n",
       "      <td>7.596346</td>\n",
       "    </tr>\n",
       "    <tr>\n",
       "      <th>min</th>\n",
       "      <td>39.070000</td>\n",
       "      <td>44.040000</td>\n",
       "    </tr>\n",
       "    <tr>\n",
       "      <th>25%</th>\n",
       "      <td>58.660000</td>\n",
       "      <td>60.312500</td>\n",
       "    </tr>\n",
       "    <tr>\n",
       "      <th>50%</th>\n",
       "      <td>64.620000</td>\n",
       "      <td>65.540000</td>\n",
       "    </tr>\n",
       "    <tr>\n",
       "      <th>75%</th>\n",
       "      <td>69.957500</td>\n",
       "      <td>70.442500</td>\n",
       "    </tr>\n",
       "    <tr>\n",
       "      <th>max</th>\n",
       "      <td>86.760000</td>\n",
       "      <td>95.820000</td>\n",
       "    </tr>\n",
       "  </tbody>\n",
       "</table>\n",
       "</div>"
      ],
      "text/plain": [
       "           group1      group2\n",
       "count  250.000000  250.000000\n",
       "mean    64.499960   65.609080\n",
       "std      8.073025    7.596346\n",
       "min     39.070000   44.040000\n",
       "25%     58.660000   60.312500\n",
       "50%     64.620000   65.540000\n",
       "75%     69.957500   70.442500\n",
       "max     86.760000   95.820000"
      ]
     },
     "metadata": {},
     "output_type": "display_data"
    }
   ],
   "source": [
    "# Randomly sample 50% of the data without replacement for group 1\n",
    "group1_random = weights.sample(frac=0.5, random_state=42, replace=False)\n",
    "\n",
    "# Assign the remaining data to group 2 by dropping group 1 indices\n",
    "group2_random = weights.drop(group1_random.index)\n",
    "\n",
    "# Combine descriptive statistics of both groups into a single DataFrame for comparison\n",
    "compare_df_random = pd.concat(\n",
    "    [group1_random[\"weight\"].describe(), group2_random[\"weight\"].describe()], axis=1\n",
    ")\n",
    "\n",
    "# Rename columns to reflect group names for clarity\n",
    "compare_df_random.columns = [\"group1\", \"group2\"]\n",
    "\n",
    "display(compare_df_random)"
   ]
  },
  {
   "cell_type": "markdown",
   "id": "e5a00787",
   "metadata": {},
   "source": [
    "While simple randomization is the foundation of experimental design, it can sometimes result in imbalances between groups by pure chance. Advanced techniques like **block randomization** ensure equal group sizes, while **stratified randomization** ensures that key baseline characteristics (**covariates**) are evenly distributed between the treatment and control groups, which helps to isolate the treatment's true effect.\n",
    "\n",
    "## The Limitations of Simple Randomization\n",
    "\n",
    "Simple random assignment is a powerful tool, but it is not without potential issues, especially in smaller experiments:\n",
    "\n",
    "1.  **Uneven Group Sizes**: When using a method like `df.sample(frac=0.5)`, random chance might lead to slightly different numbers of subjects in the treatment and control groups.\n",
    "2.  **Covariate Imbalance**: A more critical issue is the potential for an imbalance in **covariates**. A covariate is a baseline variable (like age, location, or user status) that could also influence the outcome of the experiment. If, by chance, one group ends up with a higher proportion of a key covariate, this can become a **confounding variable**, making it difficult to distinguish between the effect of the treatment and the effect of the pre-existing group imbalance.\n",
    "\n",
    "### Advanced Randomization Techniques\n",
    "\n",
    "To mitigate these issues, more sophisticated randomization techniques are often employed.\n",
    "\n",
    "#### Block Randomization\n",
    "\n",
    "**Block randomization** is a procedure used to ensure that the number of subjects in the treatment and control groups remains equal or very close throughout the subject recruitment process.\n",
    "\n",
    "  * **Purpose**: To prevent imbalances in group sizes.\n",
    "  * **How it works**: Subjects are divided into \"blocks\" of a pre-determined size (e.g., blocks of 4). Within each block, a random half of the subjects are assigned to the treatment group and the other half to the control group. This process is repeated for each new block of subjects.\n",
    "\n",
    "#### Stratified Randomization\n",
    "\n",
    "**Stratified randomization** is a technique used to control for potential confounding variables by ensuring that key baseline characteristics are perfectly balanced across the experimental groups.\n",
    "\n",
    "  * **Purpose**: To eliminate the influence of important covariates.\n",
    "  * **How it works**:\n",
    "    1.  First, the population is divided into subgroups, or **strata**, based on the covariate(s) of interest (e.g., one stratum for \"power users\" and another for \"not power users\").\n",
    "    2.  Then, within **each stratum**, a separate simple randomization is performed to assign subjects to the treatment and control groups.\n",
    "\n",
    "This two-step process guarantees that the proportion of subjects with that characteristic (e.g., the percentage of power users) is identical in both the treatment and control groups.\n",
    "\n",
    "#### A Complete Example: Simple vs. Stratified Randomization\n",
    "\n",
    "Let's demonstrate the value of stratified randomization with a complete example.\n",
    "\n",
    "**Scenario**: We want to test a new website feature (the treatment) to see if it increases `basket_size`. We know that `power_user` status is a strong predictor of `basket_size`, making it a potential confounding variable.\n",
    "\n",
    "```python\n",
    "import pandas as pd\n",
    "import numpy as np\n",
    "\n",
    "# 1. Create a generic, reproducible dataset\n",
    "np.random.seed(42)\n",
    "df = pd.DataFrame({\n",
    "    'user_id': np.arange(1000),\n",
    "    'power_user': np.random.choice([0, 1], 1000, p=[0.9, 0.1])\n",
    "})\n",
    "\n",
    "# 2. Simple Random Assignment \n",
    "# Assign 50% to Treatment ('T') and 50% to Control ('C')\n",
    "group_T_simple = df.sample(frac=0.5, random_state=42)\n",
    "group_C_simple = df.drop(group_T_simple.index)\n",
    "# Check the distribution of the 'power_user' covariate\n",
    "print(\"Control Group:\\n\", group_C_simple['power_user'].value_counts(normalize=True))\n",
    "print(\"Treatment Group:\\n\", group_T_simple['power_user'].value_counts(normalize=True))\n",
    "# Note: The proportions are close, but not identical, due to random chance.\n",
    "\n",
    "# 3. Stratified Random Assignment \n",
    "# Stratum 1: Not Power Users (power_user == 0)\n",
    "strata_0 = df[df['power_user'] == 0]\n",
    "strata_0_T = strata_0.sample(frac=0.5, random_state=42)\n",
    "strata_0_C = strata_0.drop(strata_0_T.index)\n",
    "\n",
    "# Stratum 2: Power Users (power_user == 1)\n",
    "strata_1 = df[df['power_user'] == 1]\n",
    "strata_1_T = strata_1.sample(frac=0.5, random_state=42)\n",
    "strata_1_C = strata_1.drop(strata_1_T.index)\n",
    "\n",
    "# Combine the stratified groups\n",
    "group_T_stratified = pd.concat([strata_0_T, strata_1_T])\n",
    "group_C_stratified = pd.concat([strata_0_C, strata_1_C])\n",
    "\n",
    "# Check the distribution of the 'power_user' covariate again\n",
    "print(\"Control Group:\\n\", group_C_stratified['power_user'].value_counts(normalize=True))\n",
    "print(\"Treatment Group:\\n\", group_T_stratified['power_user'].value_counts(normalize=True))\n",
    "```\n",
    "\n",
    "The output demonstrates that with simple randomization, the proportion of power users in the two groups is slightly different due to random chance. With **stratified randomization**, the proportion of power users is **exactly identical** in both the treatment and control groups. This removes the `power_user` status as a potential confounding variable, ensuring that any difference we observe in `basket_size` between the groups can be more confidently attributed to the treatment itself."
   ]
  },
  {
   "cell_type": "code",
   "execution_count": 5,
   "id": "97a04a25",
   "metadata": {},
   "outputs": [],
   "source": [
    "# Generate random basket sizes between 0 and 1000 for 1000 users\n",
    "basket_size = np.random.randint(low=0, high=1001, size=1000)\n",
    "\n",
    "# Generate base web time (2 to 30 seconds) for all users\n",
    "base_time = np.random.randint(low=2, high=30, size=1000)\n",
    "\n",
    "# Calculate the effect of basket size on web time (each $ adds ~0.08 seconds)\n",
    "size_effect = basket_size * 0.08\n",
    "\n",
    "# Add random noise (mean=0, std=15) to simulate variability in user behavior\n",
    "noise = np.random.normal(0, 15, 1000)\n",
    "\n",
    "# Combine base time, size effect, and noise to compute total web time\n",
    "web_time = base_time + size_effect + noise\n",
    "\n",
    "# Clip web time to ensure it stays within realistic bounds (2 to 120 seconds)\n",
    "web_time = np.clip(web_time, 2, 120).astype(int)\n",
    "\n",
    "# Create a DataFrame to store basket size and web time\n",
    "ecom = pd.DataFrame(data={\"basket_size\": basket_size, \"web_time\": web_time})\n",
    "\n",
    "# Mark users as power users (1) if their web time exceeds 40 seconds, else 0\n",
    "ecom[\"power_user\"] = (ecom[\"web_time\"] > 40).astype(int)"
   ]
  },
  {
   "cell_type": "code",
   "execution_count": 6,
   "id": "5c3929eb",
   "metadata": {},
   "outputs": [
    {
     "name": "stdout",
     "output_type": "stream",
     "text": [
      "500 500\n"
     ]
    }
   ],
   "source": [
    "# Randomly sample 50% of the data for group 1, ensuring reproducibility with random_state\n",
    "group1 = ecom.sample(frac=0.5, random_state=42, replace=False)\n",
    "\n",
    "# Assign group 1 to Block 1 for stratified analysis\n",
    "group1[\"Block\"] = 1\n",
    "\n",
    "# Assign the remaining data to group 2 by dropping group 1 indices\n",
    "group2 = ecom.drop(group1.index)\n",
    "\n",
    "# Assign group 2 to Block 2 for stratified analysis\n",
    "group2[\"Block\"] = 2\n",
    "\n",
    "print(len(group1), len(group2))"
   ]
  },
  {
   "cell_type": "code",
   "execution_count": 7,
   "id": "60d84ac8",
   "metadata": {},
   "outputs": [
    {
     "data": {
      "image/png": "[encoded data removed]",
      "text/plain": [
       "<Figure size 700x500 with 1 Axes>"
      ]
     },
     "metadata": {},
     "output_type": "display_data"
    }
   ],
   "source": [
    "fig, ax = plt.subplots(figsize=(7, 5))\n",
    "\n",
    "# Plot KDEs of web_time for each power_user group (0 vs 1)\n",
    "sns.kdeplot(\n",
    "    data=ecom,\n",
    "    x=\"web_time\",\n",
    "    hue=\"power_user\",\n",
    "    fill=True,\n",
    "    common_norm=False,\n",
    "    alpha=0.5,\n",
    "    ax=ax,\n",
    ")\n",
    "\n",
    "ax.set(\n",
    "    xlabel=\"Web time (seconds)\",\n",
    "    ylabel=\"Density\",\n",
    "    title=\"Distribution of web_time by power_user status\",\n",
    ")\n",
    "ax.grid(True, alpha=0.6, linewidth=0.6, color=\"grey\")\n",
    "ax.set_axisbelow(True)\n",
    "\n",
    "plt.tight_layout()\n",
    "plt.show()"
   ]
  },
  {
   "cell_type": "code",
   "execution_count": 8,
   "id": "33c0fe58",
   "metadata": {},
   "outputs": [],
   "source": [
    "# Filter rows where 'power_user' equals 1 and create a copy to avoid SettingWithCopyWarning\n",
    "strata_1 = ecom.loc[ecom[\"power_user\"] == 1].copy()\n",
    "\n",
    "# Assign Block 1 to all rows in the filtered DataFrame\n",
    "strata_1[\"Block\"] = 1\n",
    "\n",
    "# Randomly sample 50% of the rows for the treatment group (T), ensuring reproducibility\n",
    "strata_1_g1 = strata_1.sample(frac=0.5, replace=False, random_state=42).copy()\n",
    "strata_1_g1[\"T_C\"] = \"T\"  # Mark sampled rows as treatment group\n",
    "\n",
    "# Assign the remaining rows to the control group (C) by dropping treatment indices\n",
    "strata_1_g2 = strata_1.drop(strata_1_g1.index).copy()\n",
    "strata_1_g2[\"T_C\"] = \"C\"  # Mark remaining rows as control group"
   ]
  },
  {
   "cell_type": "code",
   "execution_count": 9,
   "id": "3289dd8b",
   "metadata": {},
   "outputs": [],
   "source": [
    "# Filter out rows from 'ecom' DataFrame where 'power_user' equals 1 to create strata_2\n",
    "strata_2 = ecom.drop(strata_1.index)\n",
    "\n",
    "# Assign Block 2 to all rows in the filtered DataFrame for stratified analysis\n",
    "strata_2[\"Block\"] = 2\n",
    "\n",
    "# Randomly sample 50% of the rows for the treatment group (T), ensuring reproducibility\n",
    "strata_2_g1 = strata_2.sample(frac=0.5, replace=False, random_state=42).copy()\n",
    "\n",
    "# Mark sampled rows as treatment group\n",
    "strata_2_g1[\"T_C\"] = \"T\"\n",
    "\n",
    "# Assign the remaining rows to the control group (C) by dropping treatment indices\n",
    "strata_2_g2 = strata_2.drop(strata_2_g1.index).copy()\n",
    "\n",
    "# Mark remaining rows as control group\n",
    "strata_2_g2[\"T_C\"] = \"C\""
   ]
  },
  {
   "cell_type": "code",
   "execution_count": 10,
   "id": "cd7c9414",
   "metadata": {},
   "outputs": [
    {
     "data": {
      "application/vnd.microsoft.datawrangler.viewer.v0+json": {
       "columns": [
        {
         "name": "('Block', 'T_C', 'power_user')",
         "rawType": "object",
         "type": "unknown"
        },
        {
         "name": "0",
         "rawType": "int64",
         "type": "integer"
        }
       ],
       "ref": "034aea8a-53b8-40f6-897c-741688426729",
       "rows": [
        [
         "(np.int64(1), 'C', np.int64(1))",
         "338"
        ],
        [
         "(np.int64(1), 'T', np.int64(1))",
         "338"
        ],
        [
         "(np.int64(2), 'C', np.int64(0))",
         "162"
        ],
        [
         "(np.int64(2), 'T', np.int64(0))",
         "162"
        ]
       ],
       "shape": {
        "columns": 1,
        "rows": 4
       }
      },
      "text/plain": [
       "Block  T_C  power_user\n",
       "1      C    1             338\n",
       "       T    1             338\n",
       "2      C    0             162\n",
       "       T    0             162\n",
       "dtype: int64"
      ]
     },
     "metadata": {},
     "output_type": "display_data"
    }
   ],
   "source": [
    "# Combine all stratified groups into a single DataFrame for analysis\n",
    "ecom_stratified = pd.concat([strata_1_g1, strata_1_g2, strata_2_g1, strata_2_g2])\n",
    "\n",
    "# Group by Block, Treatment/Control (T_C), and power_user, then count occurrences\n",
    "# This provides a summary of the distribution of users across strata and groups\n",
    "display(ecom_stratified.groupby([\"Block\", \"T_C\", \"power_user\"]).size())"
   ]
  },
  {
   "cell_type": "code",
   "execution_count": 11,
   "id": "de7e8807",
   "metadata": {},
   "outputs": [
    {
     "data": {
      "application/vnd.microsoft.datawrangler.viewer.v0+json": {
       "columns": [
        {
         "name": "index",
         "rawType": "int64",
         "type": "integer"
        },
        {
         "name": "subject_id",
         "rawType": "int64",
         "type": "integer"
        }
       ],
       "ref": "0962dc57-faf5-46b8-96d1-234aaa18052a",
       "rows": [
        [
         "0",
         "1"
        ],
        [
         "1",
         "2"
        ],
        [
         "2",
         "3"
        ],
        [
         "3",
         "4"
        ],
        [
         "4",
         "5"
        ]
       ],
       "shape": {
        "columns": 1,
        "rows": 5
       }
      },
      "text/html": [
       "<div>\n",
       "<style scoped>\n",
       "    .dataframe tbody tr th:only-of-type {\n",
       "        vertical-align: middle;\n",
       "    }\n",
       "\n",
       "    .dataframe tbody tr th {\n",
       "        vertical-align: top;\n",
       "    }\n",
       "\n",
       "    .dataframe thead th {\n",
       "        text-align: right;\n",
       "    }\n",
       "</style>\n",
       "<table border=\"1\" class=\"dataframe\">\n",
       "  <thead>\n",
       "    <tr style=\"text-align: right;\">\n",
       "      <th></th>\n",
       "      <th>subject_id</th>\n",
       "    </tr>\n",
       "  </thead>\n",
       "  <tbody>\n",
       "    <tr>\n",
       "      <th>0</th>\n",
       "      <td>1</td>\n",
       "    </tr>\n",
       "    <tr>\n",
       "      <th>1</th>\n",
       "      <td>2</td>\n",
       "    </tr>\n",
       "    <tr>\n",
       "      <th>2</th>\n",
       "      <td>3</td>\n",
       "    </tr>\n",
       "    <tr>\n",
       "      <th>3</th>\n",
       "      <td>4</td>\n",
       "    </tr>\n",
       "    <tr>\n",
       "      <th>4</th>\n",
       "      <td>5</td>\n",
       "    </tr>\n",
       "  </tbody>\n",
       "</table>\n",
       "</div>"
      ],
      "text/plain": [
       "   subject_id\n",
       "0           1\n",
       "1           2\n",
       "2           3\n",
       "3           4\n",
       "4           5"
      ]
     },
     "execution_count": 11,
     "metadata": {},
     "output_type": "execute_result"
    }
   ],
   "source": [
    "url = \"https://raw.githubusercontent.com/jhlopesalves/data-science-practice-notebook/refs/heads/main/Python/statistics/experimental_design/data/productivity_subjects.csv\"\n",
    "productivity_subjects = pd.read_csv(\n",
    "    url, usecols=lambda col: not col.startswith(\"Unnamed\")\n",
    ")\n",
    "productivity_subjects.head()"
   ]
  },
  {
   "cell_type": "markdown",
   "id": "7b96031c",
   "metadata": {},
   "source": [
    "### Blocking experimental data\n",
    "You are working with a manufacturing firm that wants to conduct some experiments on worker productivity. Their dataset only contains 100 rows, so it's important that experimental groups are balanced.\n",
    "\n",
    "This sounds like a great opportunity to use your knowledge of blocking to assist them. They have provided a `productivity_subjects` DataFrame. Split the provided dataset into two even groups of 50 entries each."
   ]
  },
  {
   "cell_type": "code",
   "execution_count": 12,
   "id": "1a245a06",
   "metadata": {},
   "outputs": [
    {
     "data": {
      "application/vnd.microsoft.datawrangler.viewer.v0+json": {
       "columns": [
        {
         "name": "block",
         "rawType": "int64",
         "type": "integer"
        },
        {
         "name": "count",
         "rawType": "int64",
         "type": "integer"
        }
       ],
       "ref": "d0b38466-5ec2-4721-82f4-d2d9d49216ed",
       "rows": [
        [
         "1",
         "50"
        ],
        [
         "2",
         "50"
        ]
       ],
       "shape": {
        "columns": 1,
        "rows": 2
       }
      },
      "text/plain": [
       "block\n",
       "1    50\n",
       "2    50\n",
       "Name: count, dtype: int64"
      ]
     },
     "metadata": {},
     "output_type": "display_data"
    }
   ],
   "source": [
    "block_1 = productivity_subjects.sample(frac=0.5, random_state=42, replace=False)\n",
    "block_1[\"block\"] = 1\n",
    "\n",
    "block_2 = productivity_subjects.drop(block_1.index)\n",
    "block_2[\"block\"] = 2\n",
    "productivity_combined = pd.concat([block_1, block_2], axis=0)\n",
    "display(productivity_combined[\"block\"].value_counts())"
   ]
  },
  {
   "cell_type": "code",
   "execution_count": 13,
   "id": "3ca1cf0c",
   "metadata": {},
   "outputs": [],
   "source": [
    "url = \"https://raw.githubusercontent.com/jhlopesalves/data-science-practice-notebook/refs/heads/main/Python/statistics/experimental_design/data/wealth_data.csv\"\n",
    "wealth_data = pd.read_csv(url, usecols=lambda col: not col.startswith(\"Unnamed\"))"
   ]
  },
  {
   "cell_type": "code",
   "execution_count": 14,
   "id": "ee24c4ca",
   "metadata": {},
   "outputs": [],
   "source": [
    "# Create the first block (use .copy() and .loc to avoid SettingWithCopyWarning)\n",
    "strata_1 = wealth_data[wealth_data[\"high_wealth\"] == 1].copy()\n",
    "strata_1.loc[:, \"Block\"] = 1\n",
    "\n",
    "# Create two groups assigning to Treatment or Control\n",
    "strata_1_g1 = strata_1.sample(n=100, random_state=42, replace=False).copy()\n",
    "strata_1_g1.loc[:, \"T_C\"] = \"T\"\n",
    "\n",
    "strata_1_g2 = strata_1.drop(strata_1_g1.index).copy()\n",
    "strata_1_g2.loc[:, \"T_C\"] = \"C\""
   ]
  },
  {
   "cell_type": "code",
   "execution_count": 15,
   "id": "da24f927",
   "metadata": {},
   "outputs": [],
   "source": [
    "strata_2 = wealth_data[wealth_data[\"high_wealth\"] == 0].copy()\n",
    "strata_1.loc[:, \"Block\"] = 2\n",
    "\n",
    "strata_2_g1 = strata_2.sample(n=900, random_state=42, replace=False).copy()\n",
    "strata_2_g1.loc[:, \"T_C\"] = \"T\"\n",
    "\n",
    "strata_2_g2 = strata_2.drop(strata_2_g1.index).copy()\n",
    "strata_2_g2.loc[:, \"T_C\"] = \"C\""
   ]
  },
  {
   "cell_type": "code",
   "execution_count": 16,
   "id": "b79ca33c",
   "metadata": {},
   "outputs": [
    {
     "data": {
      "application/vnd.microsoft.datawrangler.viewer.v0+json": {
       "columns": [
        {
         "name": "('Block', 'T_C', 'high_wealth')",
         "rawType": "object",
         "type": "unknown"
        },
        {
         "name": "0",
         "rawType": "int64",
         "type": "integer"
        }
       ],
       "ref": "9009bdaf-8fd7-4119-a417-3370a43f4407",
       "rows": [
        [
         "(np.float64(1.0), 'C', np.int64(1))",
         "100"
        ],
        [
         "(np.float64(1.0), 'T', np.int64(1))",
         "100"
        ]
       ],
       "shape": {
        "columns": 1,
        "rows": 2
       }
      },
      "text/plain": [
       "Block  T_C  high_wealth\n",
       "1.0    C    1              100\n",
       "       T    1              100\n",
       "dtype: int64"
      ]
     },
     "metadata": {},
     "output_type": "display_data"
    }
   ],
   "source": [
    "# Concatenate the grouping work\n",
    "wealth_data_stratified = pd.concat([strata_1_g1, strata_1_g2, strata_2_g1, strata_2_g2])\n",
    "display(wealth_data_stratified.groupby([\"Block\", \"T_C\", \"high_wealth\"]).size())"
   ]
  },
  {
   "cell_type": "markdown",
   "id": "03754bf0",
   "metadata": {},
   "source": [
    "## The Normality Assumption\n",
    "\n",
    "Parametric tests are mathematically derived based on the assumption that the sample data follows a specific distribution, most commonly the **normal distribution**. The normal distribution is the familiar \"bell curve\" shape, defined by its mean ($\\mu$) and standard deviation ($\\sigma$).\n",
    "\n",
    "If this assumption is significantly violated, the p-values and confidence intervals produced by parametric tests may be unreliable. Therefore, it is a crucial step in your analysis to check if your data is consistent with this assumption. If it is not, non-parametric alternatives should be considered.\n",
    "\n",
    "### Visual Methods for Assessing Normality\n",
    "\n",
    "Before running a formal test, it is always best practice to visualize the distribution of your data.\n",
    "\n",
    "#### Histogram and Kernel Density Estimate (KDE)\n",
    "\n",
    "A simple histogram or a smoothed KDE plot provides a quick, qualitative sense of the data's distribution. If the plot is roughly symmetric and bell-shaped, the normality assumption may be reasonable.\n",
    "\n",
    "```python\n",
    "import pandas as pd\n",
    "import numpy as np\n",
    "import seaborn as sns\n",
    "import matplotlib.pyplot as plt\n",
    "\n",
    "# Create a sample of normally distributed data\n",
    "np.random.seed(42)\n",
    "normal_data = pd.DataFrame({'value': np.random.normal(loc=100, scale=10, size=100)})\n",
    "\n",
    "# Visualize with a KDE plot\n",
    "sns.displot(data=normal_data, x='value', kind=\"kde\")\n",
    "plt.title(\"KDE Plot of Normally Distributed Data\")\n",
    "plt.show()\n",
    "```\n",
    "\n",
    "#### Q-Q (Quantile-Quantile) Plot\n",
    "\n",
    "A Q-Q plot is a more rigorous visual tool. It compares the quantiles of your sample data against the theoretical quantiles of a perfect normal distribution.\n",
    "\n",
    "  * **What a \"Good\" Plot Looks Like**: If the data is normally distributed, the points on the Q-Q plot will fall closely along the straight diagonal reference line.\n",
    "  * **What a \"Bad\" Plot Looks Like**: Systematic deviations from the line, such as an S-shape or the points bowing out at the ends, indicate a departure from normality.\n",
    "\n",
    "```python\n",
    "from statsmodels.graphics.gofplots import qqplot\n",
    "\n",
    "# Create a Q-Q plot\n",
    "qqplot(normal_data['value'], line='s') # 's' for a standardized line\n",
    "plt.title(\"Q-Q Plot of Normally Distributed Data\")\n",
    "plt.show()\n",
    "```\n",
    "\n",
    "### Formal Hypothesis Tests for Normality\n",
    "\n",
    "While visual checks are essential, formal hypothesis tests provide a quantitative measure of how likely it is that the data was drawn from a normal population. For these tests, the hypotheses are:\n",
    "\n",
    "  * **Null Hypothesis ($H_0$)**: The sample data is drawn from a normally distributed population.\n",
    "  * **Alternative Hypothesis ($H_A$)**: The sample data is *not* drawn from a normally distributed population.\n",
    "\n",
    "Note that for these tests, we are often *hoping to fail to reject the null hypothesis*, as this would support our assumption of normality.\n",
    "\n",
    "#### Shapiro-Wilk Test\n",
    "\n",
    "The Shapiro-Wilk test is a powerful test for normality, particularly for smaller datasets.\n",
    "\n",
    "  * **Interpretation**: The function returns a test statistic and a p-value. If the **p-value is greater than** your chosen significance level (e.g., `p > 0.05`), you fail to reject $H_0$ and can assume the data is normal.\n",
    "\n",
    "#### Anderson-Darling Test\n",
    "\n",
    "The Anderson-Darling test is another powerful test that is particularly sensitive to deviations in the tails of the distribution.\n",
    "\n",
    "  * **Interpretation**: Its output is different. Instead of a p-value, it returns a test statistic and an array of critical values corresponding to different significance levels. If the **test statistic is less than** the critical value for your chosen significance level, you fail to reject $H_0$.\n",
    "\n",
    "\n",
    "### A Complete Example: Normal vs. Non-Normal Data\n",
    "\n",
    "Let's compare the diagnostic outputs for a normal dataset and a non-normal (exponential) dataset.\n",
    "\n",
    "```python\n",
    "from scipy.stats import shapiro, anderson\n",
    "\n",
    "# Create a non-normal (exponential) dataset for comparison\n",
    "non_normal_data = pd.DataFrame({'value': np.random.exponential(scale=10, size=100)})\n",
    "\n",
    "# 1. Shapiro-Wilk Test \n",
    "alpha = 0.05\n",
    "stat_norm, p_norm = shapiro(normal_data['value'])\n",
    "print(f\"Normal Data: p-value = {p_norm:.4f}\")\n",
    "if p_norm > alpha:\n",
    "    print(\"  -> Fail to reject H0: The data is likely normal.\\n\")\n",
    "else:\n",
    "    print(\"  -> Reject H0: The data is likely not normal.\\n\")\n",
    "\n",
    "stat_non_norm, p_non_norm = shapiro(non_normal_data['value'])\n",
    "print(f\"Non-Normal Data: p-value = {p_non_norm:.4f}\")\n",
    "if p_non_norm > alpha:\n",
    "    print(\"  -> Fail to reject H0: The data is likely normal.\")\n",
    "else:\n",
    "    print(\"  -> Reject H0: The data is likely not normal.\")\n",
    "\n",
    "\n",
    "# 2. Anderson-Darling Test \n",
    "result_norm = anderson(normal_data['value'], dist='norm')\n",
    "print(f\"Normal Data: Statistic = {result_norm.statistic:.4f}\")\n",
    "# Compare statistic to critical value at 5% significance\n",
    "if result_norm.statistic < result_norm.critical_values[2]:\n",
    "    print(f\"  -> Fail to reject H0 at 5% significance level.\\n\")\n",
    "else:\n",
    "    print(f\"  -> Reject H0 at 5% significance level.\\n\")\n",
    "\n",
    "result_non_norm = anderson(non_normal_data['value'], dist='norm')\n",
    "print(f\"Non-Normal Data: Statistic = {result_non_norm.statistic:.4f}\")\n",
    "if result_non_norm.statistic < result_non_norm.critical_values[2]:\n",
    "    print(f\"  -> Fail to reject H0 at 5% significance level.\")\n",
    "else:\n",
    "    print(f\"  -> Reject H0 at 5% significance level.\")\n",
    "```\n",
    "\n",
    "The tests correctly fail to reject the null hypothesis for the normal data and reject it for the non-normal data, demonstrating how to use these formal checks to validate the normality assumption."
   ]
  },
  {
   "cell_type": "code",
   "execution_count": 17,
   "id": "1a66b1e0",
   "metadata": {},
   "outputs": [
    {
     "data": {
      "application/vnd.microsoft.datawrangler.viewer.v0+json": {
       "columns": [
        {
         "name": "index",
         "rawType": "int64",
         "type": "integer"
        },
        {
         "name": "work_year",
         "rawType": "int64",
         "type": "integer"
        },
        {
         "name": "experience_level",
         "rawType": "object",
         "type": "string"
        },
        {
         "name": "employment_type",
         "rawType": "object",
         "type": "string"
        },
        {
         "name": "job_title",
         "rawType": "object",
         "type": "string"
        },
        {
         "name": "salary",
         "rawType": "int64",
         "type": "integer"
        },
        {
         "name": "salary_currency",
         "rawType": "object",
         "type": "string"
        },
        {
         "name": "salary_in_usd",
         "rawType": "int64",
         "type": "integer"
        },
        {
         "name": "employee_residence",
         "rawType": "object",
         "type": "string"
        },
        {
         "name": "remote_ratio",
         "rawType": "int64",
         "type": "integer"
        },
        {
         "name": "company_location",
         "rawType": "object",
         "type": "string"
        },
        {
         "name": "company_size",
         "rawType": "object",
         "type": "string"
        }
       ],
       "ref": "b94de030-3142-4ed1-91e1-3ef6ab63bfc3",
       "rows": [
        [
         "0",
         "2023",
         "SE",
         "FT",
         "Principal Data Scientist",
         "80000",
         "EUR",
         "85847",
         "ES",
         "100",
         "ES",
         "L"
        ],
        [
         "1",
         "2023",
         "MI",
         "CT",
         "ML Engineer",
         "30000",
         "USD",
         "30000",
         "US",
         "100",
         "US",
         "S"
        ],
        [
         "2",
         "2023",
         "MI",
         "CT",
         "ML Engineer",
         "25500",
         "USD",
         "25500",
         "US",
         "100",
         "US",
         "S"
        ],
        [
         "3",
         "2023",
         "SE",
         "FT",
         "Data Scientist",
         "175000",
         "USD",
         "175000",
         "CA",
         "100",
         "CA",
         "M"
        ],
        [
         "4",
         "2023",
         "SE",
         "FT",
         "Data Scientist",
         "120000",
         "USD",
         "120000",
         "CA",
         "100",
         "CA",
         "M"
        ]
       ],
       "shape": {
        "columns": 11,
        "rows": 5
       }
      },
      "text/html": [
       "<div>\n",
       "<style scoped>\n",
       "    .dataframe tbody tr th:only-of-type {\n",
       "        vertical-align: middle;\n",
       "    }\n",
       "\n",
       "    .dataframe tbody tr th {\n",
       "        vertical-align: top;\n",
       "    }\n",
       "\n",
       "    .dataframe thead th {\n",
       "        text-align: right;\n",
       "    }\n",
       "</style>\n",
       "<table border=\"1\" class=\"dataframe\">\n",
       "  <thead>\n",
       "    <tr style=\"text-align: right;\">\n",
       "      <th></th>\n",
       "      <th>work_year</th>\n",
       "      <th>experience_level</th>\n",
       "      <th>employment_type</th>\n",
       "      <th>job_title</th>\n",
       "      <th>salary</th>\n",
       "      <th>salary_currency</th>\n",
       "      <th>salary_in_usd</th>\n",
       "      <th>employee_residence</th>\n",
       "      <th>remote_ratio</th>\n",
       "      <th>company_location</th>\n",
       "      <th>company_size</th>\n",
       "    </tr>\n",
       "  </thead>\n",
       "  <tbody>\n",
       "    <tr>\n",
       "      <th>0</th>\n",
       "      <td>2023</td>\n",
       "      <td>SE</td>\n",
       "      <td>FT</td>\n",
       "      <td>Principal Data Scientist</td>\n",
       "      <td>80000</td>\n",
       "      <td>EUR</td>\n",
       "      <td>85847</td>\n",
       "      <td>ES</td>\n",
       "      <td>100</td>\n",
       "      <td>ES</td>\n",
       "      <td>L</td>\n",
       "    </tr>\n",
       "    <tr>\n",
       "      <th>1</th>\n",
       "      <td>2023</td>\n",
       "      <td>MI</td>\n",
       "      <td>CT</td>\n",
       "      <td>ML Engineer</td>\n",
       "      <td>30000</td>\n",
       "      <td>USD</td>\n",
       "      <td>30000</td>\n",
       "      <td>US</td>\n",
       "      <td>100</td>\n",
       "      <td>US</td>\n",
       "      <td>S</td>\n",
       "    </tr>\n",
       "    <tr>\n",
       "      <th>2</th>\n",
       "      <td>2023</td>\n",
       "      <td>MI</td>\n",
       "      <td>CT</td>\n",
       "      <td>ML Engineer</td>\n",
       "      <td>25500</td>\n",
       "      <td>USD</td>\n",
       "      <td>25500</td>\n",
       "      <td>US</td>\n",
       "      <td>100</td>\n",
       "      <td>US</td>\n",
       "      <td>S</td>\n",
       "    </tr>\n",
       "    <tr>\n",
       "      <th>3</th>\n",
       "      <td>2023</td>\n",
       "      <td>SE</td>\n",
       "      <td>FT</td>\n",
       "      <td>Data Scientist</td>\n",
       "      <td>175000</td>\n",
       "      <td>USD</td>\n",
       "      <td>175000</td>\n",
       "      <td>CA</td>\n",
       "      <td>100</td>\n",
       "      <td>CA</td>\n",
       "      <td>M</td>\n",
       "    </tr>\n",
       "    <tr>\n",
       "      <th>4</th>\n",
       "      <td>2023</td>\n",
       "      <td>SE</td>\n",
       "      <td>FT</td>\n",
       "      <td>Data Scientist</td>\n",
       "      <td>120000</td>\n",
       "      <td>USD</td>\n",
       "      <td>120000</td>\n",
       "      <td>CA</td>\n",
       "      <td>100</td>\n",
       "      <td>CA</td>\n",
       "      <td>M</td>\n",
       "    </tr>\n",
       "  </tbody>\n",
       "</table>\n",
       "</div>"
      ],
      "text/plain": [
       "   work_year experience_level employment_type                 job_title  \\\n",
       "0       2023               SE              FT  Principal Data Scientist   \n",
       "1       2023               MI              CT               ML Engineer   \n",
       "2       2023               MI              CT               ML Engineer   \n",
       "3       2023               SE              FT            Data Scientist   \n",
       "4       2023               SE              FT            Data Scientist   \n",
       "\n",
       "   salary salary_currency  salary_in_usd employee_residence  remote_ratio  \\\n",
       "0   80000             EUR          85847                 ES           100   \n",
       "1   30000             USD          30000                 US           100   \n",
       "2   25500             USD          25500                 US           100   \n",
       "3  175000             USD         175000                 CA           100   \n",
       "4  120000             USD         120000                 CA           100   \n",
       "\n",
       "  company_location company_size  \n",
       "0               ES            L  \n",
       "1               US            S  \n",
       "2               US            S  \n",
       "3               CA            M  \n",
       "4               CA            M  "
      ]
     },
     "execution_count": 17,
     "metadata": {},
     "output_type": "execute_result"
    }
   ],
   "source": [
    "url = \"https://raw.githubusercontent.com/jhlopesalves/data-science-practice-notebook/refs/heads/main/Python/statistics/experimental_design/data/salaries.csv\"\n",
    "salaries = pd.read_csv(url, usecols=lambda col: not col.startswith(\"Unnamed\"))\n",
    "salaries.head()"
   ]
  },
  {
   "cell_type": "code",
   "execution_count": 18,
   "id": "12e84ff7",
   "metadata": {},
   "outputs": [
    {
     "data": {
      "image/png": "[encoded data removed]",
      "text/plain": [
       "<Figure size 500x500 with 1 Axes>"
      ]
     },
     "metadata": {},
     "output_type": "display_data"
    }
   ],
   "source": [
    "# Create the KDE plot\n",
    "g = sns.displot(salaries, x=\"salary_in_usd\", kind=\"kde\")\n",
    "\n",
    "# Add a meaningful title\n",
    "g.fig.suptitle(\"Salary Distribution (KDE) — Reported Salaries\", fontsize=16, y=1.02)\n",
    "\n",
    "# Access the axes and customize\n",
    "for ax in g.axes.flat:\n",
    "    ax.set_xlabel(\"Salary\")\n",
    "    ax.set_ylabel(\"Density\")\n",
    "    ax.grid(True, alpha=0.6, linewidth=0.7, color=\"grey\")\n",
    "\n",
    "plt.tight_layout()\n",
    "plt.show()"
   ]
  },
  {
   "cell_type": "code",
   "execution_count": 19,
   "id": "5284fb89",
   "metadata": {},
   "outputs": [
    {
     "data": {
      "image/png": "[encoded data removed]",
      "text/plain": [
       "<Figure size 700x500 with 1 Axes>"
      ]
     },
     "metadata": {},
     "output_type": "display_data"
    }
   ],
   "source": [
    "from scipy.stats import probplot\n",
    "\n",
    "# Create Q-Q plot using seaborn style\n",
    "fig, ax = plt.subplots(figsize=(7, 5))\n",
    "probplot(salaries[\"salary_in_usd\"], dist=\"norm\", plot=ax)\n",
    "\n",
    "# Customize the plot with seaborn styling\n",
    "ax.set(\n",
    "    title=\"Q-Q Plot: Salary Distribution vs Normal Distribution\",\n",
    "    xlabel=\"Theoretical Quantiles\",\n",
    "    ylabel=\"Sample Quantiles\",\n",
    ")\n",
    "ax.grid(True, alpha=0.6, linewidth=0.6, color=\"grey\")\n",
    "\n",
    "plt.tight_layout()\n",
    "plt.show()"
   ]
  },
  {
   "cell_type": "code",
   "execution_count": 20,
   "id": "82c3c059",
   "metadata": {},
   "outputs": [
    {
     "name": "stdout",
     "output_type": "stream",
     "text": [
      "p: 5.132e-21 test stat: 0.9827\n"
     ]
    }
   ],
   "source": [
    "from scipy.stats import shapiro\n",
    "\n",
    "alpha = 0.05\n",
    "\n",
    "stat, p = shapiro(salaries[\"salary_in_usd\"])\n",
    "print(f\"p: {p:.3e} test stat: {round(stat, 4)}\")"
   ]
  },
  {
   "cell_type": "code",
   "execution_count": 21,
   "id": "1284351f",
   "metadata": {},
   "outputs": [
    {
     "name": "stdout",
     "output_type": "stream",
     "text": [
      "Anderson-Darling Test Results for Salary Distribution:\n",
      "==================================================\n",
      "Test Statistic: 7.8391\n",
      "Critical Values: [0.575 0.655 0.786 0.917 1.091]\n",
      "Significance Levels (%): [15.  10.   5.   2.5  1. ]\n",
      "Fit Success: True\n"
     ]
    }
   ],
   "source": [
    "from scipy.stats import anderson\n",
    "\n",
    "result = anderson(x=salaries[\"salary_in_usd\"], dist=\"norm\")\n",
    "\n",
    "print(\"Anderson-Darling Test Results for Salary Distribution:\")\n",
    "print(f\"{'='*50}\")\n",
    "print(f\"Test Statistic: {result.statistic:.4f}\")\n",
    "print(f\"Critical Values: {result.critical_values}\")\n",
    "print(f\"Significance Levels (%): {result.significance_level}\")\n",
    "print(f\"Fit Success: {result.fit_result.success}\")"
   ]
  },
  {
   "cell_type": "code",
   "execution_count": 22,
   "id": "a7e11746",
   "metadata": {},
   "outputs": [
    {
     "data": {
      "application/vnd.microsoft.datawrangler.viewer.v0+json": {
       "columns": [
        {
         "name": "index",
         "rawType": "object",
         "type": "string"
        },
        {
         "name": "W",
         "rawType": "float64",
         "type": "float"
        },
        {
         "name": "pval",
         "rawType": "float64",
         "type": "float"
        },
        {
         "name": "normal",
         "rawType": "bool",
         "type": "boolean"
        }
       ],
       "ref": "118604a4-000b-4558-b9ac-e6e109540854",
       "rows": [
        [
         "salary_in_usd",
         "216.57588437224328",
         "9.357164228943816e-48",
         "False"
        ]
       ],
       "shape": {
        "columns": 3,
        "rows": 1
       }
      },
      "text/html": [
       "<div>\n",
       "<style scoped>\n",
       "    .dataframe tbody tr th:only-of-type {\n",
       "        vertical-align: middle;\n",
       "    }\n",
       "\n",
       "    .dataframe tbody tr th {\n",
       "        vertical-align: top;\n",
       "    }\n",
       "\n",
       "    .dataframe thead th {\n",
       "        text-align: right;\n",
       "    }\n",
       "</style>\n",
       "<table border=\"1\" class=\"dataframe\">\n",
       "  <thead>\n",
       "    <tr style=\"text-align: right;\">\n",
       "      <th></th>\n",
       "      <th>W</th>\n",
       "      <th>pval</th>\n",
       "      <th>normal</th>\n",
       "    </tr>\n",
       "  </thead>\n",
       "  <tbody>\n",
       "    <tr>\n",
       "      <th>salary_in_usd</th>\n",
       "      <td>216.575884</td>\n",
       "      <td>9.357164e-48</td>\n",
       "      <td>False</td>\n",
       "    </tr>\n",
       "  </tbody>\n",
       "</table>\n",
       "</div>"
      ],
      "text/plain": [
       "                        W          pval  normal\n",
       "salary_in_usd  216.575884  9.357164e-48   False"
      ]
     },
     "metadata": {},
     "output_type": "display_data"
    }
   ],
   "source": [
    "from pingouin import normality\n",
    "\n",
    "# Anderson-Darling test using pingouin\n",
    "result_pg = normality(salaries[\"salary_in_usd\"], method=\"normaltest\")\n",
    "display(result_pg)"
   ]
  },
  {
   "cell_type": "code",
   "execution_count": 23,
   "id": "7314582b",
   "metadata": {},
   "outputs": [
    {
     "data": {
      "application/vnd.microsoft.datawrangler.viewer.v0+json": {
       "columns": [
        {
         "name": "index",
         "rawType": "int64",
         "type": "integer"
        },
        {
         "name": "weight",
         "rawType": "int64",
         "type": "integer"
        },
        {
         "name": "Time",
         "rawType": "int64",
         "type": "integer"
        },
        {
         "name": "Chick",
         "rawType": "int64",
         "type": "integer"
        },
        {
         "name": "Diet",
         "rawType": "int64",
         "type": "integer"
        }
       ],
       "ref": "6970d073-5590-45bc-aab7-5bf2b81f7b68",
       "rows": [
        [
         "0",
         "42",
         "0",
         "1",
         "1"
        ],
        [
         "1",
         "51",
         "2",
         "1",
         "1"
        ],
        [
         "2",
         "59",
         "4",
         "1",
         "1"
        ],
        [
         "3",
         "64",
         "6",
         "1",
         "1"
        ],
        [
         "4",
         "76",
         "8",
         "1",
         "1"
        ]
       ],
       "shape": {
        "columns": 4,
        "rows": 5
       }
      },
      "text/html": [
       "<div>\n",
       "<style scoped>\n",
       "    .dataframe tbody tr th:only-of-type {\n",
       "        vertical-align: middle;\n",
       "    }\n",
       "\n",
       "    .dataframe tbody tr th {\n",
       "        vertical-align: top;\n",
       "    }\n",
       "\n",
       "    .dataframe thead th {\n",
       "        text-align: right;\n",
       "    }\n",
       "</style>\n",
       "<table border=\"1\" class=\"dataframe\">\n",
       "  <thead>\n",
       "    <tr style=\"text-align: right;\">\n",
       "      <th></th>\n",
       "      <th>weight</th>\n",
       "      <th>Time</th>\n",
       "      <th>Chick</th>\n",
       "      <th>Diet</th>\n",
       "    </tr>\n",
       "  </thead>\n",
       "  <tbody>\n",
       "    <tr>\n",
       "      <th>0</th>\n",
       "      <td>42</td>\n",
       "      <td>0</td>\n",
       "      <td>1</td>\n",
       "      <td>1</td>\n",
       "    </tr>\n",
       "    <tr>\n",
       "      <th>1</th>\n",
       "      <td>51</td>\n",
       "      <td>2</td>\n",
       "      <td>1</td>\n",
       "      <td>1</td>\n",
       "    </tr>\n",
       "    <tr>\n",
       "      <th>2</th>\n",
       "      <td>59</td>\n",
       "      <td>4</td>\n",
       "      <td>1</td>\n",
       "      <td>1</td>\n",
       "    </tr>\n",
       "    <tr>\n",
       "      <th>3</th>\n",
       "      <td>64</td>\n",
       "      <td>6</td>\n",
       "      <td>1</td>\n",
       "      <td>1</td>\n",
       "    </tr>\n",
       "    <tr>\n",
       "      <th>4</th>\n",
       "      <td>76</td>\n",
       "      <td>8</td>\n",
       "      <td>1</td>\n",
       "      <td>1</td>\n",
       "    </tr>\n",
       "  </tbody>\n",
       "</table>\n",
       "</div>"
      ],
      "text/plain": [
       "   weight  Time  Chick  Diet\n",
       "0      42     0      1     1\n",
       "1      51     2      1     1\n",
       "2      59     4      1     1\n",
       "3      64     6      1     1\n",
       "4      76     8      1     1"
      ]
     },
     "execution_count": 23,
     "metadata": {},
     "output_type": "execute_result"
    }
   ],
   "source": [
    "url = \"https://assets.datacamp.com/production/repositories/6639/datasets/271cc99d1f93fbfb2c3762f6517c58b22eb390ce/chick_weight.csv\"\n",
    "chicken_data = pd.read_csv(url, usecols=lambda col: not col.startswith(\"Unnamed\"))\n",
    "chicken_data.head()"
   ]
  },
  {
   "cell_type": "code",
   "execution_count": 24,
   "id": "5bbae5e2",
   "metadata": {},
   "outputs": [
    {
     "name": "stdout",
     "output_type": "stream",
     "text": [
      "The weight column contains 212 unique values\n",
      "The Time column contains 12 unique values\n",
      "The Chick column contains 50 unique values\n",
      "The Diet column contains 4 unique values\n"
     ]
    }
   ],
   "source": [
    "columns = chicken_data.columns.to_list()\n",
    "for col in columns:\n",
    "    print(f\"The {col} column contains {len(chicken_data[col].unique())} unique values\")"
   ]
  },
  {
   "cell_type": "code",
   "execution_count": 25,
   "id": "80d87d11",
   "metadata": {},
   "outputs": [
    {
     "data": {
      "image/png": "[encoded data removed]",
      "text/plain": [
       "<Figure size 500x500 with 1 Axes>"
      ]
     },
     "metadata": {},
     "output_type": "display_data"
    }
   ],
   "source": [
    "# Plot the distribution of the chickens' weight\n",
    "sns.displot(data=chicken_data, x=\"weight\", kind=\"kde\")\n",
    "plt.show()"
   ]
  },
  {
   "cell_type": "code",
   "execution_count": 26,
   "id": "de6545ce",
   "metadata": {},
   "outputs": [
    {
     "data": {
      "image/png": "[encoded data removed]",
      "text/plain": [
       "<Figure size 700x500 with 1 Axes>"
      ]
     },
     "metadata": {},
     "output_type": "display_data"
    }
   ],
   "source": [
    "# Plot the qq plot of the chickens' weight\n",
    "from scipy.stats import probplot\n",
    "\n",
    "fig, ax = plt.subplots(figsize=(7, 5))\n",
    "\n",
    "probplot(x=chicken_data[\"weight\"], dist=\"norm\", plot=ax)\n",
    "\n",
    "ax.set(\n",
    "    title=\"Q-Q Plot: Chicken Distribution vs Normal Distribution\",\n",
    "    xlabel=\"Theoretical Quantiles\",\n",
    "    ylabel=\"Sample Quantiles\",\n",
    ")\n",
    "ax.grid(True, alpha=0.6, linewidth=0.6, color=\"grey\")\n",
    "\n",
    "plt.tight_layout()\n",
    "plt.show()"
   ]
  },
  {
   "cell_type": "code",
   "execution_count": 27,
   "id": "c6c36d9b",
   "metadata": {},
   "outputs": [
    {
     "data": {
      "image/png": "[encoded data removed]",
      "text/plain": [
       "<Figure size 500x500 with 1 Axes>"
      ]
     },
     "metadata": {},
     "output_type": "display_data"
    }
   ],
   "source": [
    "# Subset the data and plot the weight of the subset\n",
    "subset_data = chicken_data[chicken_data[\"Time\"] == 2]\n",
    "\n",
    "sns.displot(data=subset_data, x=\"weight\", kind=\"kde\")\n",
    "plt.show()"
   ]
  },
  {
   "cell_type": "code",
   "execution_count": 28,
   "id": "6cef72fe",
   "metadata": {},
   "outputs": [
    {
     "name": "stdout",
     "output_type": "stream",
     "text": [
      "p: 3.874e-18 test stat: 0.9087\n"
     ]
    }
   ],
   "source": [
    "# Run a Shapiro-Wilk normality test on the weight column\n",
    "from scipy.stats import shapiro\n",
    "\n",
    "stat, p = shapiro(chicken_data[\"weight\"])\n",
    "\n",
    "print(f\"p: {p:.3e} test stat: {round(stat, 4)}\")"
   ]
  },
  {
   "cell_type": "code",
   "execution_count": 29,
   "id": "053da35b",
   "metadata": {},
   "outputs": [
    {
     "name": "stdout",
     "output_type": "stream",
     "text": [
      "Test statistic: 14.6868\n",
      "Significance Levels: [15.  10.   5.   2.5  1. ]\n",
      "Critical Values: [0.572 0.652 0.782 0.912 1.085]\n"
     ]
    }
   ],
   "source": [
    "from scipy.stats import anderson\n",
    "\n",
    "# Run the Anderson-Darling test\n",
    "result = anderson(chicken_data[\"weight\"], dist=\"norm\")\n",
    "\n",
    "print(f\"Test statistic: {round(result.statistic, 4)}\")\n",
    "print(f\"Significance Levels: {result.significance_level}\")\n",
    "print(f\"Critical Values: {result.critical_values}\")"
   ]
  },
  {
   "cell_type": "code",
   "execution_count": 30,
   "id": "0a7ec940",
   "metadata": {},
   "outputs": [
    {
     "data": {
      "application/vnd.microsoft.datawrangler.viewer.v0+json": {
       "columns": [
        {
         "name": "index",
         "rawType": "object",
         "type": "string"
        },
        {
         "name": "W",
         "rawType": "float64",
         "type": "float"
        },
        {
         "name": "pval",
         "rawType": "float64",
         "type": "float"
        },
        {
         "name": "normal",
         "rawType": "bool",
         "type": "boolean"
        }
       ],
       "ref": "b51e6f63-c1d8-4826-988f-0b1a17a17882",
       "rows": [
        [
         "weight",
         "69.3379352201526",
         "8.779275418092939e-16",
         "False"
        ]
       ],
       "shape": {
        "columns": 3,
        "rows": 1
       }
      },
      "text/html": [
       "<div>\n",
       "<style scoped>\n",
       "    .dataframe tbody tr th:only-of-type {\n",
       "        vertical-align: middle;\n",
       "    }\n",
       "\n",
       "    .dataframe tbody tr th {\n",
       "        vertical-align: top;\n",
       "    }\n",
       "\n",
       "    .dataframe thead th {\n",
       "        text-align: right;\n",
       "    }\n",
       "</style>\n",
       "<table border=\"1\" class=\"dataframe\">\n",
       "  <thead>\n",
       "    <tr style=\"text-align: right;\">\n",
       "      <th></th>\n",
       "      <th>W</th>\n",
       "      <th>pval</th>\n",
       "      <th>normal</th>\n",
       "    </tr>\n",
       "  </thead>\n",
       "  <tbody>\n",
       "    <tr>\n",
       "      <th>weight</th>\n",
       "      <td>69.337935</td>\n",
       "      <td>8.779275e-16</td>\n",
       "      <td>False</td>\n",
       "    </tr>\n",
       "  </tbody>\n",
       "</table>\n",
       "</div>"
      ],
      "text/plain": [
       "                W          pval  normal\n",
       "weight  69.337935  8.779275e-16   False"
      ]
     },
     "execution_count": 30,
     "metadata": {},
     "output_type": "execute_result"
    }
   ],
   "source": [
    "from pingouin import normality\n",
    "\n",
    "normality(data=chicken_data[\"weight\"], method=\"normaltest\")"
   ]
  },
  {
   "cell_type": "markdown",
   "id": "3598b9d4",
   "metadata": {},
   "source": [
    "## Understanding Factorial Designs\n",
    "\n",
    "In many experiments, an outcome is influenced by more than one factor. A factorial design is an efficient and powerful way to investigate these complex scenarios.\n",
    "\n",
    "  * **Factors and Levels**: A **factor** is an independent variable (or categorical variable) that you are testing. A **level** is a specific value of that factor. For example, in an agricultural experiment, `Fertilizer_Type` could be a factor with two levels: `Organic` and `Synthetic`. `Light_Condition` could be a second factor with two levels: `Full Sunlight` and `Partial Shade`. An experiment with these two factors would be a **2x2 factorial design**, resulting in 2 x 2 = 4 unique experimental conditions.\n",
    "\n",
    "  * **Key Advantages**:\n",
    "\n",
    "    1.  **Efficiency**: It allows you to study multiple factors and their effects in a single experiment, which is more economical than running separate single-factor experiments.\n",
    "    2.  **Interaction Effects**: Most importantly, it is the only design that allows you to discover **interactions** between factors.\n",
    "\n",
    "### Main Effects vs. Interaction Effects\n",
    "\n",
    "A factorial design allows you to measure two types of effects:\n",
    "\n",
    "  * **Main Effect**: The overall effect of a single factor on the response variable, averaged across the levels of all other factors. For example, \"What is the overall effect of `Fertilizer_Type` on plant growth, regardless of the `Light_Condition`?\"\n",
    "\n",
    "  * **Interaction Effect**: An interaction occurs when the effect of one factor on the response variable **depends on the level of another factor**. This is a critical concept. For example, an interaction exists if organic fertilizer works best in full sunlight, but synthetic fertilizer works best in partial shade. If a significant interaction is present, the factors do not work independently, and interpreting the main effects in isolation can be misleading.\n",
    "\n",
    "### Implementation and Analysis in Python\n",
    "\n",
    "Analyzing a factorial design involves first visualizing the results and then performing a statistical test.\n",
    "\n",
    "#### 1. Visualizing Interactions\n",
    "\n",
    "A **heatmap** is an excellent tool for visualizing the results of a factorial experiment and spotting potential interactions. The first step is to organize the data into a grid of mean outcomes for each combination of factor levels. This is easily done with a `pandas.pivot_table`.\n",
    "\n",
    "  * **How to Interpret the Heatmap**: You look for a \"non-parallel\" pattern. If the color pattern in one row is different from the pattern in another row, it suggests an interaction. For example, if for `Full Sunlight` the `Organic` cell is \"hotter\" (higher value) than `Synthetic`, but for `Partial Shade` the `Synthetic` cell is hotter, this reversal indicates a strong interaction.\n",
    "\n",
    "#### 2. Statistical Analysis (ANOVA)\n",
    "\n",
    "The standard statistical method for analyzing a factorial design is a **two-way Analysis of Variance (ANOVA)**. The model formula in `statsmodels` is structured to test for both main effects and the interaction effect:\n",
    "\n",
    "`response ~ factor1 + factor2 + factor1:factor2`\n",
    "\n",
    "The p-value for the `factor1:factor2` interaction term is the key result. A significant p-value confirms that the effect of one factor is dependent on the level of the other.\n",
    "\n",
    "### A Complete Example\n",
    "\n",
    "**Scenario**: We want to study the effect of `Light_Condition` ('High', 'Low') and `Nutrient_Type` ('A', 'B') on plant `Growth_cm`.\n",
    "\n",
    "```python\n",
    "import pandas as pd\n",
    "import numpy as np\n",
    "import seaborn as sns\n",
    "import matplotlib.pyplot as plt\n",
    "\n",
    "# 1. Create a generic, reproducible dataset for a 2x2 factorial design\n",
    "# We will intentionally create an interaction effect.\n",
    "np.random.seed(42)\n",
    "data = {\n",
    "    'Light_Condition': np.random.choice(['High', 'Low'], 200),\n",
    "    'Nutrient_Type': np.random.choice(['A', 'B'], 200)\n",
    "}\n",
    "df = pd.DataFrame(data)\n",
    "\n",
    "# Define the effects\n",
    "base_growth = 20\n",
    "# Main effects\n",
    "light_effect = {'High': 5, 'Low': -5}\n",
    "nutrient_effect = {'A': 2, 'B': -2}\n",
    "# Interaction effect: Nutrient A is MUCH better in High light\n",
    "interaction_effect = {('High', 'A'): 8, ('High', 'B'): 0, ('Low', 'A'): 0, ('Low', 'B'): 3}\n",
    "\n",
    "df['Growth_cm'] = base_growth + \\\n",
    "                  df['Light_Condition'].map(light_effect) + \\\n",
    "                  df['Nutrient_Type'].map(nutrient_effect) + \\\n",
    "                  df.apply(lambda row: interaction_effect[(row['Light_Condition'], row['Nutrient_Type'])], axis=1) + \\\n",
    "                  np.random.normal(0, 2, 200)\n",
    "\n",
    "# 2. Organize the data to visualize the interaction\n",
    "# Create a pivot table of the mean growth for each condition\n",
    "pivot = pd.pivot_table(df, values='Growth_cm', index='Light_Condition',\n",
    "                       columns='Nutrient_Type', aggfunc='mean')\n",
    "\n",
    "print(pivot)\n",
    "\n",
    "# 3. Visualize the interaction with a heatmap\n",
    "fig, ax = plt.subplots(figsize=(8, 6))\n",
    "sns.heatmap(pivot, annot=True, cmap='viridis', fmt='.2f', ax=ax, cbar_kws={'label': 'Mean Growth (cm)'})\n",
    "ax.set_title(\"Interaction between Light Condition and Nutrient Type\")\n",
    "ax.set_xlabel(\"Nutrient Type\")\n",
    "ax.set_ylabel(\"Light Condition\")\n",
    "plt.tight_layout()\n",
    "plt.show()\n",
    "```\n",
    "\n",
    "**Interpretation of the Heatmap**:\n",
    "The heatmap visually reveals the strong interaction effect we created. In the 'High' light condition, `Nutrient_Type` 'A' is clearly superior to 'B' (34.90 vs. 22.99). However, in the 'Low' light condition, this effect reverses, and 'B' is slightly better than 'A' (16.03 vs. 13.06). Because the effect of `Nutrient_Type` is different depending on the `Light_Condition`, we can conclude that a significant interaction is present."
   ]
  },
  {
   "cell_type": "code",
   "execution_count": 31,
   "id": "24531081",
   "metadata": {},
   "outputs": [
    {
     "data": {
      "application/vnd.microsoft.datawrangler.viewer.v0+json": {
       "columns": [
        {
         "name": "index",
         "rawType": "int64",
         "type": "integer"
        },
        {
         "name": "Messaging_Style",
         "rawType": "object",
         "type": "string"
        },
        {
         "name": "Time_of_Day",
         "rawType": "object",
         "type": "string"
        },
        {
         "name": "Click_Through_Rate",
         "rawType": "float64",
         "type": "float"
        },
        {
         "name": "Conversions",
         "rawType": "int64",
         "type": "integer"
        }
       ],
       "ref": "8d58bd75-dc64-4ca3-a489-1a3245566060",
       "rows": [
        [
         "0",
         "Casual",
         "Morning",
         "0.640465174390288",
         "500"
        ],
        [
         "1",
         "Formal",
         "Evening",
         "0.6985330070916299",
         "598"
        ],
        [
         "2",
         "Casual",
         "Morning",
         "0.2578341507611046",
         "234"
        ],
        [
         "3",
         "Casual",
         "Evening",
         "0.9229707513324638",
         "602"
        ],
        [
         "4",
         "Casual",
         "Morning",
         "0.47689347240286584",
         "314"
        ]
       ],
       "shape": {
        "columns": 4,
        "rows": 5
       }
      },
      "text/html": [
       "<div>\n",
       "<style scoped>\n",
       "    .dataframe tbody tr th:only-of-type {\n",
       "        vertical-align: middle;\n",
       "    }\n",
       "\n",
       "    .dataframe tbody tr th {\n",
       "        vertical-align: top;\n",
       "    }\n",
       "\n",
       "    .dataframe thead th {\n",
       "        text-align: right;\n",
       "    }\n",
       "</style>\n",
       "<table border=\"1\" class=\"dataframe\">\n",
       "  <thead>\n",
       "    <tr style=\"text-align: right;\">\n",
       "      <th></th>\n",
       "      <th>Messaging_Style</th>\n",
       "      <th>Time_of_Day</th>\n",
       "      <th>Click_Through_Rate</th>\n",
       "      <th>Conversions</th>\n",
       "    </tr>\n",
       "  </thead>\n",
       "  <tbody>\n",
       "    <tr>\n",
       "      <th>0</th>\n",
       "      <td>Casual</td>\n",
       "      <td>Morning</td>\n",
       "      <td>0.640465</td>\n",
       "      <td>500</td>\n",
       "    </tr>\n",
       "    <tr>\n",
       "      <th>1</th>\n",
       "      <td>Formal</td>\n",
       "      <td>Evening</td>\n",
       "      <td>0.698533</td>\n",
       "      <td>598</td>\n",
       "    </tr>\n",
       "    <tr>\n",
       "      <th>2</th>\n",
       "      <td>Casual</td>\n",
       "      <td>Morning</td>\n",
       "      <td>0.257834</td>\n",
       "      <td>234</td>\n",
       "    </tr>\n",
       "    <tr>\n",
       "      <th>3</th>\n",
       "      <td>Casual</td>\n",
       "      <td>Evening</td>\n",
       "      <td>0.922971</td>\n",
       "      <td>602</td>\n",
       "    </tr>\n",
       "    <tr>\n",
       "      <th>4</th>\n",
       "      <td>Casual</td>\n",
       "      <td>Morning</td>\n",
       "      <td>0.476893</td>\n",
       "      <td>314</td>\n",
       "    </tr>\n",
       "  </tbody>\n",
       "</table>\n",
       "</div>"
      ],
      "text/plain": [
       "  Messaging_Style Time_of_Day  Click_Through_Rate  Conversions\n",
       "0          Casual     Morning            0.640465          500\n",
       "1          Formal     Evening            0.698533          598\n",
       "2          Casual     Morning            0.257834          234\n",
       "3          Casual     Evening            0.922971          602\n",
       "4          Casual     Morning            0.476893          314"
      ]
     },
     "execution_count": 31,
     "metadata": {},
     "output_type": "execute_result"
    }
   ],
   "source": [
    "url = \"https://assets.datacamp.com/production/repositories/6639/datasets/7cb2f98d6252b3fccdb870bc4f05815d4df71c20/marketing_data.feather\"\n",
    "marketing_data = pd.read_feather(url)\n",
    "marketing_data.head()"
   ]
  },
  {
   "cell_type": "code",
   "execution_count": 32,
   "id": "6a63cd6e",
   "metadata": {},
   "outputs": [
    {
     "data": {
      "application/vnd.microsoft.datawrangler.viewer.v0+json": {
       "columns": [
        {
         "name": "Messaging_Style",
         "rawType": "object",
         "type": "string"
        },
        {
         "name": "Evening",
         "rawType": "float64",
         "type": "float"
        },
        {
         "name": "Morning",
         "rawType": "float64",
         "type": "float"
        }
       ],
       "ref": "68978f91-632e-4abe-90d2-ff82ec97daa1",
       "rows": [
        [
         "Casual",
         "402.3290043290043",
         "401.1338912133891"
        ],
        [
         "Formal",
         "432.9130434782609",
         "411.096"
        ]
       ],
       "shape": {
        "columns": 2,
        "rows": 2
       }
      },
      "text/html": [
       "<div>\n",
       "<style scoped>\n",
       "    .dataframe tbody tr th:only-of-type {\n",
       "        vertical-align: middle;\n",
       "    }\n",
       "\n",
       "    .dataframe tbody tr th {\n",
       "        vertical-align: top;\n",
       "    }\n",
       "\n",
       "    .dataframe thead th {\n",
       "        text-align: right;\n",
       "    }\n",
       "</style>\n",
       "<table border=\"1\" class=\"dataframe\">\n",
       "  <thead>\n",
       "    <tr style=\"text-align: right;\">\n",
       "      <th>Time_of_Day</th>\n",
       "      <th>Evening</th>\n",
       "      <th>Morning</th>\n",
       "    </tr>\n",
       "    <tr>\n",
       "      <th>Messaging_Style</th>\n",
       "      <th></th>\n",
       "      <th></th>\n",
       "    </tr>\n",
       "  </thead>\n",
       "  <tbody>\n",
       "    <tr>\n",
       "      <th>Casual</th>\n",
       "      <td>402.329004</td>\n",
       "      <td>401.133891</td>\n",
       "    </tr>\n",
       "    <tr>\n",
       "      <th>Formal</th>\n",
       "      <td>432.913043</td>\n",
       "      <td>411.096000</td>\n",
       "    </tr>\n",
       "  </tbody>\n",
       "</table>\n",
       "</div>"
      ],
      "text/plain": [
       "Time_of_Day         Evening     Morning\n",
       "Messaging_Style                        \n",
       "Casual           402.329004  401.133891\n",
       "Formal           432.913043  411.096000"
      ]
     },
     "metadata": {},
     "output_type": "display_data"
    }
   ],
   "source": [
    "# Create a pivot table with 'Messaging_Style' as the index and 'Time_of_Day' as the columns, computing the mean of Conversions.\n",
    "marketing_pivot = marketing_data.pivot_table(\n",
    "    values=\"Conversions\",\n",
    "    index=\"Messaging_Style\",\n",
    "    columns=\"Time_of_Day\",\n",
    "    aggfunc=\"mean\",\n",
    ")\n",
    "\n",
    "display(marketing_pivot)"
   ]
  },
  {
   "cell_type": "code",
   "execution_count": 33,
   "id": "0f21bfb3",
   "metadata": {},
   "outputs": [
    {
     "data": {
      "image/png": "[encoded data removed]",
      "text/plain": [
       "<Figure size 700x500 with 2 Axes>"
      ]
     },
     "metadata": {},
     "output_type": "display_data"
    }
   ],
   "source": [
    "# Visualize interactions between Messaging_Style and Time_of_Day with respect to conversions by creating an annotated cool-warm heatmap of marketing_pivot.\n",
    "fig, ax = plt.subplots(figsize=(7, 5))\n",
    "\n",
    "sns.heatmap(\n",
    "    marketing_pivot,\n",
    "    cmap=\"coolwarm\",\n",
    "    fmt=\".2f\",\n",
    "    ax=ax,\n",
    "    annot=True,\n",
    "    cbar_kws={\"label\": \"Mean Conversions\"},\n",
    ")\n",
    "ax.set(\n",
    "    xlabel=\"Time of Day\",\n",
    "    ylabel=\"Messaging Style\",\n",
    "    title=\"Mean Conversions by Messaging Style and Time of Day\",\n",
    ")\n",
    "\n",
    "plt.tight_layout()\n",
    "plt.show()"
   ]
  },
  {
   "cell_type": "markdown",
   "id": "c299c5be",
   "metadata": {},
   "source": [
    "### The Problem: Controlling Unwanted Variance\n",
    "\n",
    "In many experiments, we know that certain baseline characteristics of our subjects can significantly influence the outcome, regardless of the treatment they receive. For example, when testing new training programs, an athlete's initial fitness level will likely have a large impact on their muscle gain.\n",
    "\n",
    "This pre-existing variability among subjects can act as \"noise\" in our experiment. If this noise is large, it can obscure the true, potentially smaller, effect of the treatments, making it difficult to achieve statistically significant results. A randomized block design is a powerful technique to address this problem.\n",
    "\n",
    "\n",
    "### The Solution: Randomized Block Design\n",
    "\n",
    "The core idea is to isolate a known source of variability and remove its effect from the analysis of the treatment.\n",
    "\n",
    "  * **Blocking**: First, you group subjects into homogeneous **blocks** based on a key covariate that you believe will affect the outcome. For example, you could block athletes by `Initial_Fitness_Level` (`Beginner`, `Intermediate`, `Advanced`). All subjects within a block should be as similar as possible with respect to this variable.\n",
    "\n",
    "  * **Randomization within Blocks**: Second, you perform a separate randomization **within each block** to assign subjects to the different treatment groups. This ensures that each treatment is tested on a balanced set of subjects from each fitness level.\n",
    "\n",
    "The advantage of this design is that it allows you to statistically control for the variability *between* the blocks, providing a clearer and more precise estimate of the treatment's true effect.\n",
    "\n",
    "### Implementation and Analysis in Python\n",
    "\n",
    "Let's walk through an example of setting up and analyzing a randomized block experiment.\n",
    "\n",
    "**Scenario**: We want to test three different training `Treatments` ('Cardio', 'Mixed', 'Strength Training') on athlete `Muscle_Gain_kg`. We know that `Initial_Fitness_Level` is a major factor, so we use it as our blocking variable.\n",
    "\n",
    "```python\n",
    "import pandas as pd\n",
    "import numpy as np\n",
    "import seaborn as sns\n",
    "import matplotlib.pyplot as plt\n",
    "from scipy.stats import f_oneway\n",
    "\n",
    "# 1. Create a generic, reproducible dataset\n",
    "np.random.seed(42)\n",
    "fitness_levels = ['Beginner', 'Intermediate', 'Advanced']\n",
    "df = pd.DataFrame({\n",
    "    'Initial_Fitness_Level': np.random.choice(fitness_levels, 300, p=[0.3, 0.4, 0.3]),\n",
    "    'Athlete_ID': np.arange(300)\n",
    "})\n",
    "\n",
    "# Simulate a base muscle gain dependent on the blocking variable\n",
    "fitness_effect = {'Beginner': 5.0, 'Intermediate': 4.5, 'Advanced': 4.0}\n",
    "df['Muscle_Gain_kg'] = df['Initial_Fitness_Level'].map(fitness_effect) + np.random.normal(0, 1, 300)\n",
    "\n",
    "# 2. Implement Randomized Block Assignment\n",
    "# For each block (fitness level), we will shuffle and assign the three treatments.\n",
    "treatments = ['Cardio', 'Mixed', 'Strength Training']\n",
    "# Ensure each block has a size divisible by the number of treatments\n",
    "df_blocked = df.groupby('Initial_Fitness_Level').apply(\n",
    "    lambda x: x.assign(Treatment=np.random.permutation(treatments * (len(x) // len(treatments))))\n",
    ").reset_index(drop=True)\n",
    "\n",
    "# 3. Visualize the Results\n",
    "# Visualize treatment effects within each block\n",
    "fig, ax = plt.subplots(figsize=(10, 6))\n",
    "sns.boxplot(x='Initial_Fitness_Level', y='Muscle_Gain_kg', hue='Treatment', data=df_blocked, ax=ax)\n",
    "ax.set_title('Treatment Effect on Muscle Gain within each Fitness Block')\n",
    "plt.show()\n",
    "```\n",
    "\n",
    "The boxplot allows us to visually inspect the effect of the different treatments for each fitness level separately.\n",
    "\n",
    "#### Statistical Analysis\n",
    "\n",
    "We can now perform two separate ANOVA tests to answer two different questions.\n",
    "\n",
    "**1. Is there a significant effect of the blocking variable?**\n",
    "This test validates our decision to use `Initial_Fitness_Level` as a block. If there is no significant difference in muscle gain between the levels, then blocking was not necessary.\n",
    "\n",
    "```python\n",
    "# ANOVA between the blocks\n",
    "F_stat_blocks, p_val_blocks = f_oneway(\n",
    "    df_blocked[df_blocked['Initial_Fitness_Level'] == \"Advanced\"]['Muscle_Gain_kg'],\n",
    "    df_blocked[df_blocked['Initial_Fitness_Level'] == \"Beginner\"]['Muscle_Gain_kg'],\n",
    "    df_blocked[df_blocked['Initial_Fitness_Level'] == \"Intermediate\"]['Muscle_Gain_kg']\n",
    ")\n",
    "\n",
    "print(f\"P-value for difference between fitness levels: {p_val_blocks:.4f}\")\n",
    "```\n",
    "\n",
    "A significant p-value here confirms that the blocking variable has a strong effect on the outcome and that the blocking design was a good choice.\n",
    "\n",
    "**2. Is there a significant treatment effect *within* the blocks?**\n",
    "This is the primary question of our experiment. We can perform an ANOVA within each block to see if the treatments had a differential effect.\n",
    "\n",
    "```python\n",
    "# ANOVA within each block\n",
    "within_block_anova = df_blocked.groupby('Initial_Fitness_Level').apply(\n",
    "    lambda x: f_oneway(\n",
    "        x[x['Treatment'] == 'Cardio']['Muscle_Gain_kg'],\n",
    "        x[x['Treatment'] == 'Mixed']['Muscle_Gain_kg'],\n",
    "        x[x['Treatment'] == 'Strength Training']['Muscle_Gain_kg']\n",
    "    )\n",
    ")\n",
    "\n",
    "# The second element of each result is the p-value\n",
    "print(within_block_anova.apply(lambda x: x[1]))\n",
    "```\n",
    "\n",
    "By looking at the p-values for each block, we can assess if the treatments had a significant effect for beginners, intermediates, or advanced athletes, having controlled for the initial differences between these groups."
   ]
  },
  {
   "cell_type": "code",
   "execution_count": 34,
   "id": "125ed751",
   "metadata": {},
   "outputs": [
    {
     "data": {
      "application/vnd.microsoft.datawrangler.viewer.v0+json": {
       "columns": [
        {
         "name": "index",
         "rawType": "int64",
         "type": "integer"
        },
        {
         "name": "subject_id",
         "rawType": "int64",
         "type": "integer"
        },
        {
         "name": "productivity_score",
         "rawType": "float64",
         "type": "float"
        },
        {
         "name": "block",
         "rawType": "float64",
         "type": "float"
        }
       ],
       "ref": "81bac7e7-55f8-4476-811b-80276212aace",
       "rows": [
        [
         "0",
         "1",
         "11.9",
         "2.0"
        ],
        [
         "1",
         "2",
         "28.6",
         "3.0"
        ],
        [
         "2",
         "3",
         "22.2",
         "3.0"
        ],
        [
         "3",
         "4",
         "18.4",
         "2.0"
        ],
        [
         "4",
         "5",
         "5.5",
         "1.0"
        ]
       ],
       "shape": {
        "columns": 3,
        "rows": 5
       }
      },
      "text/html": [
       "<div>\n",
       "<style scoped>\n",
       "    .dataframe tbody tr th:only-of-type {\n",
       "        vertical-align: middle;\n",
       "    }\n",
       "\n",
       "    .dataframe tbody tr th {\n",
       "        vertical-align: top;\n",
       "    }\n",
       "\n",
       "    .dataframe thead th {\n",
       "        text-align: right;\n",
       "    }\n",
       "</style>\n",
       "<table border=\"1\" class=\"dataframe\">\n",
       "  <thead>\n",
       "    <tr style=\"text-align: right;\">\n",
       "      <th></th>\n",
       "      <th>subject_id</th>\n",
       "      <th>productivity_score</th>\n",
       "      <th>block</th>\n",
       "    </tr>\n",
       "  </thead>\n",
       "  <tbody>\n",
       "    <tr>\n",
       "      <th>0</th>\n",
       "      <td>1</td>\n",
       "      <td>11.9</td>\n",
       "      <td>2.0</td>\n",
       "    </tr>\n",
       "    <tr>\n",
       "      <th>1</th>\n",
       "      <td>2</td>\n",
       "      <td>28.6</td>\n",
       "      <td>3.0</td>\n",
       "    </tr>\n",
       "    <tr>\n",
       "      <th>2</th>\n",
       "      <td>3</td>\n",
       "      <td>22.2</td>\n",
       "      <td>3.0</td>\n",
       "    </tr>\n",
       "    <tr>\n",
       "      <th>3</th>\n",
       "      <td>4</td>\n",
       "      <td>18.4</td>\n",
       "      <td>2.0</td>\n",
       "    </tr>\n",
       "    <tr>\n",
       "      <th>4</th>\n",
       "      <td>5</td>\n",
       "      <td>5.5</td>\n",
       "      <td>1.0</td>\n",
       "    </tr>\n",
       "  </tbody>\n",
       "</table>\n",
       "</div>"
      ],
      "text/plain": [
       "   subject_id  productivity_score  block\n",
       "0           1                11.9    2.0\n",
       "1           2                28.6    3.0\n",
       "2           3                22.2    3.0\n",
       "3           4                18.4    2.0\n",
       "4           5                 5.5    1.0"
      ]
     },
     "execution_count": 34,
     "metadata": {},
     "output_type": "execute_result"
    }
   ],
   "source": [
    "url = \"https://raw.githubusercontent.com/jhlopesalves/data-science-practice-notebook/refs/heads/main/Python/statistics/experimental_design/data/productivity.csv\"\n",
    "productivity = pd.read_csv(url, usecols=lambda col: not col.startswith(\"Unnamed\"))\n",
    "productivity.head()"
   ]
  },
  {
   "cell_type": "markdown",
   "id": "b29a7b21",
   "metadata": {},
   "source": [
    "### Implementing a randomized block design\n",
    "The manufacturing firm you worked with earlier is still interested in conducting some experiments on worker productivity. Previously, the two blocks were set randomly. While this can work, it can be better to group subjects based on similar characteristics.\n",
    "\n",
    "The same employees are again loaded but this time in a DataFrame called `productivity` including 1200 other colleagues. It also includes a worker `'productivity_score'` column based on units produced per hour. This column was binned into three groups to generate blocks based on similar productivity values. The firm would like to apply a new incentive program with three options (`'Bonus'`, `'Profit Sharing'` and `'Work from Home'`) throughout the firm with treatment applied randomly."
   ]
  },
  {
   "cell_type": "code",
   "execution_count": 35,
   "id": "32615956",
   "metadata": {},
   "outputs": [],
   "source": [
    "prod_df = productivity.groupby(\"block\").sample(frac=1)\n",
    "prod_df = prod_df.reset_index(drop=True)\n",
    "\n",
    "prod_df[\"Treatment\"] = np.random.choice(\n",
    "    [\"Bonus\", \"Profit Sharing\", \"Work from Home\"], size=len(prod_df)\n",
    ")"
   ]
  },
  {
   "cell_type": "code",
   "execution_count": 36,
   "id": "d78f0b31",
   "metadata": {},
   "outputs": [
    {
     "data": {
      "image/png": "[encoded data removed]",
      "text/plain": [
       "<Figure size 700x500 with 1 Axes>"
      ]
     },
     "metadata": {},
     "output_type": "display_data"
    }
   ],
   "source": [
    "fig, ax = plt.subplots(figsize=(7, 5))\n",
    "\n",
    "# Make a plot showing how productivity_score varies within blocks\n",
    "sns.boxplot(x=\"block\", y=\"productivity_score\", hue=\"Treatment\", data=prod_df)\n",
    "ax.set(\n",
    "    xlabel=\"Block\",\n",
    "    ylabel=\"Productivity Score\",\n",
    "    title=\"Productivity Score by Block and Treatment\",\n",
    ")\n",
    "\n",
    "ax.grid(True, alpha=0.6, linewidth=0.6, color=\"grey\")\n",
    "\n",
    "plt.tight_layout()\n",
    "plt.show()"
   ]
  },
  {
   "cell_type": "code",
   "execution_count": 37,
   "id": "0ebfbd4c",
   "metadata": {},
   "outputs": [
    {
     "name": "stdout",
     "output_type": "stream",
     "text": [
      "block\n",
      "1.0      (0.5186894056804635, 0.595687505502991)\n",
      "2.0    (0.31842992043551294, 0.7274586540528656)\n",
      "3.0     (2.5790378758549624, 0.0769932064804165)\n",
      "dtype: object\n"
     ]
    }
   ],
   "source": [
    "import warnings\n",
    "\n",
    "from scipy.stats import f_oneway\n",
    "\n",
    "# Suppress warnings for this operation\n",
    "with warnings.catch_warnings():\n",
    "    warnings.simplefilter(\"ignore\")\n",
    "\n",
    "    # Perform the within blocks ANOVA, first grouping by block\n",
    "    within_block_anova = prod_df.groupby(\"block\").apply(\n",
    "        # Set function\n",
    "        lambda x: f_oneway(\n",
    "            # Filter Treatment values based on outcome\n",
    "            x[x[\"Treatment\"] == \"Bonus\"][\"productivity_score\"],\n",
    "            x[x[\"Treatment\"] == \"Profit Sharing\"][\"productivity_score\"],\n",
    "            x[x[\"Treatment\"] == \"Work from Home\"][\"productivity_score\"],\n",
    "        )\n",
    "    )\n",
    "print(within_block_anova)"
   ]
  },
  {
   "cell_type": "code",
   "execution_count": null,
   "id": "d4c38d22",
   "metadata": {},
   "outputs": [],
   "source": []
  },
  {
   "cell_type": "markdown",
   "id": "9c97df81",
   "metadata": {},
   "source": [
    "### The Role of Covariates in Experimental Design\n",
    "\n",
    "#### What is a Covariate?\n",
    "\n",
    "A **covariate** is a variable that is not the primary focus of the experiment but has the potential to affect the outcome (the dependent variable). It is a baseline characteristic of the subjects that is measured before the treatment is applied. For example, in an experiment testing the impact of a new teaching method on test scores, a student's `prior_knowledge` would be a crucial covariate.\n",
    "\n",
    "#### Why are Covariates Important?\n",
    "\n",
    "Accounting for covariates is important for two main reasons:\n",
    "\n",
    "1.  **Reducing Confounding**: Even with random assignment, it is possible for a key covariate to be imbalanced between the treatment and control groups by chance. If this happens, the covariate can become a **confounding variable**, making it difficult to determine if an observed effect is due to the treatment or the pre-existing group imbalance.\n",
    "2.  **Increasing Precision and Power**: Covariates often explain a significant portion of the natural variability in the outcome. By statistically controlling for this variability, we reduce the \"noise\" (unexplained error) in the experiment. This makes it easier to detect the \"signal\" of the treatment effect, thereby increasing the statistical power and precision of our results.\n",
    "\n",
    "### Covariate Adjustment using ANCOVA\n",
    "\n",
    "**Analysis of Covariance (ANCOVA)** is a statistical model that blends ANOVA and linear regression. It is used to compare the means of groups while statistically controlling for the effects of one or more continuous covariates.\n",
    "\n",
    "In practice, ANCOVA is implemented as a multiple linear regression model. The model formula includes terms for the categorical treatment variable as well as the continuous covariate(s). For a simple experiment with one treatment factor and one covariate, the `statsmodels` formula is:\n",
    "\n",
    "`response ~ treatment_group + covariate`\n",
    "\n",
    "This model estimates the effect of the `treatment_group` *after* having accounted for the variation in the `response` that is explained by the `covariate`.\n",
    "\n",
    "### A Complete Example\n",
    "\n",
    "**Scenario**: A company runs an A/B test on a new website design ('New Design' vs. 'Old Design'). The goal is to see if the new design increases the `purchase_amount`. The company knows that a user's `prior_engagement` score is a strong predictor of their spending.\n",
    "\n",
    "#### 1. Analysis Without Covariate Adjustment (t-test)\n",
    "\n",
    "First, let's analyze the results with a simple t-test, ignoring the covariate.\n",
    "\n",
    "```python\n",
    "import pandas as pd\n",
    "import numpy as np\n",
    "import pingouin\n",
    "import statsmodels.formula.api as smf\n",
    "\n",
    "# 1. Create a generic, reproducible dataset\n",
    "np.random.seed(42)\n",
    "n_subjects = 200\n",
    "df = pd.DataFrame({\n",
    "    'treatment': np.random.choice(['New Design', 'Old Design'], n_subjects),\n",
    "    # A strong covariate that influences the outcome\n",
    "    'prior_engagement': np.random.uniform(10, 100, n_subjects)\n",
    "})\n",
    "# The outcome depends on the treatment AND the strong covariate\n",
    "treatment_effect = df['treatment'].apply(lambda x: 15 if x == 'New Design' else 0)\n",
    "df['purchase_amount'] = 50 + treatment_effect + (0.5 * df['prior_engagement']) + np.random.normal(0, 10, n_subjects)\n",
    "\n",
    "# 2. Analyze using a t-test (ignores the covariate) \n",
    "ttest_results = pingouin.ttest(\n",
    "    data=df,\n",
    "    dv='purchase_amount',\n",
    "    between='treatment'\n",
    ")\n",
    "print(ttest_results)\n",
    "```\n",
    "\n",
    "#### 2. Analysis With Covariate Adjustment (ANCOVA)\n",
    "\n",
    "Now, let's re-analyze the data using an ANCOVA model that includes the `prior_engagement` covariate.\n",
    "\n",
    "```python\n",
    "# 3. Analyze using ANCOVA (controlling for the covariate) \n",
    "# Note: statsmodels will automatically use the first category ('New Design') as the reference\n",
    "# To make 'Old Design' the reference, we can reorder the category\n",
    "df['treatment'] = pd.Categorical(df['treatment'], categories=['Old Design', 'New Design'], ordered=True)\n",
    "\n",
    "ancova_model = smf.ols(\"purchase_amount ~ treatment + prior_engagement\", data=df).fit()\n",
    "\n",
    "print(ancova_model.summary())\n",
    "```\n",
    "\n",
    "#### Interpretation and Comparison\n",
    "\n",
    "The ANCOVA summary provides a richer and more precise analysis. Let's focus on the coefficient for the treatment:\n",
    "\n",
    "`treatment[T.New Design]     14.86     ...     0.000`\n",
    "\n",
    "  * **Coefficient (14.86)**: This is the **adjusted effect** of the treatment. It is the estimated increase in `purchase_amount` for the 'New Design' group, holding `prior_engagement` constant. This value is a more accurate estimate of the true treatment effect than the simple difference in means from the t-test.\n",
    "  * **P-value (`P>|t|` is 0.000)**: The p-value for the treatment effect is highly significant. By controlling for the \"noise\" created by `prior_engagement`, the ANCOVA model has more statistical power and is better able to detect the true effect of the new design. The t-test, which did not account for this noise, may have produced a larger, less significant p-value.\n",
    "\n",
    "By including important covariates in your analysis, you can achieve a more precise, powerful, and valid assessment of your experimental results."
   ]
  },
  {
   "cell_type": "code",
   "execution_count": 38,
   "id": "0e53037d",
   "metadata": {},
   "outputs": [
    {
     "data": {
      "application/vnd.microsoft.datawrangler.viewer.v0+json": {
       "columns": [
        {
         "name": "index",
         "rawType": "int64",
         "type": "integer"
        },
        {
         "name": "weight",
         "rawType": "int64",
         "type": "integer"
        },
        {
         "name": "Time",
         "rawType": "int64",
         "type": "integer"
        },
        {
         "name": "Chick",
         "rawType": "int64",
         "type": "integer"
        },
        {
         "name": "Diet",
         "rawType": "int64",
         "type": "integer"
        }
       ],
       "ref": "c01979dd-9944-42a7-a385-9016641a7693",
       "rows": [
        [
         "0",
         "42",
         "0",
         "1",
         "1"
        ],
        [
         "1",
         "51",
         "2",
         "1",
         "1"
        ],
        [
         "2",
         "59",
         "4",
         "1",
         "1"
        ],
        [
         "3",
         "64",
         "6",
         "1",
         "1"
        ],
        [
         "4",
         "76",
         "8",
         "1",
         "1"
        ]
       ],
       "shape": {
        "columns": 4,
        "rows": 5
       }
      },
      "text/html": [
       "<div>\n",
       "<style scoped>\n",
       "    .dataframe tbody tr th:only-of-type {\n",
       "        vertical-align: middle;\n",
       "    }\n",
       "\n",
       "    .dataframe tbody tr th {\n",
       "        vertical-align: top;\n",
       "    }\n",
       "\n",
       "    .dataframe thead th {\n",
       "        text-align: right;\n",
       "    }\n",
       "</style>\n",
       "<table border=\"1\" class=\"dataframe\">\n",
       "  <thead>\n",
       "    <tr style=\"text-align: right;\">\n",
       "      <th></th>\n",
       "      <th>weight</th>\n",
       "      <th>Time</th>\n",
       "      <th>Chick</th>\n",
       "      <th>Diet</th>\n",
       "    </tr>\n",
       "  </thead>\n",
       "  <tbody>\n",
       "    <tr>\n",
       "      <th>0</th>\n",
       "      <td>42</td>\n",
       "      <td>0</td>\n",
       "      <td>1</td>\n",
       "      <td>1</td>\n",
       "    </tr>\n",
       "    <tr>\n",
       "      <th>1</th>\n",
       "      <td>51</td>\n",
       "      <td>2</td>\n",
       "      <td>1</td>\n",
       "      <td>1</td>\n",
       "    </tr>\n",
       "    <tr>\n",
       "      <th>2</th>\n",
       "      <td>59</td>\n",
       "      <td>4</td>\n",
       "      <td>1</td>\n",
       "      <td>1</td>\n",
       "    </tr>\n",
       "    <tr>\n",
       "      <th>3</th>\n",
       "      <td>64</td>\n",
       "      <td>6</td>\n",
       "      <td>1</td>\n",
       "      <td>1</td>\n",
       "    </tr>\n",
       "    <tr>\n",
       "      <th>4</th>\n",
       "      <td>76</td>\n",
       "      <td>8</td>\n",
       "      <td>1</td>\n",
       "      <td>1</td>\n",
       "    </tr>\n",
       "  </tbody>\n",
       "</table>\n",
       "</div>"
      ],
      "text/plain": [
       "   weight  Time  Chick  Diet\n",
       "0      42     0      1     1\n",
       "1      51     2      1     1\n",
       "2      59     4      1     1\n",
       "3      64     6      1     1\n",
       "4      76     8      1     1"
      ]
     },
     "execution_count": 38,
     "metadata": {},
     "output_type": "execute_result"
    }
   ],
   "source": [
    "url = \"https://assets.datacamp.com/production/repositories/6639/datasets/271cc99d1f93fbfb2c3762f6517c58b22eb390ce/chick_weight.csv\"\n",
    "chick_data = pd.read_csv(url, usecols=lambda col: not col.startswith(\"Unnamed\"))\n",
    "chick_data.head()"
   ]
  },
  {
   "cell_type": "code",
   "execution_count": 39,
   "id": "3eef7764",
   "metadata": {},
   "outputs": [],
   "source": [
    "exp_chick_data = chick_data[[\"Chick\", \"Diet\", \"weight\"]].copy()\n",
    "cov_chick_data = chick_data[[\"Chick\", \"Time\"]].copy()"
   ]
  },
  {
   "cell_type": "code",
   "execution_count": 40,
   "id": "5560d473",
   "metadata": {},
   "outputs": [
    {
     "name": "stdout",
     "output_type": "stream",
     "text": [
      "                            OLS Regression Results                            \n",
      "==============================================================================\n",
      "Dep. Variable:                 weight   R-squared:                       0.040\n",
      "Model:                            OLS   Adj. R-squared:                  0.039\n",
      "Method:                 Least Squares   F-statistic:                     140.9\n",
      "Date:                Sun, 31 Aug 2025   Prob (F-statistic):           1.12e-60\n",
      "Time:                        21:44:05   Log-Likelihood:                -38608.\n",
      "No. Observations:                6818   AIC:                         7.722e+04\n",
      "Df Residuals:                    6815   BIC:                         7.724e+04\n",
      "Df Model:                           2                                         \n",
      "Covariance Type:            nonrobust                                         \n",
      "==============================================================================\n",
      "                 coef    std err          t      P>|t|      [0.025      0.975]\n",
      "------------------------------------------------------------------------------\n",
      "Intercept     94.0678      2.275     41.342      0.000      89.607      98.528\n",
      "Diet          12.2022      0.729     16.747      0.000      10.774      13.631\n",
      "Time           0.1238      0.125      0.990      0.322      -0.121       0.369\n",
      "==============================================================================\n",
      "Omnibus:                      694.766   Durbin-Watson:                   0.055\n",
      "Prob(Omnibus):                  0.000   Jarque-Bera (JB):              922.241\n",
      "Skew:                           0.886   Prob(JB):                    5.47e-201\n",
      "Kurtosis:                       3.326   Cond. No.                         35.8\n",
      "==============================================================================\n",
      "\n",
      "Notes:\n",
      "[1] Standard Errors assume that the covariance matrix of the errors is correctly specified.\n"
     ]
    }
   ],
   "source": [
    "from statsmodels.formula.api import ols\n",
    "\n",
    "# Join the experimental and covariate data based on common column(s), and print this merged data\n",
    "merged_chick_data = pd.merge(exp_chick_data, cov_chick_data, on=\"Chick\")\n",
    "\n",
    "# Produce an ANCOVA predicting 'weight' based on 'Diet' and 'Time'\n",
    "model = ols(\"weight ~ Diet + Time\", data=merged_chick_data).fit()\n",
    "\n",
    "print(model.summary())"
   ]
  },
  {
   "cell_type": "code",
   "execution_count": 41,
   "id": "6b003064",
   "metadata": {},
   "outputs": [],
   "source": [
    "merged_chick_data[\"Diet\"] = merged_chick_data[\"Diet\"].astype(\"category\")"
   ]
  },
  {
   "cell_type": "code",
   "execution_count": 42,
   "id": "1f640cd7",
   "metadata": {},
   "outputs": [
    {
     "data": {
      "image/png": "[encoded data removed]",
      "text/plain": [
       "<Figure size 658.875x500 with 1 Axes>"
      ]
     },
     "metadata": {},
     "output_type": "display_data"
    }
   ],
   "source": [
    "g = sns.lmplot(\n",
    "    x=\"Time\",\n",
    "    y=\"weight\",\n",
    "    hue=\"Diet\",\n",
    "    data=merged_chick_data,\n",
    "    ci=None,\n",
    "    height=5,\n",
    "    aspect=1.2,\n",
    "    scatter_kws={\"s\": 18, \"alpha\": 0.25},\n",
    "    markers=[\"o\", \"s\", \"D\", \"^\"],\n",
    "    legend=True,\n",
    ")\n",
    "ax = g.ax\n",
    "ax.set_xlabel(\"Time\")\n",
    "ax.set_ylabel(\"Weight\")\n",
    "ax.set_title(\"Weight vs Time by Diet\")\n",
    "ax.set_xlim(\n",
    "    merged_chick_data[\"Time\"].min() - 0.5, merged_chick_data[\"Time\"].max() + 0.5\n",
    ")\n",
    "\n",
    "# lmplot returns a FacetGrid; its legend is attached to the FacetGrid (g._legend),\n",
    "# not directly to the returned axis. Move the FacetGrid legend if present.\n",
    "if hasattr(g, \"_legend\") and g._legend is not None:\n",
    "    g._legend.set_bbox_to_anchor((1, 1))\n",
    "    g._legend.set_loc(\"upper left\")\n",
    "\n",
    "plt.tight_layout()\n",
    "plt.show()"
   ]
  },
  {
   "cell_type": "markdown",
   "id": "b61da1a0",
   "metadata": {},
   "source": [
    "### A Framework for Selecting a Statistical Test\n",
    "\n",
    "Selecting the appropriate statistical test is a critical step that ensures the validity and reliability of your conclusions. The choice is guided by the structure of your data and your research question. Before choosing a test, you should answer the following:\n",
    "\n",
    "1.  **What is my hypothesis?** Am I comparing means, testing for an association between variables, or fitting a predictive model?\n",
    "2.  **What are the data types of my variables?** Is my dependent (response) variable numeric or categorical? What about my independent (explanatory) variables?\n",
    "3.  **How many groups am I comparing?** Two, or more than two?\n",
    "4.  **Do my samples meet the test's assumptions?** For parametric tests like t-tests and ANOVA, this includes checking for normality and equal variances.\n",
    "\n",
    "The following table maps common analytical goals to their appropriate statistical tests.\n",
    "\n",
    "| Goal | Response Variable (DV) | Explanatory Variable (IV) | Appropriate Test | `scipy.stats` Function |\n",
    "| :--- | :--- | :--- | :--- | :--- |\n",
    "| Compare the mean of **one group** to a hypothesized value | Numeric | N/A | **One-Sample t-test** | `ttest_1samp` |\n",
    "| Compare the means of **two independent groups** | Numeric | Categorical (2 levels) | **Independent t-test** | `ttest_ind` |\n",
    "| Compare the means of **two paired/related groups** | Numeric | Categorical (2 levels, paired) | **Paired t-test** | `ttest_rel` |\n",
    "| Compare the means of **three or more independent groups**| Numeric | Categorical (\\>2 levels) | **One-Way ANOVA** | `f_oneway` |\n",
    "| Test for an association between **two categorical variables**| Categorical | Categorical | **Chi-Square Test of Independence**| `chi2_contingency` |\n",
    "\n",
    "### Practical Application in Python\n",
    "\n",
    "Let's apply this framework to a synthetic dataset.\n",
    "\n",
    "```python\n",
    "import pandas as pd\n",
    "import numpy as np\n",
    "from scipy.stats import ttest_ind, f_oneway, chi2_contingency\n",
    "\n",
    "# 1. Create a generic, reproducible dataset\n",
    "np.random.seed(42)\n",
    "df = pd.DataFrame({\n",
    "    'program': np.random.choice(['Strength', 'Endurance', 'HIIT'], 300),\n",
    "    'diet': np.random.choice(['Keto', 'Plant-Based'], 300),\n",
    "    'performance_increase': np.random.normal(loc=10, scale=2, size=300)\n",
    "})\n",
    "\n",
    "# Add a slight effect for demonstration\n",
    "df.loc[df['program'] == 'Strength', 'performance_increase'] += 1.5\n",
    "```\n",
    "\n",
    "#### Scenario 1: Comparing Two Group Means (Independent t-test)\n",
    "\n",
    "  * **Question**: Is there a statistically significant difference in `performance_increase` between the `Strength` and `Endurance` programs?\n",
    "  * **Variables**: DV is numeric, IV is categorical with 2 levels.\n",
    "  * **Test**: Independent t-test.\n",
    "\n",
    "\n",
    "```python\n",
    "# Isolate the data for the two groups\n",
    "group1 = df[df['program'] == 'Strength']['performance_increase']\n",
    "group2 = df[df['program'] == 'Endurance']['performance_increase']\n",
    "\n",
    "# Perform the independent t-test\n",
    "t_stat, p_val_ttest = ttest_ind(group1, group2)\n",
    "\n",
    "print(f\"t-statistic: {t_stat:.4f}, p-value: {p_val_ttest:.4f}\")\n",
    "```\n",
    "\n",
    "#### Scenario 2: Comparing Three or More Group Means (ANOVA)\n",
    "\n",
    "  * **Question**: Is there a statistically significant difference in `performance_increase` among the three programs (`Strength`, `Endurance`, `HIIT`)?\n",
    "  * **Variables**: DV is numeric, IV is categorical with \\>2 levels.\n",
    "  * **Test**: One-Way ANOVA.\n",
    "\n",
    "\n",
    "```python\n",
    "# Isolate the data for all three groups\n",
    "group_strength = df[df['program'] == 'Strength']['performance_increase']\n",
    "group_endurance = df[df['program'] == 'Endurance']['performance_increase']\n",
    "group_hiit = df[df['program'] == 'HIIT']['performance_increase']\n",
    "\n",
    "# Perform the one-way ANOVA\n",
    "f_stat, p_val_anova = f_oneway(group_strength, group_endurance, group_hiit)\n",
    "\n",
    "print(f\"F-statistic: {f_stat:.4f}, p-value: {p_val_anova:.4f}\")\n",
    "```\n",
    "\n",
    "#### Scenario 3: Testing for Association Between Categorical Variables\n",
    "\n",
    "  * **Question**: Is there a statistically significant association between `program` type and `diet` type?\n",
    "  * **Variables**: DV is categorical, IV is categorical.\n",
    "  * **Test**: Chi-square test of independence.\n",
    "\n",
    "<!-- end list -->\n",
    "\n",
    "```python\n",
    "# Create a contingency table\n",
    "contingency_table = pd.crosstab(df['program'], df['diet'])\n",
    "\n",
    "# Perform the chi-square test\n",
    "chi2_stat, p_val_chi2, dof, expected = chi2_contingency(contingency_table)\n",
    "\n",
    "print(f\"Chi-square statistic: {chi2_stat:.4f}, p-value: {p_val_chi2:.4f}\")\n",
    "```\n",
    "\n"
   ]
  },
  {
   "cell_type": "code",
   "execution_count": 43,
   "id": "f77e5f5c",
   "metadata": {},
   "outputs": [
    {
     "data": {
      "application/vnd.microsoft.datawrangler.viewer.v0+json": {
       "columns": [
        {
         "name": "index",
         "rawType": "int64",
         "type": "integer"
        },
        {
         "name": "Catalyst",
         "rawType": "object",
         "type": "string"
        },
        {
         "name": "Reaction_Time",
         "rawType": "float64",
         "type": "float"
        }
       ],
       "ref": "f2ba6e3f-3e2d-44a0-8b83-4d3469a9dcc4",
       "rows": [
        [
         "0",
         "Palladium",
         "47.48357076505616"
        ],
        [
         "1",
         "Palladium",
         "44.30867849414408"
        ],
        [
         "2",
         "Palladium",
         "48.23844269050346"
        ],
        [
         "3",
         "Palladium",
         "52.61514928204013"
        ],
        [
         "4",
         "Palladium",
         "43.82923312638332"
        ]
       ],
       "shape": {
        "columns": 2,
        "rows": 5
       }
      },
      "text/html": [
       "<div>\n",
       "<style scoped>\n",
       "    .dataframe tbody tr th:only-of-type {\n",
       "        vertical-align: middle;\n",
       "    }\n",
       "\n",
       "    .dataframe tbody tr th {\n",
       "        vertical-align: top;\n",
       "    }\n",
       "\n",
       "    .dataframe thead th {\n",
       "        text-align: right;\n",
       "    }\n",
       "</style>\n",
       "<table border=\"1\" class=\"dataframe\">\n",
       "  <thead>\n",
       "    <tr style=\"text-align: right;\">\n",
       "      <th></th>\n",
       "      <th>Catalyst</th>\n",
       "      <th>Reaction_Time</th>\n",
       "    </tr>\n",
       "  </thead>\n",
       "  <tbody>\n",
       "    <tr>\n",
       "      <th>0</th>\n",
       "      <td>Palladium</td>\n",
       "      <td>47.483571</td>\n",
       "    </tr>\n",
       "    <tr>\n",
       "      <th>1</th>\n",
       "      <td>Palladium</td>\n",
       "      <td>44.308678</td>\n",
       "    </tr>\n",
       "    <tr>\n",
       "      <th>2</th>\n",
       "      <td>Palladium</td>\n",
       "      <td>48.238443</td>\n",
       "    </tr>\n",
       "    <tr>\n",
       "      <th>3</th>\n",
       "      <td>Palladium</td>\n",
       "      <td>52.615149</td>\n",
       "    </tr>\n",
       "    <tr>\n",
       "      <th>4</th>\n",
       "      <td>Palladium</td>\n",
       "      <td>43.829233</td>\n",
       "    </tr>\n",
       "  </tbody>\n",
       "</table>\n",
       "</div>"
      ],
      "text/plain": [
       "    Catalyst  Reaction_Time\n",
       "0  Palladium      47.483571\n",
       "1  Palladium      44.308678\n",
       "2  Palladium      48.238443\n",
       "3  Palladium      52.615149\n",
       "4  Palladium      43.829233"
      ]
     },
     "execution_count": 43,
     "metadata": {},
     "output_type": "execute_result"
    }
   ],
   "source": [
    "url = \"https://assets.datacamp.com/production/repositories/6639/datasets/fa31bb093297b26f95481a8bae36437fbdb2f93b/chemical_reactions.csv\"\n",
    "chemical_reactions = pd.read_csv(url, usecols=lambda col: not col.startswith(\"Unnamed\"))\n",
    "chemical_reactions.head()"
   ]
  },
  {
   "cell_type": "markdown",
   "id": "807f664f",
   "metadata": {},
   "source": [
    "### Choosing the right test: petrochemicals\n",
    "In a chemistry research lab, scientists are examining the efficiency of three well-known catalysts—Palladium (Pd), Platinum (Pt), and Nickel (Ni)—in facilitating a particular reaction. Each catalyst is used in a set of identical reactions under controlled conditions, and the time taken for each reaction to reach completion is meticulously recorded. Your goal is to compare the mean reaction times across the three catalyst groups to identify which catalyst, if any, has a significantly different reaction time."
   ]
  },
  {
   "cell_type": "code",
   "execution_count": 44,
   "id": "fa34bc94",
   "metadata": {},
   "outputs": [
    {
     "name": "stdout",
     "output_type": "stream",
     "text": [
      "P-value: 4.7107e-151, f-test: 478.7413\n"
     ]
    }
   ],
   "source": [
    "from scipy.stats import f_oneway\n",
    "\n",
    "# Use a list comprehension to filter into groups iterating over the catalyst_types and each of their 'Reaction_Time's\n",
    "\n",
    "catalyst_types = chemical_reactions[\"Catalyst\"].unique().tolist()\n",
    "\n",
    "# Collect reaction times for each catalyst into a list\n",
    "groups = [\n",
    "    chemical_reactions[chemical_reactions[\"Catalyst\"] == catalyst][\"Reaction_Time\"]\n",
    "    for catalyst in catalyst_types\n",
    "]\n",
    "\n",
    "# Run a one-way ANOVA on the three groups to compare their mean reaction times and print the p-value\n",
    "f_stat, p_val = f_oneway(*groups)\n",
    "\n",
    "print(f\"P-value: {p_val:.4e}, f-test: {f_stat:.4f}\")"
   ]
  },
  {
   "cell_type": "code",
   "execution_count": 45,
   "id": "6904143e",
   "metadata": {},
   "outputs": [
    {
     "data": {
      "application/vnd.microsoft.datawrangler.viewer.v0+json": {
       "columns": [
        {
         "name": "index",
         "rawType": "int64",
         "type": "integer"
        },
        {
         "name": "Department",
         "rawType": "object",
         "type": "string"
        },
        {
         "name": "Wellness_Program_Status",
         "rawType": "object",
         "type": "string"
        }
       ],
       "ref": "0c6e79fe-7b01-40d7-83da-588574e8ab0f",
       "rows": [
        [
         "0",
         "Marketing",
         "Enrolled"
        ],
        [
         "1",
         "Sales",
         "Enrolled"
        ],
        [
         "2",
         "Marketing",
         "Not Enrolled"
        ],
        [
         "3",
         "Marketing",
         "Not Enrolled"
        ],
        [
         "4",
         "Sales",
         "Enrolled"
        ]
       ],
       "shape": {
        "columns": 2,
        "rows": 5
       }
      },
      "text/html": [
       "<div>\n",
       "<style scoped>\n",
       "    .dataframe tbody tr th:only-of-type {\n",
       "        vertical-align: middle;\n",
       "    }\n",
       "\n",
       "    .dataframe tbody tr th {\n",
       "        vertical-align: top;\n",
       "    }\n",
       "\n",
       "    .dataframe thead th {\n",
       "        text-align: right;\n",
       "    }\n",
       "</style>\n",
       "<table border=\"1\" class=\"dataframe\">\n",
       "  <thead>\n",
       "    <tr style=\"text-align: right;\">\n",
       "      <th></th>\n",
       "      <th>Department</th>\n",
       "      <th>Wellness_Program_Status</th>\n",
       "    </tr>\n",
       "  </thead>\n",
       "  <tbody>\n",
       "    <tr>\n",
       "      <th>0</th>\n",
       "      <td>Marketing</td>\n",
       "      <td>Enrolled</td>\n",
       "    </tr>\n",
       "    <tr>\n",
       "      <th>1</th>\n",
       "      <td>Sales</td>\n",
       "      <td>Enrolled</td>\n",
       "    </tr>\n",
       "    <tr>\n",
       "      <th>2</th>\n",
       "      <td>Marketing</td>\n",
       "      <td>Not Enrolled</td>\n",
       "    </tr>\n",
       "    <tr>\n",
       "      <th>3</th>\n",
       "      <td>Marketing</td>\n",
       "      <td>Not Enrolled</td>\n",
       "    </tr>\n",
       "    <tr>\n",
       "      <th>4</th>\n",
       "      <td>Sales</td>\n",
       "      <td>Enrolled</td>\n",
       "    </tr>\n",
       "  </tbody>\n",
       "</table>\n",
       "</div>"
      ],
      "text/plain": [
       "  Department Wellness_Program_Status\n",
       "0  Marketing                Enrolled\n",
       "1      Sales                Enrolled\n",
       "2  Marketing            Not Enrolled\n",
       "3  Marketing            Not Enrolled\n",
       "4      Sales                Enrolled"
      ]
     },
     "execution_count": 45,
     "metadata": {},
     "output_type": "execute_result"
    }
   ],
   "source": [
    "url = \"https://assets.datacamp.com/production/repositories/6639/datasets/33a580fb6b6b303ee02c4ce225a8a9c19d275915/hr_wellness.csv\"\n",
    "hr_wellness = pd.read_csv(url, usecols=lambda col: not col.startswith(\"Unnamed\"))\n",
    "hr_wellness.head()"
   ]
  },
  {
   "cell_type": "markdown",
   "id": "5d4c4c73",
   "metadata": {},
   "source": [
    "### Choosing the right test: human resources\n",
    "In human resources, it's essential to understand the relationships between different variables that might influence employee satisfaction or turnover. Consider a scenario where an HR department is interested in understanding the association between the department in which employees work and their participation in a new workplace wellness program. The HR team has compiled this data over the past two years and has asked you if there's any significant association between an employee's department and their enrolling in the wellness program."
   ]
  },
  {
   "cell_type": "code",
   "execution_count": 46,
   "id": "4432f63d",
   "metadata": {},
   "outputs": [
    {
     "data": {
      "application/vnd.microsoft.datawrangler.viewer.v0+json": {
       "columns": [
        {
         "name": "Department",
         "rawType": "object",
         "type": "string"
        },
        {
         "name": "Enrolled",
         "rawType": "int64",
         "type": "integer"
        },
        {
         "name": "Not Enrolled",
         "rawType": "int64",
         "type": "integer"
        }
       ],
       "ref": "23efd8a6-ffbc-490b-a04a-bbf2b0357bdc",
       "rows": [
        [
         "Engineering",
         "279",
         "187"
        ],
        [
         "Marketing",
         "276",
         "186"
        ],
        [
         "Sales",
         "269",
         "223"
        ]
       ],
       "shape": {
        "columns": 2,
        "rows": 3
       }
      },
      "text/html": [
       "<div>\n",
       "<style scoped>\n",
       "    .dataframe tbody tr th:only-of-type {\n",
       "        vertical-align: middle;\n",
       "    }\n",
       "\n",
       "    .dataframe tbody tr th {\n",
       "        vertical-align: top;\n",
       "    }\n",
       "\n",
       "    .dataframe thead th {\n",
       "        text-align: right;\n",
       "    }\n",
       "</style>\n",
       "<table border=\"1\" class=\"dataframe\">\n",
       "  <thead>\n",
       "    <tr style=\"text-align: right;\">\n",
       "      <th>Wellness_Program_Status</th>\n",
       "      <th>Enrolled</th>\n",
       "      <th>Not Enrolled</th>\n",
       "    </tr>\n",
       "    <tr>\n",
       "      <th>Department</th>\n",
       "      <th></th>\n",
       "      <th></th>\n",
       "    </tr>\n",
       "  </thead>\n",
       "  <tbody>\n",
       "    <tr>\n",
       "      <th>Engineering</th>\n",
       "      <td>279</td>\n",
       "      <td>187</td>\n",
       "    </tr>\n",
       "    <tr>\n",
       "      <th>Marketing</th>\n",
       "      <td>276</td>\n",
       "      <td>186</td>\n",
       "    </tr>\n",
       "    <tr>\n",
       "      <th>Sales</th>\n",
       "      <td>269</td>\n",
       "      <td>223</td>\n",
       "    </tr>\n",
       "  </tbody>\n",
       "</table>\n",
       "</div>"
      ],
      "text/plain": [
       "Wellness_Program_Status  Enrolled  Not Enrolled\n",
       "Department                                     \n",
       "Engineering                   279           187\n",
       "Marketing                     276           186\n",
       "Sales                         269           223"
      ]
     },
     "metadata": {},
     "output_type": "display_data"
    }
   ],
   "source": [
    "# Create a contingency table comparing 'Department' and 'Wellness_Program_Status'\n",
    "contingency_table = pd.crosstab(\n",
    "    hr_wellness[\"Department\"], hr_wellness[\"Wellness_Program_Status\"]\n",
    ")\n",
    "display(contingency_table)"
   ]
  },
  {
   "cell_type": "code",
   "execution_count": 47,
   "id": "815bf08b",
   "metadata": {},
   "outputs": [
    {
     "data": {
      "application/vnd.microsoft.datawrangler.viewer.v0+json": {
       "columns": [
        {
         "name": "index",
         "rawType": "int64",
         "type": "integer"
        },
        {
         "name": "Chi-square",
         "rawType": "float64",
         "type": "float"
        },
        {
         "name": "P-value",
         "rawType": "float64",
         "type": "float"
        },
        {
         "name": "DOF",
         "rawType": "int64",
         "type": "integer"
        }
       ],
       "ref": "b361464e-4e18-4bb6-85b6-72fd11d363f8",
       "rows": [
        [
         "0",
         "3.4775739037369617",
         "0.17573344450112738",
         "2"
        ]
       ],
       "shape": {
        "columns": 3,
        "rows": 1
       }
      },
      "text/html": [
       "<div>\n",
       "<style scoped>\n",
       "    .dataframe tbody tr th:only-of-type {\n",
       "        vertical-align: middle;\n",
       "    }\n",
       "\n",
       "    .dataframe tbody tr th {\n",
       "        vertical-align: top;\n",
       "    }\n",
       "\n",
       "    .dataframe thead th {\n",
       "        text-align: right;\n",
       "    }\n",
       "</style>\n",
       "<table border=\"1\" class=\"dataframe\">\n",
       "  <thead>\n",
       "    <tr style=\"text-align: right;\">\n",
       "      <th></th>\n",
       "      <th>Chi-square</th>\n",
       "      <th>P-value</th>\n",
       "      <th>DOF</th>\n",
       "    </tr>\n",
       "  </thead>\n",
       "  <tbody>\n",
       "    <tr>\n",
       "      <th>0</th>\n",
       "      <td>3.477574</td>\n",
       "      <td>0.175733</td>\n",
       "      <td>2</td>\n",
       "    </tr>\n",
       "  </tbody>\n",
       "</table>\n",
       "</div>"
      ],
      "text/plain": [
       "   Chi-square   P-value  DOF\n",
       "0    3.477574  0.175733    2"
      ]
     },
     "metadata": {},
     "output_type": "display_data"
    },
    {
     "name": "stdout",
     "output_type": "stream",
     "text": [
      "Expected counts under the null hypothesis:\n"
     ]
    },
    {
     "data": {
      "application/vnd.microsoft.datawrangler.viewer.v0+json": {
       "columns": [
        {
         "name": "Department",
         "rawType": "object",
         "type": "string"
        },
        {
         "name": "Enrolled",
         "rawType": "float64",
         "type": "float"
        },
        {
         "name": "Not Enrolled",
         "rawType": "float64",
         "type": "float"
        }
       ],
       "ref": "1e2f10b8-1780-4c7b-939b-394c4044a102",
       "rows": [
        [
         "Engineering",
         "270.4112676056338",
         "195.5887323943662"
        ],
        [
         "Marketing",
         "268.09014084507044",
         "193.90985915492956"
        ],
        [
         "Sales",
         "285.4985915492958",
         "206.50140845070422"
        ]
       ],
       "shape": {
        "columns": 2,
        "rows": 3
       }
      },
      "text/html": [
       "<div>\n",
       "<style scoped>\n",
       "    .dataframe tbody tr th:only-of-type {\n",
       "        vertical-align: middle;\n",
       "    }\n",
       "\n",
       "    .dataframe tbody tr th {\n",
       "        vertical-align: top;\n",
       "    }\n",
       "\n",
       "    .dataframe thead th {\n",
       "        text-align: right;\n",
       "    }\n",
       "</style>\n",
       "<table border=\"1\" class=\"dataframe\">\n",
       "  <thead>\n",
       "    <tr style=\"text-align: right;\">\n",
       "      <th>Wellness_Program_Status</th>\n",
       "      <th>Enrolled</th>\n",
       "      <th>Not Enrolled</th>\n",
       "    </tr>\n",
       "    <tr>\n",
       "      <th>Department</th>\n",
       "      <th></th>\n",
       "      <th></th>\n",
       "    </tr>\n",
       "  </thead>\n",
       "  <tbody>\n",
       "    <tr>\n",
       "      <th>Engineering</th>\n",
       "      <td>270.411268</td>\n",
       "      <td>195.588732</td>\n",
       "    </tr>\n",
       "    <tr>\n",
       "      <th>Marketing</th>\n",
       "      <td>268.090141</td>\n",
       "      <td>193.909859</td>\n",
       "    </tr>\n",
       "    <tr>\n",
       "      <th>Sales</th>\n",
       "      <td>285.498592</td>\n",
       "      <td>206.501408</td>\n",
       "    </tr>\n",
       "  </tbody>\n",
       "</table>\n",
       "</div>"
      ],
      "text/plain": [
       "Wellness_Program_Status    Enrolled  Not Enrolled\n",
       "Department                                       \n",
       "Engineering              270.411268    195.588732\n",
       "Marketing                268.090141    193.909859\n",
       "Sales                    285.498592    206.501408"
      ]
     },
     "metadata": {},
     "output_type": "display_data"
    }
   ],
   "source": [
    "from scipy.stats import chi2_contingency\n",
    "\n",
    "# Perform the chi-square test of association\n",
    "chi2_stat, p_val, dof, expected = chi2_contingency(contingency_table)\n",
    "\n",
    "# Summary table with scalar results\n",
    "hr_wellness_chi2 = pd.DataFrame(\n",
    "    [{\"Chi-square\": chi2_stat, \"P-value\": p_val, \"DOF\": dof}]\n",
    ")\n",
    "\n",
    "# Expected counts as a separate DataFrame with same index/columns as the contingency table\n",
    "expected_df = pd.DataFrame(\n",
    "    expected, index=contingency_table.index, columns=contingency_table.columns\n",
    ")\n",
    "\n",
    "display(hr_wellness_chi2)\n",
    "print(\"Expected counts under the null hypothesis:\")\n",
    "display(expected_df)"
   ]
  },
  {
   "cell_type": "markdown",
   "id": "46b9343f",
   "metadata": {},
   "source": [
    "### Choosing the right test: finance\n",
    "In the realm of finance, investment strategists are continually evaluating different approaches to maximize returns. Consider a scenario where a financial firm wishes to assess the effectiveness of two investment strategies: \"Quantitative Analysis\" and \"Fundamental Analysis\". The firm has applied each strategy to a separate set of investment portfolios for a year and now asks you to compare the annual returns to determine if there is any difference in strategy returns by comparing the mean returns of the two groups."
   ]
  },
  {
   "cell_type": "code",
   "execution_count": 48,
   "id": "92e6aa9f",
   "metadata": {},
   "outputs": [
    {
     "data": {
      "application/vnd.microsoft.datawrangler.viewer.v0+json": {
       "columns": [
        {
         "name": "index",
         "rawType": "int64",
         "type": "integer"
        },
        {
         "name": "Strategy_Type",
         "rawType": "object",
         "type": "string"
        },
        {
         "name": "Annual_Return",
         "rawType": "float64",
         "type": "float"
        }
       ],
       "ref": "b69cc295-e9a7-46b4-b3c7-57249463c32a",
       "rows": [
        [
         "0",
         "Quantitative",
         "10.597379203070812"
        ],
        [
         "1",
         "Quantitative",
         "1.6562480962254875"
        ],
        [
         "2",
         "Quantitative",
         "9.202100130981052"
        ],
        [
         "3",
         "Quantitative",
         "3.9802128410100743"
        ],
        [
         "4",
         "Quantitative",
         "8.086720498134591"
        ]
       ],
       "shape": {
        "columns": 2,
        "rows": 5
       }
      },
      "text/html": [
       "<div>\n",
       "<style scoped>\n",
       "    .dataframe tbody tr th:only-of-type {\n",
       "        vertical-align: middle;\n",
       "    }\n",
       "\n",
       "    .dataframe tbody tr th {\n",
       "        vertical-align: top;\n",
       "    }\n",
       "\n",
       "    .dataframe thead th {\n",
       "        text-align: right;\n",
       "    }\n",
       "</style>\n",
       "<table border=\"1\" class=\"dataframe\">\n",
       "  <thead>\n",
       "    <tr style=\"text-align: right;\">\n",
       "      <th></th>\n",
       "      <th>Strategy_Type</th>\n",
       "      <th>Annual_Return</th>\n",
       "    </tr>\n",
       "  </thead>\n",
       "  <tbody>\n",
       "    <tr>\n",
       "      <th>0</th>\n",
       "      <td>Quantitative</td>\n",
       "      <td>10.597379</td>\n",
       "    </tr>\n",
       "    <tr>\n",
       "      <th>1</th>\n",
       "      <td>Quantitative</td>\n",
       "      <td>1.656248</td>\n",
       "    </tr>\n",
       "    <tr>\n",
       "      <th>2</th>\n",
       "      <td>Quantitative</td>\n",
       "      <td>9.202100</td>\n",
       "    </tr>\n",
       "    <tr>\n",
       "      <th>3</th>\n",
       "      <td>Quantitative</td>\n",
       "      <td>3.980213</td>\n",
       "    </tr>\n",
       "    <tr>\n",
       "      <th>4</th>\n",
       "      <td>Quantitative</td>\n",
       "      <td>8.086720</td>\n",
       "    </tr>\n",
       "  </tbody>\n",
       "</table>\n",
       "</div>"
      ],
      "text/plain": [
       "  Strategy_Type  Annual_Return\n",
       "0  Quantitative      10.597379\n",
       "1  Quantitative       1.656248\n",
       "2  Quantitative       9.202100\n",
       "3  Quantitative       3.980213\n",
       "4  Quantitative       8.086720"
      ]
     },
     "execution_count": 48,
     "metadata": {},
     "output_type": "execute_result"
    }
   ],
   "source": [
    "url = \"https://assets.datacamp.com/production/repositories/6639/datasets/55474b74cdbdfb4ef4c60df6da40d9dfc6d0ad8e/investment_returns.csv\"\n",
    "investment_returns = pd.read_csv(url, usecols=lambda col: not col.startswith(\"Unnamed\"))\n",
    "investment_returns.head()"
   ]
  },
  {
   "cell_type": "code",
   "execution_count": 49,
   "id": "5d13285e",
   "metadata": {},
   "outputs": [
    {
     "name": "stdout",
     "output_type": "stream",
     "text": [
      "2.0567003424807146e-14\n"
     ]
    }
   ],
   "source": [
    "from scipy.stats import ttest_ind\n",
    "\n",
    "# Separate the annual returns by strategy type\n",
    "quantitative_returns = investment_returns[\n",
    "    investment_returns[\"Strategy_Type\"] == \"Quantitative\"\n",
    "][\"Annual_Return\"]\n",
    "\n",
    "fundamental_returns = investment_returns[\n",
    "    investment_returns[\"Strategy_Type\"] == \"Fundamental\"\n",
    "][\"Annual_Return\"]\n",
    "\n",
    "# Perform the independent samples t-test between the two groups\n",
    "t_stat, p_val = ttest_ind(quantitative_returns, fundamental_returns)\n",
    "\n",
    "print(p_val)"
   ]
  },
  {
   "cell_type": "markdown",
   "id": "92eff580",
   "metadata": {},
   "source": [
    "## The Need for Post-Hoc Analysis\n",
    "\n",
    "An ANOVA test is an **omnibus test**. A significant result (e.g., a p-value less than 0.05) tells us that there is a statistically significant difference *somewhere* among the means of the groups being compared. However, it does not specify *which* specific groups are different from each other.\n",
    "\n",
    "It is inappropriate to simply perform multiple standard t-tests on all possible pairs of groups, as this inflates the **Type I error rate** (the probability of a false positive). As you perform more tests, the likelihood of finding a \"significant\" result purely by chance increases. **Post-hoc tests** are specifically designed to solve this multiple comparisons problem by adjusting the significance level for each comparison.\n",
    "\n",
    "### Key Post-Hoc Methods\n",
    "\n",
    "#### Tukey's HSD (Honest Significant Difference) Test\n",
    "\n",
    "Tukey's HSD is a post-hoc test that compares all possible pairs of means simultaneously while controlling the overall error rate. It is one of the most common and robust methods to use as a follow-up to a significant ANOVA.\n",
    "\n",
    "  * **Interpretation**: The output provides a table showing each pair of groups, the difference in their means, an adjusted p-value (`p-adj`), and a confidence interval for the difference. If the `p-adj` is less than your significance level ($\\\\alpha$) and the confidence interval does not contain zero, you can conclude that the two group means are significantly different.\n",
    "  * **Implementation**: This test is available in the `statsmodels` library.\n",
    "\n",
    "#### The Bonferroni Correction\n",
    "\n",
    "The Bonferroni correction is not a test itself, but a method for adjusting the p-values obtained from a series of individual hypothesis tests (such as pairwise t-tests).\n",
    "\n",
    "  * **The Logic**: It is a very conservative method that controls the overall Type I error rate by multiplying each individual p-value by the number of tests being performed. This makes it \"harder\" for any single test to be declared significant, thus protecting against false positives.\n",
    "  * **Implementation**: This is a two-step process: first, run the individual pairwise tests and collect their p-values; second, apply the correction to this list of p-values.\n",
    "\n",
    "### A Complete Example\n",
    "\n",
    "**Scenario**: A company tests three different ad campaigns ('A', 'B', 'C') to see their effect on the `Click_Through_Rate`. An ANOVA test has already shown a significant overall difference, and now we need to find out which specific campaigns differ.\n",
    "\n",
    "```python\n",
    "import pandas as pd\n",
    "import numpy as np\n",
    "from scipy.stats import f_oneway, ttest_ind\n",
    "from statsmodels.stats.multicomp import pairwise_tukeyhsd\n",
    "from statsmodels.sandbox.stats.multicomp import multipletests\n",
    "\n",
    "# 1. Create a generic, reproducible dataset\n",
    "np.random.seed(42)\n",
    "df = pd.DataFrame({\n",
    "    'Ad_Campaign': np.random.choice(['A', 'B', 'C'], 300),\n",
    "    'Click_Through_Rate': np.random.normal(5, 1, 300)\n",
    "})\n",
    "# Create a significant difference: Campaign C is more effective\n",
    "df.loc[df['Ad_Campaign'] == 'C', 'Click_Through_Rate'] += 1.5\n",
    "\n",
    "# 2. Perform ANOVA to confirm an overall difference\n",
    "groups = [df[df['Ad_Campaign'] == group]['Click_Through_Rate'] for group in df['Ad_Campaign'].unique()]\n",
    "f_stat, p_val_anova = f_oneway(*groups)\n",
    "print(f\"P-value for overall difference: {p_val_anova:.10f}\\n\") # This should be significant\n",
    "\n",
    "# 3. Post-Hoc Analysis: Tukey's HSD\n",
    "tukey_results = pairwise_tukeyhsd(\n",
    "    endog=df['Click_Through_Rate'], \n",
    "    groups=df['Ad_Campaign'], \n",
    "    alpha=0.05\n",
    ")\n",
    "print(tukey_results)\n",
    "\n",
    "# 4. Post-Hoc Analysis: Bonferroni Correction\n",
    "# Step 4a: Perform individual t-tests and collect p-values\n",
    "comparisons = [('A', 'B'), ('A', 'C'), ('B', 'C')]\n",
    "p_values_raw = []\n",
    "for comp in comparisons:\n",
    "    group1 = df[df['Ad_Campaign'] == comp[0]]['Click_Through_Rate']\n",
    "    group2 = df[df['Ad_Campaign'] == comp[1]]['Click_Through_Rate']\n",
    "    t_stat, p_val = ttest_ind(group1, group2)\n",
    "    p_values_raw.append(p_val)\n",
    "\n",
    "# Step 4b: Apply the Bonferroni correction\n",
    "reject, p_adjusted, _, _ = multipletests(p_values_raw, alpha=0.05, method='bonferroni')\n",
    "\n",
    "for i, comp in enumerate(comparisons):\n",
    "    print(f\"Comparison: {comp[0]} vs {comp[1]}\")\n",
    "    print(f\"  Raw p-value: {p_values_raw[i]:.4f}\")\n",
    "    print(f\"  Adjusted p-value: {p_adjusted[i]:.4f}\")\n",
    "    print(f\"  Reject H0: {reject[i]}\")\n",
    "```\n",
    "\n",
    "**Interpretation**:\n",
    "Both methods lead to the same conclusions. The Tukey's HSD summary table and the Bonferroni correction results both show that the p-values for the 'A' vs. 'C' and 'B' vs. 'C' comparisons are very small (and the `reject` column is `True`), indicating a significant difference. However, the p-value for the 'A' vs. 'B' comparison is not significant. We can therefore conclude that Campaign C is significantly more effective than both A and B, but there is no significant difference between A and B.**Post-hoc analysis** is performed after a statistically significant **ANOVA** test to determine which specific group means are different from each other. Common methods include **Tukey's HSD**, a dedicated test for all pairwise comparisons, and the **Bonferroni correction**, which adjusts the p-values of standard pairwise t-tests to control for the problem of multiple comparisons.\n",
    "\n",
    "\n",
    "### The Need for Post-Hoc Analysis\n",
    "\n",
    "An ANOVA test is an **omnibus test**. A significant result (e.g., a p-value less than 0.05) tells us that there is a statistically significant difference *somewhere* among the means of the groups being compared. However, it does not specify *which* specific groups are different from each other.\n",
    "\n",
    "It is inappropriate to simply perform multiple standard t-tests on all possible pairs of groups, as this inflates the **Type I error rate** (the probability of a false positive). As you perform more tests, the likelihood of finding a \"significant\" result purely by chance increases. **Post-hoc tests** are specifically designed to solve this multiple comparisons problem by adjusting the significance level for each comparison.\n",
    "\n",
    "### Key Post-Hoc Methods\n",
    "\n",
    "#### Tukey's HSD (Honest Significant Difference) Test\n",
    "\n",
    "Tukey's HSD is a post-hoc test that compares all possible pairs of means simultaneously while controlling the overall error rate. It is one of the most common and robust methods to use as a follow-up to a significant ANOVA.\n",
    "\n",
    "  * **Interpretation**: The output provides a table showing each pair of groups, the difference in their means, an adjusted p-value (`p-adj`), and a confidence interval for the difference. If the `p-adj` is less than your significance level ($\\\\alpha$) and the confidence interval does not contain zero, you can conclude that the two group means are significantly different.\n",
    "  * **Implementation**: This test is available in the `statsmodels` library.\n",
    "\n",
    "#### The Bonferroni Correction\n",
    "\n",
    "The Bonferroni correction is not a test itself, but a method for adjusting the p-values obtained from a series of individual hypothesis tests (such as pairwise t-tests).\n",
    "\n",
    "  * **The Logic**: It is a very conservative method that controls the overall Type I error rate by multiplying each individual p-value by the number of tests being performed. This makes it \"harder\" for any single test to be declared significant, thus protecting against false positives.\n",
    "  * **Implementation**: This is a two-step process: first, run the individual pairwise tests and collect their p-values; second, apply the correction to this list of p-values.\n",
    "\n",
    "### A Complete Example\n",
    "\n",
    "**Scenario**: A company tests three different ad campaigns ('A', 'B', 'C') to see their effect on the `Click_Through_Rate`. An ANOVA test has already shown a significant overall difference, and now we need to find out which specific campaigns differ.\n",
    "\n",
    "```python\n",
    "import pandas as pd\n",
    "import numpy as np\n",
    "from scipy.stats import f_oneway, ttest_ind\n",
    "from statsmodels.stats.multicomp import pairwise_tukeyhsd\n",
    "from statsmodels.sandbox.stats.multicomp import multipletests\n",
    "\n",
    "# 1. Create a generic, reproducible dataset\n",
    "np.random.seed(42)\n",
    "df = pd.DataFrame({\n",
    "    'Ad_Campaign': np.random.choice(['A', 'B', 'C'], 300),\n",
    "    'Click_Through_Rate': np.random.normal(5, 1, 300)\n",
    "})\n",
    "# Create a significant difference: Campaign C is more effective\n",
    "df.loc[df['Ad_Campaign'] == 'C', 'Click_Through_Rate'] += 1.5\n",
    "\n",
    "# 2. Perform ANOVA to confirm an overall difference\n",
    "groups = [df[df['Ad_Campaign'] == group]['Click_Through_Rate'] for group in df['Ad_Campaign'].unique()]\n",
    "f_stat, p_val_anova = f_oneway(*groups)\n",
    "print(f\"P-value for overall difference: {p_val_anova:.10f}\\n\") # This should be significant\n",
    "\n",
    "# 3. Post-Hoc Analysis: Tukey's HSD \n",
    "tukey_results = pairwise_tukeyhsd(\n",
    "    endog=df['Click_Through_Rate'], \n",
    "    groups=df['Ad_Campaign'], \n",
    "    alpha=0.05\n",
    ")\n",
    "print(tukey_results)\n",
    "\n",
    "#  4. Post-Hoc Analysis: Bonferroni Correction \n",
    "# Step 4a: Perform individual t-tests and collect p-values\n",
    "comparisons = [('A', 'B'), ('A', 'C'), ('B', 'C')]\n",
    "p_values_raw = []\n",
    "for comp in comparisons:\n",
    "    group1 = df[df['Ad_Campaign'] == comp[0]]['Click_Through_Rate']\n",
    "    group2 = df[df['Ad_Campaign'] == comp[1]]['Click_Through_Rate']\n",
    "    t_stat, p_val = ttest_ind(group1, group2)\n",
    "    p_values_raw.append(p_val)\n",
    "\n",
    "# Step 4b: Apply the Bonferroni correction\n",
    "reject, p_adjusted, _, _ = multipletests(p_values_raw, alpha=0.05, method='bonferroni')\n",
    "\n",
    "for i, comp in enumerate(comparisons):\n",
    "    print(f\"Comparison: {comp[0]} vs {comp[1]}\")\n",
    "    print(f\"  Raw p-value: {p_values_raw[i]:.4f}\")\n",
    "    print(f\"  Adjusted p-value: {p_adjusted[i]:.4f}\")\n",
    "    print(f\"  Reject H0: {reject[i]}\")\n",
    "```\n",
    "\n",
    "**Interpretation**:\n",
    "Both methods lead to the same conclusions. The Tukey's HSD summary table and the Bonferroni correction results both show that the p-values for the 'A' vs. 'C' and 'B' vs. 'C' comparisons are very small (and the `reject` column is `True`), indicating a significant difference. However, the p-value for the 'A' vs. 'B' comparison is not significant. We can therefore conclude that Campaign C is significantly more effective than both A and B, but there is no significant difference between A and B."
   ]
  },
  {
   "cell_type": "code",
   "execution_count": 50,
   "id": "f2c30823",
   "metadata": {},
   "outputs": [
    {
     "data": {
      "application/vnd.microsoft.datawrangler.viewer.v0+json": {
       "columns": [
        {
         "name": "index",
         "rawType": "int64",
         "type": "integer"
        },
        {
         "name": "Messaging_Style",
         "rawType": "object",
         "type": "string"
        },
        {
         "name": "Time_of_Day",
         "rawType": "object",
         "type": "string"
        },
        {
         "name": "Click_Through_Rate",
         "rawType": "float64",
         "type": "float"
        },
        {
         "name": "Conversions",
         "rawType": "int64",
         "type": "integer"
        }
       ],
       "ref": "5bd891a5-9be9-4fb5-98c1-59970d9f8f8a",
       "rows": [
        [
         "0",
         "Casual",
         "Morning",
         "0.640465174390288",
         "500"
        ],
        [
         "1",
         "Formal",
         "Evening",
         "0.6985330070916299",
         "598"
        ],
        [
         "2",
         "Casual",
         "Morning",
         "0.2578341507611046",
         "234"
        ],
        [
         "3",
         "Casual",
         "Evening",
         "0.9229707513324638",
         "602"
        ],
        [
         "4",
         "Casual",
         "Morning",
         "0.47689347240286584",
         "314"
        ]
       ],
       "shape": {
        "columns": 4,
        "rows": 5
       }
      },
      "text/html": [
       "<div>\n",
       "<style scoped>\n",
       "    .dataframe tbody tr th:only-of-type {\n",
       "        vertical-align: middle;\n",
       "    }\n",
       "\n",
       "    .dataframe tbody tr th {\n",
       "        vertical-align: top;\n",
       "    }\n",
       "\n",
       "    .dataframe thead th {\n",
       "        text-align: right;\n",
       "    }\n",
       "</style>\n",
       "<table border=\"1\" class=\"dataframe\">\n",
       "  <thead>\n",
       "    <tr style=\"text-align: right;\">\n",
       "      <th></th>\n",
       "      <th>Messaging_Style</th>\n",
       "      <th>Time_of_Day</th>\n",
       "      <th>Click_Through_Rate</th>\n",
       "      <th>Conversions</th>\n",
       "    </tr>\n",
       "  </thead>\n",
       "  <tbody>\n",
       "    <tr>\n",
       "      <th>0</th>\n",
       "      <td>Casual</td>\n",
       "      <td>Morning</td>\n",
       "      <td>0.640465</td>\n",
       "      <td>500</td>\n",
       "    </tr>\n",
       "    <tr>\n",
       "      <th>1</th>\n",
       "      <td>Formal</td>\n",
       "      <td>Evening</td>\n",
       "      <td>0.698533</td>\n",
       "      <td>598</td>\n",
       "    </tr>\n",
       "    <tr>\n",
       "      <th>2</th>\n",
       "      <td>Casual</td>\n",
       "      <td>Morning</td>\n",
       "      <td>0.257834</td>\n",
       "      <td>234</td>\n",
       "    </tr>\n",
       "    <tr>\n",
       "      <th>3</th>\n",
       "      <td>Casual</td>\n",
       "      <td>Evening</td>\n",
       "      <td>0.922971</td>\n",
       "      <td>602</td>\n",
       "    </tr>\n",
       "    <tr>\n",
       "      <th>4</th>\n",
       "      <td>Casual</td>\n",
       "      <td>Morning</td>\n",
       "      <td>0.476893</td>\n",
       "      <td>314</td>\n",
       "    </tr>\n",
       "  </tbody>\n",
       "</table>\n",
       "</div>"
      ],
      "text/plain": [
       "  Messaging_Style Time_of_Day  Click_Through_Rate  Conversions\n",
       "0          Casual     Morning            0.640465          500\n",
       "1          Formal     Evening            0.698533          598\n",
       "2          Casual     Morning            0.257834          234\n",
       "3          Casual     Evening            0.922971          602\n",
       "4          Casual     Morning            0.476893          314"
      ]
     },
     "execution_count": 50,
     "metadata": {},
     "output_type": "execute_result"
    }
   ],
   "source": [
    "url = \"https://assets.datacamp.com/production/repositories/6639/datasets/7cb2f98d6252b3fccdb870bc4f05815d4df71c20/marketing_data.feather\"\n",
    "ad_campaigns = pd.read_feather(url)\n",
    "ad_campaigns.head()"
   ]
  },
  {
   "cell_type": "code",
   "execution_count": 51,
   "id": "f413705c",
   "metadata": {},
   "outputs": [
    {
     "name": "stderr",
     "output_type": "stream",
     "text": [
      "C:\\Users\\jhonm\\AppData\\Local\\Temp\\ipykernel_17528\\1561827154.py:6: FutureWarning: DataFrameGroupBy.apply operated on the grouping columns. This behavior is deprecated, and in a future version of pandas the grouping columns will be excluded from the operation. Either pass `include_groups=False` to exclude the groupings or explicitly select the grouping columns after groupby to silence this warning.\n",
      "  .apply(\n"
     ]
    }
   ],
   "source": [
    "campaign_types = [\"Loyalty Reward\", \"New Arrival\", \"Seasonal Discount\"]\n",
    "\n",
    "# Group and assign campaigns\n",
    "ad_campaigns = (\n",
    "    ad_campaigns.groupby([\"Messaging_Style\", \"Time_of_Day\"], group_keys=False)\n",
    "    .apply(\n",
    "        lambda block: block.assign(\n",
    "            Ad_Campaign=np.random.permutation(\n",
    "                campaign_types * (len(block) // len(campaign_types))\n",
    "                + list(\n",
    "                    np.random.choice(\n",
    "                        campaign_types, len(block) % len(campaign_types), replace=False\n",
    "                    )\n",
    "                )\n",
    "            )\n",
    "        )\n",
    "    )\n",
    "    .reset_index(drop=True)\n",
    ")"
   ]
  },
  {
   "cell_type": "code",
   "execution_count": 52,
   "id": "f88751bb",
   "metadata": {},
   "outputs": [
    {
     "data": {
      "application/vnd.microsoft.datawrangler.viewer.v0+json": {
       "columns": [
        {
         "name": "index",
         "rawType": "int64",
         "type": "integer"
        },
        {
         "name": "Messaging_Style",
         "rawType": "object",
         "type": "string"
        },
        {
         "name": "Time_of_Day",
         "rawType": "object",
         "type": "string"
        },
        {
         "name": "Click_Through_Rate",
         "rawType": "float64",
         "type": "float"
        },
        {
         "name": "Conversions",
         "rawType": "int64",
         "type": "integer"
        },
        {
         "name": "Ad_Campaign",
         "rawType": "object",
         "type": "string"
        }
       ],
       "ref": "f927b37b-ac0f-45b9-b3a3-40a103c82487",
       "rows": [
        [
         "0",
         "Casual",
         "Morning",
         "0.640465174390288",
         "500",
         "Loyalty Reward"
        ],
        [
         "1",
         "Formal",
         "Evening",
         "0.6985330070916299",
         "598",
         "Loyalty Reward"
        ],
        [
         "2",
         "Casual",
         "Morning",
         "0.2578341507611046",
         "234",
         "Seasonal Discount"
        ],
        [
         "3",
         "Casual",
         "Evening",
         "0.9229707513324638",
         "602",
         "Seasonal Discount"
        ],
        [
         "4",
         "Casual",
         "Morning",
         "0.47689347240286584",
         "314",
         "Seasonal Discount"
        ],
        [
         "5",
         "Formal",
         "Morning",
         "0.44482467542454773",
         "566",
         "New Arrival"
        ],
        [
         "6",
         "Casual",
         "Evening",
         "0.5670259347545538",
         "12",
         "Seasonal Discount"
        ],
        [
         "7",
         "Casual",
         "Morning",
         "0.14226937009754956",
         "209",
         "Loyalty Reward"
        ],
        [
         "8",
         "Casual",
         "Evening",
         "0.24965503188047147",
         "14",
         "New Arrival"
        ],
        [
         "9",
         "Formal",
         "Morning",
         "0.7642302547837334",
         "633",
         "New Arrival"
        ],
        [
         "10",
         "Casual",
         "Morning",
         "0.1745188011326138",
         "418",
         "Loyalty Reward"
        ],
        [
         "11",
         "Casual",
         "Morning",
         "0.6428368985197493",
         "437",
         "Seasonal Discount"
        ],
        [
         "12",
         "Casual",
         "Evening",
         "0.32081419871318884",
         "377",
         "Loyalty Reward"
        ],
        [
         "13",
         "Casual",
         "Morning",
         "0.45036605263777896",
         "20",
         "Seasonal Discount"
        ],
        [
         "14",
         "Formal",
         "Morning",
         "0.35982436309362986",
         "587",
         "Seasonal Discount"
        ],
        [
         "15",
         "Casual",
         "Morning",
         "0.42010544481845424",
         "755",
         "Seasonal Discount"
        ],
        [
         "16",
         "Formal",
         "Morning",
         "0.7471413146658209",
         "735",
         "Seasonal Discount"
        ],
        [
         "17",
         "Formal",
         "Evening",
         "0.3674095440608576",
         "70",
         "Loyalty Reward"
        ],
        [
         "18",
         "Formal",
         "Evening",
         "0.6097641762672075",
         "211",
         "Loyalty Reward"
        ],
        [
         "19",
         "Casual",
         "Morning",
         "0.5284453619791897",
         "101",
         "Seasonal Discount"
        ],
        [
         "20",
         "Formal",
         "Evening",
         "0.6973040488263833",
         "698",
         "Loyalty Reward"
        ],
        [
         "21",
         "Casual",
         "Morning",
         "0.9431467653922821",
         "132",
         "New Arrival"
        ],
        [
         "22",
         "Formal",
         "Morning",
         "0.7593148874892253",
         "623",
         "Loyalty Reward"
        ],
        [
         "23",
         "Formal",
         "Morning",
         "0.2934463407316811",
         "381",
         "Seasonal Discount"
        ],
        [
         "24",
         "Formal",
         "Evening",
         "0.12806482155515622",
         "132",
         "Loyalty Reward"
        ],
        [
         "25",
         "Formal",
         "Evening",
         "0.3360376398698426",
         "20",
         "Loyalty Reward"
        ],
        [
         "26",
         "Formal",
         "Evening",
         "0.6355701376302293",
         "536",
         "Seasonal Discount"
        ],
        [
         "27",
         "Formal",
         "Evening",
         "0.14628323213582534",
         "227",
         "Seasonal Discount"
        ],
        [
         "28",
         "Formal",
         "Evening",
         "0.5467296224811127",
         "154",
         "Seasonal Discount"
        ],
        [
         "29",
         "Formal",
         "Evening",
         "0.6371585640252003",
         "742",
         "Loyalty Reward"
        ],
        [
         "30",
         "Casual",
         "Evening",
         "0.4008195017352647",
         "469",
         "New Arrival"
        ],
        [
         "31",
         "Casual",
         "Evening",
         "0.7938209833712397",
         "405",
         "New Arrival"
        ],
        [
         "32",
         "Formal",
         "Evening",
         "0.1959384278203946",
         "202",
         "New Arrival"
        ],
        [
         "33",
         "Formal",
         "Morning",
         "0.1676240035622279",
         "38",
         "Seasonal Discount"
        ],
        [
         "34",
         "Formal",
         "Evening",
         "0.7553698805832431",
         "772",
         "New Arrival"
        ],
        [
         "35",
         "Casual",
         "Evening",
         "0.5459421845855786",
         "188",
         "Seasonal Discount"
        ],
        [
         "36",
         "Formal",
         "Evening",
         "0.7195621567849624",
         "57",
         "Loyalty Reward"
        ],
        [
         "37",
         "Casual",
         "Evening",
         "0.4913446047433716",
         "20",
         "Loyalty Reward"
        ],
        [
         "38",
         "Casual",
         "Evening",
         "0.32176182991519614",
         "273",
         "Seasonal Discount"
        ],
        [
         "39",
         "Casual",
         "Evening",
         "0.8371920859067797",
         "119",
         "New Arrival"
        ],
        [
         "40",
         "Casual",
         "Evening",
         "0.8194742910720814",
         "583",
         "Loyalty Reward"
        ],
        [
         "41",
         "Casual",
         "Evening",
         "0.7252268237689841",
         "516",
         "New Arrival"
        ],
        [
         "42",
         "Formal",
         "Evening",
         "0.34493062350696646",
         "221",
         "New Arrival"
        ],
        [
         "43",
         "Formal",
         "Evening",
         "0.6312076001821784",
         "526",
         "New Arrival"
        ],
        [
         "44",
         "Formal",
         "Evening",
         "0.4248765072460241",
         "515",
         "Seasonal Discount"
        ],
        [
         "45",
         "Formal",
         "Morning",
         "0.18242386599397076",
         "728",
         "Seasonal Discount"
        ],
        [
         "46",
         "Formal",
         "Morning",
         "0.9255822179160185",
         "741",
         "Loyalty Reward"
        ],
        [
         "47",
         "Casual",
         "Evening",
         "0.22313676782706526",
         "336",
         "Seasonal Discount"
        ],
        [
         "48",
         "Formal",
         "Evening",
         "0.9552136184387222",
         "698",
         "Seasonal Discount"
        ],
        [
         "49",
         "Formal",
         "Morning",
         "0.5014051956621601",
         "55",
         "New Arrival"
        ]
       ],
       "shape": {
        "columns": 5,
        "rows": 950
       }
      },
      "text/html": [
       "<div>\n",
       "<style scoped>\n",
       "    .dataframe tbody tr th:only-of-type {\n",
       "        vertical-align: middle;\n",
       "    }\n",
       "\n",
       "    .dataframe tbody tr th {\n",
       "        vertical-align: top;\n",
       "    }\n",
       "\n",
       "    .dataframe thead th {\n",
       "        text-align: right;\n",
       "    }\n",
       "</style>\n",
       "<table border=\"1\" class=\"dataframe\">\n",
       "  <thead>\n",
       "    <tr style=\"text-align: right;\">\n",
       "      <th></th>\n",
       "      <th>Messaging_Style</th>\n",
       "      <th>Time_of_Day</th>\n",
       "      <th>Click_Through_Rate</th>\n",
       "      <th>Conversions</th>\n",
       "      <th>Ad_Campaign</th>\n",
       "    </tr>\n",
       "  </thead>\n",
       "  <tbody>\n",
       "    <tr>\n",
       "      <th>0</th>\n",
       "      <td>Casual</td>\n",
       "      <td>Morning</td>\n",
       "      <td>0.640465</td>\n",
       "      <td>500</td>\n",
       "      <td>Loyalty Reward</td>\n",
       "    </tr>\n",
       "    <tr>\n",
       "      <th>1</th>\n",
       "      <td>Formal</td>\n",
       "      <td>Evening</td>\n",
       "      <td>0.698533</td>\n",
       "      <td>598</td>\n",
       "      <td>Loyalty Reward</td>\n",
       "    </tr>\n",
       "    <tr>\n",
       "      <th>2</th>\n",
       "      <td>Casual</td>\n",
       "      <td>Morning</td>\n",
       "      <td>0.257834</td>\n",
       "      <td>234</td>\n",
       "      <td>Seasonal Discount</td>\n",
       "    </tr>\n",
       "    <tr>\n",
       "      <th>3</th>\n",
       "      <td>Casual</td>\n",
       "      <td>Evening</td>\n",
       "      <td>0.922971</td>\n",
       "      <td>602</td>\n",
       "      <td>Seasonal Discount</td>\n",
       "    </tr>\n",
       "    <tr>\n",
       "      <th>4</th>\n",
       "      <td>Casual</td>\n",
       "      <td>Morning</td>\n",
       "      <td>0.476893</td>\n",
       "      <td>314</td>\n",
       "      <td>Seasonal Discount</td>\n",
       "    </tr>\n",
       "    <tr>\n",
       "      <th>...</th>\n",
       "      <td>...</td>\n",
       "      <td>...</td>\n",
       "      <td>...</td>\n",
       "      <td>...</td>\n",
       "      <td>...</td>\n",
       "    </tr>\n",
       "    <tr>\n",
       "      <th>945</th>\n",
       "      <td>Casual</td>\n",
       "      <td>Morning</td>\n",
       "      <td>0.759764</td>\n",
       "      <td>579</td>\n",
       "      <td>Loyalty Reward</td>\n",
       "    </tr>\n",
       "    <tr>\n",
       "      <th>946</th>\n",
       "      <td>Casual</td>\n",
       "      <td>Evening</td>\n",
       "      <td>0.654387</td>\n",
       "      <td>65</td>\n",
       "      <td>Seasonal Discount</td>\n",
       "    </tr>\n",
       "    <tr>\n",
       "      <th>947</th>\n",
       "      <td>Formal</td>\n",
       "      <td>Morning</td>\n",
       "      <td>0.269222</td>\n",
       "      <td>292</td>\n",
       "      <td>Loyalty Reward</td>\n",
       "    </tr>\n",
       "    <tr>\n",
       "      <th>948</th>\n",
       "      <td>Formal</td>\n",
       "      <td>Evening</td>\n",
       "      <td>0.419846</td>\n",
       "      <td>25</td>\n",
       "      <td>Loyalty Reward</td>\n",
       "    </tr>\n",
       "    <tr>\n",
       "      <th>949</th>\n",
       "      <td>Casual</td>\n",
       "      <td>Evening</td>\n",
       "      <td>0.805413</td>\n",
       "      <td>549</td>\n",
       "      <td>Seasonal Discount</td>\n",
       "    </tr>\n",
       "  </tbody>\n",
       "</table>\n",
       "<p>950 rows × 5 columns</p>\n",
       "</div>"
      ],
      "text/plain": [
       "    Messaging_Style Time_of_Day  Click_Through_Rate  Conversions  \\\n",
       "0            Casual     Morning            0.640465          500   \n",
       "1            Formal     Evening            0.698533          598   \n",
       "2            Casual     Morning            0.257834          234   \n",
       "3            Casual     Evening            0.922971          602   \n",
       "4            Casual     Morning            0.476893          314   \n",
       "..              ...         ...                 ...          ...   \n",
       "945          Casual     Morning            0.759764          579   \n",
       "946          Casual     Evening            0.654387           65   \n",
       "947          Formal     Morning            0.269222          292   \n",
       "948          Formal     Evening            0.419846           25   \n",
       "949          Casual     Evening            0.805413          549   \n",
       "\n",
       "           Ad_Campaign  \n",
       "0       Loyalty Reward  \n",
       "1       Loyalty Reward  \n",
       "2    Seasonal Discount  \n",
       "3    Seasonal Discount  \n",
       "4    Seasonal Discount  \n",
       "..                 ...  \n",
       "945     Loyalty Reward  \n",
       "946  Seasonal Discount  \n",
       "947     Loyalty Reward  \n",
       "948     Loyalty Reward  \n",
       "949  Seasonal Discount  \n",
       "\n",
       "[950 rows x 5 columns]"
      ]
     },
     "execution_count": 52,
     "metadata": {},
     "output_type": "execute_result"
    }
   ],
   "source": [
    "ad_campaigns"
   ]
  },
  {
   "cell_type": "code",
   "execution_count": 53,
   "id": "58ec7efc",
   "metadata": {},
   "outputs": [
    {
     "data": {
      "application/vnd.microsoft.datawrangler.viewer.v0+json": {
       "columns": [
        {
         "name": "Ad_Campaign",
         "rawType": "object",
         "type": "string"
        },
        {
         "name": "Click_Through_Rate",
         "rawType": "float64",
         "type": "float"
        }
       ],
       "ref": "2d2d4023-d312-46c6-b464-0f21839c6f3c",
       "rows": [
        [
         "Loyalty Reward",
         "0.5672212160540381"
        ],
        [
         "New Arrival",
         "0.5540252548882432"
        ],
        [
         "Seasonal Discount",
         "0.547557032956794"
        ]
       ],
       "shape": {
        "columns": 1,
        "rows": 3
       }
      },
      "text/html": [
       "<div>\n",
       "<style scoped>\n",
       "    .dataframe tbody tr th:only-of-type {\n",
       "        vertical-align: middle;\n",
       "    }\n",
       "\n",
       "    .dataframe tbody tr th {\n",
       "        vertical-align: top;\n",
       "    }\n",
       "\n",
       "    .dataframe thead th {\n",
       "        text-align: right;\n",
       "    }\n",
       "</style>\n",
       "<table border=\"1\" class=\"dataframe\">\n",
       "  <thead>\n",
       "    <tr style=\"text-align: right;\">\n",
       "      <th></th>\n",
       "      <th>Click_Through_Rate</th>\n",
       "    </tr>\n",
       "    <tr>\n",
       "      <th>Ad_Campaign</th>\n",
       "      <th></th>\n",
       "    </tr>\n",
       "  </thead>\n",
       "  <tbody>\n",
       "    <tr>\n",
       "      <th>Loyalty Reward</th>\n",
       "      <td>0.567221</td>\n",
       "    </tr>\n",
       "    <tr>\n",
       "      <th>New Arrival</th>\n",
       "      <td>0.554025</td>\n",
       "    </tr>\n",
       "    <tr>\n",
       "      <th>Seasonal Discount</th>\n",
       "      <td>0.547557</td>\n",
       "    </tr>\n",
       "  </tbody>\n",
       "</table>\n",
       "</div>"
      ],
      "text/plain": [
       "                   Click_Through_Rate\n",
       "Ad_Campaign                          \n",
       "Loyalty Reward               0.567221\n",
       "New Arrival                  0.554025\n",
       "Seasonal Discount            0.547557"
      ]
     },
     "metadata": {},
     "output_type": "display_data"
    }
   ],
   "source": [
    "pivot_table = ad_campaigns.pivot_table(\n",
    "    values=\"Click_Through_Rate\", index=\"Ad_Campaign\", aggfunc=\"mean\"\n",
    ")\n",
    "\n",
    "display(pivot_table)"
   ]
  },
  {
   "cell_type": "code",
   "execution_count": 54,
   "id": "85120a96",
   "metadata": {},
   "outputs": [
    {
     "name": "stdout",
     "output_type": "stream",
     "text": [
      "0.6317837947194903\n"
     ]
    }
   ],
   "source": [
    "from scipy.stats import f_oneway\n",
    "\n",
    "campaign_types = [\"Loyalty Reward\", \"New Arrival\", \"Seasonal Discount\"]\n",
    "groups = [\n",
    "    ad_campaigns[ad_campaigns[\"Ad_Campaign\"] == campaign][\"Click_Through_Rate\"]\n",
    "    for campaign in campaign_types\n",
    "]\n",
    "\n",
    "f_stat, p_val = f_oneway(*groups)\n",
    "\n",
    "print(p_val)"
   ]
  },
  {
   "cell_type": "code",
   "execution_count": 55,
   "id": "e9422e7e",
   "metadata": {},
   "outputs": [
    {
     "name": "stdout",
     "output_type": "stream",
     "text": [
      "         Multiple Comparison of Means - Tukey HSD, FWER=0.05          \n",
      "======================================================================\n",
      "    group1           group2      meandiff p-adj   lower  upper  reject\n",
      "----------------------------------------------------------------------\n",
      "Loyalty Reward       New Arrival  -0.0132 0.8033 -0.0623 0.0359  False\n",
      "Loyalty Reward Seasonal Discount  -0.0197 0.6148 -0.0687 0.0294  False\n",
      "   New Arrival Seasonal Discount  -0.0065 0.9487 -0.0556 0.0427  False\n",
      "----------------------------------------------------------------------\n"
     ]
    }
   ],
   "source": [
    "from statsmodels.stats.multicomp import pairwise_tukeyhsd\n",
    "\n",
    "tukey_results = pairwise_tukeyhsd(\n",
    "    ad_campaigns[\"Click_Through_Rate\"], ad_campaigns[\"Ad_Campaign\"], alpha=0.05\n",
    ")\n",
    "\n",
    "print(tukey_results)"
   ]
  },
  {
   "cell_type": "code",
   "execution_count": 56,
   "id": "ff86f9f9",
   "metadata": {},
   "outputs": [
    {
     "name": "stdout",
     "output_type": "stream",
     "text": [
      "Adjusted P-values: [1. 1. 1.]\n"
     ]
    }
   ],
   "source": [
    "from scipy.stats import ttest_ind\n",
    "from statsmodels.sandbox.stats.multicomp import multipletests\n",
    "\n",
    "p_values = []\n",
    "\n",
    "comparisons = [\n",
    "    (\"Seasonal Discount\", \"New Arrival\"),\n",
    "    (\"Seasonal Discount\", \"Loyalty Reward\"),\n",
    "    (\"New Arrival\", \"Loyalty Reward\"),\n",
    "]\n",
    "\n",
    "for comp in comparisons:\n",
    "    group1 = ad_campaigns[ad_campaigns[\"Ad_Campaign\"] == comp[0]][\"Click_Through_Rate\"]\n",
    "    group2 = ad_campaigns[ad_campaigns[\"Ad_Campaign\"] == comp[1]][\"Click_Through_Rate\"]\n",
    "    t_stat, p_val = ttest_ind(group1, group2)\n",
    "    p_values.append(p_val)\n",
    "\n",
    "p_adjusted = multipletests(p_values, alpha=0.05, method=\"bonferroni\")\n",
    "\n",
    "print(f\"Adjusted P-values: {p_adjusted[1]}\")"
   ]
  },
  {
   "cell_type": "code",
   "execution_count": 57,
   "id": "022de023",
   "metadata": {},
   "outputs": [
    {
     "name": "stdout",
     "output_type": "stream",
     "text": [
      "(array([False, False, False]), array([1., 1., 1.]), np.float64(0.016952427508441503), 0.016666666666666666)\n"
     ]
    }
   ],
   "source": [
    "import itertools\n",
    "from scipy.stats import ttest_ind\n",
    "from statsmodels.sandbox.stats.multicomp import multipletests\n",
    "\n",
    "# Get all unique campaign types\n",
    "campaign_types = ad_campaigns[\"Ad_Campaign\"].unique()\n",
    "\n",
    "# Generate all possible pairwise combinations\n",
    "comparisons = list(itertools.combinations(campaign_types, 2))\n",
    "\n",
    "# Perform t-tests for all comparisons\n",
    "p_values = []\n",
    "comparison_names = []\n",
    "\n",
    "for group1, group2 in comparisons:\n",
    "    data1 = ad_campaigns[ad_campaigns[\"Ad_Campaign\"] == group1][\"Click_Through_Rate\"]\n",
    "    data2 = ad_campaigns[ad_campaigns[\"Ad_Campaign\"] == group2][\"Click_Through_Rate\"]\n",
    "    t_stat, p_val = ttest_ind(data1, data2)\n",
    "    p_values.append(p_val)\n",
    "    comparison_names.append(f\"{group1} vs {group2}\")\n",
    "\n",
    "# Apply Bonferroni correction\n",
    "bonferroni_result = multipletests(p_values, alpha=0.05, method=\"bonferroni\")\n",
    "\n",
    "print(bonferroni_result)"
   ]
  },
  {
   "cell_type": "code",
   "execution_count": 58,
   "id": "d1793530",
   "metadata": {},
   "outputs": [
    {
     "name": "stdout",
     "output_type": "stream",
     "text": [
      "Test Multiple Comparison ttest_ind \n",
      "FWER=0.05 method=bonferroni\n",
      "alphacSidak=0.02, alphacBonf=0.017\n",
      "===============================================================\n",
      "    group1           group2       stat   pval  pval_corr reject\n",
      "---------------------------------------------------------------\n",
      "Loyalty Reward       New Arrival 0.6353 0.5255       1.0  False\n",
      "Loyalty Reward Seasonal Discount 0.9387 0.3482       1.0  False\n",
      "   New Arrival Seasonal Discount 0.3074 0.7586       1.0  False\n",
      "---------------------------------------------------------------\n"
     ]
    }
   ],
   "source": [
    "from statsmodels.stats.multicomp import MultiComparison\n",
    "\n",
    "mc = MultiComparison(ad_campaigns[\"Click_Through_Rate\"], ad_campaigns[\"Ad_Campaign\"])\n",
    "\n",
    "# Get all pairwise comparisons with Bonferroni correction\n",
    "result = mc.allpairtest(ttest_ind, method=\"bonferroni\")\n",
    "\n",
    "print(result[0])"
   ]
  },
  {
   "cell_type": "code",
   "execution_count": 63,
   "id": "20325e95",
   "metadata": {},
   "outputs": [
    {
     "data": {
      "application/vnd.microsoft.datawrangler.viewer.v0+json": {
       "columns": [
        {
         "name": "index",
         "rawType": "int64",
         "type": "integer"
        },
        {
         "name": "Contrast",
         "rawType": "object",
         "type": "string"
        },
        {
         "name": "A",
         "rawType": "object",
         "type": "string"
        },
        {
         "name": "B",
         "rawType": "object",
         "type": "string"
        },
        {
         "name": "Paired",
         "rawType": "bool",
         "type": "boolean"
        },
        {
         "name": "Parametric",
         "rawType": "bool",
         "type": "boolean"
        },
        {
         "name": "T",
         "rawType": "float64",
         "type": "float"
        },
        {
         "name": "dof",
         "rawType": "float64",
         "type": "float"
        },
        {
         "name": "alternative",
         "rawType": "object",
         "type": "string"
        },
        {
         "name": "p-unc",
         "rawType": "float64",
         "type": "float"
        },
        {
         "name": "p-corr",
         "rawType": "float64",
         "type": "float"
        },
        {
         "name": "p-adjust",
         "rawType": "object",
         "type": "string"
        },
        {
         "name": "BF10",
         "rawType": "object",
         "type": "string"
        },
        {
         "name": "hedges",
         "rawType": "float64",
         "type": "float"
        }
       ],
       "ref": "1005456e-3081-4176-b2df-20939f8e63e2",
       "rows": [
        [
         "0",
         "Ad_Campaign",
         "Loyalty Reward",
         "New Arrival",
         "False",
         "True",
         "0.635293664177658",
         "630.9284734595254",
         "two-sided",
         "0.5254672374735103",
         "1.0",
         "bonf",
         "0.108",
         "0.05044192348917291"
        ],
        [
         "1",
         "Ad_Campaign",
         "Loyalty Reward",
         "Seasonal Discount",
         "False",
         "True",
         "0.9387171287609284",
         "632.0",
         "two-sided",
         "0.34823460318517296",
         "1.0",
         "bonf",
         "0.136",
         "0.07447392067986015"
        ],
        [
         "2",
         "Ad_Campaign",
         "New Arrival",
         "Seasonal Discount",
         "False",
         "True",
         "0.3074095948500188",
         "630.8571643653222",
         "two-sided",
         "0.7586330799104334",
         "1.0",
         "bonf",
         "0.093",
         "0.02440713914783538"
        ]
       ],
       "shape": {
        "columns": 13,
        "rows": 3
       }
      },
      "text/html": [
       "<div>\n",
       "<style scoped>\n",
       "    .dataframe tbody tr th:only-of-type {\n",
       "        vertical-align: middle;\n",
       "    }\n",
       "\n",
       "    .dataframe tbody tr th {\n",
       "        vertical-align: top;\n",
       "    }\n",
       "\n",
       "    .dataframe thead th {\n",
       "        text-align: right;\n",
       "    }\n",
       "</style>\n",
       "<table border=\"1\" class=\"dataframe\">\n",
       "  <thead>\n",
       "    <tr style=\"text-align: right;\">\n",
       "      <th></th>\n",
       "      <th>Contrast</th>\n",
       "      <th>A</th>\n",
       "      <th>B</th>\n",
       "      <th>Paired</th>\n",
       "      <th>Parametric</th>\n",
       "      <th>T</th>\n",
       "      <th>dof</th>\n",
       "      <th>alternative</th>\n",
       "      <th>p-unc</th>\n",
       "      <th>p-corr</th>\n",
       "      <th>p-adjust</th>\n",
       "      <th>BF10</th>\n",
       "      <th>hedges</th>\n",
       "    </tr>\n",
       "  </thead>\n",
       "  <tbody>\n",
       "    <tr>\n",
       "      <th>0</th>\n",
       "      <td>Ad_Campaign</td>\n",
       "      <td>Loyalty Reward</td>\n",
       "      <td>New Arrival</td>\n",
       "      <td>False</td>\n",
       "      <td>True</td>\n",
       "      <td>0.635294</td>\n",
       "      <td>630.928473</td>\n",
       "      <td>two-sided</td>\n",
       "      <td>0.525467</td>\n",
       "      <td>1.0</td>\n",
       "      <td>bonf</td>\n",
       "      <td>0.108</td>\n",
       "      <td>0.050442</td>\n",
       "    </tr>\n",
       "    <tr>\n",
       "      <th>1</th>\n",
       "      <td>Ad_Campaign</td>\n",
       "      <td>Loyalty Reward</td>\n",
       "      <td>Seasonal Discount</td>\n",
       "      <td>False</td>\n",
       "      <td>True</td>\n",
       "      <td>0.938717</td>\n",
       "      <td>632.000000</td>\n",
       "      <td>two-sided</td>\n",
       "      <td>0.348235</td>\n",
       "      <td>1.0</td>\n",
       "      <td>bonf</td>\n",
       "      <td>0.136</td>\n",
       "      <td>0.074474</td>\n",
       "    </tr>\n",
       "    <tr>\n",
       "      <th>2</th>\n",
       "      <td>Ad_Campaign</td>\n",
       "      <td>New Arrival</td>\n",
       "      <td>Seasonal Discount</td>\n",
       "      <td>False</td>\n",
       "      <td>True</td>\n",
       "      <td>0.307410</td>\n",
       "      <td>630.857164</td>\n",
       "      <td>two-sided</td>\n",
       "      <td>0.758633</td>\n",
       "      <td>1.0</td>\n",
       "      <td>bonf</td>\n",
       "      <td>0.093</td>\n",
       "      <td>0.024407</td>\n",
       "    </tr>\n",
       "  </tbody>\n",
       "</table>\n",
       "</div>"
      ],
      "text/plain": [
       "      Contrast               A                  B  Paired  Parametric  \\\n",
       "0  Ad_Campaign  Loyalty Reward        New Arrival   False        True   \n",
       "1  Ad_Campaign  Loyalty Reward  Seasonal Discount   False        True   \n",
       "2  Ad_Campaign     New Arrival  Seasonal Discount   False        True   \n",
       "\n",
       "          T         dof alternative     p-unc  p-corr p-adjust   BF10  \\\n",
       "0  0.635294  630.928473   two-sided  0.525467     1.0     bonf  0.108   \n",
       "1  0.938717  632.000000   two-sided  0.348235     1.0     bonf  0.136   \n",
       "2  0.307410  630.857164   two-sided  0.758633     1.0     bonf  0.093   \n",
       "\n",
       "     hedges  \n",
       "0  0.050442  \n",
       "1  0.074474  \n",
       "2  0.024407  "
      ]
     },
     "metadata": {},
     "output_type": "display_data"
    }
   ],
   "source": [
    "import pingouin as pg\n",
    "\n",
    "# Clean data as before\n",
    "ad_campaigns = ad_campaigns.dropna(subset=[\"Ad_Campaign\", \"Click_Through_Rate\"]).copy()\n",
    "ad_campaigns[\"Ad_Campaign\"] = ad_campaigns[\"Ad_Campaign\"].astype(\"category\")\n",
    "\n",
    "# Pairwise independent t-tests with multiple-testing correction\n",
    "tt = pg.pairwise_tests(\n",
    "    dv=\"Click_Through_Rate\",\n",
    "    between=\"Ad_Campaign\",\n",
    "    data=ad_campaigns,\n",
    "    alternative=\"two-sided\",\n",
    "    parametric=True,  # Student t-test under equal-variance modelling\n",
    "    padjust=\"bonf\",  # Bonferroni to mirror your multipletests(..., method='bonferroni')\n",
    "    effsize=\"hedges\",  # Unbiased standardised mean difference\n",
    ")\n",
    "\n",
    "display(tt)"
   ]
  },
  {
   "cell_type": "markdown",
   "id": "9f4cb1c3",
   "metadata": {},
   "source": [
    "### Anxiety treatments ANOVA\n",
    "Psychologists conducted a study to compare the effectiveness of three types of therapy on reducing anxiety levels: Cognitive Behavioral Therapy (CBT), Dialectical Behavior Therapy (DBT), and Acceptance and Commitment Therapy (ACT). Participants were randomly assigned to one of the three therapy groups, and their anxiety levels were measured before and after the therapy sessions. The psychologists have asked you to determine if there are any significant differences in the effectiveness of these therapies."
   ]
  },
  {
   "cell_type": "code",
   "execution_count": 59,
   "id": "5b27cbb0",
   "metadata": {},
   "outputs": [
    {
     "data": {
      "application/vnd.microsoft.datawrangler.viewer.v0+json": {
       "columns": [
        {
         "name": "index",
         "rawType": "int64",
         "type": "integer"
        },
        {
         "name": "Therapy_Type",
         "rawType": "object",
         "type": "string"
        },
        {
         "name": "Anxiety_Reduction",
         "rawType": "float64",
         "type": "float"
        }
       ],
       "ref": "1c3094a5-6ad5-480c-80fd-d1afc7cd7a73",
       "rows": [
        [
         "0",
         "ACT",
         "17.483570765056164"
        ],
        [
         "1",
         "DBT",
         "14.308678494144075"
        ],
        [
         "2",
         "ACT",
         "18.23844269050346"
        ],
        [
         "3",
         "CBT",
         "22.61514928204013"
        ],
        [
         "4",
         "DBT",
         "13.82923312638332"
        ]
       ],
       "shape": {
        "columns": 2,
        "rows": 5
       }
      },
      "text/html": [
       "<div>\n",
       "<style scoped>\n",
       "    .dataframe tbody tr th:only-of-type {\n",
       "        vertical-align: middle;\n",
       "    }\n",
       "\n",
       "    .dataframe tbody tr th {\n",
       "        vertical-align: top;\n",
       "    }\n",
       "\n",
       "    .dataframe thead th {\n",
       "        text-align: right;\n",
       "    }\n",
       "</style>\n",
       "<table border=\"1\" class=\"dataframe\">\n",
       "  <thead>\n",
       "    <tr style=\"text-align: right;\">\n",
       "      <th></th>\n",
       "      <th>Therapy_Type</th>\n",
       "      <th>Anxiety_Reduction</th>\n",
       "    </tr>\n",
       "  </thead>\n",
       "  <tbody>\n",
       "    <tr>\n",
       "      <th>0</th>\n",
       "      <td>ACT</td>\n",
       "      <td>17.483571</td>\n",
       "    </tr>\n",
       "    <tr>\n",
       "      <th>1</th>\n",
       "      <td>DBT</td>\n",
       "      <td>14.308678</td>\n",
       "    </tr>\n",
       "    <tr>\n",
       "      <th>2</th>\n",
       "      <td>ACT</td>\n",
       "      <td>18.238443</td>\n",
       "    </tr>\n",
       "    <tr>\n",
       "      <th>3</th>\n",
       "      <td>CBT</td>\n",
       "      <td>22.615149</td>\n",
       "    </tr>\n",
       "    <tr>\n",
       "      <th>4</th>\n",
       "      <td>DBT</td>\n",
       "      <td>13.829233</td>\n",
       "    </tr>\n",
       "  </tbody>\n",
       "</table>\n",
       "</div>"
      ],
      "text/plain": [
       "  Therapy_Type  Anxiety_Reduction\n",
       "0          ACT          17.483571\n",
       "1          DBT          14.308678\n",
       "2          ACT          18.238443\n",
       "3          CBT          22.615149\n",
       "4          DBT          13.829233"
      ]
     },
     "execution_count": 59,
     "metadata": {},
     "output_type": "execute_result"
    }
   ],
   "source": [
    "url = \"https://raw.githubusercontent.com/jhlopesalves/data-science-practice-notebook/refs/heads/main/Python/statistics/experimental_design/data/therapy_outcomes.csv\"\n",
    "therapy_outcomes = pd.read_csv(url, usecols=lambda col: not col.startswith(\"Unnamed\"))\n",
    "therapy_outcomes.head()"
   ]
  },
  {
   "cell_type": "code",
   "execution_count": 60,
   "id": "dd05404b",
   "metadata": {},
   "outputs": [
    {
     "name": "stdout",
     "output_type": "stream",
     "text": [
      "0.019580062979016804\n"
     ]
    }
   ],
   "source": [
    "from scipy.stats import f_oneway\n",
    "\n",
    "# Create a pivot table to calculate the mean 'Anxiety_Reduction' value across groups of 'Therapy_Type' in this data.\n",
    "pivot_table = therapy_outcomes.pivot_table(\n",
    "    values=\"Anxiety_Reduction\", index=\"Therapy_Type\", aggfunc=\"mean\"\n",
    ")\n",
    "\n",
    "# Create groups to prepare the data for ANOVA\n",
    "therapy_types = therapy_outcomes[\"Therapy_Type\"].unique().tolist()\n",
    "\n",
    "groups = [\n",
    "    therapy_outcomes[therapy_outcomes[\"Therapy_Type\"] == therapy][\"Anxiety_Reduction\"]\n",
    "    for therapy in therapy_types\n",
    "]\n",
    "\n",
    "# Conduct ANOVA\n",
    "f_stat, p_val = f_oneway(*groups)\n",
    "\n",
    "print(p_val)"
   ]
  },
  {
   "cell_type": "code",
   "execution_count": 61,
   "id": "63ec0fd9",
   "metadata": {},
   "outputs": [
    {
     "name": "stdout",
     "output_type": "stream",
     "text": [
      "Multiple Comparison of Means - Tukey HSD, FWER=0.05\n",
      "===================================================\n",
      "group1 group2 meandiff p-adj   lower  upper  reject\n",
      "---------------------------------------------------\n",
      "   ACT    CBT    0.033 0.9941 -0.7136 0.7795  False\n",
      "   ACT    DBT   0.8001 0.0358  0.0418 1.5583   True\n",
      "   CBT    DBT   0.7671 0.0433  0.0181 1.5161   True\n",
      "---------------------------------------------------\n"
     ]
    }
   ],
   "source": [
    "from statsmodels.stats.multicomp import pairwise_tukeyhsd\n",
    "\n",
    "tukey_results = pairwise_tukeyhsd(\n",
    "    alpha=0.05,\n",
    "    groups=therapy_outcomes[\"Therapy_Type\"],\n",
    "    endog=therapy_outcomes[\"Anxiety_Reduction\"],\n",
    ")\n",
    "\n",
    "print(tukey_results)"
   ]
  },
  {
   "cell_type": "code",
   "execution_count": 62,
   "id": "160e98c9",
   "metadata": {},
   "outputs": [
    {
     "name": "stdout",
     "output_type": "stream",
     "text": [
      "ACT vs DBT: adjusted p-value = 0.046073\n",
      "ACT vs CBT: adjusted p-value = 1.000000\n",
      "DBT vs CBT: adjusted p-value = 0.045200\n"
     ]
    }
   ],
   "source": [
    "from scipy.stats import ttest_ind\n",
    "from statsmodels.sandbox.stats.multicomp import multipletests\n",
    "import itertools\n",
    "\n",
    "therapy_types = therapy_outcomes[\"Therapy_Type\"].unique()\n",
    "\n",
    "therapy_pairs = list(itertools.combinations(therapy_types, 2))\n",
    "\n",
    "p_values = []\n",
    "\n",
    "# Conduct t-tests and collect P-values\n",
    "for pair in therapy_pairs:\n",
    "    group1 = therapy_outcomes[therapy_outcomes[\"Therapy_Type\"] == pair[0]][\n",
    "        \"Anxiety_Reduction\"\n",
    "    ]\n",
    "    group2 = therapy_outcomes[therapy_outcomes[\"Therapy_Type\"] == pair[1]][\n",
    "        \"Anxiety_Reduction\"\n",
    "    ]\n",
    "    t_stat, p_val = ttest_ind(group1, group2)\n",
    "    p_values.append(p_val)\n",
    "\n",
    "# Apply Bonferroni correction and print adjusted p-values\n",
    "adjusted_pvals = multipletests(p_values, alpha=0.05, method=\"bonferroni\")[1]\n",
    "\n",
    "# Print results in a readable form\n",
    "for (g1, g2), adj_p in zip(therapy_pairs, adjusted_pvals):\n",
    "    print(f\"{g1} vs {g2}: adjusted p-value = {adj_p:.6f}\")"
   ]
  },
  {
   "cell_type": "code",
   "execution_count": null,
   "id": "8088fb85",
   "metadata": {},
   "outputs": [],
   "source": []
  }
 ],
 "metadata": {
  "kernelspec": {
   "display_name": "datacamp",
   "language": "python",
   "name": "python3"
  },
  "language_info": {
   "codemirror_mode": {
    "name": "ipython",
    "version": 3
   },
   "file_extension": ".py",
   "mimetype": "text/x-python",
   "name": "python",
   "nbconvert_exporter": "python",
   "pygments_lexer": "ipython3",
   "version": "3.12.11"
  }
 },
 "nbformat": 4,
 "nbformat_minor": 5
}
