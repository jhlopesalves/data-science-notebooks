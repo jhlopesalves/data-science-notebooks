{
 "cells": [
  {
   "cell_type": "markdown",
   "id": "9e7581a6",
   "metadata": {},
   "source": [
    "### The Goal of Experimental Design\n",
    "\n",
    "The purpose of a formal experiment is to move from informal observations to robust, quantifiable conclusions about cause and effect. It provides an objective and controlled way to test a specific hypothesis. Instead of a vague statement like \"X probably affected Y,\" a well-designed experiment combined with statistical analysis allows for a precise conclusion, such as:\n",
    "\n",
    "> \"The evidence indicates that X had a statistically significant effect on Y, with a 5% risk of a Type I error (a false positive).\"\n",
    "\n",
    "This level of rigor is essential in fields ranging from medical research and product analytics to marketing and government policy.\n",
    "\n",
    "#### Core Terminology\n",
    "\n",
    "  * **Subjects**: The entities on which the experiment is performed (e.g., users, patients, employees, plots of land).\n",
    "  * **Treatment Group**: The group of subjects that receives the specific change or intervention being tested.\n",
    "  * **Control Group**: The group of subjects that does not receive the treatment. This group serves as a baseline for comparison, showing what would have happened without the intervention.\n",
    "\n",
    "### The Critical Role of Random Assignment\n",
    "\n",
    "The validity of an experiment's conclusion rests almost entirely on how subjects are assigned to the treatment and control groups. The goal is to create two groups that are as similar as possible in every respect *before* the treatment is applied.\n",
    "\n",
    "#### The Flaw of Non-random Assignment\n",
    "\n",
    "A common but incorrect approach is to assign subjects non-randomly, for example, by splitting a list of users in half. This method is highly susceptible to **selection bias**. If there is any underlying order in the data (e.g., users are sorted by their sign-up date or activity level), the two groups will be systematically different from the start. Any observed difference in the outcome could be due to this pre-existing difference, not the treatment, making the experiment's results invalid.\n",
    "\n",
    "```python\n",
    "import pandas as pd\n",
    "import numpy as np\n",
    "\n",
    "# Create a generic dataset of 200 subjects, sorted by a baseline metric\n",
    "# This simulates a non-random ordering\n",
    "np.random.seed(42)\n",
    "subjects = pd.DataFrame({\n",
    "    'id': np.arange(200),\n",
    "    'baseline_metric': np.sort(np.random.normal(loc=100, scale=10, size=200))\n",
    "})\n",
    "\n",
    "# Non-random assignment by slicing the DataFrame\n",
    "group1_nonrandom = subjects.iloc[0:100]\n",
    "group2_nonrandom = subjects.iloc[100:]\n",
    "\n",
    "# Compare the baseline metric for the two groups\n",
    "print(\"Group 1 Mean:\", group1_nonrandom['baseline_metric'].mean())\n",
    "print(\"Group 2 Mean:\", group2_nonrandom['baseline_metric'].mean())\n",
    "```\n",
    "\n",
    "The means are significantly different *before* any treatment is applied. An experiment conducted on these groups would be fundamentally flawed.\n",
    "\n",
    "#### The Solution: Random Assignment\n",
    "\n",
    "**Random assignment** is the cornerstone of experimental design. By randomly assigning each subject to either the treatment or control group, we ensure that, on average, any pre-existing characteristics (both known and unknown) are distributed equally between the two groups. This isolates the treatment as the only systematic difference, allowing us to confidently attribute any observed change in the outcome to the treatment itself.\n",
    "\n",
    "In pandas, this can be achieved using the `.sample()` method.\n",
    "\n",
    "```python\n",
    "# Random assignment using .sample() \n",
    "# Randomly select 50% of subjects for Group 1\n",
    "group1_random = subjects.sample(frac=0.5, random_state=42)\n",
    "# The remaining subjects go into Group 2\n",
    "group2_random = subjects.drop(group1_random.index)\n",
    "\n",
    "# Compare the baseline metric for the two randomly assigned groups\n",
    "print(\"Group 1 Mean:\", group1_random['baseline_metric'].mean())\n",
    "print(\"Group 2 Mean:\", group2_random['baseline_metric'].mean())\n",
    "```\n",
    "\n",
    "With random assignment, the baseline means of the two groups are now nearly identical. This creates a fair and unbiased starting point for the experiment, ensuring that any significant difference observed after the treatment can be attributed to the treatment itself."
   ]
  },
  {
   "cell_type": "code",
   "execution_count": 2,
   "id": "d6abaccb",
   "metadata": {},
   "outputs": [],
   "source": [
    "import matplotlib.pyplot as plt\n",
    "import numpy as np\n",
    "import pandas as pd\n",
    "import seaborn as sns"
   ]
  },
  {
   "cell_type": "code",
   "execution_count": 3,
   "id": "2b376dd7",
   "metadata": {},
   "outputs": [],
   "source": [
    "url = \"https://raw.githubusercontent.com/jhlopesalves/data-science-practice-notebook/refs/heads/main/Python/statistics/experimental_design/data/weights.csv\"\n",
    "weights = pd.read_csv(url, usecols=lambda col: not col.startswith(\"Unnamed\"))"
   ]
  },
  {
   "cell_type": "code",
   "execution_count": 4,
   "id": "0ef6094a",
   "metadata": {},
   "outputs": [
    {
     "data": {
      "application/vnd.microsoft.datawrangler.viewer.v0+json": {
       "columns": [
        {
         "name": "index",
         "rawType": "object",
         "type": "string"
        },
        {
         "name": "weight",
         "rawType": "float64",
         "type": "float"
        },
        {
         "name": "weight",
         "rawType": "float64",
         "type": "float"
        }
       ],
       "ref": "b38f175a-2860-4588-9aa8-5e2fc75a4f27",
       "rows": [
        [
         "count",
         "250.0",
         "250.0"
        ],
        [
         "mean",
         "58.821560000000005",
         "71.28748000000002"
        ],
        [
         "std",
         "4.503791214924435",
         "5.019957564101666"
        ],
        [
         "min",
         "39.07",
         "65.1"
        ],
        [
         "25%",
         "56.2",
         "67.49"
        ],
        [
         "50%",
         "59.39",
         "70.115"
        ],
        [
         "75%",
         "62.5275",
         "73.77000000000001"
        ],
        [
         "max",
         "65.1",
         "95.82"
        ]
       ],
       "shape": {
        "columns": 2,
        "rows": 8
       }
      },
      "text/html": [
       "<div>\n",
       "<style scoped>\n",
       "    .dataframe tbody tr th:only-of-type {\n",
       "        vertical-align: middle;\n",
       "    }\n",
       "\n",
       "    .dataframe tbody tr th {\n",
       "        vertical-align: top;\n",
       "    }\n",
       "\n",
       "    .dataframe thead th {\n",
       "        text-align: right;\n",
       "    }\n",
       "</style>\n",
       "<table border=\"1\" class=\"dataframe\">\n",
       "  <thead>\n",
       "    <tr style=\"text-align: right;\">\n",
       "      <th></th>\n",
       "      <th>weight</th>\n",
       "      <th>weight</th>\n",
       "    </tr>\n",
       "  </thead>\n",
       "  <tbody>\n",
       "    <tr>\n",
       "      <th>count</th>\n",
       "      <td>250.000000</td>\n",
       "      <td>250.000000</td>\n",
       "    </tr>\n",
       "    <tr>\n",
       "      <th>mean</th>\n",
       "      <td>58.821560</td>\n",
       "      <td>71.287480</td>\n",
       "    </tr>\n",
       "    <tr>\n",
       "      <th>std</th>\n",
       "      <td>4.503791</td>\n",
       "      <td>5.019958</td>\n",
       "    </tr>\n",
       "    <tr>\n",
       "      <th>min</th>\n",
       "      <td>39.070000</td>\n",
       "      <td>65.100000</td>\n",
       "    </tr>\n",
       "    <tr>\n",
       "      <th>25%</th>\n",
       "      <td>56.200000</td>\n",
       "      <td>67.490000</td>\n",
       "    </tr>\n",
       "    <tr>\n",
       "      <th>50%</th>\n",
       "      <td>59.390000</td>\n",
       "      <td>70.115000</td>\n",
       "    </tr>\n",
       "    <tr>\n",
       "      <th>75%</th>\n",
       "      <td>62.527500</td>\n",
       "      <td>73.770000</td>\n",
       "    </tr>\n",
       "    <tr>\n",
       "      <th>max</th>\n",
       "      <td>65.100000</td>\n",
       "      <td>95.820000</td>\n",
       "    </tr>\n",
       "  </tbody>\n",
       "</table>\n",
       "</div>"
      ],
      "text/plain": [
       "           weight      weight\n",
       "count  250.000000  250.000000\n",
       "mean    58.821560   71.287480\n",
       "std      4.503791    5.019958\n",
       "min     39.070000   65.100000\n",
       "25%     56.200000   67.490000\n",
       "50%     59.390000   70.115000\n",
       "75%     62.527500   73.770000\n",
       "max     65.100000   95.820000"
      ]
     },
     "metadata": {},
     "output_type": "display_data"
    }
   ],
   "source": [
    "# Select the first 250 rows for group 1 (non-random assignment)\n",
    "group1_non_rand = weights.iloc[0:250]\n",
    "\n",
    "# Select the remaining rows for group 2 (non-random assignment)\n",
    "group2_non_rand = weights.iloc[250:]\n",
    "\n",
    "# Concatenate descriptive statistics of both groups for comparison\n",
    "compare_df_non_rand = pd.concat(\n",
    "    [group1_non_rand[\"weight\"].describe(), group2_non_rand[\"weight\"].describe()], axis=1\n",
    ")\n",
    "\n",
    "display(compare_df_non_rand)"
   ]
  },
  {
   "cell_type": "code",
   "execution_count": 5,
   "id": "5a94fe70",
   "metadata": {},
   "outputs": [
    {
     "data": {
      "application/vnd.microsoft.datawrangler.viewer.v0+json": {
       "columns": [
        {
         "name": "index",
         "rawType": "object",
         "type": "string"
        },
        {
         "name": "group1",
         "rawType": "float64",
         "type": "float"
        },
        {
         "name": "group2",
         "rawType": "float64",
         "type": "float"
        }
       ],
       "ref": "cfc5ffe9-5dda-48cf-aa89-f02492928c06",
       "rows": [
        [
         "count",
         "250.0",
         "250.0"
        ],
        [
         "mean",
         "64.49996",
         "65.60908"
        ],
        [
         "std",
         "8.073024569590062",
         "7.596345636007273"
        ],
        [
         "min",
         "39.07",
         "44.04"
        ],
        [
         "25%",
         "58.66",
         "60.3125"
        ],
        [
         "50%",
         "64.62",
         "65.54"
        ],
        [
         "75%",
         "69.95750000000001",
         "70.4425"
        ],
        [
         "max",
         "86.76",
         "95.82"
        ]
       ],
       "shape": {
        "columns": 2,
        "rows": 8
       }
      },
      "text/html": [
       "<div>\n",
       "<style scoped>\n",
       "    .dataframe tbody tr th:only-of-type {\n",
       "        vertical-align: middle;\n",
       "    }\n",
       "\n",
       "    .dataframe tbody tr th {\n",
       "        vertical-align: top;\n",
       "    }\n",
       "\n",
       "    .dataframe thead th {\n",
       "        text-align: right;\n",
       "    }\n",
       "</style>\n",
       "<table border=\"1\" class=\"dataframe\">\n",
       "  <thead>\n",
       "    <tr style=\"text-align: right;\">\n",
       "      <th></th>\n",
       "      <th>group1</th>\n",
       "      <th>group2</th>\n",
       "    </tr>\n",
       "  </thead>\n",
       "  <tbody>\n",
       "    <tr>\n",
       "      <th>count</th>\n",
       "      <td>250.000000</td>\n",
       "      <td>250.000000</td>\n",
       "    </tr>\n",
       "    <tr>\n",
       "      <th>mean</th>\n",
       "      <td>64.499960</td>\n",
       "      <td>65.609080</td>\n",
       "    </tr>\n",
       "    <tr>\n",
       "      <th>std</th>\n",
       "      <td>8.073025</td>\n",
       "      <td>7.596346</td>\n",
       "    </tr>\n",
       "    <tr>\n",
       "      <th>min</th>\n",
       "      <td>39.070000</td>\n",
       "      <td>44.040000</td>\n",
       "    </tr>\n",
       "    <tr>\n",
       "      <th>25%</th>\n",
       "      <td>58.660000</td>\n",
       "      <td>60.312500</td>\n",
       "    </tr>\n",
       "    <tr>\n",
       "      <th>50%</th>\n",
       "      <td>64.620000</td>\n",
       "      <td>65.540000</td>\n",
       "    </tr>\n",
       "    <tr>\n",
       "      <th>75%</th>\n",
       "      <td>69.957500</td>\n",
       "      <td>70.442500</td>\n",
       "    </tr>\n",
       "    <tr>\n",
       "      <th>max</th>\n",
       "      <td>86.760000</td>\n",
       "      <td>95.820000</td>\n",
       "    </tr>\n",
       "  </tbody>\n",
       "</table>\n",
       "</div>"
      ],
      "text/plain": [
       "           group1      group2\n",
       "count  250.000000  250.000000\n",
       "mean    64.499960   65.609080\n",
       "std      8.073025    7.596346\n",
       "min     39.070000   44.040000\n",
       "25%     58.660000   60.312500\n",
       "50%     64.620000   65.540000\n",
       "75%     69.957500   70.442500\n",
       "max     86.760000   95.820000"
      ]
     },
     "metadata": {},
     "output_type": "display_data"
    }
   ],
   "source": [
    "# Randomly sample 50% of the data without replacement for group 1\n",
    "group1_random = weights.sample(frac=0.5, random_state=42, replace=False)\n",
    "\n",
    "# Assign the remaining data to group 2 by dropping group 1 indices\n",
    "group2_random = weights.drop(group1_random.index)\n",
    "\n",
    "# Combine descriptive statistics of both groups into a single DataFrame for comparison\n",
    "compare_df_random = pd.concat(\n",
    "    [group1_random[\"weight\"].describe(), group2_random[\"weight\"].describe()], axis=1\n",
    ")\n",
    "\n",
    "# Rename columns to reflect group names for clarity\n",
    "compare_df_random.columns = [\"group1\", \"group2\"]\n",
    "\n",
    "display(compare_df_random)"
   ]
  },
  {
   "cell_type": "markdown",
   "id": "e5a00787",
   "metadata": {},
   "source": [
    "While simple randomization is the foundation of experimental design, it can sometimes result in imbalances between groups by pure chance. Advanced techniques like **block randomization** ensure equal group sizes, while **stratified randomization** ensures that key baseline characteristics (**covariates**) are evenly distributed between the treatment and control groups, which helps to isolate the treatment's true effect.\n",
    "\n",
    "## The Limitations of Simple Randomization\n",
    "\n",
    "Simple random assignment is a powerful tool, but it is not without potential issues, especially in smaller experiments:\n",
    "\n",
    "1.  **Uneven Group Sizes**: When using a method like `df.sample(frac=0.5)`, random chance might lead to slightly different numbers of subjects in the treatment and control groups.\n",
    "2.  **Covariate Imbalance**: A more critical issue is the potential for an imbalance in **covariates**. A covariate is a baseline variable (like age, location, or user status) that could also influence the outcome of the experiment. If, by chance, one group ends up with a higher proportion of a key covariate, this can become a **confounding variable**, making it difficult to distinguish between the effect of the treatment and the effect of the pre-existing group imbalance.\n",
    "\n",
    "### Advanced Randomization Techniques\n",
    "\n",
    "To mitigate these issues, more sophisticated randomization techniques are often employed.\n",
    "\n",
    "#### Block Randomization\n",
    "\n",
    "**Block randomization** is a procedure used to ensure that the number of subjects in the treatment and control groups remains equal or very close throughout the subject recruitment process.\n",
    "\n",
    "  * **Purpose**: To prevent imbalances in group sizes.\n",
    "  * **How it works**: Subjects are divided into \"blocks\" of a pre-determined size (e.g., blocks of 4). Within each block, a random half of the subjects are assigned to the treatment group and the other half to the control group. This process is repeated for each new block of subjects.\n",
    "\n",
    "#### Stratified Randomization\n",
    "\n",
    "**Stratified randomization** is a technique used to control for potential confounding variables by ensuring that key baseline characteristics are perfectly balanced across the experimental groups.\n",
    "\n",
    "  * **Purpose**: To eliminate the influence of important covariates.\n",
    "  * **How it works**:\n",
    "    1.  First, the population is divided into subgroups, or **strata**, based on the covariate(s) of interest (e.g., one stratum for \"power users\" and another for \"not power users\").\n",
    "    2.  Then, within **each stratum**, a separate simple randomization is performed to assign subjects to the treatment and control groups.\n",
    "\n",
    "This two-step process guarantees that the proportion of subjects with that characteristic (e.g., the percentage of power users) is identical in both the treatment and control groups.\n",
    "\n",
    "#### A Complete Example: Simple vs. Stratified Randomization\n",
    "\n",
    "Let's demonstrate the value of stratified randomization with a complete example.\n",
    "\n",
    "**Scenario**: We want to test a new website feature (the treatment) to see if it increases `basket_size`. We know that `power_user` status is a strong predictor of `basket_size`, making it a potential confounding variable.\n",
    "\n",
    "```python\n",
    "import pandas as pd\n",
    "import numpy as np\n",
    "\n",
    "# 1. Create a generic, reproducible dataset\n",
    "np.random.seed(42)\n",
    "df = pd.DataFrame({\n",
    "    'user_id': np.arange(1000),\n",
    "    'power_user': np.random.choice([0, 1], 1000, p=[0.9, 0.1])\n",
    "})\n",
    "\n",
    "# 2. Simple Random Assignment \n",
    "# Assign 50% to Treatment ('T') and 50% to Control ('C')\n",
    "group_T_simple = df.sample(frac=0.5, random_state=42)\n",
    "group_C_simple = df.drop(group_T_simple.index)\n",
    "# Check the distribution of the 'power_user' covariate\n",
    "print(\"Control Group:\\n\", group_C_simple['power_user'].value_counts(normalize=True))\n",
    "print(\"Treatment Group:\\n\", group_T_simple['power_user'].value_counts(normalize=True))\n",
    "# Note: The proportions are close, but not identical, due to random chance.\n",
    "\n",
    "# 3. Stratified Random Assignment \n",
    "# Stratum 1: Not Power Users (power_user == 0)\n",
    "strata_0 = df[df['power_user'] == 0]\n",
    "strata_0_T = strata_0.sample(frac=0.5, random_state=42)\n",
    "strata_0_C = strata_0.drop(strata_0_T.index)\n",
    "\n",
    "# Stratum 2: Power Users (power_user == 1)\n",
    "strata_1 = df[df['power_user'] == 1]\n",
    "strata_1_T = strata_1.sample(frac=0.5, random_state=42)\n",
    "strata_1_C = strata_1.drop(strata_1_T.index)\n",
    "\n",
    "# Combine the stratified groups\n",
    "group_T_stratified = pd.concat([strata_0_T, strata_1_T])\n",
    "group_C_stratified = pd.concat([strata_0_C, strata_1_C])\n",
    "\n",
    "# Check the distribution of the 'power_user' covariate again\n",
    "print(\"Control Group:\\n\", group_C_stratified['power_user'].value_counts(normalize=True))\n",
    "print(\"Treatment Group:\\n\", group_T_stratified['power_user'].value_counts(normalize=True))\n",
    "```\n",
    "\n",
    "The output demonstrates that with simple randomization, the proportion of power users in the two groups is slightly different due to random chance. With **stratified randomization**, the proportion of power users is **exactly identical** in both the treatment and control groups. This removes the `power_user` status as a potential confounding variable, ensuring that any difference we observe in `basket_size` between the groups can be more confidently attributed to the treatment itself."
   ]
  },
  {
   "cell_type": "code",
   "execution_count": 6,
   "id": "97a04a25",
   "metadata": {},
   "outputs": [],
   "source": [
    "# Generate random basket sizes between 0 and 1000 for 1000 users\n",
    "basket_size = np.random.randint(low=0, high=1001, size=1000)\n",
    "\n",
    "# Generate base web time (2 to 30 seconds) for all users\n",
    "base_time = np.random.randint(low=2, high=30, size=1000)\n",
    "\n",
    "# Calculate the effect of basket size on web time (each $ adds ~0.08 seconds)\n",
    "size_effect = basket_size * 0.08\n",
    "\n",
    "# Add random noise (mean=0, std=15) to simulate variability in user behavior\n",
    "noise = np.random.normal(0, 15, 1000)\n",
    "\n",
    "# Combine base time, size effect, and noise to compute total web time\n",
    "web_time = base_time + size_effect + noise\n",
    "\n",
    "# Clip web time to ensure it stays within realistic bounds (2 to 120 seconds)\n",
    "web_time = np.clip(web_time, 2, 120).astype(int)\n",
    "\n",
    "# Create a DataFrame to store basket size and web time\n",
    "ecom = pd.DataFrame(data={\"basket_size\": basket_size, \"web_time\": web_time})\n",
    "\n",
    "# Mark users as power users (1) if their web time exceeds 40 seconds, else 0\n",
    "ecom[\"power_user\"] = (ecom[\"web_time\"] > 40).astype(int)"
   ]
  },
  {
   "cell_type": "code",
   "execution_count": 7,
   "id": "5c3929eb",
   "metadata": {},
   "outputs": [
    {
     "name": "stdout",
     "output_type": "stream",
     "text": [
      "500 500\n"
     ]
    }
   ],
   "source": [
    "# Randomly sample 50% of the data for group 1, ensuring reproducibility with random_state\n",
    "group1 = ecom.sample(frac=0.5, random_state=42, replace=False)\n",
    "\n",
    "# Assign group 1 to Block 1 for stratified analysis\n",
    "group1[\"Block\"] = 1\n",
    "\n",
    "# Assign the remaining data to group 2 by dropping group 1 indices\n",
    "group2 = ecom.drop(group1.index)\n",
    "\n",
    "# Assign group 2 to Block 2 for stratified analysis\n",
    "group2[\"Block\"] = 2\n",
    "\n",
    "print(len(group1), len(group2))"
   ]
  },
  {
   "cell_type": "code",
   "execution_count": 8,
   "id": "60d84ac8",
   "metadata": {},
   "outputs": [
    {
     "data": {
      "image/png": "[encoded data removed]",
      "text/plain": [
       "<Figure size 700x500 with 1 Axes>"
      ]
     },
     "metadata": {},
     "output_type": "display_data"
    }
   ],
   "source": [
    "fig, ax = plt.subplots(figsize=(7, 5))\n",
    "\n",
    "# Plot KDEs of web_time for each power_user group (0 vs 1)\n",
    "sns.kdeplot(\n",
    "    data=ecom,\n",
    "    x=\"web_time\",\n",
    "    hue=\"power_user\",\n",
    "    fill=True,\n",
    "    common_norm=False,\n",
    "    alpha=0.5,\n",
    "    ax=ax,\n",
    ")\n",
    "\n",
    "ax.set(\n",
    "    xlabel=\"Web time (seconds)\",\n",
    "    ylabel=\"Density\",\n",
    "    title=\"Distribution of web_time by power_user status\",\n",
    ")\n",
    "ax.grid(True, alpha=0.6, linewidth=0.6, color=\"grey\")\n",
    "\n",
    "plt.tight_layout()\n",
    "plt.show()"
   ]
  },
  {
   "cell_type": "code",
   "execution_count": 9,
   "id": "33c0fe58",
   "metadata": {},
   "outputs": [],
   "source": [
    "# Filter rows where 'power_user' equals 1 and create a copy to avoid SettingWithCopyWarning\n",
    "strata_1 = ecom.loc[ecom[\"power_user\"] == 1].copy()\n",
    "\n",
    "# Assign Block 1 to all rows in the filtered DataFrame\n",
    "strata_1[\"Block\"] = 1\n",
    "\n",
    "# Randomly sample 50% of the rows for the treatment group (T), ensuring reproducibility\n",
    "strata_1_g1 = strata_1.sample(frac=0.5, replace=False, random_state=42).copy()\n",
    "strata_1_g1[\"T_C\"] = \"T\"  # Mark sampled rows as treatment group\n",
    "\n",
    "# Assign the remaining rows to the control group (C) by dropping treatment indices\n",
    "strata_1_g2 = strata_1.drop(strata_1_g1.index).copy()\n",
    "strata_1_g2[\"T_C\"] = \"C\"  # Mark remaining rows as control group"
   ]
  },
  {
   "cell_type": "code",
   "execution_count": 10,
   "id": "3289dd8b",
   "metadata": {},
   "outputs": [],
   "source": [
    "# Filter out rows from 'ecom' DataFrame where 'power_user' equals 1 to create strata_2\n",
    "strata_2 = ecom.drop(strata_1.index)\n",
    "\n",
    "# Assign Block 2 to all rows in the filtered DataFrame for stratified analysis\n",
    "strata_2[\"Block\"] = 2\n",
    "\n",
    "# Randomly sample 50% of the rows for the treatment group (T), ensuring reproducibility\n",
    "strata_2_g1 = strata_2.sample(frac=0.5, replace=False, random_state=42).copy()\n",
    "\n",
    "# Mark sampled rows as treatment group\n",
    "strata_2_g1[\"T_C\"] = \"T\"\n",
    "\n",
    "# Assign the remaining rows to the control group (C) by dropping treatment indices\n",
    "strata_2_g2 = strata_2.drop(strata_2_g1.index).copy()\n",
    "\n",
    "# Mark remaining rows as control group\n",
    "strata_2_g2[\"T_C\"] = \"C\""
   ]
  },
  {
   "cell_type": "code",
   "execution_count": 11,
   "id": "cd7c9414",
   "metadata": {},
   "outputs": [
    {
     "data": {
      "application/vnd.microsoft.datawrangler.viewer.v0+json": {
       "columns": [
        {
         "name": "('Block', 'T_C', 'power_user')",
         "rawType": "object",
         "type": "unknown"
        },
        {
         "name": "0",
         "rawType": "int64",
         "type": "integer"
        }
       ],
       "ref": "57cc2f48-7e99-4406-9e91-55a595463c3e",
       "rows": [
        [
         "(np.int64(1), 'C', np.int64(1))",
         "341"
        ],
        [
         "(np.int64(1), 'T', np.int64(1))",
         "342"
        ],
        [
         "(np.int64(2), 'C', np.int64(0))",
         "159"
        ],
        [
         "(np.int64(2), 'T', np.int64(0))",
         "158"
        ]
       ],
       "shape": {
        "columns": 1,
        "rows": 4
       }
      },
      "text/plain": [
       "Block  T_C  power_user\n",
       "1      C    1             341\n",
       "       T    1             342\n",
       "2      C    0             159\n",
       "       T    0             158\n",
       "dtype: int64"
      ]
     },
     "metadata": {},
     "output_type": "display_data"
    }
   ],
   "source": [
    "# Combine all stratified groups into a single DataFrame for analysis\n",
    "ecom_stratified = pd.concat([strata_1_g1, strata_1_g2, strata_2_g1, strata_2_g2])\n",
    "\n",
    "# Group by Block, Treatment/Control (T_C), and power_user, then count occurrences\n",
    "# This provides a summary of the distribution of users across strata and groups\n",
    "display(ecom_stratified.groupby([\"Block\", \"T_C\", \"power_user\"]).size())"
   ]
  },
  {
   "cell_type": "code",
   "execution_count": 12,
   "id": "de7e8807",
   "metadata": {},
   "outputs": [
    {
     "data": {
      "application/vnd.microsoft.datawrangler.viewer.v0+json": {
       "columns": [
        {
         "name": "index",
         "rawType": "int64",
         "type": "integer"
        },
        {
         "name": "subject_id",
         "rawType": "int64",
         "type": "integer"
        }
       ],
       "ref": "6bc78921-ec31-4639-9a0a-0c1b54447583",
       "rows": [
        [
         "0",
         "1"
        ],
        [
         "1",
         "2"
        ],
        [
         "2",
         "3"
        ],
        [
         "3",
         "4"
        ],
        [
         "4",
         "5"
        ]
       ],
       "shape": {
        "columns": 1,
        "rows": 5
       }
      },
      "text/html": [
       "<div>\n",
       "<style scoped>\n",
       "    .dataframe tbody tr th:only-of-type {\n",
       "        vertical-align: middle;\n",
       "    }\n",
       "\n",
       "    .dataframe tbody tr th {\n",
       "        vertical-align: top;\n",
       "    }\n",
       "\n",
       "    .dataframe thead th {\n",
       "        text-align: right;\n",
       "    }\n",
       "</style>\n",
       "<table border=\"1\" class=\"dataframe\">\n",
       "  <thead>\n",
       "    <tr style=\"text-align: right;\">\n",
       "      <th></th>\n",
       "      <th>subject_id</th>\n",
       "    </tr>\n",
       "  </thead>\n",
       "  <tbody>\n",
       "    <tr>\n",
       "      <th>0</th>\n",
       "      <td>1</td>\n",
       "    </tr>\n",
       "    <tr>\n",
       "      <th>1</th>\n",
       "      <td>2</td>\n",
       "    </tr>\n",
       "    <tr>\n",
       "      <th>2</th>\n",
       "      <td>3</td>\n",
       "    </tr>\n",
       "    <tr>\n",
       "      <th>3</th>\n",
       "      <td>4</td>\n",
       "    </tr>\n",
       "    <tr>\n",
       "      <th>4</th>\n",
       "      <td>5</td>\n",
       "    </tr>\n",
       "  </tbody>\n",
       "</table>\n",
       "</div>"
      ],
      "text/plain": [
       "   subject_id\n",
       "0           1\n",
       "1           2\n",
       "2           3\n",
       "3           4\n",
       "4           5"
      ]
     },
     "execution_count": 12,
     "metadata": {},
     "output_type": "execute_result"
    }
   ],
   "source": [
    "url = \"https://raw.githubusercontent.com/jhlopesalves/data-science-practice-notebook/refs/heads/main/Python/statistics/experimental_design/data/productivity_subjects.csv\"\n",
    "productivity_subjects = pd.read_csv(\n",
    "    url, usecols=lambda col: not col.startswith(\"Unnamed\")\n",
    ")\n",
    "productivity_subjects.head()"
   ]
  },
  {
   "cell_type": "markdown",
   "id": "7b96031c",
   "metadata": {},
   "source": [
    "### Blocking experimental data\n",
    "You are working with a manufacturing firm that wants to conduct some experiments on worker productivity. Their dataset only contains 100 rows, so it's important that experimental groups are balanced.\n",
    "\n",
    "This sounds like a great opportunity to use your knowledge of blocking to assist them. They have provided a `productivity_subjects` DataFrame. Split the provided dataset into two even groups of 50 entries each."
   ]
  },
  {
   "cell_type": "code",
   "execution_count": 13,
   "id": "1a245a06",
   "metadata": {},
   "outputs": [
    {
     "data": {
      "application/vnd.microsoft.datawrangler.viewer.v0+json": {
       "columns": [
        {
         "name": "block",
         "rawType": "int64",
         "type": "integer"
        },
        {
         "name": "count",
         "rawType": "int64",
         "type": "integer"
        }
       ],
       "ref": "f228d52b-009d-4c85-9cd3-04d05ea60482",
       "rows": [
        [
         "1",
         "50"
        ],
        [
         "2",
         "50"
        ]
       ],
       "shape": {
        "columns": 1,
        "rows": 2
       }
      },
      "text/plain": [
       "block\n",
       "1    50\n",
       "2    50\n",
       "Name: count, dtype: int64"
      ]
     },
     "metadata": {},
     "output_type": "display_data"
    }
   ],
   "source": [
    "block_1 = productivity_subjects.sample(frac=0.5, random_state=42, replace=False)\n",
    "block_1[\"block\"] = 1\n",
    "\n",
    "block_2 = productivity_subjects.drop(block_1.index)\n",
    "block_2[\"block\"] = 2\n",
    "productivity_combined = pd.concat([block_1, block_2], axis=0)\n",
    "display(productivity_combined[\"block\"].value_counts())"
   ]
  },
  {
   "cell_type": "code",
   "execution_count": null,
   "id": "ee24c4ca",
   "metadata": {},
   "outputs": [],
   "source": []
  }
 ],
 "metadata": {
  "kernelspec": {
   "display_name": "datacamp",
   "language": "python",
   "name": "python3"
  },
  "language_info": {
   "codemirror_mode": {
    "name": "ipython",
    "version": 3
   },
   "file_extension": ".py",
   "mimetype": "text/x-python",
   "name": "python",
   "nbconvert_exporter": "python",
   "pygments_lexer": "ipython3",
   "version": "3.12.11"
  }
 },
 "nbformat": 4,
 "nbformat_minor": 5
}
