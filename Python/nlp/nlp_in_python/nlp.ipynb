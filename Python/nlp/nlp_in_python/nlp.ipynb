{
 "cells": [
  {
   "cell_type": "markdown",
   "id": "73309f9c",
   "metadata": {},
   "source": [
    "## What is Natural Language Processing (NLP)?\n",
    "\n",
    "Human language is the primary way we communicate, but it is inherently complex, ambiguous, and unstructured. Computers, on the other hand, operate on structured, numerical data. Natural Language Processing (NLP) is the subfield of computer science and artificial intelligence that provides the methods and algorithms to bridge this gap. It enables computers to read, analyze, and derive meaning from human language in a smart and useful way.\n",
    "\n",
    "### The Standard NLP Workflow\n",
    "\n",
    "Most NLP projects follow a standard pipeline of steps to transform unstructured text into actionable insights:\n",
    "\n",
    "1.  **Raw Text**: The input to the pipeline, which can be any form of text data, such as a social media post, a legal document, a scientific paper, or a book.\n",
    "2.  **Preprocessing**: Cleaning and standardizing the raw text to prepare it for analysis. This involves removing noise and unnecessary elements to focus on the meaningful parts of the text. **Tokenization** is the first and most fundamental preprocessing step.\n",
    "3.  **Feature Extraction**: Converting the cleaned text into a numerical representation (vectors or matrices) that machine learning models can understand.\n",
    "4.  **Modeling**: Applying algorithms to the numerical features to perform a specific task, such as classifying text sentiment, translating between languages, summarizing long documents, or generating new content.\n",
    "\n",
    "### Tokenization: The First Step in Preprocessing\n",
    "\n",
    "**Tokenization** is the process of breaking down a continuous stream of text into smaller, meaningful units called **tokens**. These tokens serve as the basic building blocks for all further analysis. There are two primary levels of tokenization.\n",
    "\n",
    "#### Sentence Tokenization\n",
    "\n",
    "Sentence tokenization segments a block of text into its constituent sentences. Analyzing text at the sentence level is often more insightful than treating it as a single block, as it preserves the immediate context of words.\n",
    "\n",
    "The **Natural Language Toolkit (NLTK)** is a foundational library for NLP in Python that provides easy-to-use tools for these tasks.\n",
    "\n",
    "```python\n",
    "import nltk\n",
    "# The 'punkt' tokenizer models are required for tokenization.\n",
    "# You only need to download this once.\n",
    "nltk.download('punkt')\n",
    "\n",
    "# Sample text paragraph\n",
    "text_block = \"Natural Language Processing is a fascinating field. It allows us to build amazing applications. Shall we begin?\"\n",
    "\n",
    "# Tokenize the text into sentences\n",
    "sentences = nltk.sent_tokenize(text_block)\n",
    "\n",
    "print(sentences)\n",
    "```\n",
    "\n",
    "#### Word Tokenization\n",
    "\n",
    "Word tokenization segments a sentence or text into its individual words and punctuation marks. This is an essential step for many downstream tasks, such as counting word frequencies, building a vocabulary, or identifying key terms in a document.\n",
    "\n",
    "```python\n",
    "# A single sentence for word tokenization\n",
    "sentence = \"Don't wait, claim your 100% free prize now!\"\n",
    "\n",
    "# Tokenize the sentence into words and punctuation\n",
    "words = nltk.word_tokenize(sentence)\n",
    "\n",
    "print(words)\n",
    "```\n",
    "\n",
    "As you can see, `word_tokenize` is intelligent enough to handle contractions like \"Don't\" by splitting it into \"Do\" and \"n't\", and it correctly separates all words and punctuation into distinct tokens. These tokenization steps are the gateway to nearly all other NLP techniques."
   ]
  },
  {
   "cell_type": "code",
   "execution_count": 2,
   "id": "57972706",
   "metadata": {},
   "outputs": [
    {
     "name": "stderr",
     "output_type": "stream",
     "text": [
      "[nltk_data] Downloading package punkt_tab to\n",
      "[nltk_data]     C:\\Users\\jhonm\\AppData\\Roaming\\nltk_data...\n",
      "[nltk_data]   Package punkt_tab is already up-to-date!\n"
     ]
    },
    {
     "data": {
      "text/plain": [
       "True"
      ]
     },
     "execution_count": 2,
     "metadata": {},
     "output_type": "execute_result"
    }
   ],
   "source": [
    "import nltk\n",
    "\n",
    "# Download the punkt_tab package.\n",
    "nltk.download(\"punkt_tab\")"
   ]
  },
  {
   "cell_type": "code",
   "execution_count": 3,
   "id": "3e7d78e0",
   "metadata": {},
   "outputs": [
    {
     "name": "stdout",
     "output_type": "stream",
     "text": [
      "['The', 'stock', 'market', 'saw', 'a', 'significant', 'dip', 'today', '.']\n"
     ]
    }
   ],
   "source": [
    "text = \"\"\"\n",
    "The stock market saw a significant dip today. Experts believe the downturn may continue.\n",
    "However, many investors are optimistic about future growth.\n",
    "\"\"\"\n",
    "# Tokenize the text into sentences\n",
    "sentences = nltk.sent_tokenize(text)\n",
    "\n",
    "# Tokenize the first sentence you obtained into words\n",
    "words = nltk.word_tokenize(sentences[0])\n",
    "print(words)"
   ]
  },
  {
   "cell_type": "markdown",
   "id": "498f1a9e",
   "metadata": {},
   "source": [
    "## Handling Stop Words\n",
    "\n",
    "### What are Stop Words?\n",
    "\n",
    "**Stop words** are words that appear with extremely high frequency in a language but typically contribute little to the overall meaning of a text. They are the grammatical \"glue\" that holds sentences together, such as articles (\"a\", \"an\", \"the\"), prepositions (\"in\", \"on\", \"about\"), and conjunctions (\"and\", \"but\", \"or\").\n",
    "\n",
    "### The Rationale for Removal\n",
    "\n",
    "For many NLP tasks, the goal is to identify the core topics or themes of a document. In this context, stop words act as noise. By removing them, we achieve two primary benefits:\n",
    "\n",
    "1.  **Reduced Dimensionality**: We reduce the total number of unique words (the vocabulary size) that a model needs to consider.\n",
    "2.  **Increased Focus**: The model can focus on the content-bearing words that are more likely to be important for the task at hand.\n",
    "\n",
    "However, removing stop words is not always appropriate. For tasks that require understanding grammatical structure or nuanced meaning, such as machine translation or sentiment analysis on short texts, stop words can be essential and should be retained.\n",
    "\n",
    "### Implementation in NLTK\n",
    "\n",
    "The NLTK library provides pre-compiled lists of stop words for many languages. The process involves tokenizing the text and then filtering out any token that appears in the stop word list. It is crucial to convert tokens to a consistent case (typically lowercase) before checking for stop words.\n",
    "\n",
    "```python\n",
    "import nltk\n",
    "from nltk.corpus import stopwords\n",
    "from nltk.tokenize import word_tokenize\n",
    "\n",
    "# Download the necessary NLTK data (only needs to be done once)\n",
    "nltk.download('stopwords')\n",
    "nltk.download('punkt')\n",
    "\n",
    "# Load the list of English stop words\n",
    "english_stop_words = set(stopwords.words('english')) # Use a set for faster lookups\n",
    "\n",
    "# Example of Removing Stop Words \n",
    "text = \"This is a sample sentence, showing off the stop words filtration.\"\n",
    "# Tokenize the text\n",
    "tokens = word_tokenize(text)\n",
    "\n",
    "# Filter out stop words using a list comprehension\n",
    "filtered_tokens = [word for word in tokens if word.lower() not in english_stop_words]\n",
    "\n",
    "print(f\"Original Tokens: {tokens}\")\n",
    "print(f\"Filtered Tokens: {filtered_tokens}\")\n",
    "```\n",
    "\n",
    "### Handling Punctuation\n",
    "\n",
    "Punctuation marks are symbols used to structure language for human readability. For many NLP models that operate on a \"bag-of-words\" principle, these symbols provide no meaningful information and can cause issues by making the model treat \"word\" and \"word.\" as two distinct tokens.\n",
    "\n",
    "#### The Rationale for Removal\n",
    "\n",
    "Removing punctuation helps to standardize the text and reduce the vocabulary size. It is a common step in preparing text for tasks that focus on word frequency or keyword identification. Similar to stop words, punctuation should be retained for tasks that rely on full sentence structure or sentiment analysis, where a symbol like an exclamation mark can carry important meaning.\n",
    "\n",
    "#### Implementation in Python\n",
    "\n",
    "Python's built-in `string` module provides a convenient string containing common punctuation marks. We can filter our list of tokens to exclude any that are found in this string.\n",
    "\n",
    "```python\n",
    "import string\n",
    "\n",
    "# The string.punctuation constant contains common punctuation marks\n",
    "print(string.punctuation)\n",
    "\n",
    "# A Combined Workflow: Removing Stop Words and Punctuation \n",
    "text = \"This is a sample sentence, showing off the stop words filtration!\"\n",
    "\n",
    "# 1. Tokenize the text\n",
    "tokens = word_tokenize(text)\n",
    "\n",
    "# 2. Use a single list comprehension to remove stop words AND punctuation\n",
    "# We check if the lowercased word is in the stop words set OR if it is in the punctuation set.\n",
    "clean_tokens = [\n",
    "    word for word in tokens \n",
    "    if word.lower() not in english_stop_words and word not in string.punctuation\n",
    "]\n",
    "\n",
    "print(f\"Original Tokens: {tokens}\")\n",
    "print(f\"Clean Tokens (No Stop Words or Punctuation): {clean_tokens}\")\n",
    "```\n",
    "\n",
    "This combined workflow provides a simple yet effective method for cleaning raw text and preparing it for further feature extraction and analysis."
   ]
  },
  {
   "cell_type": "code",
   "execution_count": 4,
   "id": "4c756dc0",
   "metadata": {},
   "outputs": [
    {
     "name": "stdout",
     "output_type": "stream",
     "text": [
      "!\"#$%&'()*+,-./:;<=>?@[\\]^_`{|}~\n"
     ]
    }
   ],
   "source": [
    "import string\n",
    "\n",
    "print(string.punctuation)"
   ]
  },
  {
   "cell_type": "code",
   "execution_count": 5,
   "id": "c22993b1",
   "metadata": {},
   "outputs": [
    {
     "name": "stderr",
     "output_type": "stream",
     "text": [
      "[nltk_data] Downloading package stopwords to\n",
      "[nltk_data]     C:\\Users\\jhonm\\AppData\\Roaming\\nltk_data...\n",
      "[nltk_data]   Package stopwords is already up-to-date!\n"
     ]
    },
    {
     "data": {
      "text/plain": [
       "['example', 'demonstrate', 'removing', 'stop', 'words']"
      ]
     },
     "metadata": {},
     "output_type": "display_data"
    }
   ],
   "source": [
    "from nltk.corpus import stopwords\n",
    "from nltk.tokenize import word_tokenize\n",
    "\n",
    "# Download the stopwords dataset from NLTK. This is required for filtering out stop words.\n",
    "nltk.download(\"stopwords\")\n",
    "\n",
    "# Load the list of English stop words. These are words that usually do not add significant meaning to text analysis.\n",
    "stop_words = stopwords.words(\"english\")\n",
    "\n",
    "text = \"This is an example to demonstrate removing stop words.\"\n",
    "\n",
    "# Tokenize the text into individual words and punctuation marks. Tokenization is a key first step in text preprocessing.\n",
    "tokens = word_tokenize(text)\n",
    "\n",
    "# Remove stop words from the token list. This step helps focus analysis on the most meaningful words.\n",
    "filtered_tokens = [word for word in tokens if word.lower() not in stop_words]\n",
    "\n",
    "# Remove punctuation from the filtered tokens. Punctuation is often removed to standardize the vocabulary.\n",
    "clean_tokens = [word for word in filtered_tokens if word not in string.punctuation]\n",
    "\n",
    "display(clean_tokens)"
   ]
  },
  {
   "cell_type": "code",
   "execution_count": 6,
   "id": "2494d33e",
   "metadata": {},
   "outputs": [
    {
     "name": "stdout",
     "output_type": "stream",
     "text": [
      "['reached', 'support', 'got', 'helpful', 'response', 'within', 'minutes', '!', '!', '!', '#', 'impressed']\n"
     ]
    }
   ],
   "source": [
    "from nltk.corpus import stopwords\n",
    "\n",
    "feedback = \"I reached out to support and got a helpful response within minutes!!! Very #impressed\"\n",
    "\n",
    "# Tokenize the provided feedback into words and punctuation. Tokenization is a key first step in text preprocessing.\n",
    "tokens = nltk.word_tokenize(feedback)\n",
    "\n",
    "# Get the list of English stopwords. These are words that usually do not add significant meaning to text analysis.\n",
    "stop_words = stopwords.words(\"english\")\n",
    "\n",
    "# Remove English stop words from the token list. This step helps focus analysis on the most meaningful words.\n",
    "filtered_tokens = [word for word in tokens if word.lower() not in stop_words]\n",
    "\n",
    "print(filtered_tokens)"
   ]
  },
  {
   "cell_type": "code",
   "execution_count": 7,
   "id": "83af8c47",
   "metadata": {},
   "outputs": [
    {
     "name": "stdout",
     "output_type": "stream",
     "text": [
      "['reached', 'support', 'got', 'helpful', 'response', 'within', 'minutes', 'impressed']\n"
     ]
    }
   ],
   "source": [
    "# Import the string module, which contains a list of common punctuation characters.\n",
    "import string\n",
    "\n",
    "# Clean the filtered_tokens list by removing all punctuation.\n",
    "# This step ensures that only meaningful words remain, further reducing noise in the data.\n",
    "clean_tokens = [word for word in filtered_tokens if word not in string.punctuation]\n",
    "\n",
    "print(clean_tokens)"
   ]
  },
  {
   "cell_type": "markdown",
   "id": "d1fdb3ae",
   "metadata": {},
   "source": [
    "## What is Text Normalization?\n",
    "\n",
    "In natural language, the same concept can be expressed with many different word forms (e.g., \"run\", \"running\", \"ran\"). For a computer, these are all distinct strings. Text normalization is a crucial preprocessing step that groups these variations together. The goal is to reduce the vocabulary size (the number of unique tokens) and ensure that the core meaning of a word is treated consistently, which helps NLP models generalize better.\n",
    "\n",
    "### Lowercasing\n",
    "\n",
    "Lowercasing is the most basic and common normalization technique. Computers are case-sensitive, meaning they treat \"Data\", \"data\", and \"DATA\" as three different tokens. Converting all text to a single case (typically lowercase) resolves this.\n",
    "\n",
    "  * **Why**: It prevents the model from treating the same word with different capitalization as separate entities, which reduces vocabulary size and improves statistical analysis of word frequencies.\n",
    "  * **How**: Use the standard `.lower()` string method in Python.\n",
    "  * **When to Avoid**: Lowercasing should be avoided in tasks where case is meaningful, such as identifying proper nouns (e.g., distinguishing \"US\" the country from \"us\" the pronoun) or analyzing code.\n",
    "\n",
    "\n",
    "```python\n",
    "text = \"The DATA SCIENTIST used data from the Data Warehouse.\"\n",
    "lower_text = text.lower()\n",
    "print(lower_text)\n",
    "```\n",
    "\n",
    "### Reducing Words to Their Root Form\n",
    "\n",
    "Beyond casing, we often want to group words with the same core meaning, like \"run\", \"running\", and \"ran\". Stemming and lemmatization are two common techniques for this.\n",
    "\n",
    "#### Stemming\n",
    "\n",
    "**Stemming** is a heuristic process that reduces words to their \"stem\" or root form by crudely chopping off common prefixes and suffixes according to a set of rules.\n",
    "\n",
    "  * **Advantages**: It is computationally fast and simple.\n",
    "  * **Disadvantages**: The process often results in non-existent words (e.g., `organizations -> organizat`) because it does not consider the word's dictionary definition or context.\n",
    "  * **Implementation**: The **Porter Stemmer** is a classic and widely used stemming algorithm available in NLTK.\n",
    "\n",
    "\n",
    "```python\n",
    "from nltk.stem import PorterStemmer\n",
    "\n",
    "# Initialize the stemmer\n",
    "stemmer = PorterStemmer()\n",
    "\n",
    "tokens = ['running', 'ran', 'computers', 'organization', 'finally']\n",
    "\n",
    "# Apply stemming to each token\n",
    "stemmed_tokens = [stemmer.stem(word) for word in tokens]\n",
    "print(f\"Original Tokens: {tokens}\")\n",
    "print(f\"Stemmed Tokens:  {stemmed_tokens}\")\n",
    "```\n",
    "\n",
    "#### Lemmatization\n",
    "\n",
    "**Lemmatization** is a more sophisticated process that reduces a word to its dictionary base form, known as the **lemma**. Unlike stemming, it considers the word's part of speech (POS) and meaning to produce a valid dictionary word.\n",
    "\n",
    "  * **Advantages**: The result is always a valid, interpretable word, which preserves more of the text's meaning.\n",
    "  * **Disadvantages**: It is significantly slower than stemming because it requires dictionary lookups (e.g., from a resource like WordNet).\n",
    "  * **Implementation**: The **WordNet Lemmatizer** in NLTK is a standard tool. A crucial detail is that the lemmatizer works best when the part of speech is provided. By default, it assumes the word is a noun.\n",
    "\n",
    "\n",
    "```python\n",
    "from nltk.stem import WordNetLemmatizer\n",
    "import nltk\n",
    "\n",
    "# Download the necessary NLTK data (only needs to be done once)\n",
    "nltk.download('wordnet')\n",
    "nltk.download('omw-1.4') # Open Multilingual Wordnet\n",
    "\n",
    "# Initialize the lemmatizer\n",
    "lemmatizer = WordNetLemmatizer()\n",
    "\n",
    "tokens = ['running', 'ran', 'computers', 'organization', 'finally']\n",
    "\n",
    "# Apply lemmatization\n",
    "# Note: Lemmatizing 'ran' correctly to 'run' requires knowing it's a verb.\n",
    "# The default lemmatize() assumes it's a noun.\n",
    "lemmatized_tokens = [lemmatizer.lemmatize(word, pos='v') for word in tokens] # pos='v' for verb\n",
    "print(f\"Original Tokens:   {tokens}\")\n",
    "print(f\"Lemmatized Tokens: {lemmatized_tokens}\")\n",
    "```\n",
    "### Stemming vs. Lemmatization: A Comparison\n",
    "\n",
    "| Feature | Stemming | Lemmatization |\n",
    "| :--- | :--- | :--- |\n",
    "| **Process** | Crude heuristic (chops off endings) | Dictionary-based (considers meaning and POS) |\n",
    "| **Output** | Can be a non-word (e.g., `organizat`) | Always a valid dictionary word (e.g., `organization`)|\n",
    "| **Speed** | **Fast** | Slow |\n",
    "| **Accuracy** | Lower | **Higher** |\n",
    "| **Use Case** | Best for applications where speed is critical and interpretability is less important, such as search engine indexing. | Best for applications requiring grammatical accuracy and understanding of meaning, such as chatbots, machine translation, or sentiment analysis. |"
   ]
  },
  {
   "cell_type": "code",
   "execution_count": 8,
   "id": "c9305d41",
   "metadata": {},
   "outputs": [
    {
     "name": "stdout",
     "output_type": "stream",
     "text": [
      " \n",
      "data scientists and data engineers need data \n",
      "\n"
     ]
    }
   ],
   "source": [
    "text = \"\"\" \n",
    "Data Scientists and data engineers need DATA \n",
    "\"\"\"\n",
    "\n",
    "lower_text = text.lower()\n",
    "print(lower_text)"
   ]
  },
  {
   "cell_type": "code",
   "execution_count": 9,
   "id": "d00838b3",
   "metadata": {},
   "outputs": [
    {
     "name": "stderr",
     "output_type": "stream",
     "text": [
      "[nltk_data] Downloading package wordnet to\n",
      "[nltk_data]     C:\\Users\\jhonm\\AppData\\Roaming\\nltk_data...\n",
      "[nltk_data]   Package wordnet is already up-to-date!\n"
     ]
    },
    {
     "name": "stdout",
     "output_type": "stream",
     "text": [
      "Stemmed token list: ['run', 'bat', 'organ', 'read']\n",
      "Lemmatized token list: ['running', 'bat', 'organization', 'reading']\n"
     ]
    }
   ],
   "source": [
    "from nltk.stem import PorterStemmer, WordNetLemmatizer\n",
    "\n",
    "# Download the WordNet lexical database, required for lemmatization.\n",
    "nltk.download(\"wordnet\")\n",
    "\n",
    "# Initialize the PorterStemmer object for stemming.\n",
    "stemmer = PorterStemmer()\n",
    "\n",
    "# Initialize the WordNetLemmatizer object for lemmatization.\n",
    "lemmatizer = WordNetLemmatizer()\n",
    "\n",
    "# Define a list of tokens (words) to be normalized. These include different forms and pluralizations.\n",
    "tokens = [\"running\", \"bats\", \"organizations\", \"reading\"]\n",
    "\n",
    "# Apply stemming to each token. Stemming crudely removes suffixes to reduce words to their stems, which may not be valid words.\n",
    "stemmed = [stemmer.stem(word) for word in tokens]\n",
    "\n",
    "# Apply lemmatization to each token. Lemmatization uses a vocabulary and morphological analysis to return valid dictionary words.\n",
    "lemmatized = [lemmatizer.lemmatize(word) for word in tokens]\n",
    "\n",
    "print(f\"Stemmed token list: {stemmed}\")\n",
    "print(f\"Lemmatized token list: {lemmatized}\")"
   ]
  },
  {
   "cell_type": "code",
   "execution_count": 10,
   "id": "3467076f",
   "metadata": {},
   "outputs": [
    {
     "name": "stdout",
     "output_type": "stream",
     "text": [
      "List of clean tokens (removed stop_words): ['flying', 'lot', 'lately', 'flights', 'keep', 'getting', 'delayed', 'honestly', 'traveling', 'work', 'gets', 'exhausting', 'endless', 'delays', 'every', 'trip', 'teaches', 'something', 'new']\n",
      "list of stemmed tokens: ['fli', 'lot', 'late', 'flight', 'keep', 'get', 'delay', 'honestli', 'travel', 'work', 'get', 'exhaust', 'endless', 'delay', 'everi', 'trip', 'teach', 'someth', 'new']\n",
      "list of lemmatized tokens: ['flying', 'lot', 'lately', 'flight', 'keep', 'getting', 'delayed', 'honestly', 'traveling', 'work', 'get', 'exhausting', 'endless', 'delay', 'every', 'trip', 'teach', 'something', 'new']\n"
     ]
    }
   ],
   "source": [
    "from nltk.tokenize import word_tokenize\n",
    "from nltk.corpus import stopwords\n",
    "from nltk.stem import PorterStemmer, WordNetLemmatizer\n",
    "from string import punctuation\n",
    "\n",
    "# Define the review text to be processed. This sentence contains both stop words and meaningful words.\n",
    "review = \"I have been FLYING a lot lately and the Flights just keep getting DELAYED. Honestly, traveling for WORK gets exhausting with endless delays, but every trip teaches you something new!\"\n",
    "\n",
    "# Convert the provided review into lowercase. Lowercasing standardizes the text and reduces vocabulary size.\n",
    "lower_text = review.lower()\n",
    "\n",
    "# Tokenize the lower_text into words and punctuation marks. Tokenization is a key first step in text preprocessing.\n",
    "tokens = word_tokenize(lower_text)\n",
    "\n",
    "# Load the list of English stop words. These are words that usually do not add significant meaning to text analysis.\n",
    "stop_words = stopwords.words(\"english\")\n",
    "\n",
    "# Use list comprehension to remove stop words and punctuation using the lists of stop_words and string.punctuation.\n",
    "# This step focuses analysis on the most meaningful words and standardizes the vocabulary.\n",
    "clean_tokens = [\n",
    "    word for word in tokens if word not in stop_words and word not in punctuation\n",
    "]\n",
    "\n",
    "# Create a PorterStemmer object for stemming.\n",
    "stemmer = PorterStemmer()\n",
    "\n",
    "# Apply stemming to each clean token. Stemming reduces words to their root forms, which may not always be valid words.\n",
    "stemmed_tokens = [stemmer.stem(word) for word in clean_tokens]\n",
    "\n",
    "# Create a WordNetLemmatizer object for lemmatization.\n",
    "lemmatizer = WordNetLemmatizer()\n",
    "\n",
    "# Apply lemmatization to each clean token. Lemmatization returns valid dictionary words.\n",
    "lemmatized_tokens = [lemmatizer.lemmatize(word) for word in clean_tokens]\n",
    "\n",
    "print(f\"List of clean tokens (removed stop_words): {clean_tokens}\")\n",
    "print(f\"list of stemmed tokens: {stemmed_tokens}\")\n",
    "print(f\"list of lemmatized tokens: {lemmatized_tokens}\")"
   ]
  },
  {
   "cell_type": "markdown",
   "id": "824e0946",
   "metadata": {},
   "source": [
    "### The Bag-of-Words (BoW) Model\n",
    "\n",
    "Machine learning algorithms require numerical input. The Bag-of-Words model is one of the simplest and most widely used methods to convert unstructured text into a numerical format that these algorithms can understand. The process involves two main steps:\n",
    "\n",
    "1.  **Build a Vocabulary**: First, the entire collection of documents (the \"corpus\") is scanned to create a comprehensive list of all unique words that appear. This list forms the \"vocabulary,\" and each unique word becomes a feature.\n",
    "2.  **Count Frequencies**: For each individual document, a numerical vector is created. The length of this vector is equal to the size of the vocabulary. Each element in the vector corresponds to a word in the vocabulary, and its value is the count of how many times that word appears in the document.\n",
    "\n",
    "This model is called \"Bag-of-Words\" because the process discards all information about grammar, sentence structure, and word order, effectively treating each document as an unordered \"bag\" of words.\n",
    "\n",
    "| Sentence | I | love | NLP | Machine | Learning |\n",
    "| :--- | :-: | :-: | :-: | :-: | :-: |\n",
    "| \"I love NLP\" | 1 | 1 | 1 | 0 | 0 |\n",
    "| \"I love machine learning\" | 1 | 1 | 0 | 1 | 1 |\n",
    "\n",
    "\n",
    "### Implementing BoW with `scikit-learn`\n",
    "\n",
    "The `scikit-learn` library provides an efficient and easy-to-use implementation of the Bag-of-Words model through its `CountVectorizer` class.\n",
    "\n",
    "#### 1 Preprocessing the Text\n",
    "\n",
    "Before vectorizing, it is crucial to preprocess the text to ensure that different forms of the same word are treated as a single token. This typically includes lowercasing, removing punctuation, and potentially removing stop words or applying stemming/lemmatization.\n",
    "\n",
    "```python\n",
    "import pandas as pd\n",
    "import numpy as np\n",
    "import string\n",
    "from nltk.tokenize import word_tokenize\n",
    "from sklearn.feature_extraction.text import CountVectorizer\n",
    "\n",
    "# Sample documents\n",
    "documents = [\n",
    "    \"NLP is a fascinating field of study.\",\n",
    "    \"The study of NLP combines computer science and linguistics.\",\n",
    "    \"I find computer science fascinating.\"\n",
    "]\n",
    "\n",
    "# A simple preprocessing function\n",
    "def preprocess(text):\n",
    "    text = text.lower() # Lowercase\n",
    "    tokens = word_tokenize(text) # Tokenize\n",
    "    # Remove punctuation\n",
    "    tokens = [word for word in tokens if word not in string.punctuation]\n",
    "    # Join back into a string for the vectorizer\n",
    "    return \" \".join(tokens)\n",
    "\n",
    "cleaned_documents = [preprocess(doc) for doc in documents]\n",
    "print(cleaned_documents)\n",
    "```\n",
    "\n",
    "#### 2 Fitting and Transforming\n",
    "\n",
    "The `CountVectorizer` first learns the vocabulary from the corpus (`.fit()`) and then transforms the documents into a word-count matrix (`.transform()`).\n",
    "\n",
    "```python\n",
    "# Instantiate the vectorizer\n",
    "vectorizer = CountVectorizer()\n",
    "\n",
    "# Fit the vectorizer to the cleaned documents to build the vocabulary\n",
    "vectorizer.fit(cleaned_documents)\n",
    "\n",
    "# Inspect the learned vocabulary\n",
    "print(vectorizer.get_feature_names_out())\n",
    "\n",
    "# Transform the documents into a Bag-of-Words matrix\n",
    "bow_matrix = vectorizer.transform(cleaned_documents)\n",
    "\n",
    "# The fit_transform() method is a convenient shortcut for both steps\n",
    "# bow_matrix = vectorizer.fit_transform(cleaned_documents)\n",
    "```\n",
    "\n",
    "### Understanding the Output: Sparse Matrices\n",
    "\n",
    "The output of `CountVectorizer` is a **SciPy sparse matrix**, not a standard NumPy array.\n",
    "\n",
    "  * **Why?** For any reasonably large corpus, the vocabulary can contain tens of thousands of unique words. However, any single document will only contain a small fraction of these words. This means the resulting BoW matrix will be overwhelmingly filled with zeros. A sparse matrix is a highly memory-efficient data structure that only stores the non-zero elements and their locations, which can save a massive amount of memory and speed up computations.\n",
    "\n",
    "To inspect the matrix for small examples, you can convert it to a dense array using `.toarray()`. **This should not be done on large datasets**, as it can easily exhaust your computer's memory.\n",
    "\n",
    "```python\n",
    "# Print the sparse matrix representation (row, column) -> count\n",
    "print(bow_matrix)\n",
    "\n",
    "# Convert to a dense array for inspection\n",
    "print(bow_matrix.toarray())\n",
    "```\n",
    "\n",
    "### Analyzing the BoW Representation\n",
    "\n",
    "Once you have the BoW matrix, you can perform various analyses, such as finding the most frequent words across the entire corpus.\n",
    "\n",
    "```python\n",
    "# Get the total count for each word across all documents\n",
    "# axis=0 sums the counts down the columns\n",
    "word_counts = np.sum(bow_matrix.toarray(), axis=0)\n",
    "\n",
    "# Create a DataFrame for easy viewing\n",
    "word_freq_df = pd.DataFrame({\n",
    "    'word': vectorizer.get_feature_names_out(),\n",
    "    'frequency': word_counts\n",
    "}).sort_values('frequency', ascending=False)\n",
    "\n",
    "print(word_freq_df)\n",
    "```\n",
    "\n",
    "This numerical representation is the foundation for applying many machine learning models to text data."
   ]
  },
  {
   "cell_type": "code",
   "execution_count": 11,
   "id": "af2570bb",
   "metadata": {},
   "outputs": [],
   "source": [
    "from nltk.tokenize import word_tokenize\n",
    "from string import punctuation\n",
    "\n",
    "\n",
    "def preprocess(text):\n",
    "    \"\"\"\n",
    "    Preprocesses input text by lowercasing, tokenizing, and removing punctuation.\n",
    "\n",
    "    Args:\n",
    "        text (str): The raw input text to preprocess.\n",
    "\n",
    "    Returns:\n",
    "        str: A string of tokens separated by spaces, with all punctuation removed and all text lowercased.\n",
    "\n",
    "    Example:\n",
    "        >>> preprocess(\"Hello, World!\")\n",
    "        'hello world'\n",
    "    \"\"\"\n",
    "    text = text.lower()\n",
    "    tokens = word_tokenize(text)\n",
    "    tokens = [word for word in tokens if word not in punctuation]\n",
    "    return \" \".join(tokens)"
   ]
  },
  {
   "cell_type": "code",
   "execution_count": 12,
   "id": "34b676dd",
   "metadata": {},
   "outputs": [
    {
     "name": "stdout",
     "output_type": "stream",
     "text": [
      "['amazing' 'boring' 'hated' 'it' 'loved' 'movie' 'okay' 'the' 'was']\n"
     ]
    }
   ],
   "source": [
    "from sklearn.feature_extraction.text import CountVectorizer\n",
    "\n",
    "vectorizer = CountVectorizer()\n",
    "\n",
    "# Define a list of raw movie reviews (strings). Each string is a separate document for NLP processing.\n",
    "reviews = [\n",
    "    \"I loved the movie. It was amazing!\",\n",
    "    \"The movie was okay...\",\n",
    "    \"I hated the movie. It was boring\",\n",
    "]\n",
    "\n",
    "# Apply the preprocess function to each review.\n",
    "cleaned_reviews = [preprocess(review) for review in reviews]\n",
    "\n",
    "vectorizer.fit(cleaned_reviews)\n",
    "\n",
    "print(vectorizer.get_feature_names_out())"
   ]
  },
  {
   "cell_type": "code",
   "execution_count": 13,
   "id": "4b64b868",
   "metadata": {},
   "outputs": [
    {
     "name": "stdout",
     "output_type": "stream",
     "text": [
      "[[1 0 0 1 1 1 0 1 1]\n",
      " [0 0 0 0 0 1 1 1 1]\n",
      " [0 1 1 1 0 1 0 1 1]]\n"
     ]
    }
   ],
   "source": [
    "X = vectorizer.fit_transform(cleaned_reviews)\n",
    "print(X.toarray())"
   ]
  },
  {
   "cell_type": "code",
   "execution_count": 14,
   "id": "3d37ba6c",
   "metadata": {},
   "outputs": [
    {
     "data": {
      "image/png": "[encoded data removed]",
      "text/plain": [
       "<Figure size 900x600 with 1 Axes>"
      ]
     },
     "metadata": {},
     "output_type": "display_data"
    }
   ],
   "source": [
    "import numpy as np\n",
    "import matplotlib.pyplot as plt\n",
    "import seaborn as sns\n",
    "\n",
    "# Sum the word counts across all documents (axis=0 sums columns).\n",
    "# X is a sparse matrix from CountVectorizer; .toarray() converts it to a dense numpy array.\n",
    "word_counts = np.sum(X.toarray(), axis=0)\n",
    "\n",
    "# Get the vocabulary (feature names) learned by the vectorizer.\n",
    "words = vectorizer.get_feature_names_out()\n",
    "\n",
    "fig, ax = plt.subplots(figsize=(9, 6))\n",
    "\n",
    "# x=words (feature names), y=word_counts (total counts for each word).\n",
    "sns.barplot(x=words, y=word_counts, palette=\"viridis\", hue=words, ax=ax)\n",
    "\n",
    "sns.despine()\n",
    "\n",
    "# Set axis labels and plot title for clarity.\n",
    "ax.set(\n",
    "    xlabel=\"Word\",\n",
    "    ylabel=\"Frequency\",\n",
    "    title=\"Word Frequency in Movie Reviews\",\n",
    ")\n",
    "\n",
    "ax.grid(True, alpha=0.6, linewidth=0.6, color=\"grey\")\n",
    "\n",
    "plt.tight_layout()\n",
    "\n",
    "plt.show()"
   ]
  },
  {
   "cell_type": "code",
   "execution_count": 15,
   "id": "dffe2844",
   "metadata": {},
   "outputs": [
    {
     "name": "stdout",
     "output_type": "stream",
     "text": [
      "['after' 'best' 'broke' 'but' 'charm' 'fantastic' 'fine' 'hated' 'is' 'it'\n",
      " 'like' 'not' 'okay' 'one' 'overall' 'product' 'the' 'use' 'was' 'works']\n"
     ]
    }
   ],
   "source": [
    "from sklearn.feature_extraction.text import CountVectorizer\n",
    "\n",
    "# Define a list of product review strings. Each string is a separate document for NLP processing.\n",
    "reviews = [\n",
    "    \"The product is fantastic! It works like a charm.\",\n",
    "    \"I hated the product. It broke after one use.\",\n",
    "    \"Product was okay, not the best, but fine overall.\",\n",
    "]\n",
    "\n",
    "# Preprocess each review using the preprocess() function.\n",
    "cleaned_reviews = [preprocess(review) for review in reviews]\n",
    "\n",
    "# Instantiate the CountVectorizer object, which will build the vocabulary and count word occurrences.\n",
    "vectorizer = CountVectorizer()\n",
    "\n",
    "# Fit the vectorizer on the preprocessed reviews to learn the vocabulary from the dataset.\n",
    "vectorizer.fit(cleaned_reviews)\n",
    "\n",
    "# Print the resulting vocabulary (feature names) learned by the vectorizer.\n",
    "print(vectorizer.get_feature_names_out())"
   ]
  },
  {
   "cell_type": "code",
   "execution_count": 16,
   "id": "ed290e47",
   "metadata": {},
   "outputs": [
    {
     "name": "stdout",
     "output_type": "stream",
     "text": [
      "[[0 0 0 0 1 1 0 0 1 1 1 0 0 0 0 1 1 0 0 1]\n",
      " [1 0 1 0 0 0 0 1 0 1 0 0 0 1 0 1 1 1 0 0]\n",
      " [0 1 0 1 0 0 1 0 0 0 0 1 1 0 1 1 1 0 1 0]]\n"
     ]
    }
   ],
   "source": [
    "# Transform the cleaned_reviews into a Bag-of-Words (BoW) matrix.\n",
    "X = vectorizer.transform(cleaned_reviews)\n",
    "\n",
    "# Each row represents a document, and each column represents a word from the vocabulary.\n",
    "# The values are the counts of each word in each document.\n",
    "print(X.toarray())"
   ]
  },
  {
   "cell_type": "code",
   "execution_count": 17,
   "id": "d44a0ce1",
   "metadata": {},
   "outputs": [],
   "source": [
    "def get_top_ten(words, counts):\n",
    "    \"\"\"\n",
    "    Returns the top 10 most frequent words and their counts.\n",
    "\n",
    "    Args:\n",
    "        words (array-like): List or array of words (feature names).\n",
    "        counts (array-like): List or array of word counts, same order as `words`.\n",
    "\n",
    "    Returns:\n",
    "        tuple: Two lists:\n",
    "            - top_words (list): The 10 most frequent words, sorted by frequency descending.\n",
    "            - top_counts (list): The corresponding counts for the top words.\n",
    "\n",
    "    Example:\n",
    "        >>> words = ['apple', 'banana', 'orange']\n",
    "        >>> counts = [5, 2, 8]\n",
    "        >>> get_top_ten(words, counts)\n",
    "        (['orange', 'apple', 'banana'], [8, 5, 2])\n",
    "    \"\"\"\n",
    "    import numpy as np\n",
    "\n",
    "    words = np.array(object=words)\n",
    "    counts = np.array(object=counts)\n",
    "    top_indices = np.argsort(a=counts)[::-1][:10]\n",
    "    top_words = words[top_indices].tolist()\n",
    "    top_counts = counts[top_indices].tolist()\n",
    "    return top_words, top_counts"
   ]
  },
  {
   "cell_type": "code",
   "execution_count": 18,
   "id": "ed7071b5",
   "metadata": {},
   "outputs": [
    {
     "name": "stdout",
     "output_type": "stream",
     "text": [
      "['the', 'product', 'it', 'works', 'use', 'was', 'one', 'overall', 'okay', 'not'] [3, 3, 2, 1, 1, 1, 1, 1, 1, 1]\n"
     ]
    }
   ],
   "source": [
    "# X is the Bag-of-Words matrix; axis=0 sums the counts for each word (column) across all documents (rows).\n",
    "word_counts = np.sum(X.toarray(), axis=0)\n",
    "\n",
    "# Get the vocabulary (feature names) learned by the vectorizer.\n",
    "words = vectorizer.get_feature_names_out()\n",
    "\n",
    "# Use the helper function get_top_ten() to find the 10 most frequent words and their counts.\n",
    "top_words_with_stopwords, top_counts_with_stopwords = get_top_ten(words, word_counts)\n",
    "\n",
    "print(top_words_with_stopwords, top_counts_with_stopwords)"
   ]
  },
  {
   "cell_type": "markdown",
   "id": "370edcdf",
   "metadata": {},
   "source": [
    "## Beyond Bag-of-Words: The Need for Importance Weighting\n",
    "\n",
    "The primary limitation of the **Bag-of-Words (BoW)** model is that it treats all words as equally important. A common word like \"the\", which appears frequently in many documents, will receive a high count, while a rare but highly descriptive word may receive a low count. This often fails to capture the true semantic importance of terms.\n",
    "\n",
    "**TF-IDF** addresses this by scaling down the weight of frequently occurring words (like stop words) and scaling up the weight of rarer, more informative words.\n",
    "\n",
    "\n",
    "### The Components of TF-IDF\n",
    "\n",
    "The TF-IDF score for a word in a document is the product of two distinct metrics: Term Frequency and Inverse Document Frequency.\n",
    "\n",
    "#### Term Frequency (TF)\n",
    "\n",
    "**Term Frequency** measures how often a term (`t`) appears in a given document (`d`). A common way to calculate it is by normalizing the raw count by the total number of terms in the document.\n",
    "\n",
    "$$\\text{TF}(t, d) = \\frac{\\text{Number of times term } t \\text{ appears in document } d}{\\text{Total number of terms in document } d}$$\n",
    "\n",
    "The intuition is that words that appear more frequently within a document are more important to that specific document's content.\n",
    "\n",
    "#### Inverse Document Frequency (IDF)\n",
    "\n",
    "**Inverse Document Frequency** measures how rare a term (`t`) is across the entire corpus of documents (`D`). It is the logarithm of the total number of documents divided by the number of documents that contain the term.\n",
    "\n",
    "$$\\text{IDF}(t, D) = \\log\\left(\\frac{\\text{Total number of documents } |D|}{\\text{Number of documents containing term } t}\\right)$$\n",
    "\n",
    "The intuition here is that:\n",
    "\n",
    "  * Words appearing in **many** documents (e.g., \"the\", \"is\") will have an IDF score close to zero, minimizing their importance.\n",
    "  * Words appearing in **few** documents are considered more unique and informative, resulting in a high IDF score.\n",
    "\n",
    "#### Putting it Together\n",
    "\n",
    "The final TF-IDF score is the product of these two metrics.\n",
    "\n",
    "$$\\text{TF-IDF}(t, d, D) = \\text{TF}(t, d) \\times \\text{IDF}(t, D)$$\n",
    "\n",
    "This score is high when a word is frequent in a specific document but rare across the corpus. It is low when a word is either rare in the document or common across the corpus.\n",
    "\n",
    "\n",
    "### Implementing TF-IDF with `scikit-learn`\n",
    "\n",
    "The `scikit-learn` library provides an efficient implementation through its `TfidfVectorizer` class. This object combines all the steps of tokenizing, counting, and applying the TF-IDF transformation into a single, convenient process.\n",
    "\n",
    "```python\n",
    "import pandas as pd\n",
    "from sklearn.feature_extraction.text import TfidfVectorizer\n",
    "# Assume a simple 'preprocess' function from previous topics is available\n",
    "from nltk.tokenize import word_tokenize\n",
    "import string\n",
    "\n",
    "def preprocess(text):\n",
    "    text = text.lower()\n",
    "    tokens = word_tokenize(text)\n",
    "    tokens = [word for word in tokens if word not in string.punctuation]\n",
    "    return \" \".join(tokens)\n",
    "\n",
    "# Sample documents (reviews)\n",
    "reviews = [\n",
    "    \"I loved the movie. It was amazing!\",\n",
    "    \"The movie was okay, just okay.\",\n",
    "    \"I hated the movie. It was boring.\"\n",
    "]\n",
    "\n",
    "# Preprocess the text\n",
    "cleaned_reviews = [preprocess(review) for review in reviews]\n",
    "\n",
    "# Instantiate the TfidfVectorizer\n",
    "vectorizer = TfidfVectorizer()\n",
    "\n",
    "# Fit the vectorizer and transform the documents into a TF-IDF matrix\n",
    "tfidf_matrix = vectorizer.fit_transform(cleaned_reviews)\n",
    "\n",
    "# The output is a sparse matrix\n",
    "print(tfidf_matrix)\n",
    "```\n",
    "\n",
    "\n",
    "### Visualizing and Interpreting the TF-IDF Matrix\n",
    "\n",
    "To better understand the results, we can convert the sparse matrix to a dense array and visualize it as a heatmap.\n",
    "\n",
    "```python\n",
    "import seaborn as sns\n",
    "import matplotlib.pyplot as plt\n",
    "\n",
    "# Get the feature names (vocabulary) from the vectorizer\n",
    "feature_names = vectorizer.get_feature_names_out()\n",
    "\n",
    "# Create a DataFrame for easy viewing and plotting\n",
    "df_tfidf = pd.DataFrame(\n",
    "    tfidf_matrix.toarray(),\n",
    "    columns=feature_names,\n",
    "    index=['Review 1', 'Review 2', 'Review 3']\n",
    ")\n",
    "\n",
    "# Visualize the TF-IDF scores as a heatmap\n",
    "# Create a matplotlib figure and axis using the object-oriented interface\n",
    "fig, ax = plt.subplots(figsize=(12, 6))\n",
    "\n",
    "# Draw the heatmap on the specified axis\n",
    "sns.heatmap(df_tfidf, annot=True, cmap=\"viridis\", ax=ax)\n",
    "\n",
    "# Set the title and axis labels using the axis object\n",
    "ax.set_title(\"TF-IDF Scores Across Reviews\")\n",
    "ax.set_xlabel(\"Terms\")\n",
    "ax.set_ylabel(\"Documents\")\n",
    "\n",
    "plt.show()\n",
    "```\n",
    "\n",
    "**Interpretation**:\n",
    "\n",
    "  * Words like \"amazing\", \"boring\", and \"hated\" have high TF-IDF scores because they are frequent in their respective reviews but do not appear in the others.\n",
    "  * The word \"okay\" has the highest score in Review 2, as it appears twice and is unique to that document.\n",
    "  * Words that appear in all documents, like \"movie\" and \"was\", have their scores down-weighted by the IDF component, reflecting their lower informational value compared to the more descriptive, unique words."
   ]
  },
  {
   "cell_type": "code",
   "execution_count": 19,
   "id": "a4b864c7",
   "metadata": {},
   "outputs": [
    {
     "name": "stdout",
     "output_type": "stream",
     "text": [
      "['amazing' 'boring' 'hated' 'it' 'loved' 'movie' 'okay' 'the' 'was']\n"
     ]
    }
   ],
   "source": [
    "from sklearn.feature_extraction.text import TfidfVectorizer\n",
    "\n",
    "# Instantiate the TfidfVectorizer object, which will convert text to TF-IDF features\n",
    "tfidf = TfidfVectorizer()\n",
    "\n",
    "# Define a list of raw movie reviews (strings). Each string is a separate document for NLP processing.\n",
    "reviews = [\n",
    "    \"I loved the movie. It was amazing!\",\n",
    "    \"The movie was okay...\",\n",
    "    \"I hated the movie. It was boring\",\n",
    "]\n",
    "\n",
    "# Preprocess each review using the preprocess() function to lowercase and remove punctuation\n",
    "cleaned_reviews = [preprocess(review) for review in reviews]\n",
    "\n",
    "# Fit the vectorizer on the preprocessed reviews and transform them into a TF-IDF matrix\n",
    "tfidf_matrix = tfidf.fit_transform(cleaned_reviews)\n",
    "\n",
    "print(tfidf.get_feature_names_out())"
   ]
  },
  {
   "cell_type": "code",
   "execution_count": 20,
   "id": "133c0455",
   "metadata": {},
   "outputs": [
    {
     "data": {
      "image/png": "[encoded data removed]",
      "text/plain": [
       "<Figure size 900x600 with 2 Axes>"
      ]
     },
     "metadata": {},
     "output_type": "display_data"
    }
   ],
   "source": [
    "import matplotlib.pyplot as plt\n",
    "import seaborn as sns\n",
    "import pandas as pd\n",
    "\n",
    "df_tfidf = pd.DataFrame(\n",
    "    data=tfidf_matrix.toarray(), columns=tfidf.get_feature_names_out()\n",
    ")\n",
    "\n",
    "# Create a matplotlib figure and axis using the object-oriented interface\n",
    "fig, ax = plt.subplots(figsize=(9, 6))\n",
    "\n",
    "# Draw the heatmap on the specified axis\n",
    "sns.heatmap(df_tfidf, annot=True, cmap=\"RdGy\", ax=ax)\n",
    "\n",
    "ax.set_title(\"TF-IDF Scores Across Reviews\")\n",
    "ax.set_xlabel(\"Terms\")\n",
    "ax.set_ylabel(\"Documents\")\n",
    "\n",
    "plt.tight_layout()\n",
    "plt.show()"
   ]
  },
  {
   "cell_type": "code",
   "execution_count": 23,
   "id": "bc76d376",
   "metadata": {},
   "outputs": [
    {
     "name": "stdout",
     "output_type": "stream",
     "text": [
      "<class 'spacy.lang.en.English'>\n"
     ]
    }
   ],
   "source": [
    "import spacy\n",
    "\n",
    "# Use the package name \"en_core_web_lg\" directly\n",
    "nlp = spacy.load(\"en_core_web_lg\")\n",
    "print(type(nlp))"
   ]
  },
  {
   "cell_type": "code",
   "execution_count": 24,
   "id": "9fde7ace",
   "metadata": {},
   "outputs": [
    {
     "name": "stdout",
     "output_type": "stream",
     "text": [
      "[ 0.2071  -0.47656  0.15479 -0.38965  0.48447]\n"
     ]
    }
   ],
   "source": [
    "token = nlp(\"movie\")[0]  # Get the token \"movie\"\n",
    "print(token.vector[:5])  # Sample: [0.30824, 0.17223, -0.23339, ...]"
   ]
  },
  {
   "cell_type": "markdown",
   "id": "9456afda",
   "metadata": {},
   "source": [
    "_Using this markdown cell due to the unavailability of the Gensim package in my VS Code environment._\n",
    "\n",
    "```python\n",
    "import gensim.downloader as api\n",
    "model = api.load(\"glove-wiki-giga-50\")\n",
    "print(type(model))\n",
    "print(model[\"movie\"])\n",
    "```\n",
    "Output cell:\n",
    "```plaintext\n",
    "<ctass 'gensim.modeLs.keyedvectors.KeyedVectors'>`\n",
    "[0.30824   0.17223    -0. 23339    0.023105   0.28522   0.23076   -0.41048...]\n",
    "```"
   ]
  },
  {
   "cell_type": "code",
   "execution_count": null,
   "id": "b5feafc9",
   "metadata": {},
   "outputs": [
    {
     "name": "stdout",
     "output_type": "stream",
     "text": [
      "Model 'en_core_web_md' loaded successfully.\n"
     ]
    }
   ],
   "source": [
    "import spacy\n",
    "\n",
    "# We use a try-except block to provide a helpful message if the model isn't installed.\n",
    "try:\n",
    "    # This command loads the 'en_core_web_lg' model into memory.\n",
    "    nlp_model = spacy.load(\"en_core_web_lg\")\n",
    "    print(\"Model 'en_core_web_lg' loaded successfully.\")\n",
    "except OSError:\n",
    "    print(\"Model 'en_core_web_lg' not found.\")\n",
    "    print(\"Please run: python -m spacy download en_core_web_lg\")"
   ]
  },
  {
   "cell_type": "markdown",
   "id": "44aff74a",
   "metadata": {},
   "source": [
    "### Word Embeddings in spaCy\n",
    "- Each word in the model's vocabulary is associated with a dense vector (embedding) that captures its semantic meaning.\n",
    "- These vectors are learned from large text corpora and allow you to compare words mathematically (e.g., for similarity)."
   ]
  },
  {
   "cell_type": "code",
   "execution_count": null,
   "id": "9949a3af",
   "metadata": {},
   "outputs": [
    {
     "name": "stdout",
     "output_type": "stream",
     "text": [
      "<class 'numpy.ndarray'>\n",
      "[ 0.2071   -0.47656   0.15479  -0.38965   0.48447   0.59815  -0.060361\n",
      " -0.66422   0.53934   1.8491  ]\n"
     ]
    }
   ],
   "source": [
    "import spacy\n",
    "import numpy as np\n",
    "\n",
    "# Load the spaCy English model with medium-sized word vectors.\n",
    "nlp = spacy.load(\"en_core_web_lg\")\n",
    "\n",
    "# To access the vector for a specific word, use nlp.vocab[\"word\"].vector\n",
    "# This returns a NumPy array of shape (300,) for \"en_core_web_lg\" (300 dimensions).\n",
    "movie_vec = nlp.vocab[\"movie\"].vector\n",
    "\n",
    "print(type(movie_vec))\n",
    "\n",
    "# Print the first 10 values of the embedding vector for \"movie\"\n",
    "print(movie_vec[:10])"
   ]
  },
  {
   "cell_type": "code",
   "execution_count": null,
   "id": "107a046c",
   "metadata": {},
   "outputs": [
    {
     "name": "stdout",
     "output_type": "stream",
     "text": [
      "0.7912190556526184\n"
     ]
    }
   ],
   "source": [
    "# When you call nlp(\"film\"), spaCy tokenizes the string and returns a Doc object.\n",
    "# Indexing with [0] gets the first (and only) token in this case.\n",
    "film_token = nlp(\"film\")[0]\n",
    "movie_token = nlp(\"movie\")[0]\n",
    "\n",
    "# The .similarity() method computes the cosine similarity between the two word vectors.\n",
    "# Cosine similarity measures the cosine of the angle between two vectors in the embedding space.\n",
    "similarity = film_token.similarity(movie_token)\n",
    "\n",
    "print(similarity)  # Typically, similar words will have a value close to 1."
   ]
  },
  {
   "cell_type": "markdown",
   "id": "9cb9c225",
   "metadata": {},
   "source": [
    "### Finding the Most Similar Words with spaCy’s Pre-Trained Vectors (en_core_web_lg)\n",
    "This snippet uses spaCy’s large English model, `en_core_web_lg`, which includes pre-trained 300-dimensional GloVe vectors learned from a large corpus. Each word in the vocabulary is represented as a dense numerical vector that encodes its semantic relationships to other words.\n",
    "\n",
    "### Normalising the query word\n",
    "We run our input word through the preprocess() function to lowercase it, tokenise it, and remove punctuation. This ensures our query matches the format used in the model’s vocabulary. Without this, \"Movie\" and \"movie\" could be treated as separate entries.\n",
    "\n",
    "### Retrieving the query vector\n",
    "The method `nlp.vocab.get_vector(query_word)` fetches the 300-dimensional embedding for the query from spaCy’s vocabulary. These vectors position words in a high-dimensional semantic space where similar meanings are located close together.\n",
    "\n",
    "### Finding nearest neighbours\n",
    "We call `nlp.vocab.vectors.most_similar()` to search the entire vocabulary for words whose vectors are most similar to the query vector. This uses cosine similarity — a measure of the angle between two vectors — to capture semantic closeness rather than just raw numeric distance.\n",
    "\n",
    "### Cleaning the results\n",
    "The raw results often contain duplicates caused by case variations or plural forms. We apply preprocess() again to each candidate to normalise them, then filter out:\n",
    "\n",
    " - The query word itself\n",
    "\n",
    " - Exact duplicates after normalisation\n",
    "\n",
    "### Selecting the top N results\n",
    "We start by retrieving a slightly larger pool (e.g., top 20) so that after filtering we still have enough candidates. We then keep the top 3 unique, preprocessed results, along with their similarity scores."
   ]
  },
  {
   "cell_type": "code",
   "execution_count": 46,
   "id": "f87ab95e",
   "metadata": {},
   "outputs": [
    {
     "name": "stdout",
     "output_type": "stream",
     "text": [
      "Top-3 neighbours of 'movie': [('movies', 0.8801000118255615), ('film', 0.7911999821662903), ('films', 0.7516000270843506)]\n"
     ]
    }
   ],
   "source": [
    "# Find the top-3 most similar words to \"movie\" using spaCy's word vectors\n",
    "\n",
    "# Step 1: Preprocess the query word to match the format used in your vocabulary (e.g., lowercase, no punctuation)\n",
    "query_word = preprocess(\"movie\")\n",
    "query_vec = nlp.vocab.get_vector(query_word)\n",
    "\n",
    "# Step 2: Find the 20 most similar words (by cosine similarity) to the query vector\n",
    "keys, rows, scores = nlp.vocab.vectors.most_similar(np.asarray([query_vec]), n=20)\n",
    "\n",
    "# Step 3: Build a list of (word, similarity score) tuples, skipping the query word itself\n",
    "nearest = [\n",
    "    (preprocess(nlp.vocab.strings[key]), float(score))\n",
    "    for key, score in zip(keys[0], scores[0])\n",
    "    if preprocess(nlp.vocab.strings[key]) != query_word\n",
    "]\n",
    "\n",
    "# Step 4: Deduplicate while keeping order, then select the top 3 unique words\n",
    "seen = set()\n",
    "nearest_clean = [\n",
    "    (word, score) for word, score in nearest if not (word in seen or seen.add(word))\n",
    "][:3]\n",
    "\n",
    "print(f\"Top-3 neighbours of 'movie': {nearest_clean}\")"
   ]
  },
  {
   "cell_type": "code",
   "execution_count": null,
   "id": "88d8984d",
   "metadata": {},
   "outputs": [],
   "source": [
    "from sklearn.decomposition import PCA\n",
    "\n",
    "# List of words to visualize in 2D space\n",
    "words = [\"film\", \"movie\", \"dog\", \"cat\", \"car\", \"bus\"]\n",
    "\n",
    "# Get the word vectors for each word using spaCy's vocabulary\n",
    "word_vectors = [nlp.vocab.get_vector(word) for word in words]\n",
    "\n",
    "# Reduce the dimensionality of the vectors from 300D to 2D using PCA\n",
    "pca = PCA(n_components=2)\n",
    "word_vectors_2d = pca.fit_transform(word_vectors)"
   ]
  },
  {
   "cell_type": "code",
   "execution_count": 54,
   "id": "d2e47956",
   "metadata": {},
   "outputs": [
    {
     "data": {
      "image/png": "[encoded data removed]",
      "text/plain": [
       "<Figure size 700x500 with 1 Axes>"
      ]
     },
     "metadata": {},
     "output_type": "display_data"
    }
   ],
   "source": [
    "fig, ax = plt.subplots(figsize=(7, 5))\n",
    "sns.scatterplot(x=word_vectors_2d[:, 0], y=word_vectors_2d[:, 1], ax=ax)\n",
    "\n",
    "for word, (x, y) in zip(words, word_vectors_2d):\n",
    "    offset = (6, 6)\n",
    "    if word in {\"cat\", \"dog\"}:\n",
    "        offset = (6, -10) if word == \"cat\" else (6, 10)\n",
    "    ax.annotate(\n",
    "        word,\n",
    "        (x, y),\n",
    "        xytext=offset,\n",
    "        textcoords=\"offset points\",\n",
    "        fontsize=12,\n",
    "        color=\"black\",\n",
    "    )\n",
    "\n",
    "ax.grid(True, alpha=0.6, linewidth=0.6, color=\"grey\")\n",
    "ax.set(\n",
    "    xlabel=\"PCA Component 1\",\n",
    "    ylabel=\"PCA Component 2\",\n",
    "    title=\"2D Projection of Word Embeddings\",\n",
    ")\n",
    "plt.tight_layout()\n",
    "plt.show()"
   ]
  },
  {
   "cell_type": "code",
   "execution_count": null,
   "id": "2f199458",
   "metadata": {},
   "outputs": [
    {
     "name": "stdout",
     "output_type": "stream",
     "text": [
      "0.7252610921859741\n"
     ]
    }
   ],
   "source": [
    "# Compute the similarity score between \"king\" and \"queen\" using spaCy's word vectors.\n",
    "king_token = nlp(\"king\")[0]\n",
    "queen_token = nlp(\"queen\")[0]\n",
    "\n",
    "# The .similarity() method computes the cosine similarity between the two word vectors.\n",
    "similarity = king_token.similarity(queen_token)\n",
    "\n",
    "print(similarity)  # Values close to 1 indicate high similarity."
   ]
  },
  {
   "cell_type": "code",
   "execution_count": 66,
   "id": "7e35117f",
   "metadata": {},
   "outputs": [
    {
     "data": {
      "text/plain": [
       "[('computers', 0.8579),\n",
       " ('laptop', 0.6772),\n",
       " ('software', 0.6707),\n",
       " ('desktop', 0.646),\n",
       " ('computing', 0.6225),\n",
       " ('puter', 0.6149),\n",
       " ('laptops', 0.6131),\n",
       " ('workstation', 0.599),\n",
       " ('hardware', 0.5861),\n",
       " ('systems', 0.5759)]"
      ]
     },
     "metadata": {},
     "output_type": "display_data"
    }
   ],
   "source": [
    "# Get the top 10 most similar words to \"computer\"\n",
    "word_vec = nlp.vocab.get_vector(\"computer\")\n",
    "\n",
    "# Ask for a slightly larger pool, then keep the first 10 unique lowercase items\n",
    "pool = 50\n",
    "keys, rows, scores = nlp.vocab.vectors.most_similar(np.asarray([word_vec]), n=pool)\n",
    "\n",
    "candidates = [\n",
    "    (nlp.vocab.strings[key], float(score)) for key, score in zip(keys[0], scores[0])\n",
    "]\n",
    "# Drop the query itself and collapse casing variants\n",
    "seen = set([\"computer\"])\n",
    "top10 = []\n",
    "for word, score in candidates:\n",
    "    w = word.lower()\n",
    "    if w not in seen:\n",
    "        top10.append((w, round(score, 4)))\n",
    "        seen.add(w)\n",
    "    if len(top10) == 10:\n",
    "        break\n",
    "\n",
    "display(top10)"
   ]
  },
  {
   "cell_type": "code",
   "execution_count": 67,
   "id": "9d88f6a2",
   "metadata": {},
   "outputs": [],
   "source": [
    "from sklearn.decomposition import PCA\n",
    "\n",
    "# Define a list of words from different semantic categories (animals, fruits, vehicles)\n",
    "words = [\"lion\", \"tiger\", \"leopard\", \"banana\", \"strawberry\", \"truck\", \"car\", \"bus\"]\n",
    "\n",
    "# Extract the 300-dimensional word embeddings for each word using spaCy's vocabulary\n",
    "word_vectors = [nlp.vocab.get_vector(word) for word in words]\n",
    "\n",
    "# Initialize PCA to reduce the dimensionality from 300D to 2D for visualization\n",
    "pca = PCA(n_components=2)\n",
    "\n",
    "# Fit PCA on the word vectors and transform them to 2D\n",
    "word_vectors_2d = pca.fit_transform(word_vectors)"
   ]
  },
  {
   "cell_type": "code",
   "execution_count": 68,
   "id": "390f90fc",
   "metadata": {},
   "outputs": [
    {
     "data": {
      "image/png": "[encoded data removed]",
      "text/plain": [
       "<Figure size 800x600 with 1 Axes>"
      ]
     },
     "metadata": {},
     "output_type": "display_data"
    }
   ],
   "source": [
    "fig, ax = plt.subplots(figsize=(8, 6))\n",
    "\n",
    "# Plot the 2D word vectors as points using seaborn's scatterplot\n",
    "sns.scatterplot(x=word_vectors_2d[:, 0], y=word_vectors_2d[:, 1])\n",
    "\n",
    "# Annotate each point with its corresponding word label\n",
    "for word, (x, y) in zip(words, word_vectors_2d):\n",
    "    # 'offset' should be defined before this loop, e.g., offset = (6, 6)\n",
    "    ax.annotate(\n",
    "        text=word,  # The word to display\n",
    "        xy=(x, y),  # The (x, y) location of the point\n",
    "        xytext=offset,  # Offset the label from the point for readability\n",
    "        textcoords=\"offset points\",\n",
    "        fontsize=12,\n",
    "        color=\"black\",\n",
    "    )\n",
    "\n",
    "ax.grid(True, alpha=0.6, linewidth=0.6, color=\"grey\")\n",
    "\n",
    "ax.set(\n",
    "    xlabel=\"PCA Component 1\",\n",
    "    ylabel=\"PCA Component 2\",\n",
    "    title=\"2D Projection of Word Embeddings\",\n",
    ")\n",
    "\n",
    "plt.tight_layout()\n",
    "plt.show()"
   ]
  },
  {
   "cell_type": "code",
   "execution_count": null,
   "id": "1aad05b6",
   "metadata": {},
   "outputs": [],
   "source": []
  }
 ],
 "metadata": {
  "kernelspec": {
   "display_name": "datacamp",
   "language": "python",
   "name": "python3"
  },
  "language_info": {
   "codemirror_mode": {
    "name": "ipython",
    "version": 3
   },
   "file_extension": ".py",
   "mimetype": "text/x-python",
   "name": "python",
   "nbconvert_exporter": "python",
   "pygments_lexer": "ipython3",
   "version": "3.12.7"
  }
 },
 "nbformat": 4,
 "nbformat_minor": 5
}
