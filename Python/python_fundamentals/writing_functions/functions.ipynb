{
 "cells": [
  {
   "cell_type": "markdown",
   "id": "54ba7a5c",
   "metadata": {},
   "source": [
    "## Crafting a docstring\n",
    "You've decided to write the world's greatest open-source natural language processing Python package. It will revolutionize working with free-form text, the way `numpy` did for arrays, `pandas` did for tabular data, and `scikit-learn` did for machine learning.\n",
    "\n",
    "The first function you write is `count_letter()`. It takes a string and a single letter and returns the number of times the letter appears in the string. You want the users of your open-source package to be able to understand how this function works easily, so you will need to give it a docstring. Build up a Google Style docstring for this function by following these steps."
   ]
  },
  {
   "cell_type": "code",
   "execution_count": 1,
   "id": "149c6c67",
   "metadata": {},
   "outputs": [],
   "source": [
    "# Now add the arguments section, using the Google style for docstrings. Use str to indicate a string.\n",
    "def count_letter(content: str, letter: str):\n",
    "    \"\"\"Count the number of times `letter` appears in `content`.\n",
    "    # Add a Google style arguments section\n",
    "\n",
    "    Args:\n",
    "        content (str): The string to search.\n",
    "        letter (str): The letter to search for.\n",
    "\n",
    "    # Add a returns section\n",
    "    Returns:\n",
    "        int: The value of the number of times `letter` appears in content\n",
    "\n",
    "    # Add a section detailing what errors might be raised\n",
    "    Raises:\n",
    "        ValueError: If `letter` is not a one-character string.\n",
    "    \"\"\"\n",
    "    if (not isinstance(letter, str)) or len(letter) != 1:\n",
    "        raise ValueError(\"`letter` must be a single character string.\")\n",
    "    return len([char for char in content if char == letter])"
   ]
  },
  {
   "cell_type": "code",
   "execution_count": 2,
   "id": "8b9b0440",
   "metadata": {},
   "outputs": [
    {
     "name": "stdout",
     "output_type": "stream",
     "text": [
      "1\n"
     ]
    }
   ],
   "source": [
    "counts = count_letter(\"jhonatan is nice\", \"j\")\n",
    "print(counts)"
   ]
  },
  {
   "cell_type": "markdown",
   "id": "9c12a9f8",
   "metadata": {},
   "source": [
    "### Retrieving docstrings\n",
    "You and a group of friends are working on building an amazing new Python IDE (integrated development environment -- like PyCharm, Spyder, Eclipse, Visual Studio, etc.). The team wants to add a feature that displays a tooltip with a function's docstring whenever the user starts typing the function name. That way, the user doesn't have to go elsewhere to look up the documentation for the function they are trying to use. You've been asked to complete the `build_tooltip()` function that retrieves a docstring from an arbitrary function.\n",
    "\n",
    "You will be reusing the `count_letter()` function that you developed in the last exercise to show that we can properly extract its docstring."
   ]
  },
  {
   "cell_type": "code",
   "execution_count": 3,
   "id": "97c6381c",
   "metadata": {},
   "outputs": [
    {
     "name": "stdout",
     "output_type": "stream",
     "text": [
      "############################\n",
      "Count the number of times `letter` appears in `content`.\n",
      "    # Add a Google style arguments section\n",
      "\n",
      "    Args:\n",
      "        content (str): The string to search.\n",
      "        letter (str): The letter to search for.\n",
      "\n",
      "    # Add a returns section\n",
      "    Returns:\n",
      "        int: The value of the number of times `letter` appears in content\n",
      "\n",
      "    # Add a section detailing what errors might be raised\n",
      "    Raises:\n",
      "        ValueError: If `letter` is not a one-character string.\n",
      "    \n",
      "############################\n"
     ]
    }
   ],
   "source": [
    "# Get the \"count_letter\" docstring by using an attribute of the function\n",
    "docstring = count_letter.__doc__\n",
    "\n",
    "border = \"#\" * 28\n",
    "print(\"{}\\n{}\\n{}\".format(border, docstring, border))"
   ]
  },
  {
   "cell_type": "code",
   "execution_count": 4,
   "id": "831fc938",
   "metadata": {},
   "outputs": [
    {
     "name": "stdout",
     "output_type": "stream",
     "text": [
      "############################\n",
      "Count the number of times `letter` appears in `content`.\n",
      "# Add a Google style arguments section\n",
      "\n",
      "Args:\n",
      "    content (str): The string to search.\n",
      "    letter (str): The letter to search for.\n",
      "\n",
      "# Add a returns section\n",
      "Returns:\n",
      "    int: The value of the number of times `letter` appears in content\n",
      "\n",
      "# Add a section detailing what errors might be raised\n",
      "Raises:\n",
      "    ValueError: If `letter` is not a one-character string.\n",
      "############################\n"
     ]
    }
   ],
   "source": [
    "import inspect\n",
    "\n",
    "# Inspect the count_letter() function to get its docstring\n",
    "docstring = inspect.getdoc(count_letter)\n",
    "\n",
    "border = \"#\" * 28\n",
    "print(\"{}\\n{}\\n{}\".format(border, docstring, border))"
   ]
  },
  {
   "cell_type": "code",
   "execution_count": 5,
   "id": "c81e0d48",
   "metadata": {},
   "outputs": [
    {
     "name": "stdout",
     "output_type": "stream",
     "text": [
      "############################\n",
      "Count the number of times `letter` appears in `content`.\n",
      "# Add a Google style arguments section\n",
      "\n",
      "Args:\n",
      "    content (str): The string to search.\n",
      "    letter (str): The letter to search for.\n",
      "\n",
      "# Add a returns section\n",
      "Returns:\n",
      "    int: The value of the number of times `letter` appears in content\n",
      "\n",
      "# Add a section detailing what errors might be raised\n",
      "Raises:\n",
      "    ValueError: If `letter` is not a one-character string.\n",
      "############################\n",
      "############################\n",
      "range(stop) -> range object\n",
      "range(start, stop[, step]) -> range object\n",
      "\n",
      "Return an object that produces a sequence of integers from start (inclusive)\n",
      "to stop (exclusive) by step.  range(i, j) produces i, i+1, i+2, ..., j-1.\n",
      "start defaults to 0, and stop is omitted!  range(4) produces 0, 1, 2, 3.\n",
      "These are exactly the valid indices for a list of 4 elements.\n",
      "When step is given, it specifies the increment (or decrement).\n",
      "############################\n",
      "############################\n",
      "Prints the values to a stream, or to sys.stdout by default.\n",
      "\n",
      "sep\n",
      "  string inserted between values, default a space.\n",
      "end\n",
      "  string appended after the last value, default a newline.\n",
      "file\n",
      "  a file-like object (stream); defaults to the current sys.stdout.\n",
      "flush\n",
      "  whether to forcibly flush the stream.\n",
      "############################\n"
     ]
    }
   ],
   "source": [
    "def build_tooltip(function):\n",
    "    \"\"\"Create a tooltip for any function that shows the\n",
    "    function's docstring.\n",
    "\n",
    "    Args:\n",
    "      function (callable): The function we want a tooltip for.\n",
    "\n",
    "    Returns:\n",
    "      str\n",
    "    \"\"\"\n",
    "    # Get the docstring for the \"function\" argument by using inspect\n",
    "    docstring = inspect.getdoc(function)\n",
    "    border = \"#\" * 28\n",
    "    return \"{}\\n{}\\n{}\".format(border, docstring, border)\n",
    "\n",
    "\n",
    "print(build_tooltip(count_letter))\n",
    "print(build_tooltip(range))\n",
    "print(build_tooltip(print))"
   ]
  },
  {
   "cell_type": "markdown",
   "id": "78cb0474",
   "metadata": {},
   "source": [
    "### Extract a function\n",
    "While developing a model to predict college graduations, you wrote the code below to get the z-scores of students' yearly GPAs (z-scores indicate standard deviation from the mean). Now you're ready to turn it into a production-quality system, so you need to do something about the repetition. Writing a function to calculate z-scores would improve it.\n",
    "```python\n",
    "# Standardize the GPAs for each year\n",
    "df['y1_z'] = (df.y1_gpa - df.y1_gpa.mean()) / df.y1_gpa.std()\n",
    "df['y2_z'] = (df.y2_gpa - df.y2_gpa.mean()) / df.y2_gpa.std()\n",
    "df['y3_z'] = (df.y3_gpa - df.y3_gpa.mean()) / df.y3_gpa.std()\n",
    "df['y4_z'] = (df.y4_gpa - df.y4_gpa.mean()) / df.y4_gpa.std()\n",
    "```\n",
    "Note: `df` is a pandas DataFrame where each row is a student with 4 columns of yearly student GPAs: `y1_gpa`, `y2_gpa`, `y3_gpa`, `y4_gpa`."
   ]
  },
  {
   "cell_type": "code",
   "execution_count": 6,
   "id": "4cd36ef9",
   "metadata": {},
   "outputs": [],
   "source": [
    "import pandas as pd\n",
    "\n",
    "gpa = pd.read_csv(\n",
    "    \"https://raw.githubusercontent.com/jhlopesalves/data-science-practice-notebook/refs/heads/main/Python/python_fundamentals/writing_functions/data/gpa.csv\",\n",
    "    usecols=lambda col: not col.startswith(\"Unnamed\"),\n",
    ")"
   ]
  },
  {
   "cell_type": "code",
   "execution_count": 7,
   "id": "9e652297",
   "metadata": {},
   "outputs": [],
   "source": [
    "def standardize(column):\n",
    "    \"\"\"Standardize the values in a column.\n",
    "\n",
    "    Args:\n",
    "      column (pandas Series): The data to standardize.\n",
    "\n",
    "    Returns:\n",
    "      pandas Series: the values as z-scores\n",
    "    \"\"\"\n",
    "    # Finish the function so that it returns the z-scores\n",
    "    z_score = (column - column.mean()) / column.std()\n",
    "    return z_score\n",
    "\n",
    "\n",
    "# Use the standardize() function to calculate the z-scores\n",
    "gpa[\"y1_z\"] = standardize(gpa[\"y1_gpa\"])\n",
    "gpa[\"y2_z\"] = standardize(gpa[\"y2_gpa\"])\n",
    "gpa[\"y3_z\"] = standardize(gpa[\"y3_gpa\"])\n",
    "gpa[\"y4_z\"] = standardize(gpa[\"y3_gpa\"])"
   ]
  },
  {
   "cell_type": "code",
   "execution_count": 8,
   "id": "127e3883",
   "metadata": {},
   "outputs": [
    {
     "data": {
      "application/vnd.microsoft.datawrangler.viewer.v0+json": {
       "columns": [
        {
         "name": "index",
         "rawType": "int64",
         "type": "integer"
        },
        {
         "name": "y1_gpa",
         "rawType": "float64",
         "type": "float"
        },
        {
         "name": "y2_gpa",
         "rawType": "float64",
         "type": "float"
        },
        {
         "name": "y3_gpa",
         "rawType": "float64",
         "type": "float"
        },
        {
         "name": "y4_gpa",
         "rawType": "float64",
         "type": "float"
        },
        {
         "name": "y1_z",
         "rawType": "float64",
         "type": "float"
        },
        {
         "name": "y2_z",
         "rawType": "float64",
         "type": "float"
        },
        {
         "name": "y3_z",
         "rawType": "float64",
         "type": "float"
        },
        {
         "name": "y4_z",
         "rawType": "float64",
         "type": "float"
        }
       ],
       "ref": "f6ad0a6d-88ec-4277-8401-ca8cc4c1e7bb",
       "rows": [
        [
         "0",
         "2.7858767423914466",
         "2.0525126167960086",
         "2.170543703154024",
         "0.0655699235037254",
         "0.7908629828454337",
         "0.028021375433349933",
         "0.1723216604676434",
         "0.1723216604676434"
        ],
        [
         "1",
         "1.144557339801518",
         "2.6664982006562865",
         "0.2670977729000188",
         "2.884737464202427",
         "-0.8729710063626057",
         "0.564635715180774",
         "-1.3471218419128523",
         "-1.3471218419128523"
        ],
        [
         "2",
         "0.9074058142568124",
         "0.4236339402272553",
         "2.6134594854121627",
         "0.0309500565036158",
         "-1.1133756272859854",
         "-1.3955945506280512",
         "0.525883322901678",
         "0.525883322901678"
        ],
        [
         "3",
         "2.205259076331565",
         "0.523579802656323",
         "3.9843453094713017",
         "0.3392891097809345",
         "0.20228076904799222",
         "-1.3082433417598216",
         "1.620205743499266",
         "1.620205743499266"
        ],
        [
         "4",
         "2.8778758791422523",
         "1.2879224258732322",
         "3.077589348295849",
         "0.9019936418000944",
         "0.884124105855525",
         "-0.6402191684240293",
         "0.8963793234501465",
         "0.8963793234501465"
        ]
       ],
       "shape": {
        "columns": 8,
        "rows": 5
       }
      },
      "text/html": [
       "<div>\n",
       "<style scoped>\n",
       "    .dataframe tbody tr th:only-of-type {\n",
       "        vertical-align: middle;\n",
       "    }\n",
       "\n",
       "    .dataframe tbody tr th {\n",
       "        vertical-align: top;\n",
       "    }\n",
       "\n",
       "    .dataframe thead th {\n",
       "        text-align: right;\n",
       "    }\n",
       "</style>\n",
       "<table border=\"1\" class=\"dataframe\">\n",
       "  <thead>\n",
       "    <tr style=\"text-align: right;\">\n",
       "      <th></th>\n",
       "      <th>y1_gpa</th>\n",
       "      <th>y2_gpa</th>\n",
       "      <th>y3_gpa</th>\n",
       "      <th>y4_gpa</th>\n",
       "      <th>y1_z</th>\n",
       "      <th>y2_z</th>\n",
       "      <th>y3_z</th>\n",
       "      <th>y4_z</th>\n",
       "    </tr>\n",
       "  </thead>\n",
       "  <tbody>\n",
       "    <tr>\n",
       "      <th>0</th>\n",
       "      <td>2.785877</td>\n",
       "      <td>2.052513</td>\n",
       "      <td>2.170544</td>\n",
       "      <td>0.065570</td>\n",
       "      <td>0.790863</td>\n",
       "      <td>0.028021</td>\n",
       "      <td>0.172322</td>\n",
       "      <td>0.172322</td>\n",
       "    </tr>\n",
       "    <tr>\n",
       "      <th>1</th>\n",
       "      <td>1.144557</td>\n",
       "      <td>2.666498</td>\n",
       "      <td>0.267098</td>\n",
       "      <td>2.884737</td>\n",
       "      <td>-0.872971</td>\n",
       "      <td>0.564636</td>\n",
       "      <td>-1.347122</td>\n",
       "      <td>-1.347122</td>\n",
       "    </tr>\n",
       "    <tr>\n",
       "      <th>2</th>\n",
       "      <td>0.907406</td>\n",
       "      <td>0.423634</td>\n",
       "      <td>2.613459</td>\n",
       "      <td>0.030950</td>\n",
       "      <td>-1.113376</td>\n",
       "      <td>-1.395595</td>\n",
       "      <td>0.525883</td>\n",
       "      <td>0.525883</td>\n",
       "    </tr>\n",
       "    <tr>\n",
       "      <th>3</th>\n",
       "      <td>2.205259</td>\n",
       "      <td>0.523580</td>\n",
       "      <td>3.984345</td>\n",
       "      <td>0.339289</td>\n",
       "      <td>0.202281</td>\n",
       "      <td>-1.308243</td>\n",
       "      <td>1.620206</td>\n",
       "      <td>1.620206</td>\n",
       "    </tr>\n",
       "    <tr>\n",
       "      <th>4</th>\n",
       "      <td>2.877876</td>\n",
       "      <td>1.287922</td>\n",
       "      <td>3.077589</td>\n",
       "      <td>0.901994</td>\n",
       "      <td>0.884124</td>\n",
       "      <td>-0.640219</td>\n",
       "      <td>0.896379</td>\n",
       "      <td>0.896379</td>\n",
       "    </tr>\n",
       "  </tbody>\n",
       "</table>\n",
       "</div>"
      ],
      "text/plain": [
       "     y1_gpa    y2_gpa    y3_gpa    y4_gpa      y1_z      y2_z      y3_z  \\\n",
       "0  2.785877  2.052513  2.170544  0.065570  0.790863  0.028021  0.172322   \n",
       "1  1.144557  2.666498  0.267098  2.884737 -0.872971  0.564636 -1.347122   \n",
       "2  0.907406  0.423634  2.613459  0.030950 -1.113376 -1.395595  0.525883   \n",
       "3  2.205259  0.523580  3.984345  0.339289  0.202281 -1.308243  1.620206   \n",
       "4  2.877876  1.287922  3.077589  0.901994  0.884124 -0.640219  0.896379   \n",
       "\n",
       "       y4_z  \n",
       "0  0.172322  \n",
       "1 -1.347122  \n",
       "2  0.525883  \n",
       "3  1.620206  \n",
       "4  0.896379  "
      ]
     },
     "execution_count": 8,
     "metadata": {},
     "output_type": "execute_result"
    }
   ],
   "source": [
    "gpa.head()"
   ]
  },
  {
   "cell_type": "markdown",
   "id": "2b4915d4",
   "metadata": {},
   "source": [
    "### Split up a function\n",
    "Another engineer on your team has written this function to calculate the mean and median of a sorted list. You want to show them how to split it into two simpler functions: `mean()` and `median()`\n",
    "```python\n",
    "def mean_and_median(values):\n",
    "  \"\"\"Get the mean and median of a sorted list of `values`\n",
    "\n",
    "  Args:\n",
    "    values (iterable of float): A list of numbers\n",
    "\n",
    "  Returns:\n",
    "    tuple (float, float): The mean and median\n",
    "  \"\"\"\n",
    "  mean = sum(values) / len(values)\n",
    "  values = sorted(values)\n",
    "  midpoint = int(len(values) / 2)\n",
    "  if len(values) % 2 == 0:\n",
    "    median = (values[midpoint - 1] + values[midpoint]) / 2\n",
    "  else:\n",
    "    median = values[midpoint]\n",
    "\n",
    "  return mean, median\n",
    "  ```"
   ]
  },
  {
   "cell_type": "code",
   "execution_count": 9,
   "id": "80513a4f",
   "metadata": {},
   "outputs": [],
   "source": [
    "def mean(values):\n",
    "    \"\"\"Get the mean of a sorted list of values\n",
    "\n",
    "    Args:\n",
    "      values (iterable of float): A list of numbers\n",
    "\n",
    "    Returns:\n",
    "      float\n",
    "    \"\"\"\n",
    "    # Write the mean() function\n",
    "    mean = sum(values) / len(values)\n",
    "    return mean"
   ]
  },
  {
   "cell_type": "code",
   "execution_count": 10,
   "id": "ec343cff",
   "metadata": {},
   "outputs": [],
   "source": [
    "def median(values):\n",
    "    \"\"\"Get the median of a sorted list of values\n",
    "\n",
    "    Args:\n",
    "      values (iterable of float): A list of numbers\n",
    "\n",
    "    Returns:\n",
    "      float\n",
    "    \"\"\"\n",
    "    # Write the median() function\n",
    "    values = sorted(values)\n",
    "    midpoint = int(len(values) / 2)\n",
    "    if len(values) % 2 == 0:\n",
    "        median = (values[midpoint - 1] + values[midpoint]) / 2\n",
    "    else:\n",
    "        median = values[midpoint]\n",
    "    return median"
   ]
  },
  {
   "cell_type": "markdown",
   "id": "a75e5602",
   "metadata": {},
   "source": [
    "### Best practice for default arguments\n",
    "One of your co-workers (who obviously didn't take this course) has written this function for adding a column to a pandas DataFrame. Unfortunately, they used a mutable variable as a default argument value! Please show them a better way to do this so that they don't get unexpected behavior.\n",
    "```python\n",
    "def add_column(values, df=pandas.DataFrame()):\n",
    "  \"\"\"Add a column of `values` to a DataFrame `df`.\n",
    "  The column will be named \"col_<n>\" where \"n\" is\n",
    "  the numerical index of the column.\n",
    "\n",
    "  Args:\n",
    "    values (iterable): The values of the new column\n",
    "    df (DataFrame, optional): The DataFrame to update.\n",
    "      If no DataFrame is passed, one is created by default.\n",
    "\n",
    "  Returns:\n",
    "    DataFrame\n",
    "  \"\"\"\n",
    "  df['col_{}'.format(len(df.columns))] = values\n",
    "  return df\n",
    "  ```"
   ]
  },
  {
   "cell_type": "code",
   "execution_count": 11,
   "id": "f4dd6ea1",
   "metadata": {},
   "outputs": [],
   "source": [
    "# Use an immutable variable for the default argument\n",
    "def better_add_column(values, df=None):\n",
    "    \"\"\"Add a column of `values` to a DataFrame `df`.\n",
    "    The column will be named \"col_<n>\" where \"n\" is\n",
    "    the numerical index of the column.\n",
    "\n",
    "    Args:\n",
    "      values (iterable): The values of the new column\n",
    "      df (DataFrame, optional): The DataFrame to update.\n",
    "        If no DataFrame is passed, one is created by default.\n",
    "\n",
    "    Returns:\n",
    "      DataFrame\n",
    "    \"\"\"\n",
    "    # Update the function to create a default DataFrame\n",
    "    if df is None:\n",
    "        df = pd.DataFrame()\n",
    "    df[\"col_{}\".format(len(df.columns))] = values\n",
    "    return df"
   ]
  },
  {
   "cell_type": "markdown",
   "id": "230ffb72",
   "metadata": {},
   "source": [
    "### The number of cats\n",
    "You are working on a natural language processing project to determine what makes great writers so great. Your current hypothesis is that great writers talk about cats a lot. To prove it, you want to count the number of times the word \"cat\" appears in \"Alice's Adventures in Wonderland\" by Lewis Carroll. You have already downloaded a text file, `alice.txt`, with the entire contents of this great book."
   ]
  },
  {
   "cell_type": "code",
   "execution_count": 12,
   "id": "c67a4f51",
   "metadata": {},
   "outputs": [
    {
     "name": "stdout",
     "output_type": "stream",
     "text": [
      "Lewis Carroll uses the word 'cat' 24 times\n"
     ]
    }
   ],
   "source": [
    "# Use the open() context manager to open alice.txt and assign the file to the file variable.\n",
    "with open(\"data/alice.txt\", encoding=\"utf-8\") as file:\n",
    "    text = file.read()\n",
    "n = len([word for word in text.split() if word.lower() in [\"cat\", \"cats\"]])\n",
    "print(f\"Lewis Carroll uses the word 'cat' {n} times\")"
   ]
  },
  {
   "cell_type": "markdown",
   "id": "1256ee03",
   "metadata": {},
   "source": [
    "### The timer() context manager\n",
    "A colleague of yours is working on a web service that processes Instagram photos. Customers are complaining that the service takes too long to identify whether or not an image has a cat in it, so your colleague has come to you for help. You decide to write a context manager that they can use to time how long their functions take to run."
   ]
  },
  {
   "cell_type": "code",
   "execution_count": 13,
   "id": "dcb1dff8",
   "metadata": {},
   "outputs": [
    {
     "name": "stdout",
     "output_type": "stream",
     "text": [
      "This should take approximately 0.25 seconds\n",
      "Elapsed: 0.25s\n"
     ]
    }
   ],
   "source": [
    "import contextlib\n",
    "import time\n",
    "\n",
    "\n",
    "# Add a decorator that will make timer() a context manager\n",
    "@contextlib.contextmanager\n",
    "def timer():\n",
    "    \"\"\"Time the execution of a context block.\n",
    "\n",
    "    Yields:\n",
    "      None\n",
    "    \"\"\"\n",
    "    start = time.time()\n",
    "    # Send control back to the context block\n",
    "    yield\n",
    "    end = time.time()\n",
    "    print(f\"Elapsed: {end-start:.2f}s\")\n",
    "\n",
    "\n",
    "with timer():\n",
    "    print(\"This should take approximately 0.25 seconds\")\n",
    "    time.sleep(0.25)"
   ]
  },
  {
   "cell_type": "markdown",
   "id": "b25165e0",
   "metadata": {},
   "source": [
    "### A read-only open() context manager\n",
    "You have a bunch of data files for your next deep learning project that took you months to collect and clean. It would be terrible if you accidentally overwrote one of those files when trying to read it in for training, so you decide to create a read-only version of the `open()` context manager to use in your project.\n",
    "\n",
    "The regular `open()` context manager:\n",
    "\n",
    "- takes a filename and a mode (`'r'` for read, `'w'` for write, or `'a'` for append)\n",
    "- opens the file for reading, writing, or appending\n",
    "- yields control back to the context, along with a reference to the file\n",
    "- waits for the context to finish\n",
    "- and then closes the file before exiting\n",
    "  \n",
    "Your context manager will do the same thing, except it will only take the filename as an argument and it will only open the file for reading."
   ]
  },
  {
   "cell_type": "code",
   "execution_count": 14,
   "id": "e78e1bfc",
   "metadata": {},
   "outputs": [],
   "source": [
    "@contextlib.contextmanager\n",
    "def open_read_only(filename):\n",
    "    \"\"\"Open a file in read-only mode.\n",
    "\n",
    "    Args:\n",
    "      filename (str): The location of the file to read\n",
    "\n",
    "    Yields:\n",
    "      file object\n",
    "    \"\"\"\n",
    "    read_only_file = open(filename, mode=\"r\")\n",
    "\n",
    "    # Yield read_only_file so it can be assigned to my_file\n",
    "    yield read_only_file\n",
    "\n",
    "    # Close read_only_file\n",
    "    read_only_file.close()"
   ]
  },
  {
   "cell_type": "code",
   "execution_count": 15,
   "id": "c3b0762f",
   "metadata": {},
   "outputs": [
    {
     "name": "stdout",
     "output_type": "stream",
     "text": [
      "Congratulations! You wrote a context manager that acts like \"open()\" but operates in read-only mode!\n",
      "\n"
     ]
    }
   ],
   "source": [
    "with open_read_only(\"data/my_file.txt\") as my_file:\n",
    "    print(my_file.read())"
   ]
  },
  {
   "cell_type": "markdown",
   "id": "f6875160",
   "metadata": {},
   "source": [
    "### Scraping the NASDAQ\n",
    "Training neural nets is expensive - invest in NVIDIA! To find the best time to invest, collect stock data.\n",
    "\n",
    "The context manager `stock('NVDA')` connects to NASDAQ and returns an object that you can use to get the latest price by calling its `.price()` method. You want to connect to `stock('NVDA')` and record 10 timesteps of price data by writing it to the file `NVDA.txt`.\n",
    "\n",
    "You will notice the use of an underscore when iterating over the for loop. If this is confusing to you, don't worry. It could easily be replaced with an index `i`. But since we will not be using this index, we are using a dummy operator, `_`, which doesn't use any additional memory."
   ]
  },
  {
   "cell_type": "code",
   "execution_count": 16,
   "id": "f28ba6cc",
   "metadata": {},
   "outputs": [],
   "source": [
    "import time\n",
    "from contextlib import contextmanager\n",
    "\n",
    "import yfinance as yf\n",
    "\n",
    "\n",
    "# We define a small helper class to act as the interface our second cell expects.\n",
    "# Its only job is to hold the yfinance Ticker object and provide a .price() method.\n",
    "class StockInterface:\n",
    "    def __init__(self, ticker_symbol):\n",
    "        \"\"\"Initialises the interface by creating a yfinance Ticker object.\"\"\"\n",
    "        self._ticker = yf.Ticker(ticker_symbol)\n",
    "\n",
    "    def price(self):\n",
    "        \"\"\"Fetches and returns the current price for the stock.\"\"\"\n",
    "        # The .info attribute fetches a dictionary of data; we retrieve the current price.\n",
    "        # A short delay helps prevent stale data on rapid calls.\n",
    "        time.sleep(0.1)\n",
    "        return self._ticker.info[\"currentPrice\"]\n",
    "\n",
    "\n",
    "@contextmanager\n",
    "def stock(ticker_symbol: str):\n",
    "    \"\"\"A context manager to provide a simplified stock data interface.\"\"\"\n",
    "    print(f\"--> Entering context for {ticker_symbol}...\")\n",
    "    stock_obj = StockInterface(ticker_symbol)\n",
    "    try:\n",
    "        # 'yield' passes the object to the 'as' variable in the 'with' statement.\n",
    "        yield stock_obj\n",
    "    finally:\n",
    "        # This block runs upon exiting the 'with' statement (like __exit__).\n",
    "        # It's useful for cleanup, but we don't need any here.\n",
    "        print(f\"--> Exiting context for {ticker_symbol}.\")"
   ]
  },
  {
   "cell_type": "code",
   "execution_count": 17,
   "id": "9e2013d3",
   "metadata": {},
   "outputs": [
    {
     "name": "stdout",
     "output_type": "stream",
     "text": [
      "--> Entering context for NVDA...\n",
      "Logging $164.10 for NVDA\n",
      "Logging $164.10 for NVDA\n",
      "Logging $164.10 for NVDA\n",
      "Logging $164.10 for NVDA\n",
      "Logging $164.10 for NVDA\n",
      "Logging $164.10 for NVDA\n",
      "Logging $164.10 for NVDA\n",
      "Logging $164.10 for NVDA\n",
      "Logging $164.10 for NVDA\n",
      "Logging $164.10 for NVDA\n",
      "--> Exiting context for NVDA.\n"
     ]
    }
   ],
   "source": [
    "# Use the \"stock('NVDA')\" context manager\n",
    "# and assign the result to the variable \"nvda\"\n",
    "with stock(\"NVDA\") as nvda:\n",
    "    # Open \"NVDA.txt\" for writing as f_out\n",
    "    with open(\"data/NVDA.txt\", \"w\") as f_out:\n",
    "        for _ in range(10):\n",
    "            value = nvda.price()\n",
    "            print(\"Logging ${:.2f} for NVDA\".format(value))\n",
    "            f_out.write(\"{:.2f}\\n\".format(value))"
   ]
  },
  {
   "cell_type": "markdown",
   "id": "10716322",
   "metadata": {},
   "source": [
    "### Changing the working directory\n",
    "You are using an open-source library that lets you train deep neural networks on your data. Unfortunately, during training, this library writes out checkpoint models (i.e., models that have been trained on a portion of the data) to the current working directory. You find that behavior frustrating because you don't want to have to launch the script from the directory where the models will be saved.\n",
    "\n",
    "You decide that one way to fix this is to write a context manager that changes the current working directory, lets you build your models, and then resets the working directory to its original location. You'll want to be sure that any errors that occur during model training don't prevent you from resetting the working directory to its original location."
   ]
  },
  {
   "cell_type": "code",
   "execution_count": 18,
   "id": "605dafb6",
   "metadata": {},
   "outputs": [],
   "source": [
    "import os\n",
    "\n",
    "\n",
    "def in_dir(directory):\n",
    "    \"\"\"Change current working directory to `directory`,\n",
    "    allow the user to run some code, and change back.\n",
    "\n",
    "    Args:\n",
    "      directory (str): The path to a directory to work in.\n",
    "    \"\"\"\n",
    "    current_dir = os.getcwd()\n",
    "    os.chdir(directory)\n",
    "\n",
    "    # Add code that lets you handle errors\n",
    "    try:\n",
    "        yield\n",
    "    # Ensure the directory is reset,\n",
    "    # whether there was an error or not\n",
    "    finally:\n",
    "        os.chdir(current_dir)"
   ]
  },
  {
   "cell_type": "markdown",
   "id": "9852d6a4",
   "metadata": {},
   "source": [
    "### Building a command line data app\n",
    "You are building a command line tool that lets a user interactively explore a dataset. We've defined four functions: `mean()`, `std()`, `minimum()`, and `maximum()` that users can call to analyze their data. Help finish this section of the code so that your users can call any of these functions by typing the function name at the input prompt.\n",
    "\n",
    "Note: The function `get_user_input()` in this exercise is a mock version of asking the user to enter a command. It randomly returns one of the four function names. In real life, you would ask for input and wait until the user entered a value."
   ]
  },
  {
   "cell_type": "code",
   "execution_count": 19,
   "id": "38f1d502",
   "metadata": {},
   "outputs": [],
   "source": [
    "import random\n",
    "import numpy as np\n",
    "\n",
    "\n",
    "# Mock function to simulate loading data\n",
    "def load_data():\n",
    "    \"\"\"Load sample data for analysis.\"\"\"\n",
    "    return np.random.randint(1, 100, size=20).tolist()\n",
    "\n",
    "\n",
    "# Mock function to simulate user input\n",
    "def get_user_input():\n",
    "    \"\"\"Simulate getting user input for function selection.\"\"\"\n",
    "    functions = [\"mean\", \"std\", \"minimum\", \"maximum\"]\n",
    "    return random.choice(functions)"
   ]
  },
  {
   "cell_type": "code",
   "execution_count": 20,
   "id": "e0cb60cb",
   "metadata": {},
   "outputs": [
    {
     "name": "stdout",
     "output_type": "stream",
     "text": [
      "Function: maximum, Result: 97\n"
     ]
    }
   ],
   "source": [
    "# Add the missing function references to the function map\n",
    "function_map = {\"mean\": mean, \"std\": np.std, \"minimum\": min, \"maximum\": max}\n",
    "\n",
    "data = load_data()\n",
    "\n",
    "func_name = get_user_input()\n",
    "\n",
    "# Call the chosen function and pass \"data\" as an argument\n",
    "result = function_map[func_name](data)\n",
    "print(f\"Function: {func_name}, Result: {result}\")"
   ]
  },
  {
   "cell_type": "markdown",
   "id": "16a067c4",
   "metadata": {},
   "source": [
    "### Reviewing your co-worker's code\n",
    "Your co-worker is asking you to review some code that they've written and give them some tips on how to get it ready for production. You know that having a docstring is considered best practice for maintainable, reusable functions, so as a sanity check you decide to use this `has_docstring()` function on all of their functions.\n",
    "\n",
    "```python\n",
    "def has_docstring(func):\n",
    "  \"\"\"Check to see if the function \n",
    "  `func` has a docstring.\n",
    "\n",
    "  Args:\n",
    "    func (callable): A function.\n",
    "\n",
    "  Returns:\n",
    "    bool\n",
    "  \"\"\"\n",
    "  return func.__doc__ is not None\n",
    "```"
   ]
  },
  {
   "cell_type": "code",
   "execution_count": 21,
   "id": "81ee207a",
   "metadata": {},
   "outputs": [],
   "source": [
    "def has_docstring(func):\n",
    "    \"\"\"Check to see if the function\n",
    "    `func` has a docstring.\n",
    "\n",
    "    Args:\n",
    "        func (callable): A function.\n",
    "\n",
    "    Returns:\n",
    "        bool\n",
    "    \"\"\"\n",
    "    return func.__doc__ is not None"
   ]
  },
  {
   "cell_type": "code",
   "execution_count": 22,
   "id": "a1d15eea",
   "metadata": {},
   "outputs": [],
   "source": [
    "import matplotlib.pyplot as plt\n",
    "import pandas as pd\n",
    "\n",
    "\n",
    "def load_and_plot_data(filepath):\n",
    "    \"\"\"Load and plot temperature data from a CSV file.\n",
    "\n",
    "    Args:\n",
    "        filepath (str): Path to the CSV file containing temperature data.\n",
    "                       Must have 'date' and 'temperature_celsius' columns.\n",
    "\n",
    "    Returns:\n",
    "        None\n",
    "\n",
    "    Raises:\n",
    "        FileNotFoundError: If the specified file path does not exist.\n",
    "        KeyError: If the CSV file is missing required columns.\n",
    "    \"\"\"\n",
    "    try:\n",
    "        df = pd.read_csv(filepath, parse_dates=[\"date\"])\n",
    "\n",
    "        plt.figure(figsize=(10, 6))\n",
    "        plt.plot(df[\"date\"], df[\"temperature_celsius\"], marker=\"o\", linestyle=\"-\")\n",
    "        plt.grid(True)\n",
    "        plt.tight_layout()\n",
    "        plt.show()\n",
    "\n",
    "    except FileNotFoundError:\n",
    "        print(f\"Error: The file at {filepath} was not found.\")\n",
    "    except KeyError:\n",
    "        print(\"Error: The CSV must contain 'date' and 'temperature_celsius' columns.\")"
   ]
  },
  {
   "cell_type": "code",
   "execution_count": 23,
   "id": "a0396740",
   "metadata": {},
   "outputs": [
    {
     "name": "stdout",
     "output_type": "stream",
     "text": [
      "load_and_plot_data() looks ok\n"
     ]
    }
   ],
   "source": [
    "# Call has_docstring() on the load_and_plot_data() function\n",
    "ok = has_docstring(load_and_plot_data)\n",
    "\n",
    "if not ok:\n",
    "    print(\"load_and_plot_data() doesn't have a docstring!\")\n",
    "else:\n",
    "    print(\"load_and_plot_data() looks ok\")"
   ]
  },
  {
   "cell_type": "code",
   "execution_count": 24,
   "id": "3a677966",
   "metadata": {},
   "outputs": [],
   "source": [
    "def as_2D(data, num_cols: int):\n",
    "    \"\"\"Reshapes a 1D array-like object into a 2D NumPy array.\n",
    "\n",
    "    This function takes a flat list or 1D NumPy array and reshapes it\n",
    "    into a 2D array with a specified number of columns. The total number\n",
    "    of elements in the input data must be perfectly divisible by num_cols.\n",
    "\n",
    "    Args:\n",
    "        data (list | np.ndarray): A list or 1D NumPy array of data.\n",
    "        num_cols (int): The desired number of columns in the output 2D array.\n",
    "\n",
    "    Returns:\n",
    "        np.ndarray: A 2D NumPy array with the reshaped data.\n",
    "\n",
    "    Raises:\n",
    "        ValueError: If the number of elements in 'data' is not perfectly\n",
    "                    divisible by 'num_cols'.\n",
    "    \"\"\"\n",
    "    # Convert input to a NumPy array for robust handling\n",
    "    np_array = np.array(data)\n",
    "\n",
    "    if np_array.size % num_cols != 0:\n",
    "        raise ValueError(\n",
    "            f\"Cannot reshape array of size {np_array.size} \"\n",
    "            f\"into a shape with {num_cols} columns.\"\n",
    "        )\n",
    "\n",
    "    # Reshape the array. The '-1' tells NumPy to automatically\n",
    "    # calculate the correct number of rows.\n",
    "    return np_array.reshape(-1, num_cols)"
   ]
  },
  {
   "cell_type": "code",
   "execution_count": 25,
   "id": "9b84b12c",
   "metadata": {},
   "outputs": [
    {
     "name": "stdout",
     "output_type": "stream",
     "text": [
      "as_2D() looks ok\n"
     ]
    }
   ],
   "source": [
    "# Call has_docstring() on the as_2D() function\n",
    "ok = has_docstring(as_2D)\n",
    "\n",
    "if not ok:\n",
    "    print(\"as_2D() doesn't have a docstring!\")\n",
    "else:\n",
    "    print(\"as_2D() looks ok\")"
   ]
  },
  {
   "cell_type": "code",
   "execution_count": 26,
   "id": "a41664f4",
   "metadata": {},
   "outputs": [],
   "source": [
    "def log_product(data, base=np.e):\n",
    "\n",
    "    np_array = np.array(data)\n",
    "    \n",
    "    # Critical check: Logarithm is undefined for non-positive numbers.\n",
    "    if np.any(np_array <= 0):\n",
    "        raise ValueError(\"All numbers in the input data must be positive.\")\n",
    "\n",
    "    # Calculate the sum of the logarithms, which is efficient and stable.\n",
    "    return np.sum(np.log(np_array) / np.log(base))"
   ]
  },
  {
   "cell_type": "code",
   "execution_count": 27,
   "id": "89c46d55",
   "metadata": {},
   "outputs": [
    {
     "name": "stdout",
     "output_type": "stream",
     "text": [
      "log_product() doesn't have a docstring!\n"
     ]
    }
   ],
   "source": [
    "# Call has_docstring() on the log_product() function\n",
    "ok = has_docstring(log_product)\n",
    "\n",
    "if not ok:\n",
    "    print(\"log_product() doesn't have a docstring!\")\n",
    "else:\n",
    "    print(\"log_product() looks ok\")"
   ]
  },
  {
   "cell_type": "markdown",
   "id": "b81e4ee6",
   "metadata": {},
   "source": [
    "### Returning functions for a math game\n",
    "You are building an educational math game where the player enters a math term, and your program returns a function that matches that term. For instance, if the user types \"add\", your program returns a function that adds two numbers. So far you've only implemented the \"add\" function. Now you want to include a \"subtract\" function."
   ]
  },
  {
   "cell_type": "code",
   "execution_count": 28,
   "id": "10e09b77",
   "metadata": {},
   "outputs": [
    {
     "name": "stdout",
     "output_type": "stream",
     "text": [
      "5 + 2 = 7\n",
      "5 - 2 = 3\n"
     ]
    }
   ],
   "source": [
    "def create_math_function(func_name):\n",
    "  if func_name == 'add':\n",
    "    def add(a, b):\n",
    "      return a + b\n",
    "    return add\n",
    "  elif func_name == 'subtract':\n",
    "    def subtract(a, b):\n",
    "      return a - b\n",
    "    return subtract\n",
    "  else:\n",
    "    print(\"I don't know that one\")\n",
    "    \n",
    "add = create_math_function('add')\n",
    "print('5 + 2 = {}'.format(add(5, 2)))\n",
    "\n",
    "subtract = create_math_function('subtract')\n",
    "print('5 - 2 = {}'.format(subtract(5, 2)))"
   ]
  },
  {
   "cell_type": "markdown",
   "id": "080732e0",
   "metadata": {},
   "source": [
    "### Modifying variables outside local scope\n",
    "Sometimes your functions will need to modify a variable that is outside of the local scope of that function. While it's generally not best practice to do so, it's still good to know how in case you need to do it. Update these functions so they can modify variables that would usually be outside of their scope."
   ]
  },
  {
   "cell_type": "code",
   "execution_count": 29,
   "id": "76e36c86",
   "metadata": {},
   "outputs": [
    {
     "name": "stdout",
     "output_type": "stream",
     "text": [
      "You've called my_function() 1 times!\n",
      "You've called my_function() 2 times!\n",
      "You've called my_function() 3 times!\n",
      "You've called my_function() 4 times!\n",
      "You've called my_function() 5 times!\n",
      "You've called my_function() 6 times!\n",
      "You've called my_function() 7 times!\n",
      "You've called my_function() 8 times!\n",
      "You've called my_function() 9 times!\n",
      "You've called my_function() 10 times!\n",
      "You've called my_function() 11 times!\n",
      "You've called my_function() 12 times!\n",
      "You've called my_function() 13 times!\n",
      "You've called my_function() 14 times!\n",
      "You've called my_function() 15 times!\n",
      "You've called my_function() 16 times!\n",
      "You've called my_function() 17 times!\n",
      "You've called my_function() 18 times!\n",
      "You've called my_function() 19 times!\n",
      "You've called my_function() 20 times!\n"
     ]
    }
   ],
   "source": [
    "call_count = 0\n",
    "\n",
    "def my_function():\n",
    "  # Use a keyword that lets us update call_count \n",
    "  global call_count\n",
    "  call_count += 1\n",
    "  \n",
    "  print(\"You've called my_function() {} times!\".format(\n",
    "    call_count\n",
    "  ))\n",
    "  \n",
    "for _ in range(20):\n",
    "  my_function()"
   ]
  },
  {
   "cell_type": "code",
   "execution_count": 30,
   "id": "b3a6d541",
   "metadata": {},
   "outputs": [],
   "source": [
    "def read_files():\n",
    "    file_contents = None\n",
    "\n",
    "    def save_contents(filename):\n",
    "        # Add a keyword that lets us modify file_contents\n",
    "        nonlocal file_contents\n",
    "        if file_contents is None:\n",
    "            file_contents = []\n",
    "        with open(filename) as fin:\n",
    "            file_contents.append(fin.read())\n",
    "\n",
    "    for filename in [\"1984.txt\", \"MobyDick.txt\", \"CatsEye.txt\"]:\n",
    "        save_contents(filename)\n",
    "\n",
    "    return file_contents"
   ]
  },
  {
   "cell_type": "code",
   "execution_count": 31,
   "id": "c3170145",
   "metadata": {},
   "outputs": [
    {
     "name": "stdout",
     "output_type": "stream",
     "text": [
      "Work done? True\n"
     ]
    }
   ],
   "source": [
    "def wait_until_done():\n",
    "    def check_is_done():\n",
    "        # Add a keyword so that wait_until_done()\n",
    "        # doesn't run forever\n",
    "        global done\n",
    "        if random.random() < 0.1:\n",
    "            done = True\n",
    "\n",
    "    while not done:\n",
    "        check_is_done()\n",
    "\n",
    "\n",
    "done = False\n",
    "wait_until_done()\n",
    "\n",
    "print(\"Work done? {}\".format(done))"
   ]
  },
  {
   "cell_type": "markdown",
   "id": "35a9b019",
   "metadata": {},
   "source": [
    "### Checking for closure\n",
    "You're teaching your niece how to program in Python, and she is working on returning nested functions. She thinks she has written the code correctly, but she is worried that the returned function won't have the necessary information when called. Show her that all of the nonlocal variables she needs are in the new function's closure."
   ]
  },
  {
   "cell_type": "code",
   "execution_count": 32,
   "id": "abb71bc1",
   "metadata": {},
   "outputs": [
    {
     "name": "stdout",
     "output_type": "stream",
     "text": [
      "True\n"
     ]
    }
   ],
   "source": [
    "def return_a_func(arg1, arg2):\n",
    "    def new_func():\n",
    "        print(\"arg1 was {}\".format(arg1))\n",
    "        print(\"arg2 was {}\".format(arg2))\n",
    "\n",
    "    return new_func\n",
    "\n",
    "\n",
    "my_func = return_a_func(2, 17)\n",
    "\n",
    "# Show that my_func()'s closure is not None\n",
    "print(my_func.__closure__ is not None)"
   ]
  },
  {
   "cell_type": "code",
   "execution_count": 33,
   "id": "1c372aea",
   "metadata": {},
   "outputs": [
    {
     "name": "stdout",
     "output_type": "stream",
     "text": [
      "True\n"
     ]
    }
   ],
   "source": [
    "# Show that there are two variables in the closure\n",
    "print(len(my_func.__closure__) == 2)"
   ]
  },
  {
   "cell_type": "code",
   "execution_count": 34,
   "id": "714713a3",
   "metadata": {},
   "outputs": [
    {
     "name": "stdout",
     "output_type": "stream",
     "text": [
      "True\n"
     ]
    }
   ],
   "source": [
    "# Get the values of the variables in the closure\n",
    "closure_values = [my_func.__closure__[i].cell_contents for i in range(2)]\n",
    "print(closure_values == [2, 17])"
   ]
  },
  {
   "cell_type": "markdown",
   "id": "d8a24a4d",
   "metadata": {},
   "source": [
    "### Closures keep your values safe\n",
    "You are still helping your niece understand closures. You have written the function `get_new_func()` that returns a nested function. The nested function `call_func()` calls whatever function was passed to `get_new_func()`. You've also written `my_special_function()` which simply prints a message that states that you are executing `my_special_function()`.\n",
    "\n",
    "You want to show your niece that no matter what you do to `my_special_function()` after passing it to `get_new_func()`, the new function still mimics the behavior of the original `my_special_function()` because it is in the new function's closure."
   ]
  },
  {
   "cell_type": "code",
   "execution_count": 35,
   "id": "a730e655",
   "metadata": {},
   "outputs": [
    {
     "name": "stdout",
     "output_type": "stream",
     "text": [
      "You are running my_special_function()\n"
     ]
    }
   ],
   "source": [
    "# Show that you still get the original message even if you redefine my_special_function() to only print \"hello\".\n",
    "def my_special_function():\n",
    "    print(\"You are running my_special_function()\")\n",
    "\n",
    "def get_new_func(func):\n",
    "    def call_func():\n",
    "        func()\n",
    "\n",
    "    return call_func\n",
    "\n",
    "new_func = get_new_func(my_special_function)\n",
    "\n",
    "# Redefine my_special_function() to just print \"hello\"\n",
    "def my_special_function():\n",
    "    print(\"hello\")\n",
    "\n",
    "\n",
    "new_func()"
   ]
  },
  {
   "cell_type": "code",
   "execution_count": 36,
   "id": "39cd8f48",
   "metadata": {},
   "outputs": [
    {
     "name": "stdout",
     "output_type": "stream",
     "text": [
      "You are running my_special_function()\n"
     ]
    }
   ],
   "source": [
    "# Show that even if you delete my_special_function(), you can still call new_func() without any problems.\n",
    "def my_special_function():\n",
    "    print(\"You are running my_special_function()\")\n",
    "\n",
    "def get_new_func(func):\n",
    "    def call_func():\n",
    "        func()\n",
    "\n",
    "    return call_func\n",
    "\n",
    "new_func = get_new_func(my_special_function)\n",
    "\n",
    "# Delete my_special_function()\n",
    "del my_special_function\n",
    "\n",
    "new_func()"
   ]
  },
  {
   "cell_type": "code",
   "execution_count": 37,
   "id": "04df5e0a",
   "metadata": {},
   "outputs": [
    {
     "name": "stdout",
     "output_type": "stream",
     "text": [
      "You are running my_special_function()\n"
     ]
    }
   ],
   "source": [
    "# Show that you still get the original message even if you overwrite my_special_function() with the new function.\n",
    "def my_special_function():\n",
    "    print(\"You are running my_special_function()\")\n",
    "\n",
    "\n",
    "def get_new_func(func):\n",
    "    def call_func():\n",
    "        func()\n",
    "\n",
    "    return call_func\n",
    "\n",
    "\n",
    "# Overwrite `my_special_function` with the new function\n",
    "my_special_function = get_new_func(my_special_function)\n",
    "\n",
    "my_special_function()"
   ]
  },
  {
   "cell_type": "code",
   "execution_count": 38,
   "id": "5c39774c",
   "metadata": {},
   "outputs": [
    {
     "name": "stdout",
     "output_type": "stream",
     "text": [
      "Hello, Alice!\n",
      "Hi, Bob!\n"
     ]
    }
   ],
   "source": [
    "def make_greeter(greeting):\n",
    "    def greeter(name):\n",
    "        return f\"{greeting}, {name}!\"\n",
    "\n",
    "    return greeter\n",
    "\n",
    "\n",
    "# Create two greeting functions\n",
    "say_hello = make_greeter(\"Hello\")\n",
    "say_hi = make_greeter(\"Hi\")\n",
    "\n",
    "# Use the functions\n",
    "print(say_hello(\"Alice\"))  # Output: Hello, Alice!\n",
    "print(say_hi(\"Bob\"))  # Output: Hi, Bob!"
   ]
  },
  {
   "cell_type": "markdown",
   "id": "6aa9cf2b",
   "metadata": {},
   "source": [
    "### Using decorator syntax\n",
    "You have written a decorator called `print_args` that prints out all of the arguments and their values any time a function that it is decorating gets called."
   ]
  },
  {
   "cell_type": "code",
   "execution_count": 2,
   "id": "379072fd",
   "metadata": {},
   "outputs": [
    {
     "name": "stdout",
     "output_type": "stream",
     "text": [
      "Function my_function called with args: (1, 2, 3), kwargs: {}\n",
      "6\n"
     ]
    }
   ],
   "source": [
    "def print_args(func):\n",
    "    \"\"\"Decorator that prints the arguments passed to a function.\"\"\"\n",
    "    def wrapper(*args, **kwargs):\n",
    "        print(f\"Function {func.__name__} called with args: {args}, kwargs: {kwargs}\")\n",
    "        return func(*args, **kwargs)\n",
    "    return wrapper\n",
    "\n",
    "\n",
    "def my_function(a, b, c):\n",
    "    print(a + b + c)\n",
    "\n",
    "\n",
    "# Decorate my_function() with the print_args() decorator\n",
    "my_function = print_args(my_function)\n",
    "\n",
    "my_function(1, 2, 3)"
   ]
  },
  {
   "cell_type": "code",
   "execution_count": 3,
   "id": "f324175a",
   "metadata": {},
   "outputs": [
    {
     "name": "stdout",
     "output_type": "stream",
     "text": [
      "Function my_function called with args: (1, 2, 3), kwargs: {}\n",
      "6\n"
     ]
    }
   ],
   "source": [
    "# Decorate my_function() with the print_args() decorator\n",
    "@print_args\n",
    "def my_function(a, b, c):\n",
    "    print(a + b + c)\n",
    "\n",
    "\n",
    "my_function(1, 2, 3)"
   ]
  },
  {
   "cell_type": "markdown",
   "id": "30232284",
   "metadata": {},
   "source": [
    "### Defining a decorator\n",
    "Your buddy has been working on a decorator that prints a \"before\" message before the decorated function is called and prints an \"after\" message after the decorated function is called. They are having trouble remembering how wrapping the decorated function is supposed to work. Help them out by finishing their `print_before_and_after()` decorator."
   ]
  },
  {
   "cell_type": "code",
   "execution_count": 8,
   "id": "df0492a2",
   "metadata": {},
   "outputs": [
    {
     "name": "stdout",
     "output_type": "stream",
     "text": [
      "Before multiply\n",
      "50\n",
      "After multiply\n"
     ]
    }
   ],
   "source": [
    "def print_before_and_after(func):\n",
    "    def wrapper(*args):\n",
    "        print(\"Before {}\".format(func.__name__))\n",
    "        # Call the function being decorated with *args\n",
    "        func(*args)\n",
    "        print(\"After {}\".format(func.__name__))\n",
    "    # Return the nested function\n",
    "    return wrapper\n",
    "\n",
    "\n",
    "@print_before_and_after\n",
    "def multiply(a, b):\n",
    "    print(a * b)\n",
    "\n",
    "\n",
    "multiply(5, 10)"
   ]
  },
  {
   "cell_type": "code",
   "execution_count": null,
   "id": "ef1de11d",
   "metadata": {},
   "outputs": [],
   "source": []
  }
 ],
 "metadata": {
  "kernelspec": {
   "display_name": "datacamp",
   "language": "python",
   "name": "python3"
  },
  "language_info": {
   "codemirror_mode": {
    "name": "ipython",
    "version": 3
   },
   "file_extension": ".py",
   "mimetype": "text/x-python",
   "name": "python",
   "nbconvert_exporter": "python",
   "pygments_lexer": "ipython3",
   "version": "3.12.7"
  }
 },
 "nbformat": 4,
 "nbformat_minor": 5
}
