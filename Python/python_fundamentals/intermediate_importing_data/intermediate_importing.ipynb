{
 "cells": [
  {
   "cell_type": "markdown",
   "id": "4459aa86",
   "metadata": {},
   "source": [
    "## Importing Flat Files from the Web\n",
    "\n",
    "Data-driven workflows increasingly rely on accessing data hosted remotely—be it from public repositories, research archives, or internal web APIs. **Importing flat files directly from the web** is a foundational skill in data science, enabling fully reproducible and automated data pipelines. Python provides several robust, Pythonic tools for fetching, downloading, and reading files directly from URLs.\n",
    "\n",
    "### Why Automate Web Downloads?\n",
    "\n",
    "- **Reproducibility**: Manual downloads (via browser) are prone to error, inconsistency, and hinder automation.\n",
    "- **Scalability**: Automated downloads scale to dozens, hundreds, or thousands of files across multiple runs.\n",
    "- **Traceability**: Scripts document the data source, download logic, and processing steps—critical for scientific and production code.\n",
    "- **Direct integration**: Data can flow directly into your codebase, without manual intervention.\n",
    "\n",
    "### Key Tools for Web Downloads in Python\n",
    "\n",
    "#### `urllib.request`\n",
    "\n",
    "- Part of the standard library (`urllib`), so no extra installation needed.\n",
    "- Provides low-level functions for fetching data across the web.\n",
    "- `urlretrieve()` is a high-level utility for downloading files directly to disk.\n",
    "\n",
    "##### Example: Downloading a CSV from the Web\n",
    "\n",
    "```python\n",
    "from urllib.request import urlretrieve\n",
    "\n",
    "url = 'https://archive.ics.uci.edu/ml/machine-learning-databases/wine-quality/winequality-white.csv'\n",
    "output_file = 'winequality-white.csv'\n",
    "\n",
    "urlretrieve(url, output_file)\n",
    "# Now 'winequality-white.csv' exists locally and is ready for reading by pandas, numpy, etc.\n",
    "```\n",
    "\n",
    "- The return value is a tuple: (local filename, HTTP response object).\n",
    "- Use clear variable names for both the source URL and the destination filename for maintainability.\n",
    "\n",
    "### Best Practices and Automation Patterns\n",
    "\n",
    "- **Error Handling**: Always anticipate possible connection failures or bad URLs; wrap downloads in try/except blocks.\n",
    "- **Idempotence**: Check if the file already exists before downloading to avoid redundant network calls.\n",
    "- **Logging**: Track what was downloaded, from where, and when, for full reproducibility.\n",
    "- **Integration**: Use with data import libraries like `pandas` to streamline subsequent analysis.\n",
    "    ```python\n",
    "    import pandas as pd\n",
    "    df = pd.read_csv(output_file)\n",
    "    ```\n",
    "\n",
    "#### Example: Downloading and Reading in One Step\n",
    "\n",
    "```python\n",
    "from urllib.request import urlretrieve\n",
    "import pandas as pd\n",
    "\n",
    "url = \"https://example.com/data.csv\"\n",
    "filename = \"data.csv\"\n",
    "urlretrieve(url, filename)\n",
    "df = pd.read_csv(filename)\n",
    "```\n",
    "\n",
    "### Other Approaches for Advanced Use Cases\n",
    "\n",
    "- **`requests` library**: For more complex HTTP workflows (authentication, custom headers, streaming large files), use `requests.get()` and save content manually.\n",
    "- **Direct read from URL with pandas**: `pd.read_csv(url)` will read many public CSV URLs directly into a DataFrame (no intermediate file).\n",
    "- **Streaming and chunked downloads**: For extremely large files, download in chunks to save memory.\n",
    "\n",
    "### Pythonic and Reproducible Data Science\n",
    "\n",
    "Automating data acquisition from the web is central to **Pythonic, reproducible, and scalable data science**. Use standard libraries for simple use cases, and escalate to advanced libraries as the complexity of your requirements grows. Always document sources and manage data flow in code—never by manual download—if you intend your work to be repeatable and professional.\n",
    "<br>\n",
    "Importing flat files from the web with Python is a best practice for modern data projects. It streamlines data acquisition, guarantees reproducibility, and enables the automation of entire data science pipelines. Mastering tools like `urllib.request.urlretrieve` and integrating with downstream libraries is essential for any serious practitioner.\n",
    "\n"
   ]
  },
  {
   "cell_type": "code",
   "execution_count": 1,
   "id": "9fb629cf",
   "metadata": {},
   "outputs": [],
   "source": [
    "import matplotlib.pyplot as plt\n",
    "import numpy as np\n",
    "import os\n",
    "import pandas as pd\n",
    "from pathlib import Path\n",
    "import polars as pl\n",
    "from pathlib import Path\n",
    "import seaborn as sns"
   ]
  },
  {
   "cell_type": "markdown",
   "id": "f4176fc8",
   "metadata": {},
   "source": [
    "### Importing flat files from the web: your turn!\n",
    "You are about to import your first file from the web! The flat file you will import will be `'winequality-red.csv'` from the University of California, Irvine's Machine Learning repository. The flat file contains tabular data of physiochemical properties of red wine, such as pH, alcohol content and citric acid content, along with wine quality rating.\n",
    "\n",
    "The URL of the file is\n",
    "\n",
    "`'https://assets.datacamp.com/production/course_1606/datasets/winequality-red.csv'`\n",
    "\n",
    "After you import it, you'll check your working directory to confirm that it is there and then you'll load it into a pandas DataFrame."
   ]
  },
  {
   "cell_type": "code",
   "execution_count": 2,
   "id": "42e32d1f",
   "metadata": {},
   "outputs": [
    {
     "data": {
      "application/vnd.microsoft.datawrangler.viewer.v0+json": {
       "columns": [
        {
         "name": "index",
         "rawType": "int64",
         "type": "integer"
        },
        {
         "name": "fixed acidity",
         "rawType": "float64",
         "type": "float"
        },
        {
         "name": "volatile acidity",
         "rawType": "float64",
         "type": "float"
        },
        {
         "name": "citric acid",
         "rawType": "float64",
         "type": "float"
        },
        {
         "name": "residual sugar",
         "rawType": "float64",
         "type": "float"
        },
        {
         "name": "chlorides",
         "rawType": "float64",
         "type": "float"
        },
        {
         "name": "free sulfur dioxide",
         "rawType": "float64",
         "type": "float"
        },
        {
         "name": "total sulfur dioxide",
         "rawType": "float64",
         "type": "float"
        },
        {
         "name": "density",
         "rawType": "float64",
         "type": "float"
        },
        {
         "name": "pH",
         "rawType": "float64",
         "type": "float"
        },
        {
         "name": "sulphates",
         "rawType": "float64",
         "type": "float"
        },
        {
         "name": "alcohol",
         "rawType": "float64",
         "type": "float"
        },
        {
         "name": "quality",
         "rawType": "int64",
         "type": "integer"
        }
       ],
       "ref": "46217037-00ca-4aab-b990-fb18c93b8070",
       "rows": [
        [
         "0",
         "7.4",
         "0.7",
         "0.0",
         "1.9",
         "0.076",
         "11.0",
         "34.0",
         "0.9978",
         "3.51",
         "0.56",
         "9.4",
         "5"
        ],
        [
         "1",
         "7.8",
         "0.88",
         "0.0",
         "2.6",
         "0.098",
         "25.0",
         "67.0",
         "0.9968",
         "3.2",
         "0.68",
         "9.8",
         "5"
        ],
        [
         "2",
         "7.8",
         "0.76",
         "0.04",
         "2.3",
         "0.092",
         "15.0",
         "54.0",
         "0.997",
         "3.26",
         "0.65",
         "9.8",
         "5"
        ],
        [
         "3",
         "11.2",
         "0.28",
         "0.56",
         "1.9",
         "0.075",
         "17.0",
         "60.0",
         "0.998",
         "3.16",
         "0.58",
         "9.8",
         "6"
        ],
        [
         "4",
         "7.4",
         "0.7",
         "0.0",
         "1.9",
         "0.076",
         "11.0",
         "34.0",
         "0.9978",
         "3.51",
         "0.56",
         "9.4",
         "5"
        ]
       ],
       "shape": {
        "columns": 12,
        "rows": 5
       }
      },
      "text/html": [
       "<div>\n",
       "<style scoped>\n",
       "    .dataframe tbody tr th:only-of-type {\n",
       "        vertical-align: middle;\n",
       "    }\n",
       "\n",
       "    .dataframe tbody tr th {\n",
       "        vertical-align: top;\n",
       "    }\n",
       "\n",
       "    .dataframe thead th {\n",
       "        text-align: right;\n",
       "    }\n",
       "</style>\n",
       "<table border=\"1\" class=\"dataframe\">\n",
       "  <thead>\n",
       "    <tr style=\"text-align: right;\">\n",
       "      <th></th>\n",
       "      <th>fixed acidity</th>\n",
       "      <th>volatile acidity</th>\n",
       "      <th>citric acid</th>\n",
       "      <th>residual sugar</th>\n",
       "      <th>chlorides</th>\n",
       "      <th>free sulfur dioxide</th>\n",
       "      <th>total sulfur dioxide</th>\n",
       "      <th>density</th>\n",
       "      <th>pH</th>\n",
       "      <th>sulphates</th>\n",
       "      <th>alcohol</th>\n",
       "      <th>quality</th>\n",
       "    </tr>\n",
       "  </thead>\n",
       "  <tbody>\n",
       "    <tr>\n",
       "      <th>0</th>\n",
       "      <td>7.4</td>\n",
       "      <td>0.70</td>\n",
       "      <td>0.00</td>\n",
       "      <td>1.9</td>\n",
       "      <td>0.076</td>\n",
       "      <td>11.0</td>\n",
       "      <td>34.0</td>\n",
       "      <td>0.9978</td>\n",
       "      <td>3.51</td>\n",
       "      <td>0.56</td>\n",
       "      <td>9.4</td>\n",
       "      <td>5</td>\n",
       "    </tr>\n",
       "    <tr>\n",
       "      <th>1</th>\n",
       "      <td>7.8</td>\n",
       "      <td>0.88</td>\n",
       "      <td>0.00</td>\n",
       "      <td>2.6</td>\n",
       "      <td>0.098</td>\n",
       "      <td>25.0</td>\n",
       "      <td>67.0</td>\n",
       "      <td>0.9968</td>\n",
       "      <td>3.20</td>\n",
       "      <td>0.68</td>\n",
       "      <td>9.8</td>\n",
       "      <td>5</td>\n",
       "    </tr>\n",
       "    <tr>\n",
       "      <th>2</th>\n",
       "      <td>7.8</td>\n",
       "      <td>0.76</td>\n",
       "      <td>0.04</td>\n",
       "      <td>2.3</td>\n",
       "      <td>0.092</td>\n",
       "      <td>15.0</td>\n",
       "      <td>54.0</td>\n",
       "      <td>0.9970</td>\n",
       "      <td>3.26</td>\n",
       "      <td>0.65</td>\n",
       "      <td>9.8</td>\n",
       "      <td>5</td>\n",
       "    </tr>\n",
       "    <tr>\n",
       "      <th>3</th>\n",
       "      <td>11.2</td>\n",
       "      <td>0.28</td>\n",
       "      <td>0.56</td>\n",
       "      <td>1.9</td>\n",
       "      <td>0.075</td>\n",
       "      <td>17.0</td>\n",
       "      <td>60.0</td>\n",
       "      <td>0.9980</td>\n",
       "      <td>3.16</td>\n",
       "      <td>0.58</td>\n",
       "      <td>9.8</td>\n",
       "      <td>6</td>\n",
       "    </tr>\n",
       "    <tr>\n",
       "      <th>4</th>\n",
       "      <td>7.4</td>\n",
       "      <td>0.70</td>\n",
       "      <td>0.00</td>\n",
       "      <td>1.9</td>\n",
       "      <td>0.076</td>\n",
       "      <td>11.0</td>\n",
       "      <td>34.0</td>\n",
       "      <td>0.9978</td>\n",
       "      <td>3.51</td>\n",
       "      <td>0.56</td>\n",
       "      <td>9.4</td>\n",
       "      <td>5</td>\n",
       "    </tr>\n",
       "  </tbody>\n",
       "</table>\n",
       "</div>"
      ],
      "text/plain": [
       "   fixed acidity  volatile acidity  citric acid  residual sugar  chlorides  \\\n",
       "0            7.4              0.70         0.00             1.9      0.076   \n",
       "1            7.8              0.88         0.00             2.6      0.098   \n",
       "2            7.8              0.76         0.04             2.3      0.092   \n",
       "3           11.2              0.28         0.56             1.9      0.075   \n",
       "4            7.4              0.70         0.00             1.9      0.076   \n",
       "\n",
       "   free sulfur dioxide  total sulfur dioxide  density    pH  sulphates  \\\n",
       "0                 11.0                  34.0   0.9978  3.51       0.56   \n",
       "1                 25.0                  67.0   0.9968  3.20       0.68   \n",
       "2                 15.0                  54.0   0.9970  3.26       0.65   \n",
       "3                 17.0                  60.0   0.9980  3.16       0.58   \n",
       "4                 11.0                  34.0   0.9978  3.51       0.56   \n",
       "\n",
       "   alcohol  quality  \n",
       "0      9.4        5  \n",
       "1      9.8        5  \n",
       "2      9.8        5  \n",
       "3      9.8        6  \n",
       "4      9.4        5  "
      ]
     },
     "metadata": {},
     "output_type": "display_data"
    }
   ],
   "source": [
    "# Import the function urlretrieve from the subpackage urllib.request.\n",
    "from urllib.request import urlretrieve\n",
    "\n",
    "# Assign the URL of the file to the variable url.\n",
    "url = \"https://assets.datacamp.com/production/course_1606/datasets/winequality-red.csv\"\n",
    "\n",
    "# Use the function urlretrieve() to save the file locally as 'winequality-red.csv'.\n",
    "urlretrieve(url, \"data/winequality-red.csv\")\n",
    "\n",
    "# Read file into a DataFrame and print its head\n",
    "wine_quality = pd.read_csv(\"data/winequality-red.csv\", sep=\";\")\n",
    "\n",
    "\n",
    "display(wine_quality.head())"
   ]
  },
  {
   "cell_type": "markdown",
   "id": "07171c94",
   "metadata": {},
   "source": [
    "### Opening and reading flat files from the web\n",
    "You have just imported a file from the web, saved it locally and loaded it into a DataFrame. If you just wanted to load a file from the web into a DataFrame without first saving it locally, you can do that easily using `pandas`. In particular, you can use the function `pd.read_csv()` with the URL as the first argument and the separator sep as the second argument."
   ]
  },
  {
   "cell_type": "code",
   "execution_count": 3,
   "id": "61475681",
   "metadata": {},
   "outputs": [
    {
     "data": {
      "application/vnd.microsoft.datawrangler.viewer.v0+json": {
       "columns": [
        {
         "name": "index",
         "rawType": "int64",
         "type": "integer"
        },
        {
         "name": "fixed acidity",
         "rawType": "float64",
         "type": "float"
        },
        {
         "name": "volatile acidity",
         "rawType": "float64",
         "type": "float"
        },
        {
         "name": "citric acid",
         "rawType": "float64",
         "type": "float"
        },
        {
         "name": "residual sugar",
         "rawType": "float64",
         "type": "float"
        },
        {
         "name": "chlorides",
         "rawType": "float64",
         "type": "float"
        },
        {
         "name": "free sulfur dioxide",
         "rawType": "float64",
         "type": "float"
        },
        {
         "name": "total sulfur dioxide",
         "rawType": "float64",
         "type": "float"
        },
        {
         "name": "density",
         "rawType": "float64",
         "type": "float"
        },
        {
         "name": "pH",
         "rawType": "float64",
         "type": "float"
        },
        {
         "name": "sulphates",
         "rawType": "float64",
         "type": "float"
        },
        {
         "name": "alcohol",
         "rawType": "float64",
         "type": "float"
        },
        {
         "name": "quality",
         "rawType": "int64",
         "type": "integer"
        }
       ],
       "ref": "1178aa67-35e2-4eba-8ec1-1913e03a6e1c",
       "rows": [
        [
         "0",
         "7.4",
         "0.7",
         "0.0",
         "1.9",
         "0.076",
         "11.0",
         "34.0",
         "0.9978",
         "3.51",
         "0.56",
         "9.4",
         "5"
        ],
        [
         "1",
         "7.8",
         "0.88",
         "0.0",
         "2.6",
         "0.098",
         "25.0",
         "67.0",
         "0.9968",
         "3.2",
         "0.68",
         "9.8",
         "5"
        ],
        [
         "2",
         "7.8",
         "0.76",
         "0.04",
         "2.3",
         "0.092",
         "15.0",
         "54.0",
         "0.997",
         "3.26",
         "0.65",
         "9.8",
         "5"
        ],
        [
         "3",
         "11.2",
         "0.28",
         "0.56",
         "1.9",
         "0.075",
         "17.0",
         "60.0",
         "0.998",
         "3.16",
         "0.58",
         "9.8",
         "6"
        ],
        [
         "4",
         "7.4",
         "0.7",
         "0.0",
         "1.9",
         "0.076",
         "11.0",
         "34.0",
         "0.9978",
         "3.51",
         "0.56",
         "9.4",
         "5"
        ]
       ],
       "shape": {
        "columns": 12,
        "rows": 5
       }
      },
      "text/html": [
       "<div>\n",
       "<style scoped>\n",
       "    .dataframe tbody tr th:only-of-type {\n",
       "        vertical-align: middle;\n",
       "    }\n",
       "\n",
       "    .dataframe tbody tr th {\n",
       "        vertical-align: top;\n",
       "    }\n",
       "\n",
       "    .dataframe thead th {\n",
       "        text-align: right;\n",
       "    }\n",
       "</style>\n",
       "<table border=\"1\" class=\"dataframe\">\n",
       "  <thead>\n",
       "    <tr style=\"text-align: right;\">\n",
       "      <th></th>\n",
       "      <th>fixed acidity</th>\n",
       "      <th>volatile acidity</th>\n",
       "      <th>citric acid</th>\n",
       "      <th>residual sugar</th>\n",
       "      <th>chlorides</th>\n",
       "      <th>free sulfur dioxide</th>\n",
       "      <th>total sulfur dioxide</th>\n",
       "      <th>density</th>\n",
       "      <th>pH</th>\n",
       "      <th>sulphates</th>\n",
       "      <th>alcohol</th>\n",
       "      <th>quality</th>\n",
       "    </tr>\n",
       "  </thead>\n",
       "  <tbody>\n",
       "    <tr>\n",
       "      <th>0</th>\n",
       "      <td>7.4</td>\n",
       "      <td>0.70</td>\n",
       "      <td>0.00</td>\n",
       "      <td>1.9</td>\n",
       "      <td>0.076</td>\n",
       "      <td>11.0</td>\n",
       "      <td>34.0</td>\n",
       "      <td>0.9978</td>\n",
       "      <td>3.51</td>\n",
       "      <td>0.56</td>\n",
       "      <td>9.4</td>\n",
       "      <td>5</td>\n",
       "    </tr>\n",
       "    <tr>\n",
       "      <th>1</th>\n",
       "      <td>7.8</td>\n",
       "      <td>0.88</td>\n",
       "      <td>0.00</td>\n",
       "      <td>2.6</td>\n",
       "      <td>0.098</td>\n",
       "      <td>25.0</td>\n",
       "      <td>67.0</td>\n",
       "      <td>0.9968</td>\n",
       "      <td>3.20</td>\n",
       "      <td>0.68</td>\n",
       "      <td>9.8</td>\n",
       "      <td>5</td>\n",
       "    </tr>\n",
       "    <tr>\n",
       "      <th>2</th>\n",
       "      <td>7.8</td>\n",
       "      <td>0.76</td>\n",
       "      <td>0.04</td>\n",
       "      <td>2.3</td>\n",
       "      <td>0.092</td>\n",
       "      <td>15.0</td>\n",
       "      <td>54.0</td>\n",
       "      <td>0.9970</td>\n",
       "      <td>3.26</td>\n",
       "      <td>0.65</td>\n",
       "      <td>9.8</td>\n",
       "      <td>5</td>\n",
       "    </tr>\n",
       "    <tr>\n",
       "      <th>3</th>\n",
       "      <td>11.2</td>\n",
       "      <td>0.28</td>\n",
       "      <td>0.56</td>\n",
       "      <td>1.9</td>\n",
       "      <td>0.075</td>\n",
       "      <td>17.0</td>\n",
       "      <td>60.0</td>\n",
       "      <td>0.9980</td>\n",
       "      <td>3.16</td>\n",
       "      <td>0.58</td>\n",
       "      <td>9.8</td>\n",
       "      <td>6</td>\n",
       "    </tr>\n",
       "    <tr>\n",
       "      <th>4</th>\n",
       "      <td>7.4</td>\n",
       "      <td>0.70</td>\n",
       "      <td>0.00</td>\n",
       "      <td>1.9</td>\n",
       "      <td>0.076</td>\n",
       "      <td>11.0</td>\n",
       "      <td>34.0</td>\n",
       "      <td>0.9978</td>\n",
       "      <td>3.51</td>\n",
       "      <td>0.56</td>\n",
       "      <td>9.4</td>\n",
       "      <td>5</td>\n",
       "    </tr>\n",
       "  </tbody>\n",
       "</table>\n",
       "</div>"
      ],
      "text/plain": [
       "   fixed acidity  volatile acidity  citric acid  residual sugar  chlorides  \\\n",
       "0            7.4              0.70         0.00             1.9      0.076   \n",
       "1            7.8              0.88         0.00             2.6      0.098   \n",
       "2            7.8              0.76         0.04             2.3      0.092   \n",
       "3           11.2              0.28         0.56             1.9      0.075   \n",
       "4            7.4              0.70         0.00             1.9      0.076   \n",
       "\n",
       "   free sulfur dioxide  total sulfur dioxide  density    pH  sulphates  \\\n",
       "0                 11.0                  34.0   0.9978  3.51       0.56   \n",
       "1                 25.0                  67.0   0.9968  3.20       0.68   \n",
       "2                 15.0                  54.0   0.9970  3.26       0.65   \n",
       "3                 17.0                  60.0   0.9980  3.16       0.58   \n",
       "4                 11.0                  34.0   0.9978  3.51       0.56   \n",
       "\n",
       "   alcohol  quality  \n",
       "0      9.4        5  \n",
       "1      9.8        5  \n",
       "2      9.8        5  \n",
       "3      9.8        6  \n",
       "4      9.4        5  "
      ]
     },
     "execution_count": 3,
     "metadata": {},
     "output_type": "execute_result"
    }
   ],
   "source": [
    "# Assign the URL of the file to the variable url.\n",
    "url = \"https://assets.datacamp.com/production/course_1606/datasets/winequality-red.csv\"\n",
    "\n",
    "# Read file into a DataFrame\n",
    "wine_quality = pd.read_csv(url, sep=\";\")\n",
    "\n",
    "# Print the head of the DataFrame\n",
    "wine_quality.head()"
   ]
  },
  {
   "cell_type": "code",
   "execution_count": 4,
   "id": "4bb7ed7c",
   "metadata": {},
   "outputs": [
    {
     "data": {
      "image/png": "[encoded data removed]",
      "text/plain": [
       "<Figure size 640x480 with 1 Axes>"
      ]
     },
     "metadata": {},
     "output_type": "display_data"
    }
   ],
   "source": [
    "first_column_wine = wine_quality.iloc[:, 0]\n",
    "# Plot first column of wine_quality\n",
    "fig, ax = plt.subplots()\n",
    "\n",
    "sns.histplot(x=first_column_wine, data=wine_quality, kde=True, color=\"darkred\", ax=ax)\n",
    "\n",
    "ax.grid(True, zorder=True, alpha=0.7, color=\"gray\")\n",
    "ax.set_axisbelow(True)\n",
    "\n",
    "ax.set(xlabel=\"Fixed Acidity\", ylabel=\"Frequency\", title=\"Distribution of Fixed Acidity\")\n",
    "\n",
    "plt.tight_layout()\n",
    "plt.show()"
   ]
  },
  {
   "cell_type": "markdown",
   "id": "fadaa8fc",
   "metadata": {},
   "source": [
    "### Importing non-flat files from the web\n",
    "In this interactive exercise, you'll use pd.read_excel() to import an Excel spreadsheet.\n",
    "\n",
    "The URL of the spreadsheet is\n",
    "`'https://assets.datacamp.com/course/importing_data_into_r/latitude.xls'`\n",
    "Your job is to use `pd.read_excel()` to read in all of its sheets, print the sheet names and then print the head of the first sheet using its name, not its index.\n",
    "\n",
    "Note that the output of `pd.read_excel()` is a Python dictionary with sheet names as keys and corresponding DataFrames as corresponding values."
   ]
  },
  {
   "cell_type": "code",
   "execution_count": 5,
   "id": "f32bb569",
   "metadata": {},
   "outputs": [
    {
     "name": "stdout",
     "output_type": "stream",
     "text": [
      "dict_keys(['1700', '1900'])\n"
     ]
    }
   ],
   "source": [
    "# Assign the URL of the file to the variable url.\n",
    "url = \"https://assets.datacamp.com/course/importing_data_into_r/latitude.xls\"\n",
    "\n",
    "# Read the file in url into a dictionary xls using pd.read_excel() recalling that, in order to import all sheets you need to pass None to the argument sheet_name.\n",
    "latitude = pd.read_excel(url, sheet_name=None)\n",
    "\n",
    "# Print the names of the sheets in the Excel spreadsheet; these will be the keys of the dictionary xls.\n",
    "print(latitude.keys())"
   ]
  },
  {
   "cell_type": "code",
   "execution_count": 6,
   "id": "5b78a5e8",
   "metadata": {},
   "outputs": [
    {
     "data": {
      "application/vnd.microsoft.datawrangler.viewer.v0+json": {
       "columns": [
        {
         "name": "index",
         "rawType": "int64",
         "type": "integer"
        },
        {
         "name": "country",
         "rawType": "object",
         "type": "string"
        },
        {
         "name": "1700",
         "rawType": "float64",
         "type": "float"
        }
       ],
       "ref": "5055fc11-8310-4951-8fd2-6be712550a02",
       "rows": [
        [
         "0",
         "Afghanistan",
         "34.565"
        ],
        [
         "1",
         "Akrotiri and Dhekelia",
         "34.6166666666667"
        ],
        [
         "2",
         "Albania",
         "41.312"
        ],
        [
         "3",
         "Algeria",
         "36.72"
        ],
        [
         "4",
         "American Samoa",
         "-14.307"
        ],
        [
         "5",
         "Andorra",
         "42.546"
        ],
        [
         "6",
         "Angola",
         "-8.843"
        ],
        [
         "7",
         "Anguilla",
         "18.25"
        ],
        [
         "8",
         "Antigua and Barbuda",
         "17.072"
        ],
        [
         "9",
         "Argentina",
         "-36.676"
        ],
        [
         "10",
         "Armenia",
         "40.254"
        ],
        [
         "11",
         "Aruba",
         "12.513"
        ],
        [
         "12",
         "Australia",
         "-32.219"
        ],
        [
         "13",
         "Austria",
         "48.231"
        ],
        [
         "14",
         "Azerbaijan",
         "40.352"
        ],
        [
         "15",
         "Bahamas",
         "24.7"
        ],
        [
         "16",
         "Bahrain",
         "26.024"
        ],
        [
         "17",
         "Bangladesh",
         "23.88"
        ],
        [
         "18",
         "Barbados",
         "13.179"
        ],
        [
         "19",
         "Belarus",
         "53.54709"
        ],
        [
         "20",
         "Belgium",
         "50.837"
        ],
        [
         "21",
         "Belize",
         "17.843"
        ],
        [
         "22",
         "Benin",
         "6.364"
        ],
        [
         "23",
         "Bermuda",
         "32.217"
        ],
        [
         "24",
         "Bhutan",
         "27.479"
        ],
        [
         "25",
         "Bolivia",
         "-15.19"
        ],
        [
         "26",
         "Bosnia and Herzegovina",
         "44.17501"
        ],
        [
         "27",
         "Botswana",
         "-21.536"
        ],
        [
         "28",
         "Brazil",
         "-19.557"
        ],
        [
         "29",
         "British Virgin Islands",
         "18.5"
        ],
        [
         "30",
         "Brunei",
         "4.501"
        ],
        [
         "31",
         "Bulgaria",
         "42.073"
        ],
        [
         "32",
         "Burkina Faso",
         "12.049"
        ],
        [
         "33",
         "Burundi",
         "-3.365"
        ],
        [
         "34",
         "Cambodia",
         "12.026"
        ],
        [
         "35",
         "Cameroon",
         "10.73"
        ],
        [
         "36",
         "Canada",
         "43.727"
        ],
        [
         "37",
         "Cape Verde",
         "15.091"
        ],
        [
         "38",
         "Cayman Islands",
         "19.319"
        ],
        [
         "39",
         "Central African Rep.",
         "4.331"
        ],
        [
         "40",
         "Chad",
         "10.377"
        ],
        [
         "41",
         "Channel Islands",
         "49.217"
        ],
        [
         "42",
         "Chile",
         "-33.554"
        ],
        [
         "43",
         "China",
         "29.561"
        ],
        [
         "44",
         "Christmas Island",
         "-10.5"
        ],
        [
         "45",
         "Cocos Island",
         "-12.5"
        ],
        [
         "46",
         "Colombia",
         "4.788"
        ],
        [
         "47",
         "Comoros",
         "-11.671"
        ],
        [
         "48",
         "Congo, Dem. Rep.",
         "-2.920276"
        ],
        [
         "49",
         "Congo, Rep.",
         "-3.684"
        ]
       ],
       "shape": {
        "columns": 2,
        "rows": 246
       }
      },
      "text/html": [
       "<div>\n",
       "<style scoped>\n",
       "    .dataframe tbody tr th:only-of-type {\n",
       "        vertical-align: middle;\n",
       "    }\n",
       "\n",
       "    .dataframe tbody tr th {\n",
       "        vertical-align: top;\n",
       "    }\n",
       "\n",
       "    .dataframe thead th {\n",
       "        text-align: right;\n",
       "    }\n",
       "</style>\n",
       "<table border=\"1\" class=\"dataframe\">\n",
       "  <thead>\n",
       "    <tr style=\"text-align: right;\">\n",
       "      <th></th>\n",
       "      <th>country</th>\n",
       "      <th>1700</th>\n",
       "    </tr>\n",
       "  </thead>\n",
       "  <tbody>\n",
       "    <tr>\n",
       "      <th>0</th>\n",
       "      <td>Afghanistan</td>\n",
       "      <td>34.565000</td>\n",
       "    </tr>\n",
       "    <tr>\n",
       "      <th>1</th>\n",
       "      <td>Akrotiri and Dhekelia</td>\n",
       "      <td>34.616667</td>\n",
       "    </tr>\n",
       "    <tr>\n",
       "      <th>2</th>\n",
       "      <td>Albania</td>\n",
       "      <td>41.312000</td>\n",
       "    </tr>\n",
       "    <tr>\n",
       "      <th>3</th>\n",
       "      <td>Algeria</td>\n",
       "      <td>36.720000</td>\n",
       "    </tr>\n",
       "    <tr>\n",
       "      <th>4</th>\n",
       "      <td>American Samoa</td>\n",
       "      <td>-14.307000</td>\n",
       "    </tr>\n",
       "    <tr>\n",
       "      <th>...</th>\n",
       "      <td>...</td>\n",
       "      <td>...</td>\n",
       "    </tr>\n",
       "    <tr>\n",
       "      <th>241</th>\n",
       "      <td>Yemen, Rep.</td>\n",
       "      <td>15.228000</td>\n",
       "    </tr>\n",
       "    <tr>\n",
       "      <th>242</th>\n",
       "      <td>Yugoslavia</td>\n",
       "      <td>NaN</td>\n",
       "    </tr>\n",
       "    <tr>\n",
       "      <th>243</th>\n",
       "      <td>Zambia</td>\n",
       "      <td>-12.942000</td>\n",
       "    </tr>\n",
       "    <tr>\n",
       "      <th>244</th>\n",
       "      <td>Zimbabwe</td>\n",
       "      <td>-17.876000</td>\n",
       "    </tr>\n",
       "    <tr>\n",
       "      <th>245</th>\n",
       "      <td>Åland</td>\n",
       "      <td>60.000000</td>\n",
       "    </tr>\n",
       "  </tbody>\n",
       "</table>\n",
       "<p>246 rows × 2 columns</p>\n",
       "</div>"
      ],
      "text/plain": [
       "                   country       1700\n",
       "0              Afghanistan  34.565000\n",
       "1    Akrotiri and Dhekelia  34.616667\n",
       "2                  Albania  41.312000\n",
       "3                  Algeria  36.720000\n",
       "4           American Samoa -14.307000\n",
       "..                     ...        ...\n",
       "241            Yemen, Rep.  15.228000\n",
       "242             Yugoslavia        NaN\n",
       "243                 Zambia -12.942000\n",
       "244               Zimbabwe -17.876000\n",
       "245                  Åland  60.000000\n",
       "\n",
       "[246 rows x 2 columns]"
      ]
     },
     "metadata": {},
     "output_type": "display_data"
    }
   ],
   "source": [
    "# Print the head of the first sheet (using its name, NOT its index)\n",
    "display(latitude[\"1700\"])"
   ]
  },
  {
   "cell_type": "markdown",
   "id": "9561b83b",
   "metadata": {},
   "source": [
    "### Performing HTTP requests in Python using urllib\n",
    "Now that you know the basics behind HTTP GET requests, it's time to perform some of your own. In this interactive exercise, you will ping our very own DataCamp servers to perform a GET request to extract information from the first coding exercise of this course, `\"https://campus.datacamp.com/courses/1606/4135?ex=2\"`."
   ]
  },
  {
   "cell_type": "code",
   "execution_count": 7,
   "id": "498068ce",
   "metadata": {},
   "outputs": [
    {
     "name": "stdout",
     "output_type": "stream",
     "text": [
      "<class 'http.client.HTTPResponse'>\n"
     ]
    }
   ],
   "source": [
    "# Import the functions urlopen and Request from the subpackage urllib.request.\n",
    "from urllib.request import urlopen, Request\n",
    "\n",
    "# Specify the url\n",
    "url = \"https://campus.datacamp.com/courses/1606/4135?ex=2\"\n",
    "\n",
    "# Send the request and catch the response in the variable response with the function urlopen().\n",
    "request = Request(url)\n",
    "\n",
    "# Sends the request and catches the response: response\n",
    "response = urlopen(request)\n",
    "\n",
    "# Run the rest of the code to see the datatype of response and to close the connection!\n",
    "print(type(response))\n",
    "\n",
    "# Close the response!\n",
    "response.close()"
   ]
  },
  {
   "cell_type": "code",
   "execution_count": 8,
   "id": "50f840f8",
   "metadata": {},
   "outputs": [],
   "source": [
    "# Specify the url\n",
    "url = \"https://campus.datacamp.com/courses/1606/4135?ex=2\"\n",
    "\n",
    "# This packages the request\n",
    "request = Request(url)\n",
    "\n",
    "# Sends the request and catches the response: response\n",
    "response = urlopen(request)\n",
    "\n",
    "# Extract the response: html\n",
    "html = response.read()\n",
    "\n",
    "# Print the html\n",
    "# print(html)\n",
    "\n",
    "# Be polite and close the response!\n",
    "response.close()"
   ]
  },
  {
   "cell_type": "markdown",
   "id": "7e41a526",
   "metadata": {},
   "source": [
    "### Performing HTTP requests in Python using requests\n",
    "Now that you've got your head and hands around making HTTP requests using the urllib package, you're going to figure out how to do the same using the higher-level requests library. You'll once again be pinging DataCamp servers for their `\"http://www.datacamp.com/teach/documentation\"` page.\n",
    "\n",
    "Note that unlike in the previous exercises using urllib, you don't have to close the connection when using requests!"
   ]
  },
  {
   "cell_type": "code",
   "execution_count": 9,
   "id": "635dd207",
   "metadata": {},
   "outputs": [],
   "source": [
    "# Import the package requests.\n",
    "import requests\n",
    "\n",
    "# Assign the URL of interest to the variable url.\n",
    "url = \"http://www.datacamp.com/teach/documentation\"\n",
    "\n",
    "# Packages the request, send the request and catch the response: r\n",
    "r = requests.get(url)\n",
    "\n",
    "# Extract the response: text\n",
    "text = r.text\n",
    "\n",
    "# Print the html\n",
    "# print(text)"
   ]
  },
  {
   "cell_type": "markdown",
   "id": "0bd2b604",
   "metadata": {},
   "source": [
    "### Parsing HTML with BeautifulSoup\n",
    "In this interactive exercise, you'll learn how to use the BeautifulSoup package to parse, prettify and extract information from HTML. You'll scrape the data from the webpage of Guido van Rossum, Python's very own **Benevolent Dictator for Life**. In the following exercises, you'll prettify the HTML and then extract the text and the hyperlinks.\n",
    "\n",
    "The URL of interest is `url = 'https://www.python.org/~guido/'`."
   ]
  },
  {
   "cell_type": "code",
   "execution_count": 10,
   "id": "a1634ef6",
   "metadata": {},
   "outputs": [
    {
     "name": "stdout",
     "output_type": "stream",
     "text": [
      "<html>\n",
      " <head>\n",
      "  <title>\n",
      "   Guido's Personal Home Page\n",
      "  </title>\n",
      " </head>\n",
      " <body bgcolor=\"#FFFFFF\" text=\"#000000\">\n",
      "  <!-- Built from main -->\n",
      "  <h1>\n",
      "   <a href=\"pics.html\">\n",
      "    <img border=\"0\" src=\"images/IMG_2192.jpg\"/>\n",
      "   </a>\n",
      "   Guido van Rossum - Personal Home Page\n",
      "   <a href=\"pics.html\">\n",
      "    <img border=\"0\" height=\"216\" src=\"images/guido-headshot-2019.jpg\" width=\"270\"/>\n",
      "   </a>\n",
      "  </h1>\n",
      "  <p>\n",
      "   <a href=\"http://www.washingtonpost.com/wp-srv/business/longterm/microsoft/stories/1998/raymond120398.htm\">\n",
      "    <i>\n",
      "     \"Gawky and proud of it.\"\n",
      "    </i>\n",
      "   </a>\n",
      "   <h3>\n",
      "    <a href=\"images/df20000406.jpg\">\n",
      "     Who I Am\n",
      "    </a>\n",
      "   </h3>\n",
      "   <p>\n",
      "    Read\n",
      "my\n",
      "    <a href=\"http://neopythonic.blogspot.com/2016/04/kings-day-speech.html\">\n",
      "     \"King's\n",
      "Day Speech\"\n",
      "    </a>\n",
      "    for some inspiration.\n",
      "    <p>\n",
      "     I am the author of the\n",
      "     <a href=\"http://www.python.org\">\n",
      "      Python\n",
      "     </a>\n",
      "     programming language.  See also my\n",
      "     <a href=\"Resume.html\">\n",
      "      resume\n",
      "     </a>\n",
      "     and my\n",
      "     <a href=\"Publications.html\">\n",
      "      publications list\n",
      "     </a>\n",
      "     , a\n",
      "     <a href=\"bio.html\">\n",
      "      brief bio\n",
      "     </a>\n",
      "     , assorted\n",
      "     <a href=\"http://legacy.python.org/doc/essays/\">\n",
      "      writings\n",
      "     </a>\n",
      "     ,\n",
      "     <a href=\"http://legacy.python.org/doc/essays/ppt/\">\n",
      "      presentations\n",
      "     </a>\n",
      "     and\n",
      "     <a href=\"interviews.html\">\n",
      "      interviews\n",
      "     </a>\n",
      "     (all about Python), some\n",
      "     <a href=\"pics.html\">\n",
      "      pictures of me\n",
      "     </a>\n",
      "     ,\n",
      "     <a href=\"http://neopythonic.blogspot.com\">\n",
      "      my new blog\n",
      "     </a>\n",
      "     , and\n",
      "my\n",
      "     <a href=\"http://www.artima.com/weblogs/index.jsp?blogger=12088\">\n",
      "      old\n",
      "blog\n",
      "     </a>\n",
      "     on Artima.com.  I am\n",
      "     <a href=\"https://twitter.com/gvanrossum\">\n",
      "      @gvanrossum\n",
      "     </a>\n",
      "     on Twitter.\n",
      "     <p>\n",
      "      I am currently a Distinguished Engineer at Microsoft.\n",
      "I have worked for Dropbox, Google, Elemental Security, Zope\n",
      "Corporation, BeOpen.com, CNRI, CWI, and SARA.  (See\n",
      "my\n",
      "      <a href=\"Resume.html\">\n",
      "       resume\n",
      "      </a>\n",
      "      .)  I created Python while at CWI.\n",
      "      <h3>\n",
      "       How to Reach Me\n",
      "      </h3>\n",
      "      <p>\n",
      "       You can send email for me to guido (at) python.org.\n",
      "I read everything sent there, but I receive too much email to respond\n",
      "to everything.\n",
      "       <p>\n",
      "        Please understand that I do not give talks or keynotes any more,\n",
      "nor do I participate in podcasts or give interviews, etc.\n",
      "I am sorry, but I just receive too many such requests to decline\n",
      "them individually.\n",
      "Offering payment or trips to exotic locales just makes things worse, sorry.\n",
      "        <p>\n",
      "         I also prefer not to receive questions about how to use Python\n",
      "(please read the\n",
      "         <a href=\"https://docs.python.org\">\n",
      "          documentation\n",
      "         </a>\n",
      "         or search the internet for Python answers forums),\n",
      "bug reports (use the\n",
      "         <a href=\"https://github.com/python/cpython/issues\">\n",
      "          GitHub issue tracker\n",
      "         </a>\n",
      "         ),\n",
      "proposals for changes to the language (use\n",
      "         <a href=\"https://discuss.python.org\">\n",
      "          Discourse\n",
      "         </a>\n",
      "         ),\n",
      "job offers (I'm happy where I am),\n",
      "or requests to join you in some far-fetched scheme to save humanity (though sometimes I like me a good rant :-).\n",
      "         <h3>\n",
      "          My Name\n",
      "         </h3>\n",
      "         <p>\n",
      "          My name often poses difficulties for Americans.\n",
      "          <p>\n",
      "           <b>\n",
      "            Pronunciation:\n",
      "           </b>\n",
      "           in Dutch, the \"G\" in Guido is a hard G,\n",
      "pronounced roughly like the \"ch\" in Scottish \"loch\".  (Listen to the\n",
      "           <a href=\"guido.au\">\n",
      "            sound clip\n",
      "           </a>\n",
      "           .)  However, if you're\n",
      "American, you may also pronounce it as the Italian \"Guido\".  I'm not\n",
      "too worried about the associations with mob assassins that some people\n",
      "have. :-)\n",
      "           <p>\n",
      "            <b>\n",
      "             Spelling:\n",
      "            </b>\n",
      "            my last name is two words, and I'd like to keep it\n",
      "that way, the spelling on some of my credit cards notwithstanding.\n",
      "Dutch spelling rules dictate that when used in combination with my\n",
      "first name, \"van\" is not capitalized: \"Guido van Rossum\".  But when my\n",
      "last name is used alone to refer to me, it is capitalized, for\n",
      "example: \"As usual, Van Rossum was right.\"\n",
      "            <p>\n",
      "             <b>\n",
      "              Alphabetization:\n",
      "             </b>\n",
      "             in America, I show up in the alphabet under\n",
      "\"V\".  But in Europe, I show up under \"R\".  And some of my friends put\n",
      "me under \"G\" in their address book...\n",
      "             <h3>\n",
      "              More Hyperlinks\n",
      "             </h3>\n",
      "             <ul>\n",
      "              <li>\n",
      "               Here's a collection of\n",
      "               <a href=\"http://legacy.python.org/doc/essays/\">\n",
      "                essays\n",
      "               </a>\n",
      "               relating to Python\n",
      "that I've written, including the foreword I wrote for Mark Lutz' book\n",
      "\"Programming Python\".\n",
      "               <p>\n",
      "                <li>\n",
      "                 I own the official\n",
      "                 <a href=\"images/license.jpg\">\n",
      "                  <img align=\"center\" border=\"0\" height=\"75\" src=\"images/license_thumb.jpg\" width=\"100\"/>\n",
      "                  Python license.\n",
      "                 </a>\n",
      "                 <p>\n",
      "                 </p>\n",
      "                </li>\n",
      "               </p>\n",
      "              </li>\n",
      "             </ul>\n",
      "             <h3>\n",
      "              The Audio File Formats FAQ\n",
      "             </h3>\n",
      "             <p>\n",
      "              I was the original creator and maintainer of the Audio File Formats\n",
      "FAQ.  It was later maintained by Chris Bagwell, but seems to have been\n",
      "lost.  You can still find it on\n",
      "              <a href=\"https://web.archive.org/\">\n",
      "               archive.org\n",
      "              </a>\n",
      "              by searching for\n",
      "              <a href=\"https://web.archive.org/web/20230627131911/http://www.cnpbagwell.com/audio-faq\">\n",
      "               http://www.cnpbagwell.com/audio-faq\n",
      "              </a>\n",
      "              .  And here is a link to\n",
      "              <a href=\"http://sox.sourceforge.net/\">\n",
      "               SOX\n",
      "              </a>\n",
      "              , to which I contributed\n",
      "some early code.\n",
      "              <hr/>\n",
      "              <a href=\"images/internetdog.gif\">\n",
      "               \"On the Internet, nobody knows you're\n",
      "a dog.\"\n",
      "              </a>\n",
      "              <hr/>\n",
      "             </p>\n",
      "            </p>\n",
      "           </p>\n",
      "          </p>\n",
      "         </p>\n",
      "        </p>\n",
      "       </p>\n",
      "      </p>\n",
      "     </p>\n",
      "    </p>\n",
      "   </p>\n",
      "  </p>\n",
      " </body>\n",
      "</html>\n",
      "\n"
     ]
    }
   ],
   "source": [
    "# Import the function BeautifulSoup from the package bs4.\n",
    "from bs4 import BeautifulSoup\n",
    "\n",
    "# Assign the URL of interest to the variable url.\n",
    "url = \"https://www.python.org/~guido/\"\n",
    "\n",
    "# Package the request to the URL, send the request and catch the response with a single function requests.get(), assigning the response to the variable r.\n",
    "r = requests.get(url)\n",
    "\n",
    "# Use the text attribute of the object r to return the HTML of the webpage as a string; store the result in a variable html_doc.\n",
    "html_doc = r.text\n",
    "\n",
    "# Create a BeautifulSoup object soup from the resulting HTML using the function BeautifulSoup().\n",
    "soup = BeautifulSoup(html_doc)\n",
    "\n",
    "# Use the method prettify() on soup and assign the result to pretty_soup.\n",
    "pretty_soup = soup.prettify()\n",
    "\n",
    "# Print the response\n",
    "print(pretty_soup)"
   ]
  },
  {
   "cell_type": "markdown",
   "id": "eb632a47",
   "metadata": {},
   "source": [
    "### Turning a webpage into data using BeautifulSoup: getting the text\n",
    "As promised, in the following exercises, you'll learn the basics of extracting information from HTML soup. In this exercise, you'll figure out how to extract the text from the BDFL's webpage, along with printing the webpage's title."
   ]
  },
  {
   "cell_type": "code",
   "execution_count": 11,
   "id": "59a9ae44",
   "metadata": {},
   "outputs": [
    {
     "name": "stdout",
     "output_type": "stream",
     "text": [
      "<title>Guido's Personal Home Page</title>\n"
     ]
    }
   ],
   "source": [
    "# Extract the title from the HTML soup soup using the attribute title and assign the result to guido_title.\n",
    "guido_title = soup.title\n",
    "\n",
    "# Print the title of Guido's webpage to the shell using the print() function.\n",
    "print(guido_title)"
   ]
  },
  {
   "cell_type": "code",
   "execution_count": 12,
   "id": "24a80565",
   "metadata": {},
   "outputs": [
    {
     "name": "stdout",
     "output_type": "stream",
     "text": [
      "\n",
      "\n",
      "Guido's Personal Home Page\n",
      "\n",
      "\n",
      "\n",
      "\n",
      "\n",
      "Guido van Rossum - Personal Home Page\n",
      "\n",
      "\n",
      "\"Gawky and proud of it.\"\n",
      "Who I Am\n",
      "Read\n",
      "my \"King's\n",
      "Day Speech\" for some inspiration.\n",
      "\n",
      "I am the author of the Python\n",
      "programming language.  See also my resume\n",
      "and my publications list, a brief bio, assorted writings, presentations and interviews (all about Python), some\n",
      "pictures of me,\n",
      "my new blog, and\n",
      "my old\n",
      "blog on Artima.com.  I am\n",
      "@gvanrossum on Twitter.\n",
      "\n",
      "I am currently a Distinguished Engineer at Microsoft.\n",
      "I have worked for Dropbox, Google, Elemental Security, Zope\n",
      "Corporation, BeOpen.com, CNRI, CWI, and SARA.  (See\n",
      "my resume.)  I created Python while at CWI.\n",
      "\n",
      "How to Reach Me\n",
      "You can send email for me to guido (at) python.org.\n",
      "I read everything sent there, but I receive too much email to respond\n",
      "to everything.\n",
      "\n",
      "Please understand that I do not give talks or keynotes any more,\n",
      "nor do I participate in podcasts or give interviews, etc.\n",
      "I am sorry, but I just receive too many such requests to decline\n",
      "them individually.\n",
      "Offering payment or trips to exotic locales just makes things worse, sorry.\n",
      "\n",
      "I also prefer not to receive questions about how to use Python\n",
      "(please read the documentation or search the internet for Python answers forums),\n",
      "bug reports (use the GitHub issue tracker),\n",
      "proposals for changes to the language (use Discourse),\n",
      "job offers (I'm happy where I am),\n",
      "or requests to join you in some far-fetched scheme to save humanity (though sometimes I like me a good rant :-).\n",
      "\n",
      "My Name\n",
      "My name often poses difficulties for Americans.\n",
      "\n",
      "Pronunciation: in Dutch, the \"G\" in Guido is a hard G,\n",
      "pronounced roughly like the \"ch\" in Scottish \"loch\".  (Listen to the\n",
      "sound clip.)  However, if you're\n",
      "American, you may also pronounce it as the Italian \"Guido\".  I'm not\n",
      "too worried about the associations with mob assassins that some people\n",
      "have. :-)\n",
      "\n",
      "Spelling: my last name is two words, and I'd like to keep it\n",
      "that way, the spelling on some of my credit cards notwithstanding.\n",
      "Dutch spelling rules dictate that when used in combination with my\n",
      "first name, \"van\" is not capitalized: \"Guido van Rossum\".  But when my\n",
      "last name is used alone to refer to me, it is capitalized, for\n",
      "example: \"As usual, Van Rossum was right.\"\n",
      "\n",
      "Alphabetization: in America, I show up in the alphabet under\n",
      "\"V\".  But in Europe, I show up under \"R\".  And some of my friends put\n",
      "me under \"G\" in their address book...\n",
      "\n",
      "\n",
      "More Hyperlinks\n",
      "\n",
      "Here's a collection of essays relating to Python\n",
      "that I've written, including the foreword I wrote for Mark Lutz' book\n",
      "\"Programming Python\".\n",
      "I own the official \n",
      "Python license.\n",
      "\n",
      "The Audio File Formats FAQ\n",
      "I was the original creator and maintainer of the Audio File Formats\n",
      "FAQ.  It was later maintained by Chris Bagwell, but seems to have been\n",
      "lost.  You can still find it on\n",
      "archive.org by searching for\n",
      "http://www.cnpbagwell.com/audio-faq.  And here is a link to\n",
      "SOX, to which I contributed\n",
      "some early code.\n",
      "\n",
      "\n",
      "\n",
      "\"On the Internet, nobody knows you're\n",
      "a dog.\"\n",
      "\n",
      "\n",
      "\n"
     ]
    }
   ],
   "source": [
    "# Extract the text from the HTML soup soup using the method get_text() and assign to guido_text.\n",
    "guido_text = soup.get_text()\n",
    "\n",
    "# Print Guido's text to the shell\n",
    "print(guido_text)"
   ]
  },
  {
   "cell_type": "markdown",
   "id": "4c75cd1c",
   "metadata": {},
   "source": [
    "### Turning a webpage into data using BeautifulSoup: getting the hyperlinks\n",
    "In this exercise, you'll figure out how to extract the URLs of the hyperlinks from the BDFL's webpage. In the process, you'll become close friends with the soup method `find_all()`."
   ]
  },
  {
   "cell_type": "code",
   "execution_count": 13,
   "id": "d5e6b088",
   "metadata": {},
   "outputs": [
    {
     "name": "stdout",
     "output_type": "stream",
     "text": [
      "pics.html\n",
      "pics.html\n",
      "http://www.washingtonpost.com/wp-srv/business/longterm/microsoft/stories/1998/raymond120398.htm\n",
      "images/df20000406.jpg\n",
      "http://neopythonic.blogspot.com/2016/04/kings-day-speech.html\n",
      "http://www.python.org\n",
      "Resume.html\n",
      "Publications.html\n",
      "bio.html\n",
      "http://legacy.python.org/doc/essays/\n",
      "http://legacy.python.org/doc/essays/ppt/\n",
      "interviews.html\n",
      "pics.html\n",
      "http://neopythonic.blogspot.com\n",
      "http://www.artima.com/weblogs/index.jsp?blogger=12088\n",
      "https://twitter.com/gvanrossum\n",
      "Resume.html\n",
      "https://docs.python.org\n",
      "https://github.com/python/cpython/issues\n",
      "https://discuss.python.org\n",
      "guido.au\n",
      "http://legacy.python.org/doc/essays/\n",
      "images/license.jpg\n",
      "https://web.archive.org/\n",
      "https://web.archive.org/web/20230627131911/http://www.cnpbagwell.com/audio-faq\n",
      "http://sox.sourceforge.net/\n",
      "images/internetdog.gif\n"
     ]
    }
   ],
   "source": [
    "# Use the method find_all() to find all hyperlinks in soup, remembering that hyperlinks are defined by the HTML tag <a> but passed to find_all() without angle brackets; store the result in the variable a_tags.\n",
    "a_tags = soup.find_all(\"a\")\n",
    "\n",
    "# The variable a_tags is a results set: your job now is to enumerate over it, using a for loop and to print the actual URLs of the hyperlinks; to do this, for every element link in a_tags, you want to print() link.get('href').\n",
    "for link in a_tags:\n",
    "    print(link.get(\"href\"))"
   ]
  },
  {
   "cell_type": "markdown",
   "id": "fd14be5b",
   "metadata": {},
   "source": [
    "### Loading and exploring a JSON\n",
    "Here, we'll load the JSON `'a_movie.json'` into the variable `json_data`, which will be a dictionary. WE'll then explore the JSON contents by printing the key-value pairs of json_data to the shell."
   ]
  },
  {
   "cell_type": "code",
   "execution_count": 14,
   "id": "6160e2f9",
   "metadata": {},
   "outputs": [
    {
     "name": "stdout",
     "output_type": "stream",
     "text": [
      "Title : The Social Network\n",
      "Year : 2010\n",
      "Rated : PG-13\n",
      "Released : 01 Oct 2010\n",
      "Runtime : 120 min\n",
      "Genre : Biography, Drama\n",
      "Director : David Fincher\n",
      "Writer : Aaron Sorkin, Ben Mezrich\n",
      "Actors : Jesse Eisenberg, Andrew Garfield, Justin Timberlake\n",
      "Plot : As Harvard student Mark Zuckerberg creates the social networking site that would become known as Facebook, he is sued by the twins who claimed he stole their idea and by the co-founder who was later squeezed out of the business.\n",
      "Language : English, French\n",
      "Country : United States\n",
      "Awards : Won 3 Oscars. 174 wins & 188 nominations total\n",
      "Poster : https://m.media-amazon.com/images/M/MV5BMjlkNTE5ZTUtNGEwNy00MGVhLThmZjMtZjU1NDE5Zjk1NDZkXkEyXkFqcGc@._V1_SX300.jpg\n",
      "Ratings : [{'Source': 'Internet Movie Database', 'Value': '7.8/10'}, {'Source': 'Rotten Tomatoes', 'Value': '96%'}, {'Source': 'Metacritic', 'Value': '95/100'}]\n",
      "Metascore : 95\n",
      "imdbRating : 7.8\n",
      "imdbVotes : 792,923\n",
      "imdbID : tt1285016\n",
      "Type : movie\n",
      "DVD : N/A\n",
      "BoxOffice : $96,962,694\n",
      "Production : N/A\n",
      "Website : N/A\n",
      "Response : True\n"
     ]
    }
   ],
   "source": [
    "# Import the package\n",
    "import json\n",
    "\n",
    "# Load the JSON 'a_movie.json' into the variable json_data within the context provided by the with statement. To do so, use the function json.load() within the context manager.\n",
    "with open(\"data/a_movie.json\", \"r\") as json_file:\n",
    "    json_data = json.load(json_file)\n",
    "\n",
    "# Print each key-value pair in json_data\n",
    "for key, value in json_data.items():\n",
    "    print(f\"{key} : {value}\")"
   ]
  },
  {
   "cell_type": "code",
   "execution_count": null,
   "id": "1e6004cb",
   "metadata": {},
   "outputs": [],
   "source": []
  }
 ],
 "metadata": {
  "kernelspec": {
   "display_name": "datacamp",
   "language": "python",
   "name": "python3"
  },
  "language_info": {
   "codemirror_mode": {
    "name": "ipython",
    "version": 3
   },
   "file_extension": ".py",
   "mimetype": "text/x-python",
   "name": "python",
   "nbconvert_exporter": "python",
   "pygments_lexer": "ipython3",
   "version": "3.12.7"
  }
 },
 "nbformat": 4,
 "nbformat_minor": 5
}
