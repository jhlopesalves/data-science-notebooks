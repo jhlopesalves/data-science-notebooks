{
 "cells": [
  {
   "cell_type": "markdown",
   "id": "fe5dee41",
   "metadata": {},
   "source": [
    "## Introduction to Python Data Types and Lists\n",
    "\n",
    "\n",
    "Understanding **data types** is foundational in Python programming, particularly in data science. Python’s data type system defines what kind of values can be stored, how they behave, and how operations are performed upon them. Mastering data types enables clearer reasoning, robust code design, and efficient data manipulation—essential skills for any data scientist.\n",
    "\n",
    "\n",
    "### Container Sequences: Theory and Principles\n",
    "\n",
    "**Container sequences** are data structures designed to store and manage collections of other objects (such as numbers, strings, or even other sequences). They provide powerful mechanisms for aggregation, organisation, sorting, and iteration.\n",
    "\n",
    "### Key Properties of Container Sequences:\n",
    "- **Mutable vs Immutable**:\n",
    "  - *Mutable*: Contents can change after creation (e.g., lists, sets, dictionaries).\n",
    "  - *Immutable*: Contents cannot change after creation (e.g., tuples, strings).\n",
    "- **Iterability**:\n",
    "  - Support iteration (looping), enabling systematic data processing.\n",
    "- **Ordering**:\n",
    "  - Some container types (lists, tuples) maintain a defined order of elements.\n",
    "\n",
    "\n",
    "### Lists: Fundamentals and Characteristics\n",
    "\n",
    "Lists in Python are one of the most versatile and frequently used container types.\n",
    "\n",
    "#### Essential Properties:\n",
    "- **Mutable**: You can add, remove, and modify elements freely.\n",
    "- **Ordered**: Lists preserve the order of insertion, allowing reliable indexing.\n",
    "- **Dynamic**: Lists can grow or shrink as needed.\n",
    "\n",
    "#### Syntax Example:\n",
    "```python\n",
    "list_example = [element1, element2, element3]\n",
    "```\n",
    "\n",
    "### Accessing List Elements: Indexing Basics\n",
    "\n",
    "List indexing uses integer positions, starting at **0** (the first element):\n",
    "\n",
    "```python\n",
    "my_list = [\"item1\", \"item2\", \"item3\"]\n",
    "print(my_list[1])  # Outputs: item2\n",
    "```\n",
    "\n",
    "#### Negative indexing:\n",
    "```python\n",
    "print(my_list[-1])  # Outputs: item3 (last item)\n",
    "```\n",
    "\n",
    "\n",
    "### Adding Elements: `.append()` Method\n",
    "\n",
    "- Adds a single new element at the end of a list.\n",
    "\n",
    "```python\n",
    "my_list.append(\"new_item\")\n",
    "print(my_list)\n",
    "# [\"item1\", \"item2\", \"item3\", \"new_item\"]\n",
    "```\n",
    "\n",
    "### Combining Lists: Concatenation and Extension\n",
    "\n",
    "Lists can be combined through **concatenation** (`+`) or **extension** (`.extend()`):\n",
    "\n",
    "#### Concatenation:\n",
    "- Creates a new combined list.\n",
    "```python\n",
    "list1 = [1, 2]\n",
    "list2 = [3, 4]\n",
    "combined_list = list1 + list2\n",
    "# combined_list: [1, 2, 3, 4]\n",
    "```\n",
    "\n",
    "#### Extension:\n",
    "- Adds elements from one list directly into another existing list.\n",
    "```python\n",
    "list1.extend(list2)\n",
    "# list1 is now: [1, 2, 3, 4]\n",
    "```\n",
    "\n",
    "### Locating Elements in Lists: `.index()` Method\n",
    "\n",
    "Use `.index()` to find an element’s position:\n",
    "\n",
    "```python\n",
    "position = my_list.index(\"item2\")\n",
    "print(position)\n",
    "# Outputs: 1\n",
    "```\n",
    "\n",
    "**Important**: `.index()` raises an error if the item isn't present—use cautiously or with `in` checks.\n",
    "\n",
    "### Removing Elements from Lists: `.pop()` Method\n",
    "\n",
    "`.pop()` removes and returns an element at a specific index (default is last element):\n",
    "\n",
    "```python\n",
    "removed_item = my_list.pop(1)\n",
    "print(removed_item)  # \"item2\"\n",
    "print(my_list)       # [\"item1\", \"item3\"]\n",
    "```\n",
    "\n",
    "- Efficiently supports operations such as stacks and queues.\n",
    "\n",
    "\n",
    "### Iterating Over Lists: List Comprehensions\n",
    "\n",
    "List comprehensions provide concise, efficient iteration and transformation:\n",
    "\n",
    "```python\n",
    "new_list = [operation(element) for element in original_list]\n",
    "```\n",
    "\n",
    "Example of capitalising all elements:\n",
    "```python\n",
    "capitalised_list = [item.title() for item in [\"apple\", \"banana\"]]\n",
    "# [\"Apple\", \"Banana\"]\n",
    "```\n",
    "\n",
    "- Concise syntax improves readability.\n",
    "- Performs better than traditional loops in many contexts.\n",
    "\n",
    "\n",
    "### Sorting Lists: `sorted()` vs `.sort()`\n",
    "\n",
    "Python provides two powerful methods for sorting:\n",
    "\n",
    "#### `sorted()` Function:\n",
    "- Returns a new, sorted list without changing the original.\n",
    "```python\n",
    "original_list = [\"b\", \"a\", \"c\"]\n",
    "sorted_list = sorted(original_list)\n",
    "# sorted_list: [\"a\", \"b\", \"c\"]\n",
    "# original_list remains unchanged\n",
    "```\n",
    "\n",
    "#### `.sort()` Method:\n",
    "- Modifies the original list directly (in-place).\n",
    "```python\n",
    "original_list.sort()\n",
    "# original_list: [\"a\", \"b\", \"c\"]\n",
    "```\n",
    "\n",
    "#### Sorting considerations:\n",
    "- Both can sort numerical and textual data.\n",
    "- `sorted()` is preferred when you need to retain the original list.\n",
    "- `.sort()` is efficient for large datasets when memory is a consideration.\n",
    "\n",
    "\n",
    "### Rationale of Lists\n",
    "\n",
    "- **Dynamic aggregation**: Lists effectively store and manipulate collections of data, fundamental in exploratory data analysis (EDA), simulation, and statistical computations.\n",
    "- **Sorting and ordering**: Essential for tasks like finding medians, percentiles, and performing group operations.\n",
    "- **Iteration efficiency**: List comprehensions facilitate powerful data transformations, optimising code readability and computational speed.\n",
    "\n",
    "\n",
    "Python lists are indispensable in data science workflows, underpinning tasks from data cleaning and transformation to algorithmic data processing. Mastering list operations enhances analytical rigour, computational efficiency, and code readability. As foundational building blocks, lists empower data scientists to systematically manage, manipulate, and derive insights from structured collections of data across any domain or context.\n"
   ]
  },
  {
   "cell_type": "code",
   "execution_count": 1,
   "id": "9b992b98",
   "metadata": {},
   "outputs": [],
   "source": [
    "import csv\n",
    "import os\n",
    "from pathlib import Path"
   ]
  },
  {
   "cell_type": "code",
   "execution_count": 2,
   "id": "e4031bc5",
   "metadata": {},
   "outputs": [],
   "source": [
    "# Acessing single items in list\n",
    "cookies = [\"chocolate chip\", \"peanut butter\", \"sugar\"]"
   ]
  },
  {
   "cell_type": "code",
   "execution_count": 3,
   "id": "57807270",
   "metadata": {},
   "outputs": [],
   "source": [
    "cookies.append(\"tirggel\")"
   ]
  },
  {
   "cell_type": "code",
   "execution_count": 4,
   "id": "383b6134",
   "metadata": {},
   "outputs": [
    {
     "name": "stdout",
     "output_type": "stream",
     "text": [
      "['chocolate chip', 'peanut butter', 'sugar', 'tirggel']\n"
     ]
    }
   ],
   "source": [
    "print(cookies)"
   ]
  },
  {
   "cell_type": "code",
   "execution_count": 5,
   "id": "ca165c32",
   "metadata": {},
   "outputs": [
    {
     "name": "stdout",
     "output_type": "stream",
     "text": [
      "sugar\n"
     ]
    }
   ],
   "source": [
    "print(cookies[2])"
   ]
  },
  {
   "cell_type": "code",
   "execution_count": 6,
   "id": "aa557518",
   "metadata": {},
   "outputs": [
    {
     "name": "stdout",
     "output_type": "stream",
     "text": [
      "['chocolate chip', 'peanut butter', 'sugar', 'tirggel', 'strawberry', 'vanilla']\n"
     ]
    }
   ],
   "source": [
    "# Combining lists using operators\n",
    "cakes = [\"strawberry\", \"vanilla\"]\n",
    "\n",
    "desserts = cookies + cakes\n",
    "\n",
    "print(desserts)"
   ]
  },
  {
   "cell_type": "code",
   "execution_count": 7,
   "id": "71c98fb4",
   "metadata": {},
   "outputs": [],
   "source": [
    "# .extend() method merges a list into another list at the end\n",
    "cookies.extend(cakes)"
   ]
  },
  {
   "cell_type": "code",
   "execution_count": 8,
   "id": "2cbf10fa",
   "metadata": {},
   "outputs": [
    {
     "name": "stdout",
     "output_type": "stream",
     "text": [
      "['chocolate chip', 'peanut butter', 'sugar', 'tirggel', 'strawberry', 'vanilla']\n"
     ]
    }
   ],
   "source": [
    "print(cookies)"
   ]
  },
  {
   "cell_type": "code",
   "execution_count": 9,
   "id": "4fc4a0ed",
   "metadata": {},
   "outputs": [
    {
     "name": "stdout",
     "output_type": "stream",
     "text": [
      "2\n"
     ]
    }
   ],
   "source": [
    "# .index() method locates theposition of a data element in a list\n",
    "position = cookies.index(\"sugar\")\n",
    "\n",
    "print(position)"
   ]
  },
  {
   "cell_type": "code",
   "execution_count": 10,
   "id": "f82b6f4e",
   "metadata": {},
   "outputs": [
    {
     "name": "stdout",
     "output_type": "stream",
     "text": [
      "sugar\n"
     ]
    }
   ],
   "source": [
    "# .pop() method removes an item from a list and allows you to save it\n",
    "name = cookies.pop(position)\n",
    "\n",
    "print(name)"
   ]
  },
  {
   "cell_type": "code",
   "execution_count": 11,
   "id": "61f1c7f4",
   "metadata": {},
   "outputs": [
    {
     "name": "stdout",
     "output_type": "stream",
     "text": [
      "['Chocolate Chip', 'Peanut Butter', 'Tirggel', 'Strawberry', 'Vanilla']\n"
     ]
    }
   ],
   "source": [
    "# List comprehensions are a common way of iterating over a list to perform some action on them\n",
    "title_case_cookies = [cookie.title() for cookie in cookies]\n",
    "\n",
    "print(title_case_cookies)"
   ]
  },
  {
   "cell_type": "code",
   "execution_count": 12,
   "id": "09318db9",
   "metadata": {},
   "outputs": [
    {
     "name": "stdout",
     "output_type": "stream",
     "text": [
      "['chocolate chip', 'peanut butter', 'strawberry', 'tirggel', 'vanilla']\n"
     ]
    }
   ],
   "source": [
    "# .sorted() functions sort data in numerical or alphabetical order and returns a new list\n",
    "sorted_cookies = sorted(cookies)\n",
    "\n",
    "print(sorted_cookies)"
   ]
  },
  {
   "cell_type": "markdown",
   "id": "d42a8ccd",
   "metadata": {},
   "source": [
    "### Manipulating lists for fun and profit\n",
    "You may be familiar with adding individual data elements to a list by using the `.append()` method. However, if you want to combine a list with another array type (list, set, tuple), you can use the `.extend()` method on the list.\n",
    "\n",
    "You can also use the `.index()` method to find the position of an item in a list. You can then use that position to remove the item with the `.pop()` method."
   ]
  },
  {
   "cell_type": "code",
   "execution_count": 13,
   "id": "d0ffea10",
   "metadata": {},
   "outputs": [
    {
     "data": {
      "text/plain": [
       "'Rowen'"
      ]
     },
     "execution_count": 13,
     "metadata": {},
     "output_type": "execute_result"
    }
   ],
   "source": [
    "# Create a list called baby_names with the names 'Ximena', 'Aliza', 'Ayden', and 'Calvin'.\n",
    "baby_names = [\"Ximena\", \"Aliza\", \"Ayden\", \"Calvin\"]\n",
    "\n",
    "\n",
    "# Use the .extend() method on baby_names to add 'Rowen' and 'Sandeep' and print the list.\n",
    "baby_names.extend([\"Rowen\", \"Sandeep\"])\n",
    "\n",
    "# Use the .index() method to find the position of 'Rowen' in the list. Save the result as position.\n",
    "position = baby_names.index(\"Rowen\")\n",
    "\n",
    "# Use the .pop() method with position to remove 'Rowen' from the list.\n",
    "baby_names.pop(position)"
   ]
  },
  {
   "cell_type": "markdown",
   "id": "33874858",
   "metadata": {},
   "source": [
    "### Looping over lists\n",
    "Previously, you've used a `for` loop to iterate over a list, but you can also use a list comprehension. List comprehensions take the form of `[action for item in list]` and return a new list.\n",
    "\n",
    "We can use the `sorted()` function to sort the data in a list from lowest to highest in the case of numbers and alphabetical order if the list contains strings. The `sorted()` function returns a new list and does not affect the list you passed into the function. You can learn more about `sorted()` in the Python documentation."
   ]
  },
  {
   "cell_type": "code",
   "execution_count": 14,
   "id": "40e71deb",
   "metadata": {},
   "outputs": [
    {
     "name": "stdout",
     "output_type": "stream",
     "text": [
      "Current working directory: c:\\Users\\jhonm\\Downloads\\Code\\Python\\Courses\\DataCamp\\Python\\python_fundamentals\n",
      "CSV exists at: True → data_types\\data\\baby_names.csv\n",
      "Loaded 13963 total rows.\n"
     ]
    }
   ],
   "source": [
    "# 1. Verify where Jupyter is running\n",
    "print(\"Current working directory:\", os.getcwd())\n",
    "\n",
    "# 2. File path\n",
    "csv_path = Path(\"data_types\") / \"data\" / \"baby_names.csv\"\n",
    "print(\"CSV exists at:\", csv_path.exists(), \"→\", csv_path)\n",
    "\n",
    "# 3. Read and store all rows before the file closes\n",
    "with open(csv_path, mode=\"r\", newline=\"\", encoding=\"utf-8\") as file:\n",
    "    records = list(csv.reader(file))\n",
    "\n",
    "# 4. Inspect the result\n",
    "print(f\"Loaded {len(records)} total rows.\")\n"
   ]
  },
  {
   "cell_type": "code",
   "execution_count": 15,
   "id": "d23b0988",
   "metadata": {},
   "outputs": [
    {
     "name": "stdout",
     "output_type": "stream",
     "text": [
      "['AALIYAH', 'AALIYAH', 'AALIYAH', 'AALIYAH', 'AALIYAH', 'AALIYAH', 'AALIYAH', 'AALIYAH', 'AALIYAH', 'AALIYAH']\n"
     ]
    }
   ],
   "source": [
    "# Use a list comprehension on records to create a list called baby_names that contains the name, found in the fourth element of row.\n",
    "baby_names = [record[3] for record in records]\n",
    "\n",
    "# Print baby_names in alphabetical order using the sorted() function.\n",
    "print(sorted(baby_names)[:10])"
   ]
  },
  {
   "cell_type": "markdown",
   "id": "8f578bea",
   "metadata": {},
   "source": [
    "## Meet the Tuples\n",
    "\n",
    "\n",
    "**Tuples** are one of Python’s core sequence data types. They provide an ordered, immutable structure for grouping data elements, enabling efficient, predictable, and safe handling of related items. Understanding tuples is essential for effective Python programming, algorithm design, and data manipulation.\n",
    "\n",
    "\n",
    "### Key Characteristics of Tuples\n",
    "\n",
    "- **Ordered**: Tuples retain the order in which their elements were added.\n",
    "- **Immutable**: Once created, tuples cannot be altered—no adding, removing, or changing elements.\n",
    "- **Indexable**: Elements can be accessed using integer indices, similar to lists.\n",
    "- **Pairing and Grouping**: Tuples are ideal for storing paired or grouped values.\n",
    "- **Unpackable**: Python supports tuple unpacking, enabling expressive variable assignments and control over complex data structures.\n",
    "\n",
    "\n",
    "### Creating Tuples: Syntax and Subtleties\n",
    "\n",
    "#### Parentheses and Commas\n",
    "\n",
    "- Standard tuple creation:\n",
    "    ```python\n",
    "    my_tuple = (element1, element2)\n",
    "    ```\n",
    "- Parentheses are **not** strictly required if commas are present:\n",
    "    ```python\n",
    "    my_tuple = element1, element2\n",
    "    ```\n",
    "- For a **single-element tuple**, a trailing comma is required:\n",
    "    ```python\n",
    "    single_tuple = (\"only_element\",)\n",
    "    ```\n",
    "\n",
    "\n",
    "### Zipping: Creating Tuples by Pairing Sequences\n",
    "\n",
    "**Zipping** combines multiple iterables (such as lists or ranges) into an iterator of tuples:\n",
    "\n",
    "```python\n",
    "a = [1, 2, 3]\n",
    "b = ['x', 'y', 'z']\n",
    "paired = list(zip(a, b))\n",
    "# paired: [(1, 'x'), (2, 'y'), (3, 'z')]\n",
    "```\n",
    "\n",
    "- Useful for combining related data, parallel iteration, or data alignment.\n",
    "- Can zip any number of iterables; iteration stops at the shortest sequence.\n",
    "\n",
    "\n",
    "### Tuple Unpacking: Assigning Elements to Variables\n",
    "\n",
    "Tuple unpacking is the process of assigning individual elements of a tuple to distinct variables:\n",
    "\n",
    "```python\n",
    "pair = (42, \"answer\")\n",
    "number, label = pair\n",
    "# number: 42, label: \"answer\"\n",
    "```\n",
    "\n",
    "- Increases code readability and clarity, especially when working with grouped data.\n",
    "\n",
    "\n",
    "### Unpacking Tuples in Loops\n",
    "\n",
    "Unpacking is especially powerful and concise in loops, enabling elegant iteration over sequences of tuples:\n",
    "\n",
    "```python\n",
    "pairs = [(1, 'a'), (2, 'b'), (3, 'c')]\n",
    "for number, letter in pairs:\n",
    "    print(number, letter)\n",
    "# Outputs:\n",
    "# 1 a\n",
    "# 2 b\n",
    "# 3 c\n",
    "```\n",
    "\n",
    "### Enumerating Positions: Using `enumerate()` for Indexed Tuples\n",
    "\n",
    "The `enumerate()` function returns pairs of index and value when looping through a sequence:\n",
    "\n",
    "```python\n",
    "for idx, item in enumerate(['alpha', 'beta', 'gamma']):\n",
    "    print(idx, item)\n",
    "# 0 alpha\n",
    "# 1 beta\n",
    "# 2 gamma\n",
    "```\n",
    "\n",
    "- Combines tuple unpacking with position tracking, crucial for algorithms requiring both element and index.\n",
    "\n",
    "\n",
    "### Pitfalls and Best Practices in Tuple Construction\n",
    "\n",
    "- **Beware of single-element tuples:** Always include a trailing comma, e.g., `(\"element\",)`; omitting it produces a string or other data type.\n",
    "- **Use `zip()` and `enumerate()`** for robust tuple generation in batch data operations, especially in data science pipelines and iterative algorithms.\n",
    "- **Immutability ensures safety:** Tuples are often used for keys in dictionaries or elements in sets because their immutability makes them hashable and reliable.\n",
    "\n",
    "\n",
    "### Theoretical Rationale and Applications\n",
    "\n",
    "- **Immutability:** Tuples are ideal for representing fixed collections of heterogeneous data (such as records, points in space, database rows), guaranteeing the integrity of groupings throughout program execution.\n",
    "- **Functional programming:** Their immutability aligns with functional paradigms, allowing for safe and reproducible operations.\n",
    "- **Efficient memory usage:** Tuples consume less memory than lists of the same length due to their fixed structure, which is advantageous in large-scale or performance-critical applications.\n",
    "- **Hashability:** Only immutable data types can be used as dictionary keys or set elements, making tuples uniquely valuable for certain data structures and algorithms.\n",
    "\n",
    "\n",
    "### Typical Applications \n",
    "\n",
    "- **Return multiple values from functions**: Tuples provide a concise way to return several items at once.\n",
    "- **Paired data iteration**: Aligning features and labels in machine learning, or row-wise operations in data analysis.\n",
    "- **Database-style records**: Storing small, fixed groups of heterogeneous attributes.\n",
    "- **Efficient lookup tables**: Using tuples as compound keys in dictionaries.\n",
    "\n",
    "\n",
    "Tuples are a foundational Python construct—ordered, immutable, and elegantly suited for grouping, pairing, and transporting related data. Their syntactic simplicity, memory efficiency, and functional safety make them indispensable for both general-purpose programming and sophisticated data science tasks. Mastery of tuple creation, unpacking, and manipulation empowers robust, readable, and error-resistant Python code.\n"
   ]
  },
  {
   "cell_type": "code",
   "execution_count": 16,
   "id": "95b2b568",
   "metadata": {},
   "outputs": [],
   "source": [
    "us_cookies = [\n",
    "    \"Chocolate Chip\",\n",
    "    \"Brownies\",\n",
    "    \"Peanut Butter\",\n",
    "    \"Oreos\",\n",
    "    \"Oatmeal Raisin\"]\n",
    "\n",
    "in_cookies = [\"Punjabi\", \n",
    "              \"Fruit Cake Rust\", \n",
    "              \"Marble Cookies\", \n",
    "              \"Kaju Pista Cookies\", \n",
    "              \"Almond Cookies\"]"
   ]
  },
  {
   "cell_type": "code",
   "execution_count": 17,
   "id": "c51ece55",
   "metadata": {},
   "outputs": [
    {
     "name": "stdout",
     "output_type": "stream",
     "text": [
      "[('Chocolate Chip', 'Punjabi'), ('Brownies', 'Fruit Cake Rust'), ('Peanut Butter', 'Marble Cookies'), ('Oreos', 'Kaju Pista Cookies'), ('Oatmeal Raisin', 'Almond Cookies')]\n"
     ]
    }
   ],
   "source": [
    "top_pairs = list(zip(us_cookies, in_cookies))\n",
    "print(top_pairs)"
   ]
  },
  {
   "cell_type": "code",
   "execution_count": 18,
   "id": "52a9074e",
   "metadata": {},
   "outputs": [
    {
     "name": "stdout",
     "output_type": "stream",
     "text": [
      "Chocolate Chip\n",
      "Punjabi\n"
     ]
    }
   ],
   "source": [
    "# Unpacking tuples\n",
    "us_num_1, in_num_1 = top_pairs[0]\n",
    "\n",
    "print(us_num_1)\n",
    "print(in_num_1)"
   ]
  },
  {
   "cell_type": "code",
   "execution_count": 19,
   "id": "f1d1a487",
   "metadata": {},
   "outputs": [
    {
     "name": "stdout",
     "output_type": "stream",
     "text": [
      "Punjabi\n",
      "Chocolate Chip\n",
      "Fruit Cake Rust\n",
      "Brownies\n",
      "Marble Cookies\n",
      "Peanut Butter\n",
      "Kaju Pista Cookies\n",
      "Oreos\n",
      "Almond Cookies\n",
      "Oatmeal Raisin\n"
     ]
    }
   ],
   "source": [
    "for us_cookie, in_cookie in top_pairs:\n",
    "    print(in_cookie)\n",
    "    print(us_cookie)"
   ]
  },
  {
   "cell_type": "code",
   "execution_count": 20,
   "id": "15994bd6",
   "metadata": {},
   "outputs": [
    {
     "name": "stdout",
     "output_type": "stream",
     "text": [
      "0 Chocolate Chip Punjabi\n",
      "1 Brownies Fruit Cake Rust\n",
      "2 Peanut Butter Marble Cookies\n",
      "3 Oreos Kaju Pista Cookies\n",
      "4 Oatmeal Raisin Almond Cookies\n"
     ]
    }
   ],
   "source": [
    "for idx, item in enumerate(top_pairs):\n",
    "    us_cookie, in_cookie = item\n",
    "    print(idx, us_cookie, in_cookie)"
   ]
  },
  {
   "cell_type": "markdown",
   "id": "02158b52",
   "metadata": {},
   "source": [
    "### Using and unpacking tuples\n",
    "If you have a tuple like `('chocolate chip cookies', 15)` and you want to access each part of the data, you can use an index just like a list. However, you can also \"unpack\" the tuple into multiple variables such as `type, count = ('chocolate chip cookies', 15)` that will set type to `'chocolate chip cookies'` and `count` to `15`.\n",
    "\n",
    "Often you'll want to pair up multiple array data types. The `zip()` function does just that. It will return a list of tuples containing one element from each list passed into `zip()`.\n",
    "\n",
    "When looping over a list, you can also track your position in the list by using the `enumerate()` function. The function returns the index of the list item you are currently on in the list and the list item itself. "
   ]
  },
  {
   "cell_type": "code",
   "execution_count": 21,
   "id": "cb1f51ee",
   "metadata": {},
   "outputs": [
    {
     "name": "stdout",
     "output_type": "stream",
     "text": [
      "['Aahil', 'Aarav', 'Aaron', 'Aayan', 'Abdiel', 'Abdoul', 'Abdoulaye', 'Abdul', 'Abdullah', 'Abel']\n",
      "766\n"
     ]
    }
   ],
   "source": [
    "# Create a list of unique boy names from the records, filtering for MALE gender and converting names to title case for consistency\n",
    "boy_unique = list(set([name[3].title() for name in records if name[1] == \"MALE\"]))\n",
    "print(sorted(boy_unique)[:10])\n",
    "print(len(boy_unique))"
   ]
  },
  {
   "cell_type": "code",
   "execution_count": 22,
   "id": "909c57df",
   "metadata": {},
   "outputs": [
    {
     "name": "stdout",
     "output_type": "stream",
     "text": [
      "['Aaliyah', 'Aarya', 'Abby', 'Abigail', 'Abrielle', 'Abril', 'Ada', 'Addison', 'Adelaide', 'Adele']\n",
      "889\n"
     ]
    }
   ],
   "source": [
    "# Create a list of unique girl names from the records, filtering for FEMALE gender and converting names to title case for consistency\n",
    "girl_unique = list(set([name[3].title() for name in records if name[1] == \"FEMALE\"]))\n",
    "print(sorted(girl_unique)[:10])\n",
    "print(len(girl_unique))"
   ]
  },
  {
   "cell_type": "code",
   "execution_count": 23,
   "id": "85b2d7d0",
   "metadata": {},
   "outputs": [
    {
     "name": "stdout",
     "output_type": "stream",
     "text": [
      "Rank 1: Fernanda and Eliyahu\n",
      "Rank 2: Zelda and Shloime\n",
      "Rank 3: Jayda and Kenneth\n",
      "Rank 4: Kimora and Carmine\n",
      "Rank 5: Kailyn and Yehoshua\n",
      "Rank 6: Michaela and Nathanael\n",
      "Rank 7: Lea and Arian\n",
      "Rank 8: Amelia and Yitzchok\n",
      "Rank 9: Sandra and Alter\n",
      "Rank 10: Aubree and Menashe\n"
     ]
    }
   ],
   "source": [
    "# Use the zip() function to pair up girl_names and boy_names into a variable called pairs.\n",
    "pairs = list(zip(girl_unique, boy_unique))\n",
    "\n",
    "# Use a for loop to loop through the first 10 pairs, using enumerate() to keep track of your position. Unpack pairs into the variables rank and pair.\n",
    "for rank, pair in enumerate(pairs[:10]):\n",
    "    \n",
    "    # Unpack pair: girl_name, boy_name\n",
    "    girl_name, boy_name = pair\n",
    "    \n",
    "    # Print the rank, girl name, and boy name, in that order. The rank is contained in rank.\n",
    "    print(f'Rank {rank+1}: {girl_name} and {boy_name}')"
   ]
  },
  {
   "cell_type": "markdown",
   "id": "3da888e7",
   "metadata": {},
   "source": [
    "### Making tuples by accident\n",
    "Tuples are very powerful and useful, and it's super easy to make one by accident. All you have to do is create a variable and follow the assignment with a comma. This becomes an error when you try to use the variable later expecting it to be a string or a number.\n",
    "\n",
    "You can verify the data type of a variable with the `type()` function. In this exercise, you'll see for yourself how easy it is to make a tuple by accident."
   ]
  },
  {
   "cell_type": "code",
   "execution_count": 24,
   "id": "6f7bf061",
   "metadata": {},
   "outputs": [
    {
     "name": "stdout",
     "output_type": "stream",
     "text": [
      "<class 'str'>\n",
      "<class 'tuple'>\n"
     ]
    }
   ],
   "source": [
    "# Create a variable named normal and set it equal to 'simple'.\n",
    "normal = \"simple\"\n",
    "\n",
    "# Create a variable named error and set it equal to 'trailing comma',.\n",
    "error = \"trailing comma\",\n",
    "\n",
    "# Print the type of the normal and error variables.\n",
    "print(type(normal))\n",
    "print(type(error))"
   ]
  },
  {
   "cell_type": "markdown",
   "id": "564b0c34",
   "metadata": {},
   "source": [
    "## Strings in Python: Construction, Manipulation, and Best Practices\n",
    "\n",
    "**Strings** are one of the most fundamental and versatile data types in Python. They represent sequences of Unicode characters, serving as the backbone for textual data storage, manipulation, and analysis in nearly every Python application. From data cleaning and natural language processing to configuration and output formatting, mastery of string operations is indispensable for robust and expressive Python programming.\n",
    "\n",
    "### Creating Formatted Strings: f-Strings and Beyond\n",
    "\n",
    "#### f-Strings (Formatted String Literals)\n",
    "\n",
    "Introduced in Python 3.6, **f-strings** provide a concise and readable way to embed expressions inside string literals, prefixed with `f`:\n",
    "\n",
    "```python\n",
    "name = \"Alex\"\n",
    "age = 30\n",
    "formatted = f\"{name} is {age} years old.\"\n",
    "# \"Alex is 30 years old.\"\n",
    "```\n",
    "\n",
    "**Key features:**\n",
    "- Embed variables and expressions directly in curly braces.\n",
    "- Support arbitrary Python expressions (e.g., `{value * 100:.2f}` for formatting).\n",
    "- Faster and clearer than alternatives like `.format()` or `%` formatting.\n",
    "\n",
    "\n",
    "### Joining Strings: Concatenation and the `join()` Method\n",
    "\n",
    "#### Efficiently Joining Lists of Strings\n",
    "\n",
    "The `join()` method is the preferred way to concatenate an iterable of strings with a chosen separator:\n",
    "\n",
    "```python\n",
    "words = [\"data\", \"science\", \"is\", \"fun\"]\n",
    "sentence = \" \".join(words)\n",
    "# \"data science is fun\"\n",
    "```\n",
    "\n",
    "**Why use `join()`?**\n",
    "- **Efficiency:** Faster than repeated string addition in a loop.\n",
    "- **Flexibility:** Can join any iterable of strings (lists, tuples, generators).\n",
    "- **Custom separators:** Use commas, spaces, or any string.\n",
    "\n",
    "#### Example: Dynamic List Joining\n",
    "\n",
    "```python\n",
    "items = [\"apple\", \"banana\", \"cherry\"]\n",
    "print(f\"Available fruits: {', '.join(items[:-1])}, and {items[-1]}.\")\n",
    "# \"Available fruits: apple, banana, and cherry.\"\n",
    "```\n",
    "\n",
    "\n",
    "### Matching Parts of a String: Prefixes, Suffixes, and Patterns\n",
    "\n",
    "#### Using `.startswith()` and `.endswith()`\n",
    "\n",
    "These methods return `True` if the string starts or ends with the specified substring, respectively:\n",
    "\n",
    "```python\n",
    "filename = \"data_report.csv\"\n",
    "filename.startswith(\"data\")    # True\n",
    "filename.endswith(\".csv\")      # True\n",
    "```\n",
    "\n",
    "- **Case-sensitive**: Always consider letter case; `\"Data\"` and `\"data\"` are not the same.\n",
    "- **Iterable support**: You can pass a tuple of prefixes/suffixes to check against multiple possibilities.\n",
    "\n",
    "\n",
    "### Searching Within Strings: The `in` Operator\n",
    "\n",
    "The `in` operator checks for substring presence:\n",
    "\n",
    "```python\n",
    "sentence = \"Python is powerful.\"\n",
    "\"Python\" in sentence       # True\n",
    "\"power\" in sentence        # True\n",
    "\"java\" in sentence         # False\n",
    "```\n",
    "\n",
    "**Why is this powerful?**\n",
    "- Highly readable.\n",
    "- Works for any iterable, not just strings.\n",
    "\n",
    "\n",
    "### Case Sensitivity and Case Normalisation\n",
    "\n",
    "String operations in Python are **case-sensitive** by default:\n",
    "\n",
    "```python\n",
    "\"data\" in \"Data Science\"    # False\n",
    "```\n",
    "\n",
    "#### Case Insensitive Searching\n",
    "\n",
    "A common strategy is to convert both strings to the same case (usually lower) before searching or comparison:\n",
    "\n",
    "```python\n",
    "target = \"data\"\n",
    "sentence = \"Data Science is fun.\"\n",
    "target in sentence.lower()   # True\n",
    "```\n",
    "\n",
    "**Best practice:** Use `.lower()` or `.upper()` for robust, case-insensitive comparisons.\n",
    "\n",
    "\n",
    "### Rationale and Applications\n",
    "\n",
    "- **Text processing**: Strings form the basis for reading, cleaning, and analysing textual data.\n",
    "- **User interaction and reporting**: String formatting creates clear, professional output and error messages.\n",
    "- **Search and pattern matching**: Enables filtering, classification, and information retrieval.\n",
    "- **Configuration and templating**: Dynamic string construction is foundational for scripting, templating engines, and web development.\n",
    "\n",
    "### Advanced String Manipulation Strategies\n",
    "\n",
    "- **Slicing**: Extract substrings via indexing (e.g., `s[1:4]`).\n",
    "- **Regular expressions**: Use the `re` module for complex pattern matching and manipulation.\n",
    "- **Escape characters**: Manage special characters (e.g., newline `\\n`, tab `\\t`).\n",
    "- **Immutability**: Strings are immutable; all string operations return new strings.\n",
    "\n",
    "Strings are an essential and richly featured data type in Python. Mastery of their creation, manipulation, and analysis underpins effective programming in data science, automation, user interaction, and beyond. By understanding the principles, syntax, and best practices covered here, you’ll wield string operations with confidence and precision, powering robust, expressive, and high-performance Python code.\n"
   ]
  },
  {
   "cell_type": "code",
   "execution_count": 25,
   "id": "b0887cf5",
   "metadata": {},
   "outputs": [
    {
     "name": "stdout",
     "output_type": "stream",
     "text": [
      "Each Anzac cookie costs $1.99.\n"
     ]
    }
   ],
   "source": [
    "cookie_name = \"Anzac\"\n",
    "cookie_price = \"$1.99\"\n",
    "\n",
    "print(f\"Each {cookie_name} cookie costs {cookie_price}.\")"
   ]
  },
  {
   "cell_type": "code",
   "execution_count": 26,
   "id": "6b0ad00e",
   "metadata": {},
   "outputs": [
    {
     "name": "stdout",
     "output_type": "stream",
     "text": [
      "3, 4, 7, 8\n"
     ]
    }
   ],
   "source": [
    "child_ages = [\"3\", \"4\", \"7\", \"8\"]\n",
    "print(\", \".join(child_ages))"
   ]
  },
  {
   "cell_type": "code",
   "execution_count": 27,
   "id": "0ff1dcc4",
   "metadata": {},
   "outputs": [
    {
     "name": "stdout",
     "output_type": "stream",
     "text": [
      "The children are ages 3, 4, 7, and 8.\n"
     ]
    }
   ],
   "source": [
    "print(f\"The children are ages {', '.join(child_ages[0:3])}, and {child_ages[-1]}.\")"
   ]
  },
  {
   "cell_type": "code",
   "execution_count": 28,
   "id": "6fb11dc7",
   "metadata": {},
   "outputs": [
    {
     "name": "stdout",
     "output_type": "stream",
     "text": [
      "['Ahmed']\n"
     ]
    }
   ],
   "source": [
    "list_boys = [\"Mohamed\", \"Youssef\", \"Ahmed\"]\n",
    "print([name for name in list_boys if name.startswith(\"A\")])"
   ]
  },
  {
   "cell_type": "code",
   "execution_count": 29,
   "id": "47fbe02c",
   "metadata": {},
   "outputs": [
    {
     "data": {
      "text/plain": [
       "True"
      ]
     },
     "execution_count": 29,
     "metadata": {},
     "output_type": "execute_result"
    }
   ],
   "source": [
    "\"long\" in \"Life is a long lesson in humility.\""
   ]
  },
  {
   "cell_type": "code",
   "execution_count": 30,
   "id": "4f78a333",
   "metadata": {},
   "outputs": [
    {
     "data": {
      "text/plain": [
       "True"
      ]
     },
     "execution_count": 30,
     "metadata": {},
     "output_type": "execute_result"
    }
   ],
   "source": [
    "\"life\" in \"Life is a long lesson in humility\".lower()"
   ]
  },
  {
   "cell_type": "markdown",
   "id": "3bbe2dd3",
   "metadata": {},
   "source": [
    "### Formatted String Literals (\"f\" strings)\n",
    "We've been using plain strings with `\"\"` or `''` in this class so far, but there are several types of strings and blend variables with them. the most recent addition of a string type to Python is the \"f-strings\", which is short for formatted string literals. \"F-strings\" make it easy to mix strings with variables and formatting to help get exactly the output you want and you make them by prefacing the quotes with the letter f like `f\"\"`. If you want to include a variable within a string you can use the `{}` around the variable in an f-string to insert the variable's value into the string itself. For example if we had a variable count with the number 12 stored it in, we could make an f-string like `f\"{count} cookies\"`, which would output the string `\"12 cookies\"` when printed. The list `top_ten_girl_names` contains tuples that correspond to the `top_ten_rank` and name for each position."
   ]
  },
  {
   "cell_type": "code",
   "execution_count": 31,
   "id": "fc8e9154",
   "metadata": {},
   "outputs": [
    {
     "name": "stdout",
     "output_type": "stream",
     "text": [
      "Current working directory: c:\\Users\\jhonm\\Downloads\\Code\\Python\\Courses\\DataCamp\\Python\\python_fundamentals\n",
      "CSV exists at: True → data_types\\data\\baby_names.csv\n",
      "Loaded 13963 total rows.\n"
     ]
    }
   ],
   "source": [
    "# 1. Verify where Jupyter is running\n",
    "print(\"Current working directory:\", os.getcwd())\n",
    "\n",
    "# 2. File path\n",
    "csv_path = Path(\"data_types\") / \"data\" / \"baby_names.csv\"\n",
    "print(\"CSV exists at:\", csv_path.exists(), \"→\", csv_path)\n",
    "\n",
    "# 3. Read and store all rows before the file closes\n",
    "with open(csv_path, mode=\"r\", newline=\"\", encoding=\"utf-8\") as file:\n",
    "    records = list(csv.reader(file))\n",
    "\n",
    "# 4. Inspect the result\n",
    "print(f\"Loaded {len(records)} total rows.\")"
   ]
  },
  {
   "cell_type": "code",
   "execution_count": 32,
   "id": "4774754f",
   "metadata": {},
   "outputs": [],
   "source": [
    "# Create lists of boy and girl names from the records, filtering by gender and converting to title case\n",
    "boy_names = [name[3].title() for name in records if name[1] == \"MALE\"]\n",
    "girl_names = [name[3].title() for name in records if name[1] == \"FEMALE\"]"
   ]
  },
  {
   "cell_type": "code",
   "execution_count": 33,
   "id": "6f764ecb",
   "metadata": {},
   "outputs": [],
   "source": [
    "from collections import Counter\n",
    "\n",
    "# Count occurrences of each boy name in the dataset\n",
    "top_boys_names = Counter(boy_names)\n",
    "\n",
    "# Count occurrences of each girl name in the dataset\n",
    "top_girls_names = Counter(girl_names)"
   ]
  },
  {
   "cell_type": "code",
   "execution_count": 34,
   "id": "a2819d82",
   "metadata": {},
   "outputs": [],
   "source": [
    "# Create a tuple of the top 10 most popular girl names with proper ranking\n",
    "\n",
    "# Step 1: Get the top 10 most common names (returns list of (name, count) tuples)\n",
    "top_10_most_common = top_girls_names.most_common(10)\n",
    "\n",
    "# Step 2: Convert to (rank, name) tuples where rank starts at 1\n",
    "top_ten_girl_names = tuple(\n",
    "    (rank, name) for rank, (name, count) in enumerate(top_10_most_common, start=1)\n",
    ")"
   ]
  },
  {
   "cell_type": "code",
   "execution_count": 35,
   "id": "cff07867",
   "metadata": {},
   "outputs": [
    {
     "name": "stdout",
     "output_type": "stream",
     "text": [
      "Rank #1: Grace\n",
      "Rank #2: Hailey\n",
      "Rank #3: Hannah\n",
      "Rank #4: Isabella\n",
      "Rank #5: Jasmine\n",
      "Rank #6: Kaitlyn\n",
      "Rank #7: Kayla\n",
      "Rank #8: Kaylee\n",
      "Rank #9: Leah\n",
      "Rank #10: Madison\n"
     ]
    }
   ],
   "source": [
    "# Loop over the top_ten_girl_names list and use tuple unpacking to get the top_ten_rank and name.\n",
    "for top_ten_rank, name in top_ten_girl_names:\n",
    "    \n",
    "    # Print out each rank and name like this Rank #: 1 - Jada where the number 1 is the rank and Jada is the name.\n",
    "    print(f\"Rank #{top_ten_rank}: {name}\")"
   ]
  },
  {
   "cell_type": "markdown",
   "id": "e0d44599",
   "metadata": {},
   "source": [
    "### Combining multiple strings\n",
    "F strings work great for a few variables, but what if you want to combine a whole list of variables into a string. You can use the `\"\".join()` method for just that. You put what you want to join the list items with inside the \"\" and then pass the list into the `join()` method. For example, if you want to join all the items in a list named cookies with a comma and space it would look like `\", \".join(cookies)`."
   ]
  },
  {
   "cell_type": "code",
   "execution_count": 36,
   "id": "d2f21590",
   "metadata": {},
   "outputs": [
    {
     "name": "stdout",
     "output_type": "stream",
     "text": [
      "The top ten boy names are: Aarav, Aaron, Abdul, Abdullah, Adam, Aditya, Adrian, Ahmed, Aidan, Aiden, and Zev.\n"
     ]
    }
   ],
   "source": [
    "# Make a string that contains: The top ten boy names are: and store it as preamble.\n",
    "preamble = \"The top ten boy names are: \"\n",
    "\n",
    "# , and as conjunction\n",
    "conjunction = \", and \"\n",
    "\n",
    "# Make a string that combines the first 9 names in boy_names list with a comma and store it as first_nine_names.\n",
    "first_nine_names = \", \".join(boy_names[:10])\n",
    "\n",
    "# Print f-string preamble, first_nine_names, conjunction, the final item in boy_names and a period\n",
    "print(f\"{preamble}{first_nine_names}{conjunction}{boy_names[-1]}.\")"
   ]
  },
  {
   "cell_type": "markdown",
   "id": "ce65497d",
   "metadata": {},
   "source": [
    "### Finding strings in other strings\n",
    "Many times when we are working with strings, we care about which characters are in the string. For example, we may want to know how many cookies in a list of cookies have the word `Chocolate` in them, or how many start with the letter `C`. We can perform these checks by using the `in` keyword and the `.startswith()` method on a string. We can also use conditionals on a list comprehension in the form of `[action for item in list if something is true]`. Using our cookies examples, it would be something like `[cookie_name for cookie_name in cookies if 'chocolate' in cookie_name.lower()]`. Note these checks are case sensitive so we're using the `.lower()` method on the string. We can also \"chain\" methods together by calling them one after the other."
   ]
  },
  {
   "cell_type": "code",
   "execution_count": 37,
   "id": "27858d79",
   "metadata": {},
   "outputs": [
    {
     "name": "stdout",
     "output_type": "stream",
     "text": [
      "['Stephanie', 'Stella', 'Stephany']\n"
     ]
    }
   ],
   "source": [
    "# Store and print a list of girl_unique that start with \"Ste\".\n",
    "girl_ste = [girl for girl in girl_unique if girl.startswith(\"Ste\")]\n",
    "print(girl_ste)"
   ]
  },
  {
   "cell_type": "code",
   "execution_count": 38,
   "id": "cc6bed11",
   "metadata": {},
   "outputs": [
    {
     "name": "stdout",
     "output_type": "stream",
     "text": [
      "['Angel', 'Angelique', 'Angely', 'Angelina', 'Angeline', 'Angelica', 'Evangeline', 'Angela']\n"
     ]
    }
   ],
   "source": [
    "# Store and print a list of girl_names with angel in them.\n",
    "girl_angel = [girl for girl in girl_unique if \"angel\" in girl.lower()]\n",
    "print(girl_angel)"
   ]
  },
  {
   "cell_type": "markdown",
   "id": "dfed32e1",
   "metadata": {},
   "source": [
    "## Using Dictionaries: Theory, Syntax, and Techniques in Python\n",
    "\n",
    "\n",
    "**Dictionaries** are powerful, flexible, and fundamental data structures in Python. Often known as associative arrays, hash tables, or hash maps in other programming languages, dictionaries store and retrieve data through **key-value pairs**, enabling rapid, intuitive, and efficient data access. Mastery of dictionaries underpins effective programming, algorithmic reasoning, and complex data management in data science and beyond.\n",
    "\n",
    "\n",
    "\n",
    "### Key Characteristics of Dictionaries\n",
    "\n",
    "- **Key-Value Structure**: Store and retrieve values based on unique keys.\n",
    "- **Mutable**: Dictionaries can dynamically grow or shrink; elements can be added, modified, or removed.\n",
    "- **Unordered (Historically)**: Prior to Python 3.7, dictionaries were unordered; since Python 3.7+, insertion order is preserved.\n",
    "- **Iterable**: Iteration over keys, values, or key-value pairs is straightforward and efficient.\n",
    "- **Nestable**: Values within dictionaries can themselves be dictionaries or other complex data types, enabling hierarchical data storage.\n",
    "\n",
    "### Creating Dictionaries: Syntax and Approaches\n",
    "\n",
    "#### Using `{}` literal syntax:\n",
    "```python\n",
    "dictionary_example = {\"key1\": \"value1\", \"key2\": \"value2\"}\n",
    "```\n",
    "\n",
    "#### Using the `dict()` constructor:\n",
    "```python\n",
    "dictionary_example = dict(key1=\"value1\", key2=\"value2\")\n",
    "```\n",
    "\n",
    "#### From an iterable of pairs:\n",
    "```python\n",
    "pairs = [(\"key1\", \"value1\"), (\"key2\", \"value2\")]\n",
    "dictionary_example = dict(pairs)\n",
    "```\n",
    "\n",
    "\n",
    "### Looping Through Dictionaries: Key Principles\n",
    "\n",
    "Looping through dictionaries can be done over keys, values, or items (key-value pairs):\n",
    "\n",
    "#### Iterating over keys:\n",
    "```python\n",
    "for key in dictionary:\n",
    "    print(key)\n",
    "```\n",
    "\n",
    "#### Iterating over values:\n",
    "```python\n",
    "for value in dictionary.values():\n",
    "    print(value)\n",
    "```\n",
    "\n",
    "#### Iterating over key-value pairs:\n",
    "```python\n",
    "for key, value in dictionary.items():\n",
    "    print(key, value)\n",
    "```\n",
    "\n",
    "### Printing Dictionaries with Ordered Output\n",
    "\n",
    "Since dictionaries preserve insertion order (Python 3.7+), sorting before iteration is useful when alphabetic or numeric order is needed:\n",
    "\n",
    "```python\n",
    "for key in sorted(dictionary):\n",
    "    print(key, dictionary[key])\n",
    "```\n",
    "\n",
    "This ensures a consistent, human-readable ordering.\n",
    "\n",
    "### Accessing Dictionary Values Safely: Rationale and Techniques\n",
    "\n",
    "Dictionaries access values using keys. However, directly accessing a key that does not exist raises a `KeyError`, which interrupts program execution.\n",
    "\n",
    "#### Direct key access (potentially unsafe):\n",
    "```python\n",
    "value = dictionary[\"nonexistent_key\"]  # Raises KeyError\n",
    "```\n",
    "\n",
    "**Safest practice** is using `.get()`:\n",
    "\n",
    "#### `.get()` Method:\n",
    "Returns a default value if the key is not present, avoiding exceptions:\n",
    "\n",
    "```python\n",
    "value = dictionary.get(\"nonexistent_key\", \"Default Value\")\n",
    "# Returns \"Default Value\" if key does not exist\n",
    "```\n",
    "\n",
    "- If no default is provided, `.get()` returns `None` when key is absent.\n",
    "\n",
    "#### Example of Robust Usage:\n",
    "```python\n",
    "key = \"example_key\"\n",
    "value = dictionary.get(key, f\"{key} not found\")\n",
    "print(value)\n",
    "```\n",
    "\n",
    "### Nesting Dictionaries: Handling Complex Data Structures\n",
    "\n",
    "Dictionaries are ideal for hierarchical data storage:\n",
    "\n",
    "```python\n",
    "nested_dict = {\n",
    "    \"outer_key1\": {\"inner_key1\": \"inner_value1\"},\n",
    "    \"outer_key2\": {\"inner_key2\": \"inner_value2\"}\n",
    "}\n",
    "```\n",
    "\n",
    "**Accessing Nested Data:**\n",
    "```python\n",
    "nested_value = nested_dict[\"outer_key1\"][\"inner_key1\"]\n",
    "```\n",
    "\n",
    "- Nesting dictionaries provides intuitive management of complex datasets (JSON, API responses, configuration files).\n",
    "\n",
    "### Theoretical and Computational Rationale\n",
    "\n",
    "- **Fast access**: Dictionary lookups use hash tables, providing average-case O(1) complexity, ideal for large-scale data.\n",
    "- **Data relationships**: Dictionaries naturally represent relationships between keys and associated values, critical in databases, caches, and in-memory indexing.\n",
    "- **Dynamic storage**: They allow dynamic addition, deletion, and updates of key-value pairs, suited to streaming data, user input, or real-time modifications.\n",
    "\n"
   ]
  },
  {
   "cell_type": "markdown",
   "id": "66dd7855",
   "metadata": {},
   "source": [
    "### Creating and looping through dictionaries\n",
    "You'll often encounter the need to loop over some array type data, like in Chapter 1, and provide it some structure so you can find the data you desire quickly.\n",
    "\n",
    "You start that by creating an empty dictionary and assigning part of your array data as the key and the rest as the value.\n",
    "\n",
    "Previously, you used `sorted()` to organize your data in a list. Dictionaries can also be sorted. By default, using `sorted()` on a dictionary will sort by the keys of the dictionary."
   ]
  },
  {
   "cell_type": "code",
   "execution_count": 39,
   "id": "4301f6a9",
   "metadata": {},
   "outputs": [],
   "source": [
    "squirrels = [\n",
    "    (\"Marcus Garvey Park\", (\"Black\", \"Cinnamon\", \"Cleaning\", None)),\n",
    "    (\"Highbridge Park\", (\"Gray\", \"Cinnamon\", \"Running, Eating\", \"Runs From, watches us in short tree\")),\n",
    "    (\"Madison Square Park\", (\"Gray\", None, \"Foraging\", \"Indifferent\")),\n",
    "    (\"City Hall Park\", (\"Gray\", \"Cinnamon\", \"Eating\", \"Approaches\")),\n",
    "    (\"J. Hood Wright Park\", (\"Gray\", \"White\", \"Running\", \"Indifferent\")),\n",
    "    (\"Seward Park\", (\"Gray\", \"Cinnamon\", \"Eating\", \"Indifferent\")), \n",
    "    (\"Union Square Park\", (\"Gray\", \"Black\", \"Climbing\", None)),\n",
    "    (\"Tompkins Square Park\", (\"Gray\", \"Gray\", \"Lounging\", \"Approaches\")),\n",
    "]"
   ]
  },
  {
   "cell_type": "code",
   "execution_count": 40,
   "id": "3997e3cd",
   "metadata": {},
   "outputs": [
    {
     "name": "stdout",
     "output_type": "stream",
     "text": [
      "City Hall Park: ('Gray', 'Cinnamon', 'Eating', 'Approaches')\n",
      "Highbridge Park: ('Gray', 'Cinnamon', 'Running, Eating', 'Runs From, watches us in short tree')\n",
      "J. Hood Wright Park: ('Gray', 'White', 'Running', 'Indifferent')\n",
      "Madison Square Park: ('Gray', None, 'Foraging', 'Indifferent')\n",
      "Marcus Garvey Park: ('Black', 'Cinnamon', 'Cleaning', None)\n",
      "Seward Park: ('Gray', 'Cinnamon', 'Eating', 'Indifferent')\n",
      "Tompkins Square Park: ('Gray', 'Gray', 'Lounging', 'Approaches')\n",
      "Union Square Park: ('Gray', 'Black', 'Climbing', None)\n"
     ]
    }
   ],
   "source": [
    "# Create an empty dictionary called squirrels_by_park.\n",
    "squirrels_by_park = {}\n",
    "\n",
    "# Loop over squirrels, unpacking it into the variables park and squirrel_details.\n",
    "for park, squirrel in squirrels:\n",
    "\n",
    "    # Inside the loop, add each squirrel_details to the squirrels_by_park dictionary using the park as the key.\n",
    "    squirrels_by_park[park] = squirrel\n",
    "\n",
    "# Sort the squirrel_details dictionary keys in ascending order, print each park and its value using an F string.\n",
    "for park in sorted(squirrels_by_park):\n",
    "    \n",
    "    # Print each park and its value in squirrels_by_park\n",
    "    print(f\"{park}: {squirrels_by_park[park]}\")\n"
   ]
  },
  {
   "cell_type": "markdown",
   "id": "87a6a6c4",
   "metadata": {},
   "source": [
    "### Safely finding by key\n",
    "As demonstrated in the video, if you attempt to access a key that isn't present in a dictionary, you'll get a `KeyError`. One option to handle this type of error is to use a `try: except:` block. You can learn more about error handling in **Python Data Science Toolbox (Part 1)**.\n",
    "\n",
    "Python provides a faster, more versatile tool to help with this problem in the form of the `.get()` method. The `.get()` method allows you to supply the name of a key, and optionally, what you'd like to have returned if the key is not found."
   ]
  },
  {
   "cell_type": "code",
   "execution_count": 41,
   "id": "a00a9f78",
   "metadata": {},
   "outputs": [
    {
     "name": "stdout",
     "output_type": "stream",
     "text": [
      "Union Square Park: ('Gray', 'Black', 'Climbing', None)\n",
      "Fort Tryon Park: <class 'NoneType'>\n",
      "Central Park: Not Found\n"
     ]
    }
   ],
   "source": [
    "# Safely print 'Union Square Park' from the squirrels_by_park dictionary .\n",
    "print(f\"Union Square Park: {squirrels_by_park.get('Union Square Park')}\")\n",
    "\n",
    "# Safely print the type of 'Fort Tryon Park' from the squirrels_by_park dictionary.\n",
    "print(f\"Fort Tryon Park: {type(squirrels_by_park.get('Fort Tryon Park'))}\")\n",
    "\n",
    "# # Safely print 'Central Park' from the squirrels_by_park dictionary or 'Not Found'\n",
    "print(f\"Central Park: {squirrels_by_park.get('Central Park', 'Not Found')}\")"
   ]
  },
  {
   "cell_type": "markdown",
   "id": "0db3a950",
   "metadata": {},
   "source": [
    "## Altering Dictionaries: Techniques, Theory, and Best Practices in Python\n",
    "\n",
    "\n",
    "Dictionaries in Python are powerful data structures that allow flexible management of key-value pairs. Beyond simple creation and retrieval, Python dictionaries can be **dynamically altered**—keys and values added, updated, or removed—making them exceptionally useful in evolving data workflows, real-time applications, and robust programming solutions. This section rigorously explores the methods, theory, syntax, and best practices for safely and efficiently altering dictionaries.\n",
    "\n",
    "### Adding and Extending Dictionaries\n",
    "\n",
    "#### Adding Single Key-Value Pairs\n",
    "\n",
    "The simplest way to add a new entry to an existing dictionary is through assignment:\n",
    "\n",
    "```python\n",
    "dictionary[\"new_key\"] = \"new_value\"\n",
    "```\n",
    "\n",
    "- If `\"new_key\"` already exists, its value is updated.\n",
    "- If not, a new key-value pair is added.\n",
    "\n",
    "#### Extending with `.update()`\n",
    "\n",
    "To merge dictionaries or add multiple key-value pairs simultaneously, use the `.update()` method:\n",
    "\n",
    "```python\n",
    "dict1 = {\"a\": 1, \"b\": 2}\n",
    "dict2 = {\"b\": 3, \"c\": 4}\n",
    "\n",
    "dict1.update(dict2)\n",
    "# dict1: {\"a\": 1, \"b\": 3, \"c\": 4}\n",
    "```\n",
    "\n",
    "- **Dictionary merging:** Values from the second dictionary (`dict2`) overwrite those in the first (`dict1`) if keys overlap.\n",
    "- Can also update using iterables of tuples or keyword arguments:\n",
    "    ```python\n",
    "    dict1.update([(\"d\", 5), (\"e\", 6)])\n",
    "    dict1.update(f=7, g=8)\n",
    "    ```\n",
    "\n",
    "\n",
    "### Updating Existing Dictionaries: Deep Dive\n",
    "\n",
    "#### Updating with Tuples or Lists of Pairs\n",
    "\n",
    "`.update()` conveniently supports various iterable types containing key-value pairs:\n",
    "\n",
    "```python\n",
    "updates = [(\"key1\", \"value1\"), (\"key2\", \"value2\")]\n",
    "dictionary.update(updates)\n",
    "```\n",
    "\n",
    "#### Updating Using Keyword Arguments\n",
    "\n",
    "You can also pass key-value pairs directly as keyword arguments if keys are valid identifiers:\n",
    "\n",
    "```python\n",
    "dictionary.update(key1=\"value1\", key2=\"value2\")\n",
    "```\n",
    "\n",
    "#### Rationale and Theory of Updating:\n",
    "- Provides flexible and efficient means to keep dictionaries up-to-date, especially beneficial when data is received incrementally or modified frequently.\n",
    "- Promotes concise and readable code when performing bulk updates.\n",
    "\n",
    "\n",
    "### Removing Elements from Dictionaries: Safe and Unsafe Methods\n",
    "\n",
    "Dictionaries often require deletion of obsolete, redundant, or incorrect data entries. Python provides multiple robust methods for safely managing these scenarios.\n",
    "\n",
    "#### Using `del` (Deletion)\n",
    "\n",
    "The `del` statement removes a key-value pair directly, but raises a `KeyError` if the key is not found:\n",
    "\n",
    "```python\n",
    "del dictionary[\"key\"]\n",
    "```\n",
    "\n",
    "- **Caution:** Always check for existence of the key or handle exceptions to avoid program interruption.\n",
    "\n",
    "#### Using `.pop()` Method\n",
    "\n",
    "The `.pop()` method removes a key and returns its associated value, optionally providing a default value if the key is absent:\n",
    "\n",
    "```python\n",
    "value_removed = dictionary.pop(\"key\", \"default_value\")\n",
    "```\n",
    "\n",
    "- If the key is present, removes it and returns its value.\n",
    "- If absent and no default provided, raises a `KeyError`.\n",
    "- Recommended for robust, safe deletion with predictable outcomes.\n",
    "\n",
    "### Rationale, Theoretical Foundations, and Applications\n",
    "\n",
    "#### Mutability and Dynamic Data Management\n",
    "\n",
    "- Dictionaries' **mutability** permits dynamic, flexible modifications—ideal for real-time data updates, configuration adjustments, and interactive systems.\n",
    "- Supports evolving data schemas without requiring restructuring or recreation of the entire data object.\n",
    "\n",
    "#### Safe Handling and Robustness\n",
    "\n",
    "- Utilizing safe methods (`.pop()` and `.update()`) enhances program reliability, reducing runtime errors and enabling predictable behaviour.\n",
    "- Enables smoother error handling and programmatic correction of data anomalies."
   ]
  },
  {
   "cell_type": "markdown",
   "id": "f56633d2",
   "metadata": {},
   "source": [
    "### Adding and extending dictionaries\n",
    "If you have a dictionary and you want to add data to it, you can simply create a new key and assign the data you desire to it. It's important to remember that if it's a nested dictionary, then all the keys in the data path must exist, and each key in the path must be assigned individually.\n",
    "\n",
    "You can also use the `.update()` method to update a dictionary with a list of keys and values from another dictionary, tuples or keyword arguments."
   ]
  },
  {
   "cell_type": "code",
   "execution_count": 42,
   "id": "75371778",
   "metadata": {},
   "outputs": [],
   "source": [
    "squirrels_madison = [\n",
    "    {\n",
    "        \"primary_fur_color\": \"Gray\",\n",
    "        \"highlights_in_fur_color\": None,\n",
    "        \"activities\": \"Foraging\",\n",
    "        \"interactions_with_humans\": \"Indifferent\",\n",
    "    },\n",
    "    {\n",
    "        \"primary_fur_color\": \"Gray\",\n",
    "        \"highlights_in_fur_color\": None,\n",
    "        \"activities\": \"Sitting\",\n",
    "        \"interactions_with_humans\": \"Indifferent\",\n",
    "    },\n",
    "]"
   ]
  },
  {
   "cell_type": "code",
   "execution_count": 43,
   "id": "ab7a9685",
   "metadata": {},
   "outputs": [],
   "source": [
    "squirrels_union = [\n",
    "        {\n",
    "            \"primary_fur_color\": \"Gray\",\n",
    "            \"highlights_in_fur_color\": None,\n",
    "            \"activities\": \"Eating, Foraging\",\n",
    "            \"interactions_with_humans\": None,\n",
    "        },\n",
    "        {\n",
    "            \"primary_fur_color\": \"Gray\",\n",
    "            \"highlights_in_fur_color\": \"Cinnamon\",\n",
    "            \"activities\": \"Climbing, Eating\",\n",
    "            \"interactions_with_humans\": None,\n",
    "        },\n",
    "        {\n",
    "            \"primary_fur_color\": \"Cinnamon\",\n",
    "            \"highlights_in_fur_color\": None,\n",
    "            \"activities\": \"Foraging\",\n",
    "            \"interactions_with_humans\": \"Indifferent\",\n",
    "        },\n",
    "        {\n",
    "            \"primary_fur_color\": \"Gray\",\n",
    "            \"highlights_in_fur_color\": None,\n",
    "            \"activities\": \"Running, Digging\",\n",
    "            \"interactions_with_humans\": \"Runs From\",\n",
    "        },\n",
    "        {\n",
    "            \"primary_fur_color\": \"Gray\",\n",
    "            \"highlights_in_fur_color\": None,\n",
    "            \"activities\": \"Digging\",\n",
    "            \"interactions_with_humans\": \"Indifferent\",\n",
    "        },\n",
    "        {\n",
    "            \"primary_fur_color\": \"Gray\",\n",
    "            \"highlights_in_fur_color\": \"Black\",\n",
    "            \"activities\": \"Climbing\",\n",
    "            \"interactions_with_humans\": None,\n",
    "        },\n",
    "        {\n",
    "            \"primary_fur_color\": \"Gray\",\n",
    "            \"highlights_in_fur_color\": None,\n",
    "            \"activities\": \"Eating, Foraging\",\n",
    "            \"interactions_with_humans\": None,\n",
    "        }\n",
    "    ]"
   ]
  },
  {
   "cell_type": "code",
   "execution_count": 44,
   "id": "296bf81b",
   "metadata": {},
   "outputs": [
    {
     "name": "stdout",
     "output_type": "stream",
     "text": [
      "<class 'list'>\n",
      "[{'primary_fur_color': 'Gray', 'highlights_in_fur_color': None, 'activities': 'Foraging', 'interactions_with_humans': 'Indifferent'}, {'primary_fur_color': 'Gray', 'highlights_in_fur_color': None, 'activities': 'Sitting', 'interactions_with_humans': 'Indifferent'}]\n"
     ]
    }
   ],
   "source": [
    "squirrels_by_park[\"Madison Square Park\"] = squirrels_madison\n",
    "print(type(squirrels_by_park[\"Madison Square Park\"]))\n",
    "print(squirrels_by_park[\"Madison Square Park\"])"
   ]
  },
  {
   "cell_type": "code",
   "execution_count": 45,
   "id": "384b1c0e",
   "metadata": {},
   "outputs": [],
   "source": [
    "# Update squirrels_by_park with the squirrels_union tuple\n",
    "squirrels_by_park[\"Union Square Park\"] = squirrels_union"
   ]
  },
  {
   "cell_type": "code",
   "execution_count": 46,
   "id": "5aca40e8",
   "metadata": {},
   "outputs": [
    {
     "name": "stdout",
     "output_type": "stream",
     "text": [
      "[{'primary_fur_color': 'Gray', 'highlights_in_fur_color': None, 'activities': 'Eating, Foraging', 'interactions_with_humans': None}, {'primary_fur_color': 'Gray', 'highlights_in_fur_color': 'Cinnamon', 'activities': 'Climbing, Eating', 'interactions_with_humans': None}, {'primary_fur_color': 'Cinnamon', 'highlights_in_fur_color': None, 'activities': 'Foraging', 'interactions_with_humans': 'Indifferent'}, {'primary_fur_color': 'Gray', 'highlights_in_fur_color': None, 'activities': 'Running, Digging', 'interactions_with_humans': 'Runs From'}, {'primary_fur_color': 'Gray', 'highlights_in_fur_color': None, 'activities': 'Digging', 'interactions_with_humans': 'Indifferent'}, {'primary_fur_color': 'Gray', 'highlights_in_fur_color': 'Black', 'activities': 'Climbing', 'interactions_with_humans': None}, {'primary_fur_color': 'Gray', 'highlights_in_fur_color': None, 'activities': 'Eating, Foraging', 'interactions_with_humans': None}]\n"
     ]
    }
   ],
   "source": [
    "print(squirrels_by_park[\"Union Square Park\"])"
   ]
  },
  {
   "cell_type": "code",
   "execution_count": 47,
   "id": "8c8c0f66",
   "metadata": {},
   "outputs": [],
   "source": [
    "# OUTDATED DATACAMP: THIS EXERCISE DOESN'T WORK. THE CODE WON'T RUN.\n",
    "# # Loop over the park_name in the squirrels_by_park dictionary\n",
    "# for park_name in squirrels_by_park:\n",
    "#     # Safely print a list of the primary_fur_color for each squirrel in park_name\n",
    "#     print(\n",
    "#         park_name,\n",
    "#         [squirrel.get(\"primary_fur_color\", \"N/A\") for squirrel in squirrels_by_park[park_name]],\n",
    "#     )"
   ]
  },
  {
   "cell_type": "code",
   "execution_count": 48,
   "id": "32dc1485",
   "metadata": {},
   "outputs": [
    {
     "name": "stdout",
     "output_type": "stream",
     "text": [
      "Madison Square Park ['Gray', 'Gray']\n",
      "Union Square Park ['Gray', 'Gray', 'Cinnamon', 'Gray', 'Gray', 'Gray', 'Gray']\n"
     ]
    }
   ],
   "source": [
    "# Loop over the park_name in the squirrels_by_park dictionary\n",
    "for park_name in squirrels_by_park:\n",
    "    # Check if the park data is a list of dictionaries or a tuple\n",
    "    park_data = squirrels_by_park[park_name]\n",
    "    if isinstance(park_data, list):\n",
    "        # For lists of dictionaries, safely get primary_fur_color\n",
    "        print(\n",
    "            park_name,\n",
    "            [squirrel.get(\"primary_fur_color\", \"N/A\") for squirrel in park_data],\n",
    "        )"
   ]
  },
  {
   "cell_type": "markdown",
   "id": "f0c1c4aa",
   "metadata": {},
   "source": [
    "### Popping and deleting from dictionaries\n",
    "Often, you will want to remove keys and value from a dictionary. You can do so using the del Python instruction. It's important to remember that del will throw a `KeyError` if the key you are trying to delete does not exist. You can not use it with the `.get()` method to safely delete items; however, it can be used with `try: catch:`.\n",
    "\n",
    "If you want to save that deleted data into another variable for further processing, the `.pop()` dictionary method will do just that. You can supply a default value for `.pop()` much like you did for `.get()` to safely deal with missing keys. It's also typical to use `.pop()` instead of del since it is a safe method."
   ]
  },
  {
   "cell_type": "code",
   "execution_count": 49,
   "id": "ef931050",
   "metadata": {},
   "outputs": [
    {
     "name": "stdout",
     "output_type": "stream",
     "text": [
      "Marcus Garvey Park: ('Black', 'Cinnamon', 'Cleaning', None)\n",
      "Highbridge Park: ('Gray', 'Cinnamon', 'Running, Eating', 'Runs From, watches us in short tree')\n",
      "J. Hood Wright Park: ('Gray', 'White', 'Running', 'Indifferent')\n",
      "Seward Park: ('Gray', 'Cinnamon', 'Eating', 'Indifferent')\n",
      "Tompkins Square Park: ('Gray', 'Gray', 'Lounging', 'Approaches')\n"
     ]
    }
   ],
   "source": [
    "# Remove \"Madison Square Park\" from squirrels_by_park and store it as squirrels_madison.\n",
    "squirrels_madison = squirrels_by_park.pop(\"Madison Square Park\", {})\n",
    "\n",
    "# Safely remove \"City Hall Park\" from squirrels_by_park with a empty dictionary as the default and store it as squirrels_city_hall. To do this, pass in an empty dictionary {} as a second argument to .pop().\n",
    "squares_city_hall = squirrels_by_park.pop(\"City Hall Park\", {})\n",
    "\n",
    "# Delete \"Union Square Park\" from squirrels_by_park.\n",
    "del squirrels_by_park[\"Union Square Park\"]\n",
    "\n",
    "# Print squirrels_by_park.\n",
    "for key, value in squirrels_by_park.items():\n",
    "    print(f\"{key}: {value}\")"
   ]
  },
  {
   "cell_type": "markdown",
   "id": "4323b6d2",
   "metadata": {},
   "source": [
    "## Pythonically Using Dictionaries\n",
    "\n",
    "\n",
    "The Python philosophy emphasises clarity, efficiency, and elegance—what is often described as being “*Pythonic*.” When working with dictionaries, adopting idiomatic Python patterns leads to code that is not only correct but also concise, readable, robust, and performant. This section explores **Pythonic** strategies for accessing, iterating, and conditionally using dictionaries, clarifying what “Pythonic” means in the context of dictionary operations.\n",
    "\n",
    "\n",
    "### What Does “Pythonic” Mean?\n",
    "\n",
    "“Pythonic” code embraces the core principles of Python:\n",
    "- **Readability:** Code should be clear and easy to understand.\n",
    "- **Explicitness:** Operations are direct, not hidden behind unnecessary abstractions.\n",
    "- **Efficiency:** Prefer built-in, optimised methods over manual or verbose solutions.\n",
    "- **Elegance:** Code is concise and expressive, avoiding redundancy.\n",
    "\n",
    "\n",
    "### Iterating Over Dictionaries the Pythonic Way\n",
    "\n",
    "#### `.items()` Method\n",
    "\n",
    "To loop through all key-value pairs in a dictionary, use the `.items()` method, which yields pairs as tuples. This approach is canonical in Python and avoids the need to manually index into the dictionary.\n",
    "\n",
    "```python\n",
    "for key, value in my_dict.items():\n",
    "    print(f\"Key: {key}, Value: {value}\")\n",
    "```\n",
    "\n",
    "**Why is this Pythonic?**\n",
    "- It is direct, avoids unnecessary lookups, and leverages built-in dictionary capabilities.\n",
    "- It ensures clarity by making both the key and value explicit in each iteration.\n",
    "\n",
    "\n",
    "### Conditional Lookup and Key Presence\n",
    "\n",
    "#### The `in` Operator\n",
    "\n",
    "The idiomatic way to check for the existence of a key in a dictionary is with the `in` operator:\n",
    "\n",
    "```python\n",
    "if \"some_key\" in my_dict:\n",
    "    print(\"Found:\", my_dict[\"some_key\"])\n",
    "else:\n",
    "    print(\"Key not found.\")\n",
    "```\n",
    "\n",
    "- **Efficiency:** The `in` operator is highly optimised for dictionaries (average O(1) time).\n",
    "- **Readability:** The intent is clear; the test is concise and unambiguous.\n",
    "\n",
    "#### Why Not Always Use `.get()`?\n",
    "\n",
    "While `.get()` is excellent for providing fallback (default) values, it’s not always the most Pythonic for control flow when the presence or absence of the key affects program logic:\n",
    "\n",
    "```python\n",
    "value = my_dict.get(\"some_key\", \"Default Value\")\n",
    "# Good for fetching with fallback, but less clear for branching logic.\n",
    "```\n",
    "\n",
    "**Guideline:**\n",
    "- Use `in` for presence checks, branching, and control flow.\n",
    "- Use `.get()` when you need a fallback/default value and do not care about control flow.\n",
    "\n",
    "\n",
    "### More Idiomatic Patterns for Dictionaries\n",
    "\n",
    "#### Dictionary Comprehensions\n",
    "\n",
    "Pythonic code often employs **dictionary comprehensions** for constructing dictionaries from iterables in a single, expressive statement:\n",
    "\n",
    "```python\n",
    "squared = {x: x**2 for x in range(5)}\n",
    "# {0: 0, 1: 1, 2: 4, 3: 9, 4: 16}\n",
    "```\n",
    "\n",
    "#### Unpacking Dictionaries\n",
    "\n",
    "Python’s syntax supports unpacking dictionaries for merging or passing as arguments:\n",
    "\n",
    "```python\n",
    "# Merging\n",
    "merged = {**dict1, **dict2}\n",
    "\n",
    "# Passing as keyword arguments\n",
    "def func(**kwargs):\n",
    "    ...\n",
    "func(**my_dict)\n",
    "```\n",
    "\n",
    "### Theoretical Rationale and Principles\n",
    "\n",
    "- **Hash Table Efficiency:** Dictionaries use hash tables, so operations like `in`, `get()`, and iteration over `.items()` are extremely fast and scale well with data size.\n",
    "- **Error Prevention:** Explicit presence checks (`in`) prevent `KeyError`s, making code safer and more predictable.\n",
    "- **Expressive Logic:** Pythonic patterns communicate programmer intent, making maintenance and collaboration easier.\n"
   ]
  },
  {
   "cell_type": "markdown",
   "id": "c14664e6",
   "metadata": {},
   "source": [
    "### Working with dictionaries more pythonically\n",
    "So far, you've worked a lot with the keys of a dictionary to access data, but in Python, the preferred manner for iterating over items in a dictionary is with the `.items()` method.\n",
    "\n",
    "This returns each key and value from the dictionary as a tuple, which you can unpack in a `for` loop. You'll now get practice doing this."
   ]
  },
  {
   "cell_type": "code",
   "execution_count": 50,
   "id": "2ca3889f",
   "metadata": {},
   "outputs": [
    {
     "name": "stdout",
     "output_type": "stream",
     "text": [
      "<class 'list'>\n",
      "[{'primary_fur_color': 'Gray', 'highlights_in_fur_color': None, 'activities': 'Eating, Foraging', 'interactions_with_humans': None}, {'primary_fur_color': 'Gray', 'highlights_in_fur_color': 'Cinnamon', 'activities': 'Climbing, Eating', 'interactions_with_humans': None}, {'primary_fur_color': 'Cinnamon', 'highlights_in_fur_color': None, 'activities': 'Foraging', 'interactions_with_humans': 'Indifferent'}, {'primary_fur_color': 'Gray', 'highlights_in_fur_color': None, 'activities': 'Running, Digging', 'interactions_with_humans': 'Runs From'}, {'primary_fur_color': 'Gray', 'highlights_in_fur_color': None, 'activities': 'Digging', 'interactions_with_humans': 'Indifferent'}, {'primary_fur_color': 'Gray', 'highlights_in_fur_color': 'Black', 'activities': 'Climbing', 'interactions_with_humans': None}, {'primary_fur_color': 'Gray', 'highlights_in_fur_color': None, 'activities': 'Eating, Foraging', 'interactions_with_humans': None}]\n"
     ]
    }
   ],
   "source": [
    "# Add the Union Square Park squirrel data to the squirrels_by_park dictionary\n",
    "squirrels_by_park[\"Union Square Park\"] = squirrels_union\n",
    "\n",
    "# Print the data type and contents to verify the assignment\n",
    "print(type(squirrels_by_park[\"Union Square Park\"]))\n",
    "print(squirrels_by_park[\"Union Square Park\"])"
   ]
  },
  {
   "cell_type": "code",
   "execution_count": 51,
   "id": "1119daf8",
   "metadata": {},
   "outputs": [
    {
     "name": "stdout",
     "output_type": "stream",
     "text": [
      "<class 'list'>\n",
      "[{'primary_fur_color': 'Gray', 'highlights_in_fur_color': None, 'activities': 'Foraging', 'interactions_with_humans': 'Indifferent'}, {'primary_fur_color': 'Gray', 'highlights_in_fur_color': None, 'activities': 'Sitting', 'interactions_with_humans': 'Indifferent'}]\n"
     ]
    }
   ],
   "source": [
    "# Add the Madison Square Park squirrel data to the squirrels_by_park dictionary\n",
    "squirrels_by_park[\"Madison Square Park\"] = squirrels_madison\n",
    "\n",
    "# Print the data type and contents to verify the assignment\n",
    "print(type(squirrels_by_park[\"Madison Square Park\"]))\n",
    "print(squirrels_by_park[\"Madison Square Park\"])"
   ]
  },
  {
   "cell_type": "code",
   "execution_count": 52,
   "id": "bfcee401",
   "metadata": {},
   "outputs": [
    {
     "name": "stdout",
     "output_type": "stream",
     "text": [
      "primary_fur_color Gray\n",
      "highlights_in_fur_color None\n",
      "activities Foraging\n",
      "interactions_with_humans Indifferent\n",
      "-------------\n",
      "primary_fur_color Gray\n",
      "highlights_in_fur_color Cinnamon\n",
      "activities Climbing, Eating\n",
      "interactions_with_humans None\n"
     ]
    }
   ],
   "source": [
    "# Iterate over the first record in squirrels_by_park[\"Madison Square Park\"], unpacking its items into field and value.\n",
    "for field, value in squirrels_by_park[\"Madison Square Park\"][0].items():\n",
    "    # Print each field and value.\n",
    "    print(field, value)\n",
    "\n",
    "print(\"-\" * 13)\n",
    "\n",
    "# Repeat the process for the second record in squirrels_by_park[\"Union Square Park\"].\n",
    "# Iterate over the second squirrel entry in the Union Square Park list\n",
    "for field, value in squirrels_by_park[\"Union Square Park\"][1].items():\n",
    "    # Print field and value\n",
    "    print(field, value)"
   ]
  },
  {
   "cell_type": "markdown",
   "id": "1e99ef58",
   "metadata": {},
   "source": [
    "### Checking dictionaries for data\n",
    "You can check to see if a key exists in a dictionary by using the `in` expression.\n",
    "\n",
    "For example, you can check to see if `'cookies'` is a key in the recipes dictionary by using `if 'cookies' in recipes:` this allows you to safely react to data being present in the dictionary.\n",
    "\n",
    "We've loaded a `squirrels_by_park` dictionary with park names for the keys and a list of dictionaries of the squirrels."
   ]
  },
  {
   "cell_type": "code",
   "execution_count": 53,
   "id": "7f3fd3c2",
   "metadata": {},
   "outputs": [
    {
     "name": "stdout",
     "output_type": "stream",
     "text": [
      "Found Tompkins Square Park\n",
      "Central Park missing\n"
     ]
    }
   ],
   "source": [
    "# Check to see if Tompkins Square Park is in the squirrels_by_park dictionary, and print 'Found Tompkins Square Park' if it is present.\n",
    "if \"Tompkins Square Park\" in squirrels_by_park:\n",
    "\n",
    "    # Print 'Found Tompkins Square Park'\n",
    "    print(\"Found Tompkins Square Park\")\n",
    "\n",
    "# Check to see if Central Park is in squirrels_by_park. Then, print 'Found Central Park' if found and 'Central Park missing' if not found.\n",
    "if \"Central Park\" in squirrels_by_park:\n",
    "\n",
    "    # Print 'Found Central Park' if found\n",
    "    print(\"Found Central Park\")\n",
    "\n",
    "else:\n",
    "    # Print 'Central Park missing' if not found\n",
    "    print(\"Central Park missing\")"
   ]
  },
  {
   "cell_type": "markdown",
   "id": "987987a2",
   "metadata": {},
   "source": [
    "## Mixed Data Types in Dictionaries\n",
    "\n",
    "Dictionaries in Python are not limited to flat mappings—they are fully capable of **nesting**, storing other dictionaries, lists, or even more complex objects as their values. This powerful feature enables the construction of intricate, multi-level data structures mirroring hierarchical, relational, or tree-like data found in real-world applications (such as JSON objects, configuration files, or database records). Proper handling and access of nested (mixed-type) dictionaries is a cornerstone of idiomatic Python programming, especially in data science, web development, and systems design.\n",
    "\n",
    "\n",
    "### Key Principles of Mixed-Type and Nested Dictionaries\n",
    "\n",
    "#### 1. Dictionaries as Values\n",
    "\n",
    "- A dictionary value can itself be any object—another dictionary, list, tuple, or even a custom class.\n",
    "- This allows for flexible representation of complex, repeating, or hierarchical data structures.\n",
    "\n",
    "#### 2. Pythonic Representation\n",
    "\n",
    "- Nested dictionaries often mirror the structure of real-world data, such as collections of records grouped by keys (IDs, categories, etc.).\n",
    "- Key insight: Python’s syntax and methods support *arbitrary depth* and seamless, readable access to such data.\n",
    "\n",
    "\n",
    "### Working with Nested Dictionaries: Core Syntax\n",
    "\n",
    "#### Creating a Nested Dictionary\n",
    "\n",
    "```python\n",
    "nested_dict = {\n",
    "    \"outer_key1\": {\n",
    "        \"inner_key1\": \"value1\",\n",
    "        \"inner_key2\": \"value2\"\n",
    "    },\n",
    "    \"outer_key2\": {\n",
    "        \"inner_key3\": \"value3\"\n",
    "    }\n",
    "}\n",
    "```\n",
    "\n",
    "#### Accessing Top-Level Keys\n",
    "\n",
    "The `.keys()` method returns a “view” of all top-level keys—these can be iterated, sorted, or converted to lists:\n",
    "\n",
    "```python\n",
    "top_keys = nested_dict.keys()\n",
    "# dict_keys(['outer_key1', 'outer_key2'])\n",
    "```\n",
    "\n",
    "- This allows efficient inspection and enumeration of hierarchical data’s first level.\n",
    "\n",
    "#### Accessing Nested Data\n",
    "\n",
    "Accessing values within a nested dictionary involves chaining key lookups:\n",
    "\n",
    "```python\n",
    "value = nested_dict[\"outer_key1\"][\"inner_key1\"]\n",
    "# \"value1\"\n",
    "```\n",
    "\n",
    "- This syntax can be repeated as deeply as the structure requires.\n",
    "\n",
    "#### Using `.get()` for Safe Access\n",
    "\n",
    "The `.get()` method remains invaluable at each level to avoid `KeyError`s:\n",
    "\n",
    "```python\n",
    "outer = nested_dict.get(\"outer_key1\", {})\n",
    "value = outer.get(\"inner_key1\", None)\n",
    "```\n",
    "\n",
    "- This approach is robust against missing keys at any depth.\n",
    "\n",
    "### Dealing with Repeating Structures and Hierarchical Data\n",
    "\n",
    "Nested dictionaries are the canonical way to manage:\n",
    "- Collections of grouped records (e.g., items by category, users by region).\n",
    "- Tree-like or multi-level data (e.g., configuration trees, file system-like structures).\n",
    "- Structured data read from JSON, YAML, or hierarchical database records.\n",
    "\n",
    "\n",
    "### Pythonic Patterns for Nested Dictionaries\n",
    "\n",
    "#### Idiomatic Iteration\n",
    "\n",
    "Use nested loops and `.items()` to traverse and process multi-level dictionaries:\n",
    "\n",
    "```python\n",
    "for outer_key, inner_dict in nested_dict.items():\n",
    "    for inner_key, value in inner_dict.items():\n",
    "        print(f\"({outer_key}, {inner_key}): {value}\")\n",
    "```\n",
    "\n",
    "#### Safe, Readable Access\n",
    "\n",
    "Adopt chained `.get()` calls or try/except patterns to gracefully handle missing keys, especially in user-facing or production code.\n",
    "\n",
    "#### Comprehensions\n",
    "\n",
    "Nested dictionary comprehensions enable transformation, filtering, or flattening of complex structures:\n",
    "\n",
    "```python\n",
    "flattened = {\n",
    "    (outer, inner): value\n",
    "    for outer, inner_dict in nested_dict.items()\n",
    "    for inner, value in inner_dict.items()\n",
    "}\n",
    "```\n",
    "\n"
   ]
  },
  {
   "cell_type": "code",
   "execution_count": 54,
   "id": "03947e91",
   "metadata": {},
   "outputs": [
    {
     "name": "stdout",
     "output_type": "stream",
     "text": [
      "Marcus Garvey Park ('Black', 'Cinnamon', 'Cleaning', None)\n",
      "Highbridge Park ('Gray', 'Cinnamon', 'Running, Eating', 'Runs From, watches us in short tree')\n",
      "J. Hood Wright Park ('Gray', 'White', 'Running', 'Indifferent')\n",
      "Seward Park ('Gray', 'Cinnamon', 'Eating', 'Indifferent')\n",
      "Tompkins Square Park ('Gray', 'Gray', 'Lounging', 'Approaches')\n",
      "Union Square Park [{'primary_fur_color': 'Gray', 'highlights_in_fur_color': None, 'activities': 'Eating, Foraging', 'interactions_with_humans': None}, {'primary_fur_color': 'Gray', 'highlights_in_fur_color': 'Cinnamon', 'activities': 'Climbing, Eating', 'interactions_with_humans': None}, {'primary_fur_color': 'Cinnamon', 'highlights_in_fur_color': None, 'activities': 'Foraging', 'interactions_with_humans': 'Indifferent'}, {'primary_fur_color': 'Gray', 'highlights_in_fur_color': None, 'activities': 'Running, Digging', 'interactions_with_humans': 'Runs From'}, {'primary_fur_color': 'Gray', 'highlights_in_fur_color': None, 'activities': 'Digging', 'interactions_with_humans': 'Indifferent'}, {'primary_fur_color': 'Gray', 'highlights_in_fur_color': 'Black', 'activities': 'Climbing', 'interactions_with_humans': None}, {'primary_fur_color': 'Gray', 'highlights_in_fur_color': None, 'activities': 'Eating, Foraging', 'interactions_with_humans': None}]\n",
      "Madison Square Park [{'primary_fur_color': 'Gray', 'highlights_in_fur_color': None, 'activities': 'Foraging', 'interactions_with_humans': 'Indifferent'}, {'primary_fur_color': 'Gray', 'highlights_in_fur_color': None, 'activities': 'Sitting', 'interactions_with_humans': 'Indifferent'}]\n"
     ]
    }
   ],
   "source": [
    "for key, value in squirrels_by_park.items():\n",
    "    print(key, value)"
   ]
  },
  {
   "cell_type": "code",
   "execution_count": 55,
   "id": "2c306f8f",
   "metadata": {},
   "outputs": [
    {
     "name": "stdout",
     "output_type": "stream",
     "text": [
      "{'Marcus Garvey Park': {'primary_fur_color': 'Black', 'highlights_in_fur_color': 'Cinnamon', 'activities': 'Cleaning', 'interactions_with_humans': None}, 'Highbridge Park': {'primary_fur_color': 'Gray', 'highlights_in_fur_color': 'Cinnamon', 'activities': 'Running, Eating', 'interactions_with_humans': 'Runs From, watches us in short tree'}, 'J. Hood Wright Park': {'primary_fur_color': 'Gray', 'highlights_in_fur_color': 'White', 'activities': 'Running', 'interactions_with_humans': 'Indifferent'}, 'Seward Park': {'primary_fur_color': 'Gray', 'highlights_in_fur_color': 'Cinnamon', 'activities': 'Eating', 'interactions_with_humans': 'Indifferent'}, 'Tompkins Square Park': {'primary_fur_color': 'Gray', 'highlights_in_fur_color': 'Gray', 'activities': 'Lounging', 'interactions_with_humans': 'Approaches'}, 'Union Square Park': {'primary_fur_color': 'Gray', 'highlights_in_fur_color': None, 'activities': 'Eating, Foraging', 'interactions_with_humans': None}, 'Madison Square Park': {'primary_fur_color': 'Gray', 'highlights_in_fur_color': None, 'activities': 'Foraging', 'interactions_with_humans': 'Indifferent'}}\n"
     ]
    }
   ],
   "source": [
    "keys = [\n",
    "    \"primary_fur_color\",\n",
    "    \"highlights_in_fur_color\",\n",
    "    \"activities\",\n",
    "    \"interactions_with_humans\",\n",
    "]\n",
    "\n",
    "for park, entry in squirrels_by_park.items():\n",
    "\n",
    "    # If the entry is a tuple, zip it to a dictionary\n",
    "    if isinstance(entry, tuple):\n",
    "        squirrels_by_park[park] = dict(zip(keys, entry))\n",
    "\n",
    "    # If the entry is a list of dictionaries, use the first squirrel data\n",
    "    elif isinstance(entry, list) and entry:\n",
    "        squirrels_by_park[park] = {k: entry[0].get(k, None) for k in keys}\n",
    "\n",
    "    # if entry is empty or unexpected format, create empty record\n",
    "    else:\n",
    "        squirrels_by_park[park] = {k: None for k in keys}\n",
    "\n",
    "\n",
    "print(squirrels_by_park)"
   ]
  },
  {
   "cell_type": "code",
   "execution_count": 56,
   "id": "5375c8a5",
   "metadata": {},
   "outputs": [
    {
     "name": "stdout",
     "output_type": "stream",
     "text": [
      "dict_keys(['Marcus Garvey Park', 'Highbridge Park', 'J. Hood Wright Park', 'Seward Park', 'Tompkins Square Park', 'Union Square Park', 'Madison Square Park'])\n",
      "{'primary_fur_color': 'Gray', 'highlights_in_fur_color': None, 'activities': 'Eating, Foraging', 'interactions_with_humans': None}\n",
      "Marcus Garvey Park Cinnamon\n",
      "Highbridge Park Cinnamon\n",
      "J. Hood Wright Park White\n",
      "Seward Park Cinnamon\n",
      "Tompkins Square Park Gray\n",
      "Union Square Park None\n",
      "Madison Square Park None\n"
     ]
    }
   ],
   "source": [
    "# Print the keys of the squirrels_by_park dictionary, NOTE: They are park_names.\n",
    "print(squirrels_by_park.keys())\n",
    "\n",
    "# Print the keys of the squirrels_by_park dictionary for the park_name Union Square Park.\n",
    "print(squirrels_by_park[\"Union Square Park\"])\n",
    "\n",
    "# Loop over the squirrels_by_park dictionary.\n",
    "for park_name in squirrels_by_park:\n",
    "    # Inside the loop, safely print the park_name and the highlights_in_fur_color. Print 'N/A' if the highlightsinfur_color is not found or None.\n",
    "    print(park_name, squirrels_by_park[park_name].get(\"highlights_in_fur_color\", \"N/A\"))"
   ]
  },
  {
   "cell_type": "markdown",
   "id": "46a00294",
   "metadata": {},
   "source": [
    "### Dealing with nested mixed types\n",
    "Previously, we used the `in` expression so see if data is in a dictionary such as `if 'cookies' in recipes_dict`. However, what if we want to find data in a dictionary key that is a list of dictionaries? In that scenario, we can use a for loop to loop over the items in the nested list and operate on them. Additionally, we can leverage list comprehensions to effectively filter nested lists of dictionaries. For example: `[cookie for cookie in recipes[\"cookies\"] if \"chocolate chip\" in cookie[\"name\"]]` would return a list of cookies in recipes list that have chocolate chip in the name key of the cookie."
   ]
  },
  {
   "cell_type": "code",
   "execution_count": 57,
   "id": "02861958",
   "metadata": {},
   "outputs": [],
   "source": [
    "squirrels_tompkins = [\n",
    "    {\n",
    "        \"primary_fur_color\": \"Gray\",\n",
    "        \"highlights_in_fur_color\": \"Gray\",\n",
    "        \"activities\": \"Foraging\",\n",
    "        \"interactions_with_humans\": \"Approaches\",\n",
    "    },\n",
    "    {\n",
    "        \"primary_fur_color\": \"Gray\",\n",
    "        \"highlights_in_fur_color\": \"Gray\",\n",
    "        \"activities\": \"Climbing (down tree)\",\n",
    "        \"interactions_with_humans\": \"Indifferent\",\n",
    "    },\n",
    "    {\n",
    "        \"primary_fur_color\": \"Gray\",\n",
    "        \"highlights_in_fur_color\": \"Gray\",\n",
    "        \"interactions_with_humans\": \"Indifferent\",\n",
    "    },\n",
    "    {\n",
    "        \"primary_fur_color\": \"Gray\",\n",
    "        \"highlights_in_fur_color\": \"Gray\",\n",
    "        \"activities\": \"Foraging\",\n",
    "        \"interactions_with_humans\": \"Indifferent\",\n",
    "    },\n",
    "]"
   ]
  },
  {
   "cell_type": "code",
   "execution_count": 58,
   "id": "32553732",
   "metadata": {},
   "outputs": [],
   "source": [
    "squirrels_union = [\n",
    "    {\n",
    "        \"primary_fur_color\": \"Gray\",\n",
    "        \"highlights_in_fur_color\": None,\n",
    "        \"activities\": \"Eating, Foraging\",\n",
    "        \"interactions_with_humans\": None,\n",
    "    },\n",
    "    {\n",
    "        \"primary_fur_color\": \"Cinnamon\",\n",
    "        \"highlights_in_fur_color\": None,\n",
    "        \"activities\": \"Foraging\",\n",
    "        \"interactions_with_humans\": None,\n",
    "    },\n",
    "    {\n",
    "        \"primary_fur_color\": \"Gray\",\n",
    "        \"highlights_in_fur_color\": None,\n",
    "        \"activities\": \"Eating, Foraging\",\n",
    "        \"interactions_with_humans\": None,\n",
    "    },\n",
    "    {\n",
    "        \"primary_fur_color\": \"Gray\",\n",
    "        \"highlights_in_fur_color\": None,\n",
    "        \"activities\": \"Digging\",\n",
    "        \"interactions_with_humans\": \"Indifferent\",\n",
    "    },\n",
    "]"
   ]
  },
  {
   "cell_type": "code",
   "execution_count": 59,
   "id": "bc7b81a6",
   "metadata": {},
   "outputs": [],
   "source": [
    "squirrels_by_park[\"Union Square Park\"] = squirrels_union"
   ]
  },
  {
   "cell_type": "code",
   "execution_count": 60,
   "id": "955bd444",
   "metadata": {},
   "outputs": [
    {
     "name": "stdout",
     "output_type": "stream",
     "text": [
      "{'primary_fur_color': 'Gray', 'highlights_in_fur_color': 'Gray', 'activities': 'Foraging', 'interactions_with_humans': 'Approaches'}\n",
      "{'primary_fur_color': 'Gray', 'highlights_in_fur_color': 'Gray', 'activities': 'Climbing (down tree)', 'interactions_with_humans': 'Indifferent'}\n",
      "{'primary_fur_color': 'Gray', 'highlights_in_fur_color': 'Gray', 'interactions_with_humans': 'Indifferent'}\n",
      "{'primary_fur_color': 'Gray', 'highlights_in_fur_color': 'Gray', 'activities': 'Foraging', 'interactions_with_humans': 'Indifferent'}\n"
     ]
    }
   ],
   "source": [
    "squirrels_by_park[\"Tompkins Square Park\"] = squirrels_tompkins\n",
    "for squirrel in squirrels_by_park[\"Tompkins Square Park\"]:\n",
    "    print(squirrel)"
   ]
  },
  {
   "cell_type": "code",
   "execution_count": 61,
   "id": "696f20c6",
   "metadata": {},
   "outputs": [
    {
     "name": "stdout",
     "output_type": "stream",
     "text": [
      "Foraging\n",
      "Climbing (down tree)\n",
      "None\n",
      "Foraging\n"
     ]
    }
   ],
   "source": [
    "# Use a for loop to iterate over the squirrels found in the Tompkins Square Park key of squirrels_by_park:\n",
    "for squirrel in squirrels_by_park[\"Tompkins Square Park\"]:\n",
    "    \n",
    "    # Safely print each activities of each squirrel.\n",
    "    print(squirrel.get(\"activities\"))"
   ]
  },
  {
   "cell_type": "code",
   "execution_count": 62,
   "id": "51d8f709",
   "metadata": {},
   "outputs": [
    {
     "name": "stdout",
     "output_type": "stream",
     "text": [
      "[{'primary_fur_color': 'Cinnamon', 'highlights_in_fur_color': None, 'activities': 'Foraging', 'interactions_with_humans': None}]\n"
     ]
    }
   ],
   "source": [
    "# Print the list of 'Cinnamon' primary_fur_color squirrels found in Union Square Park using a list comprehension.\n",
    "print(\n",
    "    [\n",
    "        squirrel\n",
    "        for squirrel in squirrels_by_park[\"Union Square Park\"]\n",
    "        if \"Cinnamon\" in squirrel[\"primary_fur_color\"]\n",
    "    ]\n",
    ")"
   ]
  },
  {
   "cell_type": "markdown",
   "id": "b4fe3c51",
   "metadata": {},
   "source": [
    "## Numeric Data Types in Python\n",
    "\n",
    "Numeric data types form the backbone of scientific, statistical, and financial computations in Python. A deep understanding of **integers**, **floats**, and **decimals**—including their limitations, use cases, and behaviour—enables robust and reliable programming across domains from data science to engineering. This section presents a rigorous overview of these numeric types, their operations, and best practices for precision, formatting, and idiomatic usage.\n",
    "\n",
    "### Integer (`int`)\n",
    "\n",
    "#### Definition and Characteristics\n",
    "\n",
    "- Represents **whole numbers** (positive, negative, or zero) with **arbitrary precision** (limited only by available memory, not by bit width).\n",
    "- No distinction between \"small\" and \"large\" integers—Python's `int` type transparently expands to handle huge values.\n",
    "\n",
    "**Example:**\n",
    "```python\n",
    "a = 123456789123456789\n",
    "print(type(a))  # <class 'int'>\n",
    "```\n",
    "\n",
    "#### Use Cases\n",
    "\n",
    "- Counting, indexing, discrete values.\n",
    "- Applications requiring lossless manipulation of large numbers (cryptography, combinatorics).\n",
    "\n",
    "### Float (`float`)\n",
    "\n",
    "#### Definition and Characteristics\n",
    "\n",
    "- Represents **floating-point numbers** (real numbers with a fractional component).\n",
    "- Implements the IEEE 754 double-precision binary floating-point standard.\n",
    "- Supports scientific notation for compact representation of very small or large numbers.\n",
    "\n",
    "**Examples:**\n",
    "```python\n",
    "b = 1.2345678912345678e+17  # Scientific notation\n",
    "c = 0.00001\n",
    "print(b)  # 1.2345678912345678e+17\n",
    "print(c)  # 1e-05\n",
    "```\n",
    "\n",
    "##### Approximation and Precision\n",
    "\n",
    "- Floats are inherently **approximate** due to binary representation of decimal fractions.\n",
    "- Not suitable for applications requiring exact decimal precision (e.g., financial calculations).\n",
    "\n",
    "\n",
    "### Decimal (`decimal.Decimal`)\n",
    "\n",
    "#### Definition and Characteristics\n",
    "\n",
    "- The `Decimal` type (from the `decimal` module) provides **arbitrary-precision, exact decimal arithmetic**.\n",
    "- Avoids common float pitfalls—precisely represents values like 0.1 or 1/3.\n",
    "- Ideal for financial applications, currency, and any scenario where **exactness** is paramount.\n",
    "\n",
    "**Example:**\n",
    "```python\n",
    "from decimal import Decimal\n",
    "d = Decimal('123456789123456789')\n",
    "print(d)  # 123456789123456789\n",
    "```\n",
    "\n",
    "#### Use Cases\n",
    "\n",
    "- Currency calculations.\n",
    "- Legal, scientific, or financial applications with regulatory precision requirements.\n",
    "\n",
    "\n",
    "### Printing and Formatting Floating-Point Numbers\n",
    "\n",
    "Python provides versatile tools for controlling float display:\n",
    "\n",
    "#### Scientific vs. Fixed-Point Notation\n",
    "\n",
    "```python\n",
    "x = 0.00001\n",
    "print(x)              # Scientific: 1e-05\n",
    "print(f\"{x:f}\")       # Fixed-point: 0.000010\n",
    "\n",
    "y = 0.0000001\n",
    "print(f\"{y:f}\")       # 0.000000\n",
    "print(f\"{y:.7f}\")     # 0.0000001\n",
    "```\n",
    "\n",
    "- Adjust the number of decimal places with precision specifiers (e.g., `.7f`).\n",
    "- Use scientific notation for concise representation of very small or large numbers.\n",
    "\n",
    "### Division in Python: Classic, Floor, and True Division\n",
    "\n",
    "Python distinguishes between **true division** (`/`) and **floor division** (`//`):\n",
    "\n",
    "#### True Division (`/`)\n",
    "\n",
    "- Returns a floating-point result, even for two integers:\n",
    "    ```python\n",
    "    4 / 2   # 2.0\n",
    "    ```\n",
    "\n",
    "#### Floor Division (`//`)\n",
    "\n",
    "- Returns the **largest integer less than or equal to the division result** (rounds down):\n",
    "    ```python\n",
    "    7 // 3  # 2\n",
    "    ```\n",
    "\n",
    "- Especially useful for discrete algorithms, partitioning, and index calculations.\n",
    "\n",
    "### Rationale, Theoretical Context, and Best Practices\n",
    "\n",
    "#### When to Use Each Type\n",
    "\n",
    "- **int**: Use for all discrete, countable quantities; safe for very large numbers.\n",
    "- **float**: Use for continuous data, scientific calculations, and where performance trumps exact precision.\n",
    "- **Decimal**: Use when you require absolute precision (financial calculations, regulatory reporting, exact arithmetic).\n",
    "\n",
    "#### Pythonic Principles\n",
    "\n",
    "- **Be explicit**: Always choose the type matching the required precision and behaviour.\n",
    "- **Format output**: Use formatted strings (f-strings) for human-readable, context-appropriate display.\n",
    "- **Test for equality cautiously**: Never use `==` for floats or decimals unless you are certain of the underlying value—prefer tolerances or the `math.isclose()` function.\n",
    "- **Embrace built-in modules**: Use `decimal` for precision and `fractions` for rational numbers as needed.\n",
    "\n",
    "\n",
    "Mastery of Python’s numeric data types—**int**, **float**, and **Decimal**—is critical for writing robust, precise, and maintainable code in any scientific, engineering, or financial context. Python’s flexible, extensible numeric model supports applications ranging from quick calculations to exact, regulatory-grade computations. The most Pythonic approach is to select the simplest type that guarantees the correctness of your results, format output for clarity, and leverage Python’s rich standard library for advanced requirements.\n"
   ]
  },
  {
   "cell_type": "markdown",
   "id": "6d5e5026",
   "metadata": {},
   "source": [
    "## Booleans — The Logical Data Type in Python\n",
    "\n",
    "**Booleans** are a foundational data type in Python, representing truth values for logical operations, decision-making, and control flow. While simple in concept, their nuanced behaviour and deep integration into the language's logic model make them essential for writing expressive, robust, and idiomatic Python code.\n",
    "\n",
    "### The Boolean Data Type: True and False\n",
    "\n",
    "In Python, the two Boolean values are represented by the built-in constants `True` and `False` (note the **capitalisation**; lowercase `true` and `false` are not valid and will result in a `NameError`). This contrasts with languages like JavaScript or C, where the case may differ.\n",
    "\n",
    "```python\n",
    "is_active = True\n",
    "is_closed = False\n",
    "```\n",
    "\n",
    "#### Booleans in Control Flow\n",
    "\n",
    "Boolean values are most commonly used to control the execution of code:\n",
    "\n",
    "```python\n",
    "ready_to_run = True\n",
    "if ready_to_run:\n",
    "    print(\"Proceeding with execution.\")\n",
    "```\n",
    "\n",
    "### Truthy and Falsey: Implicit Boolean Contexts\n",
    "\n",
    "Python adopts a flexible system where not only explicit `True` and `False` but also many other objects can be used in Boolean contexts:\n",
    "\n",
    "#### Truthy Values\n",
    "\n",
    "Values that evaluate to `True` in a Boolean context:\n",
    "- Any non-empty string: `\"Hello\"`\n",
    "- Any non-empty list, tuple, or dictionary: `[1]`, `{\"key\": \"value\"}`\n",
    "- Any non-zero number: `1`, `-1`, `0.01`\n",
    "- Custom objects unless otherwise specified with `__bool__` or `__len__`\n",
    "\n",
    "#### Falsey Values\n",
    "\n",
    "Values that evaluate to `False`:\n",
    "- `None`\n",
    "- `False`\n",
    "- Zero of any numeric type: `0`, `0.0`\n",
    "- Empty sequences and collections: `''`, `[]`, `{}`, `set()`\n",
    "- Objects that explicitly define a `__bool__` method returning `False`\n",
    "\n",
    "**Example:**\n",
    "```python\n",
    "if \"abc\":\n",
    "    print(\"Non-empty strings are truthy.\")\n",
    "if []:\n",
    "    print(\"Will not execute: empty lists are falsey.\")\n",
    "```\n",
    "\n",
    "#### Practical Implications\n",
    "\n",
    "This system allows concise and expressive code for checking conditions:\n",
    "\n",
    "```python\n",
    "value = []\n",
    "if value:\n",
    "    print(\"Has content.\")\n",
    "else:\n",
    "    print(\"Is empty or falsey.\")\n",
    "```\n",
    "\n",
    "### Boolean Operators and Expressions\n",
    "\n",
    "Python provides several **comparison and logical operators** that return Boolean values, including:\n",
    "\n",
    "- `==` : equal to\n",
    "- `!=` : not equal to\n",
    "- `<`  : less than\n",
    "- `<=` : less than or equal to\n",
    "- `>`  : greater than\n",
    "- `>=` : greater than or equal to\n",
    "\n",
    "**Example:**\n",
    "```python\n",
    "result = (score >= 50)\n",
    "```\n",
    "\n",
    "Logical operators combine or negate Boolean expressions:\n",
    "\n",
    "- `and`: True if both operands are true\n",
    "- `or` : True if at least one operand is true\n",
    "- `not`: Logical negation\n",
    "\n",
    "**Example:**\n",
    "```python\n",
    "if (user_logged_in and not is_banned):\n",
    "    print(\"Access granted.\")\n",
    "```\n",
    "\n",
    "### Floating Point Caution: Equality Pitfalls\n",
    "\n",
    "**Do not use `==` for direct comparison of floating point numbers.**\n",
    "\n",
    "Due to how floating point arithmetic is implemented, direct equality checks can fail even when the values are mathematically equivalent:\n",
    "\n",
    "```python\n",
    "x = 0.1 + 1.1\n",
    "print(x == 1.2)  # False!\n",
    "print(x)         # 1.2000000000000002\n",
    "```\n",
    "\n",
    "**Pythonic solution:** Use `math.isclose()` for tolerant floating point comparisons:\n",
    "\n",
    "```python\n",
    "import math\n",
    "if math.isclose(x, 1.2):\n",
    "    print(\"Values are effectively equal.\")\n",
    "```\n",
    "\n",
    "Booleans in Python are much more than just `True` or `False`. They are the bedrock of logic, flow control, and idiomatic Python. Understanding their behaviour—including truthiness, falseyness, and the subtle pitfalls of floating-point comparisons—equips you to write clear, reliable, and efficient code. Pythonic usage leverages the language’s rich semantics for concise, elegant logic, making your programs more readable and robust.\n"
   ]
  },
  {
   "cell_type": "code",
   "execution_count": 63,
   "id": "64cfbb5f",
   "metadata": {},
   "outputs": [
    {
     "name": "stdout",
     "output_type": "stream",
     "text": [
      "False\n",
      "True\n"
     ]
    }
   ],
   "source": [
    "# Create an empty list called my_list\n",
    "my_list = []\n",
    "\n",
    "# Print the truthiness of my_list.\n",
    "print(bool(my_list))\n",
    "\n",
    "# Append the string 'cookies' to my_list\n",
    "my_list.append(\"cookies\")\n",
    "\n",
    "# Check the truthiness of my_list\n",
    "print(bool(my_list))"
   ]
  },
  {
   "cell_type": "code",
   "execution_count": 64,
   "id": "1c3f01d3",
   "metadata": {},
   "outputs": [],
   "source": [
    "penguins = [\n",
    "    {\"species\": \"Adlie\", \"flipper_length\": 190.0, \"body_mass\": 3050.0, \"sex\": \"FEMALE\"},\n",
    "    {\"species\": \"Adlie\", \"flipper_length\": 184.0, \"body_mass\": 3325.0, \"sex\": \"FEMALE\"},\n",
    "    {\"species\": \"Gentoo\", \"flipper_length\": 209.0, \"body_mass\": 4800.0, \"sex\": \"FEMALE\",},\n",
    "    {\"species\": \"Adlie\", \"flipper_length\": 193.0, \"body_mass\": 4200.0, \"sex\": \"MALE\"},\n",
    "    {\"species\": \"Gentoo\", \"flipper_length\": 210.0, \"body_mass\": 4400.0, \"sex\": \"FEMALE\",},\n",
    "    {\"species\": \"Gentoo\", \"flipper_length\": 213.0, \"body_mass\": 4650.0, \"sex\": \"FEMALE\",},\n",
    "    {\"species\": \"Chinstrap\", \"flipper_length\": 193.0, \"body_mass\": 3600.0, \"sex\": \"FEMALE\",},\n",
    "    {\"species\": \"Adlie\", \"flipper_length\": 193.0, \"body_mass\": 3800.0, \"sex\": \"MALE\"},\n",
    "    {\"species\": \"Chinstrap\", \"flipper_length\": 199.0, \"body_mass\": 3900.0, \"sex\": \"FEMALE\",},\n",
    "    {\"species\": \"Chinstrap\", \"flipper_length\": 195.0, \"body_mass\": 3650.0, \"sex\": \"FEMALE\",},\n",
    "    {\"species\": \"Adlie\", \"flipper_length\": 185.0, \"body_mass\": 3700.0, \"sex\": \"FEMALE\"},\n",
    "    {\"species\": \"Gentoo\", \"flipper_length\": 208.0, \"body_mass\": 4575.0, \"sex\": \"FEMALE\",},\n",
    "    {\"species\": \"Adlie\", \"flipper_length\": 196.0, \"body_mass\": 4350.0, \"sex\": \"MALE\"},\n",
    "    {\"species\": \"Adlie\", \"flipper_length\": 191.0, \"body_mass\": 3700.0, \"sex\": \"FEMALE\"},\n",
    "    {\"species\": \"Chinstrap\", \"flipper_length\": 195.0, \"body_mass\": 3300.0, \"sex\": \"FEMALE\",},\n",
    "    {\"species\": \"Adlie\", \"flipper_length\": 195.0, \"body_mass\": 3450.0, \"sex\": \"FEMALE\"},\n",
    "    {\"species\": \"Gentoo\",\"flipper_length\": 217.0, \"body_mass\": 4875.0, \"sex\": \".\",},\n",
    "    {\"species\": \"Gentoo\", \"flipper_length\": 212.0, \"body_mass\": 4875.0, \"sex\": \"FEMALE\",},\n",
    "    {\"species\": \"Adlie\", \"flipper_length\": 205.0, \"body_mass\": 4300.0, \"sex\": \"MALE\"},\n",
    "    {\"species\": \"Gentoo\", \"flipper_length\": 220.0, \"body_mass\": 6000.0, \"sex\": \"MALE\"},\n",
    "]"
   ]
  },
  {
   "cell_type": "code",
   "execution_count": 65,
   "id": "58a8f773",
   "metadata": {},
   "outputs": [
    {
     "name": "stdout",
     "output_type": "stream",
     "text": [
      "Adlie - FEMALE\n",
      "Gentoo - FEMALE\n",
      "Adlie - MALE\n",
      "Gentoo - FEMALE\n",
      "Gentoo - FEMALE\n",
      "Chinstrap - FEMALE\n",
      "Adlie - MALE\n",
      "Chinstrap - FEMALE\n",
      "Chinstrap - FEMALE\n",
      "Adlie - FEMALE\n",
      "Gentoo - FEMALE\n",
      "Adlie - MALE\n",
      "Adlie - FEMALE\n",
      "Adlie - FEMALE\n",
      "Gentoo - .\n",
      "Gentoo - FEMALE\n",
      "Adlie - MALE\n",
      "Gentoo - MALE\n"
     ]
    }
   ],
   "source": [
    "# Use a for loop to iterate over the penguins list.\n",
    "for penguin in penguins:\n",
    "    \n",
    "    # Check the penguin entry for a body_mass of more than 3300 grams.\n",
    "    if penguin[\"body_mass\"] > 3300:\n",
    "        \n",
    "        # Print the species and sex of the penguin if true.\n",
    "        print(f\"{penguin['species']} - {penguin['sex']}\")"
   ]
  },
  {
   "cell_type": "code",
   "execution_count": 66,
   "id": "1ee01d39",
   "metadata": {},
   "outputs": [],
   "source": [
    "penguin_305_details = {\n",
    "    \"species\": \"Adlie\",\n",
    "    \"flipper_length\": 190.0,\n",
    "    \"body_mass\": 3050.0,\n",
    "    \"tracked\": True,\n",
    "    \"sex\": \"FEMALE\",\n",
    "}"
   ]
  },
  {
   "cell_type": "code",
   "execution_count": 67,
   "id": "f9616928",
   "metadata": {},
   "outputs": [
    {
     "name": "stdout",
     "output_type": "stream",
     "text": [
      "FEMALE: False\n"
     ]
    }
   ],
   "source": [
    "# Check the truthiness of penguin_305_details sex key.\n",
    "if penguin_305_details[\"sex\"]:\n",
    "    # If true, check if sex is True and store it as sex_is_true.\n",
    "    sex_is_true = penguin_305_details[\"sex\"] is True\n",
    "    \n",
    "    # Print the sex key's value and sex_is_true\n",
    "    print(f\"{penguin_305_details['sex']}: {sex_is_true}\")"
   ]
  },
  {
   "cell_type": "code",
   "execution_count": 68,
   "id": "5430c04c",
   "metadata": {},
   "outputs": [
    {
     "name": "stdout",
     "output_type": "stream",
     "text": [
      "True: True\n"
     ]
    }
   ],
   "source": [
    "# Check the truthiness of penguin_305_details tracked key.\n",
    "if penguin_305_details[\"tracked\"]:\n",
    "\n",
    "    # If true, check if tracked is True and store it as tracked_is_true.\n",
    "    tracked_is_true = penguin_305_details[\"tracked\"] is True\n",
    "\n",
    "    # Print the tracked key and tracked_is_true\n",
    "    print(f\"{penguin_305_details['tracked']}: {tracked_is_true}\")"
   ]
  },
  {
   "cell_type": "markdown",
   "id": "e1de4c32",
   "metadata": {},
   "source": [
    "## Sets in Python: Unordered Collections and Optimised Logic Operations\n",
    "\n",
    "**Sets** are a fundamental data structure in Python, offering unique, unordered, and mutable collections optimised for rapid membership testing and powerful mathematical operations. Python's set type is a direct, practical implementation of set theory, making it a critical tool for any programmer needing to handle distinct elements, eliminate duplicates, or perform efficient logic-based data analysis.\n",
    "\n",
    "\n",
    "### Core Properties of Sets\n",
    "\n",
    "- **Unique Elements:** Sets automatically remove duplicates—every element is unique.\n",
    "- **Unordered:** The order of elements is not preserved or meaningful.\n",
    "- **Mutable:** Sets can be modified after creation by adding or removing elements.\n",
    "- **Efficient Membership Testing:** Sets use hash tables under the hood, enabling extremely fast `in` checks.\n",
    "\n",
    "\n",
    "### Creating Sets\n",
    "\n",
    "Sets can be created from any iterable (typically lists or tuples):\n",
    "\n",
    "```python\n",
    "my_list = ['A', 'B', 'A', 'C']\n",
    "my_set = set(my_list)\n",
    "# my_set: {'A', 'B', 'C'}\n",
    "```\n",
    "\n",
    "- Direct creation of an empty set requires `set()`, not `{}` (the latter creates an empty dictionary).\n",
    "\n",
    "### Modifying Sets\n",
    "\n",
    "#### Adding Elements\n",
    "\n",
    "- Use `.add()` to insert a single element. If the element is already present, the set remains unchanged.\n",
    "\n",
    "```python\n",
    "unique_values = set()\n",
    "unique_values.add('X')\n",
    "unique_values.add('Y')\n",
    "# {'X', 'Y'}\n",
    "unique_values.add('X')\n",
    "# Still {'X', 'Y'}\n",
    "```\n",
    "\n",
    "#### Updating with Multiple Elements\n",
    "\n",
    "- Use `.update()` to add elements from another iterable or set. All duplicates are ignored.\n",
    "\n",
    "```python\n",
    "unique_values.update(['Z', 'Y'])\n",
    "# {'X', 'Y', 'Z'}\n",
    "```\n",
    "\n",
    "### Removing Elements\n",
    "\n",
    "#### Safe Removal with `.discard()`\n",
    "\n",
    "- `.discard()` removes an element if present; does nothing if absent (no error).\n",
    "\n",
    "```python\n",
    "unique_values.discard('Y')\n",
    "# {'X', 'Z'}\n",
    "unique_values.discard('NotThere')  # No error\n",
    "```\n",
    "\n",
    "#### Arbitrary Removal with `.pop()`\n",
    "\n",
    "- `.pop()` removes and returns an arbitrary element (not the “first” or “last,” as sets are unordered).\n",
    "- Raises `KeyError` if the set is empty.\n",
    "\n",
    "```python\n",
    "removed = unique_values.pop()\n",
    "print(removed)\n",
    "```\n",
    "\n",
    "### Set Operations: Mathematical Logic at Scale\n",
    "\n",
    "Sets implement all classical set-theoretic operations, making them invaluable for logic, filtering, and analytics:\n",
    "\n",
    "#### Union\n",
    "\n",
    "- Returns all elements present in either set (logical OR).\n",
    "\n",
    "```python\n",
    "A = {1, 2, 3}\n",
    "B = {3, 4}\n",
    "A.union(B)  # {1, 2, 3, 4}\n",
    "A | B       # Alternate syntax\n",
    "```\n",
    "\n",
    "#### Intersection\n",
    "\n",
    "- Returns elements present in **both** sets (logical AND).\n",
    "\n",
    "```python\n",
    "A.intersection(B)  # {3}\n",
    "A & B\n",
    "```\n",
    "\n",
    "#### Difference\n",
    "\n",
    "- Returns elements in the first set that are **not** in the second (A - B).\n",
    "\n",
    "```python\n",
    "A.difference(B)  # {1, 2}\n",
    "A - B\n",
    "```\n",
    "\n",
    "#### Symmetric Difference\n",
    "\n",
    "- Returns elements in either set, but **not** both (XOR).\n",
    "\n",
    "```python\n",
    "A.symmetric_difference(B)  # {1, 2, 4}\n",
    "A ^ B\n",
    "```\n",
    "\n",
    "Python’s set type brings the rigour and power of set theory to everyday programming—delivering robust, efficient, and expressive solutions for handling unordered, unique collections. By using sets for deduplication, membership testing, and logic operations, and following idiomatic patterns, programmers gain both clarity and computational advantage in data-driven applications. Mastering sets is a prerequisite for any Pythonista working with logic, analytics, or large-scale data workflows.\n"
   ]
  },
  {
   "cell_type": "code",
   "execution_count": 69,
   "id": "2b9309f7",
   "metadata": {},
   "outputs": [],
   "source": [
    "male_penguin_species = {\"Adlie\", \"Gentoo\"}"
   ]
  },
  {
   "cell_type": "code",
   "execution_count": 70,
   "id": "dd40024c",
   "metadata": {},
   "outputs": [
    {
     "name": "stdout",
     "output_type": "stream",
     "text": [
      "{'Chinstrap'}\n"
     ]
    }
   ],
   "source": [
    "# Use a list comprehension to iterate over each penguin in penguins saved as female_species_list:\n",
    "\n",
    "# If the the sex of the penguin is 'FEMALE', return the species value.\n",
    "female_species_list = [penguin[\"species\"] for penguin in penguins if penguin[\"sex\"] == \"FEMALE\"]\n",
    "\n",
    "# Create a set using the female_species_list as female_penguin_species.\n",
    "female_penguin_species = set(female_species_list)\n",
    "\n",
    "# Find the difference between female_penguin_species and male_penguin_species. Store the result as differences.\n",
    "differences = female_penguin_species.difference(male_penguin_species)\n",
    "\n",
    "# Print the differences\n",
    "print(differences)"
   ]
  },
  {
   "cell_type": "markdown",
   "id": "9a49fb3c",
   "metadata": {},
   "source": [
    "### Finding all the data and the overlapping data between sets\n",
    "Sets have several methods to combine, compare, and study them all based on mathematical set theory. The `.union()` method returns a set of all the elements found in the set you used the method on plus any sets passed as arguments to the method. You can also look for overlapping data in sets by using the `.intersection()` method on a set and passing another set as an argument. It will return an empty set if nothing matches.\n",
    "\n",
    "Your job in this exercise is to find the union and intersection in the species from male and female penguins. For this purpose, two sets have been pre-loaded into your workspace: `female_penguin_species` and `male_penguin_species`."
   ]
  },
  {
   "cell_type": "code",
   "execution_count": 71,
   "id": "e9ef443d",
   "metadata": {},
   "outputs": [
    {
     "name": "stdout",
     "output_type": "stream",
     "text": [
      "3\n"
     ]
    }
   ],
   "source": [
    "# Combine all the species in female_penguin_species and male_penguin_species by computing their union. Store the result as all_species.\n",
    "all_species = female_penguin_species.union(male_penguin_species)\n",
    "\n",
    "# Print the count of names in all_species\n",
    "print(len(all_species))"
   ]
  },
  {
   "cell_type": "code",
   "execution_count": 72,
   "id": "8b294563",
   "metadata": {},
   "outputs": [
    {
     "name": "stdout",
     "output_type": "stream",
     "text": [
      "2\n"
     ]
    }
   ],
   "source": [
    "# Find all the species that occur in both female_penguin_species and male_penguin_species by computing their intersection. Store the result as overlapping_species.Find all the species that occur in both female_penguin_species and male_penguin_species by computing their intersection. Store the result as overlapping_species.\n",
    "overlapping_species = female_penguin_species.intersection(male_penguin_species)\n",
    "\n",
    "# Print the count of species in overlapping_species\n",
    "print(len(overlapping_species))"
   ]
  },
  {
   "cell_type": "markdown",
   "id": "47316d65",
   "metadata": {},
   "source": [
    "## Dictionaries of Unknown Structure: The Power of `defaultdict`\n",
    "\n",
    "When working with real-world data, it is often impossible to know all the keys that will be present in a dictionary ahead of time, or you may want to aggregate multiple values under the same key without tedious existence checks. Python's `defaultdict` (from the `collections` module) provides an elegant, efficient, and Pythonic solution to these challenges, eliminating boilerplate and making code both cleaner and safer.\n",
    "\n",
    "### The Problem: Managing Dictionaries with Unknown or Dynamic Keys\n",
    "\n",
    "#### The Classic Pattern\n",
    "\n",
    "A common pattern when aggregating data by key is to check if the key already exists in the dictionary and, if not, initialise it:\n",
    "\n",
    "```python\n",
    "by_category = {}\n",
    "for key, value in iterable:\n",
    "    if key not in by_category:\n",
    "        by_category[key] = []\n",
    "    by_category[key].append(value)\n",
    "```\n",
    "\n",
    "- This approach is verbose and error-prone.\n",
    "- It clutters logic with checks and initialisations, reducing readability and introducing opportunities for subtle bugs.\n",
    "\n",
    "### The Pythonic Solution: `collections.defaultdict`\n",
    "\n",
    "#### What is `defaultdict`?\n",
    "\n",
    "`defaultdict` is a subclass of `dict` that overrides one behaviour: when accessing a missing key, it **automatically creates a default value** based on a factory function (such as `list`, `int`, `set`, or even a custom function). This means you never have to check if a key exists before updating its value.\n",
    "\n",
    "#### Basic Syntax\n",
    "\n",
    "```python\n",
    "from collections import defaultdict\n",
    "\n",
    "# Example: Aggregating lists by key\n",
    "grouped = defaultdict(list)\n",
    "for key, value in iterable:\n",
    "    grouped[key].append(value)\n",
    "```\n",
    "\n",
    "- If `grouped[key]` does not exist, `defaultdict` automatically creates `grouped[key] = []` (or whatever you specify as the default factory) before appending.\n",
    "\n",
    "#### Supported Factories\n",
    "\n",
    "- `list`: for aggregating multiple values\n",
    "- `int`: for counting or summing values\n",
    "- `set`: for collecting unique items\n",
    "- Any callable that returns a default value\n",
    "\n",
    "### Examples\n",
    "\n",
    "#### 1. Aggregating Items by Key\n",
    "\n",
    "```python\n",
    "from collections import defaultdict\n",
    "\n",
    "records = [('A', 1), ('B', 2), ('A', 3)]\n",
    "by_key = defaultdict(list)\n",
    "for key, value in records:\n",
    "    by_key[key].append(value)\n",
    "# by_key: {'A': [1, 3], 'B': [2]}\n",
    "```\n",
    "\n",
    "#### 2. Counting Occurrences\n",
    "\n",
    "```python\n",
    "from collections import defaultdict\n",
    "\n",
    "counts = defaultdict(int)\n",
    "for category in [\"apple\", \"banana\", \"apple\"]:\n",
    "    counts[category] += 1\n",
    "# counts: {'apple': 2, 'banana': 1}\n",
    "```\n",
    "\n",
    "#### 3. Flexible Data Aggregation\n",
    "\n",
    "You can use any factory function to initialise complex structures, such as a `dict` of sets:\n",
    "\n",
    "```python\n",
    "nested = defaultdict(set)\n",
    "nested[\"fruits\"].add(\"apple\")\n",
    "nested[\"fruits\"].add(\"banana\")\n",
    "# nested: {'fruits': {'apple', 'banana'}}\n",
    "```\n",
    "\n",
    "### Pythonic Usage\n",
    "\n",
    "- Always use `defaultdict` when you are aggregating values under dynamic or unknown keys.\n",
    "- Select the default factory (`list`, `set`, `int`, etc.) that matches your aggregation logic.\n",
    "- For nested or hierarchical data, use nested `defaultdict` structures (e.g., `defaultdict(lambda: defaultdict(list))`).\n",
    "- Avoid mixing `defaultdict` with manual key initialisation—let the data structure do the work.\n",
    "- For interoperability, you can convert a `defaultdict` back to a regular `dict` if needed via `dict(my_defaultdict)`.\n",
    "\n",
    "\n",
    "## Limitations\n",
    "\n",
    "- `defaultdict` only invokes the default factory on **missing** keys—pre-existing keys are never overwritten.\n",
    "- Not always suitable if you require explicit handling or validation before initialising new keys (e.g., for error checking or logging).\n",
    "- When serialising or saving (e.g., as JSON), `defaultdict` is not directly serialisable—convert to a standard dictionary first.\n"
   ]
  },
  {
   "cell_type": "markdown",
   "id": "12a449df",
   "metadata": {},
   "source": [
    "### Using Counter on lists\n",
    "`Counter` is a powerful tool for counting, validating, and learning more about the elements within a dataset that is found in the `collections` module. You pass an iterable (list, set, tuple) or a dictionary to the `Counter`. You can also use the `Counter` object similarly to a dictionary with key/value assignment, for example `counter[key] = value`.\n",
    "\n",
    "A common usage for `Counter` is checking data for consistency prior to using it, so let's do just that."
   ]
  },
  {
   "cell_type": "code",
   "execution_count": 73,
   "id": "d8c0e2e8",
   "metadata": {},
   "outputs": [],
   "source": [
    "# Import the Counter object from collections.\n",
    "from collections import Counter"
   ]
  },
  {
   "cell_type": "code",
   "execution_count": 74,
   "id": "54949c54",
   "metadata": {},
   "outputs": [],
   "source": [
    "# Create a Counter of the penguins list called penguins_sex_counts; use a list comprehension to return the Sex of each penguin to the Counter.\n",
    "penguins_sex_counter = Counter([penguin[\"sex\"] for penguin in penguins])"
   ]
  },
  {
   "cell_type": "code",
   "execution_count": 75,
   "id": "f842a992",
   "metadata": {},
   "outputs": [
    {
     "name": "stdout",
     "output_type": "stream",
     "text": [
      "Counter({'FEMALE': 14, 'MALE': 5, '.': 1})\n"
     ]
    }
   ],
   "source": [
    "# Print the penguins_sex_counts\n",
    "print(penguins_sex_counter)"
   ]
  },
  {
   "cell_type": "code",
   "execution_count": 76,
   "id": "6badf588",
   "metadata": {},
   "outputs": [
    {
     "name": "stdout",
     "output_type": "stream",
     "text": [
      "[('Adlie', 9), ('Gentoo', 7), ('Chinstrap', 4)]\n"
     ]
    }
   ],
   "source": [
    "# Create a Counter of the penguins list called penguins_species_counts; use a list comprehension to return the Species of each penguin to the Counter.\n",
    "penguins_species_counts = Counter([penguin[\"species\"] for penguin in penguins])\n",
    "\n",
    "# Print the three most common species counts.\n",
    "print(penguins_species_counts.most_common(3))"
   ]
  },
  {
   "cell_type": "markdown",
   "id": "084e39d2",
   "metadata": {},
   "source": [
    "### Creating dictionaries of an unknown structure\n",
    "Occasionally, you'll need a structure to hold nested data, and you may not be certain that the keys will all actually exist. This can be an issue if you're trying to append items to a list for that key. You might remember the NYC data that we explored in the video. In order to solve the problem with a regular dictionary, you'll need to test that the key exists in the dictionary, and if not, add it with an empty list.\n",
    "\n",
    "You'll be working with a list of entries that contains species, flipper length, body mass, and sex of the female penguins in our study. You're going to solve this same type of problem with a much easier solution in the next exercise."
   ]
  },
  {
   "cell_type": "code",
   "execution_count": 77,
   "id": "a689a5e6",
   "metadata": {},
   "outputs": [],
   "source": [
    "weight_log = [\n",
    "    (\"Chinstrap\", \"FEMALE\", 3800.0),\n",
    "    (\"Adlie\", \"FEMALE\", 3450.0),\n",
    "    (\"Gentoo\", \"FEMALE\", 4300.0),\n",
    "    (\"Adlie\", \"FEMALE\", 3550.0),\n",
    "    (\"Adlie\", \"FEMALE\", 3175.0),\n",
    "]"
   ]
  },
  {
   "cell_type": "code",
   "execution_count": 78,
   "id": "4dae6301",
   "metadata": {},
   "outputs": [
    {
     "name": "stdout",
     "output_type": "stream",
     "text": [
      "[('FEMALE', 3450.0), ('FEMALE', 3550.0), ('FEMALE', 3175.0)]\n"
     ]
    }
   ],
   "source": [
    "# Create an empty dictionary called female_penguin_weights.\n",
    "female_penguin_weights = {}\n",
    "\n",
    "# Iterate over weight_log, unpacking it into the variables species, sex, and body_mass.\n",
    "for species, sex, body_mass in weight_log:\n",
    "\n",
    "    # Check to see if species is already in the dictionary\n",
    "    if species not in female_penguin_weights:\n",
    "\n",
    "        # Create an empty list for any missing species\n",
    "        female_penguin_weights[species] = []\n",
    "\n",
    "    # Append the sex and body_mass as a tuple to the species keys list\n",
    "    female_penguin_weights[species].append((sex, body_mass))\n",
    "\n",
    "# Print the weights for 'Adlie'\n",
    "print(female_penguin_weights[\"Adlie\"])"
   ]
  },
  {
   "cell_type": "markdown",
   "id": "dd67ddb6",
   "metadata": {},
   "source": [
    "### Safely appending to a key's value list\n",
    "Often when working with dictionaries, you will need to initialize a data type before you can use it. A prime example of this is a list, which has to be initialized on each key before you can append to that list.\n",
    "\n",
    "A `defaultdict` allows you to define what each uninitialized key will contain. When establishing a `defaultdict`, you pass it the type you want it to be, such as a `list`, `tuple`, `set`, `int`, `string`, `dictionary` or any other valid type object.\n",
    "\n",
    "You'll be working with the same weight log as last exercise, but with the male penguins in our study."
   ]
  },
  {
   "cell_type": "markdown",
   "id": "036b9289",
   "metadata": {},
   "source": [
    "\n",
    "Iterate over the list weight_log, unpacking it into the variables species, sex, and body_mass, as you did in the previous exercise. Use species as the key of the male_penguin_weights dictionary and append body_mass to its value.\n",
    "Print the first 2 items of the male_penguin_weights dictionary. You can use the .items() method for this. Remember to make it a list."
   ]
  },
  {
   "cell_type": "code",
   "execution_count": 79,
   "id": "6a20ef96",
   "metadata": {},
   "outputs": [],
   "source": [
    "weight_log = [\n",
    "    (\"Gentoo\", \"MALE\", 5500.0),\n",
    "    (\"Chinstrap\", \"MALE\", 4300.0),\n",
    "    (\"Adlie\", \"MALE\", 3800.0),\n",
    "    (\"Gentoo\", \"MALE\", 5800.0),\n",
    "    (\"Chinstrap\", \"MALE\", 4100.0),\n",
    "    (\"Adlie\", \"MALE\", 3975.0),\n",
    "    (\"Gentoo\", \"MALE\", 5400.0),\n",
    "    (\"Chinstrap\", \"MALE\", 4800.0),\n",
    "    (\"Chinstrap\", \"MALE\", 3950.0),\n",
    "    (\"Gentoo\", \"MALE\", 5250.0),\n",
    "    (\"Gentoo\", \"MALE\", 4925.0),\n",
    "    (\"Adlie\", \"MALE\", 3950.0),\n",
    "    (\"Chinstrap\", \"MALE\", 3800.0),\n",
    "    (\"Chinstrap\", \"MALE\", 4050.0),\n",
    "    (\"Adlie\", \"MALE\", 3650.0),\n",
    "]"
   ]
  },
  {
   "cell_type": "code",
   "execution_count": 80,
   "id": "6a20f681",
   "metadata": {},
   "outputs": [
    {
     "name": "stdout",
     "output_type": "stream",
     "text": [
      "[('Gentoo', [5500.0, 5800.0, 5400.0, 5250.0, 4925.0]), ('Chinstrap', [4300.0, 4100.0, 4800.0, 3950.0, 3800.0, 4050.0])]\n"
     ]
    }
   ],
   "source": [
    "# Import defaultdict from collections.\n",
    "from collections import defaultdict\n",
    "\n",
    "# Create a defaultdict with a default type of list called male_penguin_weights.\n",
    "male_penguin_weights = defaultdict(list)\n",
    "\n",
    "# Iterate over the list weight_log, unpacking it into the variables species, sex, and body_mass, as you did in the previous exercise. Use species as the key of the male_penguin_weights dictionary and append body_mass to its value.\n",
    "for species, sex, body_mass in weight_log:\n",
    "    # Use the species as the key, and append the body_mass to it\n",
    "    male_penguin_weights[species].append(body_mass)\n",
    "\n",
    "# Print the first 2 items of the male_penguin_weights dictionary\n",
    "print(list(male_penguin_weights.items())[:2])"
   ]
  },
  {
   "cell_type": "markdown",
   "id": "bd373015",
   "metadata": {},
   "source": [
    "## `namedtuple`: Readable, Immutable, and Pythonic Structured Data\n",
    "\n",
    "\n",
    "A **`namedtuple`** is an advanced tuple type in Python, provided by the `collections` module, that allows you to assign names to the fields of a tuple. This feature combines the efficiency and immutability of standard tuples with the readability and clarity of named fields, making it a powerful tool for writing expressive, self-documenting, and error-resistant code. `namedtuple` is often used as a lightweight alternative to custom classes or even single rows in a Pandas DataFrame, especially when you need immutable, fixed-structure records with named access.\n",
    "\n",
    "\n",
    "### What is a `namedtuple`?\n",
    "\n",
    "- A subclass of the built-in tuple.\n",
    "- Each position in the tuple has a **field name** for attribute-style access.\n",
    "- The structure is **fixed**: all instances share the same fields and order.\n",
    "- Remains **immutable**: fields cannot be changed after instantiation.\n",
    "- Fields can be accessed either by name (`record.field_name`) or by index (`record[index]`).\n",
    "\n",
    "### Why Use `namedtuple`?\n",
    "\n",
    "- **Readability:** Attribute access is clearer and less error-prone than positional index access.\n",
    "- **Self-Documentation:** The field names convey the meaning of each value.\n",
    "- **Performance:** Nearly as fast and memory-efficient as regular tuples, much lighter than dictionaries or custom classes.\n",
    "- **Immutability:** Ensures data consistency and safety, crucial in concurrent or functional programming paradigms.\n",
    "- **Pythonic:** Leverages Python’s object model for expressive, clear, and idiomatic code.\n",
    "\n",
    "### Creating a `namedtuple`\n",
    "\n",
    "Import and define a new `namedtuple` type by specifying a name and a sequence of field names:\n",
    "\n",
    "```python\n",
    "from collections import namedtuple\n",
    "\n",
    "# Define a new namedtuple type with three fields\n",
    "Record = namedtuple('Record', ['field1', 'field2', 'field3'])\n",
    "```\n",
    "\n",
    "- Field names can be any valid Python identifier.\n",
    "- Fields can be passed as a list, tuple, or a whitespace/comma-separated string.\n",
    "\n",
    "### Instantiating and Using `namedtuple` Objects\n",
    "\n",
    "Create an instance just like a tuple, but with named arguments for clarity:\n",
    "\n",
    "```python\n",
    "record = Record(field1='A', field2='B', field3='C')\n",
    "\n",
    "# Access by attribute name\n",
    "print(record.field1)  # 'A'\n",
    "\n",
    "# Access by index\n",
    "print(record[1])      # 'B'\n",
    "```\n",
    "\n",
    "#### Iterating Over `namedtuple` Objects\n",
    "\n",
    "You can unpack, iterate, or convert to a dictionary for flexible use:\n",
    "\n",
    "```python\n",
    "# Unpack fields\n",
    "a, b, c = record\n",
    "\n",
    "# Convert to dict for serialization or further manipulation\n",
    "record_dict = record._asdict()\n",
    "```\n",
    "\n",
    "#### Example: Collecting Structured Records\n",
    "\n",
    "```python\n",
    "Record = namedtuple('Record', ['name', 'location', 'category'])\n",
    "records = []\n",
    "for item in iterable_of_tuples:\n",
    "    details = Record(item[0], item[1], item[2])\n",
    "    records.append(details)\n",
    "\n",
    "# Attribute access is natural and readable\n",
    "for rec in records:\n",
    "    print(rec.name, rec.location, rec.category)\n",
    "```\n",
    "\n",
    "### Rationale \n",
    "\n",
    "- **Immutability** supports safer code in concurrent and functional contexts.\n",
    "- **Fixed structure** makes data validation, serialisation, and documentation easier.\n",
    "- **Expressiveness** of named fields minimises mistakes and improves code review and maintainability.\n",
    "\n",
    "#### Comparison to Alternatives\n",
    "\n",
    "- **vs. Tuples:** More readable, less error-prone (no magic index numbers).\n",
    "- **vs. Dictionaries:** More memory-efficient and ensures field order/consistency; attribute access is faster.\n",
    "- **vs. Classes:** Faster and lighter, but not extensible with methods or custom behaviour.\n",
    "\n",
    "\n",
    "### Pythonic Patterns \n",
    "\n",
    "- Use `namedtuple` for simple, immutable data structures, configuration records, or as return values for functions that return multiple related values.\n",
    "- For mutable records, prefer `dataclasses.dataclass` (Python 3.7+).\n",
    "- Use `_replace()` to create a new instance with some values changed.\n",
    "- Use `_fields` to inspect field names programmatically.\n",
    "- Use `_asdict()` for quick conversion to a dictionary.\n",
    "\n",
    "\n",
    "\n",
    "Python’s `namedtuple` is a best-of-both-worlds solution for lightweight, immutable, readable data structures. It is the most Pythonic tool for situations where you want tuple efficiency but with named access and documentation. Mastery of `namedtuple` enables you to write robust, clear, and high-performance code for a wide range of structured data scenarios.\n"
   ]
  },
  {
   "cell_type": "markdown",
   "id": "e0c0c647",
   "metadata": {},
   "source": [
    "### Creating namedtuples for storing data\n",
    "Often times when working with data, you will use a dictionary just so you can use key names to make reading the code and accessing the data easier to understand. Python has another container called a `namedtuple` that is a tuple, but has names for each position of the tuple. You create one by passing a name for the tuple type and a list of field names.\n",
    "\n",
    "For example, `Cookie = namedtuple(\"Cookie\", ['name', 'quantity'])` will create a container, and you can create new ones of the type using `Cookie('chocolate chip', 1)` where you can access the name using the `name` attribute, and then get the quantity using the `quantity` attribute.\n",
    "\n",
    "In this exercise, you're going to restructure the penguin weight log data you've been working with into `namedtuples` for more descriptive code."
   ]
  },
  {
   "cell_type": "code",
   "execution_count": 81,
   "id": "e1f025bf",
   "metadata": {},
   "outputs": [],
   "source": [
    "weight_log = [\n",
    "    (\"Gentoo\", \"MALE\", 5500.0),\n",
    "    (\"Chinstrap\", \"MALE\", 4300.0),\n",
    "    (\"Adlie\", \"MALE\", 3800.0),\n",
    "    (\"Gentoo\", \"MALE\", 5800.0),\n",
    "    (\"Chinstrap\", \"MALE\", 4100.0),\n",
    "    (\"Adlie\", \"MALE\", 3975.0),\n",
    "    (\"Gentoo\", \"MALE\", 5400.0),\n",
    "    (\"Chinstrap\", \"MALE\", 4800.0),\n",
    "    (\"Chinstrap\", \"FEMALE\", 3800.0),\n",
    "    (\"Adlie\", \"FEMALE\", 3450.0),\n",
    "    (\"Chinstrap\", \"MALE\", 3950.0),\n",
    "    (\"Gentoo\", \"MALE\", 5250.0),\n",
    "    (\"Gentoo\", \"FEMALE\", 4300.0),\n",
    "    (\"Gentoo\", \"MALE\", 4925.0),\n",
    "    (\"Adlie\", \"FEMALE\", 3550.0),\n",
    "    (\"Adlie\", \"MALE\", 3950.0),\n",
    "    (\"Chinstrap\", \"MALE\", 3800.0),\n",
    "    (\"Chinstrap\", \"MALE\", 4050.0),\n",
    "    (\"Adlie\", \"MALE\", 3650.0),\n",
    "    (\"Adlie\", \"FEMALE\", 3175.0),\n",
    "]"
   ]
  },
  {
   "cell_type": "code",
   "execution_count": 83,
   "id": "13af0c7c",
   "metadata": {},
   "outputs": [
    {
     "name": "stdout",
     "output_type": "stream",
     "text": [
      "SpeciesDetails(species='Adlie', sex='MALE', body_mass=3975.0)\n"
     ]
    }
   ],
   "source": [
    "# Import namedtuple from collections.\n",
    "from collections import namedtuple\n",
    "\n",
    "# Create a namedtuple called SpeciesDetails with a type name of SpeciesDetails and fields of 'species', 'sex', and 'body_mass'.\n",
    "SpeciesDetails = namedtuple(\"SpeciesDetails\",[\"species\", \"sex\", \"body_mass\"])\n",
    "\n",
    "# Create a list called labeled_entries.\n",
    "labeled_entries = []\n",
    "\n",
    "# Iterate over the weight_log list, unpacking it into species, sex, and body_mass, and create a new SpeciesDetails namedtuple instance for each entry and append it to labeled_entries.\n",
    "for species, sex, body_mass in weight_log:\n",
    "    details = SpeciesDetails(species, sex, body_mass)\n",
    "\n",
    "    # Append a new SpeciesDetails namedtuple instance for each entry to labeled_entries\n",
    "    labeled_entries.append(details)\n",
    "\n",
    "\n",
    "print(labeled_entries[5])"
   ]
  },
  {
   "cell_type": "markdown",
   "id": "62ac71b5",
   "metadata": {},
   "source": [
    "### Leveraging attributes on namedtuples\n",
    "Once you have a namedtuple, you can write more expressive code that is easier to understand. Remember, you can access the elements in the tuple by their name as an attribute. For example, you can access the species of the namedtuples in the previous exercise using the `.species` attribute.\n",
    "\n",
    "Here, you'll use the tuples you made in the previous exercise to see how this works."
   ]
  },
  {
   "cell_type": "code",
   "execution_count": 85,
   "id": "f734c6fc",
   "metadata": {},
   "outputs": [
    {
     "name": "stdout",
     "output_type": "stream",
     "text": [
      "MALE:4300.0\n",
      "MALE:4100.0\n",
      "MALE:4800.0\n",
      "FEMALE:3800.0\n",
      "MALE:3950.0\n",
      "MALE:3800.0\n",
      "MALE:4050.0\n"
     ]
    }
   ],
   "source": [
    "# Iterate over the first twenty entryss in the labeled_entries list:\n",
    "for entry in labeled_entries[:20]:\n",
    "    \n",
    "    # If it is a Chinstrap species:\n",
    "    if entry.species == \"Chinstrap\":\n",
    "        \n",
    "        # Print the entry's sex and body_mass separated by a :.\n",
    "        print(f\"{entry.sex}:{entry.body_mass}\")"
   ]
  },
  {
   "cell_type": "code",
   "execution_count": null,
   "id": "2a618a17",
   "metadata": {},
   "outputs": [],
   "source": []
  }
 ],
 "metadata": {
  "kernelspec": {
   "display_name": "datacamp",
   "language": "python",
   "name": "python3"
  },
  "language_info": {
   "codemirror_mode": {
    "name": "ipython",
    "version": 3
   },
   "file_extension": ".py",
   "mimetype": "text/x-python",
   "name": "python",
   "nbconvert_exporter": "python",
   "pygments_lexer": "ipython3",
   "version": "3.12.7"
  }
 },
 "nbformat": 4,
 "nbformat_minor": 5
}
