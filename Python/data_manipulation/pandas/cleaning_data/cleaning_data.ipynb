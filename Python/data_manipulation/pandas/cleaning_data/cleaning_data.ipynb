{
 "cells": [
  {
   "cell_type": "markdown",
   "id": "309d10f5",
   "metadata": {},
   "source": [
    "## Data Type Constraints\n",
    "\n",
    "Data type constraints define the permissible formats and values for each variable in a dataset. These constraints are not merely a matter of programming formality; they are essential to ensure data integrity, enable efficient computation, support robust statistical inference, and prevent logical or semantic errors during analysis.\n",
    "\n",
    "Understanding and rigorously applying data type constraints is foundational in data science and engineering, as it directly impacts:\n",
    "\n",
    "- **How data are interpreted and processed**\n",
    "- **What operations are allowed**\n",
    "- **How errors are detected and handled**\n",
    "- **Storage efficiency and computational speed**\n",
    "\n",
    "### Principle Categories of Data Types\n",
    "\n",
    "#### 1. **Text Data (Strings)**\n",
    "- **Python Type:** `str`\n",
    "- **Examples:** Names, addresses, free-text fields\n",
    "- **Constraint:** Arbitrary Unicode/textual data, not inherently orderable or arithmetically manipulable\n",
    "\n",
    "#### 2. **Integers**\n",
    "- **Python Type:** `int`\n",
    "- **Examples:** Counts, IDs, discrete numeric features (number of transactions)\n",
    "- **Constraint:** Must be whole numbers, bounded by implementation\n",
    "\n",
    "#### 3. **Floating Point Numbers (Decimals)**\n",
    "- **Python Type:** `float`\n",
    "- **Examples:** Measurements, continuous variables, financial data\n",
    "- **Constraint:** Support for fractional values, susceptible to floating-point precision issues\n",
    "\n",
    "#### 4. **Booleans**\n",
    "- **Python Type:** `bool`\n",
    "- **Examples:** Binary attributes, flags, logical features\n",
    "- **Constraint:** Only two possible values: `True` or `False`\n",
    "\n",
    "#### 5. **Dates and Times**\n",
    "- **Python Type:** `datetime`\n",
    "- **Examples:** Timestamps, dates of transactions, durations\n",
    "- **Constraint:** Must conform to valid date/time representations, including time zones and formats\n",
    "\n",
    "#### 6. **Categories (Categorical Data)**\n",
    "- **Python Type:** `category`\n",
    "- **Examples:** Gender, marital status, blood type, country codes\n",
    "- **Constraint:** Limited to a finite set of possible values (labels), can be nominal or ordinal, usually improves memory and performance\n",
    "\n",
    "\n",
    "### Why Enforce Data Type Constraints?\n",
    "\n",
    "- **Error Prevention:** Invalid data can be flagged early (e.g., attempting arithmetic on strings, or parsing nonsense dates)\n",
    "- **Logical Clarity:** Clear constraints support unambiguous operations (e.g., cannot average string fields)\n",
    "- **Efficiency:** Memory and CPU are used more effectively (categorical vs. object; integer vs. float)\n",
    "- **Reproducibility:** Ensures consistent processing and interpretation across systems and analysts\n",
    "- **Statistical Correctness:** Summary statistics, regression, and ML models require correct data types for valid results\n",
    "\n",
    "\n",
    "### Setting and Checking Data Types in Python/Pandas\n",
    "\n",
    "Pandas, as a Python data analysis library, is strongly type-aware and provides flexible tools for setting, checking, and converting data types.\n",
    "\n",
    "```python\n",
    "import pandas as pd\n",
    "\n",
    "# Read CSV while enforcing data types\n",
    "dtypes = {\n",
    "    'age': 'int',\n",
    "    'name': 'str',\n",
    "    'is_member': 'bool',\n",
    "    'signup_date': 'datetime64[ns]',\n",
    "    'membership_type': 'category'\n",
    "}\n",
    "df = pd.read_csv('data.csv', dtype=dtypes, parse_dates=['signup_date'])\n",
    "\n",
    "# Checking data types\n",
    "print(df.dtypes)\n",
    "```\n",
    "\n",
    "* **Changing data types after reading:**\n",
    "  Use `.astype()` for type conversion, `.to_datetime()` for dates, and `.astype('category')` for categorical data.\n",
    "\n",
    "### Data Type Inference and Automatic Conversion\n",
    "\n",
    "* **Pandas' automatic type inference:**\n",
    "  On reading, pandas tries to infer column types, but this can be error-prone with mixed or ambiguous data (e.g., '001' vs 1, dates in odd formats, etc).\n",
    "* **Explicit type setting is always preferable for reliability.**\n",
    "\n",
    "\n",
    "### Numeric vs. Categorical — A Crucial Distinction\n",
    "\n",
    "Some columns may contain numbers but should be treated as categories (e.g., codes, labels, ordinal groups). Conversely, a categorical-looking field may be encoded as integers and require conversion for correct analysis.\n",
    "\n",
    "* **Numeric coded categorical:** Should use `category` not `int`, as statistical summaries (mean, std) are not meaningful.\n",
    "* **Categorical to numeric:** Sometimes category labels need to be mapped to numbers (label encoding, one-hot encoding).\n",
    "\n",
    "### Enforcing Data Type Constraints \n",
    "\n",
    "* **Validate data types upon data import** (e.g., `df.dtypes`, `df.info()`)\n",
    "* **Convert and coerce data as required** (`.astype()`, `.to_datetime()`)\n",
    "* **Assert data type expectations** using Python's `assert` statement for robust code:\n",
    "\n",
    "  ```python\n",
    "  assert df['age'].dtype == 'int'\n",
    "  ```\n",
    "* **Handle non-conforming values** (e.g., parse errors, missing values) through coercion or pre-cleaning.\n",
    "\n",
    "\n",
    "### Data Type Constraints in Python\n",
    "\n",
    "| Datatype   | Example                       | Python Data Type |\n",
    "| ---------- | ----------------------------- | ---------------- |\n",
    "| Text       | First name, address           | `str`            |\n",
    "| Integer    | Customer count, quantity sold | `int`            |\n",
    "| Decimal    | Temperature, exchange rate    | `float`          |\n",
    "| Binary     | Yes/No, is\\_active            | `bool`           |\n",
    "| Dates      | Ship date, signup date        | `datetime`       |\n",
    "| Categories | Gender, marital status        | `category`       |\n",
    "\n",
    "\n"
   ]
  },
  {
   "cell_type": "code",
   "execution_count": 12,
   "id": "5760c3db",
   "metadata": {},
   "outputs": [],
   "source": [
    "import matplotlib.pyplot as plt\n",
    "import numpy as np\n",
    "import pandas as pd\n",
    "import polars as pl\n",
    "import seaborn as sns"
   ]
  },
  {
   "cell_type": "markdown",
   "id": "98e5acfb",
   "metadata": {},
   "source": [
    "### Numeric data or ... ?\n",
    "This dataset is from bicycle ride sharing data in San Francisco called ride_sharing. It contains information on the start and end stations, the trip duration, and some user information for a bike sharing service.\n",
    "\n",
    "The user_type column contains information on whether a user is taking a free ride and takes on the following values:\n",
    "\n",
    "1) for free riders.\n",
    "2) for pay per ride.\n",
    "3) for monthly subscribers."
   ]
  },
  {
   "cell_type": "markdown",
   "id": "2aa372a6",
   "metadata": {},
   "source": [
    "```python\n",
    "# Generate random dates between 2017-01-25 and 2020-01-17\n",
    "start_date = pd.to_datetime('2017-01-25')\n",
    "end_date = pd.to_datetime('2020-01-17')\n",
    "\n",
    "# Calculate the number of days between start and end dates\n",
    "date_range = (end_date - start_date).days\n",
    "\n",
    "# Generate random dates for each row\n",
    "random_days = np.random.randint(0, date_range + 1, size=len(ride_sharing))\n",
    "ride_sharing[\"ride_date\"] = start_date + pd.to_timedelta(random_days, unit='D')\n",
    "```"
   ]
  },
  {
   "cell_type": "code",
   "execution_count": 13,
   "id": "09f5b9e2",
   "metadata": {},
   "outputs": [
    {
     "data": {
      "application/vnd.microsoft.datawrangler.viewer.v0+json": {
       "columns": [
        {
         "name": "index",
         "rawType": "int64",
         "type": "integer"
        },
        {
         "name": "duration",
         "rawType": "object",
         "type": "string"
        },
        {
         "name": "station_A_id",
         "rawType": "int64",
         "type": "integer"
        },
        {
         "name": "station_A_name",
         "rawType": "object",
         "type": "string"
        },
        {
         "name": "station_B_id",
         "rawType": "int64",
         "type": "integer"
        },
        {
         "name": "station_B_name",
         "rawType": "object",
         "type": "string"
        },
        {
         "name": "bike_id",
         "rawType": "int64",
         "type": "integer"
        },
        {
         "name": "user_type",
         "rawType": "object",
         "type": "string"
        },
        {
         "name": "user_birth_year",
         "rawType": "int64",
         "type": "integer"
        },
        {
         "name": "user_gender",
         "rawType": "object",
         "type": "string"
        },
        {
         "name": "tire_sizes",
         "rawType": "float64",
         "type": "float"
        },
        {
         "name": "ride_date",
         "rawType": "object",
         "type": "string"
        }
       ],
       "ref": "d6277981-390b-4e0f-ab59-a4a9b4f9b616",
       "rows": [
        [
         "0",
         "12 minutes",
         "81",
         "Berry St at 4th St",
         "323",
         "Broadway at Kearny",
         "5480",
         "Subscriber",
         "1959",
         "Male",
         "27.0",
         "2018-09-22"
        ],
        [
         "1",
         "24 minutes",
         "3",
         "Powell St BART Station (Market St at 4th St)",
         "118",
         "Eureka Valley Recreation Center",
         "5193",
         "Subscriber",
         "1965",
         "Male",
         "26.0",
         "2019-06-15"
        ],
        [
         "2",
         "8 minutes",
         "67",
         "San Francisco Caltrain Station 2  (Townsend St at 4th St)",
         "23",
         "The Embarcadero at Steuart St",
         "3652",
         "Subscriber",
         "1993",
         "Male",
         "26.0",
         "2019-01-01"
        ],
        [
         "3",
         "4 minutes",
         "16",
         "Steuart St at Market St",
         "28",
         "The Embarcadero at Bryant St",
         "1883",
         "Subscriber",
         "1979",
         "Male",
         "29.0",
         "2018-10-17"
        ],
        [
         "4",
         "11 minutes",
         "22",
         "Howard St at Beale St",
         "350",
         "8th St at Brannan St",
         "4626",
         "Subscriber",
         "1994",
         "Male",
         "27.0",
         "2017-02-03"
        ]
       ],
       "shape": {
        "columns": 11,
        "rows": 5
       }
      },
      "text/html": [
       "<div>\n",
       "<style scoped>\n",
       "    .dataframe tbody tr th:only-of-type {\n",
       "        vertical-align: middle;\n",
       "    }\n",
       "\n",
       "    .dataframe tbody tr th {\n",
       "        vertical-align: top;\n",
       "    }\n",
       "\n",
       "    .dataframe thead th {\n",
       "        text-align: right;\n",
       "    }\n",
       "</style>\n",
       "<table border=\"1\" class=\"dataframe\">\n",
       "  <thead>\n",
       "    <tr style=\"text-align: right;\">\n",
       "      <th></th>\n",
       "      <th>duration</th>\n",
       "      <th>station_A_id</th>\n",
       "      <th>station_A_name</th>\n",
       "      <th>station_B_id</th>\n",
       "      <th>station_B_name</th>\n",
       "      <th>bike_id</th>\n",
       "      <th>user_type</th>\n",
       "      <th>user_birth_year</th>\n",
       "      <th>user_gender</th>\n",
       "      <th>tire_sizes</th>\n",
       "      <th>ride_date</th>\n",
       "    </tr>\n",
       "  </thead>\n",
       "  <tbody>\n",
       "    <tr>\n",
       "      <th>0</th>\n",
       "      <td>12 minutes</td>\n",
       "      <td>81</td>\n",
       "      <td>Berry St at 4th St</td>\n",
       "      <td>323</td>\n",
       "      <td>Broadway at Kearny</td>\n",
       "      <td>5480</td>\n",
       "      <td>Subscriber</td>\n",
       "      <td>1959</td>\n",
       "      <td>Male</td>\n",
       "      <td>27.0</td>\n",
       "      <td>2018-09-22</td>\n",
       "    </tr>\n",
       "    <tr>\n",
       "      <th>1</th>\n",
       "      <td>24 minutes</td>\n",
       "      <td>3</td>\n",
       "      <td>Powell St BART Station (Market St at 4th St)</td>\n",
       "      <td>118</td>\n",
       "      <td>Eureka Valley Recreation Center</td>\n",
       "      <td>5193</td>\n",
       "      <td>Subscriber</td>\n",
       "      <td>1965</td>\n",
       "      <td>Male</td>\n",
       "      <td>26.0</td>\n",
       "      <td>2019-06-15</td>\n",
       "    </tr>\n",
       "    <tr>\n",
       "      <th>2</th>\n",
       "      <td>8 minutes</td>\n",
       "      <td>67</td>\n",
       "      <td>San Francisco Caltrain Station 2  (Townsend St...</td>\n",
       "      <td>23</td>\n",
       "      <td>The Embarcadero at Steuart St</td>\n",
       "      <td>3652</td>\n",
       "      <td>Subscriber</td>\n",
       "      <td>1993</td>\n",
       "      <td>Male</td>\n",
       "      <td>26.0</td>\n",
       "      <td>2019-01-01</td>\n",
       "    </tr>\n",
       "    <tr>\n",
       "      <th>3</th>\n",
       "      <td>4 minutes</td>\n",
       "      <td>16</td>\n",
       "      <td>Steuart St at Market St</td>\n",
       "      <td>28</td>\n",
       "      <td>The Embarcadero at Bryant St</td>\n",
       "      <td>1883</td>\n",
       "      <td>Subscriber</td>\n",
       "      <td>1979</td>\n",
       "      <td>Male</td>\n",
       "      <td>29.0</td>\n",
       "      <td>2018-10-17</td>\n",
       "    </tr>\n",
       "    <tr>\n",
       "      <th>4</th>\n",
       "      <td>11 minutes</td>\n",
       "      <td>22</td>\n",
       "      <td>Howard St at Beale St</td>\n",
       "      <td>350</td>\n",
       "      <td>8th St at Brannan St</td>\n",
       "      <td>4626</td>\n",
       "      <td>Subscriber</td>\n",
       "      <td>1994</td>\n",
       "      <td>Male</td>\n",
       "      <td>27.0</td>\n",
       "      <td>2017-02-03</td>\n",
       "    </tr>\n",
       "  </tbody>\n",
       "</table>\n",
       "</div>"
      ],
      "text/plain": [
       "     duration  station_A_id  \\\n",
       "0  12 minutes            81   \n",
       "1  24 minutes             3   \n",
       "2   8 minutes            67   \n",
       "3   4 minutes            16   \n",
       "4  11 minutes            22   \n",
       "\n",
       "                                      station_A_name  station_B_id  \\\n",
       "0                                 Berry St at 4th St           323   \n",
       "1       Powell St BART Station (Market St at 4th St)           118   \n",
       "2  San Francisco Caltrain Station 2  (Townsend St...            23   \n",
       "3                            Steuart St at Market St            28   \n",
       "4                              Howard St at Beale St           350   \n",
       "\n",
       "                    station_B_name  bike_id   user_type  user_birth_year  \\\n",
       "0               Broadway at Kearny     5480  Subscriber             1959   \n",
       "1  Eureka Valley Recreation Center     5193  Subscriber             1965   \n",
       "2    The Embarcadero at Steuart St     3652  Subscriber             1993   \n",
       "3     The Embarcadero at Bryant St     1883  Subscriber             1979   \n",
       "4             8th St at Brannan St     4626  Subscriber             1994   \n",
       "\n",
       "  user_gender  tire_sizes   ride_date  \n",
       "0        Male        27.0  2018-09-22  \n",
       "1        Male        26.0  2019-06-15  \n",
       "2        Male        26.0  2019-01-01  \n",
       "3        Male        29.0  2018-10-17  \n",
       "4        Male        27.0  2017-02-03  "
      ]
     },
     "execution_count": 13,
     "metadata": {},
     "output_type": "execute_result"
    }
   ],
   "source": [
    "url = \"https://raw.githubusercontent.com/jhlopesalves/data-science-practice-notebook/refs/heads/main/Python/data_manipulation/pandas/cleaning_data/data/ride_sharing_new.csv\"\n",
    "\n",
    "ride_sharing = pd.read_csv(url, usecols=lambda col: not col.startswith(\"Unnamed\"))\n",
    "ride_sharing.head()"
   ]
  },
  {
   "cell_type": "code",
   "execution_count": 14,
   "id": "2524fa03",
   "metadata": {},
   "outputs": [
    {
     "name": "stdout",
     "output_type": "stream",
     "text": [
      "<class 'pandas.core.frame.DataFrame'>\n",
      "RangeIndex: 25760 entries, 0 to 25759\n",
      "Data columns (total 11 columns):\n",
      " #   Column           Non-Null Count  Dtype  \n",
      "---  ------           --------------  -----  \n",
      " 0   duration         25760 non-null  object \n",
      " 1   station_A_id     25760 non-null  int64  \n",
      " 2   station_A_name   25760 non-null  object \n",
      " 3   station_B_id     25760 non-null  int64  \n",
      " 4   station_B_name   25760 non-null  object \n",
      " 5   bike_id          25760 non-null  int64  \n",
      " 6   user_type        25760 non-null  object \n",
      " 7   user_birth_year  25760 non-null  int64  \n",
      " 8   user_gender      25760 non-null  object \n",
      " 9   tire_sizes       25760 non-null  float64\n",
      " 10  ride_date        25760 non-null  object \n",
      "dtypes: float64(1), int64(4), object(6)\n",
      "memory usage: 2.2+ MB\n"
     ]
    }
   ],
   "source": [
    "ride_sharing.info()"
   ]
  },
  {
   "cell_type": "code",
   "execution_count": 15,
   "id": "669348cf",
   "metadata": {},
   "outputs": [
    {
     "data": {
      "application/vnd.microsoft.datawrangler.viewer.v0+json": {
       "columns": [
        {
         "name": "index",
         "rawType": "object",
         "type": "string"
        },
        {
         "name": "user_type",
         "rawType": "object",
         "type": "unknown"
        }
       ],
       "ref": "4f37c1b9-6572-4a6f-aaf0-3a8ff99ba0d4",
       "rows": [
        [
         "count",
         "25760"
        ],
        [
         "unique",
         "2"
        ],
        [
         "top",
         "Subscriber"
        ],
        [
         "freq",
         "23209"
        ]
       ],
       "shape": {
        "columns": 1,
        "rows": 4
       }
      },
      "text/plain": [
       "count          25760\n",
       "unique             2\n",
       "top       Subscriber\n",
       "freq           23209\n",
       "Name: user_type, dtype: object"
      ]
     },
     "execution_count": 15,
     "metadata": {},
     "output_type": "execute_result"
    }
   ],
   "source": [
    "# Print summary statistics of user_type column\n",
    "ride_sharing[\"user_type\"].describe()"
   ]
  },
  {
   "cell_type": "code",
   "execution_count": 16,
   "id": "f305d972",
   "metadata": {},
   "outputs": [],
   "source": [
    "# Convert user_type into categorical by assigning it the 'category' data type and store it in the user_type_cat column.\n",
    "ride_sharing[\"user_type_cat\"] = ride_sharing[\"user_type\"].astype(\"category\")\n",
    "\n",
    "# Write an assert statement confirming the change\n",
    "assert ride_sharing[\"user_type_cat\"].dtype == \"category\""
   ]
  },
  {
   "cell_type": "code",
   "execution_count": 17,
   "id": "318de41f",
   "metadata": {},
   "outputs": [
    {
     "data": {
      "application/vnd.microsoft.datawrangler.viewer.v0+json": {
       "columns": [
        {
         "name": "index",
         "rawType": "object",
         "type": "string"
        },
        {
         "name": "user_type_cat",
         "rawType": "object",
         "type": "unknown"
        }
       ],
       "ref": "70581773-5990-4220-9574-2acfcd09d6ec",
       "rows": [
        [
         "count",
         "25760"
        ],
        [
         "unique",
         "2"
        ],
        [
         "top",
         "Subscriber"
        ],
        [
         "freq",
         "23209"
        ]
       ],
       "shape": {
        "columns": 1,
        "rows": 4
       }
      },
      "text/plain": [
       "count          25760\n",
       "unique             2\n",
       "top       Subscriber\n",
       "freq           23209\n",
       "Name: user_type_cat, dtype: object"
      ]
     },
     "execution_count": 17,
     "metadata": {},
     "output_type": "execute_result"
    }
   ],
   "source": [
    "# Print new summary statistics\n",
    "ride_sharing[\"user_type_cat\"].describe()"
   ]
  },
  {
   "cell_type": "markdown",
   "id": "17d52e20",
   "metadata": {},
   "source": [
    "Another common data type problem is importing what should be numerical values as strings, as mathematical operations such as summing and multiplication lead to string concatenation, not numerical outputs."
   ]
  },
  {
   "cell_type": "code",
   "execution_count": 18,
   "id": "b471bd9c",
   "metadata": {},
   "outputs": [],
   "source": [
    "# Use the .strip() method to strip duration of \"minutes\" and store it in the duration_trim column.\n",
    "ride_sharing[\"duration_trim\"] = ride_sharing[\"duration\"].str.strip(\"minutes\")\n",
    "\n",
    "ride_sharing[\"duration_time\"] = ride_sharing[\"duration_trim\"].astype(\"int\")\n",
    "\n",
    "# Write an assert statement making sure of conversion\n",
    "assert ride_sharing[\"duration_time\"].dtype == \"int\""
   ]
  },
  {
   "cell_type": "code",
   "execution_count": 19,
   "id": "212ce3d2",
   "metadata": {},
   "outputs": [
    {
     "name": "stdout",
     "output_type": "stream",
     "text": [
      "11.389052795031056\n"
     ]
    }
   ],
   "source": [
    "# Print formed columns and calculate average ride duration\n",
    "print(np.mean(ride_sharing[\"duration_time\"]))"
   ]
  },
  {
   "cell_type": "code",
   "execution_count": 20,
   "id": "dd39c687",
   "metadata": {},
   "outputs": [
    {
     "data": {
      "application/vnd.microsoft.datawrangler.viewer.v0+json": {
       "columns": [
        {
         "name": "index",
         "rawType": "int64",
         "type": "integer"
        },
        {
         "name": "station_A_id",
         "rawType": "int64",
         "type": "integer"
        },
        {
         "name": "station_A_name",
         "rawType": "object",
         "type": "string"
        },
        {
         "name": "station_B_id",
         "rawType": "int64",
         "type": "integer"
        },
        {
         "name": "station_B_name",
         "rawType": "object",
         "type": "string"
        },
        {
         "name": "bike_id",
         "rawType": "int64",
         "type": "integer"
        },
        {
         "name": "user_type",
         "rawType": "object",
         "type": "string"
        },
        {
         "name": "user_birth_year",
         "rawType": "int64",
         "type": "integer"
        },
        {
         "name": "user_gender",
         "rawType": "object",
         "type": "string"
        },
        {
         "name": "tire_sizes",
         "rawType": "float64",
         "type": "float"
        },
        {
         "name": "ride_date",
         "rawType": "object",
         "type": "string"
        },
        {
         "name": "user_type_cat",
         "rawType": "category",
         "type": "unknown"
        },
        {
         "name": "duration_time",
         "rawType": "int64",
         "type": "integer"
        }
       ],
       "ref": "31db0e22-ea51-4151-9519-89d8d5516df2",
       "rows": [
        [
         "0",
         "81",
         "Berry St at 4th St",
         "323",
         "Broadway at Kearny",
         "5480",
         "Subscriber",
         "1959",
         "Male",
         "27.0",
         "2018-09-22",
         "Subscriber",
         "12"
        ],
        [
         "1",
         "3",
         "Powell St BART Station (Market St at 4th St)",
         "118",
         "Eureka Valley Recreation Center",
         "5193",
         "Subscriber",
         "1965",
         "Male",
         "26.0",
         "2019-06-15",
         "Subscriber",
         "24"
        ],
        [
         "2",
         "67",
         "San Francisco Caltrain Station 2  (Townsend St at 4th St)",
         "23",
         "The Embarcadero at Steuart St",
         "3652",
         "Subscriber",
         "1993",
         "Male",
         "26.0",
         "2019-01-01",
         "Subscriber",
         "8"
        ],
        [
         "3",
         "16",
         "Steuart St at Market St",
         "28",
         "The Embarcadero at Bryant St",
         "1883",
         "Subscriber",
         "1979",
         "Male",
         "29.0",
         "2018-10-17",
         "Subscriber",
         "4"
        ],
        [
         "4",
         "22",
         "Howard St at Beale St",
         "350",
         "8th St at Brannan St",
         "4626",
         "Subscriber",
         "1994",
         "Male",
         "27.0",
         "2017-02-03",
         "Subscriber",
         "11"
        ]
       ],
       "shape": {
        "columns": 12,
        "rows": 5
       }
      },
      "text/html": [
       "<div>\n",
       "<style scoped>\n",
       "    .dataframe tbody tr th:only-of-type {\n",
       "        vertical-align: middle;\n",
       "    }\n",
       "\n",
       "    .dataframe tbody tr th {\n",
       "        vertical-align: top;\n",
       "    }\n",
       "\n",
       "    .dataframe thead th {\n",
       "        text-align: right;\n",
       "    }\n",
       "</style>\n",
       "<table border=\"1\" class=\"dataframe\">\n",
       "  <thead>\n",
       "    <tr style=\"text-align: right;\">\n",
       "      <th></th>\n",
       "      <th>station_A_id</th>\n",
       "      <th>station_A_name</th>\n",
       "      <th>station_B_id</th>\n",
       "      <th>station_B_name</th>\n",
       "      <th>bike_id</th>\n",
       "      <th>user_type</th>\n",
       "      <th>user_birth_year</th>\n",
       "      <th>user_gender</th>\n",
       "      <th>tire_sizes</th>\n",
       "      <th>ride_date</th>\n",
       "      <th>user_type_cat</th>\n",
       "      <th>duration_time</th>\n",
       "    </tr>\n",
       "  </thead>\n",
       "  <tbody>\n",
       "    <tr>\n",
       "      <th>0</th>\n",
       "      <td>81</td>\n",
       "      <td>Berry St at 4th St</td>\n",
       "      <td>323</td>\n",
       "      <td>Broadway at Kearny</td>\n",
       "      <td>5480</td>\n",
       "      <td>Subscriber</td>\n",
       "      <td>1959</td>\n",
       "      <td>Male</td>\n",
       "      <td>27.0</td>\n",
       "      <td>2018-09-22</td>\n",
       "      <td>Subscriber</td>\n",
       "      <td>12</td>\n",
       "    </tr>\n",
       "    <tr>\n",
       "      <th>1</th>\n",
       "      <td>3</td>\n",
       "      <td>Powell St BART Station (Market St at 4th St)</td>\n",
       "      <td>118</td>\n",
       "      <td>Eureka Valley Recreation Center</td>\n",
       "      <td>5193</td>\n",
       "      <td>Subscriber</td>\n",
       "      <td>1965</td>\n",
       "      <td>Male</td>\n",
       "      <td>26.0</td>\n",
       "      <td>2019-06-15</td>\n",
       "      <td>Subscriber</td>\n",
       "      <td>24</td>\n",
       "    </tr>\n",
       "    <tr>\n",
       "      <th>2</th>\n",
       "      <td>67</td>\n",
       "      <td>San Francisco Caltrain Station 2  (Townsend St...</td>\n",
       "      <td>23</td>\n",
       "      <td>The Embarcadero at Steuart St</td>\n",
       "      <td>3652</td>\n",
       "      <td>Subscriber</td>\n",
       "      <td>1993</td>\n",
       "      <td>Male</td>\n",
       "      <td>26.0</td>\n",
       "      <td>2019-01-01</td>\n",
       "      <td>Subscriber</td>\n",
       "      <td>8</td>\n",
       "    </tr>\n",
       "    <tr>\n",
       "      <th>3</th>\n",
       "      <td>16</td>\n",
       "      <td>Steuart St at Market St</td>\n",
       "      <td>28</td>\n",
       "      <td>The Embarcadero at Bryant St</td>\n",
       "      <td>1883</td>\n",
       "      <td>Subscriber</td>\n",
       "      <td>1979</td>\n",
       "      <td>Male</td>\n",
       "      <td>29.0</td>\n",
       "      <td>2018-10-17</td>\n",
       "      <td>Subscriber</td>\n",
       "      <td>4</td>\n",
       "    </tr>\n",
       "    <tr>\n",
       "      <th>4</th>\n",
       "      <td>22</td>\n",
       "      <td>Howard St at Beale St</td>\n",
       "      <td>350</td>\n",
       "      <td>8th St at Brannan St</td>\n",
       "      <td>4626</td>\n",
       "      <td>Subscriber</td>\n",
       "      <td>1994</td>\n",
       "      <td>Male</td>\n",
       "      <td>27.0</td>\n",
       "      <td>2017-02-03</td>\n",
       "      <td>Subscriber</td>\n",
       "      <td>11</td>\n",
       "    </tr>\n",
       "  </tbody>\n",
       "</table>\n",
       "</div>"
      ],
      "text/plain": [
       "   station_A_id                                     station_A_name  \\\n",
       "0            81                                 Berry St at 4th St   \n",
       "1             3       Powell St BART Station (Market St at 4th St)   \n",
       "2            67  San Francisco Caltrain Station 2  (Townsend St...   \n",
       "3            16                            Steuart St at Market St   \n",
       "4            22                              Howard St at Beale St   \n",
       "\n",
       "   station_B_id                   station_B_name  bike_id   user_type  \\\n",
       "0           323               Broadway at Kearny     5480  Subscriber   \n",
       "1           118  Eureka Valley Recreation Center     5193  Subscriber   \n",
       "2            23    The Embarcadero at Steuart St     3652  Subscriber   \n",
       "3            28     The Embarcadero at Bryant St     1883  Subscriber   \n",
       "4           350             8th St at Brannan St     4626  Subscriber   \n",
       "\n",
       "   user_birth_year user_gender  tire_sizes   ride_date user_type_cat  \\\n",
       "0             1959        Male        27.0  2018-09-22    Subscriber   \n",
       "1             1965        Male        26.0  2019-06-15    Subscriber   \n",
       "2             1993        Male        26.0  2019-01-01    Subscriber   \n",
       "3             1979        Male        29.0  2018-10-17    Subscriber   \n",
       "4             1994        Male        27.0  2017-02-03    Subscriber   \n",
       "\n",
       "   duration_time  \n",
       "0             12  \n",
       "1             24  \n",
       "2              8  \n",
       "3              4  \n",
       "4             11  "
      ]
     },
     "execution_count": 20,
     "metadata": {},
     "output_type": "execute_result"
    }
   ],
   "source": [
    "ride_sharing = ride_sharing.drop([\"duration\", \"duration_trim\"], axis=1)\n",
    "ride_sharing.head()"
   ]
  },
  {
   "cell_type": "markdown",
   "id": "5e1d2de1",
   "metadata": {},
   "source": [
    "Bicycle tire sizes could be either 26″, 27″ or 29″ and are here correctly stored as a categorical value. In an effort to cut maintenance costs, the ride sharing provider decided to set the maximum tire size to be 27″."
   ]
  },
  {
   "cell_type": "code",
   "execution_count": 21,
   "id": "48dc37bb",
   "metadata": {},
   "outputs": [
    {
     "name": "stdout",
     "output_type": "stream",
     "text": [
      "count     25760\n",
      "unique        2\n",
      "top          27\n",
      "freq      13274\n",
      "Name: tire_sizes, dtype: int64\n"
     ]
    }
   ],
   "source": [
    "# Convert the tire_sizes column from category to 'int'.\n",
    "ride_sharing[\"tire_sizes\"] = ride_sharing[\"tire_sizes\"].astype(\"int\")\n",
    "\n",
    "# Use .loc[] to set all values of tire_sizes above 27 to 27.\n",
    "ride_sharing.loc[ride_sharing[\"tire_sizes\"] > 27, \"tire_sizes\"] = 27\n",
    "\n",
    "# Reconvert tire_sizes back to categorical\n",
    "ride_sharing[\"tire_sizes\"] = ride_sharing[\"tire_sizes\"].astype(\"category\")\n",
    "\n",
    "# Print tire size description\n",
    "print(ride_sharing[\"tire_sizes\"].describe())"
   ]
  },
  {
   "cell_type": "code",
   "execution_count": 23,
   "id": "dfa5d842",
   "metadata": {},
   "outputs": [],
   "source": [
    "import datetime as dt"
   ]
  },
  {
   "cell_type": "code",
   "execution_count": 24,
   "id": "21f43649",
   "metadata": {},
   "outputs": [
    {
     "name": "stdout",
     "output_type": "stream",
     "text": [
      "2020-01-17\n"
     ]
    }
   ],
   "source": [
    "# Convert ride_date to date\n",
    "ride_sharing[\"ride_dt\"] = pd.to_datetime(ride_sharing[\"ride_date\"]).dt.date\n",
    "\n",
    "# Save today's date\n",
    "today = dt.date.today()\n",
    "\n",
    "# Set all in the future to today's date\n",
    "ride_sharing.loc[ride_sharing[\"ride_dt\"] > today, \"ride_dt\"] = today\n",
    "\n",
    "# Print maximum of ride_dt column\n",
    "print(ride_sharing[\"ride_dt\"].max())"
   ]
  },
  {
   "cell_type": "code",
   "execution_count": 25,
   "id": "a55c80aa",
   "metadata": {},
   "outputs": [
    {
     "data": {
      "application/vnd.microsoft.datawrangler.viewer.v0+json": {
       "columns": [
        {
         "name": "index",
         "rawType": "int64",
         "type": "integer"
        },
        {
         "name": "station_A_id",
         "rawType": "int64",
         "type": "integer"
        },
        {
         "name": "station_A_name",
         "rawType": "object",
         "type": "string"
        },
        {
         "name": "station_B_id",
         "rawType": "int64",
         "type": "integer"
        },
        {
         "name": "station_B_name",
         "rawType": "object",
         "type": "string"
        },
        {
         "name": "bike_id",
         "rawType": "int64",
         "type": "integer"
        },
        {
         "name": "user_type",
         "rawType": "object",
         "type": "string"
        },
        {
         "name": "user_birth_year",
         "rawType": "int64",
         "type": "integer"
        },
        {
         "name": "user_gender",
         "rawType": "object",
         "type": "string"
        },
        {
         "name": "tire_sizes",
         "rawType": "category",
         "type": "unknown"
        },
        {
         "name": "ride_date",
         "rawType": "object",
         "type": "string"
        },
        {
         "name": "user_type_cat",
         "rawType": "category",
         "type": "unknown"
        },
        {
         "name": "duration_time",
         "rawType": "int64",
         "type": "integer"
        },
        {
         "name": "ride_dt",
         "rawType": "object",
         "type": "unknown"
        }
       ],
       "ref": "86db2a2b-7040-45de-b098-e042356fe784",
       "rows": [
        [
         "0",
         "81",
         "Berry St at 4th St",
         "323",
         "Broadway at Kearny",
         "5480",
         "Subscriber",
         "1959",
         "Male",
         "27",
         "2018-09-22",
         "Subscriber",
         "12",
         "2018-09-22"
        ],
        [
         "1",
         "3",
         "Powell St BART Station (Market St at 4th St)",
         "118",
         "Eureka Valley Recreation Center",
         "5193",
         "Subscriber",
         "1965",
         "Male",
         "26",
         "2019-06-15",
         "Subscriber",
         "24",
         "2019-06-15"
        ],
        [
         "2",
         "67",
         "San Francisco Caltrain Station 2  (Townsend St at 4th St)",
         "23",
         "The Embarcadero at Steuart St",
         "3652",
         "Subscriber",
         "1993",
         "Male",
         "26",
         "2019-01-01",
         "Subscriber",
         "8",
         "2019-01-01"
        ],
        [
         "3",
         "16",
         "Steuart St at Market St",
         "28",
         "The Embarcadero at Bryant St",
         "1883",
         "Subscriber",
         "1979",
         "Male",
         "27",
         "2018-10-17",
         "Subscriber",
         "4",
         "2018-10-17"
        ],
        [
         "4",
         "22",
         "Howard St at Beale St",
         "350",
         "8th St at Brannan St",
         "4626",
         "Subscriber",
         "1994",
         "Male",
         "27",
         "2017-02-03",
         "Subscriber",
         "11",
         "2017-02-03"
        ]
       ],
       "shape": {
        "columns": 13,
        "rows": 5
       }
      },
      "text/html": [
       "<div>\n",
       "<style scoped>\n",
       "    .dataframe tbody tr th:only-of-type {\n",
       "        vertical-align: middle;\n",
       "    }\n",
       "\n",
       "    .dataframe tbody tr th {\n",
       "        vertical-align: top;\n",
       "    }\n",
       "\n",
       "    .dataframe thead th {\n",
       "        text-align: right;\n",
       "    }\n",
       "</style>\n",
       "<table border=\"1\" class=\"dataframe\">\n",
       "  <thead>\n",
       "    <tr style=\"text-align: right;\">\n",
       "      <th></th>\n",
       "      <th>station_A_id</th>\n",
       "      <th>station_A_name</th>\n",
       "      <th>station_B_id</th>\n",
       "      <th>station_B_name</th>\n",
       "      <th>bike_id</th>\n",
       "      <th>user_type</th>\n",
       "      <th>user_birth_year</th>\n",
       "      <th>user_gender</th>\n",
       "      <th>tire_sizes</th>\n",
       "      <th>ride_date</th>\n",
       "      <th>user_type_cat</th>\n",
       "      <th>duration_time</th>\n",
       "      <th>ride_dt</th>\n",
       "    </tr>\n",
       "  </thead>\n",
       "  <tbody>\n",
       "    <tr>\n",
       "      <th>0</th>\n",
       "      <td>81</td>\n",
       "      <td>Berry St at 4th St</td>\n",
       "      <td>323</td>\n",
       "      <td>Broadway at Kearny</td>\n",
       "      <td>5480</td>\n",
       "      <td>Subscriber</td>\n",
       "      <td>1959</td>\n",
       "      <td>Male</td>\n",
       "      <td>27</td>\n",
       "      <td>2018-09-22</td>\n",
       "      <td>Subscriber</td>\n",
       "      <td>12</td>\n",
       "      <td>2018-09-22</td>\n",
       "    </tr>\n",
       "    <tr>\n",
       "      <th>1</th>\n",
       "      <td>3</td>\n",
       "      <td>Powell St BART Station (Market St at 4th St)</td>\n",
       "      <td>118</td>\n",
       "      <td>Eureka Valley Recreation Center</td>\n",
       "      <td>5193</td>\n",
       "      <td>Subscriber</td>\n",
       "      <td>1965</td>\n",
       "      <td>Male</td>\n",
       "      <td>26</td>\n",
       "      <td>2019-06-15</td>\n",
       "      <td>Subscriber</td>\n",
       "      <td>24</td>\n",
       "      <td>2019-06-15</td>\n",
       "    </tr>\n",
       "    <tr>\n",
       "      <th>2</th>\n",
       "      <td>67</td>\n",
       "      <td>San Francisco Caltrain Station 2  (Townsend St...</td>\n",
       "      <td>23</td>\n",
       "      <td>The Embarcadero at Steuart St</td>\n",
       "      <td>3652</td>\n",
       "      <td>Subscriber</td>\n",
       "      <td>1993</td>\n",
       "      <td>Male</td>\n",
       "      <td>26</td>\n",
       "      <td>2019-01-01</td>\n",
       "      <td>Subscriber</td>\n",
       "      <td>8</td>\n",
       "      <td>2019-01-01</td>\n",
       "    </tr>\n",
       "    <tr>\n",
       "      <th>3</th>\n",
       "      <td>16</td>\n",
       "      <td>Steuart St at Market St</td>\n",
       "      <td>28</td>\n",
       "      <td>The Embarcadero at Bryant St</td>\n",
       "      <td>1883</td>\n",
       "      <td>Subscriber</td>\n",
       "      <td>1979</td>\n",
       "      <td>Male</td>\n",
       "      <td>27</td>\n",
       "      <td>2018-10-17</td>\n",
       "      <td>Subscriber</td>\n",
       "      <td>4</td>\n",
       "      <td>2018-10-17</td>\n",
       "    </tr>\n",
       "    <tr>\n",
       "      <th>4</th>\n",
       "      <td>22</td>\n",
       "      <td>Howard St at Beale St</td>\n",
       "      <td>350</td>\n",
       "      <td>8th St at Brannan St</td>\n",
       "      <td>4626</td>\n",
       "      <td>Subscriber</td>\n",
       "      <td>1994</td>\n",
       "      <td>Male</td>\n",
       "      <td>27</td>\n",
       "      <td>2017-02-03</td>\n",
       "      <td>Subscriber</td>\n",
       "      <td>11</td>\n",
       "      <td>2017-02-03</td>\n",
       "    </tr>\n",
       "  </tbody>\n",
       "</table>\n",
       "</div>"
      ],
      "text/plain": [
       "   station_A_id                                     station_A_name  \\\n",
       "0            81                                 Berry St at 4th St   \n",
       "1             3       Powell St BART Station (Market St at 4th St)   \n",
       "2            67  San Francisco Caltrain Station 2  (Townsend St...   \n",
       "3            16                            Steuart St at Market St   \n",
       "4            22                              Howard St at Beale St   \n",
       "\n",
       "   station_B_id                   station_B_name  bike_id   user_type  \\\n",
       "0           323               Broadway at Kearny     5480  Subscriber   \n",
       "1           118  Eureka Valley Recreation Center     5193  Subscriber   \n",
       "2            23    The Embarcadero at Steuart St     3652  Subscriber   \n",
       "3            28     The Embarcadero at Bryant St     1883  Subscriber   \n",
       "4           350             8th St at Brannan St     4626  Subscriber   \n",
       "\n",
       "   user_birth_year user_gender tire_sizes   ride_date user_type_cat  \\\n",
       "0             1959        Male         27  2018-09-22    Subscriber   \n",
       "1             1965        Male         26  2019-06-15    Subscriber   \n",
       "2             1993        Male         26  2019-01-01    Subscriber   \n",
       "3             1979        Male         27  2018-10-17    Subscriber   \n",
       "4             1994        Male         27  2017-02-03    Subscriber   \n",
       "\n",
       "   duration_time     ride_dt  \n",
       "0             12  2018-09-22  \n",
       "1             24  2019-06-15  \n",
       "2              8  2019-01-01  \n",
       "3              4  2018-10-17  \n",
       "4             11  2017-02-03  "
      ]
     },
     "execution_count": 25,
     "metadata": {},
     "output_type": "execute_result"
    }
   ],
   "source": [
    "ride_sharing.head()"
   ]
  },
  {
   "cell_type": "markdown",
   "id": "0d97339b",
   "metadata": {},
   "source": [
    "## Uniqueness Constraints\n",
    "\n",
    "Uniqueness constraints in data refer to the expectation or requirement that specific records within a dataset are distinct, without duplication. Violating uniqueness constraints can lead to misrepresentations, distorted analytics, and compromised database integrity.\n",
    "\n",
    "### Understanding Duplicate Values\n",
    "\n",
    "A **duplicate** occurs when two or more records contain identical or near-identical information across certain or all columns. Duplicates may be:\n",
    "\n",
    "- **Complete duplicates**: All column values match exactly.\n",
    "- **Partial duplicates**: Only some subset of columns match exactly.\n",
    "\n",
    "Identifying and addressing duplicates is fundamental in data cleaning, ensuring reliable analysis and reporting.\n",
    "\n",
    "### Identifying Duplicate Records\n",
    "\n",
    "#### 1. Using `.duplicated()` in pandas\n",
    "\n",
    "The `.duplicated()` method returns a boolean Series indicating duplicate rows:\n",
    "\n",
    "```python\n",
    "# Check duplicates across all columns\n",
    "duplicates = df.duplicated()\n",
    "\n",
    "# Display duplicate records\n",
    "df[duplicates]\n",
    "````\n",
    "\n",
    "#### 2. Identifying Duplicates Across Specific Columns\n",
    "\n",
    "You can specify subsets of columns to focus the search for duplicates:\n",
    "\n",
    "```python\n",
    "# Specify columns to identify duplicates\n",
    "subset_cols = ['first_name', 'last_name', 'address']\n",
    "\n",
    "duplicates = df.duplicated(subset=subset_cols, keep=False)\n",
    "\n",
    "# Display sorted duplicates clearly\n",
    "df[duplicates].sort_values(by=subset_cols)\n",
    "```\n",
    "\n",
    "#### Important parameters in `.duplicated()`:\n",
    "\n",
    "* `subset`: List of column names to consider when checking for duplicates.\n",
    "* `keep`: Determines which duplicates to mark:\n",
    "\n",
    "  * `'first'`: Mark duplicates except the first occurrence.\n",
    "  * `'last'`: Mark duplicates except the last occurrence.\n",
    "  * `False`: Mark all duplicates.\n",
    "\n",
    "```python\n",
    "# Example marking all duplicates\n",
    "duplicates_all = df.duplicated(subset=subset_cols, keep=False)\n",
    "```\n",
    "### Treating and Handling Duplicate Values\n",
    "\n",
    "#### Method 1: Removing Duplicates using `.drop_duplicates()`\n",
    "\n",
    "`.drop_duplicates()` removes duplicate rows directly:\n",
    "\n",
    "```python\n",
    "# Drop duplicate rows across entire DataFrame\n",
    "df.drop_duplicates(inplace=True)\n",
    "\n",
    "# Drop duplicates based on subset of columns\n",
    "df.drop_duplicates(subset=subset_cols, keep='first', inplace=True)\n",
    "```\n",
    "\n",
    "**Parameters:**\n",
    "\n",
    "* `subset`: Columns to consider for identifying duplicates.\n",
    "* `keep`: Controls which duplicates to retain (`'first'`, `'last'`, or `False`).\n",
    "* `inplace`: Updates the DataFrame directly if set to `True`.\n",
    "\n",
    "#### Method 2: Aggregating duplicates using `.groupby()` and `.agg()`\n",
    "\n",
    "This approach allows you to summarize data across duplicates rather than just removing them:\n",
    "\n",
    "```python\n",
    "# Define columns for duplicate identification\n",
    "subset_cols = ['first_name', 'last_name', 'address']\n",
    "\n",
    "# Define aggregation rules\n",
    "agg_rules = {\n",
    "    'height': 'mean',  # average height\n",
    "    'weight': 'max'    # maximum weight\n",
    "}\n",
    "\n",
    "# Aggregate duplicates based on rules\n",
    "df_clean = df.groupby(subset_cols).agg(agg_rules).reset_index()\n",
    "```\n",
    "\n",
    "### Verifying the Treatment of Duplicates\n",
    "\n",
    "Always verify the effectiveness of your cleaning methods using `.duplicated()` again:\n",
    "\n",
    "```python\n",
    "# Confirm no duplicates remain\n",
    "duplicates_remaining = df_clean.duplicated(subset=subset_cols, keep=False)\n",
    "assert not duplicates_remaining.any(), \"Duplicates still remain!\"\n",
    "```\n",
    "\n",
    "### Pythonic Best Practices for Handling Duplicates\n",
    "\n",
    "* **Explicit is Better than Implicit:** Clearly state the columns you're checking for duplication. Do not rely solely on defaults.\n",
    "* **Assertions for Validation:** After treatment, ensure that duplicates no longer exist.\n",
    "* **Use `groupby()` and `agg()` for Complex Scenarios:** When dropping duplicates outright is undesirable (due to loss of data richness), aggregations provide more nuanced approaches.\n",
    "\n",
    "```python\n",
    "# Pythonic verification of duplicate removal\n",
    "assert df.duplicated(subset=subset_cols).sum() == 0, \"Duplicates found after cleaning!\"\n",
    "```\n",
    "\n",
    "### Theoretical and Practical Considerations\n",
    "\n",
    "* **Business Context:** Always handle duplicates based on domain-specific rules. For example, duplicates might represent genuine repeated transactions.\n",
    "* **Impact on Analytics:** Duplicates can skew averages, sums, and frequency counts, leading to misleading analytics.\n",
    "* **Database Constraints:** Database systems use unique constraints and keys to enforce data integrity, which mirrors the concept of duplicates in data science.\n",
    "* **Data Provenance and Traceability:** Carefully document decisions around duplicates, including the reasoning for either removal or aggregation."
   ]
  },
  {
   "cell_type": "code",
   "execution_count": null,
   "id": "80d40114",
   "metadata": {},
   "outputs": [],
   "source": []
  }
 ],
 "metadata": {
  "kernelspec": {
   "display_name": "datacamp",
   "language": "python",
   "name": "python3"
  },
  "language_info": {
   "codemirror_mode": {
    "name": "ipython",
    "version": 3
   },
   "file_extension": ".py",
   "mimetype": "text/x-python",
   "name": "python",
   "nbconvert_exporter": "python",
   "pygments_lexer": "ipython3",
   "version": "3.12.7"
  }
 },
 "nbformat": 4,
 "nbformat_minor": 5
}
