{
 "cells": [
  {
   "cell_type": "markdown",
   "id": "607fc929",
   "metadata": {},
   "source": [
    "### Which day of the week?\n",
    "Hurricane Andrew, which hit Florida on August 24, 1992, was one of the costliest and deadliest hurricanes in US history. Which day of the week did it make landfall?\n",
    "\n",
    "Let's walk through all of the steps to figure this out."
   ]
  },
  {
   "cell_type": "code",
   "execution_count": 1,
   "id": "b532e274",
   "metadata": {},
   "outputs": [],
   "source": [
    "from datetime import date"
   ]
  },
  {
   "cell_type": "code",
   "execution_count": 2,
   "id": "70961da0",
   "metadata": {},
   "outputs": [
    {
     "name": "stdout",
     "output_type": "stream",
     "text": [
      "0\n"
     ]
    }
   ],
   "source": [
    "# Create a date object\n",
    "hurricane_andrew = date(1992, 8, 24)\n",
    "\n",
    "# Which day of the week is the date?\n",
    "print(hurricane_andrew.weekday())"
   ]
  },
  {
   "cell_type": "markdown",
   "id": "14ab5954",
   "metadata": {},
   "source": [
    "### How many hurricanes come early?\n",
    "In this chapter, you will work with a list of the hurricanes that made landfall in Florida from 1950 to 2017. There were 235 in total. Check out the variable `florida_hurricane_dates`, which has all of these dates.\n",
    "\n",
    "Atlantic hurricane season officially begins on June 1. How many hurricanes since 1950 have made landfall in Florida before the official start of hurricane season?"
   ]
  },
  {
   "cell_type": "code",
   "execution_count": 3,
   "id": "48c56a58",
   "metadata": {},
   "outputs": [],
   "source": [
    "# Import the florida_hurricane_dates list from the data module\n",
    "# This list contains date objects for all hurricanes that made landfall in Florida from 1950 to 2017\n",
    "from data.florida_hurricane_data import florida_hurricane_dates"
   ]
  },
  {
   "cell_type": "code",
   "execution_count": 4,
   "id": "a8ea8fc7",
   "metadata": {},
   "outputs": [
    {
     "name": "stdout",
     "output_type": "stream",
     "text": [
      "10\n"
     ]
    }
   ],
   "source": [
    "# Counter for how many before June 1\n",
    "early_hurricanes = 0\n",
    "\n",
    "# We loop over the dates\n",
    "for hurricane in florida_hurricane_dates:\n",
    "    # Check if the month is before June (month number 6)\n",
    "    if hurricane.month < 6:\n",
    "        early_hurricanes = early_hurricanes + 1\n",
    "\n",
    "print(early_hurricanes)"
   ]
  },
  {
   "cell_type": "markdown",
   "id": "85e05a03",
   "metadata": {},
   "source": [
    "## Working with Dates in Python\n",
    "\n",
    "In data analysis, dates are not merely pieces of text; they are complex data points that carry intrinsic chronological meaning. While it is possible to represent a date as a string, such as `\"10/7/2016\"`, this approach is fundamentally limited and error-prone. It raises immediate, practical questions that are remarkably difficult to answer with string manipulation alone:\n",
    "\n",
    "* **How many days have elapsed between two dates?** Subtracting one string from another is not a meaningful operation.\n",
    "* **How can you sort a list of dates chronologically?** A simple string sort would incorrectly place `\"10/7/2016\"` after `\"6/21/2017\"` because the string `\"10\"` is lexicographically greater than `\"6\"`.\n",
    "* **Which day of the week did a date fall on?** This information is not present in the string itself and requires a calendar context.\n",
    "* **How can you filter for dates within a specific range?** Each string would need to be parsed and converted, an inefficient and complex process.\n",
    "\n",
    "To solve these problems, Python provides a dedicated `date` object within the built-in `datetime` module. A `date` object is not just a container for characters; it is a rich, calendar-aware data structure that enables intuitive comparisons, arithmetic, and attribute access.\n",
    "\n",
    "### Creating and Inspecting `date` Objects\n",
    "\n",
    "The first step is to convert date-like strings or raw numbers into `date` objects. This is done by importing the `date` class and instantiating it with the year, month, and day.\n",
    "\n",
    "* **Why**: Creating a `date` object transforms raw information into a structured format that Python understands natively, unlocking a vast range of date-specific functionality.\n",
    "* **How**: Use the constructor `date(year, month, day)`.\n",
    "\n",
    "Once you have a `date` object, you can easily access its individual components as attributes.\n",
    "\n",
    "```python\n",
    "# Import the date class from the datetime module\n",
    "from datetime import date\n",
    "\n",
    "# Create two date objects\n",
    "d1 = date(2016, 10, 7)\n",
    "d2 = date(2017, 6, 21)\n",
    "\n",
    "print(f\"Original date object: {d1}\")\n",
    "\n",
    "# Access the object's attributes\n",
    "print(f\"Year: {d1.year}\")\n",
    "print(f\"Month: {d1.month}\")\n",
    "print(f\"Day: {d1.day}\")\n",
    "```\n",
    "\n",
    "A particularly useful method is `.weekday()`, which returns the day of the week as an integer, where Monday is `0` and Sunday is `6`.\n",
    "\n",
    "```python\n",
    "# Find the day of the week for the first date\n",
    "# Monday = 0, Tuesday = 1, ..., Sunday = 6\n",
    "weekday_index = d1.weekday()\n",
    "\n",
    "print(f\"\\nWeekday for {d1}: {weekday_index}\") # Friday corresponds to index 4\n",
    "```\n",
    "\n",
    "### Date Arithmetic and Comparisons\n",
    "\n",
    "The true power of `date` objects becomes apparent when you perform arithmetic and comparisons. Python overloads the standard mathematical operators for `date` objects, allowing them to be manipulated in a chronologically aware manner.\n",
    "\n",
    "#### Comparisons\n",
    "\n",
    "`date` objects can be compared directly using standard operators (`<`, `>`, `==`, `<=`, etc.). This makes sorting and finding the minimum or maximum date in a sequence trivial.\n",
    "\n",
    "```python\n",
    "# Create two date objects\n",
    "date_A = date(2025, 11, 5)\n",
    "date_B = date(2025, 12, 4)\n",
    "\n",
    "# Direct comparison\n",
    "is_A_earlier = date_A < date_B\n",
    "print(f\"Is date_A earlier than date_B? {is_A_earlier}\")\n",
    "\n",
    "# Finding the minimum in a list\n",
    "date_list = [date_B, date_A]\n",
    "earliest_date = min(date_list)\n",
    "print(f\"The earliest date in the list is: {earliest_date}\")\n",
    "```\n",
    "\n",
    "#### The `timedelta` Object\n",
    "\n",
    "When you subtract one `date` from another, the result is not another `date` but a special `timedelta` object, which represents a duration or difference between two points in time.\n",
    "\n",
    "  * **Why**: A `timedelta` captures the *span* of time (e.g., \"29 days\") rather than a specific point *in* time. This distinction is crucial for accurate date calculations.\n",
    "  * **How**: Simply subtract two `date` objects. You can then access the duration in various units, most commonly `.days`.\n",
    "\n",
    "```python\n",
    "# Subtract two dates to get a timedelta object\n",
    "time_difference = date_B - date_A\n",
    "\n",
    "print(f\"\\nType of the difference: {type(time_difference)}\")\n",
    "print(f\"Number of days elapsed: {time_difference.days}\")\n",
    "```\n",
    "\n",
    "You can also create a `timedelta` object manually and use it to perform date arithmetic, such as adding or subtracting a duration from a specific date to find a future or past date.\n",
    "\n",
    "```python\n",
    "# Import timedelta\n",
    "from datetime import timedelta\n",
    "\n",
    "# Create a timedelta representing a duration of 29 days\n",
    "duration = timedelta(days=29)\n",
    "\n",
    "# Add the duration to our starting date\n",
    "future_date = date_A + duration\n",
    "\n",
    "print(f\"\\n{date_A} plus {duration.days} days is: {future_date}\")\n",
    "print(f\"Is the calculated future_date the same as date_B? {future_date == date_B}\")\n",
    "```\n",
    "\n",
    "This demonstrates the complete arithmetic cycle: `date - date = timedelta`, and `date + timedelta = date`.\n",
    "\n",
    "### Formatting Dates for Presentation (`strftime`)\n",
    "\n",
    "While `date` objects are ideal for computation, you will often need to convert them back into formatted strings for reports, plots, or user interfaces. The `.strftime()` (string format time) method is the standard way to do this.\n",
    "\n",
    "  * **Why**: To present a `date` object in a specific, human-readable string format.\n",
    "  * **How**: Use `.strftime()` with special format codes that represent different parts of the date.\n",
    "\n",
    "```python\n",
    "# A sample date\n",
    "some_date = date(2025, 7, 13)\n",
    "\n",
    "# Format the date into different string representations\n",
    "# %Y: 4-digit year, %m: 2-digit month, %d: 2-digit day\n",
    "format_iso = some_date.strftime('%Y-%m-%d')\n",
    "\n",
    "# %A: Full weekday name, %B: Full month name\n",
    "format_readable = some_date.strftime('%A, %B %d, %Y')\n",
    "\n",
    "print(f\"\\nISO standard format: {format_iso}\")\n",
    "print(f\"A more readable format: {format_readable}\")\n",
    "```"
   ]
  },
  {
   "cell_type": "code",
   "execution_count": 5,
   "id": "452f0f31",
   "metadata": {},
   "outputs": [
    {
     "name": "stdout",
     "output_type": "stream",
     "text": [
      "218\n"
     ]
    }
   ],
   "source": [
    "# Import date\n",
    "from datetime import date\n",
    "\n",
    "# Create a date object for May 9th, 2007\n",
    "start = date(2007, 5, 9)\n",
    "\n",
    "# Create a date object for December 13th, 2007\n",
    "end = date(2007, 12, 13)\n",
    "\n",
    "# Subtract the two dates and print the number of days\n",
    "print((end - start).days)"
   ]
  },
  {
   "cell_type": "markdown",
   "id": "72fb609a",
   "metadata": {},
   "source": [
    "### Counting events per calendar month\n",
    "Hurricanes can make landfall in Florida throughout the year. As we've already discussed, some months are more hurricane-prone than others.\n",
    "\n",
    "Using `florida_hurricane_dates`, let's see how hurricanes in Florida were distributed across months throughout the year.\n",
    "\n",
    "We've created a dictionary called `hurricanes_each_month` to hold your counts and set the initial counts to zero. You will loop over the list of hurricanes, incrementing the correct month in `hurricanes_each_month` as you go, and then print the result."
   ]
  },
  {
   "cell_type": "code",
   "execution_count": 6,
   "id": "48a2f771",
   "metadata": {},
   "outputs": [],
   "source": [
    "# A dictionary to count hurricanes per calendar month\n",
    "hurricanes_each_month = {\n",
    "    1: 0,\n",
    "    2: 0,\n",
    "    3: 0,\n",
    "    4: 0,\n",
    "    5: 0,\n",
    "    6: 0,\n",
    "    7: 0,\n",
    "    8: 0,\n",
    "    9: 0,\n",
    "    10: 0,\n",
    "    11: 0,\n",
    "    12: 0,\n",
    "}"
   ]
  },
  {
   "cell_type": "code",
   "execution_count": 7,
   "id": "6d928dca",
   "metadata": {},
   "outputs": [
    {
     "name": "stdout",
     "output_type": "stream",
     "text": [
      "{1: 0, 2: 1, 3: 0, 4: 1, 5: 8, 6: 32, 7: 21, 8: 49, 9: 70, 10: 43, 11: 9, 12: 1}\n"
     ]
    }
   ],
   "source": [
    "# Loop all hurricanes\n",
    "for hurricane in florida_hurricane_dates:\n",
    "    # Pull ouut the month\n",
    "    month = hurricane.month\n",
    "    # Increment the count in your dictionary by one\n",
    "    hurricanes_each_month[month] += 1\n",
    "\n",
    "print(hurricanes_each_month)"
   ]
  },
  {
   "cell_type": "markdown",
   "id": "40d2946a",
   "metadata": {},
   "source": [
    "### Putting a list of dates in order\n",
    "Much like numbers and strings, `date` objects in Python can be put in order. Earlier dates come before later ones, and so we can sort a list of `date` objects from earliest to latest.\n",
    "\n",
    "What if our Florida hurricane dates had been scrambled? We've gone ahead and shuffled them so they're in random order and saved the results as `dates_scrambled`. Your job is to put them back in chronological order, and then print the first and last dates from this sorted list."
   ]
  },
  {
   "cell_type": "code",
   "execution_count": 8,
   "id": "c6d6d4ef",
   "metadata": {},
   "outputs": [],
   "source": [
    "from data.florida_hurricane_data import dates_scrambled"
   ]
  },
  {
   "cell_type": "code",
   "execution_count": 9,
   "id": "5ecf2476",
   "metadata": {},
   "outputs": [
    {
     "name": "stdout",
     "output_type": "stream",
     "text": [
      "1988-08-04\n",
      "2011-07-18\n"
     ]
    }
   ],
   "source": [
    "# Print the first and last scrambled dates\n",
    "print(dates_scrambled[0])\n",
    "print(dates_scrambled[-1])"
   ]
  },
  {
   "cell_type": "code",
   "execution_count": 10,
   "id": "cb737203",
   "metadata": {},
   "outputs": [
    {
     "name": "stdout",
     "output_type": "stream",
     "text": [
      "1950-08-31\n",
      "2017-10-29\n"
     ]
    }
   ],
   "source": [
    "# Put the dates in order\n",
    "dates_ordered = sorted(dates_scrambled)\n",
    "\n",
    "# Print the first and last ordered dates\n",
    "print(dates_ordered[0])\n",
    "print(dates_ordered[-1])"
   ]
  },
  {
   "cell_type": "markdown",
   "id": "c0e8e398",
   "metadata": {},
   "source": [
    "## Turning Dates into Strings\n",
    "\n",
    "While Python's `date` objects are indispensable for performing calculations, comparisons, and chronological logic, we often need to present these dates in a human-readable format for reports, user interfaces, or logs. Furthermore, when storing date information in text-based formats like CSV files or JSON, we must convert the `date` objects back into strings.\n",
    "\n",
    "The process of converting a `date` object into a string is known as **formatting**. Python provides a powerful and flexible mini-language for transforming date and time objects into nearly any string representation imaginable. The key is to choose the right format for the right purpose: a machine-readable standard for storage and a human-readable format for display.\n",
    "\n",
    "### The Gold Standard: ISO 8601 Format\n",
    "\n",
    "For storing dates as text or for any situation where computers will need to parse the dates reliably, the **ISO 8601 standard (`YYYY-MM-DD`)** is the unambiguous best practice.\n",
    "\n",
    "* **Why is it the standard?** The primary advantage of the ISO 8601 format is that **alphabetical sorting is identical to chronological sorting**. This property is incredibly valuable because it means that even simple, text-based tools can sort the data correctly without needing to understand the date's structure. It eliminates ambiguity between formats like `MM/DD/YY` and `DD/MM/YY`.\n",
    "\n",
    "```python\n",
    "# A list of dates as strings in ISO 8601 format\n",
    "some_dates_as_strings = ['2025-01-10', '2024-12-31', '2025-02-01']\n",
    "\n",
    "# A simple string sort correctly orders the dates chronologically\n",
    "print(f\"Sorted ISO 8601 strings: {sorted(some_dates_as_strings)}\")\n",
    "````\n",
    "\n",
    "  * **How to generate it in Python:** Python's `date` object makes this incredibly easy. In fact, the default string representation of a `date` object is its ISO 8601 format. For explicitness and clarity, the `.isoformat()` method should be used.\n",
    "\n",
    "\n",
    "```python\n",
    "from datetime import date\n",
    "\n",
    "# Create an example date object\n",
    "d = date(2025, 7, 13)\n",
    "\n",
    "# The default print representation is ISO 8601\n",
    "print(f\"Default string representation: {d}\")\n",
    "\n",
    "# The explicit and preferred method is .isoformat()\n",
    "iso_string = d.isoformat()\n",
    "print(f\"Explicit conversion with .isoformat(): {iso_string}\")\n",
    "```\n",
    "\n",
    "**Rule of thumb:** When saving data to a file or sending it through an API, always use `.isoformat()`.\n",
    "\n",
    "### Custom Formatting with `strftime`\n",
    "\n",
    "For human-readable output, the ISO format is often not ideal. We might prefer formats like \"Sunday, July 13, 2025\" or \"13/07/25\". This is where the powerful `.strftime()` (string *format* time) method comes into play.\n",
    "\n",
    "  * **Why**: `.strftime()` gives you complete control over the final appearance of the date string, allowing for localization, added text, and specific ordering of components.\n",
    "  * **How**: The method takes a \"format string\" as an argument. This string contains plain text and special **format codes** (also called directives), which begin with a percent sign (`%`). Each format code is a placeholder that gets replaced by a specific part of the date.\n",
    "\n",
    "\n",
    "```python\n",
    "# Our example date\n",
    "d = date(2025, 7, 13)\n",
    "\n",
    "# Just the four-digit year\n",
    "print(f\"Year only: {d.strftime('%Y')}\")\n",
    "\n",
    "# Embedding the code within a larger string\n",
    "print(d.strftime(\"The event will take place in the year %Y.\"))\n",
    "\n",
    "# A common European format: DD/MM/YY\n",
    "print(f\"DD/MM/YY format: {d.strftime('%d/%m/%y')}\")\n",
    "\n",
    "# A more descriptive, human-readable format\n",
    "print(f\"Full readable format: {d.strftime('%A, %B %d, %Y')}\")\n",
    "```\n",
    "\n",
    "#### Common `strftime` Format Codes\n",
    "\n",
    "Mastering `strftime` requires knowing the most common format codes. Here is a reference table:\n",
    "\n",
    "| Code | Meaning | Example |\n",
    "| :--- | :--- | :--- |\n",
    "| `%Y` | Year with century | `2025` |\n",
    "| `%y` | Year without century (00-99) | `25` |\n",
    "| `%m` | Month as a zero-padded decimal (01-12) | `07` |\n",
    "| `%B` | Full month name | `July` |\n",
    "| `%b` | Abbreviated month name | `Jul` |\n",
    "| `%d` | Day of the month as a zero-padded decimal (01-31) | `13` |\n",
    "| `%A` | Full weekday name | `Sunday` |\n",
    "| `%a` | Abbreviated weekday name | `Sun` |\n",
    "\n"
   ]
  },
  {
   "cell_type": "code",
   "execution_count": 11,
   "id": "680654f4",
   "metadata": {},
   "outputs": [
    {
     "name": "stdout",
     "output_type": "stream",
     "text": [
      "2017-11-05\n"
     ]
    }
   ],
   "source": [
    "from datetime import date\n",
    "\n",
    "# Example date\n",
    "d = date(2017, 11, 5)\n",
    "\n",
    "# ISO format: YYYY-MM-DD\n",
    "print(d)"
   ]
  },
  {
   "cell_type": "code",
   "execution_count": 12,
   "id": "9c2ccb47",
   "metadata": {},
   "outputs": [
    {
     "name": "stdout",
     "output_type": "stream",
     "text": [
      "['2017-11-05']\n"
     ]
    }
   ],
   "source": [
    "# Express the date in ISO format and putt it in a list \n",
    "print([d.isoformat()])"
   ]
  },
  {
   "cell_type": "code",
   "execution_count": 13,
   "id": "bcf975a0",
   "metadata": {},
   "outputs": [
    {
     "name": "stdout",
     "output_type": "stream",
     "text": [
      "['1992-12-31', '2000-01-01']\n"
     ]
    }
   ],
   "source": [
    "# A few dates that computers once had trouble with \n",
    "some_dates = [\"2000-01-01\", \"1992-12-31\"]\n",
    "\n",
    "# Print them in order \n",
    "print(sorted(some_dates))"
   ]
  },
  {
   "cell_type": "code",
   "execution_count": 14,
   "id": "d30e3fef",
   "metadata": {},
   "outputs": [
    {
     "name": "stdout",
     "output_type": "stream",
     "text": [
      "2017\n"
     ]
    }
   ],
   "source": [
    "# Example date\n",
    "d = date(2017, 1, 5)\n",
    "\n",
    "print(d.strftime(\"%Y\"))"
   ]
  },
  {
   "cell_type": "code",
   "execution_count": 15,
   "id": "30329e3c",
   "metadata": {},
   "outputs": [
    {
     "name": "stdout",
     "output_type": "stream",
     "text": [
      "2017/01/05\n"
     ]
    }
   ],
   "source": [
    "# Format YYYY/MM/DD \n",
    "print(d.strftime(\"%Y/%m/%d\"))"
   ]
  },
  {
   "cell_type": "code",
   "execution_count": 16,
   "id": "146eb2fc",
   "metadata": {},
   "outputs": [
    {
     "name": "stdout",
     "output_type": "stream",
     "text": [
      "ISO: Our ealiest hurricante date: 1950-08-31\n",
      "US: Our earliest hurricane date: 08/31/1950\n"
     ]
    }
   ],
   "source": [
    "# Assign the earliest date in florida_hurricane_dates to first_date.\n",
    "first_date = min(florida_hurricane_dates)\n",
    "\n",
    "iso = f\"Our ealiest hurricante date: {first_date.isoformat()}\"\n",
    "us = f\"Our earliest hurricane date: {first_date.strftime(\"%m/%d/%Y\")}\"\n",
    "\n",
    "print(f\"ISO: {iso}\")\n",
    "print(f\"US: {us}\")\n"
   ]
  },
  {
   "cell_type": "code",
   "execution_count": 17,
   "id": "14c769ef",
   "metadata": {},
   "outputs": [
    {
     "name": "stdout",
     "output_type": "stream",
     "text": [
      "1992-08\n",
      "AUGUST (1992)\n",
      "1992-239\n"
     ]
    }
   ],
   "source": [
    "# Create a date object\n",
    "andrew = date(1992, 8, 26)\n",
    "# Print the data in the format 'YYYY-MM'\n",
    "print(andrew.strftime(\"%Y-%m\"))\n",
    "\n",
    "# Print the date in the format 'MONTH (YYYY)'\n",
    "print(andrew.strftime(\"%B (%Y)\").upper())\n",
    "\n",
    "# Print the date in the format 'YYYY-DDD'\n",
    "print(andrew.strftime(\"%Y-%j\"))"
   ]
  },
  {
   "cell_type": "markdown",
   "id": "0b80668f",
   "metadata": {},
   "source": [
    "## Adding Time to the Mix: The `datetime` Object\n",
    "\n",
    "While Python's `date` object is perfect for handling calendar days, many applications—from logging events and scheduling tasks to analysing financial transactions—require a higher level of precision. We often need to know not just the day an event occurred, but the exact time: the hour, minute, second, and even microsecond.\n",
    "\n",
    "For this, Python's `datetime` module provides the `datetime` class. A `datetime` object is a powerful, single object that contains all the information from a `date` object (year, month, day) plus all the information from a `time` object (hour, minute, second, microsecond). It is the primary tool for working with specific moments in time.\n",
    "\n",
    "### Creating and Inspecting `datetime` Objects\n",
    "\n",
    "Creating a `datetime` object is a direct extension of creating a `date` object. You provide the year, month, and day, followed by the optional time components, which default to zero if not specified.\n",
    "\n",
    "* **Why**: To represent a specific point in time with high precision, combining both calendar and clock information into a single, structured object.\n",
    "* **How**: Use the constructor `datetime(year, month, day, hour=0, minute=0, second=0, microsecond=0)`.\n",
    "\n",
    "Once created, you can access all its individual components as attributes.\n",
    "\n",
    "```python\n",
    "# Import the datetime class from the datetime module\n",
    "from datetime import datetime\n",
    "\n",
    "# Create a specific datetime object\n",
    "dt = datetime(year=2025, month=10, day=1,\n",
    "              hour=15, minute=23, second=25,\n",
    "              microsecond=500000)\n",
    "\n",
    "print(f\"Datetime object: {dt}\")\n",
    "\n",
    "# Accessing its components\n",
    "print(f\"Year: {dt.year}\")\n",
    "print(f\"Hour: {dt.hour}\")\n",
    "print(f\"Microsecond: {dt.microsecond}\")\n",
    "```\n",
    "\n",
    "### Modifying `datetime` Objects with `.replace()`\n",
    "\n",
    "A common and powerful feature of `datetime` objects is the ability to create a modified copy with specific components changed. This is accomplished using the `.replace()` method. It's particularly useful for \"normalizing\" or \"truncating\" a datetime to a specific point, such as the beginning of the hour or day.\n",
    "\n",
    "  * **Why**: It provides an immutable way to create a new `datetime` object based on an existing one, but with specific parts adjusted. This is cleaner and safer than trying to modify the object's attributes directly.\n",
    "  * **How**: Call the `.replace()` method on an existing `datetime` object, passing the components you wish to change as keyword arguments. Any component you don't specify will be carried over from the original object.\n",
    "\n",
    "```python\n",
    "# Original datetime object\n",
    "dt = datetime(2025, 10, 1, 15, 23, 25, 500000)\n",
    "print(f\"Original datetime:   {dt}\")\n",
    "\n",
    "# Use .replace() to create a new object truncated to the beginning of the hour\n",
    "dt_truncated_to_hour = dt.replace(minute=0, second=0, microsecond=0)\n",
    "print(f\"Truncated to hour:   {dt_truncated_to_hour}\")\n",
    "\n",
    "# Use .replace() to create a new object set to the first day of the month\n",
    "dt_first_of_month = dt.replace(day=1, hour=0, minute=0, second=0, microsecond=0)\n",
    "print(f\"First of the month:  {dt_first_of_month}\")\n",
    "\n",
    "# The original object remains unchanged\n",
    "print(f\"Original is unchanged: {dt}\")\n",
    "```\n",
    "\n",
    "This method is fundamental for tasks like grouping time-series data by the hour or day. By replacing the minute and second components with zero, you can easily group all events from the same hour together."
   ]
  },
  {
   "cell_type": "code",
   "execution_count": 18,
   "id": "c8c12b41",
   "metadata": {},
   "outputs": [
    {
     "name": "stdout",
     "output_type": "stream",
     "text": [
      "2017-10-01 15:23:25\n"
     ]
    }
   ],
   "source": [
    "from datetime import datetime \n",
    "\n",
    "dt = datetime(year=2017, month=10, day=1, hour=15, minute=23, second=25)\n",
    "\n",
    "print(dt)"
   ]
  },
  {
   "cell_type": "code",
   "execution_count": 19,
   "id": "575e6c1b",
   "metadata": {},
   "outputs": [
    {
     "name": "stdout",
     "output_type": "stream",
     "text": [
      "2017-10-01 15:00:00\n"
     ]
    }
   ],
   "source": [
    "dt_hr = dt.replace(minute=0, second=0, microsecond=0)\n",
    "print(dt_hr)"
   ]
  },
  {
   "cell_type": "code",
   "execution_count": 20,
   "id": "bfa0cb0f",
   "metadata": {},
   "outputs": [
    {
     "name": "stdout",
     "output_type": "stream",
     "text": [
      "2017-10-01T15:26:26\n"
     ]
    }
   ],
   "source": [
    "# Create a datetime for October 1, 2017 at 15:26:26.\n",
    "dt = datetime(year=2017, month=10, day=1, hour=15, minute=26, second=26)\n",
    "\n",
    "# Print the results in ISO format.\n",
    "print(dt.isoformat())"
   ]
  },
  {
   "cell_type": "code",
   "execution_count": 21,
   "id": "282f6d5e",
   "metadata": {},
   "outputs": [
    {
     "name": "stdout",
     "output_type": "stream",
     "text": [
      "2017-12-31T15:19:13\n"
     ]
    }
   ],
   "source": [
    "# Create a datetime for December 31, 2017 at 15:19:13.\n",
    "dt = datetime(year=2017, month=12, day=31, hour=15, minute=19, second=13)\n",
    "\n",
    "# Print the results in ISO format.\n",
    "print(dt.isoformat())"
   ]
  },
  {
   "cell_type": "code",
   "execution_count": 22,
   "id": "e8d32ee2",
   "metadata": {},
   "outputs": [
    {
     "name": "stdout",
     "output_type": "stream",
     "text": [
      "1917-12-31 15:19:13\n"
     ]
    }
   ],
   "source": [
    "# Create a new datetime by replacing the year in dt with 1917 (instead of 2017)\n",
    "dt_old = dt.replace(year=1917)\n",
    "\n",
    "# Print the results in ISO 8601 format\n",
    "print(dt_old)"
   ]
  },
  {
   "cell_type": "markdown",
   "id": "f3cd16f4",
   "metadata": {},
   "source": [
    "### Counting events before and after noon\n",
    "In this chapter, you will be working with a list of all bike trips for one Capital Bikeshare bike, W20529, from October 1, 2017 to December 31, 2017. This list has been loaded as `onebike_datetimes`.\n",
    "\n",
    "Each element of the list is a dictionary with two entries: `start` is a `datetime` object corresponding to the start of a trip (when a bike is removed from the dock) and end is a `datetime` object corresponding to the end of a trip (when a bike is put back into a dock).\n",
    "\n",
    "You can use this data set to understand better how this bike was used. Did more trips start before noon or after noon?"
   ]
  },
  {
   "cell_type": "code",
   "execution_count": 23,
   "id": "4c318a5f",
   "metadata": {},
   "outputs": [],
   "source": [
    "import datetime\n",
    "import pandas as pd\n",
    "\n",
    "# Load bike share data from CSV and filter for the specific time period\n",
    "bike_df = pd.read_csv(\"https://assets.datacamp.com/production/repositories/3551/datasets/181c142c56d3b83112dfc16fbd933fd995e80f94/capital-onebike.csv\")\n",
    "\n",
    "# Filter data for October 1 to December 31, 2017 and select only start/end date columns\n",
    "bike_date = bike_df.query(\"`Start date` >= '2017-10-01' and `End date` <= '2017-12-31'\")[[\"Start date\", \"End date\"]].rename(columns={\"Start date\": \"start\", \"End date\":\"end\"})\n",
    "\n",
    "# Convert string columns to pandas datetime objects if not already converted\n",
    "bike_date[\"start\"] = pd.to_datetime(bike_date[\"start\"])\n",
    "bike_date[\"end\"] = pd.to_datetime(bike_date[\"end\"])\n",
    "\n",
    "# Convert pandas Timestamps to native Python datetime objects for compatibility\n",
    "# This creates a list of dictionaries where each trip has 'start' and 'end' keys\n",
    "# containing native datetime.datetime objects instead of pandas Timestamps\n",
    "onebike_datetimes = [\n",
    "    {\n",
    "        \"start\": datetime.datetime(\n",
    "            row[\"start\"].year,\n",
    "            row[\"start\"].month,\n",
    "            row[\"start\"].day,\n",
    "            row[\"start\"].hour,\n",
    "            row[\"start\"].minute,\n",
    "            row[\"start\"].second,\n",
    "        ),\n",
    "        \"end\": datetime.datetime(\n",
    "            row[\"end\"].year,\n",
    "            row[\"end\"].month,\n",
    "            row[\"end\"].day,\n",
    "            row[\"end\"].hour,\n",
    "            row[\"end\"].minute,\n",
    "            row[\"end\"].second,\n",
    "        ),\n",
    "    }\n",
    "    for _, row in bike_date.iterrows()\n",
    "]"
   ]
  },
  {
   "cell_type": "code",
   "execution_count": 24,
   "id": "c18584d6",
   "metadata": {},
   "outputs": [
    {
     "name": "stdout",
     "output_type": "stream",
     "text": [
      "{'AM': 94, 'PM': 196}\n"
     ]
    }
   ],
   "source": [
    "# Create dictionary to hold results\n",
    "trip_counts = {\"AM\": 0, \"PM\": 0}\n",
    "# Loop over all trips\n",
    "for trip in onebike_datetimes:\n",
    "\n",
    "    # Check to see if the trip starts before noon\n",
    "    if trip[\"start\"].hour < 12:\n",
    "\n",
    "        # Increment the counter for before noon\n",
    "        trip_counts[\"AM\"] += 1\n",
    "    else:\n",
    "        # Increment the counter for after noon\n",
    "        trip_counts[\"PM\"] += 1\n",
    "\n",
    "print(trip_counts)"
   ]
  },
  {
   "cell_type": "markdown",
   "id": "f863b6a5",
   "metadata": {},
   "source": [
    "## Printing and Parsing Datetimes\n",
    "\n",
    "A `datetime` object holds a rich, structured representation of a specific moment in time, ideal for arithmetic and logical comparisons. However, when we need to store this information in a file (like a CSV), send it over a network (via an API), or display it to a user, we must convert it into a string. Conversely, when we read temporal data from such sources, we must parse the strings back into `datetime` objects to restore their functionality. Python's `datetime` module provides a powerful and symmetrical pair of methods for these operations: `strftime` for formatting and `strptime` for parsing.\n",
    "\n",
    "\n",
    "### Printing Datetimes: From Object to String with `strftime`\n",
    "\n",
    "The `.strftime()` method (string *format* time) is called on a `datetime` instance and is used to create a custom-formatted string representation of that object. Its power lies in a \"format string\" that acts as a template, using special codes (directives) prefixed with a `%` to specify which parts of the `datetime` should be inserted and how they should be formatted.\n",
    "\n",
    "* **Why**: To gain complete control over the textual representation of a `datetime` object for display or for systems that require a specific, non-standard string format.\n",
    "* **How**: Call the method on a `datetime` instance, passing a format string containing text and format codes.\n",
    "\n",
    "```python\n",
    "from datetime import datetime\n",
    "\n",
    "# First, create a datetime object to work with\n",
    "dt_object = datetime(year=2025, month=12, day=30, hour=15, minute=19, second=13)\n",
    "\n",
    "# --- Example 1: Formatting just the date part ---\n",
    "# The format string \"%Y-%m-%d\" specifies a 4-digit year, a 2-digit month,\n",
    "# and a 2-digit day, separated by hyphens.\n",
    "date_string = dt_object.strftime(\"%Y-%m-%d\")\n",
    "print(f\"Date-only format: {date_string}\")\n",
    "\n",
    "# --- Example 2: Formatting the full date and time ---\n",
    "# We can add codes for hour (%H), minute (%M), and second (%S).\n",
    "full_datetime_string = dt_object.strftime(\"%Y-%m-%d %H:%M:%S\")\n",
    "print(f\"Full datetime format: {full_datetime_string}\")\n",
    "\n",
    "# --- Example 3: Creating a custom, human-readable string ---\n",
    "# The format string can contain any arbitrary text. The codes will be\n",
    "# replaced, but the rest of the text remains as is.\n",
    "custom_string = dt_object.strftime(\"Event occurred at %H:%M:%S on %d/%m/%Y.\")\n",
    "print(f\"Custom format: {custom_string}\")\n",
    "```\n",
    "\n",
    "##### Common `strftime` / `strptime` Format Codes\n",
    "\n",
    "| Code | Meaning | Example |\n",
    "| :--- | :--- | :--- |\n",
    "| `%Y` | Year with century | `2025` |\n",
    "| `%y` | Year without century (00-99) | `25` |\n",
    "| `%m` | Month as a zero-padded decimal (01-12) | `12` |\n",
    "| `%B` | Full month name | `December` |\n",
    "| `%d` | Day of the month as a zero-padded decimal (01-31) | `30` |\n",
    "| `%H` | Hour (24-hour clock) as a zero-padded decimal (00-23) | `15` |\n",
    "| `%I` | Hour (12-hour clock) as a zero-padded decimal (01-12) | `03` |\n",
    "| `%p` | Locale’s equivalent of either AM or PM. | `PM` |\n",
    "| `%M` | Minute as a zero-padded decimal (00-59) | `19` |\n",
    "| `%S` | Second as a zero-padded decimal (00-61) | `13` |\n",
    "\n",
    "\n",
    "#### The ISO 8601 Standard\n",
    "\n",
    "For machine-readable formats, custom strings are often a poor choice. The **ISO 8601** standard provides an unambiguous, internationally recognised format for representing dates and times. Python `datetime` objects have a dedicated method, `.isoformat()`, to produce this standard representation.\n",
    "\n",
    "```python\n",
    "# The .isoformat() method is the standard way to get a machine-readable string.\n",
    "# Note the 'T' separator between the date and time parts.\n",
    "iso_string = dt_object.isoformat()\n",
    "print(f\"\\nISO 8601 format: {iso_string}\")\n",
    "```\n",
    "\n",
    "### Parsing Datetimes: From String to Object with `strptime`\n",
    "\n",
    "The inverse operation of formatting is parsing. The `datetime.strptime()` method (string *parse* time) takes a string and a corresponding format string and converts it into a `datetime` object.\n",
    "\n",
    "  * **Why**: To convert date/time information received as text back into a functional `datetime` object that can be used for calculations and comparisons.\n",
    "  * **How**: This is a **class method**, so it is called on the `datetime` class itself (`datetime.strptime(...)`), not on an instance. You must provide the string to be parsed and a format string that **exactly matches** the structure of the input string.\n",
    "\n",
    "\n",
    "```python\n",
    "# The input string we want to parse\n",
    "date_string_to_parse = \"30/12/2025 15:19:13\"\n",
    "\n",
    "# The format string that describes the input string's structure\n",
    "# It must match perfectly.\n",
    "format_code = \"%d/%m/%Y %H:%M:%S\"\n",
    "\n",
    "# Call the class method to parse the string\n",
    "parsed_dt_object = datetime.strptime(date_string_to_parse, format_code)\n",
    "\n",
    "# Verify the result\n",
    "print(f\"\\nOriginal string: '{date_string_to_parse}'\")\n",
    "print(f\"Type of parsed object: {type(parsed_dt_object)}\")\n",
    "print(f\"Resulting datetime object: {parsed_dt_object}\")\n",
    "```\n",
    "\n",
    "#### The Criticality of the Format String\n",
    "\n",
    "The `strptime` method is strict. The format string is not a suggestion; it is a precise blueprint. If the format string does not perfectly account for every character in the input string, Python will raise a `ValueError`.\n",
    "\n",
    "```python\n",
    "try:\n",
    "    # This will fail because the format string does not account for the time part.\n",
    "    datetime.strptime(\"2025-12-30 15:19:13\", \"%Y-%m-%d\")\n",
    "except ValueError as e:\n",
    "    print(f\"\\nAn expected error occurred: {e}\")\n",
    "```\n",
    "\n",
    "\n",
    "### Parsing from Unix Timestamps\n",
    "\n",
    "Another common way to represent time is the **Unix timestamp**, which is the number of seconds that have elapsed since the \"Unix epoch\" (00:00:00 UTC on 1 January 1970). Python provides a direct class method to convert these timestamps into `datetime` objects.\n",
    "\n",
    "```python\n",
    "# A sample Unix timestamp (as a float)\n",
    "unix_timestamp = 1761839953.0\n",
    "\n",
    "# Convert from the timestamp to a datetime object\n",
    "dt_from_timestamp = datetime.fromtimestamp(unix_timestamp)\n",
    "\n",
    "print(f\"\\nTimestamp: {unix_timestamp}\")\n",
    "print(f\"Datetime from timestamp: {dt_from_timestamp}\")\n",
    "```"
   ]
  },
  {
   "cell_type": "code",
   "execution_count": 25,
   "id": "725110a1",
   "metadata": {},
   "outputs": [
    {
     "name": "stdout",
     "output_type": "stream",
     "text": [
      "2017-02-03 00:00:01\n"
     ]
    }
   ],
   "source": [
    "# Import the datetime class\n",
    "from datetime import datetime\n",
    "\n",
    "# Starting string, in YYYY-MM-DD HH:MM:SS format\n",
    "s = \"2017-02-03 00:00:01\"\n",
    "\n",
    "# Write a format string to parse \n",
    "fmt = \"%Y-%m-%d %H:%M:%S\"\n",
    "\n",
    "# Create a datetime object d\n",
    "d = datetime.strptime(s, fmt)\n",
    "\n",
    "# Print d\n",
    "print(d)"
   ]
  },
  {
   "cell_type": "code",
   "execution_count": 26,
   "id": "7d3aeed0",
   "metadata": {},
   "outputs": [
    {
     "name": "stdout",
     "output_type": "stream",
     "text": [
      "2030-10-15 00:00:00\n"
     ]
    }
   ],
   "source": [
    "# Starting string, in YYYY-MM-DD format\n",
    "s = \"2030-10-15\"\n",
    "\n",
    "# Write a format string to parse s\n",
    "fmt = \"%Y-%m-%d\"\n",
    "\n",
    "# Create a datetime object d\n",
    "d = datetime.strptime(s, fmt)\n",
    "\n",
    "# Print d\n",
    "print(d)"
   ]
  },
  {
   "cell_type": "code",
   "execution_count": 27,
   "id": "75a71114",
   "metadata": {},
   "outputs": [
    {
     "name": "stdout",
     "output_type": "stream",
     "text": [
      "12/15/1986 08:00:00\n"
     ]
    }
   ],
   "source": [
    "# Starting string, in MM/DD/YYYY HH:MM:SS format\n",
    "s = \"12/15/1986 08:00:00\"\n",
    "\n",
    "# Write a format string to parse s\n",
    "fmt = \"%m/%d/%Y %H:%M:%S\"\n",
    "\n",
    "# Create a datetime object d\n",
    "d = datetime.strptime(s, fmt)\n",
    "\n",
    "# Print d\n",
    "print(d.strftime(\"%m/%d/%Y %H:%M:%S\"))"
   ]
  },
  {
   "cell_type": "markdown",
   "id": "25ecce2e",
   "metadata": {},
   "source": [
    "### Parsing pairs of strings as datetimes\n",
    "Up until now, you've been working with a pre-processed list of `datetimes` for W20529's trips. For this exercise, you're going to go one step back in the data cleaning pipeline and work with the strings that the data started as.\n",
    "\n",
    "Explore `onebike_datetime_strings` in the IPython shell to determine the correct format. \n"
   ]
  },
  {
   "cell_type": "code",
   "execution_count": 28,
   "id": "cd1b4445",
   "metadata": {},
   "outputs": [],
   "source": [
    "import datetime\n",
    "\n",
    "# Extract the start and end date columns as a 2D numpy array\n",
    "start_end = bike_df[[\"Start date\", \"End date\"]].values\n",
    "\n",
    "# Convert the numpy array to a list of tuples\n",
    "# Each tuple contains (start_date_string, end_date_string)\n",
    "onebike_datetime_strings = [tuple(row) for row in start_end]"
   ]
  },
  {
   "cell_type": "code",
   "execution_count": 29,
   "id": "3e4e3cce",
   "metadata": {},
   "outputs": [],
   "source": [
    "# Write down the format string\n",
    "fmt = \"%Y-%m-%d %H:%M:%S\"\n",
    "\n",
    "# Initialize a list for holding the pairs of datetime objects\n",
    "onebike_datetimes = []\n",
    "\n",
    "# Loop over all trips\n",
    "for start, end in onebike_datetime_strings:\n",
    "    trip = {\"start\": datetime.datetime.strptime(start, fmt), \"end\": datetime.datetime.strptime(end, fmt)}\n",
    "\n",
    "    # Append the trip\n",
    "    onebike_datetimes.append(trip)"
   ]
  },
  {
   "cell_type": "markdown",
   "id": "81f5e7a0",
   "metadata": {},
   "source": [
    "### Recreating ISO format with strftime()\n",
    "In the last chapter, you used `strftime()` to create strings from `date` objects. Now that you know about `datetime` objects, let's practice doing something similar.\n",
    "\n",
    "Re-create the `.isoformat()` method, using `.strftime()`, and print the first trip start in our data set."
   ]
  },
  {
   "cell_type": "code",
   "execution_count": 30,
   "id": "bfcc1b34",
   "metadata": {},
   "outputs": [
    {
     "name": "stdout",
     "output_type": "stream",
     "text": [
      "2017-10-01T15:23:25\n",
      "2017-10-01T15:23:25\n"
     ]
    }
   ],
   "source": [
    "# Import datetime\n",
    "from datetime import datetime\n",
    "\n",
    "# Pull out the start of the first trip\n",
    "first_start = onebike_datetimes[0][\"start\"]\n",
    "\n",
    "# Format to feed to strftime()\n",
    "fmt = \"%Y-%m-%dT%H:%M:%S\"\n",
    "\n",
    "# Print out date with .isoformat(), then with .strftime() to compare\n",
    "print(first_start.isoformat())\n",
    "print(first_start.strftime(fmt))"
   ]
  },
  {
   "cell_type": "markdown",
   "id": "e1a18ae1",
   "metadata": {},
   "source": [
    "### Unix timestamps\n",
    "Datetimes are sometimes stored as Unix timestamps: the number of seconds since January 1, 1970. This is especially common with computer infrastructure, like the log files that websites keep when they get visitors."
   ]
  },
  {
   "cell_type": "code",
   "execution_count": 31,
   "id": "0ca790fd",
   "metadata": {},
   "outputs": [
    {
     "name": "stdout",
     "output_type": "stream",
     "text": [
      "[datetime.datetime(2017, 12, 30, 17, 19, 13), datetime.datetime(2017, 12, 30, 17, 9, 3)]\n"
     ]
    }
   ],
   "source": [
    "# Import datetime\n",
    "from datetime import datetime\n",
    "\n",
    "# Starting timestamps\n",
    "timestamps = [1514665153, 1514664543]\n",
    "\n",
    "# Datetime objects\n",
    "dts = []\n",
    "\n",
    "for ts in timestamps:\n",
    "    dts.append(datetime.fromtimestamp(ts))\n",
    "\n",
    "# Print results\n",
    "print(dts)"
   ]
  },
  {
   "cell_type": "markdown",
   "id": "0264244f",
   "metadata": {},
   "source": [
    "## Working with Durations and `timedelta`\n",
    "\n",
    "While `datetime` objects are essential for pinpointing specific moments in time, many analytical tasks require us to measure, represent, and manipulate the **duration** or interval *between* these moments. For this purpose, Python provides the `timedelta` object. A `timedelta` represents a span of time and is the fundamental tool for performing arithmetic with dates and datetimes.\n",
    "\n",
    "### Calculating Durations by Subtracting `datetime` Objects\n",
    "\n",
    "The most intuitive way to obtain a duration is by subtracting two points in time. When you subtract one `datetime` object from another, the result is a `timedelta` object that precisely captures the elapsed time between them.\n",
    "\n",
    "  * **Why**: This is the primary method for measuring the time that has passed between a start and an end event.\n",
    "  * **How**: Use the standard subtraction operator (`-`) on two `datetime` objects.\n",
    "\n",
    "\n",
    "```python\n",
    "from datetime import datetime\n",
    "\n",
    "# Define two distinct moments in time\n",
    "start_time = datetime(2025, 10, 8, 23, 46, 47)\n",
    "end_time = datetime(2025, 10, 9, 0, 10, 57)\n",
    "\n",
    "# Subtract the start from the end to get the duration\n",
    "duration = end_time - start_time\n",
    "\n",
    "print(f\"Start Time: {start_time}\")\n",
    "print(f\"End Time:   {end_time}\")\n",
    "print(f\"Resulting Duration Type: {type(duration)}\")\n",
    "print(f\"Duration (default format): {duration}\")\n",
    "```\n",
    "\n",
    "A `timedelta` object stores the duration internally as days, seconds, and microseconds. To be useful for most calculations, you'll often want the *total* duration expressed in a single unit. The `.total_seconds()` method is the most common way to achieve this.\n",
    "\n",
    "```python\n",
    "# Get the entire duration represented as a single float of seconds\n",
    "total_seconds_elapsed = duration.total_seconds()\n",
    "\n",
    "print(f\"\\nTotal duration in seconds: {total_seconds_elapsed}\")\n",
    "```\n",
    "\n",
    "### Creating `timedelta` Objects Manually\n",
    "\n",
    "You don't have to derive a `timedelta` from subtraction; you can also create one directly to represent a fixed interval, such as \"one hour,\" \"30 days,\" or \"500 milliseconds.\"\n",
    "\n",
    "  * **Why**: To create specific, reusable time intervals that can be added to or subtracted from `datetime` objects to calculate future or past moments.\n",
    "  * **How**: Import the `timedelta` class and instantiate it using keyword arguments such as `days`, `seconds`, `minutes`, `hours`, `weeks`, or `microseconds`.\n",
    "\n",
    "```python\n",
    "from datetime import timedelta\n",
    "\n",
    "# Create a timedelta representing exactly one second\n",
    "delta_one_second = timedelta(seconds=1)\n",
    "\n",
    "# Create a more complex timedelta\n",
    "delta_one_day_one_second = timedelta(days=1, seconds=1)\n",
    "\n",
    "print(f\"One second after the start: {start_time + delta_one_second}\")\n",
    "print(f\"One day and one second after the start: {start_time + delta_one_day_one_second}\")\n",
    "```\n",
    "\n",
    "### `timedelta` Arithmetic: Positive and Negative Durations\n",
    "\n",
    "`timedelta` objects fully support standard arithmetic, behaving precisely as you would expect. They can be positive (representing a forward span in time) or negative (representing a backward span).\n",
    "\n",
    "Adding a `timedelta` to a `datetime` moves that point forward in time, while subtracting it moves it backward.\n",
    "\n",
    "```python\n",
    "# A positive timedelta of one week\n",
    "delta_forward_one_week = timedelta(weeks=1)\n",
    "\n",
    "# A negative timedelta of one week\n",
    "delta_backward_one_week = timedelta(weeks=-1)\n",
    "\n",
    "print(f\"Original Time:       {start_time}\")\n",
    "\n",
    "# --- Moving Time Forward ---\n",
    "print(f\"One week later:      {start_time + delta_forward_one_week}\")\n",
    "\n",
    "# --- Moving Time Backward ---\n",
    "# Subtracting a positive timedelta\n",
    "print(f\"One week earlier (-): {start_time - delta_forward_one_week}\")\n",
    "\n",
    "# Adding a negative timedelta (produces the same result)\n",
    "print(f\"One week earlier (+): {start_time + delta_backward_one_week}\")\n",
    "```\n",
    "\n",
    "This demonstrates the logical consistency of `timedelta` arithmetic. This robust and intuitive behaviour makes `timedelta` an indispensable tool for any task involving time-based calculations, from scheduling and logging to analysing time-series data."
   ]
  },
  {
   "cell_type": "code",
   "execution_count": 33,
   "id": "a14ad0c5",
   "metadata": {},
   "outputs": [
    {
     "name": "stdout",
     "output_type": "stream",
     "text": [
      "1450.0\n"
     ]
    }
   ],
   "source": [
    "start = datetime(2017, 10, 8, 23, 46, 47)\n",
    "end = datetime(2017, 10, 9, 0, 10, 57)\n",
    "\n",
    "duration = end - start \n",
    "\n",
    "print(duration.total_seconds())"
   ]
  },
  {
   "cell_type": "code",
   "execution_count": null,
   "id": "993d54ce",
   "metadata": {},
   "outputs": [],
   "source": [
    "from datetime import timedelta\n",
    "\n",
    "delta1 = timedelta(seconds=1)\n",
    "\n",
    "print(start + delta1)"
   ]
  },
  {
   "cell_type": "code",
   "execution_count": 37,
   "id": "b65bfdea",
   "metadata": {},
   "outputs": [
    {
     "name": "stdout",
     "output_type": "stream",
     "text": [
      "2017-10-09 23:46:48\n"
     ]
    }
   ],
   "source": [
    "delta2 = timedelta(1, 1)\n",
    "\n",
    "print(start + delta2)"
   ]
  },
  {
   "cell_type": "code",
   "execution_count": 38,
   "id": "21439405",
   "metadata": {},
   "outputs": [
    {
     "name": "stdout",
     "output_type": "stream",
     "text": [
      "2017-10-01 23:46:47\n"
     ]
    }
   ],
   "source": [
    "delta3 = timedelta(weeks=-1)\n",
    "\n",
    "print(start + delta3)"
   ]
  }
 ],
 "metadata": {
  "kernelspec": {
   "display_name": "datacamp",
   "language": "python",
   "name": "python3"
  },
  "language_info": {
   "codemirror_mode": {
    "name": "ipython",
    "version": 3
   },
   "file_extension": ".py",
   "mimetype": "text/x-python",
   "name": "python",
   "nbconvert_exporter": "python",
   "pygments_lexer": "ipython3",
   "version": "3.12.7"
  }
 },
 "nbformat": 4,
 "nbformat_minor": 5
}
