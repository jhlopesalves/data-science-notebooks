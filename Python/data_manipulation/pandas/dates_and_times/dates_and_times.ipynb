{
 "cells": [
  {
   "cell_type": "markdown",
   "id": "607fc929",
   "metadata": {},
   "source": [
    "### Which day of the week?\n",
    "Hurricane Andrew, which hit Florida on August 24, 1992, was one of the costliest and deadliest hurricanes in US history. Which day of the week did it make landfall?\n",
    "\n",
    "Let's walk through all of the steps to figure this out."
   ]
  },
  {
   "cell_type": "code",
   "execution_count": 158,
   "id": "b532e274",
   "metadata": {},
   "outputs": [],
   "source": [
    "from datetime import date"
   ]
  },
  {
   "cell_type": "code",
   "execution_count": 159,
   "id": "70961da0",
   "metadata": {},
   "outputs": [
    {
     "name": "stdout",
     "output_type": "stream",
     "text": [
      "0\n"
     ]
    }
   ],
   "source": [
    "# Create a date object\n",
    "hurricane_andrew = date(1992, 8, 24)\n",
    "\n",
    "# Which day of the week is the date?\n",
    "print(hurricane_andrew.weekday())"
   ]
  },
  {
   "cell_type": "markdown",
   "id": "14ab5954",
   "metadata": {},
   "source": [
    "### How many hurricanes come early?\n",
    "In this chapter, you will work with a list of the hurricanes that made landfall in Florida from 1950 to 2017. There were 235 in total. Check out the variable `florida_hurricane_dates`, which has all of these dates.\n",
    "\n",
    "Atlantic hurricane season officially begins on June 1. How many hurricanes since 1950 have made landfall in Florida before the official start of hurricane season?"
   ]
  },
  {
   "cell_type": "code",
   "execution_count": 160,
   "id": "48c56a58",
   "metadata": {},
   "outputs": [],
   "source": [
    "# Import the florida_hurricane_dates list from the data module\n",
    "# This list contains date objects for all hurricanes that made landfall in Florida from 1950 to 2017\n",
    "from data.florida_hurricane_data import florida_hurricane_dates"
   ]
  },
  {
   "cell_type": "code",
   "execution_count": 161,
   "id": "a8ea8fc7",
   "metadata": {},
   "outputs": [
    {
     "name": "stdout",
     "output_type": "stream",
     "text": [
      "10\n"
     ]
    }
   ],
   "source": [
    "# Counter for how many before June 1\n",
    "early_hurricanes = 0\n",
    "\n",
    "# We loop over the dates\n",
    "for hurricane in florida_hurricane_dates:\n",
    "    # Check if the month is before June (month number 6)\n",
    "    if hurricane.month < 6:\n",
    "        early_hurricanes = early_hurricanes + 1\n",
    "\n",
    "print(early_hurricanes)"
   ]
  },
  {
   "cell_type": "markdown",
   "id": "85e05a03",
   "metadata": {},
   "source": [
    "## Working with Dates in Python\n",
    "\n",
    "In data analysis, dates are not merely pieces of text; they are complex data points that carry intrinsic chronological meaning. While it is possible to represent a date as a string, such as `\"10/7/2016\"`, this approach is fundamentally limited and error-prone. It raises immediate, practical questions that are remarkably difficult to answer with string manipulation alone:\n",
    "\n",
    "* **How many days have elapsed between two dates?** Subtracting one string from another is not a meaningful operation.\n",
    "* **How can you sort a list of dates chronologically?** A simple string sort would incorrectly place `\"10/7/2016\"` after `\"6/21/2017\"` because the string `\"10\"` is lexicographically greater than `\"6\"`.\n",
    "* **Which day of the week did a date fall on?** This information is not present in the string itself and requires a calendar context.\n",
    "* **How can you filter for dates within a specific range?** Each string would need to be parsed and converted, an inefficient and complex process.\n",
    "\n",
    "To solve these problems, Python provides a dedicated `date` object within the built-in `datetime` module. A `date` object is not just a container for characters; it is a rich, calendar-aware data structure that enables intuitive comparisons, arithmetic, and attribute access.\n",
    "\n",
    "### Creating and Inspecting `date` Objects\n",
    "\n",
    "The first step is to convert date-like strings or raw numbers into `date` objects. This is done by importing the `date` class and instantiating it with the year, month, and day.\n",
    "\n",
    "* **Why**: Creating a `date` object transforms raw information into a structured format that Python understands natively, unlocking a vast range of date-specific functionality.\n",
    "* **How**: Use the constructor `date(year, month, day)`.\n",
    "\n",
    "Once you have a `date` object, you can easily access its individual components as attributes.\n",
    "\n",
    "```python\n",
    "# Import the date class from the datetime module\n",
    "from datetime import date\n",
    "\n",
    "# Create two date objects\n",
    "d1 = date(2016, 10, 7)\n",
    "d2 = date(2017, 6, 21)\n",
    "\n",
    "print(f\"Original date object: {d1}\")\n",
    "\n",
    "# Access the object's attributes\n",
    "print(f\"Year: {d1.year}\")\n",
    "print(f\"Month: {d1.month}\")\n",
    "print(f\"Day: {d1.day}\")\n",
    "```\n",
    "\n",
    "A particularly useful method is `.weekday()`, which returns the day of the week as an integer, where Monday is `0` and Sunday is `6`.\n",
    "\n",
    "```python\n",
    "# Find the day of the week for the first date\n",
    "# Monday = 0, Tuesday = 1, ..., Sunday = 6\n",
    "weekday_index = d1.weekday()\n",
    "\n",
    "print(f\"\\nWeekday for {d1}: {weekday_index}\") # Friday corresponds to index 4\n",
    "```\n",
    "\n",
    "### Date Arithmetic and Comparisons\n",
    "\n",
    "The true power of `date` objects becomes apparent when you perform arithmetic and comparisons. Python overloads the standard mathematical operators for `date` objects, allowing them to be manipulated in a chronologically aware manner.\n",
    "\n",
    "#### Comparisons\n",
    "\n",
    "`date` objects can be compared directly using standard operators (`<`, `>`, `==`, `<=`, etc.). This makes sorting and finding the minimum or maximum date in a sequence trivial.\n",
    "\n",
    "```python\n",
    "# Create two date objects\n",
    "date_A = date(2025, 11, 5)\n",
    "date_B = date(2025, 12, 4)\n",
    "\n",
    "# Direct comparison\n",
    "is_A_earlier = date_A < date_B\n",
    "print(f\"Is date_A earlier than date_B? {is_A_earlier}\")\n",
    "\n",
    "# Finding the minimum in a list\n",
    "date_list = [date_B, date_A]\n",
    "earliest_date = min(date_list)\n",
    "print(f\"The earliest date in the list is: {earliest_date}\")\n",
    "```\n",
    "\n",
    "#### The `timedelta` Object\n",
    "\n",
    "When you subtract one `date` from another, the result is not another `date` but a special `timedelta` object, which represents a duration or difference between two points in time.\n",
    "\n",
    "  * **Why**: A `timedelta` captures the *span* of time (e.g., \"29 days\") rather than a specific point *in* time. This distinction is crucial for accurate date calculations.\n",
    "  * **How**: Simply subtract two `date` objects. You can then access the duration in various units, most commonly `.days`.\n",
    "\n",
    "```python\n",
    "# Subtract two dates to get a timedelta object\n",
    "time_difference = date_B - date_A\n",
    "\n",
    "print(f\"\\nType of the difference: {type(time_difference)}\")\n",
    "print(f\"Number of days elapsed: {time_difference.days}\")\n",
    "```\n",
    "\n",
    "You can also create a `timedelta` object manually and use it to perform date arithmetic, such as adding or subtracting a duration from a specific date to find a future or past date.\n",
    "\n",
    "```python\n",
    "# Import timedelta\n",
    "from datetime import timedelta\n",
    "\n",
    "# Create a timedelta representing a duration of 29 days\n",
    "duration = timedelta(days=29)\n",
    "\n",
    "# Add the duration to our starting date\n",
    "future_date = date_A + duration\n",
    "\n",
    "print(f\"\\n{date_A} plus {duration.days} days is: {future_date}\")\n",
    "print(f\"Is the calculated future_date the same as date_B? {future_date == date_B}\")\n",
    "```\n",
    "\n",
    "This demonstrates the complete arithmetic cycle: `date - date = timedelta`, and `date + timedelta = date`.\n",
    "\n",
    "### Formatting Dates for Presentation (`strftime`)\n",
    "\n",
    "While `date` objects are ideal for computation, you will often need to convert them back into formatted strings for reports, plots, or user interfaces. The `.strftime()` (string format time) method is the standard way to do this.\n",
    "\n",
    "  * **Why**: To present a `date` object in a specific, human-readable string format.\n",
    "  * **How**: Use `.strftime()` with special format codes that represent different parts of the date.\n",
    "\n",
    "```python\n",
    "# A sample date\n",
    "some_date = date(2025, 7, 13)\n",
    "\n",
    "# Format the date into different string representations\n",
    "# %Y: 4-digit year, %m: 2-digit month, %d: 2-digit day\n",
    "format_iso = some_date.strftime('%Y-%m-%d')\n",
    "\n",
    "# %A: Full weekday name, %B: Full month name\n",
    "format_readable = some_date.strftime('%A, %B %d, %Y')\n",
    "\n",
    "print(f\"\\nISO standard format: {format_iso}\")\n",
    "print(f\"A more readable format: {format_readable}\")\n",
    "```"
   ]
  },
  {
   "cell_type": "code",
   "execution_count": 162,
   "id": "452f0f31",
   "metadata": {},
   "outputs": [
    {
     "name": "stdout",
     "output_type": "stream",
     "text": [
      "218\n"
     ]
    }
   ],
   "source": [
    "# Import date\n",
    "from datetime import date\n",
    "\n",
    "# Create a date object for May 9th, 2007\n",
    "start = date(2007, 5, 9)\n",
    "\n",
    "# Create a date object for December 13th, 2007\n",
    "end = date(2007, 12, 13)\n",
    "\n",
    "# Subtract the two dates and print the number of days\n",
    "print((end - start).days)"
   ]
  },
  {
   "cell_type": "markdown",
   "id": "72fb609a",
   "metadata": {},
   "source": [
    "### Counting events per calendar month\n",
    "Hurricanes can make landfall in Florida throughout the year. As we've already discussed, some months are more hurricane-prone than others.\n",
    "\n",
    "Using `florida_hurricane_dates`, let's see how hurricanes in Florida were distributed across months throughout the year.\n",
    "\n",
    "We've created a dictionary called `hurricanes_each_month` to hold your counts and set the initial counts to zero. You will loop over the list of hurricanes, incrementing the correct month in `hurricanes_each_month` as you go, and then print the result."
   ]
  },
  {
   "cell_type": "code",
   "execution_count": 163,
   "id": "48a2f771",
   "metadata": {},
   "outputs": [],
   "source": [
    "# A dictionary to count hurricanes per calendar month\n",
    "hurricanes_each_month = {\n",
    "    1: 0,\n",
    "    2: 0,\n",
    "    3: 0,\n",
    "    4: 0,\n",
    "    5: 0,\n",
    "    6: 0,\n",
    "    7: 0,\n",
    "    8: 0,\n",
    "    9: 0,\n",
    "    10: 0,\n",
    "    11: 0,\n",
    "    12: 0,\n",
    "}"
   ]
  },
  {
   "cell_type": "code",
   "execution_count": 164,
   "id": "6d928dca",
   "metadata": {},
   "outputs": [
    {
     "name": "stdout",
     "output_type": "stream",
     "text": [
      "{1: 0, 2: 1, 3: 0, 4: 1, 5: 8, 6: 32, 7: 21, 8: 49, 9: 70, 10: 43, 11: 9, 12: 1}\n"
     ]
    }
   ],
   "source": [
    "# Loop all hurricanes\n",
    "for hurricane in florida_hurricane_dates:\n",
    "    # Pull ouut the month\n",
    "    month = hurricane.month\n",
    "    # Increment the count in your dictionary by one\n",
    "    hurricanes_each_month[month] += 1\n",
    "\n",
    "print(hurricanes_each_month)"
   ]
  },
  {
   "cell_type": "markdown",
   "id": "40d2946a",
   "metadata": {},
   "source": [
    "### Putting a list of dates in order\n",
    "Much like numbers and strings, `date` objects in Python can be put in order. Earlier dates come before later ones, and so we can sort a list of `date` objects from earliest to latest.\n",
    "\n",
    "What if our Florida hurricane dates had been scrambled? We've gone ahead and shuffled them so they're in random order and saved the results as `dates_scrambled`. Your job is to put them back in chronological order, and then print the first and last dates from this sorted list."
   ]
  },
  {
   "cell_type": "code",
   "execution_count": 165,
   "id": "c6d6d4ef",
   "metadata": {},
   "outputs": [],
   "source": [
    "from data.florida_hurricane_data import dates_scrambled"
   ]
  },
  {
   "cell_type": "code",
   "execution_count": 166,
   "id": "5ecf2476",
   "metadata": {},
   "outputs": [
    {
     "name": "stdout",
     "output_type": "stream",
     "text": [
      "1988-08-04\n",
      "2011-07-18\n"
     ]
    }
   ],
   "source": [
    "# Print the first and last scrambled dates\n",
    "print(dates_scrambled[0])\n",
    "print(dates_scrambled[-1])"
   ]
  },
  {
   "cell_type": "code",
   "execution_count": 167,
   "id": "cb737203",
   "metadata": {},
   "outputs": [
    {
     "name": "stdout",
     "output_type": "stream",
     "text": [
      "1950-08-31\n",
      "2017-10-29\n"
     ]
    }
   ],
   "source": [
    "# Put the dates in order\n",
    "dates_ordered = sorted(dates_scrambled)\n",
    "\n",
    "# Print the first and last ordered dates\n",
    "print(dates_ordered[0])\n",
    "print(dates_ordered[-1])"
   ]
  },
  {
   "cell_type": "markdown",
   "id": "c0e8e398",
   "metadata": {},
   "source": [
    "## Turning Dates into Strings\n",
    "\n",
    "While Python's `date` objects are indispensable for performing calculations, comparisons, and chronological logic, we often need to present these dates in a human-readable format for reports, user interfaces, or logs. Furthermore, when storing date information in text-based formats like CSV files or JSON, we must convert the `date` objects back into strings.\n",
    "\n",
    "The process of converting a `date` object into a string is known as **formatting**. Python provides a powerful and flexible mini-language for transforming date and time objects into nearly any string representation imaginable. The key is to choose the right format for the right purpose: a machine-readable standard for storage and a human-readable format for display.\n",
    "\n",
    "### The Gold Standard: ISO 8601 Format\n",
    "\n",
    "For storing dates as text or for any situation where computers will need to parse the dates reliably, the **ISO 8601 standard (`YYYY-MM-DD`)** is the unambiguous best practice.\n",
    "\n",
    "* **Why is it the standard?** The primary advantage of the ISO 8601 format is that **alphabetical sorting is identical to chronological sorting**. This property is incredibly valuable because it means that even simple, text-based tools can sort the data correctly without needing to understand the date's structure. It eliminates ambiguity between formats like `MM/DD/YY` and `DD/MM/YY`.\n",
    "\n",
    "```python\n",
    "# A list of dates as strings in ISO 8601 format\n",
    "some_dates_as_strings = ['2025-01-10', '2024-12-31', '2025-02-01']\n",
    "\n",
    "# A simple string sort correctly orders the dates chronologically\n",
    "print(f\"Sorted ISO 8601 strings: {sorted(some_dates_as_strings)}\")\n",
    "```\n",
    "\n",
    "  * **How to generate it in Python:** Python's `date` object makes this incredibly easy. In fact, the default string representation of a `date` object is its ISO 8601 format. For explicitness and clarity, the `.isoformat()` method should be used.\n",
    "\n",
    "\n",
    "```python\n",
    "from datetime import date\n",
    "\n",
    "# Create an example date object\n",
    "d = date(2025, 7, 13)\n",
    "\n",
    "# The default print representation is ISO 8601\n",
    "print(f\"Default string representation: {d}\")\n",
    "\n",
    "# The explicit and preferred method is .isoformat()\n",
    "iso_string = d.isoformat()\n",
    "print(f\"Explicit conversion with .isoformat(): {iso_string}\")\n",
    "```\n",
    "\n",
    "**Rule of thumb:** When saving data to a file or sending it through an API, always use `.isoformat()`.\n",
    "\n",
    "### Custom Formatting with `strftime`\n",
    "\n",
    "For human-readable output, the ISO format is often not ideal. We might prefer formats like \"Sunday, July 13, 2025\" or \"13/07/25\". This is where the powerful `.strftime()` (string *format* time) method comes into play.\n",
    "\n",
    "  * **Why**: `.strftime()` gives you complete control over the final appearance of the date string, allowing for localization, added text, and specific ordering of components.\n",
    "  * **How**: The method takes a \"format string\" as an argument. This string contains plain text and special **format codes** (also called directives), which begin with a percent sign (`%`). Each format code is a placeholder that gets replaced by a specific part of the date.\n",
    "\n",
    "\n",
    "```python\n",
    "# Our example date\n",
    "d = date(2025, 7, 13)\n",
    "\n",
    "# Just the four-digit year\n",
    "print(f\"Year only: {d.strftime('%Y')}\")\n",
    "\n",
    "# Embedding the code within a larger string\n",
    "print(d.strftime(\"The event will take place in the year %Y.\"))\n",
    "\n",
    "# A common European format: DD/MM/YY\n",
    "print(f\"DD/MM/YY format: {d.strftime('%d/%m/%y')}\")\n",
    "\n",
    "# A more descriptive, human-readable format\n",
    "print(f\"Full readable format: {d.strftime('%A, %B %d, %Y')}\")\n",
    "```\n",
    "\n",
    "#### Common `strftime` Format Codes\n",
    "\n",
    "Mastering `strftime` requires knowing the most common format codes. Here is a reference table:\n",
    "\n",
    "| Code | Meaning | Example |\n",
    "| :--- | :--- | :--- |\n",
    "| `%Y` | Year with century | `2025` |\n",
    "| `%y` | Year without century (00-99) | `25` |\n",
    "| `%m` | Month as a zero-padded decimal (01-12) | `07` |\n",
    "| `%B` | Full month name | `July` |\n",
    "| `%b` | Abbreviated month name | `Jul` |\n",
    "| `%d` | Day of the month as a zero-padded decimal (01-31) | `13` |\n",
    "| `%A` | Full weekday name | `Sunday` |\n",
    "| `%a` | Abbreviated weekday name | `Sun` |\n",
    "\n"
   ]
  },
  {
   "cell_type": "code",
   "execution_count": 168,
   "id": "680654f4",
   "metadata": {},
   "outputs": [
    {
     "name": "stdout",
     "output_type": "stream",
     "text": [
      "2017-11-05\n"
     ]
    }
   ],
   "source": [
    "from datetime import date\n",
    "\n",
    "# Example date\n",
    "d = date(2017, 11, 5)\n",
    "\n",
    "# ISO format: YYYY-MM-DD\n",
    "print(d)"
   ]
  },
  {
   "cell_type": "code",
   "execution_count": 169,
   "id": "9c2ccb47",
   "metadata": {},
   "outputs": [
    {
     "name": "stdout",
     "output_type": "stream",
     "text": [
      "['2017-11-05']\n"
     ]
    }
   ],
   "source": [
    "# Express the date in ISO format and putt it in a list\n",
    "print([d.isoformat()])"
   ]
  },
  {
   "cell_type": "code",
   "execution_count": 170,
   "id": "bcf975a0",
   "metadata": {},
   "outputs": [
    {
     "name": "stdout",
     "output_type": "stream",
     "text": [
      "['1992-12-31', '2000-01-01']\n"
     ]
    }
   ],
   "source": [
    "# A few dates that computers once had trouble with\n",
    "some_dates = [\"2000-01-01\", \"1992-12-31\"]\n",
    "\n",
    "# Print them in order\n",
    "print(sorted(some_dates))"
   ]
  },
  {
   "cell_type": "code",
   "execution_count": 171,
   "id": "d30e3fef",
   "metadata": {},
   "outputs": [
    {
     "name": "stdout",
     "output_type": "stream",
     "text": [
      "2017\n"
     ]
    }
   ],
   "source": [
    "# Example date\n",
    "d = date(2017, 1, 5)\n",
    "\n",
    "print(d.strftime(\"%Y\"))"
   ]
  },
  {
   "cell_type": "code",
   "execution_count": 172,
   "id": "30329e3c",
   "metadata": {},
   "outputs": [
    {
     "name": "stdout",
     "output_type": "stream",
     "text": [
      "2017/01/05\n"
     ]
    }
   ],
   "source": [
    "# Format YYYY/MM/DD\n",
    "print(d.strftime(\"%Y/%m/%d\"))"
   ]
  },
  {
   "cell_type": "code",
   "execution_count": 173,
   "id": "146eb2fc",
   "metadata": {},
   "outputs": [
    {
     "name": "stdout",
     "output_type": "stream",
     "text": [
      "ISO: Our ealiest hurricante date: 1950-08-31\n",
      "US: Our earliest hurricane date: 08/31/1950\n"
     ]
    }
   ],
   "source": [
    "# Assign the earliest date in florida_hurricane_dates to first_date.\n",
    "first_date = min(florida_hurricane_dates)\n",
    "\n",
    "iso = f\"Our ealiest hurricante date: {first_date.isoformat()}\"\n",
    "us = f\"Our earliest hurricane date: {first_date.strftime(\"%m/%d/%Y\")}\"\n",
    "\n",
    "print(f\"ISO: {iso}\")\n",
    "print(f\"US: {us}\")"
   ]
  },
  {
   "cell_type": "code",
   "execution_count": 174,
   "id": "14c769ef",
   "metadata": {},
   "outputs": [
    {
     "name": "stdout",
     "output_type": "stream",
     "text": [
      "1992-08\n",
      "AUGUST (1992)\n",
      "1992-239\n"
     ]
    }
   ],
   "source": [
    "# Create a date object\n",
    "andrew = date(1992, 8, 26)\n",
    "# Print the data in the format 'YYYY-MM'\n",
    "print(andrew.strftime(\"%Y-%m\"))\n",
    "\n",
    "# Print the date in the format 'MONTH (YYYY)'\n",
    "print(andrew.strftime(\"%B (%Y)\").upper())\n",
    "\n",
    "# Print the date in the format 'YYYY-DDD'\n",
    "print(andrew.strftime(\"%Y-%j\"))"
   ]
  },
  {
   "cell_type": "markdown",
   "id": "0b80668f",
   "metadata": {},
   "source": [
    "## Adding Time to the Mix: The `datetime` Object\n",
    "\n",
    "While Python's `date` object is perfect for handling calendar days, many applications—from logging events and scheduling tasks to analysing financial transactions—require a higher level of precision. We often need to know not just the day an event occurred, but the exact time: the hour, minute, second, and even microsecond.\n",
    "\n",
    "For this, Python's `datetime` module provides the `datetime` class. A `datetime` object is a powerful, single object that contains all the information from a `date` object (year, month, day) plus all the information from a `time` object (hour, minute, second, microsecond). It is the primary tool for working with specific moments in time.\n",
    "\n",
    "### Creating and Inspecting `datetime` Objects\n",
    "\n",
    "Creating a `datetime` object is a direct extension of creating a `date` object. You provide the year, month, and day, followed by the optional time components, which default to zero if not specified.\n",
    "\n",
    "* **Why**: To represent a specific point in time with high precision, combining both calendar and clock information into a single, structured object.\n",
    "* **How**: Use the constructor `datetime(year, month, day, hour=0, minute=0, second=0, microsecond=0)`.\n",
    "\n",
    "Once created, you can access all its individual components as attributes.\n",
    "\n",
    "```python\n",
    "# Import the datetime class from the datetime module\n",
    "from datetime import datetime\n",
    "\n",
    "# Create a specific datetime object\n",
    "dt = datetime(year=2025, month=10, day=1,\n",
    "              hour=15, minute=23, second=25,\n",
    "              microsecond=500000)\n",
    "\n",
    "print(f\"Datetime object: {dt}\")\n",
    "\n",
    "# Accessing its components\n",
    "print(f\"Year: {dt.year}\")\n",
    "print(f\"Hour: {dt.hour}\")\n",
    "print(f\"Microsecond: {dt.microsecond}\")\n",
    "```\n",
    "\n",
    "### Modifying `datetime` Objects with `.replace()`\n",
    "\n",
    "A common and powerful feature of `datetime` objects is the ability to create a modified copy with specific components changed. This is accomplished using the `.replace()` method. It's particularly useful for \"normalizing\" or \"truncating\" a datetime to a specific point, such as the beginning of the hour or day.\n",
    "\n",
    "  * **Why**: It provides an immutable way to create a new `datetime` object based on an existing one, but with specific parts adjusted. This is cleaner and safer than trying to modify the object's attributes directly.\n",
    "  * **How**: Call the `.replace()` method on an existing `datetime` object, passing the components you wish to change as keyword arguments. Any component you don't specify will be carried over from the original object.\n",
    "\n",
    "```python\n",
    "# Original datetime object\n",
    "dt = datetime(2025, 10, 1, 15, 23, 25, 500000)\n",
    "print(f\"Original datetime:   {dt}\")\n",
    "\n",
    "# Use .replace() to create a new object truncated to the beginning of the hour\n",
    "dt_truncated_to_hour = dt.replace(minute=0, second=0, microsecond=0)\n",
    "print(f\"Truncated to hour:   {dt_truncated_to_hour}\")\n",
    "\n",
    "# Use .replace() to create a new object set to the first day of the month\n",
    "dt_first_of_month = dt.replace(day=1, hour=0, minute=0, second=0, microsecond=0)\n",
    "print(f\"First of the month:  {dt_first_of_month}\")\n",
    "\n",
    "# The original object remains unchanged\n",
    "print(f\"Original is unchanged: {dt}\")\n",
    "```\n",
    "\n",
    "This method is fundamental for tasks like grouping time-series data by the hour or day. By replacing the minute and second components with zero, you can easily group all events from the same hour together."
   ]
  },
  {
   "cell_type": "code",
   "execution_count": 175,
   "id": "c8c12b41",
   "metadata": {},
   "outputs": [
    {
     "name": "stdout",
     "output_type": "stream",
     "text": [
      "2017-10-01 15:23:25\n"
     ]
    }
   ],
   "source": [
    "from datetime import datetime\n",
    "\n",
    "dt = datetime(year=2017, month=10, day=1, hour=15, minute=23, second=25)\n",
    "\n",
    "print(dt)"
   ]
  },
  {
   "cell_type": "code",
   "execution_count": 176,
   "id": "575e6c1b",
   "metadata": {},
   "outputs": [
    {
     "name": "stdout",
     "output_type": "stream",
     "text": [
      "2017-10-01 15:00:00\n"
     ]
    }
   ],
   "source": [
    "dt_hr = dt.replace(minute=0, second=0, microsecond=0)\n",
    "print(dt_hr)"
   ]
  },
  {
   "cell_type": "code",
   "execution_count": 177,
   "id": "bfa0cb0f",
   "metadata": {},
   "outputs": [
    {
     "name": "stdout",
     "output_type": "stream",
     "text": [
      "2017-10-01T15:26:26\n"
     ]
    }
   ],
   "source": [
    "# Create a datetime for October 1, 2017 at 15:26:26.\n",
    "dt = datetime(year=2017, month=10, day=1, hour=15, minute=26, second=26)\n",
    "\n",
    "# Print the results in ISO format.\n",
    "print(dt.isoformat())"
   ]
  },
  {
   "cell_type": "code",
   "execution_count": 178,
   "id": "282f6d5e",
   "metadata": {},
   "outputs": [
    {
     "name": "stdout",
     "output_type": "stream",
     "text": [
      "2017-12-31T15:19:13\n"
     ]
    }
   ],
   "source": [
    "# Create a datetime for December 31, 2017 at 15:19:13.\n",
    "dt = datetime(year=2017, month=12, day=31, hour=15, minute=19, second=13)\n",
    "\n",
    "# Print the results in ISO format.\n",
    "print(dt.isoformat())"
   ]
  },
  {
   "cell_type": "code",
   "execution_count": 179,
   "id": "e8d32ee2",
   "metadata": {},
   "outputs": [
    {
     "name": "stdout",
     "output_type": "stream",
     "text": [
      "1917-12-31 15:19:13\n"
     ]
    }
   ],
   "source": [
    "# Create a new datetime by replacing the year in dt with 1917 (instead of 2017)\n",
    "dt_old = dt.replace(year=1917)\n",
    "\n",
    "# Print the results in ISO 8601 format\n",
    "print(dt_old)"
   ]
  },
  {
   "cell_type": "markdown",
   "id": "f3cd16f4",
   "metadata": {},
   "source": [
    "### Counting events before and after noon\n",
    "In this chapter, you will be working with a list of all bike trips for one Capital Bikeshare bike, W20529, from October 1, 2017 to December 31, 2017. This list has been loaded as `onebike_datetimes`.\n",
    "\n",
    "Each element of the list is a dictionary with two entries: `start` is a `datetime` object corresponding to the start of a trip (when a bike is removed from the dock) and end is a `datetime` object corresponding to the end of a trip (when a bike is put back into a dock).\n",
    "\n",
    "You can use this data set to understand better how this bike was used. Did more trips start before noon or after noon?"
   ]
  },
  {
   "cell_type": "code",
   "execution_count": 180,
   "id": "4c318a5f",
   "metadata": {},
   "outputs": [],
   "source": [
    "import datetime\n",
    "\n",
    "import pandas as pd\n",
    "\n",
    "# Load bike share data from CSV and filter for the specific time period\n",
    "bike_df = pd.read_csv(\n",
    "    \"https://assets.datacamp.com/production/repositories/3551/datasets/181c142c56d3b83112dfc16fbd933fd995e80f94/capital-onebike.csv\"\n",
    ")\n",
    "\n",
    "# Filter data for October 1 to December 31, 2017 and select only start/end date columns\n",
    "bike_date = bike_df.query(\n",
    "    \"`Start date` >= '2017-10-01' and `End date` <= '2017-12-31'\"\n",
    ")[[\"Start date\", \"End date\"]].rename(columns={\"Start date\": \"start\", \"End date\": \"end\"})\n",
    "\n",
    "# Convert string columns to pandas datetime objects if not already converted\n",
    "bike_date[\"start\"] = pd.to_datetime(bike_date[\"start\"])\n",
    "bike_date[\"end\"] = pd.to_datetime(bike_date[\"end\"])\n",
    "\n",
    "# Convert pandas Timestamps to native Python datetime objects for compatibility\n",
    "# This creates a list of dictionaries where each trip has 'start' and 'end' keys\n",
    "# containing native datetime.datetime objects instead of pandas Timestamps\n",
    "onebike_datetimes = [\n",
    "    {\n",
    "        \"start\": datetime.datetime(\n",
    "            row[\"start\"].year,\n",
    "            row[\"start\"].month,\n",
    "            row[\"start\"].day,\n",
    "            row[\"start\"].hour,\n",
    "            row[\"start\"].minute,\n",
    "            row[\"start\"].second,\n",
    "        ),\n",
    "        \"end\": datetime.datetime(\n",
    "            row[\"end\"].year,\n",
    "            row[\"end\"].month,\n",
    "            row[\"end\"].day,\n",
    "            row[\"end\"].hour,\n",
    "            row[\"end\"].minute,\n",
    "            row[\"end\"].second,\n",
    "        ),\n",
    "    }\n",
    "    for _, row in bike_date.iterrows()\n",
    "]"
   ]
  },
  {
   "cell_type": "code",
   "execution_count": 181,
   "id": "c18584d6",
   "metadata": {},
   "outputs": [
    {
     "name": "stdout",
     "output_type": "stream",
     "text": [
      "{'AM': 94, 'PM': 196}\n"
     ]
    }
   ],
   "source": [
    "# Create dictionary to hold results\n",
    "trip_counts = {\"AM\": 0, \"PM\": 0}\n",
    "# Loop over all trips\n",
    "for trip in onebike_datetimes:\n",
    "\n",
    "    # Check to see if the trip starts before noon\n",
    "    if trip[\"start\"].hour < 12:\n",
    "\n",
    "        # Increment the counter for before noon\n",
    "        trip_counts[\"AM\"] += 1\n",
    "    else:\n",
    "        # Increment the counter for after noon\n",
    "        trip_counts[\"PM\"] += 1\n",
    "\n",
    "print(trip_counts)"
   ]
  },
  {
   "cell_type": "markdown",
   "id": "f863b6a5",
   "metadata": {},
   "source": [
    "## Printing and Parsing Datetimes\n",
    "\n",
    "A `datetime` object holds a rich, structured representation of a specific moment in time, ideal for arithmetic and logical comparisons. However, when we need to store this information in a file (like a CSV), send it over a network (via an API), or display it to a user, we must convert it into a string. Conversely, when we read temporal data from such sources, we must parse the strings back into `datetime` objects to restore their functionality. Python's `datetime` module provides a powerful and symmetrical pair of methods for these operations: `strftime` for formatting and `strptime` for parsing.\n",
    "\n",
    "\n",
    "### Printing Datetimes: From Object to String with `strftime`\n",
    "\n",
    "The `.strftime()` method (string *format* time) is called on a `datetime` instance and is used to create a custom-formatted string representation of that object. Its power lies in a \"format string\" that acts as a template, using special codes (directives) prefixed with a `%` to specify which parts of the `datetime` should be inserted and how they should be formatted.\n",
    "\n",
    "* **Why**: To gain complete control over the textual representation of a `datetime` object for display or for systems that require a specific, non-standard string format.\n",
    "* **How**: Call the method on a `datetime` instance, passing a format string containing text and format codes.\n",
    "\n",
    "```python\n",
    "from datetime import datetime\n",
    "\n",
    "# First, create a datetime object to work with\n",
    "dt_object = datetime(year=2025, month=12, day=30, hour=15, minute=19, second=13)\n",
    "\n",
    "# Example 1: Formatting just the date part \n",
    "# The format string \"%Y-%m-%d\" specifies a 4-digit year, a 2-digit month,\n",
    "# and a 2-digit day, separated by hyphens.\n",
    "date_string = dt_object.strftime(\"%Y-%m-%d\")\n",
    "print(f\"Date-only format: {date_string}\")\n",
    "\n",
    "# Example 2: Formatting the full date and time \n",
    "# We can add codes for hour (%H), minute (%M), and second (%S).\n",
    "full_datetime_string = dt_object.strftime(\"%Y-%m-%d %H:%M:%S\")\n",
    "print(f\"Full datetime format: {full_datetime_string}\")\n",
    "\n",
    "# Example 3: Creating a custom, human-readable string \n",
    "# The format string can contain any arbitrary text. The codes will be\n",
    "# replaced, but the rest of the text remains as is.\n",
    "custom_string = dt_object.strftime(\"Event occurred at %H:%M:%S on %d/%m/%Y.\")\n",
    "print(f\"Custom format: {custom_string}\")\n",
    "```\n",
    "\n",
    "##### Common `strftime` / `strptime` Format Codes\n",
    "\n",
    "| Code | Meaning | Example |\n",
    "| :--- | :--- | :--- |\n",
    "| `%Y` | Year with century | `2025` |\n",
    "| `%y` | Year without century (00-99) | `25` |\n",
    "| `%m` | Month as a zero-padded decimal (01-12) | `12` |\n",
    "| `%B` | Full month name | `December` |\n",
    "| `%d` | Day of the month as a zero-padded decimal (01-31) | `30` |\n",
    "| `%H` | Hour (24-hour clock) as a zero-padded decimal (00-23) | `15` |\n",
    "| `%I` | Hour (12-hour clock) as a zero-padded decimal (01-12) | `03` |\n",
    "| `%p` | Locale’s equivalent of either AM or PM. | `PM` |\n",
    "| `%M` | Minute as a zero-padded decimal (00-59) | `19` |\n",
    "| `%S` | Second as a zero-padded decimal (00-61) | `13` |\n",
    "\n",
    "\n",
    "#### The ISO 8601 Standard\n",
    "\n",
    "For machine-readable formats, custom strings are often a poor choice. The **ISO 8601** standard provides an unambiguous, internationally recognised format for representing dates and times. Python `datetime` objects have a dedicated method, `.isoformat()`, to produce this standard representation.\n",
    "\n",
    "```python\n",
    "# The .isoformat() method is the standard way to get a machine-readable string.\n",
    "# Note the 'T' separator between the date and time parts.\n",
    "iso_string = dt_object.isoformat()\n",
    "print(f\"\\nISO 8601 format: {iso_string}\")\n",
    "```\n",
    "\n",
    "### Parsing Datetimes: From String to Object with `strptime`\n",
    "\n",
    "The inverse operation of formatting is parsing. The `datetime.strptime()` method (string *parse* time) takes a string and a corresponding format string and converts it into a `datetime` object.\n",
    "\n",
    "  * **Why**: To convert date/time information received as text back into a functional `datetime` object that can be used for calculations and comparisons.\n",
    "  * **How**: This is a **class method**, so it is called on the `datetime` class itself (`datetime.strptime(...)`), not on an instance. You must provide the string to be parsed and a format string that **exactly matches** the structure of the input string.\n",
    "\n",
    "\n",
    "```python\n",
    "# The input string we want to parse\n",
    "date_string_to_parse = \"30/12/2025 15:19:13\"\n",
    "\n",
    "# The format string that describes the input string's structure\n",
    "# It must match perfectly.\n",
    "format_code = \"%d/%m/%Y %H:%M:%S\"\n",
    "\n",
    "# Call the class method to parse the string\n",
    "parsed_dt_object = datetime.strptime(date_string_to_parse, format_code)\n",
    "\n",
    "# Verify the result\n",
    "print(f\"\\nOriginal string: '{date_string_to_parse}'\")\n",
    "print(f\"Type of parsed object: {type(parsed_dt_object)}\")\n",
    "print(f\"Resulting datetime object: {parsed_dt_object}\")\n",
    "```\n",
    "\n",
    "#### The Criticality of the Format String\n",
    "\n",
    "The `strptime` method is strict. The format string is not a suggestion; it is a precise blueprint. If the format string does not perfectly account for every character in the input string, Python will raise a `ValueError`.\n",
    "\n",
    "```python\n",
    "try:\n",
    "    # This will fail because the format string does not account for the time part.\n",
    "    datetime.strptime(\"2025-12-30 15:19:13\", \"%Y-%m-%d\")\n",
    "except ValueError as e:\n",
    "    print(f\"\\nAn expected error occurred: {e}\")\n",
    "```\n",
    "\n",
    "\n",
    "### Parsing from Unix Timestamps\n",
    "\n",
    "Another common way to represent time is the **Unix timestamp**, which is the number of seconds that have elapsed since the \"Unix epoch\" (00:00:00 UTC on 1 January 1970). Python provides a direct class method to convert these timestamps into `datetime` objects.\n",
    "\n",
    "```python\n",
    "# A sample Unix timestamp (as a float)\n",
    "unix_timestamp = 1761839953.0\n",
    "\n",
    "# Convert from the timestamp to a datetime object\n",
    "dt_from_timestamp = datetime.fromtimestamp(unix_timestamp)\n",
    "\n",
    "print(f\"\\nTimestamp: {unix_timestamp}\")\n",
    "print(f\"Datetime from timestamp: {dt_from_timestamp}\")\n",
    "```"
   ]
  },
  {
   "cell_type": "code",
   "execution_count": 182,
   "id": "725110a1",
   "metadata": {},
   "outputs": [
    {
     "name": "stdout",
     "output_type": "stream",
     "text": [
      "2017-02-03 00:00:01\n"
     ]
    }
   ],
   "source": [
    "# Import the datetime class\n",
    "from datetime import datetime\n",
    "\n",
    "# Starting string, in YYYY-MM-DD HH:MM:SS format\n",
    "s = \"2017-02-03 00:00:01\"\n",
    "\n",
    "# Write a format string to parse\n",
    "fmt = \"%Y-%m-%d %H:%M:%S\"\n",
    "\n",
    "# Create a datetime object d\n",
    "d = datetime.strptime(s, fmt)\n",
    "\n",
    "# Print d\n",
    "print(d)"
   ]
  },
  {
   "cell_type": "code",
   "execution_count": 183,
   "id": "7d3aeed0",
   "metadata": {},
   "outputs": [
    {
     "name": "stdout",
     "output_type": "stream",
     "text": [
      "2030-10-15 00:00:00\n"
     ]
    }
   ],
   "source": [
    "# Starting string, in YYYY-MM-DD format\n",
    "s = \"2030-10-15\"\n",
    "\n",
    "# Write a format string to parse s\n",
    "fmt = \"%Y-%m-%d\"\n",
    "\n",
    "# Create a datetime object d\n",
    "d = datetime.strptime(s, fmt)\n",
    "\n",
    "# Print d\n",
    "print(d)"
   ]
  },
  {
   "cell_type": "code",
   "execution_count": 184,
   "id": "75a71114",
   "metadata": {},
   "outputs": [
    {
     "name": "stdout",
     "output_type": "stream",
     "text": [
      "12/15/1986 08:00:00\n"
     ]
    }
   ],
   "source": [
    "# Starting string, in MM/DD/YYYY HH:MM:SS format\n",
    "s = \"12/15/1986 08:00:00\"\n",
    "\n",
    "# Write a format string to parse s\n",
    "fmt = \"%m/%d/%Y %H:%M:%S\"\n",
    "\n",
    "# Create a datetime object d\n",
    "d = datetime.strptime(s, fmt)\n",
    "\n",
    "# Print d\n",
    "print(d.strftime(\"%m/%d/%Y %H:%M:%S\"))"
   ]
  },
  {
   "cell_type": "markdown",
   "id": "25ecce2e",
   "metadata": {},
   "source": [
    "### Parsing pairs of strings as datetimes\n",
    "Up until now, you've been working with a pre-processed list of `datetimes` for W20529's trips. For this exercise, you're going to go one step back in the data cleaning pipeline and work with the strings that the data started as.\n",
    "\n",
    "Explore `onebike_datetime_strings` in the IPython shell to determine the correct format. \n"
   ]
  },
  {
   "cell_type": "code",
   "execution_count": 185,
   "id": "cd1b4445",
   "metadata": {},
   "outputs": [],
   "source": [
    "import datetime\n",
    "\n",
    "# Extract the start and end date columns as a 2D numpy array\n",
    "start_end = bike_df[[\"Start date\", \"End date\"]].values\n",
    "\n",
    "# Convert the numpy array to a list of tuples\n",
    "# Each tuple contains (start_date_string, end_date_string)\n",
    "onebike_datetime_strings = [tuple(row) for row in start_end]"
   ]
  },
  {
   "cell_type": "code",
   "execution_count": 186,
   "id": "3e4e3cce",
   "metadata": {},
   "outputs": [],
   "source": [
    "# Write down the format string\n",
    "fmt = \"%Y-%m-%d %H:%M:%S\"\n",
    "\n",
    "# Initialize a list for holding the pairs of datetime objects\n",
    "onebike_datetimes = []\n",
    "\n",
    "# Loop over all trips\n",
    "for start, end in onebike_datetime_strings:\n",
    "    trip = {\n",
    "        \"start\": datetime.datetime.strptime(start, fmt),\n",
    "        \"end\": datetime.datetime.strptime(end, fmt),\n",
    "    }\n",
    "\n",
    "    # Append the trip\n",
    "    onebike_datetimes.append(trip)"
   ]
  },
  {
   "cell_type": "markdown",
   "id": "81f5e7a0",
   "metadata": {},
   "source": [
    "### Recreating ISO format with strftime()\n",
    "In the last chapter, you used `strftime()` to create strings from `date` objects. Now that you know about `datetime` objects, let's practice doing something similar.\n",
    "\n",
    "Re-create the `.isoformat()` method, using `.strftime()`, and print the first trip start in our data set."
   ]
  },
  {
   "cell_type": "code",
   "execution_count": 187,
   "id": "bfcc1b34",
   "metadata": {},
   "outputs": [
    {
     "name": "stdout",
     "output_type": "stream",
     "text": [
      "2017-10-01T15:23:25\n",
      "2017-10-01T15:23:25\n"
     ]
    }
   ],
   "source": [
    "# Import datetime\n",
    "from datetime import datetime\n",
    "\n",
    "# Pull out the start of the first trip\n",
    "first_start = onebike_datetimes[0][\"start\"]\n",
    "\n",
    "# Format to feed to strftime()\n",
    "fmt = \"%Y-%m-%dT%H:%M:%S\"\n",
    "\n",
    "# Print out date with .isoformat(), then with .strftime() to compare\n",
    "print(first_start.isoformat())\n",
    "print(first_start.strftime(fmt))"
   ]
  },
  {
   "cell_type": "markdown",
   "id": "e1a18ae1",
   "metadata": {},
   "source": [
    "### Unix timestamps\n",
    "Datetimes are sometimes stored as Unix timestamps: the number of seconds since January 1, 1970. This is especially common with computer infrastructure, like the log files that websites keep when they get visitors."
   ]
  },
  {
   "cell_type": "code",
   "execution_count": 188,
   "id": "0ca790fd",
   "metadata": {},
   "outputs": [
    {
     "name": "stdout",
     "output_type": "stream",
     "text": [
      "[datetime.datetime(2017, 12, 30, 17, 19, 13), datetime.datetime(2017, 12, 30, 17, 9, 3)]\n"
     ]
    }
   ],
   "source": [
    "# Import datetime\n",
    "from datetime import datetime\n",
    "\n",
    "# Starting timestamps\n",
    "timestamps = [1514665153, 1514664543]\n",
    "\n",
    "# Datetime objects\n",
    "dts = []\n",
    "\n",
    "for ts in timestamps:\n",
    "    dts.append(datetime.fromtimestamp(ts))\n",
    "\n",
    "# Print results\n",
    "print(dts)"
   ]
  },
  {
   "cell_type": "markdown",
   "id": "0264244f",
   "metadata": {},
   "source": [
    "## Working with Durations and `timedelta`\n",
    "\n",
    "While `datetime` objects are essential for pinpointing specific moments in time, many analytical tasks require us to measure, represent, and manipulate the **duration** or interval *between* these moments. For this purpose, Python provides the `timedelta` object. A `timedelta` represents a span of time and is the fundamental tool for performing arithmetic with dates and datetimes.\n",
    "\n",
    "### Calculating Durations by Subtracting `datetime` Objects\n",
    "\n",
    "The most intuitive way to obtain a duration is by subtracting two points in time. When you subtract one `datetime` object from another, the result is a `timedelta` object that precisely captures the elapsed time between them.\n",
    "\n",
    "  * **Why**: This is the primary method for measuring the time that has passed between a start and an end event.\n",
    "  * **How**: Use the standard subtraction operator (`-`) on two `datetime` objects.\n",
    "\n",
    "\n",
    "```python\n",
    "from datetime import datetime\n",
    "\n",
    "# Define two distinct moments in time\n",
    "start_time = datetime(2025, 10, 8, 23, 46, 47)\n",
    "end_time = datetime(2025, 10, 9, 0, 10, 57)\n",
    "\n",
    "# Subtract the start from the end to get the duration\n",
    "duration = end_time - start_time\n",
    "\n",
    "print(f\"Start Time: {start_time}\")\n",
    "print(f\"End Time:   {end_time}\")\n",
    "print(f\"Resulting Duration Type: {type(duration)}\")\n",
    "print(f\"Duration (default format): {duration}\")\n",
    "```\n",
    "\n",
    "A `timedelta` object stores the duration internally as days, seconds, and microseconds. To be useful for most calculations, you'll often want the *total* duration expressed in a single unit. The `.total_seconds()` method is the most common way to achieve this.\n",
    "\n",
    "```python\n",
    "# Get the entire duration represented as a single float of seconds\n",
    "total_seconds_elapsed = duration.total_seconds()\n",
    "\n",
    "print(f\"\\nTotal duration in seconds: {total_seconds_elapsed}\")\n",
    "```\n",
    "\n",
    "### Creating `timedelta` Objects Manually\n",
    "\n",
    "You don't have to derive a `timedelta` from subtraction; you can also create one directly to represent a fixed interval, such as \"one hour,\" \"30 days,\" or \"500 milliseconds.\"\n",
    "\n",
    "  * **Why**: To create specific, reusable time intervals that can be added to or subtracted from `datetime` objects to calculate future or past moments.\n",
    "  * **How**: Import the `timedelta` class and instantiate it using keyword arguments such as `days`, `seconds`, `minutes`, `hours`, `weeks`, or `microseconds`.\n",
    "\n",
    "```python\n",
    "from datetime import timedelta\n",
    "\n",
    "# Create a timedelta representing exactly one second\n",
    "delta_one_second = timedelta(seconds=1)\n",
    "\n",
    "# Create a more complex timedelta\n",
    "delta_one_day_one_second = timedelta(days=1, seconds=1)\n",
    "\n",
    "print(f\"One second after the start: {start_time + delta_one_second}\")\n",
    "print(f\"One day and one second after the start: {start_time + delta_one_day_one_second}\")\n",
    "```\n",
    "\n",
    "### `timedelta` Arithmetic: Positive and Negative Durations\n",
    "\n",
    "`timedelta` objects fully support standard arithmetic, behaving precisely as you would expect. They can be positive (representing a forward span in time) or negative (representing a backward span).\n",
    "\n",
    "Adding a `timedelta` to a `datetime` moves that point forward in time, while subtracting it moves it backward.\n",
    "\n",
    "```python\n",
    "# A positive timedelta of one week\n",
    "delta_forward_one_week = timedelta(weeks=1)\n",
    "\n",
    "# A negative timedelta of one week\n",
    "delta_backward_one_week = timedelta(weeks=-1)\n",
    "\n",
    "print(f\"Original Time: {start_time}\")\n",
    "\n",
    "# Moving Time Forward \n",
    "print(f\"One week later: {start_time + delta_forward_one_week}\")\n",
    "\n",
    "# Moving Time Backward \n",
    "# Subtracting a positive timedelta\n",
    "print(f\"One week earlier (-): {start_time - delta_forward_one_week}\")\n",
    "\n",
    "# Adding a negative timedelta (produces the same result)\n",
    "print(f\"One week earlier (+): {start_time + delta_backward_one_week}\")\n",
    "```\n",
    "\n",
    "This demonstrates the logical consistency of `timedelta` arithmetic. This robust and intuitive behaviour makes `timedelta` an indispensable tool for any task involving time-based calculations, from scheduling and logging to analysing time-series data."
   ]
  },
  {
   "cell_type": "code",
   "execution_count": 189,
   "id": "a14ad0c5",
   "metadata": {},
   "outputs": [
    {
     "name": "stdout",
     "output_type": "stream",
     "text": [
      "1450.0\n"
     ]
    }
   ],
   "source": [
    "start = datetime(2017, 10, 8, 23, 46, 47)\n",
    "end = datetime(2017, 10, 9, 0, 10, 57)\n",
    "\n",
    "duration = end - start\n",
    "\n",
    "print(duration.total_seconds())"
   ]
  },
  {
   "cell_type": "code",
   "execution_count": 190,
   "id": "993d54ce",
   "metadata": {},
   "outputs": [
    {
     "name": "stdout",
     "output_type": "stream",
     "text": [
      "2017-10-08 23:46:48\n"
     ]
    }
   ],
   "source": [
    "from datetime import timedelta\n",
    "\n",
    "delta1 = timedelta(seconds=1)\n",
    "\n",
    "print(start + delta1)"
   ]
  },
  {
   "cell_type": "code",
   "execution_count": 191,
   "id": "b65bfdea",
   "metadata": {},
   "outputs": [
    {
     "name": "stdout",
     "output_type": "stream",
     "text": [
      "2017-10-09 23:46:48\n"
     ]
    }
   ],
   "source": [
    "delta2 = timedelta(1, 1)\n",
    "\n",
    "print(start + delta2)"
   ]
  },
  {
   "cell_type": "code",
   "execution_count": 192,
   "id": "21439405",
   "metadata": {},
   "outputs": [
    {
     "name": "stdout",
     "output_type": "stream",
     "text": [
      "2017-10-01 23:46:47\n"
     ]
    }
   ],
   "source": [
    "delta3 = timedelta(weeks=-1)\n",
    "\n",
    "print(start + delta3)"
   ]
  },
  {
   "cell_type": "markdown",
   "id": "e4cdb791",
   "metadata": {},
   "source": [
    "### Turning pairs of datetimes into durations\n",
    "When working with timestamps, we often want to know how much time has elapsed between events. Thankfully, we can use `datetime` arithmetic to ask Python to do the heavy lifting for us so we don't need to worry about day, month, or year boundaries. Let's calculate the number of seconds that the bike was out of the dock for each trip.\n",
    "\n",
    "Continuing our work from a previous coding exercise, the bike trip data has been loaded as the list `onebike_datetimes`. Each element of the list consists of two `datetime` objects, corresponding to the start and end of a trip, respectively."
   ]
  },
  {
   "cell_type": "code",
   "execution_count": 193,
   "id": "b357299c",
   "metadata": {},
   "outputs": [],
   "source": [
    "# Initialize a list for all the trip durations\n",
    "onebike_durations = []\n",
    "\n",
    "for trip in onebike_datetimes:\n",
    "    trip_duration = trip[\"end\"] - trip[\"start\"]\n",
    "\n",
    "    trip_length_seconds = trip_duration.total_seconds()\n",
    "\n",
    "    onebike_durations.append(trip_length_seconds)"
   ]
  },
  {
   "cell_type": "code",
   "execution_count": 194,
   "id": "d5e39f34",
   "metadata": {},
   "outputs": [
    {
     "data": {
      "application/vnd.microsoft.datawrangler.viewer.v0+json": {
       "columns": [
        {
         "name": "index",
         "rawType": "int64",
         "type": "integer"
        },
        {
         "name": "0",
         "rawType": "float64",
         "type": "float"
        }
       ],
       "ref": "70e3ad8f-5b35-497c-9982-914c5d12ccc6",
       "rows": [
        [
         "0",
         "181.0"
        ],
        [
         "1",
         "7622.0"
        ],
        [
         "2",
         "343.0"
        ],
        [
         "3",
         "1278.0"
        ],
        [
         "4",
         "1277.0"
        ],
        [
         "5",
         "1366.0"
        ],
        [
         "6",
         "815.0"
        ],
        [
         "7",
         "545.0"
        ],
        [
         "8",
         "491.0"
        ],
        [
         "9",
         "639.0"
        ],
        [
         "10",
         "1678.0"
        ],
        [
         "11",
         "406.0"
        ],
        [
         "12",
         "709.0"
        ],
        [
         "13",
         "514.0"
        ],
        [
         "14",
         "492.0"
        ],
        [
         "15",
         "1668.0"
        ],
        [
         "16",
         "2242.0"
        ],
        [
         "17",
         "2752.0"
        ],
        [
         "18",
         "735.0"
        ],
        [
         "19",
         "330.0"
        ],
        [
         "20",
         "518.0"
        ],
        [
         "21",
         "1433.0"
        ],
        [
         "22",
         "204.0"
        ],
        [
         "23",
         "304.0"
        ],
        [
         "24",
         "977.0"
        ],
        [
         "25",
         "1399.0"
        ],
        [
         "26",
         "1244.0"
        ],
        [
         "27",
         "658.0"
        ],
        [
         "28",
         "800.0"
        ],
        [
         "29",
         "1911.0"
        ],
        [
         "30",
         "2471.0"
        ],
        [
         "31",
         "1344.0"
        ],
        [
         "32",
         "435.0"
        ],
        [
         "33",
         "271.0"
        ],
        [
         "34",
         "920.0"
        ],
        [
         "35",
         "851.0"
        ],
        [
         "36",
         "209.0"
        ],
        [
         "37",
         "453.0"
        ],
        [
         "38",
         "841.0"
        ],
        [
         "39",
         "142.0"
        ],
        [
         "40",
         "1023.0"
        ],
        [
         "41",
         "1466.0"
        ],
        [
         "42",
         "1636.0"
        ],
        [
         "43",
         "3039.0"
        ],
        [
         "44",
         "1571.0"
        ],
        [
         "45",
         "1410.0"
        ],
        [
         "46",
         "386.0"
        ],
        [
         "47",
         "1527.0"
        ],
        [
         "48",
         "622.0"
        ],
        [
         "49",
         "1450.0"
        ]
       ],
       "shape": {
        "columns": 1,
        "rows": 290
       }
      },
      "text/plain": [
       "[181.0,\n",
       " 7622.0,\n",
       " 343.0,\n",
       " 1278.0,\n",
       " 1277.0,\n",
       " 1366.0,\n",
       " 815.0,\n",
       " 545.0,\n",
       " 491.0,\n",
       " 639.0,\n",
       " 1678.0,\n",
       " 406.0,\n",
       " 709.0,\n",
       " 514.0,\n",
       " 492.0,\n",
       " 1668.0,\n",
       " 2242.0,\n",
       " 2752.0,\n",
       " 735.0,\n",
       " 330.0,\n",
       " 518.0,\n",
       " 1433.0,\n",
       " 204.0,\n",
       " 304.0,\n",
       " 977.0,\n",
       " 1399.0,\n",
       " 1244.0,\n",
       " 658.0,\n",
       " 800.0,\n",
       " 1911.0,\n",
       " 2471.0,\n",
       " 1344.0,\n",
       " 435.0,\n",
       " 271.0,\n",
       " 920.0,\n",
       " 851.0,\n",
       " 209.0,\n",
       " 453.0,\n",
       " 841.0,\n",
       " 142.0,\n",
       " 1023.0,\n",
       " 1466.0,\n",
       " 1636.0,\n",
       " 3039.0,\n",
       " 1571.0,\n",
       " 1410.0,\n",
       " 386.0,\n",
       " 1527.0,\n",
       " 622.0,\n",
       " 1450.0,\n",
       " 1422.0,\n",
       " 991.0,\n",
       " 1484.0,\n",
       " 1450.0,\n",
       " 929.0,\n",
       " 533.0,\n",
       " 525.0,\n",
       " 283.0,\n",
       " 133.0,\n",
       " 1106.0,\n",
       " 952.0,\n",
       " 553.0,\n",
       " 659.0,\n",
       " 297.0,\n",
       " 357.0,\n",
       " 989.0,\n",
       " 979.0,\n",
       " 760.0,\n",
       " 1110.0,\n",
       " 675.0,\n",
       " 1207.0,\n",
       " 1593.0,\n",
       " 768.0,\n",
       " 1446.0,\n",
       " 485.0,\n",
       " 200.0,\n",
       " 399.0,\n",
       " 242.0,\n",
       " 170.0,\n",
       " 450.0,\n",
       " 1078.0,\n",
       " 1042.0,\n",
       " 573.0,\n",
       " 748.0,\n",
       " 735.0,\n",
       " 336.0,\n",
       " 76913.0,\n",
       " 171.0,\n",
       " 568.0,\n",
       " 358.0,\n",
       " 917.0,\n",
       " 671.0,\n",
       " 1791.0,\n",
       " 318.0,\n",
       " 888.0,\n",
       " 1284.0,\n",
       " 11338.0,\n",
       " 1686.0,\n",
       " 5579.0,\n",
       " 8290.0,\n",
       " 1850.0,\n",
       " 1810.0,\n",
       " 870.0,\n",
       " 436.0,\n",
       " 429.0,\n",
       " 494.0,\n",
       " 1439.0,\n",
       " 380.0,\n",
       " 629.0,\n",
       " 962.0,\n",
       " 387.0,\n",
       " 952.0,\n",
       " 190.0,\n",
       " 739.0,\n",
       " 1120.0,\n",
       " 369.0,\n",
       " 2275.0,\n",
       " 873.0,\n",
       " 1670.0,\n",
       " 643.0,\n",
       " 572.0,\n",
       " 1375.0,\n",
       " 725.0,\n",
       " 688.0,\n",
       " 1041.0,\n",
       " 1707.0,\n",
       " 1236.0,\n",
       " 1291.0,\n",
       " 2890.0,\n",
       " -3346.0,\n",
       " 1213.0,\n",
       " 331.0,\n",
       " 1497.0,\n",
       " 527.0,\n",
       " 584.0,\n",
       " 2599.0,\n",
       " 759.0,\n",
       " 1291.0,\n",
       " 916.0,\n",
       " 161.0,\n",
       " 806.0,\n",
       " 838.0,\n",
       " 644.0,\n",
       " 374.0,\n",
       " 678.0,\n",
       " 137.0,\n",
       " 659.0,\n",
       " 386.0,\n",
       " 745.0,\n",
       " 448.0,\n",
       " 558.0,\n",
       " 888.0,\n",
       " 662.0,\n",
       " 663.0,\n",
       " 362.0,\n",
       " 513.0,\n",
       " 655.0,\n",
       " 221.0,\n",
       " 469.0,\n",
       " 430.0,\n",
       " 192.0,\n",
       " 324.0,\n",
       " 1233.0,\n",
       " 923.0,\n",
       " 961.0,\n",
       " 525.0,\n",
       " 1017.0,\n",
       " 1216.0,\n",
       " 747.0,\n",
       " 668.0,\n",
       " 1219.0,\n",
       " 1182.0,\n",
       " 10262.0,\n",
       " 1106.0,\n",
       " 399.0,\n",
       " 724.0,\n",
       " 330.0,\n",
       " 499.0,\n",
       " 968.0,\n",
       " 1310.0,\n",
       " 2629.0,\n",
       " 427.0,\n",
       " 839.0,\n",
       " 258.0,\n",
       " 396.0,\n",
       " 238.0,\n",
       " 745.0,\n",
       " 613.0,\n",
       " 710.0,\n",
       " 2068.0,\n",
       " 947.0,\n",
       " 1509.0,\n",
       " 254.0,\n",
       " 625.0,\n",
       " 479.0,\n",
       " 688.0,\n",
       " 238.0,\n",
       " 322.0,\n",
       " 304.0,\n",
       " 576.0,\n",
       " 1035.0,\n",
       " 661.0,\n",
       " 276.0,\n",
       " 1427.0,\n",
       " 998.0,\n",
       " 729.0,\n",
       " 723.0,\n",
       " 220.0,\n",
       " 212.0,\n",
       " 759.0,\n",
       " 268.0,\n",
       " 374.0,\n",
       " 305.0,\n",
       " 304.0,\n",
       " 289.0,\n",
       " 2620.0,\n",
       " 1288.0,\n",
       " 212.0,\n",
       " 2656.0,\n",
       " 996.0,\n",
       " 271.0,\n",
       " 701.0,\n",
       " 458.0,\n",
       " 116.0,\n",
       " 124.0,\n",
       " 276.0,\n",
       " 532.0,\n",
       " 257.0,\n",
       " 1089.0,\n",
       " 195.0,\n",
       " 384.0,\n",
       " 511.0,\n",
       " 850.0,\n",
       " 462.0,\n",
       " 322.0,\n",
       " 998.0,\n",
       " 327.0,\n",
       " 153.0,\n",
       " 152.0,\n",
       " 230.0,\n",
       " 321.0,\n",
       " 625.0,\n",
       " 391.0,\n",
       " 1298.0,\n",
       " 1018.0,\n",
       " 220.0,\n",
       " 277.0,\n",
       " 221.0,\n",
       " 216.0,\n",
       " 509.0,\n",
       " 596.0,\n",
       " 367.0,\n",
       " 447.0,\n",
       " 257.0,\n",
       " 1049.0,\n",
       " 1367.0,\n",
       " 933.0,\n",
       " 151.0,\n",
       " 153.0,\n",
       " 1336.0,\n",
       " 298.0,\n",
       " 380.0,\n",
       " 1385.0,\n",
       " 225.0,\n",
       " 181.0,\n",
       " 581.0,\n",
       " 250.0,\n",
       " 332.0,\n",
       " 845.0,\n",
       " 277.0,\n",
       " 663.0,\n",
       " 541.0,\n",
       " 652.0,\n",
       " 257.0,\n",
       " 775.0,\n",
       " 499.0,\n",
       " 1744.0,\n",
       " 445.0,\n",
       " 297.0,\n",
       " 1716.0,\n",
       " 2046.0,\n",
       " 809.0,\n",
       " 1287.0,\n",
       " 596.0,\n",
       " 1513.0,\n",
       " 651.0,\n",
       " 625.0,\n",
       " 279.0,\n",
       " 210.0,\n",
       " 610.0]"
      ]
     },
     "execution_count": 194,
     "metadata": {},
     "output_type": "execute_result"
    }
   ],
   "source": [
    "onebike_durations"
   ]
  },
  {
   "cell_type": "code",
   "execution_count": 195,
   "id": "13f91cb9",
   "metadata": {},
   "outputs": [
    {
     "name": "stdout",
     "output_type": "stream",
     "text": [
      "1178.9310344827586\n"
     ]
    }
   ],
   "source": [
    "# Calculate total_elapsed_time across all trips in onebike_durations.\n",
    "total_elapsed_time = sum(onebike_durations)\n",
    "\n",
    "# What was the total number of trips?\n",
    "number_of_trips = len(onebike_durations)\n",
    "\n",
    "# Divide total_elapsed_time by number_of_trips to get the average trip length.\n",
    "print(total_elapsed_time / number_of_trips)"
   ]
  },
  {
   "cell_type": "markdown",
   "id": "1e4dfd6e",
   "metadata": {},
   "source": [
    "### The long and the short of why time is hard\n",
    "Out of 291 trips taken by W20529, how long was the longest? How short was the shortest? Does anything look fishy?\n",
    "\n",
    "As before, data has been loaded as `onebike_durations`."
   ]
  },
  {
   "cell_type": "code",
   "execution_count": 196,
   "id": "56a8144b",
   "metadata": {},
   "outputs": [
    {
     "name": "stdout",
     "output_type": "stream",
     "text": [
      "The shortest trip was -3346.0 seconds\n",
      "The longest trip was 76913.0 seconds\n"
     ]
    }
   ],
   "source": [
    "# Calculate shortest and longest trips\n",
    "shortest_trip = min(onebike_durations)\n",
    "longest_trip = max(onebike_durations)\n",
    "\n",
    "# Print out the results\n",
    "print(f\"The shortest trip was {shortest_trip} seconds\")\n",
    "print(f\"The longest trip was {longest_trip} seconds\")"
   ]
  },
  {
   "cell_type": "markdown",
   "id": "2761c641",
   "metadata": {},
   "source": [
    "## Working with Time Zones and UTC Offsets\n",
    "\n",
    "A `datetime` object created without any time zone information, such as `datetime(2025, 7, 14, 23, 05)`, is considered \"naive.\" It is ambiguous because it lacks context; we don't know if it represents 11:05 PM in London, New York, or Tokyo. To make this information unambiguous and useful for global applications, we must create \"aware\" `datetime` objects.\n",
    "\n",
    "An **aware** `datetime` object is associated with a specific time zone, anchoring it to a precise, globally understood moment. The universal standard for this is **Coordinated Universal Time (UTC)**. All local time zones are defined by their offset—the duration they are ahead of or behind UTC.\n",
    "\n",
    "### Creating Timezone-Aware `datetime` Objects\n",
    "\n",
    "To make a `datetime` object aware, we must provide it with time zone information. The `datetime` module's `timezone` class allows us to create simple, fixed-offset time zone objects using a `timedelta`.\n",
    "\n",
    "  * **Why**: To create an unambiguous representation of a specific moment in time that can be accurately compared and converted across different locales.\n",
    "  * **How**: First, create a `timezone` object by passing a `timedelta` representing the offset from UTC. Then, pass this `timezone` object to the `datetime` constructor using the `tzinfo` argument.\n",
    "\n",
    "\n",
    "```python\n",
    "from datetime import datetime, timedelta, timezone\n",
    "\n",
    "\n",
    "# US Eastern Standard Time (EST) is 5 hours behind UTC\n",
    "TZ_EST = timezone(timedelta(hours=-5))\n",
    "\n",
    "# Indian Standard Time (IST) is 5 hours and 30 minutes ahead of UTC\n",
    "TZ_IST = timezone(timedelta(hours=5, minutes=30))\n",
    "\n",
    "# This represents a specific moment in the US Eastern time zone.\n",
    "dt_aware = datetime(2025, 12, 30, 15, 9, 3, tzinfo=TZ_EST)\n",
    "\n",
    "# Note the offset (-05:00) in the output, indicating it is an aware object.\n",
    "print(f\"Aware datetime in EST: {dt_aware}\")\n",
    "```\n",
    "\n",
    "### Converting Between Time Zones with `.astimezone()`\n",
    "\n",
    "Once you have an aware `datetime` object, you can correctly convert it to represent the *exact same moment* in any other time zone. The `.astimezone()` method handles all the necessary calculations.\n",
    "\n",
    "  * **Why**: To find the local wall time in a different part of the world corresponding to a specific, universal instant.\n",
    "  * **How**: Call `.astimezone()` on an existing aware `datetime` object and pass it the target `timezone` object.\n",
    "\n",
    "```python\n",
    "# Convert our EST datetime to Indian Standard Time\n",
    "# This calculates what the local time would be in India at that exact same instant.\n",
    "dt_in_ist = dt_aware.astimezone(TZ_IST)\n",
    "\n",
    "print(f\"Original EST time: {dt_aware}\")\n",
    "print(f\"Same moment in IST:  {dt_in_ist}\")\n",
    "```\n",
    "\n",
    "Notice how both the clock time and the offset (`+05:30`) have changed. The two `datetime` objects represent the same instant in universal time, just viewed from different local perspectives.\n",
    "\n",
    "### The Critical Difference: `.astimezone()` vs. `.replace()`\n",
    "\n",
    "A common and dangerous source of bugs is confusing `.astimezone()` with `.replace()`. They have fundamentally different behaviours.\n",
    "\n",
    "| Method | Action | Resulting Moment in Time | Use Case |\n",
    "| :--- | :--- | :--- | :--- |\n",
    "| **`.astimezone(tz)`** | **Converts** the time. It changes the wall time and the offset to preserve the original instant. | **Same** | \"What time is it in time zone `tz` right now?\" |\n",
    "| **`.replace(tzinfo=tz)`**| **Re-stamps** the time. It keeps the wall time but changes the offset, effectively altering the underlying instant. | **Different** | \"I was told this was naive, but it was actually in time zone `tz`.\" |\n",
    "\n",
    "Let's see this in action by converting our EST time to UTC (`timezone.utc`).\n",
    "\n",
    "```python\n",
    "print(f\"Original datetime:           {dt_aware}\")\n",
    "\n",
    "# This takes the numbers \"15:09:03\" and just re-labels them as UTC.\n",
    "# This results in a DIFFERENT moment in time.\n",
    "dt_replaced = dt_aware.replace(tzinfo=timezone.utc)\n",
    "print(f\"After .replace(tzinfo=utc):  {dt_replaced}\")\n",
    "\n",
    "# This correctly calculates what time it is in UTC when it's 15:09:03 in EST.\n",
    "# This results in the SAME moment in time.\n",
    "dt_converted = dt_aware.astimezone(timezone.utc)\n",
    "print(f\"After .astimezone(utc):      {dt_converted}\")\n",
    "```\n",
    "\n",
    "This distinction is paramount. Using `.replace()` when you mean to convert a time zone is a severe logical error.\n",
    "\n",
    "### Best Practice: Work in UTC\n",
    "\n",
    "To avoid the complexities and potential bugs associated with time zone arithmetic and daylight saving transitions, the universally accepted best practice is:\n",
    "\n",
    "1.  **Ingest**: When you receive time data from an external source, immediately convert it from its local time zone into UTC.\n",
    "2.  **Process**: Perform all internal logic, calculations, arithmetic, and database storage exclusively using UTC `datetime` objects.\n",
    "3.  **Present**: Only convert the UTC time back to a user's local time zone at the very last moment, right before displaying it.\n",
    "\n",
    "This \"UTC-first\" approach eliminates nearly all common time zone-related issues and creates a robust, reliable system."
   ]
  },
  {
   "cell_type": "code",
   "execution_count": 197,
   "id": "f1e00824",
   "metadata": {},
   "outputs": [],
   "source": [
    "from datetime import datetime, timedelta, timezone\n",
    "\n",
    "# US Eastern Standard time zone\n",
    "ET = timezone(timedelta(hours=-5))\n",
    "\n",
    "# Timezone-aware datetime\n",
    "dt = datetime(2017, 12, 30, 15, 9, 3, tzinfo=ET)"
   ]
  },
  {
   "cell_type": "code",
   "execution_count": 198,
   "id": "12967402",
   "metadata": {},
   "outputs": [
    {
     "name": "stdout",
     "output_type": "stream",
     "text": [
      "2017-12-30 15:09:03-05:00\n"
     ]
    }
   ],
   "source": [
    "print(dt)"
   ]
  },
  {
   "cell_type": "code",
   "execution_count": 199,
   "id": "33045a4f",
   "metadata": {},
   "outputs": [
    {
     "name": "stdout",
     "output_type": "stream",
     "text": [
      "2017-12-31 01:39:03+05:30\n"
     ]
    }
   ],
   "source": [
    "# India Standard time zone\n",
    "IST = timezone(timedelta(hours=5, minutes=30))\n",
    "\n",
    "print(dt.astimezone(IST))"
   ]
  },
  {
   "cell_type": "code",
   "execution_count": 200,
   "id": "4ffcaa76",
   "metadata": {},
   "outputs": [
    {
     "name": "stdout",
     "output_type": "stream",
     "text": [
      "2017-12-30 15:09:03+00:00\n"
     ]
    }
   ],
   "source": [
    "print(dt.replace(tzinfo=timezone.utc))"
   ]
  },
  {
   "cell_type": "code",
   "execution_count": 201,
   "id": "0ed75ec2",
   "metadata": {},
   "outputs": [
    {
     "name": "stdout",
     "output_type": "stream",
     "text": [
      "2017-12-30 20:09:03+00:00\n"
     ]
    }
   ],
   "source": [
    "# Change original to match UTC\n",
    "print(dt.astimezone(timezone.utc))"
   ]
  },
  {
   "cell_type": "code",
   "execution_count": 202,
   "id": "c0db0e29",
   "metadata": {},
   "outputs": [
    {
     "name": "stdout",
     "output_type": "stream",
     "text": [
      "2017-10-01T15:26:26-08:00\n"
     ]
    }
   ],
   "source": [
    "# Import datetime, timedelta, timezone\n",
    "from datetime import datetime, timedelta, timezone\n",
    "\n",
    "# Create a timezone for Pacific Standard Time, or UTC-8\n",
    "pst = timezone(timedelta(hours=-8))\n",
    "\n",
    "# October 1, 2017 at 15:26:26, UTC-8\n",
    "dt = datetime(2017, 10, 1, 15, 26, 26, tzinfo=pst)\n",
    "\n",
    "# Print results\n",
    "print(dt.isoformat())"
   ]
  },
  {
   "cell_type": "code",
   "execution_count": 203,
   "id": "78e3bdda",
   "metadata": {},
   "outputs": [
    {
     "name": "stdout",
     "output_type": "stream",
     "text": [
      "2017-10-01T15:26:26+11:00\n"
     ]
    }
   ],
   "source": [
    "# Create a timezone for Australian Eastern Daylight Time, or UTC+11\n",
    "aedt = timezone(timedelta(hours=+11))\n",
    "\n",
    "# October 1, 2017 at 15:26:26, UTC+11\n",
    "dt = datetime(2017, 10, 1, 15, 26, 26, tzinfo=aedt)\n",
    "\n",
    "# Print results\n",
    "print(dt.isoformat())"
   ]
  },
  {
   "cell_type": "markdown",
   "id": "3bffd475",
   "metadata": {},
   "source": [
    "### Setting timezones\n",
    "Now that you have the hang of setting timezones one at a time, let's look at setting them for the first ten trips that W20529 took.\n",
    "\n"
   ]
  },
  {
   "cell_type": "code",
   "execution_count": 204,
   "id": "1ac2486d",
   "metadata": {},
   "outputs": [],
   "source": [
    "# Create edt, a timezone object whose UTC offset is -4 hours.\n",
    "edt = timezone(timedelta(hours=-4))\n",
    "\n",
    "# Loop over trips, updating the start and end datetimes to be in UTC-4\n",
    "for trip in onebike_datetimes[:10]:\n",
    "\n",
    "    # Update trip['start'] and trip['end']\n",
    "    trip[\"start\"] = trip[\"start\"].replace(tzinfo=edt)\n",
    "    trip[\"end\"] = trip[\"end\"].replace(tzinfo=edt)"
   ]
  },
  {
   "cell_type": "markdown",
   "id": "33395bac",
   "metadata": {},
   "source": [
    "### What time did the bike leave in UTC?\n",
    "Having set the timezone for the first ten rides that W20529 took, let's see what time the bike left in UTC."
   ]
  },
  {
   "cell_type": "code",
   "execution_count": 205,
   "id": "1ebfcb40",
   "metadata": {},
   "outputs": [
    {
     "name": "stdout",
     "output_type": "stream",
     "text": [
      "Original: 2017-10-01 15:23:25-04:00 | UTC: 2017-10-01T19:23:25+00:00\n",
      "Original: 2017-10-01 15:42:57-04:00 | UTC: 2017-10-01T19:42:57+00:00\n",
      "Original: 2017-10-02 06:37:10-04:00 | UTC: 2017-10-02T10:37:10+00:00\n",
      "Original: 2017-10-02 08:56:45-04:00 | UTC: 2017-10-02T12:56:45+00:00\n",
      "Original: 2017-10-02 18:23:48-04:00 | UTC: 2017-10-02T22:23:48+00:00\n",
      "Original: 2017-10-02 18:48:08-04:00 | UTC: 2017-10-02T22:48:08+00:00\n",
      "Original: 2017-10-02 19:18:10-04:00 | UTC: 2017-10-02T23:18:10+00:00\n",
      "Original: 2017-10-02 19:37:32-04:00 | UTC: 2017-10-02T23:37:32+00:00\n",
      "Original: 2017-10-03 08:24:16-04:00 | UTC: 2017-10-03T12:24:16+00:00\n",
      "Original: 2017-10-03 18:17:07-04:00 | UTC: 2017-10-03T22:17:07+00:00\n"
     ]
    }
   ],
   "source": [
    "# Within the for loop, move dt to be in UTC. Use timezone.utc as a convenient shortcut for UTC.\n",
    "for trip in onebike_datetimes[:10]:\n",
    "\n",
    "    # Pull out the data\n",
    "    dt = trip[\"start\"]\n",
    "\n",
    "    # Move dt to be in UTC\n",
    "    dt = dt.astimezone(timezone.utc)\n",
    "\n",
    "    # Print the start time in UTC\n",
    "    print(f\"Original: {trip['start']} | UTC: {dt.isoformat()}\")"
   ]
  },
  {
   "cell_type": "markdown",
   "id": "5977e82a",
   "metadata": {},
   "source": [
    "## The Limitations of Fixed Offsets\n",
    "\n",
    "In previous discussions, we created timezone-aware `datetime` objects using fixed offsets, such as `timezone(timedelta(hours=-5))`. While simple, this approach has a critical flaw: **it cannot handle Daylight Saving Time (DST)**. A location like New York City does not have a single, fixed offset from UTC throughout the year. It observes Eastern Standard Time (EST, UTC-5) in the winter and Eastern Daylight Time (EDT, UTC-4) in the summer. A fixed offset cannot represent this dynamic behaviour.\n",
    "\n",
    "Attempting to manage these transitions manually is notoriously complex and error-prone. A robust solution requires a comprehensive database of historical and future time zone rules.\n",
    "\n",
    "### The `dateutil` Library and the IANA Time Zone Database\n",
    "\n",
    "The standard solution in the Python ecosystem for advanced time zone support is the third-party `dateutil` library. It provides an interface to the **IANA Time Zone Database** (often called the \"tz database\" or \"zoneinfo\"), which is the canonical, industry-standard source for information about the world's time zones. This database contains all the necessary data to accurately determine the correct UTC offset for a given location at any point in time, automatically accounting for all DST transitions and historical changes.\n",
    "\n",
    "### Working with `dateutil`\n",
    "\n",
    "Instead of creating a `timezone` object with a fixed `timedelta`, `dateutil` allows you to fetch a dynamic `tzinfo` object for a specific location using a standardized name.\n",
    "\n",
    "  * **Why**: To create a truly robust `tzinfo` object that understands all the specific rules (like DST) for a given geographical region.\n",
    "  * **How**: Use the `dateutil.tz.gettz()` function, passing the IANA name for the desired time zone. These names follow a `'Continent/City'` convention.\n",
    "\n",
    "\n",
    "```python\n",
    "from datetime import datetime\n",
    "from dateutil import tz\n",
    "\n",
    "# 1. Get a dynamic tzinfo object for a specific time zone\n",
    "# This object contains all the rules for America/New_York.\n",
    "tz_new_york = tz.gettz('America/New_York')\n",
    "\n",
    "# 2. Create a datetime object and make it aware using the new tzinfo\n",
    "# This datetime represents a moment on December 30th in New York.\n",
    "dt = datetime(2025, 12, 30, 15, 9, 3, tzinfo=tz_new_york)\n",
    "\n",
    "# The library correctly determines that this date falls within\n",
    "# standard time, applying the -05:00 offset.\n",
    "print(dt)\n",
    "```\n",
    "\n",
    "Common IANA time zone names include:\n",
    "\n",
    "  * `'America/New_York'`\n",
    "  * `'America/Los_Angeles'`\n",
    "  * `'Europe/London'`\n",
    "  * `'Asia/Tokyo'`\n",
    "  * `'Australia/Sydney'`\n",
    "\n",
    "\n",
    "### Automatic Daylight Saving Time (DST) Handling\n",
    "\n",
    "The primary advantage of `dateutil` is its ability to automatically apply the correct offset based on the date. Let's create two `datetime` objects for New York: one in winter (standard time) and one in summer (daylight time).\n",
    "\n",
    "```python\n",
    "from datetime import datetime\n",
    "from dateutil import tz\n",
    "\n",
    "# Get the tzinfo object for New York\n",
    "tz_new_york = tz.gettz('America/New_York')\n",
    "\n",
    "# 1. A date in winter (EST) \n",
    "dt_winter = datetime(2025, 1, 15, 12, 0, 0, tzinfo=tz_new_york)\n",
    "\n",
    "# 2. A date in summer (EDT) \n",
    "dt_summer = datetime(2025, 7, 15, 12, 0, 0, tzinfo=tz_new_york)\n",
    "\n",
    "# dateutil automatically applies the correct offset for each date\n",
    "print(f\"Winter (Standard Time): {dt_winter}\") # Shows -05:00\n",
    "print(f\"Summer (Daylight Time): {dt_summer}\") # Shows -04:00\n",
    "```"
   ]
  },
  {
   "cell_type": "code",
   "execution_count": 206,
   "id": "1e40ab0d",
   "metadata": {},
   "outputs": [],
   "source": [
    "from datetime import datetime\n",
    "\n",
    "from dateutil import tz\n",
    "\n",
    "# Create a timezone object for Eastern Time\n",
    "et = tz.gettz(\"America/New_York\")\n",
    "\n",
    "# Loop over trips, updating the datetimes to be in Eastern Time\n",
    "for trip in onebike_datetimes[:10]:\n",
    "\n",
    "    # Update trip['start'] and trip['end']\n",
    "    trip[\"start\"] = trip[\"start\"].replace(tzinfo=et)\n",
    "    trip[\"end\"] = trip[\"end\"].replace(tzinfo=et)"
   ]
  },
  {
   "cell_type": "code",
   "execution_count": 207,
   "id": "c5e173fa",
   "metadata": {},
   "outputs": [
    {
     "name": "stdout",
     "output_type": "stream",
     "text": [
      "2017-10-01T15:23:25-04:00\n",
      "2017-10-01T16:23:25-03:00\n"
     ]
    }
   ],
   "source": [
    "# Create the timezone object\n",
    "uk = tz.gettz(\"UK:Europe/London\")\n",
    "\n",
    "# Pull out the start of the first trip\n",
    "local = onebike_datetimes[0][\"start\"]\n",
    "\n",
    "# What time was it in the UK?\n",
    "notlocal = local.astimezone(uk)\n",
    "\n",
    "# Print them out and see the difference\n",
    "print(local.isoformat())\n",
    "print(notlocal.isoformat())"
   ]
  },
  {
   "cell_type": "code",
   "execution_count": 208,
   "id": "b5535fff",
   "metadata": {},
   "outputs": [
    {
     "name": "stdout",
     "output_type": "stream",
     "text": [
      "2017-10-01T15:23:25-04:00\n",
      "2017-10-02T00:53:25+05:30\n"
     ]
    }
   ],
   "source": [
    "# Set ist to be the timezone for India: 'Asia/Kolkata'.\n",
    "ist = tz.gettz(\"Asia/Kolkata\")\n",
    "\n",
    "# Change local to be in the ist timezone and assign it to notlocal.\n",
    "local = onebike_datetimes[0][\"start\"]\n",
    "\n",
    "# What time was it in India?\n",
    "notlocal = local.astimezone(ist)\n",
    "\n",
    "# Print them out and see the difference\n",
    "print(local.isoformat())\n",
    "print(notlocal.isoformat())"
   ]
  },
  {
   "cell_type": "code",
   "execution_count": 209,
   "id": "a3a066ad",
   "metadata": {},
   "outputs": [
    {
     "name": "stdout",
     "output_type": "stream",
     "text": [
      "2017-10-01T15:23:25-04:00\n",
      "2017-10-02T09:23:25+14:00\n"
     ]
    }
   ],
   "source": [
    "# Set sm to be the timezone for Samoa: 'Pacific/Apia'.\n",
    "sm = tz.gettz(\"Pacific/Apia\")\n",
    "\n",
    "# Change local to be in the sm timezone and assign it to notlocal.\n",
    "local = onebike_datetimes[0][\"start\"]\n",
    "\n",
    "# What time was it in Samoa?\n",
    "notlocal = local.astimezone(sm)\n",
    "\n",
    "# Print them out and see the difference\n",
    "print(local.isoformat())\n",
    "print(notlocal.isoformat())"
   ]
  },
  {
   "cell_type": "markdown",
   "id": "749caa25",
   "metadata": {},
   "source": [
    "## The Problem of Non-Existent Time\n",
    "\n",
    "Daylight Saving Time transitions introduce significant complexity into time calculations. The most notable example is the \"spring forward\" event, when local clocks jump ahead by an hour (for example, from 1:59:59 AM to 3:00:00 AM). During this transition, the entire 2:00 AM hour **does not exist** in that local time zone for that specific day.\n",
    "\n",
    "If we represent these moments with naive `datetime` objects, our calculations will be misleading. The arithmetic will be mathematically correct for the numbers involved but will fail to capture the reality of the time jump.\n",
    "\n",
    "```python\n",
    "from datetime import datetime\n",
    "\n",
    "# Representing the moments before and after a DST jump with naive datetimes \n",
    "# In many North American time zones, a DST transition occurs on March 12, 2017.\n",
    "\n",
    "# The moment just before the jump\n",
    "spring_ahead_159am_naive = datetime(2017, 3, 12, 1, 59, 59)\n",
    "\n",
    "# The moment just after the jump\n",
    "spring_ahead_3am_naive = datetime(2017, 3, 12, 3, 0, 0)\n",
    "\n",
    "# Calculate the difference\n",
    "duration_naive = spring_ahead_3am_naive - spring_ahead_159am_naive\n",
    "\n",
    "print(f\"Naive start time: {spring_ahead_159am_naive.isoformat()}\")\n",
    "print(f\"Naive end time:   {spring_ahead_3am_naive.isoformat()}\")\n",
    "print(f\"Apparent elapsed seconds: {duration_naive.total_seconds()}\")\n",
    "```\n",
    "\n",
    "The result of 3601.0 seconds (1 hour and 1 second) is arithmetically correct based on the clock times but is chronologically false. In reality, only one second of universal time has passed.\n",
    "\n",
    "\n",
    "### Why Manual Time Zone Handling Fails\n",
    "\n",
    "One might attempt to solve this by manually applying fixed UTC offsets—one for standard time before the jump and one for daylight time after. While this can produce the correct answer for a known transition, it is an extremely brittle and unmaintainable approach.\n",
    "\n",
    "```python\n",
    "from datetime import timezone, timedelta\n",
    "\n",
    "# Define fixed offsets for EST (UTC-5) and EDT (UTC-4)\n",
    "EST = timezone(timedelta(hours=-5))\n",
    "EDT = timezone(timedelta(hours=-4))\n",
    "\n",
    "# Manually attach the \"correct\" tzinfo to each naive datetime\n",
    "# This requires a priori knowledge of the DST rule for this specific date.\n",
    "spring_ahead_159am_manual = spring_ahead_159am_naive.replace(tzinfo=EST)\n",
    "spring_ahead_3am_manual = spring_ahead_3am_naive.replace(tzinfo=EDT)\n",
    "\n",
    "# Now, calculate the difference between the timezone-aware objects\n",
    "duration_manual = spring_ahead_3am_manual - spring_ahead_159am_manual\n",
    "\n",
    "print(f\"Manually-aware start time: {spring_ahead_159am_manual.isoformat()}\")\n",
    "print(f\"Manually-aware end time:   {spring_ahead_3am_manual.isoformat()}\")\n",
    "print(f\"Actual elapsed seconds: {duration_manual.total_seconds()}\")\n",
    "```\n",
    "\n",
    "This correctly calculates an elapsed time of 1.0 second. However, the logic is flawed because it forces the developer to become a time zone expert. You would need to hard-code every DST rule for every location your application supports, which is not a viable strategy.\n",
    "\n",
    "\n",
    "### The Robust Solution: `dateutil`\n",
    "\n",
    "The pythonic and correct way to handle these transitions is to use a library like `dateutil` that has access to the comprehensive IANA time zone database. By creating `datetime` objects with a `dateutil` `tzinfo` object, the library will automatically determine and apply the correct UTC offset for any given moment, seamlessly managing all DST transitions.\n",
    "\n",
    "When you create a `datetime` for a local time that does not exist (such as 2:30 AM during a \"spring forward\"), `dateutil` can infer what you mean. The library understands that the wall clock jumped, and it correctly interprets the moments just before and after this jump.\n",
    "\n",
    "```python\n",
    "from dateutil import tz\n",
    "\n",
    "# Get a single, dynamic tzinfo object for the 'America/New_York' time zone\n",
    "eastern = tz.gettz('America/New_York')\n",
    "\n",
    "# Create aware datetimes using the dateutil tzinfo object \n",
    "\n",
    "# Create the datetime for the moment just before the jump\n",
    "# dateutil knows this date is in standard time (EST).\n",
    "dt_before_jump = datetime(2017, 3, 12, 1, 59, 59, tzinfo=eastern)\n",
    "\n",
    "# Create the datetime for the moment just after the jump\n",
    "# dateutil knows this date is in daylight time (EDT).\n",
    "dt_after_jump = datetime(2017, 3, 12, 3, 0, 0, tzinfo=eastern)\n",
    "\n",
    "# Calculate the difference\n",
    "duration_dateutil = dt_after_jump - dt_before_jump\n",
    "\n",
    "print(f\"dateutil start time: {dt_before_jump.isoformat()}\")\n",
    "print(f\"dateutil end time:   {dt_after_jump.isoformat()}\")\n",
    "print(f\"Actual elapsed seconds (via dateutil): {duration_dateutil.total_seconds()}\")\n",
    "```\n",
    "\n",
    "Notice how `dateutil` automatically assigned the correct offset to each `datetime` object: `-05:00` for the one in standard time and `-04:00` for the one in daylight time. The resulting calculation is effortlessly correct. This demonstrates that for any application dealing with local times in regions with DST, using a library backed by the IANA database is not just a convenience—it is a necessity for correctness."
   ]
  },
  {
   "cell_type": "code",
   "execution_count": 210,
   "id": "e4149d2c",
   "metadata": {},
   "outputs": [
    {
     "name": "stdout",
     "output_type": "stream",
     "text": [
      "2017-03-12T00:00:00-05:00 to 2017-03-12T06:00:00-04:00\n",
      "6.0\n"
     ]
    }
   ],
   "source": [
    "from datetime import datetime, timedelta, timezone\n",
    "\n",
    "from dateutil import tz\n",
    "\n",
    "# Start on March 12, 2017, midnight, then add 6 hours\n",
    "start = datetime(2017, 3, 12, 0, 0, tzinfo=tz.gettz(\"America/New_York\"))\n",
    "\n",
    "# Add six hours to start and assign it to end. Look at the UTC offset for the two results\n",
    "end = start + timedelta(hours=6)\n",
    "\n",
    "print(start.isoformat() + \" to \" + end.isoformat())\n",
    "\n",
    "# How many hours have elapsed?\n",
    "print((end - start).seconds / (60 * 60))"
   ]
  },
  {
   "cell_type": "code",
   "execution_count": 211,
   "id": "62dd30c4",
   "metadata": {},
   "outputs": [
    {
     "name": "stdout",
     "output_type": "stream",
     "text": [
      "5.0\n"
     ]
    }
   ],
   "source": [
    "# What if we move to UTC?\n",
    "print(\n",
    "    (end.astimezone(timezone.utc) - start.astimezone(timezone.utc)).total_seconds()\n",
    "    / (60 * 60)\n",
    ")"
   ]
  },
  {
   "cell_type": "markdown",
   "id": "f6492d75",
   "metadata": {},
   "source": [
    "### March 29, throughout a decade\n",
    "Daylight Saving rules are complicated: they're different in different places, they change over time, and they usually start on a Sunday (and so they move around the calendar).\n",
    "\n",
    "For example, in the United Kingdom, as of the time this lesson was written, Daylight Saving begins on the last Sunday in March. Let's look at the UTC offset for March 29, at midnight, for the years 2000 to 2010."
   ]
  },
  {
   "cell_type": "code",
   "execution_count": 212,
   "id": "125682b5",
   "metadata": {},
   "outputs": [
    {
     "name": "stdout",
     "output_type": "stream",
     "text": [
      "2000-03-29T00:00:00+01:00\n",
      "2001-03-29T00:00:00+01:00\n",
      "2002-03-29T00:00:00+00:00\n",
      "2003-03-29T00:00:00+00:00\n",
      "2004-03-29T00:00:00+01:00\n",
      "2005-03-29T00:00:00+01:00\n",
      "2006-03-29T00:00:00+01:00\n",
      "2007-03-29T00:00:00+01:00\n",
      "2008-03-29T00:00:00+00:00\n",
      "2009-03-29T00:00:00+00:00\n",
      "2010-03-29T00:00:00+01:00\n"
     ]
    }
   ],
   "source": [
    "from datetime import datetime\n",
    "\n",
    "from dateutil import tz\n",
    "\n",
    "# Using tz, set the timezone for dt to be 'Europe/London'.\n",
    "dt = datetime(2000, 3, 29, tzinfo=tz.gettz(\"Europe/London\"))\n",
    "\n",
    "# Loop over the dates, replacing the year, and print the ISO timestamp\n",
    "for year in range(2000, 2011):\n",
    "    print(dt.replace(year=year).isoformat())"
   ]
  },
  {
   "cell_type": "code",
   "execution_count": 213,
   "id": "9d8c05ad",
   "metadata": {},
   "outputs": [
    {
     "name": "stdout",
     "output_type": "stream",
     "text": [
      "Ambiguous start at 2017-11-05 01:56:50-04:00\n",
      "Ambiguous end at 2017-11-05 01:01:04-04:00\n"
     ]
    }
   ],
   "source": [
    "from dateutil import tz\n",
    "from dateutil.tz import datetime_ambiguous\n",
    "\n",
    "# Get the Eastern timezone\n",
    "eastern = tz.gettz(\"America/New_York\")\n",
    "\n",
    "# Loop over trips\n",
    "for trip in onebike_datetimes:\n",
    "    # Make datetime objects timezone-aware\n",
    "    start_aware = trip[\"start\"].replace(tzinfo=eastern)\n",
    "    end_aware = trip[\"end\"].replace(tzinfo=eastern)\n",
    "\n",
    "    # Rides with ambiguous start\n",
    "    if datetime_ambiguous(start_aware):\n",
    "        print(\"Ambiguous start at \" + str(start_aware))\n",
    "    # Rides with ambiguous end\n",
    "    if datetime_ambiguous(end_aware):\n",
    "        print(\"Ambiguous end at \" + str(end_aware))"
   ]
  },
  {
   "cell_type": "markdown",
   "id": "a7b8deec",
   "metadata": {},
   "source": [
    "### Cleaning daylight saving data with fold\n",
    "As we've just discovered, there is a ride in our data set which is being messed up by a Daylight Savings shift. Let's clean up the data set so we actually have a correct minimum ride length. We can use the fact that we know the end of the ride happened after the beginning to fix up the duration messed up by the shift out of Daylight Savings.\n",
    "\n",
    "Since Python does not handle `tz.enfold()` when doing arithmetic, we must put our datetime objects into UTC, where ambiguities have been resolved."
   ]
  },
  {
   "cell_type": "code",
   "execution_count": 214,
   "id": "6e01d4fe",
   "metadata": {},
   "outputs": [],
   "source": [
    "from dateutil import tz\n",
    "\n",
    "# Get the timezone object\n",
    "eastern = tz.gettz(\"America/New_York\")\n",
    "\n",
    "for trip in onebike_datetimes:\n",
    "    if trip[\"start\"].tzinfo is None:\n",
    "        # Replace the naive datetime with a timezone-aware one\n",
    "        trip[\"start\"] = trip[\"start\"].replace(tzinfo=eastern)\n",
    "    if trip[\"end\"].tzinfo is None:\n",
    "        trip[\"end\"] = trip[\"end\"].replace(tzinfo=eastern)"
   ]
  },
  {
   "cell_type": "code",
   "execution_count": 215,
   "id": "4e82c288",
   "metadata": {},
   "outputs": [
    {
     "name": "stdout",
     "output_type": "stream",
     "text": [
      "Shortest trip: 116.0\n"
     ]
    }
   ],
   "source": [
    "trip_durations = []\n",
    "for trip in onebike_datetimes:\n",
    "    # When the start is later than the end, set the fold to be 1\n",
    "    if trip[\"start\"] > trip[\"end\"]:\n",
    "        trip[\"end\"] = tz.enfold(trip[\"end\"])\n",
    "    # Convert to UTC\n",
    "    start = trip[\"start\"].astimezone(tz.UTC)\n",
    "    end = trip[\"end\"].astimezone(tz.UTC)\n",
    "\n",
    "    # Subtract the difference\n",
    "    trip_length_seconds = (end - start).total_seconds()\n",
    "    trip_durations.append(trip_length_seconds)\n",
    "\n",
    "# Take the shortest trip duration\n",
    "print(\"Shortest trip: \" + str(min(trip_durations)))"
   ]
  },
  {
   "cell_type": "markdown",
   "id": "58b5d964",
   "metadata": {},
   "source": [
    "## The Default Behaviour: Dates as Strings\n",
    "\n",
    "By default, `pandas.read_csv()` does not automatically detect and parse date and time information. It reads any column containing non-numeric data as a generic `object` dtype, which is essentially a column of Python strings. While these strings may look like dates, they lack the properties required for chronological calculations.\n",
    "\n",
    "```python\n",
    "import pandas as pd\n",
    "import io\n",
    "\n",
    "# Create a sample CSV in memory to make the example self-contained\n",
    "csv_data = \"\"\"start_time,end_time,value\n",
    "2025-10-01 15:23:25,2025-10-01 15:26:26,100\n",
    "2025-10-01 15:42:57,2025-10-01 17:49:59,150\n",
    "2025-10-02 06:37:10,2025-10-02 06:42:53,120\n",
    "\"\"\"\n",
    "\n",
    "# Read the data with default settings\n",
    "df_naive = pd.read_csv(io.StringIO(csv_data))\n",
    "\n",
    "# Inspect the data types\n",
    "print(df_naive.info())\n",
    "```\n",
    "\n",
    "As the output shows, the `start_time` and `end_time` columns are loaded with the `object` dtype. You cannot perform date arithmetic on these columns (e.g., `df_naive['end_time'] - df_naive['start_time']` would raise an error).\n",
    "\n",
    "### Correctly Parsing Dates into `datetime` Objects\n",
    "\n",
    "To unlock pandas' powerful time-series functionality, we must convert these string columns into a proper `datetime` format (`datetime64[ns]`). There are two primary, pythonic ways to do this.\n",
    "\n",
    "#### Method 1: Parsing During Import with `parse_dates`\n",
    "\n",
    "The most efficient method is to instruct pandas to parse the columns as dates while the file is being read. This is done using the `parse_dates` argument in `pd.read_csv()`.\n",
    "\n",
    "  * **Why**: This is often faster and more memory-efficient, as pandas can apply optimized parsing routines during file ingestion. It's the preferred method when you know which columns contain dates ahead of time.\n",
    "  * **How**: Pass a list of the column names or column indices to the `parse_dates` argument.\n",
    "\n",
    "```python\n",
    "# Re-read the data, this time using the parse_dates argument\n",
    "df_parsed = pd.read_csv(\n",
    "    io.StringIO(csv_data),\n",
    "    parse_dates=['start_time', 'end_time']\n",
    ")\n",
    "\n",
    "# Inspect the data types again\n",
    "print(df_parsed.info())\n",
    "```\n",
    "\n",
    "Now, the `start_time` and `end_time` columns have the `datetime64[ns]` dtype, indicating they are proper `datetime` objects.\n",
    "\n",
    "#### Method 2: Parsing After Import with `pd.to_datetime()`\n",
    "\n",
    "Alternatively, you can load the data first and then convert the columns. This is useful if the date columns require some cleaning before parsing or if their format is non-standard.\n",
    "\n",
    "  * **Why**: Provides more flexibility to clean or manipulate the string data before attempting to convert it to a datetime.\n",
    "  * **How**: Use the top-level `pd.to_datetime()` function, which can parse a Series of date-like strings.\n",
    "\n",
    "\n",
    "```python\n",
    "# Load the data naively first\n",
    "df_post_parse = pd.read_csv(io.StringIO(csv_data))\n",
    "\n",
    "# Convert the columns to datetime objects after loading\n",
    "df_post_parse['start_time'] = pd.to_datetime(df_post_parse['start_time'])\n",
    "df_post_parse['end_time'] = pd.to_datetime(df_post_parse['end_time'])\n",
    "\n",
    "# The result is the same as using parse_dates\n",
    "print(df_post_parse.info())\n",
    "```\n",
    "\n",
    "### Leveraging `datetime` Columns for Analysis\n",
    "\n",
    "Once your columns are in the `datetime64[ns]` format, you can perform powerful vectorized operations. A common task is to calculate the duration between two `datetime` columns.\n",
    "\n",
    "Subtracting one `datetime` Series from another results in a `timedelta` Series (`timedelta64[ns]`), which represents the duration for each row.\n",
    "\n",
    "```python\n",
    "# Calculate the duration by subtracting the two datetime columns\n",
    "df_parsed['duration'] = df_parsed['end_time'] - df_parsed['start_time']\n",
    "\n",
    "print(df_parsed['duration'].head())\n",
    "```\n",
    "\n",
    "Just as `datetime` columns have the `.dt` accessor for date/time properties, `timedelta` columns have a `.dt` accessor for duration properties. This allows you to easily extract the total duration in a specific unit, such as seconds.\n",
    "\n",
    "```python\n",
    "# Use the .dt accessor on the timedelta column to get total seconds\n",
    "df_parsed['duration_seconds'] = df_parsed['duration'].dt.total_seconds()\n",
    "\n",
    "print(df_parsed[['start_time', 'end_time', 'duration', 'duration_seconds']])\n",
    "```"
   ]
  },
  {
   "cell_type": "markdown",
   "id": "3378ef0f",
   "metadata": {},
   "source": [
    "The `capital_onebike.csv` file covers the October, November and December rides of the Capital Bikeshare bike W20529."
   ]
  },
  {
   "cell_type": "code",
   "execution_count": 216,
   "id": "0c3929f7",
   "metadata": {},
   "outputs": [
    {
     "data": {
      "application/vnd.microsoft.datawrangler.viewer.v0+json": {
       "columns": [
        {
         "name": "index",
         "rawType": "int64",
         "type": "integer"
        },
        {
         "name": "Start date",
         "rawType": "datetime64[ns]",
         "type": "datetime"
        },
        {
         "name": "End date",
         "rawType": "datetime64[ns]",
         "type": "datetime"
        },
        {
         "name": "Start station number",
         "rawType": "int64",
         "type": "integer"
        },
        {
         "name": "Start station",
         "rawType": "object",
         "type": "string"
        },
        {
         "name": "End station number",
         "rawType": "int64",
         "type": "integer"
        },
        {
         "name": "End station",
         "rawType": "object",
         "type": "string"
        },
        {
         "name": "Bike number",
         "rawType": "object",
         "type": "string"
        },
        {
         "name": "Member type",
         "rawType": "object",
         "type": "string"
        }
       ],
       "ref": "13afda7d-a8ad-4312-8935-f949a3e4dfa7",
       "rows": [
        [
         "0",
         "2017-10-01 15:23:25",
         "2017-10-01 15:26:26",
         "31038",
         "Glebe Rd & 11th St N",
         "31036",
         "George Mason Dr & Wilson Blvd",
         "W20529",
         "Member"
        ],
        [
         "1",
         "2017-10-01 15:42:57",
         "2017-10-01 17:49:59",
         "31036",
         "George Mason Dr & Wilson Blvd",
         "31036",
         "George Mason Dr & Wilson Blvd",
         "W20529",
         "Casual"
        ],
        [
         "2",
         "2017-10-02 06:37:10",
         "2017-10-02 06:42:53",
         "31036",
         "George Mason Dr & Wilson Blvd",
         "31037",
         "Ballston Metro / N Stuart & 9th St N",
         "W20529",
         "Member"
        ],
        [
         "3",
         "2017-10-02 08:56:45",
         "2017-10-02 09:18:03",
         "31037",
         "Ballston Metro / N Stuart & 9th St N",
         "31295",
         "Potomac & M St NW",
         "W20529",
         "Member"
        ],
        [
         "4",
         "2017-10-02 18:23:48",
         "2017-10-02 18:45:05",
         "31295",
         "Potomac & M St NW",
         "31230",
         "Metro Center / 12th & G St NW",
         "W20529",
         "Member"
        ]
       ],
       "shape": {
        "columns": 8,
        "rows": 5
       }
      },
      "text/html": [
       "<div>\n",
       "<style scoped>\n",
       "    .dataframe tbody tr th:only-of-type {\n",
       "        vertical-align: middle;\n",
       "    }\n",
       "\n",
       "    .dataframe tbody tr th {\n",
       "        vertical-align: top;\n",
       "    }\n",
       "\n",
       "    .dataframe thead th {\n",
       "        text-align: right;\n",
       "    }\n",
       "</style>\n",
       "<table border=\"1\" class=\"dataframe\">\n",
       "  <thead>\n",
       "    <tr style=\"text-align: right;\">\n",
       "      <th></th>\n",
       "      <th>Start date</th>\n",
       "      <th>End date</th>\n",
       "      <th>Start station number</th>\n",
       "      <th>Start station</th>\n",
       "      <th>End station number</th>\n",
       "      <th>End station</th>\n",
       "      <th>Bike number</th>\n",
       "      <th>Member type</th>\n",
       "    </tr>\n",
       "  </thead>\n",
       "  <tbody>\n",
       "    <tr>\n",
       "      <th>0</th>\n",
       "      <td>2017-10-01 15:23:25</td>\n",
       "      <td>2017-10-01 15:26:26</td>\n",
       "      <td>31038</td>\n",
       "      <td>Glebe Rd &amp; 11th St N</td>\n",
       "      <td>31036</td>\n",
       "      <td>George Mason Dr &amp; Wilson Blvd</td>\n",
       "      <td>W20529</td>\n",
       "      <td>Member</td>\n",
       "    </tr>\n",
       "    <tr>\n",
       "      <th>1</th>\n",
       "      <td>2017-10-01 15:42:57</td>\n",
       "      <td>2017-10-01 17:49:59</td>\n",
       "      <td>31036</td>\n",
       "      <td>George Mason Dr &amp; Wilson Blvd</td>\n",
       "      <td>31036</td>\n",
       "      <td>George Mason Dr &amp; Wilson Blvd</td>\n",
       "      <td>W20529</td>\n",
       "      <td>Casual</td>\n",
       "    </tr>\n",
       "    <tr>\n",
       "      <th>2</th>\n",
       "      <td>2017-10-02 06:37:10</td>\n",
       "      <td>2017-10-02 06:42:53</td>\n",
       "      <td>31036</td>\n",
       "      <td>George Mason Dr &amp; Wilson Blvd</td>\n",
       "      <td>31037</td>\n",
       "      <td>Ballston Metro / N Stuart &amp; 9th St N</td>\n",
       "      <td>W20529</td>\n",
       "      <td>Member</td>\n",
       "    </tr>\n",
       "    <tr>\n",
       "      <th>3</th>\n",
       "      <td>2017-10-02 08:56:45</td>\n",
       "      <td>2017-10-02 09:18:03</td>\n",
       "      <td>31037</td>\n",
       "      <td>Ballston Metro / N Stuart &amp; 9th St N</td>\n",
       "      <td>31295</td>\n",
       "      <td>Potomac &amp; M St NW</td>\n",
       "      <td>W20529</td>\n",
       "      <td>Member</td>\n",
       "    </tr>\n",
       "    <tr>\n",
       "      <th>4</th>\n",
       "      <td>2017-10-02 18:23:48</td>\n",
       "      <td>2017-10-02 18:45:05</td>\n",
       "      <td>31295</td>\n",
       "      <td>Potomac &amp; M St NW</td>\n",
       "      <td>31230</td>\n",
       "      <td>Metro Center / 12th &amp; G St NW</td>\n",
       "      <td>W20529</td>\n",
       "      <td>Member</td>\n",
       "    </tr>\n",
       "  </tbody>\n",
       "</table>\n",
       "</div>"
      ],
      "text/plain": [
       "           Start date            End date  Start station number  \\\n",
       "0 2017-10-01 15:23:25 2017-10-01 15:26:26                 31038   \n",
       "1 2017-10-01 15:42:57 2017-10-01 17:49:59                 31036   \n",
       "2 2017-10-02 06:37:10 2017-10-02 06:42:53                 31036   \n",
       "3 2017-10-02 08:56:45 2017-10-02 09:18:03                 31037   \n",
       "4 2017-10-02 18:23:48 2017-10-02 18:45:05                 31295   \n",
       "\n",
       "                          Start station  End station number  \\\n",
       "0                  Glebe Rd & 11th St N               31036   \n",
       "1         George Mason Dr & Wilson Blvd               31036   \n",
       "2         George Mason Dr & Wilson Blvd               31037   \n",
       "3  Ballston Metro / N Stuart & 9th St N               31295   \n",
       "4                     Potomac & M St NW               31230   \n",
       "\n",
       "                            End station Bike number Member type  \n",
       "0         George Mason Dr & Wilson Blvd      W20529      Member  \n",
       "1         George Mason Dr & Wilson Blvd      W20529      Casual  \n",
       "2  Ballston Metro / N Stuart & 9th St N      W20529      Member  \n",
       "3                     Potomac & M St NW      W20529      Member  \n",
       "4         Metro Center / 12th & G St NW      W20529      Member  "
      ]
     },
     "execution_count": 216,
     "metadata": {},
     "output_type": "execute_result"
    }
   ],
   "source": [
    "import pandas as pd\n",
    "\n",
    "rides = pd.read_csv(\n",
    "    \"https://assets.datacamp.com/production/repositories/3551/datasets/181c142c56d3b83112dfc16fbd933fd995e80f94/capital-onebike.csv\",\n",
    "    parse_dates=[\"Start date\", \"End date\"],\n",
    "    usecols=lambda col: not col.startswith(\"Unnamed\"),\n",
    ")\n",
    "\n",
    "rides.head()"
   ]
  },
  {
   "cell_type": "code",
   "execution_count": 217,
   "id": "5e1895da",
   "metadata": {},
   "outputs": [
    {
     "data": {
      "text/plain": [
       "Timestamp('2017-10-02 06:37:10')"
      ]
     },
     "execution_count": 217,
     "metadata": {},
     "output_type": "execute_result"
    }
   ],
   "source": [
    "rides[\"Start date\"].iloc[2]"
   ]
  },
  {
   "cell_type": "code",
   "execution_count": 218,
   "id": "c7ecd2b2",
   "metadata": {},
   "outputs": [
    {
     "data": {
      "application/vnd.microsoft.datawrangler.viewer.v0+json": {
       "columns": [
        {
         "name": "index",
         "rawType": "int64",
         "type": "integer"
        },
        {
         "name": "Duration",
         "rawType": "timedelta64[ns]",
         "type": "unknown"
        }
       ],
       "ref": "5df44210-4463-4a3c-9ae0-2c7562a5f284",
       "rows": [
        [
         "0",
         "0 days 00:03:01"
        ],
        [
         "1",
         "0 days 02:07:02"
        ],
        [
         "2",
         "0 days 00:05:43"
        ],
        [
         "3",
         "0 days 00:21:18"
        ],
        [
         "4",
         "0 days 00:21:17"
        ]
       ],
       "shape": {
        "columns": 1,
        "rows": 5
       }
      },
      "text/plain": [
       "0   0 days 00:03:01\n",
       "1   0 days 02:07:02\n",
       "2   0 days 00:05:43\n",
       "3   0 days 00:21:18\n",
       "4   0 days 00:21:17\n",
       "Name: Duration, dtype: timedelta64[ns]"
      ]
     },
     "execution_count": 218,
     "metadata": {},
     "output_type": "execute_result"
    }
   ],
   "source": [
    "# Timezone-aware arithmetic\n",
    "# Create a duration column\n",
    "\n",
    "rides[\"Duration\"] = rides[\"End date\"] - rides[\"Start date\"]\n",
    "rides[\"Duration\"].head()"
   ]
  },
  {
   "cell_type": "code",
   "execution_count": 219,
   "id": "c378f3b1",
   "metadata": {},
   "outputs": [
    {
     "data": {
      "application/vnd.microsoft.datawrangler.viewer.v0+json": {
       "columns": [
        {
         "name": "index",
         "rawType": "int64",
         "type": "integer"
        },
        {
         "name": "Duration",
         "rawType": "float64",
         "type": "float"
        }
       ],
       "ref": "d4af4f2d-0021-4278-9ab8-4722be697f20",
       "rows": [
        [
         "0",
         "181.0"
        ],
        [
         "1",
         "7622.0"
        ],
        [
         "2",
         "343.0"
        ],
        [
         "3",
         "1278.0"
        ],
        [
         "4",
         "1277.0"
        ]
       ],
       "shape": {
        "columns": 1,
        "rows": 5
       }
      },
      "text/plain": [
       "0     181.0\n",
       "1    7622.0\n",
       "2     343.0\n",
       "3    1278.0\n",
       "4    1277.0\n",
       "Name: Duration, dtype: float64"
      ]
     },
     "execution_count": 219,
     "metadata": {},
     "output_type": "execute_result"
    }
   ],
   "source": [
    "rides[\"Duration\"].dt.total_seconds().head()"
   ]
  },
  {
   "cell_type": "markdown",
   "id": "02397cb1",
   "metadata": {},
   "source": [
    "## Summarizing Time Durations (`timedelta` columns)\n",
    "\n",
    "Once you have a `timedelta` column (typically created by subtracting two `datetime` columns), pandas allows you to apply standard aggregation methods directly. This provides a quick way to understand the overall characteristics of the time durations in your dataset.\n",
    "\n",
    "```python\n",
    "import pandas as pd\n",
    "import numpy as np\n",
    "\n",
    "# Create a generic, reproducible dataset\n",
    "np.random.seed(42)\n",
    "start_times = pd.to_datetime(pd.date_range(start='2025-01-01', periods=100, freq='D'))\n",
    "durations_in_seconds = np.random.randint(60, 3600, 100)\n",
    "df = pd.DataFrame({\n",
    "    'start_time': start_times,\n",
    "    'duration': pd.to_timedelta(durations_in_seconds, unit='s'),\n",
    "    'category': np.random.choice(['A', 'B', 'C'], 100)\n",
    "})\n",
    "\n",
    "# Calculate the average duration\n",
    "avg_duration = df['duration'].mean()\n",
    "print(f\"Average Duration: {avg_duration}\")\n",
    "\n",
    "# Calculate the total duration\n",
    "total_duration = df['duration'].sum()\n",
    "print(f\"Total Duration: {total_duration}\")\n",
    "```\n",
    "\n",
    "These methods return `Timedelta` objects, which are human-readable but can be less convenient for further calculations. You can also perform proportional analysis, such as finding what percentage of a total time period the summed duration represents.\n",
    "\n",
    "```python\n",
    "# Calculate what percentage of the total time span is covered by the durations\n",
    "total_time_span = df['start_time'].max() - df['start_time'].min()\n",
    "proportion = df['duration'].sum() / total_time_span\n",
    "print(f\"\\nProportion of time span covered: {proportion:.2%}\")\n",
    "```\n",
    "\n",
    "### Grouping with `.groupby()`\n",
    "\n",
    "A more powerful form of summary involves calculating statistics for one column, grouped by the values in another. The `.groupby()` method is the standard pandas tool for this \"split-apply-combine\" pattern. It is essential for comparing metrics across different categories.\n",
    "\n",
    "  * **Why**: To understand how a numerical measure (like duration) differs between various categorical groups (like member type, station name, etc.).\n",
    "  * **How**: Specify the categorical column to group by, then select the numerical column to aggregate, and finally apply the aggregation function (`.mean()`, `.sum()`, `.size()`, `.first()`, etc.).\n",
    "\n",
    "\n",
    "```python\n",
    "# To perform numerical aggregations, first convert the duration to a number (e.g., seconds)\n",
    "df['duration_seconds'] = df['duration'].dt.total_seconds()\n",
    "\n",
    "# Calculate the average duration in seconds for each category\n",
    "avg_duration_by_category = df.groupby('category')['duration_seconds'].mean()\n",
    "print(avg_duration_by_category)\n",
    "\n",
    "# You can also get the number of observations in each group with .size()\n",
    "print(df.groupby('category').size())\n",
    "\n",
    "# Or get the first observation for each group\n",
    "print(df.groupby('category').first())\n",
    "```\n",
    "### Time-Based Grouping with `.resample()`\n",
    "\n",
    "For time-series data, pandas provides a highly specialized and powerful grouping method: `.resample()`. It is conceptually similar to `groupby`, but it groups the data into specific time intervals (e.g., days, weeks, months, quarters).\n",
    "\n",
    "  * **Why**: To aggregate data over consistent time periods, which is fundamental for trend analysis and time-series visualization.\n",
    "  * **How**: Call `.resample()` on the DataFrame, specifying the **frequency string** and the `datetime` column to resample **on**. Then, select a column to aggregate and apply an aggregation function.\n",
    "\n",
    "Common frequency strings include:\n",
    "\n",
    "  * `'D'`: Day\n",
    "  * `'W'`: Week\n",
    "  * `'M'`: Month End\n",
    "  * `'MS'`: Month Start\n",
    "  * `'Q'`: Quarter End\n",
    "\n",
    "\n",
    "```python\n",
    "# Resample the data by month ('M') and calculate the mean duration for each month.\n",
    "# The 'on' parameter specifies which datetime column to use for the resampling.\n",
    "mean_duration_by_month = df.resample('M', on='start_time')['duration_seconds'].mean()\n",
    "\n",
    "print(mean_duration_by_month)\n",
    "```\n",
    "\n",
    "A key advantage of `.resample()` is that its output is a time-series-indexed object, which can be plotted directly for quick visualization of trends.\n",
    "\n",
    "```python\n",
    "import matplotlib.pyplot as plt\n",
    "import seaborn as sns\n",
    "\n",
    "# Create a figure and axis using seaborn\n",
    "fig, ax = plt.subplots(figsize=(12, 6))\n",
    "\n",
    "# Resample by week and get the data\n",
    "weekly_data = df.resample('W', on='start_time')['duration_seconds'].mean()\n",
    "\n",
    "# Create the line plot using seaborn\n",
    "sns.lineplot(data=weekly_data, ax=ax)\n",
    "\n",
    "# Customize the plot\n",
    "ax.set_title('Average Weekly Duration Over Time')\n",
    "ax.set_ylabel('Average Duration (seconds)')\n",
    "ax.grid(True, linestyle='--')\n",
    "\n",
    "plt.show()\n",
    "```\n",
    "\n"
   ]
  },
  {
   "cell_type": "markdown",
   "id": "c1dd320f",
   "metadata": {},
   "source": [
    "### How many joyrides?\n",
    "Suppose you have a theory that some people take long bike rides before putting their bike back in the same dock. Let's call these rides \"joyrides\".\n",
    "\n",
    "You only have data on one bike, so while you can't draw any bigger conclusions, it's certainly worth a look.\n",
    "\n",
    "Are there many joyrides? How long were they in our data set? Use the median instead of the mean, because we know there are some very long trips in our data set that might skew the answer, and the median is less sensitive to outliers."
   ]
  },
  {
   "cell_type": "code",
   "execution_count": 220,
   "id": "9abc3cf4",
   "metadata": {},
   "outputs": [
    {
     "name": "stdout",
     "output_type": "stream",
     "text": [
      "6 rides were joyrides.\n",
      "The median duration overall was 660.00 seconds\n",
      "The median duration for joyrides was 2642.50 seconds\n"
     ]
    }
   ],
   "source": [
    "# Create a Pandas Series which is True when Start station and End station are the same, and assign the result to joyrides.\n",
    "joyrides = rides[\"Start station\"] == rides[\"End station\"]\n",
    "\n",
    "# Total number of joyrides\n",
    "print(f\"{joyrides.sum()} rides were joyrides.\")\n",
    "\n",
    "# Median of all rides\n",
    "print(\n",
    "    f\"The median duration overall was {rides[\"Duration\"].median().total_seconds():.2f} seconds\"\n",
    ")\n",
    "\n",
    "# Median of joyrides\n",
    "print(\n",
    "    f\"The median duration for joyrides was {rides[joyrides]['Duration'].median().total_seconds():.2f} seconds\"\n",
    ")"
   ]
  },
  {
   "cell_type": "markdown",
   "id": "e7985ba7",
   "metadata": {},
   "source": [
    "### It's getting cold outside, W20529\n",
    "Washington, D.C. has mild weather overall, but the average high temperature in October (68ºF / 20ºC) is certainly higher than the average high temperature in December (47ºF / 8ºC). People also travel more in December, and they work fewer days so they commute less.\n",
    "\n",
    "How might the weather or the season have affected the length of bike trips?"
   ]
  },
  {
   "cell_type": "code",
   "execution_count": 221,
   "id": "af1ec9fd",
   "metadata": {},
   "outputs": [
    {
     "data": {
      "image/png": "[encoded data removed]",
      "text/plain": [
       "<Figure size 800x500 with 1 Axes>"
      ]
     },
     "metadata": {},
     "output_type": "display_data"
    }
   ],
   "source": [
    "import matplotlib.dates as mdates\n",
    "import matplotlib.pyplot as plt\n",
    "import seaborn as sns\n",
    "\n",
    "# Resample rides to the daily level, based on the Start date column.\n",
    "fig, ax = plt.subplots(figsize=(8, 5))\n",
    "\n",
    "# Plot the daily counts\n",
    "sns.lineplot(data=rides.resample(\"D\", on=\"Start date\").size(), color=\"steelblue\", ax=ax)\n",
    "\n",
    "# Title and axis labels\n",
    "ax.set_title(\"Daily Bike Rides (Oct-Dec 2017)\", fontsize=14, fontweight=\"bold\")\n",
    "ax.set_xlabel(\"Date\", fontsize=12)\n",
    "ax.set_ylabel(\"Number of Rides\", fontsize=12)\n",
    "\n",
    "# Grid styling\n",
    "ax.grid(True, alpha=0.6, linewidth=0.7, color=\"grey\", linestyle=\"--\")\n",
    "\n",
    "locator = mdates.AutoDateLocator()\n",
    "formatter = mdates.ConciseDateFormatter(locator)\n",
    "\n",
    "ax.xaxis.set_major_locator(locator)\n",
    "ax.xaxis.set_major_formatter(formatter)\n",
    "\n",
    "# Adjust layout and render\n",
    "plt.tight_layout()\n",
    "plt.show()"
   ]
  },
  {
   "cell_type": "markdown",
   "id": "2de422d7",
   "metadata": {},
   "source": [
    "Since the daily time series is so noisy for this one bike, change the resampling to be monthly."
   ]
  },
  {
   "cell_type": "code",
   "execution_count": 222,
   "id": "ba2f4df1",
   "metadata": {},
   "outputs": [
    {
     "data": {
      "image/png": "[encoded data removed]",
      "text/plain": [
       "<Figure size 800x500 with 1 Axes>"
      ]
     },
     "metadata": {},
     "output_type": "display_data"
    }
   ],
   "source": [
    "import matplotlib.dates as mdates\n",
    "import matplotlib.pyplot as plt\n",
    "import seaborn as sns\n",
    "\n",
    "# Since the daily time series is so noisy for this one bike, change the resampling to be monthly.\n",
    "fig, ax = plt.subplots(figsize=(8, 5))\n",
    "\n",
    "sns.lineplot(rides.resample(\"ME\", on=\"Start date\").size(), color=\"Steelblue\", ax=ax)\n",
    "\n",
    "ax.set_title(\"Monthly Bike Rides (Oct-Dec 2017)\", fontsize=14, fontweight=\"bold\")\n",
    "ax.set_xlabel(\"Date\", fontsize=12)\n",
    "ax.set_ylabel(\"Number of Rides\", fontsize=12)\n",
    "\n",
    "ax.grid(True, alpha=0.6, linewidth=0.7, color=\"grey\", linestyle=\"--\")\n",
    "\n",
    "locator = mdates.AutoDateLocator()\n",
    "formatter = mdates.ConciseDateFormatter(locator)\n",
    "\n",
    "ax.xaxis.set_major_locator(locator)\n",
    "ax.xaxis.set_major_formatter(formatter)\n",
    "\n",
    "plt.tight_layout()\n",
    "plt.show()"
   ]
  },
  {
   "cell_type": "code",
   "execution_count": 223,
   "id": "c4adc031",
   "metadata": {},
   "outputs": [
    {
     "data": {
      "application/vnd.microsoft.datawrangler.viewer.v0+json": {
       "columns": [
        {
         "name": "('Start date', 'Member type')",
         "rawType": "object",
         "type": "unknown"
        },
        {
         "name": "0",
         "rawType": "float64",
         "type": "float"
        }
       ],
       "ref": "9e72702b-8900-4942-9357-42f1bd5a160d",
       "rows": [
        [
         "(Timestamp('2017-10-31 00:00:00'), 'Member')",
         "0.7685185185185185"
        ],
        [
         "(Timestamp('2017-10-31 00:00:00'), 'Casual')",
         "0.23148148148148148"
        ],
        [
         "(Timestamp('2017-11-30 00:00:00'), 'Member')",
         "0.8252427184466019"
        ],
        [
         "(Timestamp('2017-11-30 00:00:00'), 'Casual')",
         "0.17475728155339806"
        ],
        [
         "(Timestamp('2017-12-31 00:00:00'), 'Member')",
         "0.8607594936708861"
        ],
        [
         "(Timestamp('2017-12-31 00:00:00'), 'Casual')",
         "0.13924050632911392"
        ]
       ],
       "shape": {
        "columns": 1,
        "rows": 6
       }
      },
      "text/plain": [
       "Start date  Member type\n",
       "2017-10-31  Member         0.768519\n",
       "            Casual         0.231481\n",
       "2017-11-30  Member         0.825243\n",
       "            Casual         0.174757\n",
       "2017-12-31  Member         0.860759\n",
       "            Casual         0.139241\n",
       "dtype: float64"
      ]
     },
     "metadata": {},
     "output_type": "display_data"
    }
   ],
   "source": [
    "# Set monthly_rides to be a resampled version of rides, by month, based on start date.\n",
    "monthly_rides = rides.resample(\"ME\", on=\"Start date\")[\"Member type\"]\n",
    "\n",
    "# Take the ratio of the .value_counts() over the total number of rides\n",
    "display(monthly_rides.value_counts() / monthly_rides.size())"
   ]
  },
  {
   "cell_type": "markdown",
   "id": "e4daed82",
   "metadata": {},
   "source": [
    "### Combining groupby() and resample()\n",
    "A very powerful method in Pandas is `.groupby()`. Whereas `.resample()` groups rows by some time or date information, `.groupby()` groups rows based on the values in one or more columns. For example, `rides.groupby('Member type').size()` would tell us how many rides there were by member type in our entire DataFrame.\n",
    "\n",
    "`.resample()` can be called after `.groupby()`. For example, how long was the median ride by month, and by Membership type?"
   ]
  },
  {
   "cell_type": "code",
   "execution_count": 224,
   "id": "b83f4c4b",
   "metadata": {},
   "outputs": [
    {
     "data": {
      "application/vnd.microsoft.datawrangler.viewer.v0+json": {
       "columns": [
        {
         "name": "('Member type', 'Start date')",
         "rawType": "object",
         "type": "unknown"
        },
        {
         "name": "Duration",
         "rawType": "timedelta64[ns]",
         "type": "unknown"
        }
       ],
       "ref": "1b7e6226-05e4-4c19-b0ab-a1895de7366d",
       "rows": [
        [
         "('Casual', Timestamp('2017-10-31 00:00:00'))",
         "0 days 00:27:16"
        ],
        [
         "('Casual', Timestamp('2017-11-30 00:00:00'))",
         "0 days 00:19:19.500000"
        ],
        [
         "('Casual', Timestamp('2017-12-31 00:00:00'))",
         "0 days 00:14:10"
        ],
        [
         "('Member', Timestamp('2017-10-31 00:00:00'))",
         "0 days 00:11:11"
        ],
        [
         "('Member', Timestamp('2017-11-30 00:00:00'))",
         "0 days 00:10:55"
        ],
        [
         "('Member', Timestamp('2017-12-31 00:00:00'))",
         "0 days 00:06:27.500000"
        ]
       ],
       "shape": {
        "columns": 1,
        "rows": 6
       }
      },
      "text/plain": [
       "Member type  Start date\n",
       "Casual       2017-10-31          0 days 00:27:16\n",
       "             2017-11-30   0 days 00:19:19.500000\n",
       "             2017-12-31          0 days 00:14:10\n",
       "Member       2017-10-31          0 days 00:11:11\n",
       "             2017-11-30          0 days 00:10:55\n",
       "             2017-12-31   0 days 00:06:27.500000\n",
       "Name: Duration, dtype: timedelta64[ns]"
      ]
     },
     "metadata": {},
     "output_type": "display_data"
    }
   ],
   "source": [
    "# Group rides by member type, and resample to the month\n",
    "grouped = rides.groupby(\"Member type\").resample(\"ME\", on=\"Start date\")\n",
    "\n",
    "# Print the median duration for each group\n",
    "display(grouped[\"Duration\"].median())"
   ]
  },
  {
   "cell_type": "markdown",
   "id": "290e4cff",
   "metadata": {},
   "source": [
    "## Handling Time Zones in Pandas\n",
    "\n",
    "A `datetime` column in pandas can be either **naive** (with no time zone information) or **aware** (associated with a specific time zone). Performing accurate time-based arithmetic, especially across regions with Daylight Saving Time (DST), requires making your `datetime` data aware.\n",
    "\n",
    "### Localizing Naive Datetimes\n",
    "\n",
    "To assign a time zone to a naive `datetime` column, you use the `.dt.tz_localize()` method. This does not *convert* the time; it *stamps* the existing wall times with a time zone, interpreting them as belonging to that locale.\n",
    "\n",
    "```python\n",
    "import pandas as pd\n",
    "\n",
    "# Create a sample DataFrame with naive datetimes\n",
    "df = pd.DataFrame({\n",
    "    'event_time': pd.to_datetime([\n",
    "        '2025-03-09 01:30:00', # Before DST Spring Forward\n",
    "        '2025-11-02 01:30:00', # During DST Fall Back (ambiguous hour)\n",
    "        '2025-11-02 01:30:00'  # Second instance in ambiguous hour\n",
    "    ])\n",
    "})\n",
    "```\n",
    "\n",
    "Localizing works directly if there are no ambiguities:\n",
    "\n",
    "```python\n",
    "# This works, but will raise an error if ambiguous times exist\n",
    "# df['event_time'].dt.tz_localize('America/New_York')\n",
    "```\n",
    "\n",
    "### Handling Ambiguous and Non-Existent Times\n",
    "\n",
    "DST transitions create tricky situations. The \"fall back\" transition (e.g., when 2:00 AM becomes 1:00 AM again) creates an **ambiguous hour**, where a local time like 1:30 AM occurs twice. If you try to localize data containing such a time, pandas will raise an `AmbiguousTimeError` because it doesn't know whether to assign the pre-transition or post-transition UTC offset.\n",
    "\n",
    "The `ambiguous` argument in `.dt.tz_localize()` provides the solution. A common strategy is to mark these ambiguous times as `NaT` (Not a Time), which allows you to easily find and handle them later.\n",
    "\n",
    "```python\n",
    "# Localize the column, handling ambiguous times by replacing them with NaT\n",
    "df['event_time_aware'] = df['event_time'].dt.tz_localize(\n",
    "    'America/New_York', \n",
    "    ambiguous='NaT'\n",
    ")\n",
    "\n",
    "```\n",
    "\n",
    "### Converting Between Time Zones\n",
    "\n",
    "Once a column is timezone-aware, you can correctly convert it to any other time zone using `.dt.tz_convert()`. This method correctly adjusts the wall time to represent the same instant in the target time zone.\n",
    "\n",
    "```python\n",
    "# Convert the New York time to London time\n",
    "df['event_time_london'] = df['event_time_aware'].dt.tz_convert('Europe/London')\n",
    "print(df)\n",
    "```\n",
    "\n",
    "### Extracting Datetime Components\n",
    "\n",
    "The `.dt` accessor provides a simple, vectorized way to extract individual parts of a `datetime` object from an entire Series.\n",
    "\n",
    "```python\n",
    "# Assume df['event_time_aware'] is our aware datetime column\n",
    "\n",
    "# Extract year\n",
    "print(f\"\\nYear:\\n{df['event_time_aware'].dt.year}\")\n",
    "\n",
    "# Extract weekday name\n",
    "print(f\"\\nWeekday Name:\\n{df['event_time_aware'].dt.day_name()}\")\n",
    "\n",
    "# Extract hour\n",
    "print(f\"\\nHour:\\n{df['event_time_aware'].dt.hour}\")\n",
    "```\n",
    "### Time-Series Specific Operations: `.shift()`\n",
    "\n",
    "The `.shift()` method is invaluable for time-series analysis. It moves the data in a Series or DataFrame forward or backward by a specified number of periods, which is essential for calculating period-over-period differences or creating lagged features.\n",
    "\n",
    "  * **Why**: To compare observations at a given time `t` with observations at time `t-1` (or any other offset).\n",
    "  * **How**: Call `.shift(n)` on a Series, where `n` is the number of periods to shift. A positive `n` shifts data down (forward in time), while a negative `n` shifts it up (backward in time).\n",
    "\n",
    "Let's use `.shift()` to calculate the time between the end of one event and the start of the next.\n",
    "\n",
    "```python\n",
    "# Create a more complete example DataFrame\n",
    "df_rides = pd.DataFrame({\n",
    "    'start_time': pd.to_datetime(['2025-01-01 09:00', '2025-01-01 09:30', '2025-01-01 10:15']),\n",
    "    'end_time': pd.to_datetime(['2025-01-01 09:15', '2025-01-01 09:42', '2025-01-01 10:30'])\n",
    "})\n",
    "\n",
    "# Shift the 'end_time' column down by one period\n",
    "df_rides['previous_end_time'] = df_rides['end_time'].shift(1)\n",
    "\n",
    "# Calculate the time between the start of one ride and the end of the previous one\n",
    "df_rides['downtime'] = df_rides['start_time'] - df_rides['previous_end_time']\n",
    "\n",
    "```\n"
   ]
  },
  {
   "cell_type": "code",
   "execution_count": 225,
   "id": "801d9ad1",
   "metadata": {},
   "outputs": [],
   "source": [
    "# Try to set a timezone \n",
    "# rides[\"Start date\"] = rides[\"Start date\"].dt.tz_localize(\"America/New_York\")"
   ]
  },
  {
   "cell_type": "code",
   "execution_count": 226,
   "id": "34e82ac9",
   "metadata": {},
   "outputs": [
    {
     "data": {
      "text/plain": [
       "np.float64(116.0)"
      ]
     },
     "execution_count": 226,
     "metadata": {},
     "output_type": "execute_result"
    }
   ],
   "source": [
    "# Handle ambiguous datetimes \n",
    "ny_tz = \"America/New_York\"\n",
    "\n",
    "dt_columns = rides.select_dtypes(include=[\"datetime64[ns]\"]).columns\n",
    "\n",
    "for col in dt_columns:\n",
    "    rides[col] = rides[col].dt.tz_localize(ny_tz, ambiguous=\"NaT\")\n",
    "    \n",
    "# Re-calculate duration, ignoring bad row \n",
    "rides[\"Duration\"] = rides[\"End date\"] - rides[\"Start date\"]\n",
    "\n",
    "# Find the minimum again \n",
    "rides[\"Duration\"].dt.total_seconds().min()"
   ]
  },
  {
   "cell_type": "code",
   "execution_count": 227,
   "id": "3f9386d3",
   "metadata": {},
   "outputs": [
    {
     "data": {
      "application/vnd.microsoft.datawrangler.viewer.v0+json": {
       "columns": [
        {
         "name": "index",
         "rawType": "int64",
         "type": "integer"
        },
        {
         "name": "Start date",
         "rawType": "datetime64[ns, America/New_York]",
         "type": "unknown"
        },
        {
         "name": "End date",
         "rawType": "datetime64[ns, America/New_York]",
         "type": "unknown"
        },
        {
         "name": "Start station number",
         "rawType": "int64",
         "type": "integer"
        },
        {
         "name": "Start station",
         "rawType": "object",
         "type": "string"
        },
        {
         "name": "End station number",
         "rawType": "int64",
         "type": "integer"
        },
        {
         "name": "End station",
         "rawType": "object",
         "type": "string"
        },
        {
         "name": "Bike number",
         "rawType": "object",
         "type": "string"
        },
        {
         "name": "Member type",
         "rawType": "object",
         "type": "string"
        },
        {
         "name": "Duration",
         "rawType": "timedelta64[ns]",
         "type": "unknown"
        }
       ],
       "ref": "26f1a87c-f358-4038-838f-89649474cae5",
       "rows": [
        [
         "129",
         null,
         null,
         "31615",
         "6th & H St NE",
         "31627",
         "3rd & M St NE",
         "W20529",
         "Member",
         null
        ]
       ],
       "shape": {
        "columns": 9,
        "rows": 1
       }
      },
      "text/html": [
       "<div>\n",
       "<style scoped>\n",
       "    .dataframe tbody tr th:only-of-type {\n",
       "        vertical-align: middle;\n",
       "    }\n",
       "\n",
       "    .dataframe tbody tr th {\n",
       "        vertical-align: top;\n",
       "    }\n",
       "\n",
       "    .dataframe thead th {\n",
       "        text-align: right;\n",
       "    }\n",
       "</style>\n",
       "<table border=\"1\" class=\"dataframe\">\n",
       "  <thead>\n",
       "    <tr style=\"text-align: right;\">\n",
       "      <th></th>\n",
       "      <th>Start date</th>\n",
       "      <th>End date</th>\n",
       "      <th>Start station number</th>\n",
       "      <th>Start station</th>\n",
       "      <th>End station number</th>\n",
       "      <th>End station</th>\n",
       "      <th>Bike number</th>\n",
       "      <th>Member type</th>\n",
       "      <th>Duration</th>\n",
       "    </tr>\n",
       "  </thead>\n",
       "  <tbody>\n",
       "    <tr>\n",
       "      <th>129</th>\n",
       "      <td>NaT</td>\n",
       "      <td>NaT</td>\n",
       "      <td>31615</td>\n",
       "      <td>6th &amp; H St NE</td>\n",
       "      <td>31627</td>\n",
       "      <td>3rd &amp; M St NE</td>\n",
       "      <td>W20529</td>\n",
       "      <td>Member</td>\n",
       "      <td>NaT</td>\n",
       "    </tr>\n",
       "  </tbody>\n",
       "</table>\n",
       "</div>"
      ],
      "text/plain": [
       "    Start date End date  Start station number  Start station  \\\n",
       "129        NaT      NaT                 31615  6th & H St NE   \n",
       "\n",
       "     End station number    End station Bike number Member type Duration  \n",
       "129               31627  3rd & M St NE      W20529      Member      NaT  "
      ]
     },
     "metadata": {},
     "output_type": "display_data"
    }
   ],
   "source": [
    "# Create a boolean mask. It's True for rows with a NaT in any datetime column.\n",
    "is_nat_mask = rides[dt_columns].isnull().any(axis=1)\n",
    "\n",
    "# Use the mask to select and display the problematic rows\n",
    "ambiguous_rides = rides[is_nat_mask]\n",
    "\n",
    "display(ambiguous_rides)"
   ]
  },
  {
   "cell_type": "markdown",
   "id": "a0ea8487",
   "metadata": {},
   "source": [
    "### How long per weekday?\n",
    "Pandas has a number of datetime-related attributes within the `.dt` accessor. Many of them are ones you've encountered before, like `.dt.month`. Others are convenient and save time compared to standard Python, like `.dt.day_name()`."
   ]
  },
  {
   "cell_type": "code",
   "execution_count": 229,
   "id": "9102f493",
   "metadata": {},
   "outputs": [
    {
     "data": {
      "application/vnd.microsoft.datawrangler.viewer.v0+json": {
       "columns": [
        {
         "name": "Ride start weekday",
         "rawType": "object",
         "type": "string"
        },
        {
         "name": "Duration",
         "rawType": "timedelta64[ns]",
         "type": "unknown"
        }
       ],
       "ref": "2bf78d8e-4306-46b5-8fa3-5134e8c8c3c9",
       "rows": [
        [
         "Friday",
         "0 days 00:12:04.500000"
        ],
        [
         "Monday",
         "0 days 00:13:30.500000"
        ],
        [
         "Saturday",
         "0 days 00:07:42"
        ],
        [
         "Sunday",
         "0 days 00:15:17"
        ],
        [
         "Thursday",
         "0 days 00:10:52"
        ],
        [
         "Tuesday",
         "0 days 00:10:41.500000"
        ],
        [
         "Wednesday",
         "0 days 00:09:45"
        ]
       ],
       "shape": {
        "columns": 1,
        "rows": 7
       }
      },
      "text/plain": [
       "Ride start weekday\n",
       "Friday      0 days 00:12:04.500000\n",
       "Monday      0 days 00:13:30.500000\n",
       "Saturday           0 days 00:07:42\n",
       "Sunday             0 days 00:15:17\n",
       "Thursday           0 days 00:10:52\n",
       "Tuesday     0 days 00:10:41.500000\n",
       "Wednesday          0 days 00:09:45\n",
       "Name: Duration, dtype: timedelta64[ns]"
      ]
     },
     "metadata": {},
     "output_type": "display_data"
    }
   ],
   "source": [
    "# Add a new column to rides called 'Ride start weekday', which is the weekday of the Start date.\n",
    "rides[\"Ride start weekday\"] = rides[\"Start date\"].dt.day_name()\n",
    "\n",
    "# Print the median trip time per weekday \n",
    "display(rides.groupby(\"Ride start weekday\")[\"Duration\"].median())"
   ]
  },
  {
   "cell_type": "code",
   "execution_count": 230,
   "id": "2ed58872",
   "metadata": {},
   "outputs": [
    {
     "name": "stdout",
     "output_type": "stream",
     "text": [
      "Start date\n",
      "2017-10-31 00:00:00-04:00    5.519242\n",
      "2017-11-30 00:00:00-05:00    7.256474\n",
      "2017-12-31 00:00:00-05:00    9.202380\n",
      "Name: Time since, dtype: float64\n"
     ]
    }
   ],
   "source": [
    "# Calculate the difference in the Start date of the current row and the End date of the previous row and assign it to rides['Time since'].\n",
    "rides[\"Time since\"] = rides[\"Start date\"] - (rides[\"End date\"].shift(1))\n",
    "\n",
    "# Convert rides['Time since'] to seconds to make it easier to work with.\n",
    "rides[\"Time since\"] = rides[\"Time since\"].dt.total_seconds()\n",
    "\n",
    "# Resample rides to be in monthly buckets according to the Start date.\n",
    "monthly = rides.resample(\"ME\", on=\"Start date\")\n",
    "\n",
    "# Divide the average by (60*60) to get the number of hours on average that W20529 waited in the dock before being picked up again.\n",
    "print(monthly[\"Time since\"].mean()/(60*60))"
   ]
  }
 ],
 "metadata": {
  "kernelspec": {
   "display_name": "datacamp",
   "language": "python",
   "name": "python3"
  },
  "language_info": {
   "codemirror_mode": {
    "name": "ipython",
    "version": 3
   },
   "file_extension": ".py",
   "mimetype": "text/x-python",
   "name": "python",
   "nbconvert_exporter": "python",
   "pygments_lexer": "ipython3",
   "version": "3.12.7"
  }
 },
 "nbformat": 4,
 "nbformat_minor": 5
}
