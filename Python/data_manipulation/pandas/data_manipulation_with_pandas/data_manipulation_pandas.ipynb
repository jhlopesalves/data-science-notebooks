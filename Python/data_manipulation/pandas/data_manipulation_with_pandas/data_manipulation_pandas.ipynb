{
  "cells": [
    {
      "cell_type": "markdown",
      "metadata": {
        "colab_type": "text",
        "id": "view-in-github"
      },
      "source": [
        "<a href=\"https://colab.research.google.com/github/jhlopesalves/Datacamp-Notebooks/blob/main/Python/Data%20Manipulation%20with%20pandas/data_manipulation_pandas.ipynb\" target=\"_parent\"><img src=\"https://colab.research.google.com/assets/colab-badge.svg\" alt=\"Open In Colab\"/></a>"
      ]
    },
    {
      "cell_type": "markdown",
      "id": "582f44d4",
      "metadata": {
        "id": "582f44d4"
      },
      "source": [
        "# Introduction to Data Manipulation with Pandas\n",
        "\n",
        "**Pandas** (Python Data Analysis Library) is one of the most powerful and popular libraries for data manipulation and analysis in Python. Built on top of NumPy, pandas provides high-performance, easy-to-use data structures and data analysis tools that make working with structured data both intuitive and efficient.\n",
        "\n",
        "## Why Pandas is Essential\n",
        "\n",
        "Pandas has become the **backbone of data science** in Python for several compelling reasons:\n",
        "\n",
        "### **Powerful Data Structures**\n",
        "- **DataFrame**: 2-dimensional labeled data structure (think Excel spreadsheet with superpowers)\n",
        "- **Series**: 1-dimensional labeled array (a single column of data)\n",
        "\n",
        "### **Versatile Data Handling**\n",
        "- Read from multiple file formats (CSV, Excel, JSON, SQL databases, and more)\n",
        "- Handle missing data gracefully\n",
        "- Perform complex data transformations with simple, readable code\n",
        "- Group, aggregate, and pivot data effortlessly\n",
        "\n",
        "## The Foundation of Data Science\n",
        "\n",
        "Pandas serves as the **bridge between raw data and insights**. Whether you're cleaning messy datasets, performing exploratory data analysis, or preparing data for machine learning models, pandas provides the tools you need to transform data into actionable intelligence.\n",
        "\n",
        "## Official Documentation\n",
        "\n",
        "**[https://pandas.pydata.org/docs/](https://pandas.pydata.org/docs/)**"
      ]
    },
    {
      "cell_type": "code",
      "execution_count": 1,
      "id": "e5ebd905",
      "metadata": {
        "id": "e5ebd905"
      },
      "outputs": [],
      "source": [
        "import numpy as np\n",
        "import matplotlib.pyplot as plt\n",
        "import pandas as pd\n",
        "import seaborn as sns\n",
        "import os"
      ]
    },
    {
      "cell_type": "code",
      "execution_count": 2,
      "id": "f2587e22",
      "metadata": {
        "colab": {
          "base_uri": "https://localhost:8080/"
        },
        "id": "f2587e22",
        "outputId": "6e6de74e-4b7e-4074-eb43-149c01d74238"
      },
      "outputs": [
        {
          "name": "stderr",
          "output_type": "stream",
          "text": [
            "'wget' is not recognized as an internal or external command,\n",
            "operable program or batch file.\n",
            "'wget' is not recognized as an internal or external command,\n",
            "operable program or batch file.\n",
            "'wget' is not recognized as an internal or external command,\n",
            "operable program or batch file.\n"
          ]
        },
        {
          "name": "stdout",
          "output_type": "stream",
          "text": [
            "Files downloaded succesfully\n"
          ]
        },
        {
          "name": "stderr",
          "output_type": "stream",
          "text": [
            "'wget' is not recognized as an internal or external command,\n",
            "operable program or batch file.\n"
          ]
        }
      ],
      "source": [
        "if not os.path.exists('data'):\n",
        "    os.makedirs('data')\n",
        "\n",
        "!wget -q https://raw.githubusercontent.com/jhlopesalves/Datacamp-Notebooks/refs/heads/main/Python/Data%20Manipulation%20with%20pandas/data/homelessness.csv -O data/homelessness.csv\n",
        "!wget -q https://raw.githubusercontent.com/jhlopesalves/Datacamp-Notebooks/refs/heads/main/Python/Data%20Manipulation%20with%20pandas/data/sales_subset.csv -O data/sales_subset.csv\n",
        "!wget -q https://raw.githubusercontent.com/jhlopesalves/Datacamp-Notebooks/refs/heads/main/Python/Data%20Manipulation%20with%20pandas/data/temperatures.csv -O data/temperatures.csv\n",
        "!wget -q https://raw.githubusercontent.com/jhlopesalves/Datacamp-Notebooks/blob/main/Python/Data%20Manipulation%20with%20pandas/data/avoplotto.pkl -O data/avoplotto.pkl\n",
        "\n",
        "print(\"Files downloaded succesfully\")"
      ]
    },
    {
      "cell_type": "markdown",
      "id": "ZycsIucOGFiS",
      "metadata": {
        "id": "ZycsIucOGFiS"
      },
      "source": [
        "## Inspecting a DataFrame\n",
        "When you get a new DataFrame to work with, the first thing you need to do is explore it and see what it contains. There are several useful methods and attributes for this.\n",
        "\n",
        "`.head()` returns the first few rows (the “head” of the DataFrame).\n",
        "`.info()` shows information on each of the columns, such as the data type and number of missing values.\n",
        "`.shape` returns the number of rows and columns of the DataFrame.\n",
        "`.describe()` calculates a few summary statistics for each column.\n",
        "homelessness is a DataFrame containing estimates of homelessness in each U.S. state in 2018. The individual column is the number of homeless individuals not part of a family with children. The family_members column is the number of homeless individuals part of a family with children. The state_pop column is the state's total population."
      ]
    },
    {
      "cell_type": "code",
      "execution_count": 3,
      "id": "1e91be9c",
      "metadata": {
        "id": "1e91be9c"
      },
      "outputs": [],
      "source": [
        "homelessness = pd.read_csv(\"data/homelessness.csv\")"
      ]
    },
    {
      "cell_type": "code",
      "execution_count": 4,
      "id": "-n_7k0u0GWlY",
      "metadata": {
        "colab": {
          "base_uri": "https://localhost:8080/",
          "height": 206
        },
        "id": "-n_7k0u0GWlY",
        "outputId": "df77b947-96d7-4730-f8e1-bc606c1e1ef6"
      },
      "outputs": [
        {
          "data": {
            "application/vnd.microsoft.datawrangler.viewer.v0+json": {
              "columns": [
                {
                  "name": "index",
                  "rawType": "int64",
                  "type": "integer"
                },
                {
                  "name": "Unnamed: 0",
                  "rawType": "int64",
                  "type": "integer"
                },
                {
                  "name": "region",
                  "rawType": "object",
                  "type": "string"
                },
                {
                  "name": "state",
                  "rawType": "object",
                  "type": "string"
                },
                {
                  "name": "individuals",
                  "rawType": "float64",
                  "type": "float"
                },
                {
                  "name": "family_members",
                  "rawType": "float64",
                  "type": "float"
                },
                {
                  "name": "state_pop",
                  "rawType": "int64",
                  "type": "integer"
                }
              ],
              "ref": "5893c90a-b1b5-4788-93a4-4bcde8457dac",
              "rows": [
                [
                  "0",
                  "0",
                  "East South Central",
                  "Alabama",
                  "2570.0",
                  "864.0",
                  "4887681"
                ],
                [
                  "1",
                  "1",
                  "Pacific",
                  "Alaska",
                  "1434.0",
                  "582.0",
                  "735139"
                ],
                [
                  "2",
                  "2",
                  "Mountain",
                  "Arizona",
                  "7259.0",
                  "2606.0",
                  "7158024"
                ],
                [
                  "3",
                  "3",
                  "West South Central",
                  "Arkansas",
                  "2280.0",
                  "432.0",
                  "3009733"
                ],
                [
                  "4",
                  "4",
                  "Pacific",
                  "California",
                  "109008.0",
                  "20964.0",
                  "39461588"
                ]
              ],
              "shape": {
                "columns": 6,
                "rows": 5
              }
            },
            "text/html": [
              "<div>\n",
              "<style scoped>\n",
              "    .dataframe tbody tr th:only-of-type {\n",
              "        vertical-align: middle;\n",
              "    }\n",
              "\n",
              "    .dataframe tbody tr th {\n",
              "        vertical-align: top;\n",
              "    }\n",
              "\n",
              "    .dataframe thead th {\n",
              "        text-align: right;\n",
              "    }\n",
              "</style>\n",
              "<table border=\"1\" class=\"dataframe\">\n",
              "  <thead>\n",
              "    <tr style=\"text-align: right;\">\n",
              "      <th></th>\n",
              "      <th>Unnamed: 0</th>\n",
              "      <th>region</th>\n",
              "      <th>state</th>\n",
              "      <th>individuals</th>\n",
              "      <th>family_members</th>\n",
              "      <th>state_pop</th>\n",
              "    </tr>\n",
              "  </thead>\n",
              "  <tbody>\n",
              "    <tr>\n",
              "      <th>0</th>\n",
              "      <td>0</td>\n",
              "      <td>East South Central</td>\n",
              "      <td>Alabama</td>\n",
              "      <td>2570.0</td>\n",
              "      <td>864.0</td>\n",
              "      <td>4887681</td>\n",
              "    </tr>\n",
              "    <tr>\n",
              "      <th>1</th>\n",
              "      <td>1</td>\n",
              "      <td>Pacific</td>\n",
              "      <td>Alaska</td>\n",
              "      <td>1434.0</td>\n",
              "      <td>582.0</td>\n",
              "      <td>735139</td>\n",
              "    </tr>\n",
              "    <tr>\n",
              "      <th>2</th>\n",
              "      <td>2</td>\n",
              "      <td>Mountain</td>\n",
              "      <td>Arizona</td>\n",
              "      <td>7259.0</td>\n",
              "      <td>2606.0</td>\n",
              "      <td>7158024</td>\n",
              "    </tr>\n",
              "    <tr>\n",
              "      <th>3</th>\n",
              "      <td>3</td>\n",
              "      <td>West South Central</td>\n",
              "      <td>Arkansas</td>\n",
              "      <td>2280.0</td>\n",
              "      <td>432.0</td>\n",
              "      <td>3009733</td>\n",
              "    </tr>\n",
              "    <tr>\n",
              "      <th>4</th>\n",
              "      <td>4</td>\n",
              "      <td>Pacific</td>\n",
              "      <td>California</td>\n",
              "      <td>109008.0</td>\n",
              "      <td>20964.0</td>\n",
              "      <td>39461588</td>\n",
              "    </tr>\n",
              "  </tbody>\n",
              "</table>\n",
              "</div>"
            ],
            "text/plain": [
              "   Unnamed: 0              region       state  individuals  family_members  \\\n",
              "0           0  East South Central     Alabama       2570.0           864.0   \n",
              "1           1             Pacific      Alaska       1434.0           582.0   \n",
              "2           2            Mountain     Arizona       7259.0          2606.0   \n",
              "3           3  West South Central    Arkansas       2280.0           432.0   \n",
              "4           4             Pacific  California     109008.0         20964.0   \n",
              "\n",
              "   state_pop  \n",
              "0    4887681  \n",
              "1     735139  \n",
              "2    7158024  \n",
              "3    3009733  \n",
              "4   39461588  "
            ]
          },
          "execution_count": 4,
          "metadata": {},
          "output_type": "execute_result"
        }
      ],
      "source": [
        "# Print the head of the homelessness DataFrame\n",
        "homelessness.head()"
      ]
    },
    {
      "cell_type": "code",
      "execution_count": 5,
      "id": "FxM6IC6cGdY2",
      "metadata": {
        "colab": {
          "base_uri": "https://localhost:8080/"
        },
        "id": "FxM6IC6cGdY2",
        "outputId": "a849d0cd-f784-4b89-fe6e-ab5c271b7f7f"
      },
      "outputs": [
        {
          "name": "stdout",
          "output_type": "stream",
          "text": [
            "<class 'pandas.core.frame.DataFrame'>\n",
            "RangeIndex: 51 entries, 0 to 50\n",
            "Data columns (total 6 columns):\n",
            " #   Column          Non-Null Count  Dtype  \n",
            "---  ------          --------------  -----  \n",
            " 0   Unnamed: 0      51 non-null     int64  \n",
            " 1   region          51 non-null     object \n",
            " 2   state           51 non-null     object \n",
            " 3   individuals     51 non-null     float64\n",
            " 4   family_members  51 non-null     float64\n",
            " 5   state_pop       51 non-null     int64  \n",
            "dtypes: float64(2), int64(2), object(2)\n",
            "memory usage: 2.5+ KB\n"
          ]
        }
      ],
      "source": [
        "# Print information about the column types and missing values in homelessness\n",
        "homelessness.info()"
      ]
    },
    {
      "cell_type": "code",
      "execution_count": 6,
      "id": "q3b8FKxaGp3i",
      "metadata": {
        "colab": {
          "base_uri": "https://localhost:8080/"
        },
        "id": "q3b8FKxaGp3i",
        "outputId": "17a69b25-d0d0-4141-c264-eaa2411fda32"
      },
      "outputs": [
        {
          "data": {
            "text/plain": [
              "(51, 6)"
            ]
          },
          "execution_count": 6,
          "metadata": {},
          "output_type": "execute_result"
        }
      ],
      "source": [
        "# Print the shape of homelessness\n",
        "homelessness.shape"
      ]
    },
    {
      "cell_type": "code",
      "execution_count": 7,
      "id": "9H0-C719GwVm",
      "metadata": {
        "colab": {
          "base_uri": "https://localhost:8080/",
          "height": 300
        },
        "id": "9H0-C719GwVm",
        "outputId": "8e8d5ac6-c745-4d6d-811d-e89164e3edaa"
      },
      "outputs": [
        {
          "data": {
            "application/vnd.microsoft.datawrangler.viewer.v0+json": {
              "columns": [
                {
                  "name": "index",
                  "rawType": "object",
                  "type": "string"
                },
                {
                  "name": "Unnamed: 0",
                  "rawType": "float64",
                  "type": "float"
                },
                {
                  "name": "individuals",
                  "rawType": "float64",
                  "type": "float"
                },
                {
                  "name": "family_members",
                  "rawType": "float64",
                  "type": "float"
                },
                {
                  "name": "state_pop",
                  "rawType": "float64",
                  "type": "float"
                }
              ],
              "ref": "d4512337-fdff-4baf-b52e-3e4037a92851",
              "rows": [
                [
                  "count",
                  "51.0",
                  "51.0",
                  "51.0",
                  "51.0"
                ],
                [
                  "mean",
                  "25.0",
                  "7225.78431372549",
                  "3504.8823529411766",
                  "6405637.274509804"
                ],
                [
                  "std",
                  "14.866068747318506",
                  "15991.025083231812",
                  "7805.411811421762",
                  "7327257.808678786"
                ],
                [
                  "min",
                  "0.0",
                  "434.0",
                  "75.0",
                  "577601.0"
                ],
                [
                  "25%",
                  "12.5",
                  "1446.5",
                  "592.0",
                  "1777413.5"
                ],
                [
                  "50%",
                  "25.0",
                  "3082.0",
                  "1482.0",
                  "4461153.0"
                ],
                [
                  "75%",
                  "37.5",
                  "6781.5",
                  "3196.0",
                  "7340946.5"
                ],
                [
                  "max",
                  "50.0",
                  "109008.0",
                  "52070.0",
                  "39461588.0"
                ]
              ],
              "shape": {
                "columns": 4,
                "rows": 8
              }
            },
            "text/html": [
              "<div>\n",
              "<style scoped>\n",
              "    .dataframe tbody tr th:only-of-type {\n",
              "        vertical-align: middle;\n",
              "    }\n",
              "\n",
              "    .dataframe tbody tr th {\n",
              "        vertical-align: top;\n",
              "    }\n",
              "\n",
              "    .dataframe thead th {\n",
              "        text-align: right;\n",
              "    }\n",
              "</style>\n",
              "<table border=\"1\" class=\"dataframe\">\n",
              "  <thead>\n",
              "    <tr style=\"text-align: right;\">\n",
              "      <th></th>\n",
              "      <th>Unnamed: 0</th>\n",
              "      <th>individuals</th>\n",
              "      <th>family_members</th>\n",
              "      <th>state_pop</th>\n",
              "    </tr>\n",
              "  </thead>\n",
              "  <tbody>\n",
              "    <tr>\n",
              "      <th>count</th>\n",
              "      <td>51.000000</td>\n",
              "      <td>51.000000</td>\n",
              "      <td>51.000000</td>\n",
              "      <td>5.100000e+01</td>\n",
              "    </tr>\n",
              "    <tr>\n",
              "      <th>mean</th>\n",
              "      <td>25.000000</td>\n",
              "      <td>7225.784314</td>\n",
              "      <td>3504.882353</td>\n",
              "      <td>6.405637e+06</td>\n",
              "    </tr>\n",
              "    <tr>\n",
              "      <th>std</th>\n",
              "      <td>14.866069</td>\n",
              "      <td>15991.025083</td>\n",
              "      <td>7805.411811</td>\n",
              "      <td>7.327258e+06</td>\n",
              "    </tr>\n",
              "    <tr>\n",
              "      <th>min</th>\n",
              "      <td>0.000000</td>\n",
              "      <td>434.000000</td>\n",
              "      <td>75.000000</td>\n",
              "      <td>5.776010e+05</td>\n",
              "    </tr>\n",
              "    <tr>\n",
              "      <th>25%</th>\n",
              "      <td>12.500000</td>\n",
              "      <td>1446.500000</td>\n",
              "      <td>592.000000</td>\n",
              "      <td>1.777414e+06</td>\n",
              "    </tr>\n",
              "    <tr>\n",
              "      <th>50%</th>\n",
              "      <td>25.000000</td>\n",
              "      <td>3082.000000</td>\n",
              "      <td>1482.000000</td>\n",
              "      <td>4.461153e+06</td>\n",
              "    </tr>\n",
              "    <tr>\n",
              "      <th>75%</th>\n",
              "      <td>37.500000</td>\n",
              "      <td>6781.500000</td>\n",
              "      <td>3196.000000</td>\n",
              "      <td>7.340946e+06</td>\n",
              "    </tr>\n",
              "    <tr>\n",
              "      <th>max</th>\n",
              "      <td>50.000000</td>\n",
              "      <td>109008.000000</td>\n",
              "      <td>52070.000000</td>\n",
              "      <td>3.946159e+07</td>\n",
              "    </tr>\n",
              "  </tbody>\n",
              "</table>\n",
              "</div>"
            ],
            "text/plain": [
              "       Unnamed: 0    individuals  family_members     state_pop\n",
              "count   51.000000      51.000000       51.000000  5.100000e+01\n",
              "mean    25.000000    7225.784314     3504.882353  6.405637e+06\n",
              "std     14.866069   15991.025083     7805.411811  7.327258e+06\n",
              "min      0.000000     434.000000       75.000000  5.776010e+05\n",
              "25%     12.500000    1446.500000      592.000000  1.777414e+06\n",
              "50%     25.000000    3082.000000     1482.000000  4.461153e+06\n",
              "75%     37.500000    6781.500000     3196.000000  7.340946e+06\n",
              "max     50.000000  109008.000000    52070.000000  3.946159e+07"
            ]
          },
          "execution_count": 7,
          "metadata": {},
          "output_type": "execute_result"
        }
      ],
      "source": [
        "# Print some summary statistics that describe the homelessness DataFrame\n",
        "homelessness.describe()"
      ]
    },
    {
      "cell_type": "markdown",
      "id": "w3ABxY1cHKIG",
      "metadata": {
        "id": "w3ABxY1cHKIG"
      },
      "source": [
        "### Parts of a DataFrame\n",
        "To better understand DataFrame objects, it's useful to know that they consist of three components, stored as attributes:\n",
        "\n",
        "`.values`: A two-dimensional NumPy array of values.\n",
        "`.columns`: An index of columns: the column names.\n",
        "`.index`: An index for the rows: either row numbers or row names.\n",
        "You can usually think of indexes as a list of strings or numbers, though the pandas Index data type allows for more sophisticated options. (These will be covered later in the course.)"
      ]
    },
    {
      "cell_type": "code",
      "execution_count": 8,
      "id": "FGyaiXuoG8X6",
      "metadata": {
        "colab": {
          "base_uri": "https://localhost:8080/",
          "height": 920
        },
        "id": "FGyaiXuoG8X6",
        "outputId": "4dfa2246-d8c0-461a-8318-419bf53447fb"
      },
      "outputs": [
        {
          "data": {
            "application/vnd.microsoft.datawrangler.viewer.v0+json": {
              "columns": [
                {
                  "name": "index",
                  "rawType": "int64",
                  "type": "integer"
                },
                {
                  "name": "0",
                  "rawType": "object",
                  "type": "unknown"
                },
                {
                  "name": "1",
                  "rawType": "object",
                  "type": "string"
                },
                {
                  "name": "2",
                  "rawType": "object",
                  "type": "string"
                },
                {
                  "name": "3",
                  "rawType": "object",
                  "type": "unknown"
                },
                {
                  "name": "4",
                  "rawType": "object",
                  "type": "unknown"
                },
                {
                  "name": "5",
                  "rawType": "object",
                  "type": "unknown"
                }
              ],
              "ref": "fd46830f-6e1e-4d53-b60f-7180cd56d91d",
              "rows": [
                [
                  "0",
                  "0",
                  "East South Central",
                  "Alabama",
                  "2570.0",
                  "864.0",
                  "4887681"
                ],
                [
                  "1",
                  "1",
                  "Pacific",
                  "Alaska",
                  "1434.0",
                  "582.0",
                  "735139"
                ],
                [
                  "2",
                  "2",
                  "Mountain",
                  "Arizona",
                  "7259.0",
                  "2606.0",
                  "7158024"
                ],
                [
                  "3",
                  "3",
                  "West South Central",
                  "Arkansas",
                  "2280.0",
                  "432.0",
                  "3009733"
                ],
                [
                  "4",
                  "4",
                  "Pacific",
                  "California",
                  "109008.0",
                  "20964.0",
                  "39461588"
                ],
                [
                  "5",
                  "5",
                  "Mountain",
                  "Colorado",
                  "7607.0",
                  "3250.0",
                  "5691287"
                ],
                [
                  "6",
                  "6",
                  "New England",
                  "Connecticut",
                  "2280.0",
                  "1696.0",
                  "3571520"
                ],
                [
                  "7",
                  "7",
                  "South Atlantic",
                  "Delaware",
                  "708.0",
                  "374.0",
                  "965479"
                ],
                [
                  "8",
                  "8",
                  "South Atlantic",
                  "District of Columbia",
                  "3770.0",
                  "3134.0",
                  "701547"
                ],
                [
                  "9",
                  "9",
                  "South Atlantic",
                  "Florida",
                  "21443.0",
                  "9587.0",
                  "21244317"
                ],
                [
                  "10",
                  "10",
                  "South Atlantic",
                  "Georgia",
                  "6943.0",
                  "2556.0",
                  "10511131"
                ],
                [
                  "11",
                  "11",
                  "Pacific",
                  "Hawaii",
                  "4131.0",
                  "2399.0",
                  "1420593"
                ],
                [
                  "12",
                  "12",
                  "Mountain",
                  "Idaho",
                  "1297.0",
                  "715.0",
                  "1750536"
                ],
                [
                  "13",
                  "13",
                  "East North Central",
                  "Illinois",
                  "6752.0",
                  "3891.0",
                  "12723071"
                ],
                [
                  "14",
                  "14",
                  "East North Central",
                  "Indiana",
                  "3776.0",
                  "1482.0",
                  "6695497"
                ],
                [
                  "15",
                  "15",
                  "West North Central",
                  "Iowa",
                  "1711.0",
                  "1038.0",
                  "3148618"
                ],
                [
                  "16",
                  "16",
                  "West North Central",
                  "Kansas",
                  "1443.0",
                  "773.0",
                  "2911359"
                ],
                [
                  "17",
                  "17",
                  "East South Central",
                  "Kentucky",
                  "2735.0",
                  "953.0",
                  "4461153"
                ],
                [
                  "18",
                  "18",
                  "West South Central",
                  "Louisiana",
                  "2540.0",
                  "519.0",
                  "4659690"
                ],
                [
                  "19",
                  "19",
                  "New England",
                  "Maine",
                  "1450.0",
                  "1066.0",
                  "1339057"
                ],
                [
                  "20",
                  "20",
                  "South Atlantic",
                  "Maryland",
                  "4914.0",
                  "2230.0",
                  "6035802"
                ],
                [
                  "21",
                  "21",
                  "New England",
                  "Massachusetts",
                  "6811.0",
                  "13257.0",
                  "6882635"
                ],
                [
                  "22",
                  "22",
                  "East North Central",
                  "Michigan",
                  "5209.0",
                  "3142.0",
                  "9984072"
                ],
                [
                  "23",
                  "23",
                  "West North Central",
                  "Minnesota",
                  "3993.0",
                  "3250.0",
                  "5606249"
                ],
                [
                  "24",
                  "24",
                  "East South Central",
                  "Mississippi",
                  "1024.0",
                  "328.0",
                  "2981020"
                ],
                [
                  "25",
                  "25",
                  "West North Central",
                  "Missouri",
                  "3776.0",
                  "2107.0",
                  "6121623"
                ],
                [
                  "26",
                  "26",
                  "Mountain",
                  "Montana",
                  "983.0",
                  "422.0",
                  "1060665"
                ],
                [
                  "27",
                  "27",
                  "West North Central",
                  "Nebraska",
                  "1745.0",
                  "676.0",
                  "1925614"
                ],
                [
                  "28",
                  "28",
                  "Mountain",
                  "Nevada",
                  "7058.0",
                  "486.0",
                  "3027341"
                ],
                [
                  "29",
                  "29",
                  "New England",
                  "New Hampshire",
                  "835.0",
                  "615.0",
                  "1353465"
                ],
                [
                  "30",
                  "30",
                  "Mid-Atlantic",
                  "New Jersey",
                  "6048.0",
                  "3350.0",
                  "8886025"
                ],
                [
                  "31",
                  "31",
                  "Mountain",
                  "New Mexico",
                  "1949.0",
                  "602.0",
                  "2092741"
                ],
                [
                  "32",
                  "32",
                  "Mid-Atlantic",
                  "New York",
                  "39827.0",
                  "52070.0",
                  "19530351"
                ],
                [
                  "33",
                  "33",
                  "South Atlantic",
                  "North Carolina",
                  "6451.0",
                  "2817.0",
                  "10381615"
                ],
                [
                  "34",
                  "34",
                  "West North Central",
                  "North Dakota",
                  "467.0",
                  "75.0",
                  "758080"
                ],
                [
                  "35",
                  "35",
                  "East North Central",
                  "Ohio",
                  "6929.0",
                  "3320.0",
                  "11676341"
                ],
                [
                  "36",
                  "36",
                  "West South Central",
                  "Oklahoma",
                  "2823.0",
                  "1048.0",
                  "3940235"
                ],
                [
                  "37",
                  "37",
                  "Pacific",
                  "Oregon",
                  "11139.0",
                  "3337.0",
                  "4181886"
                ],
                [
                  "38",
                  "38",
                  "Mid-Atlantic",
                  "Pennsylvania",
                  "8163.0",
                  "5349.0",
                  "12800922"
                ],
                [
                  "39",
                  "39",
                  "New England",
                  "Rhode Island",
                  "747.0",
                  "354.0",
                  "1058287"
                ],
                [
                  "40",
                  "40",
                  "South Atlantic",
                  "South Carolina",
                  "3082.0",
                  "851.0",
                  "5084156"
                ],
                [
                  "41",
                  "41",
                  "West North Central",
                  "South Dakota",
                  "836.0",
                  "323.0",
                  "878698"
                ],
                [
                  "42",
                  "42",
                  "East South Central",
                  "Tennessee",
                  "6139.0",
                  "1744.0",
                  "6771631"
                ],
                [
                  "43",
                  "43",
                  "West South Central",
                  "Texas",
                  "19199.0",
                  "6111.0",
                  "28628666"
                ],
                [
                  "44",
                  "44",
                  "Mountain",
                  "Utah",
                  "1904.0",
                  "972.0",
                  "3153550"
                ],
                [
                  "45",
                  "45",
                  "New England",
                  "Vermont",
                  "780.0",
                  "511.0",
                  "624358"
                ],
                [
                  "46",
                  "46",
                  "South Atlantic",
                  "Virginia",
                  "3928.0",
                  "2047.0",
                  "8501286"
                ],
                [
                  "47",
                  "47",
                  "Pacific",
                  "Washington",
                  "16424.0",
                  "5880.0",
                  "7523869"
                ],
                [
                  "48",
                  "48",
                  "South Atlantic",
                  "West Virginia",
                  "1021.0",
                  "222.0",
                  "1804291"
                ],
                [
                  "49",
                  "49",
                  "East North Central",
                  "Wisconsin",
                  "2740.0",
                  "2167.0",
                  "5807406"
                ]
              ],
              "shape": {
                "columns": 6,
                "rows": 51
              }
            },
            "text/plain": [
              "array([[0, 'East South Central', 'Alabama', 2570.0, 864.0, 4887681],\n",
              "       [1, 'Pacific', 'Alaska', 1434.0, 582.0, 735139],\n",
              "       [2, 'Mountain', 'Arizona', 7259.0, 2606.0, 7158024],\n",
              "       [3, 'West South Central', 'Arkansas', 2280.0, 432.0, 3009733],\n",
              "       [4, 'Pacific', 'California', 109008.0, 20964.0, 39461588],\n",
              "       [5, 'Mountain', 'Colorado', 7607.0, 3250.0, 5691287],\n",
              "       [6, 'New England', 'Connecticut', 2280.0, 1696.0, 3571520],\n",
              "       [7, 'South Atlantic', 'Delaware', 708.0, 374.0, 965479],\n",
              "       [8, 'South Atlantic', 'District of Columbia', 3770.0, 3134.0,\n",
              "        701547],\n",
              "       [9, 'South Atlantic', 'Florida', 21443.0, 9587.0, 21244317],\n",
              "       [10, 'South Atlantic', 'Georgia', 6943.0, 2556.0, 10511131],\n",
              "       [11, 'Pacific', 'Hawaii', 4131.0, 2399.0, 1420593],\n",
              "       [12, 'Mountain', 'Idaho', 1297.0, 715.0, 1750536],\n",
              "       [13, 'East North Central', 'Illinois', 6752.0, 3891.0, 12723071],\n",
              "       [14, 'East North Central', 'Indiana', 3776.0, 1482.0, 6695497],\n",
              "       [15, 'West North Central', 'Iowa', 1711.0, 1038.0, 3148618],\n",
              "       [16, 'West North Central', 'Kansas', 1443.0, 773.0, 2911359],\n",
              "       [17, 'East South Central', 'Kentucky', 2735.0, 953.0, 4461153],\n",
              "       [18, 'West South Central', 'Louisiana', 2540.0, 519.0, 4659690],\n",
              "       [19, 'New England', 'Maine', 1450.0, 1066.0, 1339057],\n",
              "       [20, 'South Atlantic', 'Maryland', 4914.0, 2230.0, 6035802],\n",
              "       [21, 'New England', 'Massachusetts', 6811.0, 13257.0, 6882635],\n",
              "       [22, 'East North Central', 'Michigan', 5209.0, 3142.0, 9984072],\n",
              "       [23, 'West North Central', 'Minnesota', 3993.0, 3250.0, 5606249],\n",
              "       [24, 'East South Central', 'Mississippi', 1024.0, 328.0, 2981020],\n",
              "       [25, 'West North Central', 'Missouri', 3776.0, 2107.0, 6121623],\n",
              "       [26, 'Mountain', 'Montana', 983.0, 422.0, 1060665],\n",
              "       [27, 'West North Central', 'Nebraska', 1745.0, 676.0, 1925614],\n",
              "       [28, 'Mountain', 'Nevada', 7058.0, 486.0, 3027341],\n",
              "       [29, 'New England', 'New Hampshire', 835.0, 615.0, 1353465],\n",
              "       [30, 'Mid-Atlantic', 'New Jersey', 6048.0, 3350.0, 8886025],\n",
              "       [31, 'Mountain', 'New Mexico', 1949.0, 602.0, 2092741],\n",
              "       [32, 'Mid-Atlantic', 'New York', 39827.0, 52070.0, 19530351],\n",
              "       [33, 'South Atlantic', 'North Carolina', 6451.0, 2817.0, 10381615],\n",
              "       [34, 'West North Central', 'North Dakota', 467.0, 75.0, 758080],\n",
              "       [35, 'East North Central', 'Ohio', 6929.0, 3320.0, 11676341],\n",
              "       [36, 'West South Central', 'Oklahoma', 2823.0, 1048.0, 3940235],\n",
              "       [37, 'Pacific', 'Oregon', 11139.0, 3337.0, 4181886],\n",
              "       [38, 'Mid-Atlantic', 'Pennsylvania', 8163.0, 5349.0, 12800922],\n",
              "       [39, 'New England', 'Rhode Island', 747.0, 354.0, 1058287],\n",
              "       [40, 'South Atlantic', 'South Carolina', 3082.0, 851.0, 5084156],\n",
              "       [41, 'West North Central', 'South Dakota', 836.0, 323.0, 878698],\n",
              "       [42, 'East South Central', 'Tennessee', 6139.0, 1744.0, 6771631],\n",
              "       [43, 'West South Central', 'Texas', 19199.0, 6111.0, 28628666],\n",
              "       [44, 'Mountain', 'Utah', 1904.0, 972.0, 3153550],\n",
              "       [45, 'New England', 'Vermont', 780.0, 511.0, 624358],\n",
              "       [46, 'South Atlantic', 'Virginia', 3928.0, 2047.0, 8501286],\n",
              "       [47, 'Pacific', 'Washington', 16424.0, 5880.0, 7523869],\n",
              "       [48, 'South Atlantic', 'West Virginia', 1021.0, 222.0, 1804291],\n",
              "       [49, 'East North Central', 'Wisconsin', 2740.0, 2167.0, 5807406],\n",
              "       [50, 'Mountain', 'Wyoming', 434.0, 205.0, 577601]], dtype=object)"
            ]
          },
          "execution_count": 8,
          "metadata": {},
          "output_type": "execute_result"
        }
      ],
      "source": [
        "# Print a 2D NumPy array of the values in homelessness\n",
        "homelessness.values"
      ]
    },
    {
      "cell_type": "code",
      "execution_count": 9,
      "id": "gBqHjSUwHg8n",
      "metadata": {
        "colab": {
          "base_uri": "https://localhost:8080/"
        },
        "id": "gBqHjSUwHg8n",
        "outputId": "942dfffd-3372-4bfc-b338-fa59817b843e"
      },
      "outputs": [
        {
          "data": {
            "text/plain": [
              "Index(['Unnamed: 0', 'region', 'state', 'individuals', 'family_members',\n",
              "       'state_pop'],\n",
              "      dtype='object')"
            ]
          },
          "execution_count": 9,
          "metadata": {},
          "output_type": "execute_result"
        }
      ],
      "source": [
        "# Print the column index of homelessness\n",
        "homelessness.columns"
      ]
    },
    {
      "cell_type": "code",
      "execution_count": 10,
      "id": "A4wRuBRcHpST",
      "metadata": {
        "colab": {
          "base_uri": "https://localhost:8080/"
        },
        "id": "A4wRuBRcHpST",
        "outputId": "c35461b8-6f19-4b08-a6b0-b56cf3ccab89"
      },
      "outputs": [
        {
          "data": {
            "text/plain": [
              "RangeIndex(start=0, stop=51, step=1)"
            ]
          },
          "execution_count": 10,
          "metadata": {},
          "output_type": "execute_result"
        }
      ],
      "source": [
        "# Print the row index of homelessness\n",
        "homelessness.index"
      ]
    },
    {
      "cell_type": "markdown",
      "id": "a9dee0fa",
      "metadata": {
        "id": "a9dee0fa"
      },
      "source": [
        "## Sorting and Subsetting DataFrames\n",
        "\n",
        "DataFrames often contain a large volume of information, and effectively analyzing this data requires the ability to organize and filter it. **Sorting** allows you to reorder the rows of a DataFrame based on the values in one or more columns, while **subsetting** enables you to select specific rows and/or columns of interest. These operations are fundamental to data exploration and preparation.\n",
        "\n",
        "#### Sorting Rows\n",
        "\n",
        "To sort a DataFrame by one or more columns, you can use the `.sort_values()` method. This method returns a new DataFrame with the rows sorted according to the specified column(s).\n",
        "\n",
        "- **Sorting by a single column**:\n",
        "  By default, `.sort_values()` sorts in ascending order. To sort in descending order, set the `ascending` argument to `False`.\n",
        "\n",
        "#### Subsetting Data in Pandas\n",
        "\n",
        "Subsetting is the process of extracting specific **rows**, **columns**, or both from a DataFrame. This is crucial for data inspection, filtering observations, feature selection, and modular analysis.\n",
        "\n",
        "Pandas offers several methods for subsetting, grouped into three principal strategies:\n",
        "\n",
        "### 1. Subsetting Columns\n",
        "\n",
        "Selecting columns is straightforward and crucial for isolating relevant variables.\n",
        "\n",
        "- **Select a single column** (returns a `Series`):\n",
        "\n",
        "```python\n",
        "df[\"column_name\"]\n",
        "```\n",
        "\n",
        "- **Select multiple columns** (returns a `DataFrame`):\n",
        "\n",
        "```python\n",
        "df[[\"col1\", \"col2\", \"col3\"]]\n",
        "```\n",
        "\n",
        "This can be assigned to a new variable for reuse:\n",
        "\n",
        "```python\n",
        "features = df[[\"height\", \"weight\", \"bmi\"]]\n",
        "```\n",
        "\n",
        "\n",
        "### 2. Subsetting Rows\n",
        "\n",
        "There are two primary methods for selecting rows: by **position** and by **label**.\n",
        "\n",
        "#### a) Using `.iloc` (Integer-location based)\n",
        "\n",
        "`.iloc` selects rows by integer position (zero-indexed):\n",
        "\n",
        "```python\n",
        "df.iloc[0]         # First row (as Series)\n",
        "df.iloc[0:5]       # First five rows (as DataFrame)\n",
        "df.iloc[[1, 3, 5]] # Specific row positions\n",
        "```\n",
        "\n",
        "#### b) Using `.loc` (Label-based)\n",
        "\n",
        "`.loc` selects rows by index **label** (not numerical position). Note that slicing is **inclusive** on both ends:\n",
        "\n",
        "```python\n",
        "df.loc[\"row_label\"]\n",
        "df.loc[[\"row1\", \"row3\", \"row5\"]]\n",
        "df.loc[\"label1\":\"label4\"]  # Includes both endpoints\n",
        "```\n",
        "\n",
        "If the DataFrame uses a RangeIndex (i.e., 0, 1, 2...), `.loc[0]` and `.iloc[0]` behave similarly but are semantically different.\n",
        "\n",
        "\n",
        "### 3. Conditional Subsetting (Boolean Indexing)\n",
        "\n",
        "This is one of the most powerful tools in the pandas arsenal and central to exploratory data analysis.\n",
        "\n",
        "#### Basic condition:\n",
        "\n",
        "```python\n",
        "df[df[\"Age\"] > 30]\n",
        "```\n",
        "\n",
        "This returns all rows where the value in the `Age` column exceeds 30.\n",
        "\n",
        "#### Combining conditions:\n",
        "\n",
        "Use **bitwise logical operators** — not `and`/`or` — along with **parentheses**:\n",
        "\n",
        "```python\n",
        "df[(df[\"Age\"] > 30) & (df[\"Department\"] == \"Engineering\")]\n",
        "```\n",
        "\n",
        "- `&` for logical AND\n",
        "- `|` for logical OR\n",
        "- `~` for logical NOT\n",
        "\n",
        "Example of negation:\n",
        "\n",
        "```python\n",
        "df[~(df[\"Status\"] == \"Inactive\")]\n",
        "```\n",
        "\n",
        "#### Assigning boolean masks:\n",
        "\n",
        "To improve clarity and reuse logic:\n",
        "\n",
        "```python\n",
        "is_engineer = df[\"Department\"] == \"Engineering\"\n",
        "high_salary = df[\"Salary\"] > 100000\n",
        "\n",
        "df[is_engineer & high_salary]\n",
        "```\n",
        "\n",
        "This separates the logic into expressive components.\n",
        "\n",
        "\n",
        "### 4. Subsetting Rows and Columns Simultaneously\n",
        "\n",
        "You may use `.loc` to filter rows and columns **at once**:\n",
        "\n",
        "```python\n",
        "df.loc[df[\"Age\"] > 30, [\"Name\", \"Salary\"]]\n",
        "```\n",
        "\n",
        "This returns a new DataFrame where:\n",
        "\n",
        "- Rows: satisfy the condition `Age > 30`\n",
        "- Columns: limited to `\"Name\"` and `\"Salary\"`\n",
        "\n",
        "This is highly idiomatic in data cleaning pipelines.\n",
        "\n",
        "### 5. Subsetting Using `.isin()` (Membership-Based Filtering)\n",
        "\n",
        "`.isin()` is particularly useful when you need to filter for **multiple matches** in a categorical column, such as selecting all rows whose values belong to a predefined list.\n",
        "\n",
        "#### Example:\n",
        "\n",
        "```python\n",
        "is_black_or_brown = df[\"Color\"].isin([\"Black\", \"Brown\"])\n",
        "df[is_black_or_brown]\n",
        "```\n",
        "\n",
        "This selects all rows where the `Color` column is either `\"Black\"` or `\"Brown\"`.\n",
        "\n",
        "#### Alternative inline version:\n",
        "\n",
        "```python\n",
        "df[df[\"Color\"].isin([\"Black\", \"Brown\"])]\n",
        "```\n",
        "\n",
        "This approach is ideal for filtering based on categorical membership — such as departments, statuses, genres, or tags.\n",
        "\n",
        "\n",
        "\n",
        "#### Best Practices\n",
        "\n",
        "- When writing complex filters, store boolean masks in variables to improve readability and testability.\n",
        "- Combine `.loc[]` with conditional subsetting to avoid chained indexing.\n",
        "- Always verify results with `.head()`, `.shape`, or `.info()` when filtering to ensure logical correctness.\n"
      ]
    },
    {
      "cell_type": "code",
      "execution_count": 11,
      "id": "fEbDY5NPK92x",
      "metadata": {
        "colab": {
          "base_uri": "https://localhost:8080/",
          "height": 206
        },
        "id": "fEbDY5NPK92x",
        "outputId": "7ef6f414-a491-444a-f237-8fb6edb0ceeb"
      },
      "outputs": [
        {
          "data": {
            "application/vnd.microsoft.datawrangler.viewer.v0+json": {
              "columns": [
                {
                  "name": "index",
                  "rawType": "int64",
                  "type": "integer"
                },
                {
                  "name": "Unnamed: 0",
                  "rawType": "int64",
                  "type": "integer"
                },
                {
                  "name": "region",
                  "rawType": "object",
                  "type": "string"
                },
                {
                  "name": "state",
                  "rawType": "object",
                  "type": "string"
                },
                {
                  "name": "individuals",
                  "rawType": "float64",
                  "type": "float"
                },
                {
                  "name": "family_members",
                  "rawType": "float64",
                  "type": "float"
                },
                {
                  "name": "state_pop",
                  "rawType": "int64",
                  "type": "integer"
                }
              ],
              "ref": "462e9108-9893-4297-858f-8361deba7ba3",
              "rows": [
                [
                  "50",
                  "50",
                  "Mountain",
                  "Wyoming",
                  "434.0",
                  "205.0",
                  "577601"
                ],
                [
                  "34",
                  "34",
                  "West North Central",
                  "North Dakota",
                  "467.0",
                  "75.0",
                  "758080"
                ],
                [
                  "7",
                  "7",
                  "South Atlantic",
                  "Delaware",
                  "708.0",
                  "374.0",
                  "965479"
                ],
                [
                  "39",
                  "39",
                  "New England",
                  "Rhode Island",
                  "747.0",
                  "354.0",
                  "1058287"
                ],
                [
                  "45",
                  "45",
                  "New England",
                  "Vermont",
                  "780.0",
                  "511.0",
                  "624358"
                ]
              ],
              "shape": {
                "columns": 6,
                "rows": 5
              }
            },
            "text/html": [
              "<div>\n",
              "<style scoped>\n",
              "    .dataframe tbody tr th:only-of-type {\n",
              "        vertical-align: middle;\n",
              "    }\n",
              "\n",
              "    .dataframe tbody tr th {\n",
              "        vertical-align: top;\n",
              "    }\n",
              "\n",
              "    .dataframe thead th {\n",
              "        text-align: right;\n",
              "    }\n",
              "</style>\n",
              "<table border=\"1\" class=\"dataframe\">\n",
              "  <thead>\n",
              "    <tr style=\"text-align: right;\">\n",
              "      <th></th>\n",
              "      <th>Unnamed: 0</th>\n",
              "      <th>region</th>\n",
              "      <th>state</th>\n",
              "      <th>individuals</th>\n",
              "      <th>family_members</th>\n",
              "      <th>state_pop</th>\n",
              "    </tr>\n",
              "  </thead>\n",
              "  <tbody>\n",
              "    <tr>\n",
              "      <th>50</th>\n",
              "      <td>50</td>\n",
              "      <td>Mountain</td>\n",
              "      <td>Wyoming</td>\n",
              "      <td>434.0</td>\n",
              "      <td>205.0</td>\n",
              "      <td>577601</td>\n",
              "    </tr>\n",
              "    <tr>\n",
              "      <th>34</th>\n",
              "      <td>34</td>\n",
              "      <td>West North Central</td>\n",
              "      <td>North Dakota</td>\n",
              "      <td>467.0</td>\n",
              "      <td>75.0</td>\n",
              "      <td>758080</td>\n",
              "    </tr>\n",
              "    <tr>\n",
              "      <th>7</th>\n",
              "      <td>7</td>\n",
              "      <td>South Atlantic</td>\n",
              "      <td>Delaware</td>\n",
              "      <td>708.0</td>\n",
              "      <td>374.0</td>\n",
              "      <td>965479</td>\n",
              "    </tr>\n",
              "    <tr>\n",
              "      <th>39</th>\n",
              "      <td>39</td>\n",
              "      <td>New England</td>\n",
              "      <td>Rhode Island</td>\n",
              "      <td>747.0</td>\n",
              "      <td>354.0</td>\n",
              "      <td>1058287</td>\n",
              "    </tr>\n",
              "    <tr>\n",
              "      <th>45</th>\n",
              "      <td>45</td>\n",
              "      <td>New England</td>\n",
              "      <td>Vermont</td>\n",
              "      <td>780.0</td>\n",
              "      <td>511.0</td>\n",
              "      <td>624358</td>\n",
              "    </tr>\n",
              "  </tbody>\n",
              "</table>\n",
              "</div>"
            ],
            "text/plain": [
              "    Unnamed: 0              region         state  individuals  family_members  \\\n",
              "50          50            Mountain       Wyoming        434.0           205.0   \n",
              "34          34  West North Central  North Dakota        467.0            75.0   \n",
              "7            7      South Atlantic      Delaware        708.0           374.0   \n",
              "39          39         New England  Rhode Island        747.0           354.0   \n",
              "45          45         New England       Vermont        780.0           511.0   \n",
              "\n",
              "    state_pop  \n",
              "50     577601  \n",
              "34     758080  \n",
              "7      965479  \n",
              "39    1058287  \n",
              "45     624358  "
            ]
          },
          "execution_count": 11,
          "metadata": {},
          "output_type": "execute_result"
        }
      ],
      "source": [
        "# Sort homelessness by the number of homeless individuals in the individuals column, from smallest to largest, and save this as homelessness_ind. Print the head of the sorted DataFrame\n",
        "homelessness_ind = homelessness.sort_values(by=\"individuals\", ascending=True)\n",
        "\n",
        "# Print the top few rows\n",
        "homelessness_ind.head()"
      ]
    },
    {
      "cell_type": "code",
      "execution_count": 12,
      "id": "Hz2xX9LfMSqv",
      "metadata": {
        "colab": {
          "base_uri": "https://localhost:8080/",
          "height": 206
        },
        "id": "Hz2xX9LfMSqv",
        "outputId": "a957c623-c3c3-4b64-e65d-781e5c2fe269"
      },
      "outputs": [
        {
          "data": {
            "application/vnd.microsoft.datawrangler.viewer.v0+json": {
              "columns": [
                {
                  "name": "index",
                  "rawType": "int64",
                  "type": "integer"
                },
                {
                  "name": "Unnamed: 0",
                  "rawType": "int64",
                  "type": "integer"
                },
                {
                  "name": "region",
                  "rawType": "object",
                  "type": "string"
                },
                {
                  "name": "state",
                  "rawType": "object",
                  "type": "string"
                },
                {
                  "name": "individuals",
                  "rawType": "float64",
                  "type": "float"
                },
                {
                  "name": "family_members",
                  "rawType": "float64",
                  "type": "float"
                },
                {
                  "name": "state_pop",
                  "rawType": "int64",
                  "type": "integer"
                }
              ],
              "ref": "80b4d8f4-9ce0-49f7-bccb-d614de2b7fc3",
              "rows": [
                [
                  "32",
                  "32",
                  "Mid-Atlantic",
                  "New York",
                  "39827.0",
                  "52070.0",
                  "19530351"
                ],
                [
                  "4",
                  "4",
                  "Pacific",
                  "California",
                  "109008.0",
                  "20964.0",
                  "39461588"
                ],
                [
                  "21",
                  "21",
                  "New England",
                  "Massachusetts",
                  "6811.0",
                  "13257.0",
                  "6882635"
                ],
                [
                  "9",
                  "9",
                  "South Atlantic",
                  "Florida",
                  "21443.0",
                  "9587.0",
                  "21244317"
                ],
                [
                  "43",
                  "43",
                  "West South Central",
                  "Texas",
                  "19199.0",
                  "6111.0",
                  "28628666"
                ]
              ],
              "shape": {
                "columns": 6,
                "rows": 5
              }
            },
            "text/html": [
              "<div>\n",
              "<style scoped>\n",
              "    .dataframe tbody tr th:only-of-type {\n",
              "        vertical-align: middle;\n",
              "    }\n",
              "\n",
              "    .dataframe tbody tr th {\n",
              "        vertical-align: top;\n",
              "    }\n",
              "\n",
              "    .dataframe thead th {\n",
              "        text-align: right;\n",
              "    }\n",
              "</style>\n",
              "<table border=\"1\" class=\"dataframe\">\n",
              "  <thead>\n",
              "    <tr style=\"text-align: right;\">\n",
              "      <th></th>\n",
              "      <th>Unnamed: 0</th>\n",
              "      <th>region</th>\n",
              "      <th>state</th>\n",
              "      <th>individuals</th>\n",
              "      <th>family_members</th>\n",
              "      <th>state_pop</th>\n",
              "    </tr>\n",
              "  </thead>\n",
              "  <tbody>\n",
              "    <tr>\n",
              "      <th>32</th>\n",
              "      <td>32</td>\n",
              "      <td>Mid-Atlantic</td>\n",
              "      <td>New York</td>\n",
              "      <td>39827.0</td>\n",
              "      <td>52070.0</td>\n",
              "      <td>19530351</td>\n",
              "    </tr>\n",
              "    <tr>\n",
              "      <th>4</th>\n",
              "      <td>4</td>\n",
              "      <td>Pacific</td>\n",
              "      <td>California</td>\n",
              "      <td>109008.0</td>\n",
              "      <td>20964.0</td>\n",
              "      <td>39461588</td>\n",
              "    </tr>\n",
              "    <tr>\n",
              "      <th>21</th>\n",
              "      <td>21</td>\n",
              "      <td>New England</td>\n",
              "      <td>Massachusetts</td>\n",
              "      <td>6811.0</td>\n",
              "      <td>13257.0</td>\n",
              "      <td>6882635</td>\n",
              "    </tr>\n",
              "    <tr>\n",
              "      <th>9</th>\n",
              "      <td>9</td>\n",
              "      <td>South Atlantic</td>\n",
              "      <td>Florida</td>\n",
              "      <td>21443.0</td>\n",
              "      <td>9587.0</td>\n",
              "      <td>21244317</td>\n",
              "    </tr>\n",
              "    <tr>\n",
              "      <th>43</th>\n",
              "      <td>43</td>\n",
              "      <td>West South Central</td>\n",
              "      <td>Texas</td>\n",
              "      <td>19199.0</td>\n",
              "      <td>6111.0</td>\n",
              "      <td>28628666</td>\n",
              "    </tr>\n",
              "  </tbody>\n",
              "</table>\n",
              "</div>"
            ],
            "text/plain": [
              "    Unnamed: 0              region          state  individuals  \\\n",
              "32          32        Mid-Atlantic       New York      39827.0   \n",
              "4            4             Pacific     California     109008.0   \n",
              "21          21         New England  Massachusetts       6811.0   \n",
              "9            9      South Atlantic        Florida      21443.0   \n",
              "43          43  West South Central          Texas      19199.0   \n",
              "\n",
              "    family_members  state_pop  \n",
              "32         52070.0   19530351  \n",
              "4          20964.0   39461588  \n",
              "21         13257.0    6882635  \n",
              "9           9587.0   21244317  \n",
              "43          6111.0   28628666  "
            ]
          },
          "execution_count": 12,
          "metadata": {},
          "output_type": "execute_result"
        }
      ],
      "source": [
        "# Sort homelessness by the number of homeless family_members in descending order, and save this as homelessness_fam.\n",
        "homelessness_fam = homelessness.sort_values(by=\"family_members\", ascending=False)\n",
        "homelessness_fam.head()"
      ]
    },
    {
      "cell_type": "code",
      "execution_count": 13,
      "id": "2DdOh9-LM7x_",
      "metadata": {
        "colab": {
          "base_uri": "https://localhost:8080/",
          "height": 206
        },
        "id": "2DdOh9-LM7x_",
        "outputId": "8c9cc6b5-7b5f-4668-bc47-3372a81a0151"
      },
      "outputs": [
        {
          "data": {
            "application/vnd.microsoft.datawrangler.viewer.v0+json": {
              "columns": [
                {
                  "name": "index",
                  "rawType": "int64",
                  "type": "integer"
                },
                {
                  "name": "Unnamed: 0",
                  "rawType": "int64",
                  "type": "integer"
                },
                {
                  "name": "region",
                  "rawType": "object",
                  "type": "string"
                },
                {
                  "name": "state",
                  "rawType": "object",
                  "type": "string"
                },
                {
                  "name": "individuals",
                  "rawType": "float64",
                  "type": "float"
                },
                {
                  "name": "family_members",
                  "rawType": "float64",
                  "type": "float"
                },
                {
                  "name": "state_pop",
                  "rawType": "int64",
                  "type": "integer"
                }
              ],
              "ref": "c1ef0f4a-7e5b-40c0-8e9d-1b3e5b468fc4",
              "rows": [
                [
                  "13",
                  "13",
                  "East North Central",
                  "Illinois",
                  "6752.0",
                  "3891.0",
                  "12723071"
                ],
                [
                  "35",
                  "35",
                  "East North Central",
                  "Ohio",
                  "6929.0",
                  "3320.0",
                  "11676341"
                ],
                [
                  "22",
                  "22",
                  "East North Central",
                  "Michigan",
                  "5209.0",
                  "3142.0",
                  "9984072"
                ],
                [
                  "49",
                  "49",
                  "East North Central",
                  "Wisconsin",
                  "2740.0",
                  "2167.0",
                  "5807406"
                ],
                [
                  "14",
                  "14",
                  "East North Central",
                  "Indiana",
                  "3776.0",
                  "1482.0",
                  "6695497"
                ]
              ],
              "shape": {
                "columns": 6,
                "rows": 5
              }
            },
            "text/html": [
              "<div>\n",
              "<style scoped>\n",
              "    .dataframe tbody tr th:only-of-type {\n",
              "        vertical-align: middle;\n",
              "    }\n",
              "\n",
              "    .dataframe tbody tr th {\n",
              "        vertical-align: top;\n",
              "    }\n",
              "\n",
              "    .dataframe thead th {\n",
              "        text-align: right;\n",
              "    }\n",
              "</style>\n",
              "<table border=\"1\" class=\"dataframe\">\n",
              "  <thead>\n",
              "    <tr style=\"text-align: right;\">\n",
              "      <th></th>\n",
              "      <th>Unnamed: 0</th>\n",
              "      <th>region</th>\n",
              "      <th>state</th>\n",
              "      <th>individuals</th>\n",
              "      <th>family_members</th>\n",
              "      <th>state_pop</th>\n",
              "    </tr>\n",
              "  </thead>\n",
              "  <tbody>\n",
              "    <tr>\n",
              "      <th>13</th>\n",
              "      <td>13</td>\n",
              "      <td>East North Central</td>\n",
              "      <td>Illinois</td>\n",
              "      <td>6752.0</td>\n",
              "      <td>3891.0</td>\n",
              "      <td>12723071</td>\n",
              "    </tr>\n",
              "    <tr>\n",
              "      <th>35</th>\n",
              "      <td>35</td>\n",
              "      <td>East North Central</td>\n",
              "      <td>Ohio</td>\n",
              "      <td>6929.0</td>\n",
              "      <td>3320.0</td>\n",
              "      <td>11676341</td>\n",
              "    </tr>\n",
              "    <tr>\n",
              "      <th>22</th>\n",
              "      <td>22</td>\n",
              "      <td>East North Central</td>\n",
              "      <td>Michigan</td>\n",
              "      <td>5209.0</td>\n",
              "      <td>3142.0</td>\n",
              "      <td>9984072</td>\n",
              "    </tr>\n",
              "    <tr>\n",
              "      <th>49</th>\n",
              "      <td>49</td>\n",
              "      <td>East North Central</td>\n",
              "      <td>Wisconsin</td>\n",
              "      <td>2740.0</td>\n",
              "      <td>2167.0</td>\n",
              "      <td>5807406</td>\n",
              "    </tr>\n",
              "    <tr>\n",
              "      <th>14</th>\n",
              "      <td>14</td>\n",
              "      <td>East North Central</td>\n",
              "      <td>Indiana</td>\n",
              "      <td>3776.0</td>\n",
              "      <td>1482.0</td>\n",
              "      <td>6695497</td>\n",
              "    </tr>\n",
              "  </tbody>\n",
              "</table>\n",
              "</div>"
            ],
            "text/plain": [
              "    Unnamed: 0              region      state  individuals  family_members  \\\n",
              "13          13  East North Central   Illinois       6752.0          3891.0   \n",
              "35          35  East North Central       Ohio       6929.0          3320.0   \n",
              "22          22  East North Central   Michigan       5209.0          3142.0   \n",
              "49          49  East North Central  Wisconsin       2740.0          2167.0   \n",
              "14          14  East North Central    Indiana       3776.0          1482.0   \n",
              "\n",
              "    state_pop  \n",
              "13   12723071  \n",
              "35   11676341  \n",
              "22    9984072  \n",
              "49    5807406  \n",
              "14    6695497  "
            ]
          },
          "execution_count": 13,
          "metadata": {},
          "output_type": "execute_result"
        }
      ],
      "source": [
        "# Sort homelessness first by region (ascending), and then by number of family members (descending). Save this as homelessness_reg_fam.\n",
        "homelessness_reg_fam = homelessness.sort_values(by=[\"region\", \"family_members\"], ascending=[True, False])\n",
        "\n",
        "# Print the top few rows\n",
        "homelessness_reg_fam.head()"
      ]
    },
    {
      "cell_type": "code",
      "execution_count": 14,
      "id": "GLTs1mEANkG0",
      "metadata": {
        "colab": {
          "base_uri": "https://localhost:8080/",
          "height": 241
        },
        "id": "GLTs1mEANkG0",
        "outputId": "0f266607-d744-4c8e-96b6-7b330c454e0f"
      },
      "outputs": [
        {
          "data": {
            "application/vnd.microsoft.datawrangler.viewer.v0+json": {
              "columns": [
                {
                  "name": "index",
                  "rawType": "int64",
                  "type": "integer"
                },
                {
                  "name": "individuals",
                  "rawType": "float64",
                  "type": "float"
                }
              ],
              "ref": "1743327e-cea0-411f-8122-1df36669924f",
              "rows": [
                [
                  "0",
                  "2570.0"
                ],
                [
                  "1",
                  "1434.0"
                ],
                [
                  "2",
                  "7259.0"
                ],
                [
                  "3",
                  "2280.0"
                ],
                [
                  "4",
                  "109008.0"
                ]
              ],
              "shape": {
                "columns": 1,
                "rows": 5
              }
            },
            "text/plain": [
              "0      2570.0\n",
              "1      1434.0\n",
              "2      7259.0\n",
              "3      2280.0\n",
              "4    109008.0\n",
              "Name: individuals, dtype: float64"
            ]
          },
          "metadata": {},
          "output_type": "display_data"
        }
      ],
      "source": [
        "# Create a Series called individuals that contains only the individuals column of homelessness.\n",
        "individuals = homelessness[\"individuals\"]\n",
        "display(individuals.head())"
      ]
    },
    {
      "cell_type": "code",
      "execution_count": 15,
      "id": "C2Sv4ap3OR3C",
      "metadata": {
        "colab": {
          "base_uri": "https://localhost:8080/",
          "height": 206
        },
        "id": "C2Sv4ap3OR3C",
        "outputId": "65beac34-8549-4780-9bbd-c89e3c1cf932"
      },
      "outputs": [
        {
          "data": {
            "application/vnd.microsoft.datawrangler.viewer.v0+json": {
              "columns": [
                {
                  "name": "index",
                  "rawType": "int64",
                  "type": "integer"
                },
                {
                  "name": "state",
                  "rawType": "object",
                  "type": "string"
                },
                {
                  "name": "family_members",
                  "rawType": "float64",
                  "type": "float"
                }
              ],
              "ref": "84a0ccd4-b7f0-40d1-9684-285ae364c375",
              "rows": [
                [
                  "0",
                  "Alabama",
                  "864.0"
                ],
                [
                  "1",
                  "Alaska",
                  "582.0"
                ],
                [
                  "2",
                  "Arizona",
                  "2606.0"
                ],
                [
                  "3",
                  "Arkansas",
                  "432.0"
                ],
                [
                  "4",
                  "California",
                  "20964.0"
                ]
              ],
              "shape": {
                "columns": 2,
                "rows": 5
              }
            },
            "text/html": [
              "<div>\n",
              "<style scoped>\n",
              "    .dataframe tbody tr th:only-of-type {\n",
              "        vertical-align: middle;\n",
              "    }\n",
              "\n",
              "    .dataframe tbody tr th {\n",
              "        vertical-align: top;\n",
              "    }\n",
              "\n",
              "    .dataframe thead th {\n",
              "        text-align: right;\n",
              "    }\n",
              "</style>\n",
              "<table border=\"1\" class=\"dataframe\">\n",
              "  <thead>\n",
              "    <tr style=\"text-align: right;\">\n",
              "      <th></th>\n",
              "      <th>state</th>\n",
              "      <th>family_members</th>\n",
              "    </tr>\n",
              "  </thead>\n",
              "  <tbody>\n",
              "    <tr>\n",
              "      <th>0</th>\n",
              "      <td>Alabama</td>\n",
              "      <td>864.0</td>\n",
              "    </tr>\n",
              "    <tr>\n",
              "      <th>1</th>\n",
              "      <td>Alaska</td>\n",
              "      <td>582.0</td>\n",
              "    </tr>\n",
              "    <tr>\n",
              "      <th>2</th>\n",
              "      <td>Arizona</td>\n",
              "      <td>2606.0</td>\n",
              "    </tr>\n",
              "    <tr>\n",
              "      <th>3</th>\n",
              "      <td>Arkansas</td>\n",
              "      <td>432.0</td>\n",
              "    </tr>\n",
              "    <tr>\n",
              "      <th>4</th>\n",
              "      <td>California</td>\n",
              "      <td>20964.0</td>\n",
              "    </tr>\n",
              "  </tbody>\n",
              "</table>\n",
              "</div>"
            ],
            "text/plain": [
              "        state  family_members\n",
              "0     Alabama           864.0\n",
              "1      Alaska           582.0\n",
              "2     Arizona          2606.0\n",
              "3    Arkansas           432.0\n",
              "4  California         20964.0"
            ]
          },
          "execution_count": 15,
          "metadata": {},
          "output_type": "execute_result"
        }
      ],
      "source": [
        "# Create a DataFrame called state_fam that contains only the state and family_members columns of homelessness, in that order.\n",
        "state_fam = homelessness[[\"state\", \"family_members\"]]\n",
        "state_fam.head()"
      ]
    },
    {
      "cell_type": "code",
      "execution_count": 16,
      "id": "L02cYSeYOguS",
      "metadata": {
        "colab": {
          "base_uri": "https://localhost:8080/",
          "height": 206
        },
        "id": "L02cYSeYOguS",
        "outputId": "70080f24-de0e-4b9b-cf4c-5bea3bd146c0"
      },
      "outputs": [
        {
          "data": {
            "application/vnd.microsoft.datawrangler.viewer.v0+json": {
              "columns": [
                {
                  "name": "index",
                  "rawType": "int64",
                  "type": "integer"
                },
                {
                  "name": "individuals",
                  "rawType": "float64",
                  "type": "float"
                },
                {
                  "name": "state",
                  "rawType": "object",
                  "type": "string"
                }
              ],
              "ref": "389fa444-5274-47bf-aa36-ae8b6f63754c",
              "rows": [
                [
                  "0",
                  "2570.0",
                  "Alabama"
                ],
                [
                  "1",
                  "1434.0",
                  "Alaska"
                ],
                [
                  "2",
                  "7259.0",
                  "Arizona"
                ],
                [
                  "3",
                  "2280.0",
                  "Arkansas"
                ],
                [
                  "4",
                  "109008.0",
                  "California"
                ]
              ],
              "shape": {
                "columns": 2,
                "rows": 5
              }
            },
            "text/html": [
              "<div>\n",
              "<style scoped>\n",
              "    .dataframe tbody tr th:only-of-type {\n",
              "        vertical-align: middle;\n",
              "    }\n",
              "\n",
              "    .dataframe tbody tr th {\n",
              "        vertical-align: top;\n",
              "    }\n",
              "\n",
              "    .dataframe thead th {\n",
              "        text-align: right;\n",
              "    }\n",
              "</style>\n",
              "<table border=\"1\" class=\"dataframe\">\n",
              "  <thead>\n",
              "    <tr style=\"text-align: right;\">\n",
              "      <th></th>\n",
              "      <th>individuals</th>\n",
              "      <th>state</th>\n",
              "    </tr>\n",
              "  </thead>\n",
              "  <tbody>\n",
              "    <tr>\n",
              "      <th>0</th>\n",
              "      <td>2570.0</td>\n",
              "      <td>Alabama</td>\n",
              "    </tr>\n",
              "    <tr>\n",
              "      <th>1</th>\n",
              "      <td>1434.0</td>\n",
              "      <td>Alaska</td>\n",
              "    </tr>\n",
              "    <tr>\n",
              "      <th>2</th>\n",
              "      <td>7259.0</td>\n",
              "      <td>Arizona</td>\n",
              "    </tr>\n",
              "    <tr>\n",
              "      <th>3</th>\n",
              "      <td>2280.0</td>\n",
              "      <td>Arkansas</td>\n",
              "    </tr>\n",
              "    <tr>\n",
              "      <th>4</th>\n",
              "      <td>109008.0</td>\n",
              "      <td>California</td>\n",
              "    </tr>\n",
              "  </tbody>\n",
              "</table>\n",
              "</div>"
            ],
            "text/plain": [
              "   individuals       state\n",
              "0       2570.0     Alabama\n",
              "1       1434.0      Alaska\n",
              "2       7259.0     Arizona\n",
              "3       2280.0    Arkansas\n",
              "4     109008.0  California"
            ]
          },
          "execution_count": 16,
          "metadata": {},
          "output_type": "execute_result"
        }
      ],
      "source": [
        "# Create a DataFrame called ind_state that contains the individuals and state columns of homelessness, in that order.\n",
        "ind_state = homelessness[[\"individuals\", \"state\"]]\n",
        "ind_state.head()"
      ]
    },
    {
      "cell_type": "code",
      "execution_count": 17,
      "id": "PX88ixNYO3Nx",
      "metadata": {
        "colab": {
          "base_uri": "https://localhost:8080/",
          "height": 206
        },
        "id": "PX88ixNYO3Nx",
        "outputId": "b42e738f-0a72-4b6e-a977-fa8ee7299e54"
      },
      "outputs": [
        {
          "data": {
            "application/vnd.microsoft.datawrangler.viewer.v0+json": {
              "columns": [
                {
                  "name": "index",
                  "rawType": "int64",
                  "type": "integer"
                },
                {
                  "name": "Unnamed: 0",
                  "rawType": "int64",
                  "type": "integer"
                },
                {
                  "name": "region",
                  "rawType": "object",
                  "type": "string"
                },
                {
                  "name": "state",
                  "rawType": "object",
                  "type": "string"
                },
                {
                  "name": "individuals",
                  "rawType": "float64",
                  "type": "float"
                },
                {
                  "name": "family_members",
                  "rawType": "float64",
                  "type": "float"
                },
                {
                  "name": "state_pop",
                  "rawType": "int64",
                  "type": "integer"
                }
              ],
              "ref": "6c042ef9-a943-48e9-9d68-44f82c2e5cca",
              "rows": [
                [
                  "4",
                  "4",
                  "Pacific",
                  "California",
                  "109008.0",
                  "20964.0",
                  "39461588"
                ],
                [
                  "9",
                  "9",
                  "South Atlantic",
                  "Florida",
                  "21443.0",
                  "9587.0",
                  "21244317"
                ],
                [
                  "32",
                  "32",
                  "Mid-Atlantic",
                  "New York",
                  "39827.0",
                  "52070.0",
                  "19530351"
                ],
                [
                  "37",
                  "37",
                  "Pacific",
                  "Oregon",
                  "11139.0",
                  "3337.0",
                  "4181886"
                ],
                [
                  "43",
                  "43",
                  "West South Central",
                  "Texas",
                  "19199.0",
                  "6111.0",
                  "28628666"
                ]
              ],
              "shape": {
                "columns": 6,
                "rows": 5
              }
            },
            "text/html": [
              "<div>\n",
              "<style scoped>\n",
              "    .dataframe tbody tr th:only-of-type {\n",
              "        vertical-align: middle;\n",
              "    }\n",
              "\n",
              "    .dataframe tbody tr th {\n",
              "        vertical-align: top;\n",
              "    }\n",
              "\n",
              "    .dataframe thead th {\n",
              "        text-align: right;\n",
              "    }\n",
              "</style>\n",
              "<table border=\"1\" class=\"dataframe\">\n",
              "  <thead>\n",
              "    <tr style=\"text-align: right;\">\n",
              "      <th></th>\n",
              "      <th>Unnamed: 0</th>\n",
              "      <th>region</th>\n",
              "      <th>state</th>\n",
              "      <th>individuals</th>\n",
              "      <th>family_members</th>\n",
              "      <th>state_pop</th>\n",
              "    </tr>\n",
              "  </thead>\n",
              "  <tbody>\n",
              "    <tr>\n",
              "      <th>4</th>\n",
              "      <td>4</td>\n",
              "      <td>Pacific</td>\n",
              "      <td>California</td>\n",
              "      <td>109008.0</td>\n",
              "      <td>20964.0</td>\n",
              "      <td>39461588</td>\n",
              "    </tr>\n",
              "    <tr>\n",
              "      <th>9</th>\n",
              "      <td>9</td>\n",
              "      <td>South Atlantic</td>\n",
              "      <td>Florida</td>\n",
              "      <td>21443.0</td>\n",
              "      <td>9587.0</td>\n",
              "      <td>21244317</td>\n",
              "    </tr>\n",
              "    <tr>\n",
              "      <th>32</th>\n",
              "      <td>32</td>\n",
              "      <td>Mid-Atlantic</td>\n",
              "      <td>New York</td>\n",
              "      <td>39827.0</td>\n",
              "      <td>52070.0</td>\n",
              "      <td>19530351</td>\n",
              "    </tr>\n",
              "    <tr>\n",
              "      <th>37</th>\n",
              "      <td>37</td>\n",
              "      <td>Pacific</td>\n",
              "      <td>Oregon</td>\n",
              "      <td>11139.0</td>\n",
              "      <td>3337.0</td>\n",
              "      <td>4181886</td>\n",
              "    </tr>\n",
              "    <tr>\n",
              "      <th>43</th>\n",
              "      <td>43</td>\n",
              "      <td>West South Central</td>\n",
              "      <td>Texas</td>\n",
              "      <td>19199.0</td>\n",
              "      <td>6111.0</td>\n",
              "      <td>28628666</td>\n",
              "    </tr>\n",
              "  </tbody>\n",
              "</table>\n",
              "</div>"
            ],
            "text/plain": [
              "    Unnamed: 0              region       state  individuals  family_members  \\\n",
              "4            4             Pacific  California     109008.0         20964.0   \n",
              "9            9      South Atlantic     Florida      21443.0          9587.0   \n",
              "32          32        Mid-Atlantic    New York      39827.0         52070.0   \n",
              "37          37             Pacific      Oregon      11139.0          3337.0   \n",
              "43          43  West South Central       Texas      19199.0          6111.0   \n",
              "\n",
              "    state_pop  \n",
              "4    39461588  \n",
              "9    21244317  \n",
              "32   19530351  \n",
              "37    4181886  \n",
              "43   28628666  "
            ]
          },
          "execution_count": 17,
          "metadata": {},
          "output_type": "execute_result"
        }
      ],
      "source": [
        "# Filter homelessness for cases where the number of individuals is greater than ten thousand, assigning to ind_gt_10k.\n",
        "ind_gt_10k = homelessness[(homelessness[\"individuals\"] > 10_000)]\n",
        "\n",
        "# See the result\n",
        "ind_gt_10k.head()"
      ]
    },
    {
      "cell_type": "code",
      "execution_count": 18,
      "id": "HIk4w0k6POfm",
      "metadata": {
        "colab": {
          "base_uri": "https://localhost:8080/",
          "height": 206
        },
        "id": "HIk4w0k6POfm",
        "outputId": "7fa1eb17-b8fb-4580-df5d-05a4c6251e2f"
      },
      "outputs": [
        {
          "name": "stdout",
          "output_type": "stream",
          "text": [
            "    Unnamed: 0    region     state  individuals  family_members  state_pop\n",
            "2            2  Mountain   Arizona       7259.0          2606.0    7158024\n",
            "5            5  Mountain  Colorado       7607.0          3250.0    5691287\n",
            "12          12  Mountain     Idaho       1297.0           715.0    1750536\n",
            "26          26  Mountain   Montana        983.0           422.0    1060665\n",
            "28          28  Mountain    Nevada       7058.0           486.0    3027341\n"
          ]
        }
      ],
      "source": [
        "# Filter homelessness for cases where the USA Census region is \"Mountain\", assigning to mountain_reg.\n",
        "mountain_reg = homelessness[(homelessness[\"region\"] == \"Mountain\")]\n",
        "\n",
        "# See the result\n",
        "print(mountain_reg.head())"
      ]
    },
    {
      "cell_type": "code",
      "execution_count": 19,
      "id": "Tp_yH7nCQCm9",
      "metadata": {
        "colab": {
          "base_uri": "https://localhost:8080/",
          "height": 81
        },
        "id": "Tp_yH7nCQCm9",
        "outputId": "929fcb4a-c518-46e7-e938-603e5b59899e"
      },
      "outputs": [
        {
          "data": {
            "application/vnd.microsoft.datawrangler.viewer.v0+json": {
              "columns": [
                {
                  "name": "index",
                  "rawType": "int64",
                  "type": "integer"
                },
                {
                  "name": "Unnamed: 0",
                  "rawType": "int64",
                  "type": "integer"
                },
                {
                  "name": "region",
                  "rawType": "object",
                  "type": "string"
                },
                {
                  "name": "state",
                  "rawType": "object",
                  "type": "string"
                },
                {
                  "name": "individuals",
                  "rawType": "float64",
                  "type": "float"
                },
                {
                  "name": "family_members",
                  "rawType": "float64",
                  "type": "float"
                },
                {
                  "name": "state_pop",
                  "rawType": "int64",
                  "type": "integer"
                }
              ],
              "ref": "753d03ec-5124-4d10-b15b-e8883aa3e4f1",
              "rows": [
                [
                  "1",
                  "1",
                  "Pacific",
                  "Alaska",
                  "1434.0",
                  "582.0",
                  "735139"
                ]
              ],
              "shape": {
                "columns": 6,
                "rows": 1
              }
            },
            "text/html": [
              "<div>\n",
              "<style scoped>\n",
              "    .dataframe tbody tr th:only-of-type {\n",
              "        vertical-align: middle;\n",
              "    }\n",
              "\n",
              "    .dataframe tbody tr th {\n",
              "        vertical-align: top;\n",
              "    }\n",
              "\n",
              "    .dataframe thead th {\n",
              "        text-align: right;\n",
              "    }\n",
              "</style>\n",
              "<table border=\"1\" class=\"dataframe\">\n",
              "  <thead>\n",
              "    <tr style=\"text-align: right;\">\n",
              "      <th></th>\n",
              "      <th>Unnamed: 0</th>\n",
              "      <th>region</th>\n",
              "      <th>state</th>\n",
              "      <th>individuals</th>\n",
              "      <th>family_members</th>\n",
              "      <th>state_pop</th>\n",
              "    </tr>\n",
              "  </thead>\n",
              "  <tbody>\n",
              "    <tr>\n",
              "      <th>1</th>\n",
              "      <td>1</td>\n",
              "      <td>Pacific</td>\n",
              "      <td>Alaska</td>\n",
              "      <td>1434.0</td>\n",
              "      <td>582.0</td>\n",
              "      <td>735139</td>\n",
              "    </tr>\n",
              "  </tbody>\n",
              "</table>\n",
              "</div>"
            ],
            "text/plain": [
              "   Unnamed: 0   region   state  individuals  family_members  state_pop\n",
              "1           1  Pacific  Alaska       1434.0           582.0     735139"
            ]
          },
          "execution_count": 19,
          "metadata": {},
          "output_type": "execute_result"
        }
      ],
      "source": [
        "# Filter homelessness for cases where the number of family_members is less than one thousand and the region is \"Pacific\", assigning to fam_lt_1k_pac\n",
        "fam_lt_1k_pac = homelessness[(homelessness[\"family_members\"] < 1000) & (homelessness[\"region\"] == \"Pacific\")]\n",
        "\n",
        "# See the result\n",
        "fam_lt_1k_pac.head()"
      ]
    },
    {
      "cell_type": "code",
      "execution_count": 20,
      "id": "F7SWWxMIQsFj",
      "metadata": {
        "colab": {
          "base_uri": "https://localhost:8080/",
          "height": 175
        },
        "id": "F7SWWxMIQsFj",
        "outputId": "8bc707fc-f511-4179-d3a8-3393e18a59f5"
      },
      "outputs": [
        {
          "data": {
            "application/vnd.microsoft.datawrangler.viewer.v0+json": {
              "columns": [
                {
                  "name": "index",
                  "rawType": "int64",
                  "type": "integer"
                },
                {
                  "name": "Unnamed: 0",
                  "rawType": "int64",
                  "type": "integer"
                },
                {
                  "name": "region",
                  "rawType": "object",
                  "type": "string"
                },
                {
                  "name": "state",
                  "rawType": "object",
                  "type": "string"
                },
                {
                  "name": "individuals",
                  "rawType": "float64",
                  "type": "float"
                },
                {
                  "name": "family_members",
                  "rawType": "float64",
                  "type": "float"
                },
                {
                  "name": "state_pop",
                  "rawType": "int64",
                  "type": "integer"
                }
              ],
              "ref": "0bf6a0c5-b792-4876-8f2a-9245e2f66387",
              "rows": [
                [
                  "2",
                  "2",
                  "Mountain",
                  "Arizona",
                  "7259.0",
                  "2606.0",
                  "7158024"
                ],
                [
                  "4",
                  "4",
                  "Pacific",
                  "California",
                  "109008.0",
                  "20964.0",
                  "39461588"
                ],
                [
                  "28",
                  "28",
                  "Mountain",
                  "Nevada",
                  "7058.0",
                  "486.0",
                  "3027341"
                ],
                [
                  "44",
                  "44",
                  "Mountain",
                  "Utah",
                  "1904.0",
                  "972.0",
                  "3153550"
                ]
              ],
              "shape": {
                "columns": 6,
                "rows": 4
              }
            },
            "text/html": [
              "<div>\n",
              "<style scoped>\n",
              "    .dataframe tbody tr th:only-of-type {\n",
              "        vertical-align: middle;\n",
              "    }\n",
              "\n",
              "    .dataframe tbody tr th {\n",
              "        vertical-align: top;\n",
              "    }\n",
              "\n",
              "    .dataframe thead th {\n",
              "        text-align: right;\n",
              "    }\n",
              "</style>\n",
              "<table border=\"1\" class=\"dataframe\">\n",
              "  <thead>\n",
              "    <tr style=\"text-align: right;\">\n",
              "      <th></th>\n",
              "      <th>Unnamed: 0</th>\n",
              "      <th>region</th>\n",
              "      <th>state</th>\n",
              "      <th>individuals</th>\n",
              "      <th>family_members</th>\n",
              "      <th>state_pop</th>\n",
              "    </tr>\n",
              "  </thead>\n",
              "  <tbody>\n",
              "    <tr>\n",
              "      <th>2</th>\n",
              "      <td>2</td>\n",
              "      <td>Mountain</td>\n",
              "      <td>Arizona</td>\n",
              "      <td>7259.0</td>\n",
              "      <td>2606.0</td>\n",
              "      <td>7158024</td>\n",
              "    </tr>\n",
              "    <tr>\n",
              "      <th>4</th>\n",
              "      <td>4</td>\n",
              "      <td>Pacific</td>\n",
              "      <td>California</td>\n",
              "      <td>109008.0</td>\n",
              "      <td>20964.0</td>\n",
              "      <td>39461588</td>\n",
              "    </tr>\n",
              "    <tr>\n",
              "      <th>28</th>\n",
              "      <td>28</td>\n",
              "      <td>Mountain</td>\n",
              "      <td>Nevada</td>\n",
              "      <td>7058.0</td>\n",
              "      <td>486.0</td>\n",
              "      <td>3027341</td>\n",
              "    </tr>\n",
              "    <tr>\n",
              "      <th>44</th>\n",
              "      <td>44</td>\n",
              "      <td>Mountain</td>\n",
              "      <td>Utah</td>\n",
              "      <td>1904.0</td>\n",
              "      <td>972.0</td>\n",
              "      <td>3153550</td>\n",
              "    </tr>\n",
              "  </tbody>\n",
              "</table>\n",
              "</div>"
            ],
            "text/plain": [
              "    Unnamed: 0    region       state  individuals  family_members  state_pop\n",
              "2            2  Mountain     Arizona       7259.0          2606.0    7158024\n",
              "4            4   Pacific  California     109008.0         20964.0   39461588\n",
              "28          28  Mountain      Nevada       7058.0           486.0    3027341\n",
              "44          44  Mountain        Utah       1904.0           972.0    3153550"
            ]
          },
          "execution_count": 20,
          "metadata": {},
          "output_type": "execute_result"
        }
      ],
      "source": [
        "# Filter homelessness for cases where the USA census state is in the list of Mojave states, canu, assigning to mojave_homelessness\n",
        "canu = [\"California\", \"Arizona\", \"Nevada\", \"Utah\"]\n",
        "\n",
        "# Filter for rows in the Mojave Desert states\n",
        "mojave_homelessness = homelessness[homelessness[\"state\"].isin(canu)]\n",
        "\n",
        "# See the result\n",
        "mojave_homelessness.head()"
      ]
    },
    {
      "cell_type": "markdown",
      "id": "x2JOgowITGWA",
      "metadata": {
        "id": "x2JOgowITGWA"
      },
      "source": [
        "## Adding New Columns to a DataFrame\n",
        "\n",
        "The capacity to create new columns is fundamental to any serious data analysis workflow. Whether you are engineering features, deriving metrics, or flagging data for quality checks, Pandas enables you to add columns efficiently and flexibly.\n",
        "\n",
        "\n",
        "### 1. Adding Columns by Assignment\n",
        "\n",
        "The most idiomatic way to add a new column is by simple assignment, using the column name as a key.\n",
        "\n",
        "#### Example: Add a column based on existing data\n",
        "\n",
        "```python\n",
        "df[\"bmi\"] = df[\"weight_kg\"] / (df[\"height_m\"] ** 2)\n",
        "```\n",
        "\n",
        "This adds a new column called `bmi`, computed from existing columns.\n",
        "\n",
        "\n",
        "### 2. Adding Columns with a Scalar Value\n",
        "\n",
        "If you wish to assign the same value to all rows:\n",
        "\n",
        "```python\n",
        "df[\"country\"] = \"Brazil\"\n",
        "```\n",
        "\n",
        "Every row now has `\"Brazil\"` in the `country` column.\n",
        "\n",
        "\n",
        "### 3. Adding Columns from a List, Array, or Series\n",
        "\n",
        "You may assign a list, NumPy array, or Pandas Series, provided it matches the DataFrame’s length:\n",
        "\n",
        "```python\n",
        "df[\"random_noise\"] = np.random.normal(size=len(df))\n",
        "```\n",
        "\n",
        "If the length does not match, Pandas will raise a `ValueError`.\n",
        "\n",
        "\n",
        "### 4. Adding Columns with `assign()` (Functional Chaining)\n",
        "\n",
        "For pipeline-oriented code, use `.assign()`, which returns a new DataFrame:\n",
        "\n",
        "```python\n",
        "df2 = df.assign(log_salary=np.log(df[\"salary\"]))\n",
        "```\n",
        "\n",
        "Multiple columns can be added simultaneously:\n",
        "\n",
        "```python\n",
        "df2 = df.assign(\n",
        "    salary_eur = df[\"salary\"] * 0.92,\n",
        "    has_bonus = df[\"bonus\"].notna()\n",
        ")\n",
        "```\n",
        "\n",
        "This is ideal for chaining several transformations without mutating the original object.\n",
        "\n",
        "\n",
        "### 5. Adding Columns Conditionally\n",
        "\n",
        "It is often necessary to add a column reflecting a condition:\n",
        "\n",
        "```python\n",
        "df[\"is_adult\"] = df[\"age\"] >= 18\n",
        "```\n",
        "\n",
        "The new column will be of boolean dtype (`True`/`False`). For categorical flags, you may use `.map()` or `np.where()`:\n",
        "\n",
        "```python\n",
        "df[\"age_group\"] = np.where(df[\"age\"] < 18, \"child\", \"adult\")\n",
        "```\n",
        "\n",
        "\n",
        "### 6. Adding Columns from Functions\n",
        "\n",
        "You can generate new columns by applying a function row-wise:\n",
        "\n",
        "```python\n",
        "df[\"full_name\"] = df[\"first_name\"] + \" \" + df[\"last_name\"]\n",
        "```\n",
        "\n",
        "For more complex logic:\n",
        "\n",
        "```python\n",
        "def bmi_category(row):\n",
        "    if row[\"bmi\"] < 18.5:\n",
        "        return \"Underweight\"\n",
        "    elif row[\"bmi\"] < 25:\n",
        "        return \"Normal\"\n",
        "    else:\n",
        "        return \"Overweight\"\n",
        "\n",
        "df[\"bmi_category\"] = df.apply(bmi_category, axis=1)\n",
        "```\n",
        "\n",
        "Note: `.apply(..., axis=1)` can be slow for large DataFrames; prefer vectorised methods whenever possible.\n",
        "\n",
        "\n",
        "### Best Practices\n",
        "\n",
        "- Prefer vectorised operations for performance and clarity.\n",
        "- Use `.assign()` in pipelines for non-destructive transformations.\n",
        "- Always check column alignment when assigning from external sequences.\n",
        "- When overwriting columns, be explicit and cautious to avoid accidental data loss.\n"
      ]
    },
    {
      "cell_type": "code",
      "execution_count": 21,
      "id": "DgjWmaiuRmx0",
      "metadata": {
        "id": "DgjWmaiuRmx0"
      },
      "outputs": [],
      "source": [
        "# Add a new column to homelessness, named total, containing the sum of the individuals and family_members columns.\n",
        "homelessness[\"total\"] = homelessness[\"individuals\"] + homelessness[\"family_members\"]"
      ]
    },
    {
      "cell_type": "code",
      "execution_count": 22,
      "id": "gdGeyz35Vqhq",
      "metadata": {
        "id": "gdGeyz35Vqhq"
      },
      "outputs": [],
      "source": [
        "# Add another column to homelessness, named p_homeless, containing the proportion of the total homeless population to the total population in each state state_pop.\n",
        "homelessness[\"p_homeless\"] = homelessness[\"total\"] / homelessness[\"state_pop\"]"
      ]
    },
    {
      "cell_type": "code",
      "execution_count": 23,
      "id": "dk_xuP23V9M5",
      "metadata": {
        "colab": {
          "base_uri": "https://localhost:8080/",
          "height": 206
        },
        "id": "dk_xuP23V9M5",
        "outputId": "27be3c39-fe21-46b2-e7ea-fa6f7a957399"
      },
      "outputs": [
        {
          "data": {
            "application/vnd.microsoft.datawrangler.viewer.v0+json": {
              "columns": [
                {
                  "name": "index",
                  "rawType": "int64",
                  "type": "integer"
                },
                {
                  "name": "Unnamed: 0",
                  "rawType": "int64",
                  "type": "integer"
                },
                {
                  "name": "region",
                  "rawType": "object",
                  "type": "string"
                },
                {
                  "name": "state",
                  "rawType": "object",
                  "type": "string"
                },
                {
                  "name": "individuals",
                  "rawType": "float64",
                  "type": "float"
                },
                {
                  "name": "family_members",
                  "rawType": "float64",
                  "type": "float"
                },
                {
                  "name": "state_pop",
                  "rawType": "int64",
                  "type": "integer"
                },
                {
                  "name": "total",
                  "rawType": "float64",
                  "type": "float"
                },
                {
                  "name": "p_homeless",
                  "rawType": "float64",
                  "type": "float"
                }
              ],
              "ref": "0ea08989-d63d-4746-ac1b-ca1b99587472",
              "rows": [
                [
                  "0",
                  "0",
                  "East South Central",
                  "Alabama",
                  "2570.0",
                  "864.0",
                  "4887681",
                  "3434.0",
                  "0.0007025826767336085"
                ],
                [
                  "1",
                  "1",
                  "Pacific",
                  "Alaska",
                  "1434.0",
                  "582.0",
                  "735139",
                  "2016.0",
                  "0.0027423385237349673"
                ],
                [
                  "2",
                  "2",
                  "Mountain",
                  "Arizona",
                  "7259.0",
                  "2606.0",
                  "7158024",
                  "9865.0",
                  "0.0013781736412171851"
                ],
                [
                  "3",
                  "3",
                  "West South Central",
                  "Arkansas",
                  "2280.0",
                  "432.0",
                  "3009733",
                  "2712.0",
                  "0.000901076607127609"
                ],
                [
                  "4",
                  "4",
                  "Pacific",
                  "California",
                  "109008.0",
                  "20964.0",
                  "39461588",
                  "129972.0",
                  "0.0032936332922030406"
                ]
              ],
              "shape": {
                "columns": 8,
                "rows": 5
              }
            },
            "text/html": [
              "<div>\n",
              "<style scoped>\n",
              "    .dataframe tbody tr th:only-of-type {\n",
              "        vertical-align: middle;\n",
              "    }\n",
              "\n",
              "    .dataframe tbody tr th {\n",
              "        vertical-align: top;\n",
              "    }\n",
              "\n",
              "    .dataframe thead th {\n",
              "        text-align: right;\n",
              "    }\n",
              "</style>\n",
              "<table border=\"1\" class=\"dataframe\">\n",
              "  <thead>\n",
              "    <tr style=\"text-align: right;\">\n",
              "      <th></th>\n",
              "      <th>Unnamed: 0</th>\n",
              "      <th>region</th>\n",
              "      <th>state</th>\n",
              "      <th>individuals</th>\n",
              "      <th>family_members</th>\n",
              "      <th>state_pop</th>\n",
              "      <th>total</th>\n",
              "      <th>p_homeless</th>\n",
              "    </tr>\n",
              "  </thead>\n",
              "  <tbody>\n",
              "    <tr>\n",
              "      <th>0</th>\n",
              "      <td>0</td>\n",
              "      <td>East South Central</td>\n",
              "      <td>Alabama</td>\n",
              "      <td>2570.0</td>\n",
              "      <td>864.0</td>\n",
              "      <td>4887681</td>\n",
              "      <td>3434.0</td>\n",
              "      <td>0.000703</td>\n",
              "    </tr>\n",
              "    <tr>\n",
              "      <th>1</th>\n",
              "      <td>1</td>\n",
              "      <td>Pacific</td>\n",
              "      <td>Alaska</td>\n",
              "      <td>1434.0</td>\n",
              "      <td>582.0</td>\n",
              "      <td>735139</td>\n",
              "      <td>2016.0</td>\n",
              "      <td>0.002742</td>\n",
              "    </tr>\n",
              "    <tr>\n",
              "      <th>2</th>\n",
              "      <td>2</td>\n",
              "      <td>Mountain</td>\n",
              "      <td>Arizona</td>\n",
              "      <td>7259.0</td>\n",
              "      <td>2606.0</td>\n",
              "      <td>7158024</td>\n",
              "      <td>9865.0</td>\n",
              "      <td>0.001378</td>\n",
              "    </tr>\n",
              "    <tr>\n",
              "      <th>3</th>\n",
              "      <td>3</td>\n",
              "      <td>West South Central</td>\n",
              "      <td>Arkansas</td>\n",
              "      <td>2280.0</td>\n",
              "      <td>432.0</td>\n",
              "      <td>3009733</td>\n",
              "      <td>2712.0</td>\n",
              "      <td>0.000901</td>\n",
              "    </tr>\n",
              "    <tr>\n",
              "      <th>4</th>\n",
              "      <td>4</td>\n",
              "      <td>Pacific</td>\n",
              "      <td>California</td>\n",
              "      <td>109008.0</td>\n",
              "      <td>20964.0</td>\n",
              "      <td>39461588</td>\n",
              "      <td>129972.0</td>\n",
              "      <td>0.003294</td>\n",
              "    </tr>\n",
              "  </tbody>\n",
              "</table>\n",
              "</div>"
            ],
            "text/plain": [
              "   Unnamed: 0              region       state  individuals  family_members  \\\n",
              "0           0  East South Central     Alabama       2570.0           864.0   \n",
              "1           1             Pacific      Alaska       1434.0           582.0   \n",
              "2           2            Mountain     Arizona       7259.0          2606.0   \n",
              "3           3  West South Central    Arkansas       2280.0           432.0   \n",
              "4           4             Pacific  California     109008.0         20964.0   \n",
              "\n",
              "   state_pop     total  p_homeless  \n",
              "0    4887681    3434.0    0.000703  \n",
              "1     735139    2016.0    0.002742  \n",
              "2    7158024    9865.0    0.001378  \n",
              "3    3009733    2712.0    0.000901  \n",
              "4   39461588  129972.0    0.003294  "
            ]
          },
          "execution_count": 23,
          "metadata": {},
          "output_type": "execute_result"
        }
      ],
      "source": [
        "# See the result\n",
        "homelessness.head()"
      ]
    },
    {
      "cell_type": "code",
      "execution_count": 24,
      "id": "M5AS3gNCWBIs",
      "metadata": {
        "colab": {
          "base_uri": "https://localhost:8080/",
          "height": 269
        },
        "id": "M5AS3gNCWBIs",
        "outputId": "8155319e-e303-49ba-d471-8daadeea224e"
      },
      "outputs": [
        {
          "data": {
            "application/vnd.microsoft.datawrangler.viewer.v0+json": {
              "columns": [
                {
                  "name": "index",
                  "rawType": "int64",
                  "type": "integer"
                },
                {
                  "name": "state",
                  "rawType": "object",
                  "type": "string"
                },
                {
                  "name": "indiv_per_10k",
                  "rawType": "float64",
                  "type": "float"
                }
              ],
              "ref": "4b34caae-1d21-4b99-8520-45e52cf03922",
              "rows": [
                [
                  "8",
                  "District of Columbia",
                  "53.73838103505538"
                ],
                [
                  "11",
                  "Hawaii",
                  "29.079405572180068"
                ],
                [
                  "4",
                  "California",
                  "27.62382497126066"
                ],
                [
                  "37",
                  "Oregon",
                  "26.63630715901868"
                ],
                [
                  "28",
                  "Nevada",
                  "23.314188920243872"
                ],
                [
                  "47",
                  "Washington",
                  "21.82919452744326"
                ],
                [
                  "32",
                  "New York",
                  "20.3923626359813"
                ]
              ],
              "shape": {
                "columns": 2,
                "rows": 7
              }
            },
            "text/html": [
              "<div>\n",
              "<style scoped>\n",
              "    .dataframe tbody tr th:only-of-type {\n",
              "        vertical-align: middle;\n",
              "    }\n",
              "\n",
              "    .dataframe tbody tr th {\n",
              "        vertical-align: top;\n",
              "    }\n",
              "\n",
              "    .dataframe thead th {\n",
              "        text-align: right;\n",
              "    }\n",
              "</style>\n",
              "<table border=\"1\" class=\"dataframe\">\n",
              "  <thead>\n",
              "    <tr style=\"text-align: right;\">\n",
              "      <th></th>\n",
              "      <th>state</th>\n",
              "      <th>indiv_per_10k</th>\n",
              "    </tr>\n",
              "  </thead>\n",
              "  <tbody>\n",
              "    <tr>\n",
              "      <th>8</th>\n",
              "      <td>District of Columbia</td>\n",
              "      <td>53.738381</td>\n",
              "    </tr>\n",
              "    <tr>\n",
              "      <th>11</th>\n",
              "      <td>Hawaii</td>\n",
              "      <td>29.079406</td>\n",
              "    </tr>\n",
              "    <tr>\n",
              "      <th>4</th>\n",
              "      <td>California</td>\n",
              "      <td>27.623825</td>\n",
              "    </tr>\n",
              "    <tr>\n",
              "      <th>37</th>\n",
              "      <td>Oregon</td>\n",
              "      <td>26.636307</td>\n",
              "    </tr>\n",
              "    <tr>\n",
              "      <th>28</th>\n",
              "      <td>Nevada</td>\n",
              "      <td>23.314189</td>\n",
              "    </tr>\n",
              "    <tr>\n",
              "      <th>47</th>\n",
              "      <td>Washington</td>\n",
              "      <td>21.829195</td>\n",
              "    </tr>\n",
              "    <tr>\n",
              "      <th>32</th>\n",
              "      <td>New York</td>\n",
              "      <td>20.392363</td>\n",
              "    </tr>\n",
              "  </tbody>\n",
              "</table>\n",
              "</div>"
            ],
            "text/plain": [
              "                   state  indiv_per_10k\n",
              "8   District of Columbia      53.738381\n",
              "11                Hawaii      29.079406\n",
              "4             California      27.623825\n",
              "37                Oregon      26.636307\n",
              "28                Nevada      23.314189\n",
              "47            Washington      21.829195\n",
              "32              New York      20.392363"
            ]
          },
          "execution_count": 24,
          "metadata": {},
          "output_type": "execute_result"
        }
      ],
      "source": [
        "# Add a column to homelessness, indiv_per_10k, containing the number of homeless individuals per ten thousand people in each state, using state_pop for state population.\n",
        "homelessness[\"indiv_per_10k\"] = 10_000 * homelessness[\"individuals\"] / homelessness[\"state_pop\"]\n",
        "\n",
        "# Subset rows where indiv_per_10k is higher than 20, assigning to high_homelessness.\n",
        "high_homelessness = homelessness[homelessness[\"indiv_per_10k\"] > 20]\n",
        "\n",
        "# Sort high_homelessness by descending indiv_per_10k, assigning to high_homelessness_srt.\n",
        "high_homelessness_srt = high_homelessness.sort_values(by=\"indiv_per_10k\", ascending=False)\n",
        "\n",
        "# Select only the state and indiv_per_10k columns of high_homelessness_srt and save as result.\n",
        "result = high_homelessness_srt[[\"state\", \"indiv_per_10k\"]]\n",
        "\n",
        "# See the result\n",
        "result"
      ]
    },
    {
      "cell_type": "markdown",
      "id": "ahb3n3QdZ12J",
      "metadata": {
        "id": "ahb3n3QdZ12J"
      },
      "source": [
        "## Aggregating DataFrames\n",
        "\n",
        "Aggregation is the process of collapsing one or more dimensions of a DataFrame into summary statistics. It lies at the core of data analysis—facilitating trend identification, hypothesis testing, and the creation of meaningful summaries from granular data. Pandas offers a rich set of aggregation functions, both simple and cumulative, along with the highly flexible `.agg()` method for multi-statistic summarisation.\n",
        "\n",
        "### 1. Basic Summary Statistics\n",
        "\n",
        "#### Mean, Median, and Mode\n",
        "\n",
        "- **Mean** (`.mean()`): Arithmetic average.\n",
        "- **Median** (`.median()`): Middle value in ordered data.\n",
        "- **Mode** (`.mode()`): Most frequent value(s).\n",
        "\n",
        "```python\n",
        "df[\"salary\"].mean()\n",
        "df[\"salary\"].median()\n",
        "df[\"salary\"].mode()  # returns a Series, as there may be multiple modes\n",
        "```\n",
        "\n",
        "- For DataFrames, calling these methods without specifying a column computes statistics **column-wise** for all numeric columns:\n",
        "\n",
        "```python\n",
        "df.mean()     # Mean of all numeric columns\n",
        "df.median()   # Median of all numeric columns\n",
        "df.mode()     # Mode(s) for all columns (returns DataFrame)\n",
        "```\n",
        "\n",
        "### 2. Summarising Dates: `min()` and `max()`\n",
        "\n",
        "The `.min()` and `.max()` methods apply to both numeric and datetime columns, yielding the smallest and largest values, respectively.\n",
        "\n",
        "```python\n",
        "df[\"date\"].min()  # Earliest date\n",
        "df[\"date\"].max()  # Latest date\n",
        "```\n",
        "\n",
        "### 3. The `.agg()` Method: Flexible Multi-Statistic Summarisation\n",
        "\n",
        "`.agg()` allows you to compute multiple statistics simultaneously, for one or many columns.\n",
        "\n",
        "#### Aggregating a single column:\n",
        "\n",
        "```python\n",
        "df[\"salary\"].agg([\"mean\", \"std\", \"min\", \"max\"])\n",
        "```\n",
        "\n",
        "#### Aggregating multiple columns with different statistics:\n",
        "\n",
        "```python\n",
        "df.agg({\n",
        "    \"salary\": [\"mean\", \"median\"],\n",
        "    \"age\": [\"min\", \"max\"]\n",
        "})\n",
        "```\n",
        "\n",
        "- The result is a DataFrame with a hierarchical index (MultiIndex), useful for inspection or reporting.\n",
        "\n",
        "#### Custom functions with `.agg()`:\n",
        "\n",
        "You may pass user-defined functions, either as named functions or lambdas:\n",
        "\n",
        "```python\n",
        "df[\"salary\"].agg(lambda s: s.quantile(0.9))\n",
        "```\n",
        "\n",
        "### 4. Aggregating Multiple Columns at Once\n",
        "\n",
        "With `.agg()` you may specify different sets of statistics for each column:\n",
        "\n",
        "```python\n",
        "df.agg({\n",
        "    \"revenue\": [\"sum\", \"mean\"],\n",
        "    \"expenses\": [\"sum\", \"mean\"]\n",
        "})\n",
        "```\n",
        "\n",
        "Alternatively, aggregate over all columns:\n",
        "\n",
        "```python\n",
        "df[[\"revenue\", \"expenses\"]].agg([\"sum\", \"mean\"])\n",
        "```\n",
        "\n",
        "### 5. Cumulative Statistics\n",
        "\n",
        "Cumulative functions return running totals or extremes, revealing trends or thresholds over a sequence (often chronological).\n",
        "\n",
        "#### a) Cumulative Sum: `.cumsum()`\n",
        "\n",
        "Returns the running total:\n",
        "\n",
        "```python\n",
        "df[\"sales\"].cumsum()\n",
        "```\n",
        "\n",
        "#### b) Cumulative Maximum: `.cummax()`\n",
        "\n",
        "Tracks the largest value encountered up to each row:\n",
        "\n",
        "```python\n",
        "df[\"score\"].cummax()\n",
        "```\n",
        "\n",
        "#### c) Cumulative Minimum: `.cummin()`\n",
        "\n",
        "Tracks the smallest value encountered up to each row:\n",
        "\n",
        "```python\n",
        "df[\"score\"].cummin()\n",
        "```\n",
        "\n",
        "#### d) Cumulative Product: `.cumprod()`\n",
        "\n",
        "Returns the running product:\n",
        "\n",
        "```python\n",
        "df[\"growth_factor\"].cumprod()\n",
        "```\n",
        "\n",
        "All these methods operate column-wise by default and can be used on multiple columns:\n",
        "\n",
        "```python\n",
        "df[[\"sales\", \"profit\"]].cumsum()\n",
        "```\n",
        "\n",
        "### Best Practices and Further Considerations\n",
        "\n",
        "- Aggregations are most powerful when combined with **grouping** (see `groupby`) for stratified summaries.\n",
        "- For descriptive overviews, use `.describe()` for numeric columns, and `.value_counts()` for categorical data.\n",
        "- Always inspect the shape and structure of the output—especially when using `.agg()`—to avoid confusion with MultiIndex results.\n",
        "- When working with large datasets, cumulative functions can reveal seasonality, trends, or threshold events more transparently than simple statistics."
      ]
    },
    {
      "cell_type": "code",
      "execution_count": 25,
      "id": "99kOVkeTYCYi",
      "metadata": {
        "id": "99kOVkeTYCYi"
      },
      "outputs": [],
      "source": [
        "sales = pd.read_csv(\"data/sales_subset.csv\")"
      ]
    },
    {
      "cell_type": "code",
      "execution_count": 26,
      "id": "7T2SILr_rLNF",
      "metadata": {
        "colab": {
          "base_uri": "https://localhost:8080/",
          "height": 206
        },
        "id": "7T2SILr_rLNF",
        "outputId": "490b8afe-ceb5-4928-cf4b-6824914ceb12"
      },
      "outputs": [
        {
          "data": {
            "application/vnd.microsoft.datawrangler.viewer.v0+json": {
              "columns": [
                {
                  "name": "index",
                  "rawType": "int64",
                  "type": "integer"
                },
                {
                  "name": "Unnamed: 0",
                  "rawType": "int64",
                  "type": "integer"
                },
                {
                  "name": "store",
                  "rawType": "int64",
                  "type": "integer"
                },
                {
                  "name": "type",
                  "rawType": "object",
                  "type": "string"
                },
                {
                  "name": "department",
                  "rawType": "int64",
                  "type": "integer"
                },
                {
                  "name": "date",
                  "rawType": "object",
                  "type": "string"
                },
                {
                  "name": "weekly_sales",
                  "rawType": "float64",
                  "type": "float"
                },
                {
                  "name": "is_holiday",
                  "rawType": "bool",
                  "type": "boolean"
                },
                {
                  "name": "temperature_c",
                  "rawType": "float64",
                  "type": "float"
                },
                {
                  "name": "fuel_price_usd_per_l",
                  "rawType": "float64",
                  "type": "float"
                },
                {
                  "name": "unemployment",
                  "rawType": "float64",
                  "type": "float"
                }
              ],
              "ref": "9522e396-403a-4bda-b8e8-c48207349017",
              "rows": [
                [
                  "0",
                  "0",
                  "1",
                  "A",
                  "1",
                  "2010-02-05",
                  "24924.5",
                  "False",
                  "5.727777777777779",
                  "0.6794508388787476",
                  "8.106"
                ],
                [
                  "1",
                  "1",
                  "1",
                  "A",
                  "1",
                  "2010-03-05",
                  "21827.9",
                  "False",
                  "8.055555555555555",
                  "0.693451964252221",
                  "8.106"
                ],
                [
                  "2",
                  "2",
                  "1",
                  "A",
                  "1",
                  "2010-04-02",
                  "57258.43",
                  "False",
                  "16.81666666666667",
                  "0.718284148876872",
                  "7.808"
                ],
                [
                  "3",
                  "3",
                  "1",
                  "A",
                  "1",
                  "2010-05-07",
                  "17413.94",
                  "False",
                  "22.52777777777778",
                  "0.7489281213923986",
                  "7.808"
                ],
                [
                  "4",
                  "4",
                  "1",
                  "A",
                  "1",
                  "2010-06-04",
                  "17558.09",
                  "False",
                  "27.05",
                  "0.7145857384008601",
                  "7.808"
                ]
              ],
              "shape": {
                "columns": 10,
                "rows": 5
              }
            },
            "text/html": [
              "<div>\n",
              "<style scoped>\n",
              "    .dataframe tbody tr th:only-of-type {\n",
              "        vertical-align: middle;\n",
              "    }\n",
              "\n",
              "    .dataframe tbody tr th {\n",
              "        vertical-align: top;\n",
              "    }\n",
              "\n",
              "    .dataframe thead th {\n",
              "        text-align: right;\n",
              "    }\n",
              "</style>\n",
              "<table border=\"1\" class=\"dataframe\">\n",
              "  <thead>\n",
              "    <tr style=\"text-align: right;\">\n",
              "      <th></th>\n",
              "      <th>Unnamed: 0</th>\n",
              "      <th>store</th>\n",
              "      <th>type</th>\n",
              "      <th>department</th>\n",
              "      <th>date</th>\n",
              "      <th>weekly_sales</th>\n",
              "      <th>is_holiday</th>\n",
              "      <th>temperature_c</th>\n",
              "      <th>fuel_price_usd_per_l</th>\n",
              "      <th>unemployment</th>\n",
              "    </tr>\n",
              "  </thead>\n",
              "  <tbody>\n",
              "    <tr>\n",
              "      <th>0</th>\n",
              "      <td>0</td>\n",
              "      <td>1</td>\n",
              "      <td>A</td>\n",
              "      <td>1</td>\n",
              "      <td>2010-02-05</td>\n",
              "      <td>24924.50</td>\n",
              "      <td>False</td>\n",
              "      <td>5.727778</td>\n",
              "      <td>0.679451</td>\n",
              "      <td>8.106</td>\n",
              "    </tr>\n",
              "    <tr>\n",
              "      <th>1</th>\n",
              "      <td>1</td>\n",
              "      <td>1</td>\n",
              "      <td>A</td>\n",
              "      <td>1</td>\n",
              "      <td>2010-03-05</td>\n",
              "      <td>21827.90</td>\n",
              "      <td>False</td>\n",
              "      <td>8.055556</td>\n",
              "      <td>0.693452</td>\n",
              "      <td>8.106</td>\n",
              "    </tr>\n",
              "    <tr>\n",
              "      <th>2</th>\n",
              "      <td>2</td>\n",
              "      <td>1</td>\n",
              "      <td>A</td>\n",
              "      <td>1</td>\n",
              "      <td>2010-04-02</td>\n",
              "      <td>57258.43</td>\n",
              "      <td>False</td>\n",
              "      <td>16.816667</td>\n",
              "      <td>0.718284</td>\n",
              "      <td>7.808</td>\n",
              "    </tr>\n",
              "    <tr>\n",
              "      <th>3</th>\n",
              "      <td>3</td>\n",
              "      <td>1</td>\n",
              "      <td>A</td>\n",
              "      <td>1</td>\n",
              "      <td>2010-05-07</td>\n",
              "      <td>17413.94</td>\n",
              "      <td>False</td>\n",
              "      <td>22.527778</td>\n",
              "      <td>0.748928</td>\n",
              "      <td>7.808</td>\n",
              "    </tr>\n",
              "    <tr>\n",
              "      <th>4</th>\n",
              "      <td>4</td>\n",
              "      <td>1</td>\n",
              "      <td>A</td>\n",
              "      <td>1</td>\n",
              "      <td>2010-06-04</td>\n",
              "      <td>17558.09</td>\n",
              "      <td>False</td>\n",
              "      <td>27.050000</td>\n",
              "      <td>0.714586</td>\n",
              "      <td>7.808</td>\n",
              "    </tr>\n",
              "  </tbody>\n",
              "</table>\n",
              "</div>"
            ],
            "text/plain": [
              "   Unnamed: 0  store type  department        date  weekly_sales  is_holiday  \\\n",
              "0           0      1    A           1  2010-02-05      24924.50       False   \n",
              "1           1      1    A           1  2010-03-05      21827.90       False   \n",
              "2           2      1    A           1  2010-04-02      57258.43       False   \n",
              "3           3      1    A           1  2010-05-07      17413.94       False   \n",
              "4           4      1    A           1  2010-06-04      17558.09       False   \n",
              "\n",
              "   temperature_c  fuel_price_usd_per_l  unemployment  \n",
              "0       5.727778              0.679451         8.106  \n",
              "1       8.055556              0.693452         8.106  \n",
              "2      16.816667              0.718284         7.808  \n",
              "3      22.527778              0.748928         7.808  \n",
              "4      27.050000              0.714586         7.808  "
            ]
          },
          "execution_count": 26,
          "metadata": {},
          "output_type": "execute_result"
        }
      ],
      "source": [
        "# Explore your new DataFrame first by printing the first few rows of the sales DataFrame.\n",
        "sales.head()"
      ]
    },
    {
      "cell_type": "code",
      "execution_count": 27,
      "id": "B0ZPSMlqr0fF",
      "metadata": {
        "colab": {
          "base_uri": "https://localhost:8080/"
        },
        "id": "B0ZPSMlqr0fF",
        "outputId": "9e456749-5193-4a4d-e0d7-7ec7e9a83b71"
      },
      "outputs": [
        {
          "name": "stdout",
          "output_type": "stream",
          "text": [
            "<class 'pandas.core.frame.DataFrame'>\n",
            "RangeIndex: 10774 entries, 0 to 10773\n",
            "Data columns (total 10 columns):\n",
            " #   Column                Non-Null Count  Dtype  \n",
            "---  ------                --------------  -----  \n",
            " 0   Unnamed: 0            10774 non-null  int64  \n",
            " 1   store                 10774 non-null  int64  \n",
            " 2   type                  10774 non-null  object \n",
            " 3   department            10774 non-null  int64  \n",
            " 4   date                  10774 non-null  object \n",
            " 5   weekly_sales          10774 non-null  float64\n",
            " 6   is_holiday            10774 non-null  bool   \n",
            " 7   temperature_c         10774 non-null  float64\n",
            " 8   fuel_price_usd_per_l  10774 non-null  float64\n",
            " 9   unemployment          10774 non-null  float64\n",
            "dtypes: bool(1), float64(4), int64(3), object(2)\n",
            "memory usage: 768.2+ KB\n"
          ]
        }
      ],
      "source": [
        "# Print information about the columns in sales.\n",
        "sales.info()"
      ]
    },
    {
      "cell_type": "code",
      "execution_count": 28,
      "id": "-eZQATjVsBnI",
      "metadata": {
        "colab": {
          "base_uri": "https://localhost:8080/"
        },
        "id": "-eZQATjVsBnI",
        "outputId": "057a27ab-97b4-4c42-b3e1-743c452e69cd"
      },
      "outputs": [
        {
          "name": "stdout",
          "output_type": "stream",
          "text": [
            "23843.95014850566\n",
            "12049.064999999999\n"
          ]
        }
      ],
      "source": [
        "# Print the mean of the weekly_sales column.\n",
        "print(sales[\"weekly_sales\"].mean())\n",
        "\n",
        "# Print the median of the weekly_sales column.\n",
        "print(sales[\"weekly_sales\"].median())"
      ]
    },
    {
      "cell_type": "markdown",
      "id": "Y1Z0BFfLssy4",
      "metadata": {
        "id": "Y1Z0BFfLssy4"
      },
      "source": [
        "### Summarizing dates\n",
        "Summary statistics can also be calculated on date columns that have values with the data type `datetime64`. Some summary statistics — like mean — don't make a ton of sense on dates, but others are super helpful, for example, minimum and maximum, which allow you to see what time range your data covers."
      ]
    },
    {
      "cell_type": "code",
      "execution_count": 29,
      "id": "KD9K80WBsXAF",
      "metadata": {
        "colab": {
          "base_uri": "https://localhost:8080/"
        },
        "id": "KD9K80WBsXAF",
        "outputId": "ff119a49-7bff-40b1-b988-b9e65c643344"
      },
      "outputs": [
        {
          "name": "stdout",
          "output_type": "stream",
          "text": [
            "2012-10-26\n",
            "2010-02-05\n"
          ]
        }
      ],
      "source": [
        "# Print the maximum of the date column.\n",
        "print(sales[\"date\"].max())\n",
        "\n",
        "# Print the minimum of the date column.\n",
        "print(sales[\"date\"].min())"
      ]
    },
    {
      "cell_type": "markdown",
      "id": "TKfNHmq5tN4V",
      "metadata": {
        "id": "TKfNHmq5tN4V"
      },
      "source": [
        "### Efficient summaries\n",
        "While pandas and NumPy have tons of functions, sometimes, you may need a different function to summarize your data.\n",
        "\n",
        "The `.agg()` method allows you to apply your own custom functions to a DataFrame, as well as apply functions to more than one column of a DataFrame at once, making your aggregations super-efficient. For example,\n",
        "\n",
        "```\n",
        "df['column'].agg(function)\n",
        "```\n",
        "In the custom function for this exercise, \"IQR\" is short for inter-quartile range, which is the 75th percentile minus the 25th percentile. It's an alternative to standard deviation that is helpful if your data contains outliers."
      ]
    },
    {
      "cell_type": "code",
      "execution_count": 30,
      "id": "JcpZUYAitIdI",
      "metadata": {
        "colab": {
          "base_uri": "https://localhost:8080/"
        },
        "id": "JcpZUYAitIdI",
        "outputId": "6356e0d0-e535-43ed-b0d0-42b99434aa99"
      },
      "outputs": [
        {
          "data": {
            "text/plain": [
              "np.float64(16.583333333333336)"
            ]
          },
          "execution_count": 30,
          "metadata": {},
          "output_type": "execute_result"
        }
      ],
      "source": [
        "# A custom IQR function\n",
        "def iqr(column):\n",
        "    return column.quantile(0.75) - column.quantile(0.25)\n",
        "\n",
        "# Print IQR of the temperature_c column\n",
        "sales[\"temperature_c\"].agg(iqr)"
      ]
    },
    {
      "cell_type": "code",
      "execution_count": 31,
      "id": "4IFIK8aQtwWv",
      "metadata": {
        "colab": {
          "base_uri": "https://localhost:8080/"
        },
        "id": "4IFIK8aQtwWv",
        "outputId": "90d4d3ec-c5b1-43b5-efb9-ddcf79b81ab0"
      },
      "outputs": [
        {
          "data": {
            "application/vnd.microsoft.datawrangler.viewer.v0+json": {
              "columns": [
                {
                  "name": "index",
                  "rawType": "object",
                  "type": "string"
                },
                {
                  "name": "0",
                  "rawType": "float64",
                  "type": "float"
                }
              ],
              "ref": "9806c034-5e39-4202-a840-be3a1a2df5ad",
              "rows": [
                [
                  "temperature_c",
                  "16.583333333333336"
                ],
                [
                  "fuel_price_usd_per_l",
                  "0.07317569298966298"
                ],
                [
                  "unemployment",
                  "0.5649999999999995"
                ]
              ],
              "shape": {
                "columns": 1,
                "rows": 3
              }
            },
            "text/plain": [
              "temperature_c           16.583333\n",
              "fuel_price_usd_per_l     0.073176\n",
              "unemployment             0.565000\n",
              "dtype: float64"
            ]
          },
          "execution_count": 31,
          "metadata": {},
          "output_type": "execute_result"
        }
      ],
      "source": [
        "# Update the column selection to use the custom iqr function with .agg() to print the IQR of temperature_c, fuel_price_usd_per_l, and unemployment, in that order.\n",
        "sales[[\"temperature_c\", \"fuel_price_usd_per_l\", \"unemployment\"]].agg(iqr)"
      ]
    },
    {
      "cell_type": "code",
      "execution_count": 32,
      "id": "OUPrOLv3uRfM",
      "metadata": {
        "id": "OUPrOLv3uRfM"
      },
      "outputs": [],
      "source": [
        "# Subset the rows where store is 1 and department is 1, assigning to sales_1_1.\n",
        "sales_1_1 = sales[(sales[\"store\"] == 1) & (sales[\"department\"] == 1)]"
      ]
    },
    {
      "cell_type": "markdown",
      "id": "NaK_PKDovIOm",
      "metadata": {
        "id": "NaK_PKDovIOm"
      },
      "source": [
        "### Cumulative statistics\n",
        "Cumulative statistics can also be helpful in tracking summary statistics over time. In this exercise, you'll calculate the cumulative sum and cumulative max of a department's weekly sales, which will allow you to identify what the total sales were so far as well as what the highest weekly sales were so far."
      ]
    },
    {
      "cell_type": "code",
      "execution_count": 33,
      "id": "ZzHaqdipukvh",
      "metadata": {
        "colab": {
          "base_uri": "https://localhost:8080/"
        },
        "id": "ZzHaqdipukvh",
        "outputId": "2c30809c-e1f6-438a-acda-80fd22dad716"
      },
      "outputs": [
        {
          "name": "stdout",
          "output_type": "stream",
          "text": [
            "Sorted sales_1_1 shape: (12, 10)\n"
          ]
        }
      ],
      "source": [
        "# Sort the rows of sales_1_1 by the date column in ascending order.\n",
        "sales_1_1 = sales_1_1.sort_values(\"date\").copy()\n",
        "\n",
        "print(f\"Sorted sales_1_1 shape: {sales_1_1.shape}\")"
      ]
    },
    {
      "cell_type": "code",
      "execution_count": 34,
      "id": "Fe1OjfGEvhg4",
      "metadata": {
        "id": "Fe1OjfGEvhg4"
      },
      "outputs": [],
      "source": [
        "# Get the cumulative sum of weekly_sales and add it as a new column of sales_1_1 called cum_weekly_sales.\n",
        "sales_1_1[\"cum_weekly_sales\"] = sales_1_1[\"weekly_sales\"].cumsum()\n",
        "\n",
        "# Get the cumulative maximum of weekly_sales, and add it as a column called cum_max_sales.\n",
        "sales_1_1[\"cum_max_sales\"] = sales[\"weekly_sales\"].cummax()"
      ]
    },
    {
      "cell_type": "code",
      "execution_count": 35,
      "id": "i1IZO4CZwMxg",
      "metadata": {
        "colab": {
          "base_uri": "https://localhost:8080/",
          "height": 426
        },
        "id": "i1IZO4CZwMxg",
        "outputId": "9a5f526f-1add-40e2-dc87-1a15b8fb6360"
      },
      "outputs": [
        {
          "data": {
            "application/vnd.microsoft.datawrangler.viewer.v0+json": {
              "columns": [
                {
                  "name": "index",
                  "rawType": "int64",
                  "type": "integer"
                },
                {
                  "name": "date",
                  "rawType": "object",
                  "type": "string"
                },
                {
                  "name": "weekly_sales",
                  "rawType": "float64",
                  "type": "float"
                },
                {
                  "name": "cum_weekly_sales",
                  "rawType": "float64",
                  "type": "float"
                },
                {
                  "name": "cum_max_sales",
                  "rawType": "float64",
                  "type": "float"
                }
              ],
              "ref": "66f24449-6bb4-491c-91f8-ee479ec8b11a",
              "rows": [
                [
                  "0",
                  "2010-02-05",
                  "24924.5",
                  "24924.5",
                  "24924.5"
                ],
                [
                  "1",
                  "2010-03-05",
                  "21827.9",
                  "46752.4",
                  "24924.5"
                ],
                [
                  "2",
                  "2010-04-02",
                  "57258.43",
                  "104010.83",
                  "57258.43"
                ],
                [
                  "3",
                  "2010-05-07",
                  "17413.94",
                  "121424.77",
                  "57258.43"
                ],
                [
                  "4",
                  "2010-06-04",
                  "17558.09",
                  "138982.86000000002",
                  "57258.43"
                ],
                [
                  "5",
                  "2010-07-02",
                  "16333.14",
                  "155316.0",
                  "57258.43"
                ],
                [
                  "6",
                  "2010-08-06",
                  "17508.41",
                  "172824.41",
                  "57258.43"
                ],
                [
                  "7",
                  "2010-09-03",
                  "16241.78",
                  "189066.19",
                  "57258.43"
                ],
                [
                  "8",
                  "2010-10-01",
                  "20094.19",
                  "209160.38",
                  "57258.43"
                ],
                [
                  "9",
                  "2010-11-05",
                  "34238.88",
                  "243399.26",
                  "57258.43"
                ],
                [
                  "10",
                  "2010-12-03",
                  "22517.56",
                  "265916.82",
                  "57258.43"
                ],
                [
                  "11",
                  "2011-01-07",
                  "15984.24",
                  "281901.06",
                  "57258.43"
                ]
              ],
              "shape": {
                "columns": 4,
                "rows": 12
              }
            },
            "text/html": [
              "<div>\n",
              "<style scoped>\n",
              "    .dataframe tbody tr th:only-of-type {\n",
              "        vertical-align: middle;\n",
              "    }\n",
              "\n",
              "    .dataframe tbody tr th {\n",
              "        vertical-align: top;\n",
              "    }\n",
              "\n",
              "    .dataframe thead th {\n",
              "        text-align: right;\n",
              "    }\n",
              "</style>\n",
              "<table border=\"1\" class=\"dataframe\">\n",
              "  <thead>\n",
              "    <tr style=\"text-align: right;\">\n",
              "      <th></th>\n",
              "      <th>date</th>\n",
              "      <th>weekly_sales</th>\n",
              "      <th>cum_weekly_sales</th>\n",
              "      <th>cum_max_sales</th>\n",
              "    </tr>\n",
              "  </thead>\n",
              "  <tbody>\n",
              "    <tr>\n",
              "      <th>0</th>\n",
              "      <td>2010-02-05</td>\n",
              "      <td>24924.50</td>\n",
              "      <td>24924.50</td>\n",
              "      <td>24924.50</td>\n",
              "    </tr>\n",
              "    <tr>\n",
              "      <th>1</th>\n",
              "      <td>2010-03-05</td>\n",
              "      <td>21827.90</td>\n",
              "      <td>46752.40</td>\n",
              "      <td>24924.50</td>\n",
              "    </tr>\n",
              "    <tr>\n",
              "      <th>2</th>\n",
              "      <td>2010-04-02</td>\n",
              "      <td>57258.43</td>\n",
              "      <td>104010.83</td>\n",
              "      <td>57258.43</td>\n",
              "    </tr>\n",
              "    <tr>\n",
              "      <th>3</th>\n",
              "      <td>2010-05-07</td>\n",
              "      <td>17413.94</td>\n",
              "      <td>121424.77</td>\n",
              "      <td>57258.43</td>\n",
              "    </tr>\n",
              "    <tr>\n",
              "      <th>4</th>\n",
              "      <td>2010-06-04</td>\n",
              "      <td>17558.09</td>\n",
              "      <td>138982.86</td>\n",
              "      <td>57258.43</td>\n",
              "    </tr>\n",
              "    <tr>\n",
              "      <th>5</th>\n",
              "      <td>2010-07-02</td>\n",
              "      <td>16333.14</td>\n",
              "      <td>155316.00</td>\n",
              "      <td>57258.43</td>\n",
              "    </tr>\n",
              "    <tr>\n",
              "      <th>6</th>\n",
              "      <td>2010-08-06</td>\n",
              "      <td>17508.41</td>\n",
              "      <td>172824.41</td>\n",
              "      <td>57258.43</td>\n",
              "    </tr>\n",
              "    <tr>\n",
              "      <th>7</th>\n",
              "      <td>2010-09-03</td>\n",
              "      <td>16241.78</td>\n",
              "      <td>189066.19</td>\n",
              "      <td>57258.43</td>\n",
              "    </tr>\n",
              "    <tr>\n",
              "      <th>8</th>\n",
              "      <td>2010-10-01</td>\n",
              "      <td>20094.19</td>\n",
              "      <td>209160.38</td>\n",
              "      <td>57258.43</td>\n",
              "    </tr>\n",
              "    <tr>\n",
              "      <th>9</th>\n",
              "      <td>2010-11-05</td>\n",
              "      <td>34238.88</td>\n",
              "      <td>243399.26</td>\n",
              "      <td>57258.43</td>\n",
              "    </tr>\n",
              "    <tr>\n",
              "      <th>10</th>\n",
              "      <td>2010-12-03</td>\n",
              "      <td>22517.56</td>\n",
              "      <td>265916.82</td>\n",
              "      <td>57258.43</td>\n",
              "    </tr>\n",
              "    <tr>\n",
              "      <th>11</th>\n",
              "      <td>2011-01-07</td>\n",
              "      <td>15984.24</td>\n",
              "      <td>281901.06</td>\n",
              "      <td>57258.43</td>\n",
              "    </tr>\n",
              "  </tbody>\n",
              "</table>\n",
              "</div>"
            ],
            "text/plain": [
              "          date  weekly_sales  cum_weekly_sales  cum_max_sales\n",
              "0   2010-02-05      24924.50          24924.50       24924.50\n",
              "1   2010-03-05      21827.90          46752.40       24924.50\n",
              "2   2010-04-02      57258.43         104010.83       57258.43\n",
              "3   2010-05-07      17413.94         121424.77       57258.43\n",
              "4   2010-06-04      17558.09         138982.86       57258.43\n",
              "5   2010-07-02      16333.14         155316.00       57258.43\n",
              "6   2010-08-06      17508.41         172824.41       57258.43\n",
              "7   2010-09-03      16241.78         189066.19       57258.43\n",
              "8   2010-10-01      20094.19         209160.38       57258.43\n",
              "9   2010-11-05      34238.88         243399.26       57258.43\n",
              "10  2010-12-03      22517.56         265916.82       57258.43\n",
              "11  2011-01-07      15984.24         281901.06       57258.43"
            ]
          },
          "execution_count": 35,
          "metadata": {},
          "output_type": "execute_result"
        }
      ],
      "source": [
        "# See the columns you calculated\n",
        "sales_1_1[[\"date\", \"weekly_sales\", \"cum_weekly_sales\", \"cum_max_sales\"]]"
      ]
    },
    {
      "cell_type": "markdown",
      "id": "e3c1b3a8",
      "metadata": {
        "id": "e3c1b3a8"
      },
      "source": [
        "## Counting\n",
        "\n",
        "Counting is an elemental operation in data exploration, supporting tasks such as deduplication, frequency analysis, and the estimation of proportions or rates. Accurate counting is fundamental to understanding dataset structure, identifying irregularities, and producing summary statistics for categorical and discrete variables. Pandas provides robust, highly-optimised methods for these operations.\n",
        "\n",
        "### 1. Removing Duplicates: `drop_duplicates(subset=...)`\n",
        "\n",
        "Duplicate entries can bias frequency analyses and inflate summary statistics. Use `.drop_duplicates()` to remove repeated rows.\n",
        "\n",
        "- **Basic usage:**\n",
        "\n",
        "```python\n",
        "df_unique = df.drop_duplicates()\n",
        "```\n",
        "\n",
        "Removes fully duplicated rows.\n",
        "\n",
        "- **Deduplicate by specific columns:**\n",
        "\n",
        "```python\n",
        "df_unique = df.drop_duplicates(subset=[\"name\", \"birthdate\"])\n",
        "```\n",
        "\n",
        "This retains only the first occurrence of each unique combination of `name` and `birthdate`, removing any subsequent duplicates on these fields.\n",
        "\n",
        "**Note:** By default, `.drop_duplicates()` preserves the first occurrence; set `keep='last'` to retain the last.\n",
        "\n",
        "### 2. Counting Unique Values: `value_counts()`\n",
        "\n",
        "The `.value_counts()` method is central for frequency analysis of a Series (i.e., a single column).\n",
        "\n",
        "#### Basic frequency count:\n",
        "\n",
        "```python\n",
        "df[\"city\"].value_counts()\n",
        "```\n",
        "\n",
        "Returns a Series with unique values in `\"city\"` as the index, and their frequencies as values, sorted in descending order by default.\n",
        "\n",
        "#### Sorting Frequencies: `sort=True/False`\n",
        "\n",
        "By default, `.value_counts()` sorts results in descending order of frequency (`sort=True`).\n",
        "\n",
        "- **Sort in ascending order of frequency:**\n",
        "\n",
        "```python\n",
        "df[\"city\"].value_counts(ascending=True)\n",
        "```\n",
        "\n",
        "- **Disable sorting (preserve appearance order):**\n",
        "\n",
        "```python\n",
        "df[\"city\"].value_counts(sort=False)\n",
        "```\n",
        "\n",
        "#### Proportional Frequencies: `normalize=True`\n",
        "\n",
        "For proportions (relative frequencies), set `normalize=True`:\n",
        "\n",
        "```python\n",
        "df[\"city\"].value_counts(normalize=True)\n",
        "```\n",
        "\n",
        "Each value in the output will be the proportion of total observations (ranging from 0 to 1). This is essential for estimating prevalence, market shares, or demographic rates.\n",
        "\n",
        "- **Combine options:**\n",
        "\n",
        "```python\n",
        "df[\"city\"].value_counts(normalize=True, ascending=True)\n",
        "```\n",
        "### Best Practices and Considerations\n",
        "\n",
        "- Use `drop_duplicates()` before frequency counts if repeated rows represent accidental duplication.\n",
        "- `.value_counts()` works only on Series; for DataFrames, use `df[\"column\"].value_counts()`.\n",
        "- For more than one column, use `.groupby()` in conjunction with `.size()` for multi-dimensional frequency tables.\n",
        "- Frequencies (absolute and proportional) are crucial in EDA, quality assurance, and reporting for both categorical and discrete numerical variables.\n"
      ]
    },
    {
      "cell_type": "code",
      "execution_count": 36,
      "id": "ace197fa",
      "metadata": {
        "colab": {
          "base_uri": "https://localhost:8080/",
          "height": 206
        },
        "id": "ace197fa",
        "outputId": "69373b96-b74d-4100-b192-435c259df2be"
      },
      "outputs": [
        {
          "name": "stdout",
          "output_type": "stream",
          "text": [
            "      Unnamed: 0  store type  department        date  weekly_sales  \\\n",
            "0              0      1    A           1  2010-02-05      24924.50   \n",
            "901          901      2    A           1  2010-02-05      35034.06   \n",
            "1798        1798      4    A           1  2010-02-05      38724.42   \n",
            "2699        2699      6    A           1  2010-02-05      25619.00   \n",
            "3593        3593     10    B           1  2010-02-05      40212.84   \n",
            "\n",
            "      is_holiday  temperature_c  fuel_price_usd_per_l  unemployment  \n",
            "0          False       5.727778              0.679451         8.106  \n",
            "901        False       4.550000              0.679451         8.324  \n",
            "1798       False       6.533333              0.686319         8.623  \n",
            "2699       False       4.683333              0.679451         7.259  \n",
            "3593       False      12.411111              0.782478         9.765  \n"
          ]
        }
      ],
      "source": [
        "# Remove rows of sales with duplicate pairs of store and type and save as store_types and print the head.\n",
        "store_types = sales.drop_duplicates(subset=[\"store\", \"type\"])\n",
        "\n",
        "print(store_types.head())"
      ]
    },
    {
      "cell_type": "code",
      "execution_count": 37,
      "id": "9304bb95",
      "metadata": {
        "colab": {
          "base_uri": "https://localhost:8080/",
          "height": 206
        },
        "id": "9304bb95",
        "outputId": "e58ba0d4-291d-4d06-ab68-dc4d3b2eff60"
      },
      "outputs": [
        {
          "data": {
            "application/vnd.microsoft.datawrangler.viewer.v0+json": {
              "columns": [
                {
                  "name": "index",
                  "rawType": "int64",
                  "type": "integer"
                },
                {
                  "name": "Unnamed: 0",
                  "rawType": "int64",
                  "type": "integer"
                },
                {
                  "name": "store",
                  "rawType": "int64",
                  "type": "integer"
                },
                {
                  "name": "type",
                  "rawType": "object",
                  "type": "string"
                },
                {
                  "name": "department",
                  "rawType": "int64",
                  "type": "integer"
                },
                {
                  "name": "date",
                  "rawType": "object",
                  "type": "string"
                },
                {
                  "name": "weekly_sales",
                  "rawType": "float64",
                  "type": "float"
                },
                {
                  "name": "is_holiday",
                  "rawType": "bool",
                  "type": "boolean"
                },
                {
                  "name": "temperature_c",
                  "rawType": "float64",
                  "type": "float"
                },
                {
                  "name": "fuel_price_usd_per_l",
                  "rawType": "float64",
                  "type": "float"
                },
                {
                  "name": "unemployment",
                  "rawType": "float64",
                  "type": "float"
                }
              ],
              "ref": "c04d055a-bcc5-4cf2-ad62-05bd85ab692a",
              "rows": [
                [
                  "0",
                  "0",
                  "1",
                  "A",
                  "1",
                  "2010-02-05",
                  "24924.5",
                  "False",
                  "5.727777777777779",
                  "0.6794508388787476",
                  "8.106"
                ],
                [
                  "12",
                  "12",
                  "1",
                  "A",
                  "2",
                  "2010-02-05",
                  "50605.27",
                  "False",
                  "5.727777777777779",
                  "0.6794508388787476",
                  "8.106"
                ],
                [
                  "24",
                  "24",
                  "1",
                  "A",
                  "3",
                  "2010-02-05",
                  "13740.12",
                  "False",
                  "5.727777777777779",
                  "0.6794508388787476",
                  "8.106"
                ],
                [
                  "36",
                  "36",
                  "1",
                  "A",
                  "4",
                  "2010-02-05",
                  "39954.04",
                  "False",
                  "5.727777777777779",
                  "0.6794508388787476",
                  "8.106"
                ],
                [
                  "48",
                  "48",
                  "1",
                  "A",
                  "5",
                  "2010-02-05",
                  "32229.38",
                  "False",
                  "5.727777777777779",
                  "0.6794508388787476",
                  "8.106"
                ]
              ],
              "shape": {
                "columns": 10,
                "rows": 5
              }
            },
            "text/html": [
              "<div>\n",
              "<style scoped>\n",
              "    .dataframe tbody tr th:only-of-type {\n",
              "        vertical-align: middle;\n",
              "    }\n",
              "\n",
              "    .dataframe tbody tr th {\n",
              "        vertical-align: top;\n",
              "    }\n",
              "\n",
              "    .dataframe thead th {\n",
              "        text-align: right;\n",
              "    }\n",
              "</style>\n",
              "<table border=\"1\" class=\"dataframe\">\n",
              "  <thead>\n",
              "    <tr style=\"text-align: right;\">\n",
              "      <th></th>\n",
              "      <th>Unnamed: 0</th>\n",
              "      <th>store</th>\n",
              "      <th>type</th>\n",
              "      <th>department</th>\n",
              "      <th>date</th>\n",
              "      <th>weekly_sales</th>\n",
              "      <th>is_holiday</th>\n",
              "      <th>temperature_c</th>\n",
              "      <th>fuel_price_usd_per_l</th>\n",
              "      <th>unemployment</th>\n",
              "    </tr>\n",
              "  </thead>\n",
              "  <tbody>\n",
              "    <tr>\n",
              "      <th>0</th>\n",
              "      <td>0</td>\n",
              "      <td>1</td>\n",
              "      <td>A</td>\n",
              "      <td>1</td>\n",
              "      <td>2010-02-05</td>\n",
              "      <td>24924.50</td>\n",
              "      <td>False</td>\n",
              "      <td>5.727778</td>\n",
              "      <td>0.679451</td>\n",
              "      <td>8.106</td>\n",
              "    </tr>\n",
              "    <tr>\n",
              "      <th>12</th>\n",
              "      <td>12</td>\n",
              "      <td>1</td>\n",
              "      <td>A</td>\n",
              "      <td>2</td>\n",
              "      <td>2010-02-05</td>\n",
              "      <td>50605.27</td>\n",
              "      <td>False</td>\n",
              "      <td>5.727778</td>\n",
              "      <td>0.679451</td>\n",
              "      <td>8.106</td>\n",
              "    </tr>\n",
              "    <tr>\n",
              "      <th>24</th>\n",
              "      <td>24</td>\n",
              "      <td>1</td>\n",
              "      <td>A</td>\n",
              "      <td>3</td>\n",
              "      <td>2010-02-05</td>\n",
              "      <td>13740.12</td>\n",
              "      <td>False</td>\n",
              "      <td>5.727778</td>\n",
              "      <td>0.679451</td>\n",
              "      <td>8.106</td>\n",
              "    </tr>\n",
              "    <tr>\n",
              "      <th>36</th>\n",
              "      <td>36</td>\n",
              "      <td>1</td>\n",
              "      <td>A</td>\n",
              "      <td>4</td>\n",
              "      <td>2010-02-05</td>\n",
              "      <td>39954.04</td>\n",
              "      <td>False</td>\n",
              "      <td>5.727778</td>\n",
              "      <td>0.679451</td>\n",
              "      <td>8.106</td>\n",
              "    </tr>\n",
              "    <tr>\n",
              "      <th>48</th>\n",
              "      <td>48</td>\n",
              "      <td>1</td>\n",
              "      <td>A</td>\n",
              "      <td>5</td>\n",
              "      <td>2010-02-05</td>\n",
              "      <td>32229.38</td>\n",
              "      <td>False</td>\n",
              "      <td>5.727778</td>\n",
              "      <td>0.679451</td>\n",
              "      <td>8.106</td>\n",
              "    </tr>\n",
              "  </tbody>\n",
              "</table>\n",
              "</div>"
            ],
            "text/plain": [
              "    Unnamed: 0  store type  department        date  weekly_sales  is_holiday  \\\n",
              "0            0      1    A           1  2010-02-05      24924.50       False   \n",
              "12          12      1    A           2  2010-02-05      50605.27       False   \n",
              "24          24      1    A           3  2010-02-05      13740.12       False   \n",
              "36          36      1    A           4  2010-02-05      39954.04       False   \n",
              "48          48      1    A           5  2010-02-05      32229.38       False   \n",
              "\n",
              "    temperature_c  fuel_price_usd_per_l  unemployment  \n",
              "0        5.727778              0.679451         8.106  \n",
              "12       5.727778              0.679451         8.106  \n",
              "24       5.727778              0.679451         8.106  \n",
              "36       5.727778              0.679451         8.106  \n",
              "48       5.727778              0.679451         8.106  "
            ]
          },
          "execution_count": 37,
          "metadata": {},
          "output_type": "execute_result"
        }
      ],
      "source": [
        "# Remove rows of sales with duplicate pairs of store and department and save as store_depts and print the head.\n",
        "store_depts = sales.drop_duplicates(subset=[\"store\", \"department\"])\n",
        "\n",
        "store_depts.head()"
      ]
    },
    {
      "cell_type": "code",
      "execution_count": 38,
      "id": "22593419",
      "metadata": {
        "colab": {
          "base_uri": "https://localhost:8080/"
        },
        "id": "22593419",
        "outputId": "8a2e0eeb-c654-4017-825d-a2328be8757d"
      },
      "outputs": [
        {
          "name": "stdout",
          "output_type": "stream",
          "text": [
            "498     2010-09-10\n",
            "691     2011-11-25\n",
            "2315    2010-02-12\n",
            "6735    2012-09-07\n",
            "6810    2010-12-31\n",
            "6815    2012-02-10\n",
            "6820    2011-09-09\n",
            "Name: date, dtype: object\n"
          ]
        }
      ],
      "source": [
        "# Subset the rows that are holiday weeks using the is_holiday column, and drop the duplicate dates, saving as holiday_dates.\n",
        "holiday_dates = sales[sales[\"is_holiday\"] == True].drop_duplicates(subset=[\"date\"])\n",
        "\n",
        "# Print date col of holiday_dates\n",
        "print(holiday_dates[\"date\"])"
      ]
    },
    {
      "cell_type": "code",
      "execution_count": 39,
      "id": "4a5338da",
      "metadata": {
        "colab": {
          "base_uri": "https://localhost:8080/"
        },
        "id": "4a5338da",
        "outputId": "3a4c1436-c83a-4dbe-b5e4-40916eaeccd6"
      },
      "outputs": [
        {
          "data": {
            "application/vnd.microsoft.datawrangler.viewer.v0+json": {
              "columns": [
                {
                  "name": "('Unnamed: 0', 'store', 'type', 'department', 'date', 'weekly_sales', 'is_holiday', 'temperature_c', 'fuel_price_usd_per_l', 'unemployment')",
                  "rawType": "object",
                  "type": "unknown"
                },
                {
                  "name": "count",
                  "rawType": "int64",
                  "type": "integer"
                }
              ],
              "ref": "a7ed7552-2f8d-4863-9833-02eb8ea6c970",
              "rows": [
                [
                  "(np.int64(0), np.int64(1), 'A', np.int64(1), '2010-02-05', np.float64(24924.5), np.False_, np.float64(5.727777777777779), np.float64(0.6794508388787476), np.float64(8.106))",
                  "1"
                ],
                [
                  "(np.int64(901), np.int64(2), 'A', np.int64(1), '2010-02-05', np.float64(35034.06), np.False_, np.float64(4.549999999999999), np.float64(0.6794508388787476), np.float64(8.324))",
                  "1"
                ],
                [
                  "(np.int64(1798), np.int64(4), 'A', np.int64(1), '2010-02-05', np.float64(38724.42), np.False_, np.float64(6.533333333333332), np.float64(0.6863193154770554), np.float64(8.623))",
                  "1"
                ],
                [
                  "(np.int64(2699), np.int64(6), 'A', np.int64(1), '2010-02-05', np.float64(25619.0), np.False_, np.float64(4.683333333333334), np.float64(0.6794508388787476), np.float64(7.258999999999999))",
                  "1"
                ],
                [
                  "(np.int64(3593), np.int64(10), 'B', np.int64(1), '2010-02-05', np.float64(40212.84), np.False_, np.float64(12.411111111111111), np.float64(0.7824779878533632), np.float64(9.765))",
                  "1"
                ],
                [
                  "(np.int64(4495), np.int64(13), 'A', np.int64(1), '2010-02-05', np.float64(46761.9), np.False_, np.float64(-0.2611111111111104), np.float64(0.7042830235033987), np.float64(8.316))",
                  "1"
                ],
                [
                  "(np.int64(5408), np.int64(14), 'A', np.int64(1), '2010-02-05', np.float64(32842.31), np.False_, np.float64(-2.605555555555556), np.float64(0.7354553403726412), np.float64(8.992))",
                  "1"
                ],
                [
                  "(np.int64(6293), np.int64(19), 'A', np.int64(1), '2010-02-05', np.float64(21500.58), np.False_, np.float64(-6.133333333333333), np.float64(0.7803646104384993), np.float64(8.35))",
                  "1"
                ],
                [
                  "(np.int64(7199), np.int64(20), 'A', np.int64(1), '2010-02-05', np.float64(46021.21), np.False_, np.float64(-3.377777777777777), np.float64(0.7354553403726412), np.float64(8.187000000000001))",
                  "1"
                ],
                [
                  "(np.int64(8109), np.int64(27), 'A', np.int64(1), '2010-02-05', np.float64(32313.79), np.False_, np.float64(-2.6722222222222216), np.float64(0.7803646104384993), np.float64(8.237))",
                  "1"
                ],
                [
                  "(np.int64(9009), np.int64(31), 'A', np.int64(1), '2010-02-05', np.float64(18187.71), np.False_, np.float64(3.916666666666665), np.float64(0.6794508388787476), np.float64(8.324))",
                  "1"
                ],
                [
                  "(np.int64(9899), np.int64(39), 'A', np.int64(1), '2010-02-05', np.float64(21244.5), np.False_, np.float64(6.833333333333332), np.float64(0.6794508388787476), np.float64(8.554))",
                  "1"
                ]
              ],
              "shape": {
                "columns": 1,
                "rows": 12
              }
            },
            "text/plain": [
              "Unnamed: 0  store  type  department  date        weekly_sales  is_holiday  temperature_c  fuel_price_usd_per_l  unemployment\n",
              "0           1      A     1           2010-02-05  24924.50      False        5.727778      0.679451              8.106           1\n",
              "901         2      A     1           2010-02-05  35034.06      False        4.550000      0.679451              8.324           1\n",
              "1798        4      A     1           2010-02-05  38724.42      False        6.533333      0.686319              8.623           1\n",
              "2699        6      A     1           2010-02-05  25619.00      False        4.683333      0.679451              7.259           1\n",
              "3593        10     B     1           2010-02-05  40212.84      False        12.411111     0.782478              9.765           1\n",
              "4495        13     A     1           2010-02-05  46761.90      False       -0.261111      0.704283              8.316           1\n",
              "5408        14     A     1           2010-02-05  32842.31      False       -2.605556      0.735455              8.992           1\n",
              "6293        19     A     1           2010-02-05  21500.58      False       -6.133333      0.780365              8.350           1\n",
              "7199        20     A     1           2010-02-05  46021.21      False       -3.377778      0.735455              8.187           1\n",
              "8109        27     A     1           2010-02-05  32313.79      False       -2.672222      0.780365              8.237           1\n",
              "9009        31     A     1           2010-02-05  18187.71      False        3.916667      0.679451              8.324           1\n",
              "9899        39     A     1           2010-02-05  21244.50      False        6.833333      0.679451              8.554           1\n",
              "Name: count, dtype: int64"
            ]
          },
          "execution_count": 39,
          "metadata": {},
          "output_type": "execute_result"
        }
      ],
      "source": [
        "# Count the number of stores of each store type in store_types.\n",
        "store_counts = store_types.value_counts()\n",
        "\n",
        "store_counts"
      ]
    },
    {
      "cell_type": "code",
      "execution_count": 40,
      "id": "040f9d8f",
      "metadata": {
        "colab": {
          "base_uri": "https://localhost:8080/",
          "height": 492
        },
        "id": "040f9d8f",
        "outputId": "a227e827-35b9-46cf-cdbc-f59ad6bb9105"
      },
      "outputs": [
        {
          "data": {
            "application/vnd.microsoft.datawrangler.viewer.v0+json": {
              "columns": [
                {
                  "name": "('Unnamed: 0', 'store', 'type', 'department', 'date', 'weekly_sales', 'is_holiday', 'temperature_c', 'fuel_price_usd_per_l', 'unemployment')",
                  "rawType": "object",
                  "type": "unknown"
                },
                {
                  "name": "proportion",
                  "rawType": "float64",
                  "type": "float"
                }
              ],
              "ref": "ff36622b-101d-41fd-9c6d-56e83315fd84",
              "rows": [
                [
                  "(np.int64(0), np.int64(1), 'A', np.int64(1), '2010-02-05', np.float64(24924.5), np.False_, np.float64(5.727777777777779), np.float64(0.6794508388787476), np.float64(8.106))",
                  "0.08333333333333333"
                ],
                [
                  "(np.int64(901), np.int64(2), 'A', np.int64(1), '2010-02-05', np.float64(35034.06), np.False_, np.float64(4.549999999999999), np.float64(0.6794508388787476), np.float64(8.324))",
                  "0.08333333333333333"
                ],
                [
                  "(np.int64(1798), np.int64(4), 'A', np.int64(1), '2010-02-05', np.float64(38724.42), np.False_, np.float64(6.533333333333332), np.float64(0.6863193154770554), np.float64(8.623))",
                  "0.08333333333333333"
                ],
                [
                  "(np.int64(2699), np.int64(6), 'A', np.int64(1), '2010-02-05', np.float64(25619.0), np.False_, np.float64(4.683333333333334), np.float64(0.6794508388787476), np.float64(7.258999999999999))",
                  "0.08333333333333333"
                ],
                [
                  "(np.int64(3593), np.int64(10), 'B', np.int64(1), '2010-02-05', np.float64(40212.84), np.False_, np.float64(12.411111111111111), np.float64(0.7824779878533632), np.float64(9.765))",
                  "0.08333333333333333"
                ],
                [
                  "(np.int64(4495), np.int64(13), 'A', np.int64(1), '2010-02-05', np.float64(46761.9), np.False_, np.float64(-0.2611111111111104), np.float64(0.7042830235033987), np.float64(8.316))",
                  "0.08333333333333333"
                ],
                [
                  "(np.int64(5408), np.int64(14), 'A', np.int64(1), '2010-02-05', np.float64(32842.31), np.False_, np.float64(-2.605555555555556), np.float64(0.7354553403726412), np.float64(8.992))",
                  "0.08333333333333333"
                ],
                [
                  "(np.int64(6293), np.int64(19), 'A', np.int64(1), '2010-02-05', np.float64(21500.58), np.False_, np.float64(-6.133333333333333), np.float64(0.7803646104384993), np.float64(8.35))",
                  "0.08333333333333333"
                ],
                [
                  "(np.int64(7199), np.int64(20), 'A', np.int64(1), '2010-02-05', np.float64(46021.21), np.False_, np.float64(-3.377777777777777), np.float64(0.7354553403726412), np.float64(8.187000000000001))",
                  "0.08333333333333333"
                ],
                [
                  "(np.int64(8109), np.int64(27), 'A', np.int64(1), '2010-02-05', np.float64(32313.79), np.False_, np.float64(-2.6722222222222216), np.float64(0.7803646104384993), np.float64(8.237))",
                  "0.08333333333333333"
                ],
                [
                  "(np.int64(9009), np.int64(31), 'A', np.int64(1), '2010-02-05', np.float64(18187.71), np.False_, np.float64(3.916666666666665), np.float64(0.6794508388787476), np.float64(8.324))",
                  "0.08333333333333333"
                ],
                [
                  "(np.int64(9899), np.int64(39), 'A', np.int64(1), '2010-02-05', np.float64(21244.5), np.False_, np.float64(6.833333333333332), np.float64(0.6794508388787476), np.float64(8.554))",
                  "0.08333333333333333"
                ]
              ],
              "shape": {
                "columns": 1,
                "rows": 12
              }
            },
            "text/plain": [
              "Unnamed: 0  store  type  department  date        weekly_sales  is_holiday  temperature_c  fuel_price_usd_per_l  unemployment\n",
              "0           1      A     1           2010-02-05  24924.50      False        5.727778      0.679451              8.106           0.083333\n",
              "901         2      A     1           2010-02-05  35034.06      False        4.550000      0.679451              8.324           0.083333\n",
              "1798        4      A     1           2010-02-05  38724.42      False        6.533333      0.686319              8.623           0.083333\n",
              "2699        6      A     1           2010-02-05  25619.00      False        4.683333      0.679451              7.259           0.083333\n",
              "3593        10     B     1           2010-02-05  40212.84      False        12.411111     0.782478              9.765           0.083333\n",
              "4495        13     A     1           2010-02-05  46761.90      False       -0.261111      0.704283              8.316           0.083333\n",
              "5408        14     A     1           2010-02-05  32842.31      False       -2.605556      0.735455              8.992           0.083333\n",
              "6293        19     A     1           2010-02-05  21500.58      False       -6.133333      0.780365              8.350           0.083333\n",
              "7199        20     A     1           2010-02-05  46021.21      False       -3.377778      0.735455              8.187           0.083333\n",
              "8109        27     A     1           2010-02-05  32313.79      False       -2.672222      0.780365              8.237           0.083333\n",
              "9009        31     A     1           2010-02-05  18187.71      False        3.916667      0.679451              8.324           0.083333\n",
              "9899        39     A     1           2010-02-05  21244.50      False        6.833333      0.679451              8.554           0.083333\n",
              "Name: proportion, dtype: float64"
            ]
          },
          "execution_count": 40,
          "metadata": {},
          "output_type": "execute_result"
        }
      ],
      "source": [
        "# Count the proportion of stores of each store type in store_types.\n",
        "store_props = store_types.value_counts(normalize=True)\n",
        "\n",
        "store_props"
      ]
    },
    {
      "cell_type": "code",
      "execution_count": 41,
      "id": "c38cf784",
      "metadata": {
        "colab": {
          "base_uri": "https://localhost:8080/",
          "height": 490
        },
        "id": "c38cf784",
        "outputId": "f677526c-8756-44b9-ac30-5e7415e9d75c"
      },
      "outputs": [
        {
          "name": "stdout",
          "output_type": "stream",
          "text": [
            "department\n",
            "1     12\n",
            "2     12\n",
            "3     12\n",
            "4     12\n",
            "5     12\n",
            "      ..\n",
            "37    10\n",
            "48     8\n",
            "50     6\n",
            "39     4\n",
            "43     2\n",
            "Name: count, Length: 80, dtype: int64\n"
          ]
        }
      ],
      "source": [
        "# Count the number of stores of each department in store_depts, sorting the counts in descending order.\n",
        "dept_counts_sorted = store_depts[\"department\"].value_counts(sort=True)\n",
        "\n",
        "print(dept_counts_sorted)"
      ]
    },
    {
      "cell_type": "code",
      "execution_count": 42,
      "id": "e9219343",
      "metadata": {
        "colab": {
          "base_uri": "https://localhost:8080/",
          "height": 490
        },
        "id": "e9219343",
        "outputId": "fb12c384-6ec8-41ef-a485-a879116426a0"
      },
      "outputs": [
        {
          "data": {
            "application/vnd.microsoft.datawrangler.viewer.v0+json": {
              "columns": [
                {
                  "name": "department",
                  "rawType": "int64",
                  "type": "integer"
                },
                {
                  "name": "proportion",
                  "rawType": "float64",
                  "type": "float"
                }
              ],
              "ref": "f8589361-14bc-4770-ab4f-9c91c6db2677",
              "rows": [
                [
                  "1",
                  "0.0129"
                ],
                [
                  "2",
                  "0.0129"
                ],
                [
                  "3",
                  "0.0129"
                ],
                [
                  "4",
                  "0.0129"
                ],
                [
                  "5",
                  "0.0129"
                ],
                [
                  "6",
                  "0.0129"
                ],
                [
                  "7",
                  "0.0129"
                ],
                [
                  "8",
                  "0.0129"
                ],
                [
                  "9",
                  "0.0129"
                ],
                [
                  "10",
                  "0.0129"
                ],
                [
                  "11",
                  "0.0129"
                ],
                [
                  "12",
                  "0.0129"
                ],
                [
                  "13",
                  "0.0129"
                ],
                [
                  "14",
                  "0.0129"
                ],
                [
                  "16",
                  "0.0129"
                ],
                [
                  "17",
                  "0.0129"
                ],
                [
                  "18",
                  "0.0129"
                ],
                [
                  "19",
                  "0.0129"
                ],
                [
                  "20",
                  "0.0129"
                ],
                [
                  "21",
                  "0.0129"
                ],
                [
                  "22",
                  "0.0129"
                ],
                [
                  "23",
                  "0.0129"
                ],
                [
                  "24",
                  "0.0129"
                ],
                [
                  "25",
                  "0.0129"
                ],
                [
                  "26",
                  "0.0129"
                ],
                [
                  "27",
                  "0.0129"
                ],
                [
                  "28",
                  "0.0129"
                ],
                [
                  "29",
                  "0.0129"
                ],
                [
                  "30",
                  "0.0129"
                ],
                [
                  "31",
                  "0.0129"
                ],
                [
                  "32",
                  "0.0129"
                ],
                [
                  "33",
                  "0.0129"
                ],
                [
                  "34",
                  "0.0129"
                ],
                [
                  "35",
                  "0.0129"
                ],
                [
                  "36",
                  "0.0129"
                ],
                [
                  "38",
                  "0.0129"
                ],
                [
                  "41",
                  "0.0129"
                ],
                [
                  "40",
                  "0.0129"
                ],
                [
                  "42",
                  "0.0129"
                ],
                [
                  "44",
                  "0.0129"
                ],
                [
                  "49",
                  "0.0129"
                ],
                [
                  "45",
                  "0.0129"
                ],
                [
                  "46",
                  "0.0129"
                ],
                [
                  "47",
                  "0.0129"
                ],
                [
                  "52",
                  "0.0129"
                ],
                [
                  "51",
                  "0.0129"
                ],
                [
                  "55",
                  "0.0129"
                ],
                [
                  "54",
                  "0.0129"
                ],
                [
                  "83",
                  "0.0129"
                ],
                [
                  "85",
                  "0.0129"
                ]
              ],
              "shape": {
                "columns": 1,
                "rows": 80
              }
            },
            "text/plain": [
              "department\n",
              "1     0.0129\n",
              "2     0.0129\n",
              "3     0.0129\n",
              "4     0.0129\n",
              "5     0.0129\n",
              "       ...  \n",
              "37    0.0108\n",
              "48    0.0086\n",
              "50    0.0065\n",
              "39    0.0043\n",
              "43    0.0022\n",
              "Name: proportion, Length: 80, dtype: float64"
            ]
          },
          "execution_count": 42,
          "metadata": {},
          "output_type": "execute_result"
        }
      ],
      "source": [
        "# Count the proportion of stores of each department in store_depts, sorting the proportions in descending order.\n",
        "dept_props_sorted = store_depts[\"department\"].value_counts(sort=True, normalize=True).round(4)\n",
        "\n",
        "dept_props_sorted"
      ]
    },
    {
      "cell_type": "markdown",
      "id": "ead19b95",
      "metadata": {
        "id": "ead19b95"
      },
      "source": [
        "## Grouped Summary Statistics\n",
        "\n",
        "Grouping is the analytical process of dividing your dataset into meaningful categories and then computing summary statistics **within each group**. This approach is indispensable for uncovering patterns, trends, and disparities that may be masked in overall aggregates. Pandas provides an efficient, expressive `groupby` mechanism for split-apply-combine operations—central to all serious exploratory data analysis.\n",
        "\n",
        "### 1. Summaries by Group: The `groupby` Method\n",
        "\n",
        "The fundamental method for groupwise operations is `.groupby()`. This constructs an intermediate “grouped” object, on which you may apply aggregation functions.\n",
        "\n",
        "#### Basic usage—single group, single summary:\n",
        "\n",
        "```python\n",
        "df.groupby(\"department\")[\"salary\"].mean()\n",
        "```\n",
        "\n",
        "This computes the mean salary **within each department**.\n",
        "\n",
        "\n",
        "### 2. Multiple Grouped Summaries with `.agg()`\n",
        "\n",
        "For more comprehensive analyses, use `.agg()` to compute multiple statistics at once.\n",
        "\n",
        "```python\n",
        "df.groupby(\"department\")[\"salary\"].agg([\"min\", \"max\", \"sum\"])\n",
        "```\n",
        "\n",
        "This yields the minimum, maximum, and total salary for each department in a single DataFrame.\n",
        "\n",
        "### 3. Grouping by Multiple Variables\n",
        "\n",
        "You may group by two or more columns simultaneously, creating multi-indexed summaries.\n",
        "\n",
        "```python\n",
        "df.groupby([\"department\", \"gender\"])[\"salary\"].mean()\n",
        "```\n",
        "\n",
        "This produces the average salary for every combination of department and gender.\n",
        "\n",
        "- The resulting Series or DataFrame has a hierarchical index (MultiIndex) reflecting each grouping variable.\n",
        "\n",
        "### 4. Summarising Many Variables, Many Groups\n",
        "\n",
        "You may select multiple columns and compute statistics for each, grouped by one or more variables.\n",
        "\n",
        "#### Example:\n",
        "\n",
        "```python\n",
        "df.groupby([\"species\", \"region\"])[[\"weight\", \"height\"]].mean()\n",
        "```\n",
        "\n",
        "- This produces the mean weight and height for each species-region combination.\n",
        "\n",
        "#### Aggregating different statistics for different columns:\n",
        "\n",
        "```python\n",
        "df.groupby(\"department\").agg({\n",
        "    \"salary\": [\"min\", \"max\", \"mean\"],\n",
        "    \"age\": \"median\"\n",
        "})\n",
        "```\n",
        "\n",
        "This returns a DataFrame where each group (department) has the specified statistics for each relevant column.\n",
        "\n",
        "### 5. Chaining Further Transformations\n",
        "\n",
        "The grouped object can be further filtered, sorted, or transformed. For example, to find the top-earning group:\n",
        "\n",
        "```python\n",
        "grouped = df.groupby(\"department\")[\"salary\"].sum()\n",
        "top_department = grouped.idxmax()\n",
        "```\n",
        "\n",
        "Or, to reset the index for easier downstream analysis:\n",
        "\n",
        "```python\n",
        "summary = df.groupby(\"department\")[\"salary\"].mean().reset_index()\n",
        "```\n",
        "\n",
        "\n",
        "### Best Practices and Considerations\n",
        "\n",
        "- Always inspect the output index: multi-level indices are common with multiple grouping variables.\n",
        "- For large, complex summaries, use `.agg()` with a dictionary mapping columns to statistics for maximum clarity.\n",
        "- Chaining `.reset_index()` is recommended when you wish to convert group labels back to ordinary columns.\n",
        "\n"
      ]
    },
    {
      "cell_type": "code",
      "execution_count": 43,
      "id": "f2e481da",
      "metadata": {
        "colab": {
          "base_uri": "https://localhost:8080/",
          "height": 34
        },
        "id": "f2e481da",
        "outputId": "63951fdf-8982-4744-becd-415dfb9d897b"
      },
      "outputs": [
        {
          "data": {
            "application/vnd.microsoft.datawrangler.viewer.v0+json": {
              "columns": [
                {
                  "name": "index",
                  "rawType": "int64",
                  "type": "integer"
                },
                {
                  "name": "0",
                  "rawType": "float64",
                  "type": "float"
                }
              ],
              "ref": "69ccc1b2-d5d6-4c03-82b8-7aa8af1e1e9e",
              "rows": [
                [
                  "0",
                  "0.9097746968515047"
                ],
                [
                  "1",
                  "0.09022530314849538"
                ],
                [
                  "2",
                  "0.0"
                ]
              ],
              "shape": {
                "columns": 1,
                "rows": 3
              }
            },
            "text/plain": [
              "array([0.9097747, 0.0902253, 0.       ])"
            ]
          },
          "execution_count": 43,
          "metadata": {},
          "output_type": "execute_result"
        }
      ],
      "source": [
        "# Calculate the total weekly_sales over the whole dataset.\n",
        "sales_all = sales[\"weekly_sales\"].sum()\n",
        "\n",
        "# Subset for type A stores, calc total weekly sales\n",
        "sales_A = sales[sales[\"type\"] == \"A\"][\"weekly_sales\"].sum()\n",
        "\n",
        "# Subset for type B stores, calc total weekly sales\n",
        "sales_B = sales[sales[\"type\"] == \"B\"][\"weekly_sales\"].sum()\n",
        "\n",
        "# Subset for type C stores, calc total weekly sales\n",
        "sales_C = sales[sales[\"type\"] == \"C\"][\"weekly_sales\"].sum()\n",
        "\n",
        "# Combine the A/B/C results into a list, and divide by sales_all to get the proportion of sales by type.\n",
        "sales_propn_by_type =[sales_A, sales_B, sales_C] / sales_all\n",
        "\n",
        "# View the result\n",
        "sales_propn_by_type"
      ]
    },
    {
      "cell_type": "code",
      "execution_count": 44,
      "id": "6aed39f2",
      "metadata": {
        "colab": {
          "base_uri": "https://localhost:8080/"
        },
        "id": "6aed39f2",
        "outputId": "ea21c258-ff84-4e76-993e-1dea1f5dac0f"
      },
      "outputs": [
        {
          "data": {
            "application/vnd.microsoft.datawrangler.viewer.v0+json": {
              "columns": [
                {
                  "name": "type",
                  "rawType": "object",
                  "type": "string"
                },
                {
                  "name": "weekly_sales",
                  "rawType": "float64",
                  "type": "float"
                }
              ],
              "ref": "cf9d89d8-7872-4c51-969e-65f0e65a77a8",
              "rows": [
                [
                  "A",
                  "233716315.01"
                ],
                [
                  "B",
                  "23178403.89"
                ]
              ],
              "shape": {
                "columns": 1,
                "rows": 2
              }
            },
            "text/plain": [
              "type\n",
              "A    2.337163e+08\n",
              "B    2.317840e+07\n",
              "Name: weekly_sales, dtype: float64"
            ]
          },
          "execution_count": 44,
          "metadata": {},
          "output_type": "execute_result"
        }
      ],
      "source": [
        "# Group sales by \"type\", take the sum of \"weekly_sales\", and store as sales_by_type.\n",
        "sales_by_type = sales.groupby(\"type\")[\"weekly_sales\"].sum()\n",
        "\n",
        "sales_by_type"
      ]
    },
    {
      "cell_type": "code",
      "execution_count": 45,
      "id": "0db4b731",
      "metadata": {
        "colab": {
          "base_uri": "https://localhost:8080/"
        },
        "id": "0db4b731",
        "outputId": "df28fe81-84a7-4e64-d56c-a79f06388554"
      },
      "outputs": [
        {
          "data": {
            "application/vnd.microsoft.datawrangler.viewer.v0+json": {
              "columns": [
                {
                  "name": "type",
                  "rawType": "object",
                  "type": "string"
                },
                {
                  "name": "weekly_sales",
                  "rawType": "float64",
                  "type": "float"
                }
              ],
              "ref": "f6d5e1f3-0da5-497e-99d5-068e57697334",
              "rows": [
                [
                  "A",
                  "0.9097746968515047"
                ],
                [
                  "B",
                  "0.09022530314849538"
                ]
              ],
              "shape": {
                "columns": 1,
                "rows": 2
              }
            },
            "text/plain": [
              "type\n",
              "A    0.909775\n",
              "B    0.090225\n",
              "Name: weekly_sales, dtype: float64"
            ]
          },
          "execution_count": 45,
          "metadata": {},
          "output_type": "execute_result"
        }
      ],
      "source": [
        "# Calculate the proportion of sales at each store type by dividing by the sum of sales_by_type. Assign to sales_propn_by_type.\n",
        "sales_propn_by_type = sales_by_type / sum(sales_by_type)\n",
        "\n",
        "sales_propn_by_type"
      ]
    },
    {
      "cell_type": "code",
      "execution_count": 46,
      "id": "b8a7d282",
      "metadata": {
        "colab": {
          "base_uri": "https://localhost:8080/",
          "height": 241
        },
        "id": "b8a7d282",
        "outputId": "26cb37e7-c8eb-4036-9e93-2cd63830a81c"
      },
      "outputs": [
        {
          "data": {
            "application/vnd.microsoft.datawrangler.viewer.v0+json": {
              "columns": [
                {
                  "name": "('type', 'is_holiday')",
                  "rawType": "object",
                  "type": "unknown"
                },
                {
                  "name": "weekly_sales",
                  "rawType": "float64",
                  "type": "float"
                }
              ],
              "ref": "8eee9025-33d2-426e-8e25-282a316f5b08",
              "rows": [
                [
                  "('A', np.False_)",
                  "233692713.2"
                ],
                [
                  "('A', np.True_)",
                  "23601.81"
                ],
                [
                  "('B', np.False_)",
                  "23176782.48"
                ],
                [
                  "('B', np.True_)",
                  "1621.41"
                ]
              ],
              "shape": {
                "columns": 1,
                "rows": 4
              }
            },
            "text/plain": [
              "type  is_holiday\n",
              "A     False         2.336927e+08\n",
              "      True          2.360181e+04\n",
              "B     False         2.317678e+07\n",
              "      True          1.621410e+03\n",
              "Name: weekly_sales, dtype: float64"
            ]
          },
          "execution_count": 46,
          "metadata": {},
          "output_type": "execute_result"
        }
      ],
      "source": [
        "# Group sales by \"type\" and \"is_holiday\", take the sum of weekly_sales, and store as sales_by_type_is_holiday.\n",
        "sales_by_type_is_holiday = sales.groupby([\"type\", \"is_holiday\"])[\"weekly_sales\"].sum()\n",
        "\n",
        "sales_by_type_is_holiday"
      ]
    },
    {
      "cell_type": "code",
      "execution_count": 47,
      "id": "24aafb54",
      "metadata": {
        "colab": {
          "base_uri": "https://localhost:8080/",
          "height": 144
        },
        "id": "24aafb54",
        "outputId": "91ab7a8a-e6f9-49ca-972c-40d23948f30c"
      },
      "outputs": [
        {
          "data": {
            "application/vnd.microsoft.datawrangler.viewer.v0+json": {
              "columns": [
                {
                  "name": "type",
                  "rawType": "object",
                  "type": "string"
                },
                {
                  "name": "min",
                  "rawType": "float64",
                  "type": "float"
                },
                {
                  "name": "max",
                  "rawType": "float64",
                  "type": "float"
                },
                {
                  "name": "mean",
                  "rawType": "float64",
                  "type": "float"
                },
                {
                  "name": "median",
                  "rawType": "float64",
                  "type": "float"
                }
              ],
              "ref": "b84b362b-f10b-4af5-99fd-4b5344ebd772",
              "rows": [
                [
                  "A",
                  "-1098.0",
                  "293966.05",
                  "23674.667241693678",
                  "11943.92"
                ],
                [
                  "B",
                  "-798.0",
                  "232558.51",
                  "25696.67837028825",
                  "13336.08"
                ]
              ],
              "shape": {
                "columns": 4,
                "rows": 2
              }
            },
            "text/html": [
              "<div>\n",
              "<style scoped>\n",
              "    .dataframe tbody tr th:only-of-type {\n",
              "        vertical-align: middle;\n",
              "    }\n",
              "\n",
              "    .dataframe tbody tr th {\n",
              "        vertical-align: top;\n",
              "    }\n",
              "\n",
              "    .dataframe thead th {\n",
              "        text-align: right;\n",
              "    }\n",
              "</style>\n",
              "<table border=\"1\" class=\"dataframe\">\n",
              "  <thead>\n",
              "    <tr style=\"text-align: right;\">\n",
              "      <th></th>\n",
              "      <th>min</th>\n",
              "      <th>max</th>\n",
              "      <th>mean</th>\n",
              "      <th>median</th>\n",
              "    </tr>\n",
              "    <tr>\n",
              "      <th>type</th>\n",
              "      <th></th>\n",
              "      <th></th>\n",
              "      <th></th>\n",
              "      <th></th>\n",
              "    </tr>\n",
              "  </thead>\n",
              "  <tbody>\n",
              "    <tr>\n",
              "      <th>A</th>\n",
              "      <td>-1098.0</td>\n",
              "      <td>293966.05</td>\n",
              "      <td>23674.667242</td>\n",
              "      <td>11943.92</td>\n",
              "    </tr>\n",
              "    <tr>\n",
              "      <th>B</th>\n",
              "      <td>-798.0</td>\n",
              "      <td>232558.51</td>\n",
              "      <td>25696.678370</td>\n",
              "      <td>13336.08</td>\n",
              "    </tr>\n",
              "  </tbody>\n",
              "</table>\n",
              "</div>"
            ],
            "text/plain": [
              "         min        max          mean    median\n",
              "type                                           \n",
              "A    -1098.0  293966.05  23674.667242  11943.92\n",
              "B     -798.0  232558.51  25696.678370  13336.08"
            ]
          },
          "execution_count": 47,
          "metadata": {},
          "output_type": "execute_result"
        }
      ],
      "source": [
        "# Get the min, max, mean, and median of weekly_sales for each store type using .groupby() and .agg(). Store this as sales_stats.\n",
        "sales_stats = sales.groupby(\"type\")[\"weekly_sales\"].agg([\"min\", \"max\", \"mean\", \"median\"])\n",
        "\n",
        "# Print sales_stats\n",
        "sales_stats"
      ]
    },
    {
      "cell_type": "code",
      "execution_count": 48,
      "id": "e6da4439",
      "metadata": {
        "colab": {
          "base_uri": "https://localhost:8080/",
          "height": 175
        },
        "id": "e6da4439",
        "outputId": "a6f8a27c-f595-4b68-ff16-bee10b9e1751"
      },
      "outputs": [
        {
          "data": {
            "application/vnd.microsoft.datawrangler.viewer.v0+json": {
              "columns": [
                {
                  "name": "type",
                  "rawType": "object",
                  "type": "string"
                },
                {
                  "name": "('unemployment', 'min')",
                  "rawType": "float64",
                  "type": "float"
                },
                {
                  "name": "('unemployment', 'max')",
                  "rawType": "float64",
                  "type": "float"
                },
                {
                  "name": "('unemployment', 'mean')",
                  "rawType": "float64",
                  "type": "float"
                },
                {
                  "name": "('unemployment', 'median')",
                  "rawType": "float64",
                  "type": "float"
                },
                {
                  "name": "('fuel_price_usd_per_l', 'min')",
                  "rawType": "float64",
                  "type": "float"
                },
                {
                  "name": "('fuel_price_usd_per_l', 'max')",
                  "rawType": "float64",
                  "type": "float"
                },
                {
                  "name": "('fuel_price_usd_per_l', 'mean')",
                  "rawType": "float64",
                  "type": "float"
                },
                {
                  "name": "('fuel_price_usd_per_l', 'median')",
                  "rawType": "float64",
                  "type": "float"
                }
              ],
              "ref": "c3deb059-507b-49b3-8aac-f30dc09bf0f3",
              "rows": [
                [
                  "A",
                  "3.879",
                  "8.992",
                  "7.972610615883306",
                  "8.067",
                  "0.6641288526209843",
                  "1.1074097653886896",
                  "0.7446188662768876",
                  "0.7354553403726412"
                ],
                [
                  "B",
                  "7.17",
                  "9.765",
                  "9.279322616407983",
                  "9.199",
                  "0.7600233528204342",
                  "1.1076739375655478",
                  "0.8058583970005363",
                  "0.8033475898251445"
                ]
              ],
              "shape": {
                "columns": 8,
                "rows": 2
              }
            },
            "text/html": [
              "<div>\n",
              "<style scoped>\n",
              "    .dataframe tbody tr th:only-of-type {\n",
              "        vertical-align: middle;\n",
              "    }\n",
              "\n",
              "    .dataframe tbody tr th {\n",
              "        vertical-align: top;\n",
              "    }\n",
              "\n",
              "    .dataframe thead tr th {\n",
              "        text-align: left;\n",
              "    }\n",
              "\n",
              "    .dataframe thead tr:last-of-type th {\n",
              "        text-align: right;\n",
              "    }\n",
              "</style>\n",
              "<table border=\"1\" class=\"dataframe\">\n",
              "  <thead>\n",
              "    <tr>\n",
              "      <th></th>\n",
              "      <th colspan=\"4\" halign=\"left\">unemployment</th>\n",
              "      <th colspan=\"4\" halign=\"left\">fuel_price_usd_per_l</th>\n",
              "    </tr>\n",
              "    <tr>\n",
              "      <th></th>\n",
              "      <th>min</th>\n",
              "      <th>max</th>\n",
              "      <th>mean</th>\n",
              "      <th>median</th>\n",
              "      <th>min</th>\n",
              "      <th>max</th>\n",
              "      <th>mean</th>\n",
              "      <th>median</th>\n",
              "    </tr>\n",
              "    <tr>\n",
              "      <th>type</th>\n",
              "      <th></th>\n",
              "      <th></th>\n",
              "      <th></th>\n",
              "      <th></th>\n",
              "      <th></th>\n",
              "      <th></th>\n",
              "      <th></th>\n",
              "      <th></th>\n",
              "    </tr>\n",
              "  </thead>\n",
              "  <tbody>\n",
              "    <tr>\n",
              "      <th>A</th>\n",
              "      <td>3.879</td>\n",
              "      <td>8.992</td>\n",
              "      <td>7.972611</td>\n",
              "      <td>8.067</td>\n",
              "      <td>0.664129</td>\n",
              "      <td>1.107410</td>\n",
              "      <td>0.744619</td>\n",
              "      <td>0.735455</td>\n",
              "    </tr>\n",
              "    <tr>\n",
              "      <th>B</th>\n",
              "      <td>7.170</td>\n",
              "      <td>9.765</td>\n",
              "      <td>9.279323</td>\n",
              "      <td>9.199</td>\n",
              "      <td>0.760023</td>\n",
              "      <td>1.107674</td>\n",
              "      <td>0.805858</td>\n",
              "      <td>0.803348</td>\n",
              "    </tr>\n",
              "  </tbody>\n",
              "</table>\n",
              "</div>"
            ],
            "text/plain": [
              "     unemployment                         fuel_price_usd_per_l            \\\n",
              "              min    max      mean median                  min       max   \n",
              "type                                                                       \n",
              "A           3.879  8.992  7.972611  8.067             0.664129  1.107410   \n",
              "B           7.170  9.765  9.279323  9.199             0.760023  1.107674   \n",
              "\n",
              "                          \n",
              "          mean    median  \n",
              "type                      \n",
              "A     0.744619  0.735455  \n",
              "B     0.805858  0.803348  "
            ]
          },
          "execution_count": 48,
          "metadata": {},
          "output_type": "execute_result"
        }
      ],
      "source": [
        "# Get the min, max, mean, and median of unemployment and fuel_price_usd_per_l for each store type. Store this as unemp_fuel_stats.\n",
        "unemp_fuel_stats = sales.groupby(\"type\")[[\"unemployment\", \"fuel_price_usd_per_l\"]].agg([\"min\", \"max\", \"mean\", \"median\"])\n",
        "\n",
        "unemp_fuel_stats"
      ]
    },
    {
      "cell_type": "markdown",
      "id": "40532b7e",
      "metadata": {
        "id": "40532b7e"
      },
      "source": [
        "## Pivot Tables\n",
        "\n",
        "Pivot tables are a powerful analytical construct that summarise data by re-arranging (or “pivoting”) the axes of a DataFrame, enabling rapid computation of grouped statistics across one or more categorical variables. They provide an intuitive interface for multi-dimensional aggregation - often revealing trends or comparisons that groupby - summaries alone might obscure.\n",
        "\n",
        "In Pandas, the `pivot_table` method is the canonical tool for this purpose, supporting flexible computation of means, sums, counts, and other statistics with optional handling of missing values and multi-level grouping.\n",
        "\n",
        "\n",
        "### 1. From GroupBy to Pivot Table\n",
        "\n",
        "While `.groupby()` returns results with grouped indices, `.pivot_table()` allows you to produce a two-dimensional (or higher) table with distinct row and column axes for categorical variables. This format is more amenable to exploratory data analysis, reporting, and visualisation.\n",
        "\n",
        "#### Example: Grouped mean as pivot\n",
        "\n",
        "```python\n",
        "df.pivot_table(values=\"salary\", index=\"department\", aggfunc=\"mean\")\n",
        "```\n",
        "\n",
        "This produces a table where each row is a department and the value is the mean salary.\n",
        "\n",
        "\n",
        "### 2. Customising Aggregated Statistics\n",
        "\n",
        "You may compute different statistics by changing the `aggfunc` parameter:\n",
        "\n",
        "- **Mean (default):**\n",
        "  ```python\n",
        "  df.pivot_table(values=\"sales\", index=\"region\")\n",
        "  ```\n",
        "- **Sum:**\n",
        "  ```python\n",
        "  df.pivot_table(values=\"sales\", index=\"region\", aggfunc=\"sum\")\n",
        "  ```\n",
        "- **Count:**\n",
        "  ```python\n",
        "  df.pivot_table(values=\"sales\", index=\"region\", aggfunc=\"count\")\n",
        "  ```\n",
        "- **Median or custom:**\n",
        "  ```python\n",
        "  df.pivot_table(values=\"sales\", index=\"region\", aggfunc=\"median\")\n",
        "  ```\n",
        "\n",
        "\n",
        "### 3. Multiple Statistics in a Pivot Table\n",
        "\n",
        "You may request several statistics at once by passing a list to `aggfunc`:\n",
        "\n",
        "```python\n",
        "df.pivot_table(\n",
        "    values=\"profit\",\n",
        "    index=\"region\",\n",
        "    aggfunc=[\"min\", \"max\", \"mean\"]\n",
        ")\n",
        "```\n",
        "\n",
        "This yields a DataFrame with the minimum, maximum, and mean profit per region.\n",
        "\n",
        "\n",
        "### 4. Pivoting on Multiple Variables\n",
        "\n",
        "You may specify several columns as row or column indices to produce a multi-dimensional summary:\n",
        "\n",
        "```python\n",
        "df.pivot_table(\n",
        "    values=\"sales\",\n",
        "    index=[\"region\", \"year\"],\n",
        "    columns=\"product\",\n",
        "    aggfunc=\"sum\"\n",
        ")\n",
        "```\n",
        "\n",
        "This returns a table of sales totals, broken down by region and year (as rows), with one column per product.\n",
        "\n",
        "\n",
        "### 5. Filling Missing Values in Pivot Tables\n",
        "\n",
        "By default, combinations with no data produce `NaN` entries in the pivot table. Use the `fill_value` argument to replace missing values (e.g., with zero):\n",
        "\n",
        "```python\n",
        "df.pivot_table(\n",
        "    values=\"sales\",\n",
        "    index=\"region\",\n",
        "    columns=\"product\",\n",
        "    aggfunc=\"sum\",\n",
        "    fill_value=0\n",
        ")\n",
        "```\n",
        "\n",
        "This ensures that empty cells are filled with a defined value, often necessary for downstream computations or presentations.\n",
        "\n",
        "\n",
        "### 6. Summing with Pivot Tables\n",
        "\n",
        "To produce a matrix of groupwise sums:\n",
        "\n",
        "```python\n",
        "df.pivot_table(\n",
        "    values=\"sales\",\n",
        "    index=\"region\",\n",
        "    columns=\"quarter\",\n",
        "    aggfunc=\"sum\",\n",
        "    fill_value=0\n",
        ")\n",
        "```\n",
        "\n",
        "This yields total sales per region for each quarter, with missing values replaced by zero.\n",
        "\n",
        "### Best Practices\n",
        "\n",
        "- Prefer pivot tables for multi-dimensional summaries that require simultaneous grouping by rows and columns.\n",
        "- Use `fill_value` judiciously to avoid misleading results in sparse datasets.\n",
        "- For extremely large datasets or high cardinality variables, use with care to avoid memory issues.\n",
        "- When interpreting pivot tables, always confirm which statistic (`aggfunc`) has been used, especially if using custom or non-default functions.\n"
      ]
    },
    {
      "cell_type": "code",
      "execution_count": 49,
      "id": "9818e579",
      "metadata": {
        "colab": {
          "base_uri": "https://localhost:8080/",
          "height": 144
        },
        "id": "9818e579",
        "outputId": "f98590d8-75c7-4a14-989f-d9823d3fb056"
      },
      "outputs": [
        {
          "data": {
            "application/vnd.microsoft.datawrangler.viewer.v0+json": {
              "columns": [
                {
                  "name": "type",
                  "rawType": "object",
                  "type": "string"
                },
                {
                  "name": "weekly_sales",
                  "rawType": "float64",
                  "type": "float"
                }
              ],
              "ref": "f8b7699e-fa86-4bea-a0f6-4192ef5cb2bf",
              "rows": [
                [
                  "A",
                  "23674.667241693678"
                ],
                [
                  "B",
                  "25696.67837028825"
                ]
              ],
              "shape": {
                "columns": 1,
                "rows": 2
              }
            },
            "text/html": [
              "<div>\n",
              "<style scoped>\n",
              "    .dataframe tbody tr th:only-of-type {\n",
              "        vertical-align: middle;\n",
              "    }\n",
              "\n",
              "    .dataframe tbody tr th {\n",
              "        vertical-align: top;\n",
              "    }\n",
              "\n",
              "    .dataframe thead th {\n",
              "        text-align: right;\n",
              "    }\n",
              "</style>\n",
              "<table border=\"1\" class=\"dataframe\">\n",
              "  <thead>\n",
              "    <tr style=\"text-align: right;\">\n",
              "      <th></th>\n",
              "      <th>weekly_sales</th>\n",
              "    </tr>\n",
              "    <tr>\n",
              "      <th>type</th>\n",
              "      <th></th>\n",
              "    </tr>\n",
              "  </thead>\n",
              "  <tbody>\n",
              "    <tr>\n",
              "      <th>A</th>\n",
              "      <td>23674.667242</td>\n",
              "    </tr>\n",
              "    <tr>\n",
              "      <th>B</th>\n",
              "      <td>25696.678370</td>\n",
              "    </tr>\n",
              "  </tbody>\n",
              "</table>\n",
              "</div>"
            ],
            "text/plain": [
              "      weekly_sales\n",
              "type              \n",
              "A     23674.667242\n",
              "B     25696.678370"
            ]
          },
          "execution_count": 49,
          "metadata": {},
          "output_type": "execute_result"
        }
      ],
      "source": [
        "# Get the mean weekly_sales by type using .pivot_table() and store as mean_sales_by_type.\n",
        "mean_sales_by_type = sales.pivot_table(values=\"weekly_sales\", index=\"type\", aggfunc=\"mean\")\n",
        "\n",
        "# Print mean_sales_by_type\n",
        "mean_sales_by_type"
      ]
    },
    {
      "cell_type": "code",
      "execution_count": 50,
      "id": "c2e89f60",
      "metadata": {
        "colab": {
          "base_uri": "https://localhost:8080/",
          "height": 175
        },
        "id": "c2e89f60",
        "outputId": "f201eefc-7cfd-493f-cbe1-cb692c31ab59"
      },
      "outputs": [
        {
          "data": {
            "application/vnd.microsoft.datawrangler.viewer.v0+json": {
              "columns": [
                {
                  "name": "type",
                  "rawType": "object",
                  "type": "string"
                },
                {
                  "name": "('mean', 'weekly_sales')",
                  "rawType": "float64",
                  "type": "float"
                },
                {
                  "name": "('median', 'weekly_sales')",
                  "rawType": "float64",
                  "type": "float"
                }
              ],
              "ref": "fefbde90-c50a-4066-bbb2-4dc1078357bb",
              "rows": [
                [
                  "A",
                  "23674.667241693678",
                  "11943.92"
                ],
                [
                  "B",
                  "25696.67837028825",
                  "13336.08"
                ]
              ],
              "shape": {
                "columns": 2,
                "rows": 2
              }
            },
            "text/html": [
              "<div>\n",
              "<style scoped>\n",
              "    .dataframe tbody tr th:only-of-type {\n",
              "        vertical-align: middle;\n",
              "    }\n",
              "\n",
              "    .dataframe tbody tr th {\n",
              "        vertical-align: top;\n",
              "    }\n",
              "\n",
              "    .dataframe thead tr th {\n",
              "        text-align: left;\n",
              "    }\n",
              "\n",
              "    .dataframe thead tr:last-of-type th {\n",
              "        text-align: right;\n",
              "    }\n",
              "</style>\n",
              "<table border=\"1\" class=\"dataframe\">\n",
              "  <thead>\n",
              "    <tr>\n",
              "      <th></th>\n",
              "      <th>mean</th>\n",
              "      <th>median</th>\n",
              "    </tr>\n",
              "    <tr>\n",
              "      <th></th>\n",
              "      <th>weekly_sales</th>\n",
              "      <th>weekly_sales</th>\n",
              "    </tr>\n",
              "    <tr>\n",
              "      <th>type</th>\n",
              "      <th></th>\n",
              "      <th></th>\n",
              "    </tr>\n",
              "  </thead>\n",
              "  <tbody>\n",
              "    <tr>\n",
              "      <th>A</th>\n",
              "      <td>23674.667242</td>\n",
              "      <td>11943.92</td>\n",
              "    </tr>\n",
              "    <tr>\n",
              "      <th>B</th>\n",
              "      <td>25696.678370</td>\n",
              "      <td>13336.08</td>\n",
              "    </tr>\n",
              "  </tbody>\n",
              "</table>\n",
              "</div>"
            ],
            "text/plain": [
              "              mean       median\n",
              "      weekly_sales weekly_sales\n",
              "type                           \n",
              "A     23674.667242     11943.92\n",
              "B     25696.678370     13336.08"
            ]
          },
          "execution_count": 50,
          "metadata": {},
          "output_type": "execute_result"
        }
      ],
      "source": [
        "# Get the mean and median (using NumPy functions) of weekly_sales by type using .pivot_table() and store as mean_med_sales_by_type.\n",
        "mean_med_sales_by_type = sales.pivot_table(values=\"weekly_sales\", index=\"type\", aggfunc=[\"mean\", \"median\"])\n",
        "\n",
        "# Print mean_med_sales_by_type\n",
        "mean_med_sales_by_type"
      ]
    },
    {
      "cell_type": "code",
      "execution_count": 51,
      "id": "f81a9797",
      "metadata": {
        "colab": {
          "base_uri": "https://localhost:8080/"
        },
        "id": "f81a9797",
        "outputId": "7ec3b98c-b5b7-4c77-cb94-595ea93ae0d9"
      },
      "outputs": [
        {
          "data": {
            "application/vnd.microsoft.datawrangler.viewer.v0+json": {
              "columns": [
                {
                  "name": "type",
                  "rawType": "object",
                  "type": "string"
                },
                {
                  "name": "False",
                  "rawType": "float64",
                  "type": "float"
                },
                {
                  "name": "True",
                  "rawType": "float64",
                  "type": "float"
                }
              ],
              "ref": "010b8bea-f952-4361-a0fd-9d51c56d6c7d",
              "rows": [
                [
                  "A",
                  "23768.583523189584",
                  "590.04525"
                ],
                [
                  "B",
                  "25751.980533333335",
                  "810.705"
                ]
              ],
              "shape": {
                "columns": 2,
                "rows": 2
              }
            },
            "text/html": [
              "<div>\n",
              "<style scoped>\n",
              "    .dataframe tbody tr th:only-of-type {\n",
              "        vertical-align: middle;\n",
              "    }\n",
              "\n",
              "    .dataframe tbody tr th {\n",
              "        vertical-align: top;\n",
              "    }\n",
              "\n",
              "    .dataframe thead th {\n",
              "        text-align: right;\n",
              "    }\n",
              "</style>\n",
              "<table border=\"1\" class=\"dataframe\">\n",
              "  <thead>\n",
              "    <tr style=\"text-align: right;\">\n",
              "      <th>is_holiday</th>\n",
              "      <th>False</th>\n",
              "      <th>True</th>\n",
              "    </tr>\n",
              "    <tr>\n",
              "      <th>type</th>\n",
              "      <th></th>\n",
              "      <th></th>\n",
              "    </tr>\n",
              "  </thead>\n",
              "  <tbody>\n",
              "    <tr>\n",
              "      <th>A</th>\n",
              "      <td>23768.583523</td>\n",
              "      <td>590.04525</td>\n",
              "    </tr>\n",
              "    <tr>\n",
              "      <th>B</th>\n",
              "      <td>25751.980533</td>\n",
              "      <td>810.70500</td>\n",
              "    </tr>\n",
              "  </tbody>\n",
              "</table>\n",
              "</div>"
            ],
            "text/plain": [
              "is_holiday         False      True \n",
              "type                               \n",
              "A           23768.583523  590.04525\n",
              "B           25751.980533  810.70500"
            ]
          },
          "execution_count": 51,
          "metadata": {},
          "output_type": "execute_result"
        }
      ],
      "source": [
        "# Get the mean of weekly_sales by type and is_holiday using .pivot_table() and store as mean_sales_by_type_holiday.\n",
        "mean_sales_by_type_holiday = sales.pivot_table(values=\"weekly_sales\", index=\"type\", columns=\"is_holiday\")\n",
        "\n",
        "# Print mean_sales_by_type_holiday\n",
        "mean_sales_by_type_holiday"
      ]
    },
    {
      "cell_type": "code",
      "execution_count": 52,
      "id": "7b5db34b",
      "metadata": {
        "colab": {
          "base_uri": "https://localhost:8080/",
          "height": 455
        },
        "id": "7b5db34b",
        "outputId": "42889b77-9cec-425c-a25d-3a4f91cb80ef"
      },
      "outputs": [
        {
          "data": {
            "application/vnd.microsoft.datawrangler.viewer.v0+json": {
              "columns": [
                {
                  "name": "department",
                  "rawType": "int64",
                  "type": "integer"
                },
                {
                  "name": "A",
                  "rawType": "float64",
                  "type": "float"
                },
                {
                  "name": "B",
                  "rawType": "float64",
                  "type": "float"
                }
              ],
              "ref": "1b4f7142-917d-466e-90fa-950670141f81",
              "rows": [
                [
                  "1",
                  "30961.72537878788",
                  "44050.62666666667"
                ],
                [
                  "2",
                  "67600.1587878788",
                  "112958.52666666667"
                ],
                [
                  "3",
                  "17160.002954545456",
                  "30580.655"
                ],
                [
                  "4",
                  "44285.399090909086",
                  "51219.65416666667"
                ],
                [
                  "5",
                  "34821.01136363636",
                  "63236.875"
                ],
                [
                  "6",
                  "7136.292651515151",
                  "10717.2975"
                ],
                [
                  "7",
                  "38454.336818181815",
                  "52909.65333333333"
                ],
                [
                  "8",
                  "48583.4753030303",
                  "90733.75333333334"
                ],
                [
                  "9",
                  "30120.449924242424",
                  "66679.30166666667"
                ],
                [
                  "10",
                  "30930.456363636364",
                  "48595.12666666667"
                ],
                [
                  "11",
                  "23028.312727272725",
                  "35488.42916666667"
                ],
                [
                  "12",
                  "6786.840606060606",
                  "9656.52"
                ],
                [
                  "13",
                  "51398.168560606064",
                  "67213.58750000001"
                ],
                [
                  "14",
                  "22457.6953030303",
                  "40400.02"
                ],
                [
                  "16",
                  "25202.751893939392",
                  "29558.1825"
                ],
                [
                  "17",
                  "16167.586136363638",
                  "27675.351666666666"
                ],
                [
                  "18",
                  "12201.771212121212",
                  "17361.3475"
                ],
                [
                  "19",
                  "1560.95171875",
                  "3365.895"
                ],
                [
                  "20",
                  "8312.070227272727",
                  "16191.81"
                ],
                [
                  "21",
                  "9324.387196969697",
                  "10368.968333333332"
                ],
                [
                  "22",
                  "14225.324166666667",
                  "26044.7975"
                ],
                [
                  "23",
                  "29350.745075757575",
                  "63960.27333333334"
                ],
                [
                  "24",
                  "8204.587575757576",
                  "15376.829166666668"
                ],
                [
                  "25",
                  "13382.164242424242",
                  "20619.285"
                ],
                [
                  "26",
                  "11254.311212121213",
                  "17535.4575"
                ],
                [
                  "27",
                  "2079.1604545454543",
                  "4553.720833333334"
                ],
                [
                  "28",
                  "968.2473484848484",
                  "1422.7625"
                ],
                [
                  "29",
                  "6859.108484848484",
                  "14999.843333333332"
                ],
                [
                  "30",
                  "5403.619772727273",
                  "12442.08"
                ],
                [
                  "31",
                  "3221.001818181818",
                  "6151.995"
                ],
                [
                  "32",
                  "9599.30340909091",
                  "21047.399166666666"
                ],
                [
                  "33",
                  "8588.995303030302",
                  "14912.160000000002"
                ],
                [
                  "34",
                  "19148.73371212121",
                  "44931.18916666667"
                ],
                [
                  "35",
                  "3504.714015151515",
                  "7560.045000000001"
                ],
                [
                  "36",
                  "2455.8184090909094",
                  "3827.72"
                ],
                [
                  "37",
                  "3628.0197222222223",
                  "4303.381666666667"
                ],
                [
                  "38",
                  "84796.32393939394",
                  "85665.30833333333"
                ],
                [
                  "39",
                  "5.198571428571428",
                  "0.0"
                ],
                [
                  "40",
                  "70695.73363636364",
                  "104830.62916666667"
                ],
                [
                  "41",
                  "2218.5159090909087",
                  "7514.514166666667"
                ],
                [
                  "42",
                  "7831.95053030303",
                  "11280.798333333332"
                ],
                [
                  "43",
                  "0.66",
                  "0.0"
                ],
                [
                  "44",
                  "5984.462575757575",
                  "9091.141666666666"
                ],
                [
                  "45",
                  "19.12087719298246",
                  "41.751666666666665"
                ],
                [
                  "46",
                  "29991.069924242423",
                  "53406.16333333333"
                ],
                [
                  "47",
                  "10.484901960784313",
                  "-71.91666666666667"
                ],
                [
                  "48",
                  "1020.9829487179487",
                  "1965.1083333333333"
                ],
                [
                  "49",
                  "11008.071742424243",
                  "19313.554166666665"
                ],
                [
                  "50",
                  "2325.2301666666667",
                  "3991.5"
                ],
                [
                  "51",
                  "23.057526881720428",
                  "38.66166666666667"
                ]
              ],
              "shape": {
                "columns": 2,
                "rows": 80
              }
            },
            "text/html": [
              "<div>\n",
              "<style scoped>\n",
              "    .dataframe tbody tr th:only-of-type {\n",
              "        vertical-align: middle;\n",
              "    }\n",
              "\n",
              "    .dataframe tbody tr th {\n",
              "        vertical-align: top;\n",
              "    }\n",
              "\n",
              "    .dataframe thead th {\n",
              "        text-align: right;\n",
              "    }\n",
              "</style>\n",
              "<table border=\"1\" class=\"dataframe\">\n",
              "  <thead>\n",
              "    <tr style=\"text-align: right;\">\n",
              "      <th>type</th>\n",
              "      <th>A</th>\n",
              "      <th>B</th>\n",
              "    </tr>\n",
              "    <tr>\n",
              "      <th>department</th>\n",
              "      <th></th>\n",
              "      <th></th>\n",
              "    </tr>\n",
              "  </thead>\n",
              "  <tbody>\n",
              "    <tr>\n",
              "      <th>1</th>\n",
              "      <td>30961.725379</td>\n",
              "      <td>44050.626667</td>\n",
              "    </tr>\n",
              "    <tr>\n",
              "      <th>2</th>\n",
              "      <td>67600.158788</td>\n",
              "      <td>112958.526667</td>\n",
              "    </tr>\n",
              "    <tr>\n",
              "      <th>3</th>\n",
              "      <td>17160.002955</td>\n",
              "      <td>30580.655000</td>\n",
              "    </tr>\n",
              "    <tr>\n",
              "      <th>4</th>\n",
              "      <td>44285.399091</td>\n",
              "      <td>51219.654167</td>\n",
              "    </tr>\n",
              "    <tr>\n",
              "      <th>5</th>\n",
              "      <td>34821.011364</td>\n",
              "      <td>63236.875000</td>\n",
              "    </tr>\n",
              "    <tr>\n",
              "      <th>...</th>\n",
              "      <td>...</td>\n",
              "      <td>...</td>\n",
              "    </tr>\n",
              "    <tr>\n",
              "      <th>95</th>\n",
              "      <td>123933.787121</td>\n",
              "      <td>77082.102500</td>\n",
              "    </tr>\n",
              "    <tr>\n",
              "      <th>96</th>\n",
              "      <td>21367.042857</td>\n",
              "      <td>9528.538333</td>\n",
              "    </tr>\n",
              "    <tr>\n",
              "      <th>97</th>\n",
              "      <td>28471.266970</td>\n",
              "      <td>5828.873333</td>\n",
              "    </tr>\n",
              "    <tr>\n",
              "      <th>98</th>\n",
              "      <td>12875.423182</td>\n",
              "      <td>217.428333</td>\n",
              "    </tr>\n",
              "    <tr>\n",
              "      <th>99</th>\n",
              "      <td>379.123659</td>\n",
              "      <td>0.000000</td>\n",
              "    </tr>\n",
              "  </tbody>\n",
              "</table>\n",
              "<p>80 rows × 2 columns</p>\n",
              "</div>"
            ],
            "text/plain": [
              "type                    A              B\n",
              "department                              \n",
              "1            30961.725379   44050.626667\n",
              "2            67600.158788  112958.526667\n",
              "3            17160.002955   30580.655000\n",
              "4            44285.399091   51219.654167\n",
              "5            34821.011364   63236.875000\n",
              "...                   ...            ...\n",
              "95          123933.787121   77082.102500\n",
              "96           21367.042857    9528.538333\n",
              "97           28471.266970    5828.873333\n",
              "98           12875.423182     217.428333\n",
              "99             379.123659       0.000000\n",
              "\n",
              "[80 rows x 2 columns]"
            ]
          },
          "execution_count": 52,
          "metadata": {},
          "output_type": "execute_result"
        }
      ],
      "source": [
        "# Print the mean weekly_sales by department and type, filling in any missing values with 0.\n",
        "sales.pivot_table(values=\"weekly_sales\", index=\"department\", columns=\"type\", fill_value=0)"
      ]
    },
    {
      "cell_type": "code",
      "execution_count": 53,
      "id": "7bb4f3f6",
      "metadata": {
        "colab": {
          "base_uri": "https://localhost:8080/",
          "height": 455
        },
        "id": "7bb4f3f6",
        "outputId": "fa23e60b-13ac-4c60-a6bf-65fa110bf6e8"
      },
      "outputs": [
        {
          "data": {
            "application/vnd.microsoft.datawrangler.viewer.v0+json": {
              "columns": [
                {
                  "name": "department",
                  "rawType": "object",
                  "type": "unknown"
                },
                {
                  "name": "A",
                  "rawType": "float64",
                  "type": "float"
                },
                {
                  "name": "B",
                  "rawType": "float64",
                  "type": "float"
                },
                {
                  "name": "All",
                  "rawType": "float64",
                  "type": "float"
                }
              ],
              "ref": "effe8711-bfc2-497e-adab-4d160acd3c72",
              "rows": [
                [
                  "1",
                  "30961.72537878788",
                  "44050.62666666667",
                  "32052.467152777775"
                ],
                [
                  "2",
                  "67600.1587878788",
                  "112958.52666666667",
                  "71380.02277777778"
                ],
                [
                  "3",
                  "17160.002954545456",
                  "30580.655",
                  "18278.390625"
                ],
                [
                  "4",
                  "44285.399090909086",
                  "51219.65416666667",
                  "44863.25368055556"
                ],
                [
                  "5",
                  "34821.01136363636",
                  "63236.875",
                  "37189.0"
                ],
                [
                  "6",
                  "7136.292651515151",
                  "10717.2975",
                  "7434.709722222222"
                ],
                [
                  "7",
                  "38454.336818181815",
                  "52909.65333333333",
                  "39658.94652777778"
                ],
                [
                  "8",
                  "48583.4753030303",
                  "90733.75333333334",
                  "52095.99847222222"
                ],
                [
                  "9",
                  "30120.449924242424",
                  "66679.30166666667",
                  "33167.020902777775"
                ],
                [
                  "10",
                  "30930.456363636364",
                  "48595.12666666667",
                  "32402.51222222222"
                ],
                [
                  "11",
                  "23028.312727272725",
                  "35488.42916666667",
                  "24066.65576388889"
                ],
                [
                  "12",
                  "6786.840606060606",
                  "9656.52",
                  "7025.980555555555"
                ],
                [
                  "13",
                  "51398.168560606064",
                  "67213.58750000001",
                  "52716.12013888889"
                ],
                [
                  "14",
                  "22457.6953030303",
                  "40400.02",
                  "23952.88902777778"
                ],
                [
                  "16",
                  "25202.751893939392",
                  "29558.1825",
                  "25565.704444444444"
                ],
                [
                  "17",
                  "16167.586136363638",
                  "27675.351666666666",
                  "17126.56659722222"
                ],
                [
                  "18",
                  "12201.771212121212",
                  "17361.3475",
                  "12631.735902777778"
                ],
                [
                  "19",
                  "1560.95171875",
                  "3365.895",
                  "1715.6611428571427"
                ],
                [
                  "20",
                  "8312.070227272727",
                  "16191.81",
                  "8968.715208333333"
                ],
                [
                  "21",
                  "9324.387196969697",
                  "10368.968333333332",
                  "9411.435625"
                ],
                [
                  "22",
                  "14225.324166666667",
                  "26044.7975",
                  "15210.280277777776"
                ],
                [
                  "23",
                  "29350.745075757575",
                  "63960.27333333334",
                  "32234.872430555555"
                ],
                [
                  "24",
                  "8204.587575757576",
                  "15376.829166666668",
                  "8802.274375"
                ],
                [
                  "25",
                  "13382.164242424242",
                  "20619.285",
                  "13985.25763888889"
                ],
                [
                  "26",
                  "11254.311212121213",
                  "17535.4575",
                  "11777.740069444444"
                ],
                [
                  "27",
                  "2079.1604545454543",
                  "4553.720833333334",
                  "2285.3738194444445"
                ],
                [
                  "28",
                  "968.2473484848484",
                  "1422.7625",
                  "1006.123611111111"
                ],
                [
                  "29",
                  "6859.108484848484",
                  "14999.843333333332",
                  "7537.503055555555"
                ],
                [
                  "30",
                  "5403.619772727273",
                  "12442.08",
                  "5990.158125"
                ],
                [
                  "31",
                  "3221.001818181818",
                  "6151.995",
                  "3465.25125"
                ],
                [
                  "32",
                  "9599.30340909091",
                  "21047.399166666666",
                  "10553.31138888889"
                ],
                [
                  "33",
                  "8588.995303030302",
                  "14912.160000000002",
                  "9115.925694444444"
                ],
                [
                  "34",
                  "19148.73371212121",
                  "44931.18916666667",
                  "21297.271666666667"
                ],
                [
                  "35",
                  "3504.714015151515",
                  "7560.045000000001",
                  "3842.658263888889"
                ],
                [
                  "36",
                  "2455.8184090909094",
                  "3827.72",
                  "2570.1435416666664"
                ],
                [
                  "37",
                  "3628.0197222222223",
                  "4303.381666666667",
                  "3695.5559166666667"
                ],
                [
                  "38",
                  "84796.32393939394",
                  "85665.30833333333",
                  "84868.73930555554"
                ],
                [
                  "39",
                  "5.198571428571428",
                  "0.0",
                  "5.198571428571428"
                ],
                [
                  "40",
                  "70695.73363636364",
                  "104830.62916666667",
                  "73540.30826388889"
                ],
                [
                  "41",
                  "2218.5159090909087",
                  "7514.514166666667",
                  "2659.8490972222226"
                ],
                [
                  "42",
                  "7831.95053030303",
                  "11280.798333333332",
                  "8119.354513888889"
                ],
                [
                  "43",
                  "0.66",
                  "0.0",
                  "0.66"
                ],
                [
                  "44",
                  "5984.462575757575",
                  "9091.141666666666",
                  "6243.3525"
                ],
                [
                  "45",
                  "19.12087719298246",
                  "41.751666666666665",
                  "21.27619047619048"
                ],
                [
                  "46",
                  "29991.069924242423",
                  "53406.16333333333",
                  "31942.327708333338"
                ],
                [
                  "47",
                  "10.484901960784313",
                  "-71.91666666666667",
                  "1.8110526315789477"
                ],
                [
                  "48",
                  "1020.9829487179487",
                  "1965.1083333333333",
                  "1146.8663333333334"
                ],
                [
                  "49",
                  "11008.071742424243",
                  "19313.554166666665",
                  "11700.195277777777"
                ],
                [
                  "50",
                  "2325.2301666666667",
                  "3991.5",
                  "2602.9418055555557"
                ],
                [
                  "51",
                  "23.057526881720428",
                  "38.66166666666667",
                  "24.003232323232325"
                ]
              ],
              "shape": {
                "columns": 3,
                "rows": 81
              }
            },
            "text/html": [
              "<div>\n",
              "<style scoped>\n",
              "    .dataframe tbody tr th:only-of-type {\n",
              "        vertical-align: middle;\n",
              "    }\n",
              "\n",
              "    .dataframe tbody tr th {\n",
              "        vertical-align: top;\n",
              "    }\n",
              "\n",
              "    .dataframe thead th {\n",
              "        text-align: right;\n",
              "    }\n",
              "</style>\n",
              "<table border=\"1\" class=\"dataframe\">\n",
              "  <thead>\n",
              "    <tr style=\"text-align: right;\">\n",
              "      <th>type</th>\n",
              "      <th>A</th>\n",
              "      <th>B</th>\n",
              "      <th>All</th>\n",
              "    </tr>\n",
              "    <tr>\n",
              "      <th>department</th>\n",
              "      <th></th>\n",
              "      <th></th>\n",
              "      <th></th>\n",
              "    </tr>\n",
              "  </thead>\n",
              "  <tbody>\n",
              "    <tr>\n",
              "      <th>1</th>\n",
              "      <td>30961.725379</td>\n",
              "      <td>44050.626667</td>\n",
              "      <td>32052.467153</td>\n",
              "    </tr>\n",
              "    <tr>\n",
              "      <th>2</th>\n",
              "      <td>67600.158788</td>\n",
              "      <td>112958.526667</td>\n",
              "      <td>71380.022778</td>\n",
              "    </tr>\n",
              "    <tr>\n",
              "      <th>3</th>\n",
              "      <td>17160.002955</td>\n",
              "      <td>30580.655000</td>\n",
              "      <td>18278.390625</td>\n",
              "    </tr>\n",
              "    <tr>\n",
              "      <th>4</th>\n",
              "      <td>44285.399091</td>\n",
              "      <td>51219.654167</td>\n",
              "      <td>44863.253681</td>\n",
              "    </tr>\n",
              "    <tr>\n",
              "      <th>5</th>\n",
              "      <td>34821.011364</td>\n",
              "      <td>63236.875000</td>\n",
              "      <td>37189.000000</td>\n",
              "    </tr>\n",
              "    <tr>\n",
              "      <th>...</th>\n",
              "      <td>...</td>\n",
              "      <td>...</td>\n",
              "      <td>...</td>\n",
              "    </tr>\n",
              "    <tr>\n",
              "      <th>96</th>\n",
              "      <td>21367.042857</td>\n",
              "      <td>9528.538333</td>\n",
              "      <td>20337.607681</td>\n",
              "    </tr>\n",
              "    <tr>\n",
              "      <th>97</th>\n",
              "      <td>28471.266970</td>\n",
              "      <td>5828.873333</td>\n",
              "      <td>26584.400833</td>\n",
              "    </tr>\n",
              "    <tr>\n",
              "      <th>98</th>\n",
              "      <td>12875.423182</td>\n",
              "      <td>217.428333</td>\n",
              "      <td>11820.590278</td>\n",
              "    </tr>\n",
              "    <tr>\n",
              "      <th>99</th>\n",
              "      <td>379.123659</td>\n",
              "      <td>0.000000</td>\n",
              "      <td>379.123659</td>\n",
              "    </tr>\n",
              "    <tr>\n",
              "      <th>All</th>\n",
              "      <td>23674.667242</td>\n",
              "      <td>25696.678370</td>\n",
              "      <td>23843.950149</td>\n",
              "    </tr>\n",
              "  </tbody>\n",
              "</table>\n",
              "<p>81 rows × 3 columns</p>\n",
              "</div>"
            ],
            "text/plain": [
              "type                   A              B           All\n",
              "department                                           \n",
              "1           30961.725379   44050.626667  32052.467153\n",
              "2           67600.158788  112958.526667  71380.022778\n",
              "3           17160.002955   30580.655000  18278.390625\n",
              "4           44285.399091   51219.654167  44863.253681\n",
              "5           34821.011364   63236.875000  37189.000000\n",
              "...                  ...            ...           ...\n",
              "96          21367.042857    9528.538333  20337.607681\n",
              "97          28471.266970    5828.873333  26584.400833\n",
              "98          12875.423182     217.428333  11820.590278\n",
              "99            379.123659       0.000000    379.123659\n",
              "All         23674.667242   25696.678370  23843.950149\n",
              "\n",
              "[81 rows x 3 columns]"
            ]
          },
          "execution_count": 53,
          "metadata": {},
          "output_type": "execute_result"
        }
      ],
      "source": [
        "# Print the mean weekly_sales by department and type, filling in any missing values with 0 and summing all rows and columns.\n",
        "sales.pivot_table(values=\"weekly_sales\", index=\"department\", columns=\"type\", fill_value=0, margins=True)"
      ]
    },
    {
      "cell_type": "markdown",
      "id": "c653a76b",
      "metadata": {
        "id": "c653a76b"
      },
      "source": [
        "## Explicit Indexes\n",
        "\n",
        "An **explicit index** is a labelled reference axis of a *DataFrame* (or *Series*), providing flexible, semantically meaningful ways to reference, order, and subset data. Proper management of indexes&nbsp; - columns *and* rows&nbsp; - enables efficient and expressive analysis but can also create complexity if misapplied.\n",
        "\n",
        "\n",
        "### 1. The Anatomy of Indexes\n",
        "\n",
        "- **`.columns`** – the column labels.\n",
        "\n",
        "  ```\n",
        "  df.columns\n",
        "  ```\n",
        "\n",
        "* **`.index`** – the row labels (the “index” proper).\n",
        "\n",
        "  ```python\n",
        "  df.index\n",
        "  ```\n",
        "\n",
        "Both are `Index` objects, supporting set-like operations (`intersection`, `difference`, etc.) and fast membership tests.\n",
        "\n",
        "\n",
        "### 2. Setting and Resetting Indexes\n",
        "\n",
        "#### a) Setting a column as the index – `.set_index()`\n",
        "\n",
        "Replacing the default integer index with a column often suits time-series, panel data, or any situation where a domain-specific key provides clearer semantics.\n",
        "\n",
        "```python\n",
        "df_country = df.set_index(\"country\")\n",
        "```\n",
        "\n",
        "#### b) Restoring the default index – `.reset_index()`\n",
        "\n",
        "```python\n",
        "df_reset = df_country.reset_index()\n",
        "```\n",
        "\n",
        "#### c) Dropping the index entirely\n",
        "\n",
        "```python\n",
        "df_reset_clean = df_country.reset_index(drop=True)\n",
        "```\n",
        "\n",
        "Dropping can be useful when you have finished using the index as a key and want to preserve tidy-data principles.\n",
        "\n",
        "\n",
        "### 3. Indexes and Subsetting\n",
        "\n",
        "Indexes make subsetting more direct, especially with **`.loc`** (label-based) and **`.iloc`** (position-based).\n",
        "\n",
        "```python\n",
        "# Label-based\n",
        "df_country.loc[\"Brazil\"]\n",
        "\n",
        "# Position-based (row 0, column 2)\n",
        "df_country.iloc[0, 2]\n",
        "```\n",
        "\n",
        "If index values are not unique, `.loc` returns *all* matching rows. Membership tests remain straightforward:\n",
        "\n",
        "```python\n",
        "df[df[\"region\"].isin([\"Americas\", \"Europe\"])]\n",
        "\n",
        "# Equivalent after indexing by 'region'\n",
        "df_region = df.set_index(\"region\")\n",
        "df_region.loc[[\"Americas\", \"Europe\"]]\n",
        "```\n",
        "\n",
        "\n",
        "### 4. Index Values Need Not Be Unique\n",
        "\n",
        "Pandas allows duplicate index entries. `.loc` on a duplicated key yields every matching row:\n",
        "\n",
        "```python\n",
        "df_dup = df.set_index(\"category\")\n",
        "df_dup.loc[\"A\"]   # all rows with category == \"A\"\n",
        "```\n",
        "\n",
        "Use this sparingly: many algorithms (e.g. `reindex`) assume unique keys and will raise or mis-align otherwise.\n",
        "\n",
        "\n",
        "### 5. Multi-level (Hierarchical) Indexes\n",
        "\n",
        "A `MultiIndex` lets you work with nested keys and naturally represents grouped or panel structures.\n",
        "\n",
        "```python\n",
        "df_multi = df.set_index([\"species\", \"region\"])\n",
        "```\n",
        "\n",
        "* **Outer-level subset**\n",
        "\n",
        "  ```python\n",
        "  df_multi.loc[[\"Lion\", \"Tiger\"]]\n",
        "  ```\n",
        "\n",
        "* **Tuple subset**\n",
        "\n",
        "  ```python\n",
        "  df_multi.loc[[(\"Lion\", \"Africa\"), (\"Tiger\", \"Asia\")]]\n",
        "  ```\n",
        "\n",
        "\n",
        "### 6. Sorting by Index Values\n",
        "\n",
        "Sorted indexes accelerate joins, as-of merges, and range queries:\n",
        "\n",
        "```python\n",
        "df_sorted = df.sort_index()\n",
        "df_multi_sorted = df_multi.sort_index(level=\"region\", ascending=False)\n",
        "```\n",
        "\n",
        "\n",
        "### 7. `.loc` v `.iloc` – Essential Distinctions\n",
        "\n",
        "| Aspect                | `.loc` (label)                                    | `.iloc` (position)                          |\n",
        "| --------------------- | ------------------------------------------------- | ------------------------------------------- |\n",
        "| Basis                 | *Labels* in the index                             | *Integer positions* (0-based)               |\n",
        "| Slice end-point       | **Inclusive** of stop label                       | **Exclusive** of stop integer               |\n",
        "| Boolean masks         | Accepts boolean Series aligned on index           | Accepts boolean *array-like* of same length |\n",
        "| Partial string slices | Supported for monotonic datetime / string indexes | Not applicable                              |\n",
        "| Performance           | Fast hash look-ups                                | Fast NumPy-style slicing                    |\n",
        "\n",
        "```python\n",
        "# Inclusive slice with .loc\n",
        "df_country.loc[\"Argentina\":\"Brazil\"]\n",
        "\n",
        "# Exclusive with .iloc\n",
        "df_country.iloc[2:5]\n",
        "\n",
        "# Boolean mask\n",
        "mask = df_country[\"population\"] > 100_000_000\n",
        "df_country.loc[mask]          # label aligned\n",
        "df_country.iloc[mask.values]  # positional\n",
        "```\n",
        "\n",
        "**Mnemonic** – *loc*ation by *loc*ator (label), *iloc*ation by *i*nteger.\n",
        "\n",
        "\n",
        "### 8. Fine-grained Scalars – `.at` and `.iat`\n",
        "\n",
        "For single-element access (and mutation) use the scalar variants; they bypass most overhead:\n",
        "\n",
        "```python\n",
        "population_br = df_country.at[\"Brazil\", \"population\"]\n",
        "df_country.iat[0, 2] = 212_559_417\n",
        "```\n",
        "\n",
        "\n",
        "### 9. Performance Notes\n",
        "\n",
        "1. **Alignment** – Operations align on labels. Mismatched indexes introduce `NaN` where labels do not overlap.\n",
        "2. **Monotonic indexes** – Range searches (`df.loc[start:end]`) are O(log n) only if the index is sorted.\n",
        "3. **Categorical indexes** – Memory-light, but they disable range slicing.\n",
        "\n",
        "\n",
        "### 10. Conceptual Challenges and Practical Warnings\n",
        "\n",
        "* **Indexes are merely data**: Moving a column into the index changes how you address it, not its semantics.\n",
        "* **Two syntaxes, two mental models**: You must master both label and position perspectives.\n",
        "* **Tidy-data tension**: Indexing moves variables out of columns, potentially complicating reshaping or export.\n",
        "* **Chain indexing pitfalls**: Never mix `.loc`/`.iloc` with successive `[]` slices; assign through `.loc`/`.iloc` directly to avoid `SettingWithCopyWarning`.\n",
        "\n",
        "\n",
        "Explicit indexes, used judiciously, enhance clarity, performance, and expressiveness for time-series, panel, and hierarchical data. Misapplied, they introduce hidden traps. Cultivate the habit of making your indexing intentions explicit, and you will write code that is both faster and easier to reason about.\n"
      ]
    },
    {
      "cell_type": "code",
      "execution_count": 54,
      "id": "57ffe338",
      "metadata": {
        "id": "57ffe338"
      },
      "outputs": [],
      "source": [
        "temperatures = pd.read_csv(\"data/temperatures.csv\")"
      ]
    },
    {
      "cell_type": "code",
      "execution_count": 55,
      "id": "64b7b082",
      "metadata": {
        "colab": {
          "base_uri": "https://localhost:8080/",
          "height": 206
        },
        "id": "64b7b082",
        "outputId": "b0a3d8a1-1ed7-453a-edce-a52171bca9cd"
      },
      "outputs": [
        {
          "data": {
            "application/vnd.microsoft.datawrangler.viewer.v0+json": {
              "columns": [
                {
                  "name": "index",
                  "rawType": "int64",
                  "type": "integer"
                },
                {
                  "name": "Unnamed: 0",
                  "rawType": "int64",
                  "type": "integer"
                },
                {
                  "name": "date",
                  "rawType": "object",
                  "type": "string"
                },
                {
                  "name": "city",
                  "rawType": "object",
                  "type": "string"
                },
                {
                  "name": "country",
                  "rawType": "object",
                  "type": "string"
                },
                {
                  "name": "avg_temp_c",
                  "rawType": "float64",
                  "type": "float"
                }
              ],
              "ref": "8bc79da6-272c-4300-8e47-cb2470081d2d",
              "rows": [
                [
                  "0",
                  "0",
                  "2000-01-01",
                  "Abidjan",
                  "Côte D'Ivoire",
                  "27.29300000000001"
                ],
                [
                  "1",
                  "1",
                  "2000-02-01",
                  "Abidjan",
                  "Côte D'Ivoire",
                  "27.685"
                ],
                [
                  "2",
                  "2",
                  "2000-03-01",
                  "Abidjan",
                  "Côte D'Ivoire",
                  "29.061"
                ],
                [
                  "3",
                  "3",
                  "2000-04-01",
                  "Abidjan",
                  "Côte D'Ivoire",
                  "28.162"
                ],
                [
                  "4",
                  "4",
                  "2000-05-01",
                  "Abidjan",
                  "Côte D'Ivoire",
                  "27.547"
                ]
              ],
              "shape": {
                "columns": 5,
                "rows": 5
              }
            },
            "text/html": [
              "<div>\n",
              "<style scoped>\n",
              "    .dataframe tbody tr th:only-of-type {\n",
              "        vertical-align: middle;\n",
              "    }\n",
              "\n",
              "    .dataframe tbody tr th {\n",
              "        vertical-align: top;\n",
              "    }\n",
              "\n",
              "    .dataframe thead th {\n",
              "        text-align: right;\n",
              "    }\n",
              "</style>\n",
              "<table border=\"1\" class=\"dataframe\">\n",
              "  <thead>\n",
              "    <tr style=\"text-align: right;\">\n",
              "      <th></th>\n",
              "      <th>Unnamed: 0</th>\n",
              "      <th>date</th>\n",
              "      <th>city</th>\n",
              "      <th>country</th>\n",
              "      <th>avg_temp_c</th>\n",
              "    </tr>\n",
              "  </thead>\n",
              "  <tbody>\n",
              "    <tr>\n",
              "      <th>0</th>\n",
              "      <td>0</td>\n",
              "      <td>2000-01-01</td>\n",
              "      <td>Abidjan</td>\n",
              "      <td>Côte D'Ivoire</td>\n",
              "      <td>27.293</td>\n",
              "    </tr>\n",
              "    <tr>\n",
              "      <th>1</th>\n",
              "      <td>1</td>\n",
              "      <td>2000-02-01</td>\n",
              "      <td>Abidjan</td>\n",
              "      <td>Côte D'Ivoire</td>\n",
              "      <td>27.685</td>\n",
              "    </tr>\n",
              "    <tr>\n",
              "      <th>2</th>\n",
              "      <td>2</td>\n",
              "      <td>2000-03-01</td>\n",
              "      <td>Abidjan</td>\n",
              "      <td>Côte D'Ivoire</td>\n",
              "      <td>29.061</td>\n",
              "    </tr>\n",
              "    <tr>\n",
              "      <th>3</th>\n",
              "      <td>3</td>\n",
              "      <td>2000-04-01</td>\n",
              "      <td>Abidjan</td>\n",
              "      <td>Côte D'Ivoire</td>\n",
              "      <td>28.162</td>\n",
              "    </tr>\n",
              "    <tr>\n",
              "      <th>4</th>\n",
              "      <td>4</td>\n",
              "      <td>2000-05-01</td>\n",
              "      <td>Abidjan</td>\n",
              "      <td>Côte D'Ivoire</td>\n",
              "      <td>27.547</td>\n",
              "    </tr>\n",
              "  </tbody>\n",
              "</table>\n",
              "</div>"
            ],
            "text/plain": [
              "   Unnamed: 0        date     city        country  avg_temp_c\n",
              "0           0  2000-01-01  Abidjan  Côte D'Ivoire      27.293\n",
              "1           1  2000-02-01  Abidjan  Côte D'Ivoire      27.685\n",
              "2           2  2000-03-01  Abidjan  Côte D'Ivoire      29.061\n",
              "3           3  2000-04-01  Abidjan  Côte D'Ivoire      28.162\n",
              "4           4  2000-05-01  Abidjan  Côte D'Ivoire      27.547"
            ]
          },
          "execution_count": 55,
          "metadata": {},
          "output_type": "execute_result"
        }
      ],
      "source": [
        "# Look at temperatures.\n",
        "temperatures.head()"
      ]
    },
    {
      "cell_type": "code",
      "execution_count": null,
      "id": "a4a4df81",
      "metadata": {
        "colab": {
          "base_uri": "https://localhost:8080/"
        },
        "id": "a4a4df81",
        "outputId": "02b7ce00-7da4-4542-9f7d-cd4a36c40a60"
      },
      "outputs": [
        {
          "data": {
            "application/vnd.microsoft.datawrangler.viewer.v0+json": {
              "columns": [
                {
                  "name": "city",
                  "rawType": "object",
                  "type": "string"
                },
                {
                  "name": "Unnamed: 0",
                  "rawType": "int64",
                  "type": "integer"
                },
                {
                  "name": "date",
                  "rawType": "object",
                  "type": "string"
                },
                {
                  "name": "country",
                  "rawType": "object",
                  "type": "string"
                },
                {
                  "name": "avg_temp_c",
                  "rawType": "float64",
                  "type": "float"
                }
              ],
              "ref": "ac5bb9f1-cfdd-4a13-91a4-31a516de5495",
              "rows": [
                [
                  "Abidjan",
                  "0",
                  "2000-01-01",
                  "Côte D'Ivoire",
                  "27.29300000000001"
                ],
                [
                  "Abidjan",
                  "1",
                  "2000-02-01",
                  "Côte D'Ivoire",
                  "27.685"
                ],
                [
                  "Abidjan",
                  "2",
                  "2000-03-01",
                  "Côte D'Ivoire",
                  "29.061"
                ],
                [
                  "Abidjan",
                  "3",
                  "2000-04-01",
                  "Côte D'Ivoire",
                  "28.162"
                ],
                [
                  "Abidjan",
                  "4",
                  "2000-05-01",
                  "Côte D'Ivoire",
                  "27.547"
                ]
              ],
              "shape": {
                "columns": 4,
                "rows": 5
              }
            },
            "text/html": [
              "<div>\n",
              "<style scoped>\n",
              "    .dataframe tbody tr th:only-of-type {\n",
              "        vertical-align: middle;\n",
              "    }\n",
              "\n",
              "    .dataframe tbody tr th {\n",
              "        vertical-align: top;\n",
              "    }\n",
              "\n",
              "    .dataframe thead th {\n",
              "        text-align: right;\n",
              "    }\n",
              "</style>\n",
              "<table border=\"1\" class=\"dataframe\">\n",
              "  <thead>\n",
              "    <tr style=\"text-align: right;\">\n",
              "      <th></th>\n",
              "      <th>Unnamed: 0</th>\n",
              "      <th>date</th>\n",
              "      <th>country</th>\n",
              "      <th>avg_temp_c</th>\n",
              "    </tr>\n",
              "    <tr>\n",
              "      <th>city</th>\n",
              "      <th></th>\n",
              "      <th></th>\n",
              "      <th></th>\n",
              "      <th></th>\n",
              "    </tr>\n",
              "  </thead>\n",
              "  <tbody>\n",
              "    <tr>\n",
              "      <th>Abidjan</th>\n",
              "      <td>0</td>\n",
              "      <td>2000-01-01</td>\n",
              "      <td>Côte D'Ivoire</td>\n",
              "      <td>27.293</td>\n",
              "    </tr>\n",
              "    <tr>\n",
              "      <th>Abidjan</th>\n",
              "      <td>1</td>\n",
              "      <td>2000-02-01</td>\n",
              "      <td>Côte D'Ivoire</td>\n",
              "      <td>27.685</td>\n",
              "    </tr>\n",
              "    <tr>\n",
              "      <th>Abidjan</th>\n",
              "      <td>2</td>\n",
              "      <td>2000-03-01</td>\n",
              "      <td>Côte D'Ivoire</td>\n",
              "      <td>29.061</td>\n",
              "    </tr>\n",
              "    <tr>\n",
              "      <th>Abidjan</th>\n",
              "      <td>3</td>\n",
              "      <td>2000-04-01</td>\n",
              "      <td>Côte D'Ivoire</td>\n",
              "      <td>28.162</td>\n",
              "    </tr>\n",
              "    <tr>\n",
              "      <th>Abidjan</th>\n",
              "      <td>4</td>\n",
              "      <td>2000-05-01</td>\n",
              "      <td>Côte D'Ivoire</td>\n",
              "      <td>27.547</td>\n",
              "    </tr>\n",
              "  </tbody>\n",
              "</table>\n",
              "</div>"
            ],
            "text/plain": [
              "         Unnamed: 0        date        country  avg_temp_c\n",
              "city                                                      \n",
              "Abidjan           0  2000-01-01  Côte D'Ivoire      27.293\n",
              "Abidjan           1  2000-02-01  Côte D'Ivoire      27.685\n",
              "Abidjan           2  2000-03-01  Côte D'Ivoire      29.061\n",
              "Abidjan           3  2000-04-01  Côte D'Ivoire      28.162\n",
              "Abidjan           4  2000-05-01  Côte D'Ivoire      27.547"
            ]
          },
          "execution_count": 56,
          "metadata": {},
          "output_type": "execute_result"
        }
      ],
      "source": [
        "# Set the index of temperatures to city\n",
        "temperatures_ind = temperatures.set_index[\"city\"])\n",
        "\n",
        "# Look at temperatures_ind\n",
        "temperatures_ind.head()"
      ]
    },
    {
      "cell_type": "code",
      "execution_count": 57,
      "id": "fc2e8c76",
      "metadata": {
        "colab": {
          "base_uri": "https://localhost:8080/",
          "height": 424
        },
        "id": "fc2e8c76",
        "outputId": "f37b4525-2c5e-4414-dd8c-8663e1894cf9"
      },
      "outputs": [
        {
          "data": {
            "application/vnd.microsoft.datawrangler.viewer.v0+json": {
              "columns": [
                {
                  "name": "index",
                  "rawType": "int64",
                  "type": "integer"
                },
                {
                  "name": "city",
                  "rawType": "object",
                  "type": "string"
                },
                {
                  "name": "Unnamed: 0",
                  "rawType": "int64",
                  "type": "integer"
                },
                {
                  "name": "date",
                  "rawType": "object",
                  "type": "string"
                },
                {
                  "name": "country",
                  "rawType": "object",
                  "type": "string"
                },
                {
                  "name": "avg_temp_c",
                  "rawType": "float64",
                  "type": "float"
                }
              ],
              "ref": "f6271455-a396-4e08-b515-f4c5f1be1cca",
              "rows": [
                [
                  "0",
                  "Abidjan",
                  "0",
                  "2000-01-01",
                  "Côte D'Ivoire",
                  "27.29300000000001"
                ],
                [
                  "1",
                  "Abidjan",
                  "1",
                  "2000-02-01",
                  "Côte D'Ivoire",
                  "27.685"
                ],
                [
                  "2",
                  "Abidjan",
                  "2",
                  "2000-03-01",
                  "Côte D'Ivoire",
                  "29.061"
                ],
                [
                  "3",
                  "Abidjan",
                  "3",
                  "2000-04-01",
                  "Côte D'Ivoire",
                  "28.162"
                ],
                [
                  "4",
                  "Abidjan",
                  "4",
                  "2000-05-01",
                  "Côte D'Ivoire",
                  "27.547"
                ],
                [
                  "5",
                  "Abidjan",
                  "5",
                  "2000-06-01",
                  "Côte D'Ivoire",
                  "25.812"
                ],
                [
                  "6",
                  "Abidjan",
                  "6",
                  "2000-07-01",
                  "Côte D'Ivoire",
                  "24.87"
                ],
                [
                  "7",
                  "Abidjan",
                  "7",
                  "2000-08-01",
                  "Côte D'Ivoire",
                  "24.884"
                ],
                [
                  "8",
                  "Abidjan",
                  "8",
                  "2000-09-01",
                  "Côte D'Ivoire",
                  "25.405"
                ],
                [
                  "9",
                  "Abidjan",
                  "9",
                  "2000-10-01",
                  "Côte D'Ivoire",
                  "26.074"
                ],
                [
                  "10",
                  "Abidjan",
                  "10",
                  "2000-11-01",
                  "Côte D'Ivoire",
                  "27.315"
                ],
                [
                  "11",
                  "Abidjan",
                  "11",
                  "2000-12-01",
                  "Côte D'Ivoire",
                  "26.929"
                ],
                [
                  "12",
                  "Abidjan",
                  "12",
                  "2001-01-01",
                  "Côte D'Ivoire",
                  "26.92"
                ],
                [
                  "13",
                  "Abidjan",
                  "13",
                  "2001-02-01",
                  "Côte D'Ivoire",
                  "28.234"
                ],
                [
                  "14",
                  "Abidjan",
                  "14",
                  "2001-03-01",
                  "Côte D'Ivoire",
                  "28.706"
                ],
                [
                  "15",
                  "Abidjan",
                  "15",
                  "2001-04-01",
                  "Côte D'Ivoire",
                  "27.702"
                ],
                [
                  "16",
                  "Abidjan",
                  "16",
                  "2001-05-01",
                  "Côte D'Ivoire",
                  "27.653"
                ],
                [
                  "17",
                  "Abidjan",
                  "17",
                  "2001-06-01",
                  "Côte D'Ivoire",
                  "25.94"
                ],
                [
                  "18",
                  "Abidjan",
                  "18",
                  "2001-07-01",
                  "Côte D'Ivoire",
                  "24.841"
                ],
                [
                  "19",
                  "Abidjan",
                  "19",
                  "2001-08-01",
                  "Côte D'Ivoire",
                  "24.28"
                ],
                [
                  "20",
                  "Abidjan",
                  "20",
                  "2001-09-01",
                  "Côte D'Ivoire",
                  "24.797"
                ],
                [
                  "21",
                  "Abidjan",
                  "21",
                  "2001-10-01",
                  "Côte D'Ivoire",
                  "26.278"
                ],
                [
                  "22",
                  "Abidjan",
                  "22",
                  "2001-11-01",
                  "Côte D'Ivoire",
                  "27.374"
                ],
                [
                  "23",
                  "Abidjan",
                  "23",
                  "2001-12-01",
                  "Côte D'Ivoire",
                  "27.59800000000001"
                ],
                [
                  "24",
                  "Abidjan",
                  "24",
                  "2002-01-01",
                  "Côte D'Ivoire",
                  "27.192"
                ],
                [
                  "25",
                  "Abidjan",
                  "25",
                  "2002-02-01",
                  "Côte D'Ivoire",
                  "28.796"
                ],
                [
                  "26",
                  "Abidjan",
                  "26",
                  "2002-03-01",
                  "Côte D'Ivoire",
                  "28.564"
                ],
                [
                  "27",
                  "Abidjan",
                  "27",
                  "2002-04-01",
                  "Côte D'Ivoire",
                  "28.50800000000001"
                ],
                [
                  "28",
                  "Abidjan",
                  "28",
                  "2002-05-01",
                  "Côte D'Ivoire",
                  "27.721"
                ],
                [
                  "29",
                  "Abidjan",
                  "29",
                  "2002-06-01",
                  "Côte D'Ivoire",
                  "25.972"
                ],
                [
                  "30",
                  "Abidjan",
                  "30",
                  "2002-07-01",
                  "Côte D'Ivoire",
                  "25.054"
                ],
                [
                  "31",
                  "Abidjan",
                  "31",
                  "2002-08-01",
                  "Côte D'Ivoire",
                  "24.58"
                ],
                [
                  "32",
                  "Abidjan",
                  "32",
                  "2002-09-01",
                  "Côte D'Ivoire",
                  "25.26"
                ],
                [
                  "33",
                  "Abidjan",
                  "33",
                  "2002-10-01",
                  "Côte D'Ivoire",
                  "26.076"
                ],
                [
                  "34",
                  "Abidjan",
                  "34",
                  "2002-11-01",
                  "Côte D'Ivoire",
                  "27.282"
                ],
                [
                  "35",
                  "Abidjan",
                  "35",
                  "2002-12-01",
                  "Côte D'Ivoire",
                  "27.087"
                ],
                [
                  "36",
                  "Abidjan",
                  "36",
                  "2003-01-01",
                  "Côte D'Ivoire",
                  "27.59"
                ],
                [
                  "37",
                  "Abidjan",
                  "37",
                  "2003-02-01",
                  "Côte D'Ivoire",
                  "28.863000000000003"
                ],
                [
                  "38",
                  "Abidjan",
                  "38",
                  "2003-03-01",
                  "Côte D'Ivoire",
                  "28.98"
                ],
                [
                  "39",
                  "Abidjan",
                  "39",
                  "2003-04-01",
                  "Côte D'Ivoire",
                  "28.169"
                ],
                [
                  "40",
                  "Abidjan",
                  "40",
                  "2003-05-01",
                  "Côte D'Ivoire",
                  "27.91"
                ],
                [
                  "41",
                  "Abidjan",
                  "41",
                  "2003-06-01",
                  "Côte D'Ivoire",
                  "25.993"
                ],
                [
                  "42",
                  "Abidjan",
                  "42",
                  "2003-07-01",
                  "Côte D'Ivoire",
                  "25.221"
                ],
                [
                  "43",
                  "Abidjan",
                  "43",
                  "2003-08-01",
                  "Côte D'Ivoire",
                  "24.88"
                ],
                [
                  "44",
                  "Abidjan",
                  "44",
                  "2003-09-01",
                  "Côte D'Ivoire",
                  "25.737"
                ],
                [
                  "45",
                  "Abidjan",
                  "45",
                  "2003-10-01",
                  "Côte D'Ivoire",
                  "26.69400000000001"
                ],
                [
                  "46",
                  "Abidjan",
                  "46",
                  "2003-11-01",
                  "Côte D'Ivoire",
                  "27.479"
                ],
                [
                  "47",
                  "Abidjan",
                  "47",
                  "2003-12-01",
                  "Côte D'Ivoire",
                  "27.092"
                ],
                [
                  "48",
                  "Abidjan",
                  "48",
                  "2004-01-01",
                  "Côte D'Ivoire",
                  "27.728"
                ],
                [
                  "49",
                  "Abidjan",
                  "49",
                  "2004-02-01",
                  "Côte D'Ivoire",
                  "28.705"
                ]
              ],
              "shape": {
                "columns": 5,
                "rows": 16500
              }
            },
            "text/html": [
              "<div>\n",
              "<style scoped>\n",
              "    .dataframe tbody tr th:only-of-type {\n",
              "        vertical-align: middle;\n",
              "    }\n",
              "\n",
              "    .dataframe tbody tr th {\n",
              "        vertical-align: top;\n",
              "    }\n",
              "\n",
              "    .dataframe thead th {\n",
              "        text-align: right;\n",
              "    }\n",
              "</style>\n",
              "<table border=\"1\" class=\"dataframe\">\n",
              "  <thead>\n",
              "    <tr style=\"text-align: right;\">\n",
              "      <th></th>\n",
              "      <th>city</th>\n",
              "      <th>Unnamed: 0</th>\n",
              "      <th>date</th>\n",
              "      <th>country</th>\n",
              "      <th>avg_temp_c</th>\n",
              "    </tr>\n",
              "  </thead>\n",
              "  <tbody>\n",
              "    <tr>\n",
              "      <th>0</th>\n",
              "      <td>Abidjan</td>\n",
              "      <td>0</td>\n",
              "      <td>2000-01-01</td>\n",
              "      <td>Côte D'Ivoire</td>\n",
              "      <td>27.293</td>\n",
              "    </tr>\n",
              "    <tr>\n",
              "      <th>1</th>\n",
              "      <td>Abidjan</td>\n",
              "      <td>1</td>\n",
              "      <td>2000-02-01</td>\n",
              "      <td>Côte D'Ivoire</td>\n",
              "      <td>27.685</td>\n",
              "    </tr>\n",
              "    <tr>\n",
              "      <th>2</th>\n",
              "      <td>Abidjan</td>\n",
              "      <td>2</td>\n",
              "      <td>2000-03-01</td>\n",
              "      <td>Côte D'Ivoire</td>\n",
              "      <td>29.061</td>\n",
              "    </tr>\n",
              "    <tr>\n",
              "      <th>3</th>\n",
              "      <td>Abidjan</td>\n",
              "      <td>3</td>\n",
              "      <td>2000-04-01</td>\n",
              "      <td>Côte D'Ivoire</td>\n",
              "      <td>28.162</td>\n",
              "    </tr>\n",
              "    <tr>\n",
              "      <th>4</th>\n",
              "      <td>Abidjan</td>\n",
              "      <td>4</td>\n",
              "      <td>2000-05-01</td>\n",
              "      <td>Côte D'Ivoire</td>\n",
              "      <td>27.547</td>\n",
              "    </tr>\n",
              "    <tr>\n",
              "      <th>...</th>\n",
              "      <td>...</td>\n",
              "      <td>...</td>\n",
              "      <td>...</td>\n",
              "      <td>...</td>\n",
              "      <td>...</td>\n",
              "    </tr>\n",
              "    <tr>\n",
              "      <th>16495</th>\n",
              "      <td>Xian</td>\n",
              "      <td>16495</td>\n",
              "      <td>2013-05-01</td>\n",
              "      <td>China</td>\n",
              "      <td>18.979</td>\n",
              "    </tr>\n",
              "    <tr>\n",
              "      <th>16496</th>\n",
              "      <td>Xian</td>\n",
              "      <td>16496</td>\n",
              "      <td>2013-06-01</td>\n",
              "      <td>China</td>\n",
              "      <td>23.522</td>\n",
              "    </tr>\n",
              "    <tr>\n",
              "      <th>16497</th>\n",
              "      <td>Xian</td>\n",
              "      <td>16497</td>\n",
              "      <td>2013-07-01</td>\n",
              "      <td>China</td>\n",
              "      <td>25.251</td>\n",
              "    </tr>\n",
              "    <tr>\n",
              "      <th>16498</th>\n",
              "      <td>Xian</td>\n",
              "      <td>16498</td>\n",
              "      <td>2013-08-01</td>\n",
              "      <td>China</td>\n",
              "      <td>24.528</td>\n",
              "    </tr>\n",
              "    <tr>\n",
              "      <th>16499</th>\n",
              "      <td>Xian</td>\n",
              "      <td>16499</td>\n",
              "      <td>2013-09-01</td>\n",
              "      <td>China</td>\n",
              "      <td>NaN</td>\n",
              "    </tr>\n",
              "  </tbody>\n",
              "</table>\n",
              "<p>16500 rows × 5 columns</p>\n",
              "</div>"
            ],
            "text/plain": [
              "          city  Unnamed: 0        date        country  avg_temp_c\n",
              "0      Abidjan           0  2000-01-01  Côte D'Ivoire      27.293\n",
              "1      Abidjan           1  2000-02-01  Côte D'Ivoire      27.685\n",
              "2      Abidjan           2  2000-03-01  Côte D'Ivoire      29.061\n",
              "3      Abidjan           3  2000-04-01  Côte D'Ivoire      28.162\n",
              "4      Abidjan           4  2000-05-01  Côte D'Ivoire      27.547\n",
              "...        ...         ...         ...            ...         ...\n",
              "16495     Xian       16495  2013-05-01          China      18.979\n",
              "16496     Xian       16496  2013-06-01          China      23.522\n",
              "16497     Xian       16497  2013-07-01          China      25.251\n",
              "16498     Xian       16498  2013-08-01          China      24.528\n",
              "16499     Xian       16499  2013-09-01          China         NaN\n",
              "\n",
              "[16500 rows x 5 columns]"
            ]
          },
          "execution_count": 57,
          "metadata": {},
          "output_type": "execute_result"
        }
      ],
      "source": [
        "# Reset the temperatures_ind index, keeping its contents\n",
        "temperatures_ind.reset_index()"
      ]
    },
    {
      "cell_type": "code",
      "execution_count": 58,
      "id": "5d5d1aa8",
      "metadata": {
        "colab": {
          "base_uri": "https://localhost:8080/",
          "height": 424
        },
        "id": "5d5d1aa8",
        "outputId": "2468b611-22a6-4222-9a28-cb4a8e8ea64e"
      },
      "outputs": [
        {
          "name": "stdout",
          "output_type": "stream",
          "text": [
            "       Unnamed: 0        date        country  avg_temp_c\n",
            "0               0  2000-01-01  Côte D'Ivoire      27.293\n",
            "1               1  2000-02-01  Côte D'Ivoire      27.685\n",
            "2               2  2000-03-01  Côte D'Ivoire      29.061\n",
            "3               3  2000-04-01  Côte D'Ivoire      28.162\n",
            "4               4  2000-05-01  Côte D'Ivoire      27.547\n",
            "...           ...         ...            ...         ...\n",
            "16495       16495  2013-05-01          China      18.979\n",
            "16496       16496  2013-06-01          China      23.522\n",
            "16497       16497  2013-07-01          China      25.251\n",
            "16498       16498  2013-08-01          China      24.528\n",
            "16499       16499  2013-09-01          China         NaN\n",
            "\n",
            "[16500 rows x 4 columns]\n"
          ]
        }
      ],
      "source": [
        "# Reset the temperatures_ind index, dropping its contents\n",
        "print(temperatures_ind.reset_index(drop=True))"
      ]
    },
    {
      "cell_type": "code",
      "execution_count": 59,
      "id": "9c30fb4c",
      "metadata": {
        "colab": {
          "base_uri": "https://localhost:8080/"
        },
        "id": "9c30fb4c",
        "outputId": "2b9f162e-3178-467c-d214-ac6f68a6f82c"
      },
      "outputs": [
        {
          "data": {
            "application/vnd.microsoft.datawrangler.viewer.v0+json": {
              "columns": [
                {
                  "name": "index",
                  "rawType": "int64",
                  "type": "integer"
                },
                {
                  "name": "Unnamed: 0",
                  "rawType": "int64",
                  "type": "integer"
                },
                {
                  "name": "date",
                  "rawType": "object",
                  "type": "string"
                },
                {
                  "name": "city",
                  "rawType": "object",
                  "type": "string"
                },
                {
                  "name": "country",
                  "rawType": "object",
                  "type": "string"
                },
                {
                  "name": "avg_temp_c",
                  "rawType": "float64",
                  "type": "float"
                }
              ],
              "ref": "6c26aba7-c567-48c9-85de-4ff5596147f5",
              "rows": [
                [
                  "10725",
                  "10725",
                  "2000-01-01",
                  "Moscow",
                  "Russia",
                  "-7.3130000000000015"
                ],
                [
                  "10726",
                  "10726",
                  "2000-02-01",
                  "Moscow",
                  "Russia",
                  "-3.551"
                ],
                [
                  "10727",
                  "10727",
                  "2000-03-01",
                  "Moscow",
                  "Russia",
                  "-1.6609999999999996"
                ],
                [
                  "10728",
                  "10728",
                  "2000-04-01",
                  "Moscow",
                  "Russia",
                  "10.096"
                ],
                [
                  "10729",
                  "10729",
                  "2000-05-01",
                  "Moscow",
                  "Russia",
                  "10.357"
                ],
                [
                  "10730",
                  "10730",
                  "2000-06-01",
                  "Moscow",
                  "Russia",
                  "15.243"
                ],
                [
                  "10731",
                  "10731",
                  "2000-07-01",
                  "Moscow",
                  "Russia",
                  "18.676"
                ],
                [
                  "10732",
                  "10732",
                  "2000-08-01",
                  "Moscow",
                  "Russia",
                  "16.42"
                ],
                [
                  "10733",
                  "10733",
                  "2000-09-01",
                  "Moscow",
                  "Russia",
                  "9.775"
                ],
                [
                  "10734",
                  "10734",
                  "2000-10-01",
                  "Moscow",
                  "Russia",
                  "6.6110000000000015"
                ],
                [
                  "10735",
                  "10735",
                  "2000-11-01",
                  "Moscow",
                  "Russia",
                  "-0.1680000000000001"
                ],
                [
                  "10736",
                  "10736",
                  "2000-12-01",
                  "Moscow",
                  "Russia",
                  "-2.954"
                ],
                [
                  "10737",
                  "10737",
                  "2001-01-01",
                  "Moscow",
                  "Russia",
                  "-4.9140000000000015"
                ],
                [
                  "10738",
                  "10738",
                  "2001-02-01",
                  "Moscow",
                  "Russia",
                  "-7.760999999999999"
                ],
                [
                  "10739",
                  "10739",
                  "2001-03-01",
                  "Moscow",
                  "Russia",
                  "-2.833"
                ],
                [
                  "10740",
                  "10740",
                  "2001-04-01",
                  "Moscow",
                  "Russia",
                  "10.055"
                ],
                [
                  "10741",
                  "10741",
                  "2001-05-01",
                  "Moscow",
                  "Russia",
                  "11.012"
                ],
                [
                  "10742",
                  "10742",
                  "2001-06-01",
                  "Moscow",
                  "Russia",
                  "15.733"
                ],
                [
                  "10743",
                  "10743",
                  "2001-07-01",
                  "Moscow",
                  "Russia",
                  "22.306"
                ],
                [
                  "10744",
                  "10744",
                  "2001-08-01",
                  "Moscow",
                  "Russia",
                  "16.576"
                ],
                [
                  "10745",
                  "10745",
                  "2001-09-01",
                  "Moscow",
                  "Russia",
                  "11.630999999999998"
                ],
                [
                  "10746",
                  "10746",
                  "2001-10-01",
                  "Moscow",
                  "Russia",
                  "4.7780000000000005"
                ],
                [
                  "10747",
                  "10747",
                  "2001-11-01",
                  "Moscow",
                  "Russia",
                  "-0.8650000000000001"
                ],
                [
                  "10748",
                  "10748",
                  "2001-12-01",
                  "Moscow",
                  "Russia",
                  "-11.924"
                ],
                [
                  "10749",
                  "10749",
                  "2002-01-01",
                  "Moscow",
                  "Russia",
                  "-5.5580000000000025"
                ],
                [
                  "10750",
                  "10750",
                  "2002-02-01",
                  "Moscow",
                  "Russia",
                  "-1.0739999999999998"
                ],
                [
                  "10751",
                  "10751",
                  "2002-03-01",
                  "Moscow",
                  "Russia",
                  "1.883"
                ],
                [
                  "10752",
                  "10752",
                  "2002-04-01",
                  "Moscow",
                  "Russia",
                  "6.496"
                ],
                [
                  "10753",
                  "10753",
                  "2002-05-01",
                  "Moscow",
                  "Russia",
                  "12.188"
                ],
                [
                  "10754",
                  "10754",
                  "2002-06-01",
                  "Moscow",
                  "Russia",
                  "16.59"
                ],
                [
                  "10755",
                  "10755",
                  "2002-07-01",
                  "Moscow",
                  "Russia",
                  "21.742"
                ],
                [
                  "10756",
                  "10756",
                  "2002-08-01",
                  "Moscow",
                  "Russia",
                  "16.913"
                ],
                [
                  "10757",
                  "10757",
                  "2002-09-01",
                  "Moscow",
                  "Russia",
                  "11.588"
                ],
                [
                  "10758",
                  "10758",
                  "2002-10-01",
                  "Moscow",
                  "Russia",
                  "2.3080000000000003"
                ],
                [
                  "10759",
                  "10759",
                  "2002-11-01",
                  "Moscow",
                  "Russia",
                  "-1.884"
                ],
                [
                  "10760",
                  "10760",
                  "2002-12-01",
                  "Moscow",
                  "Russia",
                  "-13.581"
                ],
                [
                  "10761",
                  "10761",
                  "2003-01-01",
                  "Moscow",
                  "Russia",
                  "-8.051"
                ],
                [
                  "10762",
                  "10762",
                  "2003-02-01",
                  "Moscow",
                  "Russia",
                  "-9.678"
                ],
                [
                  "10763",
                  "10763",
                  "2003-03-01",
                  "Moscow",
                  "Russia",
                  "-4.013999999999999"
                ],
                [
                  "10764",
                  "10764",
                  "2003-04-01",
                  "Moscow",
                  "Russia",
                  "3.705"
                ],
                [
                  "10765",
                  "10765",
                  "2003-05-01",
                  "Moscow",
                  "Russia",
                  "14.829"
                ],
                [
                  "10766",
                  "10766",
                  "2003-06-01",
                  "Moscow",
                  "Russia",
                  "12.697"
                ],
                [
                  "10767",
                  "10767",
                  "2003-07-01",
                  "Moscow",
                  "Russia",
                  "19.809"
                ],
                [
                  "10768",
                  "10768",
                  "2003-08-01",
                  "Moscow",
                  "Russia",
                  "16.519000000000002"
                ],
                [
                  "10769",
                  "10769",
                  "2003-09-01",
                  "Moscow",
                  "Russia",
                  "11.2"
                ],
                [
                  "10770",
                  "10770",
                  "2003-10-01",
                  "Moscow",
                  "Russia",
                  "4.898"
                ],
                [
                  "10771",
                  "10771",
                  "2003-11-01",
                  "Moscow",
                  "Russia",
                  "0.901"
                ],
                [
                  "10772",
                  "10772",
                  "2003-12-01",
                  "Moscow",
                  "Russia",
                  "-2.9630000000000005"
                ],
                [
                  "10773",
                  "10773",
                  "2004-01-01",
                  "Moscow",
                  "Russia",
                  "-7.127000000000002"
                ],
                [
                  "10774",
                  "10774",
                  "2004-02-01",
                  "Moscow",
                  "Russia",
                  "-7.798999999999999"
                ]
              ],
              "shape": {
                "columns": 5,
                "rows": 330
              }
            },
            "text/html": [
              "<div>\n",
              "<style scoped>\n",
              "    .dataframe tbody tr th:only-of-type {\n",
              "        vertical-align: middle;\n",
              "    }\n",
              "\n",
              "    .dataframe tbody tr th {\n",
              "        vertical-align: top;\n",
              "    }\n",
              "\n",
              "    .dataframe thead th {\n",
              "        text-align: right;\n",
              "    }\n",
              "</style>\n",
              "<table border=\"1\" class=\"dataframe\">\n",
              "  <thead>\n",
              "    <tr style=\"text-align: right;\">\n",
              "      <th></th>\n",
              "      <th>Unnamed: 0</th>\n",
              "      <th>date</th>\n",
              "      <th>city</th>\n",
              "      <th>country</th>\n",
              "      <th>avg_temp_c</th>\n",
              "    </tr>\n",
              "  </thead>\n",
              "  <tbody>\n",
              "    <tr>\n",
              "      <th>10725</th>\n",
              "      <td>10725</td>\n",
              "      <td>2000-01-01</td>\n",
              "      <td>Moscow</td>\n",
              "      <td>Russia</td>\n",
              "      <td>-7.313</td>\n",
              "    </tr>\n",
              "    <tr>\n",
              "      <th>10726</th>\n",
              "      <td>10726</td>\n",
              "      <td>2000-02-01</td>\n",
              "      <td>Moscow</td>\n",
              "      <td>Russia</td>\n",
              "      <td>-3.551</td>\n",
              "    </tr>\n",
              "    <tr>\n",
              "      <th>10727</th>\n",
              "      <td>10727</td>\n",
              "      <td>2000-03-01</td>\n",
              "      <td>Moscow</td>\n",
              "      <td>Russia</td>\n",
              "      <td>-1.661</td>\n",
              "    </tr>\n",
              "    <tr>\n",
              "      <th>10728</th>\n",
              "      <td>10728</td>\n",
              "      <td>2000-04-01</td>\n",
              "      <td>Moscow</td>\n",
              "      <td>Russia</td>\n",
              "      <td>10.096</td>\n",
              "    </tr>\n",
              "    <tr>\n",
              "      <th>10729</th>\n",
              "      <td>10729</td>\n",
              "      <td>2000-05-01</td>\n",
              "      <td>Moscow</td>\n",
              "      <td>Russia</td>\n",
              "      <td>10.357</td>\n",
              "    </tr>\n",
              "    <tr>\n",
              "      <th>...</th>\n",
              "      <td>...</td>\n",
              "      <td>...</td>\n",
              "      <td>...</td>\n",
              "      <td>...</td>\n",
              "      <td>...</td>\n",
              "    </tr>\n",
              "    <tr>\n",
              "      <th>13360</th>\n",
              "      <td>13360</td>\n",
              "      <td>2013-05-01</td>\n",
              "      <td>Saint Petersburg</td>\n",
              "      <td>Russia</td>\n",
              "      <td>12.355</td>\n",
              "    </tr>\n",
              "    <tr>\n",
              "      <th>13361</th>\n",
              "      <td>13361</td>\n",
              "      <td>2013-06-01</td>\n",
              "      <td>Saint Petersburg</td>\n",
              "      <td>Russia</td>\n",
              "      <td>17.185</td>\n",
              "    </tr>\n",
              "    <tr>\n",
              "      <th>13362</th>\n",
              "      <td>13362</td>\n",
              "      <td>2013-07-01</td>\n",
              "      <td>Saint Petersburg</td>\n",
              "      <td>Russia</td>\n",
              "      <td>17.234</td>\n",
              "    </tr>\n",
              "    <tr>\n",
              "      <th>13363</th>\n",
              "      <td>13363</td>\n",
              "      <td>2013-08-01</td>\n",
              "      <td>Saint Petersburg</td>\n",
              "      <td>Russia</td>\n",
              "      <td>17.153</td>\n",
              "    </tr>\n",
              "    <tr>\n",
              "      <th>13364</th>\n",
              "      <td>13364</td>\n",
              "      <td>2013-09-01</td>\n",
              "      <td>Saint Petersburg</td>\n",
              "      <td>Russia</td>\n",
              "      <td>NaN</td>\n",
              "    </tr>\n",
              "  </tbody>\n",
              "</table>\n",
              "<p>330 rows × 5 columns</p>\n",
              "</div>"
            ],
            "text/plain": [
              "       Unnamed: 0        date              city country  avg_temp_c\n",
              "10725       10725  2000-01-01            Moscow  Russia      -7.313\n",
              "10726       10726  2000-02-01            Moscow  Russia      -3.551\n",
              "10727       10727  2000-03-01            Moscow  Russia      -1.661\n",
              "10728       10728  2000-04-01            Moscow  Russia      10.096\n",
              "10729       10729  2000-05-01            Moscow  Russia      10.357\n",
              "...           ...         ...               ...     ...         ...\n",
              "13360       13360  2013-05-01  Saint Petersburg  Russia      12.355\n",
              "13361       13361  2013-06-01  Saint Petersburg  Russia      17.185\n",
              "13362       13362  2013-07-01  Saint Petersburg  Russia      17.234\n",
              "13363       13363  2013-08-01  Saint Petersburg  Russia      17.153\n",
              "13364       13364  2013-09-01  Saint Petersburg  Russia         NaN\n",
              "\n",
              "[330 rows x 5 columns]"
            ]
          },
          "execution_count": 59,
          "metadata": {},
          "output_type": "execute_result"
        }
      ],
      "source": [
        "# Create a list called cities that contains \"Moscow\" and \"Saint Petersburg\".\n",
        "cities = [\"Moscow\", \"Saint Petersburg\"]\n",
        "\n",
        "# Use [] subsetting to filter temperatures for rows where the city column takes a value in the cities list.\n",
        "temperatures[temperatures[\"city\"].isin(cities)]"
      ]
    },
    {
      "cell_type": "code",
      "execution_count": 60,
      "id": "73d8f287",
      "metadata": {
        "colab": {
          "base_uri": "https://localhost:8080/"
        },
        "id": "73d8f287",
        "outputId": "b3ae2f44-7136-44d0-c8b6-cb6723e496bd"
      },
      "outputs": [
        {
          "data": {
            "application/vnd.microsoft.datawrangler.viewer.v0+json": {
              "columns": [
                {
                  "name": "city",
                  "rawType": "object",
                  "type": "string"
                },
                {
                  "name": "Unnamed: 0",
                  "rawType": "int64",
                  "type": "integer"
                },
                {
                  "name": "date",
                  "rawType": "object",
                  "type": "string"
                },
                {
                  "name": "country",
                  "rawType": "object",
                  "type": "string"
                },
                {
                  "name": "avg_temp_c",
                  "rawType": "float64",
                  "type": "float"
                }
              ],
              "ref": "0d29fbd2-d02d-4f99-b949-2afb7ad4f9ed",
              "rows": [
                [
                  "Moscow",
                  "10725",
                  "2000-01-01",
                  "Russia",
                  "-7.3130000000000015"
                ],
                [
                  "Moscow",
                  "10726",
                  "2000-02-01",
                  "Russia",
                  "-3.551"
                ],
                [
                  "Moscow",
                  "10727",
                  "2000-03-01",
                  "Russia",
                  "-1.6609999999999996"
                ],
                [
                  "Moscow",
                  "10728",
                  "2000-04-01",
                  "Russia",
                  "10.096"
                ],
                [
                  "Moscow",
                  "10729",
                  "2000-05-01",
                  "Russia",
                  "10.357"
                ],
                [
                  "Moscow",
                  "10730",
                  "2000-06-01",
                  "Russia",
                  "15.243"
                ],
                [
                  "Moscow",
                  "10731",
                  "2000-07-01",
                  "Russia",
                  "18.676"
                ],
                [
                  "Moscow",
                  "10732",
                  "2000-08-01",
                  "Russia",
                  "16.42"
                ],
                [
                  "Moscow",
                  "10733",
                  "2000-09-01",
                  "Russia",
                  "9.775"
                ],
                [
                  "Moscow",
                  "10734",
                  "2000-10-01",
                  "Russia",
                  "6.6110000000000015"
                ],
                [
                  "Moscow",
                  "10735",
                  "2000-11-01",
                  "Russia",
                  "-0.1680000000000001"
                ],
                [
                  "Moscow",
                  "10736",
                  "2000-12-01",
                  "Russia",
                  "-2.954"
                ],
                [
                  "Moscow",
                  "10737",
                  "2001-01-01",
                  "Russia",
                  "-4.9140000000000015"
                ],
                [
                  "Moscow",
                  "10738",
                  "2001-02-01",
                  "Russia",
                  "-7.760999999999999"
                ],
                [
                  "Moscow",
                  "10739",
                  "2001-03-01",
                  "Russia",
                  "-2.833"
                ],
                [
                  "Moscow",
                  "10740",
                  "2001-04-01",
                  "Russia",
                  "10.055"
                ],
                [
                  "Moscow",
                  "10741",
                  "2001-05-01",
                  "Russia",
                  "11.012"
                ],
                [
                  "Moscow",
                  "10742",
                  "2001-06-01",
                  "Russia",
                  "15.733"
                ],
                [
                  "Moscow",
                  "10743",
                  "2001-07-01",
                  "Russia",
                  "22.306"
                ],
                [
                  "Moscow",
                  "10744",
                  "2001-08-01",
                  "Russia",
                  "16.576"
                ],
                [
                  "Moscow",
                  "10745",
                  "2001-09-01",
                  "Russia",
                  "11.630999999999998"
                ],
                [
                  "Moscow",
                  "10746",
                  "2001-10-01",
                  "Russia",
                  "4.7780000000000005"
                ],
                [
                  "Moscow",
                  "10747",
                  "2001-11-01",
                  "Russia",
                  "-0.8650000000000001"
                ],
                [
                  "Moscow",
                  "10748",
                  "2001-12-01",
                  "Russia",
                  "-11.924"
                ],
                [
                  "Moscow",
                  "10749",
                  "2002-01-01",
                  "Russia",
                  "-5.5580000000000025"
                ],
                [
                  "Moscow",
                  "10750",
                  "2002-02-01",
                  "Russia",
                  "-1.0739999999999998"
                ],
                [
                  "Moscow",
                  "10751",
                  "2002-03-01",
                  "Russia",
                  "1.883"
                ],
                [
                  "Moscow",
                  "10752",
                  "2002-04-01",
                  "Russia",
                  "6.496"
                ],
                [
                  "Moscow",
                  "10753",
                  "2002-05-01",
                  "Russia",
                  "12.188"
                ],
                [
                  "Moscow",
                  "10754",
                  "2002-06-01",
                  "Russia",
                  "16.59"
                ],
                [
                  "Moscow",
                  "10755",
                  "2002-07-01",
                  "Russia",
                  "21.742"
                ],
                [
                  "Moscow",
                  "10756",
                  "2002-08-01",
                  "Russia",
                  "16.913"
                ],
                [
                  "Moscow",
                  "10757",
                  "2002-09-01",
                  "Russia",
                  "11.588"
                ],
                [
                  "Moscow",
                  "10758",
                  "2002-10-01",
                  "Russia",
                  "2.3080000000000003"
                ],
                [
                  "Moscow",
                  "10759",
                  "2002-11-01",
                  "Russia",
                  "-1.884"
                ],
                [
                  "Moscow",
                  "10760",
                  "2002-12-01",
                  "Russia",
                  "-13.581"
                ],
                [
                  "Moscow",
                  "10761",
                  "2003-01-01",
                  "Russia",
                  "-8.051"
                ],
                [
                  "Moscow",
                  "10762",
                  "2003-02-01",
                  "Russia",
                  "-9.678"
                ],
                [
                  "Moscow",
                  "10763",
                  "2003-03-01",
                  "Russia",
                  "-4.013999999999999"
                ],
                [
                  "Moscow",
                  "10764",
                  "2003-04-01",
                  "Russia",
                  "3.705"
                ],
                [
                  "Moscow",
                  "10765",
                  "2003-05-01",
                  "Russia",
                  "14.829"
                ],
                [
                  "Moscow",
                  "10766",
                  "2003-06-01",
                  "Russia",
                  "12.697"
                ],
                [
                  "Moscow",
                  "10767",
                  "2003-07-01",
                  "Russia",
                  "19.809"
                ],
                [
                  "Moscow",
                  "10768",
                  "2003-08-01",
                  "Russia",
                  "16.519000000000002"
                ],
                [
                  "Moscow",
                  "10769",
                  "2003-09-01",
                  "Russia",
                  "11.2"
                ],
                [
                  "Moscow",
                  "10770",
                  "2003-10-01",
                  "Russia",
                  "4.898"
                ],
                [
                  "Moscow",
                  "10771",
                  "2003-11-01",
                  "Russia",
                  "0.901"
                ],
                [
                  "Moscow",
                  "10772",
                  "2003-12-01",
                  "Russia",
                  "-2.9630000000000005"
                ],
                [
                  "Moscow",
                  "10773",
                  "2004-01-01",
                  "Russia",
                  "-7.127000000000002"
                ],
                [
                  "Moscow",
                  "10774",
                  "2004-02-01",
                  "Russia",
                  "-7.798999999999999"
                ]
              ],
              "shape": {
                "columns": 4,
                "rows": 330
              }
            },
            "text/html": [
              "<div>\n",
              "<style scoped>\n",
              "    .dataframe tbody tr th:only-of-type {\n",
              "        vertical-align: middle;\n",
              "    }\n",
              "\n",
              "    .dataframe tbody tr th {\n",
              "        vertical-align: top;\n",
              "    }\n",
              "\n",
              "    .dataframe thead th {\n",
              "        text-align: right;\n",
              "    }\n",
              "</style>\n",
              "<table border=\"1\" class=\"dataframe\">\n",
              "  <thead>\n",
              "    <tr style=\"text-align: right;\">\n",
              "      <th></th>\n",
              "      <th>Unnamed: 0</th>\n",
              "      <th>date</th>\n",
              "      <th>country</th>\n",
              "      <th>avg_temp_c</th>\n",
              "    </tr>\n",
              "    <tr>\n",
              "      <th>city</th>\n",
              "      <th></th>\n",
              "      <th></th>\n",
              "      <th></th>\n",
              "      <th></th>\n",
              "    </tr>\n",
              "  </thead>\n",
              "  <tbody>\n",
              "    <tr>\n",
              "      <th>Moscow</th>\n",
              "      <td>10725</td>\n",
              "      <td>2000-01-01</td>\n",
              "      <td>Russia</td>\n",
              "      <td>-7.313</td>\n",
              "    </tr>\n",
              "    <tr>\n",
              "      <th>Moscow</th>\n",
              "      <td>10726</td>\n",
              "      <td>2000-02-01</td>\n",
              "      <td>Russia</td>\n",
              "      <td>-3.551</td>\n",
              "    </tr>\n",
              "    <tr>\n",
              "      <th>Moscow</th>\n",
              "      <td>10727</td>\n",
              "      <td>2000-03-01</td>\n",
              "      <td>Russia</td>\n",
              "      <td>-1.661</td>\n",
              "    </tr>\n",
              "    <tr>\n",
              "      <th>Moscow</th>\n",
              "      <td>10728</td>\n",
              "      <td>2000-04-01</td>\n",
              "      <td>Russia</td>\n",
              "      <td>10.096</td>\n",
              "    </tr>\n",
              "    <tr>\n",
              "      <th>Moscow</th>\n",
              "      <td>10729</td>\n",
              "      <td>2000-05-01</td>\n",
              "      <td>Russia</td>\n",
              "      <td>10.357</td>\n",
              "    </tr>\n",
              "    <tr>\n",
              "      <th>...</th>\n",
              "      <td>...</td>\n",
              "      <td>...</td>\n",
              "      <td>...</td>\n",
              "      <td>...</td>\n",
              "    </tr>\n",
              "    <tr>\n",
              "      <th>Saint Petersburg</th>\n",
              "      <td>13360</td>\n",
              "      <td>2013-05-01</td>\n",
              "      <td>Russia</td>\n",
              "      <td>12.355</td>\n",
              "    </tr>\n",
              "    <tr>\n",
              "      <th>Saint Petersburg</th>\n",
              "      <td>13361</td>\n",
              "      <td>2013-06-01</td>\n",
              "      <td>Russia</td>\n",
              "      <td>17.185</td>\n",
              "    </tr>\n",
              "    <tr>\n",
              "      <th>Saint Petersburg</th>\n",
              "      <td>13362</td>\n",
              "      <td>2013-07-01</td>\n",
              "      <td>Russia</td>\n",
              "      <td>17.234</td>\n",
              "    </tr>\n",
              "    <tr>\n",
              "      <th>Saint Petersburg</th>\n",
              "      <td>13363</td>\n",
              "      <td>2013-08-01</td>\n",
              "      <td>Russia</td>\n",
              "      <td>17.153</td>\n",
              "    </tr>\n",
              "    <tr>\n",
              "      <th>Saint Petersburg</th>\n",
              "      <td>13364</td>\n",
              "      <td>2013-09-01</td>\n",
              "      <td>Russia</td>\n",
              "      <td>NaN</td>\n",
              "    </tr>\n",
              "  </tbody>\n",
              "</table>\n",
              "<p>330 rows × 4 columns</p>\n",
              "</div>"
            ],
            "text/plain": [
              "                  Unnamed: 0        date country  avg_temp_c\n",
              "city                                                        \n",
              "Moscow                 10725  2000-01-01  Russia      -7.313\n",
              "Moscow                 10726  2000-02-01  Russia      -3.551\n",
              "Moscow                 10727  2000-03-01  Russia      -1.661\n",
              "Moscow                 10728  2000-04-01  Russia      10.096\n",
              "Moscow                 10729  2000-05-01  Russia      10.357\n",
              "...                      ...         ...     ...         ...\n",
              "Saint Petersburg       13360  2013-05-01  Russia      12.355\n",
              "Saint Petersburg       13361  2013-06-01  Russia      17.185\n",
              "Saint Petersburg       13362  2013-07-01  Russia      17.234\n",
              "Saint Petersburg       13363  2013-08-01  Russia      17.153\n",
              "Saint Petersburg       13364  2013-09-01  Russia         NaN\n",
              "\n",
              "[330 rows x 4 columns]"
            ]
          },
          "execution_count": 60,
          "metadata": {},
          "output_type": "execute_result"
        }
      ],
      "source": [
        "# Use .loc[] subsetting to filter temperatures_ind for rows where the city is in the cities list.\n",
        "temperatures_ind.loc[cities]"
      ]
    },
    {
      "cell_type": "code",
      "execution_count": 61,
      "id": "315d36d6",
      "metadata": {
        "colab": {
          "base_uri": "https://localhost:8080/",
          "height": 455
        },
        "id": "315d36d6",
        "outputId": "55ef564e-b05d-4454-af45-9c28053ce8e3"
      },
      "outputs": [
        {
          "data": {
            "application/vnd.microsoft.datawrangler.viewer.v0+json": {
              "columns": [
                {
                  "name": "('country', 'city')",
                  "rawType": "object",
                  "type": "unknown"
                },
                {
                  "name": "Unnamed: 0",
                  "rawType": "int64",
                  "type": "integer"
                },
                {
                  "name": "date",
                  "rawType": "object",
                  "type": "string"
                },
                {
                  "name": "avg_temp_c",
                  "rawType": "float64",
                  "type": "float"
                }
              ],
              "ref": "e6d7b436-830f-465e-be04-95da10b61d7b",
              "rows": [
                [
                  "('Brazil', 'Rio De Janeiro')",
                  "12540",
                  "2000-01-01",
                  "25.974"
                ],
                [
                  "('Brazil', 'Rio De Janeiro')",
                  "12541",
                  "2000-02-01",
                  "26.699"
                ],
                [
                  "('Brazil', 'Rio De Janeiro')",
                  "12542",
                  "2000-03-01",
                  "26.27"
                ],
                [
                  "('Brazil', 'Rio De Janeiro')",
                  "12543",
                  "2000-04-01",
                  "25.75"
                ],
                [
                  "('Brazil', 'Rio De Janeiro')",
                  "12544",
                  "2000-05-01",
                  "24.356"
                ],
                [
                  "('Brazil', 'Rio De Janeiro')",
                  "12545",
                  "2000-06-01",
                  "24.059"
                ],
                [
                  "('Brazil', 'Rio De Janeiro')",
                  "12546",
                  "2000-07-01",
                  "22.049"
                ],
                [
                  "('Brazil', 'Rio De Janeiro')",
                  "12547",
                  "2000-08-01",
                  "22.447"
                ],
                [
                  "('Brazil', 'Rio De Janeiro')",
                  "12548",
                  "2000-09-01",
                  "22.099"
                ],
                [
                  "('Brazil', 'Rio De Janeiro')",
                  "12549",
                  "2000-10-01",
                  "23.844"
                ],
                [
                  "('Brazil', 'Rio De Janeiro')",
                  "12550",
                  "2000-11-01",
                  "23.601"
                ],
                [
                  "('Brazil', 'Rio De Janeiro')",
                  "12551",
                  "2000-12-01",
                  "25.209"
                ],
                [
                  "('Brazil', 'Rio De Janeiro')",
                  "12552",
                  "2001-01-01",
                  "26.852"
                ],
                [
                  "('Brazil', 'Rio De Janeiro')",
                  "12553",
                  "2001-02-01",
                  "27.992"
                ],
                [
                  "('Brazil', 'Rio De Janeiro')",
                  "12554",
                  "2001-03-01",
                  "27.559"
                ],
                [
                  "('Brazil', 'Rio De Janeiro')",
                  "12555",
                  "2001-04-01",
                  "27.281"
                ],
                [
                  "('Brazil', 'Rio De Janeiro')",
                  "12556",
                  "2001-05-01",
                  "24.784"
                ],
                [
                  "('Brazil', 'Rio De Janeiro')",
                  "12557",
                  "2001-06-01",
                  "24.773000000000003"
                ],
                [
                  "('Brazil', 'Rio De Janeiro')",
                  "12558",
                  "2001-07-01",
                  "23.822"
                ],
                [
                  "('Brazil', 'Rio De Janeiro')",
                  "12559",
                  "2001-08-01",
                  "23.59800000000001"
                ],
                [
                  "('Brazil', 'Rio De Janeiro')",
                  "12560",
                  "2001-09-01",
                  "22.41200000000001"
                ],
                [
                  "('Brazil', 'Rio De Janeiro')",
                  "12561",
                  "2001-10-01",
                  "22.259"
                ],
                [
                  "('Brazil', 'Rio De Janeiro')",
                  "12562",
                  "2001-11-01",
                  "23.689"
                ],
                [
                  "('Brazil', 'Rio De Janeiro')",
                  "12563",
                  "2001-12-01",
                  "24.84800000000001"
                ],
                [
                  "('Brazil', 'Rio De Janeiro')",
                  "12564",
                  "2002-01-01",
                  "26.016"
                ],
                [
                  "('Brazil', 'Rio De Janeiro')",
                  "12565",
                  "2002-02-01",
                  "26.14"
                ],
                [
                  "('Brazil', 'Rio De Janeiro')",
                  "12566",
                  "2002-03-01",
                  "27.786"
                ],
                [
                  "('Brazil', 'Rio De Janeiro')",
                  "12567",
                  "2002-04-01",
                  "26.73"
                ],
                [
                  "('Brazil', 'Rio De Janeiro')",
                  "12568",
                  "2002-05-01",
                  "25.657"
                ],
                [
                  "('Brazil', 'Rio De Janeiro')",
                  "12569",
                  "2002-06-01",
                  "25.29300000000001"
                ],
                [
                  "('Brazil', 'Rio De Janeiro')",
                  "12570",
                  "2002-07-01",
                  "23.677"
                ],
                [
                  "('Brazil', 'Rio De Janeiro')",
                  "12571",
                  "2002-08-01",
                  "24.605"
                ],
                [
                  "('Brazil', 'Rio De Janeiro')",
                  "12572",
                  "2002-09-01",
                  "21.845"
                ],
                [
                  "('Brazil', 'Rio De Janeiro')",
                  "12573",
                  "2002-10-01",
                  "24.344"
                ],
                [
                  "('Brazil', 'Rio De Janeiro')",
                  "12574",
                  "2002-11-01",
                  "24.511"
                ],
                [
                  "('Brazil', 'Rio De Janeiro')",
                  "12575",
                  "2002-12-01",
                  "25.516"
                ],
                [
                  "('Brazil', 'Rio De Janeiro')",
                  "12576",
                  "2003-01-01",
                  "26.499"
                ],
                [
                  "('Brazil', 'Rio De Janeiro')",
                  "12577",
                  "2003-02-01",
                  "28.359"
                ],
                [
                  "('Brazil', 'Rio De Janeiro')",
                  "12578",
                  "2003-03-01",
                  "27.262"
                ],
                [
                  "('Brazil', 'Rio De Janeiro')",
                  "12579",
                  "2003-04-01",
                  "26.41800000000001"
                ],
                [
                  "('Brazil', 'Rio De Janeiro')",
                  "12580",
                  "2003-05-01",
                  "24.68"
                ],
                [
                  "('Brazil', 'Rio De Janeiro')",
                  "12581",
                  "2003-06-01",
                  "25.092"
                ],
                [
                  "('Brazil', 'Rio De Janeiro')",
                  "12582",
                  "2003-07-01",
                  "23.82"
                ],
                [
                  "('Brazil', 'Rio De Janeiro')",
                  "12583",
                  "2003-08-01",
                  "22.388"
                ],
                [
                  "('Brazil', 'Rio De Janeiro')",
                  "12584",
                  "2003-09-01",
                  "22.112"
                ],
                [
                  "('Brazil', 'Rio De Janeiro')",
                  "12585",
                  "2003-10-01",
                  "22.725"
                ],
                [
                  "('Brazil', 'Rio De Janeiro')",
                  "12586",
                  "2003-11-01",
                  "24.077"
                ],
                [
                  "('Brazil', 'Rio De Janeiro')",
                  "12587",
                  "2003-12-01",
                  "25.32"
                ],
                [
                  "('Brazil', 'Rio De Janeiro')",
                  "12588",
                  "2004-01-01",
                  "25.435"
                ],
                [
                  "('Brazil', 'Rio De Janeiro')",
                  "12589",
                  "2004-02-01",
                  "26.00500000000001"
                ]
              ],
              "shape": {
                "columns": 3,
                "rows": 330
              }
            },
            "text/html": [
              "<div>\n",
              "<style scoped>\n",
              "    .dataframe tbody tr th:only-of-type {\n",
              "        vertical-align: middle;\n",
              "    }\n",
              "\n",
              "    .dataframe tbody tr th {\n",
              "        vertical-align: top;\n",
              "    }\n",
              "\n",
              "    .dataframe thead th {\n",
              "        text-align: right;\n",
              "    }\n",
              "</style>\n",
              "<table border=\"1\" class=\"dataframe\">\n",
              "  <thead>\n",
              "    <tr style=\"text-align: right;\">\n",
              "      <th></th>\n",
              "      <th></th>\n",
              "      <th>Unnamed: 0</th>\n",
              "      <th>date</th>\n",
              "      <th>avg_temp_c</th>\n",
              "    </tr>\n",
              "    <tr>\n",
              "      <th>country</th>\n",
              "      <th>city</th>\n",
              "      <th></th>\n",
              "      <th></th>\n",
              "      <th></th>\n",
              "    </tr>\n",
              "  </thead>\n",
              "  <tbody>\n",
              "    <tr>\n",
              "      <th rowspan=\"5\" valign=\"top\">Brazil</th>\n",
              "      <th>Rio De Janeiro</th>\n",
              "      <td>12540</td>\n",
              "      <td>2000-01-01</td>\n",
              "      <td>25.974</td>\n",
              "    </tr>\n",
              "    <tr>\n",
              "      <th>Rio De Janeiro</th>\n",
              "      <td>12541</td>\n",
              "      <td>2000-02-01</td>\n",
              "      <td>26.699</td>\n",
              "    </tr>\n",
              "    <tr>\n",
              "      <th>Rio De Janeiro</th>\n",
              "      <td>12542</td>\n",
              "      <td>2000-03-01</td>\n",
              "      <td>26.270</td>\n",
              "    </tr>\n",
              "    <tr>\n",
              "      <th>Rio De Janeiro</th>\n",
              "      <td>12543</td>\n",
              "      <td>2000-04-01</td>\n",
              "      <td>25.750</td>\n",
              "    </tr>\n",
              "    <tr>\n",
              "      <th>Rio De Janeiro</th>\n",
              "      <td>12544</td>\n",
              "      <td>2000-05-01</td>\n",
              "      <td>24.356</td>\n",
              "    </tr>\n",
              "    <tr>\n",
              "      <th>...</th>\n",
              "      <th>...</th>\n",
              "      <td>...</td>\n",
              "      <td>...</td>\n",
              "      <td>...</td>\n",
              "    </tr>\n",
              "    <tr>\n",
              "      <th rowspan=\"5\" valign=\"top\">Pakistan</th>\n",
              "      <th>Lahore</th>\n",
              "      <td>8575</td>\n",
              "      <td>2013-05-01</td>\n",
              "      <td>33.457</td>\n",
              "    </tr>\n",
              "    <tr>\n",
              "      <th>Lahore</th>\n",
              "      <td>8576</td>\n",
              "      <td>2013-06-01</td>\n",
              "      <td>34.456</td>\n",
              "    </tr>\n",
              "    <tr>\n",
              "      <th>Lahore</th>\n",
              "      <td>8577</td>\n",
              "      <td>2013-07-01</td>\n",
              "      <td>33.279</td>\n",
              "    </tr>\n",
              "    <tr>\n",
              "      <th>Lahore</th>\n",
              "      <td>8578</td>\n",
              "      <td>2013-08-01</td>\n",
              "      <td>31.511</td>\n",
              "    </tr>\n",
              "    <tr>\n",
              "      <th>Lahore</th>\n",
              "      <td>8579</td>\n",
              "      <td>2013-09-01</td>\n",
              "      <td>NaN</td>\n",
              "    </tr>\n",
              "  </tbody>\n",
              "</table>\n",
              "<p>330 rows × 3 columns</p>\n",
              "</div>"
            ],
            "text/plain": [
              "                         Unnamed: 0        date  avg_temp_c\n",
              "country  city                                              \n",
              "Brazil   Rio De Janeiro       12540  2000-01-01      25.974\n",
              "         Rio De Janeiro       12541  2000-02-01      26.699\n",
              "         Rio De Janeiro       12542  2000-03-01      26.270\n",
              "         Rio De Janeiro       12543  2000-04-01      25.750\n",
              "         Rio De Janeiro       12544  2000-05-01      24.356\n",
              "...                             ...         ...         ...\n",
              "Pakistan Lahore                8575  2013-05-01      33.457\n",
              "         Lahore                8576  2013-06-01      34.456\n",
              "         Lahore                8577  2013-07-01      33.279\n",
              "         Lahore                8578  2013-08-01      31.511\n",
              "         Lahore                8579  2013-09-01         NaN\n",
              "\n",
              "[330 rows x 3 columns]"
            ]
          },
          "execution_count": 61,
          "metadata": {},
          "output_type": "execute_result"
        }
      ],
      "source": [
        "# Set the index of temperatures to the \"country\" and \"city\" columns, and assign this to temperatures_ind.\n",
        "temperatures_ind = temperatures.set_index([\"country\", \"city\"])\n",
        "\n",
        "# Specify two country/city pairs to keep: \"Brazil\"/\"Rio De Janeiro\" and \"Pakistan\"/\"Lahore\", assigning to rows_to_keep.\n",
        "rows_to_keep = [(\"Brazil\", \"Rio De Janeiro\"), (\"Pakistan\", \"Lahore\")]\n",
        "\n",
        "# Print and subset temperatures_ind for rows_to_keep using .loc[].\n",
        "temperatures_ind.loc[rows_to_keep]"
      ]
    },
    {
      "cell_type": "code",
      "execution_count": 62,
      "id": "a7db1ab7",
      "metadata": {
        "colab": {
          "base_uri": "https://localhost:8080/",
          "height": 455
        },
        "id": "a7db1ab7",
        "outputId": "c0a71e44-630d-498f-edfe-fb918c8c83a5"
      },
      "outputs": [
        {
          "data": {
            "application/vnd.microsoft.datawrangler.viewer.v0+json": {
              "columns": [
                {
                  "name": "('country', 'city')",
                  "rawType": "object",
                  "type": "unknown"
                },
                {
                  "name": "Unnamed: 0",
                  "rawType": "int64",
                  "type": "integer"
                },
                {
                  "name": "date",
                  "rawType": "object",
                  "type": "string"
                },
                {
                  "name": "avg_temp_c",
                  "rawType": "float64",
                  "type": "float"
                }
              ],
              "ref": "09741049-bf7e-4d5c-aaa5-234f72169f63",
              "rows": [
                [
                  "('Afghanistan', 'Kabul')",
                  "7260",
                  "2000-01-01",
                  "3.326"
                ],
                [
                  "('Afghanistan', 'Kabul')",
                  "7261",
                  "2000-02-01",
                  "3.454"
                ],
                [
                  "('Afghanistan', 'Kabul')",
                  "7262",
                  "2000-03-01",
                  "9.612"
                ],
                [
                  "('Afghanistan', 'Kabul')",
                  "7263",
                  "2000-04-01",
                  "17.925"
                ],
                [
                  "('Afghanistan', 'Kabul')",
                  "7264",
                  "2000-05-01",
                  "24.658"
                ],
                [
                  "('Afghanistan', 'Kabul')",
                  "7265",
                  "2000-06-01",
                  "25.582"
                ],
                [
                  "('Afghanistan', 'Kabul')",
                  "7266",
                  "2000-07-01",
                  "26.107"
                ],
                [
                  "('Afghanistan', 'Kabul')",
                  "7267",
                  "2000-08-01",
                  "25.459"
                ],
                [
                  "('Afghanistan', 'Kabul')",
                  "7268",
                  "2000-09-01",
                  "22.116"
                ],
                [
                  "('Afghanistan', 'Kabul')",
                  "7269",
                  "2000-10-01",
                  "16.805999999999994"
                ],
                [
                  "('Afghanistan', 'Kabul')",
                  "7270",
                  "2000-11-01",
                  "9.72"
                ],
                [
                  "('Afghanistan', 'Kabul')",
                  "7271",
                  "2000-12-01",
                  "5.107"
                ],
                [
                  "('Afghanistan', 'Kabul')",
                  "7272",
                  "2001-01-01",
                  "2.208"
                ],
                [
                  "('Afghanistan', 'Kabul')",
                  "7273",
                  "2001-02-01",
                  "5.567"
                ],
                [
                  "('Afghanistan', 'Kabul')",
                  "7274",
                  "2001-03-01",
                  "10.807"
                ],
                [
                  "('Afghanistan', 'Kabul')",
                  "7275",
                  "2001-04-01",
                  "16.587"
                ],
                [
                  "('Afghanistan', 'Kabul')",
                  "7276",
                  "2001-05-01",
                  "23.782"
                ],
                [
                  "('Afghanistan', 'Kabul')",
                  "7277",
                  "2001-06-01",
                  "25.905"
                ],
                [
                  "('Afghanistan', 'Kabul')",
                  "7278",
                  "2001-07-01",
                  "26.065"
                ],
                [
                  "('Afghanistan', 'Kabul')",
                  "7279",
                  "2001-08-01",
                  "25.149"
                ],
                [
                  "('Afghanistan', 'Kabul')",
                  "7280",
                  "2001-09-01",
                  "21.178"
                ],
                [
                  "('Afghanistan', 'Kabul')",
                  "7281",
                  "2001-10-01",
                  "16.552"
                ],
                [
                  "('Afghanistan', 'Kabul')",
                  "7282",
                  "2001-11-01",
                  "10.731000000000002"
                ],
                [
                  "('Afghanistan', 'Kabul')",
                  "7283",
                  "2001-12-01",
                  "5.644"
                ],
                [
                  "('Afghanistan', 'Kabul')",
                  "7284",
                  "2002-01-01",
                  "3.432"
                ],
                [
                  "('Afghanistan', 'Kabul')",
                  "7285",
                  "2002-02-01",
                  "4.735"
                ],
                [
                  "('Afghanistan', 'Kabul')",
                  "7286",
                  "2002-03-01",
                  "11.382"
                ],
                [
                  "('Afghanistan', 'Kabul')",
                  "7287",
                  "2002-04-01",
                  "15.668"
                ],
                [
                  "('Afghanistan', 'Kabul')",
                  "7288",
                  "2002-05-01",
                  "21.992"
                ],
                [
                  "('Afghanistan', 'Kabul')",
                  "7289",
                  "2002-06-01",
                  "25.957"
                ],
                [
                  "('Afghanistan', 'Kabul')",
                  "7290",
                  "2002-07-01",
                  "26.732"
                ],
                [
                  "('Afghanistan', 'Kabul')",
                  "7291",
                  "2002-08-01",
                  "25.736"
                ],
                [
                  "('Afghanistan', 'Kabul')",
                  "7292",
                  "2002-09-01",
                  "20.907"
                ],
                [
                  "('Afghanistan', 'Kabul')",
                  "7293",
                  "2002-10-01",
                  "17.33"
                ],
                [
                  "('Afghanistan', 'Kabul')",
                  "7294",
                  "2002-11-01",
                  "10.447"
                ],
                [
                  "('Afghanistan', 'Kabul')",
                  "7295",
                  "2002-12-01",
                  "4.257"
                ],
                [
                  "('Afghanistan', 'Kabul')",
                  "7296",
                  "2003-01-01",
                  "4.334"
                ],
                [
                  "('Afghanistan', 'Kabul')",
                  "7297",
                  "2003-02-01",
                  "4.714"
                ],
                [
                  "('Afghanistan', 'Kabul')",
                  "7298",
                  "2003-03-01",
                  "9.071"
                ],
                [
                  "('Afghanistan', 'Kabul')",
                  "7299",
                  "2003-04-01",
                  "15.486"
                ],
                [
                  "('Afghanistan', 'Kabul')",
                  "7300",
                  "2003-05-01",
                  "19.13"
                ],
                [
                  "('Afghanistan', 'Kabul')",
                  "7301",
                  "2003-06-01",
                  "25.716"
                ],
                [
                  "('Afghanistan', 'Kabul')",
                  "7302",
                  "2003-07-01",
                  "26.815"
                ],
                [
                  "('Afghanistan', 'Kabul')",
                  "7303",
                  "2003-08-01",
                  "25.149"
                ],
                [
                  "('Afghanistan', 'Kabul')",
                  "7304",
                  "2003-09-01",
                  "21.945"
                ],
                [
                  "('Afghanistan', 'Kabul')",
                  "7305",
                  "2003-10-01",
                  "15.884"
                ],
                [
                  "('Afghanistan', 'Kabul')",
                  "7306",
                  "2003-11-01",
                  "8.681000000000001"
                ],
                [
                  "('Afghanistan', 'Kabul')",
                  "7307",
                  "2003-12-01",
                  "4.666"
                ],
                [
                  "('Afghanistan', 'Kabul')",
                  "7308",
                  "2004-01-01",
                  "3.655"
                ],
                [
                  "('Afghanistan', 'Kabul')",
                  "7309",
                  "2004-02-01",
                  "6.775"
                ]
              ],
              "shape": {
                "columns": 3,
                "rows": 16500
              }
            },
            "text/html": [
              "<div>\n",
              "<style scoped>\n",
              "    .dataframe tbody tr th:only-of-type {\n",
              "        vertical-align: middle;\n",
              "    }\n",
              "\n",
              "    .dataframe tbody tr th {\n",
              "        vertical-align: top;\n",
              "    }\n",
              "\n",
              "    .dataframe thead th {\n",
              "        text-align: right;\n",
              "    }\n",
              "</style>\n",
              "<table border=\"1\" class=\"dataframe\">\n",
              "  <thead>\n",
              "    <tr style=\"text-align: right;\">\n",
              "      <th></th>\n",
              "      <th></th>\n",
              "      <th>Unnamed: 0</th>\n",
              "      <th>date</th>\n",
              "      <th>avg_temp_c</th>\n",
              "    </tr>\n",
              "    <tr>\n",
              "      <th>country</th>\n",
              "      <th>city</th>\n",
              "      <th></th>\n",
              "      <th></th>\n",
              "      <th></th>\n",
              "    </tr>\n",
              "  </thead>\n",
              "  <tbody>\n",
              "    <tr>\n",
              "      <th rowspan=\"5\" valign=\"top\">Afghanistan</th>\n",
              "      <th>Kabul</th>\n",
              "      <td>7260</td>\n",
              "      <td>2000-01-01</td>\n",
              "      <td>3.326</td>\n",
              "    </tr>\n",
              "    <tr>\n",
              "      <th>Kabul</th>\n",
              "      <td>7261</td>\n",
              "      <td>2000-02-01</td>\n",
              "      <td>3.454</td>\n",
              "    </tr>\n",
              "    <tr>\n",
              "      <th>Kabul</th>\n",
              "      <td>7262</td>\n",
              "      <td>2000-03-01</td>\n",
              "      <td>9.612</td>\n",
              "    </tr>\n",
              "    <tr>\n",
              "      <th>Kabul</th>\n",
              "      <td>7263</td>\n",
              "      <td>2000-04-01</td>\n",
              "      <td>17.925</td>\n",
              "    </tr>\n",
              "    <tr>\n",
              "      <th>Kabul</th>\n",
              "      <td>7264</td>\n",
              "      <td>2000-05-01</td>\n",
              "      <td>24.658</td>\n",
              "    </tr>\n",
              "    <tr>\n",
              "      <th>...</th>\n",
              "      <th>...</th>\n",
              "      <td>...</td>\n",
              "      <td>...</td>\n",
              "      <td>...</td>\n",
              "    </tr>\n",
              "    <tr>\n",
              "      <th rowspan=\"5\" valign=\"top\">Zimbabwe</th>\n",
              "      <th>Harare</th>\n",
              "      <td>5605</td>\n",
              "      <td>2013-05-01</td>\n",
              "      <td>18.298</td>\n",
              "    </tr>\n",
              "    <tr>\n",
              "      <th>Harare</th>\n",
              "      <td>5606</td>\n",
              "      <td>2013-06-01</td>\n",
              "      <td>17.020</td>\n",
              "    </tr>\n",
              "    <tr>\n",
              "      <th>Harare</th>\n",
              "      <td>5607</td>\n",
              "      <td>2013-07-01</td>\n",
              "      <td>16.299</td>\n",
              "    </tr>\n",
              "    <tr>\n",
              "      <th>Harare</th>\n",
              "      <td>5608</td>\n",
              "      <td>2013-08-01</td>\n",
              "      <td>19.232</td>\n",
              "    </tr>\n",
              "    <tr>\n",
              "      <th>Harare</th>\n",
              "      <td>5609</td>\n",
              "      <td>2013-09-01</td>\n",
              "      <td>NaN</td>\n",
              "    </tr>\n",
              "  </tbody>\n",
              "</table>\n",
              "<p>16500 rows × 3 columns</p>\n",
              "</div>"
            ],
            "text/plain": [
              "                    Unnamed: 0        date  avg_temp_c\n",
              "country     city                                      \n",
              "Afghanistan Kabul         7260  2000-01-01       3.326\n",
              "            Kabul         7261  2000-02-01       3.454\n",
              "            Kabul         7262  2000-03-01       9.612\n",
              "            Kabul         7263  2000-04-01      17.925\n",
              "            Kabul         7264  2000-05-01      24.658\n",
              "...                        ...         ...         ...\n",
              "Zimbabwe    Harare        5605  2013-05-01      18.298\n",
              "            Harare        5606  2013-06-01      17.020\n",
              "            Harare        5607  2013-07-01      16.299\n",
              "            Harare        5608  2013-08-01      19.232\n",
              "            Harare        5609  2013-09-01         NaN\n",
              "\n",
              "[16500 rows x 3 columns]"
            ]
          },
          "execution_count": 62,
          "metadata": {},
          "output_type": "execute_result"
        }
      ],
      "source": [
        "# Sort temperatures_ind by the index values.\n",
        "temperatures_ind.sort_index()\n"
      ]
    },
    {
      "cell_type": "code",
      "execution_count": 63,
      "id": "17b4dac7",
      "metadata": {
        "colab": {
          "base_uri": "https://localhost:8080/",
          "height": 455
        },
        "id": "17b4dac7",
        "outputId": "8a395761-42ae-4c8e-87ad-7185dd6115e0"
      },
      "outputs": [
        {
          "data": {
            "application/vnd.microsoft.datawrangler.viewer.v0+json": {
              "columns": [
                {
                  "name": "('country', 'city')",
                  "rawType": "object",
                  "type": "unknown"
                },
                {
                  "name": "Unnamed: 0",
                  "rawType": "int64",
                  "type": "integer"
                },
                {
                  "name": "date",
                  "rawType": "object",
                  "type": "string"
                },
                {
                  "name": "avg_temp_c",
                  "rawType": "float64",
                  "type": "float"
                }
              ],
              "ref": "aab19760-cdc6-48d7-bf76-5f285d303669",
              "rows": [
                [
                  "(\"Côte D'Ivoire\", 'Abidjan')",
                  "0",
                  "2000-01-01",
                  "27.29300000000001"
                ],
                [
                  "(\"Côte D'Ivoire\", 'Abidjan')",
                  "1",
                  "2000-02-01",
                  "27.685"
                ],
                [
                  "(\"Côte D'Ivoire\", 'Abidjan')",
                  "2",
                  "2000-03-01",
                  "29.061"
                ],
                [
                  "(\"Côte D'Ivoire\", 'Abidjan')",
                  "3",
                  "2000-04-01",
                  "28.162"
                ],
                [
                  "(\"Côte D'Ivoire\", 'Abidjan')",
                  "4",
                  "2000-05-01",
                  "27.547"
                ],
                [
                  "(\"Côte D'Ivoire\", 'Abidjan')",
                  "5",
                  "2000-06-01",
                  "25.812"
                ],
                [
                  "(\"Côte D'Ivoire\", 'Abidjan')",
                  "6",
                  "2000-07-01",
                  "24.87"
                ],
                [
                  "(\"Côte D'Ivoire\", 'Abidjan')",
                  "7",
                  "2000-08-01",
                  "24.884"
                ],
                [
                  "(\"Côte D'Ivoire\", 'Abidjan')",
                  "8",
                  "2000-09-01",
                  "25.405"
                ],
                [
                  "(\"Côte D'Ivoire\", 'Abidjan')",
                  "9",
                  "2000-10-01",
                  "26.074"
                ],
                [
                  "(\"Côte D'Ivoire\", 'Abidjan')",
                  "10",
                  "2000-11-01",
                  "27.315"
                ],
                [
                  "(\"Côte D'Ivoire\", 'Abidjan')",
                  "11",
                  "2000-12-01",
                  "26.929"
                ],
                [
                  "(\"Côte D'Ivoire\", 'Abidjan')",
                  "12",
                  "2001-01-01",
                  "26.92"
                ],
                [
                  "(\"Côte D'Ivoire\", 'Abidjan')",
                  "13",
                  "2001-02-01",
                  "28.234"
                ],
                [
                  "(\"Côte D'Ivoire\", 'Abidjan')",
                  "14",
                  "2001-03-01",
                  "28.706"
                ],
                [
                  "(\"Côte D'Ivoire\", 'Abidjan')",
                  "15",
                  "2001-04-01",
                  "27.702"
                ],
                [
                  "(\"Côte D'Ivoire\", 'Abidjan')",
                  "16",
                  "2001-05-01",
                  "27.653"
                ],
                [
                  "(\"Côte D'Ivoire\", 'Abidjan')",
                  "17",
                  "2001-06-01",
                  "25.94"
                ],
                [
                  "(\"Côte D'Ivoire\", 'Abidjan')",
                  "18",
                  "2001-07-01",
                  "24.841"
                ],
                [
                  "(\"Côte D'Ivoire\", 'Abidjan')",
                  "19",
                  "2001-08-01",
                  "24.28"
                ],
                [
                  "(\"Côte D'Ivoire\", 'Abidjan')",
                  "20",
                  "2001-09-01",
                  "24.797"
                ],
                [
                  "(\"Côte D'Ivoire\", 'Abidjan')",
                  "21",
                  "2001-10-01",
                  "26.278"
                ],
                [
                  "(\"Côte D'Ivoire\", 'Abidjan')",
                  "22",
                  "2001-11-01",
                  "27.374"
                ],
                [
                  "(\"Côte D'Ivoire\", 'Abidjan')",
                  "23",
                  "2001-12-01",
                  "27.59800000000001"
                ],
                [
                  "(\"Côte D'Ivoire\", 'Abidjan')",
                  "24",
                  "2002-01-01",
                  "27.192"
                ],
                [
                  "(\"Côte D'Ivoire\", 'Abidjan')",
                  "25",
                  "2002-02-01",
                  "28.796"
                ],
                [
                  "(\"Côte D'Ivoire\", 'Abidjan')",
                  "26",
                  "2002-03-01",
                  "28.564"
                ],
                [
                  "(\"Côte D'Ivoire\", 'Abidjan')",
                  "27",
                  "2002-04-01",
                  "28.50800000000001"
                ],
                [
                  "(\"Côte D'Ivoire\", 'Abidjan')",
                  "28",
                  "2002-05-01",
                  "27.721"
                ],
                [
                  "(\"Côte D'Ivoire\", 'Abidjan')",
                  "29",
                  "2002-06-01",
                  "25.972"
                ],
                [
                  "(\"Côte D'Ivoire\", 'Abidjan')",
                  "30",
                  "2002-07-01",
                  "25.054"
                ],
                [
                  "(\"Côte D'Ivoire\", 'Abidjan')",
                  "31",
                  "2002-08-01",
                  "24.58"
                ],
                [
                  "(\"Côte D'Ivoire\", 'Abidjan')",
                  "32",
                  "2002-09-01",
                  "25.26"
                ],
                [
                  "(\"Côte D'Ivoire\", 'Abidjan')",
                  "33",
                  "2002-10-01",
                  "26.076"
                ],
                [
                  "(\"Côte D'Ivoire\", 'Abidjan')",
                  "34",
                  "2002-11-01",
                  "27.282"
                ],
                [
                  "(\"Côte D'Ivoire\", 'Abidjan')",
                  "35",
                  "2002-12-01",
                  "27.087"
                ],
                [
                  "(\"Côte D'Ivoire\", 'Abidjan')",
                  "36",
                  "2003-01-01",
                  "27.59"
                ],
                [
                  "(\"Côte D'Ivoire\", 'Abidjan')",
                  "37",
                  "2003-02-01",
                  "28.863000000000003"
                ],
                [
                  "(\"Côte D'Ivoire\", 'Abidjan')",
                  "38",
                  "2003-03-01",
                  "28.98"
                ],
                [
                  "(\"Côte D'Ivoire\", 'Abidjan')",
                  "39",
                  "2003-04-01",
                  "28.169"
                ],
                [
                  "(\"Côte D'Ivoire\", 'Abidjan')",
                  "40",
                  "2003-05-01",
                  "27.91"
                ],
                [
                  "(\"Côte D'Ivoire\", 'Abidjan')",
                  "41",
                  "2003-06-01",
                  "25.993"
                ],
                [
                  "(\"Côte D'Ivoire\", 'Abidjan')",
                  "42",
                  "2003-07-01",
                  "25.221"
                ],
                [
                  "(\"Côte D'Ivoire\", 'Abidjan')",
                  "43",
                  "2003-08-01",
                  "24.88"
                ],
                [
                  "(\"Côte D'Ivoire\", 'Abidjan')",
                  "44",
                  "2003-09-01",
                  "25.737"
                ],
                [
                  "(\"Côte D'Ivoire\", 'Abidjan')",
                  "45",
                  "2003-10-01",
                  "26.69400000000001"
                ],
                [
                  "(\"Côte D'Ivoire\", 'Abidjan')",
                  "46",
                  "2003-11-01",
                  "27.479"
                ],
                [
                  "(\"Côte D'Ivoire\", 'Abidjan')",
                  "47",
                  "2003-12-01",
                  "27.092"
                ],
                [
                  "(\"Côte D'Ivoire\", 'Abidjan')",
                  "48",
                  "2004-01-01",
                  "27.728"
                ],
                [
                  "(\"Côte D'Ivoire\", 'Abidjan')",
                  "49",
                  "2004-02-01",
                  "28.705"
                ]
              ],
              "shape": {
                "columns": 3,
                "rows": 16500
              }
            },
            "text/html": [
              "<div>\n",
              "<style scoped>\n",
              "    .dataframe tbody tr th:only-of-type {\n",
              "        vertical-align: middle;\n",
              "    }\n",
              "\n",
              "    .dataframe tbody tr th {\n",
              "        vertical-align: top;\n",
              "    }\n",
              "\n",
              "    .dataframe thead th {\n",
              "        text-align: right;\n",
              "    }\n",
              "</style>\n",
              "<table border=\"1\" class=\"dataframe\">\n",
              "  <thead>\n",
              "    <tr style=\"text-align: right;\">\n",
              "      <th></th>\n",
              "      <th></th>\n",
              "      <th>Unnamed: 0</th>\n",
              "      <th>date</th>\n",
              "      <th>avg_temp_c</th>\n",
              "    </tr>\n",
              "    <tr>\n",
              "      <th>country</th>\n",
              "      <th>city</th>\n",
              "      <th></th>\n",
              "      <th></th>\n",
              "      <th></th>\n",
              "    </tr>\n",
              "  </thead>\n",
              "  <tbody>\n",
              "    <tr>\n",
              "      <th rowspan=\"5\" valign=\"top\">Côte D'Ivoire</th>\n",
              "      <th>Abidjan</th>\n",
              "      <td>0</td>\n",
              "      <td>2000-01-01</td>\n",
              "      <td>27.293</td>\n",
              "    </tr>\n",
              "    <tr>\n",
              "      <th>Abidjan</th>\n",
              "      <td>1</td>\n",
              "      <td>2000-02-01</td>\n",
              "      <td>27.685</td>\n",
              "    </tr>\n",
              "    <tr>\n",
              "      <th>Abidjan</th>\n",
              "      <td>2</td>\n",
              "      <td>2000-03-01</td>\n",
              "      <td>29.061</td>\n",
              "    </tr>\n",
              "    <tr>\n",
              "      <th>Abidjan</th>\n",
              "      <td>3</td>\n",
              "      <td>2000-04-01</td>\n",
              "      <td>28.162</td>\n",
              "    </tr>\n",
              "    <tr>\n",
              "      <th>Abidjan</th>\n",
              "      <td>4</td>\n",
              "      <td>2000-05-01</td>\n",
              "      <td>27.547</td>\n",
              "    </tr>\n",
              "    <tr>\n",
              "      <th>...</th>\n",
              "      <th>...</th>\n",
              "      <td>...</td>\n",
              "      <td>...</td>\n",
              "      <td>...</td>\n",
              "    </tr>\n",
              "    <tr>\n",
              "      <th rowspan=\"5\" valign=\"top\">China</th>\n",
              "      <th>Xian</th>\n",
              "      <td>16495</td>\n",
              "      <td>2013-05-01</td>\n",
              "      <td>18.979</td>\n",
              "    </tr>\n",
              "    <tr>\n",
              "      <th>Xian</th>\n",
              "      <td>16496</td>\n",
              "      <td>2013-06-01</td>\n",
              "      <td>23.522</td>\n",
              "    </tr>\n",
              "    <tr>\n",
              "      <th>Xian</th>\n",
              "      <td>16497</td>\n",
              "      <td>2013-07-01</td>\n",
              "      <td>25.251</td>\n",
              "    </tr>\n",
              "    <tr>\n",
              "      <th>Xian</th>\n",
              "      <td>16498</td>\n",
              "      <td>2013-08-01</td>\n",
              "      <td>24.528</td>\n",
              "    </tr>\n",
              "    <tr>\n",
              "      <th>Xian</th>\n",
              "      <td>16499</td>\n",
              "      <td>2013-09-01</td>\n",
              "      <td>NaN</td>\n",
              "    </tr>\n",
              "  </tbody>\n",
              "</table>\n",
              "<p>16500 rows × 3 columns</p>\n",
              "</div>"
            ],
            "text/plain": [
              "                       Unnamed: 0        date  avg_temp_c\n",
              "country       city                                       \n",
              "Côte D'Ivoire Abidjan           0  2000-01-01      27.293\n",
              "              Abidjan           1  2000-02-01      27.685\n",
              "              Abidjan           2  2000-03-01      29.061\n",
              "              Abidjan           3  2000-04-01      28.162\n",
              "              Abidjan           4  2000-05-01      27.547\n",
              "...                           ...         ...         ...\n",
              "China         Xian          16495  2013-05-01      18.979\n",
              "              Xian          16496  2013-06-01      23.522\n",
              "              Xian          16497  2013-07-01      25.251\n",
              "              Xian          16498  2013-08-01      24.528\n",
              "              Xian          16499  2013-09-01         NaN\n",
              "\n",
              "[16500 rows x 3 columns]"
            ]
          },
          "execution_count": 63,
          "metadata": {},
          "output_type": "execute_result"
        }
      ],
      "source": [
        "# Sort temperatures_ind by the index values at the \"city\" level.\n",
        "temperatures_ind.sort_index(level=\"city\")"
      ]
    },
    {
      "cell_type": "code",
      "execution_count": 64,
      "id": "c787ed72",
      "metadata": {
        "colab": {
          "base_uri": "https://localhost:8080/"
        },
        "id": "c787ed72",
        "outputId": "b9206264-9030-48bc-dab8-076dc3a2e5ef"
      },
      "outputs": [
        {
          "data": {
            "application/vnd.microsoft.datawrangler.viewer.v0+json": {
              "columns": [
                {
                  "name": "('country', 'city')",
                  "rawType": "object",
                  "type": "unknown"
                },
                {
                  "name": "Unnamed: 0",
                  "rawType": "int64",
                  "type": "integer"
                },
                {
                  "name": "date",
                  "rawType": "object",
                  "type": "string"
                },
                {
                  "name": "avg_temp_c",
                  "rawType": "float64",
                  "type": "float"
                }
              ],
              "ref": "cbe10b8d-9922-47ea-b906-f16e4faa35e3",
              "rows": [
                [
                  "('Afghanistan', 'Kabul')",
                  "7260",
                  "2000-01-01",
                  "3.326"
                ],
                [
                  "('Afghanistan', 'Kabul')",
                  "7261",
                  "2000-02-01",
                  "3.454"
                ],
                [
                  "('Afghanistan', 'Kabul')",
                  "7262",
                  "2000-03-01",
                  "9.612"
                ],
                [
                  "('Afghanistan', 'Kabul')",
                  "7263",
                  "2000-04-01",
                  "17.925"
                ],
                [
                  "('Afghanistan', 'Kabul')",
                  "7264",
                  "2000-05-01",
                  "24.658"
                ],
                [
                  "('Afghanistan', 'Kabul')",
                  "7265",
                  "2000-06-01",
                  "25.582"
                ],
                [
                  "('Afghanistan', 'Kabul')",
                  "7266",
                  "2000-07-01",
                  "26.107"
                ],
                [
                  "('Afghanistan', 'Kabul')",
                  "7267",
                  "2000-08-01",
                  "25.459"
                ],
                [
                  "('Afghanistan', 'Kabul')",
                  "7268",
                  "2000-09-01",
                  "22.116"
                ],
                [
                  "('Afghanistan', 'Kabul')",
                  "7269",
                  "2000-10-01",
                  "16.805999999999994"
                ],
                [
                  "('Afghanistan', 'Kabul')",
                  "7270",
                  "2000-11-01",
                  "9.72"
                ],
                [
                  "('Afghanistan', 'Kabul')",
                  "7271",
                  "2000-12-01",
                  "5.107"
                ],
                [
                  "('Afghanistan', 'Kabul')",
                  "7272",
                  "2001-01-01",
                  "2.208"
                ],
                [
                  "('Afghanistan', 'Kabul')",
                  "7273",
                  "2001-02-01",
                  "5.567"
                ],
                [
                  "('Afghanistan', 'Kabul')",
                  "7274",
                  "2001-03-01",
                  "10.807"
                ],
                [
                  "('Afghanistan', 'Kabul')",
                  "7275",
                  "2001-04-01",
                  "16.587"
                ],
                [
                  "('Afghanistan', 'Kabul')",
                  "7276",
                  "2001-05-01",
                  "23.782"
                ],
                [
                  "('Afghanistan', 'Kabul')",
                  "7277",
                  "2001-06-01",
                  "25.905"
                ],
                [
                  "('Afghanistan', 'Kabul')",
                  "7278",
                  "2001-07-01",
                  "26.065"
                ],
                [
                  "('Afghanistan', 'Kabul')",
                  "7279",
                  "2001-08-01",
                  "25.149"
                ],
                [
                  "('Afghanistan', 'Kabul')",
                  "7280",
                  "2001-09-01",
                  "21.178"
                ],
                [
                  "('Afghanistan', 'Kabul')",
                  "7281",
                  "2001-10-01",
                  "16.552"
                ],
                [
                  "('Afghanistan', 'Kabul')",
                  "7282",
                  "2001-11-01",
                  "10.731000000000002"
                ],
                [
                  "('Afghanistan', 'Kabul')",
                  "7283",
                  "2001-12-01",
                  "5.644"
                ],
                [
                  "('Afghanistan', 'Kabul')",
                  "7284",
                  "2002-01-01",
                  "3.432"
                ],
                [
                  "('Afghanistan', 'Kabul')",
                  "7285",
                  "2002-02-01",
                  "4.735"
                ],
                [
                  "('Afghanistan', 'Kabul')",
                  "7286",
                  "2002-03-01",
                  "11.382"
                ],
                [
                  "('Afghanistan', 'Kabul')",
                  "7287",
                  "2002-04-01",
                  "15.668"
                ],
                [
                  "('Afghanistan', 'Kabul')",
                  "7288",
                  "2002-05-01",
                  "21.992"
                ],
                [
                  "('Afghanistan', 'Kabul')",
                  "7289",
                  "2002-06-01",
                  "25.957"
                ],
                [
                  "('Afghanistan', 'Kabul')",
                  "7290",
                  "2002-07-01",
                  "26.732"
                ],
                [
                  "('Afghanistan', 'Kabul')",
                  "7291",
                  "2002-08-01",
                  "25.736"
                ],
                [
                  "('Afghanistan', 'Kabul')",
                  "7292",
                  "2002-09-01",
                  "20.907"
                ],
                [
                  "('Afghanistan', 'Kabul')",
                  "7293",
                  "2002-10-01",
                  "17.33"
                ],
                [
                  "('Afghanistan', 'Kabul')",
                  "7294",
                  "2002-11-01",
                  "10.447"
                ],
                [
                  "('Afghanistan', 'Kabul')",
                  "7295",
                  "2002-12-01",
                  "4.257"
                ],
                [
                  "('Afghanistan', 'Kabul')",
                  "7296",
                  "2003-01-01",
                  "4.334"
                ],
                [
                  "('Afghanistan', 'Kabul')",
                  "7297",
                  "2003-02-01",
                  "4.714"
                ],
                [
                  "('Afghanistan', 'Kabul')",
                  "7298",
                  "2003-03-01",
                  "9.071"
                ],
                [
                  "('Afghanistan', 'Kabul')",
                  "7299",
                  "2003-04-01",
                  "15.486"
                ],
                [
                  "('Afghanistan', 'Kabul')",
                  "7300",
                  "2003-05-01",
                  "19.13"
                ],
                [
                  "('Afghanistan', 'Kabul')",
                  "7301",
                  "2003-06-01",
                  "25.716"
                ],
                [
                  "('Afghanistan', 'Kabul')",
                  "7302",
                  "2003-07-01",
                  "26.815"
                ],
                [
                  "('Afghanistan', 'Kabul')",
                  "7303",
                  "2003-08-01",
                  "25.149"
                ],
                [
                  "('Afghanistan', 'Kabul')",
                  "7304",
                  "2003-09-01",
                  "21.945"
                ],
                [
                  "('Afghanistan', 'Kabul')",
                  "7305",
                  "2003-10-01",
                  "15.884"
                ],
                [
                  "('Afghanistan', 'Kabul')",
                  "7306",
                  "2003-11-01",
                  "8.681000000000001"
                ],
                [
                  "('Afghanistan', 'Kabul')",
                  "7307",
                  "2003-12-01",
                  "4.666"
                ],
                [
                  "('Afghanistan', 'Kabul')",
                  "7308",
                  "2004-01-01",
                  "3.655"
                ],
                [
                  "('Afghanistan', 'Kabul')",
                  "7309",
                  "2004-02-01",
                  "6.775"
                ]
              ],
              "shape": {
                "columns": 3,
                "rows": 16500
              }
            },
            "text/html": [
              "<div>\n",
              "<style scoped>\n",
              "    .dataframe tbody tr th:only-of-type {\n",
              "        vertical-align: middle;\n",
              "    }\n",
              "\n",
              "    .dataframe tbody tr th {\n",
              "        vertical-align: top;\n",
              "    }\n",
              "\n",
              "    .dataframe thead th {\n",
              "        text-align: right;\n",
              "    }\n",
              "</style>\n",
              "<table border=\"1\" class=\"dataframe\">\n",
              "  <thead>\n",
              "    <tr style=\"text-align: right;\">\n",
              "      <th></th>\n",
              "      <th></th>\n",
              "      <th>Unnamed: 0</th>\n",
              "      <th>date</th>\n",
              "      <th>avg_temp_c</th>\n",
              "    </tr>\n",
              "    <tr>\n",
              "      <th>country</th>\n",
              "      <th>city</th>\n",
              "      <th></th>\n",
              "      <th></th>\n",
              "      <th></th>\n",
              "    </tr>\n",
              "  </thead>\n",
              "  <tbody>\n",
              "    <tr>\n",
              "      <th rowspan=\"5\" valign=\"top\">Afghanistan</th>\n",
              "      <th>Kabul</th>\n",
              "      <td>7260</td>\n",
              "      <td>2000-01-01</td>\n",
              "      <td>3.326</td>\n",
              "    </tr>\n",
              "    <tr>\n",
              "      <th>Kabul</th>\n",
              "      <td>7261</td>\n",
              "      <td>2000-02-01</td>\n",
              "      <td>3.454</td>\n",
              "    </tr>\n",
              "    <tr>\n",
              "      <th>Kabul</th>\n",
              "      <td>7262</td>\n",
              "      <td>2000-03-01</td>\n",
              "      <td>9.612</td>\n",
              "    </tr>\n",
              "    <tr>\n",
              "      <th>Kabul</th>\n",
              "      <td>7263</td>\n",
              "      <td>2000-04-01</td>\n",
              "      <td>17.925</td>\n",
              "    </tr>\n",
              "    <tr>\n",
              "      <th>Kabul</th>\n",
              "      <td>7264</td>\n",
              "      <td>2000-05-01</td>\n",
              "      <td>24.658</td>\n",
              "    </tr>\n",
              "    <tr>\n",
              "      <th>...</th>\n",
              "      <th>...</th>\n",
              "      <td>...</td>\n",
              "      <td>...</td>\n",
              "      <td>...</td>\n",
              "    </tr>\n",
              "    <tr>\n",
              "      <th rowspan=\"5\" valign=\"top\">Zimbabwe</th>\n",
              "      <th>Harare</th>\n",
              "      <td>5605</td>\n",
              "      <td>2013-05-01</td>\n",
              "      <td>18.298</td>\n",
              "    </tr>\n",
              "    <tr>\n",
              "      <th>Harare</th>\n",
              "      <td>5606</td>\n",
              "      <td>2013-06-01</td>\n",
              "      <td>17.020</td>\n",
              "    </tr>\n",
              "    <tr>\n",
              "      <th>Harare</th>\n",
              "      <td>5607</td>\n",
              "      <td>2013-07-01</td>\n",
              "      <td>16.299</td>\n",
              "    </tr>\n",
              "    <tr>\n",
              "      <th>Harare</th>\n",
              "      <td>5608</td>\n",
              "      <td>2013-08-01</td>\n",
              "      <td>19.232</td>\n",
              "    </tr>\n",
              "    <tr>\n",
              "      <th>Harare</th>\n",
              "      <td>5609</td>\n",
              "      <td>2013-09-01</td>\n",
              "      <td>NaN</td>\n",
              "    </tr>\n",
              "  </tbody>\n",
              "</table>\n",
              "<p>16500 rows × 3 columns</p>\n",
              "</div>"
            ],
            "text/plain": [
              "                    Unnamed: 0        date  avg_temp_c\n",
              "country     city                                      \n",
              "Afghanistan Kabul         7260  2000-01-01       3.326\n",
              "            Kabul         7261  2000-02-01       3.454\n",
              "            Kabul         7262  2000-03-01       9.612\n",
              "            Kabul         7263  2000-04-01      17.925\n",
              "            Kabul         7264  2000-05-01      24.658\n",
              "...                        ...         ...         ...\n",
              "Zimbabwe    Harare        5605  2013-05-01      18.298\n",
              "            Harare        5606  2013-06-01      17.020\n",
              "            Harare        5607  2013-07-01      16.299\n",
              "            Harare        5608  2013-08-01      19.232\n",
              "            Harare        5609  2013-09-01         NaN\n",
              "\n",
              "[16500 rows x 3 columns]"
            ]
          },
          "execution_count": 64,
          "metadata": {},
          "output_type": "execute_result"
        }
      ],
      "source": [
        "# Sort temperatures_ind by ascending country then descending city.\n",
        "temperatures_ind.sort_index(level=[\"country\", \"city\"], ascending=[True, False])"
      ]
    },
    {
      "cell_type": "markdown",
      "id": "6ea2764c",
      "metadata": {
        "id": "6ea2764c"
      },
      "source": [
        "## Slicing and Subsetting with `.loc` and `.iloc`\n",
        "\n",
        "The `.loc` and `.iloc` accessors provide a rigorous and expressive means to subset and slice DataFrames by **labels** and **positions**, respectively. Mastery of these methods is indispensable for analytical clarity, code precision, and efficient data handling in Pandas.\n",
        "\n",
        "\n",
        "### 1. Lists vs DataFrames in Slicing\n",
        "\n",
        "- Using a **list** in a selection returns a DataFrame containing all rows (or columns) that match any of the listed labels/positions.\n",
        "- Using a **slice** (`:`) selects a range - either by label (for `.loc`) or by position (for `.iloc`).\n",
        "\n",
        "\n",
        "### 2. Sorting the Index Before Slicing\n",
        "\n",
        "Slicing by labels with `.loc` only works correctly and efficiently when the DataFrame's index is **sorted**. Always ensure that you have sorted the relevant index level before attempting a slice.\n",
        "\n",
        "```python\n",
        "df_sorted = df.sort_index()\n",
        "```\n",
        "\n",
        "\n",
        "### 3. Slicing the Outer Index Level (Single or MultiIndex)\n",
        "\n",
        "For single-level or the outermost level of a MultiIndex, slicing is straightforward:\n",
        "\n",
        "```python\n",
        "df.loc[\"A\":\"C\"]\n",
        "```\n",
        "\n",
        "This selects all rows from label `\"A\"` up to and including `\"C\"`.\n",
        "\n",
        "\n",
        "### 4. Slicing Inner Index Levels (MultiIndex)\n",
        "\n",
        "#### **Incorrect**: Slicing inner levels with a simple range (will not work as intended):\n",
        "\n",
        "```python\n",
        "df_multi.loc[\"Level1Value\":\"Level2Value\"]  # Not valid for inner levels\n",
        "```\n",
        "\n",
        "#### **Correct**: Use tuples to specify full index keys for ranges:\n",
        "\n",
        "```python\n",
        "df_multi.loc[\n",
        "    (\"GroupA\", \"SubA\"):(\"GroupC\", \"SubD\")\n",
        "]\n",
        "```\n",
        "\n",
        "This will select all rows between the tupled index values, inclusive. This is the idiomatic approach for MultiIndexes.\n",
        "\n",
        "\n",
        "### 5. Slicing Columns\n",
        "\n",
        "You may slice both rows and columns simultaneously with `.loc`:\n",
        "\n",
        "```python\n",
        "df.loc[\n",
        "    \"row_start\":\"row_end\",\n",
        "    \"col_start\":\"col_end\"\n",
        "]\n",
        "```\n",
        "\n",
        "This selects a rectangular block of data by label ranges.\n",
        "\n",
        "\n",
        "### 6. Slicing Twice\n",
        "\n",
        "You may first slice rows, then columns - or vice versa—by chaining:\n",
        "\n",
        "```python\n",
        "df.loc[\"rowA\":\"rowD\"].loc[:, \"colA\":\"colC\"]\n",
        "```\n",
        "\n",
        "However, slicing both dimensions simultaneously is clearer and more efficient.\n",
        "\n",
        "\n",
        "### 7. Slicing by Dates\n",
        "\n",
        "If your DataFrame is indexed by a `datetime`-like index (ensure it is sorted):\n",
        "\n",
        "```python\n",
        "df_by_date = df.set_index(\"date_column\").sort_index()\n",
        "df_by_date.loc[\"2020-01-01\":\"2021-01-01\"]\n",
        "```\n",
        "\n",
        "This extracts all rows where the date falls within the specified interval. Pandas understands both full dates and partial string matches (e.g., `\"2020\"` for the entire year).\n",
        "\n",
        "\n",
        "### 8. Slicing by Partial Dates\n",
        "\n",
        "Partial string indexing is a powerful feature for date-indexed DataFrames:\n",
        "\n",
        "```python\n",
        "df_by_date.loc[\"2020\":\"2021\"]  # All data from 2020 and 2021\n",
        "```\n",
        "\n",
        "\n",
        "### 9. Subsetting by Row/Column Number: `.iloc`\n",
        "\n",
        "When you need to select rows and columns by their **integer position** (zero-based), use `.iloc`:\n",
        "\n",
        "```python\n",
        "df.iloc[2:5, 1:4]\n",
        "```\n",
        "\n",
        "This selects rows with positions 2, 3, 4 and columns with positions 1, 2, 3.\n",
        "\n",
        "\n",
        "### 10. General Principles and Best Practices\n",
        "\n",
        "- Always sort the relevant index before attempting slicing by labels.\n",
        "- Use tuples to slice over MultiIndex objects; slicing by only the outer label on a MultiIndex returns all data within that outer group.\n",
        "- Slicing is **inclusive** at both ends for label-based (`.loc`) slicing.\n",
        "- For time-series data, partial slicing by year, month, or even day is supported and highly idiomatic.\n",
        "- `.iloc` is strictly integer position-based and does **not** accept labels.\n",
        "- Prefer simultaneous slicing of rows and columns for clarity and efficiency.\n",
        "- Confirm the result of your slicing with `.shape`, `.head()`, or `.info()` to ensure correctness.\n",
        "\n"
      ]
    },
    {
      "cell_type": "code",
      "execution_count": 65,
      "id": "11a8bba1",
      "metadata": {
        "id": "11a8bba1"
      },
      "outputs": [],
      "source": [
        "# Sort the index of temperatures_ind.\n",
        "temperatures_srt = temperatures_ind.sort_index()"
      ]
    },
    {
      "cell_type": "code",
      "execution_count": 66,
      "id": "75425767",
      "metadata": {
        "colab": {
          "base_uri": "https://localhost:8080/",
          "height": 238
        },
        "id": "75425767",
        "outputId": "3f9fcca7-d5ff-4e70-ab9d-c048efac8413"
      },
      "outputs": [
        {
          "data": {
            "application/vnd.microsoft.datawrangler.viewer.v0+json": {
              "columns": [
                {
                  "name": "('country', 'city')",
                  "rawType": "object",
                  "type": "unknown"
                },
                {
                  "name": "Unnamed: 0",
                  "rawType": "int64",
                  "type": "integer"
                },
                {
                  "name": "date",
                  "rawType": "object",
                  "type": "string"
                },
                {
                  "name": "avg_temp_c",
                  "rawType": "float64",
                  "type": "float"
                }
              ],
              "ref": "d77e7e55-2688-43d0-9e63-7757af625815",
              "rows": [
                [
                  "('Afghanistan', 'Kabul')",
                  "7260",
                  "2000-01-01",
                  "3.326"
                ],
                [
                  "('Afghanistan', 'Kabul')",
                  "7261",
                  "2000-02-01",
                  "3.454"
                ],
                [
                  "('Afghanistan', 'Kabul')",
                  "7262",
                  "2000-03-01",
                  "9.612"
                ],
                [
                  "('Afghanistan', 'Kabul')",
                  "7263",
                  "2000-04-01",
                  "17.925"
                ],
                [
                  "('Afghanistan', 'Kabul')",
                  "7264",
                  "2000-05-01",
                  "24.658"
                ]
              ],
              "shape": {
                "columns": 3,
                "rows": 5
              }
            },
            "text/html": [
              "<div>\n",
              "<style scoped>\n",
              "    .dataframe tbody tr th:only-of-type {\n",
              "        vertical-align: middle;\n",
              "    }\n",
              "\n",
              "    .dataframe tbody tr th {\n",
              "        vertical-align: top;\n",
              "    }\n",
              "\n",
              "    .dataframe thead th {\n",
              "        text-align: right;\n",
              "    }\n",
              "</style>\n",
              "<table border=\"1\" class=\"dataframe\">\n",
              "  <thead>\n",
              "    <tr style=\"text-align: right;\">\n",
              "      <th></th>\n",
              "      <th></th>\n",
              "      <th>Unnamed: 0</th>\n",
              "      <th>date</th>\n",
              "      <th>avg_temp_c</th>\n",
              "    </tr>\n",
              "    <tr>\n",
              "      <th>country</th>\n",
              "      <th>city</th>\n",
              "      <th></th>\n",
              "      <th></th>\n",
              "      <th></th>\n",
              "    </tr>\n",
              "  </thead>\n",
              "  <tbody>\n",
              "    <tr>\n",
              "      <th rowspan=\"5\" valign=\"top\">Afghanistan</th>\n",
              "      <th>Kabul</th>\n",
              "      <td>7260</td>\n",
              "      <td>2000-01-01</td>\n",
              "      <td>3.326</td>\n",
              "    </tr>\n",
              "    <tr>\n",
              "      <th>Kabul</th>\n",
              "      <td>7261</td>\n",
              "      <td>2000-02-01</td>\n",
              "      <td>3.454</td>\n",
              "    </tr>\n",
              "    <tr>\n",
              "      <th>Kabul</th>\n",
              "      <td>7262</td>\n",
              "      <td>2000-03-01</td>\n",
              "      <td>9.612</td>\n",
              "    </tr>\n",
              "    <tr>\n",
              "      <th>Kabul</th>\n",
              "      <td>7263</td>\n",
              "      <td>2000-04-01</td>\n",
              "      <td>17.925</td>\n",
              "    </tr>\n",
              "    <tr>\n",
              "      <th>Kabul</th>\n",
              "      <td>7264</td>\n",
              "      <td>2000-05-01</td>\n",
              "      <td>24.658</td>\n",
              "    </tr>\n",
              "  </tbody>\n",
              "</table>\n",
              "</div>"
            ],
            "text/plain": [
              "                   Unnamed: 0        date  avg_temp_c\n",
              "country     city                                     \n",
              "Afghanistan Kabul        7260  2000-01-01       3.326\n",
              "            Kabul        7261  2000-02-01       3.454\n",
              "            Kabul        7262  2000-03-01       9.612\n",
              "            Kabul        7263  2000-04-01      17.925\n",
              "            Kabul        7264  2000-05-01      24.658"
            ]
          },
          "execution_count": 66,
          "metadata": {},
          "output_type": "execute_result"
        }
      ],
      "source": [
        "temperatures_srt.head()"
      ]
    },
    {
      "cell_type": "markdown",
      "id": "290ffba2",
      "metadata": {
        "id": "290ffba2"
      },
      "source": [
        "Use slicing with `.loc[]` to get these subsets:\n",
        "- from Pakistan to Russia.\n",
        "- from Lahore to Moscow. (This will return nonsense.)\n",
        "- from Pakistan, Lahore to Russia, Moscow."
      ]
    },
    {
      "cell_type": "code",
      "execution_count": 67,
      "id": "460e0c66",
      "metadata": {
        "colab": {
          "base_uri": "https://localhost:8080/",
          "height": 455
        },
        "id": "460e0c66",
        "outputId": "4fad2ff4-13ea-4b50-dce8-bd3705477bab"
      },
      "outputs": [
        {
          "data": {
            "application/vnd.microsoft.datawrangler.viewer.v0+json": {
              "columns": [
                {
                  "name": "('country', 'city')",
                  "rawType": "object",
                  "type": "unknown"
                },
                {
                  "name": "Unnamed: 0",
                  "rawType": "int64",
                  "type": "integer"
                },
                {
                  "name": "date",
                  "rawType": "object",
                  "type": "string"
                },
                {
                  "name": "avg_temp_c",
                  "rawType": "float64",
                  "type": "float"
                }
              ],
              "ref": "91262f49-95df-4cbe-84d5-3ece7395bfa0",
              "rows": [
                [
                  "('Pakistan', 'Faisalabad')",
                  "4785",
                  "2000-01-01",
                  "12.792"
                ],
                [
                  "('Pakistan', 'Faisalabad')",
                  "4786",
                  "2000-02-01",
                  "14.339"
                ],
                [
                  "('Pakistan', 'Faisalabad')",
                  "4787",
                  "2000-03-01",
                  "20.309"
                ],
                [
                  "('Pakistan', 'Faisalabad')",
                  "4788",
                  "2000-04-01",
                  "29.072"
                ],
                [
                  "('Pakistan', 'Faisalabad')",
                  "4789",
                  "2000-05-01",
                  "34.845"
                ],
                [
                  "('Pakistan', 'Faisalabad')",
                  "4790",
                  "2000-06-01",
                  "34.299"
                ],
                [
                  "('Pakistan', 'Faisalabad')",
                  "4791",
                  "2000-07-01",
                  "32.302"
                ],
                [
                  "('Pakistan', 'Faisalabad')",
                  "4792",
                  "2000-08-01",
                  "32.255"
                ],
                [
                  "('Pakistan', 'Faisalabad')",
                  "4793",
                  "2000-09-01",
                  "30.438"
                ],
                [
                  "('Pakistan', 'Faisalabad')",
                  "4794",
                  "2000-10-01",
                  "27.395"
                ],
                [
                  "('Pakistan', 'Faisalabad')",
                  "4795",
                  "2000-11-01",
                  "20.64"
                ],
                [
                  "('Pakistan', 'Faisalabad')",
                  "4796",
                  "2000-12-01",
                  "15.195"
                ],
                [
                  "('Pakistan', 'Faisalabad')",
                  "4797",
                  "2001-01-01",
                  "11.853"
                ],
                [
                  "('Pakistan', 'Faisalabad')",
                  "4798",
                  "2001-02-01",
                  "16.701"
                ],
                [
                  "('Pakistan', 'Faisalabad')",
                  "4799",
                  "2001-03-01",
                  "21.885"
                ],
                [
                  "('Pakistan', 'Faisalabad')",
                  "4800",
                  "2001-04-01",
                  "26.814"
                ],
                [
                  "('Pakistan', 'Faisalabad')",
                  "4801",
                  "2001-05-01",
                  "33.924"
                ],
                [
                  "('Pakistan', 'Faisalabad')",
                  "4802",
                  "2001-06-01",
                  "32.882000000000005"
                ],
                [
                  "('Pakistan', 'Faisalabad')",
                  "4803",
                  "2001-07-01",
                  "32.090999999999994"
                ],
                [
                  "('Pakistan', 'Faisalabad')",
                  "4804",
                  "2001-08-01",
                  "32.562"
                ],
                [
                  "('Pakistan', 'Faisalabad')",
                  "4805",
                  "2001-09-01",
                  "30.615"
                ],
                [
                  "('Pakistan', 'Faisalabad')",
                  "4806",
                  "2001-10-01",
                  "27.015"
                ],
                [
                  "('Pakistan', 'Faisalabad')",
                  "4807",
                  "2001-11-01",
                  "20.501"
                ],
                [
                  "('Pakistan', 'Faisalabad')",
                  "4808",
                  "2001-12-01",
                  "15.306"
                ],
                [
                  "('Pakistan', 'Faisalabad')",
                  "4809",
                  "2002-01-01",
                  "12.844"
                ],
                [
                  "('Pakistan', 'Faisalabad')",
                  "4810",
                  "2002-02-01",
                  "15.569"
                ],
                [
                  "('Pakistan', 'Faisalabad')",
                  "4811",
                  "2002-03-01",
                  "22.269"
                ],
                [
                  "('Pakistan', 'Faisalabad')",
                  "4812",
                  "2002-04-01",
                  "28.641"
                ],
                [
                  "('Pakistan', 'Faisalabad')",
                  "4813",
                  "2002-05-01",
                  "34.396"
                ],
                [
                  "('Pakistan', 'Faisalabad')",
                  "4814",
                  "2002-06-01",
                  "34.613"
                ],
                [
                  "('Pakistan', 'Faisalabad')",
                  "4815",
                  "2002-07-01",
                  "34.564"
                ],
                [
                  "('Pakistan', 'Faisalabad')",
                  "4816",
                  "2002-08-01",
                  "32.718"
                ],
                [
                  "('Pakistan', 'Faisalabad')",
                  "4817",
                  "2002-09-01",
                  "29.322"
                ],
                [
                  "('Pakistan', 'Faisalabad')",
                  "4818",
                  "2002-10-01",
                  "26.461"
                ],
                [
                  "('Pakistan', 'Faisalabad')",
                  "4819",
                  "2002-11-01",
                  "20.609"
                ],
                [
                  "('Pakistan', 'Faisalabad')",
                  "4820",
                  "2002-12-01",
                  "15.308"
                ],
                [
                  "('Pakistan', 'Faisalabad')",
                  "4821",
                  "2003-01-01",
                  "11.285"
                ],
                [
                  "('Pakistan', 'Faisalabad')",
                  "4822",
                  "2003-02-01",
                  "15.578"
                ],
                [
                  "('Pakistan', 'Faisalabad')",
                  "4823",
                  "2003-03-01",
                  "20.81"
                ],
                [
                  "('Pakistan', 'Faisalabad')",
                  "4824",
                  "2003-04-01",
                  "28.07800000000001"
                ],
                [
                  "('Pakistan', 'Faisalabad')",
                  "4825",
                  "2003-05-01",
                  "31.784"
                ],
                [
                  "('Pakistan', 'Faisalabad')",
                  "4826",
                  "2003-06-01",
                  "35.15600000000001"
                ],
                [
                  "('Pakistan', 'Faisalabad')",
                  "4827",
                  "2003-07-01",
                  "32.379999999999995"
                ],
                [
                  "('Pakistan', 'Faisalabad')",
                  "4828",
                  "2003-08-01",
                  "31.92"
                ],
                [
                  "('Pakistan', 'Faisalabad')",
                  "4829",
                  "2003-09-01",
                  "30.605"
                ],
                [
                  "('Pakistan', 'Faisalabad')",
                  "4830",
                  "2003-10-01",
                  "25.63000000000001"
                ],
                [
                  "('Pakistan', 'Faisalabad')",
                  "4831",
                  "2003-11-01",
                  "18.777"
                ],
                [
                  "('Pakistan', 'Faisalabad')",
                  "4832",
                  "2003-12-01",
                  "14.562"
                ],
                [
                  "('Pakistan', 'Faisalabad')",
                  "4833",
                  "2004-01-01",
                  "12.994000000000002"
                ],
                [
                  "('Pakistan', 'Faisalabad')",
                  "4834",
                  "2004-02-01",
                  "17.075"
                ]
              ],
              "shape": {
                "columns": 3,
                "rows": 1155
              }
            },
            "text/html": [
              "<div>\n",
              "<style scoped>\n",
              "    .dataframe tbody tr th:only-of-type {\n",
              "        vertical-align: middle;\n",
              "    }\n",
              "\n",
              "    .dataframe tbody tr th {\n",
              "        vertical-align: top;\n",
              "    }\n",
              "\n",
              "    .dataframe thead th {\n",
              "        text-align: right;\n",
              "    }\n",
              "</style>\n",
              "<table border=\"1\" class=\"dataframe\">\n",
              "  <thead>\n",
              "    <tr style=\"text-align: right;\">\n",
              "      <th></th>\n",
              "      <th></th>\n",
              "      <th>Unnamed: 0</th>\n",
              "      <th>date</th>\n",
              "      <th>avg_temp_c</th>\n",
              "    </tr>\n",
              "    <tr>\n",
              "      <th>country</th>\n",
              "      <th>city</th>\n",
              "      <th></th>\n",
              "      <th></th>\n",
              "      <th></th>\n",
              "    </tr>\n",
              "  </thead>\n",
              "  <tbody>\n",
              "    <tr>\n",
              "      <th rowspan=\"5\" valign=\"top\">Pakistan</th>\n",
              "      <th>Faisalabad</th>\n",
              "      <td>4785</td>\n",
              "      <td>2000-01-01</td>\n",
              "      <td>12.792</td>\n",
              "    </tr>\n",
              "    <tr>\n",
              "      <th>Faisalabad</th>\n",
              "      <td>4786</td>\n",
              "      <td>2000-02-01</td>\n",
              "      <td>14.339</td>\n",
              "    </tr>\n",
              "    <tr>\n",
              "      <th>Faisalabad</th>\n",
              "      <td>4787</td>\n",
              "      <td>2000-03-01</td>\n",
              "      <td>20.309</td>\n",
              "    </tr>\n",
              "    <tr>\n",
              "      <th>Faisalabad</th>\n",
              "      <td>4788</td>\n",
              "      <td>2000-04-01</td>\n",
              "      <td>29.072</td>\n",
              "    </tr>\n",
              "    <tr>\n",
              "      <th>Faisalabad</th>\n",
              "      <td>4789</td>\n",
              "      <td>2000-05-01</td>\n",
              "      <td>34.845</td>\n",
              "    </tr>\n",
              "    <tr>\n",
              "      <th>...</th>\n",
              "      <th>...</th>\n",
              "      <td>...</td>\n",
              "      <td>...</td>\n",
              "      <td>...</td>\n",
              "    </tr>\n",
              "    <tr>\n",
              "      <th rowspan=\"5\" valign=\"top\">Russia</th>\n",
              "      <th>Saint Petersburg</th>\n",
              "      <td>13360</td>\n",
              "      <td>2013-05-01</td>\n",
              "      <td>12.355</td>\n",
              "    </tr>\n",
              "    <tr>\n",
              "      <th>Saint Petersburg</th>\n",
              "      <td>13361</td>\n",
              "      <td>2013-06-01</td>\n",
              "      <td>17.185</td>\n",
              "    </tr>\n",
              "    <tr>\n",
              "      <th>Saint Petersburg</th>\n",
              "      <td>13362</td>\n",
              "      <td>2013-07-01</td>\n",
              "      <td>17.234</td>\n",
              "    </tr>\n",
              "    <tr>\n",
              "      <th>Saint Petersburg</th>\n",
              "      <td>13363</td>\n",
              "      <td>2013-08-01</td>\n",
              "      <td>17.153</td>\n",
              "    </tr>\n",
              "    <tr>\n",
              "      <th>Saint Petersburg</th>\n",
              "      <td>13364</td>\n",
              "      <td>2013-09-01</td>\n",
              "      <td>NaN</td>\n",
              "    </tr>\n",
              "  </tbody>\n",
              "</table>\n",
              "<p>1155 rows × 3 columns</p>\n",
              "</div>"
            ],
            "text/plain": [
              "                           Unnamed: 0        date  avg_temp_c\n",
              "country  city                                                \n",
              "Pakistan Faisalabad              4785  2000-01-01      12.792\n",
              "         Faisalabad              4786  2000-02-01      14.339\n",
              "         Faisalabad              4787  2000-03-01      20.309\n",
              "         Faisalabad              4788  2000-04-01      29.072\n",
              "         Faisalabad              4789  2000-05-01      34.845\n",
              "...                               ...         ...         ...\n",
              "Russia   Saint Petersburg       13360  2013-05-01      12.355\n",
              "         Saint Petersburg       13361  2013-06-01      17.185\n",
              "         Saint Petersburg       13362  2013-07-01      17.234\n",
              "         Saint Petersburg       13363  2013-08-01      17.153\n",
              "         Saint Petersburg       13364  2013-09-01         NaN\n",
              "\n",
              "[1155 rows x 3 columns]"
            ]
          },
          "execution_count": 67,
          "metadata": {},
          "output_type": "execute_result"
        }
      ],
      "source": [
        "# Subset rows from Pakistan to Russia\n",
        "temperatures_srt.loc[\"Pakistan\":\"Russia\"]"
      ]
    },
    {
      "cell_type": "code",
      "execution_count": 68,
      "id": "bd39e0bb",
      "metadata": {
        "colab": {
          "base_uri": "https://localhost:8080/",
          "height": 455
        },
        "id": "bd39e0bb",
        "outputId": "f10f651e-1298-4048-c315-00ce2ccc41b9"
      },
      "outputs": [
        {
          "data": {
            "application/vnd.microsoft.datawrangler.viewer.v0+json": {
              "columns": [
                {
                  "name": "('country', 'city')",
                  "rawType": "object",
                  "type": "unknown"
                },
                {
                  "name": "Unnamed: 0",
                  "rawType": "int64",
                  "type": "integer"
                },
                {
                  "name": "date",
                  "rawType": "object",
                  "type": "string"
                },
                {
                  "name": "avg_temp_c",
                  "rawType": "float64",
                  "type": "float"
                }
              ],
              "ref": "23594cd6-5f56-481a-bf20-8d3ae9dafc74",
              "rows": [
                [
                  "('Mexico', 'Mexico')",
                  "10230",
                  "2000-01-01",
                  "12.694"
                ],
                [
                  "('Mexico', 'Mexico')",
                  "10231",
                  "2000-02-01",
                  "14.677"
                ],
                [
                  "('Mexico', 'Mexico')",
                  "10232",
                  "2000-03-01",
                  "17.375999999999998"
                ],
                [
                  "('Mexico', 'Mexico')",
                  "10233",
                  "2000-04-01",
                  "18.294"
                ],
                [
                  "('Mexico', 'Mexico')",
                  "10234",
                  "2000-05-01",
                  "18.562"
                ],
                [
                  "('Mexico', 'Mexico')",
                  "10235",
                  "2000-06-01",
                  "17.27"
                ],
                [
                  "('Mexico', 'Mexico')",
                  "10236",
                  "2000-07-01",
                  "17.723000000000006"
                ],
                [
                  "('Mexico', 'Mexico')",
                  "10237",
                  "2000-08-01",
                  "16.967"
                ],
                [
                  "('Mexico', 'Mexico')",
                  "10238",
                  "2000-09-01",
                  "16.996"
                ],
                [
                  "('Mexico', 'Mexico')",
                  "10239",
                  "2000-10-01",
                  "15.605"
                ],
                [
                  "('Mexico', 'Mexico')",
                  "10240",
                  "2000-11-01",
                  "15.237"
                ],
                [
                  "('Mexico', 'Mexico')",
                  "10241",
                  "2000-12-01",
                  "11.966"
                ],
                [
                  "('Mexico', 'Mexico')",
                  "10242",
                  "2001-01-01",
                  "12.733"
                ],
                [
                  "('Mexico', 'Mexico')",
                  "10243",
                  "2001-02-01",
                  "14.461"
                ],
                [
                  "('Mexico', 'Mexico')",
                  "10244",
                  "2001-03-01",
                  "15.925999999999998"
                ],
                [
                  "('Mexico', 'Mexico')",
                  "10245",
                  "2001-04-01",
                  "18.156"
                ],
                [
                  "('Mexico', 'Mexico')",
                  "10246",
                  "2001-05-01",
                  "18.121"
                ],
                [
                  "('Mexico', 'Mexico')",
                  "10247",
                  "2001-06-01",
                  "17.809"
                ],
                [
                  "('Mexico', 'Mexico')",
                  "10248",
                  "2001-07-01",
                  "17.570999999999998"
                ],
                [
                  "('Mexico', 'Mexico')",
                  "10249",
                  "2001-08-01",
                  "17.71"
                ],
                [
                  "('Mexico', 'Mexico')",
                  "10250",
                  "2001-09-01",
                  "16.96"
                ],
                [
                  "('Mexico', 'Mexico')",
                  "10251",
                  "2001-10-01",
                  "15.281"
                ],
                [
                  "('Mexico', 'Mexico')",
                  "10252",
                  "2001-11-01",
                  "13.861"
                ],
                [
                  "('Mexico', 'Mexico')",
                  "10253",
                  "2001-12-01",
                  "13.157"
                ],
                [
                  "('Mexico', 'Mexico')",
                  "10254",
                  "2002-01-01",
                  "12.965"
                ],
                [
                  "('Mexico', 'Mexico')",
                  "10255",
                  "2002-02-01",
                  "13.622"
                ],
                [
                  "('Mexico', 'Mexico')",
                  "10256",
                  "2002-03-01",
                  "17.116"
                ],
                [
                  "('Mexico', 'Mexico')",
                  "10257",
                  "2002-04-01",
                  "18.396"
                ],
                [
                  "('Mexico', 'Mexico')",
                  "10258",
                  "2002-05-01",
                  "19.608"
                ],
                [
                  "('Mexico', 'Mexico')",
                  "10259",
                  "2002-06-01",
                  "18.479"
                ],
                [
                  "('Mexico', 'Mexico')",
                  "10260",
                  "2002-07-01",
                  "17.561"
                ],
                [
                  "('Mexico', 'Mexico')",
                  "10261",
                  "2002-08-01",
                  "18.084"
                ],
                [
                  "('Mexico', 'Mexico')",
                  "10262",
                  "2002-09-01",
                  "17.07"
                ],
                [
                  "('Mexico', 'Mexico')",
                  "10263",
                  "2002-10-01",
                  "17.051"
                ],
                [
                  "('Mexico', 'Mexico')",
                  "10264",
                  "2002-11-01",
                  "13.543"
                ],
                [
                  "('Mexico', 'Mexico')",
                  "10265",
                  "2002-12-01",
                  "12.945"
                ],
                [
                  "('Mexico', 'Mexico')",
                  "10266",
                  "2003-01-01",
                  "12.398"
                ],
                [
                  "('Mexico', 'Mexico')",
                  "10267",
                  "2003-02-01",
                  "15.373"
                ],
                [
                  "('Mexico', 'Mexico')",
                  "10268",
                  "2003-03-01",
                  "17.124000000000002"
                ],
                [
                  "('Mexico', 'Mexico')",
                  "10269",
                  "2003-04-01",
                  "18.917"
                ],
                [
                  "('Mexico', 'Mexico')",
                  "10270",
                  "2003-05-01",
                  "20.928"
                ],
                [
                  "('Mexico', 'Mexico')",
                  "10271",
                  "2003-06-01",
                  "18.661"
                ],
                [
                  "('Mexico', 'Mexico')",
                  "10272",
                  "2003-07-01",
                  "17.766000000000005"
                ],
                [
                  "('Mexico', 'Mexico')",
                  "10273",
                  "2003-08-01",
                  "17.783"
                ],
                [
                  "('Mexico', 'Mexico')",
                  "10274",
                  "2003-09-01",
                  "17.66"
                ],
                [
                  "('Mexico', 'Mexico')",
                  "10275",
                  "2003-10-01",
                  "16.386"
                ],
                [
                  "('Mexico', 'Mexico')",
                  "10276",
                  "2003-11-01",
                  "15.194"
                ],
                [
                  "('Mexico', 'Mexico')",
                  "10277",
                  "2003-12-01",
                  "11.623"
                ],
                [
                  "('Mexico', 'Mexico')",
                  "10278",
                  "2004-01-01",
                  "12.455"
                ],
                [
                  "('Mexico', 'Mexico')",
                  "10279",
                  "2004-02-01",
                  "13.95"
                ]
              ],
              "shape": {
                "columns": 3,
                "rows": 330
              }
            },
            "text/html": [
              "<div>\n",
              "<style scoped>\n",
              "    .dataframe tbody tr th:only-of-type {\n",
              "        vertical-align: middle;\n",
              "    }\n",
              "\n",
              "    .dataframe tbody tr th {\n",
              "        vertical-align: top;\n",
              "    }\n",
              "\n",
              "    .dataframe thead th {\n",
              "        text-align: right;\n",
              "    }\n",
              "</style>\n",
              "<table border=\"1\" class=\"dataframe\">\n",
              "  <thead>\n",
              "    <tr style=\"text-align: right;\">\n",
              "      <th></th>\n",
              "      <th></th>\n",
              "      <th>Unnamed: 0</th>\n",
              "      <th>date</th>\n",
              "      <th>avg_temp_c</th>\n",
              "    </tr>\n",
              "    <tr>\n",
              "      <th>country</th>\n",
              "      <th>city</th>\n",
              "      <th></th>\n",
              "      <th></th>\n",
              "      <th></th>\n",
              "    </tr>\n",
              "  </thead>\n",
              "  <tbody>\n",
              "    <tr>\n",
              "      <th rowspan=\"5\" valign=\"top\">Mexico</th>\n",
              "      <th>Mexico</th>\n",
              "      <td>10230</td>\n",
              "      <td>2000-01-01</td>\n",
              "      <td>12.694</td>\n",
              "    </tr>\n",
              "    <tr>\n",
              "      <th>Mexico</th>\n",
              "      <td>10231</td>\n",
              "      <td>2000-02-01</td>\n",
              "      <td>14.677</td>\n",
              "    </tr>\n",
              "    <tr>\n",
              "      <th>Mexico</th>\n",
              "      <td>10232</td>\n",
              "      <td>2000-03-01</td>\n",
              "      <td>17.376</td>\n",
              "    </tr>\n",
              "    <tr>\n",
              "      <th>Mexico</th>\n",
              "      <td>10233</td>\n",
              "      <td>2000-04-01</td>\n",
              "      <td>18.294</td>\n",
              "    </tr>\n",
              "    <tr>\n",
              "      <th>Mexico</th>\n",
              "      <td>10234</td>\n",
              "      <td>2000-05-01</td>\n",
              "      <td>18.562</td>\n",
              "    </tr>\n",
              "    <tr>\n",
              "      <th>...</th>\n",
              "      <th>...</th>\n",
              "      <td>...</td>\n",
              "      <td>...</td>\n",
              "      <td>...</td>\n",
              "    </tr>\n",
              "    <tr>\n",
              "      <th rowspan=\"5\" valign=\"top\">Morocco</th>\n",
              "      <th>Casablanca</th>\n",
              "      <td>3130</td>\n",
              "      <td>2013-05-01</td>\n",
              "      <td>19.217</td>\n",
              "    </tr>\n",
              "    <tr>\n",
              "      <th>Casablanca</th>\n",
              "      <td>3131</td>\n",
              "      <td>2013-06-01</td>\n",
              "      <td>23.649</td>\n",
              "    </tr>\n",
              "    <tr>\n",
              "      <th>Casablanca</th>\n",
              "      <td>3132</td>\n",
              "      <td>2013-07-01</td>\n",
              "      <td>27.488</td>\n",
              "    </tr>\n",
              "    <tr>\n",
              "      <th>Casablanca</th>\n",
              "      <td>3133</td>\n",
              "      <td>2013-08-01</td>\n",
              "      <td>27.952</td>\n",
              "    </tr>\n",
              "    <tr>\n",
              "      <th>Casablanca</th>\n",
              "      <td>3134</td>\n",
              "      <td>2013-09-01</td>\n",
              "      <td>NaN</td>\n",
              "    </tr>\n",
              "  </tbody>\n",
              "</table>\n",
              "<p>330 rows × 3 columns</p>\n",
              "</div>"
            ],
            "text/plain": [
              "                    Unnamed: 0        date  avg_temp_c\n",
              "country city                                          \n",
              "Mexico  Mexico           10230  2000-01-01      12.694\n",
              "        Mexico           10231  2000-02-01      14.677\n",
              "        Mexico           10232  2000-03-01      17.376\n",
              "        Mexico           10233  2000-04-01      18.294\n",
              "        Mexico           10234  2000-05-01      18.562\n",
              "...                        ...         ...         ...\n",
              "Morocco Casablanca        3130  2013-05-01      19.217\n",
              "        Casablanca        3131  2013-06-01      23.649\n",
              "        Casablanca        3132  2013-07-01      27.488\n",
              "        Casablanca        3133  2013-08-01      27.952\n",
              "        Casablanca        3134  2013-09-01         NaN\n",
              "\n",
              "[330 rows x 3 columns]"
            ]
          },
          "execution_count": 68,
          "metadata": {},
          "output_type": "execute_result"
        }
      ],
      "source": [
        "# Try to subset rows from Lahore to Moscow - (This will return nonsense.)\n",
        "temperatures_srt.loc[\"Lahore\":\"Moscow\"]"
      ]
    },
    {
      "cell_type": "code",
      "execution_count": 69,
      "id": "06406a71",
      "metadata": {
        "colab": {
          "base_uri": "https://localhost:8080/",
          "height": 455
        },
        "id": "06406a71",
        "outputId": "751601ad-9e9c-4cf1-8bc5-ae33d886f546"
      },
      "outputs": [
        {
          "name": "stdout",
          "output_type": "stream",
          "text": [
            "                 Unnamed: 0        date  avg_temp_c\n",
            "country  city                                      \n",
            "Pakistan Lahore        8415  2000-01-01      12.792\n",
            "         Lahore        8416  2000-02-01      14.339\n",
            "         Lahore        8417  2000-03-01      20.309\n",
            "         Lahore        8418  2000-04-01      29.072\n",
            "         Lahore        8419  2000-05-01      34.845\n",
            "...                     ...         ...         ...\n",
            "Russia   Moscow       10885  2013-05-01      16.152\n",
            "         Moscow       10886  2013-06-01      18.718\n",
            "         Moscow       10887  2013-07-01      18.136\n",
            "         Moscow       10888  2013-08-01      17.485\n",
            "         Moscow       10889  2013-09-01         NaN\n",
            "\n",
            "[660 rows x 3 columns]\n"
          ]
        }
      ],
      "source": [
        "# Subset rows from Pakistan, Lahore to Russia, Moscow\n",
        "print(temperatures_srt.loc[\n",
        "    (\"Pakistan\", \"Lahore\"):(\"Russia\",\"Moscow\")\n",
        "])"
      ]
    },
    {
      "cell_type": "markdown",
      "id": "2cdabdb8",
      "metadata": {
        "id": "2cdabdb8"
      },
      "source": [
        "### Slicing in both directions\n",
        "You've seen slicing DataFrames by rows and by columns, but since DataFrames are two-dimensional objects, it is often natural to slice both dimensions at once. That is, by passing two arguments to `.loc[]`, you can subset by rows and columns in one go."
      ]
    },
    {
      "cell_type": "code",
      "execution_count": 70,
      "id": "26cd5eae",
      "metadata": {
        "id": "26cd5eae"
      },
      "outputs": [
        {
          "name": "stdout",
          "output_type": "stream",
          "text": [
            "                   Unnamed: 0        date  avg_temp_c\n",
            "country city                                         \n",
            "India   Hyderabad        5940  2000-01-01      23.779\n",
            "        Hyderabad        5941  2000-02-01      25.826\n",
            "        Hyderabad        5942  2000-03-01      28.821\n",
            "        Hyderabad        5943  2000-04-01      32.698\n",
            "        Hyderabad        5944  2000-05-01      32.438\n",
            "...                       ...         ...         ...\n",
            "Iraq    Baghdad          1150  2013-05-01      28.673\n",
            "        Baghdad          1151  2013-06-01      33.803\n",
            "        Baghdad          1152  2013-07-01      36.392\n",
            "        Baghdad          1153  2013-08-01      35.463\n",
            "        Baghdad          1154  2013-09-01         NaN\n",
            "\n",
            "[2145 rows x 3 columns]\n"
          ]
        }
      ],
      "source": [
        "# Use .loc[] slicing to subset rows from India, Hyderabad to Iraq, Baghdad.\n",
        "print(temperatures_srt.loc[\n",
        "    (\"India\", \"Hyderabad\"):(\"Iraq\", \"Baghdad\")\n",
        "])"
      ]
    },
    {
      "cell_type": "code",
      "execution_count": 71,
      "id": "dd291d49",
      "metadata": {},
      "outputs": [
        {
          "name": "stdout",
          "output_type": "stream",
          "text": [
            "                          date  avg_temp_c\n",
            "country     city                          \n",
            "Afghanistan Kabul   2000-01-01       3.326\n",
            "            Kabul   2000-02-01       3.454\n",
            "            Kabul   2000-03-01       9.612\n",
            "            Kabul   2000-04-01      17.925\n",
            "            Kabul   2000-05-01      24.658\n",
            "...                        ...         ...\n",
            "Zimbabwe    Harare  2013-05-01      18.298\n",
            "            Harare  2013-06-01      17.020\n",
            "            Harare  2013-07-01      16.299\n",
            "            Harare  2013-08-01      19.232\n",
            "            Harare  2013-09-01         NaN\n",
            "\n",
            "[16500 rows x 2 columns]\n"
          ]
        }
      ],
      "source": [
        "# Use .loc[] slicing to subset columns from date to avg_temp_c.\n",
        "print(temperatures_srt.loc[:, \"date\":\"avg_temp_c\"])"
      ]
    },
    {
      "cell_type": "code",
      "execution_count": 72,
      "id": "66e2d26c",
      "metadata": {},
      "outputs": [
        {
          "name": "stdout",
          "output_type": "stream",
          "text": [
            "                         date  avg_temp_c\n",
            "country city                             \n",
            "India   Hyderabad  2000-01-01      23.779\n",
            "        Hyderabad  2000-02-01      25.826\n",
            "        Hyderabad  2000-03-01      28.821\n",
            "        Hyderabad  2000-04-01      32.698\n",
            "        Hyderabad  2000-05-01      32.438\n",
            "...                       ...         ...\n",
            "Iraq    Baghdad    2013-05-01      28.673\n",
            "        Baghdad    2013-06-01      33.803\n",
            "        Baghdad    2013-07-01      36.392\n",
            "        Baghdad    2013-08-01      35.463\n",
            "        Baghdad    2013-09-01         NaN\n",
            "\n",
            "[2145 rows x 2 columns]\n"
          ]
        }
      ],
      "source": [
        "# Slice in both directions at once from Hyderabad to Baghdad, and date to avg_temp_c.\n",
        "print(temperatures_srt.loc[(\"India\", \"Hyderabad\"):(\"Iraq\", \"Baghdad\"), \"date\":\"avg_temp_c\"])\n"
      ]
    },
    {
      "cell_type": "markdown",
      "id": "d41adb4f",
      "metadata": {},
      "source": [
        "### Slicing time series\n",
        "Slicing is particularly useful for time series since it's a common thing to want to filter for data within a date range. Add the date column to the index, then use `.loc[]` to perform the subsetting. The important thing to remember is to keep your dates in ISO 8601 format, that is, \"yyyy-mm-dd\" for year-month-day, \"yyyy-mm\" for year-month, and \"yyyy\" for year."
      ]
    },
    {
      "cell_type": "code",
      "execution_count": 73,
      "id": "240b30e2",
      "metadata": {},
      "outputs": [
        {
          "data": {
            "application/vnd.microsoft.datawrangler.viewer.v0+json": {
              "columns": [
                {
                  "name": "index",
                  "rawType": "int64",
                  "type": "integer"
                },
                {
                  "name": "Unnamed: 0",
                  "rawType": "int64",
                  "type": "integer"
                },
                {
                  "name": "date",
                  "rawType": "object",
                  "type": "string"
                },
                {
                  "name": "city",
                  "rawType": "object",
                  "type": "string"
                },
                {
                  "name": "country",
                  "rawType": "object",
                  "type": "string"
                },
                {
                  "name": "avg_temp_c",
                  "rawType": "float64",
                  "type": "float"
                }
              ],
              "ref": "5c786b72-6efa-48eb-a665-20c9c646e52e",
              "rows": [
                [
                  "120",
                  "120",
                  "2010-01-01",
                  "Abidjan",
                  "Côte D'Ivoire",
                  "28.270000000000003"
                ],
                [
                  "121",
                  "121",
                  "2010-02-01",
                  "Abidjan",
                  "Côte D'Ivoire",
                  "29.262"
                ],
                [
                  "122",
                  "122",
                  "2010-03-01",
                  "Abidjan",
                  "Côte D'Ivoire",
                  "29.596"
                ],
                [
                  "123",
                  "123",
                  "2010-04-01",
                  "Abidjan",
                  "Côte D'Ivoire",
                  "29.068"
                ],
                [
                  "124",
                  "124",
                  "2010-05-01",
                  "Abidjan",
                  "Côte D'Ivoire",
                  "28.25800000000001"
                ],
                [
                  "125",
                  "125",
                  "2010-06-01",
                  "Abidjan",
                  "Côte D'Ivoire",
                  "26.683000000000003"
                ],
                [
                  "126",
                  "126",
                  "2010-07-01",
                  "Abidjan",
                  "Côte D'Ivoire",
                  "25.589"
                ],
                [
                  "127",
                  "127",
                  "2010-08-01",
                  "Abidjan",
                  "Côte D'Ivoire",
                  "25.4"
                ],
                [
                  "128",
                  "128",
                  "2010-09-01",
                  "Abidjan",
                  "Côte D'Ivoire",
                  "25.71"
                ],
                [
                  "129",
                  "129",
                  "2010-10-01",
                  "Abidjan",
                  "Côte D'Ivoire",
                  "26.397"
                ],
                [
                  "130",
                  "130",
                  "2010-11-01",
                  "Abidjan",
                  "Côte D'Ivoire",
                  "27.446"
                ],
                [
                  "131",
                  "131",
                  "2010-12-01",
                  "Abidjan",
                  "Côte D'Ivoire",
                  "27.666"
                ],
                [
                  "132",
                  "132",
                  "2011-01-01",
                  "Abidjan",
                  "Côte D'Ivoire",
                  "27.36000000000001"
                ],
                [
                  "133",
                  "133",
                  "2011-02-01",
                  "Abidjan",
                  "Côte D'Ivoire",
                  "28.295"
                ],
                [
                  "134",
                  "134",
                  "2011-03-01",
                  "Abidjan",
                  "Côte D'Ivoire",
                  "28.922"
                ],
                [
                  "135",
                  "135",
                  "2011-04-01",
                  "Abidjan",
                  "Côte D'Ivoire",
                  "28.754"
                ],
                [
                  "136",
                  "136",
                  "2011-05-01",
                  "Abidjan",
                  "Côte D'Ivoire",
                  "27.809"
                ],
                [
                  "137",
                  "137",
                  "2011-06-01",
                  "Abidjan",
                  "Côte D'Ivoire",
                  "26.427"
                ],
                [
                  "138",
                  "138",
                  "2011-07-01",
                  "Abidjan",
                  "Côte D'Ivoire",
                  "25.302"
                ],
                [
                  "139",
                  "139",
                  "2011-08-01",
                  "Abidjan",
                  "Côte D'Ivoire",
                  "24.824"
                ],
                [
                  "140",
                  "140",
                  "2011-09-01",
                  "Abidjan",
                  "Côte D'Ivoire",
                  "25.405"
                ],
                [
                  "141",
                  "141",
                  "2011-10-01",
                  "Abidjan",
                  "Côte D'Ivoire",
                  "26.388"
                ],
                [
                  "142",
                  "142",
                  "2011-11-01",
                  "Abidjan",
                  "Côte D'Ivoire",
                  "27.531"
                ],
                [
                  "143",
                  "143",
                  "2011-12-01",
                  "Abidjan",
                  "Côte D'Ivoire",
                  "27.19400000000001"
                ],
                [
                  "285",
                  "285",
                  "2010-01-01",
                  "Addis Abeba",
                  "Ethiopia",
                  "18.39"
                ],
                [
                  "286",
                  "286",
                  "2010-02-01",
                  "Addis Abeba",
                  "Ethiopia",
                  "18.931"
                ],
                [
                  "287",
                  "287",
                  "2010-03-01",
                  "Addis Abeba",
                  "Ethiopia",
                  "20.102"
                ],
                [
                  "288",
                  "288",
                  "2010-04-01",
                  "Addis Abeba",
                  "Ethiopia",
                  "19.876"
                ],
                [
                  "289",
                  "289",
                  "2010-05-01",
                  "Addis Abeba",
                  "Ethiopia",
                  "19.646"
                ],
                [
                  "290",
                  "290",
                  "2010-06-01",
                  "Addis Abeba",
                  "Ethiopia",
                  "18.397"
                ],
                [
                  "291",
                  "291",
                  "2010-07-01",
                  "Addis Abeba",
                  "Ethiopia",
                  "16.91"
                ],
                [
                  "292",
                  "292",
                  "2010-08-01",
                  "Addis Abeba",
                  "Ethiopia",
                  "17.037"
                ],
                [
                  "293",
                  "293",
                  "2010-09-01",
                  "Addis Abeba",
                  "Ethiopia",
                  "17.551000000000002"
                ],
                [
                  "294",
                  "294",
                  "2010-10-01",
                  "Addis Abeba",
                  "Ethiopia",
                  "18.088"
                ],
                [
                  "295",
                  "295",
                  "2010-11-01",
                  "Addis Abeba",
                  "Ethiopia",
                  "17.570999999999998"
                ],
                [
                  "296",
                  "296",
                  "2010-12-01",
                  "Addis Abeba",
                  "Ethiopia",
                  "17.08"
                ],
                [
                  "297",
                  "297",
                  "2011-01-01",
                  "Addis Abeba",
                  "Ethiopia",
                  "17.708000000000006"
                ],
                [
                  "298",
                  "298",
                  "2011-02-01",
                  "Addis Abeba",
                  "Ethiopia",
                  "19.619"
                ],
                [
                  "299",
                  "299",
                  "2011-03-01",
                  "Addis Abeba",
                  "Ethiopia",
                  "20.153"
                ],
                [
                  "300",
                  "300",
                  "2011-04-01",
                  "Addis Abeba",
                  "Ethiopia",
                  "21.22300000000001"
                ],
                [
                  "301",
                  "301",
                  "2011-05-01",
                  "Addis Abeba",
                  "Ethiopia",
                  "19.884"
                ],
                [
                  "302",
                  "302",
                  "2011-06-01",
                  "Addis Abeba",
                  "Ethiopia",
                  "18.805"
                ],
                [
                  "303",
                  "303",
                  "2011-07-01",
                  "Addis Abeba",
                  "Ethiopia",
                  "17.983"
                ],
                [
                  "304",
                  "304",
                  "2011-08-01",
                  "Addis Abeba",
                  "Ethiopia",
                  "17.570999999999998"
                ],
                [
                  "305",
                  "305",
                  "2011-09-01",
                  "Addis Abeba",
                  "Ethiopia",
                  "17.822000000000006"
                ],
                [
                  "306",
                  "306",
                  "2011-10-01",
                  "Addis Abeba",
                  "Ethiopia",
                  "17.157999999999998"
                ],
                [
                  "307",
                  "307",
                  "2011-11-01",
                  "Addis Abeba",
                  "Ethiopia",
                  "17.869"
                ],
                [
                  "308",
                  "308",
                  "2011-12-01",
                  "Addis Abeba",
                  "Ethiopia",
                  "17.485999999999994"
                ],
                [
                  "450",
                  "450",
                  "2010-01-01",
                  "Ahmadabad",
                  "India",
                  "20.969"
                ],
                [
                  "451",
                  "451",
                  "2010-02-01",
                  "Ahmadabad",
                  "India",
                  "23.573"
                ]
              ],
              "shape": {
                "columns": 5,
                "rows": 2400
              }
            },
            "text/html": [
              "<div>\n",
              "<style scoped>\n",
              "    .dataframe tbody tr th:only-of-type {\n",
              "        vertical-align: middle;\n",
              "    }\n",
              "\n",
              "    .dataframe tbody tr th {\n",
              "        vertical-align: top;\n",
              "    }\n",
              "\n",
              "    .dataframe thead th {\n",
              "        text-align: right;\n",
              "    }\n",
              "</style>\n",
              "<table border=\"1\" class=\"dataframe\">\n",
              "  <thead>\n",
              "    <tr style=\"text-align: right;\">\n",
              "      <th></th>\n",
              "      <th>Unnamed: 0</th>\n",
              "      <th>date</th>\n",
              "      <th>city</th>\n",
              "      <th>country</th>\n",
              "      <th>avg_temp_c</th>\n",
              "    </tr>\n",
              "  </thead>\n",
              "  <tbody>\n",
              "    <tr>\n",
              "      <th>120</th>\n",
              "      <td>120</td>\n",
              "      <td>2010-01-01</td>\n",
              "      <td>Abidjan</td>\n",
              "      <td>Côte D'Ivoire</td>\n",
              "      <td>28.270</td>\n",
              "    </tr>\n",
              "    <tr>\n",
              "      <th>121</th>\n",
              "      <td>121</td>\n",
              "      <td>2010-02-01</td>\n",
              "      <td>Abidjan</td>\n",
              "      <td>Côte D'Ivoire</td>\n",
              "      <td>29.262</td>\n",
              "    </tr>\n",
              "    <tr>\n",
              "      <th>122</th>\n",
              "      <td>122</td>\n",
              "      <td>2010-03-01</td>\n",
              "      <td>Abidjan</td>\n",
              "      <td>Côte D'Ivoire</td>\n",
              "      <td>29.596</td>\n",
              "    </tr>\n",
              "    <tr>\n",
              "      <th>123</th>\n",
              "      <td>123</td>\n",
              "      <td>2010-04-01</td>\n",
              "      <td>Abidjan</td>\n",
              "      <td>Côte D'Ivoire</td>\n",
              "      <td>29.068</td>\n",
              "    </tr>\n",
              "    <tr>\n",
              "      <th>124</th>\n",
              "      <td>124</td>\n",
              "      <td>2010-05-01</td>\n",
              "      <td>Abidjan</td>\n",
              "      <td>Côte D'Ivoire</td>\n",
              "      <td>28.258</td>\n",
              "    </tr>\n",
              "    <tr>\n",
              "      <th>...</th>\n",
              "      <td>...</td>\n",
              "      <td>...</td>\n",
              "      <td>...</td>\n",
              "      <td>...</td>\n",
              "      <td>...</td>\n",
              "    </tr>\n",
              "    <tr>\n",
              "      <th>16474</th>\n",
              "      <td>16474</td>\n",
              "      <td>2011-08-01</td>\n",
              "      <td>Xian</td>\n",
              "      <td>China</td>\n",
              "      <td>23.069</td>\n",
              "    </tr>\n",
              "    <tr>\n",
              "      <th>16475</th>\n",
              "      <td>16475</td>\n",
              "      <td>2011-09-01</td>\n",
              "      <td>Xian</td>\n",
              "      <td>China</td>\n",
              "      <td>16.775</td>\n",
              "    </tr>\n",
              "    <tr>\n",
              "      <th>16476</th>\n",
              "      <td>16476</td>\n",
              "      <td>2011-10-01</td>\n",
              "      <td>Xian</td>\n",
              "      <td>China</td>\n",
              "      <td>12.587</td>\n",
              "    </tr>\n",
              "    <tr>\n",
              "      <th>16477</th>\n",
              "      <td>16477</td>\n",
              "      <td>2011-11-01</td>\n",
              "      <td>Xian</td>\n",
              "      <td>China</td>\n",
              "      <td>7.543</td>\n",
              "    </tr>\n",
              "    <tr>\n",
              "      <th>16478</th>\n",
              "      <td>16478</td>\n",
              "      <td>2011-12-01</td>\n",
              "      <td>Xian</td>\n",
              "      <td>China</td>\n",
              "      <td>-0.490</td>\n",
              "    </tr>\n",
              "  </tbody>\n",
              "</table>\n",
              "<p>2400 rows × 5 columns</p>\n",
              "</div>"
            ],
            "text/plain": [
              "       Unnamed: 0        date     city        country  avg_temp_c\n",
              "120           120  2010-01-01  Abidjan  Côte D'Ivoire      28.270\n",
              "121           121  2010-02-01  Abidjan  Côte D'Ivoire      29.262\n",
              "122           122  2010-03-01  Abidjan  Côte D'Ivoire      29.596\n",
              "123           123  2010-04-01  Abidjan  Côte D'Ivoire      29.068\n",
              "124           124  2010-05-01  Abidjan  Côte D'Ivoire      28.258\n",
              "...           ...         ...      ...            ...         ...\n",
              "16474       16474  2011-08-01     Xian          China      23.069\n",
              "16475       16475  2011-09-01     Xian          China      16.775\n",
              "16476       16476  2011-10-01     Xian          China      12.587\n",
              "16477       16477  2011-11-01     Xian          China       7.543\n",
              "16478       16478  2011-12-01     Xian          China      -0.490\n",
              "\n",
              "[2400 rows x 5 columns]"
            ]
          },
          "execution_count": 73,
          "metadata": {},
          "output_type": "execute_result"
        }
      ],
      "source": [
        "# Use Boolean conditions to subset temperatures for rows where the date column is in 2010 and 2011\n",
        "temperatures_bool = temperatures[(temperatures[\"date\"] >= \"2010-01-01\") & (temperatures[\"date\"] < \"2012-01-01\")]\n",
        "\n",
        "temperatures_bool"
      ]
    },
    {
      "cell_type": "code",
      "execution_count": 74,
      "id": "f4ffa251",
      "metadata": {},
      "outputs": [
        {
          "data": {
            "application/vnd.microsoft.datawrangler.viewer.v0+json": {
              "columns": [
                {
                  "name": "date",
                  "rawType": "object",
                  "type": "string"
                },
                {
                  "name": "Unnamed: 0",
                  "rawType": "int64",
                  "type": "integer"
                },
                {
                  "name": "city",
                  "rawType": "object",
                  "type": "string"
                },
                {
                  "name": "country",
                  "rawType": "object",
                  "type": "string"
                },
                {
                  "name": "avg_temp_c",
                  "rawType": "float64",
                  "type": "float"
                }
              ],
              "ref": "8d1fae22-833e-4abd-a116-7648c966d9ed",
              "rows": [
                [
                  "2000-01-01",
                  "0",
                  "Abidjan",
                  "Côte D'Ivoire",
                  "27.29300000000001"
                ],
                [
                  "2000-01-01",
                  "8415",
                  "Lahore",
                  "Pakistan",
                  "12.792"
                ],
                [
                  "2000-01-01",
                  "15345",
                  "Tangshan",
                  "China",
                  "-5.4060000000000015"
                ],
                [
                  "2000-01-01",
                  "5115",
                  "Gizeh",
                  "Egypt",
                  "12.669"
                ],
                [
                  "2000-01-01",
                  "8580",
                  "Lakhnau",
                  "India",
                  "15.152"
                ],
                [
                  "2000-01-01",
                  "825",
                  "Ankara",
                  "Turkey",
                  "-4.621"
                ],
                [
                  "2000-01-01",
                  "8745",
                  "Lima",
                  "Peru",
                  "19.455"
                ],
                [
                  "2000-01-01",
                  "15180",
                  "Taiyuan",
                  "China",
                  "-9.806"
                ],
                [
                  "2000-01-01",
                  "4950",
                  "Fortaleza",
                  "Brazil",
                  "27.312"
                ],
                [
                  "2000-01-01",
                  "8910",
                  "London",
                  "United Kingdom",
                  "4.6930000000000005"
                ],
                [
                  "2000-01-01",
                  "5280",
                  "Guangzhou",
                  "China",
                  "14.015999999999998"
                ],
                [
                  "2000-01-01",
                  "15015",
                  "Taipei",
                  "Taiwan",
                  "18.086"
                ],
                [
                  "2000-01-01",
                  "4785",
                  "Faisalabad",
                  "Pakistan",
                  "12.792"
                ],
                [
                  "2000-01-01",
                  "9075",
                  "Los Angeles",
                  "United States",
                  "10.772"
                ],
                [
                  "2000-01-01",
                  "9240",
                  "Luanda",
                  "Angola",
                  "25.077"
                ],
                [
                  "2000-01-01",
                  "14850",
                  "Sydney",
                  "Australia",
                  "18.47"
                ],
                [
                  "2000-01-01",
                  "4620",
                  "Durban",
                  "South Africa",
                  "22.166"
                ],
                [
                  "2000-01-01",
                  "9405",
                  "Madras",
                  "India",
                  "25.143"
                ],
                [
                  "2000-01-01",
                  "1155",
                  "Bangalore",
                  "India",
                  "23.673"
                ],
                [
                  "2000-01-01",
                  "9570",
                  "Madrid",
                  "Spain",
                  "1.912"
                ],
                [
                  "2000-01-01",
                  "14685",
                  "Surat",
                  "India",
                  "21.588"
                ],
                [
                  "2000-01-01",
                  "990",
                  "Baghdad",
                  "Iraq",
                  "10.024"
                ],
                [
                  "2000-01-01",
                  "4455",
                  "Dhaka",
                  "Bangladesh",
                  "18.829"
                ],
                [
                  "2000-01-01",
                  "8250",
                  "Lagos",
                  "Nigeria",
                  "26.781"
                ],
                [
                  "2000-01-01",
                  "15510",
                  "Tianjin",
                  "China",
                  "-6.495"
                ],
                [
                  "2000-01-01",
                  "6930",
                  "Jiddah",
                  "Saudi Arabia",
                  "23.262"
                ],
                [
                  "2000-01-01",
                  "165",
                  "Addis Abeba",
                  "Ethiopia",
                  "17.391000000000002"
                ],
                [
                  "2000-01-01",
                  "6105",
                  "Ibadan",
                  "Nigeria",
                  "27.352"
                ],
                [
                  "2000-01-01",
                  "7095",
                  "Jinan",
                  "China",
                  "-2.614"
                ],
                [
                  "2000-01-01",
                  "16170",
                  "Wuhan",
                  "China",
                  "3.329"
                ],
                [
                  "2000-01-01",
                  "7260",
                  "Kabul",
                  "Afghanistan",
                  "3.326"
                ],
                [
                  "2000-01-01",
                  "5940",
                  "Hyderabad",
                  "India",
                  "23.779"
                ],
                [
                  "2000-01-01",
                  "16005",
                  "Umm Durman",
                  "Sudan",
                  "23.375"
                ],
                [
                  "2000-01-01",
                  "330",
                  "Ahmadabad",
                  "India",
                  "20.781"
                ],
                [
                  "2000-01-01",
                  "660",
                  "Alexandria",
                  "Egypt",
                  "13.579"
                ],
                [
                  "2000-01-01",
                  "7425",
                  "Kano",
                  "Nigeria",
                  "21.789"
                ],
                [
                  "2000-01-01",
                  "7590",
                  "Kanpur",
                  "India",
                  "15.152"
                ],
                [
                  "2000-01-01",
                  "15840",
                  "Toronto",
                  "Canada",
                  "-7.372999999999997"
                ],
                [
                  "2000-01-01",
                  "7755",
                  "Karachi",
                  "Pakistan",
                  "18.885"
                ],
                [
                  "2000-01-01",
                  "495",
                  "Aleppo",
                  "Syria",
                  "5.205"
                ],
                [
                  "2000-01-01",
                  "5610",
                  "Harbin",
                  "China",
                  "-20.823"
                ],
                [
                  "2000-01-01",
                  "7920",
                  "Kiev",
                  "Ukraine",
                  "-5.4830000000000005"
                ],
                [
                  "2000-01-01",
                  "15675",
                  "Tokyo",
                  "Japan",
                  "3.66"
                ],
                [
                  "2000-01-01",
                  "5445",
                  "Harare",
                  "Zimbabwe",
                  "22.119"
                ],
                [
                  "2000-01-01",
                  "8085",
                  "Kinshasa",
                  "Congo (Democratic Republic Of The)",
                  "24.54300000000001"
                ],
                [
                  "2000-01-01",
                  "5775",
                  "Ho Chi Minh City",
                  "Vietnam",
                  "26.647"
                ],
                [
                  "2000-01-01",
                  "9735",
                  "Manila",
                  "Philippines",
                  "25.7"
                ],
                [
                  "2000-01-01",
                  "14520",
                  "Surabaya",
                  "Indonesia",
                  "26.802"
                ],
                [
                  "2000-01-01",
                  "1320",
                  "Bangkok",
                  "Thailand",
                  "25.98"
                ],
                [
                  "2000-01-01",
                  "11385",
                  "Nanjing",
                  "China",
                  "2.7230000000000003"
                ]
              ],
              "shape": {
                "columns": 4,
                "rows": 16500
              }
            },
            "text/html": [
              "<div>\n",
              "<style scoped>\n",
              "    .dataframe tbody tr th:only-of-type {\n",
              "        vertical-align: middle;\n",
              "    }\n",
              "\n",
              "    .dataframe tbody tr th {\n",
              "        vertical-align: top;\n",
              "    }\n",
              "\n",
              "    .dataframe thead th {\n",
              "        text-align: right;\n",
              "    }\n",
              "</style>\n",
              "<table border=\"1\" class=\"dataframe\">\n",
              "  <thead>\n",
              "    <tr style=\"text-align: right;\">\n",
              "      <th></th>\n",
              "      <th>Unnamed: 0</th>\n",
              "      <th>city</th>\n",
              "      <th>country</th>\n",
              "      <th>avg_temp_c</th>\n",
              "    </tr>\n",
              "    <tr>\n",
              "      <th>date</th>\n",
              "      <th></th>\n",
              "      <th></th>\n",
              "      <th></th>\n",
              "      <th></th>\n",
              "    </tr>\n",
              "  </thead>\n",
              "  <tbody>\n",
              "    <tr>\n",
              "      <th>2000-01-01</th>\n",
              "      <td>0</td>\n",
              "      <td>Abidjan</td>\n",
              "      <td>Côte D'Ivoire</td>\n",
              "      <td>27.293</td>\n",
              "    </tr>\n",
              "    <tr>\n",
              "      <th>2000-01-01</th>\n",
              "      <td>8415</td>\n",
              "      <td>Lahore</td>\n",
              "      <td>Pakistan</td>\n",
              "      <td>12.792</td>\n",
              "    </tr>\n",
              "    <tr>\n",
              "      <th>2000-01-01</th>\n",
              "      <td>15345</td>\n",
              "      <td>Tangshan</td>\n",
              "      <td>China</td>\n",
              "      <td>-5.406</td>\n",
              "    </tr>\n",
              "    <tr>\n",
              "      <th>2000-01-01</th>\n",
              "      <td>5115</td>\n",
              "      <td>Gizeh</td>\n",
              "      <td>Egypt</td>\n",
              "      <td>12.669</td>\n",
              "    </tr>\n",
              "    <tr>\n",
              "      <th>2000-01-01</th>\n",
              "      <td>8580</td>\n",
              "      <td>Lakhnau</td>\n",
              "      <td>India</td>\n",
              "      <td>15.152</td>\n",
              "    </tr>\n",
              "    <tr>\n",
              "      <th>...</th>\n",
              "      <td>...</td>\n",
              "      <td>...</td>\n",
              "      <td>...</td>\n",
              "      <td>...</td>\n",
              "    </tr>\n",
              "    <tr>\n",
              "      <th>2013-09-01</th>\n",
              "      <td>11549</td>\n",
              "      <td>Nanjing</td>\n",
              "      <td>China</td>\n",
              "      <td>NaN</td>\n",
              "    </tr>\n",
              "    <tr>\n",
              "      <th>2013-09-01</th>\n",
              "      <td>11714</td>\n",
              "      <td>New Delhi</td>\n",
              "      <td>India</td>\n",
              "      <td>NaN</td>\n",
              "    </tr>\n",
              "    <tr>\n",
              "      <th>2013-09-01</th>\n",
              "      <td>11879</td>\n",
              "      <td>New York</td>\n",
              "      <td>United States</td>\n",
              "      <td>17.408</td>\n",
              "    </tr>\n",
              "    <tr>\n",
              "      <th>2013-09-01</th>\n",
              "      <td>12209</td>\n",
              "      <td>Peking</td>\n",
              "      <td>China</td>\n",
              "      <td>NaN</td>\n",
              "    </tr>\n",
              "    <tr>\n",
              "      <th>2013-09-01</th>\n",
              "      <td>16499</td>\n",
              "      <td>Xian</td>\n",
              "      <td>China</td>\n",
              "      <td>NaN</td>\n",
              "    </tr>\n",
              "  </tbody>\n",
              "</table>\n",
              "<p>16500 rows × 4 columns</p>\n",
              "</div>"
            ],
            "text/plain": [
              "            Unnamed: 0       city        country  avg_temp_c\n",
              "date                                                        \n",
              "2000-01-01           0    Abidjan  Côte D'Ivoire      27.293\n",
              "2000-01-01        8415     Lahore       Pakistan      12.792\n",
              "2000-01-01       15345   Tangshan          China      -5.406\n",
              "2000-01-01        5115      Gizeh          Egypt      12.669\n",
              "2000-01-01        8580    Lakhnau          India      15.152\n",
              "...                ...        ...            ...         ...\n",
              "2013-09-01       11549    Nanjing          China         NaN\n",
              "2013-09-01       11714  New Delhi          India         NaN\n",
              "2013-09-01       11879   New York  United States      17.408\n",
              "2013-09-01       12209     Peking          China         NaN\n",
              "2013-09-01       16499       Xian          China         NaN\n",
              "\n",
              "[16500 rows x 4 columns]"
            ]
          },
          "execution_count": 74,
          "metadata": {},
          "output_type": "execute_result"
        }
      ],
      "source": [
        "# Set the index of temperatures to the date column and sort it.\n",
        "temperatures_ind = temperatures.set_index(\"date\").sort_index()\n",
        "temperatures_ind"
      ]
    },
    {
      "cell_type": "code",
      "execution_count": 75,
      "id": "0123dbff",
      "metadata": {},
      "outputs": [
        {
          "data": {
            "application/vnd.microsoft.datawrangler.viewer.v0+json": {
              "columns": [
                {
                  "name": "date",
                  "rawType": "object",
                  "type": "string"
                },
                {
                  "name": "Unnamed: 0",
                  "rawType": "int64",
                  "type": "integer"
                },
                {
                  "name": "city",
                  "rawType": "object",
                  "type": "string"
                },
                {
                  "name": "country",
                  "rawType": "object",
                  "type": "string"
                },
                {
                  "name": "avg_temp_c",
                  "rawType": "float64",
                  "type": "float"
                }
              ],
              "ref": "1d90c56a-b3b6-4049-a163-da13068152d3",
              "rows": [
                [
                  "2010-01-01",
                  "4905",
                  "Faisalabad",
                  "Pakistan",
                  "11.81"
                ],
                [
                  "2010-01-01",
                  "10185",
                  "Melbourne",
                  "Australia",
                  "20.016"
                ],
                [
                  "2010-01-01",
                  "3750",
                  "Chongqing",
                  "China",
                  "7.921"
                ],
                [
                  "2010-01-01",
                  "13155",
                  "São Paulo",
                  "Brazil",
                  "23.738000000000003"
                ],
                [
                  "2010-01-01",
                  "5400",
                  "Guangzhou",
                  "China",
                  "14.136"
                ],
                [
                  "2010-01-01",
                  "8370",
                  "Lagos",
                  "Nigeria",
                  "27.83"
                ],
                [
                  "2010-01-01",
                  "4410",
                  "Delhi",
                  "India",
                  "14.014"
                ],
                [
                  "2010-01-01",
                  "8865",
                  "Lima",
                  "Peru",
                  "20.45"
                ],
                [
                  "2010-01-01",
                  "10020",
                  "Mashhad",
                  "Iran",
                  "4.746"
                ],
                [
                  "2010-01-01",
                  "3915",
                  "Dakar",
                  "Senegal",
                  "23.188"
                ],
                [
                  "2010-01-01",
                  "4575",
                  "Dhaka",
                  "Bangladesh",
                  "17.354000000000006"
                ],
                [
                  "2010-01-01",
                  "1605",
                  "Belo Horizonte",
                  "Brazil",
                  "24.349"
                ],
                [
                  "2010-01-01",
                  "2265",
                  "Brasília",
                  "Brazil",
                  "23.417"
                ],
                [
                  "2010-01-01",
                  "10515",
                  "Mogadishu",
                  "Somalia",
                  "27.520000000000003"
                ],
                [
                  "2010-01-01",
                  "1770",
                  "Berlin",
                  "Germany",
                  "-4.702"
                ],
                [
                  "2010-01-01",
                  "2595",
                  "Calcutta",
                  "India",
                  "17.503"
                ],
                [
                  "2010-01-01",
                  "8040",
                  "Kiev",
                  "Ukraine",
                  "-9.968"
                ],
                [
                  "2010-01-01",
                  "10845",
                  "Moscow",
                  "Russia",
                  "-15.845999999999998"
                ],
                [
                  "2010-01-01",
                  "10350",
                  "Mexico",
                  "Mexico",
                  "11.607"
                ],
                [
                  "2010-01-01",
                  "2430",
                  "Cairo",
                  "Egypt",
                  "15.835"
                ],
                [
                  "2010-01-01",
                  "14805",
                  "Surat",
                  "India",
                  "21.461"
                ],
                [
                  "2010-01-01",
                  "2100",
                  "Bombay",
                  "India",
                  "26.12"
                ],
                [
                  "2010-01-01",
                  "4245",
                  "Dar Es Salaam",
                  "Tanzania",
                  "28.256"
                ],
                [
                  "2010-01-01",
                  "12825",
                  "Riyadh",
                  "Saudi Arabia",
                  "16.055"
                ],
                [
                  "2010-01-01",
                  "10680",
                  "Montreal",
                  "Canada",
                  "-7.6110000000000015"
                ],
                [
                  "2010-01-01",
                  "9690",
                  "Madrid",
                  "Spain",
                  "3.443"
                ],
                [
                  "2010-01-01",
                  "8700",
                  "Lakhnau",
                  "India",
                  "13.147"
                ],
                [
                  "2010-01-01",
                  "4080",
                  "Dalian",
                  "China",
                  "-5.4590000000000005"
                ],
                [
                  "2010-01-01",
                  "13980",
                  "Seoul",
                  "South Korea",
                  "-4.935"
                ],
                [
                  "2010-01-01",
                  "6390",
                  "Istanbul",
                  "Turkey",
                  "6.2120000000000015"
                ],
                [
                  "2010-01-01",
                  "3255",
                  "Changchun",
                  "China",
                  "-15.830000000000002"
                ],
                [
                  "2010-01-01",
                  "120",
                  "Abidjan",
                  "Côte D'Ivoire",
                  "28.270000000000003"
                ],
                [
                  "2010-01-01",
                  "5235",
                  "Gizeh",
                  "Egypt",
                  "15.835"
                ],
                [
                  "2010-01-01",
                  "12165",
                  "Peking",
                  "China",
                  "-5.3050000000000015"
                ],
                [
                  "2010-01-01",
                  "5070",
                  "Fortaleza",
                  "Brazil",
                  "27.813"
                ],
                [
                  "2010-01-01",
                  "13485",
                  "Salvador",
                  "Brazil",
                  "27.466"
                ],
                [
                  "2010-01-01",
                  "8535",
                  "Lahore",
                  "Pakistan",
                  "11.81"
                ],
                [
                  "2010-01-01",
                  "1935",
                  "Bogotá",
                  "Colombia",
                  "21.916"
                ],
                [
                  "2010-01-01",
                  "6555",
                  "Izmir",
                  "Turkey",
                  "11.856"
                ],
                [
                  "2010-01-01",
                  "4740",
                  "Durban",
                  "South Africa",
                  "23.347"
                ],
                [
                  "2010-01-01",
                  "9195",
                  "Los Angeles",
                  "United States",
                  "10.09"
                ],
                [
                  "2010-01-01",
                  "13815",
                  "Santo Domingo",
                  "Dominican Republic",
                  "25.243"
                ],
                [
                  "2010-01-01",
                  "12495",
                  "Rangoon",
                  "Burma",
                  "26.294"
                ],
                [
                  "2010-01-01",
                  "14640",
                  "Surabaya",
                  "Indonesia",
                  "26.861"
                ],
                [
                  "2010-01-01",
                  "8205",
                  "Kinshasa",
                  "Congo (Democratic Republic Of The)",
                  "25.605"
                ],
                [
                  "2010-01-01",
                  "9855",
                  "Manila",
                  "Philippines",
                  "25.454"
                ],
                [
                  "2010-01-01",
                  "9030",
                  "London",
                  "United Kingdom",
                  "1.381"
                ],
                [
                  "2010-01-01",
                  "12330",
                  "Pune",
                  "India",
                  "21.5"
                ],
                [
                  "2010-01-01",
                  "9360",
                  "Luanda",
                  "Angola",
                  "26.012"
                ],
                [
                  "2010-01-01",
                  "9525",
                  "Madras",
                  "India",
                  "25.354"
                ]
              ],
              "shape": {
                "columns": 4,
                "rows": 1200
              }
            },
            "text/html": [
              "<div>\n",
              "<style scoped>\n",
              "    .dataframe tbody tr th:only-of-type {\n",
              "        vertical-align: middle;\n",
              "    }\n",
              "\n",
              "    .dataframe tbody tr th {\n",
              "        vertical-align: top;\n",
              "    }\n",
              "\n",
              "    .dataframe thead th {\n",
              "        text-align: right;\n",
              "    }\n",
              "</style>\n",
              "<table border=\"1\" class=\"dataframe\">\n",
              "  <thead>\n",
              "    <tr style=\"text-align: right;\">\n",
              "      <th></th>\n",
              "      <th>Unnamed: 0</th>\n",
              "      <th>city</th>\n",
              "      <th>country</th>\n",
              "      <th>avg_temp_c</th>\n",
              "    </tr>\n",
              "    <tr>\n",
              "      <th>date</th>\n",
              "      <th></th>\n",
              "      <th></th>\n",
              "      <th></th>\n",
              "      <th></th>\n",
              "    </tr>\n",
              "  </thead>\n",
              "  <tbody>\n",
              "    <tr>\n",
              "      <th>2010-01-01</th>\n",
              "      <td>4905</td>\n",
              "      <td>Faisalabad</td>\n",
              "      <td>Pakistan</td>\n",
              "      <td>11.810</td>\n",
              "    </tr>\n",
              "    <tr>\n",
              "      <th>2010-01-01</th>\n",
              "      <td>10185</td>\n",
              "      <td>Melbourne</td>\n",
              "      <td>Australia</td>\n",
              "      <td>20.016</td>\n",
              "    </tr>\n",
              "    <tr>\n",
              "      <th>2010-01-01</th>\n",
              "      <td>3750</td>\n",
              "      <td>Chongqing</td>\n",
              "      <td>China</td>\n",
              "      <td>7.921</td>\n",
              "    </tr>\n",
              "    <tr>\n",
              "      <th>2010-01-01</th>\n",
              "      <td>13155</td>\n",
              "      <td>São Paulo</td>\n",
              "      <td>Brazil</td>\n",
              "      <td>23.738</td>\n",
              "    </tr>\n",
              "    <tr>\n",
              "      <th>2010-01-01</th>\n",
              "      <td>5400</td>\n",
              "      <td>Guangzhou</td>\n",
              "      <td>China</td>\n",
              "      <td>14.136</td>\n",
              "    </tr>\n",
              "    <tr>\n",
              "      <th>...</th>\n",
              "      <td>...</td>\n",
              "      <td>...</td>\n",
              "      <td>...</td>\n",
              "      <td>...</td>\n",
              "    </tr>\n",
              "    <tr>\n",
              "      <th>2010-12-01</th>\n",
              "      <td>6896</td>\n",
              "      <td>Jakarta</td>\n",
              "      <td>Indonesia</td>\n",
              "      <td>26.602</td>\n",
              "    </tr>\n",
              "    <tr>\n",
              "      <th>2010-12-01</th>\n",
              "      <td>5246</td>\n",
              "      <td>Gizeh</td>\n",
              "      <td>Egypt</td>\n",
              "      <td>16.530</td>\n",
              "    </tr>\n",
              "    <tr>\n",
              "      <th>2010-12-01</th>\n",
              "      <td>11186</td>\n",
              "      <td>Nagpur</td>\n",
              "      <td>India</td>\n",
              "      <td>19.120</td>\n",
              "    </tr>\n",
              "    <tr>\n",
              "      <th>2010-12-01</th>\n",
              "      <td>14981</td>\n",
              "      <td>Sydney</td>\n",
              "      <td>Australia</td>\n",
              "      <td>19.559</td>\n",
              "    </tr>\n",
              "    <tr>\n",
              "      <th>2010-12-01</th>\n",
              "      <td>13496</td>\n",
              "      <td>Salvador</td>\n",
              "      <td>Brazil</td>\n",
              "      <td>26.265</td>\n",
              "    </tr>\n",
              "  </tbody>\n",
              "</table>\n",
              "<p>1200 rows × 4 columns</p>\n",
              "</div>"
            ],
            "text/plain": [
              "            Unnamed: 0        city    country  avg_temp_c\n",
              "date                                                     \n",
              "2010-01-01        4905  Faisalabad   Pakistan      11.810\n",
              "2010-01-01       10185   Melbourne  Australia      20.016\n",
              "2010-01-01        3750   Chongqing      China       7.921\n",
              "2010-01-01       13155   São Paulo     Brazil      23.738\n",
              "2010-01-01        5400   Guangzhou      China      14.136\n",
              "...                ...         ...        ...         ...\n",
              "2010-12-01        6896     Jakarta  Indonesia      26.602\n",
              "2010-12-01        5246       Gizeh      Egypt      16.530\n",
              "2010-12-01       11186      Nagpur      India      19.120\n",
              "2010-12-01       14981      Sydney  Australia      19.559\n",
              "2010-12-01       13496    Salvador     Brazil      26.265\n",
              "\n",
              "[1200 rows x 4 columns]"
            ]
          },
          "execution_count": 75,
          "metadata": {},
          "output_type": "execute_result"
        }
      ],
      "source": [
        "# Use .loc[] to subset temperatures_ind for rows in 2010 and 2011.\n",
        "temperatures_ind.loc[\"2010\":\"2011\"]"
      ]
    },
    {
      "cell_type": "code",
      "execution_count": 76,
      "id": "037578b2",
      "metadata": {},
      "outputs": [
        {
          "data": {
            "application/vnd.microsoft.datawrangler.viewer.v0+json": {
              "columns": [
                {
                  "name": "date",
                  "rawType": "object",
                  "type": "string"
                },
                {
                  "name": "Unnamed: 0",
                  "rawType": "int64",
                  "type": "integer"
                },
                {
                  "name": "city",
                  "rawType": "object",
                  "type": "string"
                },
                {
                  "name": "country",
                  "rawType": "object",
                  "type": "string"
                },
                {
                  "name": "avg_temp_c",
                  "rawType": "float64",
                  "type": "float"
                }
              ],
              "ref": "6b5bf426-7af7-4f8c-93d0-de0c97db297e",
              "rows": [
                [
                  "2010-08-01",
                  "2602",
                  "Calcutta",
                  "India",
                  "30.226"
                ],
                [
                  "2010-08-01",
                  "12337",
                  "Pune",
                  "India",
                  "24.941"
                ],
                [
                  "2010-08-01",
                  "6562",
                  "Izmir",
                  "Turkey",
                  "28.352"
                ],
                [
                  "2010-08-01",
                  "15637",
                  "Tianjin",
                  "China",
                  "25.54300000000001"
                ],
                [
                  "2010-08-01",
                  "9862",
                  "Manila",
                  "Philippines",
                  "27.101"
                ],
                [
                  "2010-08-01",
                  "14977",
                  "Sydney",
                  "Australia",
                  "14.817"
                ],
                [
                  "2010-08-01",
                  "8542",
                  "Lahore",
                  "Pakistan",
                  "31.18"
                ],
                [
                  "2010-08-01",
                  "9367",
                  "Luanda",
                  "Angola",
                  "21.68"
                ],
                [
                  "2010-08-01",
                  "12997",
                  "Rome",
                  "Italy",
                  "22.289"
                ],
                [
                  "2010-08-01",
                  "1777",
                  "Berlin",
                  "Germany",
                  "18.692"
                ],
                [
                  "2010-08-01",
                  "952",
                  "Ankara",
                  "Turkey",
                  "26.044"
                ],
                [
                  "2010-08-01",
                  "292",
                  "Addis Abeba",
                  "Ethiopia",
                  "17.037"
                ],
                [
                  "2010-08-01",
                  "16297",
                  "Wuhan",
                  "China",
                  "29.582"
                ],
                [
                  "2010-08-01",
                  "7882",
                  "Karachi",
                  "Pakistan",
                  "30.04300000000001"
                ],
                [
                  "2010-08-01",
                  "3262",
                  "Changchun",
                  "China",
                  "22.173"
                ],
                [
                  "2010-08-01",
                  "7057",
                  "Jiddah",
                  "Saudi Arabia",
                  "34.133"
                ],
                [
                  "2010-08-01",
                  "14317",
                  "Shenyang",
                  "China",
                  "23.23"
                ],
                [
                  "2010-08-01",
                  "10357",
                  "Mexico",
                  "Mexico",
                  "17.996"
                ],
                [
                  "2010-08-01",
                  "9697",
                  "Madrid",
                  "Spain",
                  "22.934"
                ],
                [
                  "2010-08-01",
                  "4087",
                  "Dalian",
                  "China",
                  "23.929"
                ],
                [
                  "2010-08-01",
                  "3427",
                  "Chengdu",
                  "China",
                  "19.915000000000006"
                ],
                [
                  "2010-08-01",
                  "2272",
                  "Brasília",
                  "Brazil",
                  "21.876"
                ],
                [
                  "2010-08-01",
                  "16132",
                  "Umm Durman",
                  "Sudan",
                  "30.628"
                ],
                [
                  "2010-08-01",
                  "10522",
                  "Mogadishu",
                  "Somalia",
                  "26.784"
                ],
                [
                  "2010-08-01",
                  "14812",
                  "Surat",
                  "India",
                  "27.87"
                ],
                [
                  "2010-08-01",
                  "6892",
                  "Jakarta",
                  "Indonesia",
                  "27.093000000000004"
                ],
                [
                  "2010-08-01",
                  "2932",
                  "Cape Town",
                  "South Africa",
                  "13.461"
                ],
                [
                  "2010-08-01",
                  "9202",
                  "Los Angeles",
                  "United States",
                  "23.545"
                ],
                [
                  "2010-08-01",
                  "3922",
                  "Dakar",
                  "Senegal",
                  "29.053"
                ],
                [
                  "2010-08-01",
                  "13657",
                  "Santiago",
                  "Chile",
                  "0.32"
                ],
                [
                  "2010-08-01",
                  "5077",
                  "Fortaleza",
                  "Brazil",
                  "28.238000000000003"
                ],
                [
                  "2010-08-01",
                  "7387",
                  "Kabul",
                  "Afghanistan",
                  "24.2"
                ],
                [
                  "2010-08-01",
                  "5407",
                  "Guangzhou",
                  "China",
                  "28.849"
                ],
                [
                  "2010-08-01",
                  "11842",
                  "New York",
                  "United States",
                  "22.67"
                ],
                [
                  "2010-08-01",
                  "2107",
                  "Bombay",
                  "India",
                  "27.279"
                ],
                [
                  "2010-08-01",
                  "7222",
                  "Jinan",
                  "China",
                  "25.564"
                ],
                [
                  "2010-08-01",
                  "10852",
                  "Moscow",
                  "Russia",
                  "21.478"
                ],
                [
                  "2010-08-01",
                  "8047",
                  "Kiev",
                  "Ukraine",
                  "24.154"
                ],
                [
                  "2010-08-01",
                  "11512",
                  "Nanjing",
                  "China",
                  "29.596"
                ],
                [
                  "2010-08-01",
                  "11347",
                  "Nairobi",
                  "Kenya",
                  "15.697"
                ],
                [
                  "2010-08-01",
                  "13162",
                  "São Paulo",
                  "Brazil",
                  "17.852999999999994"
                ],
                [
                  "2010-08-01",
                  "127",
                  "Abidjan",
                  "Côte D'Ivoire",
                  "25.4"
                ],
                [
                  "2010-08-01",
                  "3097",
                  "Casablanca",
                  "Morocco",
                  "28.249"
                ],
                [
                  "2010-08-01",
                  "13492",
                  "Salvador",
                  "Brazil",
                  "23.191"
                ],
                [
                  "2010-08-01",
                  "16462",
                  "Xian",
                  "China",
                  "23.434"
                ],
                [
                  "2010-08-01",
                  "457",
                  "Ahmadabad",
                  "India",
                  "28.225"
                ],
                [
                  "2010-08-01",
                  "5902",
                  "Ho Chi Minh City",
                  "Vietnam",
                  "28.392"
                ],
                [
                  "2010-08-01",
                  "6727",
                  "Jaipur",
                  "India",
                  "28.769"
                ],
                [
                  "2010-08-01",
                  "5572",
                  "Harare",
                  "Zimbabwe",
                  "17.674000000000003"
                ],
                [
                  "2010-08-01",
                  "12502",
                  "Rangoon",
                  "Burma",
                  "27.467"
                ]
              ],
              "shape": {
                "columns": 4,
                "rows": 800
              }
            },
            "text/html": [
              "<div>\n",
              "<style scoped>\n",
              "    .dataframe tbody tr th:only-of-type {\n",
              "        vertical-align: middle;\n",
              "    }\n",
              "\n",
              "    .dataframe tbody tr th {\n",
              "        vertical-align: top;\n",
              "    }\n",
              "\n",
              "    .dataframe thead th {\n",
              "        text-align: right;\n",
              "    }\n",
              "</style>\n",
              "<table border=\"1\" class=\"dataframe\">\n",
              "  <thead>\n",
              "    <tr style=\"text-align: right;\">\n",
              "      <th></th>\n",
              "      <th>Unnamed: 0</th>\n",
              "      <th>city</th>\n",
              "      <th>country</th>\n",
              "      <th>avg_temp_c</th>\n",
              "    </tr>\n",
              "    <tr>\n",
              "      <th>date</th>\n",
              "      <th></th>\n",
              "      <th></th>\n",
              "      <th></th>\n",
              "      <th></th>\n",
              "    </tr>\n",
              "  </thead>\n",
              "  <tbody>\n",
              "    <tr>\n",
              "      <th>2010-08-01</th>\n",
              "      <td>2602</td>\n",
              "      <td>Calcutta</td>\n",
              "      <td>India</td>\n",
              "      <td>30.226</td>\n",
              "    </tr>\n",
              "    <tr>\n",
              "      <th>2010-08-01</th>\n",
              "      <td>12337</td>\n",
              "      <td>Pune</td>\n",
              "      <td>India</td>\n",
              "      <td>24.941</td>\n",
              "    </tr>\n",
              "    <tr>\n",
              "      <th>2010-08-01</th>\n",
              "      <td>6562</td>\n",
              "      <td>Izmir</td>\n",
              "      <td>Turkey</td>\n",
              "      <td>28.352</td>\n",
              "    </tr>\n",
              "    <tr>\n",
              "      <th>2010-08-01</th>\n",
              "      <td>15637</td>\n",
              "      <td>Tianjin</td>\n",
              "      <td>China</td>\n",
              "      <td>25.543</td>\n",
              "    </tr>\n",
              "    <tr>\n",
              "      <th>2010-08-01</th>\n",
              "      <td>9862</td>\n",
              "      <td>Manila</td>\n",
              "      <td>Philippines</td>\n",
              "      <td>27.101</td>\n",
              "    </tr>\n",
              "    <tr>\n",
              "      <th>...</th>\n",
              "      <td>...</td>\n",
              "      <td>...</td>\n",
              "      <td>...</td>\n",
              "      <td>...</td>\n",
              "    </tr>\n",
              "    <tr>\n",
              "      <th>2011-03-01</th>\n",
              "      <td>13664</td>\n",
              "      <td>Santiago</td>\n",
              "      <td>Chile</td>\n",
              "      <td>10.142</td>\n",
              "    </tr>\n",
              "    <tr>\n",
              "      <th>2011-03-01</th>\n",
              "      <td>2939</td>\n",
              "      <td>Cape Town</td>\n",
              "      <td>South Africa</td>\n",
              "      <td>20.073</td>\n",
              "    </tr>\n",
              "    <tr>\n",
              "      <th>2011-03-01</th>\n",
              "      <td>5909</td>\n",
              "      <td>Ho Chi Minh City</td>\n",
              "      <td>Vietnam</td>\n",
              "      <td>27.190</td>\n",
              "    </tr>\n",
              "    <tr>\n",
              "      <th>2011-03-01</th>\n",
              "      <td>6569</td>\n",
              "      <td>Izmir</td>\n",
              "      <td>Turkey</td>\n",
              "      <td>12.034</td>\n",
              "    </tr>\n",
              "    <tr>\n",
              "      <th>2011-03-01</th>\n",
              "      <td>8879</td>\n",
              "      <td>Lima</td>\n",
              "      <td>Peru</td>\n",
              "      <td>19.065</td>\n",
              "    </tr>\n",
              "  </tbody>\n",
              "</table>\n",
              "<p>800 rows × 4 columns</p>\n",
              "</div>"
            ],
            "text/plain": [
              "            Unnamed: 0              city       country  avg_temp_c\n",
              "date                                                              \n",
              "2010-08-01        2602          Calcutta         India      30.226\n",
              "2010-08-01       12337              Pune         India      24.941\n",
              "2010-08-01        6562             Izmir        Turkey      28.352\n",
              "2010-08-01       15637           Tianjin         China      25.543\n",
              "2010-08-01        9862            Manila   Philippines      27.101\n",
              "...                ...               ...           ...         ...\n",
              "2011-03-01       13664          Santiago         Chile      10.142\n",
              "2011-03-01        2939         Cape Town  South Africa      20.073\n",
              "2011-03-01        5909  Ho Chi Minh City       Vietnam      27.190\n",
              "2011-03-01        6569             Izmir        Turkey      12.034\n",
              "2011-03-01        8879              Lima          Peru      19.065\n",
              "\n",
              "[800 rows x 4 columns]"
            ]
          },
          "execution_count": 76,
          "metadata": {},
          "output_type": "execute_result"
        }
      ],
      "source": [
        "# Use .loc[] to subset temperatures_ind for rows from August 2010 to February 2011.\n",
        "temperatures_ind.loc[\"2010-08-01\":\"2011-03-01\"]"
      ]
    },
    {
      "cell_type": "markdown",
      "id": "cf9723eb",
      "metadata": {},
      "source": [
        "### Understanding `.iloc` - Integer Position-Based Selection\n",
        "\n",
        "`.iloc` is a **position-based indexer** that allows you to select rows and columns by their **integer positions** (zero-indexed). Unlike `.loc` which uses labels, `.iloc` operates purely on numerical positions.\n",
        "\n",
        "#### Syntax:\n",
        "```python\n",
        "df.iloc[row_indexer, column_indexer]\n",
        "```\n",
        "\n",
        "#### Characteristics:\n",
        "- **Zero-based indexing**: First row/column is at position 0\n",
        "- **Exclusive upper bound**: Slicing `[1:4]` includes positions 1, 2, 3 (excludes 4)\n",
        "- **Accepts integers, slices, lists**: `[0]`, `[1:4]`, `[0, 2, 5]`\n",
        "- **Supports negative indexing**: `[-1]` selects the last row/column\n",
        "\n",
        "#### Use Cases:\n",
        "```python\n",
        "df.iloc[0]          # First row (all columns)\n",
        "df.iloc[:, 0]       # First column (all rows)\n",
        "df.iloc[0:5, 1:3]   # First 5 rows, columns 1-2\n",
        "df.iloc[-1, -1]     # Last row, last column\n",
        "```\n",
        "\n",
        "#### Use .iloc[] on temperatures to take subsets.\n",
        "\n",
        "- Get the 23rd row, 2nd column (index positions 22 and 1).\n",
        "- Get the first 5 rows (index positions 0 to 5).\n",
        "- Get all rows, columns 3 and 4 (index positions 2 to 4).\n",
        "- Get the first 5 rows, columns 3 and 4."
      ]
    },
    {
      "cell_type": "code",
      "execution_count": 77,
      "id": "8eaf3964",
      "metadata": {},
      "outputs": [
        {
          "name": "stdout",
          "output_type": "stream",
          "text": [
            "2001-12-01\n"
          ]
        }
      ],
      "source": [
        "# Get 23rd row, 2nd column (index 22, 1)\n",
        "print(temperatures.iloc[23, 1])"
      ]
    },
    {
      "cell_type": "code",
      "execution_count": 78,
      "id": "8c7a2d53",
      "metadata": {},
      "outputs": [
        {
          "name": "stdout",
          "output_type": "stream",
          "text": [
            "   Unnamed: 0        date     city        country  avg_temp_c\n",
            "0           0  2000-01-01  Abidjan  Côte D'Ivoire      27.293\n",
            "1           1  2000-02-01  Abidjan  Côte D'Ivoire      27.685\n",
            "2           2  2000-03-01  Abidjan  Côte D'Ivoire      29.061\n",
            "3           3  2000-04-01  Abidjan  Côte D'Ivoire      28.162\n",
            "4           4  2000-05-01  Abidjan  Côte D'Ivoire      27.547\n"
          ]
        }
      ],
      "source": [
        "# Use slicing to get the first 5 rows\n",
        "print(temperatures.iloc[:5])"
      ]
    },
    {
      "cell_type": "code",
      "execution_count": 79,
      "id": "5ff665dc",
      "metadata": {},
      "outputs": [
        {
          "name": "stdout",
          "output_type": "stream",
          "text": [
            "          city        country\n",
            "0      Abidjan  Côte D'Ivoire\n",
            "1      Abidjan  Côte D'Ivoire\n",
            "2      Abidjan  Côte D'Ivoire\n",
            "3      Abidjan  Côte D'Ivoire\n",
            "4      Abidjan  Côte D'Ivoire\n",
            "...        ...            ...\n",
            "16495     Xian          China\n",
            "16496     Xian          China\n",
            "16497     Xian          China\n",
            "16498     Xian          China\n",
            "16499     Xian          China\n",
            "\n",
            "[16500 rows x 2 columns]\n"
          ]
        }
      ],
      "source": [
        "# Get all rows, columns 3 and 4 (index positions 2 to 4).\n",
        "print(temperatures.iloc[:, 2:4])"
      ]
    },
    {
      "cell_type": "code",
      "execution_count": 80,
      "id": "6af46610",
      "metadata": {},
      "outputs": [
        {
          "name": "stdout",
          "output_type": "stream",
          "text": [
            "      city        country\n",
            "0  Abidjan  Côte D'Ivoire\n",
            "1  Abidjan  Côte D'Ivoire\n",
            "2  Abidjan  Côte D'Ivoire\n",
            "3  Abidjan  Côte D'Ivoire\n",
            "4  Abidjan  Côte D'Ivoire\n"
          ]
        }
      ],
      "source": [
        "# Get the first 5 rows, columns 3 and 4.\n",
        "print(temperatures.iloc[:5, 2:4])"
      ]
    },
    {
      "cell_type": "markdown",
      "id": "16126d7f",
      "metadata": {},
      "source": [
        "## Pivot Tables: Concepts, Syntax, and Analytical Power\n",
        "\n",
        "A **pivot table** is a powerful tool for reshaping, summarising, and exploring multi-dimensional data. In Pandas, pivot tables enable you to group, aggregate, and compare data across two or more categorical variables in a flexible tabular format - transforming raw, granular observations into insightful matrices for analysis and reporting.\n",
        "\n",
        "### 1. Why Use Pivot Tables?  \n",
        "- **Insightful summaries:** They condense large, flat datasets into matrices, allowing rapid discovery of patterns, outliers, and groupwise comparisons.\n",
        "- **Multi-dimensional analysis:** Facilitate simultaneous grouping by multiple categories (e.g., product × region, or gender × year).\n",
        "- **Flexible aggregation:** Support a wide array of summary statistics, not just totals or averages.\n",
        "- **Exploratory analysis:** Serve as a core tool in data exploration, quality assurance, and results presentation.\n",
        "\n",
        "**When to use them:**  \n",
        "- Whenever you need to compare distributions or metrics **across more than one variable**.\n",
        "- When you wish to create a summary table (cross-tab) for reporting or visualisation.\n",
        "- For answering “what if” or “how does X vary by Y and Z?” questions.\n",
        "\n",
        "### 2. Pandas Syntax for Pivot Tables\n",
        "\n",
        "The canonical Pandas method is `.pivot_table()`:\n",
        "\n",
        "```python\n",
        "pd.pivot_table(\n",
        "    data=df,\n",
        "    values=\"value_column\",     # what you want to aggregate\n",
        "    index=\"row_variable\",      # variable(s) for rows\n",
        "    columns=\"column_variable\", # variable(s) for columns\n",
        "    aggfunc=\"mean\",            # summary function, default is \"mean\"\n",
        "    fill_value=0,              # value for missing combinations (optional)\n",
        ")\n",
        "```\n",
        "\n",
        "#### Example: Aggregating with Multiple Functions\n",
        "\n",
        "```python\n",
        "pd.pivot_table(\n",
        "    data=df,\n",
        "    values=\"sales\",\n",
        "    index=\"region\",\n",
        "    columns=\"quarter\",\n",
        "    aggfunc=[\"sum\", \"mean\"],   # compute both sum and mean\n",
        "    fill_value=0\n",
        ")\n",
        "```\n",
        "\n",
        "#### Pivoting on Multiple Variables\n",
        "\n",
        "```python\n",
        "pd.pivot_table(\n",
        "    data=df,\n",
        "    values=\"value_column\",\n",
        "    index=[\"category1\", \"category2\"],  # multiple row groupings\n",
        "    columns=[\"type1\", \"type2\"],        # multiple column groupings\n",
        "    aggfunc=\"sum\"\n",
        ")\n",
        "```\n",
        "\n",
        "### 3. Advanced Analysis: Using `.loc` + Slicing with Pivot Tables\n",
        "\n",
        "Once you have created a pivot table, you can combine `.loc` with slicing to extract subsets or ranges of interest:\n",
        "\n",
        "```python\n",
        "pivot_table.loc[\"A\":\"C\"]                   # Slice row labels from \"A\" to \"C\"\n",
        "pivot_table.loc[:, \"X\":\"Z\"]                # Slice columns \"X\" to \"Z\"\n",
        "pivot_table.loc[\"A\":\"C\", \"X\":\"Z\"]          # Slice both rows and columns\n",
        "```\n",
        "\n",
        "This “power combo” of pivot tables and `.loc`-slicing enables extremely flexible and expressive subsetting.\n",
        "\n",
        "### 4. The `axis` Argument: Summary Statistics Across Dimensions\n",
        "\n",
        "Pivot tables, being standard DataFrames, allow you to calculate summary statistics **across rows or columns** using the `axis` argument:\n",
        "\n",
        "- **Aggregate across rows (for each column):**\n",
        "  ```python\n",
        "  pivot_table.mean(axis=\"index\")    # or axis=0\n",
        "  ```\n",
        "  This returns the mean for each column (i.e., aggregating over all row groups).\n",
        "\n",
        "- **Aggregate across columns (for each row):**\n",
        "  ```python\n",
        "  pivot_table.mean(axis=\"columns\")  # or axis=1\n",
        "  ```\n",
        "  This returns the mean for each row (i.e., aggregating over all column groups).\n",
        "\n",
        "This applies equally to other functions such as `.sum()`, `.min()`, `.max()`, and custom lambdas.\n",
        "\n",
        "### 5. Best Practices and Considerations\n",
        "\n",
        "- Use `fill_value` to replace `NaN` in sparse pivot tables for better interpretability.\n",
        "- Keep group cardinality reasonable: high-cardinality variables produce very large (and sometimes unreadable) tables.\n",
        "- Chain with `.loc` and slicing to efficiently extract, visualise, or further aggregate subregions of your pivot table.\n",
        "- Leverage the `axis` argument for quick, high-level summaries across rows or columns, enhancing data narratives.\n",
        "- When a flat table is required (e.g., for modelling), use `.reset_index()` to return grouped labels to columns."
      ]
    },
    {
      "cell_type": "code",
      "execution_count": 81,
      "id": "d633ffec",
      "metadata": {},
      "outputs": [
        {
          "data": {
            "application/vnd.microsoft.datawrangler.viewer.v0+json": {
              "columns": [
                {
                  "name": "index",
                  "rawType": "int64",
                  "type": "integer"
                },
                {
                  "name": "Unnamed: 0",
                  "rawType": "int64",
                  "type": "integer"
                },
                {
                  "name": "date",
                  "rawType": "datetime64[ns]",
                  "type": "datetime"
                },
                {
                  "name": "city",
                  "rawType": "object",
                  "type": "string"
                },
                {
                  "name": "country",
                  "rawType": "object",
                  "type": "string"
                },
                {
                  "name": "avg_temp_c",
                  "rawType": "float64",
                  "type": "float"
                },
                {
                  "name": "year",
                  "rawType": "int32",
                  "type": "integer"
                }
              ],
              "ref": "f15b2b8f-8a0c-4ab4-9c39-9e6b1fa55d38",
              "rows": [
                [
                  "0",
                  "0",
                  "2000-01-01 00:00:00",
                  "Abidjan",
                  "Côte D'Ivoire",
                  "27.29300000000001",
                  "2000"
                ],
                [
                  "1",
                  "1",
                  "2000-02-01 00:00:00",
                  "Abidjan",
                  "Côte D'Ivoire",
                  "27.685",
                  "2000"
                ],
                [
                  "2",
                  "2",
                  "2000-03-01 00:00:00",
                  "Abidjan",
                  "Côte D'Ivoire",
                  "29.061",
                  "2000"
                ],
                [
                  "3",
                  "3",
                  "2000-04-01 00:00:00",
                  "Abidjan",
                  "Côte D'Ivoire",
                  "28.162",
                  "2000"
                ],
                [
                  "4",
                  "4",
                  "2000-05-01 00:00:00",
                  "Abidjan",
                  "Côte D'Ivoire",
                  "27.547",
                  "2000"
                ]
              ],
              "shape": {
                "columns": 6,
                "rows": 5
              }
            },
            "text/html": [
              "<div>\n",
              "<style scoped>\n",
              "    .dataframe tbody tr th:only-of-type {\n",
              "        vertical-align: middle;\n",
              "    }\n",
              "\n",
              "    .dataframe tbody tr th {\n",
              "        vertical-align: top;\n",
              "    }\n",
              "\n",
              "    .dataframe thead th {\n",
              "        text-align: right;\n",
              "    }\n",
              "</style>\n",
              "<table border=\"1\" class=\"dataframe\">\n",
              "  <thead>\n",
              "    <tr style=\"text-align: right;\">\n",
              "      <th></th>\n",
              "      <th>Unnamed: 0</th>\n",
              "      <th>date</th>\n",
              "      <th>city</th>\n",
              "      <th>country</th>\n",
              "      <th>avg_temp_c</th>\n",
              "      <th>year</th>\n",
              "    </tr>\n",
              "  </thead>\n",
              "  <tbody>\n",
              "    <tr>\n",
              "      <th>0</th>\n",
              "      <td>0</td>\n",
              "      <td>2000-01-01</td>\n",
              "      <td>Abidjan</td>\n",
              "      <td>Côte D'Ivoire</td>\n",
              "      <td>27.293</td>\n",
              "      <td>2000</td>\n",
              "    </tr>\n",
              "    <tr>\n",
              "      <th>1</th>\n",
              "      <td>1</td>\n",
              "      <td>2000-02-01</td>\n",
              "      <td>Abidjan</td>\n",
              "      <td>Côte D'Ivoire</td>\n",
              "      <td>27.685</td>\n",
              "      <td>2000</td>\n",
              "    </tr>\n",
              "    <tr>\n",
              "      <th>2</th>\n",
              "      <td>2</td>\n",
              "      <td>2000-03-01</td>\n",
              "      <td>Abidjan</td>\n",
              "      <td>Côte D'Ivoire</td>\n",
              "      <td>29.061</td>\n",
              "      <td>2000</td>\n",
              "    </tr>\n",
              "    <tr>\n",
              "      <th>3</th>\n",
              "      <td>3</td>\n",
              "      <td>2000-04-01</td>\n",
              "      <td>Abidjan</td>\n",
              "      <td>Côte D'Ivoire</td>\n",
              "      <td>28.162</td>\n",
              "      <td>2000</td>\n",
              "    </tr>\n",
              "    <tr>\n",
              "      <th>4</th>\n",
              "      <td>4</td>\n",
              "      <td>2000-05-01</td>\n",
              "      <td>Abidjan</td>\n",
              "      <td>Côte D'Ivoire</td>\n",
              "      <td>27.547</td>\n",
              "      <td>2000</td>\n",
              "    </tr>\n",
              "  </tbody>\n",
              "</table>\n",
              "</div>"
            ],
            "text/plain": [
              "   Unnamed: 0       date     city        country  avg_temp_c  year\n",
              "0           0 2000-01-01  Abidjan  Côte D'Ivoire      27.293  2000\n",
              "1           1 2000-02-01  Abidjan  Côte D'Ivoire      27.685  2000\n",
              "2           2 2000-03-01  Abidjan  Côte D'Ivoire      29.061  2000\n",
              "3           3 2000-04-01  Abidjan  Côte D'Ivoire      28.162  2000\n",
              "4           4 2000-05-01  Abidjan  Côte D'Ivoire      27.547  2000"
            ]
          },
          "execution_count": 81,
          "metadata": {},
          "output_type": "execute_result"
        }
      ],
      "source": [
        "# Convert the 'date' column to datetime objects\n",
        "temperatures[\"date\"] = pd.to_datetime(temperatures[\"date\"])\n",
        "\n",
        "# Add a year column to temperatures, from the year component of the date column.\n",
        "temperatures[\"year\"] = temperatures[\"date\"].dt.year\n",
        "temperatures.head()"
      ]
    },
    {
      "cell_type": "code",
      "execution_count": 82,
      "id": "860c8704",
      "metadata": {},
      "outputs": [
        {
          "data": {
            "application/vnd.microsoft.datawrangler.viewer.v0+json": {
              "columns": [
                {
                  "name": "('country', 'city')",
                  "rawType": "object",
                  "type": "unknown"
                },
                {
                  "name": "2000",
                  "rawType": "float64",
                  "type": "float"
                },
                {
                  "name": "2001",
                  "rawType": "float64",
                  "type": "float"
                },
                {
                  "name": "2002",
                  "rawType": "float64",
                  "type": "float"
                },
                {
                  "name": "2003",
                  "rawType": "float64",
                  "type": "float"
                },
                {
                  "name": "2004",
                  "rawType": "float64",
                  "type": "float"
                },
                {
                  "name": "2005",
                  "rawType": "float64",
                  "type": "float"
                },
                {
                  "name": "2006",
                  "rawType": "float64",
                  "type": "float"
                },
                {
                  "name": "2007",
                  "rawType": "float64",
                  "type": "float"
                },
                {
                  "name": "2008",
                  "rawType": "float64",
                  "type": "float"
                },
                {
                  "name": "2009",
                  "rawType": "float64",
                  "type": "float"
                },
                {
                  "name": "2010",
                  "rawType": "float64",
                  "type": "float"
                },
                {
                  "name": "2011",
                  "rawType": "float64",
                  "type": "float"
                },
                {
                  "name": "2012",
                  "rawType": "float64",
                  "type": "float"
                },
                {
                  "name": "2013",
                  "rawType": "float64",
                  "type": "float"
                }
              ],
              "ref": "69340ca7-81ca-48ef-8840-5d7f0c423be0",
              "rows": [
                [
                  "('Afghanistan', 'Kabul')",
                  "15.822666666666665",
                  "15.847916666666668",
                  "15.714583333333332",
                  "15.132583333333335",
                  "16.128416666666666",
                  "14.847500000000002",
                  "15.798499999999999",
                  "15.518",
                  "15.47925",
                  "15.093333333333334",
                  "15.676",
                  "15.812166666666668",
                  "14.510333333333335",
                  "16.206125"
                ],
                [
                  "('Angola', 'Luanda')",
                  "24.41033333333333",
                  "24.427083333333332",
                  "24.790916666666664",
                  "24.867166666666666",
                  "24.216166666666666",
                  "24.414583333333336",
                  "24.138416666666668",
                  "24.241583333333335",
                  "24.266333333333336",
                  "24.325083333333335",
                  "24.440250000000002",
                  "24.150750000000002",
                  "24.24008333333333",
                  "24.553875"
                ],
                [
                  "('Australia', 'Melbourne')",
                  "14.320083333333335",
                  "14.18",
                  "14.075833333333334",
                  "13.985583333333333",
                  "13.742083333333333",
                  "14.3785",
                  "13.991083333333334",
                  "14.991833333333332",
                  "14.110583333333333",
                  "14.647416666666667",
                  "14.231666666666667",
                  "14.190916666666666",
                  "14.268666666666668",
                  "14.7415"
                ],
                [
                  "('Australia', 'Sydney')",
                  "17.567416666666666",
                  "17.8545",
                  "17.733833333333333",
                  "17.592333333333332",
                  "17.869666666666667",
                  "18.02808333333333",
                  "17.7495",
                  "18.020833333333332",
                  "17.321083333333334",
                  "18.175833333333333",
                  "17.999",
                  "17.713333333333335",
                  "17.474333333333334",
                  "18.08975"
                ],
                [
                  "('Bangladesh', 'Dhaka')",
                  "25.90525",
                  "25.931250000000002",
                  "26.095",
                  "25.92741666666667",
                  "26.136083333333332",
                  "26.19333333333333",
                  "26.440416666666664",
                  "25.951333333333334",
                  "26.004500000000004",
                  "26.535583333333335",
                  "26.64816666666667",
                  "25.803250000000002",
                  "26.283583333333336",
                  "26.587"
                ],
                [
                  "('Brazil', 'Belo Horizonte')",
                  "21.694916666666668",
                  "22.141500000000004",
                  "22.497333333333334",
                  "22.078916666666668",
                  "21.588583333333332",
                  "22.054666666666666",
                  "21.817916666666665",
                  "22.189333333333334",
                  "21.857916666666668",
                  "22.24875",
                  "22.116333333333333",
                  "21.7405",
                  "22.1615",
                  "21.586125"
                ],
                [
                  "('Brazil', 'Brasília')",
                  "22.456166666666665",
                  "22.56533333333333",
                  "23.1755",
                  "22.749",
                  "22.606583333333333",
                  "22.73675",
                  "22.349166666666665",
                  "22.998",
                  "22.595333333333333",
                  "22.663",
                  "23.03516666666667",
                  "22.38716666666667",
                  "22.84358333333334",
                  "22.601375"
                ],
                [
                  "('Brazil', 'Fortaleza')",
                  "27.495166666666666",
                  "27.692833333333336",
                  "27.853083333333334",
                  "27.86283333333333",
                  "27.721083333333336",
                  "28.171000000000003",
                  "27.75991666666667",
                  "27.920083333333334",
                  "27.53625",
                  "27.385416666666668",
                  "28.179166666666664",
                  "27.363166666666668",
                  "28.208916666666667",
                  "27.705625"
                ],
                [
                  "('Brazil', 'Rio De Janeiro')",
                  "24.363083333333336",
                  "24.989083333333337",
                  "25.176666666666666",
                  "24.896",
                  "24.238250000000004",
                  "24.792916666666667",
                  "24.57191666666667",
                  "24.77508333333334",
                  "24.260333333333335",
                  "24.983583333333332",
                  "24.952750000000005",
                  "24.31983333333333",
                  "24.838416666666664",
                  "25.188000000000002"
                ],
                [
                  "('Brazil', 'Salvador')",
                  "25.35166666666667",
                  "25.592916666666667",
                  "25.5605",
                  "25.675750000000004",
                  "25.36583333333333",
                  "25.697083333333335",
                  "25.409499999999998",
                  "25.43841666666667",
                  "25.54375",
                  "25.999750000000002",
                  "25.776916666666665",
                  "25.283666666666665",
                  "25.648333333333337",
                  "26.138"
                ],
                [
                  "('Brazil', 'São Paulo')",
                  "20.316666666666666",
                  "20.964000000000002",
                  "21.304",
                  "20.755666666666666",
                  "20.04825",
                  "20.783166666666666",
                  "20.603916666666667",
                  "20.93341666666667",
                  "20.220666666666666",
                  "20.775583333333334",
                  "20.716583333333332",
                  "20.330083333333334",
                  "21.01891666666667",
                  "20.0665"
                ],
                [
                  "('Burma', 'Rangoon')",
                  "27.129416666666668",
                  "27.514416666666666",
                  "27.449833333333334",
                  "27.28316666666667",
                  "27.201166666666666",
                  "27.60875",
                  "27.51908333333333",
                  "27.350083333333334",
                  "27.275916666666664",
                  "27.631500000000003",
                  "28.21641666666667",
                  "27.20325",
                  "27.9525",
                  "28.038125"
                ],
                [
                  "('Canada', 'Montreal')",
                  "5.13775",
                  "6.4639999999999995",
                  "6.014583333333333",
                  "4.916083333333334",
                  "4.9085833333333335",
                  "5.951083333333333",
                  "6.954166666666667",
                  "5.246",
                  "5.616833333333333",
                  "5.274416666666666",
                  "7.114416666666666",
                  "6.521249999999999",
                  "7.094",
                  "7.860333333333334"
                ],
                [
                  "('Canada', 'Toronto')",
                  "6.6739999999999995",
                  "7.761666666666667",
                  "7.482333333333334",
                  "6.021999999999999",
                  "6.395833333333333",
                  "7.21675",
                  "7.8468333333333335",
                  "7.071333333333333",
                  "6.5767500000000005",
                  "6.282583333333332",
                  "7.7745",
                  "7.2995833333333335",
                  "8.664666666666667",
                  "8.459444444444445"
                ],
                [
                  "('Chile', 'Santiago')",
                  "5.94775",
                  "6.414666666666666",
                  "6.25025",
                  "6.7739166666666675",
                  "6.316333333333334",
                  "6.222416666666667",
                  "6.838916666666667",
                  "5.510916666666667",
                  "6.567666666666667",
                  "6.703833333333333",
                  "6.132833333333333",
                  "6.268583333333333",
                  "6.818666666666666",
                  "5.938125"
                ],
                [
                  "('China', 'Changchun')",
                  "5.410166666666666",
                  "5.76175",
                  "6.520833333333335",
                  "6.784333333333333",
                  "6.800666666666667",
                  "5.454750000000001",
                  "6.194",
                  "7.390499999999999",
                  "6.9902500000000005",
                  "5.8146666666666675",
                  "5.125",
                  "5.758666666666667",
                  "5.2219999999999995",
                  "6.9384999999999994"
                ],
                [
                  "('China', 'Chengdu')",
                  "10.817583333333333",
                  "11.2575",
                  "11.384583333333332",
                  "11.350583333333335",
                  "10.971416666666668",
                  "11.094333333333333",
                  "11.840083333333332",
                  "11.663583333333333",
                  "11.133416666666667",
                  "11.616583333333333",
                  "11.368083333333333",
                  "11.074333333333334",
                  "11.15975",
                  "13.347000000000001"
                ],
                [
                  "('China', 'Chongqing')",
                  "17.021666666666665",
                  "17.453166666666664",
                  "17.5115",
                  "17.418833333333335",
                  "17.202916666666667",
                  "17.20775",
                  "18.093333333333334",
                  "17.844166666666666",
                  "17.34691666666667",
                  "17.745916666666666",
                  "17.34691666666667",
                  "17.382916666666667",
                  "17.02808333333333",
                  "19.55075"
                ],
                [
                  "('China', 'Dalian')",
                  "11.141083333333334",
                  "11.158916666666668",
                  "11.591666666666669",
                  "11.269333333333334",
                  "11.811666666666667",
                  "10.966000000000001",
                  "11.449166666666668",
                  "12.054333333333334",
                  "11.503083333333334",
                  "11.389416666666667",
                  "10.481916666666667",
                  "10.913583333333335",
                  "10.54625",
                  "11.445625"
                ],
                [
                  "('China', 'Guangzhou')",
                  "22.08975",
                  "22.122249999999998",
                  "22.400750000000002",
                  "22.470416666666665",
                  "22.179333333333332",
                  "22.0635",
                  "22.491",
                  "22.538333333333338",
                  "21.78075",
                  "22.41925",
                  "22.00016666666667",
                  "21.68316666666667",
                  "21.949333333333332",
                  "22.9285"
                ],
                [
                  "('China', 'Harbin')",
                  "4.204750000000001",
                  "4.460916666666667",
                  "5.083416666666667",
                  "5.543916666666667",
                  "5.429916666666666",
                  "4.292999999999999",
                  "4.715166666666667",
                  "6.236916666666667",
                  "5.843333333333334",
                  "4.319500000000001",
                  "3.85225",
                  "4.60025",
                  "4.0715",
                  "5.616874999999999"
                ],
                [
                  "('China', 'Jinan')",
                  "14.065166666666668",
                  "14.094500000000002",
                  "14.613833333333334",
                  "13.566333333333333",
                  "14.366",
                  "13.828583333333334",
                  "14.726583333333332",
                  "14.645000000000001",
                  "13.976",
                  "14.201333333333332",
                  "13.766333333333334",
                  "13.603250000000001",
                  "13.724666666666666",
                  "15.43"
                ],
                [
                  "('China', 'Nanjing')",
                  "16.479333333333333",
                  "16.472333333333335",
                  "16.814",
                  "16.323416666666667",
                  "16.8555",
                  "16.408166666666666",
                  "17.0185",
                  "17.240333333333336",
                  "16.33875",
                  "16.631583333333335",
                  "16.443083333333334",
                  "16.21891666666667",
                  "16.131000000000004",
                  "17.884125"
                ],
                [
                  "('China', 'Peking')",
                  "12.88125",
                  "13.061083333333334",
                  "13.388083333333336",
                  "12.835833333333333",
                  "13.288166666666667",
                  "12.893833333333333",
                  "13.250583333333333",
                  "13.696833333333332",
                  "13.124",
                  "12.96775",
                  "12.2495",
                  "12.770249999999999",
                  "12.292833333333334",
                  "14.138625000000001"
                ],
                [
                  "('China', 'Shanghai')",
                  "16.904166666666665",
                  "16.934333333333335",
                  "17.220666666666666",
                  "16.742166666666666",
                  "17.241",
                  "16.74741666666667",
                  "17.414416666666664",
                  "17.62575",
                  "16.724333333333334",
                  "17.012",
                  "16.748416666666667",
                  "16.518",
                  "16.4745",
                  "17.857625"
                ],
                [
                  "('China', 'Shenyang')",
                  "7.9055",
                  "7.969583333333333",
                  "8.643333333333334",
                  "8.616916666666667",
                  "8.90875",
                  "7.7475",
                  "8.523916666666667",
                  "9.19325",
                  "8.824583333333335",
                  "8.266416666666666",
                  "7.58625",
                  "8.043833333333334",
                  "7.53925",
                  "9.304875000000001"
                ],
                [
                  "('China', 'Taiyuan')",
                  "8.934166666666668",
                  "9.405166666666668",
                  "9.49175",
                  "8.582916666666668",
                  "9.132",
                  "9.082166666666668",
                  "9.794333333333332",
                  "9.662833333333333",
                  "8.799833333333334",
                  "9.101333333333333",
                  "9.080666666666668",
                  "8.643166666666668",
                  "8.543000000000001",
                  "11.032875"
                ],
                [
                  "('China', 'Tangshan')",
                  "12.514166666666668",
                  "12.852583333333335",
                  "13.07875",
                  "12.174999999999999",
                  "12.748166666666668",
                  "12.632166666666668",
                  "13.216583333333332",
                  "13.2695",
                  "12.617583333333334",
                  "12.630583333333334",
                  "12.379",
                  "12.258833333333333",
                  "12.132666666666667",
                  "14.249875000000001"
                ],
                [
                  "('China', 'Tianjin')",
                  "12.88125",
                  "13.061083333333334",
                  "13.388083333333336",
                  "12.835833333333333",
                  "13.288166666666667",
                  "12.893833333333333",
                  "13.250583333333333",
                  "13.696833333333332",
                  "13.124",
                  "12.96775",
                  "12.2495",
                  "12.770249999999999",
                  "12.292833333333334",
                  "14.138625000000001"
                ],
                [
                  "('China', 'Wuhan')",
                  "17.442666666666668",
                  "17.689666666666668",
                  "17.788",
                  "17.482",
                  "17.97458333333333",
                  "17.548750000000002",
                  "18.030916666666666",
                  "18.24066666666667",
                  "17.597583333333333",
                  "17.816750000000003",
                  "17.568250000000003",
                  "17.387583333333335",
                  "17.153333333333332",
                  "19.2855"
                ],
                [
                  "('China', 'Xian')",
                  "12.182",
                  "12.431833333333332",
                  "12.816",
                  "11.89575",
                  "12.494916666666667",
                  "12.244750000000002",
                  "12.990749999999998",
                  "12.765833333333333",
                  "12.128749999999998",
                  "12.528416666666667",
                  "12.58975",
                  "12.075166666666668",
                  "11.898166666666667",
                  "14.459999999999999"
                ],
                [
                  "('Colombia', 'Bogotá')",
                  "20.224416666666666",
                  "20.741583333333335",
                  "20.922416666666667",
                  "20.89966666666667",
                  "20.851",
                  "20.92291666666667",
                  "20.788",
                  "20.730916666666666",
                  "20.336666666666666",
                  "21.006916666666665",
                  "20.954250000000002",
                  "20.54425",
                  "20.751583333333333",
                  "21.016"
                ],
                [
                  "('Colombia', 'Cali')",
                  "22.012",
                  "22.497416666666666",
                  "22.729833333333332",
                  "22.675666666666668",
                  "22.625500000000002",
                  "22.689833333333336",
                  "22.595166666666668",
                  "22.475666666666665",
                  "22.068166666666666",
                  "22.867333333333335",
                  "22.682833333333335",
                  "22.330000000000002",
                  "22.58475",
                  "22.854750000000003"
                ],
                [
                  "('Congo (Democratic Republic Of The)', 'Kinshasa')",
                  "24.17816666666667",
                  "24.250500000000002",
                  "24.626500000000004",
                  "24.636333333333337",
                  "24.664333333333335",
                  "24.705333333333332",
                  "24.587166666666665",
                  "24.5705",
                  "24.51591666666667",
                  "24.58175",
                  "24.90341666666667",
                  "24.1985",
                  "24.2105",
                  "24.408375"
                ],
                [
                  "(\"Côte D'Ivoire\", 'Abidjan')",
                  "26.753083333333336",
                  "26.693583333333336",
                  "26.840999999999998",
                  "27.050666666666668",
                  "26.986",
                  "26.976583333333334",
                  "26.988083333333336",
                  "27.006833333333333",
                  "26.9445",
                  "26.982",
                  "27.44541666666667",
                  "27.017583333333334",
                  "26.766333333333336",
                  "27.2285"
                ],
                [
                  "('Dominican Republic', 'Santo Domingo')",
                  "26.34691666666667",
                  "26.79825",
                  "27.051000000000002",
                  "27.09175",
                  "26.70741666666667",
                  "26.904583333333335",
                  "27.080833333333334",
                  "27.12091666666667",
                  "26.56266666666667",
                  "26.88366666666667",
                  "27.012083333333333",
                  "26.6635",
                  "26.839416666666665",
                  "26.884"
                ],
                [
                  "('Egypt', 'Alexandria')",
                  "20.744500000000002",
                  "21.454583333333332",
                  "21.456166666666665",
                  "21.221416666666666",
                  "21.064166666666665",
                  "21.082333333333334",
                  "21.14816666666667",
                  "21.50775",
                  "21.739",
                  "21.6705",
                  "22.45958333333333",
                  "21.1815",
                  "21.55258333333333",
                  "21.4385"
                ],
                [
                  "('Egypt', 'Cairo')",
                  "21.486166666666666",
                  "22.330833333333334",
                  "22.414083333333334",
                  "22.1705",
                  "22.081916666666668",
                  "22.006500000000003",
                  "22.05",
                  "22.361",
                  "22.644499999999997",
                  "22.625",
                  "23.71825",
                  "21.98691666666667",
                  "22.48425",
                  "22.907"
                ],
                [
                  "('Egypt', 'Gizeh')",
                  "21.486166666666666",
                  "22.330833333333334",
                  "22.414083333333334",
                  "22.1705",
                  "22.081916666666668",
                  "22.006500000000003",
                  "22.05",
                  "22.361",
                  "22.644499999999997",
                  "22.625",
                  "23.71825",
                  "21.98691666666667",
                  "22.48425",
                  "22.907"
                ],
                [
                  "('Ethiopia', 'Addis Abeba')",
                  "18.24125",
                  "18.29641666666667",
                  "18.46975",
                  "18.320916666666665",
                  "18.29275",
                  "18.312833333333334",
                  "18.427083333333332",
                  "18.142583333333334",
                  "18.165",
                  "18.765333333333334",
                  "18.29825",
                  "18.60675",
                  "18.448583333333335",
                  "19.539"
                ],
                [
                  "('France', 'Paris')",
                  "11.739666666666666",
                  "11.371250000000002",
                  "11.871333333333332",
                  "11.9095",
                  "11.338833333333334",
                  "11.552916666666667",
                  "11.788499999999999",
                  "11.750833333333334",
                  "11.27825",
                  "11.464083333333333",
                  "10.409833333333333",
                  "12.325750000000001",
                  "11.219916666666668",
                  "11.011624999999999"
                ],
                [
                  "('Germany', 'Berlin')",
                  "10.963666666666667",
                  "9.69025",
                  "10.264416666666667",
                  "10.06575",
                  "9.822583333333332",
                  "9.919083333333335",
                  "10.545333333333334",
                  "10.883166666666668",
                  "10.65775",
                  "10.0625",
                  "8.606833333333332",
                  "10.556416666666667",
                  "9.964333333333334",
                  "10.1215"
                ],
                [
                  "('India', 'Ahmadabad')",
                  "27.436000000000003",
                  "27.198083333333333",
                  "27.719083333333334",
                  "27.403833333333335",
                  "27.628333333333334",
                  "26.828083333333336",
                  "27.282833333333333",
                  "27.511166666666668",
                  "27.0485",
                  "28.095833333333335",
                  "28.017833333333332",
                  "27.29041666666667",
                  "27.02725",
                  "27.608625000000004"
                ],
                [
                  "('India', 'Bangalore')",
                  "25.33791666666667",
                  "25.528166666666667",
                  "25.755333333333336",
                  "25.924750000000003",
                  "25.25208333333333",
                  "25.4765",
                  "25.41825",
                  "25.464333333333332",
                  "25.35258333333333",
                  "25.72575",
                  "25.705250000000003",
                  "25.362083333333334",
                  "26.042333333333335",
                  "26.610500000000002"
                ],
                [
                  "('India', 'Bombay')",
                  "27.203666666666667",
                  "27.24366666666667",
                  "27.628666666666664",
                  "27.578416666666666",
                  "27.318749999999998",
                  "27.035750000000004",
                  "27.381500000000003",
                  "27.634666666666664",
                  "27.177750000000003",
                  "27.8445",
                  "27.765416666666667",
                  "27.38491666666667",
                  "27.192500000000006",
                  "26.713"
                ],
                [
                  "('India', 'Calcutta')",
                  "26.491333333333333",
                  "26.51516666666667",
                  "26.703916666666668",
                  "26.561333333333334",
                  "26.634333333333334",
                  "26.729166666666668",
                  "26.98625",
                  "26.58458333333333",
                  "26.522333333333336",
                  "27.15325",
                  "27.288833333333333",
                  "26.40691666666667",
                  "26.935083333333335",
                  "27.36925"
                ],
                [
                  "('India', 'Delhi')",
                  "26.048333333333332",
                  "25.862916666666667",
                  "26.634333333333334",
                  "25.721083333333336",
                  "26.23991666666667",
                  "25.716083333333334",
                  "26.365916666666667",
                  "26.145666666666667",
                  "25.675",
                  "26.55425",
                  "26.52025",
                  "25.629500000000004",
                  "25.889416666666666",
                  "26.70925"
                ],
                [
                  "('India', 'Hyderabad')",
                  "27.231833333333338",
                  "27.555166666666665",
                  "27.665166666666664",
                  "27.844583333333333",
                  "27.2285",
                  "27.488833333333336",
                  "27.471",
                  "27.545333333333332",
                  "27.44666666666667",
                  "28.026500000000002",
                  "27.693416666666668",
                  "27.408833333333334",
                  "28.018583333333336",
                  "28.851250000000004"
                ],
                [
                  "('India', 'Jaipur')",
                  "26.43025",
                  "26.023",
                  "27.031666666666666",
                  "26.027416666666667",
                  "26.642166666666668",
                  "25.77225",
                  "26.429833333333335",
                  "26.267",
                  "25.877583333333334",
                  "26.9195",
                  "26.818416666666664",
                  "25.9165",
                  "25.884500000000003",
                  "26.844125"
                ],
                [
                  "('India', 'Kanpur')",
                  "25.353916666666667",
                  "25.3265",
                  "26.116833333333332",
                  "25.40908333333333",
                  "25.5865",
                  "25.6215",
                  "25.848833333333335",
                  "25.436083333333332",
                  "25.109750000000002",
                  "25.98708333333333",
                  "26.02175",
                  "25.062083333333334",
                  "25.44541666666667",
                  "26.12125"
                ]
              ],
              "shape": {
                "columns": 14,
                "rows": 100
              }
            },
            "text/html": [
              "<div>\n",
              "<style scoped>\n",
              "    .dataframe tbody tr th:only-of-type {\n",
              "        vertical-align: middle;\n",
              "    }\n",
              "\n",
              "    .dataframe tbody tr th {\n",
              "        vertical-align: top;\n",
              "    }\n",
              "\n",
              "    .dataframe thead th {\n",
              "        text-align: right;\n",
              "    }\n",
              "</style>\n",
              "<table border=\"1\" class=\"dataframe\">\n",
              "  <thead>\n",
              "    <tr style=\"text-align: right;\">\n",
              "      <th></th>\n",
              "      <th>year</th>\n",
              "      <th>2000</th>\n",
              "      <th>2001</th>\n",
              "      <th>2002</th>\n",
              "      <th>2003</th>\n",
              "      <th>2004</th>\n",
              "      <th>2005</th>\n",
              "      <th>2006</th>\n",
              "      <th>2007</th>\n",
              "      <th>2008</th>\n",
              "      <th>2009</th>\n",
              "      <th>2010</th>\n",
              "      <th>2011</th>\n",
              "      <th>2012</th>\n",
              "      <th>2013</th>\n",
              "    </tr>\n",
              "    <tr>\n",
              "      <th>country</th>\n",
              "      <th>city</th>\n",
              "      <th></th>\n",
              "      <th></th>\n",
              "      <th></th>\n",
              "      <th></th>\n",
              "      <th></th>\n",
              "      <th></th>\n",
              "      <th></th>\n",
              "      <th></th>\n",
              "      <th></th>\n",
              "      <th></th>\n",
              "      <th></th>\n",
              "      <th></th>\n",
              "      <th></th>\n",
              "      <th></th>\n",
              "    </tr>\n",
              "  </thead>\n",
              "  <tbody>\n",
              "    <tr>\n",
              "      <th>Afghanistan</th>\n",
              "      <th>Kabul</th>\n",
              "      <td>15.822667</td>\n",
              "      <td>15.847917</td>\n",
              "      <td>15.714583</td>\n",
              "      <td>15.132583</td>\n",
              "      <td>16.128417</td>\n",
              "      <td>14.847500</td>\n",
              "      <td>15.798500</td>\n",
              "      <td>15.518000</td>\n",
              "      <td>15.479250</td>\n",
              "      <td>15.093333</td>\n",
              "      <td>15.676000</td>\n",
              "      <td>15.812167</td>\n",
              "      <td>14.510333</td>\n",
              "      <td>16.206125</td>\n",
              "    </tr>\n",
              "    <tr>\n",
              "      <th>Angola</th>\n",
              "      <th>Luanda</th>\n",
              "      <td>24.410333</td>\n",
              "      <td>24.427083</td>\n",
              "      <td>24.790917</td>\n",
              "      <td>24.867167</td>\n",
              "      <td>24.216167</td>\n",
              "      <td>24.414583</td>\n",
              "      <td>24.138417</td>\n",
              "      <td>24.241583</td>\n",
              "      <td>24.266333</td>\n",
              "      <td>24.325083</td>\n",
              "      <td>24.440250</td>\n",
              "      <td>24.150750</td>\n",
              "      <td>24.240083</td>\n",
              "      <td>24.553875</td>\n",
              "    </tr>\n",
              "    <tr>\n",
              "      <th rowspan=\"2\" valign=\"top\">Australia</th>\n",
              "      <th>Melbourne</th>\n",
              "      <td>14.320083</td>\n",
              "      <td>14.180000</td>\n",
              "      <td>14.075833</td>\n",
              "      <td>13.985583</td>\n",
              "      <td>13.742083</td>\n",
              "      <td>14.378500</td>\n",
              "      <td>13.991083</td>\n",
              "      <td>14.991833</td>\n",
              "      <td>14.110583</td>\n",
              "      <td>14.647417</td>\n",
              "      <td>14.231667</td>\n",
              "      <td>14.190917</td>\n",
              "      <td>14.268667</td>\n",
              "      <td>14.741500</td>\n",
              "    </tr>\n",
              "    <tr>\n",
              "      <th>Sydney</th>\n",
              "      <td>17.567417</td>\n",
              "      <td>17.854500</td>\n",
              "      <td>17.733833</td>\n",
              "      <td>17.592333</td>\n",
              "      <td>17.869667</td>\n",
              "      <td>18.028083</td>\n",
              "      <td>17.749500</td>\n",
              "      <td>18.020833</td>\n",
              "      <td>17.321083</td>\n",
              "      <td>18.175833</td>\n",
              "      <td>17.999000</td>\n",
              "      <td>17.713333</td>\n",
              "      <td>17.474333</td>\n",
              "      <td>18.089750</td>\n",
              "    </tr>\n",
              "    <tr>\n",
              "      <th>Bangladesh</th>\n",
              "      <th>Dhaka</th>\n",
              "      <td>25.905250</td>\n",
              "      <td>25.931250</td>\n",
              "      <td>26.095000</td>\n",
              "      <td>25.927417</td>\n",
              "      <td>26.136083</td>\n",
              "      <td>26.193333</td>\n",
              "      <td>26.440417</td>\n",
              "      <td>25.951333</td>\n",
              "      <td>26.004500</td>\n",
              "      <td>26.535583</td>\n",
              "      <td>26.648167</td>\n",
              "      <td>25.803250</td>\n",
              "      <td>26.283583</td>\n",
              "      <td>26.587000</td>\n",
              "    </tr>\n",
              "    <tr>\n",
              "      <th>...</th>\n",
              "      <th>...</th>\n",
              "      <td>...</td>\n",
              "      <td>...</td>\n",
              "      <td>...</td>\n",
              "      <td>...</td>\n",
              "      <td>...</td>\n",
              "      <td>...</td>\n",
              "      <td>...</td>\n",
              "      <td>...</td>\n",
              "      <td>...</td>\n",
              "      <td>...</td>\n",
              "      <td>...</td>\n",
              "      <td>...</td>\n",
              "      <td>...</td>\n",
              "      <td>...</td>\n",
              "    </tr>\n",
              "    <tr>\n",
              "      <th rowspan=\"3\" valign=\"top\">United States</th>\n",
              "      <th>Chicago</th>\n",
              "      <td>11.089667</td>\n",
              "      <td>11.703083</td>\n",
              "      <td>11.532083</td>\n",
              "      <td>10.481583</td>\n",
              "      <td>10.943417</td>\n",
              "      <td>11.583833</td>\n",
              "      <td>11.870500</td>\n",
              "      <td>11.448333</td>\n",
              "      <td>10.242417</td>\n",
              "      <td>10.298333</td>\n",
              "      <td>11.815917</td>\n",
              "      <td>11.214250</td>\n",
              "      <td>12.821250</td>\n",
              "      <td>11.586889</td>\n",
              "    </tr>\n",
              "    <tr>\n",
              "      <th>Los Angeles</th>\n",
              "      <td>16.643333</td>\n",
              "      <td>16.466250</td>\n",
              "      <td>16.430250</td>\n",
              "      <td>16.944667</td>\n",
              "      <td>16.552833</td>\n",
              "      <td>16.431417</td>\n",
              "      <td>16.623083</td>\n",
              "      <td>16.699917</td>\n",
              "      <td>17.014750</td>\n",
              "      <td>16.677000</td>\n",
              "      <td>15.887000</td>\n",
              "      <td>15.874833</td>\n",
              "      <td>17.089583</td>\n",
              "      <td>18.120667</td>\n",
              "    </tr>\n",
              "    <tr>\n",
              "      <th>New York</th>\n",
              "      <td>9.969083</td>\n",
              "      <td>10.931000</td>\n",
              "      <td>11.252167</td>\n",
              "      <td>9.836000</td>\n",
              "      <td>10.389500</td>\n",
              "      <td>10.681417</td>\n",
              "      <td>11.519250</td>\n",
              "      <td>10.627333</td>\n",
              "      <td>10.641667</td>\n",
              "      <td>10.141833</td>\n",
              "      <td>11.357583</td>\n",
              "      <td>11.272250</td>\n",
              "      <td>11.971500</td>\n",
              "      <td>12.163889</td>\n",
              "    </tr>\n",
              "    <tr>\n",
              "      <th>Vietnam</th>\n",
              "      <th>Ho Chi Minh City</th>\n",
              "      <td>27.588917</td>\n",
              "      <td>27.831750</td>\n",
              "      <td>28.064750</td>\n",
              "      <td>27.827667</td>\n",
              "      <td>27.686583</td>\n",
              "      <td>27.884000</td>\n",
              "      <td>28.044000</td>\n",
              "      <td>27.866667</td>\n",
              "      <td>27.611417</td>\n",
              "      <td>27.853333</td>\n",
              "      <td>28.281750</td>\n",
              "      <td>27.675417</td>\n",
              "      <td>28.248750</td>\n",
              "      <td>28.455000</td>\n",
              "    </tr>\n",
              "    <tr>\n",
              "      <th>Zimbabwe</th>\n",
              "      <th>Harare</th>\n",
              "      <td>20.283667</td>\n",
              "      <td>20.861000</td>\n",
              "      <td>21.079333</td>\n",
              "      <td>20.889167</td>\n",
              "      <td>20.307667</td>\n",
              "      <td>21.487417</td>\n",
              "      <td>20.699750</td>\n",
              "      <td>20.746250</td>\n",
              "      <td>20.680500</td>\n",
              "      <td>20.523833</td>\n",
              "      <td>21.165833</td>\n",
              "      <td>20.781750</td>\n",
              "      <td>20.523333</td>\n",
              "      <td>19.756500</td>\n",
              "    </tr>\n",
              "  </tbody>\n",
              "</table>\n",
              "<p>100 rows × 14 columns</p>\n",
              "</div>"
            ],
            "text/plain": [
              "year                                 2000       2001       2002       2003  \\\n",
              "country       city                                                           \n",
              "Afghanistan   Kabul             15.822667  15.847917  15.714583  15.132583   \n",
              "Angola        Luanda            24.410333  24.427083  24.790917  24.867167   \n",
              "Australia     Melbourne         14.320083  14.180000  14.075833  13.985583   \n",
              "              Sydney            17.567417  17.854500  17.733833  17.592333   \n",
              "Bangladesh    Dhaka             25.905250  25.931250  26.095000  25.927417   \n",
              "...                                   ...        ...        ...        ...   \n",
              "United States Chicago           11.089667  11.703083  11.532083  10.481583   \n",
              "              Los Angeles       16.643333  16.466250  16.430250  16.944667   \n",
              "              New York           9.969083  10.931000  11.252167   9.836000   \n",
              "Vietnam       Ho Chi Minh City  27.588917  27.831750  28.064750  27.827667   \n",
              "Zimbabwe      Harare            20.283667  20.861000  21.079333  20.889167   \n",
              "\n",
              "year                                 2004       2005       2006       2007  \\\n",
              "country       city                                                           \n",
              "Afghanistan   Kabul             16.128417  14.847500  15.798500  15.518000   \n",
              "Angola        Luanda            24.216167  24.414583  24.138417  24.241583   \n",
              "Australia     Melbourne         13.742083  14.378500  13.991083  14.991833   \n",
              "              Sydney            17.869667  18.028083  17.749500  18.020833   \n",
              "Bangladesh    Dhaka             26.136083  26.193333  26.440417  25.951333   \n",
              "...                                   ...        ...        ...        ...   \n",
              "United States Chicago           10.943417  11.583833  11.870500  11.448333   \n",
              "              Los Angeles       16.552833  16.431417  16.623083  16.699917   \n",
              "              New York          10.389500  10.681417  11.519250  10.627333   \n",
              "Vietnam       Ho Chi Minh City  27.686583  27.884000  28.044000  27.866667   \n",
              "Zimbabwe      Harare            20.307667  21.487417  20.699750  20.746250   \n",
              "\n",
              "year                                 2008       2009       2010       2011  \\\n",
              "country       city                                                           \n",
              "Afghanistan   Kabul             15.479250  15.093333  15.676000  15.812167   \n",
              "Angola        Luanda            24.266333  24.325083  24.440250  24.150750   \n",
              "Australia     Melbourne         14.110583  14.647417  14.231667  14.190917   \n",
              "              Sydney            17.321083  18.175833  17.999000  17.713333   \n",
              "Bangladesh    Dhaka             26.004500  26.535583  26.648167  25.803250   \n",
              "...                                   ...        ...        ...        ...   \n",
              "United States Chicago           10.242417  10.298333  11.815917  11.214250   \n",
              "              Los Angeles       17.014750  16.677000  15.887000  15.874833   \n",
              "              New York          10.641667  10.141833  11.357583  11.272250   \n",
              "Vietnam       Ho Chi Minh City  27.611417  27.853333  28.281750  27.675417   \n",
              "Zimbabwe      Harare            20.680500  20.523833  21.165833  20.781750   \n",
              "\n",
              "year                                 2012       2013  \n",
              "country       city                                    \n",
              "Afghanistan   Kabul             14.510333  16.206125  \n",
              "Angola        Luanda            24.240083  24.553875  \n",
              "Australia     Melbourne         14.268667  14.741500  \n",
              "              Sydney            17.474333  18.089750  \n",
              "Bangladesh    Dhaka             26.283583  26.587000  \n",
              "...                                   ...        ...  \n",
              "United States Chicago           12.821250  11.586889  \n",
              "              Los Angeles       17.089583  18.120667  \n",
              "              New York          11.971500  12.163889  \n",
              "Vietnam       Ho Chi Minh City  28.248750  28.455000  \n",
              "Zimbabwe      Harare            20.523333  19.756500  \n",
              "\n",
              "[100 rows x 14 columns]"
            ]
          },
          "metadata": {},
          "output_type": "display_data"
        }
      ],
      "source": [
        "# Make a pivot table of the avg_temp_c column, with country and city as rows, and year as columns. Assign to temp_by_country_city_vs_year, and look at the result.\n",
        "temp_by_country_city_vs_year = temperatures.pivot_table(values=\"avg_temp_c\", \n",
        "                                                        index=[\"country\", \"city\"], \n",
        "                                                        columns=\"year\")\n",
        "display(temp_by_country_city_vs_year)"
      ]
    },
    {
      "cell_type": "markdown",
      "id": "ddd5d178",
      "metadata": {},
      "source": [
        "Use `.loc[]` on `temp_by_country_city_vs_year` to take subsets.\n",
        "\n",
        "From Egypt to India.\n",
        "\n",
        "From Egypt, Cairo to India, Delhi.\n",
        "\n",
        "From Egypt, Cairo to India, Delhi, and 2005 to 2010."
      ]
    },
    {
      "cell_type": "code",
      "execution_count": 83,
      "id": "35dc2371",
      "metadata": {},
      "outputs": [
        {
          "data": {
            "application/vnd.microsoft.datawrangler.viewer.v0+json": {
              "columns": [
                {
                  "name": "('country', 'city')",
                  "rawType": "object",
                  "type": "unknown"
                },
                {
                  "name": "2000",
                  "rawType": "float64",
                  "type": "float"
                },
                {
                  "name": "2001",
                  "rawType": "float64",
                  "type": "float"
                },
                {
                  "name": "2002",
                  "rawType": "float64",
                  "type": "float"
                },
                {
                  "name": "2003",
                  "rawType": "float64",
                  "type": "float"
                },
                {
                  "name": "2004",
                  "rawType": "float64",
                  "type": "float"
                },
                {
                  "name": "2005",
                  "rawType": "float64",
                  "type": "float"
                },
                {
                  "name": "2006",
                  "rawType": "float64",
                  "type": "float"
                },
                {
                  "name": "2007",
                  "rawType": "float64",
                  "type": "float"
                },
                {
                  "name": "2008",
                  "rawType": "float64",
                  "type": "float"
                },
                {
                  "name": "2009",
                  "rawType": "float64",
                  "type": "float"
                },
                {
                  "name": "2010",
                  "rawType": "float64",
                  "type": "float"
                },
                {
                  "name": "2011",
                  "rawType": "float64",
                  "type": "float"
                },
                {
                  "name": "2012",
                  "rawType": "float64",
                  "type": "float"
                },
                {
                  "name": "2013",
                  "rawType": "float64",
                  "type": "float"
                }
              ],
              "ref": "352fc280-72e0-40bc-8109-dc4ac87d3786",
              "rows": [
                [
                  "('Egypt', 'Alexandria')",
                  "20.744500000000002",
                  "21.454583333333332",
                  "21.456166666666665",
                  "21.221416666666666",
                  "21.064166666666665",
                  "21.082333333333334",
                  "21.14816666666667",
                  "21.50775",
                  "21.739",
                  "21.6705",
                  "22.45958333333333",
                  "21.1815",
                  "21.55258333333333",
                  "21.4385"
                ],
                [
                  "('Egypt', 'Cairo')",
                  "21.486166666666666",
                  "22.330833333333334",
                  "22.414083333333334",
                  "22.1705",
                  "22.081916666666668",
                  "22.006500000000003",
                  "22.05",
                  "22.361",
                  "22.644499999999997",
                  "22.625",
                  "23.71825",
                  "21.98691666666667",
                  "22.48425",
                  "22.907"
                ],
                [
                  "('Egypt', 'Gizeh')",
                  "21.486166666666666",
                  "22.330833333333334",
                  "22.414083333333334",
                  "22.1705",
                  "22.081916666666668",
                  "22.006500000000003",
                  "22.05",
                  "22.361",
                  "22.644499999999997",
                  "22.625",
                  "23.71825",
                  "21.98691666666667",
                  "22.48425",
                  "22.907"
                ],
                [
                  "('Ethiopia', 'Addis Abeba')",
                  "18.24125",
                  "18.29641666666667",
                  "18.46975",
                  "18.320916666666665",
                  "18.29275",
                  "18.312833333333334",
                  "18.427083333333332",
                  "18.142583333333334",
                  "18.165",
                  "18.765333333333334",
                  "18.29825",
                  "18.60675",
                  "18.448583333333335",
                  "19.539"
                ],
                [
                  "('France', 'Paris')",
                  "11.739666666666666",
                  "11.371250000000002",
                  "11.871333333333332",
                  "11.9095",
                  "11.338833333333334",
                  "11.552916666666667",
                  "11.788499999999999",
                  "11.750833333333334",
                  "11.27825",
                  "11.464083333333333",
                  "10.409833333333333",
                  "12.325750000000001",
                  "11.219916666666668",
                  "11.011624999999999"
                ],
                [
                  "('Germany', 'Berlin')",
                  "10.963666666666667",
                  "9.69025",
                  "10.264416666666667",
                  "10.06575",
                  "9.822583333333332",
                  "9.919083333333335",
                  "10.545333333333334",
                  "10.883166666666668",
                  "10.65775",
                  "10.0625",
                  "8.606833333333332",
                  "10.556416666666667",
                  "9.964333333333334",
                  "10.1215"
                ],
                [
                  "('India', 'Ahmadabad')",
                  "27.436000000000003",
                  "27.198083333333333",
                  "27.719083333333334",
                  "27.403833333333335",
                  "27.628333333333334",
                  "26.828083333333336",
                  "27.282833333333333",
                  "27.511166666666668",
                  "27.0485",
                  "28.095833333333335",
                  "28.017833333333332",
                  "27.29041666666667",
                  "27.02725",
                  "27.608625000000004"
                ],
                [
                  "('India', 'Bangalore')",
                  "25.33791666666667",
                  "25.528166666666667",
                  "25.755333333333336",
                  "25.924750000000003",
                  "25.25208333333333",
                  "25.4765",
                  "25.41825",
                  "25.464333333333332",
                  "25.35258333333333",
                  "25.72575",
                  "25.705250000000003",
                  "25.362083333333334",
                  "26.042333333333335",
                  "26.610500000000002"
                ],
                [
                  "('India', 'Bombay')",
                  "27.203666666666667",
                  "27.24366666666667",
                  "27.628666666666664",
                  "27.578416666666666",
                  "27.318749999999998",
                  "27.035750000000004",
                  "27.381500000000003",
                  "27.634666666666664",
                  "27.177750000000003",
                  "27.8445",
                  "27.765416666666667",
                  "27.38491666666667",
                  "27.192500000000006",
                  "26.713"
                ],
                [
                  "('India', 'Calcutta')",
                  "26.491333333333333",
                  "26.51516666666667",
                  "26.703916666666668",
                  "26.561333333333334",
                  "26.634333333333334",
                  "26.729166666666668",
                  "26.98625",
                  "26.58458333333333",
                  "26.522333333333336",
                  "27.15325",
                  "27.288833333333333",
                  "26.40691666666667",
                  "26.935083333333335",
                  "27.36925"
                ],
                [
                  "('India', 'Delhi')",
                  "26.048333333333332",
                  "25.862916666666667",
                  "26.634333333333334",
                  "25.721083333333336",
                  "26.23991666666667",
                  "25.716083333333334",
                  "26.365916666666667",
                  "26.145666666666667",
                  "25.675",
                  "26.55425",
                  "26.52025",
                  "25.629500000000004",
                  "25.889416666666666",
                  "26.70925"
                ],
                [
                  "('India', 'Hyderabad')",
                  "27.231833333333338",
                  "27.555166666666665",
                  "27.665166666666664",
                  "27.844583333333333",
                  "27.2285",
                  "27.488833333333336",
                  "27.471",
                  "27.545333333333332",
                  "27.44666666666667",
                  "28.026500000000002",
                  "27.693416666666668",
                  "27.408833333333334",
                  "28.018583333333336",
                  "28.851250000000004"
                ],
                [
                  "('India', 'Jaipur')",
                  "26.43025",
                  "26.023",
                  "27.031666666666666",
                  "26.027416666666667",
                  "26.642166666666668",
                  "25.77225",
                  "26.429833333333335",
                  "26.267",
                  "25.877583333333334",
                  "26.9195",
                  "26.818416666666664",
                  "25.9165",
                  "25.884500000000003",
                  "26.844125"
                ],
                [
                  "('India', 'Kanpur')",
                  "25.353916666666667",
                  "25.3265",
                  "26.116833333333332",
                  "25.40908333333333",
                  "25.5865",
                  "25.6215",
                  "25.848833333333335",
                  "25.436083333333332",
                  "25.109750000000002",
                  "25.98708333333333",
                  "26.02175",
                  "25.062083333333334",
                  "25.44541666666667",
                  "26.12125"
                ],
                [
                  "('India', 'Lakhnau')",
                  "25.353916666666667",
                  "25.3265",
                  "26.116833333333332",
                  "25.40908333333333",
                  "25.5865",
                  "25.6215",
                  "25.848833333333335",
                  "25.436083333333332",
                  "25.109750000000002",
                  "25.98708333333333",
                  "26.02175",
                  "25.062083333333334",
                  "25.44541666666667",
                  "26.12125"
                ],
                [
                  "('India', 'Madras')",
                  "28.811666666666667",
                  "29.162916666666664",
                  "29.246499999999997",
                  "29.273083333333336",
                  "28.810916666666667",
                  "29.09941666666667",
                  "29.07325",
                  "28.970166666666668",
                  "29.024083333333333",
                  "29.417416666666668",
                  "29.04733333333333",
                  "29.063166666666664",
                  "29.77841666666667",
                  "30.41175"
                ],
                [
                  "('India', 'Nagpur')",
                  "26.181416666666667",
                  "26.32166666666667",
                  "26.753",
                  "26.503833333333333",
                  "26.406333333333333",
                  "26.229166666666668",
                  "26.37483333333333",
                  "26.393666666666665",
                  "26.188",
                  "27.13891666666667",
                  "26.927000000000003",
                  "26.004666666666665",
                  "26.327916666666667",
                  "27.112375"
                ],
                [
                  "('India', 'New Delhi')",
                  "26.048333333333332",
                  "25.862916666666667",
                  "26.634333333333334",
                  "25.721083333333336",
                  "26.23991666666667",
                  "25.716083333333334",
                  "26.365916666666667",
                  "26.145666666666667",
                  "25.675",
                  "26.55425",
                  "26.52025",
                  "25.629500000000004",
                  "25.889416666666666",
                  "26.70925"
                ],
                [
                  "('India', 'Pune')",
                  "25.110916666666668",
                  "25.337833333333336",
                  "25.583000000000002",
                  "25.748416666666667",
                  "25.316166666666664",
                  "25.085583333333332",
                  "25.310166666666664",
                  "25.584833333333336",
                  "25.23025",
                  "25.86825",
                  "25.749166666666667",
                  "25.161416666666668",
                  "25.296833333333336",
                  "25.847625"
                ],
                [
                  "('India', 'Surat')",
                  "27.029",
                  "26.89725",
                  "27.34775",
                  "27.23091666666667",
                  "27.290583333333334",
                  "26.724500000000003",
                  "27.149416666666667",
                  "27.31175",
                  "26.82875",
                  "27.819833333333335",
                  "27.68166666666667",
                  "27.016583333333333",
                  "26.88925",
                  "27.43775"
                ]
              ],
              "shape": {
                "columns": 14,
                "rows": 20
              }
            },
            "text/html": [
              "<div>\n",
              "<style scoped>\n",
              "    .dataframe tbody tr th:only-of-type {\n",
              "        vertical-align: middle;\n",
              "    }\n",
              "\n",
              "    .dataframe tbody tr th {\n",
              "        vertical-align: top;\n",
              "    }\n",
              "\n",
              "    .dataframe thead th {\n",
              "        text-align: right;\n",
              "    }\n",
              "</style>\n",
              "<table border=\"1\" class=\"dataframe\">\n",
              "  <thead>\n",
              "    <tr style=\"text-align: right;\">\n",
              "      <th></th>\n",
              "      <th>year</th>\n",
              "      <th>2000</th>\n",
              "      <th>2001</th>\n",
              "      <th>2002</th>\n",
              "      <th>2003</th>\n",
              "      <th>2004</th>\n",
              "      <th>2005</th>\n",
              "      <th>2006</th>\n",
              "      <th>2007</th>\n",
              "      <th>2008</th>\n",
              "      <th>2009</th>\n",
              "      <th>2010</th>\n",
              "      <th>2011</th>\n",
              "      <th>2012</th>\n",
              "      <th>2013</th>\n",
              "    </tr>\n",
              "    <tr>\n",
              "      <th>country</th>\n",
              "      <th>city</th>\n",
              "      <th></th>\n",
              "      <th></th>\n",
              "      <th></th>\n",
              "      <th></th>\n",
              "      <th></th>\n",
              "      <th></th>\n",
              "      <th></th>\n",
              "      <th></th>\n",
              "      <th></th>\n",
              "      <th></th>\n",
              "      <th></th>\n",
              "      <th></th>\n",
              "      <th></th>\n",
              "      <th></th>\n",
              "    </tr>\n",
              "  </thead>\n",
              "  <tbody>\n",
              "    <tr>\n",
              "      <th rowspan=\"3\" valign=\"top\">Egypt</th>\n",
              "      <th>Alexandria</th>\n",
              "      <td>20.744500</td>\n",
              "      <td>21.454583</td>\n",
              "      <td>21.456167</td>\n",
              "      <td>21.221417</td>\n",
              "      <td>21.064167</td>\n",
              "      <td>21.082333</td>\n",
              "      <td>21.148167</td>\n",
              "      <td>21.507750</td>\n",
              "      <td>21.739000</td>\n",
              "      <td>21.670500</td>\n",
              "      <td>22.459583</td>\n",
              "      <td>21.181500</td>\n",
              "      <td>21.552583</td>\n",
              "      <td>21.438500</td>\n",
              "    </tr>\n",
              "    <tr>\n",
              "      <th>Cairo</th>\n",
              "      <td>21.486167</td>\n",
              "      <td>22.330833</td>\n",
              "      <td>22.414083</td>\n",
              "      <td>22.170500</td>\n",
              "      <td>22.081917</td>\n",
              "      <td>22.006500</td>\n",
              "      <td>22.050000</td>\n",
              "      <td>22.361000</td>\n",
              "      <td>22.644500</td>\n",
              "      <td>22.625000</td>\n",
              "      <td>23.718250</td>\n",
              "      <td>21.986917</td>\n",
              "      <td>22.484250</td>\n",
              "      <td>22.907000</td>\n",
              "    </tr>\n",
              "    <tr>\n",
              "      <th>Gizeh</th>\n",
              "      <td>21.486167</td>\n",
              "      <td>22.330833</td>\n",
              "      <td>22.414083</td>\n",
              "      <td>22.170500</td>\n",
              "      <td>22.081917</td>\n",
              "      <td>22.006500</td>\n",
              "      <td>22.050000</td>\n",
              "      <td>22.361000</td>\n",
              "      <td>22.644500</td>\n",
              "      <td>22.625000</td>\n",
              "      <td>23.718250</td>\n",
              "      <td>21.986917</td>\n",
              "      <td>22.484250</td>\n",
              "      <td>22.907000</td>\n",
              "    </tr>\n",
              "    <tr>\n",
              "      <th>Ethiopia</th>\n",
              "      <th>Addis Abeba</th>\n",
              "      <td>18.241250</td>\n",
              "      <td>18.296417</td>\n",
              "      <td>18.469750</td>\n",
              "      <td>18.320917</td>\n",
              "      <td>18.292750</td>\n",
              "      <td>18.312833</td>\n",
              "      <td>18.427083</td>\n",
              "      <td>18.142583</td>\n",
              "      <td>18.165000</td>\n",
              "      <td>18.765333</td>\n",
              "      <td>18.298250</td>\n",
              "      <td>18.606750</td>\n",
              "      <td>18.448583</td>\n",
              "      <td>19.539000</td>\n",
              "    </tr>\n",
              "    <tr>\n",
              "      <th>France</th>\n",
              "      <th>Paris</th>\n",
              "      <td>11.739667</td>\n",
              "      <td>11.371250</td>\n",
              "      <td>11.871333</td>\n",
              "      <td>11.909500</td>\n",
              "      <td>11.338833</td>\n",
              "      <td>11.552917</td>\n",
              "      <td>11.788500</td>\n",
              "      <td>11.750833</td>\n",
              "      <td>11.278250</td>\n",
              "      <td>11.464083</td>\n",
              "      <td>10.409833</td>\n",
              "      <td>12.325750</td>\n",
              "      <td>11.219917</td>\n",
              "      <td>11.011625</td>\n",
              "    </tr>\n",
              "    <tr>\n",
              "      <th>Germany</th>\n",
              "      <th>Berlin</th>\n",
              "      <td>10.963667</td>\n",
              "      <td>9.690250</td>\n",
              "      <td>10.264417</td>\n",
              "      <td>10.065750</td>\n",
              "      <td>9.822583</td>\n",
              "      <td>9.919083</td>\n",
              "      <td>10.545333</td>\n",
              "      <td>10.883167</td>\n",
              "      <td>10.657750</td>\n",
              "      <td>10.062500</td>\n",
              "      <td>8.606833</td>\n",
              "      <td>10.556417</td>\n",
              "      <td>9.964333</td>\n",
              "      <td>10.121500</td>\n",
              "    </tr>\n",
              "    <tr>\n",
              "      <th rowspan=\"14\" valign=\"top\">India</th>\n",
              "      <th>Ahmadabad</th>\n",
              "      <td>27.436000</td>\n",
              "      <td>27.198083</td>\n",
              "      <td>27.719083</td>\n",
              "      <td>27.403833</td>\n",
              "      <td>27.628333</td>\n",
              "      <td>26.828083</td>\n",
              "      <td>27.282833</td>\n",
              "      <td>27.511167</td>\n",
              "      <td>27.048500</td>\n",
              "      <td>28.095833</td>\n",
              "      <td>28.017833</td>\n",
              "      <td>27.290417</td>\n",
              "      <td>27.027250</td>\n",
              "      <td>27.608625</td>\n",
              "    </tr>\n",
              "    <tr>\n",
              "      <th>Bangalore</th>\n",
              "      <td>25.337917</td>\n",
              "      <td>25.528167</td>\n",
              "      <td>25.755333</td>\n",
              "      <td>25.924750</td>\n",
              "      <td>25.252083</td>\n",
              "      <td>25.476500</td>\n",
              "      <td>25.418250</td>\n",
              "      <td>25.464333</td>\n",
              "      <td>25.352583</td>\n",
              "      <td>25.725750</td>\n",
              "      <td>25.705250</td>\n",
              "      <td>25.362083</td>\n",
              "      <td>26.042333</td>\n",
              "      <td>26.610500</td>\n",
              "    </tr>\n",
              "    <tr>\n",
              "      <th>Bombay</th>\n",
              "      <td>27.203667</td>\n",
              "      <td>27.243667</td>\n",
              "      <td>27.628667</td>\n",
              "      <td>27.578417</td>\n",
              "      <td>27.318750</td>\n",
              "      <td>27.035750</td>\n",
              "      <td>27.381500</td>\n",
              "      <td>27.634667</td>\n",
              "      <td>27.177750</td>\n",
              "      <td>27.844500</td>\n",
              "      <td>27.765417</td>\n",
              "      <td>27.384917</td>\n",
              "      <td>27.192500</td>\n",
              "      <td>26.713000</td>\n",
              "    </tr>\n",
              "    <tr>\n",
              "      <th>Calcutta</th>\n",
              "      <td>26.491333</td>\n",
              "      <td>26.515167</td>\n",
              "      <td>26.703917</td>\n",
              "      <td>26.561333</td>\n",
              "      <td>26.634333</td>\n",
              "      <td>26.729167</td>\n",
              "      <td>26.986250</td>\n",
              "      <td>26.584583</td>\n",
              "      <td>26.522333</td>\n",
              "      <td>27.153250</td>\n",
              "      <td>27.288833</td>\n",
              "      <td>26.406917</td>\n",
              "      <td>26.935083</td>\n",
              "      <td>27.369250</td>\n",
              "    </tr>\n",
              "    <tr>\n",
              "      <th>Delhi</th>\n",
              "      <td>26.048333</td>\n",
              "      <td>25.862917</td>\n",
              "      <td>26.634333</td>\n",
              "      <td>25.721083</td>\n",
              "      <td>26.239917</td>\n",
              "      <td>25.716083</td>\n",
              "      <td>26.365917</td>\n",
              "      <td>26.145667</td>\n",
              "      <td>25.675000</td>\n",
              "      <td>26.554250</td>\n",
              "      <td>26.520250</td>\n",
              "      <td>25.629500</td>\n",
              "      <td>25.889417</td>\n",
              "      <td>26.709250</td>\n",
              "    </tr>\n",
              "    <tr>\n",
              "      <th>Hyderabad</th>\n",
              "      <td>27.231833</td>\n",
              "      <td>27.555167</td>\n",
              "      <td>27.665167</td>\n",
              "      <td>27.844583</td>\n",
              "      <td>27.228500</td>\n",
              "      <td>27.488833</td>\n",
              "      <td>27.471000</td>\n",
              "      <td>27.545333</td>\n",
              "      <td>27.446667</td>\n",
              "      <td>28.026500</td>\n",
              "      <td>27.693417</td>\n",
              "      <td>27.408833</td>\n",
              "      <td>28.018583</td>\n",
              "      <td>28.851250</td>\n",
              "    </tr>\n",
              "    <tr>\n",
              "      <th>Jaipur</th>\n",
              "      <td>26.430250</td>\n",
              "      <td>26.023000</td>\n",
              "      <td>27.031667</td>\n",
              "      <td>26.027417</td>\n",
              "      <td>26.642167</td>\n",
              "      <td>25.772250</td>\n",
              "      <td>26.429833</td>\n",
              "      <td>26.267000</td>\n",
              "      <td>25.877583</td>\n",
              "      <td>26.919500</td>\n",
              "      <td>26.818417</td>\n",
              "      <td>25.916500</td>\n",
              "      <td>25.884500</td>\n",
              "      <td>26.844125</td>\n",
              "    </tr>\n",
              "    <tr>\n",
              "      <th>Kanpur</th>\n",
              "      <td>25.353917</td>\n",
              "      <td>25.326500</td>\n",
              "      <td>26.116833</td>\n",
              "      <td>25.409083</td>\n",
              "      <td>25.586500</td>\n",
              "      <td>25.621500</td>\n",
              "      <td>25.848833</td>\n",
              "      <td>25.436083</td>\n",
              "      <td>25.109750</td>\n",
              "      <td>25.987083</td>\n",
              "      <td>26.021750</td>\n",
              "      <td>25.062083</td>\n",
              "      <td>25.445417</td>\n",
              "      <td>26.121250</td>\n",
              "    </tr>\n",
              "    <tr>\n",
              "      <th>Lakhnau</th>\n",
              "      <td>25.353917</td>\n",
              "      <td>25.326500</td>\n",
              "      <td>26.116833</td>\n",
              "      <td>25.409083</td>\n",
              "      <td>25.586500</td>\n",
              "      <td>25.621500</td>\n",
              "      <td>25.848833</td>\n",
              "      <td>25.436083</td>\n",
              "      <td>25.109750</td>\n",
              "      <td>25.987083</td>\n",
              "      <td>26.021750</td>\n",
              "      <td>25.062083</td>\n",
              "      <td>25.445417</td>\n",
              "      <td>26.121250</td>\n",
              "    </tr>\n",
              "    <tr>\n",
              "      <th>Madras</th>\n",
              "      <td>28.811667</td>\n",
              "      <td>29.162917</td>\n",
              "      <td>29.246500</td>\n",
              "      <td>29.273083</td>\n",
              "      <td>28.810917</td>\n",
              "      <td>29.099417</td>\n",
              "      <td>29.073250</td>\n",
              "      <td>28.970167</td>\n",
              "      <td>29.024083</td>\n",
              "      <td>29.417417</td>\n",
              "      <td>29.047333</td>\n",
              "      <td>29.063167</td>\n",
              "      <td>29.778417</td>\n",
              "      <td>30.411750</td>\n",
              "    </tr>\n",
              "    <tr>\n",
              "      <th>Nagpur</th>\n",
              "      <td>26.181417</td>\n",
              "      <td>26.321667</td>\n",
              "      <td>26.753000</td>\n",
              "      <td>26.503833</td>\n",
              "      <td>26.406333</td>\n",
              "      <td>26.229167</td>\n",
              "      <td>26.374833</td>\n",
              "      <td>26.393667</td>\n",
              "      <td>26.188000</td>\n",
              "      <td>27.138917</td>\n",
              "      <td>26.927000</td>\n",
              "      <td>26.004667</td>\n",
              "      <td>26.327917</td>\n",
              "      <td>27.112375</td>\n",
              "    </tr>\n",
              "    <tr>\n",
              "      <th>New Delhi</th>\n",
              "      <td>26.048333</td>\n",
              "      <td>25.862917</td>\n",
              "      <td>26.634333</td>\n",
              "      <td>25.721083</td>\n",
              "      <td>26.239917</td>\n",
              "      <td>25.716083</td>\n",
              "      <td>26.365917</td>\n",
              "      <td>26.145667</td>\n",
              "      <td>25.675000</td>\n",
              "      <td>26.554250</td>\n",
              "      <td>26.520250</td>\n",
              "      <td>25.629500</td>\n",
              "      <td>25.889417</td>\n",
              "      <td>26.709250</td>\n",
              "    </tr>\n",
              "    <tr>\n",
              "      <th>Pune</th>\n",
              "      <td>25.110917</td>\n",
              "      <td>25.337833</td>\n",
              "      <td>25.583000</td>\n",
              "      <td>25.748417</td>\n",
              "      <td>25.316167</td>\n",
              "      <td>25.085583</td>\n",
              "      <td>25.310167</td>\n",
              "      <td>25.584833</td>\n",
              "      <td>25.230250</td>\n",
              "      <td>25.868250</td>\n",
              "      <td>25.749167</td>\n",
              "      <td>25.161417</td>\n",
              "      <td>25.296833</td>\n",
              "      <td>25.847625</td>\n",
              "    </tr>\n",
              "    <tr>\n",
              "      <th>Surat</th>\n",
              "      <td>27.029000</td>\n",
              "      <td>26.897250</td>\n",
              "      <td>27.347750</td>\n",
              "      <td>27.230917</td>\n",
              "      <td>27.290583</td>\n",
              "      <td>26.724500</td>\n",
              "      <td>27.149417</td>\n",
              "      <td>27.311750</td>\n",
              "      <td>26.828750</td>\n",
              "      <td>27.819833</td>\n",
              "      <td>27.681667</td>\n",
              "      <td>27.016583</td>\n",
              "      <td>26.889250</td>\n",
              "      <td>27.437750</td>\n",
              "    </tr>\n",
              "  </tbody>\n",
              "</table>\n",
              "</div>"
            ],
            "text/plain": [
              "year                       2000       2001       2002       2003       2004  \\\n",
              "country  city                                                                 \n",
              "Egypt    Alexandria   20.744500  21.454583  21.456167  21.221417  21.064167   \n",
              "         Cairo        21.486167  22.330833  22.414083  22.170500  22.081917   \n",
              "         Gizeh        21.486167  22.330833  22.414083  22.170500  22.081917   \n",
              "Ethiopia Addis Abeba  18.241250  18.296417  18.469750  18.320917  18.292750   \n",
              "France   Paris        11.739667  11.371250  11.871333  11.909500  11.338833   \n",
              "Germany  Berlin       10.963667   9.690250  10.264417  10.065750   9.822583   \n",
              "India    Ahmadabad    27.436000  27.198083  27.719083  27.403833  27.628333   \n",
              "         Bangalore    25.337917  25.528167  25.755333  25.924750  25.252083   \n",
              "         Bombay       27.203667  27.243667  27.628667  27.578417  27.318750   \n",
              "         Calcutta     26.491333  26.515167  26.703917  26.561333  26.634333   \n",
              "         Delhi        26.048333  25.862917  26.634333  25.721083  26.239917   \n",
              "         Hyderabad    27.231833  27.555167  27.665167  27.844583  27.228500   \n",
              "         Jaipur       26.430250  26.023000  27.031667  26.027417  26.642167   \n",
              "         Kanpur       25.353917  25.326500  26.116833  25.409083  25.586500   \n",
              "         Lakhnau      25.353917  25.326500  26.116833  25.409083  25.586500   \n",
              "         Madras       28.811667  29.162917  29.246500  29.273083  28.810917   \n",
              "         Nagpur       26.181417  26.321667  26.753000  26.503833  26.406333   \n",
              "         New Delhi    26.048333  25.862917  26.634333  25.721083  26.239917   \n",
              "         Pune         25.110917  25.337833  25.583000  25.748417  25.316167   \n",
              "         Surat        27.029000  26.897250  27.347750  27.230917  27.290583   \n",
              "\n",
              "year                       2005       2006       2007       2008       2009  \\\n",
              "country  city                                                                 \n",
              "Egypt    Alexandria   21.082333  21.148167  21.507750  21.739000  21.670500   \n",
              "         Cairo        22.006500  22.050000  22.361000  22.644500  22.625000   \n",
              "         Gizeh        22.006500  22.050000  22.361000  22.644500  22.625000   \n",
              "Ethiopia Addis Abeba  18.312833  18.427083  18.142583  18.165000  18.765333   \n",
              "France   Paris        11.552917  11.788500  11.750833  11.278250  11.464083   \n",
              "Germany  Berlin        9.919083  10.545333  10.883167  10.657750  10.062500   \n",
              "India    Ahmadabad    26.828083  27.282833  27.511167  27.048500  28.095833   \n",
              "         Bangalore    25.476500  25.418250  25.464333  25.352583  25.725750   \n",
              "         Bombay       27.035750  27.381500  27.634667  27.177750  27.844500   \n",
              "         Calcutta     26.729167  26.986250  26.584583  26.522333  27.153250   \n",
              "         Delhi        25.716083  26.365917  26.145667  25.675000  26.554250   \n",
              "         Hyderabad    27.488833  27.471000  27.545333  27.446667  28.026500   \n",
              "         Jaipur       25.772250  26.429833  26.267000  25.877583  26.919500   \n",
              "         Kanpur       25.621500  25.848833  25.436083  25.109750  25.987083   \n",
              "         Lakhnau      25.621500  25.848833  25.436083  25.109750  25.987083   \n",
              "         Madras       29.099417  29.073250  28.970167  29.024083  29.417417   \n",
              "         Nagpur       26.229167  26.374833  26.393667  26.188000  27.138917   \n",
              "         New Delhi    25.716083  26.365917  26.145667  25.675000  26.554250   \n",
              "         Pune         25.085583  25.310167  25.584833  25.230250  25.868250   \n",
              "         Surat        26.724500  27.149417  27.311750  26.828750  27.819833   \n",
              "\n",
              "year                       2010       2011       2012       2013  \n",
              "country  city                                                     \n",
              "Egypt    Alexandria   22.459583  21.181500  21.552583  21.438500  \n",
              "         Cairo        23.718250  21.986917  22.484250  22.907000  \n",
              "         Gizeh        23.718250  21.986917  22.484250  22.907000  \n",
              "Ethiopia Addis Abeba  18.298250  18.606750  18.448583  19.539000  \n",
              "France   Paris        10.409833  12.325750  11.219917  11.011625  \n",
              "Germany  Berlin        8.606833  10.556417   9.964333  10.121500  \n",
              "India    Ahmadabad    28.017833  27.290417  27.027250  27.608625  \n",
              "         Bangalore    25.705250  25.362083  26.042333  26.610500  \n",
              "         Bombay       27.765417  27.384917  27.192500  26.713000  \n",
              "         Calcutta     27.288833  26.406917  26.935083  27.369250  \n",
              "         Delhi        26.520250  25.629500  25.889417  26.709250  \n",
              "         Hyderabad    27.693417  27.408833  28.018583  28.851250  \n",
              "         Jaipur       26.818417  25.916500  25.884500  26.844125  \n",
              "         Kanpur       26.021750  25.062083  25.445417  26.121250  \n",
              "         Lakhnau      26.021750  25.062083  25.445417  26.121250  \n",
              "         Madras       29.047333  29.063167  29.778417  30.411750  \n",
              "         Nagpur       26.927000  26.004667  26.327917  27.112375  \n",
              "         New Delhi    26.520250  25.629500  25.889417  26.709250  \n",
              "         Pune         25.749167  25.161417  25.296833  25.847625  \n",
              "         Surat        27.681667  27.016583  26.889250  27.437750  "
            ]
          },
          "execution_count": 83,
          "metadata": {},
          "output_type": "execute_result"
        }
      ],
      "source": [
        "# Subset for Egypt to India\n",
        "temp_by_country_city_vs_year.loc[\"Egypt\":\"India\"]"
      ]
    },
    {
      "cell_type": "code",
      "execution_count": 84,
      "id": "5523c0af",
      "metadata": {},
      "outputs": [
        {
          "data": {
            "application/vnd.microsoft.datawrangler.viewer.v0+json": {
              "columns": [
                {
                  "name": "('country', 'city')",
                  "rawType": "object",
                  "type": "unknown"
                },
                {
                  "name": "2000",
                  "rawType": "float64",
                  "type": "float"
                },
                {
                  "name": "2001",
                  "rawType": "float64",
                  "type": "float"
                },
                {
                  "name": "2002",
                  "rawType": "float64",
                  "type": "float"
                },
                {
                  "name": "2003",
                  "rawType": "float64",
                  "type": "float"
                },
                {
                  "name": "2004",
                  "rawType": "float64",
                  "type": "float"
                },
                {
                  "name": "2005",
                  "rawType": "float64",
                  "type": "float"
                },
                {
                  "name": "2006",
                  "rawType": "float64",
                  "type": "float"
                },
                {
                  "name": "2007",
                  "rawType": "float64",
                  "type": "float"
                },
                {
                  "name": "2008",
                  "rawType": "float64",
                  "type": "float"
                },
                {
                  "name": "2009",
                  "rawType": "float64",
                  "type": "float"
                },
                {
                  "name": "2010",
                  "rawType": "float64",
                  "type": "float"
                },
                {
                  "name": "2011",
                  "rawType": "float64",
                  "type": "float"
                },
                {
                  "name": "2012",
                  "rawType": "float64",
                  "type": "float"
                },
                {
                  "name": "2013",
                  "rawType": "float64",
                  "type": "float"
                }
              ],
              "ref": "400930c7-6bef-4ba3-8e44-82e401ee21cd",
              "rows": [
                [
                  "('Egypt', 'Cairo')",
                  "21.486166666666666",
                  "22.330833333333334",
                  "22.414083333333334",
                  "22.1705",
                  "22.081916666666668",
                  "22.006500000000003",
                  "22.05",
                  "22.361",
                  "22.644499999999997",
                  "22.625",
                  "23.71825",
                  "21.98691666666667",
                  "22.48425",
                  "22.907"
                ],
                [
                  "('Egypt', 'Gizeh')",
                  "21.486166666666666",
                  "22.330833333333334",
                  "22.414083333333334",
                  "22.1705",
                  "22.081916666666668",
                  "22.006500000000003",
                  "22.05",
                  "22.361",
                  "22.644499999999997",
                  "22.625",
                  "23.71825",
                  "21.98691666666667",
                  "22.48425",
                  "22.907"
                ],
                [
                  "('Ethiopia', 'Addis Abeba')",
                  "18.24125",
                  "18.29641666666667",
                  "18.46975",
                  "18.320916666666665",
                  "18.29275",
                  "18.312833333333334",
                  "18.427083333333332",
                  "18.142583333333334",
                  "18.165",
                  "18.765333333333334",
                  "18.29825",
                  "18.60675",
                  "18.448583333333335",
                  "19.539"
                ],
                [
                  "('France', 'Paris')",
                  "11.739666666666666",
                  "11.371250000000002",
                  "11.871333333333332",
                  "11.9095",
                  "11.338833333333334",
                  "11.552916666666667",
                  "11.788499999999999",
                  "11.750833333333334",
                  "11.27825",
                  "11.464083333333333",
                  "10.409833333333333",
                  "12.325750000000001",
                  "11.219916666666668",
                  "11.011624999999999"
                ],
                [
                  "('Germany', 'Berlin')",
                  "10.963666666666667",
                  "9.69025",
                  "10.264416666666667",
                  "10.06575",
                  "9.822583333333332",
                  "9.919083333333335",
                  "10.545333333333334",
                  "10.883166666666668",
                  "10.65775",
                  "10.0625",
                  "8.606833333333332",
                  "10.556416666666667",
                  "9.964333333333334",
                  "10.1215"
                ],
                [
                  "('India', 'Ahmadabad')",
                  "27.436000000000003",
                  "27.198083333333333",
                  "27.719083333333334",
                  "27.403833333333335",
                  "27.628333333333334",
                  "26.828083333333336",
                  "27.282833333333333",
                  "27.511166666666668",
                  "27.0485",
                  "28.095833333333335",
                  "28.017833333333332",
                  "27.29041666666667",
                  "27.02725",
                  "27.608625000000004"
                ],
                [
                  "('India', 'Bangalore')",
                  "25.33791666666667",
                  "25.528166666666667",
                  "25.755333333333336",
                  "25.924750000000003",
                  "25.25208333333333",
                  "25.4765",
                  "25.41825",
                  "25.464333333333332",
                  "25.35258333333333",
                  "25.72575",
                  "25.705250000000003",
                  "25.362083333333334",
                  "26.042333333333335",
                  "26.610500000000002"
                ],
                [
                  "('India', 'Bombay')",
                  "27.203666666666667",
                  "27.24366666666667",
                  "27.628666666666664",
                  "27.578416666666666",
                  "27.318749999999998",
                  "27.035750000000004",
                  "27.381500000000003",
                  "27.634666666666664",
                  "27.177750000000003",
                  "27.8445",
                  "27.765416666666667",
                  "27.38491666666667",
                  "27.192500000000006",
                  "26.713"
                ],
                [
                  "('India', 'Calcutta')",
                  "26.491333333333333",
                  "26.51516666666667",
                  "26.703916666666668",
                  "26.561333333333334",
                  "26.634333333333334",
                  "26.729166666666668",
                  "26.98625",
                  "26.58458333333333",
                  "26.522333333333336",
                  "27.15325",
                  "27.288833333333333",
                  "26.40691666666667",
                  "26.935083333333335",
                  "27.36925"
                ],
                [
                  "('India', 'Delhi')",
                  "26.048333333333332",
                  "25.862916666666667",
                  "26.634333333333334",
                  "25.721083333333336",
                  "26.23991666666667",
                  "25.716083333333334",
                  "26.365916666666667",
                  "26.145666666666667",
                  "25.675",
                  "26.55425",
                  "26.52025",
                  "25.629500000000004",
                  "25.889416666666666",
                  "26.70925"
                ]
              ],
              "shape": {
                "columns": 14,
                "rows": 10
              }
            },
            "text/html": [
              "<div>\n",
              "<style scoped>\n",
              "    .dataframe tbody tr th:only-of-type {\n",
              "        vertical-align: middle;\n",
              "    }\n",
              "\n",
              "    .dataframe tbody tr th {\n",
              "        vertical-align: top;\n",
              "    }\n",
              "\n",
              "    .dataframe thead th {\n",
              "        text-align: right;\n",
              "    }\n",
              "</style>\n",
              "<table border=\"1\" class=\"dataframe\">\n",
              "  <thead>\n",
              "    <tr style=\"text-align: right;\">\n",
              "      <th></th>\n",
              "      <th>year</th>\n",
              "      <th>2000</th>\n",
              "      <th>2001</th>\n",
              "      <th>2002</th>\n",
              "      <th>2003</th>\n",
              "      <th>2004</th>\n",
              "      <th>2005</th>\n",
              "      <th>2006</th>\n",
              "      <th>2007</th>\n",
              "      <th>2008</th>\n",
              "      <th>2009</th>\n",
              "      <th>2010</th>\n",
              "      <th>2011</th>\n",
              "      <th>2012</th>\n",
              "      <th>2013</th>\n",
              "    </tr>\n",
              "    <tr>\n",
              "      <th>country</th>\n",
              "      <th>city</th>\n",
              "      <th></th>\n",
              "      <th></th>\n",
              "      <th></th>\n",
              "      <th></th>\n",
              "      <th></th>\n",
              "      <th></th>\n",
              "      <th></th>\n",
              "      <th></th>\n",
              "      <th></th>\n",
              "      <th></th>\n",
              "      <th></th>\n",
              "      <th></th>\n",
              "      <th></th>\n",
              "      <th></th>\n",
              "    </tr>\n",
              "  </thead>\n",
              "  <tbody>\n",
              "    <tr>\n",
              "      <th rowspan=\"2\" valign=\"top\">Egypt</th>\n",
              "      <th>Cairo</th>\n",
              "      <td>21.486167</td>\n",
              "      <td>22.330833</td>\n",
              "      <td>22.414083</td>\n",
              "      <td>22.170500</td>\n",
              "      <td>22.081917</td>\n",
              "      <td>22.006500</td>\n",
              "      <td>22.050000</td>\n",
              "      <td>22.361000</td>\n",
              "      <td>22.644500</td>\n",
              "      <td>22.625000</td>\n",
              "      <td>23.718250</td>\n",
              "      <td>21.986917</td>\n",
              "      <td>22.484250</td>\n",
              "      <td>22.907000</td>\n",
              "    </tr>\n",
              "    <tr>\n",
              "      <th>Gizeh</th>\n",
              "      <td>21.486167</td>\n",
              "      <td>22.330833</td>\n",
              "      <td>22.414083</td>\n",
              "      <td>22.170500</td>\n",
              "      <td>22.081917</td>\n",
              "      <td>22.006500</td>\n",
              "      <td>22.050000</td>\n",
              "      <td>22.361000</td>\n",
              "      <td>22.644500</td>\n",
              "      <td>22.625000</td>\n",
              "      <td>23.718250</td>\n",
              "      <td>21.986917</td>\n",
              "      <td>22.484250</td>\n",
              "      <td>22.907000</td>\n",
              "    </tr>\n",
              "    <tr>\n",
              "      <th>Ethiopia</th>\n",
              "      <th>Addis Abeba</th>\n",
              "      <td>18.241250</td>\n",
              "      <td>18.296417</td>\n",
              "      <td>18.469750</td>\n",
              "      <td>18.320917</td>\n",
              "      <td>18.292750</td>\n",
              "      <td>18.312833</td>\n",
              "      <td>18.427083</td>\n",
              "      <td>18.142583</td>\n",
              "      <td>18.165000</td>\n",
              "      <td>18.765333</td>\n",
              "      <td>18.298250</td>\n",
              "      <td>18.606750</td>\n",
              "      <td>18.448583</td>\n",
              "      <td>19.539000</td>\n",
              "    </tr>\n",
              "    <tr>\n",
              "      <th>France</th>\n",
              "      <th>Paris</th>\n",
              "      <td>11.739667</td>\n",
              "      <td>11.371250</td>\n",
              "      <td>11.871333</td>\n",
              "      <td>11.909500</td>\n",
              "      <td>11.338833</td>\n",
              "      <td>11.552917</td>\n",
              "      <td>11.788500</td>\n",
              "      <td>11.750833</td>\n",
              "      <td>11.278250</td>\n",
              "      <td>11.464083</td>\n",
              "      <td>10.409833</td>\n",
              "      <td>12.325750</td>\n",
              "      <td>11.219917</td>\n",
              "      <td>11.011625</td>\n",
              "    </tr>\n",
              "    <tr>\n",
              "      <th>Germany</th>\n",
              "      <th>Berlin</th>\n",
              "      <td>10.963667</td>\n",
              "      <td>9.690250</td>\n",
              "      <td>10.264417</td>\n",
              "      <td>10.065750</td>\n",
              "      <td>9.822583</td>\n",
              "      <td>9.919083</td>\n",
              "      <td>10.545333</td>\n",
              "      <td>10.883167</td>\n",
              "      <td>10.657750</td>\n",
              "      <td>10.062500</td>\n",
              "      <td>8.606833</td>\n",
              "      <td>10.556417</td>\n",
              "      <td>9.964333</td>\n",
              "      <td>10.121500</td>\n",
              "    </tr>\n",
              "    <tr>\n",
              "      <th rowspan=\"5\" valign=\"top\">India</th>\n",
              "      <th>Ahmadabad</th>\n",
              "      <td>27.436000</td>\n",
              "      <td>27.198083</td>\n",
              "      <td>27.719083</td>\n",
              "      <td>27.403833</td>\n",
              "      <td>27.628333</td>\n",
              "      <td>26.828083</td>\n",
              "      <td>27.282833</td>\n",
              "      <td>27.511167</td>\n",
              "      <td>27.048500</td>\n",
              "      <td>28.095833</td>\n",
              "      <td>28.017833</td>\n",
              "      <td>27.290417</td>\n",
              "      <td>27.027250</td>\n",
              "      <td>27.608625</td>\n",
              "    </tr>\n",
              "    <tr>\n",
              "      <th>Bangalore</th>\n",
              "      <td>25.337917</td>\n",
              "      <td>25.528167</td>\n",
              "      <td>25.755333</td>\n",
              "      <td>25.924750</td>\n",
              "      <td>25.252083</td>\n",
              "      <td>25.476500</td>\n",
              "      <td>25.418250</td>\n",
              "      <td>25.464333</td>\n",
              "      <td>25.352583</td>\n",
              "      <td>25.725750</td>\n",
              "      <td>25.705250</td>\n",
              "      <td>25.362083</td>\n",
              "      <td>26.042333</td>\n",
              "      <td>26.610500</td>\n",
              "    </tr>\n",
              "    <tr>\n",
              "      <th>Bombay</th>\n",
              "      <td>27.203667</td>\n",
              "      <td>27.243667</td>\n",
              "      <td>27.628667</td>\n",
              "      <td>27.578417</td>\n",
              "      <td>27.318750</td>\n",
              "      <td>27.035750</td>\n",
              "      <td>27.381500</td>\n",
              "      <td>27.634667</td>\n",
              "      <td>27.177750</td>\n",
              "      <td>27.844500</td>\n",
              "      <td>27.765417</td>\n",
              "      <td>27.384917</td>\n",
              "      <td>27.192500</td>\n",
              "      <td>26.713000</td>\n",
              "    </tr>\n",
              "    <tr>\n",
              "      <th>Calcutta</th>\n",
              "      <td>26.491333</td>\n",
              "      <td>26.515167</td>\n",
              "      <td>26.703917</td>\n",
              "      <td>26.561333</td>\n",
              "      <td>26.634333</td>\n",
              "      <td>26.729167</td>\n",
              "      <td>26.986250</td>\n",
              "      <td>26.584583</td>\n",
              "      <td>26.522333</td>\n",
              "      <td>27.153250</td>\n",
              "      <td>27.288833</td>\n",
              "      <td>26.406917</td>\n",
              "      <td>26.935083</td>\n",
              "      <td>27.369250</td>\n",
              "    </tr>\n",
              "    <tr>\n",
              "      <th>Delhi</th>\n",
              "      <td>26.048333</td>\n",
              "      <td>25.862917</td>\n",
              "      <td>26.634333</td>\n",
              "      <td>25.721083</td>\n",
              "      <td>26.239917</td>\n",
              "      <td>25.716083</td>\n",
              "      <td>26.365917</td>\n",
              "      <td>26.145667</td>\n",
              "      <td>25.675000</td>\n",
              "      <td>26.554250</td>\n",
              "      <td>26.520250</td>\n",
              "      <td>25.629500</td>\n",
              "      <td>25.889417</td>\n",
              "      <td>26.709250</td>\n",
              "    </tr>\n",
              "  </tbody>\n",
              "</table>\n",
              "</div>"
            ],
            "text/plain": [
              "year                       2000       2001       2002       2003       2004  \\\n",
              "country  city                                                                 \n",
              "Egypt    Cairo        21.486167  22.330833  22.414083  22.170500  22.081917   \n",
              "         Gizeh        21.486167  22.330833  22.414083  22.170500  22.081917   \n",
              "Ethiopia Addis Abeba  18.241250  18.296417  18.469750  18.320917  18.292750   \n",
              "France   Paris        11.739667  11.371250  11.871333  11.909500  11.338833   \n",
              "Germany  Berlin       10.963667   9.690250  10.264417  10.065750   9.822583   \n",
              "India    Ahmadabad    27.436000  27.198083  27.719083  27.403833  27.628333   \n",
              "         Bangalore    25.337917  25.528167  25.755333  25.924750  25.252083   \n",
              "         Bombay       27.203667  27.243667  27.628667  27.578417  27.318750   \n",
              "         Calcutta     26.491333  26.515167  26.703917  26.561333  26.634333   \n",
              "         Delhi        26.048333  25.862917  26.634333  25.721083  26.239917   \n",
              "\n",
              "year                       2005       2006       2007       2008       2009  \\\n",
              "country  city                                                                 \n",
              "Egypt    Cairo        22.006500  22.050000  22.361000  22.644500  22.625000   \n",
              "         Gizeh        22.006500  22.050000  22.361000  22.644500  22.625000   \n",
              "Ethiopia Addis Abeba  18.312833  18.427083  18.142583  18.165000  18.765333   \n",
              "France   Paris        11.552917  11.788500  11.750833  11.278250  11.464083   \n",
              "Germany  Berlin        9.919083  10.545333  10.883167  10.657750  10.062500   \n",
              "India    Ahmadabad    26.828083  27.282833  27.511167  27.048500  28.095833   \n",
              "         Bangalore    25.476500  25.418250  25.464333  25.352583  25.725750   \n",
              "         Bombay       27.035750  27.381500  27.634667  27.177750  27.844500   \n",
              "         Calcutta     26.729167  26.986250  26.584583  26.522333  27.153250   \n",
              "         Delhi        25.716083  26.365917  26.145667  25.675000  26.554250   \n",
              "\n",
              "year                       2010       2011       2012       2013  \n",
              "country  city                                                     \n",
              "Egypt    Cairo        23.718250  21.986917  22.484250  22.907000  \n",
              "         Gizeh        23.718250  21.986917  22.484250  22.907000  \n",
              "Ethiopia Addis Abeba  18.298250  18.606750  18.448583  19.539000  \n",
              "France   Paris        10.409833  12.325750  11.219917  11.011625  \n",
              "Germany  Berlin        8.606833  10.556417   9.964333  10.121500  \n",
              "India    Ahmadabad    28.017833  27.290417  27.027250  27.608625  \n",
              "         Bangalore    25.705250  25.362083  26.042333  26.610500  \n",
              "         Bombay       27.765417  27.384917  27.192500  26.713000  \n",
              "         Calcutta     27.288833  26.406917  26.935083  27.369250  \n",
              "         Delhi        26.520250  25.629500  25.889417  26.709250  "
            ]
          },
          "execution_count": 84,
          "metadata": {},
          "output_type": "execute_result"
        }
      ],
      "source": [
        "# Subset for Egypt, Cairo to India, Delhi\n",
        "temp_by_country_city_vs_year.loc[\n",
        "    (\"Egypt\", \"Cairo\"):(\"India\", \"Delhi\")\n",
        "]"
      ]
    },
    {
      "cell_type": "code",
      "execution_count": 85,
      "id": "74004b7f",
      "metadata": {},
      "outputs": [
        {
          "data": {
            "application/vnd.microsoft.datawrangler.viewer.v0+json": {
              "columns": [
                {
                  "name": "('country', 'city')",
                  "rawType": "object",
                  "type": "unknown"
                },
                {
                  "name": "2005",
                  "rawType": "float64",
                  "type": "float"
                },
                {
                  "name": "2006",
                  "rawType": "float64",
                  "type": "float"
                },
                {
                  "name": "2007",
                  "rawType": "float64",
                  "type": "float"
                },
                {
                  "name": "2008",
                  "rawType": "float64",
                  "type": "float"
                },
                {
                  "name": "2009",
                  "rawType": "float64",
                  "type": "float"
                },
                {
                  "name": "2010",
                  "rawType": "float64",
                  "type": "float"
                }
              ],
              "ref": "65419906-6103-4220-b09c-a69ac9db4897",
              "rows": [
                [
                  "('Egypt', 'Cairo')",
                  "22.006500000000003",
                  "22.05",
                  "22.361",
                  "22.644499999999997",
                  "22.625",
                  "23.71825"
                ],
                [
                  "('Egypt', 'Gizeh')",
                  "22.006500000000003",
                  "22.05",
                  "22.361",
                  "22.644499999999997",
                  "22.625",
                  "23.71825"
                ],
                [
                  "('Ethiopia', 'Addis Abeba')",
                  "18.312833333333334",
                  "18.427083333333332",
                  "18.142583333333334",
                  "18.165",
                  "18.765333333333334",
                  "18.29825"
                ],
                [
                  "('France', 'Paris')",
                  "11.552916666666667",
                  "11.788499999999999",
                  "11.750833333333334",
                  "11.27825",
                  "11.464083333333333",
                  "10.409833333333333"
                ],
                [
                  "('Germany', 'Berlin')",
                  "9.919083333333335",
                  "10.545333333333334",
                  "10.883166666666668",
                  "10.65775",
                  "10.0625",
                  "8.606833333333332"
                ],
                [
                  "('India', 'Ahmadabad')",
                  "26.828083333333336",
                  "27.282833333333333",
                  "27.511166666666668",
                  "27.0485",
                  "28.095833333333335",
                  "28.017833333333332"
                ],
                [
                  "('India', 'Bangalore')",
                  "25.4765",
                  "25.41825",
                  "25.464333333333332",
                  "25.35258333333333",
                  "25.72575",
                  "25.705250000000003"
                ],
                [
                  "('India', 'Bombay')",
                  "27.035750000000004",
                  "27.381500000000003",
                  "27.634666666666664",
                  "27.177750000000003",
                  "27.8445",
                  "27.765416666666667"
                ],
                [
                  "('India', 'Calcutta')",
                  "26.729166666666668",
                  "26.98625",
                  "26.58458333333333",
                  "26.522333333333336",
                  "27.15325",
                  "27.288833333333333"
                ],
                [
                  "('India', 'Delhi')",
                  "25.716083333333334",
                  "26.365916666666667",
                  "26.145666666666667",
                  "25.675",
                  "26.55425",
                  "26.52025"
                ]
              ],
              "shape": {
                "columns": 6,
                "rows": 10
              }
            },
            "text/html": [
              "<div>\n",
              "<style scoped>\n",
              "    .dataframe tbody tr th:only-of-type {\n",
              "        vertical-align: middle;\n",
              "    }\n",
              "\n",
              "    .dataframe tbody tr th {\n",
              "        vertical-align: top;\n",
              "    }\n",
              "\n",
              "    .dataframe thead th {\n",
              "        text-align: right;\n",
              "    }\n",
              "</style>\n",
              "<table border=\"1\" class=\"dataframe\">\n",
              "  <thead>\n",
              "    <tr style=\"text-align: right;\">\n",
              "      <th></th>\n",
              "      <th>year</th>\n",
              "      <th>2005</th>\n",
              "      <th>2006</th>\n",
              "      <th>2007</th>\n",
              "      <th>2008</th>\n",
              "      <th>2009</th>\n",
              "      <th>2010</th>\n",
              "    </tr>\n",
              "    <tr>\n",
              "      <th>country</th>\n",
              "      <th>city</th>\n",
              "      <th></th>\n",
              "      <th></th>\n",
              "      <th></th>\n",
              "      <th></th>\n",
              "      <th></th>\n",
              "      <th></th>\n",
              "    </tr>\n",
              "  </thead>\n",
              "  <tbody>\n",
              "    <tr>\n",
              "      <th rowspan=\"2\" valign=\"top\">Egypt</th>\n",
              "      <th>Cairo</th>\n",
              "      <td>22.006500</td>\n",
              "      <td>22.050000</td>\n",
              "      <td>22.361000</td>\n",
              "      <td>22.644500</td>\n",
              "      <td>22.625000</td>\n",
              "      <td>23.718250</td>\n",
              "    </tr>\n",
              "    <tr>\n",
              "      <th>Gizeh</th>\n",
              "      <td>22.006500</td>\n",
              "      <td>22.050000</td>\n",
              "      <td>22.361000</td>\n",
              "      <td>22.644500</td>\n",
              "      <td>22.625000</td>\n",
              "      <td>23.718250</td>\n",
              "    </tr>\n",
              "    <tr>\n",
              "      <th>Ethiopia</th>\n",
              "      <th>Addis Abeba</th>\n",
              "      <td>18.312833</td>\n",
              "      <td>18.427083</td>\n",
              "      <td>18.142583</td>\n",
              "      <td>18.165000</td>\n",
              "      <td>18.765333</td>\n",
              "      <td>18.298250</td>\n",
              "    </tr>\n",
              "    <tr>\n",
              "      <th>France</th>\n",
              "      <th>Paris</th>\n",
              "      <td>11.552917</td>\n",
              "      <td>11.788500</td>\n",
              "      <td>11.750833</td>\n",
              "      <td>11.278250</td>\n",
              "      <td>11.464083</td>\n",
              "      <td>10.409833</td>\n",
              "    </tr>\n",
              "    <tr>\n",
              "      <th>Germany</th>\n",
              "      <th>Berlin</th>\n",
              "      <td>9.919083</td>\n",
              "      <td>10.545333</td>\n",
              "      <td>10.883167</td>\n",
              "      <td>10.657750</td>\n",
              "      <td>10.062500</td>\n",
              "      <td>8.606833</td>\n",
              "    </tr>\n",
              "    <tr>\n",
              "      <th rowspan=\"5\" valign=\"top\">India</th>\n",
              "      <th>Ahmadabad</th>\n",
              "      <td>26.828083</td>\n",
              "      <td>27.282833</td>\n",
              "      <td>27.511167</td>\n",
              "      <td>27.048500</td>\n",
              "      <td>28.095833</td>\n",
              "      <td>28.017833</td>\n",
              "    </tr>\n",
              "    <tr>\n",
              "      <th>Bangalore</th>\n",
              "      <td>25.476500</td>\n",
              "      <td>25.418250</td>\n",
              "      <td>25.464333</td>\n",
              "      <td>25.352583</td>\n",
              "      <td>25.725750</td>\n",
              "      <td>25.705250</td>\n",
              "    </tr>\n",
              "    <tr>\n",
              "      <th>Bombay</th>\n",
              "      <td>27.035750</td>\n",
              "      <td>27.381500</td>\n",
              "      <td>27.634667</td>\n",
              "      <td>27.177750</td>\n",
              "      <td>27.844500</td>\n",
              "      <td>27.765417</td>\n",
              "    </tr>\n",
              "    <tr>\n",
              "      <th>Calcutta</th>\n",
              "      <td>26.729167</td>\n",
              "      <td>26.986250</td>\n",
              "      <td>26.584583</td>\n",
              "      <td>26.522333</td>\n",
              "      <td>27.153250</td>\n",
              "      <td>27.288833</td>\n",
              "    </tr>\n",
              "    <tr>\n",
              "      <th>Delhi</th>\n",
              "      <td>25.716083</td>\n",
              "      <td>26.365917</td>\n",
              "      <td>26.145667</td>\n",
              "      <td>25.675000</td>\n",
              "      <td>26.554250</td>\n",
              "      <td>26.520250</td>\n",
              "    </tr>\n",
              "  </tbody>\n",
              "</table>\n",
              "</div>"
            ],
            "text/plain": [
              "year                       2005       2006       2007       2008       2009  \\\n",
              "country  city                                                                 \n",
              "Egypt    Cairo        22.006500  22.050000  22.361000  22.644500  22.625000   \n",
              "         Gizeh        22.006500  22.050000  22.361000  22.644500  22.625000   \n",
              "Ethiopia Addis Abeba  18.312833  18.427083  18.142583  18.165000  18.765333   \n",
              "France   Paris        11.552917  11.788500  11.750833  11.278250  11.464083   \n",
              "Germany  Berlin        9.919083  10.545333  10.883167  10.657750  10.062500   \n",
              "India    Ahmadabad    26.828083  27.282833  27.511167  27.048500  28.095833   \n",
              "         Bangalore    25.476500  25.418250  25.464333  25.352583  25.725750   \n",
              "         Bombay       27.035750  27.381500  27.634667  27.177750  27.844500   \n",
              "         Calcutta     26.729167  26.986250  26.584583  26.522333  27.153250   \n",
              "         Delhi        25.716083  26.365917  26.145667  25.675000  26.554250   \n",
              "\n",
              "year                       2010  \n",
              "country  city                    \n",
              "Egypt    Cairo        23.718250  \n",
              "         Gizeh        23.718250  \n",
              "Ethiopia Addis Abeba  18.298250  \n",
              "France   Paris        10.409833  \n",
              "Germany  Berlin        8.606833  \n",
              "India    Ahmadabad    28.017833  \n",
              "         Bangalore    25.705250  \n",
              "         Bombay       27.765417  \n",
              "         Calcutta     27.288833  \n",
              "         Delhi        26.520250  "
            ]
          },
          "execution_count": 85,
          "metadata": {},
          "output_type": "execute_result"
        }
      ],
      "source": [
        "# Subset for Egypt, Cairo to India, Delhi, and 2005 to 2010\n",
        "temp_by_country_city_vs_year.loc[\n",
        "    (\"Egypt\", \"Cairo\"):(\"India\", \"Delhi\"), 2005:2010\n",
        "]"
      ]
    },
    {
      "cell_type": "markdown",
      "id": "7bfba12a",
      "metadata": {},
      "source": [
        "Calculate the mean temperature for each year, assigning to `mean_temp_by_year`.\n",
        "\n",
        "Filter `mean_temp_by_year` for the year that had the highest mean temperature.\n",
        "\n",
        "Calculate the mean temperature for each city (across columns), assigning to `mean_temp_by_city`.\n",
        "\n",
        "Filter `mean_temp_by_city` for the city that had the lowest mean temperature."
      ]
    },
    {
      "cell_type": "code",
      "execution_count": 86,
      "id": "ce884c5a",
      "metadata": {},
      "outputs": [
        {
          "name": "stdout",
          "output_type": "stream",
          "text": [
            "year\n",
            "2013    20.312285\n",
            "dtype: float64\n",
            "country  city  \n",
            "China    Harbin    4.876551\n",
            "dtype: float64\n"
          ]
        }
      ],
      "source": [
        "# Get the worldwide mean temp by year\n",
        "mean_temp_by_year = temp_by_country_city_vs_year.mean()\n",
        "\n",
        "# Filter for the year that had the highest mean temp\n",
        "print(mean_temp_by_year[mean_temp_by_year == mean_temp_by_year.max()])\n",
        "\n",
        "# Get the mean temp by city\n",
        "mean_temp_by_city = temp_by_country_city_vs_year.mean(axis=\"columns\")\n",
        "\n",
        "# Filter for the city that had the lowest mean temp\n",
        "print(mean_temp_by_city[mean_temp_by_city == mean_temp_by_city.min()])\n"
      ]
    },
    {
      "cell_type": "markdown",
      "id": "9c4d92c8",
      "metadata": {},
      "source": [
        "#### Which avocado size is most popular?\n",
        "Avocados are increasingly popular and delicious in guacamole and on toast. The Hass Avocado Board keeps track of avocado supply and demand across the USA, including the sales of three different sizes of avocado. In this exercise, you'll use a bar plot to figure out which size is the most popular.\n",
        "\n",
        "Bar plots are great for revealing relationships between categorical (size) and numeric (number sold) variables, but you'll often have to manipulate your data first in order to get the numbers you need for plotting."
      ]
    },
    {
      "cell_type": "code",
      "execution_count": 87,
      "id": "2573e694",
      "metadata": {},
      "outputs": [],
      "source": [
        "avocados = pd.read_pickle(\"data/avoplotto.pkl\")"
      ]
    },
    {
      "cell_type": "code",
      "execution_count": 88,
      "id": "379b819b",
      "metadata": {},
      "outputs": [
        {
          "data": {
            "application/vnd.microsoft.datawrangler.viewer.v0+json": {
              "columns": [
                {
                  "name": "index",
                  "rawType": "int64",
                  "type": "integer"
                },
                {
                  "name": "date",
                  "rawType": "object",
                  "type": "string"
                },
                {
                  "name": "type",
                  "rawType": "object",
                  "type": "string"
                },
                {
                  "name": "year",
                  "rawType": "int64",
                  "type": "integer"
                },
                {
                  "name": "avg_price",
                  "rawType": "float64",
                  "type": "float"
                },
                {
                  "name": "size",
                  "rawType": "object",
                  "type": "string"
                },
                {
                  "name": "nb_sold",
                  "rawType": "float64",
                  "type": "float"
                }
              ],
              "ref": "fe1b1b33-c4e4-4033-8242-7acd798e76d7",
              "rows": [
                [
                  "0",
                  "2015-12-27",
                  "conventional",
                  "2015",
                  "0.95",
                  "small",
                  "9626901.09"
                ],
                [
                  "1",
                  "2015-12-20",
                  "conventional",
                  "2015",
                  "0.98",
                  "small",
                  "8710021.76"
                ],
                [
                  "2",
                  "2015-12-13",
                  "conventional",
                  "2015",
                  "0.93",
                  "small",
                  "9855053.66"
                ],
                [
                  "3",
                  "2015-12-06",
                  "conventional",
                  "2015",
                  "0.89",
                  "small",
                  "9405464.36"
                ],
                [
                  "4",
                  "2015-11-29",
                  "conventional",
                  "2015",
                  "0.99",
                  "small",
                  "8094803.56"
                ]
              ],
              "shape": {
                "columns": 6,
                "rows": 5
              }
            },
            "text/html": [
              "<div>\n",
              "<style scoped>\n",
              "    .dataframe tbody tr th:only-of-type {\n",
              "        vertical-align: middle;\n",
              "    }\n",
              "\n",
              "    .dataframe tbody tr th {\n",
              "        vertical-align: top;\n",
              "    }\n",
              "\n",
              "    .dataframe thead th {\n",
              "        text-align: right;\n",
              "    }\n",
              "</style>\n",
              "<table border=\"1\" class=\"dataframe\">\n",
              "  <thead>\n",
              "    <tr style=\"text-align: right;\">\n",
              "      <th></th>\n",
              "      <th>date</th>\n",
              "      <th>type</th>\n",
              "      <th>year</th>\n",
              "      <th>avg_price</th>\n",
              "      <th>size</th>\n",
              "      <th>nb_sold</th>\n",
              "    </tr>\n",
              "  </thead>\n",
              "  <tbody>\n",
              "    <tr>\n",
              "      <th>0</th>\n",
              "      <td>2015-12-27</td>\n",
              "      <td>conventional</td>\n",
              "      <td>2015</td>\n",
              "      <td>0.95</td>\n",
              "      <td>small</td>\n",
              "      <td>9626901.09</td>\n",
              "    </tr>\n",
              "    <tr>\n",
              "      <th>1</th>\n",
              "      <td>2015-12-20</td>\n",
              "      <td>conventional</td>\n",
              "      <td>2015</td>\n",
              "      <td>0.98</td>\n",
              "      <td>small</td>\n",
              "      <td>8710021.76</td>\n",
              "    </tr>\n",
              "    <tr>\n",
              "      <th>2</th>\n",
              "      <td>2015-12-13</td>\n",
              "      <td>conventional</td>\n",
              "      <td>2015</td>\n",
              "      <td>0.93</td>\n",
              "      <td>small</td>\n",
              "      <td>9855053.66</td>\n",
              "    </tr>\n",
              "    <tr>\n",
              "      <th>3</th>\n",
              "      <td>2015-12-06</td>\n",
              "      <td>conventional</td>\n",
              "      <td>2015</td>\n",
              "      <td>0.89</td>\n",
              "      <td>small</td>\n",
              "      <td>9405464.36</td>\n",
              "    </tr>\n",
              "    <tr>\n",
              "      <th>4</th>\n",
              "      <td>2015-11-29</td>\n",
              "      <td>conventional</td>\n",
              "      <td>2015</td>\n",
              "      <td>0.99</td>\n",
              "      <td>small</td>\n",
              "      <td>8094803.56</td>\n",
              "    </tr>\n",
              "  </tbody>\n",
              "</table>\n",
              "</div>"
            ],
            "text/plain": [
              "         date          type  year  avg_price   size     nb_sold\n",
              "0  2015-12-27  conventional  2015       0.95  small  9626901.09\n",
              "1  2015-12-20  conventional  2015       0.98  small  8710021.76\n",
              "2  2015-12-13  conventional  2015       0.93  small  9855053.66\n",
              "3  2015-12-06  conventional  2015       0.89  small  9405464.36\n",
              "4  2015-11-29  conventional  2015       0.99  small  8094803.56"
            ]
          },
          "execution_count": 88,
          "metadata": {},
          "output_type": "execute_result"
        }
      ],
      "source": [
        "# Look at the first few rows of data\n",
        "avocados.head()\n"
      ]
    },
    {
      "cell_type": "code",
      "execution_count": 89,
      "id": "0d36e47c",
      "metadata": {},
      "outputs": [
        {
          "data": {
            "application/vnd.microsoft.datawrangler.viewer.v0+json": {
              "columns": [
                {
                  "name": "size",
                  "rawType": "object",
                  "type": "string"
                },
                {
                  "name": "nb_sold",
                  "rawType": "float64",
                  "type": "float"
                }
              ],
              "ref": "3e68dc9e-275e-476b-8c65-e105875f573e",
              "rows": [
                [
                  "extra_large",
                  "156175183.13"
                ],
                [
                  "large",
                  "2015011554.74"
                ],
                [
                  "small",
                  "2054936231.47"
                ]
              ],
              "shape": {
                "columns": 1,
                "rows": 3
              }
            },
            "text/plain": [
              "size\n",
              "extra_large    1.561752e+08\n",
              "large          2.015012e+09\n",
              "small          2.054936e+09\n",
              "Name: nb_sold, dtype: float64"
            ]
          },
          "execution_count": 89,
          "metadata": {},
          "output_type": "execute_result"
        }
      ],
      "source": [
        "# Get the total number of avocados sold of each size\n",
        "nb_sold_by_size = avocados.groupby(\"size\")[\"nb_sold\"].sum()\n",
        "nb_sold_by_size"
      ]
    },
    {
      "cell_type": "code",
      "execution_count": 90,
      "id": "4b480792",
      "metadata": {},
      "outputs": [
        {
          "data": {
            "image/png": "[encoded data removed]",
            "text/plain": [
              "<Figure size 640x480 with 1 Axes>"
            ]
          },
          "metadata": {},
          "output_type": "display_data"
        }
      ],
      "source": [
        "# Create a bar plot of the number of avocados sold by size\n",
        "fig, ax = plt.subplots()\n",
        "\n",
        "# Reset index to convert Series to DataFrame for seaborn\n",
        "nb_sold_df = nb_sold_by_size.reset_index()\n",
        "sns.barplot(data=nb_sold_df, x=\"size\", y=\"nb_sold\", palette=\"viridis\", hue=\"size\", ax=ax)\n",
        "\n",
        "# Add value labels on top of bars\n",
        "for container in ax.containers:\n",
        "    ax.bar_label(container, fmt='%.0f', fontsize=10)\n",
        "\n",
        "ax.set_xlabel(\"Avocado Size\", fontsize=12, fontweight='bold')\n",
        "ax.set_ylabel(\"Number of Avocados Sold\", fontsize=12, fontweight='bold')\n",
        "ax.set_title(\"Distribution of Avocados Sold by Size\", fontsize=14, fontweight='bold')\n",
        "\n",
        "ax.set_axisbelow(True)\n",
        "ax.grid(True, alpha=0.3, zorder=0)\n",
        "\n",
        "# Show the plot\n",
        "plt.tight_layout()\n",
        "plt.show()"
      ]
    },
    {
      "cell_type": "code",
      "execution_count": 91,
      "id": "70eae272",
      "metadata": {},
      "outputs": [
        {
          "data": {
            "application/vnd.microsoft.datawrangler.viewer.v0+json": {
              "columns": [
                {
                  "name": "date",
                  "rawType": "object",
                  "type": "string"
                },
                {
                  "name": "nb_sold",
                  "rawType": "float64",
                  "type": "float"
                }
              ],
              "ref": "00a4ff68-7995-4f0d-86f7-0a5c194c935d",
              "rows": [
                [
                  "2015-01-04",
                  "27279606.03"
                ],
                [
                  "2015-01-11",
                  "25081927.330000002"
                ],
                [
                  "2015-01-18",
                  "24961540.48"
                ],
                [
                  "2015-01-25",
                  "24094678.66"
                ],
                [
                  "2015-02-01",
                  "39838734.08"
                ],
                [
                  "2015-02-08",
                  "27922352.77"
                ],
                [
                  "2015-02-15",
                  "23697012.39"
                ],
                [
                  "2015-02-22",
                  "25427804.150000002"
                ],
                [
                  "2015-03-01",
                  "28728934.96"
                ],
                [
                  "2015-03-08",
                  "25408441.25"
                ],
                [
                  "2015-03-15",
                  "25154987.89"
                ],
                [
                  "2015-03-22",
                  "27986360.23"
                ],
                [
                  "2015-03-29",
                  "25400939.16"
                ],
                [
                  "2015-04-05",
                  "26817753.57"
                ],
                [
                  "2015-04-12",
                  "27449118.75"
                ],
                [
                  "2015-04-19",
                  "28069342.1"
                ],
                [
                  "2015-04-26",
                  "26298115.93"
                ],
                [
                  "2015-05-03",
                  "36222016.53"
                ],
                [
                  "2015-05-10",
                  "31190262.02"
                ],
                [
                  "2015-05-17",
                  "27163327.830000002"
                ],
                [
                  "2015-05-24",
                  "29948866.3"
                ],
                [
                  "2015-05-31",
                  "28552541.61"
                ],
                [
                  "2015-06-07",
                  "30728031.18"
                ],
                [
                  "2015-06-14",
                  "30778617.32"
                ],
                [
                  "2015-06-21",
                  "29783197.98"
                ],
                [
                  "2015-06-28",
                  "26382278.76"
                ],
                [
                  "2015-07-05",
                  "31715976.38"
                ],
                [
                  "2015-07-12",
                  "26219488.35"
                ],
                [
                  "2015-07-19",
                  "26985352.68"
                ],
                [
                  "2015-07-26",
                  "25663191.72"
                ],
                [
                  "2015-08-02",
                  "25751550.63"
                ],
                [
                  "2015-08-09",
                  "28391003.57"
                ],
                [
                  "2015-08-16",
                  "27289266.14"
                ],
                [
                  "2015-08-23",
                  "25224636.69"
                ],
                [
                  "2015-08-30",
                  "25189227.919999998"
                ],
                [
                  "2015-09-06",
                  "28354504.04"
                ],
                [
                  "2015-09-13",
                  "26272954.31"
                ],
                [
                  "2015-09-20",
                  "24756875.09"
                ],
                [
                  "2015-09-27",
                  "23693413.1"
                ],
                [
                  "2015-10-04",
                  "23707040.57"
                ],
                [
                  "2015-10-11",
                  "24097657.65"
                ],
                [
                  "2015-10-18",
                  "24802820.8"
                ],
                [
                  "2015-10-25",
                  "21641966.37"
                ],
                [
                  "2015-11-01",
                  "26161441.759999998"
                ],
                [
                  "2015-11-08",
                  "23755076.19"
                ],
                [
                  "2015-11-15",
                  "22761720.619999997"
                ],
                [
                  "2015-11-22",
                  "20114988.240000002"
                ],
                [
                  "2015-11-29",
                  "18120688.69"
                ],
                [
                  "2015-12-06",
                  "22804985.65"
                ],
                [
                  "2015-12-13",
                  "22002853.8"
                ]
              ],
              "shape": {
                "columns": 1,
                "rows": 169
              }
            },
            "text/plain": [
              "date\n",
              "2015-01-04    27279606.03\n",
              "2015-01-11    25081927.33\n",
              "2015-01-18    24961540.48\n",
              "2015-01-25    24094678.66\n",
              "2015-02-01    39838734.08\n",
              "                 ...     \n",
              "2018-02-25    25434002.74\n",
              "2018-03-04    26834303.05\n",
              "2018-03-11    26094044.41\n",
              "2018-03-18    26030618.97\n",
              "2018-03-25    27480242.92\n",
              "Name: nb_sold, Length: 169, dtype: float64"
            ]
          },
          "execution_count": 91,
          "metadata": {},
          "output_type": "execute_result"
        }
      ],
      "source": [
        "# Get the total number of avocados sold on each date. The DataFrame has two rows for each date—one for organic, and one for conventional. Save this as nb_sold_by_date.\n",
        "nb_sold_by_date = avocados.groupby(\"date\")[\"nb_sold\"].sum()\n",
        "\n",
        "nb_sold_by_date"
      ]
    },
    {
      "cell_type": "code",
      "execution_count": 92,
      "id": "77ec8c76",
      "metadata": {},
      "outputs": [
        {
          "data": {
            "image/png": "[encoded data removed]",
            "text/plain": [
              "<Figure size 640x480 with 1 Axes>"
            ]
          },
          "metadata": {},
          "output_type": "display_data"
        }
      ],
      "source": [
        "import matplotlib.dates as mdates\n",
        "\n",
        "# Create a line plot of the number of avocados sold by date\n",
        "fig, ax = plt.subplots()\n",
        "\n",
        "# Convert Series to DataFrame for seaborn\n",
        "nb_sold_df = nb_sold_by_date.reset_index()\n",
        "\n",
        "# Ensure the 'date' column is of datetime type\n",
        "nb_sold_df['date'] = pd.to_datetime(nb_sold_df['date'])\n",
        "\n",
        "sns.lineplot(data=nb_sold_df, x=\"date\", y=\"nb_sold\", legend=False, ax=ax)\n",
        "\n",
        "ax.set_xlabel(\"Date\", fontsize=12, fontweight='bold')\n",
        "ax.set_ylabel(\"Number of Avocados Sold\", fontsize=12, fontweight='bold')\n",
        "ax.set_title(\"Avocado Sales Over Time\", fontsize=14, fontweight='bold')\n",
        "\n",
        "# Adjust x-axis ticks for better readability\n",
        "# Show a tick every 3 months\n",
        "ax.xaxis.set_major_locator(mdates.MonthLocator(interval=3))\n",
        "ax.xaxis.set_major_formatter(mdates.DateFormatter('%b %Y'))\n",
        "\n",
        "plt.xticks(rotation=45, ha='right') # Added ha='right' for better label alignment\n",
        "plt.tight_layout()\n",
        "plt.show()"
      ]
    },
    {
      "cell_type": "code",
      "execution_count": 93,
      "id": "82b52a55",
      "metadata": {},
      "outputs": [
        {
          "data": {
            "image/png": "[encoded data removed]",
            "text/plain": [
              "<Figure size 640x480 with 1 Axes>"
            ]
          },
          "metadata": {},
          "output_type": "display_data"
        }
      ],
      "source": [
        "# Create a scatter plot with nb_sold on the x-axis and avg_price on the y-axis. Title it \"Number of avocados sold vs. average price\".\n",
        "fig, ax = plt.subplots()\n",
        "\n",
        "sns.scatterplot(data=avocados, x=\"nb_sold\", y=\"avg_price\", palette=\"viridis\", hue=\"nb_sold\", legend=True)\n",
        "ax.set(xlabel=\"Number of avocados sold\", ylabel=\"Average price per avocado\", title=\"Number of avocados sold vs. average price\")\n",
        "ax.set_axisbelow(True)\n",
        "ax.grid(True, alpha=0.3, zorder=0)\n",
        "\n",
        "# Show the plot\n",
        "plt.tight_layout()\n",
        "plt.show()"
      ]
    },
    {
      "cell_type": "code",
      "execution_count": 94,
      "id": "e67e8216",
      "metadata": {},
      "outputs": [],
      "source": [
        "# Ensure 'date' is datetime and create 'year' column if it doesn't exist\n",
        "# This step is crucial as 'year' was not in the original 'avocados' DataFrame.\n",
        "if 'year' not in avocados.columns:\n",
        "    avocados['date'] = pd.to_datetime(avocados['date'])\n",
        "    avocados['year'] = avocados['date'].dt.year\n",
        "\n",
        "# Subset for avocado types\n",
        "avocados_conventional = avocados[avocados[\"type\"] == \"conventional\"].copy()\n",
        "avocados_organic = avocados[avocados[\"type\"] == \"organic\"].copy()\n",
        "\n",
        "# Convert 'year' to category for distinct colors and legend labels\n",
        "avocados_conventional['year'] = avocados_conventional['year'].astype('category')\n",
        "avocados_organic['year'] = avocados_organic['year'].astype('category')"
      ]
    },
    {
      "cell_type": "code",
      "execution_count": 95,
      "id": "e6c0d62d",
      "metadata": {},
      "outputs": [
        {
          "data": {
            "image/png": "[encoded data removed]",
            "text/plain": [
              "<Figure size 640x480 with 1 Axes>"
            ]
          },
          "metadata": {},
          "output_type": "display_data"
        }
      ],
      "source": [
        "fig, ax = plt.subplots()\n",
        "\n",
        "\n",
        "sns.histplot(data=avocados_conventional, x=\"avg_price\", color=\"#8B0000\", ax=ax, label=\"Conventional\", alpha=0.7)  # Dark red\n",
        "sns.histplot(data=avocados_organic, x=\"avg_price\", color=\"#006400\", ax=ax, label=\"Organic\", alpha=0.7)  # Dark green\n",
        "\n",
        "ax.set_xlabel(\"Average Price of Avocado\", fontsize=12, fontweight='bold')\n",
        "ax.set_ylabel(\"Frequency\", fontsize=12, fontweight='bold') \n",
        "ax.set_title(\"Distribution of Average Price for Conventional vs Organic Avocados\", fontsize=14, fontweight='bold')\n",
        "\n",
        "ax.set_axisbelow(True)\n",
        "ax.grid(True, alpha=0.3, zorder=0)\n",
        "\n",
        "ax.legend()\n",
        "\n",
        "# Show the plot\n",
        "plt.tight_layout()\n",
        "plt.show()"
      ]
    },
    {
      "cell_type": "markdown",
      "id": "d33d7493",
      "metadata": {},
      "source": [
        "## Missing Values\n",
        "\n",
        "Missing values are a ubiquitous feature of real-world data and must be handled thoughtfully to ensure analytical integrity. Pandas provides a robust suite of tools for **detecting**, **visualising**, **removing**, and **imputing** missing data, enabling both transparent diagnosis and principled remediation.\n",
        "\n",
        "\n",
        "### 1. Interpreting Missing Values\n",
        "\n",
        "- **Sources:** Data entry errors, sensor failures, unavailable information, or inconsistent merging.\n",
        "- **Meaning:** A missing value may represent the absence of a response, an error, or a meaningful non-observation. Always understand the context before choosing a remediation strategy.\n",
        "- **Impact:** Missing data can bias results, disrupt calculations, or invalidate models if not properly managed.\n",
        "\n",
        "\n",
        "### 2. Detecting Missing Values: Pandas Syntax\n",
        "\n",
        "#### a) Identifying missing values\n",
        "\n",
        "```python\n",
        "df.isna()\n",
        "```\n",
        "Returns a DataFrame of booleans indicating where values are missing (`True` for missing, `False` otherwise).\n",
        "\n",
        "#### b) Checking for any missing values\n",
        "\n",
        "```python\n",
        "df.isna().any()\n",
        "```\n",
        "Returns a Series indicating if **any** value in each column is missing.\n",
        "\n",
        "#### c) Counting missing values per column\n",
        "\n",
        "```python\n",
        "df.isna().sum()\n",
        "```\n",
        "Returns the count of missing values for each column, aiding in prioritising columns for cleaning.\n",
        "\n",
        "#### d) Proportion of missing values per column\n",
        "\n",
        "```python\n",
        "df.isna().mean()\n",
        "```\n",
        "Returns the fraction (between 0 and 1) of missing values in each column.\n",
        "\n",
        "\n",
        "### 3. Visualising Missing Values\n",
        "\n",
        "Visualisation is essential for understanding the **pattern** of missingness (random vs. systematic).\n",
        "\n",
        "```python\n",
        "import seaborn as sns\n",
        "import matplotlib.pyplot as plt\n",
        "\n",
        "sns.heatmap(df.isna(), cbar=False, yticklabels=False)\n",
        "plt.title(\"Missing Values Heatmap\")\n",
        "plt.show()\n",
        "```\n",
        "This heatmap reveals rows and columns with clusters of missing values, often indicating structural or batch-related issues.\n",
        "\n",
        "\n",
        "### 4. Removing Missing Values\n",
        "\n",
        "#### a) Removing rows with missing values\n",
        "\n",
        "```python\n",
        "df_clean = df.dropna()\n",
        "```\n",
        "Removes **any row** containing at least one missing value.\n",
        "\n",
        "#### b) Removing columns with missing values\n",
        "\n",
        "```python\n",
        "df_clean = df.dropna(axis=\"columns\")\n",
        "```\n",
        "Removes columns that contain **any** missing values.\n",
        "\n",
        "#### c) Removing rows where specific columns are missing\n",
        "\n",
        "```python\n",
        "df_clean = df.dropna(subset=[\"col1\", \"col2\"])\n",
        "```\n",
        "Removes only those rows where `\"col1\"` or `\"col2\"` is missing.\n",
        "\n",
        "\n",
        "### 5. Imputing/Replacing Missing Values\n",
        "\n",
        "#### a) Replace missing values with a constant or summary statistic\n",
        "\n",
        "```python\n",
        "df_filled = df.fillna(0)  # Replace all missing values with zero\n",
        "df_filled = df.fillna(df.mean())  # Replace with column mean (numeric only)\n",
        "```\n",
        "\n",
        "#### b) Forward or backward fill (useful for time series)\n",
        "\n",
        "```python\n",
        "df_filled = df.fillna(method=\"ffill\")  # Forward-fill\n",
        "df_filled = df.fillna(method=\"bfill\")  # Backward-fill\n",
        "```\n",
        "\n",
        "\n",
        "### 6. Best Techniques and Approaches\n",
        "\n",
        "- **Understand the context:** Is missingness random, systematic, or informative? Avoid mechanical cleaning without understanding data provenance.\n",
        "- **Minimal removal:** Only drop data when essential; prefer imputation if analysis will be biased or sample size is limited.\n",
        "- **Impute thoughtfully:** For numeric data, use mean/median; for categorical, use mode or a sentinel value; for time series, use forward/backward fill.\n",
        "- **Visualise before and after:** Always check that your approach hasn't introduced artifacts or hidden patterns.\n",
        "- **Document your decisions:** Record what method was used and why - this supports transparency and reproducibility.\n"
      ]
    },
    {
      "cell_type": "code",
      "execution_count": 96,
      "id": "247e447c",
      "metadata": {},
      "outputs": [],
      "source": [
        "avocados_2016 = avocados[avocados[\"date\"] >= \"2016\"]"
      ]
    },
    {
      "cell_type": "code",
      "execution_count": 97,
      "id": "e7a88a22",
      "metadata": {},
      "outputs": [
        {
          "data": {
            "application/vnd.microsoft.datawrangler.viewer.v0+json": {
              "columns": [
                {
                  "name": "index",
                  "rawType": "int64",
                  "type": "integer"
                },
                {
                  "name": "date",
                  "rawType": "bool",
                  "type": "boolean"
                },
                {
                  "name": "type",
                  "rawType": "bool",
                  "type": "boolean"
                },
                {
                  "name": "year",
                  "rawType": "bool",
                  "type": "boolean"
                },
                {
                  "name": "avg_price",
                  "rawType": "bool",
                  "type": "boolean"
                },
                {
                  "name": "size",
                  "rawType": "bool",
                  "type": "boolean"
                },
                {
                  "name": "nb_sold",
                  "rawType": "bool",
                  "type": "boolean"
                }
              ],
              "ref": "ce46abaf-3a28-480e-8ab4-050f57573d20",
              "rows": [
                [
                  "52",
                  "False",
                  "False",
                  "False",
                  "False",
                  "False",
                  "False"
                ],
                [
                  "53",
                  "False",
                  "False",
                  "False",
                  "False",
                  "False",
                  "False"
                ],
                [
                  "54",
                  "False",
                  "False",
                  "False",
                  "False",
                  "False",
                  "False"
                ],
                [
                  "55",
                  "False",
                  "False",
                  "False",
                  "False",
                  "False",
                  "False"
                ],
                [
                  "56",
                  "False",
                  "False",
                  "False",
                  "False",
                  "False",
                  "False"
                ],
                [
                  "57",
                  "False",
                  "False",
                  "False",
                  "False",
                  "False",
                  "False"
                ],
                [
                  "58",
                  "False",
                  "False",
                  "False",
                  "False",
                  "False",
                  "False"
                ],
                [
                  "59",
                  "False",
                  "False",
                  "False",
                  "False",
                  "False",
                  "False"
                ],
                [
                  "60",
                  "False",
                  "False",
                  "False",
                  "False",
                  "False",
                  "False"
                ],
                [
                  "61",
                  "False",
                  "False",
                  "False",
                  "False",
                  "False",
                  "False"
                ],
                [
                  "62",
                  "False",
                  "False",
                  "False",
                  "False",
                  "False",
                  "False"
                ],
                [
                  "63",
                  "False",
                  "False",
                  "False",
                  "False",
                  "False",
                  "False"
                ],
                [
                  "64",
                  "False",
                  "False",
                  "False",
                  "False",
                  "False",
                  "False"
                ],
                [
                  "65",
                  "False",
                  "False",
                  "False",
                  "False",
                  "False",
                  "False"
                ],
                [
                  "66",
                  "False",
                  "False",
                  "False",
                  "False",
                  "False",
                  "False"
                ],
                [
                  "67",
                  "False",
                  "False",
                  "False",
                  "False",
                  "False",
                  "False"
                ],
                [
                  "68",
                  "False",
                  "False",
                  "False",
                  "False",
                  "False",
                  "False"
                ],
                [
                  "69",
                  "False",
                  "False",
                  "False",
                  "False",
                  "False",
                  "False"
                ],
                [
                  "70",
                  "False",
                  "False",
                  "False",
                  "False",
                  "False",
                  "False"
                ],
                [
                  "71",
                  "False",
                  "False",
                  "False",
                  "False",
                  "False",
                  "False"
                ],
                [
                  "72",
                  "False",
                  "False",
                  "False",
                  "False",
                  "False",
                  "False"
                ],
                [
                  "73",
                  "False",
                  "False",
                  "False",
                  "False",
                  "False",
                  "False"
                ],
                [
                  "74",
                  "False",
                  "False",
                  "False",
                  "False",
                  "False",
                  "False"
                ],
                [
                  "75",
                  "False",
                  "False",
                  "False",
                  "False",
                  "False",
                  "False"
                ],
                [
                  "76",
                  "False",
                  "False",
                  "False",
                  "False",
                  "False",
                  "False"
                ],
                [
                  "77",
                  "False",
                  "False",
                  "False",
                  "False",
                  "False",
                  "False"
                ],
                [
                  "78",
                  "False",
                  "False",
                  "False",
                  "False",
                  "False",
                  "False"
                ],
                [
                  "79",
                  "False",
                  "False",
                  "False",
                  "False",
                  "False",
                  "False"
                ],
                [
                  "80",
                  "False",
                  "False",
                  "False",
                  "False",
                  "False",
                  "False"
                ],
                [
                  "81",
                  "False",
                  "False",
                  "False",
                  "False",
                  "False",
                  "False"
                ],
                [
                  "82",
                  "False",
                  "False",
                  "False",
                  "False",
                  "False",
                  "False"
                ],
                [
                  "83",
                  "False",
                  "False",
                  "False",
                  "False",
                  "False",
                  "False"
                ],
                [
                  "84",
                  "False",
                  "False",
                  "False",
                  "False",
                  "False",
                  "False"
                ],
                [
                  "85",
                  "False",
                  "False",
                  "False",
                  "False",
                  "False",
                  "False"
                ],
                [
                  "86",
                  "False",
                  "False",
                  "False",
                  "False",
                  "False",
                  "False"
                ],
                [
                  "87",
                  "False",
                  "False",
                  "False",
                  "False",
                  "False",
                  "False"
                ],
                [
                  "88",
                  "False",
                  "False",
                  "False",
                  "False",
                  "False",
                  "False"
                ],
                [
                  "89",
                  "False",
                  "False",
                  "False",
                  "False",
                  "False",
                  "False"
                ],
                [
                  "90",
                  "False",
                  "False",
                  "False",
                  "False",
                  "False",
                  "False"
                ],
                [
                  "91",
                  "False",
                  "False",
                  "False",
                  "False",
                  "False",
                  "False"
                ],
                [
                  "92",
                  "False",
                  "False",
                  "False",
                  "False",
                  "False",
                  "False"
                ],
                [
                  "93",
                  "False",
                  "False",
                  "False",
                  "False",
                  "False",
                  "False"
                ],
                [
                  "94",
                  "False",
                  "False",
                  "False",
                  "False",
                  "False",
                  "False"
                ],
                [
                  "95",
                  "False",
                  "False",
                  "False",
                  "False",
                  "False",
                  "False"
                ],
                [
                  "96",
                  "False",
                  "False",
                  "False",
                  "False",
                  "False",
                  "False"
                ],
                [
                  "97",
                  "False",
                  "False",
                  "False",
                  "False",
                  "False",
                  "False"
                ],
                [
                  "98",
                  "False",
                  "False",
                  "False",
                  "False",
                  "False",
                  "False"
                ],
                [
                  "99",
                  "False",
                  "False",
                  "False",
                  "False",
                  "False",
                  "False"
                ],
                [
                  "100",
                  "False",
                  "False",
                  "False",
                  "False",
                  "False",
                  "False"
                ],
                [
                  "101",
                  "False",
                  "False",
                  "False",
                  "False",
                  "False",
                  "False"
                ]
              ],
              "shape": {
                "columns": 6,
                "rows": 702
              }
            },
            "text/html": [
              "<div>\n",
              "<style scoped>\n",
              "    .dataframe tbody tr th:only-of-type {\n",
              "        vertical-align: middle;\n",
              "    }\n",
              "\n",
              "    .dataframe tbody tr th {\n",
              "        vertical-align: top;\n",
              "    }\n",
              "\n",
              "    .dataframe thead th {\n",
              "        text-align: right;\n",
              "    }\n",
              "</style>\n",
              "<table border=\"1\" class=\"dataframe\">\n",
              "  <thead>\n",
              "    <tr style=\"text-align: right;\">\n",
              "      <th></th>\n",
              "      <th>date</th>\n",
              "      <th>type</th>\n",
              "      <th>year</th>\n",
              "      <th>avg_price</th>\n",
              "      <th>size</th>\n",
              "      <th>nb_sold</th>\n",
              "    </tr>\n",
              "  </thead>\n",
              "  <tbody>\n",
              "    <tr>\n",
              "      <th>52</th>\n",
              "      <td>False</td>\n",
              "      <td>False</td>\n",
              "      <td>False</td>\n",
              "      <td>False</td>\n",
              "      <td>False</td>\n",
              "      <td>False</td>\n",
              "    </tr>\n",
              "    <tr>\n",
              "      <th>53</th>\n",
              "      <td>False</td>\n",
              "      <td>False</td>\n",
              "      <td>False</td>\n",
              "      <td>False</td>\n",
              "      <td>False</td>\n",
              "      <td>False</td>\n",
              "    </tr>\n",
              "    <tr>\n",
              "      <th>54</th>\n",
              "      <td>False</td>\n",
              "      <td>False</td>\n",
              "      <td>False</td>\n",
              "      <td>False</td>\n",
              "      <td>False</td>\n",
              "      <td>False</td>\n",
              "    </tr>\n",
              "    <tr>\n",
              "      <th>55</th>\n",
              "      <td>False</td>\n",
              "      <td>False</td>\n",
              "      <td>False</td>\n",
              "      <td>False</td>\n",
              "      <td>False</td>\n",
              "      <td>False</td>\n",
              "    </tr>\n",
              "    <tr>\n",
              "      <th>56</th>\n",
              "      <td>False</td>\n",
              "      <td>False</td>\n",
              "      <td>False</td>\n",
              "      <td>False</td>\n",
              "      <td>False</td>\n",
              "      <td>False</td>\n",
              "    </tr>\n",
              "    <tr>\n",
              "      <th>...</th>\n",
              "      <td>...</td>\n",
              "      <td>...</td>\n",
              "      <td>...</td>\n",
              "      <td>...</td>\n",
              "      <td>...</td>\n",
              "      <td>...</td>\n",
              "    </tr>\n",
              "    <tr>\n",
              "      <th>1009</th>\n",
              "      <td>False</td>\n",
              "      <td>False</td>\n",
              "      <td>False</td>\n",
              "      <td>False</td>\n",
              "      <td>False</td>\n",
              "      <td>False</td>\n",
              "    </tr>\n",
              "    <tr>\n",
              "      <th>1010</th>\n",
              "      <td>False</td>\n",
              "      <td>False</td>\n",
              "      <td>False</td>\n",
              "      <td>False</td>\n",
              "      <td>False</td>\n",
              "      <td>False</td>\n",
              "    </tr>\n",
              "    <tr>\n",
              "      <th>1011</th>\n",
              "      <td>False</td>\n",
              "      <td>False</td>\n",
              "      <td>False</td>\n",
              "      <td>False</td>\n",
              "      <td>False</td>\n",
              "      <td>False</td>\n",
              "    </tr>\n",
              "    <tr>\n",
              "      <th>1012</th>\n",
              "      <td>False</td>\n",
              "      <td>False</td>\n",
              "      <td>False</td>\n",
              "      <td>False</td>\n",
              "      <td>False</td>\n",
              "      <td>False</td>\n",
              "    </tr>\n",
              "    <tr>\n",
              "      <th>1013</th>\n",
              "      <td>False</td>\n",
              "      <td>False</td>\n",
              "      <td>False</td>\n",
              "      <td>False</td>\n",
              "      <td>False</td>\n",
              "      <td>False</td>\n",
              "    </tr>\n",
              "  </tbody>\n",
              "</table>\n",
              "<p>702 rows × 6 columns</p>\n",
              "</div>"
            ],
            "text/plain": [
              "       date   type   year  avg_price   size  nb_sold\n",
              "52    False  False  False      False  False    False\n",
              "53    False  False  False      False  False    False\n",
              "54    False  False  False      False  False    False\n",
              "55    False  False  False      False  False    False\n",
              "56    False  False  False      False  False    False\n",
              "...     ...    ...    ...        ...    ...      ...\n",
              "1009  False  False  False      False  False    False\n",
              "1010  False  False  False      False  False    False\n",
              "1011  False  False  False      False  False    False\n",
              "1012  False  False  False      False  False    False\n",
              "1013  False  False  False      False  False    False\n",
              "\n",
              "[702 rows x 6 columns]"
            ]
          },
          "execution_count": 97,
          "metadata": {},
          "output_type": "execute_result"
        }
      ],
      "source": [
        "# Print a DataFrame that shows whether each value in avocados_2016 is missing or not.\n",
        "avocados_2016.isna()"
      ]
    },
    {
      "cell_type": "markdown",
      "id": "80904b16",
      "metadata": {},
      "source": [
        "## Creating DataFrames\n",
        "\n",
        "The DataFrame is Pandas’ core data structure—tabular, flexible, and designed for robust data analysis. Mastering DataFrame creation is foundational, allowing you to efficiently bring raw data into a workable analytical format. Two principal idioms for creation are **from a list of dictionaries** and **from a dictionary of lists**. Understanding the distinction helps you precisely control how your data is structured.\n",
        "\n",
        "### 1. Creating a DataFrame from a List of Dictionaries\n",
        "\n",
        "- **Each dictionary represents a row; keys are column names.**\n",
        "- The list itself corresponds to all rows in the DataFrame.\n",
        "\n",
        "```python\n",
        "import pandas as pd\n",
        "\n",
        "data = [\n",
        "    {\"name\": \"Alice\", \"age\": 30, \"country\": \"UK\"},\n",
        "    {\"name\": \"Bob\", \"age\": 25, \"country\": \"USA\"},\n",
        "    {\"name\": \"Carlos\", \"age\": 22, \"country\": \"Brazil\"},\n",
        "]\n",
        "\n",
        "df = pd.DataFrame(data)\n",
        "```\n",
        "\n",
        "- **Missing keys** in any dictionary will produce `NaN` in the resulting DataFrame for those fields.\n",
        "\n",
        "\n",
        "### 2. Creating a DataFrame from a Dictionary of Lists\n",
        "\n",
        "- **Each key is a column name; its list is the column's data.**\n",
        "- All lists must be the same length (number of rows).\n",
        "\n",
        "```python\n",
        "data = {\n",
        "    \"name\": [\"Alice\", \"Bob\", \"Carlos\"],\n",
        "    \"age\": [30, 25, 22],\n",
        "    \"country\": [\"UK\", \"USA\", \"Brazil\"]\n",
        "}\n",
        "\n",
        "df = pd.DataFrame(data)\n",
        "```\n",
        "\n",
        "- **Dictionary of lists = by column**.  \n",
        "- If lists are unequal in length, Pandas will raise a `ValueError`.\n",
        "\n",
        "\n",
        "### 3. Summary Table: Idioms and Orientation\n",
        "\n",
        "| Construction Method         | Syntax Example                  | Data Structure     | Row/Column Orientation       |\n",
        "|----------------------------|----------------------------------|-------------------|-----------------------------|\n",
        "| List of Dictionaries       | `pd.DataFrame([{}, {}, ...])`    | Each dict = row   | \"by row\"                    |\n",
        "| Dictionary of Lists        | `pd.DataFrame({k: [..], ...})`   | Each list = col   | \"by column\"                 |\n",
        "\n",
        "### 4. Other Considerations and Best Practices\n",
        "\n",
        "- **Explicit column order:** Use the `columns` parameter to set or reorder columns:\n",
        "\n",
        "    ```python\n",
        "    df = pd.DataFrame(data, columns=[\"name\", \"country\", \"age\"])\n",
        "    ```\n",
        "\n",
        "- **Indexing:** The default index is a simple RangeIndex (0, 1, 2, ...), but you may specify a custom index:\n",
        "\n",
        "    ```python\n",
        "    df = pd.DataFrame(data, index=[\"a\", \"b\", \"c\"])\n",
        "    ```\n",
        "\n",
        "- **Missing values:** If data is incomplete, Pandas will fill in missing entries with `NaN`.\n",
        "\n",
        "\n",
        "### 5. When to Use Each Method\n",
        "\n",
        "- **List of dictionaries**: When data is naturally “row-wise”—such as after parsing JSON lines, records from a database, or individual survey responses.\n",
        "- **Dictionary of lists**: When columns are naturally aligned and constructed programmatically (e.g., generated arrays, separate data sources per variable).\n"
      ]
    },
    {
      "cell_type": "code",
      "execution_count": 98,
      "id": "d035368b",
      "metadata": {},
      "outputs": [
        {
          "data": {
            "application/vnd.microsoft.datawrangler.viewer.v0+json": {
              "columns": [
                {
                  "name": "index",
                  "rawType": "int64",
                  "type": "integer"
                },
                {
                  "name": "date",
                  "rawType": "object",
                  "type": "string"
                },
                {
                  "name": "small_sold",
                  "rawType": "int64",
                  "type": "integer"
                },
                {
                  "name": "large_sold",
                  "rawType": "int64",
                  "type": "integer"
                }
              ],
              "ref": "900ac291-e334-4a4d-a867-e0a9eda7d02b",
              "rows": [
                [
                  "0",
                  "2019-11-03",
                  "10376832",
                  "7835071"
                ],
                [
                  "1",
                  "2019-11-10",
                  "10717154",
                  "8561348"
                ]
              ],
              "shape": {
                "columns": 3,
                "rows": 2
              }
            },
            "text/html": [
              "<div>\n",
              "<style scoped>\n",
              "    .dataframe tbody tr th:only-of-type {\n",
              "        vertical-align: middle;\n",
              "    }\n",
              "\n",
              "    .dataframe tbody tr th {\n",
              "        vertical-align: top;\n",
              "    }\n",
              "\n",
              "    .dataframe thead th {\n",
              "        text-align: right;\n",
              "    }\n",
              "</style>\n",
              "<table border=\"1\" class=\"dataframe\">\n",
              "  <thead>\n",
              "    <tr style=\"text-align: right;\">\n",
              "      <th></th>\n",
              "      <th>date</th>\n",
              "      <th>small_sold</th>\n",
              "      <th>large_sold</th>\n",
              "    </tr>\n",
              "  </thead>\n",
              "  <tbody>\n",
              "    <tr>\n",
              "      <th>0</th>\n",
              "      <td>2019-11-03</td>\n",
              "      <td>10376832</td>\n",
              "      <td>7835071</td>\n",
              "    </tr>\n",
              "    <tr>\n",
              "      <th>1</th>\n",
              "      <td>2019-11-10</td>\n",
              "      <td>10717154</td>\n",
              "      <td>8561348</td>\n",
              "    </tr>\n",
              "  </tbody>\n",
              "</table>\n",
              "</div>"
            ],
            "text/plain": [
              "         date  small_sold  large_sold\n",
              "0  2019-11-03    10376832     7835071\n",
              "1  2019-11-10    10717154     8561348"
            ]
          },
          "execution_count": 98,
          "metadata": {},
          "output_type": "execute_result"
        }
      ],
      "source": [
        "# Create a list of dictionaries with new data\n",
        "avocados_list = [\n",
        "    {\"date\": \"2019-11-03\", \"small_sold\": 10376832, \"large_sold\": 7835071},\n",
        "    {\"date\": \"2019-11-10\", \"small_sold\": 10717154, \"large_sold\": 8561348},\n",
        "]\n",
        "\n",
        "# Convert list into DataFrame\n",
        "avocados_2019 = pd.DataFrame(avocados_list)\n",
        "\n",
        "# Print the new DataFrame\n",
        "avocados_2019"
      ]
    },
    {
      "cell_type": "code",
      "execution_count": 99,
      "id": "dd1607eb",
      "metadata": {},
      "outputs": [
        {
          "data": {
            "application/vnd.microsoft.datawrangler.viewer.v0+json": {
              "columns": [
                {
                  "name": "index",
                  "rawType": "int64",
                  "type": "integer"
                },
                {
                  "name": "date",
                  "rawType": "object",
                  "type": "string"
                },
                {
                  "name": "small_sold",
                  "rawType": "int64",
                  "type": "integer"
                },
                {
                  "name": "large_sold",
                  "rawType": "int64",
                  "type": "integer"
                }
              ],
              "ref": "24abdd1d-5069-4a22-a591-3bf311183ff6",
              "rows": [
                [
                  "0",
                  "2019-11-17",
                  "10859987",
                  "7674135"
                ],
                [
                  "1",
                  "2019-12-01",
                  "9291631",
                  "6238096"
                ]
              ],
              "shape": {
                "columns": 3,
                "rows": 2
              }
            },
            "text/html": [
              "<div>\n",
              "<style scoped>\n",
              "    .dataframe tbody tr th:only-of-type {\n",
              "        vertical-align: middle;\n",
              "    }\n",
              "\n",
              "    .dataframe tbody tr th {\n",
              "        vertical-align: top;\n",
              "    }\n",
              "\n",
              "    .dataframe thead th {\n",
              "        text-align: right;\n",
              "    }\n",
              "</style>\n",
              "<table border=\"1\" class=\"dataframe\">\n",
              "  <thead>\n",
              "    <tr style=\"text-align: right;\">\n",
              "      <th></th>\n",
              "      <th>date</th>\n",
              "      <th>small_sold</th>\n",
              "      <th>large_sold</th>\n",
              "    </tr>\n",
              "  </thead>\n",
              "  <tbody>\n",
              "    <tr>\n",
              "      <th>0</th>\n",
              "      <td>2019-11-17</td>\n",
              "      <td>10859987</td>\n",
              "      <td>7674135</td>\n",
              "    </tr>\n",
              "    <tr>\n",
              "      <th>1</th>\n",
              "      <td>2019-12-01</td>\n",
              "      <td>9291631</td>\n",
              "      <td>6238096</td>\n",
              "    </tr>\n",
              "  </tbody>\n",
              "</table>\n",
              "</div>"
            ],
            "text/plain": [
              "         date  small_sold  large_sold\n",
              "0  2019-11-17    10859987     7674135\n",
              "1  2019-12-01     9291631     6238096"
            ]
          },
          "metadata": {},
          "output_type": "display_data"
        }
      ],
      "source": [
        "# Create a dictionary of lists with new data\n",
        "avocados_dict = {\n",
        "  \"date\": [\"2019-11-17\",\"2019-12-01\"],\n",
        "  \"small_sold\": [10859987, 9291631],\n",
        "  \"large_sold\": [7674135, 6238096]\n",
        "}\n",
        "\n",
        "# Convert dictionary into DataFrame\n",
        "avocados_2019 = pd.DataFrame(avocados_dict)\n",
        "\n",
        "# Print the new DataFrame\n",
        "display(avocados_2019)"
      ]
    },
    {
      "cell_type": "markdown",
      "id": "24507747",
      "metadata": {},
      "source": [
        "## Reading and Writing CSVs\n",
        "\n",
        "CSV (**Comma-Separated Values**) files are the lingua franca of tabular data exchange. Designed for DataFrame-like structures, CSVs are human-readable, lightweight, and widely compatible with database, spreadsheet, and statistical software. Mastering their use in Pandas enables seamless data import/export in almost any analytical workflow.\n",
        "\n",
        "\n",
        "### 1. What is a CSV File?\n",
        "\n",
        "- **Format:** Plain text, where each row is a record and each column is separated by a comma (or, occasionally, other delimiters).\n",
        "- **Purpose:** Ideal for storing rectangular/tabular data—precisely the kind of data Pandas excels at.\n",
        "- **Interoperability:** Supported by virtually all relational databases, Excel, Google Sheets, statistical tools, and many web services.\n",
        "\n",
        "\n",
        "### 2. Reading a CSV into a DataFrame\n",
        "\n",
        "Use `pd.read_csv()` to ingest CSV data into a DataFrame for analysis:\n",
        "\n",
        "```python\n",
        "import pandas as pd\n",
        "\n",
        "df = pd.read_csv(\"data.csv\")\n",
        "```\n",
        "\n",
        "**Options:**\n",
        "- For non-standard delimiters (e.g., tabs), use `sep=\"\\t\"`.\n",
        "- To specify column data types, use `dtype={\"column1\": int, \"column2\": float}`.\n",
        "- Handle missing values with `na_values=[\"NA\", \"\"]`.\n",
        "- Read only a subset of rows with `nrows=100`.\n",
        "- For large files, use `chunksize=10000` to process in batches.\n",
        "\n",
        "\n",
        "### 3. Manipulating the DataFrame\n",
        "\n",
        "Once loaded, the DataFrame can be freely manipulated:\n",
        "\n",
        "```python\n",
        "df[\"bmi\"] = df[\"weight_kg\"] / (df[\"height_cm\"] / 100) ** 2\n",
        "print(df.head())\n",
        "```\n",
        "\n",
        "- You may add, modify, or drop columns, filter rows, compute aggregates, or perform any analysis supported by Pandas.\n",
        "\n",
        "\n",
        "### 4. Writing a DataFrame to CSV\n",
        "\n",
        "Export a DataFrame to a CSV file using `.to_csv()`:\n",
        "\n",
        "```python\n",
        "df.to_csv(\"data_with_bmi.csv\", index=False)\n",
        "```\n",
        "- `index=False` omits the DataFrame’s index from the file (recommended for interoperability).\n",
        "- Use `sep=\"\\t\"` for TSV (tab-separated values).\n",
        "- Control NA output with `na_rep=\"NULL\"` or other strings.\n",
        "- For selective output, use `columns=[\"col1\", \"col2\"]`.\n",
        "\n",
        "### 5. Best Practices and Considerations\n",
        "\n",
        "- **Column order and names:** Always verify column order and naming conventions for downstream compatibility.\n",
        "- **Encoding:** Use `encoding=\"utf-8\"` for maximum compatibility, especially with non-ASCII data.\n",
        "- **Data integrity:** Confirm data types and missing value handling upon reading—CSV files do not preserve typing metadata.\n",
        "- **Version control:** CSVs are diff-friendly for source control systems, making them ideal for small/medium data.\n",
        "\n"
      ]
    }
  ],
  "metadata": {
    "accelerator": "TPU",
    "colab": {
      "gpuType": "V28",
      "include_colab_link": true,
      "machine_shape": "hm",
      "provenance": []
    },
    "kernelspec": {
      "display_name": "datacamp",
      "language": "python",
      "name": "python3"
    },
    "language_info": {
      "codemirror_mode": {
        "name": "ipython",
        "version": 3
      },
      "file_extension": ".py",
      "mimetype": "text/x-python",
      "name": "python",
      "nbconvert_exporter": "python",
      "pygments_lexer": "ipython3",
      "version": "3.12.7"
    }
  },
  "nbformat": 4,
  "nbformat_minor": 5
}
