{
 "cells": [
  {
   "cell_type": "markdown",
   "id": "463b441c",
   "metadata": {},
   "source": [
    "# Working with Categorical Data in Python\n",
    "\n",
    "Categorical data—also called **qualitative data**—is foundational to nearly all real-world analysis, from social science surveys to machine learning. Unlike numerical (quantitative) data, categorical variables represent discrete groups, labels, or categories. Understanding how to rigorously represent, summarise, and interpret categorical variables is essential for valid statistics, robust visualisation, and effective modelling.\n",
    "\n",
    "\n",
    "### What Does It Mean to Be \"Categorical\"?\n",
    "\n",
    "**Categorical variables** describe characteristics that can be divided into a **finite number of groups** or levels, known as **categories**. These categories are typically:\n",
    "- **Fixed and known in advance** (e.g., eye colour, marital status, political affiliation).\n",
    "- **Qualitative in nature**—they describe *qualities* or *types* rather than magnitudes.\n",
    "\n",
    "**Examples:**\n",
    "- Gender: {Male, Female, Other}\n",
    "- Eye Colour: {Blue, Brown, Green}\n",
    "- Marital Status: {Single, Married, Divorced, Widowed}\n",
    "- Country of Birth: {Brazil, UK, USA, ...}\n",
    "\n",
    "**Numerical variables** (quantitative data), by contrast, express magnitudes—typically as measurements or counts (e.g., height, weight, salary, age).\n",
    "\n",
    "### Ordinal vs. Nominal Variables\n",
    "\n",
    "**Nominal variables:**\n",
    "- Purely categorical—**no natural order** among categories.\n",
    "- Examples: Eye colour {Blue, Green, Brown}, City names, Blood type.\n",
    "\n",
    "**Ordinal variables:**\n",
    "- Categorical with a **meaningful order or ranking** among categories.\n",
    "- The order matters, but the *interval* between categories is not necessarily consistent or known.\n",
    "- Examples:\n",
    "    - Survey responses: {Strongly Disagree, Disagree, Neutral, Agree, Strongly Agree}\n",
    "    - Education levels: {Primary, Secondary, Tertiary}\n",
    "    - T-shirt sizes: {Small, Medium, Large, Extra Large}\n",
    "\n",
    "**Why does this distinction matter?**\n",
    "- Many statistical methods and visualisations handle ordinal and nominal variables differently.\n",
    "- Ordinal variables allow for medians, percentiles, and ordered comparisons; nominal variables do not.\n",
    "\n",
    "\n",
    "### Describing and Summarising Categorical Data\n",
    "\n",
    "### Using `.describe()`\n",
    "\n",
    "Pandas’ `.describe()` for object or categorical columns yields basic summaries:\n",
    "\n",
    "```python\n",
    "df[\"category_column\"].describe()\n",
    "```\n",
    "\n",
    "Typical output:\n",
    "- **count**: Number of non-missing values.\n",
    "- **unique**: Number of distinct categories.\n",
    "- **top**: Most common category (the mode).\n",
    "- **freq**: Frequency of the most common category.\n",
    "\n",
    "\n",
    "### Frequency Tables and Proportions\n",
    "\n",
    "#### Using `.value_counts()`\n",
    "\n",
    "Get absolute frequencies of each category:\n",
    "\n",
    "```python\n",
    "df[\"category_column\"].value_counts()\n",
    "```\n",
    "\n",
    "#### Using `.value_counts(normalize=True)`\n",
    "\n",
    "Get relative frequencies (proportions):\n",
    "\n",
    "```python\n",
    "df[\"category_column\"].value_counts(normalize=True)\n",
    "```\n",
    "- Proportions sum to 1.0, expressing the percentage of each group.\n",
    "\n",
    "\n",
    "### Cross-tabulations\n",
    "\n",
    "Analyse the relationship between two (or more) categorical variables:\n",
    "\n",
    "```python\n",
    "pd.crosstab(df[\"cat1\"], df[\"cat2\"])\n",
    "```\n",
    "- Produces a contingency table showing counts for each combination of categories.\n",
    "\n",
    "### Encoding Categorical Data\n",
    "\n",
    "**For statistical modelling and machine learning, categorical data must often be encoded numerically:**\n",
    "\n",
    "- **Label encoding:** Assigns each category a unique integer (suitable for ordinal variables).\n",
    "- **One-hot encoding:** Creates a binary indicator column for each category (suitable for nominal variables).\n",
    "\n",
    "```python\n",
    "pd.get_dummies(df[\"category_column\"])\n",
    "```\n",
    "\n",
    "For ordinal variables, use Pandas’ `CategoricalDtype` to specify an order:\n",
    "\n",
    "```python\n",
    "import pandas as pd\n",
    "\n",
    "order = [\"Strongly Disagree\", \"Disagree\", \"Neutral\", \"Agree\", \"Strongly Agree\"]\n",
    "df[\"response\"] = pd.Categorical(df[\"response\"], categories=order, ordered=True)\n",
    "```\n",
    "\n",
    "### Concepts for Categorical Data\n",
    "\n",
    "- **Mode:** The most frequent category—useful for nominal and ordinal data.\n",
    "- **Median:** Only meaningful for ordinal variables.\n",
    "- **Proportions:** Compare category prevalence directly.\n",
    "- **Entropy / Gini impurity:** Measures of category diversity or inequality—useful for decision trees and information theory.\n",
    "- **Chi-square test:** Tests for independence between two categorical variables (contingency table analysis).\n",
    "- **Cramér's V:** Quantifies association strength between two categorical variables.\n",
    "\n",
    "### Visualisation\n",
    "\n",
    "- **Bar plots** for absolute/relative frequencies.\n",
    "- **Pie charts** (with caution) for proportions.\n",
    "- **Stacked bar charts** for bivariate categorical analysis.\n",
    "- **Mosaic plots** for multivariate relationships.\n"
   ]
  },
  {
   "cell_type": "code",
   "execution_count": 125,
   "id": "c07e2d0b",
   "metadata": {},
   "outputs": [],
   "source": [
    "import matplotlib.pyplot as plt\n",
    "import numpy as np\n",
    "import pandas as pd\n",
    "import seaborn as sns"
   ]
  },
  {
   "cell_type": "code",
   "execution_count": 126,
   "id": "a7c2306d",
   "metadata": {},
   "outputs": [
    {
     "data": {
      "application/vnd.microsoft.datawrangler.viewer.v0+json": {
       "columns": [
        {
         "name": "index",
         "rawType": "int64",
         "type": "integer"
        },
        {
         "name": "Age",
         "rawType": "int64",
         "type": "integer"
        },
        {
         "name": "Workclass",
         "rawType": "object",
         "type": "string"
        },
        {
         "name": "fnlgwt",
         "rawType": "int64",
         "type": "integer"
        },
        {
         "name": "Education",
         "rawType": "object",
         "type": "string"
        },
        {
         "name": "Education Num",
         "rawType": "int64",
         "type": "integer"
        },
        {
         "name": "Marital Status",
         "rawType": "object",
         "type": "string"
        },
        {
         "name": "Occupation",
         "rawType": "object",
         "type": "string"
        },
        {
         "name": "Relationship",
         "rawType": "object",
         "type": "string"
        },
        {
         "name": "Race",
         "rawType": "object",
         "type": "string"
        },
        {
         "name": "Sex",
         "rawType": "object",
         "type": "string"
        },
        {
         "name": "Capital Gain",
         "rawType": "int64",
         "type": "integer"
        },
        {
         "name": "Capital Loss",
         "rawType": "int64",
         "type": "integer"
        },
        {
         "name": "Hours/Week",
         "rawType": "int64",
         "type": "integer"
        },
        {
         "name": "Country",
         "rawType": "object",
         "type": "string"
        },
        {
         "name": "Above/Below 50k",
         "rawType": "object",
         "type": "string"
        }
       ],
       "ref": "0ac83809-9bb1-4146-9be7-8da042098ea9",
       "rows": [
        [
         "0",
         "39",
         " State-gov",
         "77516",
         " Bachelors",
         "13",
         " Never-married",
         " Adm-clerical",
         " Not-in-family",
         " White",
         " Male",
         "2174",
         "0",
         "40",
         " United-States",
         " <=50K"
        ],
        [
         "1",
         "50",
         " Self-emp-not-inc",
         "83311",
         " Bachelors",
         "13",
         " Married-civ-spouse",
         " Exec-managerial",
         " Husband",
         " White",
         " Male",
         "0",
         "0",
         "13",
         " United-States",
         " <=50K"
        ],
        [
         "2",
         "38",
         " Private",
         "215646",
         " HS-grad",
         "9",
         " Divorced",
         " Handlers-cleaners",
         " Not-in-family",
         " White",
         " Male",
         "0",
         "0",
         "40",
         " United-States",
         " <=50K"
        ],
        [
         "3",
         "53",
         " Private",
         "234721",
         " 11th",
         "7",
         " Married-civ-spouse",
         " Handlers-cleaners",
         " Husband",
         " Black",
         " Male",
         "0",
         "0",
         "40",
         " United-States",
         " <=50K"
        ],
        [
         "4",
         "28",
         " Private",
         "338409",
         " Bachelors",
         "13",
         " Married-civ-spouse",
         " Prof-specialty",
         " Wife",
         " Black",
         " Female",
         "0",
         "0",
         "40",
         " Cuba",
         " <=50K"
        ]
       ],
       "shape": {
        "columns": 15,
        "rows": 5
       }
      },
      "text/html": [
       "<div>\n",
       "<style scoped>\n",
       "    .dataframe tbody tr th:only-of-type {\n",
       "        vertical-align: middle;\n",
       "    }\n",
       "\n",
       "    .dataframe tbody tr th {\n",
       "        vertical-align: top;\n",
       "    }\n",
       "\n",
       "    .dataframe thead th {\n",
       "        text-align: right;\n",
       "    }\n",
       "</style>\n",
       "<table border=\"1\" class=\"dataframe\">\n",
       "  <thead>\n",
       "    <tr style=\"text-align: right;\">\n",
       "      <th></th>\n",
       "      <th>Age</th>\n",
       "      <th>Workclass</th>\n",
       "      <th>fnlgwt</th>\n",
       "      <th>Education</th>\n",
       "      <th>Education Num</th>\n",
       "      <th>Marital Status</th>\n",
       "      <th>Occupation</th>\n",
       "      <th>Relationship</th>\n",
       "      <th>Race</th>\n",
       "      <th>Sex</th>\n",
       "      <th>Capital Gain</th>\n",
       "      <th>Capital Loss</th>\n",
       "      <th>Hours/Week</th>\n",
       "      <th>Country</th>\n",
       "      <th>Above/Below 50k</th>\n",
       "    </tr>\n",
       "  </thead>\n",
       "  <tbody>\n",
       "    <tr>\n",
       "      <th>0</th>\n",
       "      <td>39</td>\n",
       "      <td>State-gov</td>\n",
       "      <td>77516</td>\n",
       "      <td>Bachelors</td>\n",
       "      <td>13</td>\n",
       "      <td>Never-married</td>\n",
       "      <td>Adm-clerical</td>\n",
       "      <td>Not-in-family</td>\n",
       "      <td>White</td>\n",
       "      <td>Male</td>\n",
       "      <td>2174</td>\n",
       "      <td>0</td>\n",
       "      <td>40</td>\n",
       "      <td>United-States</td>\n",
       "      <td>&lt;=50K</td>\n",
       "    </tr>\n",
       "    <tr>\n",
       "      <th>1</th>\n",
       "      <td>50</td>\n",
       "      <td>Self-emp-not-inc</td>\n",
       "      <td>83311</td>\n",
       "      <td>Bachelors</td>\n",
       "      <td>13</td>\n",
       "      <td>Married-civ-spouse</td>\n",
       "      <td>Exec-managerial</td>\n",
       "      <td>Husband</td>\n",
       "      <td>White</td>\n",
       "      <td>Male</td>\n",
       "      <td>0</td>\n",
       "      <td>0</td>\n",
       "      <td>13</td>\n",
       "      <td>United-States</td>\n",
       "      <td>&lt;=50K</td>\n",
       "    </tr>\n",
       "    <tr>\n",
       "      <th>2</th>\n",
       "      <td>38</td>\n",
       "      <td>Private</td>\n",
       "      <td>215646</td>\n",
       "      <td>HS-grad</td>\n",
       "      <td>9</td>\n",
       "      <td>Divorced</td>\n",
       "      <td>Handlers-cleaners</td>\n",
       "      <td>Not-in-family</td>\n",
       "      <td>White</td>\n",
       "      <td>Male</td>\n",
       "      <td>0</td>\n",
       "      <td>0</td>\n",
       "      <td>40</td>\n",
       "      <td>United-States</td>\n",
       "      <td>&lt;=50K</td>\n",
       "    </tr>\n",
       "    <tr>\n",
       "      <th>3</th>\n",
       "      <td>53</td>\n",
       "      <td>Private</td>\n",
       "      <td>234721</td>\n",
       "      <td>11th</td>\n",
       "      <td>7</td>\n",
       "      <td>Married-civ-spouse</td>\n",
       "      <td>Handlers-cleaners</td>\n",
       "      <td>Husband</td>\n",
       "      <td>Black</td>\n",
       "      <td>Male</td>\n",
       "      <td>0</td>\n",
       "      <td>0</td>\n",
       "      <td>40</td>\n",
       "      <td>United-States</td>\n",
       "      <td>&lt;=50K</td>\n",
       "    </tr>\n",
       "    <tr>\n",
       "      <th>4</th>\n",
       "      <td>28</td>\n",
       "      <td>Private</td>\n",
       "      <td>338409</td>\n",
       "      <td>Bachelors</td>\n",
       "      <td>13</td>\n",
       "      <td>Married-civ-spouse</td>\n",
       "      <td>Prof-specialty</td>\n",
       "      <td>Wife</td>\n",
       "      <td>Black</td>\n",
       "      <td>Female</td>\n",
       "      <td>0</td>\n",
       "      <td>0</td>\n",
       "      <td>40</td>\n",
       "      <td>Cuba</td>\n",
       "      <td>&lt;=50K</td>\n",
       "    </tr>\n",
       "  </tbody>\n",
       "</table>\n",
       "</div>"
      ],
      "text/plain": [
       "   Age          Workclass  fnlgwt   Education  Education Num  \\\n",
       "0   39          State-gov   77516   Bachelors             13   \n",
       "1   50   Self-emp-not-inc   83311   Bachelors             13   \n",
       "2   38            Private  215646     HS-grad              9   \n",
       "3   53            Private  234721        11th              7   \n",
       "4   28            Private  338409   Bachelors             13   \n",
       "\n",
       "        Marital Status          Occupation    Relationship    Race      Sex  \\\n",
       "0        Never-married        Adm-clerical   Not-in-family   White     Male   \n",
       "1   Married-civ-spouse     Exec-managerial         Husband   White     Male   \n",
       "2             Divorced   Handlers-cleaners   Not-in-family   White     Male   \n",
       "3   Married-civ-spouse   Handlers-cleaners         Husband   Black     Male   \n",
       "4   Married-civ-spouse      Prof-specialty            Wife   Black   Female   \n",
       "\n",
       "   Capital Gain  Capital Loss  Hours/Week         Country Above/Below 50k  \n",
       "0          2174             0          40   United-States           <=50K  \n",
       "1             0             0          13   United-States           <=50K  \n",
       "2             0             0          40   United-States           <=50K  \n",
       "3             0             0          40   United-States           <=50K  \n",
       "4             0             0          40            Cuba           <=50K  "
      ]
     },
     "execution_count": 126,
     "metadata": {},
     "output_type": "execute_result"
    }
   ],
   "source": [
    "adult = pd.read_csv(\"data/adult.csv\")\n",
    "adult.head()"
   ]
  },
  {
   "cell_type": "code",
   "execution_count": 127,
   "id": "9d13bcf1",
   "metadata": {},
   "outputs": [
    {
     "name": "stdout",
     "output_type": "stream",
     "text": [
      "<class 'pandas.core.frame.DataFrame'>\n",
      "RangeIndex: 32561 entries, 0 to 32560\n",
      "Data columns (total 15 columns):\n",
      " #   Column           Non-Null Count  Dtype \n",
      "---  ------           --------------  ----- \n",
      " 0   Age              32561 non-null  int64 \n",
      " 1   Workclass        32561 non-null  object\n",
      " 2   fnlgwt           32561 non-null  int64 \n",
      " 3   Education        32561 non-null  object\n",
      " 4   Education Num    32561 non-null  int64 \n",
      " 5   Marital Status   32561 non-null  object\n",
      " 6   Occupation       32561 non-null  object\n",
      " 7   Relationship     32561 non-null  object\n",
      " 8   Race             32561 non-null  object\n",
      " 9   Sex              32561 non-null  object\n",
      " 10  Capital Gain     32561 non-null  int64 \n",
      " 11  Capital Loss     32561 non-null  int64 \n",
      " 12  Hours/Week       32561 non-null  int64 \n",
      " 13  Country          32561 non-null  object\n",
      " 14  Above/Below 50k  32561 non-null  object\n",
      "dtypes: int64(6), object(9)\n",
      "memory usage: 3.7+ MB\n"
     ]
    }
   ],
   "source": [
    "adult.info()"
   ]
  },
  {
   "cell_type": "code",
   "execution_count": 128,
   "id": "42e0fed1",
   "metadata": {},
   "outputs": [
    {
     "data": {
      "application/vnd.microsoft.datawrangler.viewer.v0+json": {
       "columns": [
        {
         "name": "index",
         "rawType": "object",
         "type": "string"
        },
        {
         "name": "Marital Status",
         "rawType": "object",
         "type": "unknown"
        }
       ],
       "ref": "ebb598b9-4df9-4fac-8876-61b110ebf94d",
       "rows": [
        [
         "count",
         "32561"
        ],
        [
         "unique",
         "7"
        ],
        [
         "top",
         " Married-civ-spouse"
        ],
        [
         "freq",
         "14976"
        ]
       ],
       "shape": {
        "columns": 1,
        "rows": 4
       }
      },
      "text/plain": [
       "count                   32561\n",
       "unique                      7\n",
       "top        Married-civ-spouse\n",
       "freq                    14976\n",
       "Name: Marital Status, dtype: object"
      ]
     },
     "execution_count": 128,
     "metadata": {},
     "output_type": "execute_result"
    }
   ],
   "source": [
    "adult[\"Marital Status\"].describe()"
   ]
  },
  {
   "cell_type": "code",
   "execution_count": 129,
   "id": "68c9fc25",
   "metadata": {},
   "outputs": [
    {
     "data": {
      "application/vnd.microsoft.datawrangler.viewer.v0+json": {
       "columns": [
        {
         "name": "Marital Status",
         "rawType": "object",
         "type": "string"
        },
        {
         "name": "count",
         "rawType": "int64",
         "type": "integer"
        }
       ],
       "ref": "23c068c9-bc21-480c-b9a9-4d6516d29bb2",
       "rows": [
        [
         " Married-civ-spouse",
         "14976"
        ],
        [
         " Never-married",
         "10683"
        ],
        [
         " Divorced",
         "4443"
        ],
        [
         " Separated",
         "1025"
        ],
        [
         " Widowed",
         "993"
        ],
        [
         " Married-spouse-absent",
         "418"
        ],
        [
         " Married-AF-spouse",
         "23"
        ]
       ],
       "shape": {
        "columns": 1,
        "rows": 7
       }
      },
      "text/plain": [
       "Marital Status\n",
       "Married-civ-spouse       14976\n",
       "Never-married            10683\n",
       "Divorced                  4443\n",
       "Separated                 1025\n",
       "Widowed                    993\n",
       "Married-spouse-absent      418\n",
       "Married-AF-spouse           23\n",
       "Name: count, dtype: int64"
      ]
     },
     "execution_count": 129,
     "metadata": {},
     "output_type": "execute_result"
    }
   ],
   "source": [
    "adult[\"Marital Status\"].value_counts()"
   ]
  },
  {
   "cell_type": "code",
   "execution_count": 130,
   "id": "28c3421a",
   "metadata": {},
   "outputs": [
    {
     "data": {
      "application/vnd.microsoft.datawrangler.viewer.v0+json": {
       "columns": [
        {
         "name": "Marital Status",
         "rawType": "object",
         "type": "string"
        },
        {
         "name": "proportion",
         "rawType": "float64",
         "type": "float"
        }
       ],
       "ref": "6db169dc-e219-46eb-8b79-67e835307dae",
       "rows": [
        [
         " Married-civ-spouse",
         "0.4599"
        ],
        [
         " Never-married",
         "0.3281"
        ],
        [
         " Divorced",
         "0.1365"
        ],
        [
         " Separated",
         "0.0315"
        ],
        [
         " Widowed",
         "0.0305"
        ],
        [
         " Married-spouse-absent",
         "0.0128"
        ],
        [
         " Married-AF-spouse",
         "0.0007"
        ]
       ],
       "shape": {
        "columns": 1,
        "rows": 7
       }
      },
      "text/plain": [
       "Marital Status\n",
       "Married-civ-spouse       0.4599\n",
       "Never-married            0.3281\n",
       "Divorced                 0.1365\n",
       "Separated                0.0315\n",
       "Widowed                  0.0305\n",
       "Married-spouse-absent    0.0128\n",
       "Married-AF-spouse        0.0007\n",
       "Name: proportion, dtype: float64"
      ]
     },
     "execution_count": 130,
     "metadata": {},
     "output_type": "execute_result"
    }
   ],
   "source": [
    "adult[\"Marital Status\"].value_counts(normalize=True).round(4)"
   ]
  },
  {
   "cell_type": "markdown",
   "id": "0baae332",
   "metadata": {},
   "source": [
    "### Exploring a target variable\n",
    "You have been asked to build a machine learning model to predict whether or not a person makes over $50,000 in a year. To understand the target variable, Above/Below 50k, you decide to explore the variable in more detail.\n",
    "\n",
    "The Python package pandas will be used throughout this course and will be loaded as pd throughout. The adult census income dataset, `adult`, has also been preloaded for you."
   ]
  },
  {
   "cell_type": "code",
   "execution_count": 131,
   "id": "a86d9020",
   "metadata": {},
   "outputs": [
    {
     "data": {
      "application/vnd.microsoft.datawrangler.viewer.v0+json": {
       "columns": [
        {
         "name": "index",
         "rawType": "object",
         "type": "string"
        },
        {
         "name": "Above/Below 50k",
         "rawType": "object",
         "type": "unknown"
        }
       ],
       "ref": "e1f5db54-310a-4a3b-803d-92334c59dc38",
       "rows": [
        [
         "count",
         "32561"
        ],
        [
         "unique",
         "2"
        ],
        [
         "top",
         " <=50K"
        ],
        [
         "freq",
         "24720"
        ]
       ],
       "shape": {
        "columns": 1,
        "rows": 4
       }
      },
      "text/plain": [
       "count      32561\n",
       "unique         2\n",
       "top        <=50K\n",
       "freq       24720\n",
       "Name: Above/Below 50k, dtype: object"
      ]
     },
     "execution_count": 131,
     "metadata": {},
     "output_type": "execute_result"
    }
   ],
   "source": [
    "# Explore the Above/Below 50k variable by printing out a description of the variable's contents.\n",
    "adult[\"Above/Below 50k\"].describe()"
   ]
  },
  {
   "cell_type": "code",
   "execution_count": 132,
   "id": "6340390c",
   "metadata": {},
   "outputs": [
    {
     "data": {
      "application/vnd.microsoft.datawrangler.viewer.v0+json": {
       "columns": [
        {
         "name": "Above/Below 50k",
         "rawType": "object",
         "type": "string"
        },
        {
         "name": "count",
         "rawType": "int64",
         "type": "integer"
        }
       ],
       "ref": "148a3a54-1ffd-4606-8697-5e229156e641",
       "rows": [
        [
         " <=50K",
         "24720"
        ],
        [
         " >50K",
         "7841"
        ]
       ],
       "shape": {
        "columns": 1,
        "rows": 2
       }
      },
      "text/plain": [
       "Above/Below 50k\n",
       "<=50K    24720\n",
       ">50K      7841\n",
       "Name: count, dtype: int64"
      ]
     },
     "execution_count": 132,
     "metadata": {},
     "output_type": "execute_result"
    }
   ],
   "source": [
    "# Explore the Above/Below 50k variable by printing out a frequency table of the values found in this column.\n",
    "adult[\"Above/Below 50k\"].value_counts()"
   ]
  },
  {
   "cell_type": "code",
   "execution_count": 133,
   "id": "9e44200e",
   "metadata": {},
   "outputs": [
    {
     "data": {
      "application/vnd.microsoft.datawrangler.viewer.v0+json": {
       "columns": [
        {
         "name": "Above/Below 50k",
         "rawType": "object",
         "type": "string"
        },
        {
         "name": "proportion",
         "rawType": "float64",
         "type": "float"
        }
       ],
       "ref": "013828e2-612c-4842-bd19-d00c8e5ebd16",
       "rows": [
        [
         " <=50K",
         "0.7592"
        ],
        [
         " >50K",
         "0.2408"
        ]
       ],
       "shape": {
        "columns": 1,
        "rows": 2
       }
      },
      "text/plain": [
       "Above/Below 50k\n",
       "<=50K    0.7592\n",
       ">50K     0.2408\n",
       "Name: proportion, dtype: float64"
      ]
     },
     "execution_count": 133,
     "metadata": {},
     "output_type": "execute_result"
    }
   ],
   "source": [
    "# Rerun .value_counts(), but this time print out the relative frequency values instead of the counts.\n",
    "adult[\"Above/Below 50k\"].value_counts(normalize=True).round(4)"
   ]
  },
  {
   "cell_type": "markdown",
   "id": "3f55e3ac",
   "metadata": {},
   "source": [
    "## Categorical Data in Pandas\n",
    "\n",
    "\n",
    "Pandas offers dedicated support for **categorical data**, which encompasses variables that take on a limited, usually fixed, set of possible values (categories or levels). This is distinct from numerical data and from string data stored with the generic `object` dtype. Using Pandas’ categorical data type brings **significant memory savings**, faster operations, and a more faithful representation of the underlying variable semantics.\n",
    "\n",
    "This guide outlines how to create, convert, and optimise categorical data in Pandas—using general, schema-agnostic strategies and best practices.\n",
    "\n",
    "\n",
    "### Recognising Data Types: `object` vs. `category`\n",
    "\n",
    "- **Object dtype:** By default, columns containing text or mixed types are stored as `object`.\n",
    "- **Category dtype:** Columns defined as `category` encode their values using integer codes and category labels.\n",
    "\n",
    "To examine your DataFrame’s column types:\n",
    "\n",
    "```python\n",
    "data_frame.dtypes\n",
    "```\n",
    "\n",
    "\n",
    "### Converting Columns to Categorical\n",
    "\n",
    "To convert any existing column to categorical type:\n",
    "\n",
    "```python\n",
    "data_frame[\"variable\"] = data_frame[\"variable\"].astype(\"category\")\n",
    "```\n",
    "\n",
    "This operation replaces a memory-intensive object column with a more efficient categorical representation. You can check the result:\n",
    "\n",
    "```python\n",
    "print(data_frame[\"variable\"].dtype)\n",
    "# Output: CategoricalDtype(categories=[...], ordered=False)\n",
    "```\n",
    "\n",
    "Categories are inferred from unique values in the column. The `ordered` property indicates whether the categories have an inherent order.\n",
    "\n",
    "\n",
    "### Creating a Categorical Series from Scratch\n",
    "\n",
    "You can define a categorical series directly, either from a list of values or by specifying both the categories and their order.\n",
    "\n",
    "**Generic construction:**\n",
    "\n",
    "```python\n",
    "import pandas as pd\n",
    "\n",
    "# Basic categorical (categories discovered automatically)\n",
    "series = pd.Series([\"A\", \"B\", \"C\", \"A\"], dtype=\"category\")\n",
    "\n",
    "# Categorical with explicit categories and order\n",
    "ordered_series = pd.Categorical(\n",
    "    [\"X\", \"Y\", \"X\", \"Z\"],\n",
    "    categories=[\"Z\", \"Y\", \"X\"],\n",
    "    ordered=True\n",
    ")\n",
    "```\n",
    "This approach is agnostic to specific domain names—useful for any discrete grouping variable.\n",
    "\n",
    "\n",
    "### Why Use Categorical Dtypes? (Memory & Performance)\n",
    "\n",
    "Converting string/object columns with repeated values to categorical can save significant memory and speed up group-based operations.\n",
    "\n",
    "**Example workflow:**\n",
    "\n",
    "```python\n",
    "# Examine memory usage before conversion\n",
    "before = data_frame[\"variable\"].nbytes\n",
    "\n",
    "# Convert to categorical\n",
    "data_frame[\"variable\"] = data_frame[\"variable\"].astype(\"category\")\n",
    "\n",
    "# Examine memory usage after conversion\n",
    "after = data_frame[\"variable\"].nbytes\n",
    "\n",
    "print(f\"Memory reduced from {before} to {after} bytes\")\n",
    "```\n",
    "\n",
    "This benefit is maximised in large datasets with many repeated values per column.\n",
    "\n",
    "### Reading Data as Categorical\n",
    "\n",
    "You can specify categorical dtypes at the time of data import for efficiency and clarity:\n",
    "\n",
    "```python\n",
    "column_types = {\"variable\": \"category\"}\n",
    "data_frame = pd.read_csv(\"file.csv\", dtype=column_types)\n",
    "```\n",
    "\n",
    "This ensures columns are efficiently represented from the outset, without requiring a post-import conversion.\n",
    "\n",
    "\n",
    "### Managing Categories\n",
    "\n",
    "- **Ordering categories:** For ordinal variables, use `ordered=True` and specify the sequence of categories.\n",
    "- **Changing categories:** Use `.cat` accessor methods (e.g., `.cat.reorder_categories()`, `.cat.add_categories()`, `.cat.remove_unused_categories()`) for advanced manipulation.\n",
    "- **Unused categories:** Categorical dtype can store levels not currently present in the data—useful for predefined schemas.\n",
    "\n",
    "\n"
   ]
  },
  {
   "cell_type": "code",
   "execution_count": 134,
   "id": "3c368f29",
   "metadata": {},
   "outputs": [
    {
     "data": {
      "application/vnd.microsoft.datawrangler.viewer.v0+json": {
       "columns": [
        {
         "name": "index",
         "rawType": "object",
         "type": "string"
        },
        {
         "name": "0",
         "rawType": "object",
         "type": "unknown"
        }
       ],
       "ref": "086f326b-eebb-4715-9b66-e29e49220949",
       "rows": [
        [
         "Age",
         "int64"
        ],
        [
         "Workclass",
         "object"
        ],
        [
         "fnlgwt",
         "int64"
        ],
        [
         "Education",
         "object"
        ],
        [
         "Education Num",
         "int64"
        ],
        [
         "Marital Status",
         "object"
        ],
        [
         "Occupation",
         "object"
        ],
        [
         "Relationship",
         "object"
        ],
        [
         "Race",
         "object"
        ],
        [
         "Sex",
         "object"
        ],
        [
         "Capital Gain",
         "int64"
        ],
        [
         "Capital Loss",
         "int64"
        ],
        [
         "Hours/Week",
         "int64"
        ],
        [
         "Country",
         "object"
        ],
        [
         "Above/Below 50k",
         "object"
        ]
       ],
       "shape": {
        "columns": 1,
        "rows": 15
       }
      },
      "text/plain": [
       "Age                 int64\n",
       "Workclass          object\n",
       "fnlgwt              int64\n",
       "Education          object\n",
       "Education Num       int64\n",
       "Marital Status     object\n",
       "Occupation         object\n",
       "Relationship       object\n",
       "Race               object\n",
       "Sex                object\n",
       "Capital Gain        int64\n",
       "Capital Loss        int64\n",
       "Hours/Week          int64\n",
       "Country            object\n",
       "Above/Below 50k    object\n",
       "dtype: object"
      ]
     },
     "execution_count": 134,
     "metadata": {},
     "output_type": "execute_result"
    }
   ],
   "source": [
    "adult.dtypes"
   ]
  },
  {
   "cell_type": "code",
   "execution_count": 135,
   "id": "b4144858",
   "metadata": {},
   "outputs": [
    {
     "data": {
      "text/plain": [
       "dtype('O')"
      ]
     },
     "execution_count": 135,
     "metadata": {},
     "output_type": "execute_result"
    }
   ],
   "source": [
    "adult[\"Marital Status\"].dtype"
   ]
  },
  {
   "cell_type": "code",
   "execution_count": 136,
   "id": "0dcf9e10",
   "metadata": {},
   "outputs": [],
   "source": [
    "# Set as categorical\n",
    "adult[\"Marital Status\"] = adult[\"Marital Status\"].astype(\"category\")"
   ]
  },
  {
   "cell_type": "code",
   "execution_count": 137,
   "id": "9da5355b",
   "metadata": {},
   "outputs": [
    {
     "data": {
      "text/plain": [
       "CategoricalDtype(categories=[' Divorced', ' Married-AF-spouse', ' Married-civ-spouse',\n",
       "                  ' Married-spouse-absent', ' Never-married', ' Separated',\n",
       "                  ' Widowed'],\n",
       ", ordered=False, categories_dtype=object)"
      ]
     },
     "execution_count": 137,
     "metadata": {},
     "output_type": "execute_result"
    }
   ],
   "source": [
    "adult[\"Marital Status\"].dtype"
   ]
  },
  {
   "cell_type": "code",
   "execution_count": 138,
   "id": "60c6ce01",
   "metadata": {},
   "outputs": [
    {
     "data": {
      "text/plain": [
       "['A', 'A', 'C', 'B', 'C', 'A']\n",
       "Categories (3, object): ['C' < 'B' < 'A']"
      ]
     },
     "execution_count": 138,
     "metadata": {},
     "output_type": "execute_result"
    }
   ],
   "source": [
    "my_data = [\"A\", \"A\", \"C\", \"B\", \"C\", \"A\"]\n",
    "my_series = pd.Categorical(my_data, categories=[\"C\", \"B\", \"A\"], ordered=True)\n",
    "my_series"
   ]
  },
  {
   "cell_type": "code",
   "execution_count": 139,
   "id": "8416412b",
   "metadata": {},
   "outputs": [
    {
     "data": {
      "application/vnd.microsoft.datawrangler.viewer.v0+json": {
       "columns": [
        {
         "name": "index",
         "rawType": "int64",
         "type": "integer"
        },
        {
         "name": "Age",
         "rawType": "int64",
         "type": "integer"
        },
        {
         "name": "Workclass",
         "rawType": "object",
         "type": "string"
        },
        {
         "name": "fnlgwt",
         "rawType": "int64",
         "type": "integer"
        },
        {
         "name": "Education",
         "rawType": "object",
         "type": "string"
        },
        {
         "name": "Education Num",
         "rawType": "int64",
         "type": "integer"
        },
        {
         "name": "Marital Status",
         "rawType": "category",
         "type": "unknown"
        },
        {
         "name": "Occupation",
         "rawType": "object",
         "type": "string"
        },
        {
         "name": "Relationship",
         "rawType": "object",
         "type": "string"
        },
        {
         "name": "Race",
         "rawType": "object",
         "type": "string"
        },
        {
         "name": "Sex",
         "rawType": "object",
         "type": "string"
        },
        {
         "name": "Capital Gain",
         "rawType": "int64",
         "type": "integer"
        },
        {
         "name": "Capital Loss",
         "rawType": "int64",
         "type": "integer"
        },
        {
         "name": "Hours/Week",
         "rawType": "int64",
         "type": "integer"
        },
        {
         "name": "Country",
         "rawType": "object",
         "type": "string"
        },
        {
         "name": "Above/Below 50k",
         "rawType": "object",
         "type": "string"
        }
       ],
       "ref": "41901679-647f-42e4-8183-f61c9dbe32a1",
       "rows": [
        [
         "0",
         "39",
         " State-gov",
         "77516",
         " Bachelors",
         "13",
         " Never-married",
         " Adm-clerical",
         " Not-in-family",
         " White",
         " Male",
         "2174",
         "0",
         "40",
         " United-States",
         " <=50K"
        ],
        [
         "1",
         "50",
         " Self-emp-not-inc",
         "83311",
         " Bachelors",
         "13",
         " Married-civ-spouse",
         " Exec-managerial",
         " Husband",
         " White",
         " Male",
         "0",
         "0",
         "13",
         " United-States",
         " <=50K"
        ],
        [
         "2",
         "38",
         " Private",
         "215646",
         " HS-grad",
         "9",
         " Divorced",
         " Handlers-cleaners",
         " Not-in-family",
         " White",
         " Male",
         "0",
         "0",
         "40",
         " United-States",
         " <=50K"
        ],
        [
         "3",
         "53",
         " Private",
         "234721",
         " 11th",
         "7",
         " Married-civ-spouse",
         " Handlers-cleaners",
         " Husband",
         " Black",
         " Male",
         "0",
         "0",
         "40",
         " United-States",
         " <=50K"
        ],
        [
         "4",
         "28",
         " Private",
         "338409",
         " Bachelors",
         "13",
         " Married-civ-spouse",
         " Prof-specialty",
         " Wife",
         " Black",
         " Female",
         "0",
         "0",
         "40",
         " Cuba",
         " <=50K"
        ]
       ],
       "shape": {
        "columns": 15,
        "rows": 5
       }
      },
      "text/html": [
       "<div>\n",
       "<style scoped>\n",
       "    .dataframe tbody tr th:only-of-type {\n",
       "        vertical-align: middle;\n",
       "    }\n",
       "\n",
       "    .dataframe tbody tr th {\n",
       "        vertical-align: top;\n",
       "    }\n",
       "\n",
       "    .dataframe thead th {\n",
       "        text-align: right;\n",
       "    }\n",
       "</style>\n",
       "<table border=\"1\" class=\"dataframe\">\n",
       "  <thead>\n",
       "    <tr style=\"text-align: right;\">\n",
       "      <th></th>\n",
       "      <th>Age</th>\n",
       "      <th>Workclass</th>\n",
       "      <th>fnlgwt</th>\n",
       "      <th>Education</th>\n",
       "      <th>Education Num</th>\n",
       "      <th>Marital Status</th>\n",
       "      <th>Occupation</th>\n",
       "      <th>Relationship</th>\n",
       "      <th>Race</th>\n",
       "      <th>Sex</th>\n",
       "      <th>Capital Gain</th>\n",
       "      <th>Capital Loss</th>\n",
       "      <th>Hours/Week</th>\n",
       "      <th>Country</th>\n",
       "      <th>Above/Below 50k</th>\n",
       "    </tr>\n",
       "  </thead>\n",
       "  <tbody>\n",
       "    <tr>\n",
       "      <th>0</th>\n",
       "      <td>39</td>\n",
       "      <td>State-gov</td>\n",
       "      <td>77516</td>\n",
       "      <td>Bachelors</td>\n",
       "      <td>13</td>\n",
       "      <td>Never-married</td>\n",
       "      <td>Adm-clerical</td>\n",
       "      <td>Not-in-family</td>\n",
       "      <td>White</td>\n",
       "      <td>Male</td>\n",
       "      <td>2174</td>\n",
       "      <td>0</td>\n",
       "      <td>40</td>\n",
       "      <td>United-States</td>\n",
       "      <td>&lt;=50K</td>\n",
       "    </tr>\n",
       "    <tr>\n",
       "      <th>1</th>\n",
       "      <td>50</td>\n",
       "      <td>Self-emp-not-inc</td>\n",
       "      <td>83311</td>\n",
       "      <td>Bachelors</td>\n",
       "      <td>13</td>\n",
       "      <td>Married-civ-spouse</td>\n",
       "      <td>Exec-managerial</td>\n",
       "      <td>Husband</td>\n",
       "      <td>White</td>\n",
       "      <td>Male</td>\n",
       "      <td>0</td>\n",
       "      <td>0</td>\n",
       "      <td>13</td>\n",
       "      <td>United-States</td>\n",
       "      <td>&lt;=50K</td>\n",
       "    </tr>\n",
       "    <tr>\n",
       "      <th>2</th>\n",
       "      <td>38</td>\n",
       "      <td>Private</td>\n",
       "      <td>215646</td>\n",
       "      <td>HS-grad</td>\n",
       "      <td>9</td>\n",
       "      <td>Divorced</td>\n",
       "      <td>Handlers-cleaners</td>\n",
       "      <td>Not-in-family</td>\n",
       "      <td>White</td>\n",
       "      <td>Male</td>\n",
       "      <td>0</td>\n",
       "      <td>0</td>\n",
       "      <td>40</td>\n",
       "      <td>United-States</td>\n",
       "      <td>&lt;=50K</td>\n",
       "    </tr>\n",
       "    <tr>\n",
       "      <th>3</th>\n",
       "      <td>53</td>\n",
       "      <td>Private</td>\n",
       "      <td>234721</td>\n",
       "      <td>11th</td>\n",
       "      <td>7</td>\n",
       "      <td>Married-civ-spouse</td>\n",
       "      <td>Handlers-cleaners</td>\n",
       "      <td>Husband</td>\n",
       "      <td>Black</td>\n",
       "      <td>Male</td>\n",
       "      <td>0</td>\n",
       "      <td>0</td>\n",
       "      <td>40</td>\n",
       "      <td>United-States</td>\n",
       "      <td>&lt;=50K</td>\n",
       "    </tr>\n",
       "    <tr>\n",
       "      <th>4</th>\n",
       "      <td>28</td>\n",
       "      <td>Private</td>\n",
       "      <td>338409</td>\n",
       "      <td>Bachelors</td>\n",
       "      <td>13</td>\n",
       "      <td>Married-civ-spouse</td>\n",
       "      <td>Prof-specialty</td>\n",
       "      <td>Wife</td>\n",
       "      <td>Black</td>\n",
       "      <td>Female</td>\n",
       "      <td>0</td>\n",
       "      <td>0</td>\n",
       "      <td>40</td>\n",
       "      <td>Cuba</td>\n",
       "      <td>&lt;=50K</td>\n",
       "    </tr>\n",
       "  </tbody>\n",
       "</table>\n",
       "</div>"
      ],
      "text/plain": [
       "   Age          Workclass  fnlgwt   Education  Education Num  \\\n",
       "0   39          State-gov   77516   Bachelors             13   \n",
       "1   50   Self-emp-not-inc   83311   Bachelors             13   \n",
       "2   38            Private  215646     HS-grad              9   \n",
       "3   53            Private  234721        11th              7   \n",
       "4   28            Private  338409   Bachelors             13   \n",
       "\n",
       "        Marital Status          Occupation    Relationship    Race      Sex  \\\n",
       "0        Never-married        Adm-clerical   Not-in-family   White     Male   \n",
       "1   Married-civ-spouse     Exec-managerial         Husband   White     Male   \n",
       "2             Divorced   Handlers-cleaners   Not-in-family   White     Male   \n",
       "3   Married-civ-spouse   Handlers-cleaners         Husband   Black     Male   \n",
       "4   Married-civ-spouse      Prof-specialty            Wife   Black   Female   \n",
       "\n",
       "   Capital Gain  Capital Loss  Hours/Week         Country Above/Below 50k  \n",
       "0          2174             0          40   United-States           <=50K  \n",
       "1             0             0          13   United-States           <=50K  \n",
       "2             0             0          40   United-States           <=50K  \n",
       "3             0             0          40   United-States           <=50K  \n",
       "4             0             0          40            Cuba           <=50K  "
      ]
     },
     "execution_count": 139,
     "metadata": {},
     "output_type": "execute_result"
    }
   ],
   "source": [
    "# Specify dtypes when reading data\n",
    "adult_dtypes = {\"Marital Status\":\"category\"}\n",
    "adult = pd.read_csv(\"data/adult.csv\", dtype=adult_dtypes)\n",
    "adult.head()"
   ]
  },
  {
   "cell_type": "code",
   "execution_count": 140,
   "id": "dd20fb84",
   "metadata": {},
   "outputs": [],
   "source": [
    "import ast\n",
    "\n",
    "# Read the text file and create a list of occupations\n",
    "\n",
    "with open(\"data/list_of_occupations.txt\", \"r\") as file:\n",
    "    content = file.read().strip()\n",
    "    # If the file contains a list-like structure, evaluate it safely\n",
    "    try:\n",
    "        list_of_occupations = ast.literal_eval(content)\n",
    "    except:\n",
    "        # If that fails, try splitting by quotes and filtering\n",
    "        list_of_occupations = [item.strip().strip(\"'\\\"\") for item in content.split(',') if item.strip().strip(\"'\\\"\")]\n"
   ]
  },
  {
   "cell_type": "code",
   "execution_count": 141,
   "id": "fee858c1",
   "metadata": {},
   "outputs": [
    {
     "data": {
      "application/vnd.microsoft.datawrangler.viewer.v0+json": {
       "columns": [
        {
         "name": "index",
         "rawType": "int64",
         "type": "integer"
        },
        {
         "name": "0",
         "rawType": "object",
         "type": "string"
        }
       ],
       "ref": "8ddd407e-e7dc-400c-bc22-bb24614d85e4",
       "rows": [
        [
         "0",
         "Data Scientist"
        ],
        [
         "1",
         "Data Analyst"
        ],
        [
         "2",
         "Data Scientist"
        ],
        [
         "3",
         "Statistician"
        ],
        [
         "4",
         "Data Scientist"
        ],
        [
         "5",
         "Data Scientist"
        ],
        [
         "6",
         "Statistician"
        ],
        [
         "7",
         "Data Scientist"
        ],
        [
         "8",
         "Data Analyst"
        ],
        [
         "9",
         "Data Analyst"
        ],
        [
         "10",
         "Data Scientist"
        ],
        [
         "11",
         "Data Scientist"
        ],
        [
         "12",
         "Data Scientist"
        ],
        [
         "13",
         "Data Scientist"
        ],
        [
         "14",
         "Data Scientist"
        ],
        [
         "15",
         "Data Analyst"
        ],
        [
         "16",
         "Data Scientist"
        ],
        [
         "17",
         "Data Scientist"
        ],
        [
         "18",
         "Data Analyst"
        ],
        [
         "19",
         "Data Scientist"
        ],
        [
         "20",
         "Data Scientist"
        ],
        [
         "21",
         "Data Scientist"
        ],
        [
         "22",
         "Data Scientist"
        ],
        [
         "23",
         "Data Scientist"
        ],
        [
         "24",
         "Data Scientist"
        ],
        [
         "25",
         "Data Analyst"
        ],
        [
         "26",
         "Data Scientist"
        ],
        [
         "27",
         "Data Scientist"
        ],
        [
         "28",
         "Data Scientist"
        ],
        [
         "29",
         "Data Scientist"
        ],
        [
         "30",
         "Data Analyst"
        ],
        [
         "31",
         "Data Scientist"
        ],
        [
         "32",
         "Data Scientist"
        ],
        [
         "33",
         "Data Scientist"
        ],
        [
         "34",
         "Data Scientist"
        ],
        [
         "35",
         "Data Scientist"
        ],
        [
         "36",
         "Statistician"
        ],
        [
         "37",
         "Data Analyst"
        ],
        [
         "38",
         "Data Scientist"
        ],
        [
         "39",
         "Data Scientist"
        ],
        [
         "40",
         "Data Scientist"
        ],
        [
         "41",
         "Data Analyst"
        ],
        [
         "42",
         "Data Scientist"
        ],
        [
         "43",
         "Data Scientist"
        ],
        [
         "44",
         "Data Analyst"
        ],
        [
         "45",
         "Data Scientist"
        ],
        [
         "46",
         "Data Scientist"
        ],
        [
         "47",
         "Data Analyst"
        ],
        [
         "48",
         "Data Analyst"
        ],
        [
         "49",
         "Data Scientist"
        ]
       ],
       "shape": {
        "columns": 1,
        "rows": 1871
       }
      },
      "text/plain": [
       "0       Data Scientist\n",
       "1         Data Analyst\n",
       "2       Data Scientist\n",
       "3         Statistician\n",
       "4       Data Scientist\n",
       "             ...      \n",
       "1866      Data Analyst\n",
       "1867      Data Analyst\n",
       "1868    Data Scientist\n",
       "1869    Data Scientist\n",
       "1870    Data Scientist\n",
       "Length: 1871, dtype: object"
      ]
     },
     "execution_count": 141,
     "metadata": {},
     "output_type": "execute_result"
    }
   ],
   "source": [
    "# Create a pandas Series, series1, using the list_of_occupations (do not set the dtype).\n",
    "series1 = pd.Series(list_of_occupations)\n",
    "series1\n"
   ]
  },
  {
   "cell_type": "code",
   "execution_count": 142,
   "id": "d957ff03",
   "metadata": {},
   "outputs": [
    {
     "name": "stdout",
     "output_type": "stream",
     "text": [
      "series1 data type: object\n",
      "series1 number of bytes: 14968\n"
     ]
    }
   ],
   "source": [
    "# Print both the data type and number of bytes used of this new Series.\n",
    "print(f\"series1 data type: {series1.dtype}\")\n",
    "print(f\"series1 number of bytes: {series1.nbytes}\")\n"
   ]
  },
  {
   "cell_type": "code",
   "execution_count": 143,
   "id": "0ed84326",
   "metadata": {},
   "outputs": [
    {
     "data": {
      "application/vnd.microsoft.datawrangler.viewer.v0+json": {
       "columns": [
        {
         "name": "index",
         "rawType": "int64",
         "type": "integer"
        },
        {
         "name": "0",
         "rawType": "category",
         "type": "unknown"
        }
       ],
       "ref": "ea61a3fb-8cfd-44ed-a777-11602288292e",
       "rows": [
        [
         "0",
         "Data Scientist"
        ],
        [
         "1",
         "Data Analyst"
        ],
        [
         "2",
         "Data Scientist"
        ],
        [
         "3",
         "Statistician"
        ],
        [
         "4",
         "Data Scientist"
        ]
       ],
       "shape": {
        "columns": 1,
        "rows": 5
       }
      },
      "text/plain": [
       "0    Data Scientist\n",
       "1      Data Analyst\n",
       "2    Data Scientist\n",
       "3      Statistician\n",
       "4    Data Scientist\n",
       "dtype: category\n",
       "Categories (3, object): ['Data Analyst', 'Data Scientist', 'Statistician']"
      ]
     },
     "execution_count": 143,
     "metadata": {},
     "output_type": "execute_result"
    }
   ],
   "source": [
    "# Create a second pandas Series, series2, using the list_of_occupations and set the dtype to \"category\".\n",
    "\n",
    "series2 = pd.Series(list_of_occupations, dtype=\"category\")\n",
    "series2.head()"
   ]
  },
  {
   "cell_type": "code",
   "execution_count": 144,
   "id": "0e732cdc",
   "metadata": {},
   "outputs": [
    {
     "name": "stdout",
     "output_type": "stream",
     "text": [
      "series2 data type: category\n",
      "series2 number of bytes: 1895\n"
     ]
    }
   ],
   "source": [
    "# Print both the data type and number of bytes used of this new Series.\n",
    "print(f\"series2 data type: {series2.dtype}\")\n",
    "print(f\"series2 number of bytes: {series2.nbytes}\")"
   ]
  },
  {
   "cell_type": "markdown",
   "id": "1164a7a6",
   "metadata": {},
   "source": [
    "### Creating a categorical pandas Series\n",
    "Another colleague at work has collected information on the number of \"Gold\", \"Silver\", and \"Bronze\" medals won by the USA at the Summer & Winter Olympics since 1896. She has provided this as a list, `medals_won`. Before taking a look at the total number of each medal won, you want to create a categorical pandas Series. However, you know that these medals have a specific order to them and that Gold is better than Silver, but Silver is better than Bronze. Use the object, `medals_won`, to help."
   ]
  },
  {
   "cell_type": "code",
   "execution_count": 145,
   "id": "60caf0e6",
   "metadata": {},
   "outputs": [],
   "source": [
    "import ast\n",
    "\n",
    "# Read the text file and create a list of occupations\n",
    "\n",
    "with open(\"data/medals_won.txt\", \"r\") as file:\n",
    "    content = file.read().strip()\n",
    "    # If the file contains a list-like structure, evaluate it safely\n",
    "    try:\n",
    "        medals_won = ast.literal_eval(content)\n",
    "    except:\n",
    "        # If that fails, try splitting by quotes and filtering\n",
    "        medals_won = [item.strip().strip(\"'\\\"\") for item in content.split(',') if item.strip().strip(\"'\\\"\")]\n"
   ]
  },
  {
   "cell_type": "markdown",
   "id": "40bf26f5",
   "metadata": {},
   "source": [
    "Create a categorical pandas Series without using `pd.Series()`.\n",
    "Specify the three known medal categories such that `\"Bronze\" < \"Silver\" < \"Gold\"`.\n"
   ]
  },
  {
   "cell_type": "code",
   "execution_count": 146,
   "id": "3fee3dd4",
   "metadata": {},
   "outputs": [
    {
     "name": "stdout",
     "output_type": "stream",
     "text": [
      "['Silver', 'Silver', 'Bronze', 'Silver', 'Gold', ..., 'Gold', 'Bronze', 'Silver', 'Gold', 'Gold']\n",
      "Length: 2828\n",
      "Categories (3, object): ['Bronze' < 'Silver' < 'Gold']\n",
      "category\n"
     ]
    }
   ],
   "source": [
    "medals = pd.Categorical(medals_won, categories=[\"Bronze\", \"Silver\", \"Gold\"], ordered=True)\n",
    "print(medals)\n",
    "print(medals.dtype)"
   ]
  },
  {
   "cell_type": "markdown",
   "id": "b47a3d93",
   "metadata": {},
   "source": [
    "### Setting dtype when reading data\n",
    "You are preparing to create a machine learning model to predict a person's income category using the adult census income dataset. You don't have access to any cloud resources and you want to make sure that your laptop will be able to load the full dataset and process its contents. You have read in the first five rows of the dataset `adult` to help you understand what kind of columns are available."
   ]
  },
  {
   "cell_type": "markdown",
   "id": "fdc701bd",
   "metadata": {},
   "source": [
    "#### Question\n",
    "Based on the data types in adult, which columns are good candidates for specifying a dtype of \"category\" when reading in the adult dataset?\n",
    "\n",
    "**Possible answers**:\n",
    "\n",
    "1) \"Age\", \"Education Num\", and \"Nationality\"\n",
    "\n",
    "2) \"Age\", \"Hours/Week\", and \"Capital Loss\"\n",
    "\n",
    "3) \"Workclass\", \"Education Num\", \"Hours/Week\", and \"Above/Below 50k\"\n",
    "\n",
    "4) \"Workclass\", \"Education\", \"Relationship\", \"Above/Below 50k\""
   ]
  },
  {
   "cell_type": "code",
   "execution_count": 147,
   "id": "1e1bece6",
   "metadata": {},
   "outputs": [
    {
     "data": {
      "application/vnd.microsoft.datawrangler.viewer.v0+json": {
       "columns": [
        {
         "name": "index",
         "rawType": "object",
         "type": "string"
        },
        {
         "name": "0",
         "rawType": "object",
         "type": "unknown"
        }
       ],
       "ref": "cd69144d-1e07-4cec-b0d6-34757f8e9e9a",
       "rows": [
        [
         "Age",
         "int64"
        ],
        [
         "Workclass",
         "object"
        ],
        [
         "fnlgwt",
         "int64"
        ],
        [
         "Education",
         "object"
        ],
        [
         "Education Num",
         "int64"
        ],
        [
         "Marital Status",
         "category"
        ],
        [
         "Occupation",
         "object"
        ],
        [
         "Relationship",
         "object"
        ],
        [
         "Race",
         "object"
        ],
        [
         "Sex",
         "object"
        ],
        [
         "Capital Gain",
         "int64"
        ],
        [
         "Capital Loss",
         "int64"
        ],
        [
         "Hours/Week",
         "int64"
        ],
        [
         "Country",
         "object"
        ],
        [
         "Above/Below 50k",
         "object"
        ]
       ],
       "shape": {
        "columns": 1,
        "rows": 15
       }
      },
      "text/plain": [
       "Age                   int64\n",
       "Workclass            object\n",
       "fnlgwt                int64\n",
       "Education            object\n",
       "Education Num         int64\n",
       "Marital Status     category\n",
       "Occupation           object\n",
       "Relationship         object\n",
       "Race                 object\n",
       "Sex                  object\n",
       "Capital Gain          int64\n",
       "Capital Loss          int64\n",
       "Hours/Week            int64\n",
       "Country              object\n",
       "Above/Below 50k      object\n",
       "dtype: object"
      ]
     },
     "execution_count": 147,
     "metadata": {},
     "output_type": "execute_result"
    }
   ],
   "source": [
    "adult.dtypes"
   ]
  },
  {
   "cell_type": "markdown",
   "id": "92df3bf8",
   "metadata": {},
   "source": [
    "Create a dictionary with keys: `\"Workclass\"`, `\"Education\"`, `\"Relationship\"`, and `\"Above/Below 50k\"`.<br>\n",
    "Set the value for each key to be `\"category\"`."
   ]
  },
  {
   "cell_type": "code",
   "execution_count": 148,
   "id": "c380006b",
   "metadata": {},
   "outputs": [],
   "source": [
    "adult_dtypes = {\"Workclass\": \"category\", \"Education\": \"category\", \"Relationship\":\"category\", \"Above/Below 50k\": \"category\"}"
   ]
  },
  {
   "cell_type": "code",
   "execution_count": 149,
   "id": "3287b234",
   "metadata": {},
   "outputs": [
    {
     "data": {
      "application/vnd.microsoft.datawrangler.viewer.v0+json": {
       "columns": [
        {
         "name": "index",
         "rawType": "int64",
         "type": "integer"
        },
        {
         "name": "Age",
         "rawType": "int64",
         "type": "integer"
        },
        {
         "name": "Workclass",
         "rawType": "category",
         "type": "unknown"
        },
        {
         "name": "fnlgwt",
         "rawType": "int64",
         "type": "integer"
        },
        {
         "name": "Education",
         "rawType": "category",
         "type": "unknown"
        },
        {
         "name": "Education Num",
         "rawType": "int64",
         "type": "integer"
        },
        {
         "name": "Marital Status",
         "rawType": "object",
         "type": "string"
        },
        {
         "name": "Occupation",
         "rawType": "object",
         "type": "string"
        },
        {
         "name": "Relationship",
         "rawType": "category",
         "type": "unknown"
        },
        {
         "name": "Race",
         "rawType": "object",
         "type": "string"
        },
        {
         "name": "Sex",
         "rawType": "object",
         "type": "string"
        },
        {
         "name": "Capital Gain",
         "rawType": "int64",
         "type": "integer"
        },
        {
         "name": "Capital Loss",
         "rawType": "int64",
         "type": "integer"
        },
        {
         "name": "Hours/Week",
         "rawType": "int64",
         "type": "integer"
        },
        {
         "name": "Country",
         "rawType": "object",
         "type": "string"
        },
        {
         "name": "Above/Below 50k",
         "rawType": "category",
         "type": "unknown"
        }
       ],
       "ref": "e9a23815-c184-4467-8ab4-7dfcec711309",
       "rows": [
        [
         "0",
         "39",
         " State-gov",
         "77516",
         " Bachelors",
         "13",
         " Never-married",
         " Adm-clerical",
         " Not-in-family",
         " White",
         " Male",
         "2174",
         "0",
         "40",
         " United-States",
         " <=50K"
        ],
        [
         "1",
         "50",
         " Self-emp-not-inc",
         "83311",
         " Bachelors",
         "13",
         " Married-civ-spouse",
         " Exec-managerial",
         " Husband",
         " White",
         " Male",
         "0",
         "0",
         "13",
         " United-States",
         " <=50K"
        ],
        [
         "2",
         "38",
         " Private",
         "215646",
         " HS-grad",
         "9",
         " Divorced",
         " Handlers-cleaners",
         " Not-in-family",
         " White",
         " Male",
         "0",
         "0",
         "40",
         " United-States",
         " <=50K"
        ],
        [
         "3",
         "53",
         " Private",
         "234721",
         " 11th",
         "7",
         " Married-civ-spouse",
         " Handlers-cleaners",
         " Husband",
         " Black",
         " Male",
         "0",
         "0",
         "40",
         " United-States",
         " <=50K"
        ],
        [
         "4",
         "28",
         " Private",
         "338409",
         " Bachelors",
         "13",
         " Married-civ-spouse",
         " Prof-specialty",
         " Wife",
         " Black",
         " Female",
         "0",
         "0",
         "40",
         " Cuba",
         " <=50K"
        ]
       ],
       "shape": {
        "columns": 15,
        "rows": 5
       }
      },
      "text/html": [
       "<div>\n",
       "<style scoped>\n",
       "    .dataframe tbody tr th:only-of-type {\n",
       "        vertical-align: middle;\n",
       "    }\n",
       "\n",
       "    .dataframe tbody tr th {\n",
       "        vertical-align: top;\n",
       "    }\n",
       "\n",
       "    .dataframe thead th {\n",
       "        text-align: right;\n",
       "    }\n",
       "</style>\n",
       "<table border=\"1\" class=\"dataframe\">\n",
       "  <thead>\n",
       "    <tr style=\"text-align: right;\">\n",
       "      <th></th>\n",
       "      <th>Age</th>\n",
       "      <th>Workclass</th>\n",
       "      <th>fnlgwt</th>\n",
       "      <th>Education</th>\n",
       "      <th>Education Num</th>\n",
       "      <th>Marital Status</th>\n",
       "      <th>Occupation</th>\n",
       "      <th>Relationship</th>\n",
       "      <th>Race</th>\n",
       "      <th>Sex</th>\n",
       "      <th>Capital Gain</th>\n",
       "      <th>Capital Loss</th>\n",
       "      <th>Hours/Week</th>\n",
       "      <th>Country</th>\n",
       "      <th>Above/Below 50k</th>\n",
       "    </tr>\n",
       "  </thead>\n",
       "  <tbody>\n",
       "    <tr>\n",
       "      <th>0</th>\n",
       "      <td>39</td>\n",
       "      <td>State-gov</td>\n",
       "      <td>77516</td>\n",
       "      <td>Bachelors</td>\n",
       "      <td>13</td>\n",
       "      <td>Never-married</td>\n",
       "      <td>Adm-clerical</td>\n",
       "      <td>Not-in-family</td>\n",
       "      <td>White</td>\n",
       "      <td>Male</td>\n",
       "      <td>2174</td>\n",
       "      <td>0</td>\n",
       "      <td>40</td>\n",
       "      <td>United-States</td>\n",
       "      <td>&lt;=50K</td>\n",
       "    </tr>\n",
       "    <tr>\n",
       "      <th>1</th>\n",
       "      <td>50</td>\n",
       "      <td>Self-emp-not-inc</td>\n",
       "      <td>83311</td>\n",
       "      <td>Bachelors</td>\n",
       "      <td>13</td>\n",
       "      <td>Married-civ-spouse</td>\n",
       "      <td>Exec-managerial</td>\n",
       "      <td>Husband</td>\n",
       "      <td>White</td>\n",
       "      <td>Male</td>\n",
       "      <td>0</td>\n",
       "      <td>0</td>\n",
       "      <td>13</td>\n",
       "      <td>United-States</td>\n",
       "      <td>&lt;=50K</td>\n",
       "    </tr>\n",
       "    <tr>\n",
       "      <th>2</th>\n",
       "      <td>38</td>\n",
       "      <td>Private</td>\n",
       "      <td>215646</td>\n",
       "      <td>HS-grad</td>\n",
       "      <td>9</td>\n",
       "      <td>Divorced</td>\n",
       "      <td>Handlers-cleaners</td>\n",
       "      <td>Not-in-family</td>\n",
       "      <td>White</td>\n",
       "      <td>Male</td>\n",
       "      <td>0</td>\n",
       "      <td>0</td>\n",
       "      <td>40</td>\n",
       "      <td>United-States</td>\n",
       "      <td>&lt;=50K</td>\n",
       "    </tr>\n",
       "    <tr>\n",
       "      <th>3</th>\n",
       "      <td>53</td>\n",
       "      <td>Private</td>\n",
       "      <td>234721</td>\n",
       "      <td>11th</td>\n",
       "      <td>7</td>\n",
       "      <td>Married-civ-spouse</td>\n",
       "      <td>Handlers-cleaners</td>\n",
       "      <td>Husband</td>\n",
       "      <td>Black</td>\n",
       "      <td>Male</td>\n",
       "      <td>0</td>\n",
       "      <td>0</td>\n",
       "      <td>40</td>\n",
       "      <td>United-States</td>\n",
       "      <td>&lt;=50K</td>\n",
       "    </tr>\n",
       "    <tr>\n",
       "      <th>4</th>\n",
       "      <td>28</td>\n",
       "      <td>Private</td>\n",
       "      <td>338409</td>\n",
       "      <td>Bachelors</td>\n",
       "      <td>13</td>\n",
       "      <td>Married-civ-spouse</td>\n",
       "      <td>Prof-specialty</td>\n",
       "      <td>Wife</td>\n",
       "      <td>Black</td>\n",
       "      <td>Female</td>\n",
       "      <td>0</td>\n",
       "      <td>0</td>\n",
       "      <td>40</td>\n",
       "      <td>Cuba</td>\n",
       "      <td>&lt;=50K</td>\n",
       "    </tr>\n",
       "  </tbody>\n",
       "</table>\n",
       "</div>"
      ],
      "text/plain": [
       "   Age          Workclass  fnlgwt   Education  Education Num  \\\n",
       "0   39          State-gov   77516   Bachelors             13   \n",
       "1   50   Self-emp-not-inc   83311   Bachelors             13   \n",
       "2   38            Private  215646     HS-grad              9   \n",
       "3   53            Private  234721        11th              7   \n",
       "4   28            Private  338409   Bachelors             13   \n",
       "\n",
       "        Marital Status          Occupation    Relationship    Race      Sex  \\\n",
       "0        Never-married        Adm-clerical   Not-in-family   White     Male   \n",
       "1   Married-civ-spouse     Exec-managerial         Husband   White     Male   \n",
       "2             Divorced   Handlers-cleaners   Not-in-family   White     Male   \n",
       "3   Married-civ-spouse   Handlers-cleaners         Husband   Black     Male   \n",
       "4   Married-civ-spouse      Prof-specialty            Wife   Black   Female   \n",
       "\n",
       "   Capital Gain  Capital Loss  Hours/Week         Country Above/Below 50k  \n",
       "0          2174             0          40   United-States           <=50K  \n",
       "1             0             0          13   United-States           <=50K  \n",
       "2             0             0          40   United-States           <=50K  \n",
       "3             0             0          40   United-States           <=50K  \n",
       "4             0             0          40            Cuba           <=50K  "
      ]
     },
     "execution_count": 149,
     "metadata": {},
     "output_type": "execute_result"
    }
   ],
   "source": [
    "# Use the newly created dictionary, adult_dtypes, when reading in adult.csv\n",
    "adult2 = pd.read_csv(\"data/adult.csv\", dtype=adult_dtypes)\n",
    "adult2.head()"
   ]
  },
  {
   "cell_type": "markdown",
   "id": "f54abeb9",
   "metadata": {},
   "source": [
    "## Grouping Data by Category in Pandas\n",
    "\n",
    "Grouping data is a fundamental operation in data analysis, enabling the computation of aggregate statistics and summaries within meaningful subsets. The Pandas `.groupby()` method provides a powerful, flexible, and efficient way to split data into groups, apply functions, and combine the results. This process—*split, apply, combine*—is central to both exploratory data analysis and data wrangling.\n",
    "\n",
    "This guide presents the principles, strategies, and best practices for grouping data by categorical variables in a fully general, schema-agnostic manner.\n",
    "\n",
    "\n",
    "### The Basics: Splitting Data with `.groupby()`\n",
    "\n",
    "The `.groupby()` operation partitions your DataFrame into distinct groups based on the unique values of one or more columns (often categorical). All subsequent computations (such as means, sums, counts, or custom functions) are performed **within each group**.\n",
    "\n",
    "**Syntax:**\n",
    "\n",
    "```python\n",
    "grouped_object = data_frame.groupby(by=\"category_column\")\n",
    "```\n",
    "- You can also group by a list of columns for hierarchical grouping:\n",
    "\n",
    "```python\n",
    "grouped_object = data_frame.groupby(by=[\"category1\", \"category2\"])\n",
    "```\n",
    "\n",
    "\n",
    "### Applying Aggregate Functions\n",
    "\n",
    "Once the data is grouped, apply aggregate functions to summarise the data within each group. This can be done in a chain or stored in an intermediate variable.\n",
    "\n",
    "**Common aggregate functions:**\n",
    "- `.mean()` – arithmetic mean of each group\n",
    "- `.sum()` – total of each group\n",
    "- `.size()` – number of items in each group\n",
    "- `.count()` – number of non-missing items in each group\n",
    "- `.median()`, `.min()`, `.max()`, `.std()`, `.var()` – standard statistics\n",
    "\n",
    "**Example:**\n",
    "\n",
    "```python\n",
    "# Compute the mean of all numeric columns, grouped by a categorical variable\n",
    "grouped_object = data_frame.groupby(by=\"category_column\")\n",
    "means = grouped_object.mean()\n",
    "```\n",
    "\n",
    "**One-liner:**\n",
    "\n",
    "```python\n",
    "data_frame.groupby(\"category_column\").mean()\n",
    "```\n",
    "\n",
    "\n",
    "### Specifying Columns for Aggregation\n",
    "\n",
    "- To aggregate only specific columns, subset them before calling the aggregate function:\n",
    "\n",
    "```python\n",
    "# Only computes the sum for selected columns\n",
    "data_frame.groupby(\"category_column\")[[\"numeric_col1\", \"numeric_col2\"]].sum()\n",
    "```\n",
    "\n",
    "- Alternatively, aggregate all numeric columns, then subset the result:\n",
    "\n",
    "```python\n",
    "# Aggregates all, then selects\n",
    "summary = data_frame.groupby(\"category_column\").sum()[[\"numeric_col1\", \"numeric_col2\"]]\n",
    "```\n",
    "\n",
    "- **Preferred**: Specify columns **before** aggregation, especially with large DataFrames, for efficiency.\n",
    "\n",
    "\n",
    "### Grouping by Multiple Columns\n",
    "\n",
    "Pandas allows grouping by more than one column to create higher-dimensional groupings.\n",
    "\n",
    "```python\n",
    "grouped_object = data_frame.groupby([\"category1\", \"category2\"])\n",
    "result = grouped_object.size()\n",
    "```\n",
    "- The result is a Series or DataFrame with a **MultiIndex** (hierarchical index), reflecting the combination of group keys.\n",
    "\n",
    "\n",
    "### Aggregate with Custom Functions\n",
    "\n",
    "Any function (built-in or custom) can be applied to grouped data via `.agg()`:\n",
    "\n",
    "```python\n",
    "# Apply multiple functions to one or more columns\n",
    "grouped_object.agg({\"numeric_col\": [\"mean\", \"sum\", \"std\"]})\n",
    "```\n",
    "\n",
    "- `.agg()` accepts dictionaries, lists of functions, or even lambda expressions for flexible summaries.\n",
    "\n",
    "\n",
    "### Output Types\n",
    "\n",
    "- Aggregating a **single column** produces a Series indexed by the group key(s).\n",
    "- Aggregating **multiple columns** yields a DataFrame with group key(s) as the index.\n",
    "\n"
   ]
  },
  {
   "cell_type": "code",
   "execution_count": 150,
   "id": "a45fd7d4",
   "metadata": {},
   "outputs": [
    {
     "data": {
      "application/vnd.microsoft.datawrangler.viewer.v0+json": {
       "columns": [
        {
         "name": "Above/Below 50k",
         "rawType": "object",
         "type": "string"
        },
        {
         "name": "Age",
         "rawType": "float64",
         "type": "float"
        },
        {
         "name": "fnlgwt",
         "rawType": "float64",
         "type": "float"
        },
        {
         "name": "Education Num",
         "rawType": "float64",
         "type": "float"
        },
        {
         "name": "Capital Gain",
         "rawType": "float64",
         "type": "float"
        },
        {
         "name": "Capital Loss",
         "rawType": "float64",
         "type": "float"
        },
        {
         "name": "Hours/Week",
         "rawType": "float64",
         "type": "float"
        }
       ],
       "ref": "5a775a46-909d-4abb-8148-32cb6e77c959",
       "rows": [
        [
         " <=50K",
         "36.7837",
         "190340.8652",
         "9.5951",
         "148.7525",
         "53.1429",
         "38.8402"
        ],
        [
         " >50K",
         "44.2498",
         "188005.0",
         "11.6117",
         "4006.1425",
         "195.0015",
         "45.473"
        ]
       ],
       "shape": {
        "columns": 6,
        "rows": 2
       }
      },
      "text/html": [
       "<div>\n",
       "<style scoped>\n",
       "    .dataframe tbody tr th:only-of-type {\n",
       "        vertical-align: middle;\n",
       "    }\n",
       "\n",
       "    .dataframe tbody tr th {\n",
       "        vertical-align: top;\n",
       "    }\n",
       "\n",
       "    .dataframe thead th {\n",
       "        text-align: right;\n",
       "    }\n",
       "</style>\n",
       "<table border=\"1\" class=\"dataframe\">\n",
       "  <thead>\n",
       "    <tr style=\"text-align: right;\">\n",
       "      <th></th>\n",
       "      <th>Age</th>\n",
       "      <th>fnlgwt</th>\n",
       "      <th>Education Num</th>\n",
       "      <th>Capital Gain</th>\n",
       "      <th>Capital Loss</th>\n",
       "      <th>Hours/Week</th>\n",
       "    </tr>\n",
       "    <tr>\n",
       "      <th>Above/Below 50k</th>\n",
       "      <th></th>\n",
       "      <th></th>\n",
       "      <th></th>\n",
       "      <th></th>\n",
       "      <th></th>\n",
       "      <th></th>\n",
       "    </tr>\n",
       "  </thead>\n",
       "  <tbody>\n",
       "    <tr>\n",
       "      <th>&lt;=50K</th>\n",
       "      <td>36.7837</td>\n",
       "      <td>190340.8652</td>\n",
       "      <td>9.5951</td>\n",
       "      <td>148.7525</td>\n",
       "      <td>53.1429</td>\n",
       "      <td>38.8402</td>\n",
       "    </tr>\n",
       "    <tr>\n",
       "      <th>&gt;50K</th>\n",
       "      <td>44.2498</td>\n",
       "      <td>188005.0000</td>\n",
       "      <td>11.6117</td>\n",
       "      <td>4006.1425</td>\n",
       "      <td>195.0015</td>\n",
       "      <td>45.4730</td>\n",
       "    </tr>\n",
       "  </tbody>\n",
       "</table>\n",
       "</div>"
      ],
      "text/plain": [
       "                     Age       fnlgwt  Education Num  Capital Gain  \\\n",
       "Above/Below 50k                                                      \n",
       "<=50K            36.7837  190340.8652         9.5951      148.7525   \n",
       ">50K             44.2498  188005.0000        11.6117     4006.1425   \n",
       "\n",
       "                 Capital Loss  Hours/Week  \n",
       "Above/Below 50k                            \n",
       "<=50K                 53.1429     38.8402  \n",
       ">50K                 195.0015     45.4730  "
      ]
     },
     "execution_count": 150,
     "metadata": {},
     "output_type": "execute_result"
    }
   ],
   "source": [
    "groupby_object = adult.groupby(by=[\"Above/Below 50k\"]).mean(numeric_only=True).round(4)\n",
    "groupby_object"
   ]
  },
  {
   "cell_type": "code",
   "execution_count": 151,
   "id": "93b5ac4f",
   "metadata": {},
   "outputs": [
    {
     "data": {
      "application/vnd.microsoft.datawrangler.viewer.v0+json": {
       "columns": [
        {
         "name": "Above/Below 50k",
         "rawType": "object",
         "type": "string"
        },
        {
         "name": "Age",
         "rawType": "int64",
         "type": "integer"
        },
        {
         "name": "Education Num",
         "rawType": "int64",
         "type": "integer"
        }
       ],
       "ref": "b99fa895-3ddc-4c71-b002-085eff585a58",
       "rows": [
        [
         " <=50K",
         "909294",
         "237190"
        ],
        [
         " >50K",
         "346963",
         "91047"
        ]
       ],
       "shape": {
        "columns": 2,
        "rows": 2
       }
      },
      "text/html": [
       "<div>\n",
       "<style scoped>\n",
       "    .dataframe tbody tr th:only-of-type {\n",
       "        vertical-align: middle;\n",
       "    }\n",
       "\n",
       "    .dataframe tbody tr th {\n",
       "        vertical-align: top;\n",
       "    }\n",
       "\n",
       "    .dataframe thead th {\n",
       "        text-align: right;\n",
       "    }\n",
       "</style>\n",
       "<table border=\"1\" class=\"dataframe\">\n",
       "  <thead>\n",
       "    <tr style=\"text-align: right;\">\n",
       "      <th></th>\n",
       "      <th>Age</th>\n",
       "      <th>Education Num</th>\n",
       "    </tr>\n",
       "    <tr>\n",
       "      <th>Above/Below 50k</th>\n",
       "      <th></th>\n",
       "      <th></th>\n",
       "    </tr>\n",
       "  </thead>\n",
       "  <tbody>\n",
       "    <tr>\n",
       "      <th>&lt;=50K</th>\n",
       "      <td>909294</td>\n",
       "      <td>237190</td>\n",
       "    </tr>\n",
       "    <tr>\n",
       "      <th>&gt;50K</th>\n",
       "      <td>346963</td>\n",
       "      <td>91047</td>\n",
       "    </tr>\n",
       "  </tbody>\n",
       "</table>\n",
       "</div>"
      ],
      "text/plain": [
       "                    Age  Education Num\n",
       "Above/Below 50k                       \n",
       "<=50K            909294         237190\n",
       ">50K             346963          91047"
      ]
     },
     "execution_count": 151,
     "metadata": {},
     "output_type": "execute_result"
    }
   ],
   "source": [
    "# Specifying columns\n",
    "adult.groupby(by=[\"Above/Below 50k\"])[[\"Age\", \"Education Num\"]].sum()"
   ]
  },
  {
   "cell_type": "code",
   "execution_count": 152,
   "id": "b338ce17",
   "metadata": {},
   "outputs": [
    {
     "name": "stdout",
     "output_type": "stream",
     "text": [
      "Above/Below 50k  Marital Status       \n",
      "<=50K            Divorced                  3980\n",
      "                 Married-AF-spouse           13\n",
      "                 Married-civ-spouse        8284\n",
      "                 Married-spouse-absent      384\n",
      "                 Never-married            10192\n",
      "                 Separated                  959\n",
      "                 Widowed                    908\n",
      ">50K             Divorced                   463\n",
      "                 Married-AF-spouse           10\n",
      "                 Married-civ-spouse        6692\n",
      "                 Married-spouse-absent       34\n",
      "                 Never-married              491\n",
      "                 Separated                   66\n",
      "                 Widowed                     85\n",
      "dtype: int64\n"
     ]
    }
   ],
   "source": [
    "print(adult.groupby(by=[\"Above/Below 50k\", \"Marital Status\"], observed=True).size())\n"
   ]
  },
  {
   "cell_type": "markdown",
   "id": "22559e29",
   "metadata": {},
   "source": [
    "### Create lots of groups\n",
    "You want to find the mean Age of adults when grouping by the following categories:\n",
    "\n",
    "- `\"Workclass\"` (which has 9 categories)\n",
    "- `\"Above/Below 50k\"` (which has 2 categories)\n",
    "- `\"Education\"` (which has 16 categories).\n",
    "You have developed the following bit of code:\n",
    "```python\n",
    "gb = adult.groupby(by=[ \"Workclass\",\n",
    "                        \"Above/Below 50k\", \n",
    "                        \"Education\"])\n",
    "```\n",
    "How many groups are in the gb object and what is the maximum possible number of groups that could have been created? The dataset adult, and the gb object have been preloaded for you."
   ]
  },
  {
   "cell_type": "code",
   "execution_count": 153,
   "id": "b8d11586",
   "metadata": {},
   "outputs": [
    {
     "data": {
      "application/vnd.microsoft.datawrangler.viewer.v0+json": {
       "columns": [
        {
         "name": "('Workclass', 'Above/Below 50k', 'Education')",
         "rawType": "object",
         "type": "unknown"
        },
        {
         "name": "Age",
         "rawType": "float64",
         "type": "float"
        }
       ],
       "ref": "d352db9d-4cfa-4af8-a769-b43edadfa2e0",
       "rows": [
        [
         "(' ?', ' <=50K', ' 10th')",
         "33.357142857142854"
        ],
        [
         "(' ?', ' <=50K', ' 11th')",
         "32.3728813559322"
        ],
        [
         "(' ?', ' <=50K', ' 12th')",
         "30.736842105263158"
        ],
        [
         "(' ?', ' <=50K', ' 1st-4th')",
         "63.833333333333336"
        ],
        [
         "(' ?', ' <=50K', ' 5th-6th')",
         "53.642857142857146"
        ],
        [
         "(' ?', ' <=50K', ' 7th-8th')",
         "55.957142857142856"
        ],
        [
         "(' ?', ' <=50K', ' 9th')",
         "46.88"
        ],
        [
         "(' ?', ' <=50K', ' Assoc-acdm')",
         "38.26829268292683"
        ],
        [
         "(' ?', ' <=50K', ' Assoc-voc')",
         "45.979166666666664"
        ],
        [
         "(' ?', ' <=50K', ' Bachelors')",
         "44.171875"
        ],
        [
         "(' ?', ' <=50K', ' Doctorate')",
         "66.75"
        ],
        [
         "(' ?', ' <=50K', ' HS-grad')",
         "44.275720164609055"
        ],
        [
         "(' ?', ' <=50K', ' Masters')",
         "52.2"
        ],
        [
         "(' ?', ' <=50K', ' Preschool')",
         "54.8"
        ],
        [
         "(' ?', ' <=50K', ' Prof-school')",
         "62.0"
        ],
        [
         "(' ?', ' <=50K', ' Some-college')",
         "29.47599164926931"
        ],
        [
         "(' ?', ' >50K', ' 10th')",
         "64.5"
        ],
        [
         "(' ?', ' >50K', ' 12th')",
         "35.5"
        ],
        [
         "(' ?', ' >50K', ' 5th-6th')",
         "58.5"
        ],
        [
         "(' ?', ' >50K', ' 7th-8th')",
         "61.5"
        ],
        [
         "(' ?', ' >50K', ' 9th')",
         "63.0"
        ],
        [
         "(' ?', ' >50K', ' Assoc-acdm')",
         "59.5"
        ],
        [
         "(' ?', ' >50K', ' Assoc-voc')",
         "43.69230769230769"
        ],
        [
         "(' ?', ' >50K', ' Bachelors')",
         "52.91111111111111"
        ],
        [
         "(' ?', ' >50K', ' Doctorate')",
         "62.45454545454545"
        ],
        [
         "(' ?', ' >50K', ' HS-grad')",
         "58.08695652173913"
        ],
        [
         "(' ?', ' >50K', ' Masters')",
         "56.388888888888886"
        ],
        [
         "(' ?', ' >50K', ' Prof-school')",
         "65.5"
        ],
        [
         "(' ?', ' >50K', ' Some-college')",
         "54.74285714285714"
        ],
        [
         "(' Federal-gov', ' <=50K', ' 10th')",
         "54.333333333333336"
        ],
        [
         "(' Federal-gov', ' <=50K', ' 11th')",
         "41.5"
        ],
        [
         "(' Federal-gov', ' <=50K', ' 12th')",
         "36.0"
        ],
        [
         "(' Federal-gov', ' <=50K', ' 5th-6th')",
         "35.0"
        ],
        [
         "(' Federal-gov', ' <=50K', ' 7th-8th')",
         "56.0"
        ],
        [
         "(' Federal-gov', ' <=50K', ' 9th')",
         "32.5"
        ],
        [
         "(' Federal-gov', ' <=50K', ' Assoc-acdm')",
         "37.583333333333336"
        ],
        [
         "(' Federal-gov', ' <=50K', ' Assoc-voc')",
         "41.391304347826086"
        ],
        [
         "(' Federal-gov', ' <=50K', ' Bachelors')",
         "38.427350427350426"
        ],
        [
         "(' Federal-gov', ' <=50K', ' Doctorate')",
         "34.0"
        ],
        [
         "(' Federal-gov', ' <=50K', ' HS-grad')",
         "41.810526315789474"
        ],
        [
         "(' Federal-gov', ' <=50K', ' Masters')",
         "45.2"
        ],
        [
         "(' Federal-gov', ' <=50K', ' Prof-school')",
         "29.833333333333332"
        ],
        [
         "(' Federal-gov', ' <=50K', ' Some-college')",
         "40.7906976744186"
        ],
        [
         "(' Federal-gov', ' >50K', ' 11th')",
         "58.0"
        ],
        [
         "(' Federal-gov', ' >50K', ' 9th')",
         "39.0"
        ],
        [
         "(' Federal-gov', ' >50K', ' Assoc-acdm')",
         "46.10526315789474"
        ],
        [
         "(' Federal-gov', ' >50K', ' Assoc-voc')",
         "41.86666666666667"
        ],
        [
         "(' Federal-gov', ' >50K', ' Bachelors')",
         "44.863157894736844"
        ],
        [
         "(' Federal-gov', ' >50K', ' Doctorate')",
         "50.13333333333333"
        ],
        [
         "(' Federal-gov', ' >50K', ' HS-grad')",
         "47.23287671232877"
        ]
       ],
       "shape": {
        "columns": 1,
        "rows": 208
       }
      },
      "text/plain": [
       "Workclass    Above/Below 50k  Education   \n",
       "?            <=50K            10th            33.357143\n",
       "                              11th            32.372881\n",
       "                              12th            30.736842\n",
       "                              1st-4th         63.833333\n",
       "                              5th-6th         53.642857\n",
       "                                                ...    \n",
       "State-gov    >50K             Some-college    44.322581\n",
       "Without-pay  <=50K            7th-8th         65.000000\n",
       "                              Assoc-acdm      62.000000\n",
       "                              HS-grad         42.555556\n",
       "                              Some-college    53.000000\n",
       "Name: Age, Length: 208, dtype: float64"
      ]
     },
     "execution_count": 153,
     "metadata": {},
     "output_type": "execute_result"
    }
   ],
   "source": [
    "gb = adult.groupby(by=[\"Workclass\", \"Above/Below 50k\", \"Education\"])[\"Age\"].mean()\n",
    "gb\n"
   ]
  },
  {
   "cell_type": "code",
   "execution_count": 154,
   "id": "1dcf1ac1",
   "metadata": {},
   "outputs": [
    {
     "name": "stdout",
     "output_type": "stream",
     "text": [
      "Sex     Above/Below 50k\n",
      "Female  <=50K               9592\n",
      "        >50K                1179\n",
      "Male    <=50K              15128\n",
      "        >50K                6662\n",
      "dtype: int64\n"
     ]
    },
    {
     "data": {
      "application/vnd.microsoft.datawrangler.viewer.v0+json": {
       "columns": [
        {
         "name": "('Sex', 'Above/Below 50k')",
         "rawType": "object",
         "type": "unknown"
        },
        {
         "name": "Age",
         "rawType": "float64",
         "type": "float"
        },
        {
         "name": "fnlgwt",
         "rawType": "float64",
         "type": "float"
        },
        {
         "name": "Education Num",
         "rawType": "float64",
         "type": "float"
        },
        {
         "name": "Capital Gain",
         "rawType": "float64",
         "type": "float"
        },
        {
         "name": "Capital Loss",
         "rawType": "float64",
         "type": "float"
        },
        {
         "name": "Hours/Week",
         "rawType": "float64",
         "type": "float"
        }
       ],
       "ref": "a3bff4b7-eaf1-46e6-8993-cb8f3ff16dc1",
       "rows": [
        [
         "(' Female', ' <=50K')",
         "36.210800667222685",
         "185999.38135946624",
         "9.82047539616347",
         "121.98613427856547",
         "47.36447039199333",
         "35.91670141784821"
        ],
        [
         "(' Female', ' >50K')",
         "42.125530110262936",
         "183687.4062765055",
         "11.787107718405428",
         "4200.3893129770995",
         "173.64885496183206",
         "40.426632739609836"
        ],
        [
         "(' Male', ' <=50K')",
         "37.147012162876784",
         "193093.6092675833",
         "9.45214172395558",
         "165.72382337387626",
         "56.806782125859336",
         "40.69387890005288"
        ],
        [
         "(' Male', ' >50K')",
         "44.62578805163614",
         "188769.10132092464",
         "11.580606424497148",
         "3971.7658360852597",
         "198.78039627739417",
         "46.366106274392074"
        ]
       ],
       "shape": {
        "columns": 6,
        "rows": 4
       }
      },
      "text/html": [
       "<div>\n",
       "<style scoped>\n",
       "    .dataframe tbody tr th:only-of-type {\n",
       "        vertical-align: middle;\n",
       "    }\n",
       "\n",
       "    .dataframe tbody tr th {\n",
       "        vertical-align: top;\n",
       "    }\n",
       "\n",
       "    .dataframe thead th {\n",
       "        text-align: right;\n",
       "    }\n",
       "</style>\n",
       "<table border=\"1\" class=\"dataframe\">\n",
       "  <thead>\n",
       "    <tr style=\"text-align: right;\">\n",
       "      <th></th>\n",
       "      <th></th>\n",
       "      <th>Age</th>\n",
       "      <th>fnlgwt</th>\n",
       "      <th>Education Num</th>\n",
       "      <th>Capital Gain</th>\n",
       "      <th>Capital Loss</th>\n",
       "      <th>Hours/Week</th>\n",
       "    </tr>\n",
       "    <tr>\n",
       "      <th>Sex</th>\n",
       "      <th>Above/Below 50k</th>\n",
       "      <th></th>\n",
       "      <th></th>\n",
       "      <th></th>\n",
       "      <th></th>\n",
       "      <th></th>\n",
       "      <th></th>\n",
       "    </tr>\n",
       "  </thead>\n",
       "  <tbody>\n",
       "    <tr>\n",
       "      <th rowspan=\"2\" valign=\"top\">Female</th>\n",
       "      <th>&lt;=50K</th>\n",
       "      <td>36.210801</td>\n",
       "      <td>185999.381359</td>\n",
       "      <td>9.820475</td>\n",
       "      <td>121.986134</td>\n",
       "      <td>47.364470</td>\n",
       "      <td>35.916701</td>\n",
       "    </tr>\n",
       "    <tr>\n",
       "      <th>&gt;50K</th>\n",
       "      <td>42.125530</td>\n",
       "      <td>183687.406277</td>\n",
       "      <td>11.787108</td>\n",
       "      <td>4200.389313</td>\n",
       "      <td>173.648855</td>\n",
       "      <td>40.426633</td>\n",
       "    </tr>\n",
       "    <tr>\n",
       "      <th rowspan=\"2\" valign=\"top\">Male</th>\n",
       "      <th>&lt;=50K</th>\n",
       "      <td>37.147012</td>\n",
       "      <td>193093.609268</td>\n",
       "      <td>9.452142</td>\n",
       "      <td>165.723823</td>\n",
       "      <td>56.806782</td>\n",
       "      <td>40.693879</td>\n",
       "    </tr>\n",
       "    <tr>\n",
       "      <th>&gt;50K</th>\n",
       "      <td>44.625788</td>\n",
       "      <td>188769.101321</td>\n",
       "      <td>11.580606</td>\n",
       "      <td>3971.765836</td>\n",
       "      <td>198.780396</td>\n",
       "      <td>46.366106</td>\n",
       "    </tr>\n",
       "  </tbody>\n",
       "</table>\n",
       "</div>"
      ],
      "text/plain": [
       "                              Age         fnlgwt  Education Num  Capital Gain  \\\n",
       "Sex    Above/Below 50k                                                          \n",
       "Female <=50K            36.210801  185999.381359       9.820475    121.986134   \n",
       "       >50K             42.125530  183687.406277      11.787108   4200.389313   \n",
       "Male   <=50K            37.147012  193093.609268       9.452142    165.723823   \n",
       "       >50K             44.625788  188769.101321      11.580606   3971.765836   \n",
       "\n",
       "                        Capital Loss  Hours/Week  \n",
       "Sex    Above/Below 50k                            \n",
       "Female <=50K               47.364470   35.916701  \n",
       "       >50K               173.648855   40.426633  \n",
       "Male   <=50K               56.806782   40.693879  \n",
       "       >50K               198.780396   46.366106  "
      ]
     },
     "metadata": {},
     "output_type": "display_data"
    }
   ],
   "source": [
    "# Split the adult dataset across the \"Sex\" and \"Above/Below 50k\" columns, saving this object as gb.\n",
    "gb = adult.groupby(by=[\"Sex\", \"Above/Below 50k\"])\n",
    "\n",
    "# Print out the number of observations found in each group.\n",
    "print(gb.size())\n",
    "\n",
    "# Using gb, find the average of each numerical column.\n",
    "display(gb.mean(numeric_only=True))\n"
   ]
  },
  {
   "cell_type": "markdown",
   "id": "c516b7cd",
   "metadata": {},
   "source": [
    "### Using pandas functions effectively\n",
    "You are creating a Python application that will calculate summary statistics based on user-selected variables. The complete dataset is quite large. For now, you are setting up your code using part of the dataset, preloaded as `adult`. As you create a reusable process, make sure you are thinking through the most efficient way to setup the `GroupBy` object."
   ]
  },
  {
   "cell_type": "code",
   "execution_count": 155,
   "id": "7797da6c",
   "metadata": {},
   "outputs": [
    {
     "data": {
      "application/vnd.microsoft.datawrangler.viewer.v0+json": {
       "columns": [
        {
         "name": "('Education', 'Above/Below 50k')",
         "rawType": "object",
         "type": "unknown"
        },
        {
         "name": "Hours/Week",
         "rawType": "float64",
         "type": "float"
        }
       ],
       "ref": "db79a475-ea92-4994-8bd1-278d00da3b6f",
       "rows": [
        [
         "(' 10th', ' <=50K')",
         "36.5741"
        ],
        [
         "(' 10th', ' >50K')",
         "43.7742"
        ],
        [
         "(' 11th', ' <=50K')",
         "33.3229"
        ],
        [
         "(' 11th', ' >50K')",
         "45.1333"
        ],
        [
         "(' 12th', ' <=50K')",
         "35.035"
        ],
        [
         "(' 12th', ' >50K')",
         "44.8182"
        ],
        [
         "(' 1st-4th', ' <=50K')",
         "37.8642"
        ],
        [
         "(' 1st-4th', ' >50K')",
         "48.8333"
        ],
        [
         "(' 5th-6th', ' <=50K')",
         "38.5394"
        ],
        [
         "(' 5th-6th', ' >50K')",
         "46.0"
        ],
        [
         "(' 7th-8th', ' <=50K')",
         "38.83"
        ],
        [
         "(' 7th-8th', ' >50K')",
         "47.5"
        ],
        [
         "(' 9th', ' <=50K')",
         "37.6674"
        ],
        [
         "(' 9th', ' >50K')",
         "44.8519"
        ],
        [
         "(' Assoc-acdm', ' <=50K')",
         "39.2643"
        ],
        [
         "(' Assoc-acdm', ' >50K')",
         "44.2566"
        ],
        [
         "(' Assoc-voc', ' <=50K')",
         "40.8178"
        ],
        [
         "(' Assoc-voc', ' >50K')",
         "43.8532"
        ],
        [
         "(' Bachelors', ' <=50K')",
         "40.5862"
        ],
        [
         "(' Bachelors', ' >50K')",
         "45.4755"
        ],
        [
         "(' Doctorate', ' <=50K')",
         "45.4299"
        ],
        [
         "(' Doctorate', ' >50K')",
         "47.5131"
        ],
        [
         "(' HS-grad', ' <=50K')",
         "39.7275"
        ],
        [
         "(' HS-grad', ' >50K')",
         "45.043"
        ],
        [
         "(' Masters', ' <=50K')",
         "41.2238"
        ],
        [
         "(' Masters', ' >50K')",
         "45.9176"
        ],
        [
         "(' Preschool', ' <=50K')",
         "36.6471"
        ],
        [
         "(' Prof-school', ' <=50K')",
         "42.817"
        ],
        [
         "(' Prof-school', ' >50K')",
         "49.0922"
        ],
        [
         "(' Some-college', ' <=50K')",
         "37.4502"
        ],
        [
         "(' Some-college', ' >50K')",
         "44.8205"
        ]
       ],
       "shape": {
        "columns": 1,
        "rows": 31
       }
      },
      "text/plain": [
       "Education     Above/Below 50k\n",
       "10th          <=50K              36.5741\n",
       "              >50K               43.7742\n",
       "11th          <=50K              33.3229\n",
       "              >50K               45.1333\n",
       "12th          <=50K              35.0350\n",
       "              >50K               44.8182\n",
       "1st-4th       <=50K              37.8642\n",
       "              >50K               48.8333\n",
       "5th-6th       <=50K              38.5394\n",
       "              >50K               46.0000\n",
       "7th-8th       <=50K              38.8300\n",
       "              >50K               47.5000\n",
       "9th           <=50K              37.6674\n",
       "              >50K               44.8519\n",
       "Assoc-acdm    <=50K              39.2643\n",
       "              >50K               44.2566\n",
       "Assoc-voc     <=50K              40.8178\n",
       "              >50K               43.8532\n",
       "Bachelors     <=50K              40.5862\n",
       "              >50K               45.4755\n",
       "Doctorate     <=50K              45.4299\n",
       "              >50K               47.5131\n",
       "HS-grad       <=50K              39.7275\n",
       "              >50K               45.0430\n",
       "Masters       <=50K              41.2238\n",
       "              >50K               45.9176\n",
       "Preschool     <=50K              36.6471\n",
       "Prof-school   <=50K              42.8170\n",
       "              >50K               49.0922\n",
       "Some-college  <=50K              37.4502\n",
       "              >50K               44.8205\n",
       "Name: Hours/Week, dtype: float64"
      ]
     },
     "metadata": {},
     "output_type": "display_data"
    }
   ],
   "source": [
    "# Create a list of the names for two user-selected variables: \"Education\" and \"Above/Below 50k\".\n",
    "user_list = [\"Education\", \"Above/Below 50k\"]\n",
    "\n",
    "# Create a GroupBy object, gb, using the user_list as the grouping variables.\n",
    "gb = adult.groupby(by=user_list)\n",
    "\n",
    "# Calculate the mean of \"Hours/Week\" across each group using the most efficient approach covered in the video.\n",
    "display(gb[\"Hours/Week\"].mean(numeric_only=True).round(4))"
   ]
  },
  {
   "cell_type": "markdown",
   "id": "c3174b08",
   "metadata": {},
   "source": [
    "## Setting Category Variables in Pandas\n",
    "\n",
    "\n",
    "For categorical variables, precise control over the categories, their order, and their presence in your data is essential for analysis, statistics, and modelling. Pandas provides robust methods for managing categorical data via the `.cat` accessor, allowing for category assignment, ordering, addition, and removal—all agnostic to specific dataset themes.\n",
    "\n",
    "This guide details the full workflow for configuring and optimising categorical variables in Pandas, emphasising abstract principles and flexible usage patterns.\n",
    "\n",
    "\n",
    "\n",
    "### Assigning Categorical Type\n",
    "\n",
    "Convert any string or integer column to categorical for efficiency and semantic clarity:\n",
    "\n",
    "```python\n",
    "data_frame[\"variable\"] = data_frame[\"variable\"].astype(\"category\")\n",
    "```\n",
    "\n",
    "Check current categories:\n",
    "```python\n",
    "print(data_frame[\"variable\"].cat.categories)\n",
    "```\n",
    "\n",
    "### Setting Categories Explicitly\n",
    "\n",
    "You can redefine the set of valid categories using `.cat.set_categories()`. This is critical for:\n",
    "\n",
    "- Establishing the **set of allowed categories** (including categories not currently present in the data).\n",
    "- Setting or enforcing a **custom order** for categories (for ordinal data or ordered plots).\n",
    "\n",
    "```python\n",
    "data_frame[\"variable\"] = data_frame[\"variable\"].cat.set_categories(\n",
    "    new_categories=[\"cat_a\", \"cat_b\", \"cat_c\"],\n",
    "    ordered=True   # or False for nominal data\n",
    ")\n",
    "```\n",
    "\n",
    "- Any value not listed in `new_categories` will be set to `NaN`.\n",
    "- The `ordered` parameter determines whether the categories are treated as ordinal.\n",
    "\n",
    "\n",
    "### Adding Categories\n",
    "\n",
    "You may add new, possibly unrepresented, categories using `.cat.add_categories()`—useful when categories are possible but not observed in the current data.\n",
    "\n",
    "```python\n",
    "data_frame[\"variable\"] = data_frame[\"variable\"].cat.add_categories(\n",
    "    new_categories=[\"cat_x\", \"cat_y\"]\n",
    ")\n",
    "```\n",
    "\n",
    "- This expands the list of valid categories but does not alter existing data.\n",
    "- Newly added categories will have a count of zero unless assigned.\n",
    "\n",
    "### Removing Categories\n",
    "\n",
    "To restrict valid values and clean up unused or irrelevant categories, use `.cat.remove_categories()`:\n",
    "\n",
    "```python\n",
    "data_frame[\"variable\"] = data_frame[\"variable\"].cat.remove_categories(\n",
    "    removals=[\"cat_b\", \"cat_x\"]\n",
    ")\n",
    "```\n",
    "- Any value matching a removed category is set to `NaN`.\n",
    "- The category list shrinks, improving semantic precision.\n",
    "\n",
    "\n",
    "### Handling Missing Values\n",
    "\n",
    "If the categorical column contains values not listed among categories, or after removing a category, those entries are set to `NaN`. In practice, `NaN` in a categorical variable may mean:\n",
    "\n",
    "- The value is genuinely unknown.\n",
    "- The observation does not fit any current category.\n",
    "- Data was recoded or filtered in a way that excluded the category.\n",
    "\n",
    "Check frequencies and missingness:\n",
    "```python\n",
    "data_frame[\"variable\"].value_counts(dropna=False)\n",
    "```\n",
    "\n",
    "### Category Management Methods\n",
    "\n",
    "- **Setting categories and order:**  \n",
    "  `cat.set_categories(new_categories=[...], ordered=...)`\n",
    "    - Can reorder and restrict to a defined set, removing all others.\n",
    "- **Adding categories:**  \n",
    "  `cat.add_categories(new_categories=[...])`\n",
    "    - Expands the possible category set; existing data unchanged.\n",
    "- **Removing categories:**  \n",
    "  `cat.remove_categories(removals=[...])`\n",
    "    - Sets matching data to `NaN` and removes from category list.\n",
    "\n",
    "All methods can be used in-place (with `inplace=True`) or assigned to a new variable.\n"
   ]
  },
  {
   "cell_type": "code",
   "execution_count": 156,
   "id": "e67b92aa",
   "metadata": {},
   "outputs": [],
   "source": [
    "dogs = pd.read_csv(\"data/ShelterDogs.csv\")"
   ]
  },
  {
   "cell_type": "markdown",
   "id": "47fe1547",
   "metadata": {},
   "source": [
    "### Adding categories\n",
    "The owner of a local dog adoption agency has listings for almost 3,000 dogs. One of the most common questions they have been receiving lately is: \"What type of area was the dog previously kept in?\". You are setting up a pipeline to do some analysis and want to look into what information is available regarding the `\"keep_in\"` variable."
   ]
  },
  {
   "cell_type": "code",
   "execution_count": 157,
   "id": "5d7e7eb4",
   "metadata": {},
   "outputs": [
    {
     "data": {
      "application/vnd.microsoft.datawrangler.viewer.v0+json": {
       "columns": [
        {
         "name": "keep_in",
         "rawType": "object",
         "type": "unknown"
        },
        {
         "name": "count",
         "rawType": "int64",
         "type": "integer"
        }
       ],
       "ref": "6ca761fe-9dc5-4428-adcb-fa61d26eac68",
       "rows": [
        [
         "both flat and garden",
         "1224"
        ],
        [
         null,
         "1021"
        ],
        [
         "garden",
         "510"
        ],
        [
         "flat",
         "182"
        ]
       ],
       "shape": {
        "columns": 1,
        "rows": 4
       }
      },
      "text/plain": [
       "keep_in\n",
       "both flat and garden    1224\n",
       "NaN                     1021\n",
       "garden                   510\n",
       "flat                     182\n",
       "Name: count, dtype: int64"
      ]
     },
     "execution_count": 157,
     "metadata": {},
     "output_type": "execute_result"
    }
   ],
   "source": [
    "# Check frequency counts while also printing the NaN count\n",
    "dogs[\"keep_in\"].value_counts(dropna=False)"
   ]
  },
  {
   "cell_type": "code",
   "execution_count": 158,
   "id": "9fe95f35",
   "metadata": {},
   "outputs": [],
   "source": [
    "# Convert the \"keep_in\" variable to a categorical Series.\n",
    "dogs[\"keep_in\"] = dogs[\"keep_in\"].astype(\"category\")"
   ]
  },
  {
   "cell_type": "code",
   "execution_count": 159,
   "id": "f945bbb2",
   "metadata": {},
   "outputs": [
    {
     "data": {
      "application/vnd.microsoft.datawrangler.viewer.v0+json": {
       "columns": [
        {
         "name": "keep_in",
         "rawType": "category",
         "type": "unknown"
        },
        {
         "name": "count",
         "rawType": "int64",
         "type": "integer"
        }
       ],
       "ref": "39ffa7e4-2186-476c-9f4e-1d4d72d634d5",
       "rows": [
        [
         "both flat and garden",
         "1224"
        ],
        [
         null,
         "1021"
        ],
        [
         "garden",
         "510"
        ],
        [
         "flat",
         "182"
        ]
       ],
       "shape": {
        "columns": 1,
        "rows": 4
       }
      },
      "text/plain": [
       "keep_in\n",
       "both flat and garden    1224\n",
       "NaN                     1021\n",
       "garden                   510\n",
       "flat                     182\n",
       "Name: count, dtype: int64"
      ]
     },
     "execution_count": 159,
     "metadata": {},
     "output_type": "execute_result"
    }
   ],
   "source": [
    "# Add the list of new categories provided by the adoption agency, new_categories, to the \"keep_in\" column.\n",
    "# new_categories = [\"Unknown History\", \"Open Yard (Countryside)\"]\n",
    "# dogs[\"keep_in\"] = dogs[\"keep_in\"].cat.add_categories(\n",
    "#     new_categories = new_categories\n",
    "# )\n",
    "\n",
    "# Check frequency counts one more time\n",
    "dogs[\"keep_in\"].value_counts(dropna=False)"
   ]
  },
  {
   "cell_type": "code",
   "execution_count": 160,
   "id": "7e68c0a2",
   "metadata": {},
   "outputs": [
    {
     "name": "stdout",
     "output_type": "stream",
     "text": [
      "Index(['no', 'yes'], dtype='object')\n"
     ]
    }
   ],
   "source": [
    "# Set \"maybe\" to be \"no\"\n",
    "dogs.loc[dogs[\"likes_children\"] == \"maybe\", \"likes_children\"] = \"no\"\n",
    "\n",
    "# Set \"likes_children\" to category type\n",
    "dogs[\"likes_children\"] = dogs[\"likes_children\"].astype(\"category\")\n",
    "\n",
    "# Print out categories\n",
    "print(dogs[\"likes_children\"].cat.categories)\n",
    "\n",
    "# # Remove the `\"maybe\" category\n",
    "# dogs[\"likes_children\"] = dogs[\"likes_children\"].cat.remove_categories([\"maybe\"])\n",
    "# print(dogs[\"likes_children\"].value_counts())\n"
   ]
  },
  {
   "cell_type": "markdown",
   "id": "eccc03a0",
   "metadata": {},
   "source": [
    "## Updating Categories in Pandas Categorical Data\n",
    "\n",
    "Categorical variables often require updates: categories may need renaming, collapsing (combining several categories into one), or systematic changes to naming conventions. Pandas provides flexible, robust tools for manipulating the category levels of a categorical Series or DataFrame column, supporting high-quality, schema-agnostic data cleaning and preparation workflows.\n",
    "\n",
    "This guide covers all key methods for updating, renaming, and collapsing categories—focusing on abstract principles, not domain-specific examples.\n",
    "\n",
    "### Renaming Categories\n",
    "\n",
    "Use the `.cat.rename_categories()` method to update category names in a categorical Series.  \n",
    "This is useful for:\n",
    "\n",
    "- Correcting typos or inconsistencies.\n",
    "- Adopting standard naming conventions.\n",
    "- Making labels more concise or readable.\n",
    "\n",
    "### Renaming with a Dictionary\n",
    "\n",
    "Pass a dictionary mapping old category names to new ones:\n",
    "\n",
    "```python\n",
    "# Rename categories according to a mapping\n",
    "category_mapping = {\"old_name_a\": \"new_name_a\", \"old_name_b\": \"new_name_b\"}\n",
    "data_frame[\"variable\"] = data_frame[\"variable\"].cat.rename_categories(category_mapping)\n",
    "```\n",
    "\n",
    "**Best Practices:**\n",
    "- All category names not listed in the dictionary remain unchanged.\n",
    "- All new names **must be unique**—you cannot collapse multiple categories into the same label using `rename_categories`.\n",
    "- If a new name already exists in the list of categories, it cannot be duplicated in the result.\n",
    "\n",
    "### Renaming with a Function\n",
    "\n",
    "Apply a function to each category (e.g., title case, lower case):\n",
    "\n",
    "```python\n",
    "data_frame[\"variable\"] = data_frame[\"variable\"].cat.rename_categories(lambda c: c.capitalize())\n",
    "```\n",
    "This allows for systematic, scalable updates to category naming conventions.\n",
    "\n",
    "\n",
    "### Collapsing Categories\n",
    "\n",
    "To merge or **collapse several categories into a single label** (e.g., grouping similar types), use the `.replace()` method first, then convert back to categorical:\n",
    "\n",
    "#### Steps:\n",
    "\n",
    "1. **Create a mapping for category collapsing:**\n",
    "\n",
    "```python\n",
    "collapse_mapping = {\n",
    "    \"cat_a\": \"new_cat\",\n",
    "    \"cat_b\": \"new_cat\",\n",
    "    # Any other categories to collapse...\n",
    "}\n",
    "```\n",
    "\n",
    "2. **Replace values in the Series:**\n",
    "\n",
    "```python\n",
    "data_frame[\"new_variable\"] = data_frame[\"variable\"].replace(collapse_mapping)\n",
    "```\n",
    "\n",
    "3. **Convert the result back to categorical for memory and efficiency:**\n",
    "\n",
    "```python\n",
    "data_frame[\"new_variable\"] = data_frame[\"new_variable\"].astype(\"category\")\n",
    "```\n",
    "\n",
    "**Why not use `rename_categories()` for collapsing?**  \n",
    "`rename_categories()` requires all new names to be unique—collapsing multiple categories into one creates duplicate labels, which is not allowed.\n",
    "\n",
    "\n",
    "### Common Mistakes\n",
    "\n",
    "- **Uniqueness constraint:**  \n",
    "  `rename_categories()` cannot create duplicate category labels; for merging categories, use `.replace()` as shown.\n",
    "- **Temporary type changes:**  \n",
    "  When collapsing categories, the Series may temporarily become `object` dtype after `.replace()`—convert it back to categorical immediately.\n",
    "- **Renaming missing categories:**  \n",
    "  If you attempt to rename a category that does not exist, Pandas will raise an error—always confirm categories first using `.cat.categories`.\n",
    "- **Adding or removing categories:**  \n",
    "  Use `.cat.add_categories()` and `.cat.remove_categories()` to manage the valid set of category labels as needed.\n",
    "\n",
    "\n",
    "### Recap: Methods for Updating Categories\n",
    "\n",
    "- **Renaming (no collapsing):**  \n",
    "  `.cat.rename_categories(mapping_dict)` or `.cat.rename_categories(function)`\n",
    "- **Collapsing (merging categories):**  \n",
    "  `.replace(collapse_mapping)` followed by `.astype(\"category\")`\n",
    "- **Systematic renaming:**  \n",
    "  Use string methods, lambdas, or custom functions for uniform formatting.\n",
    "- **Managing set of categories:**  \n",
    "  Add new categories with `.cat.add_categories()`, remove with `.cat.remove_categories()`.\n"
   ]
  },
  {
   "cell_type": "code",
   "execution_count": 161,
   "id": "b3f4eb32",
   "metadata": {},
   "outputs": [
    {
     "data": {
      "application/vnd.microsoft.datawrangler.viewer.v0+json": {
       "columns": [
        {
         "name": "breed",
         "rawType": "category",
         "type": "unknown"
        },
        {
         "name": "count",
         "rawType": "int64",
         "type": "integer"
        }
       ],
       "ref": "f2587073-f5db-41ba-b4a3-e20095e8bb6d",
       "rows": [
        [
         "Unknown Mix",
         "1524"
        ],
        [
         "German Shepherd Dog Mix",
         "190"
        ],
        [
         "Dachshund Mix",
         "147"
        ],
        [
         "Labrador Retriever Mix",
         "83"
        ],
        [
         "Staffordshire Terrier Mix",
         "62"
        ],
        [
         "Puli Mix",
         "40"
        ],
        [
         "German Shepherd Dog",
         "37"
        ],
        [
         "Schnauzer Mix",
         "34"
        ],
        [
         "Fox Terrier Mix",
         "32"
        ],
        [
         "Greyhound Mix",
         "32"
        ],
        [
         "Terrier Mix",
         "29"
        ],
        [
         "Rottweiler Mix",
         "26"
        ],
        [
         "Vizsla Mix",
         "24"
        ],
        [
         "Hound Mix",
         "22"
        ],
        [
         "Labrador Retriever",
         "17"
        ],
        [
         "Puli",
         "17"
        ],
        [
         "Staffordshire Terrier",
         "13"
        ],
        [
         "English Cocker Spaniel",
         "13"
        ],
        [
         "Chinese Shar-Pei Mix",
         "13"
        ],
        [
         "German Pointer Mix",
         "13"
        ],
        [
         "Mudi Mix",
         "13"
        ],
        [
         "Siberian Husky Mix",
         "12"
        ],
        [
         "Spaniel Mix",
         "11"
        ],
        [
         "English Cocker Spaniel Mix",
         "11"
        ],
        [
         "Pumi Mix",
         "10"
        ],
        [
         "Bull Terrier Mix",
         "9"
        ],
        [
         "Jagd Terrier Mix",
         "9"
        ],
        [
         "Caucasian Ovtcharka Mix",
         "9"
        ],
        [
         "German Shepherd Dog, Labrador Retriever Mix",
         "9"
        ],
        [
         "Dogo Argentino",
         "8"
        ],
        [
         "Pekingese Mix",
         "8"
        ],
        [
         "Puli, Pumi Mix",
         "7"
        ],
        [
         "Beagle",
         "7"
        ],
        [
         "Pinscher Mix",
         "7"
        ],
        [
         "Fox Terrier",
         "7"
        ],
        [
         "German Shepherd Dog, Siberian Husky Mix",
         "7"
        ],
        [
         "Beagle Mix",
         "7"
        ],
        [
         "Belgian Sheepdog Mix",
         "6"
        ],
        [
         "Kuvasz",
         "6"
        ],
        [
         "Golden Retriever Mix",
         "6"
        ],
        [
         "German Dog",
         "5"
        ],
        [
         "Dachshund, Fox Terrier Mix",
         "5"
        ],
        [
         "Rottweiler",
         "5"
        ],
        [
         "Golden Retriever",
         "5"
        ],
        [
         "Labrador Retriever, Vizsla Mix",
         "5"
        ],
        [
         "Akita Mix",
         "5"
        ],
        [
         "Dachshund, German Shepherd Dog Mix",
         "5"
        ],
        [
         "Komondor",
         "5"
        ],
        [
         "Kuvasz Mix",
         "5"
        ],
        [
         "Miniature Schnauzer Mix",
         "5"
        ]
       ],
       "shape": {
        "columns": 1,
        "rows": 277
       }
      },
      "text/plain": [
       "breed\n",
       "Unknown Mix                        1524\n",
       "German Shepherd Dog Mix             190\n",
       "Dachshund Mix                       147\n",
       "Labrador Retriever Mix               83\n",
       "Staffordshire Terrier Mix            62\n",
       "                                   ... \n",
       "Vizsla, Whippet Mix                   1\n",
       "Akita, German Shepherd Dog Mix        1\n",
       "West Highland White Terrier Mix       1\n",
       "Akita                                 1\n",
       "Yorkshire Terrier                     1\n",
       "Name: count, Length: 277, dtype: int64"
      ]
     },
     "execution_count": 161,
     "metadata": {},
     "output_type": "execute_result"
    }
   ],
   "source": [
    "dogs[\"breed\"] = dogs[\"breed\"].astype(\"category\")\n",
    "dogs[\"breed\"].value_counts()"
   ]
  },
  {
   "cell_type": "code",
   "execution_count": 162,
   "id": "5e30bfc7",
   "metadata": {},
   "outputs": [],
   "source": [
    "my_changes = {\"Unknown Mix\":\"Unknown\"}\n",
    "dogs[\"breed\"] = dogs[\"breed\"].cat.rename_categories(my_changes)"
   ]
  },
  {
   "cell_type": "code",
   "execution_count": 163,
   "id": "eee6d10e",
   "metadata": {},
   "outputs": [
    {
     "data": {
      "application/vnd.microsoft.datawrangler.viewer.v0+json": {
       "columns": [
        {
         "name": "breed",
         "rawType": "category",
         "type": "unknown"
        },
        {
         "name": "count",
         "rawType": "int64",
         "type": "integer"
        }
       ],
       "ref": "93bcc1d9-1186-46f2-9292-241e70bcdeec",
       "rows": [
        [
         "Unknown",
         "1524"
        ],
        [
         "German Shepherd Dog Mix",
         "190"
        ],
        [
         "Dachshund Mix",
         "147"
        ],
        [
         "Labrador Retriever Mix",
         "83"
        ],
        [
         "Staffordshire Terrier Mix",
         "62"
        ],
        [
         "Puli Mix",
         "40"
        ],
        [
         "German Shepherd Dog",
         "37"
        ],
        [
         "Schnauzer Mix",
         "34"
        ],
        [
         "Fox Terrier Mix",
         "32"
        ],
        [
         "Greyhound Mix",
         "32"
        ],
        [
         "Terrier Mix",
         "29"
        ],
        [
         "Rottweiler Mix",
         "26"
        ],
        [
         "Vizsla Mix",
         "24"
        ],
        [
         "Hound Mix",
         "22"
        ],
        [
         "Labrador Retriever",
         "17"
        ],
        [
         "Puli",
         "17"
        ],
        [
         "Staffordshire Terrier",
         "13"
        ],
        [
         "English Cocker Spaniel",
         "13"
        ],
        [
         "Chinese Shar-Pei Mix",
         "13"
        ],
        [
         "German Pointer Mix",
         "13"
        ],
        [
         "Mudi Mix",
         "13"
        ],
        [
         "Siberian Husky Mix",
         "12"
        ],
        [
         "Spaniel Mix",
         "11"
        ],
        [
         "English Cocker Spaniel Mix",
         "11"
        ],
        [
         "Pumi Mix",
         "10"
        ],
        [
         "Bull Terrier Mix",
         "9"
        ],
        [
         "Jagd Terrier Mix",
         "9"
        ],
        [
         "Caucasian Ovtcharka Mix",
         "9"
        ],
        [
         "German Shepherd Dog, Labrador Retriever Mix",
         "9"
        ],
        [
         "Dogo Argentino",
         "8"
        ],
        [
         "Pekingese Mix",
         "8"
        ],
        [
         "Puli, Pumi Mix",
         "7"
        ],
        [
         "Beagle",
         "7"
        ],
        [
         "Pinscher Mix",
         "7"
        ],
        [
         "Fox Terrier",
         "7"
        ],
        [
         "German Shepherd Dog, Siberian Husky Mix",
         "7"
        ],
        [
         "Beagle Mix",
         "7"
        ],
        [
         "Belgian Sheepdog Mix",
         "6"
        ],
        [
         "Kuvasz",
         "6"
        ],
        [
         "Golden Retriever Mix",
         "6"
        ],
        [
         "German Dog",
         "5"
        ],
        [
         "Dachshund, Fox Terrier Mix",
         "5"
        ],
        [
         "Rottweiler",
         "5"
        ],
        [
         "Golden Retriever",
         "5"
        ],
        [
         "Labrador Retriever, Vizsla Mix",
         "5"
        ],
        [
         "Akita Mix",
         "5"
        ],
        [
         "Dachshund, German Shepherd Dog Mix",
         "5"
        ],
        [
         "Komondor",
         "5"
        ],
        [
         "Kuvasz Mix",
         "5"
        ],
        [
         "Miniature Schnauzer Mix",
         "5"
        ]
       ],
       "shape": {
        "columns": 1,
        "rows": 277
       }
      },
      "text/plain": [
       "breed\n",
       "Unknown                            1524\n",
       "German Shepherd Dog Mix             190\n",
       "Dachshund Mix                       147\n",
       "Labrador Retriever Mix               83\n",
       "Staffordshire Terrier Mix            62\n",
       "                                   ... \n",
       "Vizsla, Whippet Mix                   1\n",
       "Akita, German Shepherd Dog Mix        1\n",
       "West Highland White Terrier Mix       1\n",
       "Akita                                 1\n",
       "Yorkshire Terrier                     1\n",
       "Name: count, Length: 277, dtype: int64"
      ]
     },
     "execution_count": 163,
     "metadata": {},
     "output_type": "execute_result"
    }
   ],
   "source": [
    "dogs[\"breed\"].value_counts()"
   ]
  },
  {
   "cell_type": "code",
   "execution_count": 164,
   "id": "3bfbd2b3",
   "metadata": {},
   "outputs": [
    {
     "data": {
      "application/vnd.microsoft.datawrangler.viewer.v0+json": {
       "columns": [
        {
         "name": "sex",
         "rawType": "category",
         "type": "unknown"
        },
        {
         "name": "count",
         "rawType": "int64",
         "type": "integer"
        }
       ],
       "ref": "11af55cf-fcbb-4341-adb8-0b7ae18c4e34",
       "rows": [
        [
         "Male",
         "1681"
        ],
        [
         "Female",
         "1256"
        ]
       ],
       "shape": {
        "columns": 1,
        "rows": 2
       }
      },
      "text/plain": [
       "sex\n",
       "Male      1681\n",
       "Female    1256\n",
       "Name: count, dtype: int64"
      ]
     },
     "execution_count": 164,
     "metadata": {},
     "output_type": "execute_result"
    }
   ],
   "source": [
    "dogs[\"sex\"] = dogs[\"sex\"].astype(\"category\").cat.rename_categories(lambda c: c.title())\n",
    "dogs[\"sex\"].value_counts()"
   ]
  },
  {
   "cell_type": "code",
   "execution_count": 165,
   "id": "34a3631f",
   "metadata": {},
   "outputs": [
    {
     "data": {
      "text/plain": [
       "Index(['apricot', 'black', 'black and brown', 'black and tan',\n",
       "       'black and white', 'brown', 'brown and white', 'dotted', 'golden',\n",
       "       'gray', 'gray and black', 'gray and white', 'red', 'red and white',\n",
       "       'sable', 'saddle back', 'spotty', 'striped', 'tricolor', 'white',\n",
       "       'wild boar', 'yellow', 'yellow-brown'],\n",
       "      dtype='object')"
      ]
     },
     "execution_count": 165,
     "metadata": {},
     "output_type": "execute_result"
    }
   ],
   "source": [
    "dogs[\"color\"] = dogs[\"color\"].astype(\"category\")\n",
    "dogs[\"color\"].cat.categories"
   ]
  },
  {
   "cell_type": "code",
   "execution_count": 166,
   "id": "0b1f9439",
   "metadata": {},
   "outputs": [
    {
     "data": {
      "application/vnd.microsoft.datawrangler.viewer.v0+json": {
       "columns": [
        {
         "name": "main_color",
         "rawType": "category",
         "type": "unknown"
        },
        {
         "name": "count",
         "rawType": "int64",
         "type": "integer"
        }
       ],
       "ref": "175f21ee-3ade-4f2c-9098-c4952db944ee",
       "rows": [
        [
         "black",
         "1252"
        ],
        [
         "brown",
         "293"
        ],
        [
         "yellow-brown",
         "212"
        ],
        [
         "apricot",
         "142"
        ],
        [
         "brown and white",
         "124"
        ],
        [
         "white",
         "124"
        ],
        [
         "sable",
         "118"
        ],
        [
         "tricolor",
         "99"
        ],
        [
         "saddle back",
         "91"
        ],
        [
         "striped",
         "89"
        ],
        [
         "gray",
         "64"
        ],
        [
         "yellow",
         "63"
        ],
        [
         "golden",
         "61"
        ],
        [
         "red",
         "53"
        ],
        [
         "spotty",
         "47"
        ],
        [
         "gray and white",
         "35"
        ],
        [
         "gray and black",
         "28"
        ],
        [
         "wild boar",
         "18"
        ],
        [
         "red and white",
         "14"
        ],
        [
         "dotted",
         "10"
        ]
       ],
       "shape": {
        "columns": 1,
        "rows": 20
       }
      },
      "text/plain": [
       "main_color\n",
       "black              1252\n",
       "brown               293\n",
       "yellow-brown        212\n",
       "apricot             142\n",
       "brown and white     124\n",
       "white               124\n",
       "sable               118\n",
       "tricolor             99\n",
       "saddle back          91\n",
       "striped              89\n",
       "gray                 64\n",
       "yellow               63\n",
       "golden               61\n",
       "red                  53\n",
       "spotty               47\n",
       "gray and white       35\n",
       "gray and black       28\n",
       "wild boar            18\n",
       "red and white        14\n",
       "dotted               10\n",
       "Name: count, dtype: int64"
      ]
     },
     "execution_count": 166,
     "metadata": {},
     "output_type": "execute_result"
    }
   ],
   "source": [
    "# Create mapping to collapse multiple \"black\" variants into one category\n",
    "update_colors = {\n",
    "    \"black and brown\": \"black\", \n",
    "    \"black and tan\" : \"black\",\n",
    "    \"black and white\" : \"black\",\n",
    "}\n",
    "\n",
    "# Convert to string, apply replace, then convert back to category\n",
    "dogs[\"main_color\"] = (dogs[\"color\"]\n",
    "                      .astype(\"object\")\n",
    "                      .replace(update_colors)\n",
    "                      .astype(\"category\")\n",
    ")\n",
    "\n",
    "dogs[\"main_color\"].value_counts()"
   ]
  },
  {
   "cell_type": "markdown",
   "id": "cbcb5bcd",
   "metadata": {},
   "source": [
    "### Renaming categories\n",
    "The `likes_children` column of the adoptable dogs dataset needs an update. Here are the current frequency counts:"
   ]
  },
  {
   "cell_type": "code",
   "execution_count": 167,
   "id": "62b9ce98",
   "metadata": {},
   "outputs": [
    {
     "data": {
      "application/vnd.microsoft.datawrangler.viewer.v0+json": {
       "columns": [
        {
         "name": "likes_children",
         "rawType": "category",
         "type": "unknown"
        },
        {
         "name": "count",
         "rawType": "int64",
         "type": "integer"
        }
       ],
       "ref": "f06d08b1-5a7e-4bad-a60f-e99c0249314a",
       "rows": [
        [
         "Maybe?",
         "1718"
        ],
        [
         "yes",
         "1172"
        ],
        [
         "no",
         "47"
        ]
       ],
       "shape": {
        "columns": 1,
        "rows": 3
       }
      },
      "text/plain": [
       "likes_children\n",
       "Maybe?    1718\n",
       "yes       1172\n",
       "no          47\n",
       "Name: count, dtype: int64"
      ]
     },
     "execution_count": 167,
     "metadata": {},
     "output_type": "execute_result"
    }
   ],
   "source": [
    "dogs[\"likes_children\"] = dogs[\"likes_children\"].cat.add_categories([\"Maybe?\"])\n",
    "dogs[\"likes_children\"] = dogs[\"likes_children\"].fillna(\"Maybe?\")\n",
    "dogs[\"likes_children\"].value_counts()"
   ]
  },
  {
   "cell_type": "markdown",
   "id": "33d10354",
   "metadata": {},
   "source": [
    "Two things that stick out are the differences in capitalization and the `?` found in the `Maybe?` category. The data should be cleaner than this and you are being asked to make a few changes."
   ]
  },
  {
   "cell_type": "code",
   "execution_count": 168,
   "id": "29f5fd03",
   "metadata": {},
   "outputs": [
    {
     "name": "stdout",
     "output_type": "stream",
     "text": [
      "Index(['MAYBE', 'NO', 'YES'], dtype='object')\n"
     ]
    }
   ],
   "source": [
    "# Create a dictionary called my_changes that will update the Maybe? category to Maybe.\n",
    "my_changes = {\"Maybe?\":\"Maybe\"}\n",
    "\n",
    "# Rename the categories in likes_children using the my_changes dictionary.\n",
    "dogs[\"likes_children\"] = dogs[\"likes_children\"].astype(\"object\").replace(my_changes).astype(\"category\")\n",
    "\n",
    "# Update the categories one more time so that all categories are uppercase using the .upper() method.\n",
    "dogs[\"likes_children\"] = dogs[\"likes_children\"].cat.rename_categories(lambda c:c.upper())\n",
    "\n",
    "# Print out the categories of the updated likes_children Series.\n",
    "print(dogs[\"likes_children\"].cat.categories)\n"
   ]
  },
  {
   "cell_type": "markdown",
   "id": "1d11aac1",
   "metadata": {},
   "source": [
    "### Collapsing categories\n",
    "One problem that users of a local dog adoption website have voiced is that there are too many options. As they look through the different types of dogs, they are getting lost in the overwhelming amount of choice. To simplify some of the data, you are going through each column and collapsing data if appropriate. To preserve the original data, you are going to make new updated columns in the `dogs` dataset. You will start with the `coat` column. The frequency table is listed here:\n",
    "\n",
    "| Coat Type | Count |\n",
    "|-----------|-------|\n",
    "| short | 1969 |\n",
    "| medium | 565 |\n",
    "| wirehaired | 220 |\n",
    "| long | 180 |\n",
    "| medium-long | 3 |"
   ]
  },
  {
   "cell_type": "code",
   "execution_count": 169,
   "id": "4e344d5b",
   "metadata": {},
   "outputs": [
    {
     "name": "stdout",
     "output_type": "stream",
     "text": [
      "coat_collapsed\n",
      "short     1972\n",
      "medium     785\n",
      "long       180\n",
      "Name: count, dtype: int64\n"
     ]
    }
   ],
   "source": [
    "# Create a dictionary named update_coats to map both wirehaired and medium-long to medium.\n",
    "update_coats = {\"wirehaired\":\"medium\", \"medium-long\":\"medium\"}\n",
    "\n",
    "# Collapse the categories listed in this new dictionary and save this as a new column, coat_collapsed.\n",
    "dogs[\"coat_collapsed\"] = dogs[\"coat\"].replace(update_coats)\n",
    "\n",
    "# Convert the column to categorical\n",
    "dogs[\"coat_collapsed\"] = dogs[\"coat_collapsed\"].astype(\"category\")\n",
    "\n",
    "# Print the frequency table\n",
    "print(dogs[\"coat_collapsed\"].value_counts())"
   ]
  },
  {
   "cell_type": "markdown",
   "id": "80f349ef",
   "metadata": {},
   "source": [
    "## Reordering Categories in Pandas\n",
    "\n",
    "In categorical data analysis, the order of categories often matters for both **statistical meaning** and **presentation**. Reordering categories is fundamental when defining ordinal variables (e.g., satisfaction ratings), ensuring logical ordering in plots or reports, or optimising grouping and summarisation operations. Pandas provides explicit tools for reordering category levels and specifying whether they are to be treated as *ordered* or *nominal*.\n",
    "\n",
    "### Why Reorder Categories?\n",
    "\n",
    "1. **Defining Ordinal Variables:**  \n",
    "   Some categorical variables have a natural order (e.g., \"low\", \"medium\", \"high\"), but are not numeric. Explicitly ordering these categories enables correct sorting, comparison, and modelling.\n",
    "2. **Controlling Output Display:**  \n",
    "   Ordered categories determine the sequence in which results appear in tables, charts, or summaries—crucial for readable, interpretable outputs.\n",
    "3. **Analytical Consistency:**  \n",
    "   Certain analyses and statistical methods require the order to be defined (e.g., median calculation, trend plots).\n",
    "4. **Memory and Performance:**  \n",
    "   Categorical ordering can optimise internal storage and computation, especially when category levels are defined precisely and unused categories are removed.\n",
    "\n",
    "\n",
    "### Reordering Categories: Syntax and Strategy\n",
    "\n",
    "To change the order of categories and set ordinal status, use `.cat.reorder_categories()`:\n",
    "\n",
    "```python\n",
    "data_frame[\"categorical_var\"] = data_frame[\"categorical_var\"].cat.reorder_categories(\n",
    "    new_categories=[\"level1\", \"level2\", \"level3\"],\n",
    "    ordered=True  # or False for nominal data\n",
    ")\n",
    "```\n",
    "\n",
    "- `new_categories` must contain all existing (or allowed) categories, in the desired sequence.\n",
    "- `ordered=True` signals that the variable should be treated as ordinal.\n",
    "\n",
    "**In-place Reordering:**\n",
    "\n",
    "```python\n",
    "data_frame[\"categorical_var\"].cat.reorder_categories(\n",
    "    new_categories=[\"level1\", \"level2\", \"level3\"],\n",
    "    ordered=True,\n",
    "    inplace=True\n",
    ")\n",
    "```\n",
    "- When `inplace=True`, the operation modifies the Series directly.\n",
    "\n",
    "### Grouping and Summarisation: Effect of Category Order\n",
    "\n",
    "- When `ordered=True`, groupby results, plots, and sorting will reflect the specified order.\n",
    "- When `ordered=False` (nominal), category order is ignored for analysis, and outputs may be in lexicographical or arbitrary order.\n",
    "\n",
    "**Example Analysis:**\n",
    "```python\n",
    "# Ordered grouping (ordered=True)\n",
    "grouped_summary = data_frame.groupby(\"categorical_var\")[\"numeric_var\"].mean()\n",
    "```\n",
    "- With ordered categories, group summaries, plots, and crosstabs follow the defined order.\n",
    "\n",
    "**Without ordering:**\n",
    "```python\n",
    "# Nominal grouping (ordered=False)\n",
    "grouped_summary = data_frame.groupby(\"categorical_var\")[\"numeric_var\"].mean()\n",
    "```\n",
    "- The display order is not controlled, and may be arbitrary.\n",
    "\n",
    "\n",
    "### Analytical Rationale\n",
    "\n",
    "- Ordinal categories enable correct computation of medians, percentiles, and trend detection.\n",
    "- Ensuring the display order matches the analytical logic reduces risk of misinterpretation in reports and plots.\n",
    "- Explicit ordering is vital for reproducible research, as output and model interpretation depend on it.\n",
    "<br>\n",
    "\n",
    "Reordering categories in Pandas is essential for both statistical correctness and practical clarity. By using `.cat.reorder_categories()`, analysts can control not just the appearance, but the **analytical semantics** of categorical variables—ensuring robust, reproducible, and meaningful data science workflows.\n"
   ]
  },
  {
   "cell_type": "code",
   "execution_count": 170,
   "id": "38113679",
   "metadata": {},
   "outputs": [],
   "source": [
    "dogs[\"coat\"] = dogs[\"coat\"].astype(\"category\").cat.reorder_categories(\n",
    "    new_categories = [\"short\", \"medium\", \"wirehaired\", \"long\"],\n",
    "    ordered=True\n",
    ")\n"
   ]
  },
  {
   "cell_type": "code",
   "execution_count": 171,
   "id": "5c7dac55",
   "metadata": {},
   "outputs": [
    {
     "data": {
      "application/vnd.microsoft.datawrangler.viewer.v0+json": {
       "columns": [
        {
         "name": "coat",
         "rawType": "category",
         "type": "unknown"
        },
        {
         "name": "age",
         "rawType": "float64",
         "type": "float"
        }
       ],
       "ref": "2d840219-3e83-4c86-8ce1-5e5ae1fd1e5c",
       "rows": [
        [
         "short",
         "8.36474645030426"
        ],
        [
         "medium",
         "9.027982300884956"
        ],
        [
         "wirehaired",
         "8.424136363636363"
        ],
        [
         "long",
         "9.552055555555555"
        ]
       ],
       "shape": {
        "columns": 1,
        "rows": 4
       }
      },
      "text/plain": [
       "coat\n",
       "short         8.364746\n",
       "medium        9.027982\n",
       "wirehaired    8.424136\n",
       "long          9.552056\n",
       "Name: age, dtype: float64"
      ]
     },
     "execution_count": 171,
     "metadata": {},
     "output_type": "execute_result"
    }
   ],
   "source": [
    "dogs.groupby([\"coat\"], observed=True)[\"age\"].mean()"
   ]
  },
  {
   "cell_type": "code",
   "execution_count": 172,
   "id": "4dade9ee",
   "metadata": {},
   "outputs": [],
   "source": [
    "dogs[\"coat\"] = dogs[\"coat\"].cat.reorder_categories(\n",
    "    new_categories=[\"short\", \"medium\", \"long\", \"wirehaired\"],\n",
    "    ordered=False\n",
    ")"
   ]
  },
  {
   "cell_type": "code",
   "execution_count": 173,
   "id": "9085bcc2",
   "metadata": {},
   "outputs": [
    {
     "data": {
      "application/vnd.microsoft.datawrangler.viewer.v0+json": {
       "columns": [
        {
         "name": "coat",
         "rawType": "category",
         "type": "unknown"
        },
        {
         "name": "age",
         "rawType": "float64",
         "type": "float"
        }
       ],
       "ref": "274f4038-d10b-42ab-a64a-56b12266af57",
       "rows": [
        [
         "short",
         "8.36474645030426"
        ],
        [
         "medium",
         "9.027982300884956"
        ],
        [
         "long",
         "9.552055555555555"
        ],
        [
         "wirehaired",
         "8.424136363636363"
        ]
       ],
       "shape": {
        "columns": 1,
        "rows": 4
       }
      },
      "text/plain": [
       "coat\n",
       "short         8.364746\n",
       "medium        9.027982\n",
       "long          9.552056\n",
       "wirehaired    8.424136\n",
       "Name: age, dtype: float64"
      ]
     },
     "execution_count": 173,
     "metadata": {},
     "output_type": "execute_result"
    }
   ],
   "source": [
    "dogs.groupby(\"coat\", observed=True)[\"age\"].mean()"
   ]
  },
  {
   "cell_type": "markdown",
   "id": "38c61f2d",
   "metadata": {},
   "source": [
    "### Reordering categories in a Series\n",
    "The owner of a local dog adoption agency has asked you take a look at her data on adoptable dogs. She is specifically interested in the size of the dogs in her dataset and wants to know if there are differences in other variables, given a dog's size. The adoptable dogs dataset has been loaded as `dogs` and the `\"size\"` variable has already been saved as a categorical column."
   ]
  },
  {
   "cell_type": "code",
   "execution_count": 174,
   "id": "f1904a2a",
   "metadata": {},
   "outputs": [
    {
     "name": "stdout",
     "output_type": "stream",
     "text": [
      "Index(['large', 'medium', 'small'], dtype='object')\n"
     ]
    }
   ],
   "source": [
    "dogs[\"size\"] = dogs[\"size\"].astype(\"category\")\n",
    "\n",
    "# Print out the current categories of the size variable\n",
    "print(dogs[\"size\"].cat.categories)\n"
   ]
  },
  {
   "cell_type": "code",
   "execution_count": 175,
   "id": "20096fee",
   "metadata": {},
   "outputs": [],
   "source": [
    "# Reorder categories in the \"size\" column using the categories \"small\", \"medium\", \"large\", do not set the ordered parameter.\n",
    "dogs[\"size\"] = dogs[\"size\"].cat.reorder_categories(\n",
    "    new_categories = [\"small\", \"medium\", \"large\"]\n",
    ")"
   ]
  },
  {
   "cell_type": "code",
   "execution_count": 176,
   "id": "02142433",
   "metadata": {},
   "outputs": [],
   "source": [
    "# Update the reorder_categories() method so that pandas knows the variable has a natural order.\n",
    "dogs[\"size\"] = dogs[\"size\"].cat.reorder_categories(\n",
    "    new_categories = [\"small\", \"medium\", \"large\"],\n",
    "    ordered=True\n",
    ")"
   ]
  },
  {
   "cell_type": "markdown",
   "id": "7b03b5d7",
   "metadata": {},
   "source": [
    "### Using `.groupby()` after reordering\n",
    "It is now time to run some analyses on the adoptable dogs dataset that is focused on the `\"size\"` of the dog. You have already developed some code to reorder the categories. In this exercise, you will develop two similar `.groupby()` statements to help better understand the effect of `\"size\"` on other variables. dogs has been preloaded for you."
   ]
  },
  {
   "cell_type": "code",
   "execution_count": 177,
   "id": "333d2a89",
   "metadata": {},
   "outputs": [
    {
     "data": {
      "application/vnd.microsoft.datawrangler.viewer.v0+json": {
       "columns": [
        {
         "name": "('size', 'sex')",
         "rawType": "object",
         "type": "unknown"
        },
        {
         "name": "count",
         "rawType": "int64",
         "type": "integer"
        }
       ],
       "ref": "3eebb953-d192-45f7-8762-95e1d3657323",
       "rows": [
        [
         "('small', 'Male')",
         "260"
        ],
        [
         "('small', 'Female')",
         "214"
        ],
        [
         "('medium', 'Male')",
         "1090"
        ],
        [
         "('medium', 'Female')",
         "854"
        ],
        [
         "('large', 'Male')",
         "331"
        ],
        [
         "('large', 'Female')",
         "188"
        ]
       ],
       "shape": {
        "columns": 1,
        "rows": 6
       }
      },
      "text/plain": [
       "size    sex   \n",
       "small   Male       260\n",
       "        Female     214\n",
       "medium  Male      1090\n",
       "        Female     854\n",
       "large   Male       331\n",
       "        Female     188\n",
       "Name: count, dtype: int64"
      ]
     },
     "execution_count": 177,
     "metadata": {},
     "output_type": "execute_result"
    }
   ],
   "source": [
    "# Print out the frequency table of \"sex\" for each category of the \"size\" column.\n",
    "dogs.groupby(\"size\", observed=True)[\"sex\"].value_counts()"
   ]
  },
  {
   "cell_type": "code",
   "execution_count": 178,
   "id": "0182f408",
   "metadata": {},
   "outputs": [
    {
     "data": {
      "application/vnd.microsoft.datawrangler.viewer.v0+json": {
       "columns": [
        {
         "name": "('size', 'keep_in')",
         "rawType": "object",
         "type": "unknown"
        },
        {
         "name": "count",
         "rawType": "int64",
         "type": "integer"
        }
       ],
       "ref": "bc40b00e-97ca-4895-9369-9f89f6a6c865",
       "rows": [
        [
         "('small', 'both flat and garden')",
         "238"
        ],
        [
         "('small', 'flat')",
         "80"
        ],
        [
         "('small', 'garden')",
         "21"
        ],
        [
         "('medium', 'both flat and garden')",
         "795"
        ],
        [
         "('medium', 'garden')",
         "317"
        ],
        [
         "('medium', 'flat')",
         "97"
        ],
        [
         "('large', 'both flat and garden')",
         "191"
        ],
        [
         "('large', 'garden')",
         "172"
        ],
        [
         "('large', 'flat')",
         "5"
        ]
       ],
       "shape": {
        "columns": 1,
        "rows": 9
       }
      },
      "text/plain": [
       "size    keep_in             \n",
       "small   both flat and garden    238\n",
       "        flat                     80\n",
       "        garden                   21\n",
       "medium  both flat and garden    795\n",
       "        garden                  317\n",
       "        flat                     97\n",
       "large   both flat and garden    191\n",
       "        garden                  172\n",
       "        flat                      5\n",
       "Name: count, dtype: int64"
      ]
     },
     "execution_count": 178,
     "metadata": {},
     "output_type": "execute_result"
    }
   ],
   "source": [
    "# Print out the frequency table of \"keep_in\" for each category of the \"size\" column.\n",
    "dogs.groupby(\"size\", observed=True)[\"keep_in\"].value_counts()"
   ]
  },
  {
   "cell_type": "markdown",
   "id": "f9a17654",
   "metadata": {},
   "source": [
    "## Cleaning and Accessing Categorical Data in Pandas\n",
    "\n",
    "\n",
    "Categorical data, while powerful and memory-efficient, is prone to inconsistencies and quality issues arising from data entry errors, formatting inconsistencies, and misapplied types. Robust data cleaning and access methods are essential for ensuring reliable analysis and modelling. This section covers rigorous strategies for identifying, correcting, and accessing categorical data, using agnostic methods applicable to any dataset.\n",
    "\n",
    "\n",
    "### Common Issues with Categorical Data\n",
    "\n",
    "1. **Inconsistent Values:**  \n",
    "   - Variations in case (\"Yes\" vs \"yes\"), whitespace (\" Value \" vs \"Value\"), or mixed representations.\n",
    "2. **Misspellings and Typos:**  \n",
    "   - Variants such as \"Noo\" instead of \"No\" create duplicate, misleading categories.\n",
    "3. **Incorrect Dtype:**  \n",
    "   - Data intended as categorical may be stored as `object` dtype, losing efficiency and analytic clarity.\n",
    "\n",
    "\n",
    "### Identifying Issues\n",
    "\n",
    "Use the following to inspect categorical variables:\n",
    "\n",
    "- **View all categories:**\n",
    "  ```python\n",
    "  data_frame[\"categorical_var\"].cat.categories\n",
    "  ```\n",
    "\n",
    "- **Frequency counts (including `NaN`):**\n",
    "  ```python\n",
    "  data_frame[\"categorical_var\"].value_counts(dropna=False)\n",
    "  ```\n",
    "  - Reveals duplicate or rare categories due to inconsistencies.\n",
    "\n",
    "\n",
    "### Fixing Whitespace Issues\n",
    "\n",
    "Leading/trailing whitespace is a common problem. Use `.str.strip()` to remove it:\n",
    "\n",
    "```python\n",
    "data_frame[\"categorical_var\"] = data_frame[\"categorical_var\"].str.strip()\n",
    "```\n",
    "- Removes spaces before and after category values, merging otherwise-duplicated entries.\n",
    "\n",
    "\n",
    "### Standardising Capitalization\n",
    "\n",
    "Differences in capitalisation may fragment categories. Use string methods to standardise:\n",
    "\n",
    "```python\n",
    "data_frame[\"categorical_var\"] = data_frame[\"categorical_var\"].str.title()   # \"no\" → \"No\"\n",
    "# or\n",
    "data_frame[\"categorical_var\"] = data_frame[\"categorical_var\"].str.upper()\n",
    "# or\n",
    "data_frame[\"categorical_var\"] = data_frame[\"categorical_var\"].str.lower()\n",
    "```\n",
    "\n",
    "Choose the style appropriate for your analysis or domain convention.\n",
    "\n",
    "\n",
    "### Correcting Misspelled Categories\n",
    "\n",
    "Use `.replace()` with a mapping dictionary to correct typos or unify equivalent categories:\n",
    "\n",
    "```python\n",
    "corrections = {\"Typoo\": \"Typo\", \"Yess\": \"Yes\"}\n",
    "data_frame[\"categorical_var\"].replace(corrections, inplace=True)\n",
    "```\n",
    "- Ensures consistency and improves data quality.\n",
    "\n",
    "\n",
    "### Ensuring Proper Data Type\n",
    "\n",
    "After cleaning, confirm that the variable is of categorical dtype:\n",
    "\n",
    "```python\n",
    "print(data_frame[\"categorical_var\"].dtype)\n",
    "```\n",
    "- If it is not `category`, convert it:\n",
    "  ```python\n",
    "  data_frame[\"categorical_var\"] = data_frame[\"categorical_var\"].astype(\"category\")\n",
    "  ```\n",
    "\n",
    "\n",
    "### Accessing Categorical Data\n",
    "\n",
    "#### Using the `.str` Accessor\n",
    "\n",
    "- **Search for substrings:**\n",
    "  ```python\n",
    "  mask = data_frame[\"categorical_var\"].str.contains(\"pattern\", regex=False)\n",
    "  filtered = data_frame[mask]\n",
    "  ```\n",
    "  - Enables pattern matching and targeted filtering.\n",
    "\n",
    "#### Using `.loc` for Conditional Access\n",
    "\n",
    "- **Subset rows by category value:**\n",
    "  ```python\n",
    "  result = data_frame.loc[data_frame[\"categorical_var\"] == \"Target\", \"other_column\"]\n",
    "  ```\n",
    "- **Summarise by group:**\n",
    "  ```python\n",
    "  data_frame.loc[data_frame[\"categorical_var\"] == \"Target\", \"other_column\"].value_counts()\n",
    "  ```\n",
    "\n",
    "Reliable analysis of categorical data requires systematic cleaning and consistent access patterns. By employing Pandas’ string methods, replacement strategies, and dtype management—along with disciplined data inspection—you can ensure categorical variables are tidy, interpretable, and fully optimised for analysis, regardless of the dataset’s domain or context.\n"
   ]
  },
  {
   "cell_type": "code",
   "execution_count": 179,
   "id": "18c367bd",
   "metadata": {},
   "outputs": [
    {
     "data": {
      "application/vnd.microsoft.datawrangler.viewer.v0+json": {
       "columns": [
        {
         "name": "get_along_cats",
         "rawType": "object",
         "type": "string"
        },
        {
         "name": "count",
         "rawType": "int64",
         "type": "integer"
        }
       ],
       "ref": "5ae0f883-cde3-48ca-866f-0fc60499ae71",
       "rows": [
        [
         "No",
         "2503"
        ],
        [
         "yes",
         "275"
        ],
        [
         "no",
         "156"
        ],
        [
         "Noo",
         "2"
        ],
        [
         " NO",
         "1"
        ]
       ],
       "shape": {
        "columns": 1,
        "rows": 5
       }
      },
      "text/plain": [
       "get_along_cats\n",
       "No     2503\n",
       "yes     275\n",
       "no      156\n",
       "Noo       2\n",
       " NO       1\n",
       "Name: count, dtype: int64"
      ]
     },
     "metadata": {},
     "output_type": "display_data"
    }
   ],
   "source": [
    "target_counts = {\"No\": 2503, \"yes\": 275, \"no\": 156, \"Noo\": 2, \" NO\": 1}\n",
    "\n",
    "# Build the column as an ndarray of the correct length\n",
    "target_column = np.repeat(\n",
    "    list(target_counts.keys()),      # the labels\n",
    "    list(target_counts.values())     # repeat each label this many times\n",
    ")\n",
    "\n",
    "dogs = dogs.iloc[: len(target_column)].copy()  # safety: match lengths\n",
    "dogs[\"get_along_cats\"] = target_column\n",
    "\n",
    "# Randomise the order \n",
    "rng = np.random.default_rng(seed=42)\n",
    "rng.shuffle(dogs[\"get_along_cats\"].values)\n",
    "\n",
    "# Set the values to categorical\n",
    "dogs[\"get_along_cats\"].astype(\"category\")\n",
    "\n",
    "display(dogs[\"get_along_cats\"].value_counts(dropna=False))\n"
   ]
  },
  {
   "cell_type": "code",
   "execution_count": 180,
   "id": "2a68ac60",
   "metadata": {},
   "outputs": [
    {
     "data": {
      "application/vnd.microsoft.datawrangler.viewer.v0+json": {
       "columns": [
        {
         "name": "get_along_cats",
         "rawType": "object",
         "type": "string"
        },
        {
         "name": "count",
         "rawType": "int64",
         "type": "integer"
        }
       ],
       "ref": "6da33b59-bfc5-49a1-94f3-8777a3e673f7",
       "rows": [
        [
         "No",
         "2503"
        ],
        [
         "yes",
         "275"
        ],
        [
         "no",
         "156"
        ],
        [
         "Noo",
         "2"
        ],
        [
         "NO",
         "1"
        ]
       ],
       "shape": {
        "columns": 1,
        "rows": 5
       }
      },
      "text/plain": [
       "get_along_cats\n",
       "No     2503\n",
       "yes     275\n",
       "no      156\n",
       "Noo       2\n",
       "NO        1\n",
       "Name: count, dtype: int64"
      ]
     },
     "execution_count": 180,
     "metadata": {},
     "output_type": "execute_result"
    }
   ],
   "source": [
    "# Fixing the issues of white spaces\n",
    "dogs[\"get_along_cats\"] = dogs[\"get_along_cats\"].str.strip()\n",
    "dogs[\"get_along_cats\"].value_counts()"
   ]
  },
  {
   "cell_type": "code",
   "execution_count": 181,
   "id": "cded1565",
   "metadata": {},
   "outputs": [
    {
     "data": {
      "application/vnd.microsoft.datawrangler.viewer.v0+json": {
       "columns": [
        {
         "name": "get_along_cats",
         "rawType": "object",
         "type": "string"
        },
        {
         "name": "count",
         "rawType": "int64",
         "type": "integer"
        }
       ],
       "ref": "dd5231d0-ea42-435d-b515-e974b331ecce",
       "rows": [
        [
         "No",
         "2660"
        ],
        [
         "Yes",
         "275"
        ],
        [
         "Noo",
         "2"
        ]
       ],
       "shape": {
        "columns": 1,
        "rows": 3
       }
      },
      "text/plain": [
       "get_along_cats\n",
       "No     2660\n",
       "Yes     275\n",
       "Noo       2\n",
       "Name: count, dtype: int64"
      ]
     },
     "execution_count": 181,
     "metadata": {},
     "output_type": "execute_result"
    }
   ],
   "source": [
    "# Fixing the issues of capitalizaztion\n",
    "dogs[\"get_along_cats\"] = dogs[\"get_along_cats\"].str.title()\n",
    "dogs[\"get_along_cats\"].value_counts()"
   ]
  },
  {
   "cell_type": "code",
   "execution_count": 182,
   "id": "02c3c8b4",
   "metadata": {},
   "outputs": [
    {
     "data": {
      "application/vnd.microsoft.datawrangler.viewer.v0+json": {
       "columns": [
        {
         "name": "get_along_cats",
         "rawType": "object",
         "type": "string"
        },
        {
         "name": "count",
         "rawType": "int64",
         "type": "integer"
        }
       ],
       "ref": "988d3a1d-a752-4edb-b5ff-86620c00bee0",
       "rows": [
        [
         "No",
         "2662"
        ],
        [
         "Yes",
         "275"
        ]
       ],
       "shape": {
        "columns": 1,
        "rows": 2
       }
      },
      "text/plain": [
       "get_along_cats\n",
       "No     2662\n",
       "Yes     275\n",
       "Name: count, dtype: int64"
      ]
     },
     "execution_count": 182,
     "metadata": {},
     "output_type": "execute_result"
    }
   ],
   "source": [
    "# Fixing the issues of misspelled words\n",
    "replace_map = {\"Noo\":\"No\"}\n",
    "dogs[\"get_along_cats\"] = dogs[\"get_along_cats\"].replace(replace_map)\n",
    "dogs[\"get_along_cats\"].value_counts()"
   ]
  },
  {
   "cell_type": "code",
   "execution_count": 183,
   "id": "6b8a5c34",
   "metadata": {},
   "outputs": [
    {
     "data": {
      "text/plain": [
       "dtype('O')"
      ]
     },
     "execution_count": 183,
     "metadata": {},
     "output_type": "execute_result"
    }
   ],
   "source": [
    "dogs[\"get_along_cats\"].dtype"
   ]
  },
  {
   "cell_type": "code",
   "execution_count": 184,
   "id": "bdd995ef",
   "metadata": {},
   "outputs": [
    {
     "data": {
      "text/plain": [
       "CategoricalDtype(categories=['No', 'Yes'], ordered=False, categories_dtype=object)"
      ]
     },
     "execution_count": 184,
     "metadata": {},
     "output_type": "execute_result"
    }
   ],
   "source": [
    "dogs[\"get_along_cats\"] = dogs[\"get_along_cats\"].astype(\"category\")\n",
    "dogs[\"get_along_cats\"].dtype"
   ]
  },
  {
   "cell_type": "code",
   "execution_count": 185,
   "id": "41390551",
   "metadata": {},
   "outputs": [
    {
     "data": {
      "application/vnd.microsoft.datawrangler.viewer.v0+json": {
       "columns": [
        {
         "name": "index",
         "rawType": "int64",
         "type": "integer"
        },
        {
         "name": "breed",
         "rawType": "bool",
         "type": "boolean"
        }
       ],
       "ref": "671e4125-b752-43f6-bef8-a1e911951980",
       "rows": [
        [
         "0",
         "False"
        ],
        [
         "1",
         "False"
        ],
        [
         "2",
         "False"
        ],
        [
         "3",
         "False"
        ],
        [
         "4",
         "False"
        ],
        [
         "5",
         "False"
        ],
        [
         "6",
         "False"
        ],
        [
         "7",
         "False"
        ],
        [
         "8",
         "False"
        ],
        [
         "9",
         "False"
        ],
        [
         "10",
         "False"
        ],
        [
         "11",
         "False"
        ],
        [
         "12",
         "False"
        ],
        [
         "13",
         "False"
        ],
        [
         "14",
         "False"
        ],
        [
         "15",
         "False"
        ],
        [
         "16",
         "False"
        ],
        [
         "17",
         "False"
        ],
        [
         "18",
         "False"
        ],
        [
         "19",
         "False"
        ],
        [
         "20",
         "False"
        ],
        [
         "21",
         "False"
        ],
        [
         "22",
         "False"
        ],
        [
         "23",
         "False"
        ],
        [
         "24",
         "False"
        ],
        [
         "25",
         "False"
        ],
        [
         "26",
         "False"
        ],
        [
         "27",
         "True"
        ],
        [
         "28",
         "False"
        ],
        [
         "29",
         "False"
        ],
        [
         "30",
         "False"
        ],
        [
         "31",
         "False"
        ],
        [
         "32",
         "False"
        ],
        [
         "33",
         "False"
        ],
        [
         "34",
         "False"
        ],
        [
         "35",
         "False"
        ],
        [
         "36",
         "False"
        ],
        [
         "37",
         "False"
        ],
        [
         "38",
         "False"
        ],
        [
         "39",
         "False"
        ],
        [
         "40",
         "False"
        ],
        [
         "41",
         "False"
        ],
        [
         "42",
         "False"
        ],
        [
         "43",
         "False"
        ],
        [
         "44",
         "False"
        ],
        [
         "45",
         "False"
        ],
        [
         "46",
         "False"
        ],
        [
         "47",
         "False"
        ],
        [
         "48",
         "False"
        ],
        [
         "49",
         "False"
        ]
       ],
       "shape": {
        "columns": 1,
        "rows": 2937
       }
      },
      "text/plain": [
       "0       False\n",
       "1       False\n",
       "2       False\n",
       "3       False\n",
       "4       False\n",
       "        ...  \n",
       "2932    False\n",
       "2933    False\n",
       "2934    False\n",
       "2935    False\n",
       "2936     True\n",
       "Name: breed, Length: 2937, dtype: bool"
      ]
     },
     "execution_count": 185,
     "metadata": {},
     "output_type": "execute_result"
    }
   ],
   "source": [
    "# Searching for a stringg\n",
    "dogs[\"breed\"].str.contains(\"Shepherd\", regex=False)"
   ]
  },
  {
   "cell_type": "code",
   "execution_count": 186,
   "id": "499c1b5c",
   "metadata": {},
   "outputs": [
    {
     "data": {
      "application/vnd.microsoft.datawrangler.viewer.v0+json": {
       "columns": [
        {
         "name": "size",
         "rawType": "category",
         "type": "unknown"
        },
        {
         "name": "count",
         "rawType": "int64",
         "type": "integer"
        }
       ],
       "ref": "1ae04f02-929c-41ad-991a-287224822c47",
       "rows": [
        [
         "small",
         "50"
        ],
        [
         "medium",
         "181"
        ],
        [
         "large",
         "44"
        ]
       ],
       "shape": {
        "columns": 1,
        "rows": 3
       }
      },
      "text/plain": [
       "size\n",
       "small      50\n",
       "medium    181\n",
       "large      44\n",
       "Name: count, dtype: int64"
      ]
     },
     "execution_count": 186,
     "metadata": {},
     "output_type": "execute_result"
    }
   ],
   "source": [
    "# Access Series values based on category\n",
    "dogs.loc[dogs[\"get_along_cats\"] == \"Yes\", \"size\"].value_counts(sort=False)"
   ]
  },
  {
   "cell_type": "code",
   "execution_count": 187,
   "id": "8f475708",
   "metadata": {},
   "outputs": [
    {
     "data": {
      "application/vnd.microsoft.datawrangler.viewer.v0+json": {
       "columns": [
        {
         "name": "sex",
         "rawType": "category",
         "type": "unknown"
        },
        {
         "name": "count",
         "rawType": "int64",
         "type": "integer"
        }
       ],
       "ref": "efc5500f-7b89-49a2-86b4-1ce0b3195e8b",
       "rows": [
        [
         "Male",
         "1681"
        ],
        [
         "Female",
         "1256"
        ]
       ],
       "shape": {
        "columns": 1,
        "rows": 2
       }
      },
      "text/plain": [
       "sex\n",
       "Male      1681\n",
       "Female    1256\n",
       "Name: count, dtype: int64"
      ]
     },
     "execution_count": 187,
     "metadata": {},
     "output_type": "execute_result"
    }
   ],
   "source": [
    "dogs[\"sex\"].value_counts(dropna=False)"
   ]
  },
  {
   "cell_type": "markdown",
   "id": "219d4f93",
   "metadata": {},
   "source": [
    "### Cleaning variables\n",
    "Users of an online entry system used to have the ability to freely type in responses to questions. This is causing issues when trying to analyze the adoptable dogs dataset, `dogs`. Here is the current frequency table of the `\"sex\"` column:"
   ]
  },
  {
   "cell_type": "code",
   "execution_count": 188,
   "id": "e20a5785",
   "metadata": {},
   "outputs": [
    {
     "data": {
      "application/vnd.microsoft.datawrangler.viewer.v0+json": {
       "columns": [
        {
         "name": "sex",
         "rawType": "object",
         "type": "string"
        },
        {
         "name": "count",
         "rawType": "int64",
         "type": "integer"
        }
       ],
       "ref": "86369af3-3c8c-446e-a263-dc87218f5d70",
       "rows": [
        [
         "male",
         "1672"
        ],
        [
         "female",
         "1249"
        ],
        [
         " MALE",
         "10"
        ],
        [
         " FEMALE",
         "5"
        ],
        [
         "Malez",
         "1"
        ]
       ],
       "shape": {
        "columns": 1,
        "rows": 5
       }
      },
      "text/plain": [
       "sex\n",
       "male       1672\n",
       "female     1249\n",
       " MALE        10\n",
       " FEMALE       5\n",
       "Malez         1\n",
       "Name: count, dtype: int64"
      ]
     },
     "metadata": {},
     "output_type": "display_data"
    }
   ],
   "source": [
    "target_sex = {\"male\":1672, \"female\":1249, \" MALE\":10, \" FEMALE\":5, \"Malez\":1}\n",
    "target_sex_column = np.repeat(\n",
    "    list(target_sex.keys()), \n",
    "    list(target_sex.values())\n",
    ")\n",
    "\n",
    "dogs = dogs.iloc[: len(target_sex_column)].copy()  # safety: match lengths\n",
    "dogs[\"sex\"] = target_sex_column\n",
    "\n",
    "# Randomise the order \n",
    "rng = np.random.default_rng(seed=42)\n",
    "rng.shuffle(dogs[\"sex\"].values)\n",
    "\n",
    "# Set the values to categorical\n",
    "dogs[\"sex\"].astype(\"category\")\n",
    "\n",
    "display(dogs[\"sex\"].value_counts(dropna=False))"
   ]
  },
  {
   "cell_type": "markdown",
   "id": "9fbebb83",
   "metadata": {},
   "source": [
    "Now that the system only takes responses of `\"female\"` and `\"male\"`, you want this variable to match the updated system."
   ]
  },
  {
   "cell_type": "code",
   "execution_count": 189,
   "id": "00d2b5e8",
   "metadata": {},
   "outputs": [
    {
     "data": {
      "application/vnd.microsoft.datawrangler.viewer.v0+json": {
       "columns": [
        {
         "name": "sex",
         "rawType": "object",
         "type": "string"
        },
        {
         "name": "count",
         "rawType": "int64",
         "type": "integer"
        }
       ],
       "ref": "9860e52f-360b-4cc8-afc2-46c68ada80c3",
       "rows": [
        [
         "male",
         "1673"
        ],
        [
         "female",
         "1249"
        ],
        [
         " MALE",
         "10"
        ],
        [
         " FEMALE",
         "5"
        ]
       ],
       "shape": {
        "columns": 1,
        "rows": 4
       }
      },
      "text/plain": [
       "sex\n",
       "male       1673\n",
       "female     1249\n",
       " MALE        10\n",
       " FEMALE       5\n",
       "Name: count, dtype: int64"
      ]
     },
     "metadata": {},
     "output_type": "display_data"
    }
   ],
   "source": [
    "# Update the misspelled response \"Malez\" to be \"male\" by creating the replacement map, replace_map.\n",
    "replace_map = {\"Malez\": \"male\"}\n",
    "dogs[\"sex\"] = dogs[\"sex\"].replace(replace_map)\n",
    "display(dogs[\"sex\"].value_counts())"
   ]
  },
  {
   "cell_type": "code",
   "execution_count": 190,
   "id": "b6adef7e",
   "metadata": {},
   "outputs": [
    {
     "data": {
      "application/vnd.microsoft.datawrangler.viewer.v0+json": {
       "columns": [
        {
         "name": "sex",
         "rawType": "object",
         "type": "string"
        },
        {
         "name": "count",
         "rawType": "int64",
         "type": "integer"
        }
       ],
       "ref": "5fd7b929-f717-4e23-89bf-3a9712974476",
       "rows": [
        [
         "male",
         "1673"
        ],
        [
         "female",
         "1249"
        ],
        [
         "MALE",
         "10"
        ],
        [
         "FEMALE",
         "5"
        ]
       ],
       "shape": {
        "columns": 1,
        "rows": 4
       }
      },
      "text/plain": [
       "sex\n",
       "male      1673\n",
       "female    1249\n",
       "MALE        10\n",
       "FEMALE       5\n",
       "Name: count, dtype: int64"
      ]
     },
     "metadata": {},
     "output_type": "display_data"
    }
   ],
   "source": [
    "# Remove the leading spaces of the \" MALE\" and \" FEMALE\" responses.\n",
    "dogs[\"sex\"] = dogs[\"sex\"].str.strip()\n",
    "display(dogs[\"sex\"].value_counts())"
   ]
  },
  {
   "cell_type": "code",
   "execution_count": 191,
   "id": "0fdf53e5",
   "metadata": {},
   "outputs": [
    {
     "data": {
      "application/vnd.microsoft.datawrangler.viewer.v0+json": {
       "columns": [
        {
         "name": "sex",
         "rawType": "object",
         "type": "string"
        },
        {
         "name": "count",
         "rawType": "int64",
         "type": "integer"
        }
       ],
       "ref": "36fefdec-f677-4f48-8852-e2efc6e91c2a",
       "rows": [
        [
         "male",
         "1683"
        ],
        [
         "female",
         "1254"
        ]
       ],
       "shape": {
        "columns": 1,
        "rows": 2
       }
      },
      "text/plain": [
       "sex\n",
       "male      1683\n",
       "female    1254\n",
       "Name: count, dtype: int64"
      ]
     },
     "metadata": {},
     "output_type": "display_data"
    }
   ],
   "source": [
    "# Convert all responses to be strictly lowercase.\n",
    "dogs[\"sex\"] = dogs[\"sex\"].str.lower()\n",
    "display(dogs[\"sex\"].value_counts())"
   ]
  },
  {
   "cell_type": "code",
   "execution_count": 192,
   "id": "30bacb5d",
   "metadata": {},
   "outputs": [
    {
     "data": {
      "text/plain": [
       "CategoricalDtype(categories=['female', 'male'], ordered=False, categories_dtype=object)"
      ]
     },
     "metadata": {},
     "output_type": "display_data"
    }
   ],
   "source": [
    "# Convert the \"sex\" column to a categorical pandas Series.\n",
    "dogs[\"sex\"] = dogs[\"sex\"].astype(\"category\")\n",
    "display(dogs[\"sex\"].dtype)"
   ]
  },
  {
   "cell_type": "markdown",
   "id": "4be98add",
   "metadata": {},
   "source": [
    "### Accessing and filtering data\n",
    "You are working on a Python application to display information about the dogs available for adoption at your local animal shelter. Some of the variables of interest, such as `\"breed\"`, `\"size\"`, and `\"coat\"`, are saved as categorical variables. In order for this application to work properly, you need to be able to access and filter data using these columns."
   ]
  },
  {
   "cell_type": "code",
   "execution_count": 193,
   "id": "74075b1a",
   "metadata": {},
   "outputs": [
    {
     "data": {
      "application/vnd.microsoft.datawrangler.viewer.v0+json": {
       "columns": [
        {
         "name": "coat",
         "rawType": "object",
         "type": "string"
        },
        {
         "name": "count",
         "rawType": "int64",
         "type": "integer"
        }
       ],
       "ref": "a06fe43d-dcf6-4a4e-9188-fe7c53d8e6fb",
       "rows": [
        [
         "short",
         "1669"
        ],
        [
         "medium",
         "430"
        ],
        [
         "wirehaired",
         "199"
        ],
        [
         "long",
         "117"
        ]
       ],
       "shape": {
        "columns": 1,
        "rows": 4
       }
      },
      "text/plain": [
       "coat\n",
       "short         1669\n",
       "medium         430\n",
       "wirehaired     199\n",
       "long           117\n",
       "Name: count, dtype: int64"
      ]
     },
     "metadata": {},
     "output_type": "display_data"
    }
   ],
   "source": [
    "intended_coat = {\"short\":1669, \"medium\": 430, \"wirehaired\":199, \"long\":117}\n",
    "target_coat_column = np.repeat(\n",
    "    list(intended_coat.keys()),\n",
    "    list(intended_coat.values())\n",
    ")\n",
    "dogs = dogs.iloc[: len(target_coat_column)].copy()  # safety: match lengths\n",
    "dogs[\"coat\"] = target_coat_column\n",
    "\n",
    "# Randomise the order \n",
    "rng = np.random.default_rng(seed=42)\n",
    "rng.shuffle(dogs[\"coat\"].values)\n",
    "\n",
    "# Set the values to categorical\n",
    "dogs[\"coat\"].astype(\"category\")\n",
    "\n",
    "display(dogs[\"coat\"].value_counts(dropna=False))"
   ]
  },
  {
   "cell_type": "code",
   "execution_count": 194,
   "id": "dfc27977",
   "metadata": {},
   "outputs": [
    {
     "data": {
      "application/vnd.microsoft.datawrangler.viewer.v0+json": {
       "columns": [
        {
         "name": "index",
         "rawType": "int64",
         "type": "integer"
        },
        {
         "name": "coat",
         "rawType": "object",
         "type": "string"
        }
       ],
       "ref": "d0f09983-c54c-4143-b182-bdd83aa9fe92",
       "rows": [
        [
         "0",
         "short"
        ]
       ],
       "shape": {
        "columns": 1,
        "rows": 1
       }
      },
      "text/plain": [
       "0    short\n",
       "Name: coat, dtype: object"
      ]
     },
     "execution_count": 194,
     "metadata": {},
     "output_type": "execute_result"
    }
   ],
   "source": [
    "dogs.loc[dogs[\"ID\"] == 23807, \"coat\"]\n"
   ]
  },
  {
   "cell_type": "code",
   "execution_count": 195,
   "id": "aa83ddbc",
   "metadata": {},
   "outputs": [
    {
     "data": {
      "application/vnd.microsoft.datawrangler.viewer.v0+json": {
       "columns": [
        {
         "name": "sex",
         "rawType": "category",
         "type": "unknown"
        },
        {
         "name": "count",
         "rawType": "int64",
         "type": "integer"
        }
       ],
       "ref": "d78e7f1f-00d9-4937-b75c-69ac0e91861e",
       "rows": [
        [
         "male",
         "72"
        ],
        [
         "female",
         "45"
        ]
       ],
       "shape": {
        "columns": 1,
        "rows": 2
       }
      },
      "text/plain": [
       "sex\n",
       "male      72\n",
       "female    45\n",
       "Name: count, dtype: int64"
      ]
     },
     "execution_count": 195,
     "metadata": {},
     "output_type": "execute_result"
    }
   ],
   "source": [
    "# For dogs with a long \"coat\", print the number of each \"sex\".\n",
    "dogs.loc[dogs[\"coat\"] == \"long\", \"sex\"].value_counts()"
   ]
  },
  {
   "cell_type": "code",
   "execution_count": 196,
   "id": "7bbf794b",
   "metadata": {},
   "outputs": [
    {
     "data": {
      "text/plain": [
       "np.float64(8.186153846153847)"
      ]
     },
     "execution_count": 196,
     "metadata": {},
     "output_type": "execute_result"
    }
   ],
   "source": [
    "# Print the average age of dogs with a \"breed\" of \"English Cocker Spaniel\".\n",
    "dogs.loc[dogs[\"breed\"] == \"English Cocker Spaniel\", \"age\"].mean(numeric_only=True)"
   ]
  },
  {
   "cell_type": "code",
   "execution_count": 197,
   "id": "227bd971",
   "metadata": {},
   "outputs": [
    {
     "data": {
      "text/plain": [
       "34"
      ]
     },
     "execution_count": 197,
     "metadata": {},
     "output_type": "execute_result"
    }
   ],
   "source": [
    "# Filter to the dogs with \"English\" in their \"breed\" name using the .contains() method.\n",
    "dogs[dogs[\"breed\"].str.contains(\"English\", regex=False)].shape[0]"
   ]
  },
  {
   "cell_type": "markdown",
   "id": "e2edd0a8",
   "metadata": {},
   "source": [
    "## Introduction to Categorical Plots Using Seaborn\n",
    "\n",
    "Seaborn is a powerful and flexible Python library for data visualisation, particularly well-suited for statistical graphics. Among its core strengths are **categorical plots**, which are designed to reveal the distribution, central tendency, and relationships between qualitative variables and their quantitative counterparts. Categorical plotting in Seaborn is highly efficient, producing visually compelling results with minimal code.\n",
    "\n",
    "This guide covers foundational principles, syntax, and best practices for categorical plotting using Seaborn’s `catplot` function, with a focus on the object-oriented (OOP) approach for maximum control and clarity.\n",
    "\n",
    "\n",
    "### Why Categorical Plots?\n",
    "\n",
    "Categorical plots are essential for:\n",
    "- Comparing distributions across discrete groups.\n",
    "- Understanding the relationship between categorical and numerical variables.\n",
    "- Detecting outliers, variability, and trends within categories.\n",
    "- Summarising counts or proportions for qualitative data.\n",
    "\n",
    "\n",
    "### Overview of Seaborn’s `catplot`\n",
    "\n",
    "Seaborn’s `catplot()` is a unified interface for creating several types of categorical plots, with the `kind` parameter controlling the plot style.\n",
    "\n",
    "#### Supported Plot Types:\n",
    "- `\"strip\"`: Scatter plot of all data points (with jitter for overlap).\n",
    "- `\"swarm\"`: Scatter plot with non-overlapping points.\n",
    "- `\"box\"`: Box-and-whisker plot (quartiles, outliers, median).\n",
    "- `\"violin\"`: Kernel density estimate mirrored for each category.\n",
    "- `\"boxen\"`: Enhanced box plot for large datasets.\n",
    "- `\"point\"`: Plot of means (or other summary stats) with confidence intervals.\n",
    "- `\"bar\"`: Bar plot of summary statistic (default: mean) for each category.\n",
    "- `\"count\"`: Bar plot of raw counts for each category.\n",
    "\n",
    "\n",
    "### General Syntax for `catplot` (OOP Approach)\n",
    "\n",
    "```python\n",
    "import seaborn as sns\n",
    "import matplotlib.pyplot as plt\n",
    "\n",
    "# Set global figure aesthetics (optional)\n",
    "sns.set(font_scale=1.2)\n",
    "sns.set_style(\"whitegrid\")\n",
    "\n",
    "# Create the categorical plot as a FacetGrid object\n",
    "g = sns.catplot(\n",
    "    x=\"categorical_var\",        # column in your DataFrame\n",
    "    y=\"numeric_var\",            # column in your DataFrame\n",
    "    data=data_frame,            # your DataFrame\n",
    "    kind=\"box\",                 # or \"violin\", \"bar\", etc.\n",
    "    height=6,                   # controls figure height (in inches)\n",
    "    aspect=1.3,                 # width/height ratio\n",
    "    palette=\"muted\"             # colour scheme\n",
    ")\n",
    "\n",
    "# Customise axes and figure using OOP interface\n",
    "g.set_axis_labels(\"Category Label\", \"Value Label\")\n",
    "g.fig.suptitle(\"Title of Your Categorical Plot\", y=1.03)\n",
    "g.set_titles(\"{col_name}\")\n",
    "\n",
    "# Additional customisation (optional)\n",
    "for ax in g.axes.flat:\n",
    "    ax.set_ylabel(\"Custom Y Label\")\n",
    "    ax.set_xlabel(\"Custom X Label\")\n",
    "    ax.tick_params(axis='x', rotation=45)\n",
    "\n",
    "plt.tight_layout()\n",
    "plt.show()\n",
    "```\n",
    "\n",
    "\n",
    "### Robust Plot Options (OOP Approach)\n",
    "\n",
    "- **Box Plot:** Useful for visualising the distribution, median, quartiles, and outliers within each category.\n",
    "    ```python\n",
    "    g = sns.catplot(\n",
    "        x=\"category\", y=\"value\", data=df,\n",
    "        kind=\"box\", height=5, aspect=1.2, palette=\"Set2\"\n",
    "    )\n",
    "    ```\n",
    "- **Violin Plot:** Shows the full distribution with density estimation.\n",
    "    ```python\n",
    "    g = sns.catplot(\n",
    "        x=\"category\", y=\"value\", data=df,\n",
    "        kind=\"violin\", inner=\"quartile\", height=5, aspect=1.2, palette=\"coolwarm\"\n",
    "    )\n",
    "    ```\n",
    "- **Bar Plot:** Displays means (or other estimator) with error bars.\n",
    "    ```python\n",
    "    g = sns.catplot(\n",
    "        x=\"category\", y=\"value\", data=df,\n",
    "        kind=\"bar\", height=5, aspect=1.2, ci=\"sd\", palette=\"muted\"\n",
    "    )\n",
    "    ```\n",
    "- **Count Plot:** Number of observations per category (no y argument).\n",
    "    ```python\n",
    "    g = sns.catplot(\n",
    "        x=\"category\", data=df,\n",
    "        kind=\"count\", height=5, aspect=1.2, palette=\"deep\"\n",
    "    )\n",
    "    ```\n",
    "\n",
    "\n",
    "### Advanced: Multiple Categories and Faceting\n",
    "\n",
    "Visualise additional categorical groupings using `hue`, `col`, or `row`:\n",
    "\n",
    "```python\n",
    "g = sns.catplot(\n",
    "    x=\"category1\", y=\"value\", hue=\"category2\", data=df,\n",
    "    kind=\"box\", col=\"facet_category\", height=4, aspect=1\n",
    ")\n",
    "```\n",
    "- This produces subplots (facets) split by a third variable.\n",
    "\n",
    "Seaborn’s `catplot` function—especially when used via the OOP (FacetGrid) interface—offers a highly flexible, robust, and visually compelling way to explore relationships between categorical and numerical data. Mastery of categorical plotting enables you to rapidly detect patterns, differences, and outliers, providing the foundation for statistical insight and communicative data visualisation in any field.\n"
   ]
  },
  {
   "cell_type": "code",
   "execution_count": 198,
   "id": "6c71641e",
   "metadata": {},
   "outputs": [
    {
     "data": {
      "application/vnd.microsoft.datawrangler.viewer.v0+json": {
       "columns": [
        {
         "name": "index",
         "rawType": "int64",
         "type": "integer"
        },
        {
         "name": "User country",
         "rawType": "object",
         "type": "string"
        },
        {
         "name": "Nr. reviews",
         "rawType": "int64",
         "type": "integer"
        },
        {
         "name": "Nr. hotel reviews",
         "rawType": "int64",
         "type": "integer"
        },
        {
         "name": "Helpful votes",
         "rawType": "int64",
         "type": "integer"
        },
        {
         "name": "Score",
         "rawType": "int64",
         "type": "integer"
        },
        {
         "name": "Period of stay",
         "rawType": "object",
         "type": "string"
        },
        {
         "name": "Traveler type",
         "rawType": "object",
         "type": "string"
        },
        {
         "name": "Pool",
         "rawType": "object",
         "type": "string"
        },
        {
         "name": "Gym",
         "rawType": "object",
         "type": "string"
        },
        {
         "name": "Tennis court",
         "rawType": "object",
         "type": "string"
        },
        {
         "name": "Spa",
         "rawType": "object",
         "type": "string"
        },
        {
         "name": "Casino",
         "rawType": "object",
         "type": "string"
        },
        {
         "name": "Free internet",
         "rawType": "object",
         "type": "string"
        },
        {
         "name": "Hotel name",
         "rawType": "object",
         "type": "string"
        },
        {
         "name": "Hotel stars",
         "rawType": "int64",
         "type": "integer"
        },
        {
         "name": "Nr. rooms",
         "rawType": "int64",
         "type": "integer"
        },
        {
         "name": "User continent",
         "rawType": "object",
         "type": "string"
        },
        {
         "name": "Member years",
         "rawType": "int64",
         "type": "integer"
        },
        {
         "name": "Review month",
         "rawType": "object",
         "type": "string"
        },
        {
         "name": "Review weekday",
         "rawType": "object",
         "type": "string"
        }
       ],
       "ref": "ae2a86d6-a5d1-4ba5-a183-3051a4b28063",
       "rows": [
        [
         "0",
         "USA",
         "11",
         "4",
         "13",
         "5",
         "Dec-Feb",
         "Friends",
         "NO",
         "YES",
         "NO",
         "NO",
         "YES",
         "YES",
         "Circus Circus Hotel & Casino Las Vegas",
         "3",
         "3773",
         "North America",
         "9",
         "January",
         "Thursday"
        ],
        [
         "1",
         "USA",
         "119",
         "21",
         "75",
         "3",
         "Dec-Feb",
         "Business",
         "NO",
         "YES",
         "NO",
         "NO",
         "YES",
         "YES",
         "Circus Circus Hotel & Casino Las Vegas",
         "3",
         "3773",
         "North America",
         "3",
         "January",
         "Friday"
        ],
        [
         "2",
         "USA",
         "36",
         "9",
         "25",
         "5",
         "Mar-May",
         "Families",
         "NO",
         "YES",
         "NO",
         "NO",
         "YES",
         "YES",
         "Circus Circus Hotel & Casino Las Vegas",
         "3",
         "3773",
         "North America",
         "2",
         "February",
         "Saturday"
        ],
        [
         "3",
         "UK",
         "14",
         "7",
         "14",
         "4",
         "Mar-May",
         "Friends",
         "NO",
         "YES",
         "NO",
         "NO",
         "YES",
         "YES",
         "Circus Circus Hotel & Casino Las Vegas",
         "3",
         "3773",
         "Europe",
         "6",
         "February",
         "Friday"
        ],
        [
         "4",
         "Canada",
         "5",
         "5",
         "2",
         "4",
         "Mar-May",
         "Solo",
         "NO",
         "YES",
         "NO",
         "NO",
         "YES",
         "YES",
         "Circus Circus Hotel & Casino Las Vegas",
         "3",
         "3773",
         "North America",
         "7",
         "March",
         "Tuesday"
        ]
       ],
       "shape": {
        "columns": 20,
        "rows": 5
       }
      },
      "text/html": [
       "<div>\n",
       "<style scoped>\n",
       "    .dataframe tbody tr th:only-of-type {\n",
       "        vertical-align: middle;\n",
       "    }\n",
       "\n",
       "    .dataframe tbody tr th {\n",
       "        vertical-align: top;\n",
       "    }\n",
       "\n",
       "    .dataframe thead th {\n",
       "        text-align: right;\n",
       "    }\n",
       "</style>\n",
       "<table border=\"1\" class=\"dataframe\">\n",
       "  <thead>\n",
       "    <tr style=\"text-align: right;\">\n",
       "      <th></th>\n",
       "      <th>User country</th>\n",
       "      <th>Nr. reviews</th>\n",
       "      <th>Nr. hotel reviews</th>\n",
       "      <th>Helpful votes</th>\n",
       "      <th>Score</th>\n",
       "      <th>Period of stay</th>\n",
       "      <th>Traveler type</th>\n",
       "      <th>Pool</th>\n",
       "      <th>Gym</th>\n",
       "      <th>Tennis court</th>\n",
       "      <th>Spa</th>\n",
       "      <th>Casino</th>\n",
       "      <th>Free internet</th>\n",
       "      <th>Hotel name</th>\n",
       "      <th>Hotel stars</th>\n",
       "      <th>Nr. rooms</th>\n",
       "      <th>User continent</th>\n",
       "      <th>Member years</th>\n",
       "      <th>Review month</th>\n",
       "      <th>Review weekday</th>\n",
       "    </tr>\n",
       "  </thead>\n",
       "  <tbody>\n",
       "    <tr>\n",
       "      <th>0</th>\n",
       "      <td>USA</td>\n",
       "      <td>11</td>\n",
       "      <td>4</td>\n",
       "      <td>13</td>\n",
       "      <td>5</td>\n",
       "      <td>Dec-Feb</td>\n",
       "      <td>Friends</td>\n",
       "      <td>NO</td>\n",
       "      <td>YES</td>\n",
       "      <td>NO</td>\n",
       "      <td>NO</td>\n",
       "      <td>YES</td>\n",
       "      <td>YES</td>\n",
       "      <td>Circus Circus Hotel &amp; Casino Las Vegas</td>\n",
       "      <td>3</td>\n",
       "      <td>3773</td>\n",
       "      <td>North America</td>\n",
       "      <td>9</td>\n",
       "      <td>January</td>\n",
       "      <td>Thursday</td>\n",
       "    </tr>\n",
       "    <tr>\n",
       "      <th>1</th>\n",
       "      <td>USA</td>\n",
       "      <td>119</td>\n",
       "      <td>21</td>\n",
       "      <td>75</td>\n",
       "      <td>3</td>\n",
       "      <td>Dec-Feb</td>\n",
       "      <td>Business</td>\n",
       "      <td>NO</td>\n",
       "      <td>YES</td>\n",
       "      <td>NO</td>\n",
       "      <td>NO</td>\n",
       "      <td>YES</td>\n",
       "      <td>YES</td>\n",
       "      <td>Circus Circus Hotel &amp; Casino Las Vegas</td>\n",
       "      <td>3</td>\n",
       "      <td>3773</td>\n",
       "      <td>North America</td>\n",
       "      <td>3</td>\n",
       "      <td>January</td>\n",
       "      <td>Friday</td>\n",
       "    </tr>\n",
       "    <tr>\n",
       "      <th>2</th>\n",
       "      <td>USA</td>\n",
       "      <td>36</td>\n",
       "      <td>9</td>\n",
       "      <td>25</td>\n",
       "      <td>5</td>\n",
       "      <td>Mar-May</td>\n",
       "      <td>Families</td>\n",
       "      <td>NO</td>\n",
       "      <td>YES</td>\n",
       "      <td>NO</td>\n",
       "      <td>NO</td>\n",
       "      <td>YES</td>\n",
       "      <td>YES</td>\n",
       "      <td>Circus Circus Hotel &amp; Casino Las Vegas</td>\n",
       "      <td>3</td>\n",
       "      <td>3773</td>\n",
       "      <td>North America</td>\n",
       "      <td>2</td>\n",
       "      <td>February</td>\n",
       "      <td>Saturday</td>\n",
       "    </tr>\n",
       "    <tr>\n",
       "      <th>3</th>\n",
       "      <td>UK</td>\n",
       "      <td>14</td>\n",
       "      <td>7</td>\n",
       "      <td>14</td>\n",
       "      <td>4</td>\n",
       "      <td>Mar-May</td>\n",
       "      <td>Friends</td>\n",
       "      <td>NO</td>\n",
       "      <td>YES</td>\n",
       "      <td>NO</td>\n",
       "      <td>NO</td>\n",
       "      <td>YES</td>\n",
       "      <td>YES</td>\n",
       "      <td>Circus Circus Hotel &amp; Casino Las Vegas</td>\n",
       "      <td>3</td>\n",
       "      <td>3773</td>\n",
       "      <td>Europe</td>\n",
       "      <td>6</td>\n",
       "      <td>February</td>\n",
       "      <td>Friday</td>\n",
       "    </tr>\n",
       "    <tr>\n",
       "      <th>4</th>\n",
       "      <td>Canada</td>\n",
       "      <td>5</td>\n",
       "      <td>5</td>\n",
       "      <td>2</td>\n",
       "      <td>4</td>\n",
       "      <td>Mar-May</td>\n",
       "      <td>Solo</td>\n",
       "      <td>NO</td>\n",
       "      <td>YES</td>\n",
       "      <td>NO</td>\n",
       "      <td>NO</td>\n",
       "      <td>YES</td>\n",
       "      <td>YES</td>\n",
       "      <td>Circus Circus Hotel &amp; Casino Las Vegas</td>\n",
       "      <td>3</td>\n",
       "      <td>3773</td>\n",
       "      <td>North America</td>\n",
       "      <td>7</td>\n",
       "      <td>March</td>\n",
       "      <td>Tuesday</td>\n",
       "    </tr>\n",
       "  </tbody>\n",
       "</table>\n",
       "</div>"
      ],
      "text/plain": [
       "  User country  Nr. reviews  Nr. hotel reviews  Helpful votes  Score  \\\n",
       "0          USA           11                  4             13      5   \n",
       "1          USA          119                 21             75      3   \n",
       "2          USA           36                  9             25      5   \n",
       "3           UK           14                  7             14      4   \n",
       "4       Canada            5                  5              2      4   \n",
       "\n",
       "  Period of stay Traveler type Pool  Gym Tennis court Spa Casino  \\\n",
       "0        Dec-Feb       Friends   NO  YES           NO  NO    YES   \n",
       "1        Dec-Feb      Business   NO  YES           NO  NO    YES   \n",
       "2        Mar-May      Families   NO  YES           NO  NO    YES   \n",
       "3        Mar-May       Friends   NO  YES           NO  NO    YES   \n",
       "4        Mar-May          Solo   NO  YES           NO  NO    YES   \n",
       "\n",
       "  Free internet                              Hotel name  Hotel stars  \\\n",
       "0           YES  Circus Circus Hotel & Casino Las Vegas            3   \n",
       "1           YES  Circus Circus Hotel & Casino Las Vegas            3   \n",
       "2           YES  Circus Circus Hotel & Casino Las Vegas            3   \n",
       "3           YES  Circus Circus Hotel & Casino Las Vegas            3   \n",
       "4           YES  Circus Circus Hotel & Casino Las Vegas            3   \n",
       "\n",
       "   Nr. rooms User continent  Member years Review month Review weekday  \n",
       "0       3773  North America             9      January       Thursday  \n",
       "1       3773  North America             3      January         Friday  \n",
       "2       3773  North America             2     February       Saturday  \n",
       "3       3773         Europe             6     February         Friday  \n",
       "4       3773  North America             7        March        Tuesday  "
      ]
     },
     "execution_count": 198,
     "metadata": {},
     "output_type": "execute_result"
    }
   ],
   "source": [
    "reviews = pd.read_csv(\"data/lasvegas_tripadvisor.csv\")\n",
    "reviews.head()"
   ]
  },
  {
   "cell_type": "code",
   "execution_count": 199,
   "id": "e8354695",
   "metadata": {},
   "outputs": [
    {
     "name": "stdout",
     "output_type": "stream",
     "text": [
      "<class 'pandas.core.frame.DataFrame'>\n",
      "RangeIndex: 504 entries, 0 to 503\n",
      "Data columns (total 20 columns):\n",
      " #   Column             Non-Null Count  Dtype \n",
      "---  ------             --------------  ----- \n",
      " 0   User country       504 non-null    object\n",
      " 1   Nr. reviews        504 non-null    int64 \n",
      " 2   Nr. hotel reviews  504 non-null    int64 \n",
      " 3   Helpful votes      504 non-null    int64 \n",
      " 4   Score              504 non-null    int64 \n",
      " 5   Period of stay     504 non-null    object\n",
      " 6   Traveler type      504 non-null    object\n",
      " 7   Pool               504 non-null    object\n",
      " 8   Gym                504 non-null    object\n",
      " 9   Tennis court       504 non-null    object\n",
      " 10  Spa                504 non-null    object\n",
      " 11  Casino             504 non-null    object\n",
      " 12  Free internet      504 non-null    object\n",
      " 13  Hotel name         504 non-null    object\n",
      " 14  Hotel stars        504 non-null    int64 \n",
      " 15  Nr. rooms          504 non-null    int64 \n",
      " 16  User continent     504 non-null    object\n",
      " 17  Member years       504 non-null    int64 \n",
      " 18  Review month       504 non-null    object\n",
      " 19  Review weekday     504 non-null    object\n",
      "dtypes: int64(7), object(13)\n",
      "memory usage: 78.9+ KB\n"
     ]
    }
   ],
   "source": [
    "reviews.info()"
   ]
  },
  {
   "cell_type": "code",
   "execution_count": 200,
   "id": "528be1c1",
   "metadata": {},
   "outputs": [
    {
     "data": {
      "application/vnd.microsoft.datawrangler.viewer.v0+json": {
       "columns": [
        {
         "name": "Score",
         "rawType": "int64",
         "type": "integer"
        },
        {
         "name": "count",
         "rawType": "int64",
         "type": "integer"
        }
       ],
       "ref": "0ca632f8-c223-41c1-8f61-a0a65f4cace2",
       "rows": [
        [
         "5",
         "227"
        ],
        [
         "4",
         "164"
        ],
        [
         "3",
         "72"
        ],
        [
         "2",
         "30"
        ],
        [
         "1",
         "11"
        ]
       ],
       "shape": {
        "columns": 1,
        "rows": 5
       }
      },
      "text/plain": [
       "Score\n",
       "5    227\n",
       "4    164\n",
       "3     72\n",
       "2     30\n",
       "1     11\n",
       "Name: count, dtype: int64"
      ]
     },
     "execution_count": 200,
     "metadata": {},
     "output_type": "execute_result"
    }
   ],
   "source": [
    "reviews[\"Score\"].value_counts()"
   ]
  },
  {
   "cell_type": "code",
   "execution_count": 201,
   "id": "70cbf61c",
   "metadata": {},
   "outputs": [
    {
     "data": {
      "image/png": "[encoded data removed]",
      "text/plain": [
       "<Figure size 780x600 with 1 Axes>"
      ]
     },
     "metadata": {},
     "output_type": "display_data"
    }
   ],
   "source": [
    "# sns.catplot() creates a FacetGrid object, allowing for more customization\n",
    "g = sns.catplot(\n",
    "    x=\"Pool\",                    # Categorical variable on x-axis (Pool availability: YES/NO)\n",
    "    y=\"Score\",                   # Numerical variable on y-axis (Review scores: 1-5)\n",
    "    data=reviews,                \n",
    "    kind=\"box\",                  \n",
    "    height=6,                    # Figure height in inches\n",
    "    aspect=1.3,                  # Width-to-height ratio (1.3 means 30% wider than tall)\n",
    "    palette=\"viridis\",           \n",
    "    hue=\"Pool\"\n",
    ")\n",
    "\n",
    "\n",
    "# Add a main title positioned slightly above the plot\n",
    "g.figure.suptitle(\"Hotel Review Scores by Pool Availability\", y=1.02, fontsize=14)\n",
    "\n",
    "# Customize individual axes for enhanced readability\n",
    "for ax in g.axes.flat:         # Iterate through all subplot axes in the grid\n",
    "    ax.set_ylim(0, 6)          # Set consistent y-axis range from 0 to 6\n",
    "    ax.grid(True, alpha=0.3)    # Add subtle grid lines (alpha controls transparency)\n",
    "    ax.set_ylabel(\"Review Score (1-5)\", fontsize=12)    # Detailed y-axis label\n",
    "    ax.set_xlabel(\"Pool Available\", fontsize=12)        # Clear x-axis label\n",
    "\n",
    "\n",
    "plt.tight_layout()             \n",
    "plt.show()                     "
   ]
  },
  {
   "cell_type": "markdown",
   "id": "6e47d521",
   "metadata": {},
   "source": [
    "### Creating a box plot\n",
    "When people leave reviews for products, services, or destinations, people reading those reviews can sometimes mark the original review as helpful. If enough people mark the review as helpful, future readers of these reviews might be more likely to trust the content of the original review.\n",
    "\n",
    "Using the reviews dataset, explore the continuous variable `\"Helpful votes\"` across the different categories found in the `\"Traveler type\"` variable."
   ]
  },
  {
   "cell_type": "code",
   "execution_count": 202,
   "id": "e426d5a2",
   "metadata": {},
   "outputs": [],
   "source": [
    "# Setting \"Traveler type\" to a categorical type\n",
    "reviews[\"Traveler type\"] = reviews[\"Traveler type\"].astype(\"category\")"
   ]
  },
  {
   "cell_type": "code",
   "execution_count": 203,
   "id": "f1bb1a37",
   "metadata": {},
   "outputs": [
    {
     "data": {
      "image/png": "[encoded data removed]",
      "text/plain": [
       "<Figure size 780x600 with 1 Axes>"
      ]
     },
     "metadata": {},
     "output_type": "display_data"
    }
   ],
   "source": [
    "# Create a boxplot using catplot() with \"Helpful votes\" as the continuous variable split across each \"Traveler type\". Make sure that you are using the reviews dataset.\n",
    "g = sns.catplot(x=\"Traveler type\", y=\"Helpful votes\", data=reviews, \n",
    "                kind=\"box\", height=6, aspect=1.3, \n",
    "                palette=\"viridis\", hue=\"Traveler type\")\n",
    "\n",
    "\n",
    "# Add meaningful title and axis labels\n",
    "g.figure.suptitle(\"Helpful Votes Distribution by Traveler Type\", y=1.02, fontsize=14)\n",
    "\n",
    "for ax in g.axes.flat:\n",
    "    ax.grid(True, alpha=0.3)\n",
    "    ax.set_ylabel(\"Number of Helpful Votes\", fontsize=12)\n",
    "    ax.set_xlabel(\"Traveler Type\", fontsize=12)\n",
    "\n",
    "plt.tight_layout()\n",
    "plt.show() "
   ]
  },
  {
   "cell_type": "markdown",
   "id": "61a1e324",
   "metadata": {},
   "source": [
    "## Point and Count Plots with Seaborn\n",
    "\n",
    "Seaborn’s categorical plotting suite (`catplot`) includes **point plots** and **count plots**—two powerful tools for summarising relationships and distributions in categorical data. Both types can reveal patterns, trends, and differences across groups, but are suited for different statistical questions and visual storytelling. This guide explains the principles, syntax, and best practices for both, with an emphasis on analytical clarity and publication-quality presentation using the object-oriented (OOP) approach.\n",
    "\n",
    "\n",
    "####  What is a Point Plot?\n",
    "\n",
    "A **point plot** visualises **summary statistics** (by default, the mean) for one numeric variable within each category of another variable. Points are plotted at each group mean and connected by lines to highlight trends or differences.\n",
    "\n",
    "- **Statistic:** Typically mean (but can be changed).\n",
    "- **Visual elements:** Points, confidence intervals, and optional connecting lines.\n",
    "- **Best for:** Comparing trends or differences across categories, especially when the number of categories is moderate.\n",
    "\n",
    "#### Syntax\n",
    "\n",
    "```python\n",
    "import seaborn as sns\n",
    "import matplotlib.pyplot as plt\n",
    "\n",
    "sns.set(font_scale=1.2, style=\"whitegrid\")\n",
    "g = sns.catplot(\n",
    "    x=\"category\", y=\"value\", data=data_frame,\n",
    "    kind=\"point\", \n",
    "    height=5, aspect=1.2, \n",
    "    ci=\"sd\",              # Error bars: standard deviation (or 95% CI by default)\n",
    "    color=\"darkblue\",     # Single colour, or use palette for multiple\n",
    "    markers=\"o\",          # Marker style for points\n",
    "    linestyles=\"-\",       # Line style connecting points\n",
    ")\n",
    "g.set_axis_labels(\"Category\", \"Statistic\")\n",
    "g.fig.suptitle(\"Point Plot of Value by Category\", y=1.02)\n",
    "plt.tight_layout()\n",
    "plt.show()\n",
    "```\n",
    "\n",
    "### OOP Customisation and Aesthetics\n",
    "\n",
    "- **Faceting:** Add `col`, `row`, or `hue` for subgroup analysis.\n",
    "- **Marker/Line Styling:** Use `markers`, `linestyles`, and `palette` for clear group distinctions.\n",
    "- **Legend control:** `g._legend.set_title(\"Legend Title\")` for clarity.\n",
    "\n",
    "#### Example: Point Plot with Grouping (Hue)\n",
    "\n",
    "```python\n",
    "g = sns.catplot(\n",
    "    x=\"category\", y=\"value\",\n",
    "    hue=\"subgroup\", dodge=True,\n",
    "    data=data_frame,\n",
    "    kind=\"point\", height=5, aspect=1.4,\n",
    "    palette=\"viridis\", markers=[\"o\", \"s\", \"D\"], linestyles=[\"-\", \"--\", \":\"]\n",
    ")\n",
    "g.set_axis_labels(\"Category\", \"Mean Value\")\n",
    "g.fig.suptitle(\"Point Plot by Category and Subgroup\", y=1.03)\n",
    "plt.tight_layout()\n",
    "plt.show()\n",
    "```\n",
    "\n",
    "#### Example: Disabling Lines (`join=False`)\n",
    "\n",
    "Highlight points only (no trend lines):\n",
    "\n",
    "```python\n",
    "g = sns.catplot(\n",
    "    x=\"category\", y=\"value\",\n",
    "    data=data_frame,\n",
    "    kind=\"point\", join=False,\n",
    "    height=4.5, aspect=1.2,\n",
    "    palette=\"Set1\"\n",
    ")\n",
    "g.set_axis_labels(\"Category\", \"Mean Value\")\n",
    "g.fig.suptitle(\"Point Plot (Points Only)\", y=1.03)\n",
    "plt.tight_layout()\n",
    "plt.show()\n",
    "```\n",
    "\n",
    "### Statistics, Use-Cases, and Data Analysis\n",
    "\n",
    "- **Point plots** show the mean (or chosen statistic) and its uncertainty for each category.\n",
    "- **Visualises trends, differences, or interaction effects**—especially useful for repeated measures, experiments, or time series across groups.\n",
    "- Use with moderate or small numbers of categories; for very wide or dense data, consider alternative summary plots.\n",
    "\n",
    "\n",
    "#### What is a Count Plot?\n",
    "\n",
    "A **count plot** displays the **number of occurrences** (frequency) of each category in a variable, typically as a bar plot. It is a direct visualisation of `.value_counts()` for a categorical variable.\n",
    "\n",
    "- **Statistic:** Frequency/count (no y argument needed).\n",
    "- **Visual elements:** Bars representing counts.\n",
    "- **Best for:** Understanding the distribution and prevalence of categories.\n",
    "\n",
    "#### Syntax\n",
    "\n",
    "```python\n",
    "g = sns.catplot(\n",
    "    x=\"category\", data=data_frame,\n",
    "    kind=\"count\",\n",
    "    height=4.5, aspect=1.3,\n",
    "    palette=\"pastel\"\n",
    ")\n",
    "g.set_axis_labels(\"Category\", \"Count\")\n",
    "g.fig.suptitle(\"Count Plot of Category\", y=1.02)\n",
    "plt.tight_layout()\n",
    "plt.show()\n",
    "```\n",
    "\n",
    "#### Example: Count Plot with Grouping (Hue)\n",
    "\n",
    "```python\n",
    "g = sns.catplot(\n",
    "    x=\"category\", hue=\"subgroup\",\n",
    "    data=data_frame,\n",
    "    kind=\"count\",\n",
    "    height=5, aspect=1.2,\n",
    "    palette=\"muted\",\n",
    "    dodge=True  # Split bars side-by-side for each subgroup\n",
    ")\n",
    "g.set_axis_labels(\"Category\", \"Count\")\n",
    "g.fig.suptitle(\"Count Plot by Category and Subgroup\", y=1.02)\n",
    "plt.tight_layout()\n",
    "plt.show()\n",
    "```\n",
    "\n",
    "\n",
    "### Bar Plot vs. Point Plot\n",
    "\n",
    "| Plot Type    | Statistic              | Best for                | Visual Output           |\n",
    "|--------------|------------------------|-------------------------|-------------------------|\n",
    "| Bar Plot     | Mean (or estimator)    | Comparing means         | Bars + error bars       |\n",
    "| Point Plot   | Mean (or estimator)    | Trends/interactions     | Points + lines + CI     |\n",
    "| Count Plot   | Count/frequency        | Category prevalence     | Bars                   |\n",
    "\n",
    "- **Bar plot:** Emphasises size (area) and mean, often less precise for comparing means across many groups.\n",
    "- **Point plot:** Emphasises trend and pattern, uses position and lines, ideal for comparing multiple groups or over ordered categories.\n",
    "\n",
    "\n",
    "### OOP & Visual Tips \n",
    "\n",
    "- Always use `sns.set()` or `sns.set_theme()` to standardise plot appearance and font size.\n",
    "- Customise palette, marker, and style to differentiate subgroups or highlight specific comparisons.\n",
    "- Use facetting (`row`, `col`) for multi-panel comparative visualisation.\n",
    "- Adjust plot size (`height`, `aspect`) for clarity in presentations or reports.\n",
    "- Apply `plt.tight_layout()` to avoid label cut-off and improve aesthetics.\n",
    "- Customise axis labels and titles for communicative, professional output.\n",
    "- If many categories, rotate x-axis labels: `g.set_xticklabels(rotation=45)`.\n",
    "\n",
    "\n",
    "**Point plots** and **count plots** in Seaborn’s `catplot` suite provide efficient, visually powerful methods to summarise, compare, and interpret categorical data in modern exploratory analysis. Point plots focus on summary statistics and trends; count plots reveal distribution and prevalence. Leverage the OOP interface for advanced control, stunning visuals, and publication-ready graphics in any analytical workflow.\n"
   ]
  },
  {
   "cell_type": "code",
   "execution_count": 204,
   "id": "86ce62bc",
   "metadata": {},
   "outputs": [],
   "source": [
    "reviews[\"Traveler type\"] = reviews[\"Traveler type\"].astype(\"category\")"
   ]
  },
  {
   "cell_type": "code",
   "execution_count": 205,
   "id": "b88ed915",
   "metadata": {},
   "outputs": [
    {
     "data": {
      "image/png": "[encoded data removed]",
      "text/plain": [
       "<Figure size 594.736x500 with 1 Axes>"
      ]
     },
     "metadata": {},
     "output_type": "display_data"
    }
   ],
   "source": [
    "g = sns.catplot(\n",
    "    data=reviews,\n",
    "    x=\"Traveler type\",\n",
    "    y=\"Score\",\n",
    "    hue=\"Tennis court\",\n",
    "    kind=\"bar\",\n",
    "    palette=\"rocket_r\"           # legend is created automatically\n",
    ")\n",
    "\n",
    "g.figure.suptitle(\"Average Review Scores by Traveller Type\", y=1.02)\n",
    "g.set_axis_labels(\"Traveller Type\", \"Average Score\")\n",
    "\n",
    "leg = g._legend                       # reference to the existing Legend instance\n",
    "leg.set_title(\"Tennis Court\")\n",
    "leg.set_bbox_to_anchor((0.8, 0.8))     # move it to the right\n",
    "leg.set_loc(\"upper left\")\n",
    "\n",
    "# Light grid beneath bars\n",
    "for ax in g.axes.flat:\n",
    "    ax.grid(True, alpha=0.3)\n",
    "    ax.set_axisbelow(True)\n",
    "\n",
    "# Make room on the right for the legend\n",
    "g.figure.subplots_adjust(right=0.8)\n",
    "plt.show()\n"
   ]
  },
  {
   "cell_type": "markdown",
   "id": "29d22309",
   "metadata": {},
   "source": [
    "### Creating a bar plot\n",
    "Las Vegas hotels are seeing large variations in how helpful reviews appear to other people. The owners of these hotels are curious if there are times of the year when reviews have been more helpful to their potential guests. Help the owners understand their reviews better by creating a bar plot of the average number of helpful votes per review across the categorical variable `\"Period of stay\"`. "
   ]
  },
  {
   "cell_type": "code",
   "execution_count": 206,
   "id": "25b20369",
   "metadata": {},
   "outputs": [
    {
     "data": {
      "application/vnd.microsoft.datawrangler.viewer.v0+json": {
       "columns": [
        {
         "name": "Period of stay",
         "rawType": "category",
         "type": "unknown"
        },
        {
         "name": "count",
         "rawType": "int64",
         "type": "integer"
        }
       ],
       "ref": "a9237703-7293-4eaf-b4a7-a19e2e5f33d5",
       "rows": [
        [
         "Mar-May",
         "128"
        ],
        [
         "Jun-Aug",
         "126"
        ],
        [
         "Sep-Nov",
         "126"
        ],
        [
         "Dec-Feb",
         "124"
        ]
       ],
       "shape": {
        "columns": 1,
        "rows": 4
       }
      },
      "text/plain": [
       "Period of stay\n",
       "Mar-May    128\n",
       "Jun-Aug    126\n",
       "Sep-Nov    126\n",
       "Dec-Feb    124\n",
       "Name: count, dtype: int64"
      ]
     },
     "execution_count": 206,
     "metadata": {},
     "output_type": "execute_result"
    }
   ],
   "source": [
    "reviews[\"Period of stay\"] = reviews[\"Period of stay\"].astype(\"category\")\n",
    "reviews[\"Period of stay\"].value_counts()"
   ]
  },
  {
   "cell_type": "code",
   "execution_count": 207,
   "id": "14dba33f",
   "metadata": {},
   "outputs": [
    {
     "data": {
      "image/png": "[encoded data removed]",
      "text/plain": [
       "<Figure size 500x500 with 1 Axes>"
      ]
     },
     "metadata": {},
     "output_type": "display_data"
    }
   ],
   "source": [
    "# Create a bar plot using catplot(); Split the reviews dataset on \"Period of stay\" across the x-axis\n",
    "# Specify the numerical variable to aggregate on as \"Helpful votes\"\n",
    "g = sns.catplot(x=\"Period of stay\", y=\"Helpful votes\", data=reviews, \n",
    "                kind=\"bar\", palette=\"cubehelix\", hue=\"Period of stay\")  \n",
    "\n",
    "\n",
    "g.figure.suptitle(\"Average of Helpful Votes by Periods of Staying\")\n",
    "g.set_axis_labels(\"Period of Stay\", \"Average Helpful Votes\")  \n",
    "\n",
    "for ax in g.axes.flat:\n",
    "    ax.grid(True, alpha=0.3)\n",
    "    ax.set_axisbelow(True)\n",
    "    \n",
    "plt.tight_layout()\n",
    "plt.show()"
   ]
  },
  {
   "cell_type": "markdown",
   "id": "05644a3c",
   "metadata": {},
   "source": [
    "### Ordering categories\n",
    "Not all categories are created equal. In the hotel review dataset, `reviews`, hotel owners know that most of their customers are from North America. When visualizing data broken out by `\"User continent\"` they might want North America to appear first. An ordered list of user continents has been provided as `continent_categories`. In this exercise, you will work through preparing a visualization that is ordered by the frequency counts of a Series."
   ]
  },
  {
   "cell_type": "code",
   "execution_count": 208,
   "id": "0d2baacf",
   "metadata": {},
   "outputs": [
    {
     "data": {
      "application/vnd.microsoft.datawrangler.viewer.v0+json": {
       "columns": [
        {
         "name": "User continent",
         "rawType": "category",
         "type": "unknown"
        },
        {
         "name": "count",
         "rawType": "int64",
         "type": "integer"
        }
       ],
       "ref": "1dfc041b-5a45-4d0c-b0d3-ab6dc7659452",
       "rows": [
        [
         "North America",
         "295"
        ],
        [
         "Europe",
         "118"
        ],
        [
         "Oceania",
         "41"
        ],
        [
         "Asia",
         "36"
        ],
        [
         "Africa",
         "7"
        ],
        [
         "South America",
         "7"
        ]
       ],
       "shape": {
        "columns": 1,
        "rows": 6
       }
      },
      "text/plain": [
       "User continent\n",
       "North America    295\n",
       "Europe           118\n",
       "Oceania           41\n",
       "Asia              36\n",
       "Africa             7\n",
       "South America      7\n",
       "Name: count, dtype: int64"
      ]
     },
     "execution_count": 208,
     "metadata": {},
     "output_type": "execute_result"
    }
   ],
   "source": [
    "reviews[\"User continent\"] = reviews[\"User continent\"].astype(\"category\")\n",
    "reviews[\"User continent\"].value_counts()"
   ]
  },
  {
   "cell_type": "code",
   "execution_count": 209,
   "id": "05dd6837",
   "metadata": {},
   "outputs": [
    {
     "data": {
      "image/png": "[encoded data removed]",
      "text/plain": [
       "<Figure size 500x500 with 1 Axes>"
      ]
     },
     "metadata": {},
     "output_type": "display_data"
    }
   ],
   "source": [
    "# Create a bar chart with \"User continent\" along the x-axis and \"Score\" along the y-axis.\n",
    "g = sns.catplot(x=\"User continent\", y=\"Score\", data=reviews, \n",
    "                kind=\"bar\", palette=\"flare\", hue=\"User continent\")\n",
    "g.figure.suptitle(\"Average of Scores across Continents\")\n",
    "g.set_axis_labels(\"\", \"Average Score\")\n",
    "\n",
    "for ax in g.axes.flat:\n",
    "    ax.grid(True, alpha=0.3)\n",
    "    ax.set_axisbelow(True)\n",
    "    \n",
    "    # Center the tick labels with the bars\n",
    "    plt.setp(ax.get_xticklabels(), rotation=90, ha='right', va='center', rotation_mode='anchor')\n",
    "    \n",
    "# Adjust layout to prevent label cutoff\n",
    "plt.tight_layout()\n",
    "plt.show()"
   ]
  },
  {
   "cell_type": "code",
   "execution_count": 210,
   "id": "efc75950",
   "metadata": {},
   "outputs": [],
   "source": [
    "# Reorder \"User continent\" using continent_categories and rerun the graphic\n",
    "continent_categories = list(reviews[\"User continent\"].value_counts().index)\n",
    "\n",
    "reviews[\"User continent\"] = reviews[\"User continent\"].cat.reorder_categories(new_categories = continent_categories)"
   ]
  },
  {
   "cell_type": "code",
   "execution_count": 211,
   "id": "bdb9f57c",
   "metadata": {},
   "outputs": [
    {
     "data": {
      "image/png": "[encoded data removed]",
      "text/plain": [
       "<Figure size 500x500 with 1 Axes>"
      ]
     },
     "metadata": {},
     "output_type": "display_data"
    }
   ],
   "source": [
    "# Create a bar chart with \"User continent\" along the x-axis and \"Score\" along the y-axis.\n",
    "g = sns.catplot(x=\"User continent\", y=\"Score\", data=reviews, \n",
    "                kind=\"bar\", palette=\"flare\", hue=\"User continent\")\n",
    "\n",
    "g.figure.suptitle(\"Average of Scores across Continents\")\n",
    "g.set_axis_labels(\"\", \"Average Score\")\n",
    "\n",
    "for ax in g.axes.flat:\n",
    "    ax.grid(True, alpha=0.3)\n",
    "    ax.set_axisbelow(True)\n",
    "   \n",
    "    # Center the tick labels with the bars\n",
    "    plt.setp(ax.get_xticklabels(), rotation=90, ha='right', va='center', rotation_mode='anchor')\n",
    "    \n",
    "# Adjust layout to prevent label cutoff\n",
    "plt.tight_layout()\n",
    "plt.show()"
   ]
  },
  {
   "cell_type": "markdown",
   "id": "d119470a",
   "metadata": {},
   "source": [
    "### Bar plot using hue\n",
    "Aggregating information across multiple categories is often necessary to help stakeholders better understand their data. In preparation for building a dashboard that will allow users to select up to two variables when creating visualizations, you want to test visualizations that use different combinations of categorical variables using a bar plot."
   ]
  },
  {
   "cell_type": "code",
   "execution_count": 212,
   "id": "4385e54f",
   "metadata": {},
   "outputs": [],
   "source": [
    "reviews[\"Casino\"] = reviews[\"Casino\"].astype(\"category\")\n",
    "reviews[\"Free internet\"] = reviews[\"Free internet\"].astype(\"category\")"
   ]
  },
  {
   "cell_type": "code",
   "execution_count": 213,
   "id": "526a700b",
   "metadata": {},
   "outputs": [
    {
     "data": {
      "image/png": "[encoded data removed]",
      "text/plain": [
       "<Figure size 599.861x500 with 1 Axes>"
      ]
     },
     "metadata": {},
     "output_type": "display_data"
    }
   ],
   "source": [
    "# Update the plot so that \"Casino\" (along the x-axis) and \"Free internet\" (to color the bars) are used to split the data.\n",
    "g = sns.catplot(x=\"Casino\", y=\"Score\", data=reviews, \n",
    "                kind=\"bar\", palette=\"crest\", hue=\"Free internet\")\n",
    "\n",
    "g.figure.suptitle(\"Average Review Scores by Casino Availability and Free Internet\")\n",
    "g.set_axis_labels(\"Casino Available\", \"Average Score\")\n",
    "\n",
    "# Position the legend\n",
    "leg = g._legend\n",
    "leg.set_title(\"Free Internet\")\n",
    "leg.set_bbox_to_anchor((1.15, 0.6))\n",
    "\n",
    "for ax in g.axes.flat:\n",
    "    ax.grid(True, alpha=0.3)\n",
    "    ax.set_axisbelow(True)\n",
    "    \n",
    "\n",
    "plt.tight_layout()\n",
    "plt.show()"
   ]
  },
  {
   "cell_type": "code",
   "execution_count": 214,
   "id": "f1528b47",
   "metadata": {},
   "outputs": [
    {
     "data": {
      "image/png": "[encoded data removed]",
      "text/plain": [
       "<Figure size 575.875x500 with 1 Axes>"
      ]
     },
     "metadata": {},
     "output_type": "display_data"
    }
   ],
   "source": [
    "# Switch the categories so that \"Free internet\" is on the x-axis and \"Casino\" is in the legend.\n",
    "\n",
    "g = sns.catplot(x=\"Free internet\", y=\"Score\", data=reviews, \n",
    "                kind=\"bar\", palette=\"rocket\", hue=\"Casino\")\n",
    "\n",
    "g.figure.suptitle(\"Average Review Scores by Casino Availability and Free Internet\")\n",
    "g.set_axis_labels(\"Casino Available\", \"Average Score\")\n",
    "\n",
    "# Position the legend\n",
    "leg = g._legend\n",
    "leg.set_title(\"Casino Available\")\n",
    "leg.set_bbox_to_anchor((1.15, 0.6))\n",
    "\n",
    "for ax in g.axes.flat:\n",
    "    ax.grid(True, alpha=0.3)\n",
    "    ax.set_axisbelow(True)\n",
    "    \n",
    "plt.tight_layout()\n",
    "plt.show()"
   ]
  },
  {
   "cell_type": "code",
   "execution_count": 215,
   "id": "2a770f6c",
   "metadata": {},
   "outputs": [
    {
     "data": {
      "image/png": "[encoded data removed]",
      "text/plain": [
       "<Figure size 575.875x500 with 1 Axes>"
      ]
     },
     "metadata": {},
     "output_type": "display_data"
    }
   ],
   "source": [
    "# Update the x parameter to be \"User continent\".\n",
    "\n",
    "g = sns.catplot(x=\"User continent\", y=\"Score\", data=reviews, \n",
    "                kind=\"bar\", palette=\"viridis\", hue=\"Casino\")\n",
    "g.figure.suptitle(\"Average Review Scores by User Continent and Casino Availability\")\n",
    "g.set_axis_labels(\"User Continent\", \"Average Score\")\n",
    "\n",
    "# Position the legend\n",
    "leg = g._legend\n",
    "leg.set_title(\"Casino Available\")\n",
    "leg.set_bbox_to_anchor((1.20, 0.8))\n",
    "\n",
    "for ax in g.axes.flat:\n",
    "    ax.grid(True)\n",
    "    ax.set_axisbelow(True)\n",
    "    plt.setp(ax.get_xticklabels(), rotation=45, ha=\"right\", va=\"center\", rotation_mode=\"anchor\")\n",
    "\n",
    "    \n",
    "plt.tight_layout()\n",
    "plt.show()"
   ]
  },
  {
   "cell_type": "markdown",
   "id": "47ad0c67",
   "metadata": {},
   "source": [
    "## Additional `catplot()` Options in Seaborn\n",
    "\n",
    "Seaborn's `catplot()` is a high-level, flexible, and feature-rich interface for categorical data visualisation, built upon the powerful FacetGrid framework. However, the versatility of `catplot()` can present both technical and interpretive challenges: high-cardinality categorical variables, visual overcrowding, facet management, and colour differentiation. Mastery of `catplot()`'s additional options is essential for creating clear, compelling, and informative categorical plots in complex analytical scenarios.\n",
    "\n",
    "This section covers advanced `catplot()` arguments and OOP strategies for producing visually appealing, insightful, and publication-ready graphics—agnostic to specific variables or datasets.\n",
    "\n",
    "### Difficulties with Categorical Plots\n",
    "\n",
    "- **High cardinality:** Too many categories can lead to overlapping labels or unreadable plots.\n",
    "- **Overcrowded facets:** Faceting by multiple variables can create a large grid, challenging to interpret or present.\n",
    "- **Colour confusion:** Poor palette selection can obscure group differences, especially with many categories or in accessibility-sensitive contexts.\n",
    "- **Label and title management:** Ensuring that axis labels and titles are clear, descriptive, and properly formatted is critical for communication.\n",
    "\n",
    "\n",
    "### Using the `catplot()` FacetGrid: OOP Advantages\n",
    "\n",
    "Seaborn’s `catplot()` returns a **FacetGrid** object, not just an axes or figure. This enables:\n",
    "\n",
    "- Advanced facetting: dividing data into grids by one or more categorical variables (e.g., columns, rows, or both).\n",
    "- Fine-grained control of plot aesthetics, layout, and annotation.\n",
    "- Modular updates to axis labels, tick marks, font scales, and titles.\n",
    "\n",
    "\n",
    "### Key Arguments for Advanced Categorical Plots\n",
    "\n",
    "```python\n",
    "import seaborn as sns\n",
    "import matplotlib.pyplot as plt\n",
    "\n",
    "# Setting global plot style for consistency\n",
    "sns.set(font_scale=1.3, style=\"whitegrid\")\n",
    "\n",
    "g = sns.catplot(\n",
    "    x=\"categorical_var\",             # Variable on the x-axis\n",
    "    kind=\"count\",                    # Type of categorical plot (e.g., \"count\", \"box\", \"bar\", etc.)\n",
    "    col=\"facet_var\",                 # Facet across columns by another variable\n",
    "    col_wrap=3,                      # Wrap columns after every 3 facets for better display\n",
    "    palette=sns.color_palette(\"Set2\"),  # Specify colour palette (use seaborn or custom)\n",
    "    data=data_frame,                 # The DataFrame containing your data\n",
    "    height=5,                        # Plot height (in inches)\n",
    "    aspect=1.1                       # Aspect ratio (width/height)\n",
    ")\n",
    "```\n",
    "\n",
    "### Palette and Colour Management\n",
    "\n",
    "- **Predefined palettes:**  \n",
    "  `\"Set1\"`, `\"Set2\"`, `\"Paired\"`, `\"Dark2\"`, `\"Tab10\"`, `\"Pastel1\"`, etc.  \n",
    "  View all options: [Seaborn Palette Reference](https://seaborn.pydata.org/tutorial/color_palettes.html)\n",
    "- **Custom palettes:**  \n",
    "  Pass a list of colour hex codes or use `sns.color_palette()` for maximum control.\n",
    "\n",
    "### Updating and Customising Plots (OOP Approach)\n",
    "\n",
    "**Accessing the FacetGrid object:**  \n",
    "All OOP customisation happens through the object returned by `catplot()` (commonly named `g` or `ax`).\n",
    "\n",
    "```python\n",
    "# Set the figure title\n",
    "g.fig.suptitle(\"Descriptive Plot Title\", y=1.03)\n",
    "\n",
    "# Update axis labels\n",
    "g.set_axis_labels(\"X Axis Label\", \"Y Axis Label\")\n",
    "\n",
    "# Adjust the layout for better spacing of titles and labels\n",
    "plt.subplots_adjust(top=0.90)\n",
    "\n",
    "# Optional: customise tick labels (e.g., rotate for readability)\n",
    "for axes in g.axes.flat:\n",
    "    axes.tick_params(axis='x', rotation=45)\n",
    "    axes.set_ylabel(\"Custom Y Label\")\n",
    "    axes.set_xlabel(\"Custom X Label\")\n",
    "\n",
    "plt.tight_layout()\n",
    "plt.show()\n",
    "```\n",
    "\n",
    "### Example: Faceting with Multiple Arguments\n",
    "\n",
    "```python\n",
    "g = sns.catplot(\n",
    "    x=\"category\",\n",
    "    kind=\"count\",\n",
    "    col=\"facet_category\",\n",
    "    col_wrap=4,                           # Wraps columns into rows after every 4 facets\n",
    "    palette=sns.color_palette(\"Tab10\"),\n",
    "    data=data_frame,\n",
    "    height=4,\n",
    "    aspect=1.3\n",
    ")\n",
    "g.fig.suptitle(\"Distribution of Category by Facet\", y=1.02)\n",
    "g.set_axis_labels(\"Category\", \"Count\")\n",
    "plt.subplots_adjust(top=0.90)\n",
    "plt.tight_layout()\n",
    "plt.show()\n",
    "```\n",
    "\n",
    "**Tips:**\n",
    "1) Use `col_wrap` to prevent overly wide plots when many facets are created.\n",
    "2) Select palettes that maximise visual distinction for accessibility and clarity.\n",
    "3) Adjust `height` and `aspect` to optimise for publication or presentation settings.\n",
    "\n",
    "\n",
    "#### Some concepts:\n",
    "**Facetting** allows comparison across subgroups and identification of interaction effects or heterogeneity.<br>\n",
    "**Colour and layout control** are vital for avoiding misleading emphasis or unintentional occlusion of patterns.<br>\n",
    "**Clear labelling and spacing** prevent cognitive overload, making plots interpretable and actionable for any audience.<br>\n",
    "**FacetGrid OOP interface** enables layering additional Seaborn or Matplotlib annotations for advanced statistical storytelling.<br>"
   ]
  },
  {
   "cell_type": "code",
   "execution_count": 216,
   "id": "84498652",
   "metadata": {},
   "outputs": [
    {
     "data": {
      "image/png": "[encoded data removed]",
      "text/plain": [
       "<Figure size 511.111x500 with 1 Axes>"
      ]
     },
     "metadata": {},
     "output_type": "display_data"
    }
   ],
   "source": [
    "g = sns.catplot(x=\"Pool\", y=\"Score\", data=reviews, kind=\"point\")\n",
    "\n",
    "# Use OOP approach for customization\n",
    "g.figure.suptitle(\"Average Review Scores by Pool Availability\", y=1.02)\n",
    "g.set_axis_labels(\"Pool Available\", \"Average Score\")\n",
    "\n",
    "for ax in g.axes.flat:\n",
    "    ax.grid(True, alpha=0.3)\n",
    "    \n",
    "plt.tight_layout()\n",
    "plt.show()"
   ]
  },
  {
   "cell_type": "code",
   "execution_count": 217,
   "id": "ce84e4fc",
   "metadata": {},
   "outputs": [
    {
     "data": {
      "image/png": "[encoded data removed]",
      "text/plain": [
       "<Figure size 500x500 with 1 Axes>"
      ]
     },
     "metadata": {},
     "output_type": "display_data"
    }
   ],
   "source": [
    "g = sns.catplot(x=\"Pool\", y=\"Score\", data=reviews, kind=\"bar\", palette=\"crest\", hue=\"Pool\")\n",
    "\n",
    "# Use OOP approach for customization\n",
    "g.figure.suptitle(\"Average Review Scores by Pool Availability\", y=1.02)\n",
    "g.set_axis_labels(\"Pool Available\", \"Average Score\")\n",
    "\n",
    "for ax in g.axes.flat:\n",
    "    ax.grid(True, alpha=0.3)\n",
    "    \n",
    "plt.tight_layout()\n",
    "plt.show()"
   ]
  },
  {
   "cell_type": "code",
   "execution_count": 218,
   "id": "dc67f0d3",
   "metadata": {},
   "outputs": [
    {
     "data": {
      "image/png": "[encoded data removed]",
      "text/plain": [
       "<Figure size 594.736x500 with 1 Axes>"
      ]
     },
     "metadata": {},
     "output_type": "display_data"
    }
   ],
   "source": [
    "g = sns.catplot(x=\"Spa\", y=\"Score\", data=reviews, \n",
    "                kind=\"point\", palette=\"coolwarm\", hue=\"Tennis court\", dodge=True)\n",
    "\n",
    "g.set_axis_labels(\"Spa\", \"Average Score\")\n",
    "g.figure.suptitle(\"Average Score and Spa Availability\")\n",
    "\n",
    "for ax in g.axes.flat:\n",
    "    ax.grid(True, alpha=0.3)\n",
    "    ax.set_axisbelow(True)\n",
    "\n",
    "plt.tight_layout()\n",
    "plt.show()"
   ]
  },
  {
   "cell_type": "code",
   "execution_count": 219,
   "id": "b463fe48",
   "metadata": {},
   "outputs": [
    {
     "data": {
      "image/png": "[encoded data removed]",
      "text/plain": [
       "<Figure size 500x500 with 1 Axes>"
      ]
     },
     "metadata": {},
     "output_type": "display_data"
    }
   ],
   "source": [
    "g = sns.catplot(x=\"Score\", y=\"Review weekday\", data=reviews, \n",
    "                kind=\"point\", palette=\"viridis\", linestyle='none', hue=\"Review weekday\")\n",
    "\n",
    "g.set_axis_labels(\"Average Score\", \"Review per weekday\")\n",
    "g.figure.suptitle(\"Average Score vs Review per Weekday\")\n",
    "\n",
    "for ax in g.axes.flat:\n",
    "    ax.grid(True, alpha=0.3)\n",
    "    ax.set_axisbelow(True)\n",
    "    \n",
    "plt.tight_layout()\n",
    "plt.show()"
   ]
  },
  {
   "cell_type": "code",
   "execution_count": 220,
   "id": "c63521f3",
   "metadata": {},
   "outputs": [
    {
     "data": {
      "image/png": "[encoded data removed]",
      "text/plain": [
       "<Figure size 575.875x500 with 1 Axes>"
      ]
     },
     "metadata": {},
     "output_type": "display_data"
    }
   ],
   "source": [
    "g = sns.catplot(x=\"Tennis court\", data=reviews, \n",
    "                kind=\"count\", hue=\"Spa\", palette=\"rocket\")\n",
    "\n",
    "g.set_axis_labels(\"Tennis Court Available\", \"Count\")\n",
    "g.figure.suptitle(\"Count of Tennis Court Availability by Spa\")\n",
    "\n",
    "# Position the legend\n",
    "leg = g._legend\n",
    "leg.set_title(\"Spa Available\")\n",
    "leg.set_bbox_to_anchor((0.97, 0.8))\n",
    "\n",
    "for ax in g.axes.flat:\n",
    "    ax.grid(True, alpha=0.3)\n",
    "    ax.set_axisbelow(True)\n",
    "    \n",
    "plt.tight_layout()\n",
    "plt.show()"
   ]
  },
  {
   "cell_type": "markdown",
   "id": "f2f91222",
   "metadata": {},
   "source": [
    "### Creating a point plot\n",
    "Creating helpful visualizations sometimes requires a lot of testing. You have been asked to create a visualization that shows the number of reviews, `\"Nr. reviews\"`, which is the number of reviews a reviewer has previously written, across a hotel's star rating, `\"Hotel stars\"`. Since the number of reviews is numerical, you have decided to use a point plot to show the mean of the data across the categories."
   ]
  },
  {
   "cell_type": "code",
   "execution_count": 221,
   "id": "3b829014",
   "metadata": {},
   "outputs": [
    {
     "data": {
      "image/png": "[encoded data removed]",
      "text/plain": [
       "<Figure size 575.875x500 with 1 Axes>"
      ]
     },
     "metadata": {},
     "output_type": "display_data"
    }
   ],
   "source": [
    "# Ensure Hotel stars is categorical for proper ordering\n",
    "reviews[\"Hotel stars\"] = reviews[\"Hotel stars\"].astype(\"category\")\n",
    "\n",
    "# Create a point plot with catplot using \"Hotel stars\" and \"Nr. reviews\"\n",
    "g = sns.catplot(x=\"Hotel stars\", y=\"Nr. reviews\", data=reviews,\n",
    "                kind=\"point\", palette=\"dark\", hue=\"Pool\", dodge=True)\n",
    "\n",
    "g.set_axis_labels(\"Hotel Stars\", \"Average Number of Reviews\")\n",
    "g.figure.suptitle(\"Average Number of Reviews by Hotel Stars\")\n",
    "\n",
    "for ax in g.axes.flat:\n",
    "    ax.grid(True, alpha=0.3)\n",
    "    ax.set_axisbelow(True)\n",
    "    \n",
    "plt.tight_layout()\n",
    "plt.show()"
   ]
  },
  {
   "cell_type": "markdown",
   "id": "cc997e3c",
   "metadata": {},
   "source": [
    "When creating quick analysis of frequency counts, you have been using `.value_counts()`. This is a great way for you to see the counts and get an idea of which categories are present in the data. However, sending frequency tables to clients or coworkers may not always be a good idea. For this exercise, you will visualize the number of reviews by their `\"Score\"`. Although `\"Score\"` has been used as a numerical variable in the past, it can be used as a categorical variable given that it has five unique values that are ordered from worst to best. The `reviews` dataset has been preloaded."
   ]
  },
  {
   "cell_type": "code",
   "execution_count": 222,
   "id": "46dae74a",
   "metadata": {},
   "outputs": [
    {
     "data": {
      "image/png": "[encoded data removed]",
      "text/plain": [
       "<Figure size 610.875x500 with 1 Axes>"
      ]
     },
     "metadata": {},
     "output_type": "display_data"
    }
   ],
   "source": [
    "# Use the catplot() function to display count frequencies using the reviews dataset.\n",
    "\n",
    "# Count the frequencies for the \"Score\" variable across the x-axis.\n",
    "# When counting the frequencies, color the bars using the \"Traveler type\" column.\n",
    "g = sns.catplot(x=\"Score\", data=reviews, \n",
    "                kind=\"count\", palette=\"viridis\", hue=\"Traveler type\", dodge=True)\n",
    "\n",
    "g.set_axis_labels(\"Score\", \"Count\")\n",
    "g.figure.suptitle(\"Count of Reviews by Score and Traveler Type\", y=1.02)\n",
    "\n",
    "# Position the legend\n",
    "leg = g._legend\n",
    "leg.set_title(\"Traveler Type\")\n",
    "leg.set_bbox_to_anchor((1.1, 0.8))\n",
    "\n",
    "for ax in g.axes.flat:\n",
    "    ax.grid(True, alpha=0.3)\n",
    "    ax.set_axisbelow(True)\n",
    "    \n",
    "plt.tight_layout()\n",
    "plt.show()"
   ]
  },
  {
   "cell_type": "code",
   "execution_count": 223,
   "id": "62b819e6",
   "metadata": {},
   "outputs": [
    {
     "data": {
      "image/png": "[encoded data removed]",
      "text/plain": [
       "<Figure size 1500x1000 with 6 Axes>"
      ]
     },
     "metadata": {},
     "output_type": "display_data"
    }
   ],
   "source": [
    "g = sns.catplot(x=\"Traveler type\", data=reviews, \n",
    "                kind=\"count\", col=\"User continent\", col_wrap=3, \n",
    "                palette=sns.color_palette(\"Set1\", 5), hue=\"Traveler type\", sharex=True)\n",
    "\n",
    "g.figure.suptitle(\"Count of Traveler Types by User Continent\", y=1.02, fontsize=18)\n",
    "\n",
    "g.set_titles(\"{col_name}\", size=14)\n",
    "\n",
    "for ax in g.axes.flat:\n",
    "    ax.grid(True, alpha=0.5)\n",
    "    ax.set_axisbelow(True)\n",
    "    ax.set_xlabel(\"\")\n",
    "    ax.set_ylabel(\"Number of Reviews\", fontsize=12)\n",
    "    ax.tick_params(axis='x', labelsize=12)\n",
    "\n",
    "\n",
    "plt.tight_layout()\n",
    "plt.show()\n"
   ]
  },
  {
   "cell_type": "markdown",
   "id": "0562c0ed",
   "metadata": {},
   "source": [
    "### One visualization per group\n",
    "While working on a data exploration project, you have been asked to visualize the number of reviews of hotels by `\"Period of stay\"` and by the day of the week, `\"Review weekday\"`. The goal of this visualization is to see what day of the week has the most `reviews` for each of the four periods of stay. "
   ]
  },
  {
   "cell_type": "markdown",
   "id": "4ae595cf",
   "metadata": {},
   "source": [
    "- Create a catplot() using \"count\" as the type of graphic.\n",
    "- Count the number of reviews by \"Review weekday\".\n",
    "- Create individual plots for each \"Period of stay\".\n",
    "- Wrap the plots after every 2nd graphic."
   ]
  },
  {
   "cell_type": "code",
   "execution_count": 224,
   "id": "b80d47ef",
   "metadata": {},
   "outputs": [
    {
     "data": {
      "image/png": "[encoded data removed]",
      "text/plain": [
       "<Figure size 1000x1000 with 4 Axes>"
      ]
     },
     "metadata": {},
     "output_type": "display_data"
    }
   ],
   "source": [
    "# Create a catplot for each \"Period of stay\" broken down by \"Review weekday\"\n",
    "g = sns.catplot(x=\"Review weekday\", data=reviews, \n",
    "                kind=\"count\", col=\"Period of stay\", col_wrap=2,\n",
    "                palette=\"rocket_r\", hue=\"Review weekday\", sharex=True)\n",
    "\n",
    "g.figure.suptitle(\"Number of Reviews per weekday by Period of Stay\")\n",
    "\n",
    "for ax in g.axes.flat:\n",
    "    ax.grid(True, alpha=0.5, color='gray', linewidth=0.8)\n",
    "    ax.set_axisbelow(True)\n",
    "    ax.set_xlabel(\"\")\n",
    "    ax.set_ylabel(\"Number of Reviews per weekday\", fontsize=12)\n",
    "    ax.tick_params(axis='x', labelsize=10)\n",
    "    plt.setp(ax.get_xticklabels(), rotation=45, ha=\"right\", rotation_mode=\"anchor\")\n",
    "\n",
    "    \n",
    "plt.subplots_adjust(top=.9)\n",
    "plt.tight_layout()\n",
    "plt.show()"
   ]
  },
  {
   "cell_type": "markdown",
   "id": "82eb255f",
   "metadata": {},
   "source": [
    "### Updating categorical plots\n",
    "Hotels are constantly working to get better reviews from their customers. A hotel chain has asked you to create visualizations to help the company understand why people might provide various ratings after staying at their hotels. A manager has asked if hotels with `\"Free internet\"` receive higher reviews given the `\"Traveler type\"`."
   ]
  },
  {
   "cell_type": "code",
   "execution_count": 225,
   "id": "ff08a865",
   "metadata": {},
   "outputs": [
    {
     "data": {
      "image/png": "[encoded data removed]",
      "text/plain": [
       "<Figure size 606.25x500 with 1 Axes>"
      ]
     },
     "metadata": {},
     "output_type": "display_data"
    }
   ],
   "source": [
    "with sns.axes_style(\"darkgrid\"):\n",
    "\n",
    "    sns.set_style(\"darkgrid\")  \n",
    "\n",
    "    g = sns.catplot(x=\"Free internet\", y=\"Score\", data=reviews,\n",
    "                    hue=\"Traveler type\", kind=\"bar\", palette=\"colorblind\")\n",
    "\n",
    "    g.figure.suptitle(\"Hotel Score by Traveler Type and Free Internet Access\")\n",
    "\n",
    "    for ax in g.axes.flat:\n",
    "        ax.grid(True, alpha=0.8, color=\"gray\", linewidth=0.8)\n",
    "        ax.set_axisbelow(True)\n",
    "        ax.set_xlabel(\"Free Internet\", fontsize=12)\n",
    "        ax.set_ylabel(\"Average Review Rating\", fontsize=12)\n",
    "        ax.tick_params(axis='x', labelsize=12)\n",
    "        plt.setp(ax.get_xticklabels(), rotation=90, ha=\"right\", rotation_mode=\"anchor\")\n",
    "        \n",
    "    plt.subplots_adjust(top=.93)\n",
    "    plt.show()"
   ]
  },
  {
   "cell_type": "markdown",
   "id": "fe55013d",
   "metadata": {},
   "source": [
    "## Categorical Pitfalls: Limitations, Gotchas, and Practical Realities in Pandas\n",
    "\n",
    "While the `category` dtype in Pandas offers substantial advantages for qualitative data—especially memory efficiency and explicit semantics—it is not a universal solution. Understanding where, when, and how to use categorical data types, along with their quirks and limitations, is essential for robust, frustration-free data science. This section rigorously explores the principal pitfalls, workarounds, and critical considerations when working with categorical data in a fully agnostic, context-free way.\n",
    "\n",
    "### Memory Savings: Not Always as Expected\n",
    "\n",
    "**Substantial savings:**  \n",
    "For variables with **few unique values** (low cardinality) and many repeated entries, converting to `category` yields dramatic reductions in memory usage:\n",
    "\n",
    "```python\n",
    "# Example for a low-cardinality categorical variable\n",
    "print(\"As object:   \", df[\"variable\"].nbytes)\n",
    "print(\"As category: \", df[\"variable\"].astype(\"category\").nbytes)\n",
    "```\n",
    "\n",
    "**Marginal savings:**  \n",
    "For variables with **many unique values** (high cardinality), such as unique IDs or large numeric domains, converting to `category` may result in little or **no memory gain**—sometimes even a net loss, due to the overhead of storing category codes and the mapping.\n",
    "\n",
    "\n",
    "### Compatibility Pitfalls: The Dark Side of Categories\n",
    "\n",
    "#### String Methods and the .str Accessor\n",
    "\n",
    "- Using string methods on a categorical Series (e.g., `.str.upper()`, `.str.contains()`) **converts the Series back to `object` dtype**, losing the benefits of categoricals.\n",
    "    ```python\n",
    "    df[\"cat_var\"] = df[\"cat_var\"].astype(\"category\")\n",
    "    df[\"cat_var\"] = df[\"cat_var\"].str.lower()    # Returns object dtype!\n",
    "    ```\n",
    "    **Best practice:** Clean or transform string values **before** converting to categorical.\n",
    "\n",
    "#### Apply Methods\n",
    "\n",
    "- Applying functions with `.apply()` to a categorical column typically **returns an object dtype**.\n",
    "    ```python\n",
    "    df[\"cat_var\"] = df[\"cat_var\"].apply(custom_func)  # Back to object\n",
    "    ```\n",
    "\n",
    "#### NumPy and Categorical Data\n",
    "\n",
    "- Most NumPy methods (`np.sum`, `np.mean`, etc.) **do not work** on categorical Series.\n",
    "    ```python\n",
    "    df[\"cat_var\"] = df[\"cat_var\"].astype(\"category\")\n",
    "    total = df[\"cat_var\"].sum()   # TypeError: Categorical cannot perform the operation sum\n",
    "    ```\n",
    "- **Workaround:** Convert to integer or float first, if the codes are meaningful.\n",
    "    ```python\n",
    "    df[\"cat_var\"].astype(int).sum()\n",
    "    ```\n",
    "\n",
    "### Setting and Managing Categories: NaN Traps\n",
    "\n",
    "#### Setting Categories Explicitly\n",
    "\n",
    "- Setting allowed categories with `.cat.set_categories([...])` **drops any values not listed** (sets them to `NaN`).\n",
    "    ```python\n",
    "    df[\"cat_var\"] = df[\"cat_var\"].astype(\"category\")\n",
    "    df[\"cat_var\"].cat.set_categories([\"A\", \"B\", \"C\"], inplace=True)\n",
    "    ```\n",
    "    - Any value not among `[\"A\", \"B\", \"C\"]` becomes `NaN`.\n",
    "    - Large amounts of missing data may result if categories are not carefully managed.\n",
    "\n",
    "#### Checking for Missing Values\n",
    "\n",
    "- Always check frequency counts (including `NaN`) after category assignment:\n",
    "    ```python\n",
    "    df[\"cat_var\"].value_counts(dropna=False)\n",
    "    ```\n",
    "\n",
    "\n",
    "### Conversion and Chain Operations: Stay Mindful of Types\n",
    "\n",
    "- After any string operation or data transformation on a categorical column, **explicitly convert back to `category`** if you wish to regain memory efficiency or categorical behaviour:\n",
    "    ```python\n",
    "    df[\"cat_var\"] = df[\"cat_var\"].str.upper()      # becomes object dtype\n",
    "    df[\"cat_var\"] = df[\"cat_var\"].astype(\"category\")\n",
    "    ```\n",
    "- **Do not assume dtype persistence** across chained operations.\n",
    "\n",
    "\n",
    "### Analysis and Statistical Operations: Know the Boundaries\n",
    "\n",
    "- Most mathematical and statistical operations are **not supported** for categorical variables (other than simple `groupby`, `value_counts`, etc.).\n",
    "    - **Count/frequency operations:** Supported.\n",
    "    - **Arithmetic operations, summary stats:** Not supported unless categories represent ordered, numeric values (and are converted accordingly).\n",
    "\n",
    "- Always validate your data types and consider converting to integer or float for meaningful numeric operations.\n",
    "\n",
    "### Rationale\n",
    "\n",
    "- **Statistical rationale:**  \n",
    "  Categorical dtypes encode the true qualitative nature of the variable, reducing risk of inappropriate arithmetic, enabling fast and correct group-based analysis, and supporting explicit ordinal semantics.\n",
    "\n",
    "- **Memory and performance:**  \n",
    "  Dramatic memory savings for low-cardinality columns, but not a panacea—test and profile memory use for each column type in your workflow.\n",
    "\n",
    "- **Robust workflow:**  \n",
    "  Clean, standardise, and validate data before conversion to category.  \n",
    "  After string or apply operations, reconvert as needed.  \n",
    "  Be careful when setting new categories—unexpected `NaN` values can arise."
   ]
  },
  {
   "cell_type": "code",
   "execution_count": 226,
   "id": "c6198758",
   "metadata": {},
   "outputs": [
    {
     "name": "stdout",
     "output_type": "stream",
     "text": [
      "<class 'pandas.core.frame.DataFrame'>\n",
      "RangeIndex: 38531 entries, 0 to 38530\n",
      "Data columns (total 30 columns):\n",
      " #   Column             Non-Null Count  Dtype  \n",
      "---  ------             --------------  -----  \n",
      " 0   manufacturer_name  38531 non-null  object \n",
      " 1   model_name         38531 non-null  object \n",
      " 2   transmission       38531 non-null  object \n",
      " 3   color              38531 non-null  object \n",
      " 4   odometer_value     38531 non-null  int64  \n",
      " 5   year_produced      38531 non-null  int64  \n",
      " 6   engine_fuel        38531 non-null  object \n",
      " 7   engine_has_gas     38531 non-null  bool   \n",
      " 8   engine_type        38531 non-null  object \n",
      " 9   engine_capacity    38521 non-null  float64\n",
      " 10  body_type          38531 non-null  object \n",
      " 11  has_warranty       38531 non-null  bool   \n",
      " 12  state              38531 non-null  object \n",
      " 13  drivetrain         38531 non-null  object \n",
      " 14  price_usd          38531 non-null  float64\n",
      " 15  is_exchangeable    38531 non-null  bool   \n",
      " 16  location_region    38531 non-null  object \n",
      " 17  number_of_photos   38531 non-null  int64  \n",
      " 18  up_counter         38531 non-null  int64  \n",
      " 19  feature_0          38531 non-null  bool   \n",
      " 20  feature_1          38531 non-null  bool   \n",
      " 21  feature_2          38531 non-null  bool   \n",
      " 22  feature_3          38531 non-null  bool   \n",
      " 23  feature_4          38531 non-null  bool   \n",
      " 24  feature_5          38531 non-null  bool   \n",
      " 25  feature_6          38531 non-null  bool   \n",
      " 26  feature_7          38531 non-null  bool   \n",
      " 27  feature_8          38531 non-null  bool   \n",
      " 28  feature_9          38531 non-null  bool   \n",
      " 29  duration_listed    38531 non-null  int64  \n",
      "dtypes: bool(13), float64(2), int64(5), object(10)\n",
      "memory usage: 5.5+ MB\n"
     ]
    }
   ],
   "source": [
    "used_cars = pd.read_csv(\"data/cars.csv\")\n",
    "used_cars.info()"
   ]
  },
  {
   "cell_type": "code",
   "execution_count": 227,
   "id": "07f91e30",
   "metadata": {},
   "outputs": [
    {
     "name": "stdout",
     "output_type": "stream",
     "text": [
      "As object:308248\n",
      "As category: 38971\n"
     ]
    }
   ],
   "source": [
    "print(f\"As object:{used_cars[\"manufacturer_name\"].nbytes}\")\n",
    "print(f\"As category: {used_cars[\"manufacturer_name\"].astype(\"category\").nbytes}\")"
   ]
  },
  {
   "cell_type": "code",
   "execution_count": 228,
   "id": "b0602523",
   "metadata": {},
   "outputs": [
    {
     "data": {
      "application/vnd.microsoft.datawrangler.viewer.v0+json": {
       "columns": [
        {
         "name": "index",
         "rawType": "object",
         "type": "string"
        },
        {
         "name": "odometer_value",
         "rawType": "int64",
         "type": "integer"
        }
       ],
       "ref": "9af5e6a6-ace6-49c6-94ba-8900d91164e2",
       "rows": [
        [
         "count",
         "38531"
        ],
        [
         "unique",
         "6063"
        ],
        [
         "top",
         "300000"
        ],
        [
         "freq",
         "1794"
        ]
       ],
       "shape": {
        "columns": 1,
        "rows": 4
       }
      },
      "text/plain": [
       "count      38531\n",
       "unique      6063\n",
       "top       300000\n",
       "freq        1794\n",
       "Name: odometer_value, dtype: int64"
      ]
     },
     "execution_count": 228,
     "metadata": {},
     "output_type": "execute_result"
    }
   ],
   "source": [
    "used_cars[\"odometer_value\"].astype(\"object\").describe()"
   ]
  },
  {
   "cell_type": "code",
   "execution_count": 229,
   "id": "75976b29",
   "metadata": {},
   "outputs": [
    {
     "name": "stdout",
     "output_type": "stream",
     "text": [
      "As object:308248\n",
      "As category: 125566\n"
     ]
    }
   ],
   "source": [
    "print(f\"As object:{used_cars[\"odometer_value\"].nbytes}\")\n",
    "print(f\"As category: {used_cars[\"odometer_value\"].astype(\"category\").nbytes}\")"
   ]
  },
  {
   "cell_type": "code",
   "execution_count": 230,
   "id": "442d5c67",
   "metadata": {},
   "outputs": [
    {
     "data": {
      "application/vnd.microsoft.datawrangler.viewer.v0+json": {
       "columns": [
        {
         "name": "body_type",
         "rawType": "object",
         "type": "string"
        },
        {
         "name": "count",
         "rawType": "int64",
         "type": "integer"
        }
       ],
       "ref": "efaa7119-4604-42ea-882b-6e7e9670c78e",
       "rows": [
        [
         "sedan",
         "13011"
        ],
        [
         "hatchback",
         "7644"
        ],
        [
         "universal",
         "5507"
        ],
        [
         "suv",
         "5164"
        ],
        [
         "minivan",
         "3608"
        ],
        [
         "minibus",
         "1369"
        ],
        [
         "van",
         "808"
        ],
        [
         "coupe",
         "652"
        ],
        [
         "liftback",
         "552"
        ],
        [
         "pickup",
         "129"
        ],
        [
         "cabriolet",
         "75"
        ],
        [
         "limousine",
         "12"
        ]
       ],
       "shape": {
        "columns": 1,
        "rows": 12
       }
      },
      "text/plain": [
       "body_type\n",
       "sedan        13011\n",
       "hatchback     7644\n",
       "universal     5507\n",
       "suv           5164\n",
       "minivan       3608\n",
       "minibus       1369\n",
       "van            808\n",
       "coupe          652\n",
       "liftback       552\n",
       "pickup         129\n",
       "cabriolet       75\n",
       "limousine       12\n",
       "Name: count, dtype: int64"
      ]
     },
     "execution_count": 230,
     "metadata": {},
     "output_type": "execute_result"
    }
   ],
   "source": [
    "# Print the frequency table of the \"body_type\" column for used_cars and include NaN values.\n",
    "used_cars[\"body_type\"].value_counts(dropna=False)"
   ]
  },
  {
   "cell_type": "code",
   "execution_count": 231,
   "id": "6d9f6dfc",
   "metadata": {},
   "outputs": [
    {
     "data": {
      "text/plain": [
       "<bound method IndexOpsMixin.value_counts of 0        Universal\n",
       "1        Universal\n",
       "2              Suv\n",
       "3            Sedan\n",
       "4        Universal\n",
       "           ...    \n",
       "38526        Sedan\n",
       "38527    Hatchback\n",
       "38528        Sedan\n",
       "38529      Minivan\n",
       "38530      Minivan\n",
       "Name: body_type, Length: 38531, dtype: object>"
      ]
     },
     "execution_count": 231,
     "metadata": {},
     "output_type": "execute_result"
    }
   ],
   "source": [
    "# Convert body_type to title case\n",
    "used_cars[\"body_type\"] = used_cars[\"body_type\"].str.title()\n",
    "used_cars[\"body_type\"].value_counts"
   ]
  },
  {
   "cell_type": "code",
   "execution_count": 232,
   "id": "6d03cc6c",
   "metadata": {},
   "outputs": [
    {
     "data": {
      "text/plain": [
       "dtype('O')"
      ]
     },
     "execution_count": 232,
     "metadata": {},
     "output_type": "execute_result"
    }
   ],
   "source": [
    "# Check the dtype of the \"body_type\" column.\n",
    "used_cars[\"body_type\"].dtype"
   ]
  },
  {
   "cell_type": "markdown",
   "id": "1e128704",
   "metadata": {},
   "source": [
    "## Label Encoding: Principles, Strategies, and Practical Implementation\n",
    "\n",
    "**Label encoding** is a data preprocessing technique used for converting categorical data (text or qualitative) into numerical form by assigning each unique category a specific integer code. It is often employed to reduce memory consumption, streamline analyses, and simplify statistical or descriptive presentations. However, label encoding has specific applications, strengths, and notable limitations, particularly regarding statistical validity and machine learning performance.\n",
    "\n",
    "This guide rigorously explores label encoding, offering conceptual clarity, statistical reasoning, and robust implementations, independent of dataset or domain specifics.\n",
    "\n",
    "\n",
    "### What is Label Encoding?\n",
    "\n",
    "**Label encoding** involves assigning each distinct category within a categorical variable a unique integer code from **0 to (n - 1)**, where **n** is the number of categories. A special integer, typically **-1**, is reserved to represent missing values (`NaN`).\n",
    "\n",
    "**Example transformation:**\n",
    "- Original categories: `[\"Apple\", \"Orange\", \"Banana\"]`\n",
    "- Encoded categories: `[0, 1, 2]`\n",
    "\n",
    "#### Advantages of Label Encoding:\n",
    "- **Memory efficiency:** Numeric representations require less memory than strings.\n",
    "- **Data simplification:** Easier storage and manipulation.\n",
    "- **Surveys and statistical tables:** Commonly used for succinct representations.\n",
    "\n",
    "### Drawbacks and Cautions:\n",
    "- **Arbitrary ordering:** Encoding implies an arbitrary numeric order, potentially misleading statistical interpretation.\n",
    "- **Machine learning risks:** Algorithms may infer non-existent numeric relationships (e.g., \"Banana > Apple\").\n",
    "\n",
    "\n",
    "### Creating Label Encodings in Pandas\n",
    "\n",
    "#### Step-by-Step Implementation\n",
    "\n",
    "1. **Convert to categorical dtype first:**\n",
    "\n",
    "```python\n",
    "data_frame[\"categorical_var\"] = data_frame[\"categorical_var\"].astype(\"category\")\n",
    "```\n",
    "\n",
    "2. **Generate numeric codes:**\n",
    "\n",
    "```python\n",
    "data_frame[\"category_code\"] = data_frame[\"categorical_var\"].cat.codes\n",
    "```\n",
    "\n",
    "- The `.cat.codes` attribute provides integer encoding directly from categorical dtype.\n",
    "- Missing values (`NaN`) are automatically encoded as `-1`.\n",
    "\n",
    "#### Checking Output\n",
    "\n",
    "Always verify the correctness:\n",
    "\n",
    "```python\n",
    "print(data_frame[[\"categorical_var\", \"category_code\"]].head())\n",
    "```\n",
    "\n",
    "### Creating a Code Book (Data Dictionary)\n",
    "\n",
    "A **code book** or **data dictionary** clearly documents the mapping between categorical variables and their numeric codes, essential for transparency, reproducibility, and clarity.\n",
    "\n",
    "**Generate a code book dictionary:**\n",
    "\n",
    "```python\n",
    "codes = data_frame[\"categorical_var\"].cat.codes.unique()\n",
    "categories = data_frame[\"categorical_var\"].cat.categories\n",
    "code_book = dict(zip(codes, categories))\n",
    "```\n",
    "\n",
    "**Inspecting a code book:**\n",
    "\n",
    "```python\n",
    "print(code_book)\n",
    "# Output example: {0: 'Apple', 1: 'Banana', 2: 'Orange'}\n",
    "```\n",
    "\n",
    "\n",
    "### Reversing Label Encoding (Decoding)\n",
    "\n",
    "Use `.map()` to reverse numeric codes back to categorical labels, essential for interpretation or reporting:\n",
    "\n",
    "```python\n",
    "data_frame[\"original_labels\"] = data_frame[\"category_code\"].map(code_book)\n",
    "```\n",
    "\n",
    "- This restores categorical clarity from encoded values.\n",
    "\n",
    "### Boolean Encoding: Special Case of Label Encoding\n",
    "\n",
    "Boolean encoding assigns binary (0/1) codes based on conditional logic. It is useful for binary categories or presence/absence variables.\n",
    "\n",
    "**Implementation using NumPy’s `np.where()`:**\n",
    "\n",
    "```python\n",
    "import numpy as np\n",
    "\n",
    "# Create binary labels based on a condition\n",
    "data_frame[\"binary_code\"] = np.where(\n",
    "    data_frame[\"categorical_var\"].str.contains(\"target_string\", regex=False), 1, 0\n",
    ")\n",
    "\n",
    "# Check frequencies\n",
    "print(data_frame[\"binary_code\"].value_counts())\n",
    "```\n",
    "\n",
    "- Particularly useful for presence-absence coding, simplifying exploratory analysis and statistical testing.\n",
    "\n",
    "\n",
    "### Visualization Strategies for Encoded Categories (OOP Approach)\n",
    "\n",
    "Visualisation clarifies relationships, distributions, or issues (such as imbalances) within encoded categories.\n",
    "\n",
    "**Count Plot (OOP):**\n",
    "\n",
    "```python\n",
    "import seaborn as sns\n",
    "import matplotlib.pyplot as plt\n",
    "\n",
    "sns.set(style=\"whitegrid\", font_scale=1.3)\n",
    "\n",
    "g = sns.catplot(\n",
    "    x=\"category_code\",\n",
    "    kind=\"count\",\n",
    "    data=data_frame,\n",
    "    height=5,\n",
    "    aspect=1.4,\n",
    "    palette=\"Set2\"\n",
    ")\n",
    "\n",
    "# OOP enhancements\n",
    "g.set_axis_labels(\"Category Code\", \"Frequency\")\n",
    "g.fig.suptitle(\"Frequency of Label Encoded Categories\", y=1.03)\n",
    "\n",
    "plt.tight_layout()\n",
    "plt.show()\n",
    "```\n",
    "\n",
    "**Tips for Stunning Plots:**\n",
    "- Clearly label axis with both numeric codes and original categories (when space allows).\n",
    "- Choose palettes enhancing readability and accessibility.\n",
    "- Adjust `height`, `aspect`, and layout parameters (`plt.tight_layout()`) for visual balance.\n",
    "\n",
    "### Label Encoding vs. One-Hot Encoding\n",
    "\n",
    "| Encoding Method     | Numeric representation | Ideal for ML? | Memory efficiency | Statistical Interpretation |\n",
    "|---------------------|------------------------|---------------|-------------------|----------------------------|\n",
    "| Label Encoding      | Integers (0, 1, 2...)  | Usually No    | High              | Potentially misleading     |\n",
    "| One-Hot Encoding    | Binary vectors         | Usually Yes   | Lower             | Statistically neutral      |\n",
    "\n",
    "- Label encoding: best for descriptive summaries or memory-constrained scenarios.\n",
    "- One-hot encoding: recommended for most machine learning tasks to avoid misleading numeric relationships.\n",
    "\n",
    "\n",
    "### Rationale\n",
    "\n",
    "- **Ordinal assumption:** Label encoding implicitly imposes an order—appropriate only if categories are truly ordinal (e.g., \"Low\", \"Medium\", \"High\").\n",
    "- **Survey and census applications:** Commonly used to simplify analysis and storage of large-scale categorical data.\n",
    "- **Data preparation:** Ideal for reducing complexity before downstream analysis, provided interpretation remains transparent.\n",
    "\n",
    "Label encoding provides concise, efficient numeric representation of categorical data, useful for storage, simple descriptive analysis, and certain statistical scenarios. However, careful consideration and transparency are crucial to ensure interpretability and avoid statistical pitfalls—particularly regarding arbitrary numeric ordering in non-ordinal categories. Mastery of label encoding enhances both the robustness and clarity of your categorical data workflow.\n"
   ]
  },
  {
   "cell_type": "code",
   "execution_count": 233,
   "id": "f822afdf",
   "metadata": {},
   "outputs": [
    {
     "data": {
      "application/vnd.microsoft.datawrangler.viewer.v0+json": {
       "columns": [
        {
         "name": "index",
         "rawType": "int64",
         "type": "integer"
        },
        {
         "name": "manufacturer_name",
         "rawType": "category",
         "type": "unknown"
        },
        {
         "name": "manufacturer_code",
         "rawType": "int8",
         "type": "integer"
        }
       ],
       "ref": "12b88a28-6d1f-4ad2-a3df-f062c258b66d",
       "rows": [
        [
         "0",
         "Subaru",
         "45"
        ],
        [
         "1",
         "Subaru",
         "45"
        ],
        [
         "2",
         "Subaru",
         "45"
        ],
        [
         "3",
         "Subaru",
         "45"
        ],
        [
         "4",
         "Subaru",
         "45"
        ],
        [
         "5",
         "Subaru",
         "45"
        ],
        [
         "6",
         "Subaru",
         "45"
        ],
        [
         "7",
         "Subaru",
         "45"
        ],
        [
         "8",
         "Subaru",
         "45"
        ],
        [
         "9",
         "Subaru",
         "45"
        ],
        [
         "10",
         "Subaru",
         "45"
        ],
        [
         "11",
         "Subaru",
         "45"
        ],
        [
         "12",
         "Subaru",
         "45"
        ],
        [
         "13",
         "Subaru",
         "45"
        ],
        [
         "14",
         "Subaru",
         "45"
        ],
        [
         "15",
         "Subaru",
         "45"
        ],
        [
         "16",
         "Subaru",
         "45"
        ],
        [
         "17",
         "Subaru",
         "45"
        ],
        [
         "18",
         "Subaru",
         "45"
        ],
        [
         "19",
         "Subaru",
         "45"
        ],
        [
         "20",
         "Subaru",
         "45"
        ],
        [
         "21",
         "Subaru",
         "45"
        ],
        [
         "22",
         "Subaru",
         "45"
        ],
        [
         "23",
         "Subaru",
         "45"
        ],
        [
         "24",
         "Subaru",
         "45"
        ],
        [
         "25",
         "Subaru",
         "45"
        ],
        [
         "26",
         "Subaru",
         "45"
        ],
        [
         "27",
         "Subaru",
         "45"
        ],
        [
         "28",
         "Subaru",
         "45"
        ],
        [
         "29",
         "Subaru",
         "45"
        ],
        [
         "30",
         "Subaru",
         "45"
        ],
        [
         "31",
         "Subaru",
         "45"
        ],
        [
         "32",
         "Subaru",
         "45"
        ],
        [
         "33",
         "Subaru",
         "45"
        ],
        [
         "34",
         "Subaru",
         "45"
        ],
        [
         "35",
         "Subaru",
         "45"
        ],
        [
         "36",
         "Subaru",
         "45"
        ],
        [
         "37",
         "Subaru",
         "45"
        ],
        [
         "38",
         "Subaru",
         "45"
        ],
        [
         "39",
         "Subaru",
         "45"
        ],
        [
         "40",
         "Subaru",
         "45"
        ],
        [
         "41",
         "Subaru",
         "45"
        ],
        [
         "42",
         "Subaru",
         "45"
        ],
        [
         "43",
         "Subaru",
         "45"
        ],
        [
         "44",
         "Subaru",
         "45"
        ],
        [
         "45",
         "Subaru",
         "45"
        ],
        [
         "46",
         "Subaru",
         "45"
        ],
        [
         "47",
         "Subaru",
         "45"
        ],
        [
         "48",
         "Subaru",
         "45"
        ],
        [
         "49",
         "Subaru",
         "45"
        ]
       ],
       "shape": {
        "columns": 2,
        "rows": 38531
       }
      },
      "text/html": [
       "<div>\n",
       "<style scoped>\n",
       "    .dataframe tbody tr th:only-of-type {\n",
       "        vertical-align: middle;\n",
       "    }\n",
       "\n",
       "    .dataframe tbody tr th {\n",
       "        vertical-align: top;\n",
       "    }\n",
       "\n",
       "    .dataframe thead th {\n",
       "        text-align: right;\n",
       "    }\n",
       "</style>\n",
       "<table border=\"1\" class=\"dataframe\">\n",
       "  <thead>\n",
       "    <tr style=\"text-align: right;\">\n",
       "      <th></th>\n",
       "      <th>manufacturer_name</th>\n",
       "      <th>manufacturer_code</th>\n",
       "    </tr>\n",
       "  </thead>\n",
       "  <tbody>\n",
       "    <tr>\n",
       "      <th>0</th>\n",
       "      <td>Subaru</td>\n",
       "      <td>45</td>\n",
       "    </tr>\n",
       "    <tr>\n",
       "      <th>1</th>\n",
       "      <td>Subaru</td>\n",
       "      <td>45</td>\n",
       "    </tr>\n",
       "    <tr>\n",
       "      <th>2</th>\n",
       "      <td>Subaru</td>\n",
       "      <td>45</td>\n",
       "    </tr>\n",
       "    <tr>\n",
       "      <th>3</th>\n",
       "      <td>Subaru</td>\n",
       "      <td>45</td>\n",
       "    </tr>\n",
       "    <tr>\n",
       "      <th>4</th>\n",
       "      <td>Subaru</td>\n",
       "      <td>45</td>\n",
       "    </tr>\n",
       "    <tr>\n",
       "      <th>...</th>\n",
       "      <td>...</td>\n",
       "      <td>...</td>\n",
       "    </tr>\n",
       "    <tr>\n",
       "      <th>38526</th>\n",
       "      <td>Chrysler</td>\n",
       "      <td>8</td>\n",
       "    </tr>\n",
       "    <tr>\n",
       "      <th>38527</th>\n",
       "      <td>Chrysler</td>\n",
       "      <td>8</td>\n",
       "    </tr>\n",
       "    <tr>\n",
       "      <th>38528</th>\n",
       "      <td>Chrysler</td>\n",
       "      <td>8</td>\n",
       "    </tr>\n",
       "    <tr>\n",
       "      <th>38529</th>\n",
       "      <td>Chrysler</td>\n",
       "      <td>8</td>\n",
       "    </tr>\n",
       "    <tr>\n",
       "      <th>38530</th>\n",
       "      <td>Chrysler</td>\n",
       "      <td>8</td>\n",
       "    </tr>\n",
       "  </tbody>\n",
       "</table>\n",
       "<p>38531 rows × 2 columns</p>\n",
       "</div>"
      ],
      "text/plain": [
       "      manufacturer_name  manufacturer_code\n",
       "0                Subaru                 45\n",
       "1                Subaru                 45\n",
       "2                Subaru                 45\n",
       "3                Subaru                 45\n",
       "4                Subaru                 45\n",
       "...                 ...                ...\n",
       "38526          Chrysler                  8\n",
       "38527          Chrysler                  8\n",
       "38528          Chrysler                  8\n",
       "38529          Chrysler                  8\n",
       "38530          Chrysler                  8\n",
       "\n",
       "[38531 rows x 2 columns]"
      ]
     },
     "metadata": {},
     "output_type": "display_data"
    }
   ],
   "source": [
    "used_cars[\"manufacturer_name\"] = used_cars[\"manufacturer_name\"].astype(\"category\")\n",
    "\n",
    "used_cars[\"manufacturer_code\"] = used_cars[\"manufacturer_name\"].cat.codes\n",
    "\n",
    "display(used_cars[[\"manufacturer_name\", \"manufacturer_code\"]])"
   ]
  },
  {
   "cell_type": "code",
   "execution_count": 234,
   "id": "2fa66a85",
   "metadata": {},
   "outputs": [],
   "source": [
    "codes = used_cars[\"manufacturer_name\"].cat.codes\n",
    "categories = used_cars[\"manufacturer_name\"].astype(\"category\")\n",
    "name_map = dict(zip(codes, categories))"
   ]
  },
  {
   "cell_type": "code",
   "execution_count": 235,
   "id": "3540d3cf",
   "metadata": {},
   "outputs": [
    {
     "data": {
      "application/vnd.microsoft.datawrangler.viewer.v0+json": {
       "columns": [
        {
         "name": "index",
         "rawType": "int64",
         "type": "integer"
        },
        {
         "name": "0",
         "rawType": "object",
         "type": "string"
        }
       ],
       "ref": "ed54a134-6c6c-4c10-9ff4-2907e8838283",
       "rows": [
        [
         "45",
         "Subaru"
        ],
        [
         "24",
         "LADA"
        ],
        [
         "12",
         "Dodge"
        ],
        [
         "54",
         "УАЗ"
        ],
        [
         "23",
         "Kia"
        ],
        [
         "35",
         "Opel"
        ],
        [
         "53",
         "Москвич"
        ],
        [
         "1",
         "Alfa Romeo"
        ],
        [
         "0",
         "Acura"
        ],
        [
         "10",
         "Dacia"
        ],
        [
         "27",
         "Lexus"
        ],
        [
         "33",
         "Mitsubishi"
        ],
        [
         "25",
         "Lancia"
        ],
        [
         "9",
         "Citroen"
        ],
        [
         "32",
         "Mini"
        ],
        [
         "21",
         "Jaguar"
        ],
        [
         "38",
         "Porsche"
        ],
        [
         "44",
         "SsangYong"
        ],
        [
         "11",
         "Daewoo"
        ],
        [
         "15",
         "Geely"
        ],
        [
         "50",
         "ВАЗ"
        ],
        [
         "13",
         "Fiat"
        ],
        [
         "14",
         "Ford"
        ],
        [
         "39",
         "Renault"
        ],
        [
         "42",
         "Seat"
        ],
        [
         "40",
         "Rover"
        ],
        [
         "48",
         "Volkswagen"
        ],
        [
         "28",
         "Lifan"
        ],
        [
         "22",
         "Jeep"
        ],
        [
         "5",
         "Cadillac"
        ],
        [
         "2",
         "Audi"
        ],
        [
         "52",
         "ЗАЗ"
        ],
        [
         "47",
         "Toyota"
        ],
        [
         "51",
         "ГАЗ"
        ],
        [
         "49",
         "Volvo"
        ],
        [
         "7",
         "Chevrolet"
        ],
        [
         "16",
         "Great Wall"
        ],
        [
         "4",
         "Buick"
        ],
        [
         "37",
         "Pontiac"
        ],
        [
         "29",
         "Lincoln"
        ],
        [
         "18",
         "Hyundai"
        ],
        [
         "34",
         "Nissan"
        ],
        [
         "46",
         "Suzuki"
        ],
        [
         "3",
         "BMW"
        ],
        [
         "30",
         "Mazda"
        ],
        [
         "26",
         "Land Rover"
        ],
        [
         "20",
         "Iveco"
        ],
        [
         "43",
         "Skoda"
        ],
        [
         "41",
         "Saab"
        ],
        [
         "19",
         "Infiniti"
        ]
       ],
       "shape": {
        "columns": 1,
        "rows": 55
       }
      },
      "text/plain": [
       "{45: 'Subaru',\n",
       " 24: 'LADA',\n",
       " 12: 'Dodge',\n",
       " 54: 'УАЗ',\n",
       " 23: 'Kia',\n",
       " 35: 'Opel',\n",
       " 53: 'Москвич',\n",
       " 1: 'Alfa Romeo',\n",
       " 0: 'Acura',\n",
       " 10: 'Dacia',\n",
       " 27: 'Lexus',\n",
       " 33: 'Mitsubishi',\n",
       " 25: 'Lancia',\n",
       " 9: 'Citroen',\n",
       " 32: 'Mini',\n",
       " 21: 'Jaguar',\n",
       " 38: 'Porsche',\n",
       " 44: 'SsangYong',\n",
       " 11: 'Daewoo',\n",
       " 15: 'Geely',\n",
       " 50: 'ВАЗ',\n",
       " 13: 'Fiat',\n",
       " 14: 'Ford',\n",
       " 39: 'Renault',\n",
       " 42: 'Seat',\n",
       " 40: 'Rover',\n",
       " 48: 'Volkswagen',\n",
       " 28: 'Lifan',\n",
       " 22: 'Jeep',\n",
       " 5: 'Cadillac',\n",
       " 2: 'Audi',\n",
       " 52: 'ЗАЗ',\n",
       " 47: 'Toyota',\n",
       " 51: 'ГАЗ',\n",
       " 49: 'Volvo',\n",
       " 7: 'Chevrolet',\n",
       " 16: 'Great Wall',\n",
       " 4: 'Buick',\n",
       " 37: 'Pontiac',\n",
       " 29: 'Lincoln',\n",
       " 18: 'Hyundai',\n",
       " 34: 'Nissan',\n",
       " 46: 'Suzuki',\n",
       " 3: 'BMW',\n",
       " 30: 'Mazda',\n",
       " 26: 'Land Rover',\n",
       " 20: 'Iveco',\n",
       " 43: 'Skoda',\n",
       " 41: 'Saab',\n",
       " 19: 'Infiniti',\n",
       " 6: 'Chery',\n",
       " 17: 'Honda',\n",
       " 31: 'Mercedes-Benz',\n",
       " 36: 'Peugeot',\n",
       " 8: 'Chrysler'}"
      ]
     },
     "execution_count": 235,
     "metadata": {},
     "output_type": "execute_result"
    }
   ],
   "source": [
    "name_map"
   ]
  },
  {
   "cell_type": "code",
   "execution_count": 236,
   "id": "c32a49b8",
   "metadata": {},
   "outputs": [
    {
     "data": {
      "application/vnd.microsoft.datawrangler.viewer.v0+json": {
       "columns": [
        {
         "name": "index",
         "rawType": "int64",
         "type": "integer"
        },
        {
         "name": "manufacturer_code",
         "rawType": "object",
         "type": "string"
        }
       ],
       "ref": "883d22ef-a940-47dc-b175-08186eaafb14",
       "rows": [
        [
         "0",
         "Subaru"
        ],
        [
         "1",
         "Subaru"
        ],
        [
         "2",
         "Subaru"
        ],
        [
         "3",
         "Subaru"
        ],
        [
         "4",
         "Subaru"
        ],
        [
         "5",
         "Subaru"
        ],
        [
         "6",
         "Subaru"
        ],
        [
         "7",
         "Subaru"
        ],
        [
         "8",
         "Subaru"
        ],
        [
         "9",
         "Subaru"
        ],
        [
         "10",
         "Subaru"
        ],
        [
         "11",
         "Subaru"
        ],
        [
         "12",
         "Subaru"
        ],
        [
         "13",
         "Subaru"
        ],
        [
         "14",
         "Subaru"
        ],
        [
         "15",
         "Subaru"
        ],
        [
         "16",
         "Subaru"
        ],
        [
         "17",
         "Subaru"
        ],
        [
         "18",
         "Subaru"
        ],
        [
         "19",
         "Subaru"
        ],
        [
         "20",
         "Subaru"
        ],
        [
         "21",
         "Subaru"
        ],
        [
         "22",
         "Subaru"
        ],
        [
         "23",
         "Subaru"
        ],
        [
         "24",
         "Subaru"
        ],
        [
         "25",
         "Subaru"
        ],
        [
         "26",
         "Subaru"
        ],
        [
         "27",
         "Subaru"
        ],
        [
         "28",
         "Subaru"
        ],
        [
         "29",
         "Subaru"
        ],
        [
         "30",
         "Subaru"
        ],
        [
         "31",
         "Subaru"
        ],
        [
         "32",
         "Subaru"
        ],
        [
         "33",
         "Subaru"
        ],
        [
         "34",
         "Subaru"
        ],
        [
         "35",
         "Subaru"
        ],
        [
         "36",
         "Subaru"
        ],
        [
         "37",
         "Subaru"
        ],
        [
         "38",
         "Subaru"
        ],
        [
         "39",
         "Subaru"
        ],
        [
         "40",
         "Subaru"
        ],
        [
         "41",
         "Subaru"
        ],
        [
         "42",
         "Subaru"
        ],
        [
         "43",
         "Subaru"
        ],
        [
         "44",
         "Subaru"
        ],
        [
         "45",
         "Subaru"
        ],
        [
         "46",
         "Subaru"
        ],
        [
         "47",
         "Subaru"
        ],
        [
         "48",
         "Subaru"
        ],
        [
         "49",
         "Subaru"
        ]
       ],
       "shape": {
        "columns": 1,
        "rows": 38531
       }
      },
      "text/plain": [
       "0          Subaru\n",
       "1          Subaru\n",
       "2          Subaru\n",
       "3          Subaru\n",
       "4          Subaru\n",
       "           ...   \n",
       "38526    Chrysler\n",
       "38527    Chrysler\n",
       "38528    Chrysler\n",
       "38529    Chrysler\n",
       "38530    Chrysler\n",
       "Name: manufacturer_code, Length: 38531, dtype: object"
      ]
     },
     "execution_count": 236,
     "metadata": {},
     "output_type": "execute_result"
    }
   ],
   "source": [
    "# Reverting to previous values:\n",
    "used_cars[\"manufacturer_code\"].map(name_map)"
   ]
  },
  {
   "cell_type": "markdown",
   "id": "84459dee",
   "metadata": {},
   "source": [
    "### Create a label encoding and map\n",
    "A used car company believes that they can predict a car's sales price reasonably well using their `used_cars` dataset. One of the variables they want to use, `\"color\"`, needs to be converted to codes. The company believes that a car's color will be important when predicting sales price."
   ]
  },
  {
   "cell_type": "code",
   "execution_count": 237,
   "id": "6ccc005c",
   "metadata": {},
   "outputs": [
    {
     "data": {
      "application/vnd.microsoft.datawrangler.viewer.v0+json": {
       "columns": [
        {
         "name": "color",
         "rawType": "category",
         "type": "unknown"
        },
        {
         "name": "count",
         "rawType": "int64",
         "type": "integer"
        }
       ],
       "ref": "08924d7a-b106-43d3-b341-9bedbd1df2e3",
       "rows": [
        [
         "black",
         "7705"
        ],
        [
         "silver",
         "6852"
        ],
        [
         "blue",
         "5802"
        ],
        [
         "white",
         "4212"
        ],
        [
         "grey",
         "3751"
        ],
        [
         "red",
         "2925"
        ],
        [
         "green",
         "2760"
        ],
        [
         "other",
         "2688"
        ],
        [
         "brown",
         "886"
        ],
        [
         "violet",
         "463"
        ],
        [
         "yellow",
         "303"
        ],
        [
         "orange",
         "184"
        ]
       ],
       "shape": {
        "columns": 1,
        "rows": 12
       }
      },
      "text/plain": [
       "color\n",
       "black     7705\n",
       "silver    6852\n",
       "blue      5802\n",
       "white     4212\n",
       "grey      3751\n",
       "red       2925\n",
       "green     2760\n",
       "other     2688\n",
       "brown      886\n",
       "violet     463\n",
       "yellow     303\n",
       "orange     184\n",
       "Name: count, dtype: int64"
      ]
     },
     "execution_count": 237,
     "metadata": {},
     "output_type": "execute_result"
    }
   ],
   "source": [
    "# Convert the color column to a categorical Series.\n",
    "used_cars[\"color\"] = used_cars[\"color\"].astype(\"category\")\n",
    "used_cars[\"color\"].value_counts()"
   ]
  },
  {
   "cell_type": "markdown",
   "id": "1ac54326",
   "metadata": {},
   "source": [
    "### Using saved mappings\n",
    "You are using a subset of a dataset and have been asked to create visualizations summarizing the output. As the dataset currently stands, all you see are numbers! Luckily, you had created and saved dictionaries (`color_map`, `fuel_map`, and `transmission_map`) that will map these columns back to their original categorical names. The dataset `used_cars_updated` has been preloaded."
   ]
  },
  {
   "cell_type": "code",
   "execution_count": 238,
   "id": "d7313567",
   "metadata": {},
   "outputs": [
    {
     "data": {
      "application/vnd.microsoft.datawrangler.viewer.v0+json": {
       "columns": [
        {
         "name": "index",
         "rawType": "int64",
         "type": "integer"
        },
        {
         "name": "0",
         "rawType": "object",
         "type": "string"
        }
       ],
       "ref": "2c3fde7f-c38f-4756-a7fe-d57675a1db85",
       "rows": [
        [
         "8",
         "silver"
        ],
        [
         "1",
         "blue"
        ],
        [
         "7",
         "red"
        ],
        [
         "0",
         "black"
        ],
        [
         "4",
         "grey"
        ],
        [
         "6",
         "other"
        ],
        [
         "2",
         "brown"
        ],
        [
         "10",
         "white"
        ],
        [
         "3",
         "green"
        ],
        [
         "9",
         "violet"
        ],
        [
         "5",
         "orange"
        ],
        [
         "11",
         "yellow"
        ]
       ],
       "shape": {
        "columns": 1,
        "rows": 12
       }
      },
      "text/plain": [
       "{8: 'silver',\n",
       " 1: 'blue',\n",
       " 7: 'red',\n",
       " 0: 'black',\n",
       " 4: 'grey',\n",
       " 6: 'other',\n",
       " 2: 'brown',\n",
       " 10: 'white',\n",
       " 3: 'green',\n",
       " 9: 'violet',\n",
       " 5: 'orange',\n",
       " 11: 'yellow'}"
      ]
     },
     "execution_count": 238,
     "metadata": {},
     "output_type": "execute_result"
    }
   ],
   "source": [
    "# Create a new column, \"color_code\", by creating a label encoding for the variable \"color\".\n",
    "used_cars[\"color_code\"] = used_cars[\"color\"].cat.codes\n",
    "\n",
    "# Before you forget which codes belong to which categories, create a color map using the codes and categories objects.\n",
    "codes = used_cars[\"color_code\"]\n",
    "categories = used_cars[\"color\"]\n",
    "color_map = dict(zip(codes, categories))\n",
    "used_cars.drop(\"color\", inplace=True, axis=1)\n",
    "color_map"
   ]
  },
  {
   "cell_type": "code",
   "execution_count": 239,
   "id": "b50613f6",
   "metadata": {},
   "outputs": [],
   "source": [
    "# Create a new column, \"fuel_code\", by creating a label encoding for the variable \"fuel_engine\".\n",
    "used_cars[\"engine_fuel\"] = used_cars[\"engine_fuel\"].astype(\"category\")\n",
    "used_cars[\"fuel_code\"] = used_cars[\"engine_fuel\"].cat.codes\n",
    "\n",
    "# Before you forget which codes belong to which categories, create a fuel map using the codes and categories objects.\n",
    "codes = used_cars[\"fuel_code\"]\n",
    "categories = used_cars[\"engine_fuel\"]\n",
    "\n",
    "fuel_map = dict(zip(codes, categories))\n",
    "used_cars.drop(\"engine_fuel\", inplace=True, axis=1)"
   ]
  },
  {
   "cell_type": "code",
   "execution_count": 240,
   "id": "bedfba19",
   "metadata": {},
   "outputs": [],
   "source": [
    "# Create a new column, \"transmission_code\", by creating a label encoding for the variable \"transmission\".\n",
    "used_cars[\"transmission\"] = used_cars[\"transmission\"].astype(\"category\")\n",
    "used_cars[\"transmission_code\"] = used_cars[\"transmission\"].cat.codes\n",
    "\n",
    "# Before you forget which codes belong to which categories, create a transmission map using the codes and categories objects.\n",
    "codes = used_cars[\"transmission_code\"]\n",
    "categories = used_cars[\"transmission\"]\n",
    "\n",
    "transmission_map = dict(zip(codes, categories))\n",
    "used_cars.drop(\"transmission\", inplace=True, axis=1)"
   ]
  },
  {
   "cell_type": "code",
   "execution_count": 241,
   "id": "becada34",
   "metadata": {},
   "outputs": [
    {
     "name": "stdout",
     "output_type": "stream",
     "text": [
      "<class 'pandas.core.frame.DataFrame'>\n",
      "RangeIndex: 38531 entries, 0 to 38530\n",
      "Data columns (total 31 columns):\n",
      " #   Column             Non-Null Count  Dtype   \n",
      "---  ------             --------------  -----   \n",
      " 0   manufacturer_name  38531 non-null  category\n",
      " 1   model_name         38531 non-null  object  \n",
      " 2   odometer_value     38531 non-null  int64   \n",
      " 3   year_produced      38531 non-null  int64   \n",
      " 4   engine_has_gas     38531 non-null  bool    \n",
      " 5   engine_type        38531 non-null  object  \n",
      " 6   engine_capacity    38521 non-null  float64 \n",
      " 7   body_type          38531 non-null  object  \n",
      " 8   has_warranty       38531 non-null  bool    \n",
      " 9   state              38531 non-null  object  \n",
      " 10  drivetrain         38531 non-null  object  \n",
      " 11  price_usd          38531 non-null  float64 \n",
      " 12  is_exchangeable    38531 non-null  bool    \n",
      " 13  location_region    38531 non-null  object  \n",
      " 14  number_of_photos   38531 non-null  int64   \n",
      " 15  up_counter         38531 non-null  int64   \n",
      " 16  feature_0          38531 non-null  bool    \n",
      " 17  feature_1          38531 non-null  bool    \n",
      " 18  feature_2          38531 non-null  bool    \n",
      " 19  feature_3          38531 non-null  bool    \n",
      " 20  feature_4          38531 non-null  bool    \n",
      " 21  feature_5          38531 non-null  bool    \n",
      " 22  feature_6          38531 non-null  bool    \n",
      " 23  feature_7          38531 non-null  bool    \n",
      " 24  feature_8          38531 non-null  bool    \n",
      " 25  feature_9          38531 non-null  bool    \n",
      " 26  duration_listed    38531 non-null  int64   \n",
      " 27  manufacturer_code  38531 non-null  int8    \n",
      " 28  color_code         38531 non-null  int8    \n",
      " 29  fuel_code          38531 non-null  int8    \n",
      " 30  transmission_code  38531 non-null  int8    \n",
      "dtypes: bool(13), category(1), float64(2), int64(5), int8(4), object(6)\n",
      "memory usage: 4.5+ MB\n"
     ]
    }
   ],
   "source": [
    "used_cars.info()"
   ]
  },
  {
   "cell_type": "code",
   "execution_count": 242,
   "id": "44302821",
   "metadata": {},
   "outputs": [
    {
     "name": "stdout",
     "output_type": "stream",
     "text": [
      "<class 'pandas.core.frame.DataFrame'>\n",
      "RangeIndex: 38531 entries, 0 to 38530\n",
      "Data columns (total 31 columns):\n",
      " #   Column             Non-Null Count  Dtype   \n",
      "---  ------             --------------  -----   \n",
      " 0   manufacturer_name  38531 non-null  category\n",
      " 1   model_name         38531 non-null  object  \n",
      " 2   odometer_value     38531 non-null  int64   \n",
      " 3   year_produced      38531 non-null  int64   \n",
      " 4   engine_has_gas     38531 non-null  bool    \n",
      " 5   engine_type        38531 non-null  object  \n",
      " 6   engine_capacity    38521 non-null  float64 \n",
      " 7   body_type          38531 non-null  object  \n",
      " 8   has_warranty       38531 non-null  bool    \n",
      " 9   state              38531 non-null  object  \n",
      " 10  drivetrain         38531 non-null  object  \n",
      " 11  price_usd          38531 non-null  float64 \n",
      " 12  is_exchangeable    38531 non-null  bool    \n",
      " 13  location_region    38531 non-null  object  \n",
      " 14  number_of_photos   38531 non-null  int64   \n",
      " 15  up_counter         38531 non-null  int64   \n",
      " 16  feature_0          38531 non-null  bool    \n",
      " 17  feature_1          38531 non-null  bool    \n",
      " 18  feature_2          38531 non-null  bool    \n",
      " 19  feature_3          38531 non-null  bool    \n",
      " 20  feature_4          38531 non-null  bool    \n",
      " 21  feature_5          38531 non-null  bool    \n",
      " 22  feature_6          38531 non-null  bool    \n",
      " 23  feature_7          38531 non-null  bool    \n",
      " 24  feature_8          38531 non-null  bool    \n",
      " 25  feature_9          38531 non-null  bool    \n",
      " 26  duration_listed    38531 non-null  int64   \n",
      " 27  manufacturer_code  38531 non-null  int8    \n",
      " 28  color              38531 non-null  object  \n",
      " 29  engine_fuel        38531 non-null  object  \n",
      " 30  transmission       38531 non-null  object  \n",
      "dtypes: bool(13), category(1), float64(2), int64(5), int8(1), object(9)\n",
      "memory usage: 5.3+ MB\n"
     ]
    }
   ],
   "source": [
    "# Update the \"color\" column back to its original values using the color_map dictionary.\n",
    "used_cars[\"color\"] = used_cars[\"color_code\"].map(color_map)\n",
    "used_cars.drop(\"color_code\", inplace=True, axis=1)\n",
    "\n",
    "# Update the \"engine_fuel\" column back to its original values using the fuel_map dictionary.\n",
    "used_cars[\"engine_fuel\"] = used_cars[\"fuel_code\"].map(fuel_map)\n",
    "used_cars.drop(\"fuel_code\", inplace=True, axis=1)\n",
    "\n",
    "# Update the \"transmission\" column back to its original values using the transmission_map dictionary.\n",
    "used_cars[\"transmission\"] = used_cars[\"transmission_code\"].map(transmission_map)\n",
    "used_cars.drop(\"transmission_code\", inplace=True, axis=1)\n",
    "\n",
    "# Use .info() on the dataset to see if the dtypes have changed.\n",
    "used_cars.info()"
   ]
  },
  {
   "cell_type": "markdown",
   "id": "8ed7ec78",
   "metadata": {},
   "source": [
    "### Creating a Boolean encoding\n",
    "In preparation for running machine learning models to estimate the sale price of used cars, you are starting to analyze the available columns of the `used_cars` dataset and want to create columns that can be used in training. One of the managers of a used car dealership has said that the manufacturer of the car is the most important aspect he considers when setting prices. You will begin by exploring the `manufacturer_name` column."
   ]
  },
  {
   "cell_type": "code",
   "execution_count": 243,
   "id": "4810f0ea",
   "metadata": {},
   "outputs": [
    {
     "name": "stdout",
     "output_type": "stream",
     "text": [
      "manufacturer_name\n",
      "Volkswagen       4243\n",
      "Opel             2759\n",
      "BMW              2610\n",
      "Ford             2566\n",
      "Renault          2493\n",
      "Audi             2468\n",
      "Mercedes-Benz    2237\n",
      "Peugeot          1909\n",
      "Citroen          1562\n",
      "Nissan           1361\n",
      "Mazda            1328\n",
      "Toyota           1246\n",
      "Hyundai          1116\n",
      "Skoda            1089\n",
      "Kia               912\n",
      "Mitsubishi        887\n",
      "Fiat              824\n",
      "Honda             797\n",
      "Volvo             721\n",
      "ВАЗ               481\n",
      "Chevrolet         436\n",
      "Chrysler          410\n",
      "Seat              303\n",
      "Dodge             297\n",
      "Subaru            291\n",
      "Rover             235\n",
      "Suzuki            234\n",
      "Daewoo            221\n",
      "Lexus             213\n",
      "Alfa Romeo        207\n",
      "ГАЗ               200\n",
      "Land Rover        184\n",
      "Infiniti          162\n",
      "LADA              146\n",
      "Iveco             139\n",
      "Saab              108\n",
      "Jeep              107\n",
      "Lancia             92\n",
      "SsangYong          79\n",
      "УАЗ                74\n",
      "Geely              71\n",
      "Mini               68\n",
      "Acura              66\n",
      "Porsche            61\n",
      "Dacia              59\n",
      "Chery              58\n",
      "Москвич            55\n",
      "Jaguar             53\n",
      "Lifan              47\n",
      "Buick              47\n",
      "Cadillac           43\n",
      "ЗАЗ                42\n",
      "Pontiac            42\n",
      "Great Wall         36\n",
      "Lincoln            36\n",
      "Name: count, dtype: int64\n"
     ]
    }
   ],
   "source": [
    "# Print the manufacturer name frequency table\n",
    "print(used_cars[\"manufacturer_name\"].value_counts())"
   ]
  },
  {
   "cell_type": "code",
   "execution_count": 244,
   "id": "06a8d968",
   "metadata": {},
   "outputs": [
    {
     "data": {
      "application/vnd.microsoft.datawrangler.viewer.v0+json": {
       "columns": [
        {
         "name": "is_volkswagen",
         "rawType": "int64",
         "type": "integer"
        },
        {
         "name": "count",
         "rawType": "int64",
         "type": "integer"
        }
       ],
       "ref": "ae6f50c1-9c5b-496f-adad-36cc16d79177",
       "rows": [
        [
         "0",
         "34288"
        ],
        [
         "1",
         "4243"
        ]
       ],
       "shape": {
        "columns": 1,
        "rows": 2
       }
      },
      "text/plain": [
       "is_volkswagen\n",
       "0    34288\n",
       "1     4243\n",
       "Name: count, dtype: int64"
      ]
     },
     "execution_count": 244,
     "metadata": {},
     "output_type": "execute_result"
    }
   ],
   "source": [
    "# Create a column, \"is_volkswagen\", that is 1 when \"manufacturer_name\" contains \"Volkswagen\" and 0 otherwise.\n",
    "used_cars[\"is_volkswagen\"] = np.where(\n",
    "    used_cars[\"manufacturer_name\"].str.contains(\"Volkswagen\", regex=False), 1, 0\n",
    ")\n",
    "used_cars[\"is_volkswagen\"].value_counts()"
   ]
  },
  {
   "cell_type": "markdown",
   "id": "b112b5a2",
   "metadata": {},
   "source": [
    "## One-Hot Encoding\n",
    "\n",
    "**One-hot encoding** is a categorical data transformation technique used to convert categorical variables into a numeric format suitable for statistical analysis and machine learning algorithms. Unlike label encoding, which assigns each category an integer and unintentionally implies ordinal relationships, one-hot encoding creates binary indicator columns—each category becomes a separate binary variable indicating its presence (1) or absence (0).\n",
    "\n",
    "This section rigorously explores the theory, rationale, syntax, and practicalities of one-hot encoding, delivering comprehensive insights independent of any specific dataset or domain context.\n",
    "\n",
    "\n",
    "### Why One-Hot Encoding Instead of Label Encoding?\n",
    "\n",
    "#### Limitations of Label Encoding:\n",
    "- **Implicit ordering**: Label encoding assigns integers (0, 1, 2, ...), implying a numeric relationship that may not exist.\n",
    "- **Misinterpretation by algorithms**: Many statistical and machine learning algorithms assume numerical order matters, potentially distorting model results.\n",
    "\n",
    "### Advantages of One-Hot Encoding:\n",
    "- **Preserves categorical neutrality**: No implied numeric relationships among categories.\n",
    "- **Compatible with linear and nonlinear algorithms**: Suitable for regression, decision trees, neural networks, and other methods.\n",
    "- **Improved statistical validity**: Accurately represents nominal categories.\n",
    "\n",
    "\n",
    "### How One-Hot Encoding Works\n",
    "\n",
    "Consider a categorical variable with three distinct categories: `[\"Apple\", \"Orange\", \"Banana\"]`.\n",
    "\n",
    "| Original Category | Apple | Orange | Banana |\n",
    "|-------------------|-------|--------|--------|\n",
    "| Apple             | 1     | 0      | 0      |\n",
    "| Orange            | 0     | 1      | 0      |\n",
    "| Banana            | 0     | 0      | 1      |\n",
    "\n",
    "Each original category creates a binary \"dummy\" variable, encoding presence (`1`) or absence (`0`).\n",
    "\n",
    "\n",
    "### One-Hot Encoding with Pandas\n",
    "\n",
    "The pandas method `pd.get_dummies()` efficiently generates dummy variables.\n",
    "\n",
    "#### Basic Syntax:\n",
    "```python\n",
    "import pandas as pd\n",
    "\n",
    "df_onehot = pd.get_dummies(data=df, columns=[\"categorical_var\"], prefix=\"cat\")\n",
    "```\n",
    "\n",
    "- `data`: Your pandas DataFrame.\n",
    "- `columns`: List of categorical columns to encode.\n",
    "- `prefix`: String prefix added to each dummy column name for clarity.\n",
    "\n",
    "\n",
    "### Practical Example of One-Hot Encoding\n",
    "\n",
    "Given a DataFrame `df` with numeric and categorical columns:\n",
    "\n",
    "```python\n",
    "df[[\"numeric_var\", \"categorical_var\"]].head()\n",
    "```\n",
    "\n",
    "Applying one-hot encoding:\n",
    "\n",
    "```python\n",
    "df_onehot = pd.get_dummies(df[[\"numeric_var\", \"categorical_var\"]])\n",
    "```\n",
    "\n",
    "**Resulting DataFrame:**\n",
    "\n",
    "| numeric_var | categorical_var_A | categorical_var_B | categorical_var_C |\n",
    "|-------------|-------------------|-------------------|-------------------|\n",
    "| 100         | 1                 | 0                 | 0                 |\n",
    "| 150         | 0                 | 1                 | 0                 |\n",
    "\n",
    "\n",
    "### Advanced Configuration and Management\n",
    "\n",
    "#### Controlling Column Names and Prefixes\n",
    "\n",
    "Explicitly manage the encoded column names for clarity and interpretability:\n",
    "\n",
    "```python\n",
    "df_onehot = pd.get_dummies(\n",
    "    df,\n",
    "    columns=[\"categorical_var\"],\n",
    "    prefix=[\"category\"]\n",
    ")\n",
    "```\n",
    "\n",
    "#### Specifying Multiple Columns\n",
    "\n",
    "Encoding multiple categorical variables simultaneously:\n",
    "\n",
    "```python\n",
    "df_onehot = pd.get_dummies(df, columns=[\"cat_var1\", \"cat_var2\"], prefix=[\"var1\", \"var2\"])\n",
    "```\n",
    "\n",
    "### Pitfalls and Considerations\n",
    "\n",
    "#### Feature Explosion\n",
    "- One-hot encoding creates **one binary feature per category**, potentially resulting in a large number of additional columns.\n",
    "- High cardinality (many categories) can significantly increase memory usage and reduce computational efficiency.\n",
    "\n",
    "#### Missing Values (`NaN`)\n",
    "- Missing categorical values (`NaN`) **do not generate dummy columns** by default. Explicitly handle missing data before encoding or assign a placeholder category.\n",
    "\n",
    "```python\n",
    "df[\"cat_var\"] = df[\"cat_var\"].fillna(\"missing\")\n",
    "df_onehot = pd.get_dummies(df, columns=[\"cat_var\"])\n",
    "```\n",
    "### Visualizing One-Hot Encoded Data (Robust OOP Approach)\n",
    "\n",
    "Visualisations help understand the distribution of categorical data after encoding.\n",
    "\n",
    "#### Count Plot of Encoded Variables\n",
    "\n",
    "```python\n",
    "import seaborn as sns\n",
    "import matplotlib.pyplot as plt\n",
    "\n",
    "sns.set(style=\"whitegrid\", font_scale=1.2)\n",
    "\n",
    "# Example: Visualizing the count of categories after encoding\n",
    "df_onehot_sum = df_onehot.filter(regex=\"cat_var_\").sum().sort_values()\n",
    "\n",
    "fig, ax = plt.subplots(figsize=(8, 6))\n",
    "df_onehot_sum.plot(kind=\"barh\", color=sns.color_palette(\"coolwarm\", len(df_onehot_sum)), ax=ax)\n",
    "\n",
    "ax.set_xlabel(\"Count\")\n",
    "ax.set_ylabel(\"Categories\")\n",
    "ax.set_title(\"Distribution of One-Hot Encoded Categories\")\n",
    "\n",
    "plt.tight_layout()\n",
    "plt.show()\n",
    "```\n",
    "\n",
    "#### Tips for Informative Plots:\n",
    "- **Color palettes**: Use visually distinct palettes like `\"coolwarm\"`, `\"Set1\"`, `\"Set2\"`, `\"viridis\"`.\n",
    "- **Figure dimensions**: Adjust figure size (`figsize`) for readability.\n",
    "- **Label rotation and alignment**: Rotate or horizontally align labels for clarity (`ax.set_xticklabels(rotation=45)`).\n",
    "\n",
    "\n",
    "### Statistical and Analytical Rationale\n",
    "\n",
    "- **Statistical integrity**: One-hot encoding correctly represents nominal categorical variables without unintended numeric relationships.\n",
    "- **Model interpretability**: Increases transparency, clearly delineating category effects.\n",
    "- **Analytical flexibility**: Compatible across diverse models—linear, logistic regression, tree-based methods, neural networks.\n",
    "\n",
    "\n",
    "### When to Use One-Hot Encoding\n",
    "\n",
    "- **Machine Learning**: Ideal for algorithms sensitive to numeric ordering (linear models, neural networks, etc.).\n",
    "- **Exploratory Data Analysis (EDA)**: Clearly visualises categorical distribution and relationships.\n",
    "- **Statistical Modelling**: Essential for regression analysis involving nominal categorical variables.\n",
    "\n",
    "\n",
    "### Comparing Encoding Methods\n",
    "\n",
    "| Encoding Method     | Numeric Representation    | Ordering Assumption | ML Compatibility | Memory Usage | Statistical Interpretation |\n",
    "|---------------------|---------------------------|---------------------|------------------|--------------|----------------------------|\n",
    "| Label Encoding      | Integers (0, 1, 2, ...)   | Yes (implied)       | Limited          | Low          | Potentially misleading     |\n",
    "| One-Hot Encoding    | Binary indicator columns  | No                  | High             | Moderate/High| Accurate (nominal)         |\n",
    "\n",
    "\n",
    "One-hot encoding is a rigorous, statistically robust, and analytically powerful method for handling categorical variables in quantitative analysis and machine learning. By clearly translating categories into numeric representations without unintended numeric assumptions, one-hot encoding supports accurate modelling, interpretability, and robust analytical results. Mastering one-hot encoding enhances data science workflows, delivering both statistical accuracy and analytical clarity across any domain.\n"
   ]
  },
  {
   "cell_type": "code",
   "execution_count": 245,
   "id": "a311fedf",
   "metadata": {},
   "outputs": [
    {
     "data": {
      "application/vnd.microsoft.datawrangler.viewer.v0+json": {
       "columns": [
        {
         "name": "index",
         "rawType": "int64",
         "type": "integer"
        },
        {
         "name": "odometer_value",
         "rawType": "int64",
         "type": "integer"
        },
        {
         "name": "color",
         "rawType": "object",
         "type": "string"
        }
       ],
       "ref": "9bee2345-2d2b-4e54-a510-01e932abb4e7",
       "rows": [
        [
         "0",
         "190000",
         "silver"
        ],
        [
         "1",
         "290000",
         "blue"
        ],
        [
         "2",
         "402000",
         "red"
        ],
        [
         "3",
         "10000",
         "blue"
        ],
        [
         "4",
         "280000",
         "black"
        ]
       ],
       "shape": {
        "columns": 2,
        "rows": 5
       }
      },
      "text/html": [
       "<div>\n",
       "<style scoped>\n",
       "    .dataframe tbody tr th:only-of-type {\n",
       "        vertical-align: middle;\n",
       "    }\n",
       "\n",
       "    .dataframe tbody tr th {\n",
       "        vertical-align: top;\n",
       "    }\n",
       "\n",
       "    .dataframe thead th {\n",
       "        text-align: right;\n",
       "    }\n",
       "</style>\n",
       "<table border=\"1\" class=\"dataframe\">\n",
       "  <thead>\n",
       "    <tr style=\"text-align: right;\">\n",
       "      <th></th>\n",
       "      <th>odometer_value</th>\n",
       "      <th>color</th>\n",
       "    </tr>\n",
       "  </thead>\n",
       "  <tbody>\n",
       "    <tr>\n",
       "      <th>0</th>\n",
       "      <td>190000</td>\n",
       "      <td>silver</td>\n",
       "    </tr>\n",
       "    <tr>\n",
       "      <th>1</th>\n",
       "      <td>290000</td>\n",
       "      <td>blue</td>\n",
       "    </tr>\n",
       "    <tr>\n",
       "      <th>2</th>\n",
       "      <td>402000</td>\n",
       "      <td>red</td>\n",
       "    </tr>\n",
       "    <tr>\n",
       "      <th>3</th>\n",
       "      <td>10000</td>\n",
       "      <td>blue</td>\n",
       "    </tr>\n",
       "    <tr>\n",
       "      <th>4</th>\n",
       "      <td>280000</td>\n",
       "      <td>black</td>\n",
       "    </tr>\n",
       "  </tbody>\n",
       "</table>\n",
       "</div>"
      ],
      "text/plain": [
       "   odometer_value   color\n",
       "0          190000  silver\n",
       "1          290000    blue\n",
       "2          402000     red\n",
       "3           10000    blue\n",
       "4          280000   black"
      ]
     },
     "execution_count": 245,
     "metadata": {},
     "output_type": "execute_result"
    }
   ],
   "source": [
    "used_cars[[\"odometer_value\", \"color\"]].head()"
   ]
  },
  {
   "cell_type": "code",
   "execution_count": 246,
   "id": "76e605eb",
   "metadata": {},
   "outputs": [
    {
     "data": {
      "application/vnd.microsoft.datawrangler.viewer.v0+json": {
       "columns": [
        {
         "name": "index",
         "rawType": "int64",
         "type": "integer"
        },
        {
         "name": "odometer_value",
         "rawType": "int64",
         "type": "integer"
        },
        {
         "name": "color_black",
         "rawType": "bool",
         "type": "boolean"
        },
        {
         "name": "color_blue",
         "rawType": "bool",
         "type": "boolean"
        },
        {
         "name": "color_brown",
         "rawType": "bool",
         "type": "boolean"
        },
        {
         "name": "color_green",
         "rawType": "bool",
         "type": "boolean"
        },
        {
         "name": "color_grey",
         "rawType": "bool",
         "type": "boolean"
        },
        {
         "name": "color_orange",
         "rawType": "bool",
         "type": "boolean"
        },
        {
         "name": "color_other",
         "rawType": "bool",
         "type": "boolean"
        },
        {
         "name": "color_red",
         "rawType": "bool",
         "type": "boolean"
        },
        {
         "name": "color_silver",
         "rawType": "bool",
         "type": "boolean"
        },
        {
         "name": "color_violet",
         "rawType": "bool",
         "type": "boolean"
        },
        {
         "name": "color_white",
         "rawType": "bool",
         "type": "boolean"
        },
        {
         "name": "color_yellow",
         "rawType": "bool",
         "type": "boolean"
        }
       ],
       "ref": "08ec7402-6842-470d-8602-481acf21aa55",
       "rows": [
        [
         "0",
         "190000",
         "False",
         "False",
         "False",
         "False",
         "False",
         "False",
         "False",
         "False",
         "True",
         "False",
         "False",
         "False"
        ],
        [
         "1",
         "290000",
         "False",
         "True",
         "False",
         "False",
         "False",
         "False",
         "False",
         "False",
         "False",
         "False",
         "False",
         "False"
        ],
        [
         "2",
         "402000",
         "False",
         "False",
         "False",
         "False",
         "False",
         "False",
         "False",
         "True",
         "False",
         "False",
         "False",
         "False"
        ],
        [
         "3",
         "10000",
         "False",
         "True",
         "False",
         "False",
         "False",
         "False",
         "False",
         "False",
         "False",
         "False",
         "False",
         "False"
        ],
        [
         "4",
         "280000",
         "True",
         "False",
         "False",
         "False",
         "False",
         "False",
         "False",
         "False",
         "False",
         "False",
         "False",
         "False"
        ]
       ],
       "shape": {
        "columns": 13,
        "rows": 5
       }
      },
      "text/html": [
       "<div>\n",
       "<style scoped>\n",
       "    .dataframe tbody tr th:only-of-type {\n",
       "        vertical-align: middle;\n",
       "    }\n",
       "\n",
       "    .dataframe tbody tr th {\n",
       "        vertical-align: top;\n",
       "    }\n",
       "\n",
       "    .dataframe thead th {\n",
       "        text-align: right;\n",
       "    }\n",
       "</style>\n",
       "<table border=\"1\" class=\"dataframe\">\n",
       "  <thead>\n",
       "    <tr style=\"text-align: right;\">\n",
       "      <th></th>\n",
       "      <th>odometer_value</th>\n",
       "      <th>color_black</th>\n",
       "      <th>color_blue</th>\n",
       "      <th>color_brown</th>\n",
       "      <th>color_green</th>\n",
       "      <th>color_grey</th>\n",
       "      <th>color_orange</th>\n",
       "      <th>color_other</th>\n",
       "      <th>color_red</th>\n",
       "      <th>color_silver</th>\n",
       "      <th>color_violet</th>\n",
       "      <th>color_white</th>\n",
       "      <th>color_yellow</th>\n",
       "    </tr>\n",
       "  </thead>\n",
       "  <tbody>\n",
       "    <tr>\n",
       "      <th>0</th>\n",
       "      <td>190000</td>\n",
       "      <td>False</td>\n",
       "      <td>False</td>\n",
       "      <td>False</td>\n",
       "      <td>False</td>\n",
       "      <td>False</td>\n",
       "      <td>False</td>\n",
       "      <td>False</td>\n",
       "      <td>False</td>\n",
       "      <td>True</td>\n",
       "      <td>False</td>\n",
       "      <td>False</td>\n",
       "      <td>False</td>\n",
       "    </tr>\n",
       "    <tr>\n",
       "      <th>1</th>\n",
       "      <td>290000</td>\n",
       "      <td>False</td>\n",
       "      <td>True</td>\n",
       "      <td>False</td>\n",
       "      <td>False</td>\n",
       "      <td>False</td>\n",
       "      <td>False</td>\n",
       "      <td>False</td>\n",
       "      <td>False</td>\n",
       "      <td>False</td>\n",
       "      <td>False</td>\n",
       "      <td>False</td>\n",
       "      <td>False</td>\n",
       "    </tr>\n",
       "    <tr>\n",
       "      <th>2</th>\n",
       "      <td>402000</td>\n",
       "      <td>False</td>\n",
       "      <td>False</td>\n",
       "      <td>False</td>\n",
       "      <td>False</td>\n",
       "      <td>False</td>\n",
       "      <td>False</td>\n",
       "      <td>False</td>\n",
       "      <td>True</td>\n",
       "      <td>False</td>\n",
       "      <td>False</td>\n",
       "      <td>False</td>\n",
       "      <td>False</td>\n",
       "    </tr>\n",
       "    <tr>\n",
       "      <th>3</th>\n",
       "      <td>10000</td>\n",
       "      <td>False</td>\n",
       "      <td>True</td>\n",
       "      <td>False</td>\n",
       "      <td>False</td>\n",
       "      <td>False</td>\n",
       "      <td>False</td>\n",
       "      <td>False</td>\n",
       "      <td>False</td>\n",
       "      <td>False</td>\n",
       "      <td>False</td>\n",
       "      <td>False</td>\n",
       "      <td>False</td>\n",
       "    </tr>\n",
       "    <tr>\n",
       "      <th>4</th>\n",
       "      <td>280000</td>\n",
       "      <td>True</td>\n",
       "      <td>False</td>\n",
       "      <td>False</td>\n",
       "      <td>False</td>\n",
       "      <td>False</td>\n",
       "      <td>False</td>\n",
       "      <td>False</td>\n",
       "      <td>False</td>\n",
       "      <td>False</td>\n",
       "      <td>False</td>\n",
       "      <td>False</td>\n",
       "      <td>False</td>\n",
       "    </tr>\n",
       "  </tbody>\n",
       "</table>\n",
       "</div>"
      ],
      "text/plain": [
       "   odometer_value  color_black  color_blue  color_brown  color_green  \\\n",
       "0          190000        False       False        False        False   \n",
       "1          290000        False        True        False        False   \n",
       "2          402000        False       False        False        False   \n",
       "3           10000        False        True        False        False   \n",
       "4          280000         True       False        False        False   \n",
       "\n",
       "   color_grey  color_orange  color_other  color_red  color_silver  \\\n",
       "0       False         False        False      False          True   \n",
       "1       False         False        False      False         False   \n",
       "2       False         False        False       True         False   \n",
       "3       False         False        False      False         False   \n",
       "4       False         False        False      False         False   \n",
       "\n",
       "   color_violet  color_white  color_yellow  \n",
       "0         False        False         False  \n",
       "1         False        False         False  \n",
       "2         False        False         False  \n",
       "3         False        False         False  \n",
       "4         False        False         False  "
      ]
     },
     "execution_count": 246,
     "metadata": {},
     "output_type": "execute_result"
    }
   ],
   "source": [
    "used_cars_onehot = pd.get_dummies(used_cars[[\"odometer_value\", \"color\"]])\n",
    "used_cars_onehot.head()"
   ]
  },
  {
   "cell_type": "code",
   "execution_count": 247,
   "id": "e61491e7",
   "metadata": {},
   "outputs": [
    {
     "name": "stdout",
     "output_type": "stream",
     "text": [
      "(38531, 13)\n"
     ]
    }
   ],
   "source": [
    "print(used_cars_onehot.shape)"
   ]
  },
  {
   "cell_type": "code",
   "execution_count": 248,
   "id": "46fcdebc",
   "metadata": {},
   "outputs": [
    {
     "data": {
      "application/vnd.microsoft.datawrangler.viewer.v0+json": {
       "columns": [
        {
         "name": "index",
         "rawType": "int64",
         "type": "integer"
        },
        {
         "name": "manufacturer_name",
         "rawType": "category",
         "type": "unknown"
        },
        {
         "name": "model_name",
         "rawType": "object",
         "type": "string"
        },
        {
         "name": "odometer_value",
         "rawType": "int64",
         "type": "integer"
        },
        {
         "name": "year_produced",
         "rawType": "int64",
         "type": "integer"
        },
        {
         "name": "engine_has_gas",
         "rawType": "bool",
         "type": "boolean"
        },
        {
         "name": "engine_type",
         "rawType": "object",
         "type": "string"
        },
        {
         "name": "engine_capacity",
         "rawType": "float64",
         "type": "float"
        },
        {
         "name": "body_type",
         "rawType": "object",
         "type": "string"
        },
        {
         "name": "has_warranty",
         "rawType": "bool",
         "type": "boolean"
        },
        {
         "name": "state",
         "rawType": "object",
         "type": "string"
        },
        {
         "name": "drivetrain",
         "rawType": "object",
         "type": "string"
        },
        {
         "name": "price_usd",
         "rawType": "float64",
         "type": "float"
        },
        {
         "name": "is_exchangeable",
         "rawType": "bool",
         "type": "boolean"
        },
        {
         "name": "location_region",
         "rawType": "object",
         "type": "string"
        },
        {
         "name": "number_of_photos",
         "rawType": "int64",
         "type": "integer"
        },
        {
         "name": "up_counter",
         "rawType": "int64",
         "type": "integer"
        },
        {
         "name": "feature_0",
         "rawType": "bool",
         "type": "boolean"
        },
        {
         "name": "feature_1",
         "rawType": "bool",
         "type": "boolean"
        },
        {
         "name": "feature_2",
         "rawType": "bool",
         "type": "boolean"
        },
        {
         "name": "feature_3",
         "rawType": "bool",
         "type": "boolean"
        },
        {
         "name": "feature_4",
         "rawType": "bool",
         "type": "boolean"
        },
        {
         "name": "feature_5",
         "rawType": "bool",
         "type": "boolean"
        },
        {
         "name": "feature_6",
         "rawType": "bool",
         "type": "boolean"
        },
        {
         "name": "feature_7",
         "rawType": "bool",
         "type": "boolean"
        },
        {
         "name": "feature_8",
         "rawType": "bool",
         "type": "boolean"
        },
        {
         "name": "feature_9",
         "rawType": "bool",
         "type": "boolean"
        },
        {
         "name": "duration_listed",
         "rawType": "int64",
         "type": "integer"
        },
        {
         "name": "manufacturer_code",
         "rawType": "int8",
         "type": "integer"
        },
        {
         "name": "engine_fuel",
         "rawType": "object",
         "type": "string"
        },
        {
         "name": "transmission",
         "rawType": "object",
         "type": "string"
        },
        {
         "name": "is_volkswagen",
         "rawType": "int64",
         "type": "integer"
        },
        {
         "name": "_black",
         "rawType": "bool",
         "type": "boolean"
        },
        {
         "name": "_blue",
         "rawType": "bool",
         "type": "boolean"
        },
        {
         "name": "_brown",
         "rawType": "bool",
         "type": "boolean"
        },
        {
         "name": "_green",
         "rawType": "bool",
         "type": "boolean"
        },
        {
         "name": "_grey",
         "rawType": "bool",
         "type": "boolean"
        },
        {
         "name": "_orange",
         "rawType": "bool",
         "type": "boolean"
        },
        {
         "name": "_other",
         "rawType": "bool",
         "type": "boolean"
        },
        {
         "name": "_red",
         "rawType": "bool",
         "type": "boolean"
        },
        {
         "name": "_silver",
         "rawType": "bool",
         "type": "boolean"
        },
        {
         "name": "_violet",
         "rawType": "bool",
         "type": "boolean"
        },
        {
         "name": "_white",
         "rawType": "bool",
         "type": "boolean"
        },
        {
         "name": "_yellow",
         "rawType": "bool",
         "type": "boolean"
        }
       ],
       "ref": "d048f7ec-569b-4d57-a2d3-6cc43f8f5e48",
       "rows": [
        [
         "0",
         "Subaru",
         "Outback",
         "190000",
         "2010",
         "False",
         "gasoline",
         "2.5",
         "Universal",
         "False",
         "owned",
         "all",
         "10900.0",
         "False",
         "Минская обл.",
         "9",
         "13",
         "False",
         "True",
         "True",
         "True",
         "False",
         "True",
         "False",
         "True",
         "True",
         "True",
         "16",
         "45",
         "gasoline",
         "automatic",
         "0",
         "False",
         "False",
         "False",
         "False",
         "False",
         "False",
         "False",
         "False",
         "True",
         "False",
         "False",
         "False"
        ],
        [
         "1",
         "Subaru",
         "Outback",
         "290000",
         "2002",
         "False",
         "gasoline",
         "3.0",
         "Universal",
         "False",
         "owned",
         "all",
         "5000.0",
         "True",
         "Минская обл.",
         "12",
         "54",
         "False",
         "True",
         "False",
         "False",
         "True",
         "True",
         "False",
         "False",
         "False",
         "True",
         "83",
         "45",
         "gasoline",
         "automatic",
         "0",
         "False",
         "True",
         "False",
         "False",
         "False",
         "False",
         "False",
         "False",
         "False",
         "False",
         "False",
         "False"
        ],
        [
         "2",
         "Subaru",
         "Forester",
         "402000",
         "2001",
         "False",
         "gasoline",
         "2.5",
         "Suv",
         "False",
         "owned",
         "all",
         "2800.0",
         "True",
         "Минская обл.",
         "4",
         "72",
         "False",
         "True",
         "False",
         "False",
         "False",
         "False",
         "False",
         "False",
         "True",
         "True",
         "151",
         "45",
         "gasoline",
         "automatic",
         "0",
         "False",
         "False",
         "False",
         "False",
         "False",
         "False",
         "False",
         "True",
         "False",
         "False",
         "False",
         "False"
        ],
        [
         "3",
         "Subaru",
         "Impreza",
         "10000",
         "1999",
         "False",
         "gasoline",
         "3.0",
         "Sedan",
         "False",
         "owned",
         "all",
         "9999.0",
         "True",
         "Минская обл.",
         "9",
         "42",
         "True",
         "False",
         "False",
         "False",
         "False",
         "False",
         "False",
         "False",
         "False",
         "False",
         "86",
         "45",
         "gasoline",
         "mechanical",
         "0",
         "False",
         "True",
         "False",
         "False",
         "False",
         "False",
         "False",
         "False",
         "False",
         "False",
         "False",
         "False"
        ],
        [
         "4",
         "Subaru",
         "Legacy",
         "280000",
         "2001",
         "False",
         "gasoline",
         "2.5",
         "Universal",
         "False",
         "owned",
         "all",
         "2134.11",
         "True",
         "Гомельская обл.",
         "14",
         "7",
         "False",
         "True",
         "False",
         "True",
         "True",
         "False",
         "False",
         "False",
         "False",
         "True",
         "7",
         "45",
         "gasoline",
         "automatic",
         "0",
         "True",
         "False",
         "False",
         "False",
         "False",
         "False",
         "False",
         "False",
         "False",
         "False",
         "False",
         "False"
        ]
       ],
       "shape": {
        "columns": 43,
        "rows": 5
       }
      },
      "text/html": [
       "<div>\n",
       "<style scoped>\n",
       "    .dataframe tbody tr th:only-of-type {\n",
       "        vertical-align: middle;\n",
       "    }\n",
       "\n",
       "    .dataframe tbody tr th {\n",
       "        vertical-align: top;\n",
       "    }\n",
       "\n",
       "    .dataframe thead th {\n",
       "        text-align: right;\n",
       "    }\n",
       "</style>\n",
       "<table border=\"1\" class=\"dataframe\">\n",
       "  <thead>\n",
       "    <tr style=\"text-align: right;\">\n",
       "      <th></th>\n",
       "      <th>manufacturer_name</th>\n",
       "      <th>model_name</th>\n",
       "      <th>odometer_value</th>\n",
       "      <th>year_produced</th>\n",
       "      <th>engine_has_gas</th>\n",
       "      <th>engine_type</th>\n",
       "      <th>engine_capacity</th>\n",
       "      <th>body_type</th>\n",
       "      <th>has_warranty</th>\n",
       "      <th>state</th>\n",
       "      <th>...</th>\n",
       "      <th>_brown</th>\n",
       "      <th>_green</th>\n",
       "      <th>_grey</th>\n",
       "      <th>_orange</th>\n",
       "      <th>_other</th>\n",
       "      <th>_red</th>\n",
       "      <th>_silver</th>\n",
       "      <th>_violet</th>\n",
       "      <th>_white</th>\n",
       "      <th>_yellow</th>\n",
       "    </tr>\n",
       "  </thead>\n",
       "  <tbody>\n",
       "    <tr>\n",
       "      <th>0</th>\n",
       "      <td>Subaru</td>\n",
       "      <td>Outback</td>\n",
       "      <td>190000</td>\n",
       "      <td>2010</td>\n",
       "      <td>False</td>\n",
       "      <td>gasoline</td>\n",
       "      <td>2.5</td>\n",
       "      <td>Universal</td>\n",
       "      <td>False</td>\n",
       "      <td>owned</td>\n",
       "      <td>...</td>\n",
       "      <td>False</td>\n",
       "      <td>False</td>\n",
       "      <td>False</td>\n",
       "      <td>False</td>\n",
       "      <td>False</td>\n",
       "      <td>False</td>\n",
       "      <td>True</td>\n",
       "      <td>False</td>\n",
       "      <td>False</td>\n",
       "      <td>False</td>\n",
       "    </tr>\n",
       "    <tr>\n",
       "      <th>1</th>\n",
       "      <td>Subaru</td>\n",
       "      <td>Outback</td>\n",
       "      <td>290000</td>\n",
       "      <td>2002</td>\n",
       "      <td>False</td>\n",
       "      <td>gasoline</td>\n",
       "      <td>3.0</td>\n",
       "      <td>Universal</td>\n",
       "      <td>False</td>\n",
       "      <td>owned</td>\n",
       "      <td>...</td>\n",
       "      <td>False</td>\n",
       "      <td>False</td>\n",
       "      <td>False</td>\n",
       "      <td>False</td>\n",
       "      <td>False</td>\n",
       "      <td>False</td>\n",
       "      <td>False</td>\n",
       "      <td>False</td>\n",
       "      <td>False</td>\n",
       "      <td>False</td>\n",
       "    </tr>\n",
       "    <tr>\n",
       "      <th>2</th>\n",
       "      <td>Subaru</td>\n",
       "      <td>Forester</td>\n",
       "      <td>402000</td>\n",
       "      <td>2001</td>\n",
       "      <td>False</td>\n",
       "      <td>gasoline</td>\n",
       "      <td>2.5</td>\n",
       "      <td>Suv</td>\n",
       "      <td>False</td>\n",
       "      <td>owned</td>\n",
       "      <td>...</td>\n",
       "      <td>False</td>\n",
       "      <td>False</td>\n",
       "      <td>False</td>\n",
       "      <td>False</td>\n",
       "      <td>False</td>\n",
       "      <td>True</td>\n",
       "      <td>False</td>\n",
       "      <td>False</td>\n",
       "      <td>False</td>\n",
       "      <td>False</td>\n",
       "    </tr>\n",
       "    <tr>\n",
       "      <th>3</th>\n",
       "      <td>Subaru</td>\n",
       "      <td>Impreza</td>\n",
       "      <td>10000</td>\n",
       "      <td>1999</td>\n",
       "      <td>False</td>\n",
       "      <td>gasoline</td>\n",
       "      <td>3.0</td>\n",
       "      <td>Sedan</td>\n",
       "      <td>False</td>\n",
       "      <td>owned</td>\n",
       "      <td>...</td>\n",
       "      <td>False</td>\n",
       "      <td>False</td>\n",
       "      <td>False</td>\n",
       "      <td>False</td>\n",
       "      <td>False</td>\n",
       "      <td>False</td>\n",
       "      <td>False</td>\n",
       "      <td>False</td>\n",
       "      <td>False</td>\n",
       "      <td>False</td>\n",
       "    </tr>\n",
       "    <tr>\n",
       "      <th>4</th>\n",
       "      <td>Subaru</td>\n",
       "      <td>Legacy</td>\n",
       "      <td>280000</td>\n",
       "      <td>2001</td>\n",
       "      <td>False</td>\n",
       "      <td>gasoline</td>\n",
       "      <td>2.5</td>\n",
       "      <td>Universal</td>\n",
       "      <td>False</td>\n",
       "      <td>owned</td>\n",
       "      <td>...</td>\n",
       "      <td>False</td>\n",
       "      <td>False</td>\n",
       "      <td>False</td>\n",
       "      <td>False</td>\n",
       "      <td>False</td>\n",
       "      <td>False</td>\n",
       "      <td>False</td>\n",
       "      <td>False</td>\n",
       "      <td>False</td>\n",
       "      <td>False</td>\n",
       "    </tr>\n",
       "  </tbody>\n",
       "</table>\n",
       "<p>5 rows × 43 columns</p>\n",
       "</div>"
      ],
      "text/plain": [
       "  manufacturer_name model_name  odometer_value  year_produced  engine_has_gas  \\\n",
       "0            Subaru    Outback          190000           2010           False   \n",
       "1            Subaru    Outback          290000           2002           False   \n",
       "2            Subaru   Forester          402000           2001           False   \n",
       "3            Subaru    Impreza           10000           1999           False   \n",
       "4            Subaru     Legacy          280000           2001           False   \n",
       "\n",
       "  engine_type  engine_capacity  body_type  has_warranty  state  ... _brown  \\\n",
       "0    gasoline              2.5  Universal         False  owned  ...  False   \n",
       "1    gasoline              3.0  Universal         False  owned  ...  False   \n",
       "2    gasoline              2.5        Suv         False  owned  ...  False   \n",
       "3    gasoline              3.0      Sedan         False  owned  ...  False   \n",
       "4    gasoline              2.5  Universal         False  owned  ...  False   \n",
       "\n",
       "   _green  _grey _orange  _other   _red  _silver  _violet  _white  _yellow  \n",
       "0   False  False   False   False  False     True    False   False    False  \n",
       "1   False  False   False   False  False    False    False   False    False  \n",
       "2   False  False   False   False   True    False    False   False    False  \n",
       "3   False  False   False   False  False    False    False   False    False  \n",
       "4   False  False   False   False  False    False    False   False    False  \n",
       "\n",
       "[5 rows x 43 columns]"
      ]
     },
     "execution_count": 248,
     "metadata": {},
     "output_type": "execute_result"
    }
   ],
   "source": [
    "used_cars_onehot = pd.get_dummies(used_cars, columns=[\"color\"], prefix=\"\")\n",
    "used_cars_onehot.head()"
   ]
  },
  {
   "cell_type": "markdown",
   "id": "975b5d5b",
   "metadata": {},
   "source": [
    "### One-hot encoding specific columns\n",
    "A local used car dealership wants your help in predicting the sale price of their vehicles. If you use one-hot encoding on the entire `used_cars` dataset, the new dataset has over 1,200 columns. You are worried that this might lead to problems when training your machine learning models to predict price. You have decided to try a simpler approach and only use one-hot encoding on a few columns."
   ]
  },
  {
   "cell_type": "code",
   "execution_count": 249,
   "id": "96ee6e90",
   "metadata": {},
   "outputs": [
    {
     "name": "stdout",
     "output_type": "stream",
     "text": [
      "(38531, 87)\n"
     ]
    }
   ],
   "source": [
    "# Create a new dataset, used_cars_simple, with one-hot encoding for these columns: \"manufacturer_name\" and \"transmission\" (in this order).\n",
    "used_cars_simple = pd.get_dummies(\n",
    "    # Set the prefix of all new columns to \"dummy\", so that you can easily filter to newly created columns.\n",
    "    used_cars,\n",
    "    columns=[\"manufacturer_name\", \"transmission\"],\n",
    "    prefix=\"dummy\",\n",
    ")\n",
    "\n",
    "# Print the shape of the new dataset\n",
    "print(used_cars_simple.shape)"
   ]
  },
  {
   "cell_type": "code",
   "execution_count": null,
   "id": "dd44aaa8",
   "metadata": {},
   "outputs": [
    {
     "name": "stdout",
     "output_type": "stream",
     "text": [
      "<class 'pandas.core.frame.DataFrame'>\n",
      "RangeIndex: 38531 entries, 0 to 38530\n",
      "Data columns (total 87 columns):\n",
      " #   Column               Non-Null Count  Dtype  \n",
      "---  ------               --------------  -----  \n",
      " 0   model_name           38531 non-null  object \n",
      " 1   odometer_value       38531 non-null  int64  \n",
      " 2   year_produced        38531 non-null  int64  \n",
      " 3   engine_has_gas       38531 non-null  bool   \n",
      " 4   engine_type          38531 non-null  object \n",
      " 5   engine_capacity      38521 non-null  float64\n",
      " 6   body_type            38531 non-null  object \n",
      " 7   has_warranty         38531 non-null  bool   \n",
      " 8   state                38531 non-null  object \n",
      " 9   drivetrain           38531 non-null  object \n",
      " 10  price_usd            38531 non-null  float64\n",
      " 11  is_exchangeable      38531 non-null  bool   \n",
      " 12  location_region      38531 non-null  object \n",
      " 13  number_of_photos     38531 non-null  int64  \n",
      " 14  up_counter           38531 non-null  int64  \n",
      " 15  feature_0            38531 non-null  bool   \n",
      " 16  feature_1            38531 non-null  bool   \n",
      " 17  feature_2            38531 non-null  bool   \n",
      " 18  feature_3            38531 non-null  bool   \n",
      " 19  feature_4            38531 non-null  bool   \n",
      " 20  feature_5            38531 non-null  bool   \n",
      " 21  feature_6            38531 non-null  bool   \n",
      " 22  feature_7            38531 non-null  bool   \n",
      " 23  feature_8            38531 non-null  bool   \n",
      " 24  feature_9            38531 non-null  bool   \n",
      " 25  duration_listed      38531 non-null  int64  \n",
      " 26  manufacturer_code    38531 non-null  int8   \n",
      " 27  color                38531 non-null  object \n",
      " 28  engine_fuel          38531 non-null  object \n",
      " 29  is_volkswagen        38531 non-null  int64  \n",
      " 30  dummy_Acura          38531 non-null  bool   \n",
      " 31  dummy_Alfa Romeo     38531 non-null  bool   \n",
      " 32  dummy_Audi           38531 non-null  bool   \n",
      " 33  dummy_BMW            38531 non-null  bool   \n",
      " 34  dummy_Buick          38531 non-null  bool   \n",
      " 35  dummy_Cadillac       38531 non-null  bool   \n",
      " 36  dummy_Chery          38531 non-null  bool   \n",
      " 37  dummy_Chevrolet      38531 non-null  bool   \n",
      " 38  dummy_Chrysler       38531 non-null  bool   \n",
      " 39  dummy_Citroen        38531 non-null  bool   \n",
      " 40  dummy_Dacia          38531 non-null  bool   \n",
      " 41  dummy_Daewoo         38531 non-null  bool   \n",
      " 42  dummy_Dodge          38531 non-null  bool   \n",
      " 43  dummy_Fiat           38531 non-null  bool   \n",
      " 44  dummy_Ford           38531 non-null  bool   \n",
      " 45  dummy_Geely          38531 non-null  bool   \n",
      " 46  dummy_Great Wall     38531 non-null  bool   \n",
      " 47  dummy_Honda          38531 non-null  bool   \n",
      " 48  dummy_Hyundai        38531 non-null  bool   \n",
      " 49  dummy_Infiniti       38531 non-null  bool   \n",
      " 50  dummy_Iveco          38531 non-null  bool   \n",
      " 51  dummy_Jaguar         38531 non-null  bool   \n",
      " 52  dummy_Jeep           38531 non-null  bool   \n",
      " 53  dummy_Kia            38531 non-null  bool   \n",
      " 54  dummy_LADA           38531 non-null  bool   \n",
      " 55  dummy_Lancia         38531 non-null  bool   \n",
      " 56  dummy_Land Rover     38531 non-null  bool   \n",
      " 57  dummy_Lexus          38531 non-null  bool   \n",
      " 58  dummy_Lifan          38531 non-null  bool   \n",
      " 59  dummy_Lincoln        38531 non-null  bool   \n",
      " 60  dummy_Mazda          38531 non-null  bool   \n",
      " 61  dummy_Mercedes-Benz  38531 non-null  bool   \n",
      " 62  dummy_Mini           38531 non-null  bool   \n",
      " 63  dummy_Mitsubishi     38531 non-null  bool   \n",
      " 64  dummy_Nissan         38531 non-null  bool   \n",
      " 65  dummy_Opel           38531 non-null  bool   \n",
      " 66  dummy_Peugeot        38531 non-null  bool   \n",
      " 67  dummy_Pontiac        38531 non-null  bool   \n",
      " 68  dummy_Porsche        38531 non-null  bool   \n",
      " 69  dummy_Renault        38531 non-null  bool   \n",
      " 70  dummy_Rover          38531 non-null  bool   \n",
      " 71  dummy_Saab           38531 non-null  bool   \n",
      " 72  dummy_Seat           38531 non-null  bool   \n",
      " 73  dummy_Skoda          38531 non-null  bool   \n",
      " 74  dummy_SsangYong      38531 non-null  bool   \n",
      " 75  dummy_Subaru         38531 non-null  bool   \n",
      " 76  dummy_Suzuki         38531 non-null  bool   \n",
      " 77  dummy_Toyota         38531 non-null  bool   \n",
      " 78  dummy_Volkswagen     38531 non-null  bool   \n",
      " 79  dummy_Volvo          38531 non-null  bool   \n",
      " 80  dummy_ВАЗ            38531 non-null  bool   \n",
      " 81  dummy_ГАЗ            38531 non-null  bool   \n",
      " 82  dummy_ЗАЗ            38531 non-null  bool   \n",
      " 83  dummy_Москвич        38531 non-null  bool   \n",
      " 84  dummy_УАЗ            38531 non-null  bool   \n",
      " 85  dummy_automatic      38531 non-null  bool   \n",
      " 86  dummy_mechanical     38531 non-null  bool   \n",
      "dtypes: bool(70), float64(2), int64(6), int8(1), object(8)\n",
      "memory usage: 7.3+ MB\n"
     ]
    },
    {
     "ename": "",
     "evalue": "",
     "output_type": "error",
     "traceback": [
      "\u001b[1;31mThe Kernel crashed while executing code in the current cell or a previous cell. \n",
      "\u001b[1;31mPlease review the code in the cell(s) to identify a possible cause of the failure. \n",
      "\u001b[1;31mClick <a href='https://aka.ms/vscodeJupyterKernelCrash'>here</a> for more info. \n",
      "\u001b[1;31mView Jupyter <a href='command:jupyter.viewOutput'>log</a> for further details."
     ]
    }
   ],
   "source": [
    "used_cars_simple.info()"
   ]
  },
  {
   "cell_type": "code",
   "execution_count": null,
   "id": "487d50e9",
   "metadata": {},
   "outputs": [],
   "source": []
  }
 ],
 "metadata": {
  "kernelspec": {
   "display_name": "datacamp",
   "language": "python",
   "name": "python3"
  },
  "language_info": {
   "codemirror_mode": {
    "name": "ipython",
    "version": 3
   },
   "file_extension": ".py",
   "mimetype": "text/x-python",
   "name": "python",
   "nbconvert_exporter": "python",
   "pygments_lexer": "ipython3",
   "version": "3.12.7"
  }
 },
 "nbformat": 4,
 "nbformat_minor": 5
}
