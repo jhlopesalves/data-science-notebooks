{
 "cells": [
  {
   "cell_type": "markdown",
   "id": "d3d001b0-2e2f-4b58-8442-99520bad831f",
   "metadata": {},
   "source": [
    "# Sowing Success: How Machine Learning Helps Farmers Select the Best Crops\n",
    "\n",
    "![Farmer in a field](data/farmer_in_a_field.jpg)\n",
    "\n",
    "Measuring essential soil metrics such as nitrogen, phosphorous, potassium levels, and pH value is an important aspect of assessing soil condition. However, it can be an expensive and time-consuming process, which can cause farmers to prioritize which metrics to measure based on their budget constraints.\n",
    "\n",
    "Farmers have various options when it comes to deciding which crop to plant each season. Their primary objective is to maximize the yield of their crops, taking into account different factors. One crucial factor that affects crop growth is the condition of the soil in the field, which can be assessed by measuring basic elements such as nitrogen and potassium levels. Each crop has an ideal soil condition that ensures optimal growth and maximum yield.\n",
    "\n",
    "A farmer reached out to you as a machine learning expert for assistance in selecting the best crop for his field. They've provided you with a dataset called `soil_measures.csv`, which contains:\n",
    "\n",
    "- `\"N\"`: Nitrogen content ratio in the soil\n",
    "- `\"P\"`: Phosphorous content ratio in the soil\n",
    "- `\"K\"`: Potassium content ratio in the soil\n",
    "- `\"pH\"` value of the soil\n",
    "- `\"crop\"`: categorical values that contain various crops (target variable).\n",
    "\n",
    "Each row in this dataset represents various measures of the soil in a particular field. Based on these measurements, the crop specified in the `\"crop\"` column is the optimal choice for that field.  \n",
    "\n",
    "In this project, you will build multi-class classification models to predict the type of `\"crop\"` and identify the single most importance feature for predictive performance."
   ]
  },
  {
   "cell_type": "code",
   "execution_count": 1,
   "id": "d0eb4f16-5a99-460d-a5ba-706b7ef0bbe7",
   "metadata": {
    "executionCancelledAt": null,
    "executionTime": 14,
    "id": "bA5ajAmk7XH6",
    "lastExecutedAt": 1707317470036,
    "lastScheduledRunId": null,
    "lastSuccessfullyExecutedCode": "# All required libraries are imported here for you.\nimport pandas as pd\nfrom sklearn.linear_model import LogisticRegression\nfrom sklearn.ensemble import RandomForestClassifier\nfrom sklearn.model_selection import train_test_split\nfrom sklearn import metrics\n\n# Load the dataset\ncrops = pd.read_csv(\"soil_measures.csv\")\n\n# Write your code here"
   },
   "outputs": [
    {
     "data": {
      "application/vnd.microsoft.datawrangler.viewer.v0+json": {
       "columns": [
        {
         "name": "index",
         "rawType": "int64",
         "type": "integer"
        },
        {
         "name": "N",
         "rawType": "int64",
         "type": "integer"
        },
        {
         "name": "P",
         "rawType": "int64",
         "type": "integer"
        },
        {
         "name": "K",
         "rawType": "int64",
         "type": "integer"
        },
        {
         "name": "ph",
         "rawType": "float64",
         "type": "float"
        },
        {
         "name": "crop",
         "rawType": "object",
         "type": "string"
        }
       ],
       "ref": "a4dc4e65-c89c-4b96-b637-b621b2aa86f4",
       "rows": [
        [
         "0",
         "90",
         "42",
         "43",
         "6.502985292000001",
         "rice"
        ],
        [
         "1",
         "85",
         "58",
         "41",
         "7.038096361",
         "rice"
        ],
        [
         "2",
         "60",
         "55",
         "44",
         "7.840207144",
         "rice"
        ],
        [
         "3",
         "74",
         "35",
         "40",
         "6.980400905",
         "rice"
        ],
        [
         "4",
         "78",
         "42",
         "42",
         "7.628472891",
         "rice"
        ]
       ],
       "shape": {
        "columns": 5,
        "rows": 5
       }
      },
      "text/html": [
       "<div>\n",
       "<style scoped>\n",
       "    .dataframe tbody tr th:only-of-type {\n",
       "        vertical-align: middle;\n",
       "    }\n",
       "\n",
       "    .dataframe tbody tr th {\n",
       "        vertical-align: top;\n",
       "    }\n",
       "\n",
       "    .dataframe thead th {\n",
       "        text-align: right;\n",
       "    }\n",
       "</style>\n",
       "<table border=\"1\" class=\"dataframe\">\n",
       "  <thead>\n",
       "    <tr style=\"text-align: right;\">\n",
       "      <th></th>\n",
       "      <th>N</th>\n",
       "      <th>P</th>\n",
       "      <th>K</th>\n",
       "      <th>ph</th>\n",
       "      <th>crop</th>\n",
       "    </tr>\n",
       "  </thead>\n",
       "  <tbody>\n",
       "    <tr>\n",
       "      <th>0</th>\n",
       "      <td>90</td>\n",
       "      <td>42</td>\n",
       "      <td>43</td>\n",
       "      <td>6.502985</td>\n",
       "      <td>rice</td>\n",
       "    </tr>\n",
       "    <tr>\n",
       "      <th>1</th>\n",
       "      <td>85</td>\n",
       "      <td>58</td>\n",
       "      <td>41</td>\n",
       "      <td>7.038096</td>\n",
       "      <td>rice</td>\n",
       "    </tr>\n",
       "    <tr>\n",
       "      <th>2</th>\n",
       "      <td>60</td>\n",
       "      <td>55</td>\n",
       "      <td>44</td>\n",
       "      <td>7.840207</td>\n",
       "      <td>rice</td>\n",
       "    </tr>\n",
       "    <tr>\n",
       "      <th>3</th>\n",
       "      <td>74</td>\n",
       "      <td>35</td>\n",
       "      <td>40</td>\n",
       "      <td>6.980401</td>\n",
       "      <td>rice</td>\n",
       "    </tr>\n",
       "    <tr>\n",
       "      <th>4</th>\n",
       "      <td>78</td>\n",
       "      <td>42</td>\n",
       "      <td>42</td>\n",
       "      <td>7.628473</td>\n",
       "      <td>rice</td>\n",
       "    </tr>\n",
       "  </tbody>\n",
       "</table>\n",
       "</div>"
      ],
      "text/plain": [
       "    N   P   K        ph  crop\n",
       "0  90  42  43  6.502985  rice\n",
       "1  85  58  41  7.038096  rice\n",
       "2  60  55  44  7.840207  rice\n",
       "3  74  35  40  6.980401  rice\n",
       "4  78  42  42  7.628473  rice"
      ]
     },
     "execution_count": 1,
     "metadata": {},
     "output_type": "execute_result"
    }
   ],
   "source": [
    "import pandas as pd\n",
    "from sklearn.linear_model import LogisticRegression\n",
    "from sklearn.model_selection import train_test_split\n",
    "from sklearn import metrics\n",
    "\n",
    "# Load the dataset\n",
    "url = \"http://raw.githubusercontent.com/jhlopesalves/data-science-notebooks/refs/heads/main/Python/projects/modeling_agriculture/data/soil_measures.csv\"\n",
    "crops = pd.read_csv(url, usecols=lambda col: not col.startswith(\"Unnamed\"))\n",
    "crops.head()"
   ]
  },
  {
   "cell_type": "markdown",
   "id": "8765a829",
   "metadata": {},
   "source": [
    "Identify the single feature that has the strongest predictive performance for classifying crop types.\n",
    "\n",
    "- Find the feature in the dataset that produces the best score for predicting \"crop\".\n",
    "- From this information, create a variable called best_predictive_feature, which:\n",
    "\t- Should be a dictionary containing the best predictive feature name as a key and the evaluation score (for the metric you chose) as the value."
   ]
  },
  {
   "cell_type": "code",
   "execution_count": 8,
   "id": "db60a970",
   "metadata": {},
   "outputs": [
    {
     "name": "stdout",
     "output_type": "stream",
     "text": [
      "Best predictive feature: {'K': 0.2409090909090909}\n"
     ]
    }
   ],
   "source": [
    "from sklearn.linear_model import LogisticRegression\n",
    "from sklearn.model_selection import train_test_split\n",
    "from sklearn.metrics import accuracy_score\n",
    "from sklearn.preprocessing import StandardScaler\n",
    "from sklearn.preprocessing import LabelEncoder\n",
    "\n",
    "# Prepare data\n",
    "X = crops.drop(\"crop\", axis=1).values\n",
    "y = crops[\"crop\"].values\n",
    "le = LabelEncoder()\n",
    "y_encoded = le.fit_transform(y)\n",
    "\n",
    "# Split data\n",
    "X_train, X_test, y_train, y_test = train_test_split(\n",
    "    X, y_encoded, test_size=0.3, random_state=42\n",
    ")\n",
    "\n",
    "# Feature names\n",
    "features = crops.drop(\"crop\", axis=1).columns\n",
    "\n",
    "# Dictionary to store scores\n",
    "feature_scores = {}\n",
    "\n",
    "# Evaluate each feature\n",
    "for i, feature in enumerate(features):\n",
    "    # Select single feature\n",
    "    X_train_feat = X_train[:, i].reshape(-1, 1)\n",
    "    X_test_feat = X_test[:, i].reshape(-1, 1)\n",
    "\n",
    "    # Scale the feature\n",
    "    scaler = StandardScaler()\n",
    "    X_train_feat_scaled = scaler.fit_transform(X_train_feat)\n",
    "    X_test_feat_scaled = scaler.transform(X_test_feat)\n",
    "\n",
    "    # Train LogisticRegression with increased max_iter and a different solver for better convergence\n",
    "    model = LogisticRegression(max_iter=2000, solver=\"lbfgs\", random_state=42)\n",
    "    model.fit(X_train_feat_scaled, y_train)\n",
    "\n",
    "    # Predict and score\n",
    "    y_pred = model.predict(X_test_feat_scaled)\n",
    "    score = accuracy_score(y_test, y_pred)\n",
    "    feature_scores[feature] = score\n",
    "\n",
    "# Find best feature\n",
    "best_feature = max(feature_scores, key=feature_scores.get)\n",
    "best_score = feature_scores[best_feature]\n",
    "\n",
    "# Create required variable\n",
    "best_predictive_feature = {best_feature: best_score}\n",
    "\n",
    "print(f\"Best predictive feature: {best_predictive_feature}\")"
   ]
  },
  {
   "cell_type": "code",
   "execution_count": null,
   "id": "1345444d",
   "metadata": {},
   "outputs": [],
   "source": []
  }
 ],
 "metadata": {
  "colab": {
   "name": "Welcome to DataCamp Workspaces.ipynb",
   "provenance": []
  },
  "kernelspec": {
   "display_name": "datacamp",
   "language": "python",
   "name": "python3"
  },
  "language_info": {
   "codemirror_mode": {
    "name": "ipython",
    "version": 3
   },
   "file_extension": ".py",
   "mimetype": "text/x-python",
   "name": "python",
   "nbconvert_exporter": "python",
   "pygments_lexer": "ipython3",
   "version": "3.12.11"
  }
 },
 "nbformat": 4,
 "nbformat_minor": 5
}
