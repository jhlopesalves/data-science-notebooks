{
 "cells": [
  {
   "cell_type": "markdown",
   "id": "3ed0edb2-696b-49ab-9db0-681defcce695",
   "metadata": {},
   "source": [
    "![A soccer pitch for an international match.](data/football-pitch.jpg)\n",
    "\n",
    "You're working as a sports journalist at a major online sports media company, specializing in football analysis and reporting. You've been watching both men's and women's international football matches for a number of years, and your gut instinct tells you that more goals are scored in women's international football matches than men's. This would make an interesting investigative article that your subscribers are bound to love, but you'll need to perform a valid statistical hypothesis test to be sure!\n",
    "\n",
    "While scoping this project, you acknowledge that the sport has changed a lot over the years, and performances likely vary a lot depending on the tournament, so you decide to limit the data used in the analysis to only official `FIFA World Cup` matches (not including qualifiers) since `2002-01-01`.\n",
    "\n",
    "You create two datasets containing the results of every official men's and women's international football match since the 19th century, which you scraped from a reliable online source. This data is stored in two CSV files: `women_results.csv` and `men_results.csv`.\n",
    "\n",
    "The question you are trying to determine the answer to is:\n",
    "\n",
    "> Are more goals scored in women's international football matches than men's?\n",
    "\n",
    "You assume a **10% significance level**, and use the following null and alternative hypotheses:\n",
    "\n",
    "$H_0$ : The mean number of goals scored in women's international football matches is the same as men's.\n",
    "\n",
    "$H_A$ : The mean number of goals scored in women's international football matches is greater than men's."
   ]
  },
  {
   "cell_type": "code",
   "execution_count": null,
   "id": "84a3c4c8-534b-4d1a-9919-17e05208b2ca",
   "metadata": {},
   "outputs": [],
   "source": [
    "import pandas as pd\n",
    "import numpy as np"
   ]
  },
  {
   "cell_type": "markdown",
   "id": "8f8c8a73",
   "metadata": {},
   "source": [
    "### Project Instructions\n",
    "\n",
    "Perform an appropriate hypothesis test to determine the p-value, and hence result, of whether to reject or fail to reject the null hypothesis that the mean number of goals scored in women's international soccer matches is the same as men's. Use a 10% significance level.\n",
    "\n",
    "For this analysis, you'll use Official FIFA World Cup matches since 2002-01-01, and you'll also assume that each match is fully independent, i.e., team form is ignored.\n",
    "\n",
    "The p-value and the result of the test must be stored in a dictionary called `result_dict` in the form:\n",
    "\n",
    "```python\n",
    "result_dict = {\"p_val\": p_val, \"result\": result}\n",
    "```\n",
    "where `p_val` is the p-value and result is either the string \"fail to reject\" or \"reject\", depending on the result of the test."
   ]
  },
  {
   "cell_type": "code",
   "execution_count": 7,
   "id": "418b187a",
   "metadata": {},
   "outputs": [
    {
     "data": {
      "application/vnd.microsoft.datawrangler.viewer.v0+json": {
       "columns": [
        {
         "name": "index",
         "rawType": "int64",
         "type": "integer"
        },
        {
         "name": "date",
         "rawType": "datetime64[ns]",
         "type": "datetime"
        },
        {
         "name": "home_team",
         "rawType": "object",
         "type": "string"
        },
        {
         "name": "away_team",
         "rawType": "object",
         "type": "string"
        },
        {
         "name": "home_score",
         "rawType": "int64",
         "type": "integer"
        },
        {
         "name": "away_score",
         "rawType": "int64",
         "type": "integer"
        },
        {
         "name": "tournament",
         "rawType": "object",
         "type": "string"
        }
       ],
       "ref": "266e3e98-8605-4c4c-90d7-6d46af4071b5",
       "rows": [
        [
         "0",
         "1872-11-30 00:00:00",
         "Scotland",
         "England",
         "0",
         "0",
         "Friendly"
        ],
        [
         "1",
         "1873-03-08 00:00:00",
         "England",
         "Scotland",
         "4",
         "2",
         "Friendly"
        ],
        [
         "2",
         "1874-03-07 00:00:00",
         "Scotland",
         "England",
         "2",
         "1",
         "Friendly"
        ],
        [
         "3",
         "1875-03-06 00:00:00",
         "England",
         "Scotland",
         "2",
         "2",
         "Friendly"
        ],
        [
         "4",
         "1876-03-04 00:00:00",
         "Scotland",
         "England",
         "3",
         "0",
         "Friendly"
        ]
       ],
       "shape": {
        "columns": 6,
        "rows": 5
       }
      },
      "text/html": [
       "<div>\n",
       "<style scoped>\n",
       "    .dataframe tbody tr th:only-of-type {\n",
       "        vertical-align: middle;\n",
       "    }\n",
       "\n",
       "    .dataframe tbody tr th {\n",
       "        vertical-align: top;\n",
       "    }\n",
       "\n",
       "    .dataframe thead th {\n",
       "        text-align: right;\n",
       "    }\n",
       "</style>\n",
       "<table border=\"1\" class=\"dataframe\">\n",
       "  <thead>\n",
       "    <tr style=\"text-align: right;\">\n",
       "      <th></th>\n",
       "      <th>date</th>\n",
       "      <th>home_team</th>\n",
       "      <th>away_team</th>\n",
       "      <th>home_score</th>\n",
       "      <th>away_score</th>\n",
       "      <th>tournament</th>\n",
       "    </tr>\n",
       "  </thead>\n",
       "  <tbody>\n",
       "    <tr>\n",
       "      <th>0</th>\n",
       "      <td>1872-11-30</td>\n",
       "      <td>Scotland</td>\n",
       "      <td>England</td>\n",
       "      <td>0</td>\n",
       "      <td>0</td>\n",
       "      <td>Friendly</td>\n",
       "    </tr>\n",
       "    <tr>\n",
       "      <th>1</th>\n",
       "      <td>1873-03-08</td>\n",
       "      <td>England</td>\n",
       "      <td>Scotland</td>\n",
       "      <td>4</td>\n",
       "      <td>2</td>\n",
       "      <td>Friendly</td>\n",
       "    </tr>\n",
       "    <tr>\n",
       "      <th>2</th>\n",
       "      <td>1874-03-07</td>\n",
       "      <td>Scotland</td>\n",
       "      <td>England</td>\n",
       "      <td>2</td>\n",
       "      <td>1</td>\n",
       "      <td>Friendly</td>\n",
       "    </tr>\n",
       "    <tr>\n",
       "      <th>3</th>\n",
       "      <td>1875-03-06</td>\n",
       "      <td>England</td>\n",
       "      <td>Scotland</td>\n",
       "      <td>2</td>\n",
       "      <td>2</td>\n",
       "      <td>Friendly</td>\n",
       "    </tr>\n",
       "    <tr>\n",
       "      <th>4</th>\n",
       "      <td>1876-03-04</td>\n",
       "      <td>Scotland</td>\n",
       "      <td>England</td>\n",
       "      <td>3</td>\n",
       "      <td>0</td>\n",
       "      <td>Friendly</td>\n",
       "    </tr>\n",
       "  </tbody>\n",
       "</table>\n",
       "</div>"
      ],
      "text/plain": [
       "        date home_team away_team  home_score  away_score tournament\n",
       "0 1872-11-30  Scotland   England           0           0   Friendly\n",
       "1 1873-03-08   England  Scotland           4           2   Friendly\n",
       "2 1874-03-07  Scotland   England           2           1   Friendly\n",
       "3 1875-03-06   England  Scotland           2           2   Friendly\n",
       "4 1876-03-04  Scotland   England           3           0   Friendly"
      ]
     },
     "execution_count": 7,
     "metadata": {},
     "output_type": "execute_result"
    }
   ],
   "source": [
    "url = \"https://raw.githubusercontent.com/jhlopesalves/data-science-practice-notebook/refs/heads/main/Python/projects/hypothesis_test_football_matches/data/men_results.csv\"\n",
    "men_results = pd.read_csv(\n",
    "    url,\n",
    "    usecols=lambda col: not col.startswith(\"Unnamed\"),\n",
    "    parse_dates=[\"date\"],\n",
    ")\n",
    "men_results.head()"
   ]
  },
  {
   "cell_type": "code",
   "execution_count": 8,
   "id": "af563e26",
   "metadata": {},
   "outputs": [
    {
     "data": {
      "application/vnd.microsoft.datawrangler.viewer.v0+json": {
       "columns": [
        {
         "name": "index",
         "rawType": "int64",
         "type": "integer"
        },
        {
         "name": "date",
         "rawType": "datetime64[ns]",
         "type": "datetime"
        },
        {
         "name": "home_team",
         "rawType": "object",
         "type": "string"
        },
        {
         "name": "away_team",
         "rawType": "object",
         "type": "string"
        },
        {
         "name": "home_score",
         "rawType": "int64",
         "type": "integer"
        },
        {
         "name": "away_score",
         "rawType": "int64",
         "type": "integer"
        },
        {
         "name": "tournament",
         "rawType": "object",
         "type": "string"
        }
       ],
       "ref": "ed476517-6f69-443e-9e6e-7e50c5281807",
       "rows": [
        [
         "0",
         "1969-11-01 00:00:00",
         "Italy",
         "France",
         "1",
         "0",
         "Euro"
        ],
        [
         "1",
         "1969-11-01 00:00:00",
         "Denmark",
         "England",
         "4",
         "3",
         "Euro"
        ],
        [
         "2",
         "1969-11-02 00:00:00",
         "England",
         "France",
         "2",
         "0",
         "Euro"
        ],
        [
         "3",
         "1969-11-02 00:00:00",
         "Italy",
         "Denmark",
         "3",
         "1",
         "Euro"
        ],
        [
         "4",
         "1975-08-25 00:00:00",
         "Thailand",
         "Australia",
         "3",
         "2",
         "AFC Championship"
        ]
       ],
       "shape": {
        "columns": 6,
        "rows": 5
       }
      },
      "text/html": [
       "<div>\n",
       "<style scoped>\n",
       "    .dataframe tbody tr th:only-of-type {\n",
       "        vertical-align: middle;\n",
       "    }\n",
       "\n",
       "    .dataframe tbody tr th {\n",
       "        vertical-align: top;\n",
       "    }\n",
       "\n",
       "    .dataframe thead th {\n",
       "        text-align: right;\n",
       "    }\n",
       "</style>\n",
       "<table border=\"1\" class=\"dataframe\">\n",
       "  <thead>\n",
       "    <tr style=\"text-align: right;\">\n",
       "      <th></th>\n",
       "      <th>date</th>\n",
       "      <th>home_team</th>\n",
       "      <th>away_team</th>\n",
       "      <th>home_score</th>\n",
       "      <th>away_score</th>\n",
       "      <th>tournament</th>\n",
       "    </tr>\n",
       "  </thead>\n",
       "  <tbody>\n",
       "    <tr>\n",
       "      <th>0</th>\n",
       "      <td>1969-11-01</td>\n",
       "      <td>Italy</td>\n",
       "      <td>France</td>\n",
       "      <td>1</td>\n",
       "      <td>0</td>\n",
       "      <td>Euro</td>\n",
       "    </tr>\n",
       "    <tr>\n",
       "      <th>1</th>\n",
       "      <td>1969-11-01</td>\n",
       "      <td>Denmark</td>\n",
       "      <td>England</td>\n",
       "      <td>4</td>\n",
       "      <td>3</td>\n",
       "      <td>Euro</td>\n",
       "    </tr>\n",
       "    <tr>\n",
       "      <th>2</th>\n",
       "      <td>1969-11-02</td>\n",
       "      <td>England</td>\n",
       "      <td>France</td>\n",
       "      <td>2</td>\n",
       "      <td>0</td>\n",
       "      <td>Euro</td>\n",
       "    </tr>\n",
       "    <tr>\n",
       "      <th>3</th>\n",
       "      <td>1969-11-02</td>\n",
       "      <td>Italy</td>\n",
       "      <td>Denmark</td>\n",
       "      <td>3</td>\n",
       "      <td>1</td>\n",
       "      <td>Euro</td>\n",
       "    </tr>\n",
       "    <tr>\n",
       "      <th>4</th>\n",
       "      <td>1975-08-25</td>\n",
       "      <td>Thailand</td>\n",
       "      <td>Australia</td>\n",
       "      <td>3</td>\n",
       "      <td>2</td>\n",
       "      <td>AFC Championship</td>\n",
       "    </tr>\n",
       "  </tbody>\n",
       "</table>\n",
       "</div>"
      ],
      "text/plain": [
       "        date home_team  away_team  home_score  away_score        tournament\n",
       "0 1969-11-01     Italy     France           1           0              Euro\n",
       "1 1969-11-01   Denmark    England           4           3              Euro\n",
       "2 1969-11-02   England     France           2           0              Euro\n",
       "3 1969-11-02     Italy    Denmark           3           1              Euro\n",
       "4 1975-08-25  Thailand  Australia           3           2  AFC Championship"
      ]
     },
     "execution_count": 8,
     "metadata": {},
     "output_type": "execute_result"
    }
   ],
   "source": [
    "url = \"https://raw.githubusercontent.com/jhlopesalves/data-science-practice-notebook/refs/heads/main/Python/projects/hypothesis_test_football_matches/data/women_results.csv\"\n",
    "women_results = pd.read_csv(\n",
    "    url,\n",
    "    usecols=lambda col: not col.startswith(\"Unnamed\"),\n",
    "    parse_dates=[\"date\"],\n",
    ")\n",
    "women_results.head()"
   ]
  },
  {
   "cell_type": "code",
   "execution_count": null,
   "id": "f246668d",
   "metadata": {},
   "outputs": [],
   "source": [
    "men_2002 = men_results[men_results[\"date\"] >= \"2002-01-01\"]\n",
    "women_2002 = women_results[women_results[\"date\"] >= \"2002-01-01\"]"
   ]
  },
  {
   "cell_type": "code",
   "execution_count": 20,
   "id": "38d7f7c9",
   "metadata": {},
   "outputs": [
    {
     "data": {
      "text/plain": [
       "((384,), (200,))"
      ]
     },
     "execution_count": 20,
     "metadata": {},
     "output_type": "execute_result"
    }
   ],
   "source": [
    "# avoid SettingWithCopyWarning by working on explicit copies\n",
    "men_2002 = men_2002.copy()\n",
    "women_2002 = women_2002.copy()\n",
    "\n",
    "men_2002[\"total_score\"] = men_2002[\"home_score\"] + men_2002[\"away_score\"]\n",
    "women_2002[\"total_score\"] = women_2002[\"home_score\"] + women_2002[\"away_score\"]\n",
    "\n",
    "# restrict to official FIFA World Cup matches\n",
    "men_wc = men_2002[men_2002[\"tournament\"] == \"FIFA World Cup\"]\n",
    "women_wc = women_2002[women_2002[\"tournament\"] == \"FIFA World Cup\"]\n",
    "\n",
    "# convenience series for the hypothesis test\n",
    "men_scores = men_wc[\"total_score\"]\n",
    "women_scores = women_wc[\"total_score\"]\n",
    "\n",
    "men_scores.shape, women_scores.shape"
   ]
  },
  {
   "cell_type": "code",
   "execution_count": 24,
   "id": "160d08d6",
   "metadata": {},
   "outputs": [
    {
     "data": {
      "application/vnd.microsoft.datawrangler.viewer.v0+json": {
       "columns": [
        {
         "name": "index",
         "rawType": "object",
         "type": "string"
        },
        {
         "name": "0",
         "rawType": "object",
         "type": "unknown"
        }
       ],
       "ref": "26496e33-052f-4b8a-80f8-a990a1a05710",
       "rows": [
        [
         "p_val",
         "0.0051961448009743005"
        ],
        [
         "result",
         "reject"
        ]
       ],
       "shape": {
        "columns": 1,
        "rows": 2
       }
      },
      "text/plain": [
       "{'p_val': np.float64(0.0051961448009743005), 'result': 'reject'}"
      ]
     },
     "metadata": {},
     "output_type": "display_data"
    }
   ],
   "source": [
    "from scipy import stats\n",
    "\n",
    "# compute descriptive stats\n",
    "men_mean = men_scores.mean()\n",
    "men_std = men_scores.std(ddof=1)\n",
    "\n",
    "women_mean = women_scores.mean()\n",
    "women_std = women_scores.std(ddof=1)\n",
    "\n",
    "# two-sample Welch t-test (two-sided): H0 = no difference in means\n",
    "t_stat, p_val = stats.ttest_ind(\n",
    "    women_scores, men_scores, equal_var=False, nan_policy=\"omit\"\n",
    ")\n",
    "\n",
    "alpha = 0.1\n",
    "result = \"reject\" if p_val < alpha else \"fail to reject\"\n",
    "\n",
    "result_dict = {\"p_val\": p_val, \"result\": result}\n",
    "display(result_dict)"
   ]
  }
 ],
 "metadata": {
  "colab": {
   "name": "Welcome to DataCamp Workspaces.ipynb",
   "provenance": []
  },
  "kernelspec": {
   "display_name": "datacamp",
   "language": "python",
   "name": "python3"
  },
  "language_info": {
   "codemirror_mode": {
    "name": "ipython",
    "version": 3
   },
   "file_extension": ".py",
   "mimetype": "text/x-python",
   "name": "python",
   "nbconvert_exporter": "python",
   "pygments_lexer": "ipython3",
   "version": "3.12.11"
  }
 },
 "nbformat": 4,
 "nbformat_minor": 5
}
