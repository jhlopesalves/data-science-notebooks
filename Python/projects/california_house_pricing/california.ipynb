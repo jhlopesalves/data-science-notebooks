{
  "cells": [
    {
      "cell_type": "markdown",
      "id": "c967683a",
      "metadata": {
        "colab_type": "text",
        "id": "view-in-github"
      },
      "source": [
        "<a href=\"https://colab.research.google.com/github/jhlopesalves/data-science-notebooks/blob/main/Python/projects/california_house_pricing/california.ipynb\" target=\"_parent\"><img src=\"https://colab.research.google.com/assets/colab-badge.svg\" alt=\"Open In Colab\"/></a>"
      ]
    },
    {
      "cell_type": "markdown",
      "id": "3a3f0022",
      "metadata": {
        "id": "3a3f0022"
      },
      "source": [
        "# California Housing Prices: A Regression Analysis\n",
        "\n",
        "![california_housing](https://github.com/jhlopesalves/data-science-notebooks/blob/main/Python/projects/california_house_pricing/data/california_housing.jpg?raw=true)\n",
        "\n",
        "This notebook documents the process of building a machine learning model to predict median house values in California districts. The analysis uses the California Housing dataset, which is based on data from the 1990 census. The primary objective is to explore the data, engineer meaningful features, and ultimately create a regression model that can accurately estimate house prices based on demographic and geographic attributes.\n",
        "\n",
        "Each row in the dataset corresponds to a **block group**, which is the smallest geographical unit for which the U.S. Census Bureau publishes sample data.\n",
        "\n",
        "## Dataset Description\n",
        "\n",
        "| Variable | Definition |\n",
        "| :--- | :--- |\n",
        "| `MedInc` | Median income for households in the block group (in tens of thousands of US Dollars). |\n",
        "| `HouseAge` | Median age of a house within the block group. |\n",
        "| `AveRooms` | The average number of rooms per household. |\n",
        "| `AveBedrms` | The average number of bedrooms per household. |\n",
        "| `Population`| The total population within the block group. |\n",
        "| `AveOccup` | The average household occupancy (number of members). |\n",
        "| `Latitude` | The latitude of the block group's centroid. |\n",
        "| `Longitude`| The longitude of the block group's centroid. |\n",
        "| `target` | **Target Variable:** The median house value (in hundreds of thousands of US Dollars). |\n",
        "\n",
        "## Notebook Workflow\n",
        "This analysis is structured into several key stages:\n",
        "1.  **Exploratory Data Analysis (EDA):** Initial investigation of the data to understand its structure, identify correlations, and visualise the spatial distribution of house prices.\n",
        "2.  **Feature Engineering:** Creation of new, informative features. This notebook focuses heavily on creating a robust geographical feature (`Region_cv`) using K-means clustering, ensuring its creation is free from data leakage by nesting the process within a cross-validation framework.\n",
        "3.  **Data Preprocessing:** Preparing the data for machine learning models, which includes handling missing values and scaling numerical features.\n",
        "4.  **Model Building and Evaluation:** Training various regression models and evaluating their performance using appropriate metrics and cross-validation strategies to select the best-performing model."
      ]
    },
    {
      "cell_type": "code",
      "execution_count": null,
      "id": "a1cb8a01",
      "metadata": {
        "id": "a1cb8a01",
        "outputId": "525c0499-37f1-4db2-da5a-3ceff630b64e"
      },
      "outputs": [],
      "source": [
        "import matplotlib.pyplot as plt\n",
        "import numpy as np\n",
        "import pandas as pd\n",
        "import plotly.express as px\n",
        "import seaborn as sns\n",
        "from sklearn.datasets import fetch_california_housing\n",
        "from sklearn.metrics import (\n",
        "    mean_absolute_error,\n",
        "    mean_absolute_percentage_error,\n",
        "    mean_squared_error,\n",
        "    r2_score,\n",
        "    root_mean_squared_error,\n",
        ")"
      ]
    },
    {
      "cell_type": "code",
      "execution_count": null,
      "id": "260be37d",
      "metadata": {
        "id": "260be37d"
      },
      "outputs": [
        {
          "data": {
            "application/vnd.microsoft.datawrangler.viewer.v0+json": {
              "columns": [
                {
                  "name": "index",
                  "rawType": "int64",
                  "type": "integer"
                },
                {
                  "name": "MedInc",
                  "rawType": "float64",
                  "type": "float"
                },
                {
                  "name": "HouseAge",
                  "rawType": "float64",
                  "type": "float"
                },
                {
                  "name": "AveRooms",
                  "rawType": "float64",
                  "type": "float"
                },
                {
                  "name": "AveBedrms",
                  "rawType": "float64",
                  "type": "float"
                },
                {
                  "name": "Population",
                  "rawType": "float64",
                  "type": "float"
                },
                {
                  "name": "AveOccup",
                  "rawType": "float64",
                  "type": "float"
                },
                {
                  "name": "Latitude",
                  "rawType": "float64",
                  "type": "float"
                },
                {
                  "name": "Longitude",
                  "rawType": "float64",
                  "type": "float"
                },
                {
                  "name": "target",
                  "rawType": "float64",
                  "type": "float"
                }
              ],
              "ref": "9518684e-25bd-45ae-b6b9-7a74578c00c1",
              "rows": [
                [
                  "0",
                  "8.3252",
                  "41.0",
                  "6.984126984126984",
                  "1.0238095238095237",
                  "322.0",
                  "2.5555555555555554",
                  "37.88",
                  "-122.23",
                  "4.526"
                ],
                [
                  "1",
                  "8.3014",
                  "21.0",
                  "6.238137082601054",
                  "0.9718804920913884",
                  "2401.0",
                  "2.109841827768014",
                  "37.86",
                  "-122.22",
                  "3.585"
                ],
                [
                  "2",
                  "7.2574",
                  "52.0",
                  "8.288135593220339",
                  "1.073446327683616",
                  "496.0",
                  "2.8022598870056497",
                  "37.85",
                  "-122.24",
                  "3.521"
                ],
                [
                  "3",
                  "5.6431",
                  "52.0",
                  "5.8173515981735155",
                  "1.0730593607305936",
                  "558.0",
                  "2.547945205479452",
                  "37.85",
                  "-122.25",
                  "3.413"
                ],
                [
                  "4",
                  "3.8462",
                  "52.0",
                  "6.281853281853282",
                  "1.0810810810810811",
                  "565.0",
                  "2.1814671814671813",
                  "37.85",
                  "-122.25",
                  "3.422"
                ]
              ],
              "shape": {
                "columns": 9,
                "rows": 5
              }
            },
            "text/html": [
              "<div>\n",
              "<style scoped>\n",
              "    .dataframe tbody tr th:only-of-type {\n",
              "        vertical-align: middle;\n",
              "    }\n",
              "\n",
              "    .dataframe tbody tr th {\n",
              "        vertical-align: top;\n",
              "    }\n",
              "\n",
              "    .dataframe thead th {\n",
              "        text-align: right;\n",
              "    }\n",
              "</style>\n",
              "<table border=\"1\" class=\"dataframe\">\n",
              "  <thead>\n",
              "    <tr style=\"text-align: right;\">\n",
              "      <th></th>\n",
              "      <th>MedInc</th>\n",
              "      <th>HouseAge</th>\n",
              "      <th>AveRooms</th>\n",
              "      <th>AveBedrms</th>\n",
              "      <th>Population</th>\n",
              "      <th>AveOccup</th>\n",
              "      <th>Latitude</th>\n",
              "      <th>Longitude</th>\n",
              "      <th>target</th>\n",
              "    </tr>\n",
              "  </thead>\n",
              "  <tbody>\n",
              "    <tr>\n",
              "      <th>0</th>\n",
              "      <td>8.3252</td>\n",
              "      <td>41.0</td>\n",
              "      <td>6.984127</td>\n",
              "      <td>1.023810</td>\n",
              "      <td>322.0</td>\n",
              "      <td>2.555556</td>\n",
              "      <td>37.88</td>\n",
              "      <td>-122.23</td>\n",
              "      <td>4.526</td>\n",
              "    </tr>\n",
              "    <tr>\n",
              "      <th>1</th>\n",
              "      <td>8.3014</td>\n",
              "      <td>21.0</td>\n",
              "      <td>6.238137</td>\n",
              "      <td>0.971880</td>\n",
              "      <td>2401.0</td>\n",
              "      <td>2.109842</td>\n",
              "      <td>37.86</td>\n",
              "      <td>-122.22</td>\n",
              "      <td>3.585</td>\n",
              "    </tr>\n",
              "    <tr>\n",
              "      <th>2</th>\n",
              "      <td>7.2574</td>\n",
              "      <td>52.0</td>\n",
              "      <td>8.288136</td>\n",
              "      <td>1.073446</td>\n",
              "      <td>496.0</td>\n",
              "      <td>2.802260</td>\n",
              "      <td>37.85</td>\n",
              "      <td>-122.24</td>\n",
              "      <td>3.521</td>\n",
              "    </tr>\n",
              "    <tr>\n",
              "      <th>3</th>\n",
              "      <td>5.6431</td>\n",
              "      <td>52.0</td>\n",
              "      <td>5.817352</td>\n",
              "      <td>1.073059</td>\n",
              "      <td>558.0</td>\n",
              "      <td>2.547945</td>\n",
              "      <td>37.85</td>\n",
              "      <td>-122.25</td>\n",
              "      <td>3.413</td>\n",
              "    </tr>\n",
              "    <tr>\n",
              "      <th>4</th>\n",
              "      <td>3.8462</td>\n",
              "      <td>52.0</td>\n",
              "      <td>6.281853</td>\n",
              "      <td>1.081081</td>\n",
              "      <td>565.0</td>\n",
              "      <td>2.181467</td>\n",
              "      <td>37.85</td>\n",
              "      <td>-122.25</td>\n",
              "      <td>3.422</td>\n",
              "    </tr>\n",
              "  </tbody>\n",
              "</table>\n",
              "</div>"
            ],
            "text/plain": [
              "   MedInc  HouseAge  AveRooms  AveBedrms  Population  AveOccup  Latitude  \\\n",
              "0  8.3252      41.0  6.984127   1.023810       322.0  2.555556     37.88   \n",
              "1  8.3014      21.0  6.238137   0.971880      2401.0  2.109842     37.86   \n",
              "2  7.2574      52.0  8.288136   1.073446       496.0  2.802260     37.85   \n",
              "3  5.6431      52.0  5.817352   1.073059       558.0  2.547945     37.85   \n",
              "4  3.8462      52.0  6.281853   1.081081       565.0  2.181467     37.85   \n",
              "\n",
              "   Longitude  target  \n",
              "0    -122.23   4.526  \n",
              "1    -122.22   3.585  \n",
              "2    -122.24   3.521  \n",
              "3    -122.25   3.413  \n",
              "4    -122.25   3.422  "
            ]
          },
          "execution_count": 83,
          "metadata": {},
          "output_type": "execute_result"
        }
      ],
      "source": [
        "# Load data\n",
        "housing = fetch_california_housing(as_frame=True)\n",
        "housing_df = pd.DataFrame(data=housing.data, columns=housing.feature_names)\n",
        "housing_df[\"target\"] = housing.target\n",
        "housing_df.head()"
      ]
    },
    {
      "cell_type": "markdown",
      "id": "efbf5c1b",
      "metadata": {
        "id": "efbf5c1b"
      },
      "source": [
        "## Exploratory plot: spatial pattern of prices\n",
        "\n",
        "This plot provides an initial exploration of how median house values are distributed geographically. Each point represents a location, and its colour indicates the house price, allowing for a quick visual assessment of spatial patterns.\n",
        "\n",
        "### Representing Geographic Data\n",
        "The visualisation plots longitude against latitude directly onto a two-dimensional grid. This technique, known as an equirectangular projection, is a straightforward way to map spherical coordinates (P(ϕ,λ)) to a Cartesian plane ((x,y)).\n",
        "\n",
        "While simple, this method does not preserve true distances or areas. For a limited region like California, the visual distortion is minimal, making it suitable for this kind of exploratory analysis. However, for precise cartographic work, a library like geopandas would be necessary to apply a more appropriate projection that accurately reflects the geography."
      ]
    },
    {
      "cell_type": "code",
      "execution_count": null,
      "id": "62758fa8",
      "metadata": {
        "id": "62758fa8",
        "outputId": "8ef61410-7e04-4e0b-8b7d-85033e5ec9e2"
      },
      "outputs": [
        {
          "data": {
            "image/png": "[encoded data removed]",
            "text/plain": [
              "<Figure size 558.875x500 with 1 Axes>"
            ]
          },
          "metadata": {},
          "output_type": "display_data"
        }
      ],
      "source": [
        "g = sns.relplot(\n",
        "    x=\"Longitude\",\n",
        "    y=\"Latitude\",\n",
        "    hue=\"target\",\n",
        "    data=housing_df,\n",
        "    kind=\"scatter\",\n",
        "    palette=\"viridis\",\n",
        ")\n",
        "g.fig.suptitle(\n",
        "    \"Median House Value by Location in California\", y=1.03\n",
        ")  # Add title to the FacetGrid\n",
        "g.set_axis_labels(\"Longitude\", \"Latitude\")\n",
        "for ax in g.axes.flat:\n",
        "    ax.grid(True, alpha=0.6, linewidth=0.6, color=\"grey\")\n",
        "g.fig.subplots_adjust(top=0.95)  # Adjust layout to prevent title overlap\n",
        "plt.show()"
      ]
    },
    {
      "cell_type": "markdown",
      "id": "125ecff9",
      "metadata": {
        "id": "125ecff9"
      },
      "source": [
        "### Preparing Geographic Features for Clustering\n",
        "\n",
        "Latitude and longitude need a small correction before clustering:\n",
        "\n",
        "1. **Cosine correction** – Longitude distances shrink as you move away from the equator.  \n",
        "   We scale longitude by `cos(mean latitude)` so that distances are more realistic in California’s region.\n",
        "\n",
        "2. **Standardisation** – K-Means is based on Euclidean distances, so features must be on comparable scales.  \n",
        "   We use `StandardScaler` to normalise latitude and adjusted longitude to zero mean and unit variance.\n",
        "\n",
        "The result is `coords_scaled`, a 2D array suitable for applying K-Means clustering.\n"
      ]
    },
    {
      "cell_type": "code",
      "execution_count": null,
      "id": "8ac9eb4b",
      "metadata": {
        "id": "8ac9eb4b"
      },
      "outputs": [],
      "source": [
        "from sklearn.preprocessing import StandardScaler\n",
        "\n",
        "# Cosine correction for longitude at the dataset's mean latitude\n",
        "mean_latitude = housing_df[\"Latitude\"].mean()\n",
        "longitude_scale = np.cos(np.deg2rad(mean_latitude))\n",
        "\n",
        "# Copy lat/lon and apply the correction, then standardise for Euclidean K-means\n",
        "coords = housing_df[[\"Latitude\", \"Longitude\"]].copy()\n",
        "coords[\"Longitude\"] = coords[\"Longitude\"] * longitude_scale\n",
        "\n",
        "scaler = StandardScaler()\n",
        "coords_scaled = scaler.fit_transform(coords.values)"
      ]
    },
    {
      "cell_type": "markdown",
      "id": "3db02b23",
      "metadata": {
        "id": "3db02b23"
      },
      "source": [
        "### Choosing the Number of Clusters with the Silhouette Score\n",
        "\n",
        "K-Means requires us to predefine the number of clusters `k`.  \n",
        "To guide this choice, we evaluate models with `k` ranging from 3 to 9.\n",
        "\n",
        "- **Silhouette score** measures how well each point fits within its cluster compared to other clusters.  \n",
        "  - Values close to **1** mean points are well matched to their cluster.  \n",
        "  - Values near **0** indicate overlapping clusters.  \n",
        "  - Negative values suggest poor assignment.\n",
        "\n",
        "We record the silhouette score for each candidate `k` to identify the most coherent clustering structure.\n"
      ]
    },
    {
      "cell_type": "code",
      "execution_count": null,
      "id": "4dcf2b46",
      "metadata": {
        "id": "4dcf2b46",
        "outputId": "08d00bf9-3b1b-4fc6-d9b8-9b207ff207a6"
      },
      "outputs": [
        {
          "data": {
            "application/vnd.microsoft.datawrangler.viewer.v0+json": {
              "columns": [
                {
                  "name": "index",
                  "rawType": "int64",
                  "type": "integer"
                },
                {
                  "name": "0",
                  "rawType": "float64",
                  "type": "float"
                }
              ],
              "ref": "b021e866-770f-4fc6-bc49-dd905fda5f96",
              "rows": [
                [
                  "3",
                  "0.6466777410810406"
                ],
                [
                  "4",
                  "0.6073512184677257"
                ],
                [
                  "5",
                  "0.5818378691628111"
                ],
                [
                  "6",
                  "0.5695294679006102"
                ],
                [
                  "7",
                  "0.5720925035131836"
                ],
                [
                  "8",
                  "0.5277806614950171"
                ],
                [
                  "9",
                  "0.49734927483895147"
                ]
              ],
              "shape": {
                "columns": 1,
                "rows": 7
              }
            },
            "text/plain": [
              "{3: 0.6466777410810406,\n",
              " 4: 0.6073512184677257,\n",
              " 5: 0.5818378691628111,\n",
              " 6: 0.5695294679006102,\n",
              " 7: 0.5720925035131836,\n",
              " 8: 0.5277806614950171,\n",
              " 9: 0.49734927483895147}"
            ]
          },
          "execution_count": 86,
          "metadata": {},
          "output_type": "execute_result"
        }
      ],
      "source": [
        "from sklearn.cluster import KMeans\n",
        "from sklearn.metrics import silhouette_score\n",
        "\n",
        "scores = {}\n",
        "for k in range(3, 10):\n",
        "    km = KMeans(n_clusters=k, n_init=50, random_state=42)\n",
        "    labels = km.fit_predict(coords_scaled)\n",
        "    scores[k] = silhouette_score(coords_scaled, labels)\n",
        "\n",
        "scores"
      ]
    },
    {
      "cell_type": "markdown",
      "id": "c0bbd496",
      "metadata": {
        "id": "c0bbd496"
      },
      "source": [
        "### Out-of-Fold Clustering Features (Leakage-Safe)\n",
        "\n",
        "To avoid information leakage, we generate cluster-based features using **out-of-fold (OOF) K-Means**:\n",
        "\n",
        "- We fix `k = 4` clusters (chosen from silhouette analysis).\n",
        "- Data is split into 5 folds with `KFold`.\n",
        "- For each fold:\n",
        "  - K-Means is fitted only on the **training portion**.\n",
        "  - Cluster labels and distances are predicted for the **validation portion**.\n",
        "- This ensures that each row receives cluster features from a model that never saw it during training.\n",
        "\n",
        "The output:\n",
        "- `Region_cv`: categorical cluster label per row.  \n",
        "- `RegionDist_cv_*`: numeric distance to each centroid, providing richer spatial information.\n",
        "\n",
        "This method prevents leakage and produces clustering features that can safely be used in cross-validation workflows.\n"
      ]
    },
    {
      "cell_type": "code",
      "execution_count": null,
      "id": "7087f85a",
      "metadata": {
        "id": "7087f85a"
      },
      "outputs": [],
      "source": [
        "from sklearn.cluster import KMeans\n",
        "from sklearn.model_selection import KFold\n",
        "\n",
        "k = 4  # set from Cell 2\n",
        "n = coords_scaled.shape[0]\n",
        "\n",
        "# Preallocate out-of-fold containers\n",
        "oof_labels = np.full(n, -1, dtype=int)\n",
        "oof_dists = np.zeros((n, k), dtype=float)\n",
        "\n",
        "kf = KFold(n_splits=5, shuffle=True, random_state=42)\n",
        "\n",
        "for train_idx, valid_idx in kf.split(coords_scaled):\n",
        "    km = KMeans(n_clusters=k, n_init=50, random_state=42)\n",
        "    km.fit(coords_scaled[train_idx])  # fit only on the training fold\n",
        "    oof_labels[valid_idx] = km.predict(\n",
        "        coords_scaled[valid_idx]\n",
        "    )  # fill VALIDATION rows ONLY\n",
        "    oof_dists[valid_idx] = km.transform(\n",
        "        coords_scaled[valid_idx]\n",
        "    )  # distances for VALIDATION rows\n",
        "\n",
        "# Safety checks: every row must have been validation exactly once\n",
        "assert (oof_labels != -1).all(), \"Some rows were never assigned.\"\n",
        "assert np.isfinite(oof_dists).all(), \"Distances contain non-finite values.\"\n",
        "\n",
        "# Attach features\n",
        "housing_df[\"Region_cv\"] = pd.Categorical(oof_labels)\n",
        "for cluster_id in range(k):\n",
        "    housing_df[f\"RegionDist_cv_{cluster_id}\"] = oof_dists[:, cluster_id]"
      ]
    },
    {
      "cell_type": "markdown",
      "id": "7475926f",
      "metadata": {
        "id": "7475926f"
      },
      "source": [
        "### Visualising Geographic Clusters\n",
        "\n",
        "To better understand the K-Means clustering, we plot each housing block by its **latitude and longitude**:\n",
        "\n",
        "- Points are coloured by their assigned `Region_cv` cluster.  \n",
        "- The `viridis` palette ensures clusters are visually distinct yet perceptually uniform.  \n",
        "- Adding grid lines helps align cluster boundaries with geographic positions.\n",
        "\n",
        "This plot reveals whether clusters correspond to meaningful **geographic regions** in California, such as coastal vs inland areas or northern vs southern regions.\n"
      ]
    },
    {
      "cell_type": "code",
      "execution_count": null,
      "id": "e915b813",
      "metadata": {
        "id": "e915b813",
        "outputId": "f4965b7c-ed86-4434-da29-9af66820e459"
      },
      "outputs": [
        {
          "data": {
            "image/png": "[encoded data removed]",
            "text/plain": [
              "<Figure size 581.486x500 with 1 Axes>"
            ]
          },
          "metadata": {},
          "output_type": "display_data"
        }
      ],
      "source": [
        "g_cluster = sns.relplot(\n",
        "    x=\"Longitude\",\n",
        "    y=\"Latitude\",\n",
        "    hue=\"Region_cv\",\n",
        "    data=housing_df,\n",
        "    kind=\"scatter\",\n",
        "    palette=\"viridis\",\n",
        "    s=50,\n",
        ")\n",
        "g_cluster.fig.suptitle(\"K-Means Clustering by Location in California\", y=1.03)\n",
        "g_cluster.set_axis_labels(\"Longitude\", \"Latitude\")\n",
        "g_cluster.fig.subplots_adjust(top=0.95)\n",
        "\n",
        "for ax in g_cluster.axes.flat:\n",
        "    ax.grid(True, alpha=0.6, linewidth=0.6, color=\"grey\")\n",
        "\n",
        "plt.tight_layout()\n",
        "plt.show()"
      ]
    },
    {
      "cell_type": "markdown",
      "id": "2c0a6bef",
      "metadata": {
        "id": "2c0a6bef"
      },
      "source": [
        "## Define a clean modelling table\n",
        "\n",
        "We select the columns used for modelling and keep a predictable order:\n",
        "\n",
        "- Socio-economic and dwelling features: `MedInc`, `HouseAge`, `AveRooms`, `AveBedrms`, `AveOccup`, `Population`.\n",
        "- Spatial signals: `Region_cv` (categorical macro-region), `Latitude`, `Longitude` (continuous fine detail).\n",
        "- Target: `target`.\n",
        "\n",
        "Rationale:\n",
        "- Keeping both fine-grained coordinates **and** a macro-region flag lets models learn broad baselines and local variation.\n",
        "- We will treat `Region_cv` as categorical in preprocessing. Coordinates remain floats.\n"
      ]
    },
    {
      "cell_type": "code",
      "execution_count": null,
      "id": "be5446b6",
      "metadata": {
        "id": "be5446b6",
        "outputId": "c544ba59-328a-4ac7-faf8-fa06efe50e7c"
      },
      "outputs": [
        {
          "data": {
            "application/vnd.microsoft.datawrangler.viewer.v0+json": {
              "columns": [
                {
                  "name": "index",
                  "rawType": "int64",
                  "type": "integer"
                },
                {
                  "name": "MedInc",
                  "rawType": "float64",
                  "type": "float"
                },
                {
                  "name": "HouseAge",
                  "rawType": "float64",
                  "type": "float"
                },
                {
                  "name": "AveRooms",
                  "rawType": "float64",
                  "type": "float"
                },
                {
                  "name": "AveBedrms",
                  "rawType": "float64",
                  "type": "float"
                },
                {
                  "name": "AveOccup",
                  "rawType": "float64",
                  "type": "float"
                },
                {
                  "name": "Population",
                  "rawType": "float64",
                  "type": "float"
                },
                {
                  "name": "Region_cv",
                  "rawType": "category",
                  "type": "unknown"
                },
                {
                  "name": "Latitude",
                  "rawType": "float64",
                  "type": "float"
                },
                {
                  "name": "Longitude",
                  "rawType": "float64",
                  "type": "float"
                },
                {
                  "name": "target",
                  "rawType": "float64",
                  "type": "float"
                }
              ],
              "ref": "9dd82a36-9538-4948-9465-3405d28ee53f",
              "rows": [
                [
                  "0",
                  "8.3252",
                  "41.0",
                  "6.984126984126984",
                  "1.0238095238095237",
                  "2.5555555555555554",
                  "322.0",
                  "1",
                  "37.88",
                  "-122.23",
                  "4.526"
                ],
                [
                  "1",
                  "8.3014",
                  "21.0",
                  "6.238137082601054",
                  "0.9718804920913884",
                  "2.109841827768014",
                  "2401.0",
                  "1",
                  "37.86",
                  "-122.22",
                  "3.585"
                ],
                [
                  "2",
                  "7.2574",
                  "52.0",
                  "8.288135593220339",
                  "1.073446327683616",
                  "2.8022598870056497",
                  "496.0",
                  "0",
                  "37.85",
                  "-122.24",
                  "3.521"
                ],
                [
                  "3",
                  "5.6431",
                  "52.0",
                  "5.8173515981735155",
                  "1.0730593607305936",
                  "2.547945205479452",
                  "558.0",
                  "1",
                  "37.85",
                  "-122.25",
                  "3.413"
                ],
                [
                  "4",
                  "3.8462",
                  "52.0",
                  "6.281853281853282",
                  "1.0810810810810811",
                  "2.1814671814671813",
                  "565.0",
                  "1",
                  "37.85",
                  "-122.25",
                  "3.422"
                ],
                [
                  "5",
                  "4.0368",
                  "52.0",
                  "4.761658031088083",
                  "1.1036269430051813",
                  "2.139896373056995",
                  "413.0",
                  "2",
                  "37.85",
                  "-122.25",
                  "2.697"
                ],
                [
                  "6",
                  "3.6591",
                  "52.0",
                  "4.9319066147859925",
                  "0.9513618677042801",
                  "2.1284046692607004",
                  "1094.0",
                  "1",
                  "37.84",
                  "-122.25",
                  "2.992"
                ],
                [
                  "7",
                  "3.12",
                  "52.0",
                  "4.797527047913447",
                  "1.061823802163833",
                  "1.7882534775888717",
                  "1157.0",
                  "0",
                  "37.84",
                  "-122.25",
                  "2.414"
                ],
                [
                  "8",
                  "2.0804",
                  "42.0",
                  "4.294117647058823",
                  "1.1176470588235294",
                  "2.026890756302521",
                  "1206.0",
                  "2",
                  "37.84",
                  "-122.26",
                  "2.267"
                ],
                [
                  "9",
                  "3.6912",
                  "52.0",
                  "4.970588235294118",
                  "0.9901960784313726",
                  "2.172268907563025",
                  "1551.0",
                  "0",
                  "37.84",
                  "-122.25",
                  "2.611"
                ],
                [
                  "10",
                  "3.2031",
                  "52.0",
                  "5.477611940298507",
                  "1.0796019900497513",
                  "2.263681592039801",
                  "910.0",
                  "0",
                  "37.85",
                  "-122.26",
                  "2.815"
                ],
                [
                  "11",
                  "3.2705",
                  "52.0",
                  "4.772479564032698",
                  "1.0245231607629428",
                  "2.0490463215258856",
                  "1504.0",
                  "0",
                  "37.85",
                  "-122.26",
                  "2.418"
                ],
                [
                  "12",
                  "3.075",
                  "52.0",
                  "5.322649572649572",
                  "1.0128205128205128",
                  "2.3461538461538463",
                  "1098.0",
                  "1",
                  "37.85",
                  "-122.26",
                  "2.135"
                ],
                [
                  "13",
                  "2.6736",
                  "52.0",
                  "4.0",
                  "1.0977011494252873",
                  "1.9827586206896552",
                  "345.0",
                  "0",
                  "37.84",
                  "-122.26",
                  "1.913"
                ],
                [
                  "14",
                  "1.9167",
                  "52.0",
                  "4.262903225806451",
                  "1.0096774193548388",
                  "1.9548387096774194",
                  "1212.0",
                  "2",
                  "37.85",
                  "-122.26",
                  "1.592"
                ],
                [
                  "15",
                  "2.125",
                  "50.0",
                  "4.242424242424242",
                  "1.071969696969697",
                  "2.640151515151515",
                  "697.0",
                  "0",
                  "37.85",
                  "-122.26",
                  "1.4"
                ],
                [
                  "16",
                  "2.775",
                  "52.0",
                  "5.9395770392749245",
                  "1.0483383685800605",
                  "2.395770392749245",
                  "793.0",
                  "0",
                  "37.85",
                  "-122.27",
                  "1.525"
                ],
                [
                  "17",
                  "2.1202",
                  "52.0",
                  "4.052805280528053",
                  "0.966996699669967",
                  "2.1386138613861387",
                  "648.0",
                  "1",
                  "37.85",
                  "-122.27",
                  "1.555"
                ],
                [
                  "18",
                  "1.9911",
                  "50.0",
                  "5.343675417661098",
                  "1.0859188544152745",
                  "2.3627684964200477",
                  "990.0",
                  "1",
                  "37.84",
                  "-122.26",
                  "1.587"
                ],
                [
                  "19",
                  "2.6033",
                  "52.0",
                  "5.465454545454546",
                  "1.0836363636363637",
                  "2.5090909090909093",
                  "690.0",
                  "1",
                  "37.84",
                  "-122.27",
                  "1.629"
                ],
                [
                  "20",
                  "1.3578",
                  "40.0",
                  "4.524096385542169",
                  "1.108433734939759",
                  "2.463855421686747",
                  "409.0",
                  "2",
                  "37.85",
                  "-122.27",
                  "1.475"
                ],
                [
                  "21",
                  "1.7135",
                  "42.0",
                  "4.478142076502732",
                  "1.0027322404371584",
                  "2.5382513661202184",
                  "929.0",
                  "0",
                  "37.85",
                  "-122.27",
                  "1.598"
                ],
                [
                  "22",
                  "1.725",
                  "52.0",
                  "5.096234309623431",
                  "1.1317991631799162",
                  "2.1234309623430963",
                  "1015.0",
                  "0",
                  "37.84",
                  "-122.27",
                  "1.139"
                ],
                [
                  "23",
                  "2.1806",
                  "52.0",
                  "5.193846153846154",
                  "1.0369230769230768",
                  "2.624615384615385",
                  "853.0",
                  "0",
                  "37.84",
                  "-122.27",
                  "0.997"
                ],
                [
                  "24",
                  "2.6",
                  "52.0",
                  "5.270142180094787",
                  "1.0355450236966826",
                  "2.3838862559241707",
                  "1006.0",
                  "0",
                  "37.84",
                  "-122.27",
                  "1.326"
                ],
                [
                  "25",
                  "2.4038",
                  "41.0",
                  "4.495798319327731",
                  "1.0336134453781514",
                  "2.6638655462184873",
                  "317.0",
                  "0",
                  "37.85",
                  "-122.28",
                  "1.075"
                ],
                [
                  "26",
                  "2.4597",
                  "49.0",
                  "4.7280334728033475",
                  "1.0209205020920502",
                  "2.5397489539748954",
                  "607.0",
                  "1",
                  "37.85",
                  "-122.28",
                  "0.938"
                ],
                [
                  "27",
                  "1.808",
                  "52.0",
                  "4.7808564231738035",
                  "1.0604534005037782",
                  "2.7758186397984885",
                  "1102.0",
                  "2",
                  "37.85",
                  "-122.28",
                  "1.055"
                ],
                [
                  "28",
                  "1.6424",
                  "50.0",
                  "4.40169133192389",
                  "1.040169133192389",
                  "2.3911205073995774",
                  "1131.0",
                  "1",
                  "37.84",
                  "-122.28",
                  "1.089"
                ],
                [
                  "29",
                  "1.6875",
                  "52.0",
                  "4.703225806451613",
                  "1.032258064516129",
                  "2.5483870967741935",
                  "395.0",
                  "2",
                  "37.84",
                  "-122.28",
                  "1.32"
                ],
                [
                  "30",
                  "1.9274",
                  "49.0",
                  "5.068783068783069",
                  "1.1825396825396826",
                  "2.2830687830687832",
                  "863.0",
                  "2",
                  "37.84",
                  "-122.28",
                  "1.223"
                ],
                [
                  "31",
                  "1.9615",
                  "52.0",
                  "4.882086167800454",
                  "1.090702947845805",
                  "2.6485260770975056",
                  "1168.0",
                  "1",
                  "37.84",
                  "-122.28",
                  "1.152"
                ],
                [
                  "32",
                  "1.7969",
                  "48.0",
                  "5.737313432835821",
                  "1.2208955223880598",
                  "3.062686567164179",
                  "1026.0",
                  "0",
                  "37.84",
                  "-122.27",
                  "1.104"
                ],
                [
                  "33",
                  "1.375",
                  "49.0",
                  "5.0303951367781155",
                  "1.1124620060790273",
                  "2.291793313069909",
                  "754.0",
                  "2",
                  "37.83",
                  "-122.27",
                  "1.049"
                ],
                [
                  "34",
                  "2.7303",
                  "51.0",
                  "4.972014925373134",
                  "1.0708955223880596",
                  "2.3470149253731343",
                  "1258.0",
                  "1",
                  "37.83",
                  "-122.27",
                  "1.097"
                ],
                [
                  "35",
                  "1.4861",
                  "49.0",
                  "4.6022727272727275",
                  "1.0681818181818181",
                  "2.159090909090909",
                  "570.0",
                  "1",
                  "37.83",
                  "-122.27",
                  "0.972"
                ],
                [
                  "36",
                  "1.0972",
                  "48.0",
                  "4.807486631016043",
                  "1.1550802139037433",
                  "2.6390374331550803",
                  "987.0",
                  "0",
                  "37.83",
                  "-122.27",
                  "1.045"
                ],
                [
                  "37",
                  "1.4103",
                  "52.0",
                  "3.7493796526054592",
                  "0.967741935483871",
                  "2.235732009925558",
                  "901.0",
                  "0",
                  "37.83",
                  "-122.28",
                  "1.039"
                ],
                [
                  "38",
                  "3.48",
                  "52.0",
                  "4.757281553398058",
                  "1.0679611650485437",
                  "2.2297734627831716",
                  "689.0",
                  "2",
                  "37.83",
                  "-122.26",
                  "1.914"
                ],
                [
                  "39",
                  "2.5898",
                  "52.0",
                  "3.4942528735632186",
                  "1.0272988505747127",
                  "1.978448275862069",
                  "1377.0",
                  "0",
                  "37.83",
                  "-122.26",
                  "1.76"
                ],
                [
                  "40",
                  "2.0978",
                  "52.0",
                  "4.215189873417722",
                  "1.0607594936708862",
                  "2.3949367088607594",
                  "946.0",
                  "0",
                  "37.83",
                  "-122.26",
                  "1.554"
                ],
                [
                  "41",
                  "1.2852",
                  "51.0",
                  "3.7590361445783134",
                  "1.248995983935743",
                  "2.076305220883534",
                  "517.0",
                  "1",
                  "37.83",
                  "-122.26",
                  "1.5"
                ],
                [
                  "42",
                  "1.025",
                  "49.0",
                  "3.7724867724867726",
                  "1.0687830687830688",
                  "2.4444444444444446",
                  "462.0",
                  "1",
                  "37.84",
                  "-122.26",
                  "1.188"
                ],
                [
                  "43",
                  "3.9643",
                  "52.0",
                  "4.797979797979798",
                  "1.02020202020202",
                  "2.3585858585858586",
                  "467.0",
                  "0",
                  "37.84",
                  "-122.26",
                  "1.888"
                ],
                [
                  "44",
                  "3.0125",
                  "52.0",
                  "4.941780821917808",
                  "1.0650684931506849",
                  "2.26027397260274",
                  "660.0",
                  "1",
                  "37.83",
                  "-122.26",
                  "1.844"
                ],
                [
                  "45",
                  "2.6768",
                  "52.0",
                  "4.335078534031414",
                  "1.0994764397905759",
                  "1.8795811518324608",
                  "718.0",
                  "0",
                  "37.83",
                  "-122.26",
                  "1.823"
                ],
                [
                  "46",
                  "2.026",
                  "50.0",
                  "3.700657894736842",
                  "1.0592105263157894",
                  "2.026315789473684",
                  "616.0",
                  "1",
                  "37.83",
                  "-122.26",
                  "1.425"
                ],
                [
                  "47",
                  "1.7348",
                  "43.0",
                  "3.9802371541501977",
                  "1.233201581027668",
                  "2.205533596837945",
                  "558.0",
                  "1",
                  "37.82",
                  "-122.27",
                  "1.375"
                ],
                [
                  "48",
                  "0.9506",
                  "40.0",
                  "3.9",
                  "1.21875",
                  "2.64375",
                  "423.0",
                  "1",
                  "37.82",
                  "-122.26",
                  "1.875"
                ],
                [
                  "49",
                  "1.775",
                  "40.0",
                  "2.6875",
                  "1.0653409090909092",
                  "1.9886363636363635",
                  "700.0",
                  "1",
                  "37.82",
                  "-122.27",
                  "1.125"
                ]
              ],
              "shape": {
                "columns": 10,
                "rows": 20640
              }
            },
            "text/html": [
              "<div>\n",
              "<style scoped>\n",
              "    .dataframe tbody tr th:only-of-type {\n",
              "        vertical-align: middle;\n",
              "    }\n",
              "\n",
              "    .dataframe tbody tr th {\n",
              "        vertical-align: top;\n",
              "    }\n",
              "\n",
              "    .dataframe thead th {\n",
              "        text-align: right;\n",
              "    }\n",
              "</style>\n",
              "<table border=\"1\" class=\"dataframe\">\n",
              "  <thead>\n",
              "    <tr style=\"text-align: right;\">\n",
              "      <th></th>\n",
              "      <th>MedInc</th>\n",
              "      <th>HouseAge</th>\n",
              "      <th>AveRooms</th>\n",
              "      <th>AveBedrms</th>\n",
              "      <th>AveOccup</th>\n",
              "      <th>Population</th>\n",
              "      <th>Region_cv</th>\n",
              "      <th>Latitude</th>\n",
              "      <th>Longitude</th>\n",
              "      <th>target</th>\n",
              "    </tr>\n",
              "  </thead>\n",
              "  <tbody>\n",
              "    <tr>\n",
              "      <th>0</th>\n",
              "      <td>8.3252</td>\n",
              "      <td>41.0</td>\n",
              "      <td>6.984127</td>\n",
              "      <td>1.023810</td>\n",
              "      <td>2.555556</td>\n",
              "      <td>322.0</td>\n",
              "      <td>1</td>\n",
              "      <td>37.88</td>\n",
              "      <td>-122.23</td>\n",
              "      <td>4.526</td>\n",
              "    </tr>\n",
              "    <tr>\n",
              "      <th>1</th>\n",
              "      <td>8.3014</td>\n",
              "      <td>21.0</td>\n",
              "      <td>6.238137</td>\n",
              "      <td>0.971880</td>\n",
              "      <td>2.109842</td>\n",
              "      <td>2401.0</td>\n",
              "      <td>1</td>\n",
              "      <td>37.86</td>\n",
              "      <td>-122.22</td>\n",
              "      <td>3.585</td>\n",
              "    </tr>\n",
              "    <tr>\n",
              "      <th>2</th>\n",
              "      <td>7.2574</td>\n",
              "      <td>52.0</td>\n",
              "      <td>8.288136</td>\n",
              "      <td>1.073446</td>\n",
              "      <td>2.802260</td>\n",
              "      <td>496.0</td>\n",
              "      <td>0</td>\n",
              "      <td>37.85</td>\n",
              "      <td>-122.24</td>\n",
              "      <td>3.521</td>\n",
              "    </tr>\n",
              "    <tr>\n",
              "      <th>3</th>\n",
              "      <td>5.6431</td>\n",
              "      <td>52.0</td>\n",
              "      <td>5.817352</td>\n",
              "      <td>1.073059</td>\n",
              "      <td>2.547945</td>\n",
              "      <td>558.0</td>\n",
              "      <td>1</td>\n",
              "      <td>37.85</td>\n",
              "      <td>-122.25</td>\n",
              "      <td>3.413</td>\n",
              "    </tr>\n",
              "    <tr>\n",
              "      <th>4</th>\n",
              "      <td>3.8462</td>\n",
              "      <td>52.0</td>\n",
              "      <td>6.281853</td>\n",
              "      <td>1.081081</td>\n",
              "      <td>2.181467</td>\n",
              "      <td>565.0</td>\n",
              "      <td>1</td>\n",
              "      <td>37.85</td>\n",
              "      <td>-122.25</td>\n",
              "      <td>3.422</td>\n",
              "    </tr>\n",
              "    <tr>\n",
              "      <th>...</th>\n",
              "      <td>...</td>\n",
              "      <td>...</td>\n",
              "      <td>...</td>\n",
              "      <td>...</td>\n",
              "      <td>...</td>\n",
              "      <td>...</td>\n",
              "      <td>...</td>\n",
              "      <td>...</td>\n",
              "      <td>...</td>\n",
              "      <td>...</td>\n",
              "    </tr>\n",
              "    <tr>\n",
              "      <th>20635</th>\n",
              "      <td>1.5603</td>\n",
              "      <td>25.0</td>\n",
              "      <td>5.045455</td>\n",
              "      <td>1.133333</td>\n",
              "      <td>2.560606</td>\n",
              "      <td>845.0</td>\n",
              "      <td>1</td>\n",
              "      <td>39.48</td>\n",
              "      <td>-121.09</td>\n",
              "      <td>0.781</td>\n",
              "    </tr>\n",
              "    <tr>\n",
              "      <th>20636</th>\n",
              "      <td>2.5568</td>\n",
              "      <td>18.0</td>\n",
              "      <td>6.114035</td>\n",
              "      <td>1.315789</td>\n",
              "      <td>3.122807</td>\n",
              "      <td>356.0</td>\n",
              "      <td>2</td>\n",
              "      <td>39.49</td>\n",
              "      <td>-121.21</td>\n",
              "      <td>0.771</td>\n",
              "    </tr>\n",
              "    <tr>\n",
              "      <th>20637</th>\n",
              "      <td>1.7000</td>\n",
              "      <td>17.0</td>\n",
              "      <td>5.205543</td>\n",
              "      <td>1.120092</td>\n",
              "      <td>2.325635</td>\n",
              "      <td>1007.0</td>\n",
              "      <td>0</td>\n",
              "      <td>39.43</td>\n",
              "      <td>-121.22</td>\n",
              "      <td>0.923</td>\n",
              "    </tr>\n",
              "    <tr>\n",
              "      <th>20638</th>\n",
              "      <td>1.8672</td>\n",
              "      <td>18.0</td>\n",
              "      <td>5.329513</td>\n",
              "      <td>1.171920</td>\n",
              "      <td>2.123209</td>\n",
              "      <td>741.0</td>\n",
              "      <td>1</td>\n",
              "      <td>39.43</td>\n",
              "      <td>-121.32</td>\n",
              "      <td>0.847</td>\n",
              "    </tr>\n",
              "    <tr>\n",
              "      <th>20639</th>\n",
              "      <td>2.3886</td>\n",
              "      <td>16.0</td>\n",
              "      <td>5.254717</td>\n",
              "      <td>1.162264</td>\n",
              "      <td>2.616981</td>\n",
              "      <td>1387.0</td>\n",
              "      <td>0</td>\n",
              "      <td>39.37</td>\n",
              "      <td>-121.24</td>\n",
              "      <td>0.894</td>\n",
              "    </tr>\n",
              "  </tbody>\n",
              "</table>\n",
              "<p>20640 rows × 10 columns</p>\n",
              "</div>"
            ],
            "text/plain": [
              "       MedInc  HouseAge  AveRooms  AveBedrms  AveOccup  Population Region_cv  \\\n",
              "0      8.3252      41.0  6.984127   1.023810  2.555556       322.0         1   \n",
              "1      8.3014      21.0  6.238137   0.971880  2.109842      2401.0         1   \n",
              "2      7.2574      52.0  8.288136   1.073446  2.802260       496.0         0   \n",
              "3      5.6431      52.0  5.817352   1.073059  2.547945       558.0         1   \n",
              "4      3.8462      52.0  6.281853   1.081081  2.181467       565.0         1   \n",
              "...       ...       ...       ...        ...       ...         ...       ...   \n",
              "20635  1.5603      25.0  5.045455   1.133333  2.560606       845.0         1   \n",
              "20636  2.5568      18.0  6.114035   1.315789  3.122807       356.0         2   \n",
              "20637  1.7000      17.0  5.205543   1.120092  2.325635      1007.0         0   \n",
              "20638  1.8672      18.0  5.329513   1.171920  2.123209       741.0         1   \n",
              "20639  2.3886      16.0  5.254717   1.162264  2.616981      1387.0         0   \n",
              "\n",
              "       Latitude  Longitude  target  \n",
              "0         37.88    -122.23   4.526  \n",
              "1         37.86    -122.22   3.585  \n",
              "2         37.85    -122.24   3.521  \n",
              "3         37.85    -122.25   3.413  \n",
              "4         37.85    -122.25   3.422  \n",
              "...         ...        ...     ...  \n",
              "20635     39.48    -121.09   0.781  \n",
              "20636     39.49    -121.21   0.771  \n",
              "20637     39.43    -121.22   0.923  \n",
              "20638     39.43    -121.32   0.847  \n",
              "20639     39.37    -121.24   0.894  \n",
              "\n",
              "[20640 rows x 10 columns]"
            ]
          },
          "execution_count": 89,
          "metadata": {},
          "output_type": "execute_result"
        }
      ],
      "source": [
        "housing_df = housing_df[\n",
        "    [\n",
        "        \"MedInc\",\n",
        "        \"HouseAge\",\n",
        "        \"AveRooms\",\n",
        "        \"AveBedrms\",\n",
        "        \"AveOccup\",\n",
        "        \"Population\",\n",
        "        \"Region_cv\",\n",
        "        \"Latitude\",\n",
        "        \"Longitude\",\n",
        "        \"target\",\n",
        "    ]\n",
        "]\n",
        "housing_df"
      ]
    },
    {
      "cell_type": "markdown",
      "id": "6aab54bf",
      "metadata": {
        "id": "6aab54bf"
      },
      "source": [
        "## One-hot encode the categorical region\n",
        "\n",
        "We create dummy variables for `Region_cv` and keep all numeric columns as they are.\n",
        "\n",
        "Why:\n",
        "- **Linear models** require one-hot encoding for categorical variables. Without it, a linear model would treat cluster IDs as ordered numbers, which is meaningless.\n",
        "- For tree models, one-hot is also robust in scikit-learn because trees split on thresholds and would otherwise impose an arbitrary order on labels.\n",
        "\n",
        "Note:\n",
        "- `drop_first=True` removes one dummy to avoid perfect collinearity in linear regression. Tree models do not require this, but keeping a single design matrix for all models simplifies the pipeline.\n"
      ]
    },
    {
      "cell_type": "code",
      "execution_count": null,
      "id": "432ee7ca",
      "metadata": {
        "id": "432ee7ca",
        "outputId": "74764481-dffa-4cfb-fcb1-b8f3846c56f5"
      },
      "outputs": [
        {
          "data": {
            "application/vnd.microsoft.datawrangler.viewer.v0+json": {
              "columns": [
                {
                  "name": "index",
                  "rawType": "int64",
                  "type": "integer"
                },
                {
                  "name": "MedInc",
                  "rawType": "float64",
                  "type": "float"
                },
                {
                  "name": "HouseAge",
                  "rawType": "float64",
                  "type": "float"
                },
                {
                  "name": "AveRooms",
                  "rawType": "float64",
                  "type": "float"
                },
                {
                  "name": "AveBedrms",
                  "rawType": "float64",
                  "type": "float"
                },
                {
                  "name": "AveOccup",
                  "rawType": "float64",
                  "type": "float"
                },
                {
                  "name": "Population",
                  "rawType": "float64",
                  "type": "float"
                },
                {
                  "name": "Latitude",
                  "rawType": "float64",
                  "type": "float"
                },
                {
                  "name": "Longitude",
                  "rawType": "float64",
                  "type": "float"
                },
                {
                  "name": "target",
                  "rawType": "float64",
                  "type": "float"
                },
                {
                  "name": "Region_cv_1",
                  "rawType": "bool",
                  "type": "boolean"
                },
                {
                  "name": "Region_cv_2",
                  "rawType": "bool",
                  "type": "boolean"
                },
                {
                  "name": "Region_cv_3",
                  "rawType": "bool",
                  "type": "boolean"
                }
              ],
              "ref": "7f281601-eff1-4494-8849-75e27e4a69e9",
              "rows": [
                [
                  "0",
                  "8.3252",
                  "41.0",
                  "6.984126984126984",
                  "1.0238095238095237",
                  "2.5555555555555554",
                  "322.0",
                  "37.88",
                  "-122.23",
                  "4.526",
                  "True",
                  "False",
                  "False"
                ],
                [
                  "1",
                  "8.3014",
                  "21.0",
                  "6.238137082601054",
                  "0.9718804920913884",
                  "2.109841827768014",
                  "2401.0",
                  "37.86",
                  "-122.22",
                  "3.585",
                  "True",
                  "False",
                  "False"
                ],
                [
                  "2",
                  "7.2574",
                  "52.0",
                  "8.288135593220339",
                  "1.073446327683616",
                  "2.8022598870056497",
                  "496.0",
                  "37.85",
                  "-122.24",
                  "3.521",
                  "False",
                  "False",
                  "False"
                ],
                [
                  "3",
                  "5.6431",
                  "52.0",
                  "5.8173515981735155",
                  "1.0730593607305936",
                  "2.547945205479452",
                  "558.0",
                  "37.85",
                  "-122.25",
                  "3.413",
                  "True",
                  "False",
                  "False"
                ],
                [
                  "4",
                  "3.8462",
                  "52.0",
                  "6.281853281853282",
                  "1.0810810810810811",
                  "2.1814671814671813",
                  "565.0",
                  "37.85",
                  "-122.25",
                  "3.422",
                  "True",
                  "False",
                  "False"
                ]
              ],
              "shape": {
                "columns": 12,
                "rows": 5
              }
            },
            "text/html": [
              "<div>\n",
              "<style scoped>\n",
              "    .dataframe tbody tr th:only-of-type {\n",
              "        vertical-align: middle;\n",
              "    }\n",
              "\n",
              "    .dataframe tbody tr th {\n",
              "        vertical-align: top;\n",
              "    }\n",
              "\n",
              "    .dataframe thead th {\n",
              "        text-align: right;\n",
              "    }\n",
              "</style>\n",
              "<table border=\"1\" class=\"dataframe\">\n",
              "  <thead>\n",
              "    <tr style=\"text-align: right;\">\n",
              "      <th></th>\n",
              "      <th>MedInc</th>\n",
              "      <th>HouseAge</th>\n",
              "      <th>AveRooms</th>\n",
              "      <th>AveBedrms</th>\n",
              "      <th>AveOccup</th>\n",
              "      <th>Population</th>\n",
              "      <th>Latitude</th>\n",
              "      <th>Longitude</th>\n",
              "      <th>target</th>\n",
              "      <th>Region_cv_1</th>\n",
              "      <th>Region_cv_2</th>\n",
              "      <th>Region_cv_3</th>\n",
              "    </tr>\n",
              "  </thead>\n",
              "  <tbody>\n",
              "    <tr>\n",
              "      <th>0</th>\n",
              "      <td>8.3252</td>\n",
              "      <td>41.0</td>\n",
              "      <td>6.984127</td>\n",
              "      <td>1.023810</td>\n",
              "      <td>2.555556</td>\n",
              "      <td>322.0</td>\n",
              "      <td>37.88</td>\n",
              "      <td>-122.23</td>\n",
              "      <td>4.526</td>\n",
              "      <td>True</td>\n",
              "      <td>False</td>\n",
              "      <td>False</td>\n",
              "    </tr>\n",
              "    <tr>\n",
              "      <th>1</th>\n",
              "      <td>8.3014</td>\n",
              "      <td>21.0</td>\n",
              "      <td>6.238137</td>\n",
              "      <td>0.971880</td>\n",
              "      <td>2.109842</td>\n",
              "      <td>2401.0</td>\n",
              "      <td>37.86</td>\n",
              "      <td>-122.22</td>\n",
              "      <td>3.585</td>\n",
              "      <td>True</td>\n",
              "      <td>False</td>\n",
              "      <td>False</td>\n",
              "    </tr>\n",
              "    <tr>\n",
              "      <th>2</th>\n",
              "      <td>7.2574</td>\n",
              "      <td>52.0</td>\n",
              "      <td>8.288136</td>\n",
              "      <td>1.073446</td>\n",
              "      <td>2.802260</td>\n",
              "      <td>496.0</td>\n",
              "      <td>37.85</td>\n",
              "      <td>-122.24</td>\n",
              "      <td>3.521</td>\n",
              "      <td>False</td>\n",
              "      <td>False</td>\n",
              "      <td>False</td>\n",
              "    </tr>\n",
              "    <tr>\n",
              "      <th>3</th>\n",
              "      <td>5.6431</td>\n",
              "      <td>52.0</td>\n",
              "      <td>5.817352</td>\n",
              "      <td>1.073059</td>\n",
              "      <td>2.547945</td>\n",
              "      <td>558.0</td>\n",
              "      <td>37.85</td>\n",
              "      <td>-122.25</td>\n",
              "      <td>3.413</td>\n",
              "      <td>True</td>\n",
              "      <td>False</td>\n",
              "      <td>False</td>\n",
              "    </tr>\n",
              "    <tr>\n",
              "      <th>4</th>\n",
              "      <td>3.8462</td>\n",
              "      <td>52.0</td>\n",
              "      <td>6.281853</td>\n",
              "      <td>1.081081</td>\n",
              "      <td>2.181467</td>\n",
              "      <td>565.0</td>\n",
              "      <td>37.85</td>\n",
              "      <td>-122.25</td>\n",
              "      <td>3.422</td>\n",
              "      <td>True</td>\n",
              "      <td>False</td>\n",
              "      <td>False</td>\n",
              "    </tr>\n",
              "  </tbody>\n",
              "</table>\n",
              "</div>"
            ],
            "text/plain": [
              "   MedInc  HouseAge  AveRooms  AveBedrms  AveOccup  Population  Latitude  \\\n",
              "0  8.3252      41.0  6.984127   1.023810  2.555556       322.0     37.88   \n",
              "1  8.3014      21.0  6.238137   0.971880  2.109842      2401.0     37.86   \n",
              "2  7.2574      52.0  8.288136   1.073446  2.802260       496.0     37.85   \n",
              "3  5.6431      52.0  5.817352   1.073059  2.547945       558.0     37.85   \n",
              "4  3.8462      52.0  6.281853   1.081081  2.181467       565.0     37.85   \n",
              "\n",
              "   Longitude  target  Region_cv_1  Region_cv_2  Region_cv_3  \n",
              "0    -122.23   4.526         True        False        False  \n",
              "1    -122.22   3.585         True        False        False  \n",
              "2    -122.24   3.521        False        False        False  \n",
              "3    -122.25   3.413         True        False        False  \n",
              "4    -122.25   3.422         True        False        False  "
            ]
          },
          "execution_count": 90,
          "metadata": {},
          "output_type": "execute_result"
        }
      ],
      "source": [
        "housing_with_dummies = pd.get_dummies(\n",
        "    housing_df, columns=[\"Region_cv\"], drop_first=True\n",
        ")\n",
        "housing_with_dummies.head()"
      ]
    },
    {
      "cell_type": "markdown",
      "id": "54210fc0",
      "metadata": {},
      "source": [
        "### Train-Test Split and Repeated Cross-Validation Setup\n",
        "\n",
        "We now move to model evaluation. The dataset is split into:\n",
        "\n",
        "- **Training set (80%)**: used for fitting models and performing cross-validation.  \n",
        "- **Test set (20%)**: kept untouched until the very end, to provide a final, unbiased estimate of performance.\n",
        "\n",
        "To estimate model reliability, we use **Repeated K-Fold cross-validation**:\n",
        "- 5 folds, repeated 5 times → 25 resamples in total.  \n",
        "- Each observation appears in validation exactly once per repeat.  \n",
        "- Repetition reduces variance in the performance estimate, making results more robust than a single split."
      ]
    },
    {
      "cell_type": "code",
      "execution_count": null,
      "id": "967a2eb9",
      "metadata": {},
      "outputs": [],
      "source": [
        "from sklearn.model_selection import RepeatedKFold, cross_validate, train_test_split\n",
        "\n",
        "X = housing_with_dummies.drop(\"target\", axis=1)\n",
        "y = housing_with_dummies[\"target\"]\n",
        "\n",
        "X_train, X_test, y_train, y_test = train_test_split(\n",
        "    X, y, test_size=0.2, random_state=42\n",
        ")\n",
        "\n",
        "# Repeated K-Fold cross-validation repeats standard K-Fold multiple times to reduce variability in performance estimates\n",
        "cv = RepeatedKFold(n_splits=5, n_repeats=5, random_state=42)"
      ]
    },
    {
      "cell_type": "markdown",
      "id": "8fec82f2",
      "metadata": {
        "id": "8fec82f2"
      },
      "source": [
        "### Cross-validation outputs and metrics (reusable note)\n",
        "\n",
        "We evaluate each model with **Repeated K-Fold CV** (5×5 = 25 folds) and collect a tidy dataframe of scores:\n",
        "\n",
        "- **RMSE (root mean squared error)** — sensitive to large errors; same units as the target.  \n",
        "- **MAE (mean absolute error)** — median-friendly, robust to outliers relative to RMSE.  \n",
        "- **R² (coefficient of determination)** — proportion of variance explained (can be negative out-of-sample).  \n",
        "- **MAPE (mean absolute percentage error)** — scale-free percentage error; unstable if the target can be near zero.\n",
        "\n",
        "Implementation details to remember:\n",
        "- Scikit-learn’s `\"neg_*\"` scorers return **negative values** for loss metrics; we multiply by −1 to read them on their natural positive scale.\n",
        "- We summarise the 25 fold scores with **mean ± standard deviation**. The mean is our central estimate; the standard deviation reflects variability across splits.\n",
        "- Use the **same `cv` splitter** for every model so that fold-wise results are paired and differences are comparable.\n"
      ]
    },
    {
      "cell_type": "markdown",
      "id": "dcdc7e29",
      "metadata": {},
      "source": [
        "### Linear Regression\n",
        "\n",
        "**Linear Regression** serves as a transparent baseline:\n",
        "- It estimates a linear relationship between features and the target via least squares.\n",
        "- Coefficients are directly interpretable as marginal effects (holding other features fixed).\n",
        "\n",
        "Practical notes:\n",
        "- With one-hot encoded features, multicollinearity can inflate variance; the point predictions remain unbiased, but uncertainty grows. A regularised baseline (Ridge/Lasso) is a natural next step if variance is high.\n",
        "- Violations of homoscedasticity or linearity will typically show up as **systematic patterns in residual plots** and relatively weaker RMSE/R² than tree-based models.\n",
        "- We do **not** tune hyperparameters here; the goal is to establish a clean, honest reference for subsequent models (RF/GB/ XGB).\n",
        "\n",
        "Read the CV summary as: “typical performance over many plausible train/validation splits,” and compare it later with the final hold-out test to check stability.\n"
      ]
    },
    {
      "cell_type": "code",
      "execution_count": null,
      "id": "267ea3a1",
      "metadata": {
        "id": "267ea3a1",
        "outputId": "87d6b041-ba17-46e8-a675-6f3b8834bafa"
      },
      "outputs": [
        {
          "name": "stdout",
          "output_type": "stream",
          "text": [
            "Repeated CV (train only) - mean and sd over 25 folds\n"
          ]
        },
        {
          "data": {
            "application/vnd.microsoft.datawrangler.viewer.v0+json": {
              "columns": [
                {
                  "name": "index",
                  "rawType": "object",
                  "type": "string"
                },
                {
                  "name": "rmse",
                  "rawType": "float64",
                  "type": "float"
                },
                {
                  "name": "mae",
                  "rawType": "float64",
                  "type": "float"
                },
                {
                  "name": "r2",
                  "rawType": "float64",
                  "type": "float"
                },
                {
                  "name": "mape",
                  "rawType": "float64",
                  "type": "float"
                }
              ],
              "ref": "2e62e87c-c7c3-4c9d-8f07-43332a976e69",
              "rows": [
                [
                  "mean",
                  "0.7397",
                  "0.5296",
                  "0.5837",
                  "0.3154"
                ],
                [
                  "std",
                  "0.0955",
                  "0.0091",
                  "0.1386",
                  "0.0081"
                ]
              ],
              "shape": {
                "columns": 4,
                "rows": 2
              }
            },
            "text/html": [
              "<div>\n",
              "<style scoped>\n",
              "    .dataframe tbody tr th:only-of-type {\n",
              "        vertical-align: middle;\n",
              "    }\n",
              "\n",
              "    .dataframe tbody tr th {\n",
              "        vertical-align: top;\n",
              "    }\n",
              "\n",
              "    .dataframe thead th {\n",
              "        text-align: right;\n",
              "    }\n",
              "</style>\n",
              "<table border=\"1\" class=\"dataframe\">\n",
              "  <thead>\n",
              "    <tr style=\"text-align: right;\">\n",
              "      <th></th>\n",
              "      <th>rmse</th>\n",
              "      <th>mae</th>\n",
              "      <th>r2</th>\n",
              "      <th>mape</th>\n",
              "    </tr>\n",
              "  </thead>\n",
              "  <tbody>\n",
              "    <tr>\n",
              "      <th>mean</th>\n",
              "      <td>0.7397</td>\n",
              "      <td>0.5296</td>\n",
              "      <td>0.5837</td>\n",
              "      <td>0.3154</td>\n",
              "    </tr>\n",
              "    <tr>\n",
              "      <th>std</th>\n",
              "      <td>0.0955</td>\n",
              "      <td>0.0091</td>\n",
              "      <td>0.1386</td>\n",
              "      <td>0.0081</td>\n",
              "    </tr>\n",
              "  </tbody>\n",
              "</table>\n",
              "</div>"
            ],
            "text/plain": [
              "        rmse     mae      r2    mape\n",
              "mean  0.7397  0.5296  0.5837  0.3154\n",
              "std   0.0955  0.0091  0.1386  0.0081"
            ]
          },
          "metadata": {},
          "output_type": "display_data"
        }
      ],
      "source": [
        "from sklearn.linear_model import LinearRegression\n",
        "\n",
        "reg = LinearRegression()\n",
        "\n",
        "# Cross-validate the model using specified scoring metrics; negative signs for losses are flipped later for interpretation\n",
        "cv_lr = cross_validate(\n",
        "    estimator=reg,\n",
        "    X=X_train,\n",
        "    y=y_train,\n",
        "    cv=cv,\n",
        "    scoring={\n",
        "        \"rmse\": \"neg_root_mean_squared_error\",\n",
        "        \"mae\": \"neg_mean_absolute_error\",\n",
        "        \"r2\": \"r2\",\n",
        "        \"mape\": \"neg_mean_absolute_percentage_error\",\n",
        "    },\n",
        "    n_jobs=-1,\n",
        "    return_train_score=False,\n",
        ")\n",
        "\n",
        "# Create a DataFrame from cross-validation results, flipping signs for loss metrics to positive values\n",
        "scores_lr = pd.DataFrame(\n",
        "    data={\n",
        "        \"rmse\": -cv_lr[\"test_rmse\"],\n",
        "        \"mae\": -cv_lr[\"test_mae\"],\n",
        "        \"r2\": cv_lr[\"test_r2\"],\n",
        "        \"mape\": -cv_lr[\"test_mape\"],\n",
        "    }\n",
        ")\n",
        "\n",
        "# Compute mean and standard deviation for each metric across folds to summarize performance\n",
        "summary_lr = scores_lr.agg(func=[\"mean\", \"std\"]).round(4)\n",
        "print(\"Repeated CV (train only) - mean and sd over 25 folds\")\n",
        "display(summary_lr)"
      ]
    },
    {
      "cell_type": "markdown",
      "id": "ae69b4d4",
      "metadata": {},
      "source": [
        "### Confidence Intervals for Cross-Validation Metrics (general note)\n",
        "\n",
        "Point estimates like mean RMSE or mean R² can be misleading without a sense of **uncertainty**.  \n",
        "To capture that uncertainty, we compute **95% confidence intervals (CIs)** for each metric:\n",
        "\n",
        "- We treat the per-fold scores as samples from an underlying distribution.  \n",
        "- The standard error of the mean is estimated as `std / sqrt(n)`, where `n` is the number of folds.  \n",
        "- Using the *t-distribution* (with `df = n−1`) accounts for finite sample sizes.  \n",
        "- The interval is:  \n",
        "  $$\n",
        "  \\bar{x} \\pm t_{\\alpha/2, df} \\cdot \\frac{s}{\\sqrt{n}}\n",
        "  $$\n",
        "  where $\\bar{x}$ is the mean and $s$ is the standard deviation of the folds.\n",
        "\n",
        "Interpretation: If we repeated the resampling process many times, ~95% of such intervals would contain the true mean score.\n",
        "\n",
        "### Linear Regression: 95% CI of CV Results\n",
        "\n",
        "For the Linear Regression model:\n",
        "\n",
        "- Each metric (RMSE, MAE, R², MAPE) is summarised with a **mean value** and a **confidence interval**.  \n",
        "- The CI shows the plausible range for the *average* performance across unseen splits.  \n",
        "- If another model’s CI does not overlap much with Linear Regression’s, the difference is more likely to be **statistically meaningful** rather than noise.  \n",
        "- Later, when we compute CIs for tree-based models, we can directly compare intervals to assess whether one model is consistently better.\n",
        "\n",
        "This step transforms the CV results from “a single point estimate” into a more cautious **range estimate**, which is closer to how results should be reported in research and professional practice.\n"
      ]
    },
    {
      "cell_type": "code",
      "execution_count": null,
      "id": "c8fb48c4",
      "metadata": {},
      "outputs": [
        {
          "data": {
            "application/vnd.microsoft.datawrangler.viewer.v0+json": {
              "columns": [
                {
                  "name": "index",
                  "rawType": "int64",
                  "type": "integer"
                },
                {
                  "name": "Metric",
                  "rawType": "object",
                  "type": "string"
                },
                {
                  "name": "Lower",
                  "rawType": "float64",
                  "type": "float"
                },
                {
                  "name": "Upper",
                  "rawType": "float64",
                  "type": "float"
                }
              ],
              "ref": "15fa6a23-ccaa-4217-864a-5fff34c5381f",
              "rows": [
                [
                  "0",
                  "RMSE",
                  "0.7003171396494475",
                  "0.7791173149452976"
                ],
                [
                  "1",
                  "MAE",
                  "0.5257980488705264",
                  "0.5333219761728653"
                ],
                [
                  "2",
                  "R2",
                  "0.5264496397539478",
                  "0.6408750750633787"
                ],
                [
                  "3",
                  "MAPE",
                  "0.31201924527812075",
                  "0.31871272114917726"
                ]
              ],
              "shape": {
                "columns": 3,
                "rows": 4
              }
            },
            "text/html": [
              "<div>\n",
              "<style scoped>\n",
              "    .dataframe tbody tr th:only-of-type {\n",
              "        vertical-align: middle;\n",
              "    }\n",
              "\n",
              "    .dataframe tbody tr th {\n",
              "        vertical-align: top;\n",
              "    }\n",
              "\n",
              "    .dataframe thead th {\n",
              "        text-align: right;\n",
              "    }\n",
              "</style>\n",
              "<table border=\"1\" class=\"dataframe\">\n",
              "  <thead>\n",
              "    <tr style=\"text-align: right;\">\n",
              "      <th></th>\n",
              "      <th>Metric</th>\n",
              "      <th>Lower</th>\n",
              "      <th>Upper</th>\n",
              "    </tr>\n",
              "  </thead>\n",
              "  <tbody>\n",
              "    <tr>\n",
              "      <th>0</th>\n",
              "      <td>RMSE</td>\n",
              "      <td>0.700317</td>\n",
              "      <td>0.779117</td>\n",
              "    </tr>\n",
              "    <tr>\n",
              "      <th>1</th>\n",
              "      <td>MAE</td>\n",
              "      <td>0.525798</td>\n",
              "      <td>0.533322</td>\n",
              "    </tr>\n",
              "    <tr>\n",
              "      <th>2</th>\n",
              "      <td>R2</td>\n",
              "      <td>0.526450</td>\n",
              "      <td>0.640875</td>\n",
              "    </tr>\n",
              "    <tr>\n",
              "      <th>3</th>\n",
              "      <td>MAPE</td>\n",
              "      <td>0.312019</td>\n",
              "      <td>0.318713</td>\n",
              "    </tr>\n",
              "  </tbody>\n",
              "</table>\n",
              "</div>"
            ],
            "text/plain": [
              "  Metric     Lower     Upper\n",
              "0   RMSE  0.700317  0.779117\n",
              "1    MAE  0.525798  0.533322\n",
              "2     R2  0.526450  0.640875\n",
              "3   MAPE  0.312019  0.318713"
            ]
          },
          "metadata": {},
          "output_type": "display_data"
        }
      ],
      "source": [
        "from scipy.stats import t\n",
        "\n",
        "# Calculate the number of cross-validation folds (n) from the scores DataFrame\n",
        "n = len(scores_lr)\n",
        "\n",
        "# Compute the critical value from the t-distribution (tcrit) for a 95% confidence interval (two-tailed, alpha=0.05)\n",
        "# Uses degrees of freedom (df=n-1) to account for sample size uncertainty in variance estimation\n",
        "tcrit = t.ppf(0.975, df=n - 1)\n",
        "\n",
        "# For each metric, compute lower and upper bounds using the mean, standard deviation, and t-critical value\n",
        "# Formula: CI = mean ± (t_crit * std / sqrt(n)), assuming normality for the mean estimate\n",
        "cilr_df = pd.DataFrame(\n",
        "    data=[\n",
        "        {\n",
        "            \"Metric\": metric.upper(),\n",
        "            \"Lower\": scores_lr[metric].mean()\n",
        "            - tcrit * scores_lr[metric].std(ddof=1) / np.sqrt(n),\n",
        "            \"Upper\": scores_lr[metric].mean()\n",
        "            + tcrit * scores_lr[metric].std(ddof=1) / np.sqrt(n),\n",
        "        }\n",
        "        for metric in scores_lr.columns\n",
        "    ]\n",
        ")\n",
        "\n",
        "display(cilr_df)"
      ]
    },
    {
      "cell_type": "markdown",
      "id": "04c23145",
      "metadata": {},
      "source": [
        "### Linear Regression: Test-Set Performance\n",
        "\n",
        "Here, we evaluate the **Linear Regression** model on the test set:\n",
        "\n",
        "- **MAE, MSE, RMSE** quantify the typical error size.  \n",
        "- **R²** tells us how much variance in housing prices the model explains.  \n",
        "- **MAPE** expresses errors as percentages of the true values, making them easier to interpret.\n",
        "\n",
        "This result acts as the **final benchmark** for Linear Regression, against which more complex models (Random Forest, Gradient Boosting, XGBoost) will later be compared.\n"
      ]
    },
    {
      "cell_type": "code",
      "execution_count": null,
      "id": "a109c413",
      "metadata": {},
      "outputs": [
        {
          "data": {
            "application/vnd.microsoft.datawrangler.viewer.v0+json": {
              "columns": [
                {
                  "name": "index",
                  "rawType": "int64",
                  "type": "integer"
                },
                {
                  "name": "Mean Absolute Error (MAE)",
                  "rawType": "float64",
                  "type": "float"
                },
                {
                  "name": "Mean Squared Error (MSE)",
                  "rawType": "float64",
                  "type": "float"
                },
                {
                  "name": "Root Mean Squared Error (RMSE)",
                  "rawType": "float64",
                  "type": "float"
                },
                {
                  "name": "R-squared (R²)",
                  "rawType": "float64",
                  "type": "float"
                },
                {
                  "name": "Mean Absolute Percentage Error (MAPE)",
                  "rawType": "float64",
                  "type": "float"
                }
              ],
              "ref": "f04fd1ed-5dea-4078-a591-f1a5c2fd3847",
              "rows": [
                [
                  "0",
                  "0.5332341130291145",
                  "0.5580307269539149",
                  "0.747014542665613",
                  "0.5741552933321485",
                  "0.3205208516192137"
                ]
              ],
              "shape": {
                "columns": 5,
                "rows": 1
              }
            },
            "text/html": [
              "<div>\n",
              "<style scoped>\n",
              "    .dataframe tbody tr th:only-of-type {\n",
              "        vertical-align: middle;\n",
              "    }\n",
              "\n",
              "    .dataframe tbody tr th {\n",
              "        vertical-align: top;\n",
              "    }\n",
              "\n",
              "    .dataframe thead th {\n",
              "        text-align: right;\n",
              "    }\n",
              "</style>\n",
              "<table border=\"1\" class=\"dataframe\">\n",
              "  <thead>\n",
              "    <tr style=\"text-align: right;\">\n",
              "      <th></th>\n",
              "      <th>Mean Absolute Error (MAE)</th>\n",
              "      <th>Mean Squared Error (MSE)</th>\n",
              "      <th>Root Mean Squared Error (RMSE)</th>\n",
              "      <th>R-squared (R²)</th>\n",
              "      <th>Mean Absolute Percentage Error (MAPE)</th>\n",
              "    </tr>\n",
              "  </thead>\n",
              "  <tbody>\n",
              "    <tr>\n",
              "      <th>0</th>\n",
              "      <td>0.533234</td>\n",
              "      <td>0.558031</td>\n",
              "      <td>0.747015</td>\n",
              "      <td>0.574155</td>\n",
              "      <td>0.320521</td>\n",
              "    </tr>\n",
              "  </tbody>\n",
              "</table>\n",
              "</div>"
            ],
            "text/plain": [
              "   Mean Absolute Error (MAE)  Mean Squared Error (MSE)  \\\n",
              "0                   0.533234                  0.558031   \n",
              "\n",
              "   Root Mean Squared Error (RMSE)  R-squared (R²)  \\\n",
              "0                        0.747015        0.574155   \n",
              "\n",
              "   Mean Absolute Percentage Error (MAPE)  \n",
              "0                               0.320521  "
            ]
          },
          "metadata": {},
          "output_type": "display_data"
        }
      ],
      "source": [
        "reg.fit(X_train, y_train)\n",
        "\n",
        "y_pred = reg.predict(X_test)\n",
        "\n",
        "reg_metrics = pd.DataFrame(\n",
        "    data={\n",
        "        \"Mean Absolute Error (MAE)\": mean_absolute_error(y_test, y_pred),\n",
        "        \"Mean Squared Error (MSE)\": mean_squared_error(y_test, y_pred),\n",
        "        \"Root Mean Squared Error (RMSE)\": root_mean_squared_error(y_test, y_pred),\n",
        "        \"R-squared (R²)\": r2_score(y_test, y_pred),\n",
        "        \"Mean Absolute Percentage Error (MAPE)\": mean_absolute_percentage_error(\n",
        "            y_test, y_pred\n",
        "        ),\n",
        "    },\n",
        "    index=[0],\n",
        ")\n",
        "\n",
        "display(reg_metrics)"
      ]
    },
    {
      "cell_type": "markdown",
      "id": "579586d3",
      "metadata": {
        "id": "579586d3"
      },
      "source": [
        "### Random Forest Regressor\n",
        "\n",
        "**What it is.** Random Forest is an ensemble of decision trees trained on bootstrap samples, with random feature subsampling at each split. By averaging many high-variance trees, it reduces variance without increasing bias too much.\n",
        "\n",
        "**Why try it here.** Housing prices exhibit non-linearities and interactions (e.g., income × location). Trees capture these naturally, and the forest averaging provides stability relative to a single tree.\n",
        "\n",
        "**Configuration in this pass.**\n",
        "- `n_estimators=150`: enough trees for a stable average at modest cost.  \n",
        "- Other parameters left at defaults (notably `max_depth=None` lets trees grow deep). This is an **untuned baseline** to establish how much non-linear structure the data contains.\n",
        "\n",
        "**What to look for.**\n",
        "- Lower **RMSE/MAE** and higher **R²** than Linear Regression indicate meaningful non-linear signal.  \n",
        "- If variance across folds is still large, introduce mild regularisation later (e.g., `min_samples_leaf`, `max_depth`, `max_features`) and/or increase `n_estimators`.\n"
      ]
    },
    {
      "cell_type": "code",
      "execution_count": null,
      "id": "244de35e",
      "metadata": {
        "id": "244de35e",
        "outputId": "04a31c66-0f5c-4c04-bb88-fa028d4f00ce"
      },
      "outputs": [
        {
          "name": "stdout",
          "output_type": "stream",
          "text": [
            "Repeated CV (train only) - mean and sd over 25 folds\n"
          ]
        },
        {
          "data": {
            "application/vnd.microsoft.datawrangler.viewer.v0+json": {
              "columns": [
                {
                  "name": "index",
                  "rawType": "object",
                  "type": "string"
                },
                {
                  "name": "rmse",
                  "rawType": "float64",
                  "type": "float"
                },
                {
                  "name": "mae",
                  "rawType": "float64",
                  "type": "float"
                },
                {
                  "name": "r2",
                  "rawType": "float64",
                  "type": "float"
                },
                {
                  "name": "mape",
                  "rawType": "float64",
                  "type": "float"
                }
              ],
              "ref": "7b6f61c2-0ec8-4187-b9c9-8b654232070f",
              "rows": [
                [
                  "mean",
                  "0.5122",
                  "0.3357",
                  "0.8036",
                  "0.1882"
                ],
                [
                  "std",
                  "0.0119",
                  "0.0068",
                  "0.0085",
                  "0.0045"
                ]
              ],
              "shape": {
                "columns": 4,
                "rows": 2
              }
            },
            "text/html": [
              "<div>\n",
              "<style scoped>\n",
              "    .dataframe tbody tr th:only-of-type {\n",
              "        vertical-align: middle;\n",
              "    }\n",
              "\n",
              "    .dataframe tbody tr th {\n",
              "        vertical-align: top;\n",
              "    }\n",
              "\n",
              "    .dataframe thead th {\n",
              "        text-align: right;\n",
              "    }\n",
              "</style>\n",
              "<table border=\"1\" class=\"dataframe\">\n",
              "  <thead>\n",
              "    <tr style=\"text-align: right;\">\n",
              "      <th></th>\n",
              "      <th>rmse</th>\n",
              "      <th>mae</th>\n",
              "      <th>r2</th>\n",
              "      <th>mape</th>\n",
              "    </tr>\n",
              "  </thead>\n",
              "  <tbody>\n",
              "    <tr>\n",
              "      <th>mean</th>\n",
              "      <td>0.5122</td>\n",
              "      <td>0.3357</td>\n",
              "      <td>0.8036</td>\n",
              "      <td>0.1882</td>\n",
              "    </tr>\n",
              "    <tr>\n",
              "      <th>std</th>\n",
              "      <td>0.0119</td>\n",
              "      <td>0.0068</td>\n",
              "      <td>0.0085</td>\n",
              "      <td>0.0045</td>\n",
              "    </tr>\n",
              "  </tbody>\n",
              "</table>\n",
              "</div>"
            ],
            "text/plain": [
              "        rmse     mae      r2    mape\n",
              "mean  0.5122  0.3357  0.8036  0.1882\n",
              "std   0.0119  0.0068  0.0085  0.0045"
            ]
          },
          "metadata": {},
          "output_type": "display_data"
        }
      ],
      "source": [
        "from sklearn.ensemble import RandomForestRegressor\n",
        "\n",
        "rfr = RandomForestRegressor(n_estimators=150, random_state=42)\n",
        "\n",
        "cv_rfr = cross_validate(\n",
        "    estimator=rfr,\n",
        "    X=X_train,\n",
        "    y=y_train,\n",
        "    cv=cv,\n",
        "    scoring={\n",
        "        \"rmse\": \"neg_root_mean_squared_error\",\n",
        "        \"mae\": \"neg_mean_absolute_error\",\n",
        "        \"r2\": \"r2\",\n",
        "        \"mape\": \"neg_mean_absolute_percentage_error\",\n",
        "    },\n",
        "    n_jobs=-1,\n",
        "    return_train_score=False,\n",
        ")\n",
        "scores_rfr = pd.DataFrame(\n",
        "    data={\n",
        "        \"rmse\": -cv_rfr[\"test_rmse\"],\n",
        "        \"mae\": -cv_rfr[\"test_mae\"],\n",
        "        \"r2\": cv_rfr[\"test_r2\"],\n",
        "        \"mape\": -cv_rfr[\"test_mape\"],\n",
        "    }\n",
        ")\n",
        "\n",
        "summary_rfr = scores_rfr.agg([\"mean\", \"std\"]).round(4)\n",
        "print(\"Repeated CV (train only) - mean and sd over 25 folds\")\n",
        "display(summary_rfr)"
      ]
    },
    {
      "cell_type": "markdown",
      "id": "83ecf952",
      "metadata": {},
      "source": [
        "### Random Forest: Confidence Intervals for CV Metrics\n",
        "\n",
        "To complement the mean ± standard deviation, we calculate **95% confidence intervals (CIs)** for Random Forest’s CV scores.\n",
        "\n",
        "- Each metric’s interval is derived from the t-distribution using the 25 resampled folds.  \n",
        "- The CI reflects the plausible range of the *average* performance, not individual folds.  \n",
        "- Comparing these intervals with Linear Regression’s shows whether Random Forest’s gains are consistently beyond noise.  \n",
        "  - If the RMSE CI of Random Forest does not overlap with that of Linear Regression, the improvement is statistically meaningful.  \n",
        "  - Similarly, narrower intervals suggest greater stability across resamples.\n",
        "\n",
        "This step provides a more rigorous basis for claiming that Random Forest truly outperforms the linear baseline.\n"
      ]
    },
    {
      "cell_type": "code",
      "execution_count": null,
      "id": "bcc4e346",
      "metadata": {},
      "outputs": [
        {
          "data": {
            "application/vnd.microsoft.datawrangler.viewer.v0+json": {
              "columns": [
                {
                  "name": "index",
                  "rawType": "int64",
                  "type": "integer"
                },
                {
                  "name": "Metric",
                  "rawType": "object",
                  "type": "string"
                },
                {
                  "name": "Lower",
                  "rawType": "float64",
                  "type": "float"
                },
                {
                  "name": "Upper",
                  "rawType": "float64",
                  "type": "float"
                }
              ],
              "ref": "e8277230-daa8-48b0-979a-58dfef3bc5f3",
              "rows": [
                [
                  "0",
                  "RMSE",
                  "0.5072270242139086",
                  "0.5170782210738697"
                ],
                [
                  "1",
                  "MAE",
                  "0.33288371186526877",
                  "0.33846893720748694"
                ],
                [
                  "2",
                  "R2",
                  "0.8001205054405154",
                  "0.8071345851752887"
                ],
                [
                  "3",
                  "MAPE",
                  "0.18630325657722432",
                  "0.1900286534089994"
                ]
              ],
              "shape": {
                "columns": 3,
                "rows": 4
              }
            },
            "text/html": [
              "<div>\n",
              "<style scoped>\n",
              "    .dataframe tbody tr th:only-of-type {\n",
              "        vertical-align: middle;\n",
              "    }\n",
              "\n",
              "    .dataframe tbody tr th {\n",
              "        vertical-align: top;\n",
              "    }\n",
              "\n",
              "    .dataframe thead th {\n",
              "        text-align: right;\n",
              "    }\n",
              "</style>\n",
              "<table border=\"1\" class=\"dataframe\">\n",
              "  <thead>\n",
              "    <tr style=\"text-align: right;\">\n",
              "      <th></th>\n",
              "      <th>Metric</th>\n",
              "      <th>Lower</th>\n",
              "      <th>Upper</th>\n",
              "    </tr>\n",
              "  </thead>\n",
              "  <tbody>\n",
              "    <tr>\n",
              "      <th>0</th>\n",
              "      <td>RMSE</td>\n",
              "      <td>0.507227</td>\n",
              "      <td>0.517078</td>\n",
              "    </tr>\n",
              "    <tr>\n",
              "      <th>1</th>\n",
              "      <td>MAE</td>\n",
              "      <td>0.332884</td>\n",
              "      <td>0.338469</td>\n",
              "    </tr>\n",
              "    <tr>\n",
              "      <th>2</th>\n",
              "      <td>R2</td>\n",
              "      <td>0.800121</td>\n",
              "      <td>0.807135</td>\n",
              "    </tr>\n",
              "    <tr>\n",
              "      <th>3</th>\n",
              "      <td>MAPE</td>\n",
              "      <td>0.186303</td>\n",
              "      <td>0.190029</td>\n",
              "    </tr>\n",
              "  </tbody>\n",
              "</table>\n",
              "</div>"
            ],
            "text/plain": [
              "  Metric     Lower     Upper\n",
              "0   RMSE  0.507227  0.517078\n",
              "1    MAE  0.332884  0.338469\n",
              "2     R2  0.800121  0.807135\n",
              "3   MAPE  0.186303  0.190029"
            ]
          },
          "metadata": {},
          "output_type": "display_data"
        }
      ],
      "source": [
        "from scipy.stats import t\n",
        "\n",
        "n = len(scores_rfr)\n",
        "\n",
        "# Compute the critical value from the t-distribution for a 95% confidence interval (two-tailed, alpha=0.05)\n",
        "# Uses degrees of freedom (df=n-1) to account for sample size uncertainty in variance estimation\n",
        "tcrit = t.ppf(0.975, df=n - 1)\n",
        "\n",
        "# For each metric, compute lower and upper bounds using the mean, standard deviation, and t-critical value\n",
        "# Formula: CI = mean ± (t_crit * std / sqrt(n)), assuming normality for the mean estimate\n",
        "cirfr_df = pd.DataFrame(\n",
        "    data=[\n",
        "        {\n",
        "            \"Metric\": metric.upper(),\n",
        "            \"Lower\": scores_rfr[metric].mean()\n",
        "            - tcrit * scores_rfr[metric].std(ddof=1) / np.sqrt(n),\n",
        "            \"Upper\": scores_rfr[metric].mean()\n",
        "            + tcrit * scores_rfr[metric].std(ddof=1) / np.sqrt(n),\n",
        "        }\n",
        "        for metric in scores_rfr.columns\n",
        "    ]\n",
        ")\n",
        "display(cirfr_df)"
      ]
    },
    {
      "cell_type": "markdown",
      "id": "b1687798",
      "metadata": {},
      "source": [
        "### Random Forest: Test-Set Evaluation\n",
        "\n",
        "After cross-validation, we retrain the Random Forest on the full training set and evaluate once on the **held-out test set**.  \n",
        "\n",
        "This result is important for two reasons:\n",
        "- It checks whether Random Forest’s superior cross-validation performance carries over to unseen data.  \n",
        "- It provides a fair, final benchmark to compare against Linear Regression’s test results.  \n",
        "\n",
        "Key points to observe:\n",
        "- **MAE/MSE/RMSE**: are errors substantially smaller than the linear baseline?  \n",
        "- **R²**: does the model explain more variance in house values (ideally >0.8 here)?  \n",
        "- **MAPE**: is the percentage error more acceptable in practical terms?  \n",
        "\n",
        "If these results align with the cross-validation confidence intervals, Random Forest is both **accurate** and **stable**, confirming its advantage over the linear model.\n"
      ]
    },
    {
      "cell_type": "code",
      "execution_count": null,
      "id": "9451c78c",
      "metadata": {},
      "outputs": [
        {
          "data": {
            "application/vnd.microsoft.datawrangler.viewer.v0+json": {
              "columns": [
                {
                  "name": "index",
                  "rawType": "int64",
                  "type": "integer"
                },
                {
                  "name": "Mean Absolute Error (MAE)",
                  "rawType": "float64",
                  "type": "float"
                },
                {
                  "name": "Mean Squared Error (MSE)",
                  "rawType": "float64",
                  "type": "float"
                },
                {
                  "name": "Root Mean Squared Error (RMSE)",
                  "rawType": "float64",
                  "type": "float"
                },
                {
                  "name": "R-squared (R²)",
                  "rawType": "float64",
                  "type": "float"
                },
                {
                  "name": "Mean Absolute Percentage Error (MAPE)",
                  "rawType": "float64",
                  "type": "float"
                }
              ],
              "ref": "24e90779-9969-4f23-b15f-5b269ed5ef2d",
              "rows": [
                [
                  "0",
                  "0.3290762338824291",
                  "0.2571201884305843",
                  "0.5070702006927486",
                  "0.8037863043522917",
                  "0.19040750207584167"
                ]
              ],
              "shape": {
                "columns": 5,
                "rows": 1
              }
            },
            "text/html": [
              "<div>\n",
              "<style scoped>\n",
              "    .dataframe tbody tr th:only-of-type {\n",
              "        vertical-align: middle;\n",
              "    }\n",
              "\n",
              "    .dataframe tbody tr th {\n",
              "        vertical-align: top;\n",
              "    }\n",
              "\n",
              "    .dataframe thead th {\n",
              "        text-align: right;\n",
              "    }\n",
              "</style>\n",
              "<table border=\"1\" class=\"dataframe\">\n",
              "  <thead>\n",
              "    <tr style=\"text-align: right;\">\n",
              "      <th></th>\n",
              "      <th>Mean Absolute Error (MAE)</th>\n",
              "      <th>Mean Squared Error (MSE)</th>\n",
              "      <th>Root Mean Squared Error (RMSE)</th>\n",
              "      <th>R-squared (R²)</th>\n",
              "      <th>Mean Absolute Percentage Error (MAPE)</th>\n",
              "    </tr>\n",
              "  </thead>\n",
              "  <tbody>\n",
              "    <tr>\n",
              "      <th>0</th>\n",
              "      <td>0.329076</td>\n",
              "      <td>0.25712</td>\n",
              "      <td>0.50707</td>\n",
              "      <td>0.803786</td>\n",
              "      <td>0.190408</td>\n",
              "    </tr>\n",
              "  </tbody>\n",
              "</table>\n",
              "</div>"
            ],
            "text/plain": [
              "   Mean Absolute Error (MAE)  Mean Squared Error (MSE)  \\\n",
              "0                   0.329076                   0.25712   \n",
              "\n",
              "   Root Mean Squared Error (RMSE)  R-squared (R²)  \\\n",
              "0                         0.50707        0.803786   \n",
              "\n",
              "   Mean Absolute Percentage Error (MAPE)  \n",
              "0                               0.190408  "
            ]
          },
          "metadata": {},
          "output_type": "display_data"
        }
      ],
      "source": [
        "rfr.fit(X_train, y_train)\n",
        "\n",
        "y_pred = rfr.predict(X_test)\n",
        "\n",
        "rfr_metrics = pd.DataFrame(\n",
        "    data={\n",
        "        \"Mean Absolute Error (MAE)\": mean_absolute_error(y_test, y_pred),\n",
        "        \"Mean Squared Error (MSE)\": mean_squared_error(y_test, y_pred),\n",
        "        \"Root Mean Squared Error (RMSE)\": root_mean_squared_error(y_test, y_pred),\n",
        "        \"R-squared (R²)\": r2_score(y_test, y_pred),\n",
        "        \"Mean Absolute Percentage Error (MAPE)\": mean_absolute_percentage_error(\n",
        "            y_test, y_pred\n",
        "        ),\n",
        "    },\n",
        "    index=[0],\n",
        ")\n",
        "\n",
        "display(rfr_metrics)"
      ]
    },
    {
      "cell_type": "markdown",
      "id": "c54048f1",
      "metadata": {
        "id": "c54048f1"
      },
      "source": [
        "### Gradient Boosting Regressor\n",
        "**What it is.** Gradient Boosting builds trees sequentially. Each new tree corrects the errors of the ensemble so far, using gradient descent on a chosen loss function. This allows it to capture complex non-linear relationships with high precision.\n",
        "\n",
        "**Why try it here.**  \n",
        "- Compared to Random Forest (parallel averaging), Gradient Boosting focuses more aggressively on hard-to-predict cases.  \n",
        "- It often achieves better accuracy but can overfit if not carefully regularised.\n",
        "\n",
        "**Configuration in this pass.**\n",
        "- `n_estimators=500`: many trees, but combined with a small learning rate.  \n",
        "- `learning_rate=0.05`: ensures gradual improvements and stability.  \n",
        "- `max_depth=4`: controls tree complexity; shallow trees reduce overfitting risk.  \n",
        "- `n_iter_no_change=20`: introduces early stopping if validation error stops improving.  \n",
        "\n",
        "**What to look for.**\n",
        "- If RMSE and MAE improve further compared to Random Forest, Gradient Boosting is leveraging residual corrections effectively.  \n",
        "- Stability across folds (low standard deviation) indicates robust learning.  \n",
        "- Later, this model can be fine-tuned with grid/random search for even better trade-offs.\n"
      ]
    },
    {
      "cell_type": "code",
      "execution_count": null,
      "id": "389d5495",
      "metadata": {
        "id": "389d5495",
        "outputId": "6c4ee628-64f7-4d6c-caff-ab0cd5dd5332"
      },
      "outputs": [
        {
          "name": "stdout",
          "output_type": "stream",
          "text": [
            "Repeated CV (train only) - mean and sd over 25 folds\n"
          ]
        },
        {
          "data": {
            "application/vnd.microsoft.datawrangler.viewer.v0+json": {
              "columns": [
                {
                  "name": "index",
                  "rawType": "object",
                  "type": "string"
                },
                {
                  "name": "rmse",
                  "rawType": "float64",
                  "type": "float"
                },
                {
                  "name": "mae",
                  "rawType": "float64",
                  "type": "float"
                },
                {
                  "name": "r2",
                  "rawType": "float64",
                  "type": "float"
                },
                {
                  "name": "mape",
                  "rawType": "float64",
                  "type": "float"
                }
              ],
              "ref": "a93dca57-f26f-4f4c-a1b3-3d0b0b9f6ee2",
              "rows": [
                [
                  "mean",
                  "0.4826",
                  "0.3252",
                  "0.8256",
                  "0.1833"
                ],
                [
                  "std",
                  "0.0104",
                  "0.0055",
                  "0.0075",
                  "0.0044"
                ]
              ],
              "shape": {
                "columns": 4,
                "rows": 2
              }
            },
            "text/html": [
              "<div>\n",
              "<style scoped>\n",
              "    .dataframe tbody tr th:only-of-type {\n",
              "        vertical-align: middle;\n",
              "    }\n",
              "\n",
              "    .dataframe tbody tr th {\n",
              "        vertical-align: top;\n",
              "    }\n",
              "\n",
              "    .dataframe thead th {\n",
              "        text-align: right;\n",
              "    }\n",
              "</style>\n",
              "<table border=\"1\" class=\"dataframe\">\n",
              "  <thead>\n",
              "    <tr style=\"text-align: right;\">\n",
              "      <th></th>\n",
              "      <th>rmse</th>\n",
              "      <th>mae</th>\n",
              "      <th>r2</th>\n",
              "      <th>mape</th>\n",
              "    </tr>\n",
              "  </thead>\n",
              "  <tbody>\n",
              "    <tr>\n",
              "      <th>mean</th>\n",
              "      <td>0.4826</td>\n",
              "      <td>0.3252</td>\n",
              "      <td>0.8256</td>\n",
              "      <td>0.1833</td>\n",
              "    </tr>\n",
              "    <tr>\n",
              "      <th>std</th>\n",
              "      <td>0.0104</td>\n",
              "      <td>0.0055</td>\n",
              "      <td>0.0075</td>\n",
              "      <td>0.0044</td>\n",
              "    </tr>\n",
              "  </tbody>\n",
              "</table>\n",
              "</div>"
            ],
            "text/plain": [
              "        rmse     mae      r2    mape\n",
              "mean  0.4826  0.3252  0.8256  0.1833\n",
              "std   0.0104  0.0055  0.0075  0.0044"
            ]
          },
          "metadata": {},
          "output_type": "display_data"
        }
      ],
      "source": [
        "from sklearn.ensemble import GradientBoostingRegressor\n",
        "\n",
        "gbreg = GradientBoostingRegressor(\n",
        "    n_estimators=500,\n",
        "    learning_rate=0.05,\n",
        "    max_depth=4,\n",
        "    n_iter_no_change=20,\n",
        "    random_state=42,\n",
        ")\n",
        "\n",
        "cv_gb = cross_validate(\n",
        "    estimator=gbreg,\n",
        "    X=X_train,\n",
        "    y=y_train,\n",
        "    cv=cv,\n",
        "    scoring={\n",
        "        \"rmse\": \"neg_root_mean_squared_error\",\n",
        "        \"mae\": \"neg_mean_absolute_error\",\n",
        "        \"r2\": \"r2\",\n",
        "        \"mape\": \"neg_mean_absolute_percentage_error\",\n",
        "    },\n",
        "    n_jobs=-1,\n",
        "    return_train_score=False,\n",
        ")\n",
        "scores_gb = pd.DataFrame(\n",
        "    data={\n",
        "        \"rmse\": -cv_gb[\"test_rmse\"],\n",
        "        \"mae\": -cv_gb[\"test_mae\"],\n",
        "        \"r2\": cv_gb[\"test_r2\"],\n",
        "        \"mape\": -cv_gb[\"test_mape\"],\n",
        "    }\n",
        ")\n",
        "\n",
        "# This is the corrected part\n",
        "summary_gb = scores_gb.agg([\"mean\", \"std\"]).round(4)\n",
        "print(\"Repeated CV (train only) - mean and sd over 25 folds\")\n",
        "display(summary_gb)"
      ]
    },
    {
      "cell_type": "markdown",
      "id": "88e2c64d",
      "metadata": {},
      "source": [
        "### Gradient Boosting: Confidence Intervals for CV Metrics\n",
        "\n",
        "As with the previous models, we now compute **95% confidence intervals (CIs)** for Gradient Boosting’s CV scores.  \n",
        "\n",
        "- These intervals summarise the uncertainty around the *mean* of each metric across the 25 folds.  \n",
        "- If the CIs for Gradient Boosting lie entirely above (for R²) or below (for RMSE/MAE) those of Random Forest, we gain evidence that the improvement is statistically meaningful.  \n",
        "- Narrower intervals also signal greater stability across folds, an advantage often seen in boosting methods.  \n",
        "\n",
        "This step helps us judge whether Gradient Boosting’s apparent gains reflect true predictive strength rather than random variation from the CV splits.\n"
      ]
    },
    {
      "cell_type": "code",
      "execution_count": null,
      "id": "1ddc8775",
      "metadata": {},
      "outputs": [
        {
          "data": {
            "application/vnd.microsoft.datawrangler.viewer.v0+json": {
              "columns": [
                {
                  "name": "index",
                  "rawType": "int64",
                  "type": "integer"
                },
                {
                  "name": "Metric",
                  "rawType": "object",
                  "type": "string"
                },
                {
                  "name": "Lower",
                  "rawType": "float64",
                  "type": "float"
                },
                {
                  "name": "Upper",
                  "rawType": "float64",
                  "type": "float"
                }
              ],
              "ref": "6dd4a597-2417-4557-9528-65f96d97bbf6",
              "rows": [
                [
                  "0",
                  "RMSE",
                  "0.4783444302297501",
                  "0.4869499566610946"
                ],
                [
                  "1",
                  "MAE",
                  "0.32293555339059626",
                  "0.327466617904797"
                ],
                [
                  "2",
                  "R2",
                  "0.82248145345161",
                  "0.8287031188936297"
                ],
                [
                  "3",
                  "MAPE",
                  "0.1814602247606627",
                  "0.1850820374360827"
                ]
              ],
              "shape": {
                "columns": 3,
                "rows": 4
              }
            },
            "text/html": [
              "<div>\n",
              "<style scoped>\n",
              "    .dataframe tbody tr th:only-of-type {\n",
              "        vertical-align: middle;\n",
              "    }\n",
              "\n",
              "    .dataframe tbody tr th {\n",
              "        vertical-align: top;\n",
              "    }\n",
              "\n",
              "    .dataframe thead th {\n",
              "        text-align: right;\n",
              "    }\n",
              "</style>\n",
              "<table border=\"1\" class=\"dataframe\">\n",
              "  <thead>\n",
              "    <tr style=\"text-align: right;\">\n",
              "      <th></th>\n",
              "      <th>Metric</th>\n",
              "      <th>Lower</th>\n",
              "      <th>Upper</th>\n",
              "    </tr>\n",
              "  </thead>\n",
              "  <tbody>\n",
              "    <tr>\n",
              "      <th>0</th>\n",
              "      <td>RMSE</td>\n",
              "      <td>0.478344</td>\n",
              "      <td>0.486950</td>\n",
              "    </tr>\n",
              "    <tr>\n",
              "      <th>1</th>\n",
              "      <td>MAE</td>\n",
              "      <td>0.322936</td>\n",
              "      <td>0.327467</td>\n",
              "    </tr>\n",
              "    <tr>\n",
              "      <th>2</th>\n",
              "      <td>R2</td>\n",
              "      <td>0.822481</td>\n",
              "      <td>0.828703</td>\n",
              "    </tr>\n",
              "    <tr>\n",
              "      <th>3</th>\n",
              "      <td>MAPE</td>\n",
              "      <td>0.181460</td>\n",
              "      <td>0.185082</td>\n",
              "    </tr>\n",
              "  </tbody>\n",
              "</table>\n",
              "</div>"
            ],
            "text/plain": [
              "  Metric     Lower     Upper\n",
              "0   RMSE  0.478344  0.486950\n",
              "1    MAE  0.322936  0.327467\n",
              "2     R2  0.822481  0.828703\n",
              "3   MAPE  0.181460  0.185082"
            ]
          },
          "metadata": {},
          "output_type": "display_data"
        }
      ],
      "source": [
        "from scipy.stats import t\n",
        "\n",
        "n = len(scores_gb)\n",
        "\n",
        "tcrit = t.ppf(0.975, df=n - 1)\n",
        "\n",
        "cirgb_df = pd.DataFrame(\n",
        "    data=[\n",
        "        {\n",
        "            \"Metric\": metric.upper(),\n",
        "            \"Lower\": scores_gb[metric].mean()\n",
        "            - tcrit * scores_gb[metric].std(ddof=1) / np.sqrt(n),\n",
        "            \"Upper\": scores_gb[metric].mean()\n",
        "            + tcrit * scores_gb[metric].std(ddof=1) / np.sqrt(n),\n",
        "        }\n",
        "        for metric in scores_gb.columns\n",
        "    ]\n",
        ")\n",
        "display(cirgb_df)"
      ]
    },
    {
      "cell_type": "markdown",
      "id": "45ac706c",
      "metadata": {},
      "source": [
        "### Gradient Boosting: Test-Set Evaluation\n",
        "\n",
        "With the Gradient Boosting model trained on the full training data, we now assess its performance on the **held-out test set**.  \n",
        "\n",
        "This step answers two key questions:\n",
        "- Does Gradient Boosting maintain the performance advantage observed in cross-validation when exposed to truly unseen data?  \n",
        "- Are the test metrics consistent with the CV confidence intervals, confirming that the model generalises reliably?  \n",
        "\n",
        "What to focus on:\n",
        "- **RMSE and MAE**: do they improve beyond the Random Forest results?  \n",
        "- **R²**: if this exceeds 0.80 and remains close to CV estimates, the model is capturing strong signal without overfitting.  \n",
        "- **MAPE**: lower values reflect more practical, interpretable accuracy in percentage terms.  \n",
        "\n",
        "Together, these results indicate whether Gradient Boosting provides a stable step up in predictive power compared to both the linear baseline and the Random Forest.\n"
      ]
    },
    {
      "cell_type": "code",
      "execution_count": null,
      "id": "7150fb1a",
      "metadata": {},
      "outputs": [
        {
          "data": {
            "application/vnd.microsoft.datawrangler.viewer.v0+json": {
              "columns": [
                {
                  "name": "index",
                  "rawType": "int64",
                  "type": "integer"
                },
                {
                  "name": "Mean Absolute Error (MAE)",
                  "rawType": "float64",
                  "type": "float"
                },
                {
                  "name": "Mean Squared Error (MSE)",
                  "rawType": "float64",
                  "type": "float"
                },
                {
                  "name": "Root Mean Squared Error (RMSE)",
                  "rawType": "float64",
                  "type": "float"
                },
                {
                  "name": "R-squared (R²)",
                  "rawType": "float64",
                  "type": "float"
                },
                {
                  "name": "Mean Absolute Percentage Error (MAPE)",
                  "rawType": "float64",
                  "type": "float"
                }
              ],
              "ref": "7e3828c7-9a88-42dd-82a6-9173351843c8",
              "rows": [
                [
                  "0",
                  "0.3229123330794716",
                  "0.23397954756111758",
                  "0.4837143243290585",
                  "0.8214454025832355",
                  "0.18749070387305267"
                ]
              ],
              "shape": {
                "columns": 5,
                "rows": 1
              }
            },
            "text/html": [
              "<div>\n",
              "<style scoped>\n",
              "    .dataframe tbody tr th:only-of-type {\n",
              "        vertical-align: middle;\n",
              "    }\n",
              "\n",
              "    .dataframe tbody tr th {\n",
              "        vertical-align: top;\n",
              "    }\n",
              "\n",
              "    .dataframe thead th {\n",
              "        text-align: right;\n",
              "    }\n",
              "</style>\n",
              "<table border=\"1\" class=\"dataframe\">\n",
              "  <thead>\n",
              "    <tr style=\"text-align: right;\">\n",
              "      <th></th>\n",
              "      <th>Mean Absolute Error (MAE)</th>\n",
              "      <th>Mean Squared Error (MSE)</th>\n",
              "      <th>Root Mean Squared Error (RMSE)</th>\n",
              "      <th>R-squared (R²)</th>\n",
              "      <th>Mean Absolute Percentage Error (MAPE)</th>\n",
              "    </tr>\n",
              "  </thead>\n",
              "  <tbody>\n",
              "    <tr>\n",
              "      <th>0</th>\n",
              "      <td>0.322912</td>\n",
              "      <td>0.23398</td>\n",
              "      <td>0.483714</td>\n",
              "      <td>0.821445</td>\n",
              "      <td>0.187491</td>\n",
              "    </tr>\n",
              "  </tbody>\n",
              "</table>\n",
              "</div>"
            ],
            "text/plain": [
              "   Mean Absolute Error (MAE)  Mean Squared Error (MSE)  \\\n",
              "0                   0.322912                   0.23398   \n",
              "\n",
              "   Root Mean Squared Error (RMSE)  R-squared (R²)  \\\n",
              "0                        0.483714        0.821445   \n",
              "\n",
              "   Mean Absolute Percentage Error (MAPE)  \n",
              "0                               0.187491  "
            ]
          },
          "metadata": {},
          "output_type": "display_data"
        }
      ],
      "source": [
        "gbreg.fit(X_train, y_train)\n",
        "\n",
        "y_pred = gbreg.predict(X_test)\n",
        "\n",
        "gbreg_metrics = pd.DataFrame(\n",
        "    data={\n",
        "        \"Mean Absolute Error (MAE)\": mean_absolute_error(y_test, y_pred),\n",
        "        \"Mean Squared Error (MSE)\": mean_squared_error(y_test, y_pred),\n",
        "        \"Root Mean Squared Error (RMSE)\": root_mean_squared_error(y_test, y_pred),\n",
        "        \"R-squared (R²)\": r2_score(y_test, y_pred),\n",
        "        \"Mean Absolute Percentage Error (MAPE)\": mean_absolute_percentage_error(\n",
        "            y_test, y_pred\n",
        "        ),\n",
        "    },\n",
        "    index=[0],\n",
        ")\n",
        "\n",
        "display(gbreg_metrics)"
      ]
    },
    {
      "cell_type": "markdown",
      "id": "30af289d",
      "metadata": {
        "id": "30af289d"
      },
      "source": [
        "### XGBoost Regressor\n",
        "\n",
        "**What it is.** XGBoost is a highly optimised implementation of gradient boosting that adds system-level improvements (parallelisation, regularisation, efficient tree pruning). It is widely used in Kaggle competitions and applied ML practice due to its strong predictive performance and scalability.\n",
        "\n",
        "**Why try it here.**  \n",
        "- It extends the ideas of Gradient Boosting but with more robust defaults and speed.  \n",
        "- Built-in regularisation (`λ`, `γ`) helps control overfitting.  \n",
        "- Supports large ensembles without prohibitive runtime.\n",
        "\n",
        "**Configuration in this pass.**  \n",
        "- `n_estimators=1000` with a small `learning_rate=0.05`: gradual learning across many trees.  \n",
        "- `n_jobs=-1`: parallelises across all cores.  \n",
        "- `random_state=42`: ensures reproducibility.  \n",
        "\n",
        "**What to look for.**  \n",
        "- Whether **RMSE/MAE** drop further compared to Gradient Boosting.  \n",
        "- Stability across folds: if standard deviations are small, the model is robust.  \n",
        "- If performance converges beyond ~0.82–0.85 R², the marginal gain over Gradient Boosting may be diminishing — a common plateau in this dataset.\n",
        "\n",
        "XGBoost here acts as the “heavyweight” model in our comparison, often setting the benchmark for tabular regression tasks.\n"
      ]
    },
    {
      "cell_type": "code",
      "execution_count": null,
      "id": "6df8e27a",
      "metadata": {
        "id": "6df8e27a",
        "outputId": "c2edc984-d1df-4150-b54d-960709c16f26"
      },
      "outputs": [
        {
          "name": "stdout",
          "output_type": "stream",
          "text": [
            "Repeated CV (train only) - mean and sd over 25 folds\n"
          ]
        },
        {
          "data": {
            "application/vnd.microsoft.datawrangler.viewer.v0+json": {
              "columns": [
                {
                  "name": "index",
                  "rawType": "object",
                  "type": "string"
                },
                {
                  "name": "rmse",
                  "rawType": "float64",
                  "type": "float"
                },
                {
                  "name": "mae",
                  "rawType": "float64",
                  "type": "float"
                },
                {
                  "name": "r2",
                  "rawType": "float64",
                  "type": "float"
                },
                {
                  "name": "mape",
                  "rawType": "float64",
                  "type": "float"
                }
              ],
              "ref": "76cd6fd2-4a65-4716-895f-db28f5914acd",
              "rows": [
                [
                  "mean",
                  "0.4568",
                  "0.2973",
                  "0.8438",
                  "0.1653"
                ],
                [
                  "std",
                  "0.009",
                  "0.0046",
                  "0.0063",
                  "0.0034"
                ]
              ],
              "shape": {
                "columns": 4,
                "rows": 2
              }
            },
            "text/html": [
              "<div>\n",
              "<style scoped>\n",
              "    .dataframe tbody tr th:only-of-type {\n",
              "        vertical-align: middle;\n",
              "    }\n",
              "\n",
              "    .dataframe tbody tr th {\n",
              "        vertical-align: top;\n",
              "    }\n",
              "\n",
              "    .dataframe thead th {\n",
              "        text-align: right;\n",
              "    }\n",
              "</style>\n",
              "<table border=\"1\" class=\"dataframe\">\n",
              "  <thead>\n",
              "    <tr style=\"text-align: right;\">\n",
              "      <th></th>\n",
              "      <th>rmse</th>\n",
              "      <th>mae</th>\n",
              "      <th>r2</th>\n",
              "      <th>mape</th>\n",
              "    </tr>\n",
              "  </thead>\n",
              "  <tbody>\n",
              "    <tr>\n",
              "      <th>mean</th>\n",
              "      <td>0.4568</td>\n",
              "      <td>0.2973</td>\n",
              "      <td>0.8438</td>\n",
              "      <td>0.1653</td>\n",
              "    </tr>\n",
              "    <tr>\n",
              "      <th>std</th>\n",
              "      <td>0.0090</td>\n",
              "      <td>0.0046</td>\n",
              "      <td>0.0063</td>\n",
              "      <td>0.0034</td>\n",
              "    </tr>\n",
              "  </tbody>\n",
              "</table>\n",
              "</div>"
            ],
            "text/plain": [
              "        rmse     mae      r2    mape\n",
              "mean  0.4568  0.2973  0.8438  0.1653\n",
              "std   0.0090  0.0046  0.0063  0.0034"
            ]
          },
          "metadata": {},
          "output_type": "display_data"
        }
      ],
      "source": [
        "from xgboost import XGBRegressor\n",
        "\n",
        "xgbreg = XGBRegressor(\n",
        "    n_estimators=1000,\n",
        "    learning_rate=0.05,\n",
        "    n_jobs=-1,\n",
        "    random_state=42,\n",
        ")\n",
        "\n",
        "cv_xgb = cross_validate(\n",
        "    estimator=xgbreg,\n",
        "    X=X_train,\n",
        "    y=y_train,\n",
        "    cv=cv,\n",
        "    scoring={\n",
        "        \"rmse\": \"neg_root_mean_squared_error\",\n",
        "        \"mae\": \"neg_mean_absolute_error\",\n",
        "        \"r2\": \"r2\",\n",
        "        \"mape\": \"neg_mean_absolute_percentage_error\",\n",
        "    },\n",
        "    n_jobs=-1,\n",
        "    return_train_score=False,\n",
        ")\n",
        "\n",
        "scores_xgb = pd.DataFrame(\n",
        "    data={\n",
        "        \"rmse\": -cv_xgb[\"test_rmse\"],\n",
        "        \"mae\": -cv_xgb[\"test_mae\"],\n",
        "        \"r2\": cv_xgb[\"test_r2\"],\n",
        "        \"mape\": -cv_xgb[\"test_mape\"],\n",
        "    }\n",
        ")\n",
        "\n",
        "summary_xgb = scores_xgb.agg([\"mean\", \"std\"]).round(4)\n",
        "print(\"Repeated CV (train only) - mean and sd over 25 folds\")\n",
        "display(summary_xgb)"
      ]
    },
    {
      "cell_type": "markdown",
      "id": "8a595d4a",
      "metadata": {},
      "source": [
        "### XGBoost: Confidence Intervals for CV Metrics\n",
        "\n",
        "We extend the same statistical treatment to XGBoost by computing **95% confidence intervals** for its cross-validation scores.  \n",
        "\n",
        "- The intervals summarise the range of plausible mean performance values across the 25 folds.  \n",
        "- If the RMSE and MAE intervals are consistently lower, and the R² interval consistently higher, than those of Gradient Boosting, we have stronger evidence that XGBoost provides a real improvement rather than a noisy fluctuation.  \n",
        "- Narrow confidence intervals indicate stability, showing that XGBoost generalises more consistently across different resampled splits.  \n",
        "\n",
        "This comparison helps confirm whether XGBoost truly outperforms the other models, or whether apparent gains are within the margin of uncertainty.\n"
      ]
    },
    {
      "cell_type": "code",
      "execution_count": null,
      "id": "a392b13a",
      "metadata": {},
      "outputs": [
        {
          "data": {
            "application/vnd.microsoft.datawrangler.viewer.v0+json": {
              "columns": [
                {
                  "name": "index",
                  "rawType": "int64",
                  "type": "integer"
                },
                {
                  "name": "Metric",
                  "rawType": "object",
                  "type": "string"
                },
                {
                  "name": "Lower",
                  "rawType": "float64",
                  "type": "float"
                },
                {
                  "name": "Upper",
                  "rawType": "float64",
                  "type": "float"
                }
              ],
              "ref": "6434e274-5750-409e-a9cc-a4e9e98c5260",
              "rows": [
                [
                  "0",
                  "RMSE",
                  "0.45307217185986304",
                  "0.46047291055005235"
                ],
                [
                  "1",
                  "MAE",
                  "0.29542647843455244",
                  "0.2992150834530451"
                ],
                [
                  "2",
                  "R2",
                  "0.8412135896597356",
                  "0.8463819288063154"
                ],
                [
                  "3",
                  "MAPE",
                  "0.16388963843909382",
                  "0.16668267238885992"
                ]
              ],
              "shape": {
                "columns": 3,
                "rows": 4
              }
            },
            "text/html": [
              "<div>\n",
              "<style scoped>\n",
              "    .dataframe tbody tr th:only-of-type {\n",
              "        vertical-align: middle;\n",
              "    }\n",
              "\n",
              "    .dataframe tbody tr th {\n",
              "        vertical-align: top;\n",
              "    }\n",
              "\n",
              "    .dataframe thead th {\n",
              "        text-align: right;\n",
              "    }\n",
              "</style>\n",
              "<table border=\"1\" class=\"dataframe\">\n",
              "  <thead>\n",
              "    <tr style=\"text-align: right;\">\n",
              "      <th></th>\n",
              "      <th>Metric</th>\n",
              "      <th>Lower</th>\n",
              "      <th>Upper</th>\n",
              "    </tr>\n",
              "  </thead>\n",
              "  <tbody>\n",
              "    <tr>\n",
              "      <th>0</th>\n",
              "      <td>RMSE</td>\n",
              "      <td>0.453072</td>\n",
              "      <td>0.460473</td>\n",
              "    </tr>\n",
              "    <tr>\n",
              "      <th>1</th>\n",
              "      <td>MAE</td>\n",
              "      <td>0.295426</td>\n",
              "      <td>0.299215</td>\n",
              "    </tr>\n",
              "    <tr>\n",
              "      <th>2</th>\n",
              "      <td>R2</td>\n",
              "      <td>0.841214</td>\n",
              "      <td>0.846382</td>\n",
              "    </tr>\n",
              "    <tr>\n",
              "      <th>3</th>\n",
              "      <td>MAPE</td>\n",
              "      <td>0.163890</td>\n",
              "      <td>0.166683</td>\n",
              "    </tr>\n",
              "  </tbody>\n",
              "</table>\n",
              "</div>"
            ],
            "text/plain": [
              "  Metric     Lower     Upper\n",
              "0   RMSE  0.453072  0.460473\n",
              "1    MAE  0.295426  0.299215\n",
              "2     R2  0.841214  0.846382\n",
              "3   MAPE  0.163890  0.166683"
            ]
          },
          "metadata": {},
          "output_type": "display_data"
        }
      ],
      "source": [
        "from scipy.stats import t\n",
        "\n",
        "n = len(scores_xgb)\n",
        "\n",
        "# Critical value for 95% CI from t-distribution (df=n-1, two-tailed alpha=0.05)\n",
        "tcrit = t.ppf(0.975, df=n - 1)\n",
        "\n",
        "# Compute 95% CI for each metric: mean ± tcrit * (std / sqrt(n))\n",
        "# Accounts for finite sample uncertainty in mean performance estimate\n",
        "cirxgb_df = pd.DataFrame(\n",
        "    data=[\n",
        "        {\n",
        "            \"Metric\": metric.upper(),\n",
        "            \"Lower\": scores_xgb[metric].mean()\n",
        "            - tcrit * scores_xgb[metric].std(ddof=1) / np.sqrt(n),\n",
        "            \"Upper\": scores_xgb[metric].mean()\n",
        "            + tcrit * scores_xgb[metric].std(ddof=1) / np.sqrt(n),\n",
        "        }\n",
        "        for metric in scores_xgb.columns\n",
        "    ]\n",
        ")\n",
        "display(cirxgb_df)"
      ]
    },
    {
      "cell_type": "markdown",
      "id": "36848b76",
      "metadata": {},
      "source": [
        "### XGBoost: Test-Set Evaluation\n",
        "\n",
        "With XGBoost trained on the full training set, we now measure its performance on the **unseen test set**.  \n",
        "\n",
        "This step is the decisive check:\n",
        "- It validates whether the strong cross-validation results hold on data the model has never encountered.  \n",
        "- If the test metrics align with the CV confidence intervals, we can be confident in the model’s generalisation.  \n",
        "- If performance drops sharply, it may indicate overfitting or that the CV procedure was too optimistic.  \n",
        "\n",
        "Key aspects to look for:\n",
        "- **RMSE / MAE**: should be lower than both Gradient Boosting and Random Forest.  \n",
        "- **R²**: if above ~0.82–0.85, XGBoost is capturing most of the predictable variance in housing values.  \n",
        "- **MAPE**: a practical percentage error measure—lower MAPE means more reliable predictions for stakeholders.  \n",
        "\n",
        "This marks the end of the single-model evaluations and sets the stage for a **clean model comparison table** bringing together all methods.\n"
      ]
    },
    {
      "cell_type": "code",
      "execution_count": null,
      "id": "6827c122",
      "metadata": {},
      "outputs": [
        {
          "data": {
            "application/vnd.microsoft.datawrangler.viewer.v0+json": {
              "columns": [
                {
                  "name": "index",
                  "rawType": "int64",
                  "type": "integer"
                },
                {
                  "name": "Mean Absolute Error (MAE)",
                  "rawType": "float64",
                  "type": "float"
                },
                {
                  "name": "Mean Squared Error (MSE)",
                  "rawType": "float64",
                  "type": "float"
                },
                {
                  "name": "Root Mean Squared Error (RMSE)",
                  "rawType": "float64",
                  "type": "float"
                },
                {
                  "name": "R-squared (R²)",
                  "rawType": "float64",
                  "type": "float"
                },
                {
                  "name": "Mean Absolute Percentage Error (MAPE)",
                  "rawType": "float64",
                  "type": "float"
                }
              ],
              "ref": "50492bfc-2bb2-40f2-85a0-40d5ea67f4e6",
              "rows": [
                [
                  "0",
                  "0.2898321419374425",
                  "0.20193750214618078",
                  "0.4493745677563215",
                  "0.8458973454094745",
                  "0.16780688050549888"
                ]
              ],
              "shape": {
                "columns": 5,
                "rows": 1
              }
            },
            "text/html": [
              "<div>\n",
              "<style scoped>\n",
              "    .dataframe tbody tr th:only-of-type {\n",
              "        vertical-align: middle;\n",
              "    }\n",
              "\n",
              "    .dataframe tbody tr th {\n",
              "        vertical-align: top;\n",
              "    }\n",
              "\n",
              "    .dataframe thead th {\n",
              "        text-align: right;\n",
              "    }\n",
              "</style>\n",
              "<table border=\"1\" class=\"dataframe\">\n",
              "  <thead>\n",
              "    <tr style=\"text-align: right;\">\n",
              "      <th></th>\n",
              "      <th>Mean Absolute Error (MAE)</th>\n",
              "      <th>Mean Squared Error (MSE)</th>\n",
              "      <th>Root Mean Squared Error (RMSE)</th>\n",
              "      <th>R-squared (R²)</th>\n",
              "      <th>Mean Absolute Percentage Error (MAPE)</th>\n",
              "    </tr>\n",
              "  </thead>\n",
              "  <tbody>\n",
              "    <tr>\n",
              "      <th>0</th>\n",
              "      <td>0.289832</td>\n",
              "      <td>0.201938</td>\n",
              "      <td>0.449375</td>\n",
              "      <td>0.845897</td>\n",
              "      <td>0.167807</td>\n",
              "    </tr>\n",
              "  </tbody>\n",
              "</table>\n",
              "</div>"
            ],
            "text/plain": [
              "   Mean Absolute Error (MAE)  Mean Squared Error (MSE)  \\\n",
              "0                   0.289832                  0.201938   \n",
              "\n",
              "   Root Mean Squared Error (RMSE)  R-squared (R²)  \\\n",
              "0                        0.449375        0.845897   \n",
              "\n",
              "   Mean Absolute Percentage Error (MAPE)  \n",
              "0                               0.167807  "
            ]
          },
          "metadata": {},
          "output_type": "display_data"
        }
      ],
      "source": [
        "xgbreg.fit(X_train, y_train)\n",
        "\n",
        "y_pred = xgbreg.predict(X_test)\n",
        "\n",
        "xgbreg_metrics = pd.DataFrame(\n",
        "    data={\n",
        "        \"Mean Absolute Error (MAE)\": mean_absolute_error(y_test, y_pred),\n",
        "        \"Mean Squared Error (MSE)\": mean_squared_error(y_test, y_pred),\n",
        "        \"Root Mean Squared Error (RMSE)\": root_mean_squared_error(y_test, y_pred),\n",
        "        \"R-squared (R²)\": r2_score(y_test, y_pred),\n",
        "        \"Mean Absolute Percentage Error (MAPE)\": mean_absolute_percentage_error(\n",
        "            y_test, y_pred\n",
        "        ),\n",
        "    },\n",
        "    index=[0],\n",
        ")\n",
        "\n",
        "display(xgbreg_metrics)"
      ]
    },
    {
      "cell_type": "markdown",
      "id": "eab4ee05",
      "metadata": {},
      "source": [
        "### Cross-Validation Summary: Model Comparison\n",
        "\n",
        "Now that each model has been evaluated with the **same repeated CV procedure**, we combine their results into a single dataframe for direct comparison.\n",
        "\n",
        "- Each row corresponds to a model (Linear Regression, Random Forest, Gradient Boosting, XGBoost).  \n",
        "- For every metric (RMSE, MAE, R², MAPE), we report **mean ± standard deviation** across the 25 folds.  \n",
        "- Using the same CV splits ensures a **fair, fold-aligned comparison**: differences reflect model capacity rather than random variation from different splits.\n",
        "\n",
        "How to read this table:\n",
        "- Lower mean RMSE/MAE → smaller errors.  \n",
        "- Higher mean R² → more variance explained.  \n",
        "- Smaller standard deviation → more stable performance across folds.  \n",
        "\n",
        "This summary lets us see not only which model performs best on average, but also which model is the most **reliable and consistent**.\n"
      ]
    },
    {
      "cell_type": "code",
      "execution_count": null,
      "id": "1cf50696",
      "metadata": {},
      "outputs": [
        {
          "data": {
            "application/vnd.microsoft.datawrangler.viewer.v0+json": {
              "columns": [
                {
                  "name": "model",
                  "rawType": "object",
                  "type": "string"
                },
                {
                  "name": "('rmse', 'mean')",
                  "rawType": "float64",
                  "type": "float"
                },
                {
                  "name": "('rmse', 'std')",
                  "rawType": "float64",
                  "type": "float"
                },
                {
                  "name": "('mae', 'mean')",
                  "rawType": "float64",
                  "type": "float"
                },
                {
                  "name": "('mae', 'std')",
                  "rawType": "float64",
                  "type": "float"
                },
                {
                  "name": "('r2', 'mean')",
                  "rawType": "float64",
                  "type": "float"
                },
                {
                  "name": "('r2', 'std')",
                  "rawType": "float64",
                  "type": "float"
                },
                {
                  "name": "('mape', 'mean')",
                  "rawType": "float64",
                  "type": "float"
                },
                {
                  "name": "('mape', 'std')",
                  "rawType": "float64",
                  "type": "float"
                }
              ],
              "ref": "30bbfe92-6c1e-48fa-886a-7a1820ba60f9",
              "rows": [
                [
                  "GradientBoostingRegressor",
                  "0.4826",
                  "0.0104",
                  "0.3252",
                  "0.0055",
                  "0.8256",
                  "0.0075",
                  "0.1833",
                  "0.0044"
                ],
                [
                  "LinearRegression",
                  "0.7397",
                  "0.0955",
                  "0.5296",
                  "0.0091",
                  "0.5837",
                  "0.1386",
                  "0.3154",
                  "0.0081"
                ],
                [
                  "RandomForestRegressor",
                  "0.5122",
                  "0.0119",
                  "0.3357",
                  "0.0068",
                  "0.8036",
                  "0.0085",
                  "0.1882",
                  "0.0045"
                ],
                [
                  "XGBRegressor",
                  "0.4568",
                  "0.009",
                  "0.2973",
                  "0.0046",
                  "0.8438",
                  "0.0063",
                  "0.1653",
                  "0.0034"
                ]
              ],
              "shape": {
                "columns": 8,
                "rows": 4
              }
            },
            "text/html": [
              "<div>\n",
              "<style scoped>\n",
              "    .dataframe tbody tr th:only-of-type {\n",
              "        vertical-align: middle;\n",
              "    }\n",
              "\n",
              "    .dataframe tbody tr th {\n",
              "        vertical-align: top;\n",
              "    }\n",
              "\n",
              "    .dataframe thead tr th {\n",
              "        text-align: left;\n",
              "    }\n",
              "\n",
              "    .dataframe thead tr:last-of-type th {\n",
              "        text-align: right;\n",
              "    }\n",
              "</style>\n",
              "<table border=\"1\" class=\"dataframe\">\n",
              "  <thead>\n",
              "    <tr>\n",
              "      <th></th>\n",
              "      <th colspan=\"2\" halign=\"left\">rmse</th>\n",
              "      <th colspan=\"2\" halign=\"left\">mae</th>\n",
              "      <th colspan=\"2\" halign=\"left\">r2</th>\n",
              "      <th colspan=\"2\" halign=\"left\">mape</th>\n",
              "    </tr>\n",
              "    <tr>\n",
              "      <th></th>\n",
              "      <th>mean</th>\n",
              "      <th>std</th>\n",
              "      <th>mean</th>\n",
              "      <th>std</th>\n",
              "      <th>mean</th>\n",
              "      <th>std</th>\n",
              "      <th>mean</th>\n",
              "      <th>std</th>\n",
              "    </tr>\n",
              "    <tr>\n",
              "      <th>model</th>\n",
              "      <th></th>\n",
              "      <th></th>\n",
              "      <th></th>\n",
              "      <th></th>\n",
              "      <th></th>\n",
              "      <th></th>\n",
              "      <th></th>\n",
              "      <th></th>\n",
              "    </tr>\n",
              "  </thead>\n",
              "  <tbody>\n",
              "    <tr>\n",
              "      <th>GradientBoostingRegressor</th>\n",
              "      <td>0.4826</td>\n",
              "      <td>0.0104</td>\n",
              "      <td>0.3252</td>\n",
              "      <td>0.0055</td>\n",
              "      <td>0.8256</td>\n",
              "      <td>0.0075</td>\n",
              "      <td>0.1833</td>\n",
              "      <td>0.0044</td>\n",
              "    </tr>\n",
              "    <tr>\n",
              "      <th>LinearRegression</th>\n",
              "      <td>0.7397</td>\n",
              "      <td>0.0955</td>\n",
              "      <td>0.5296</td>\n",
              "      <td>0.0091</td>\n",
              "      <td>0.5837</td>\n",
              "      <td>0.1386</td>\n",
              "      <td>0.3154</td>\n",
              "      <td>0.0081</td>\n",
              "    </tr>\n",
              "    <tr>\n",
              "      <th>RandomForestRegressor</th>\n",
              "      <td>0.5122</td>\n",
              "      <td>0.0119</td>\n",
              "      <td>0.3357</td>\n",
              "      <td>0.0068</td>\n",
              "      <td>0.8036</td>\n",
              "      <td>0.0085</td>\n",
              "      <td>0.1882</td>\n",
              "      <td>0.0045</td>\n",
              "    </tr>\n",
              "    <tr>\n",
              "      <th>XGBRegressor</th>\n",
              "      <td>0.4568</td>\n",
              "      <td>0.0090</td>\n",
              "      <td>0.2973</td>\n",
              "      <td>0.0046</td>\n",
              "      <td>0.8438</td>\n",
              "      <td>0.0063</td>\n",
              "      <td>0.1653</td>\n",
              "      <td>0.0034</td>\n",
              "    </tr>\n",
              "  </tbody>\n",
              "</table>\n",
              "</div>"
            ],
            "text/plain": [
              "                             rmse             mae              r2          \\\n",
              "                             mean     std    mean     std    mean     std   \n",
              "model                                                                       \n",
              "GradientBoostingRegressor  0.4826  0.0104  0.3252  0.0055  0.8256  0.0075   \n",
              "LinearRegression           0.7397  0.0955  0.5296  0.0091  0.5837  0.1386   \n",
              "RandomForestRegressor      0.5122  0.0119  0.3357  0.0068  0.8036  0.0085   \n",
              "XGBRegressor               0.4568  0.0090  0.2973  0.0046  0.8438  0.0063   \n",
              "\n",
              "                             mape          \n",
              "                             mean     std  \n",
              "model                                      \n",
              "GradientBoostingRegressor  0.1833  0.0044  \n",
              "LinearRegression           0.3154  0.0081  \n",
              "RandomForestRegressor      0.1882  0.0045  \n",
              "XGBRegressor               0.1653  0.0034  "
            ]
          },
          "execution_count": 104,
          "metadata": {},
          "output_type": "execute_result"
        }
      ],
      "source": [
        "scores_all = pd.concat(\n",
        "    [\n",
        "        pd.DataFrame({\"model\": \"LinearRegression\", **scores_lr}),\n",
        "        pd.DataFrame({\"model\": \"RandomForestRegressor\", **scores_rfr}),\n",
        "        pd.DataFrame({\"model\": \"GradientBoostingRegressor\", **scores_gb}),\n",
        "        pd.DataFrame({\"model\": \"XGBRegressor\", **scores_xgb}),\n",
        "    ],\n",
        "    ignore_index=True,\n",
        ")\n",
        "\n",
        "# mean ± sd by model\n",
        "summary = scores_all.groupby(\"model\").agg([\"mean\", \"std\"]).round(4)\n",
        "summary"
      ]
    },
    {
      "cell_type": "markdown",
      "id": "1f313b97",
      "metadata": {},
      "source": [
        "### Test-Set Performance: Consolidated Table\n",
        "\n",
        "After evaluating each model on the hold-out test set, we gather all results into a **single comparison table**:\n",
        "\n",
        "- Rows correspond to models (Linear Regression, Random Forest, Gradient Boosting, XGBoost).  \n",
        "- Columns show the five metrics: **MAE, MSE, RMSE, R², MAPE**.  \n",
        "- Values are rounded for readability.\n",
        "\n",
        "How to interpret:\n",
        "- Compare directly across rows to see which model has the lowest errors and highest explanatory power.  \n",
        "- If test metrics are consistent with the cross-validation confidence intervals, we can trust that the models generalise well.  \n",
        "- This table serves as the **final benchmark**, making clear how much each model improves upon the linear baseline.\n"
      ]
    },
    {
      "cell_type": "code",
      "execution_count": null,
      "id": "eb7d120b",
      "metadata": {},
      "outputs": [
        {
          "data": {
            "application/vnd.microsoft.datawrangler.viewer.v0+json": {
              "columns": [
                {
                  "name": "index",
                  "rawType": "int64",
                  "type": "integer"
                },
                {
                  "name": "model",
                  "rawType": "object",
                  "type": "string"
                },
                {
                  "name": "Mean Absolute Error (MAE)",
                  "rawType": "float64",
                  "type": "float"
                },
                {
                  "name": "Mean Squared Error (MSE)",
                  "rawType": "float64",
                  "type": "float"
                },
                {
                  "name": "Root Mean Squared Error (RMSE)",
                  "rawType": "float64",
                  "type": "float"
                },
                {
                  "name": "R-squared (R²)",
                  "rawType": "float64",
                  "type": "float"
                },
                {
                  "name": "Mean Absolute Percentage Error (MAPE)",
                  "rawType": "float64",
                  "type": "float"
                }
              ],
              "ref": "e8674692-2ac4-4403-926e-5cf7f33dabe9",
              "rows": [
                [
                  "0",
                  "LinearRegression",
                  "0.5332",
                  "0.558",
                  "0.747",
                  "0.5742",
                  "0.3205"
                ],
                [
                  "1",
                  "RandomForestRegressor",
                  "0.3291",
                  "0.2571",
                  "0.5071",
                  "0.8038",
                  "0.1904"
                ],
                [
                  "2",
                  "GradientBoostingRegressor",
                  "0.3229",
                  "0.234",
                  "0.4837",
                  "0.8214",
                  "0.1875"
                ],
                [
                  "3",
                  "XGBRegressor",
                  "0.2898",
                  "0.2019",
                  "0.4494",
                  "0.8459",
                  "0.1678"
                ]
              ],
              "shape": {
                "columns": 6,
                "rows": 4
              }
            },
            "text/html": [
              "<div>\n",
              "<style scoped>\n",
              "    .dataframe tbody tr th:only-of-type {\n",
              "        vertical-align: middle;\n",
              "    }\n",
              "\n",
              "    .dataframe tbody tr th {\n",
              "        vertical-align: top;\n",
              "    }\n",
              "\n",
              "    .dataframe thead th {\n",
              "        text-align: right;\n",
              "    }\n",
              "</style>\n",
              "<table border=\"1\" class=\"dataframe\">\n",
              "  <thead>\n",
              "    <tr style=\"text-align: right;\">\n",
              "      <th></th>\n",
              "      <th>model</th>\n",
              "      <th>Mean Absolute Error (MAE)</th>\n",
              "      <th>Mean Squared Error (MSE)</th>\n",
              "      <th>Root Mean Squared Error (RMSE)</th>\n",
              "      <th>R-squared (R²)</th>\n",
              "      <th>Mean Absolute Percentage Error (MAPE)</th>\n",
              "    </tr>\n",
              "  </thead>\n",
              "  <tbody>\n",
              "    <tr>\n",
              "      <th>0</th>\n",
              "      <td>LinearRegression</td>\n",
              "      <td>0.5332</td>\n",
              "      <td>0.5580</td>\n",
              "      <td>0.7470</td>\n",
              "      <td>0.5742</td>\n",
              "      <td>0.3205</td>\n",
              "    </tr>\n",
              "    <tr>\n",
              "      <th>1</th>\n",
              "      <td>RandomForestRegressor</td>\n",
              "      <td>0.3291</td>\n",
              "      <td>0.2571</td>\n",
              "      <td>0.5071</td>\n",
              "      <td>0.8038</td>\n",
              "      <td>0.1904</td>\n",
              "    </tr>\n",
              "    <tr>\n",
              "      <th>2</th>\n",
              "      <td>GradientBoostingRegressor</td>\n",
              "      <td>0.3229</td>\n",
              "      <td>0.2340</td>\n",
              "      <td>0.4837</td>\n",
              "      <td>0.8214</td>\n",
              "      <td>0.1875</td>\n",
              "    </tr>\n",
              "    <tr>\n",
              "      <th>3</th>\n",
              "      <td>XGBRegressor</td>\n",
              "      <td>0.2898</td>\n",
              "      <td>0.2019</td>\n",
              "      <td>0.4494</td>\n",
              "      <td>0.8459</td>\n",
              "      <td>0.1678</td>\n",
              "    </tr>\n",
              "  </tbody>\n",
              "</table>\n",
              "</div>"
            ],
            "text/plain": [
              "                       model  Mean Absolute Error (MAE)  \\\n",
              "0           LinearRegression                     0.5332   \n",
              "1      RandomForestRegressor                     0.3291   \n",
              "2  GradientBoostingRegressor                     0.3229   \n",
              "3               XGBRegressor                     0.2898   \n",
              "\n",
              "   Mean Squared Error (MSE)  Root Mean Squared Error (RMSE)  R-squared (R²)  \\\n",
              "0                    0.5580                          0.7470          0.5742   \n",
              "1                    0.2571                          0.5071          0.8038   \n",
              "2                    0.2340                          0.4837          0.8214   \n",
              "3                    0.2019                          0.4494          0.8459   \n",
              "\n",
              "   Mean Absolute Percentage Error (MAPE)  \n",
              "0                                 0.3205  \n",
              "1                                 0.1904  \n",
              "2                                 0.1875  \n",
              "3                                 0.1678  "
            ]
          },
          "metadata": {},
          "output_type": "display_data"
        }
      ],
      "source": [
        "# Extract clean scalar dicts from the 1-row DataFrames\n",
        "reg_metrics_clean = reg_metrics.iloc[0].to_dict()\n",
        "rfr_metrics_clean = rfr_metrics.iloc[0].to_dict()\n",
        "gbreg_metrics_clean = gbreg_metrics.iloc[0].to_dict()\n",
        "xgbreg_metrics_clean = xgbreg_metrics.iloc[0].to_dict()\n",
        "\n",
        "cols = [\n",
        "    \"Mean Absolute Error (MAE)\",\n",
        "    \"Mean Squared Error (MSE)\",\n",
        "    \"Root Mean Squared Error (RMSE)\",\n",
        "    \"R-squared (R²)\",\n",
        "    \"Mean Absolute Percentage Error (MAPE)\",\n",
        "]\n",
        "\n",
        "test_metrics = pd.DataFrame(\n",
        "    [\n",
        "        {\"model\": \"LinearRegression\", **reg_metrics_clean},\n",
        "        {\"model\": \"RandomForestRegressor\", **rfr_metrics_clean},\n",
        "        {\"model\": \"GradientBoostingRegressor\", **gbreg_metrics_clean},\n",
        "        {\"model\": \"XGBRegressor\", **xgbreg_metrics_clean},\n",
        "    ]\n",
        ")[[\"model\"] + cols]\n",
        "\n",
        "# Round nicely for readability\n",
        "test_metrics = test_metrics.round(4)\n",
        "display(test_metrics)"
      ]
    },
    {
      "cell_type": "code",
      "execution_count": null,
      "id": "bc0f3099",
      "metadata": {},
      "outputs": [
        {
          "data": {
            "image/png": "[encoded data removed]",
            "text/plain": [
              "<Figure size 1000x700 with 1 Axes>"
            ]
          },
          "metadata": {},
          "output_type": "display_data"
        }
      ],
      "source": [
        "# Copy the test_metrics dataframe to avoid modifying the original\n",
        "df_test = test_metrics.copy()\n",
        "\n",
        "# Set the model column as the index for easier manipulation in plotting\n",
        "df_test = df_test.set_index(\"model\")\n",
        "\n",
        "# Create a new dataframe to hold scaled values for radar plot\n",
        "df_scaled = pd.DataFrame(index=df_test.index)\n",
        "\n",
        "# For error metrics (lower is better), scale by dividing best score by each score\n",
        "# This normalizes to a [0,1] range where 1 is the best (lowest error)\n",
        "for col in [\n",
        "    \"Mean Absolute Error (MAE)\",\n",
        "    \"Mean Squared Error (MSE)\",\n",
        "    \"Root Mean Squared Error (RMSE)\",\n",
        "    \"Mean Absolute Percentage Error (MAPE)\",\n",
        "]:\n",
        "    best_score = df_test[col].min()\n",
        "    df_scaled[col] = best_score / df_test[col]\n",
        "\n",
        "# For R-squared (higher is better), scale by dividing score by best score\n",
        "# This normalizes to a [0,1] range where 1 is the best (highest R²)\n",
        "best_r2 = df_test[\"R-squared (R²)\"].max()\n",
        "df_scaled[\"R-squared (R²)\"] = df_test[\"R-squared (R²)\"] / best_r2\n",
        "\n",
        "# Define short labels for metrics to fit on radar axes\n",
        "metric_labels = {\n",
        "    \"Mean Squared Error (MSE)\": \"MSE\",\n",
        "    \"Mean Absolute Error (MAE)\": \"MAE\",\n",
        "    \"Mean Absolute Percentage Error (MAPE)\": \"MAPE\",\n",
        "    \"R-squared (R²)\": \"R²\",\n",
        "    \"Root Mean Squared Error (RMSE)\": \"RMSE\",\n",
        "}\n",
        "\n",
        "# Reorder columns for a logical radar plot layout (e.g., starting with MSE)\n",
        "plot_order = [\n",
        "    \"Mean Squared Error (MSE)\",\n",
        "    \"Root Mean Squared Error (RMSE)\",\n",
        "    \"R-squared (R²)\",\n",
        "    \"Mean Absolute Percentage Error (MAPE)\",\n",
        "    \"Mean Absolute Error (MAE)\",\n",
        "]\n",
        "df_plot = df_scaled[plot_order]\n",
        "\n",
        "# Extract metric labels in the plot order\n",
        "metrics = [metric_labels[col] for col in df_plot.columns]\n",
        "\n",
        "# Calculate angles for each metric on the radar chart (evenly spaced)\n",
        "angles = np.linspace(0, 2 * np.pi, len(metrics), endpoint=False).tolist()\n",
        "angles_closed = angles + angles[:1]  # Close the polygon by repeating the first angle\n",
        "\n",
        "# Set up the radar plot with polar coordinates\n",
        "plt.style.use(\"seaborn-v0_8-whitegrid\")\n",
        "fig, ax = plt.subplots(figsize=(10, 7), subplot_kw=dict(polar=True))\n",
        "\n",
        "colors = sns.color_palette(\"colorblind\", n_colors=len(df_plot))\n",
        "\n",
        "# Plot each model's performance as a filled polygon\n",
        "for i, (model, row) in enumerate(df_plot.iterrows()):\n",
        "    values = row.tolist()\n",
        "    values += values[:1]  # Close the shape\n",
        "    ax.plot(\n",
        "        angles_closed,\n",
        "        values,\n",
        "        color=colors[i],\n",
        "        linewidth=2,\n",
        "        linestyle=\"solid\",\n",
        "        label=model,\n",
        "        marker=\"o\",\n",
        "    )\n",
        "    ax.fill(\n",
        "        angles_closed, values, color=colors[i], alpha=0.15\n",
        "    )  # Fill with transparency\n",
        "\n",
        "ax.set_rgrids([0.25, 0.5, 0.75, 1.0])\n",
        "ax.set_yticklabels([\"25%\", \"50%\", \"75%\", \"Best\"])  # Label grid as performance levels\n",
        "\n",
        "# Remove polar spines for cleaner look\n",
        "ax.spines[\"polar\"].set_visible(False)\n",
        "\n",
        "ax.set_xticks(angles)\n",
        "ax.set_xticklabels([])  # Hide default labels to place custom ones\n",
        "\n",
        "# Position metric labels around the circle with appropriate alignment\n",
        "for angle, label in zip(angles, metrics):\n",
        "    rotation_degrees = np.rad2deg(angle)\n",
        "    if 0 < rotation_degrees < 180:\n",
        "        ha = \"left\"\n",
        "    elif 180 < rotation_degrees < 360:\n",
        "        ha = \"right\"\n",
        "    else:\n",
        "        ha = \"center\"\n",
        "    if 90 < rotation_degrees < 280:\n",
        "        va = \"top\"\n",
        "    else:\n",
        "        va = \"bottom\"\n",
        "    ax.text(angle, 1.1, label, ha=ha, va=va, fontsize=11, fontweight=\"bold\")\n",
        "\n",
        "ax.set_title(\n",
        "    \"Model Performance vs. Best Score Frontier\", fontsize=20, fontweight=\"bold\", pad=45\n",
        ")\n",
        "\n",
        "# Add legend outside the plot\n",
        "ax.legend(loc=\"upper right\", bbox_to_anchor=(1.35, 1.0), fontsize=10)\n",
        "\n",
        "# Enable grid for better readability\n",
        "ax.grid(True, alpha=0.3, linewidth=0.8, color=\"grey\")\n",
        "ax.set_axisbelow(True)\n",
        "\n",
        "plt.tight_layout()\n",
        "plt.show()"
      ]
    },
    {
      "cell_type": "code",
      "execution_count": null,
      "id": "e8976ef3",
      "metadata": {},
      "outputs": [],
      "source": []
    }
  ],
  "metadata": {
    "colab": {
      "include_colab_link": true,
      "provenance": []
    },
    "kernelspec": {
      "display_name": "datacamp",
      "language": "python",
      "name": "python3"
    },
    "language_info": {
      "codemirror_mode": {
        "name": "ipython",
        "version": 3
      },
      "file_extension": ".py",
      "mimetype": "text/x-python",
      "name": "python",
      "nbconvert_exporter": "python",
      "pygments_lexer": "ipython3",
      "version": "3.12.11"
    }
  },
  "nbformat": 4,
  "nbformat_minor": 5
}
