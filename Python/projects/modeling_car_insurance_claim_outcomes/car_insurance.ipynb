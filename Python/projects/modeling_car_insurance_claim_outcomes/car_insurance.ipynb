{
 "cells": [
  {
   "attachments": {},
   "cell_type": "markdown",
   "id": "c3f0e974-faf8-458f-bf2a-06a469d0ea5e",
   "metadata": {},
   "source": [
    "<center><img src=\"data/car.jpg\" width=500></center>\n",
    "\n",
    "\n",
    "Insurance companies invest a lot of time and money into optimizing their pricing and accurately estimating the likelihood that customers will make a claim. In many countries insurance it is a legal requirement to have car insurance in order to drive a vehicle on public roads, so the market is very large!\n",
    "\n",
    "(`Source: https://www.accenture.com/_acnmedia/pdf-84/accenture-machine-leaning-insurance.pdf`) \n",
    "\n",
    "Knowing all of this, On the Road car insurance have requested your services in building a model to predict whether a customer will make a claim on their insurance during the policy period. As they have very little expertise and infrastructure for deploying and monitoring machine learning models, they've asked you to identify the single feature that results in the best performing model, as measured by accuracy, so they can start with a simple model in production.\n",
    "\n",
    "They have supplied you with their customer data as a csv file called `car_insurance.csv`, along with a table detailing the column names and descriptions below."
   ]
  },
  {
   "cell_type": "markdown",
   "id": "8928ffdf-25d6-4ad9-909f-0dd8d10b9a42",
   "metadata": {},
   "source": [
    "\n",
    "\n",
    "## The dataset\n",
    "\n",
    "| Column | Description |\n",
    "|--------|-------------|\n",
    "| `id` | Unique client identifier |\n",
    "| `age` | Client's age: <br> <ul><li>`0`: 16-25</li><li>`1`: 26-39</li><li>`2`: 40-64</li><li>`3`: 65+</li></ul> |\n",
    "| `gender` | Client's gender: <br> <ul><li>`0`: Female</li><li>`1`: Male</li></ul> |\n",
    "| `driving_experience` | Years the client has been driving: <br> <ul><li>`0`: 0-9</li><li>`1`: 10-19</li><li>`2`: 20-29</li><li>`3`: 30+</li></ul> |\n",
    "| `education` | Client's level of education: <br> <ul><li>`0`: No education</li><li>`1`: High school</li><li>`2`: University</li></ul> |\n",
    "| `income` | Client's income level: <br> <ul><li>`0`: Poverty</li><li>`1`: Working class</li><li>`2`: Middle class</li><li>`3`: Upper class</li></ul> |\n",
    "| `credit_score` | Client's credit score (between zero and one) |\n",
    "| `vehicle_ownership` | Client's vehicle ownership status: <br><ul><li>`0`: Does not own their vehilce (paying off finance)</li><li>`1`: Owns their vehicle</li></ul> |\n",
    "| `vehcile_year` | Year of vehicle registration: <br><ul><li>`0`: Before 2015</li><li>`1`: 2015 or later</li></ul> |\n",
    "| `married` | Client's marital status: <br><ul><li>`0`: Not married</li><li>`1`: Married</li></ul> |\n",
    "| `children` | Client's number of children |\n",
    "| `postal_code` | Client's postal code | \n",
    "| `annual_mileage` | Number of miles driven by the client each year |\n",
    "| `vehicle_type` | Type of car: <br> <ul><li>`0`: Sedan</li><li>`1`: Sports car</li></ul> |\n",
    "| `speeding_violations` | Total number of speeding violations received by the client | \n",
    "| `duis` | Number of times the client has been caught driving under the influence of alcohol |\n",
    "| `past_accidents` | Total number of previous accidents the client has been involved in |\n",
    "| `outcome` | Whether the client made a claim on their car insurance (response variable): <br><ul><li>`0`: No claim</li><li>`1`: Made a claim</li></ul> |"
   ]
  },
  {
   "cell_type": "code",
   "execution_count": 3,
   "id": "d0eb4f16-5a99-460d-a5ba-706b7ef0bbe7",
   "metadata": {
    "executionTime": 11,
    "id": "bA5ajAmk7XH6",
    "lastSuccessfullyExecutedCode": "# Import required modules\nimport pandas as pd\nimport numpy as np\nfrom statsmodels.formula.api import logit"
   },
   "outputs": [],
   "source": [
    "# Import required modules\n",
    "import numpy as np\n",
    "import pandas as pd"
   ]
  },
  {
   "cell_type": "markdown",
   "id": "93c2d0c1",
   "metadata": {},
   "source": [
    "- Identify the single feature of the data that is the best predictor of whether a customer will put in a claim (the `\"outcome\"` column), excluding the `\"id\"` column.\n",
    "- Store as a DataFrame called `best_feature_df`, containing columns named \"best_feature\" and \"best_accuracy\" with the name of the feature with the highest accuracy, and the respective accuracy score.\n"
   ]
  },
  {
   "cell_type": "code",
   "execution_count": 4,
   "id": "6b30028a",
   "metadata": {},
   "outputs": [
    {
     "data": {
      "application/vnd.microsoft.datawrangler.viewer.v0+json": {
       "columns": [
        {
         "name": "index",
         "rawType": "int64",
         "type": "integer"
        },
        {
         "name": "id",
         "rawType": "int64",
         "type": "integer"
        },
        {
         "name": "age",
         "rawType": "int64",
         "type": "integer"
        },
        {
         "name": "gender",
         "rawType": "int64",
         "type": "integer"
        },
        {
         "name": "driving_experience",
         "rawType": "object",
         "type": "string"
        },
        {
         "name": "education",
         "rawType": "object",
         "type": "string"
        },
        {
         "name": "income",
         "rawType": "object",
         "type": "string"
        },
        {
         "name": "credit_score",
         "rawType": "float64",
         "type": "float"
        },
        {
         "name": "vehicle_ownership",
         "rawType": "float64",
         "type": "float"
        },
        {
         "name": "vehicle_year",
         "rawType": "object",
         "type": "string"
        },
        {
         "name": "married",
         "rawType": "float64",
         "type": "float"
        },
        {
         "name": "children",
         "rawType": "float64",
         "type": "float"
        },
        {
         "name": "postal_code",
         "rawType": "int64",
         "type": "integer"
        },
        {
         "name": "annual_mileage",
         "rawType": "float64",
         "type": "float"
        },
        {
         "name": "vehicle_type",
         "rawType": "object",
         "type": "string"
        },
        {
         "name": "speeding_violations",
         "rawType": "int64",
         "type": "integer"
        },
        {
         "name": "duis",
         "rawType": "int64",
         "type": "integer"
        },
        {
         "name": "past_accidents",
         "rawType": "int64",
         "type": "integer"
        },
        {
         "name": "outcome",
         "rawType": "float64",
         "type": "float"
        }
       ],
       "ref": "7e7545dd-5456-4074-b502-3910853e98cd",
       "rows": [
        [
         "0",
         "569520",
         "3",
         "0",
         "0-9y",
         "high school",
         "upper class",
         "0.629027313918201",
         "1.0",
         "after 2015",
         "0.0",
         "1.0",
         "10238",
         "12000.0",
         "sedan",
         "0",
         "0",
         "0",
         "0.0"
        ],
        [
         "1",
         "750365",
         "0",
         "1",
         "0-9y",
         "none",
         "poverty",
         "0.3577571170184627",
         "0.0",
         "before 2015",
         "0.0",
         "0.0",
         "10238",
         "16000.0",
         "sedan",
         "0",
         "0",
         "0",
         "1.0"
        ],
        [
         "2",
         "199901",
         "0",
         "0",
         "0-9y",
         "high school",
         "working class",
         "0.4931457852181982",
         "1.0",
         "before 2015",
         "0.0",
         "0.0",
         "10238",
         "11000.0",
         "sedan",
         "0",
         "0",
         "0",
         "0.0"
        ],
        [
         "3",
         "478866",
         "0",
         "1",
         "0-9y",
         "university",
         "working class",
         "0.2060128507324556",
         "1.0",
         "before 2015",
         "0.0",
         "1.0",
         "32765",
         "11000.0",
         "sedan",
         "0",
         "0",
         "0",
         "0.0"
        ],
        [
         "4",
         "731664",
         "1",
         "1",
         "10-19y",
         "none",
         "working class",
         "0.3883658881572184",
         "1.0",
         "before 2015",
         "0.0",
         "0.0",
         "32765",
         "12000.0",
         "sedan",
         "2",
         "0",
         "1",
         "1.0"
        ]
       ],
       "shape": {
        "columns": 18,
        "rows": 5
       }
      },
      "text/html": [
       "<div>\n",
       "<style scoped>\n",
       "    .dataframe tbody tr th:only-of-type {\n",
       "        vertical-align: middle;\n",
       "    }\n",
       "\n",
       "    .dataframe tbody tr th {\n",
       "        vertical-align: top;\n",
       "    }\n",
       "\n",
       "    .dataframe thead th {\n",
       "        text-align: right;\n",
       "    }\n",
       "</style>\n",
       "<table border=\"1\" class=\"dataframe\">\n",
       "  <thead>\n",
       "    <tr style=\"text-align: right;\">\n",
       "      <th></th>\n",
       "      <th>id</th>\n",
       "      <th>age</th>\n",
       "      <th>gender</th>\n",
       "      <th>driving_experience</th>\n",
       "      <th>education</th>\n",
       "      <th>income</th>\n",
       "      <th>credit_score</th>\n",
       "      <th>vehicle_ownership</th>\n",
       "      <th>vehicle_year</th>\n",
       "      <th>married</th>\n",
       "      <th>children</th>\n",
       "      <th>postal_code</th>\n",
       "      <th>annual_mileage</th>\n",
       "      <th>vehicle_type</th>\n",
       "      <th>speeding_violations</th>\n",
       "      <th>duis</th>\n",
       "      <th>past_accidents</th>\n",
       "      <th>outcome</th>\n",
       "    </tr>\n",
       "  </thead>\n",
       "  <tbody>\n",
       "    <tr>\n",
       "      <th>0</th>\n",
       "      <td>569520</td>\n",
       "      <td>3</td>\n",
       "      <td>0</td>\n",
       "      <td>0-9y</td>\n",
       "      <td>high school</td>\n",
       "      <td>upper class</td>\n",
       "      <td>0.629027</td>\n",
       "      <td>1.0</td>\n",
       "      <td>after 2015</td>\n",
       "      <td>0.0</td>\n",
       "      <td>1.0</td>\n",
       "      <td>10238</td>\n",
       "      <td>12000.0</td>\n",
       "      <td>sedan</td>\n",
       "      <td>0</td>\n",
       "      <td>0</td>\n",
       "      <td>0</td>\n",
       "      <td>0.0</td>\n",
       "    </tr>\n",
       "    <tr>\n",
       "      <th>1</th>\n",
       "      <td>750365</td>\n",
       "      <td>0</td>\n",
       "      <td>1</td>\n",
       "      <td>0-9y</td>\n",
       "      <td>none</td>\n",
       "      <td>poverty</td>\n",
       "      <td>0.357757</td>\n",
       "      <td>0.0</td>\n",
       "      <td>before 2015</td>\n",
       "      <td>0.0</td>\n",
       "      <td>0.0</td>\n",
       "      <td>10238</td>\n",
       "      <td>16000.0</td>\n",
       "      <td>sedan</td>\n",
       "      <td>0</td>\n",
       "      <td>0</td>\n",
       "      <td>0</td>\n",
       "      <td>1.0</td>\n",
       "    </tr>\n",
       "    <tr>\n",
       "      <th>2</th>\n",
       "      <td>199901</td>\n",
       "      <td>0</td>\n",
       "      <td>0</td>\n",
       "      <td>0-9y</td>\n",
       "      <td>high school</td>\n",
       "      <td>working class</td>\n",
       "      <td>0.493146</td>\n",
       "      <td>1.0</td>\n",
       "      <td>before 2015</td>\n",
       "      <td>0.0</td>\n",
       "      <td>0.0</td>\n",
       "      <td>10238</td>\n",
       "      <td>11000.0</td>\n",
       "      <td>sedan</td>\n",
       "      <td>0</td>\n",
       "      <td>0</td>\n",
       "      <td>0</td>\n",
       "      <td>0.0</td>\n",
       "    </tr>\n",
       "    <tr>\n",
       "      <th>3</th>\n",
       "      <td>478866</td>\n",
       "      <td>0</td>\n",
       "      <td>1</td>\n",
       "      <td>0-9y</td>\n",
       "      <td>university</td>\n",
       "      <td>working class</td>\n",
       "      <td>0.206013</td>\n",
       "      <td>1.0</td>\n",
       "      <td>before 2015</td>\n",
       "      <td>0.0</td>\n",
       "      <td>1.0</td>\n",
       "      <td>32765</td>\n",
       "      <td>11000.0</td>\n",
       "      <td>sedan</td>\n",
       "      <td>0</td>\n",
       "      <td>0</td>\n",
       "      <td>0</td>\n",
       "      <td>0.0</td>\n",
       "    </tr>\n",
       "    <tr>\n",
       "      <th>4</th>\n",
       "      <td>731664</td>\n",
       "      <td>1</td>\n",
       "      <td>1</td>\n",
       "      <td>10-19y</td>\n",
       "      <td>none</td>\n",
       "      <td>working class</td>\n",
       "      <td>0.388366</td>\n",
       "      <td>1.0</td>\n",
       "      <td>before 2015</td>\n",
       "      <td>0.0</td>\n",
       "      <td>0.0</td>\n",
       "      <td>32765</td>\n",
       "      <td>12000.0</td>\n",
       "      <td>sedan</td>\n",
       "      <td>2</td>\n",
       "      <td>0</td>\n",
       "      <td>1</td>\n",
       "      <td>1.0</td>\n",
       "    </tr>\n",
       "  </tbody>\n",
       "</table>\n",
       "</div>"
      ],
      "text/plain": [
       "       id  age  gender driving_experience    education         income  \\\n",
       "0  569520    3       0               0-9y  high school    upper class   \n",
       "1  750365    0       1               0-9y         none        poverty   \n",
       "2  199901    0       0               0-9y  high school  working class   \n",
       "3  478866    0       1               0-9y   university  working class   \n",
       "4  731664    1       1             10-19y         none  working class   \n",
       "\n",
       "   credit_score  vehicle_ownership vehicle_year  married  children  \\\n",
       "0      0.629027                1.0   after 2015      0.0       1.0   \n",
       "1      0.357757                0.0  before 2015      0.0       0.0   \n",
       "2      0.493146                1.0  before 2015      0.0       0.0   \n",
       "3      0.206013                1.0  before 2015      0.0       1.0   \n",
       "4      0.388366                1.0  before 2015      0.0       0.0   \n",
       "\n",
       "   postal_code  annual_mileage vehicle_type  speeding_violations  duis  \\\n",
       "0        10238         12000.0        sedan                    0     0   \n",
       "1        10238         16000.0        sedan                    0     0   \n",
       "2        10238         11000.0        sedan                    0     0   \n",
       "3        32765         11000.0        sedan                    0     0   \n",
       "4        32765         12000.0        sedan                    2     0   \n",
       "\n",
       "   past_accidents  outcome  \n",
       "0               0      0.0  \n",
       "1               0      1.0  \n",
       "2               0      0.0  \n",
       "3               0      0.0  \n",
       "4               1      1.0  "
      ]
     },
     "execution_count": 4,
     "metadata": {},
     "output_type": "execute_result"
    }
   ],
   "source": [
    "from statsmodels.formula.api import logit\n",
    "\n",
    "# Load the car insurance dataset from local file\n",
    "cars = pd.read_csv(\n",
    "    \"https://raw.githubusercontent.com/jhlopesalves/data-science-practice-notebook/refs/heads/main/Python/projects/modeling_car_insurance_claim_outcomes/data/car_insurance.csv\", \n",
    "    usecols=lambda col: not col.startswith(\"Unnamed\"))\n",
    "\n",
    "cars.head()"
   ]
  },
  {
   "cell_type": "code",
   "execution_count": 5,
   "id": "6ff58ada",
   "metadata": {},
   "outputs": [],
   "source": [
    "# mean-impute the two columns with NaNs\n",
    "for col in [\"credit_score\", \"annual_mileage\"]:\n",
    "    cars[col] = cars[col].fillna(cars[col].mean())"
   ]
  },
  {
   "cell_type": "code",
   "execution_count": 6,
   "id": "9b5ed3c9",
   "metadata": {},
   "outputs": [
    {
     "data": {
      "application/vnd.microsoft.datawrangler.viewer.v0+json": {
       "columns": [
        {
         "name": "index",
         "rawType": "int64",
         "type": "integer"
        },
        {
         "name": "best_feature",
         "rawType": "object",
         "type": "string"
        },
        {
         "name": "best_accuracy",
         "rawType": "float64",
         "type": "float"
        }
       ],
       "ref": "68c49c06-3a81-4c9d-8331-d10c051468f5",
       "rows": [
        [
         "0",
         "driving_experience",
         "0.7771"
        ]
       ],
       "shape": {
        "columns": 2,
        "rows": 1
       }
      },
      "text/html": [
       "<div>\n",
       "<style scoped>\n",
       "    .dataframe tbody tr th:only-of-type {\n",
       "        vertical-align: middle;\n",
       "    }\n",
       "\n",
       "    .dataframe tbody tr th {\n",
       "        vertical-align: top;\n",
       "    }\n",
       "\n",
       "    .dataframe thead th {\n",
       "        text-align: right;\n",
       "    }\n",
       "</style>\n",
       "<table border=\"1\" class=\"dataframe\">\n",
       "  <thead>\n",
       "    <tr style=\"text-align: right;\">\n",
       "      <th></th>\n",
       "      <th>best_feature</th>\n",
       "      <th>best_accuracy</th>\n",
       "    </tr>\n",
       "  </thead>\n",
       "  <tbody>\n",
       "    <tr>\n",
       "      <th>0</th>\n",
       "      <td>driving_experience</td>\n",
       "      <td>0.7771</td>\n",
       "    </tr>\n",
       "  </tbody>\n",
       "</table>\n",
       "</div>"
      ],
      "text/plain": [
       "         best_feature  best_accuracy\n",
       "0  driving_experience         0.7771"
      ]
     },
     "execution_count": 6,
     "metadata": {},
     "output_type": "execute_result"
    }
   ],
   "source": [
    "# Loop through each feature (excluding id and outcome) to find the best predictor\n",
    "models = []\n",
    "features = cars.drop(columns=[\"id\", \"outcome\"]).columns\n",
    "\n",
    "# Initialize list to store accuracy scores for each feature\n",
    "accuracies = []\n",
    "\n",
    "for feat in features:\n",
    "    # Fit logistic regression model for each individual feature\n",
    "    mdl = logit(f\"outcome ~ {feat}\", data=cars).fit(disp=False)\n",
    "    models.append(mdl)\n",
    "    \n",
    "    # Calculate accuracy from confusion matrix\n",
    "    # tn = true negatives, fp = false positives, fn = false negatives, tp = true positives\n",
    "    tn, fp, fn, tp = mdl.pred_table().ravel()\n",
    "    accuracy = (tn + tp) / (tn + tp + fn + fp)  # (correct predictions) / (total predictions)\n",
    "    accuracies.append(accuracy)\n",
    "\n",
    "# Find the feature with the highest accuracy and create result dataframe\n",
    "best_feature_index = accuracies.index(max(accuracies))\n",
    "best_feature_df = pd.DataFrame(\n",
    "    {\"best_feature\": [features[best_feature_index]],\n",
    "     \"best_accuracy\": [max(accuracies)]}\n",
    ")\n",
    "\n",
    "best_feature_df  # Display the best feature and its accuracy\n"
   ]
  }
 ],
 "metadata": {
  "editor": "DataLab",
  "kernelspec": {
   "display_name": "datacamp",
   "language": "python",
   "name": "python3"
  },
  "language_info": {
   "codemirror_mode": {
    "name": "ipython",
    "version": 3
   },
   "file_extension": ".py",
   "mimetype": "text/x-python",
   "name": "python",
   "nbconvert_exporter": "python",
   "pygments_lexer": "ipython3",
   "version": "3.12.7"
  }
 },
 "nbformat": 4,
 "nbformat_minor": 5
}
