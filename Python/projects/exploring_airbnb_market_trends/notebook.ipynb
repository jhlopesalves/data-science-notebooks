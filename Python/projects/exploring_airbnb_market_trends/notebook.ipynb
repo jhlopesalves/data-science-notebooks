{
 "cells": [
  {
   "cell_type": "markdown",
   "id": "c747d469-ee97-4b95-880f-feefd5456042",
   "metadata": {
    "id": "bA5ajAmk7XH6"
   },
   "source": [
    "![NYC Skyline](data/nyc.jpg)\n",
    "\n",
    "Welcome to New York City, one of the most-visited cities in the world. There are many Airbnb listings in New York City to meet the high demand for temporary lodging for travelers, which can be anywhere between a few nights to many months. In this project, we will take a closer look at the New York Airbnb market by combining data from multiple file types like `.csv`, `.tsv`, and `.xlsx`.\n",
    "\n",
    "Recall that **CSV**, **TSV**, and **Excel** files are three common formats for storing data. \n",
    "Three files containing data on 2019 Airbnb listings are available to you:\n",
    "\n",
    "**data/airbnb_price.csv**\n",
    "This is a CSV file containing data on Airbnb listing prices and locations.\n",
    "- **`listing_id`**: unique identifier of listing\n",
    "- **`price`**: nightly listing price in USD\n",
    "- **`nbhood_full`**: name of borough and neighborhood where listing is located\n",
    "\n",
    "**data/airbnb_room_type.xlsx**\n",
    "This is an Excel file containing data on Airbnb listing descriptions and room types.\n",
    "- **`listing_id`**: unique identifier of listing\n",
    "- **`description`**: listing description\n",
    "- **`room_type`**: Airbnb has three types of rooms: shared rooms, private rooms, and entire homes/apartments\n",
    "\n",
    "**data/airbnb_last_review.tsv**\n",
    "This is a TSV file containing data on Airbnb host names and review dates.\n",
    "- **`listing_id`**: unique identifier of listing\n",
    "- **`host_name`**: name of listing host\n",
    "- **`last_review`**: date when the listing was last reviewed"
   ]
  },
  {
   "cell_type": "code",
   "execution_count": 1,
   "id": "1fdc5784-479e-46cb-b05b-68439dcc94a7",
   "metadata": {
    "executionCancelledAt": null,
    "executionTime": 2469,
    "lastExecutedAt": 1714136608190,
    "lastExecutedByKernel": "3ef23352-7ec2-4f84-94c0-43f0da95481d",
    "lastScheduledRunId": null,
    "lastSuccessfullyExecutedCode": "# We've loaded your first package for you! You can add as many cells as you need.\nimport numpy as np\n\n# Begin coding here ..."
   },
   "outputs": [],
   "source": [
    "# Import necessary packages\n",
    "import pandas as pd\n",
    "import numpy as np"
   ]
  },
  {
   "cell_type": "markdown",
   "id": "1ab22247",
   "metadata": {},
   "source": [
    "There are three files in the data folder: `airbnb_price.csv`, `airbnb_room_type.xlsx`, `airbnb_last_review.tsv`.\n",
    "\n",
    "What are the dates of the earliest and most recent reviews? Store these values as two separate variables with your preferred names.\n",
    "How many of the listings are private rooms? Save this into any variable.\n",
    "What is the average listing price? Round to the nearest two decimal places and save into a variable.\n",
    "Combine the new variables into one DataFrame called `review_dates` with four columns in the following order: `first_reviewed`, `last_reviewed`, `nb_private_rooms`, and `avg_price`. The DataFrame should only contain one row of values."
   ]
  },
  {
   "cell_type": "code",
   "execution_count": 2,
   "id": "afb0dd10",
   "metadata": {},
   "outputs": [],
   "source": [
    "price = pd.read_csv(\"data/airbnb_price.csv\")\n",
    "room_type = pd.read_excel(\"data/airbnb_room_type.xlsx\")\n",
    "last_review = pd.read_csv(\"data/airbnb_last_review.tsv\", sep=\"\\t\")"
   ]
  },
  {
   "cell_type": "code",
   "execution_count": 3,
   "id": "2c7932fb",
   "metadata": {},
   "outputs": [
    {
     "data": {
      "application/vnd.microsoft.datawrangler.viewer.v0+json": {
       "columns": [
        {
         "name": "index",
         "rawType": "int64",
         "type": "integer"
        },
        {
         "name": "listing_id",
         "rawType": "int64",
         "type": "integer"
        },
        {
         "name": "price",
         "rawType": "object",
         "type": "string"
        },
        {
         "name": "nbhood_full",
         "rawType": "object",
         "type": "string"
        }
       ],
       "ref": "54301c00-f1a5-44ca-97fe-7dff7e30da38",
       "rows": [
        [
         "0",
         "2595",
         "225 dollars",
         "Manhattan, Midtown"
        ],
        [
         "1",
         "3831",
         "89 dollars",
         "Brooklyn, Clinton Hill"
        ],
        [
         "2",
         "5099",
         "200 dollars",
         "Manhattan, Murray Hill"
        ],
        [
         "3",
         "5178",
         "79 dollars",
         "Manhattan, Hell's Kitchen"
        ],
        [
         "4",
         "5238",
         "150 dollars",
         "Manhattan, Chinatown"
        ]
       ],
       "shape": {
        "columns": 3,
        "rows": 5
       }
      },
      "text/html": [
       "<div>\n",
       "<style scoped>\n",
       "    .dataframe tbody tr th:only-of-type {\n",
       "        vertical-align: middle;\n",
       "    }\n",
       "\n",
       "    .dataframe tbody tr th {\n",
       "        vertical-align: top;\n",
       "    }\n",
       "\n",
       "    .dataframe thead th {\n",
       "        text-align: right;\n",
       "    }\n",
       "</style>\n",
       "<table border=\"1\" class=\"dataframe\">\n",
       "  <thead>\n",
       "    <tr style=\"text-align: right;\">\n",
       "      <th></th>\n",
       "      <th>listing_id</th>\n",
       "      <th>price</th>\n",
       "      <th>nbhood_full</th>\n",
       "    </tr>\n",
       "  </thead>\n",
       "  <tbody>\n",
       "    <tr>\n",
       "      <th>0</th>\n",
       "      <td>2595</td>\n",
       "      <td>225 dollars</td>\n",
       "      <td>Manhattan, Midtown</td>\n",
       "    </tr>\n",
       "    <tr>\n",
       "      <th>1</th>\n",
       "      <td>3831</td>\n",
       "      <td>89 dollars</td>\n",
       "      <td>Brooklyn, Clinton Hill</td>\n",
       "    </tr>\n",
       "    <tr>\n",
       "      <th>2</th>\n",
       "      <td>5099</td>\n",
       "      <td>200 dollars</td>\n",
       "      <td>Manhattan, Murray Hill</td>\n",
       "    </tr>\n",
       "    <tr>\n",
       "      <th>3</th>\n",
       "      <td>5178</td>\n",
       "      <td>79 dollars</td>\n",
       "      <td>Manhattan, Hell's Kitchen</td>\n",
       "    </tr>\n",
       "    <tr>\n",
       "      <th>4</th>\n",
       "      <td>5238</td>\n",
       "      <td>150 dollars</td>\n",
       "      <td>Manhattan, Chinatown</td>\n",
       "    </tr>\n",
       "  </tbody>\n",
       "</table>\n",
       "</div>"
      ],
      "text/plain": [
       "   listing_id        price                nbhood_full\n",
       "0        2595  225 dollars         Manhattan, Midtown\n",
       "1        3831   89 dollars     Brooklyn, Clinton Hill\n",
       "2        5099  200 dollars     Manhattan, Murray Hill\n",
       "3        5178   79 dollars  Manhattan, Hell's Kitchen\n",
       "4        5238  150 dollars       Manhattan, Chinatown"
      ]
     },
     "execution_count": 3,
     "metadata": {},
     "output_type": "execute_result"
    }
   ],
   "source": [
    "price.head()"
   ]
  },
  {
   "cell_type": "code",
   "execution_count": 4,
   "id": "7fb7453a",
   "metadata": {},
   "outputs": [
    {
     "data": {
      "application/vnd.microsoft.datawrangler.viewer.v0+json": {
       "columns": [
        {
         "name": "index",
         "rawType": "int64",
         "type": "integer"
        },
        {
         "name": "listing_id",
         "rawType": "int64",
         "type": "integer"
        },
        {
         "name": "description",
         "rawType": "object",
         "type": "string"
        },
        {
         "name": "room_type",
         "rawType": "object",
         "type": "string"
        }
       ],
       "ref": "f76baee8-1d68-4518-8ce3-3093a72249e4",
       "rows": [
        [
         "0",
         "2595",
         "Skylit Midtown Castle",
         "Entire home/apt"
        ],
        [
         "1",
         "3831",
         "Cozy Entire Floor of Brownstone",
         "Entire home/apt"
        ],
        [
         "2",
         "5099",
         "Large Cozy 1 BR Apartment In Midtown East",
         "Entire home/apt"
        ],
        [
         "3",
         "5178",
         "Large Furnished Room Near B'way",
         "private room"
        ],
        [
         "4",
         "5238",
         "Cute & Cozy Lower East Side 1 bdrm",
         "Entire home/apt"
        ]
       ],
       "shape": {
        "columns": 3,
        "rows": 5
       }
      },
      "text/html": [
       "<div>\n",
       "<style scoped>\n",
       "    .dataframe tbody tr th:only-of-type {\n",
       "        vertical-align: middle;\n",
       "    }\n",
       "\n",
       "    .dataframe tbody tr th {\n",
       "        vertical-align: top;\n",
       "    }\n",
       "\n",
       "    .dataframe thead th {\n",
       "        text-align: right;\n",
       "    }\n",
       "</style>\n",
       "<table border=\"1\" class=\"dataframe\">\n",
       "  <thead>\n",
       "    <tr style=\"text-align: right;\">\n",
       "      <th></th>\n",
       "      <th>listing_id</th>\n",
       "      <th>description</th>\n",
       "      <th>room_type</th>\n",
       "    </tr>\n",
       "  </thead>\n",
       "  <tbody>\n",
       "    <tr>\n",
       "      <th>0</th>\n",
       "      <td>2595</td>\n",
       "      <td>Skylit Midtown Castle</td>\n",
       "      <td>Entire home/apt</td>\n",
       "    </tr>\n",
       "    <tr>\n",
       "      <th>1</th>\n",
       "      <td>3831</td>\n",
       "      <td>Cozy Entire Floor of Brownstone</td>\n",
       "      <td>Entire home/apt</td>\n",
       "    </tr>\n",
       "    <tr>\n",
       "      <th>2</th>\n",
       "      <td>5099</td>\n",
       "      <td>Large Cozy 1 BR Apartment In Midtown East</td>\n",
       "      <td>Entire home/apt</td>\n",
       "    </tr>\n",
       "    <tr>\n",
       "      <th>3</th>\n",
       "      <td>5178</td>\n",
       "      <td>Large Furnished Room Near B'way</td>\n",
       "      <td>private room</td>\n",
       "    </tr>\n",
       "    <tr>\n",
       "      <th>4</th>\n",
       "      <td>5238</td>\n",
       "      <td>Cute &amp; Cozy Lower East Side 1 bdrm</td>\n",
       "      <td>Entire home/apt</td>\n",
       "    </tr>\n",
       "  </tbody>\n",
       "</table>\n",
       "</div>"
      ],
      "text/plain": [
       "   listing_id                                description        room_type\n",
       "0        2595                      Skylit Midtown Castle  Entire home/apt\n",
       "1        3831            Cozy Entire Floor of Brownstone  Entire home/apt\n",
       "2        5099  Large Cozy 1 BR Apartment In Midtown East  Entire home/apt\n",
       "3        5178            Large Furnished Room Near B'way     private room\n",
       "4        5238         Cute & Cozy Lower East Side 1 bdrm  Entire home/apt"
      ]
     },
     "execution_count": 4,
     "metadata": {},
     "output_type": "execute_result"
    }
   ],
   "source": [
    "room_type.head()"
   ]
  },
  {
   "cell_type": "code",
   "execution_count": 5,
   "id": "222d9d4c",
   "metadata": {},
   "outputs": [
    {
     "data": {
      "application/vnd.microsoft.datawrangler.viewer.v0+json": {
       "columns": [
        {
         "name": "index",
         "rawType": "int64",
         "type": "integer"
        },
        {
         "name": "listing_id",
         "rawType": "int64",
         "type": "integer"
        },
        {
         "name": "host_name",
         "rawType": "object",
         "type": "string"
        },
        {
         "name": "last_review",
         "rawType": "object",
         "type": "string"
        }
       ],
       "ref": "d03d2d05-b687-44e5-bbd8-1a3bfeb50189",
       "rows": [
        [
         "0",
         "2595",
         "Jennifer",
         "May 21 2019"
        ],
        [
         "1",
         "3831",
         "LisaRoxanne",
         "July 05 2019"
        ],
        [
         "2",
         "5099",
         "Chris",
         "June 22 2019"
        ],
        [
         "3",
         "5178",
         "Shunichi",
         "June 24 2019"
        ],
        [
         "4",
         "5238",
         "Ben",
         "June 09 2019"
        ]
       ],
       "shape": {
        "columns": 3,
        "rows": 5
       }
      },
      "text/html": [
       "<div>\n",
       "<style scoped>\n",
       "    .dataframe tbody tr th:only-of-type {\n",
       "        vertical-align: middle;\n",
       "    }\n",
       "\n",
       "    .dataframe tbody tr th {\n",
       "        vertical-align: top;\n",
       "    }\n",
       "\n",
       "    .dataframe thead th {\n",
       "        text-align: right;\n",
       "    }\n",
       "</style>\n",
       "<table border=\"1\" class=\"dataframe\">\n",
       "  <thead>\n",
       "    <tr style=\"text-align: right;\">\n",
       "      <th></th>\n",
       "      <th>listing_id</th>\n",
       "      <th>host_name</th>\n",
       "      <th>last_review</th>\n",
       "    </tr>\n",
       "  </thead>\n",
       "  <tbody>\n",
       "    <tr>\n",
       "      <th>0</th>\n",
       "      <td>2595</td>\n",
       "      <td>Jennifer</td>\n",
       "      <td>May 21 2019</td>\n",
       "    </tr>\n",
       "    <tr>\n",
       "      <th>1</th>\n",
       "      <td>3831</td>\n",
       "      <td>LisaRoxanne</td>\n",
       "      <td>July 05 2019</td>\n",
       "    </tr>\n",
       "    <tr>\n",
       "      <th>2</th>\n",
       "      <td>5099</td>\n",
       "      <td>Chris</td>\n",
       "      <td>June 22 2019</td>\n",
       "    </tr>\n",
       "    <tr>\n",
       "      <th>3</th>\n",
       "      <td>5178</td>\n",
       "      <td>Shunichi</td>\n",
       "      <td>June 24 2019</td>\n",
       "    </tr>\n",
       "    <tr>\n",
       "      <th>4</th>\n",
       "      <td>5238</td>\n",
       "      <td>Ben</td>\n",
       "      <td>June 09 2019</td>\n",
       "    </tr>\n",
       "  </tbody>\n",
       "</table>\n",
       "</div>"
      ],
      "text/plain": [
       "   listing_id    host_name   last_review\n",
       "0        2595     Jennifer   May 21 2019\n",
       "1        3831  LisaRoxanne  July 05 2019\n",
       "2        5099        Chris  June 22 2019\n",
       "3        5178     Shunichi  June 24 2019\n",
       "4        5238          Ben  June 09 2019"
      ]
     },
     "execution_count": 5,
     "metadata": {},
     "output_type": "execute_result"
    }
   ],
   "source": [
    "last_review.head()"
   ]
  },
  {
   "cell_type": "code",
   "execution_count": 6,
   "id": "e6a01da7",
   "metadata": {},
   "outputs": [
    {
     "name": "stdout",
     "output_type": "stream",
     "text": [
      "Integrity checks passed for all three DataFrames.\n"
     ]
    }
   ],
   "source": [
    "# Verify that each DataFrame has a unique, non-null 'listing_id'\n",
    "for name, df in [('price', price), ('room_type', room_type), ('last_review', last_review)]:\n",
    "    # Column exists\n",
    "    assert \"listing_id\" in df.columns, f\"{name!r} lacks column 'listing_id'\"\n",
    "    # No missing values\n",
    "    assert not df['listing_id'].isnull().any(), f\"Nulls detected in {name}['listing_id']\"\n",
    "    # Uniqueness\n",
    "    assert df['listing_id'].is_unique, f\"Duplicates detected in {name}['listing_id']\"\n",
    "\n",
    "print(\"Integrity checks passed for all three DataFrames.\")"
   ]
  },
  {
   "cell_type": "code",
   "execution_count": 7,
   "id": "601a138b",
   "metadata": {},
   "outputs": [],
   "source": [
    "# Merge all three DataFrames into one complete dataset\n",
    "# First merge price and room_type data on listing_id\n",
    "# Then merge with last_review data on listing_id\n",
    "# Using left joins to keep all records from the price DataFrame\n",
    "# validate=\"one_to_one\" ensures each listing_id appears only once in each DataFrame\n",
    "airbnb_full = price.merge(\n",
    "    room_type, on=\"listing_id\", how=\"left\", validate=\"one_to_one\"\n",
    ").merge(last_review, on=\"listing_id\", how=\"left\", validate=\"one_to_one\")"
   ]
  },
  {
   "cell_type": "code",
   "execution_count": 8,
   "id": "ea0f5e23",
   "metadata": {},
   "outputs": [
    {
     "data": {
      "application/vnd.microsoft.datawrangler.viewer.v0+json": {
       "columns": [
        {
         "name": "index",
         "rawType": "int64",
         "type": "integer"
        },
        {
         "name": "listing_id",
         "rawType": "int64",
         "type": "integer"
        },
        {
         "name": "price",
         "rawType": "int64",
         "type": "integer"
        },
        {
         "name": "nbhood_full",
         "rawType": "object",
         "type": "string"
        },
        {
         "name": "description",
         "rawType": "object",
         "type": "unknown"
        },
        {
         "name": "room_type",
         "rawType": "category",
         "type": "unknown"
        },
        {
         "name": "host_name",
         "rawType": "object",
         "type": "unknown"
        },
        {
         "name": "last_review",
         "rawType": "datetime64[ns]",
         "type": "datetime"
        }
       ],
       "ref": "a89d8807-b4ce-422e-96c8-19483f4f16ee",
       "rows": [
        [
         "0",
         "2595",
         "225",
         "Manhattan, Midtown",
         "Skylit Midtown Castle",
         "entire home/apt",
         "Jennifer",
         "2019-05-21 00:00:00"
        ],
        [
         "1",
         "3831",
         "89",
         "Brooklyn, Clinton Hill",
         "Cozy Entire Floor of Brownstone",
         "entire home/apt",
         "LisaRoxanne",
         "2019-07-05 00:00:00"
        ],
        [
         "2",
         "5099",
         "200",
         "Manhattan, Murray Hill",
         "Large Cozy 1 BR Apartment In Midtown East",
         "entire home/apt",
         "Chris",
         "2019-06-22 00:00:00"
        ],
        [
         "3",
         "5178",
         "79",
         "Manhattan, Hell's Kitchen",
         "Large Furnished Room Near B'way",
         "private room",
         "Shunichi",
         "2019-06-24 00:00:00"
        ],
        [
         "4",
         "5238",
         "150",
         "Manhattan, Chinatown",
         "Cute & Cozy Lower East Side 1 bdrm",
         "entire home/apt",
         "Ben",
         "2019-06-09 00:00:00"
        ],
        [
         "5",
         "5295",
         "135",
         "Manhattan, Upper West Side",
         "Beautiful 1br on Upper West Side",
         "entire home/apt",
         "Lena",
         "2019-06-22 00:00:00"
        ],
        [
         "6",
         "5441",
         "85",
         "Manhattan, Hell's Kitchen",
         "Central Manhattan/near Broadway",
         "private room",
         "Kate",
         "2019-06-23 00:00:00"
        ],
        [
         "7",
         "5803",
         "89",
         "Brooklyn, South Slope",
         "Lovely Room 1, Garden, Best Area, Legal rental",
         "private room",
         "Laurie",
         "2019-06-24 00:00:00"
        ],
        [
         "8",
         "6021",
         "85",
         "Manhattan, Upper West Side",
         "Wonderful Guest Bedroom in Manhattan for SINGLES",
         "private room",
         "Claudio",
         "2019-07-05 00:00:00"
        ],
        [
         "9",
         "6848",
         "140",
         "Brooklyn, Williamsburg",
         "Only 2 stops to Manhattan studio",
         "entire home/apt",
         "Allen & Irina",
         "2019-06-29 00:00:00"
        ],
        [
         "10",
         "7097",
         "215",
         "Brooklyn, Fort Greene",
         "Perfect for Your Parents + Garden",
         "entire home/apt",
         "Jane",
         "2019-06-28 00:00:00"
        ],
        [
         "11",
         "7322",
         "140",
         "Manhattan, Chelsea",
         "Chelsea Perfect",
         "private room",
         "Doti",
         "2019-07-01 00:00:00"
        ],
        [
         "12",
         "7726",
         "99",
         "Brooklyn, Crown Heights",
         "Hip Historic Brownstone Apartment with Backyard",
         "entire home/apt",
         "Adam And Charity",
         "2019-06-22 00:00:00"
        ],
        [
         "13",
         "8024",
         "130",
         "Brooklyn, Park Slope",
         "CBG CtyBGd HelpsHaiti rm#1:1-4",
         "private room",
         "Lisel",
         "2019-07-01 00:00:00"
        ],
        [
         "14",
         "8025",
         "80",
         "Brooklyn, Park Slope",
         "CBG Helps Haiti Room#2.5",
         "private room",
         "Lisel",
         "2019-01-01 00:00:00"
        ],
        [
         "15",
         "8110",
         "110",
         "Brooklyn, Park Slope",
         "CBG Helps Haiti Rm #2",
         "private room",
         "Lisel",
         "2019-07-02 00:00:00"
        ],
        [
         "16",
         "8490",
         "120",
         "Brooklyn, Bedford-Stuyvesant",
         "MAISON DES SIRENES1,bohemian apartment",
         "entire home/apt",
         "Nathalie",
         "2019-06-19 00:00:00"
        ],
        [
         "17",
         "8505",
         "60",
         "Brooklyn, Windsor Terrace",
         "Sunny Bedroom Across Prospect Park",
         "private room",
         "Gregory",
         "2019-06-23 00:00:00"
        ],
        [
         "18",
         "9518",
         "44",
         "Manhattan, Inwood",
         "SPACIOUS, LOVELY FURNISHED MANHATTAN BEDROOM",
         "private room",
         "Shon",
         "2019-06-15 00:00:00"
        ],
        [
         "19",
         "9657",
         "180",
         "Manhattan, East Village",
         "Modern 1 BR / NYC / EAST VILLAGE",
         "entire home/apt",
         "Dana",
         "2019-04-19 00:00:00"
        ],
        [
         "20",
         "9668",
         "50",
         "Manhattan, Harlem",
         "front room/double bed",
         "private room",
         "Ssameer Or Trip",
         "2019-06-01 00:00:00"
        ],
        [
         "21",
         "9704",
         "52",
         "Manhattan, Harlem",
         "Spacious 1 bedroom in luxe building",
         "private room",
         "Teri",
         "2019-06-14 00:00:00"
        ],
        [
         "22",
         "9782",
         "55",
         "Brooklyn, Greenpoint",
         "Loft in Williamsburg Area w/ Roof",
         "private room",
         "Andrea",
         "2019-06-15 00:00:00"
        ],
        [
         "23",
         "9783",
         "50",
         "Manhattan, Harlem",
         "back room/bunk beds",
         "private room",
         "Ssameer Or Trip",
         "2019-07-01 00:00:00"
        ],
        [
         "24",
         "10452",
         "70",
         "Brooklyn, Bedford-Stuyvesant",
         "Large B&B Style rooms",
         "private room",
         "Angela",
         "2019-05-12 00:00:00"
        ],
        [
         "25",
         "10962",
         "89",
         "Brooklyn, South Slope",
         "Lovely room 2 & garden; Best area, Legal rental",
         "private room",
         "Laurie",
         "2019-06-21 00:00:00"
        ],
        [
         "26",
         "11708",
         "85",
         "Brooklyn, Bushwick",
         "Cute apt in artist's home",
         "entire home/apt",
         "Tyrome",
         "2019-06-22 00:00:00"
        ],
        [
         "27",
         "12048",
         "40",
         "Manhattan, Lower East Side",
         "LowerEastSide apt share shortterm 1",
         "shared room",
         "Ben",
         "2019-07-05 00:00:00"
        ],
        [
         "28",
         "12192",
         "68",
         "Manhattan, East Village",
         "ENJOY Downtown NYC!",
         "private room",
         "Edward",
         "2019-06-21 00:00:00"
        ],
        [
         "29",
         "12299",
         "120",
         "Brooklyn, South Slope",
         "Beautiful Sunny Park Slope Brooklyn",
         "entire home/apt",
         "Abdul",
         "2019-05-27 00:00:00"
        ],
        [
         "30",
         "12318",
         "135",
         "Manhattan, Upper West Side",
         "West Side Retreat",
         "private room",
         "Cyn",
         "2019-06-16 00:00:00"
        ],
        [
         "31",
         "12343",
         "150",
         "Manhattan, Harlem",
         "BEST BET IN HARLEM",
         "entire home/apt",
         "Earl",
         "2019-06-13 00:00:00"
        ],
        [
         "32",
         "12627",
         "150",
         "Brooklyn, Prospect-Lefferts Gardens",
         "Entire apartment in central Brooklyn neighborhood.",
         "entire home/apt",
         "Rana",
         "2019-06-05 00:00:00"
        ],
        [
         "33",
         "12937",
         "130",
         "Queens, Long Island City",
         "1 Stop fr. Manhattan! Private Suite,Landmark Block",
         "private room",
         "Orestes",
         "2019-07-01 00:00:00"
        ],
        [
         "34",
         "12940",
         "110",
         "Brooklyn, Bedford-Stuyvesant",
         "Charming Brownstone 3 - Near PRATT",
         "entire home/apt",
         "Adreinne",
         "2019-05-25 00:00:00"
        ],
        [
         "35",
         "13394",
         "80",
         "Brooklyn, Fort Greene",
         "Fort Greene brownstone",
         "private room",
         "Alexander",
         "2019-06-17 00:00:00"
        ],
        [
         "36",
         "13808",
         "80",
         "Brooklyn, Bedford-Stuyvesant",
         "Blue Room for 2 in Brownstone for $1350 monthly",
         "private room",
         "JT And Tiziana",
         "2019-06-16 00:00:00"
        ],
        [
         "37",
         "14287",
         "151",
         "Manhattan, Upper West Side",
         "Cozy 1BD on Central Park West in New York City",
         "entire home/apt",
         "Joya",
         "2019-07-07 00:00:00"
        ],
        [
         "38",
         "14290",
         "228",
         "Brooklyn, Williamsburg",
         "* ORIGINAL BROOKLYN LOFT *",
         "entire home/apt",
         "James",
         "2019-05-17 00:00:00"
        ],
        [
         "39",
         "14314",
         "144",
         "Brooklyn, Greenpoint",
         "Greenpoint Place...Has It All!",
         "entire home/apt",
         "Jeanne",
         "2019-06-29 00:00:00"
        ],
        [
         "40",
         "14322",
         "200",
         "Manhattan, Kips Bay",
         "Beautiful Apartment in Manhattan!!!",
         "entire home/apt",
         "Francesca",
         "2019-03-25 00:00:00"
        ],
        [
         "41",
         "14377",
         "150",
         "Brooklyn, Williamsburg",
         "Williamsburg 1 bedroom Apartment",
         "entire home/apt",
         "Joanna",
         "2019-06-22 00:00:00"
        ],
        [
         "42",
         "14991",
         "110",
         "Manhattan, Lower East Side",
         "Great Location, Manhattan Bedroom!",
         "private room",
         "Bianca",
         "2019-05-18 00:00:00"
        ],
        [
         "43",
         "15220",
         "69",
         "Manhattan, Hell's Kitchen",
         "Best Location in NYC! TIMES SQUARE!",
         "private room",
         "Luiz",
         "2019-06-09 00:00:00"
        ],
        [
         "44",
         "15338",
         "49",
         "Brooklyn, Greenpoint",
         "Room in Greenpoint Loft w/ Roof",
         "private room",
         "Andrea",
         "2019-06-04 00:00:00"
        ],
        [
         "45",
         "15341",
         "180",
         "Manhattan, SoHo",
         "**Bright Nolita Apt w Doorman/Elevators/Gym**",
         "entire home/apt",
         "Ted",
         "2019-06-29 00:00:00"
        ],
        [
         "46",
         "15385",
         "80",
         "Brooklyn, Williamsburg",
         "Very, very cozy place",
         "private room",
         "Cristina",
         "2019-06-30 00:00:00"
        ],
        [
         "47",
         "15711",
         "250",
         "Manhattan, Upper East Side",
         "2 bedroom - Upper East Side-great for kids",
         "entire home/apt",
         "D",
         "2019-03-30 00:00:00"
        ],
        [
         "48",
         "16326",
         "200",
         "Brooklyn, Prospect Heights",
         "Comfortable 4-bedroom apt in family house.",
         "entire home/apt",
         "Dimitri",
         "2019-01-26 00:00:00"
        ],
        [
         "49",
         "16421",
         "52",
         "Manhattan, Hell's Kitchen",
         "Your Heaven in Hells Kitchen",
         "private room",
         "Mark",
         "2019-05-16 00:00:00"
        ]
       ],
       "shape": {
        "columns": 7,
        "rows": 25209
       }
      },
      "text/html": [
       "<div>\n",
       "<style scoped>\n",
       "    .dataframe tbody tr th:only-of-type {\n",
       "        vertical-align: middle;\n",
       "    }\n",
       "\n",
       "    .dataframe tbody tr th {\n",
       "        vertical-align: top;\n",
       "    }\n",
       "\n",
       "    .dataframe thead th {\n",
       "        text-align: right;\n",
       "    }\n",
       "</style>\n",
       "<table border=\"1\" class=\"dataframe\">\n",
       "  <thead>\n",
       "    <tr style=\"text-align: right;\">\n",
       "      <th></th>\n",
       "      <th>listing_id</th>\n",
       "      <th>price</th>\n",
       "      <th>nbhood_full</th>\n",
       "      <th>description</th>\n",
       "      <th>room_type</th>\n",
       "      <th>host_name</th>\n",
       "      <th>last_review</th>\n",
       "    </tr>\n",
       "  </thead>\n",
       "  <tbody>\n",
       "    <tr>\n",
       "      <th>0</th>\n",
       "      <td>2595</td>\n",
       "      <td>225</td>\n",
       "      <td>Manhattan, Midtown</td>\n",
       "      <td>Skylit Midtown Castle</td>\n",
       "      <td>entire home/apt</td>\n",
       "      <td>Jennifer</td>\n",
       "      <td>2019-05-21</td>\n",
       "    </tr>\n",
       "    <tr>\n",
       "      <th>1</th>\n",
       "      <td>3831</td>\n",
       "      <td>89</td>\n",
       "      <td>Brooklyn, Clinton Hill</td>\n",
       "      <td>Cozy Entire Floor of Brownstone</td>\n",
       "      <td>entire home/apt</td>\n",
       "      <td>LisaRoxanne</td>\n",
       "      <td>2019-07-05</td>\n",
       "    </tr>\n",
       "    <tr>\n",
       "      <th>2</th>\n",
       "      <td>5099</td>\n",
       "      <td>200</td>\n",
       "      <td>Manhattan, Murray Hill</td>\n",
       "      <td>Large Cozy 1 BR Apartment In Midtown East</td>\n",
       "      <td>entire home/apt</td>\n",
       "      <td>Chris</td>\n",
       "      <td>2019-06-22</td>\n",
       "    </tr>\n",
       "    <tr>\n",
       "      <th>3</th>\n",
       "      <td>5178</td>\n",
       "      <td>79</td>\n",
       "      <td>Manhattan, Hell's Kitchen</td>\n",
       "      <td>Large Furnished Room Near B'way</td>\n",
       "      <td>private room</td>\n",
       "      <td>Shunichi</td>\n",
       "      <td>2019-06-24</td>\n",
       "    </tr>\n",
       "    <tr>\n",
       "      <th>4</th>\n",
       "      <td>5238</td>\n",
       "      <td>150</td>\n",
       "      <td>Manhattan, Chinatown</td>\n",
       "      <td>Cute &amp; Cozy Lower East Side 1 bdrm</td>\n",
       "      <td>entire home/apt</td>\n",
       "      <td>Ben</td>\n",
       "      <td>2019-06-09</td>\n",
       "    </tr>\n",
       "    <tr>\n",
       "      <th>...</th>\n",
       "      <td>...</td>\n",
       "      <td>...</td>\n",
       "      <td>...</td>\n",
       "      <td>...</td>\n",
       "      <td>...</td>\n",
       "      <td>...</td>\n",
       "      <td>...</td>\n",
       "    </tr>\n",
       "    <tr>\n",
       "      <th>25204</th>\n",
       "      <td>36425863</td>\n",
       "      <td>129</td>\n",
       "      <td>Manhattan, Upper East Side</td>\n",
       "      <td>Lovely Privet Bedroom with Privet Restroom</td>\n",
       "      <td>private room</td>\n",
       "      <td>Rusaa</td>\n",
       "      <td>2019-07-07</td>\n",
       "    </tr>\n",
       "    <tr>\n",
       "      <th>25205</th>\n",
       "      <td>36427429</td>\n",
       "      <td>45</td>\n",
       "      <td>Queens, Flushing</td>\n",
       "      <td>No.2 with queen size bed</td>\n",
       "      <td>private room</td>\n",
       "      <td>H Ai</td>\n",
       "      <td>2019-07-07</td>\n",
       "    </tr>\n",
       "    <tr>\n",
       "      <th>25206</th>\n",
       "      <td>36438336</td>\n",
       "      <td>235</td>\n",
       "      <td>Staten Island, Great Kills</td>\n",
       "      <td>Seas The Moment</td>\n",
       "      <td>private room</td>\n",
       "      <td>Ben</td>\n",
       "      <td>2019-07-07</td>\n",
       "    </tr>\n",
       "    <tr>\n",
       "      <th>25207</th>\n",
       "      <td>36442252</td>\n",
       "      <td>100</td>\n",
       "      <td>Bronx, Mott Haven</td>\n",
       "      <td>1B-1B apartment near by Metro</td>\n",
       "      <td>entire home/apt</td>\n",
       "      <td>Blaine</td>\n",
       "      <td>2019-07-07</td>\n",
       "    </tr>\n",
       "    <tr>\n",
       "      <th>25208</th>\n",
       "      <td>36455809</td>\n",
       "      <td>30</td>\n",
       "      <td>Brooklyn, Bushwick</td>\n",
       "      <td>Cozy Private Room in Bushwick, Brooklyn</td>\n",
       "      <td>private room</td>\n",
       "      <td>Christine</td>\n",
       "      <td>2019-07-08</td>\n",
       "    </tr>\n",
       "  </tbody>\n",
       "</table>\n",
       "<p>25209 rows × 7 columns</p>\n",
       "</div>"
      ],
      "text/plain": [
       "       listing_id  price                 nbhood_full  \\\n",
       "0            2595    225          Manhattan, Midtown   \n",
       "1            3831     89      Brooklyn, Clinton Hill   \n",
       "2            5099    200      Manhattan, Murray Hill   \n",
       "3            5178     79   Manhattan, Hell's Kitchen   \n",
       "4            5238    150        Manhattan, Chinatown   \n",
       "...           ...    ...                         ...   \n",
       "25204    36425863    129  Manhattan, Upper East Side   \n",
       "25205    36427429     45            Queens, Flushing   \n",
       "25206    36438336    235  Staten Island, Great Kills   \n",
       "25207    36442252    100           Bronx, Mott Haven   \n",
       "25208    36455809     30          Brooklyn, Bushwick   \n",
       "\n",
       "                                      description        room_type  \\\n",
       "0                           Skylit Midtown Castle  entire home/apt   \n",
       "1                 Cozy Entire Floor of Brownstone  entire home/apt   \n",
       "2       Large Cozy 1 BR Apartment In Midtown East  entire home/apt   \n",
       "3                 Large Furnished Room Near B'way     private room   \n",
       "4              Cute & Cozy Lower East Side 1 bdrm  entire home/apt   \n",
       "...                                           ...              ...   \n",
       "25204  Lovely Privet Bedroom with Privet Restroom     private room   \n",
       "25205                    No.2 with queen size bed     private room   \n",
       "25206                             Seas The Moment     private room   \n",
       "25207               1B-1B apartment near by Metro  entire home/apt   \n",
       "25208     Cozy Private Room in Bushwick, Brooklyn     private room   \n",
       "\n",
       "         host_name last_review  \n",
       "0         Jennifer  2019-05-21  \n",
       "1      LisaRoxanne  2019-07-05  \n",
       "2            Chris  2019-06-22  \n",
       "3         Shunichi  2019-06-24  \n",
       "4              Ben  2019-06-09  \n",
       "...            ...         ...  \n",
       "25204        Rusaa  2019-07-07  \n",
       "25205         H Ai  2019-07-07  \n",
       "25206          Ben  2019-07-07  \n",
       "25207       Blaine  2019-07-07  \n",
       "25208    Christine  2019-07-08  \n",
       "\n",
       "[25209 rows x 7 columns]"
      ]
     },
     "execution_count": 8,
     "metadata": {},
     "output_type": "execute_result"
    }
   ],
   "source": [
    "# Clean the price column by removing \"dollars\" text and converting to integer\n",
    "airbnb_full[\"price\"] = airbnb_full[\"price\"].str.replace(\"dollars\", \"\").astype(\"int\")\n",
    "\n",
    "# Convert last_review column to datetime format, handling invalid dates gracefully\n",
    "airbnb_full[\"last_review\"] = pd.to_datetime(airbnb_full[\"last_review\"], errors=\"coerce\")\n",
    "\n",
    "# Lower the room_type categories to ensure consistency\n",
    "airbnb_full[\"room_type\"] = airbnb_full[\"room_type\"].str.lower().astype(\"category\")\n",
    "airbnb_full"
   ]
  },
  {
   "cell_type": "code",
   "execution_count": 9,
   "id": "e547efe1",
   "metadata": {},
   "outputs": [],
   "source": [
    "# What are the dates of the earliest and most recent reviews? Store these values as two separate variables with your preferred names.\n",
    "earliest = airbnb_full[\"last_review\"].min()\n",
    "most_recent = airbnb_full[\"last_review\"].max()\n",
    "\n",
    "# How many of the listings are private rooms? Save this into any variable.\n",
    "private_rooms = airbnb_full[airbnb_full[\"room_type\"] == \"private room\"].shape[0]\n",
    "\n",
    "# What is the average listing price? Round to the nearest two decimal places and save into a variable.\n",
    "average_price = airbnb_full[\"price\"].mean()"
   ]
  },
  {
   "cell_type": "code",
   "execution_count": null,
   "id": "201d1d14",
   "metadata": {},
   "outputs": [
    {
     "data": {
      "application/vnd.microsoft.datawrangler.viewer.v0+json": {
       "columns": [
        {
         "name": "index",
         "rawType": "int64",
         "type": "integer"
        },
        {
         "name": "first_reviewed",
         "rawType": "datetime64[ns]",
         "type": "datetime"
        },
        {
         "name": "last_reviewed",
         "rawType": "datetime64[ns]",
         "type": "datetime"
        },
        {
         "name": "nb_private_rooms",
         "rawType": "int64",
         "type": "integer"
        },
        {
         "name": "avg_price",
         "rawType": "float64",
         "type": "float"
        }
       ],
       "ref": "3c88d427-0649-4d9e-8ed4-a44503ddb311",
       "rows": [
        [
         "0",
         "2019-01-01 00:00:00",
         "2019-07-09 00:00:00",
         "11356",
         "141.78"
        ]
       ],
       "shape": {
        "columns": 4,
        "rows": 1
       }
      },
      "text/html": [
       "<div>\n",
       "<style scoped>\n",
       "    .dataframe tbody tr th:only-of-type {\n",
       "        vertical-align: middle;\n",
       "    }\n",
       "\n",
       "    .dataframe tbody tr th {\n",
       "        vertical-align: top;\n",
       "    }\n",
       "\n",
       "    .dataframe thead th {\n",
       "        text-align: right;\n",
       "    }\n",
       "</style>\n",
       "<table border=\"1\" class=\"dataframe\">\n",
       "  <thead>\n",
       "    <tr style=\"text-align: right;\">\n",
       "      <th></th>\n",
       "      <th>first_reviewed</th>\n",
       "      <th>last_reviewed</th>\n",
       "      <th>nb_private_rooms</th>\n",
       "      <th>avg_price</th>\n",
       "    </tr>\n",
       "  </thead>\n",
       "  <tbody>\n",
       "    <tr>\n",
       "      <th>0</th>\n",
       "      <td>2019-01-01</td>\n",
       "      <td>2019-07-09</td>\n",
       "      <td>11356</td>\n",
       "      <td>141.78</td>\n",
       "    </tr>\n",
       "  </tbody>\n",
       "</table>\n",
       "</div>"
      ],
      "text/plain": [
       "  first_reviewed last_reviewed  nb_private_rooms  avg_price\n",
       "0     2019-01-01    2019-07-09             11356     141.78"
      ]
     },
     "execution_count": 10,
     "metadata": {},
     "output_type": "execute_result"
    },
    {
     "ename": "",
     "evalue": "",
     "output_type": "error",
     "traceback": [
      "\u001b[1;31mThe Kernel crashed while executing code in the current cell or a previous cell. \n",
      "\u001b[1;31mPlease review the code in the cell(s) to identify a possible cause of the failure. \n",
      "\u001b[1;31mClick <a href='https://aka.ms/vscodeJupyterKernelCrash'>here</a> for more info. \n",
      "\u001b[1;31mView Jupyter <a href='command:jupyter.viewOutput'>log</a> for further details."
     ]
    }
   ],
   "source": [
    "# Combine the new variables into one DataFrame called review_dates with four columns in the following order: first_reviewed, last_reviewed, nb_private_rooms, and avg_price. The DataFrame should only contain one row of values.\n",
    "review_dates = pd.DataFrame({\n",
    "    'first_reviewed': [earliest],\n",
    "    'last_reviewed': [most_recent],\n",
    "    'nb_private_rooms': [private_rooms],\n",
    "    'avg_price': [round(average_price, 2)]\n",
    "})\n",
    "review_dates"
   ]
  },
  {
   "cell_type": "code",
   "execution_count": null,
   "id": "a6813268",
   "metadata": {},
   "outputs": [],
   "source": []
  }
 ],
 "metadata": {
  "colab": {
   "name": "Welcome to DataCamp Workspaces.ipynb",
   "provenance": []
  },
  "kernelspec": {
   "display_name": "datacamp",
   "language": "python",
   "name": "python3"
  },
  "language_info": {
   "codemirror_mode": {
    "name": "ipython",
    "version": 3
   },
   "file_extension": ".py",
   "mimetype": "text/x-python",
   "name": "python",
   "nbconvert_exporter": "python",
   "pygments_lexer": "ipython3",
   "version": "3.12.7"
  }
 },
 "nbformat": 4,
 "nbformat_minor": 5
}
