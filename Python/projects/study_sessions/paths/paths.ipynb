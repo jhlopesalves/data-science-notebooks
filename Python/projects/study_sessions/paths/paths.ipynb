{
 "cells": [
  {
   "cell_type": "markdown",
   "id": "1f828a7b",
   "metadata": {},
   "source": [
    "### Concept 1 – Paths\n",
    "\n",
    "A file path is simply a description of where something lives. You can think of it like an address in a city: street, building, apartment. In Python, we use `pathlib` because it gives us a clean, object-like way of handling paths."
   ]
  },
  {
   "cell_type": "code",
   "execution_count": null,
   "id": "61172726",
   "metadata": {},
   "outputs": [
    {
     "name": "stdout",
     "output_type": "stream",
     "text": [
      "example.txt\n",
      "C:\\Users\\jhonm\\Downloads\\Code\\DataCamp\\Python\\projects\\study_sessions\\paths\\data\\documents\n",
      "('data', 'documents', 'example.txt')\n"
     ]
    }
   ],
   "source": [
    "from pathlib import Path\n",
    "\n",
    "# Absolute path (like giving a full street address)\n",
    "# Use a raw string to avoid interpreting backslashes as escape sequences\n",
    "absolute = Path(\n",
    "    \"C:/Users/jhonm/Downloads/Code/DataCamp/Python/projects/study_sessions/paths/data/documents/example.txt\"\n",
    ")\n",
    "\n",
    "# Relative path (like saying \"go into the 'documents' folder from here\")\n",
    "# Use forward slashes (works on all platforms) or a raw string\n",
    "relative = Path(\"data/documents/example.txt\")\n",
    "\n",
    "print(absolute.name)  # \"example.txt\"\n",
    "print(absolute.parent)  # path to the parent directory\n",
    "print(relative.parts)  # (\"data\", \"documents\", \"example.txt\")"
   ]
  },
  {
   "cell_type": "markdown",
   "id": "ad190255",
   "metadata": {},
   "source": [
    "### Concept 2 – Listing Directories\n",
    "\n",
    "Directories (folders) are containers. To see what’s inside them, we iterate."
   ]
  },
  {
   "cell_type": "code",
   "execution_count": null,
   "id": "d8798bdd",
   "metadata": {},
   "outputs": [
    {
     "name": "stdout",
     "output_type": "stream",
     "text": [
      "data\n",
      "paths.ipynb\n"
     ]
    }
   ],
   "source": [
    "from pathlib import Path\n",
    "\n",
    "p = Path(\".\")  # current directory\n",
    "for item in p.iterdir():\n",
    "    print(item)"
   ]
  },
  {
   "cell_type": "markdown",
   "id": "3af77d11",
   "metadata": {},
   "source": [
    "If you want only certain files:"
   ]
  },
  {
   "cell_type": "code",
   "execution_count": null,
   "id": "4927a9e0",
   "metadata": {},
   "outputs": [],
   "source": [
    "for txt_file in p.glob(\"*.txt\"):\n",
    "    print(txt_file)"
   ]
  },
  {
   "cell_type": "code",
   "execution_count": null,
   "id": "16649ab9",
   "metadata": {},
   "outputs": [
    {
     "name": "stdout",
     "output_type": "stream",
     "text": [
      "This is just an example!\n"
     ]
    }
   ],
   "source": [
    "path = Path(\"data/documents/example.txt\")\n",
    "\n",
    "# Context manager ensures the file closes properly after use\n",
    "with path.open(\"r\", encoding=\"utf-8\") as f:\n",
    "    contents = f.read()\n",
    "\n",
    "print(contents)"
   ]
  },
  {
   "cell_type": "code",
   "execution_count": null,
   "id": "6b653930",
   "metadata": {},
   "outputs": [],
   "source": [
    "new_file = Path(\"data/documents/output.txt\")\n",
    "\n",
    "with new_file.open(\"w\", encoding=\"utf-8\") as f:\n",
    "    f.write(\"Hello world! hello from inside python to you outside python!\")"
   ]
  },
  {
   "cell_type": "markdown",
   "id": "0afbd418",
   "metadata": {},
   "source": [
    "1.Create a new directory called playground and inside it create three .txt files with some text of your choice."
   ]
  },
  {
   "cell_type": "code",
   "execution_count": null,
   "id": "702a23f1",
   "metadata": {},
   "outputs": [
    {
     "name": "stdout",
     "output_type": "stream",
     "text": [
      "Yes, we've really made the grade! (the files!)\n"
     ]
    }
   ],
   "source": [
    "# create a Path object pointing to the playground directory\n",
    "playground = Path(\"data/playground\")\n",
    "# create the directory if it doesn't already exist (no error if present)\n",
    "playground.mkdir(exist_ok=True)\n",
    "# define a mapping of filenames to their text content to create inside playground\n",
    "playground_contents = {\n",
    "    \"file1.txt\": \"This is file 1 to Major Tom\",\n",
    "    \"file2.txt\": \"This is Major to to file 2\",\n",
    "    \"file3.txt\": \"We've really made the grade!\",\n",
    "}\n",
    "# iterate over the filename and content pairs from the dictionary\n",
    "for filename, content in playground_contents.items():\n",
    "    # construct the full file path by joining directory and filename using Path's division operator\n",
    "    file_path = playground / filename\n",
    "    # write the provided text to the file (creates or overwrites, default encoding utf-8)\n",
    "    file_path.write_text(content)\n",
    "# print a confirmation message to standard output\n",
    "print(\"Yes, we've really made the grade! (the files!)\")"
   ]
  },
  {
   "cell_type": "markdown",
   "id": "611e776f",
   "metadata": {},
   "source": [
    "2. Write a Python script that lists all files in playground and prints their names."
   ]
  },
  {
   "cell_type": "code",
   "execution_count": null,
   "id": "f4b58d24",
   "metadata": {},
   "outputs": [
    {
     "name": "stdout",
     "output_type": "stream",
     "text": [
      "data\\playground\\file1.txt\n",
      "data\\playground\\file2.txt\n",
      "data\\playground\\file3.txt\n",
      "data\\playground\\shout.txt\n"
     ]
    }
   ],
   "source": [
    "for item in playground.iterdir():\n",
    "    print(item)"
   ]
  },
  {
   "cell_type": "markdown",
   "id": "0cbff8ac",
   "metadata": {},
   "source": [
    "3. Modify that script to only print the .txt files."
   ]
  },
  {
   "cell_type": "code",
   "execution_count": null,
   "id": "1248ce5d",
   "metadata": {},
   "outputs": [
    {
     "name": "stdout",
     "output_type": "stream",
     "text": [
      "data\\playground\\file1.txt\n",
      "data\\playground\\file2.txt\n",
      "data\\playground\\file3.txt\n",
      "data\\playground\\shout.txt\n"
     ]
    }
   ],
   "source": [
    "for txt_file in playground.glob(\"*.txt\"):\n",
    "    print(txt_file)"
   ]
  },
  {
   "cell_type": "markdown",
   "id": "87d51a2f",
   "metadata": {},
   "source": [
    "4. Pick one .txt file and write a script that reads it, converts all its text to uppercase, and saves the result to a new file called shout.txt."
   ]
  },
  {
   "cell_type": "code",
   "execution_count": null,
   "id": "c2de93c2",
   "metadata": {},
   "outputs": [
    {
     "name": "stdout",
     "output_type": "stream",
     "text": [
      "Available text files, pick one Major Tom: \n",
      "1. file1.txt\n",
      "2. file2.txt\n",
      "3. file3.txt\n",
      "4. shout.txt\n",
      "Major Tom, we processed 'file1.txt' and created 'shout.txt', you can lift off now!\n"
     ]
    }
   ],
   "source": [
    "# create a Path object for the playground directory (note: variable name 'playgroud' seems misspelled\n",
    "# compared to 'playground' used later; this cell intentionally does not modify the code)\n",
    "playgroud = Path(\"data/playground\")\n",
    "\n",
    "# collect all files matching \"*txt\" (missing dot in pattern will still match filenames containing 'txt')\n",
    "# wrap in list() so we can index and get length\n",
    "txt_files = list(playground.glob(\"*txt\"))\n",
    "\n",
    "# if no matching text files, inform the user\n",
    "if not txt_files:\n",
    "    print(\"No text files found in the playground directory! can you hear me Major Tom?\")\n",
    "\n",
    "else:\n",
    "    # list available files with numeric choices for the user\n",
    "    print(\"Available text files, pick one Major Tom: \")\n",
    "    for files, file_path in enumerate(txt_files, 1):\n",
    "        # enumerate yields (index, value); here index starts at 1\n",
    "        print(f\"{files}. {file_path.name}\")\n",
    "\n",
    "    try:\n",
    "        # prompt the user to choose a file by number and convert input to int\n",
    "        choice = int(input(\"Major Tom, enter the number of the file to process: \"))\n",
    "        # validate the numeric choice against the number of files\n",
    "        if 1 <= choice <= len(txt_files):\n",
    "            selected_file = txt_files[choice - 1]\n",
    "\n",
    "            # read the selected file's text (returns a str)\n",
    "            content = selected_file.read_text()\n",
    "            # convert the text to uppercase\n",
    "            uppercase_content = content.upper()\n",
    "\n",
    "            # create a Path for the output shout file inside the playground directory\n",
    "            shout_file = playground / \"shout.txt\"\n",
    "            # write the uppercase text to shout.txt (creates or overwrites)\n",
    "            shout_file.write_text(uppercase_content)\n",
    "\n",
    "            # confirmation message including the processed filenames\n",
    "            print(\n",
    "                f\"Major Tom, we processed '{selected_file.name}' and created '{shout_file.name}', you can lift off now!\"\n",
    "            )\n",
    "        else:\n",
    "            # handle numeric choices outside the valid range\n",
    "            print(\n",
    "                \"Hey Major Tom, you've just picked an invalid selection, try again before lifting off.\"\n",
    "            )\n",
    "    except ValueError:\n",
    "        # handle non-integer input from the user (input() -> str -> int() raises ValueError)\n",
    "        print(\n",
    "            \"Major Tom, look, you must enter a valid number, we're ready to lift off!\"\n",
    "        )"
   ]
  },
  {
   "cell_type": "code",
   "execution_count": null,
   "id": "731b8da9",
   "metadata": {},
   "outputs": [
    {
     "name": "stdout",
     "output_type": "stream",
     "text": [
      "THIS IS FILE 1 TO MAJOR TOM\n"
     ]
    }
   ],
   "source": [
    "playground = Path(\"data/playground\")\n",
    "\n",
    "# iterate over all .txt files in the existing Path 'playground'\n",
    "for txt_file in playground.glob(\"*.txt\"):\n",
    "    # check the filename (txt_file.name is a string) for the prefix \"shout\"\n",
    "    if txt_file.name.startswith(\"shout\"):\n",
    "        # read_text() returns the file contents as a str; specify encoding for clarity\n",
    "        print(txt_file.read_text(encoding=\"utf-8\"))"
   ]
  },
  {
   "cell_type": "markdown",
   "id": "be99d5bc",
   "metadata": {},
   "source": [
    "### Exercises (Path warm-up)\n",
    "\n",
    "1. Create a Path object pointing to data/playground/file2.txt. Print out its name, stem, suffix, and parent.\n",
    "\n",
    "2. Use .with_suffix() to imagine what the same file would be called if it were a .md file.\n",
    "\n",
    "3. Write a script that lists all items in data/playground, printing whether each one is a file or a directory.\n",
    "\n",
    "4. Pick one file, check .exists(), then print its size in bytes using .stat().st_size."
   ]
  },
  {
   "cell_type": "code",
   "execution_count": null,
   "id": "f1149f9a",
   "metadata": {},
   "outputs": [
    {
     "name": "stdout",
     "output_type": "stream",
     "text": [
      "file2.txt\n",
      "file2\n",
      ".txt\n",
      "data\\playground\n"
     ]
    }
   ],
   "source": [
    "# Create a Path object pointing to data/playground/file2.txt. Print out its name, stem, suffix, and parent.\n",
    "file_2 = Path(\"data/playground/file2.txt\")\n",
    "\n",
    "print(file_2.name)\n",
    "print(file_2.stem)\n",
    "print(file_2.suffix)\n",
    "print(file_2.parent)"
   ]
  },
  {
   "cell_type": "code",
   "execution_count": null,
   "id": "b68bdb3b",
   "metadata": {},
   "outputs": [
    {
     "name": "stdout",
     "output_type": "stream",
     "text": [
      "data\\playground\\file2.md\n"
     ]
    }
   ],
   "source": [
    "# Use .with_suffix() to imagine what the same file would be called if it were a .md file.\n",
    "print(file_2.with_suffix(\".md\"))"
   ]
  },
  {
   "cell_type": "code",
   "execution_count": null,
   "id": "8c07619c",
   "metadata": {},
   "outputs": [
    {
     "name": "stdout",
     "output_type": "stream",
     "text": [
      "data\\playground\\file1.txt is a file, Major Tom!\n",
      "data\\playground\\file2.txt is a file, Major Tom!\n",
      "data\\playground\\file3.txt is a file, Major Tom!\n",
      "data\\playground\\shout.txt is a file, Major Tom!\n",
      "Lift off!!!\n"
     ]
    }
   ],
   "source": [
    "# Write a script that lists all items in data/playground, printing whether each one is a file or a directory.\n",
    "playground = Path(\"data/playground\")\n",
    "\n",
    "for files in playground.iterdir():\n",
    "    if files.is_file():\n",
    "        print(f\"{files} is a file, Major Tom!\")\n",
    "    elif files.is_dir():\n",
    "        print(f\"{files} is a directory, Ground Control!\")\n",
    "\n",
    "print(\"Lift off!!!\")"
   ]
  },
  {
   "cell_type": "code",
   "execution_count": 30,
   "id": "741bcf34",
   "metadata": {},
   "outputs": [
    {
     "name": "stdout",
     "output_type": "stream",
     "text": [
      "Hey Major Tom, data\\documents\\example.txt is a file!\n",
      "Ground Control, check this file's size: 24 bytes!\n",
      "LIFT-OFF!!!\n"
     ]
    }
   ],
   "source": [
    "data = Path(\"data\")\n",
    "# find the first file under any subdirectory of 'data'\n",
    "# next(generator, None) returns the first item from the generator or None if empty\n",
    "first_file = next(\n",
    "    (\n",
    "        sub\n",
    "        for folder in data.iterdir()  # iterate entries in the 'data' directory\n",
    "        if folder.is_dir()  # only consider directories\n",
    "        for sub in folder.iterdir()  # iterate entries inside each subdirectory\n",
    "        if sub.is_file()  # only consider files\n",
    "    ),\n",
    "    None,\n",
    ")\n",
    "\n",
    "if first_file:\n",
    "    # show the path and the file size in bytes (Path.stat().st_size)\n",
    "    print(f\"Hey Major Tom, {first_file} is a file!\")\n",
    "    print(f\"Ground Control, check this file's size: {first_file.stat().st_size} bytes!\")\n",
    "else:\n",
    "    print(\"No files found.\")\n",
    "\n",
    "print(\"LIFT-OFF!!!\")"
   ]
  },
  {
   "cell_type": "code",
   "execution_count": null,
   "id": "9d3daa88",
   "metadata": {},
   "outputs": [],
   "source": []
  }
 ],
 "metadata": {
  "kernelspec": {
   "display_name": "datacamp",
   "language": "python",
   "name": "python3"
  },
  "language_info": {
   "codemirror_mode": {
    "name": "ipython",
    "version": 3
   },
   "file_extension": ".py",
   "mimetype": "text/x-python",
   "name": "python",
   "nbconvert_exporter": "python",
   "pygments_lexer": "ipython3",
   "version": "3.12.11"
  }
 },
 "nbformat": 4,
 "nbformat_minor": 5
}
