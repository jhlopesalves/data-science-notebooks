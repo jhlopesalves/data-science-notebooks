{
 "cells": [
  {
   "cell_type": "markdown",
   "id": "1f828a7b",
   "metadata": {},
   "source": [
    "### Concept 1 – Paths\n",
    "\n",
    "A file path is simply a description of where something lives. You can think of it like an address in a city: street, building, apartment. In Python, we use `pathlib` because it gives us a clean, object-like way of handling paths."
   ]
  },
  {
   "cell_type": "code",
   "execution_count": 3,
   "id": "61172726",
   "metadata": {},
   "outputs": [
    {
     "name": "stdout",
     "output_type": "stream",
     "text": [
      "example.txt\n",
      "C:\\Users\\jhonm\\Downloads\\Code\\DataCamp\\Python\\projects\\study_sessions\\paths\\data\\documents\n",
      "('data', 'documents', 'example.txt')\n"
     ]
    }
   ],
   "source": [
    "from pathlib import Path\n",
    "\n",
    "# Absolute path (like giving a full street address)\n",
    "# Use a raw string to avoid interpreting backslashes as escape sequences\n",
    "absolute = Path(\n",
    "    \"C:/Users/jhonm/Downloads/Code/DataCamp/Python/projects/study_sessions/paths/data/documents/example.txt\"\n",
    ")\n",
    "\n",
    "# Relative path (like saying \"go into the 'documents' folder from here\")\n",
    "# Use forward slashes (works on all platforms) or a raw string\n",
    "relative = Path(\"data/documents/example.txt\")\n",
    "\n",
    "print(absolute.name)  # \"example.txt\"\n",
    "print(absolute.parent)  # path to the parent directory\n",
    "print(relative.parts)  # (\"data\", \"documents\", \"example.txt\")"
   ]
  },
  {
   "cell_type": "markdown",
   "id": "ad190255",
   "metadata": {},
   "source": [
    "### Concept 2 – Listing Directories\n",
    "\n",
    "Directories (folders) are containers. To see what’s inside them, we iterate."
   ]
  },
  {
   "cell_type": "code",
   "execution_count": 4,
   "id": "d8798bdd",
   "metadata": {},
   "outputs": [
    {
     "name": "stdout",
     "output_type": "stream",
     "text": [
      "data\n",
      "paths.ipynb\n"
     ]
    }
   ],
   "source": [
    "from pathlib import Path\n",
    "\n",
    "p = Path(\".\")  # current directory\n",
    "for item in p.iterdir():\n",
    "    print(item)"
   ]
  },
  {
   "cell_type": "markdown",
   "id": "3af77d11",
   "metadata": {},
   "source": [
    "If you want only certain files:"
   ]
  },
  {
   "cell_type": "code",
   "execution_count": 5,
   "id": "4927a9e0",
   "metadata": {},
   "outputs": [],
   "source": [
    "for txt_file in p.glob(\"*.txt\"):\n",
    "    print(txt_file)"
   ]
  },
  {
   "cell_type": "code",
   "execution_count": 7,
   "id": "16649ab9",
   "metadata": {},
   "outputs": [
    {
     "name": "stdout",
     "output_type": "stream",
     "text": [
      "This is just an example!\n"
     ]
    }
   ],
   "source": [
    "path = Path(\"data/documents/example.txt\")\n",
    "\n",
    "# Context manager ensures the file closes properly after use\n",
    "with path.open(\"r\", encoding=\"utf-8\") as f:\n",
    "    contents = f.read()\n",
    "\n",
    "print(contents)"
   ]
  },
  {
   "cell_type": "code",
   "execution_count": 9,
   "id": "6b653930",
   "metadata": {},
   "outputs": [],
   "source": [
    "new_file = Path(\"data/documents/output.txt\")\n",
    "\n",
    "with new_file.open(\"w\", encoding=\"utf-8\") as f:\n",
    "    f.write(\"Hello world! hello from inside python to you outside python!\")"
   ]
  },
  {
   "cell_type": "code",
   "execution_count": null,
   "id": "702a23f1",
   "metadata": {},
   "outputs": [],
   "source": []
  }
 ],
 "metadata": {
  "kernelspec": {
   "display_name": "datacamp",
   "language": "python",
   "name": "python3"
  },
  "language_info": {
   "codemirror_mode": {
    "name": "ipython",
    "version": 3
   },
   "file_extension": ".py",
   "mimetype": "text/x-python",
   "name": "python",
   "nbconvert_exporter": "python",
   "pygments_lexer": "ipython3",
   "version": "3.12.11"
  }
 },
 "nbformat": 4,
 "nbformat_minor": 5
}
