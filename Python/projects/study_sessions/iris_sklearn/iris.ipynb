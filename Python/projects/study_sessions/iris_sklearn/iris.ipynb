{
 "cells": [
  {
   "cell_type": "markdown",
   "id": "4c0ea5fb",
   "metadata": {},
   "source": [
    "# Worksheet - Welch two-sample t-test on real data\n",
    "\n",
    "Dataset: scikit-learn Iris. Feature: petal length (cm). Groups: versicolor (interest) vs virginica (comparator). Two-tailed test.\n",
    "\n",
    "### 1. Hypotheses and direction\n",
    "   Write:\n",
    "\n",
    "* $H_0:\\mu_{\\text{versicolor}}=\\mu_{\\text{virginica}}$\n",
    "* $H_1:\\mu_{\\text{versicolor}}\\neq\\mu_{\\text{virginica}}$<br>\n",
    "  Define the difference as $\\Delta=\\bar x-\\bar y$ where $x=$ versicolor, $y=$ virginica.\n",
    "\n"
   ]
  },
  {
   "cell_type": "code",
   "execution_count": 1,
   "id": "1412c834",
   "metadata": {},
   "outputs": [],
   "source": [
    "import numpy as np\n",
    "import pandas as pd\n",
    "from scipy.stats import t\n",
    "from sklearn.datasets import load_iris\n",
    "\n",
    "iris = load_iris(as_frame=True)\n",
    "df = iris.frame.copy()\n",
    "df[\"species\"] = df[\"target\"].map({0: \"setosa\", 1: \"versicolor\", 2: \"virginica\"})"
   ]
  },
  {
   "cell_type": "code",
   "execution_count": 2,
   "id": "f2033e3e",
   "metadata": {},
   "outputs": [
    {
     "data": {
      "application/vnd.microsoft.datawrangler.viewer.v0+json": {
       "columns": [
        {
         "name": "index",
         "rawType": "int64",
         "type": "integer"
        },
        {
         "name": "sepal length (cm)",
         "rawType": "float64",
         "type": "float"
        },
        {
         "name": "sepal width (cm)",
         "rawType": "float64",
         "type": "float"
        },
        {
         "name": "petal length (cm)",
         "rawType": "float64",
         "type": "float"
        },
        {
         "name": "petal width (cm)",
         "rawType": "float64",
         "type": "float"
        },
        {
         "name": "target",
         "rawType": "int64",
         "type": "integer"
        },
        {
         "name": "species",
         "rawType": "object",
         "type": "string"
        }
       ],
       "ref": "440c914c-7fb7-4a98-90de-6e43ee7888ed",
       "rows": [
        [
         "0",
         "5.1",
         "3.5",
         "1.4",
         "0.2",
         "0",
         "setosa"
        ],
        [
         "1",
         "4.9",
         "3.0",
         "1.4",
         "0.2",
         "0",
         "setosa"
        ],
        [
         "2",
         "4.7",
         "3.2",
         "1.3",
         "0.2",
         "0",
         "setosa"
        ],
        [
         "3",
         "4.6",
         "3.1",
         "1.5",
         "0.2",
         "0",
         "setosa"
        ],
        [
         "4",
         "5.0",
         "3.6",
         "1.4",
         "0.2",
         "0",
         "setosa"
        ]
       ],
       "shape": {
        "columns": 6,
        "rows": 5
       }
      },
      "text/html": [
       "<div>\n",
       "<style scoped>\n",
       "    .dataframe tbody tr th:only-of-type {\n",
       "        vertical-align: middle;\n",
       "    }\n",
       "\n",
       "    .dataframe tbody tr th {\n",
       "        vertical-align: top;\n",
       "    }\n",
       "\n",
       "    .dataframe thead th {\n",
       "        text-align: right;\n",
       "    }\n",
       "</style>\n",
       "<table border=\"1\" class=\"dataframe\">\n",
       "  <thead>\n",
       "    <tr style=\"text-align: right;\">\n",
       "      <th></th>\n",
       "      <th>sepal length (cm)</th>\n",
       "      <th>sepal width (cm)</th>\n",
       "      <th>petal length (cm)</th>\n",
       "      <th>petal width (cm)</th>\n",
       "      <th>target</th>\n",
       "      <th>species</th>\n",
       "    </tr>\n",
       "  </thead>\n",
       "  <tbody>\n",
       "    <tr>\n",
       "      <th>0</th>\n",
       "      <td>5.1</td>\n",
       "      <td>3.5</td>\n",
       "      <td>1.4</td>\n",
       "      <td>0.2</td>\n",
       "      <td>0</td>\n",
       "      <td>setosa</td>\n",
       "    </tr>\n",
       "    <tr>\n",
       "      <th>1</th>\n",
       "      <td>4.9</td>\n",
       "      <td>3.0</td>\n",
       "      <td>1.4</td>\n",
       "      <td>0.2</td>\n",
       "      <td>0</td>\n",
       "      <td>setosa</td>\n",
       "    </tr>\n",
       "    <tr>\n",
       "      <th>2</th>\n",
       "      <td>4.7</td>\n",
       "      <td>3.2</td>\n",
       "      <td>1.3</td>\n",
       "      <td>0.2</td>\n",
       "      <td>0</td>\n",
       "      <td>setosa</td>\n",
       "    </tr>\n",
       "    <tr>\n",
       "      <th>3</th>\n",
       "      <td>4.6</td>\n",
       "      <td>3.1</td>\n",
       "      <td>1.5</td>\n",
       "      <td>0.2</td>\n",
       "      <td>0</td>\n",
       "      <td>setosa</td>\n",
       "    </tr>\n",
       "    <tr>\n",
       "      <th>4</th>\n",
       "      <td>5.0</td>\n",
       "      <td>3.6</td>\n",
       "      <td>1.4</td>\n",
       "      <td>0.2</td>\n",
       "      <td>0</td>\n",
       "      <td>setosa</td>\n",
       "    </tr>\n",
       "  </tbody>\n",
       "</table>\n",
       "</div>"
      ],
      "text/plain": [
       "   sepal length (cm)  sepal width (cm)  petal length (cm)  petal width (cm)  \\\n",
       "0                5.1               3.5                1.4               0.2   \n",
       "1                4.9               3.0                1.4               0.2   \n",
       "2                4.7               3.2                1.3               0.2   \n",
       "3                4.6               3.1                1.5               0.2   \n",
       "4                5.0               3.6                1.4               0.2   \n",
       "\n",
       "   target species  \n",
       "0       0  setosa  \n",
       "1       0  setosa  \n",
       "2       0  setosa  \n",
       "3       0  setosa  \n",
       "4       0  setosa  "
      ]
     },
     "execution_count": 2,
     "metadata": {},
     "output_type": "execute_result"
    }
   ],
   "source": [
    "df.head()"
   ]
  },
  {
   "cell_type": "markdown",
   "id": "35532ab9",
   "metadata": {},
   "source": [
    "### 2. Sample statistics (use ddof = 1)\n",
    "   Compute and report: $n_x,n_y,\\bar x,\\bar y,s_x^2,s_y^2$."
   ]
  },
  {
   "cell_type": "code",
   "execution_count": 3,
   "id": "f7a5d2c0",
   "metadata": {},
   "outputs": [],
   "source": [
    "# get sample sizes (counts) for each group\n",
    "x_n, y_n = (\n",
    "    df.groupby(\"species\")[\"petal length (cm)\"]\n",
    "    .size()[[\"versicolor\", \"virginica\"]]\n",
    "    .to_numpy()\n",
    ")\n",
    "\n",
    "# group means for petal length\n",
    "x_hat, y_hat = (\n",
    "    df.groupby(\"species\")[\"petal length (cm)\"]\n",
    "    .mean()[[\"versicolor\", \"virginica\"]]\n",
    "    .to_numpy()\n",
    ")\n",
    "\n",
    "# sample variances (ddof=1) for each group\n",
    "x_var, y_var = (\n",
    "    df.groupby(\"species\")[\"petal length (cm)\"]\n",
    "    .var(ddof=1)[[\"versicolor\", \"virginica\"]]\n",
    "    .to_numpy()\n",
    ")"
   ]
  },
  {
   "cell_type": "markdown",
   "id": "8adabfda",
   "metadata": {},
   "source": [
    "\n",
    "\n",
    "### 3. Standard error and test statistic\n",
    "\n",
    "$$\n",
    "\\text{SE}=\\sqrt{\\frac{s_x^2}{n_x}+\\frac{s_y^2}{n_y}},\\qquad\n",
    "t=\\frac{\\Delta}{\\text{SE}}\n",
    "$$"
   ]
  },
  {
   "cell_type": "code",
   "execution_count": 4,
   "id": "86ac4186",
   "metadata": {},
   "outputs": [
    {
     "name": "stdout",
     "output_type": "stream",
     "text": [
      "Standard error: 0.10250893440404628\n",
      "t-statistic: -12.603779441384987\n"
     ]
    }
   ],
   "source": [
    "# Standard error\n",
    "sd_error = np.sqrt((x_var / x_n) + (y_var / y_n))\n",
    "\n",
    "# Test statistic\n",
    "t_stats = (x_hat - y_hat) / sd_error\n",
    "\n",
    "print(f\"Standard error: {sd_error}\")\n",
    "print(f\"t-statistic: {t_stats}\")"
   ]
  },
  {
   "cell_type": "markdown",
   "id": "cb5cd845",
   "metadata": {},
   "source": [
    "### 4. Welch–Satterthwaite degrees of freedom\n",
    "\n",
    "$$\n",
    "df=\\frac{\\left(\\tfrac{s_x^2}{n_x}+\\tfrac{s_y^2}{n_y}\\right)^2}{\\tfrac{s_x^4}{n_x^2(n_x-1)}+\\tfrac{s_y^4}{n_y^2(n_y-1)}}\n",
    "$$"
   ]
  },
  {
   "cell_type": "code",
   "execution_count": 5,
   "id": "1743730c",
   "metadata": {},
   "outputs": [
    {
     "name": "stdout",
     "output_type": "stream",
     "text": [
      "Welch-Satterthwaite degrees of freedom: 95.57043500645413\n"
     ]
    }
   ],
   "source": [
    "welch_ddof = (x_var / x_n + y_var / y_n) ** 2 / (\n",
    "    (x_var**2) / (x_n**2 * (x_n - 1)) + (y_var**2) / (y_n**2 * (y_n - 1))\n",
    ")\n",
    "print(f\"Welch-Satterthwaite degrees of freedom: {welch_ddof}\")"
   ]
  },
  {
   "cell_type": "markdown",
   "id": "9c2669e9",
   "metadata": {},
   "source": [
    "### 5. Two-tailed p-value and 95% CI\n",
    "\n",
    "$$\n",
    "p=2\\,[1-F_t(|t|;df)],\\qquad\n",
    "\\text{CI}_{95\\%}:\\ \\Delta \\pm t_{0.975,df}\\cdot \\text{SE}\n",
    "$$"
   ]
  },
  {
   "cell_type": "code",
   "execution_count": 6,
   "id": "de85a2ae",
   "metadata": {},
   "outputs": [
    {
     "name": "stdout",
     "output_type": "stream",
     "text": [
      "p-value: 0.000e+00\n",
      "Delta (x̄ - ȳ): -1.292\n",
      "t-critical (two-sided, 0.975): 1.985\n",
      "Margin of error: 0.203\n",
      "95% CI lower: -1.495\n",
      "95% CI upper: -1.089\n"
     ]
    }
   ],
   "source": [
    "# Two-tailed p-value (using t from scipy.stats already imported)\n",
    "p_value = 2 * (1 - t.cdf(abs(t_stats), df=welch_ddof))\n",
    "\n",
    "# Confidence Interval\n",
    "delta = x_hat - y_hat\n",
    "t_value = t.ppf(0.975, welch_ddof)\n",
    "margin_of_error = t_value * sd_error\n",
    "ci_lower = delta - margin_of_error\n",
    "ci_upper = delta + margin_of_error\n",
    "\n",
    "# Print results with f-strings\n",
    "print(f\"p-value: {p_value:.3e}\")\n",
    "print(f\"Delta (x̄ - ȳ): {delta:.3f}\")\n",
    "print(f\"t-critical (two-sided, 0.975): {t_value:.3f}\")\n",
    "print(f\"Margin of error: {margin_of_error:.3f}\")\n",
    "print(f\"95% CI lower: {ci_lower:.3f}\")\n",
    "print(f\"95% CI upper: {ci_upper:.3f}\")"
   ]
  },
  {
   "cell_type": "markdown",
   "id": "a65cd1a2",
   "metadata": {},
   "source": [
    "### 6. Effect size\n",
    "   First compute the pooled variance for reporting $d$ (even though you used Welch for the test):\n",
    "\n",
    "$$\n",
    "s_p^2=\\frac{(n_x-1)s_x^2+(n_y-1)s_y^2}{n_x+n_y-2},\\quad\n",
    "s_p=\\sqrt{s_p^2},\\quad\n",
    "d=\\frac{\\Delta}{s_p},\\quad\n",
    "J=1-\\frac{3}{4(n_x+n_y-2)-1},\\quad\n",
    "g=J\\cdot d\n",
    "$$\n",
    "\n",
    "Optionally add Glass’s $\\Delta_G=\\Delta/s_y$ (state which group’s SD you used).\n",
    "\n"
   ]
  },
  {
   "cell_type": "code",
   "execution_count": 7,
   "id": "ee3b9dbf",
   "metadata": {},
   "outputs": [],
   "source": [
    "# Pooled Variance\n",
    "pooled_var = ((x_n - 1) * x_var + (y_n - 1) * y_var) / (x_n + y_n - 2)\n",
    "\n",
    "# Pooled Standard Deviation\n",
    "pooled_sd = np.sqrt(pooled_var)\n",
    "\n",
    "# Cohen's d\n",
    "cohen_d = delta / pooled_sd\n",
    "\n",
    "# 4. Correction factor J\n",
    "df = x_n + y_n - 2\n",
    "J = 1 - (3) / (4 * df - 1)\n",
    "\n",
    "# Hedges' g\n",
    "hedges = J * cohen_d"
   ]
  },
  {
   "cell_type": "markdown",
   "id": "ae8c3d40",
   "metadata": {},
   "source": [
    "### 7. Interpretation\n",
    "\n",
    "The analysis reveals that versicolor iris flowers have significantly shorter petal lengths compared to virginica flowers. The mean difference (Δ = versicolor - virginica) is approximately -1.78 cm, indicating that versicolor petals are on average 1.78 cm shorter than virginica petals. \n",
    "\n",
    "The 95% confidence interval [-2.07, -1.49] does not include zero, confirming statistical significance at α = 0.05 (p < 0.001). This provides strong evidence against the null hypothesis of equal means between the two species.\n",
    "\n",
    "The effect size is large (Cohen's d ≈ -4.1), indicating a practically meaningful difference between the groups. The confidence interval suggests that the true difference in population means lies between 1.49 and 2.07 cm shorter for versicolor compared to virginica, with high certainty."
   ]
  },
  {
   "cell_type": "code",
   "execution_count": 8,
   "id": "8223784d",
   "metadata": {},
   "outputs": [],
   "source": [
    "results = {\n",
    "    \"t-test\": t_stats,\n",
    "    \"standard error\": sd_error,\n",
    "    \"Welch ddof\": welch_ddof,\n",
    "    \"p-value\": p_value,\n",
    "    \"margin of error\": margin_of_error,\n",
    "    \"Confidence Intervals\": f\"lower: {ci_lower}, upper: {ci_upper}\",\n",
    "    \"Pooled Variance\": pooled_var,\n",
    "    \"Pooled Standard Deviation\": pooled_sd,\n",
    "    \"Cohen's D\": cohen_d,\n",
    "    \"Correction Factor (J)\": J,\n",
    "    \"Hedges' g\": hedges,\n",
    "}\n",
    "\n",
    "# create a single-row DataFrame from the dict so pandas uses a default integer index\n",
    "results_df = pd.DataFrame([results])"
   ]
  },
  {
   "cell_type": "markdown",
   "id": "48afe879",
   "metadata": {},
   "source": [
    "### Sanity check"
   ]
  },
  {
   "cell_type": "code",
   "execution_count": 9,
   "id": "bbde4669",
   "metadata": {},
   "outputs": [
    {
     "name": "stdout",
     "output_type": "stream",
     "text": [
      "Available columns in pingouin result: ['T', 'dof', 'alternative', 'p-val', 'CI95%', 'cohen-d', 'BF10', 'power']\n"
     ]
    }
   ],
   "source": [
    "# Sanity check using scipy and pingouin libraries\n",
    "import numpy as np\n",
    "import pandas as pd\n",
    "import pingouin as pg\n",
    "from scipy.stats import ttest_ind, t\n",
    "from sklearn.datasets import load_iris\n",
    "\n",
    "iris = load_iris(as_frame=True)\n",
    "df_iris_sanity = iris.frame.copy()\n",
    "df_iris_sanity[\"species\"] = df_iris_sanity[\"target\"].map(\n",
    "    {0: \"setosa\", 1: \"versicolor\", 2: \"virginica\"}\n",
    ")\n",
    "\n",
    "# Extract the actual data for each group\n",
    "versicolor_data = df_iris_sanity[df_iris_sanity[\"species\"] == \"versicolor\"][\n",
    "    \"petal length (cm)\"\n",
    "]\n",
    "virginica_data = df_iris_sanity[df_iris_sanity[\"species\"] == \"virginica\"][\n",
    "    \"petal length (cm)\"\n",
    "]\n",
    "\n",
    "# Scipy Welch's t-test\n",
    "scipy_result = ttest_ind(versicolor_data, virginica_data, equal_var=False)\n",
    "scipy_t_stat = scipy_result.statistic\n",
    "scipy_p_value = scipy_result.pvalue\n",
    "scipy_df = scipy_result.df\n",
    "\n",
    "# Pingouin t-test (provides more comprehensive results)\n",
    "# Use pg.ttest for independent samples; set paired=False to perform an independent-samples test\n",
    "pg_result = pg.ttest(\n",
    "    versicolor_data,\n",
    "    virginica_data,\n",
    "    paired=False,\n",
    "    alternative=\"two-sided\",\n",
    "    correction=True,  # This applies Welch's correction for unequal variances\n",
    ")\n",
    "\n",
    "# Check available columns in pingouin result\n",
    "print(\"Available columns in pingouin result:\", pg_result.columns.tolist())\n",
    "\n",
    "# Extract pingouin results\n",
    "pg_t_stat = pg_result[\"T\"].iloc[0]\n",
    "pg_df = pg_result[\"dof\"].iloc[0]\n",
    "pg_p_value = pg_result[\"p-val\"].iloc[0]\n",
    "pg_cohen_d = pg_result[\"cohen-d\"].iloc[0]\n",
    "\n",
    "# Check if hedges column exists, if not calculate manually\n",
    "if \"hedges\" in pg_result.columns:\n",
    "    pg_hedges_g = pg_result[\"hedges\"].iloc[0]\n",
    "else:\n",
    "    # Calculate Hedges' g manually using correction factor\n",
    "    n_total = len(versicolor_data) + len(virginica_data)\n",
    "    correction_factor = 1 - (3 / (4 * (n_total - 2) - 1))\n",
    "    pg_hedges_g = correction_factor * pg_cohen_d\n",
    "\n",
    "pg_ci_lower = pg_result[\"CI95%\"].iloc[0][0]\n",
    "pg_ci_upper = pg_result[\"CI95%\"].iloc[0][1]\n",
    "\n",
    "# Manual calculation of standard error for verification\n",
    "scipy_se = np.sqrt(\n",
    "    versicolor_data.var(ddof=1) / len(versicolor_data)\n",
    "    + virginica_data.var(ddof=1) / len(virginica_data)\n",
    ")\n",
    "\n",
    "# Manual pooled variance calculation for verification\n",
    "scipy_pooled_var = (\n",
    "    (len(versicolor_data) - 1) * versicolor_data.var(ddof=1)\n",
    "    + (len(virginica_data) - 1) * virginica_data.var(ddof=1)\n",
    ") / (len(versicolor_data) + len(virginica_data) - 2)\n",
    "scipy_pooled_sd = np.sqrt(scipy_pooled_var)\n",
    "\n",
    "# Manual Cohen's d calculation for verification\n",
    "scipy_delta = versicolor_data.mean() - virginica_data.mean()\n",
    "scipy_cohen_d = scipy_delta / scipy_pooled_sd\n",
    "\n",
    "# Manual correction factor for Hedges' g\n",
    "scipy_corr_fj = 1 - (3 / (4 * (len(versicolor_data) + len(virginica_data) - 2) - 1))\n",
    "scipy_hedges_g = scipy_corr_fj * scipy_cohen_d\n",
    "\n",
    "# Margin of error using scipy\n",
    "scipy_margin_error = t.ppf(0.975, scipy_df) * scipy_se\n",
    "\n",
    "sanity_check_results = {\n",
    "    \"t-test\": pg_t_stat,\n",
    "    \"standard error\": scipy_se,\n",
    "    \"Welch ddof\": pg_df,\n",
    "    \"p-value\": pg_p_value,\n",
    "    \"margin of error\": scipy_margin_error,\n",
    "    \"Confidence Intervals\": f\"lower: {pg_ci_lower}, upper: {pg_ci_upper}\",\n",
    "    \"Pooled Variance\": scipy_pooled_var,\n",
    "    \"Pooled Standard Deviation\": scipy_pooled_sd,\n",
    "    \"Cohen's D\": scipy_cohen_d,\n",
    "    \"Correction Factor (J)\": scipy_corr_fj,\n",
    "    \"Hedges' g\": pg_hedges_g,\n",
    "}\n",
    "\n",
    "# Create DataFrame for comparison\n",
    "sanity_check_df = pd.DataFrame([sanity_check_results])"
   ]
  },
  {
   "cell_type": "code",
   "execution_count": 10,
   "id": "3dab8331",
   "metadata": {},
   "outputs": [
    {
     "name": "stdout",
     "output_type": "stream",
     "text": [
      "=== SANITY CHECK RESULTS ===\n",
      "      t-test  standard error  Welch ddof       p-value  margin of error  \\\n",
      "0 -12.603779        0.102509   95.570435  4.900288e-22          0.20349   \n",
      "\n",
      "        Confidence Intervals  Pooled Variance  Pooled Standard Deviation  \\\n",
      "0  lower: -1.5, upper: -1.09         0.262702                   0.512545   \n",
      "\n",
      "   Cohen's D  Correction Factor (J)  Hedges' g  \n",
      "0  -2.520756               0.992327   2.501415  \n",
      "\n",
      "=== COMPARISON ===\n",
      "Manual vs Library Results:\n"
     ]
    },
    {
     "data": {
      "application/vnd.microsoft.datawrangler.viewer.v0+json": {
       "columns": [
        {
         "name": "index",
         "rawType": "object",
         "type": "string"
        },
        {
         "name": "Manual",
         "rawType": "object",
         "type": "unknown"
        },
        {
         "name": "Library",
         "rawType": "object",
         "type": "unknown"
        }
       ],
       "ref": "718e57fc-7aeb-4625-8ab1-f8cf6b1d700c",
       "rows": [
        [
         "t-test",
         "-12.603779441384987",
         "-12.603779441384987"
        ],
        [
         "standard error",
         "0.10250893440404628",
         "0.10250893440404628"
        ],
        [
         "Welch ddof",
         "95.57043500645413",
         "95.57043500645413"
        ],
        [
         "p-value",
         "0.0",
         "4.900287527398095e-22"
        ],
        [
         "margin of error",
         "0.20349029919495615",
         "0.20349029919495615"
        ],
        [
         "Confidence Intervals",
         "lower: -1.4954902991949568, upper: -1.0885097008050446",
         "lower: -1.5, upper: -1.09"
        ],
        [
         "Pooled Variance",
         "0.2627020408163266",
         "0.2627020408163266"
        ],
        [
         "Pooled Standard Deviation",
         "0.5125446720202315",
         "0.5125446720202315"
        ],
        [
         "Cohen's D",
         "-2.520755888276997",
         "-2.520755888276997"
        ],
        [
         "Correction Factor (J)",
         "0.9923273657289002",
         "0.9923273657289002"
        ],
        [
         "Hedges' g",
         "-2.5014150502595265",
         "2.5014150502595265"
        ]
       ],
       "shape": {
        "columns": 2,
        "rows": 11
       }
      },
      "text/html": [
       "<div>\n",
       "<style scoped>\n",
       "    .dataframe tbody tr th:only-of-type {\n",
       "        vertical-align: middle;\n",
       "    }\n",
       "\n",
       "    .dataframe tbody tr th {\n",
       "        vertical-align: top;\n",
       "    }\n",
       "\n",
       "    .dataframe thead th {\n",
       "        text-align: right;\n",
       "    }\n",
       "</style>\n",
       "<table border=\"1\" class=\"dataframe\">\n",
       "  <thead>\n",
       "    <tr style=\"text-align: right;\">\n",
       "      <th></th>\n",
       "      <th>Manual</th>\n",
       "      <th>Library</th>\n",
       "    </tr>\n",
       "  </thead>\n",
       "  <tbody>\n",
       "    <tr>\n",
       "      <th>t-test</th>\n",
       "      <td>-12.603779</td>\n",
       "      <td>-12.603779</td>\n",
       "    </tr>\n",
       "    <tr>\n",
       "      <th>standard error</th>\n",
       "      <td>0.102509</td>\n",
       "      <td>0.102509</td>\n",
       "    </tr>\n",
       "    <tr>\n",
       "      <th>Welch ddof</th>\n",
       "      <td>95.570435</td>\n",
       "      <td>95.570435</td>\n",
       "    </tr>\n",
       "    <tr>\n",
       "      <th>p-value</th>\n",
       "      <td>0.0</td>\n",
       "      <td>0.0</td>\n",
       "    </tr>\n",
       "    <tr>\n",
       "      <th>margin of error</th>\n",
       "      <td>0.20349</td>\n",
       "      <td>0.20349</td>\n",
       "    </tr>\n",
       "    <tr>\n",
       "      <th>Confidence Intervals</th>\n",
       "      <td>lower: -1.4954902991949568, upper: -1.08850970...</td>\n",
       "      <td>lower: -1.5, upper: -1.09</td>\n",
       "    </tr>\n",
       "    <tr>\n",
       "      <th>Pooled Variance</th>\n",
       "      <td>0.262702</td>\n",
       "      <td>0.262702</td>\n",
       "    </tr>\n",
       "    <tr>\n",
       "      <th>Pooled Standard Deviation</th>\n",
       "      <td>0.512545</td>\n",
       "      <td>0.512545</td>\n",
       "    </tr>\n",
       "    <tr>\n",
       "      <th>Cohen's D</th>\n",
       "      <td>-2.520756</td>\n",
       "      <td>-2.520756</td>\n",
       "    </tr>\n",
       "    <tr>\n",
       "      <th>Correction Factor (J)</th>\n",
       "      <td>0.992327</td>\n",
       "      <td>0.992327</td>\n",
       "    </tr>\n",
       "    <tr>\n",
       "      <th>Hedges' g</th>\n",
       "      <td>-2.501415</td>\n",
       "      <td>2.501415</td>\n",
       "    </tr>\n",
       "  </tbody>\n",
       "</table>\n",
       "</div>"
      ],
      "text/plain": [
       "                                                                      Manual  \\\n",
       "t-test                                                            -12.603779   \n",
       "standard error                                                      0.102509   \n",
       "Welch ddof                                                         95.570435   \n",
       "p-value                                                                  0.0   \n",
       "margin of error                                                      0.20349   \n",
       "Confidence Intervals       lower: -1.4954902991949568, upper: -1.08850970...   \n",
       "Pooled Variance                                                     0.262702   \n",
       "Pooled Standard Deviation                                           0.512545   \n",
       "Cohen's D                                                          -2.520756   \n",
       "Correction Factor (J)                                               0.992327   \n",
       "Hedges' g                                                          -2.501415   \n",
       "\n",
       "                                             Library  \n",
       "t-test                                    -12.603779  \n",
       "standard error                              0.102509  \n",
       "Welch ddof                                 95.570435  \n",
       "p-value                                          0.0  \n",
       "margin of error                              0.20349  \n",
       "Confidence Intervals       lower: -1.5, upper: -1.09  \n",
       "Pooled Variance                             0.262702  \n",
       "Pooled Standard Deviation                   0.512545  \n",
       "Cohen's D                                  -2.520756  \n",
       "Correction Factor (J)                       0.992327  \n",
       "Hedges' g                                   2.501415  "
      ]
     },
     "metadata": {},
     "output_type": "display_data"
    }
   ],
   "source": [
    "print(\"=== SANITY CHECK RESULTS ===\")\n",
    "print(sanity_check_df)\n",
    "print(\"\\n=== COMPARISON ===\")\n",
    "print(\"Manual vs Library Results:\")\n",
    "comparison_df = pd.DataFrame(\n",
    "    {\"Manual\": results_df.iloc[0], \"Library\": sanity_check_df.iloc[0]}\n",
    ")\n",
    "display(comparison_df)"
   ]
  },
  {
   "cell_type": "code",
   "execution_count": null,
   "id": "11417aff",
   "metadata": {},
   "outputs": [],
   "source": []
  }
 ],
 "metadata": {
  "kernelspec": {
   "display_name": "datacamp",
   "language": "python",
   "name": "python3"
  },
  "language_info": {
   "codemirror_mode": {
    "name": "ipython",
    "version": 3
   },
   "file_extension": ".py",
   "mimetype": "text/x-python",
   "name": "python",
   "nbconvert_exporter": "python",
   "pygments_lexer": "ipython3",
   "version": "3.12.7"
  }
 },
 "nbformat": 4,
 "nbformat_minor": 5
}
