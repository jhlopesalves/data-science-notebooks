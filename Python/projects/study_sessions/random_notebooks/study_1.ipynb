{
 "cells": [
  {
   "cell_type": "code",
   "execution_count": 1,
   "id": "32061be1",
   "metadata": {},
   "outputs": [],
   "source": [
    "import numpy as np\n",
    "import pandas as pd\n",
    "from scipy import stats"
   ]
  },
  {
   "cell_type": "code",
   "execution_count": 2,
   "id": "d4344744",
   "metadata": {},
   "outputs": [
    {
     "name": "stdout",
     "output_type": "stream",
     "text": [
      "Sample mean: 3.28 minutes\n",
      "Sample standard deviation: 0.72 minutes\n",
      "Sample size: 60\n"
     ]
    }
   ],
   "source": [
    "# Let's simulate some coffee shop waiting times\n",
    "np.random.seed(42)  # for reproducibility\n",
    "\n",
    "# Scenario: The manager claims average wait time is 3 minutes\n",
    "# You collected data for 60 customers over a week\n",
    "# Here's your sample data (in minutes):\n",
    "waiting_times = np.random.normal(loc=3.4, scale=0.8, size=60)\n",
    "\n",
    "# Let's look at our data\n",
    "print(f\"Sample mean: {waiting_times.mean():.2f} minutes\")\n",
    "print(f\"Sample standard deviation: {waiting_times.std():.2f} minutes\")\n",
    "print(f\"Sample size: {len(waiting_times)}\")"
   ]
  },
  {
   "cell_type": "markdown",
   "id": "87d93e4e",
   "metadata": {},
   "source": [
    "### Task 1: Perform a one-sample t-test\n",
    "You need to test whether the average waiting time is significantly different from 3 minutes. Since we don't know the true population standard deviation, we'll use a t-test.\n",
    "Start by setting up your hypotheses clearly:<br>\n",
    "$H_0: \\mu = 3$ (the population mean is 3 minutes) <br>\n",
    "$H_A: \\mu \\neq 3$ (the population mean is not 3 minutes — two-tailed test)"
   ]
  },
  {
   "cell_type": "code",
   "execution_count": 3,
   "id": "a20c52ae",
   "metadata": {},
   "outputs": [
    {
     "name": "stdout",
     "output_type": "stream",
     "text": [
      "manual test statistic: 2.944382096364252\n",
      "manual p-value: 0.004623249382156747\n"
     ]
    }
   ],
   "source": [
    "# Your code here - try to:\n",
    "# 1. Calculate the test statistic manually first\n",
    "x_hat = np.mean(waiting_times)\n",
    "hyp_mean = 3.0\n",
    "sd_sample = np.std(waiting_times, ddof=1)\n",
    "n = len(waiting_times)\n",
    "ddof = n - 1\n",
    "\n",
    "t_stats = (x_hat - hyp_mean) / (sd_sample / np.sqrt(n))\n",
    "p_value = 2 * (1 - stats.t.cdf(abs(t_stats), df=ddof))\n",
    "\n",
    "print(f\"manual test statistic: {t_stats}\")\n",
    "print(f\"manual p-value: {p_value}\")"
   ]
  },
  {
   "cell_type": "code",
   "execution_count": 5,
   "id": "8461cf17",
   "metadata": {},
   "outputs": [
    {
     "name": "stdout",
     "output_type": "stream",
     "text": [
      "scipy test statistic: 2.9443820963642517\n",
      "scipy p-value: 0.004623249382156754\n"
     ]
    }
   ],
   "source": [
    "# 2. Then use scipy.stats.ttest_1samp() to verify\n",
    "ttest, pvalue = stats.ttest_1samp(\n",
    "    a=waiting_times, popmean=hyp_mean, alternative=\"two-sided\"\n",
    ")\n",
    "\n",
    "print(f\"scipy test statistic: {ttest}\")\n",
    "print(f\"scipy p-value: {pvalue}\")"
   ]
  },
  {
   "cell_type": "markdown",
   "id": "371133c4",
   "metadata": {},
   "source": [
    "### Task 2. Interpret the results\n",
    "1) If the true average waiting time really were 3 minutes, there's only a 0.46% chance we'd see a sample mean as far from 3 as we did (3.24 minutes in this case)\n",
    "2) It's really unlikely our data came from a population with a mean of 3 minutes. So we reject that idea and conclude the true mean is probably different from 3 minutes."
   ]
  },
  {
   "cell_type": "markdown",
   "id": "9bce4f1b",
   "metadata": {},
   "source": [
    "### Task 3: Explore the effect of sample size\n",
    "1. Is the sample mean of the small sample similar to the full sample?\n",
    "2. What happened to the t-statistic? Did it get larger or smaller?\n",
    "3. What happened to the p-value?\n",
    "4. With the small sample, would you still reject the null hypothesis at α = 0.05?\n",
    "5. Why do you think sample size has this effect?"
   ]
  },
  {
   "cell_type": "code",
   "execution_count": 6,
   "id": "39b58ebe",
   "metadata": {},
   "outputs": [
    {
     "name": "stdout",
     "output_type": "stream",
     "text": [
      "\n",
      "--- Small Sample Analysis ---\n",
      "Small sample mean: 3.76 minutes\n",
      "Small sample std: 0.58 minutes\n",
      "Small sample size: 10\n",
      "\n",
      "Small sample t-statistic: 4.1466\n",
      "Small sample p-value: 0.0025\n",
      "\n",
      "--- Comparison ---\n",
      "Original (n=60): t = 2.9444, p = 0.0046\n",
      "Small (n=10): t = 4.1466, p = 0.0025\n"
     ]
    }
   ],
   "source": [
    "# Task 3: Effect of sample size\n",
    "small_sample = waiting_times[:10]\n",
    "\n",
    "print(f\"\\n--- Small Sample Analysis ---\")\n",
    "print(f\"Small sample mean: {small_sample.mean():.2f} minutes\")\n",
    "print(f\"Small sample std: {small_sample.std(ddof=1):.2f} minutes\")\n",
    "print(f\"Small sample size: {len(small_sample)}\")\n",
    "\n",
    "# Calculate t-test for small sample\n",
    "t_small, p_small = stats.ttest_1samp(small_sample, popmean=3.0, alternative=\"two-sided\")\n",
    "\n",
    "print(f\"\\nSmall sample t-statistic: {t_small:.4f}\")\n",
    "print(f\"Small sample p-value: {p_small:.4f}\")\n",
    "\n",
    "# Compare with your original results\n",
    "print(f\"\\n--- Comparison ---\")\n",
    "print(f\"Original (n=60): t = {ttest:.4f}, p = {pvalue:.4f}\")\n",
    "print(f\"Small (n=10): t = {t_small:.4f}, p = {p_small:.4f}\")"
   ]
  },
  {
   "cell_type": "markdown",
   "id": "e63f0ca8",
   "metadata": {},
   "source": [
    "### Two-Sample T-Tests: Comparing Groups"
   ]
  },
  {
   "cell_type": "code",
   "execution_count": 7,
   "id": "1cd10497",
   "metadata": {},
   "outputs": [
    {
     "name": "stdout",
     "output_type": "stream",
     "text": [
      "Sample summary statistics:\n",
      "         count      mean       std\n",
      "shift                             \n",
      "evening     50  3.508677  0.815090\n",
      "morning     45  2.670254  0.558168\n"
     ]
    }
   ],
   "source": [
    "import numpy as np\n",
    "import pandas as pd\n",
    "from scipy import stats\n",
    "\n",
    "np.random.seed(42)\n",
    "\n",
    "# Let's simulate waiting times for two shifts\n",
    "# Morning shift: generally faster (experienced baristas, regular customers who know their orders)\n",
    "morning_wait_times = np.random.normal(loc=2.8, scale=0.6, size=45)\n",
    "\n",
    "# Evening shift: generally slower (tired baristas, more complex orders, people less rushed)\n",
    "evening_wait_times = np.random.normal(loc=3.5, scale=0.9, size=50)\n",
    "\n",
    "# Let's organize this in a way that mirrors real data\n",
    "coffee_data = pd.DataFrame(\n",
    "    {\n",
    "        \"wait_time\": np.concatenate([morning_wait_times, evening_wait_times]),\n",
    "        \"shift\": [\"morning\"] * 45 + [\"evening\"] * 50,\n",
    "    }\n",
    ")\n",
    "\n",
    "print(\"Sample summary statistics:\")\n",
    "print(coffee_data.groupby(\"shift\")[\"wait_time\"].agg([\"count\", \"mean\", \"std\"]))"
   ]
  },
  {
   "cell_type": "markdown",
   "id": "0bd8e9d5",
   "metadata": {},
   "source": [
    "## 2. Independent Two-Sample t-Test (Equal Variances)\n",
    "\n",
    "This test compares the means of two independent groups, assuming they have similar variability. \n",
    "\n",
    "**Formula:**\n",
    "$ t = \\frac{\\bar{x}_1 - \\bar{x}_2}{s_p \\cdot \\sqrt{\\frac{1}{n_1} + \\frac{1}{n_2}}}$\n",
    "\n",
    "**Pooled Standard Deviation:**\n",
    "$ s_p = \\sqrt{\\frac{(n_1-1)s_1^2 + (n_2-1)s_2^2}{n_1 + n_2 - 2}}$\n",
    "\n",
    "Where:\n",
    "\n",
    "- $\\bar{x}_1, \\bar{x}_2$ = means of groups 1 and 2\n",
    "- $s_1^2, s_2^2$ = variances of groups 1 and 2\n",
    "- $n_1, n_2$ = sample sizes of groups 1 and 2\n",
    "- $s_p$ = pooled standard deviation (weighted average of the two standard deviations)\n",
    "\n",
    "**Degrees of freedom:** $df = n_1 + n_2 - 2$"
   ]
  },
  {
   "cell_type": "code",
   "execution_count": 8,
   "id": "8aa196eb",
   "metadata": {},
   "outputs": [],
   "source": [
    "morning_data, evening_data = (\n",
    "    coffee_data[coffee_data[\"shift\"] == shift][\"wait_time\"].values\n",
    "    for shift in [\"morning\", \"evening\"]\n",
    ")"
   ]
  },
  {
   "cell_type": "code",
   "execution_count": 9,
   "id": "21087c52",
   "metadata": {},
   "outputs": [],
   "source": [
    "x_morning, x_evening = np.mean(morning_data), np.mean(evening_data)\n",
    "var_morning, var_evening = np.var(morning_data, ddof=1), np.var(evening_data, ddof=1)\n",
    "n_morning, n_evening = len(morning_data), len(evening_data)\n",
    "sd_morning, sd_evening = np.std(morning_data, ddof=1), np.std(evening_data, ddof=1)"
   ]
  },
  {
   "cell_type": "code",
   "execution_count": 10,
   "id": "7e5726aa",
   "metadata": {},
   "outputs": [
    {
     "name": "stdout",
     "output_type": "stream",
     "text": [
      "degrees of freedom: 87.05\n",
      "\n",
      "t-statistic (equal variance): -5.8975\n",
      "p-value (equal variance): 6.8771e-08\n",
      "\n",
      "t-statistic (non-equal variance): -5.7852e+00\n",
      "p-value (non-equal variance): 9.6727e-08\n"
     ]
    }
   ],
   "source": [
    "# Welch’s t-Test (Equal Variance)\n",
    "t_stat_welch, p_val_welch = stats.ttest_ind(\n",
    "    morning_data,\n",
    "    evening_data,\n",
    "    equal_var=False,\n",
    ")\n",
    "\n",
    "# Welch’s t-Test (Non-equal Variance)\n",
    "t_stat_welch_eq, p_val_welch_eq = stats.ttest_ind(\n",
    "    morning_data,\n",
    "    evening_data,\n",
    "    equal_var=True,\n",
    ")\n",
    "\n",
    "se_morning, se_evening = stats.sem(morning_data), stats.sem(evening_data)\n",
    "welch_df = (se_morning**2 + se_evening**2) ** 2 / (\n",
    "    se_morning**4 / (len(morning_data) - 1) + se_evening**4 / (len(evening_data) - 1)\n",
    ")\n",
    "print(f\"degrees of freedom: {welch_df:.2f}\")\n",
    "print(f\"\\nt-statistic (equal variance): {t_stat_welch:.4f}\")\n",
    "print(f\"p-value (equal variance): {p_val_welch:.4e}\")\n",
    "print(f\"\\nt-statistic (non-equal variance): {t_stat_welch_eq:.4e}\")\n",
    "print(f\"p-value (non-equal variance): {p_val_welch_eq:.4e}\")"
   ]
  },
  {
   "cell_type": "code",
   "execution_count": 11,
   "id": "702f39a9",
   "metadata": {},
   "outputs": [],
   "source": [
    "# Pooled Standard Deviation\n",
    "pooled_num = (n_morning - 1) * var_morning + (n_evening - 1) * var_evening\n",
    "pooled_den = n_morning + n_evening - 2\n",
    "pooled_sd = np.sqrt(pooled_num / pooled_den)"
   ]
  },
  {
   "cell_type": "code",
   "execution_count": 12,
   "id": "8e67dfbc",
   "metadata": {},
   "outputs": [
    {
     "name": "stdout",
     "output_type": "stream",
     "text": [
      "SD via numpy with ddof=1: morning: 0.5581683340428335, evening: 0.8150902303627161\n",
      "Pooled SD (manual calculation): 0.7052988020769762\n"
     ]
    }
   ],
   "source": [
    "print(f\"SD via numpy with ddof=1: morning: {sd_morning}, evening: {sd_evening}\")\n",
    "print(f\"Pooled SD (manual calculation): {pooled_sd}\")"
   ]
  },
  {
   "cell_type": "markdown",
   "id": "661aa8a1",
   "metadata": {},
   "source": [
    "### Task 1: Interpret the Results\n",
    "What's your conclusion at α = 0.05? Do morning and evening shifts have different average wait times? <br>\n",
    "Why do you think Welch's test and the pooled variance test give slightly different results? <br>\n",
    "Which test would you trust more in this case, and why? (Hint: look at the standard deviations of the two groups) <br>"
   ]
  },
  {
   "cell_type": "code",
   "execution_count": null,
   "id": "23ddcfbc",
   "metadata": {},
   "outputs": [
    {
     "name": "stdout",
     "output_type": "stream",
     "text": [
      "Breaking down pooled standard deviation:\n",
      "Morning: n=45, variance=0.3116, sd=0.5582\n",
      "Evening: n=50, variance=0.6644, sd=0.8151\n",
      "\n",
      "Morning contributes: 44 × 0.3116 = 13.7083\n",
      "Evening contributes: 49 × 0.6644 = 32.5542\n",
      "\n",
      "Pooled variance = 0.4974\n",
      "Pooled SD = √0.4974 = 0.7053\n",
      "\n",
      "Simple average of SDs (wrong!): 0.6866\n",
      "Correct pooled SD: 0.7053\n"
     ]
    }
   ],
   "source": [
    "print(\"Breaking down pooled standard deviation:\")\n",
    "print(f\"Morning: n={n_morning}, variance={var_morning:.4f}, sd={sd_morning:.4f}\")\n",
    "print(f\"Evening: n={n_evening}, variance={var_evening:.4f}, sd={sd_evening:.4f}\")\n",
    "\n",
    "# Each group contributes to the pooled variance weighted by its degrees of freedom\n",
    "morning_contribution = (n_morning - 1) * var_morning\n",
    "evening_contribution = (n_evening - 1) * var_evening\n",
    "\n",
    "print(\n",
    "    f\"\\nMorning contributes: {n_morning-1} × {var_morning:.4f} = {morning_contribution:.4f}\"\n",
    ")\n",
    "print(\n",
    "    f\"Evening contributes: {n_evening-1} × {var_evening:.4f} = {evening_contribution:.4f}\"\n",
    ")\n",
    "\n",
    "total_df = (n_morning - 1) + (n_evening - 1)\n",
    "pooled_variance = (morning_contribution + evening_contribution) / total_df\n",
    "\n",
    "print(f\"\\nPooled variance = {pooled_variance:.4f}\")\n",
    "print(f\"Pooled SD = √{pooled_variance:.4f} = {np.sqrt(pooled_variance):.4f}\")\n",
    "\n",
    "# Compare to simple average (this would be wrong!)\n",
    "simple_avg_sd = (sd_morning + sd_evening) / 2\n",
    "print(f\"\\nSimple average of SDs (wrong!): {simple_avg_sd:.4f}\")\n",
    "print(f\"Correct pooled SD: {pooled_sd:.4f}\")"
   ]
  },
  {
   "cell_type": "code",
   "execution_count": 26,
   "id": "8eed16bb",
   "metadata": {},
   "outputs": [
    {
     "name": "stdout",
     "output_type": "stream",
     "text": [
      "Welch's approach:\n",
      "SE = (0.3116/45 + 0.6644/50)\n",
      "SE = (0.006923 + 0.013287)\n",
      "SE = 0.1422\n",
      "t = -5.8975\n",
      "\n",
      "Pooled approach:\n",
      "SE = 0.7053 × (1/45 + 1/50)\n",
      "SE = 0.7053 × 0.2055\n",
      "SE = 0.1449\n",
      "t = -5.7852\n",
      "\n",
      "Difference in SE: -0.0028\n",
      "Welch's SE is smaller\n"
     ]
    }
   ],
   "source": [
    "# Standard error calculation for each approach\n",
    "\n",
    "# Welch's approach (keeps variances separate)\n",
    "se_welch = np.sqrt((var_morning / n_morning) + (var_evening / n_evening))\n",
    "t_welch_manual = (x_morning - x_evening) / se_welch\n",
    "\n",
    "print(\"Welch's approach:\")\n",
    "print(f\"SE = ({var_morning:.4f}/{n_morning} + {var_evening:.4f}/{n_evening})\")\n",
    "print(f\"SE = ({var_morning/n_morning:.6f} + {var_evening/n_evening:.6f})\")\n",
    "print(f\"SE = {se_welch:.4f}\")\n",
    "print(f\"t = {t_welch_manual:.4f}\")\n",
    "\n",
    "# Pooled approach (uses common variance)\n",
    "se_pooled = pooled_sd * np.sqrt(1 / n_morning + 1 / n_evening)\n",
    "t_pooled_manual = (x_morning - x_evening) / se_pooled\n",
    "\n",
    "print(\"\\nPooled approach:\")\n",
    "print(f\"SE = {pooled_sd:.4f} × (1/{n_morning} + 1/{n_evening})\")\n",
    "print(f\"SE = {pooled_sd:.4f} × {np.sqrt(1/n_morning + 1/n_evening):.4f}\")\n",
    "print(f\"SE = {se_pooled:.4f}\")\n",
    "print(f\"t = {t_pooled_manual:.4f}\")\n",
    "\n",
    "print(f\"\\nDifference in SE: {se_welch - se_pooled:.4f}\")\n",
    "print(f\"Welch's SE is {'larger' if se_welch > se_pooled else 'smaller'}\")"
   ]
  },
  {
   "cell_type": "code",
   "execution_count": 29,
   "id": "67aa6b39",
   "metadata": {},
   "outputs": [
    {
     "name": "stdout",
     "output_type": "stream",
     "text": [
      "Pooled test df: 93\n",
      "Welch's test df: 87.0\n",
      "Difference: 6.0\n"
     ]
    }
   ],
   "source": [
    "# Degrees of freedom comparison\n",
    "df_pooled = n_morning + n_evening - 2\n",
    "df_welch = welch_df\n",
    "\n",
    "print(f\"Pooled test df: {df_pooled}\")\n",
    "print(f\"Welch's test df: {df_welch:.1f}\")\n",
    "print(f\"Difference: {df_pooled - df_welch:.1f}\")"
   ]
  },
  {
   "cell_type": "code",
   "execution_count": 30,
   "id": "f2826e81",
   "metadata": {},
   "outputs": [
    {
     "name": "stdout",
     "output_type": "stream",
     "text": [
      "Levene's test for equal variances:\n",
      "Statistic: 5.9471\n",
      "p-value: 0.0166\n",
      "Conclusion: Unequal variances (at α=0.05)\n",
      "\n",
      "Variance ratio (evening/morning): 2.13\n",
      "Rule of thumb: ratios > 2 or < 0.5 suggest unequal variances\n"
     ]
    }
   ],
   "source": [
    "# Test for equal variances (Levene's test)\n",
    "stat_levene, p_levene = stats.levene(morning_data, evening_data)\n",
    "print(\"Levene's test for equal variances:\")\n",
    "print(f\"Statistic: {stat_levene:.4f}\")\n",
    "print(f\"p-value: {p_levene:.4f}\")\n",
    "print(\n",
    "    f\"Conclusion: {'Equal variances' if p_levene > 0.05 else 'Unequal variances'} (at α=0.05)\"\n",
    ")\n",
    "\n",
    "# Variance ratio\n",
    "variance_ratio = var_evening / var_morning\n",
    "print(f\"\\nVariance ratio (evening/morning): {variance_ratio:.2f}\")\n",
    "print(\"Rule of thumb: ratios > 2 or < 0.5 suggest unequal variances\")"
   ]
  }
 ],
 "metadata": {
  "kernelspec": {
   "display_name": "datacamp",
   "language": "python",
   "name": "python3"
  },
  "language_info": {
   "codemirror_mode": {
    "name": "ipython",
    "version": 3
   },
   "file_extension": ".py",
   "mimetype": "text/x-python",
   "name": "python",
   "nbconvert_exporter": "python",
   "pygments_lexer": "ipython3",
   "version": "3.12.7"
  }
 },
 "nbformat": 4,
 "nbformat_minor": 5
}
