{
 "cells": [
  {
   "cell_type": "code",
   "execution_count": 1,
   "id": "63240abd",
   "metadata": {},
   "outputs": [
    {
     "name": "stdout",
     "output_type": "stream",
     "text": [
      "First 5 baristas:\n",
      "   barista_id  old_recipe_time  new_recipe_time  difference\n",
      "0           1        47.849138        45.751698    2.097440\n",
      "1           2        41.868223        36.089806    5.778417\n",
      "2           3        50.810003        47.830249    2.979754\n",
      "3           4        55.368191        53.954757    1.413434\n",
      "4           5        40.302166        36.068348    4.233817\n",
      "Mean old recipe time: 44.31 seconds\n",
      "Mean new recipe time: 41.72 seconds\n",
      "Mean difference: 2.59 seconds\n"
     ]
    }
   ],
   "source": [
    "import numpy as np\n",
    "import pandas as pd\n",
    "from scipy import stats\n",
    "\n",
    "np.random.seed(42)\n",
    "\n",
    "# Scenario: 15 baristas test both coffee recipes\n",
    "# Times are in seconds to prepare one coffee\n",
    "\n",
    "n_baristas = 15\n",
    "\n",
    "# Each barista has their own \"baseline\" speed\n",
    "barista_baseline = np.random.normal(45, 8, n_baristas)\n",
    "\n",
    "# Old recipe times (baseline + some noise)\n",
    "old_recipe = barista_baseline + np.random.normal(0, 2, n_baristas)\n",
    "\n",
    "# New recipe saves about 3 seconds on average, but varies by barista\n",
    "improvement = np.random.normal(3, 1.5, n_baristas)\n",
    "new_recipe = old_recipe - improvement\n",
    "\n",
    "# Create a DataFrame to see the data clearly\n",
    "barista_data = pd.DataFrame(\n",
    "    {\n",
    "        \"barista_id\": range(1, n_baristas + 1),\n",
    "        \"old_recipe_time\": old_recipe,\n",
    "        \"new_recipe_time\": new_recipe,\n",
    "        \"difference\": old_recipe - new_recipe,\n",
    "    }\n",
    ")\n",
    "\n",
    "print(\"First 5 baristas:\")\n",
    "print(barista_data.head())\n",
    "print(f\"Mean old recipe time: {old_recipe.mean():.2f} seconds\")\n",
    "print(f\"Mean new recipe time: {new_recipe.mean():.2f} seconds\")\n",
    "print(f\"Mean difference: {barista_data['difference'].mean():.2f} seconds\")"
   ]
  },
  {
   "cell_type": "markdown",
   "id": "79fc7ad9",
   "metadata": {},
   "source": [
    "### Task 1: Independent (wrong) approach\n",
    "Treat them as two separate groups\n"
   ]
  },
  {
   "cell_type": "code",
   "execution_count": 2,
   "id": "02663eb8",
   "metadata": {},
   "outputs": [
    {
     "name": "stdout",
     "output_type": "stream",
     "text": [
      "T-stats value: 0.8502, P-value: 0.402429\n"
     ]
    }
   ],
   "source": [
    "from scipy.stats import t\n",
    "\n",
    "x_old = np.mean(barista_data[\"old_recipe_time\"])\n",
    "x_new = np.mean(barista_data[\"new_recipe_time\"])\n",
    "n_old = len(barista_data[\"old_recipe_time\"])\n",
    "n_new = len(barista_data[\"new_recipe_time\"])\n",
    "var_old = np.var(barista_data[\"old_recipe_time\"], ddof=1)\n",
    "var_new = np.var(barista_data[\"new_recipe_time\"], ddof=1)\n",
    "\n",
    "t_stats = (x_old - x_new) / np.sqrt(var_old / n_old + var_new / n_new)\n",
    "df_welch = (var_old / n_old + var_new / n_new) ** 2 / (\n",
    "    (var_old / n_old) ** 2 / (n_old - 1) + (var_new / n_new) ** 2 / (n_new - 1)\n",
    ")\n",
    "p_value = 2 * (1 - t.cdf(abs(t_stats), df=df_welch))\n",
    "print(f\"T-stats value: {t_stats:.4f}, P-value: {p_value:.6f}\")"
   ]
  },
  {
   "cell_type": "markdown",
   "id": "6cabe63d",
   "metadata": {},
   "source": [
    "### Task 2: Paired approach - manual\n"
   ]
  },
  {
   "cell_type": "markdown",
   "id": "7c627343",
   "metadata": {},
   "source": [
    "### Cohen's d Formula\n",
    "Plain text: _d = (mean difference) / (standard deviation)_ <br>\n",
    "\n",
    "For paired data specifically: <br>\n",
    "\n",
    "Plain text: d = d̄ / s_d <br>\n",
    "\n",
    "Formula: $\\large d = \\frac{\\bar{d}}{s_d}$ <br>\n",
    "\n",
    "> Read as: \"d equals d-bar divided by s-sub-d\"\n",
    "> This tells you: \"How many standard deviations apart are the two conditions?\"\n",
    "#### Interpreting Cohen's d\n",
    "Jacob Cohen (the statistician who invented this) suggested these interpretations:\n",
    "- d ≈ 0.2: Small effect (barely noticeable)\n",
    "- d ≈ 0.5: Medium effect (visible to the naked eye)\n",
    "- d ≈ 0.8: Large effect (very noticeable)\n",
    "- d > 1.0: Very large effect (the two groups barely overlap)"
   ]
  },
  {
   "cell_type": "code",
   "execution_count": 10,
   "id": "13e5d550",
   "metadata": {},
   "outputs": [
    {
     "name": "stdout",
     "output_type": "stream",
     "text": [
      "T-statistic: 6.5706, P-value: 0.000012, Cohen's-D: 1.696514\n"
     ]
    }
   ],
   "source": [
    "differences = barista_data[\"difference\"]\n",
    "mean_diff = differences.mean()\n",
    "hyp_mean = 0\n",
    "n_diff = len(barista_data[\"difference\"])\n",
    "sd_sample = np.std(barista_data[\"difference\"], ddof=1)\n",
    "# Now what? It's a one-sample test on the differences!\n",
    "t_stats = (mean_diff - hyp_mean) / (sd_sample / np.sqrt(n_diff))\n",
    "p_value = 2 * (1 - stats.t.cdf(abs(t_stats), df=n_diff - 1))\n",
    "cohens_d = mean_diff / sd_sample\n",
    "\n",
    "\n",
    "print(f\"T-statistic: {t_stats:.4f}, P-value: {p_value:.6f}, Cohen's-D: {cohens_d:.6f}\")"
   ]
  },
  {
   "cell_type": "code",
   "execution_count": 6,
   "id": "a1ab825b",
   "metadata": {},
   "outputs": [
    {
     "name": "stdout",
     "output_type": "stream",
     "text": [
      "T-statistic: 6.5706, P-value: 0.000012\n"
     ]
    }
   ],
   "source": [
    "from scipy.stats import ttest_rel\n",
    "\n",
    "t_stat, p_value = ttest_rel(\n",
    "    a=barista_data[\"old_recipe_time\"], b=barista_data[\"new_recipe_time\"]\n",
    ")\n",
    "\n",
    "print(f\"T-statistic: {t_stat:.4f}, P-value: {p_value:.6f}\")"
   ]
  },
  {
   "cell_type": "markdown",
   "id": "a4b35889",
   "metadata": {},
   "source": [
    "### Task 4: Reflection"
   ]
  },
  {
   "cell_type": "code",
   "execution_count": 5,
   "id": "d023ef5a",
   "metadata": {},
   "outputs": [],
   "source": [
    "# How would this affect your results?\n",
    "np.random.seed(42)\n",
    "\n",
    "# Scenario: 15 baristas test both coffee recipes\n",
    "# Times are in seconds to prepare one coffee\n",
    "\n",
    "n_baristas = 15\n",
    "\n",
    "# Each barista has their own \"baseline\" speed\n",
    "barista_baseline = np.random.normal(45, 8, n_baristas)\n",
    "\n",
    "# Old recipe times (baseline + some noise)\n",
    "old_recipe = barista_baseline + np.random.normal(0, 2, n_baristas)\n",
    "\n",
    "# New recipe saves about 3 seconds on average, but varies by barista\n",
    "variable_improvement = np.random.normal(3, 5, n_baristas)  # Much more variable\n",
    "new_recipe = old_recipe - variable_improvement\n",
    "\n",
    "# Create a DataFrame to see the data clearly\n",
    "barista_data_var = pd.DataFrame(\n",
    "    {\n",
    "        \"barista_id\": range(1, n_baristas + 1),\n",
    "        \"old_recipe_time\": old_recipe,\n",
    "        \"new_recipe_time\": new_recipe,\n",
    "        \"difference\": old_recipe - new_recipe,\n",
    "    }\n",
    ")"
   ]
  },
  {
   "cell_type": "code",
   "execution_count": 7,
   "id": "16f5df64",
   "metadata": {},
   "outputs": [
    {
     "name": "stdout",
     "output_type": "stream",
     "text": [
      "T-statistic: 1.2459, P-value: 0.233264\n"
     ]
    }
   ],
   "source": [
    "from scipy.stats import ttest_rel\n",
    "\n",
    "t_stat, p_value = ttest_rel(\n",
    "    a=barista_data_var[\"old_recipe_time\"], b=barista_data_var[\"new_recipe_time\"]\n",
    ")\n",
    "\n",
    "print(f\"T-statistic: {t_stat:.4f}, P-value: {p_value:.6f}\")"
   ]
  },
  {
   "cell_type": "code",
   "execution_count": 9,
   "id": "20b7e4da",
   "metadata": {},
   "outputs": [
    {
     "name": "stdout",
     "output_type": "stream",
     "text": [
      "Independent samples - p-value: 0.402429\n",
      "Paired samples - p-value: 0.000012\n",
      "Ratio: 33535.7x larger\n"
     ]
    }
   ],
   "source": [
    "# From your original barista_data (not the variable one)\n",
    "t_independent, p_independent = stats.ttest_ind(\n",
    "    barista_data[\"old_recipe_time\"], barista_data[\"new_recipe_time\"], equal_var=False\n",
    ")\n",
    "print(f\"Independent samples - p-value: {p_independent:.6f}\")\n",
    "print(f\"Paired samples - p-value: {0.000012:.6f}\")  # Your earlier result\n",
    "print(f\"Ratio: {p_independent/0.000012:.1f}x larger\")"
   ]
  },
  {
   "cell_type": "code",
   "execution_count": null,
   "id": "c865bc07",
   "metadata": {},
   "outputs": [],
   "source": []
  }
 ],
 "metadata": {
  "kernelspec": {
   "display_name": "datacamp",
   "language": "python",
   "name": "python3"
  },
  "language_info": {
   "codemirror_mode": {
    "name": "ipython",
    "version": 3
   },
   "file_extension": ".py",
   "mimetype": "text/x-python",
   "name": "python",
   "nbconvert_exporter": "python",
   "pygments_lexer": "ipython3",
   "version": "3.12.7"
  }
 },
 "nbformat": 4,
 "nbformat_minor": 5
}
