{
 "cells": [
  {
   "cell_type": "markdown",
   "id": "33fb02cd",
   "metadata": {},
   "source": [
    "# Titanic - Machine Learning from Disaster\n",
    "\n",
    "## Dataset Description\n",
    "\n",
    "### Overview\n",
    "The data has been split into two groups:\n",
    "- **Training set** (`train.csv`): Used to build your machine learning models. Includes the outcome (ground truth) for each passenger. Features include gender, class, and others. Feature engineering can create new features.\n",
    "- **Test set** (`test.csv`): Used to evaluate model performance on unseen data. No ground truth provided—predict survival for each passenger.\n",
    "- **Gender submission** (`gender_submission.csv`): Example submission assuming all females survive.\n",
    "\n",
    "### Data Dictionary\n",
    "| Variable   | Definition                  | Key                                                                 |\n",
    "|------------|-----------------------------|---------------------------------------------------------------------|\n",
    "| survival  | Survival                    | 0 = No, 1 = Yes                                                    |\n",
    "| pclass    | Ticket class                | 1 = 1st, 2 = 2nd, 3 = 3rd                                          |\n",
    "| sex       | Sex                         |                                                                     |\n",
    "| Age       | Age in years                |                                                                     |\n",
    "| sibsp     | # of siblings/spouses aboard|                                                                     |\n",
    "| parch     | # of parents/children aboard|                                                                     |\n",
    "| ticket    | Ticket number               |                                                                     |\n",
    "| fare      | Passenger fare              |                                                                     |\n",
    "| cabin     | Cabin number                |                                                                     |\n",
    "| embarked  | Port of Embarkation         | C = Cherbourg, Q = Queenstown, S = Southampton                      |\n",
    "\n",
    "### Variable Notes\n",
    "- **pclass**: A proxy for socio-economic status (SES)\n",
    "\t- 1st = Upper\n",
    "\t- 2nd = Middle\n",
    "\t- 3rd = Lower\n",
    "- **Age**: Fractional if less than 1. Estimated ages in the form xx.5.\n",
    "- **sibsp**: Family relations defined as:\n",
    "\t- Sibling = brother, sister, stepbrother, stepsister\n",
    "\t- Spouse = husband, wife (mistresses and fiancés ignored)\n",
    "- **parch**: Family relations defined as:\n",
    "\t- Parent = mother, father\n",
    "\t- Child = daughter, son, stepdaughter, stepson\n",
    "\t- Some children traveled only with a nanny, so parch=0 for them.\n",
    "\n",
    "Start here! Predict survival on the Titanic and get familiar with ML basics\n",
    "\n"
   ]
  },
  {
   "cell_type": "markdown",
   "id": "657c85ad",
   "metadata": {},
   "source": []
  }
 ],
 "metadata": {
  "language_info": {
   "name": "python"
  }
 },
 "nbformat": 4,
 "nbformat_minor": 5
}
