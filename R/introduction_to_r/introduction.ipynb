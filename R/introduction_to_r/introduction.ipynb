{
 "cells": [
  {
   "cell_type": "markdown",
   "id": "a941569b",
   "metadata": {},
   "source": [
    "## The Role and Scope of Statistics\n",
    "\n",
    "The field of statistics provides a rigorous framework for working with data and uncertainty. It is essential to distinguish between the discipline as a whole and a single calculated value:\n",
    "\n",
    "  * **The field of statistics**: The practice and study of collecting and analyzing data to answer questions and test theories.\n",
    "  * **A summary statistic**: A single number that summarizes a feature of a dataset, such as a mean, median, or count.\n",
    "\n",
    "Statistics excels at answering quantifiable questions and identifying relationships. For example, it can help determine which advertisement is more effective (A/B testing), predict hotel occupancy rates, or find the optimal range of product sizes.\n",
    "\n",
    "However, statistics alone cannot answer inherently subjective questions or prove causation without a carefully designed experiment. It can show an *association* (e.g., that series with more violent scenes are viewed more often), but it cannot, on its own, prove that the violence *causes* the increase in viewership.\n",
    "\n",
    "### The Two Branches of Statistics\n",
    "\n",
    "#### Descriptive Statistics\n",
    "\n",
    "**Descriptive statistics** is the practice of describing and summarizing the main features of a dataset. The goal is to present the data in a manageable and understandable form without making any conclusions beyond the data itself. Common descriptive statistics include measures of central tendency (mean, median), measures of spread (standard deviation, range), and frequency counts.\n",
    "\n",
    "#### Inferential Statistics\n",
    "\n",
    "**Inferential statistics** is the process of using data from a sample to make inferences, generalizations, or conclusions about the larger population from which the sample was drawn. Since we are not working with the entire population, this process always involves a degree of uncertainty, which is quantified using the principles of probability. For example, we might use the commuting habits of a sample of 1,000 city residents to infer the commuting habits of the entire city's population.\n",
    "\n",
    "### Types of Data\n",
    "\n",
    "The type of data you have dictates the statistical methods you can apply. Data can be broadly classified into two main types: numeric and categorical.\n",
    "\n",
    "#### Numeric (Quantitative)\n",
    "\n",
    "Numeric data represents quantities and can be measured or counted.\n",
    "\n",
    "  * **Continuous**: Data that can take any value within a given range. It is typically measured.\n",
    "      * *Examples*: Height, temperature, time, speed.\n",
    "  * **Discrete**: Data that can only take specific, countable integer values.\n",
    "      * *Examples*: Number of pets, number of defective products, count of customer arrivals.\n",
    "\n",
    "#### Categorical (Qualitative)\n",
    "\n",
    "Categorical data represents groups, labels, or categories.\n",
    "\n",
    "  * **Nominal**: Categories with no intrinsic order or ranking.\n",
    "      * *Examples*: Marital status (`Married`, `Single`), country of residence, gender.\n",
    "  * **Ordinal**: Categories that have a meaningful, logical order but where the intervals between the categories are not necessarily equal.\n",
    "      * *Examples*: Survey responses (`Strongly Disagree`, `Disagree`, `Neutral`, `Agree`, `Stronggree`), education level (`High School`, `Bachelor's`, `Master's`).\n",
    "\n",
    "While categorical data can be represented by numbers (e.g., `1` for `Married`, `0` for `Single`), these numbers are just labels and do not have the mathematical properties of numeric data.\n",
    "\n",
    "\n",
    "### Why Data Type Matters\n",
    "\n",
    "Identifying your data type is a critical first step because it determines the appropriate summary statistics and analytical methods. In R, this is often handled seamlessly, particularly within the `tidyverse` paradigm.\n",
    "\n",
    "  * **For Numeric Data**, it is meaningful to calculate statistics like the mean, median, and standard deviation.\n",
    "\n",
    "    ```r\n",
    "    # R code using the dplyr package\n",
    "    car_speeds %>%\n",
    "      summarize(avg_speed = mean(speed_mph))\n",
    "\n",
    "    # # A tibble: 1 × 1\n",
    "    #   avg_speed\n",
    "    #       <dbl>\n",
    "    # 1      40.1\n",
    "    ```\n",
    "\n",
    "  * **For Categorical Data**, calculating a mean is nonsensical. Instead, we use frequency counts to understand the distribution of the data across the different categories.\n",
    "\n",
    "    ```r\n",
    "    # R code using the dplyr package\n",
    "    demographics %>%\n",
    "      count(marriage_status)\n",
    "\n",
    "    # # A tibble: 3 × 2\n",
    "    #   marriage_status     n\n",
    "    #   <chr>           <int>\n",
    "    # 1 divorced          124\n",
    "    # 2 married           143\n",
    "    # 3 single            188\n",
    "    ```\n",
    "\n",
    "Choosing the correct statistical method based on the data type is fundamental to a sound analysis."
   ]
  },
  {
   "cell_type": "code",
   "execution_count": null,
   "id": "b3dec316",
   "metadata": {
    "vscode": {
     "languageId": "r"
    }
   },
   "outputs": [],
   "source": []
  },
  {
   "cell_type": "markdown",
   "id": "0498f6a1",
   "metadata": {},
   "source": [
    "### Measures of Center\n",
    "\n",
    "When exploring a new dataset, one of the first questions is often about a \"typical\" value. What is the central point around which the data is distributed? Measures of center provide a single value to summarize this.\n",
    "\n",
    "#### The Mean\n",
    "\n",
    "The **mean** is the most common measure of center. It is the arithmetic average, calculated by summing all the values in a dataset and dividing by the number of observations.\n",
    "\n",
    "$$\\bar{x} = \\frac{\\sum_{i=1}^{n} x_i}{n}$$\n",
    "\n",
    "In R, you can calculate the mean of a vector or a data frame column using the `mean()` function.\n",
    "\n",
    "```r\n",
    "# R code\n",
    "# Assuming 'msleep' is a tibble in the R environment\n",
    "mean(msleep$sleep_total)\n",
    "\n",
    "# [1] 10.43373\n",
    "```\n",
    "\n",
    "A key property of the mean is that it is **sensitive to outliers**. A single extreme value can significantly pull the mean in its direction.\n",
    "\n",
    "#### The Median\n",
    "\n",
    "The **median** is the value that separates the higher half from the lower half of a data distribution. To find it, you first sort the data; the median is the middle value.\n",
    "\n",
    "  * If the number of observations (`n`) is odd, the median is the single middle value.\n",
    "  * If `n` is even, the median is the average of the two middle values.\n",
    "\n",
    "In R, the `median()` function calculates this value.\n",
    "\n",
    "```r\n",
    "# R code\n",
    "median(msleep$sleep_total)\n",
    "\n",
    "# [1] 10.1\n",
    "```\n",
    "\n",
    "The most important property of the median is that it is **robust to outliers**. Extreme values do not significantly affect its value, making it a better measure of center for skewed data.\n",
    "\n",
    "#### The Mode\n",
    "\n",
    "The **mode** is the most frequently occurring value in a dataset. A dataset can have one mode (unimodal), more than one mode (multimodal), or no mode if all values occur with the same frequency.\n",
    "\n",
    "Base R does not have a standard function to calculate the statistical mode. The idiomatic approach, particularly within the `tidyverse`, is to use `dplyr::count()` to get the frequency of each value and then identify the value with the highest count.\n",
    "\n",
    "```r\n",
    "# R code using the dplyr package\n",
    "# Assuming the pipe operator %>% is loaded (e.g., via library(dplyr))\n",
    "\n",
    "# Find the mode for a categorical variable\n",
    "msleep %>%\n",
    "  count(vore, sort = TRUE)\n",
    "\n",
    "# # A tibble: 5 × 2\n",
    "#   vore        n\n",
    "#   <chr>   <int>\n",
    "# 1 herbi      32\n",
    "# 2 omni       20\n",
    "# 3 carni      19\n",
    "# 4 NA          7\n",
    "# 5 insecti     5\n",
    "```\n",
    "\n",
    "The mode for the `vore` variable is `herbi`.\n",
    "\n",
    "\n",
    "### The Impact of Outliers\n",
    "\n",
    "The primary difference between the mean and the median is their sensitivity to extreme values. Let's consider a small dataset of sleep times for five insectivore mammals.\n",
    "\n",
    "```r\n",
    "# R code\n",
    "# Create a sample tibble\n",
    "insectivores <- tibble(\n",
    "  name = c(\"Big brown bat\", \"Little brown bat\", \"Giant armadillo\", \"Eastern mole\", \"Tenrec\"),\n",
    "  sleep_total = c(19.7, 19.9, 18.1, 8.4, 10.3)\n",
    ")\n",
    "\n",
    "# Calculate mean and median\n",
    "insectivores %>%\n",
    "  summarize(\n",
    "    mean_sleep = mean(sleep_total),\n",
    "    median_sleep = median(sleep_total)\n",
    "  )\n",
    "\n",
    "#   mean_sleep median_sleep\n",
    "#        <dbl>        <dbl>\n",
    "# 1       15.3         18.1\n",
    "```\n",
    "\n",
    "Now, let's add a single outlier (perhaps a data entry error) and see how the statistics change.\n",
    "\n",
    "```r\n",
    "# R code\n",
    "# Add an outlier value of 0.0\n",
    "insectivores_with_outlier <- insectivores %>%\n",
    "  add_row(name = \"Mystery insectivore\", sleep_total = 0.0)\n",
    "\n",
    "# Recalculate mean and median\n",
    "insectivores_with_outlier %>%\n",
    "  summarize(\n",
    "    mean_sleep = mean(sleep_total),\n",
    "    median_sleep = median(sleep_total)\n",
    "  )\n",
    "\n",
    "#   mean_sleep median_sleep\n",
    "#        <dbl>        <dbl>\n",
    "# 1       12.7         14.2\n",
    "```\n",
    "\n",
    "The outlier dragged the **mean** down significantly (from 15.3 to 12.7), while the **median** was much less affected.\n",
    "\n",
    "### Which Measure to Use?\n",
    "\n",
    "The choice of which measure of center to use depends on the **shape of your data's distribution**.\n",
    "\n",
    "  * **For Symmetric Distributions**: If the data is roughly symmetric (like a normal distribution), the mean, median, and mode will be very close. In this case, the **mean** is typically preferred as it incorporates the value of every observation.\n",
    "  * **For Skewed Distributions or Data with Outliers**: If the data is skewed or contains significant outliers, the **median** is a much more representative and robust measure of the \"typical\" value. The mean will be pulled in the direction of the long tail or the outlier.\n",
    "  * **For Categorical Data**: The **mode** is the only meaningful measure of central tendency."
   ]
  },
  {
   "cell_type": "code",
   "execution_count": 1,
   "id": "c85fe0f2",
   "metadata": {
    "vscode": {
     "languageId": "r"
    }
   },
   "outputs": [
    {
     "name": "stderr",
     "output_type": "stream",
     "text": [
      "\n",
      "Attaching package: 'dplyr'\n",
      "\n",
      "\n",
      "The following objects are masked from 'package:stats':\n",
      "\n",
      "    filter, lag\n",
      "\n",
      "\n",
      "The following objects are masked from 'package:base':\n",
      "\n",
      "    intersect, setdiff, setequal, union\n",
      "\n",
      "\n",
      "The following objects are masked from 'package:stats':\n",
      "\n",
      "    filter, lag\n",
      "\n",
      "\n",
      "The following objects are masked from 'package:base':\n",
      "\n",
      "    intersect, setdiff, setequal, union\n",
      "\n",
      "\n"
     ]
    },
    {
     "name": "stdout",
     "output_type": "stream",
     "text": [
      "Rows: 83\n",
      "Columns: 11\n",
      "$ name         \u001b[3m\u001b[90m<chr>\u001b[39m\u001b[23m \"Cheetah\"\u001b[90m, \u001b[39m\"Owl monkey\"\u001b[90m, \u001b[39m\"Mountain beaver\"\u001b[90m, \u001b[39m\"Greater shor…\n",
      "$ genus        \u001b[3m\u001b[90m<chr>\u001b[39m\u001b[23m \"Acinonyx\"\u001b[90m, \u001b[39m\"Aotus\"\u001b[90m, \u001b[39m\"Aplodontia\"\u001b[90m, \u001b[39m\"Blarina\"\u001b[90m, \u001b[39m\"Bos\"\u001b[90m, \u001b[39m\"Bra…\n",
      "$ vore         \u001b[3m\u001b[90m<chr>\u001b[39m\u001b[23m \"carni\"\u001b[90m, \u001b[39m\"omni\"\u001b[90m, \u001b[39m\"herbi\"\u001b[90m, \u001b[39m\"omni\"\u001b[90m, \u001b[39m\"herbi\"\u001b[90m, \u001b[39m\"herbi\"\u001b[90m, \u001b[39m\"carn…\n",
      "$ order        \u001b[3m\u001b[90m<chr>\u001b[39m\u001b[23m \"Carnivora\"\u001b[90m, \u001b[39m\"Primates\"\u001b[90m, \u001b[39m\"Rodentia\"\u001b[90m, \u001b[39m\"Soricomorpha\"\u001b[90m, \u001b[39m\"Art…\n",
      "$ conservation \u001b[3m\u001b[90m<chr>\u001b[39m\u001b[23m \"lc\"\u001b[90m, \u001b[39m\u001b[31mNA\u001b[39m\u001b[90m, \u001b[39m\"nt\"\u001b[90m, \u001b[39m\"lc\"\u001b[90m, \u001b[39m\"domesticated\"\u001b[90m, \u001b[39m\u001b[31mNA\u001b[39m\u001b[90m, \u001b[39m\"vu\"\u001b[90m, \u001b[39m\u001b[31mNA\u001b[39m\u001b[90m, \u001b[39m\"dome…\n",
      "$ sleep_total  \u001b[3m\u001b[90m<dbl>\u001b[39m\u001b[23m 12.1\u001b[90m, \u001b[39m17.0\u001b[90m, \u001b[39m14.4\u001b[90m, \u001b[39m14.9\u001b[90m, \u001b[39m4.0\u001b[90m, \u001b[39m14.4\u001b[90m, \u001b[39m8.7\u001b[90m, \u001b[39m7.0\u001b[90m, \u001b[39m10.1\u001b[90m, \u001b[39m3.0\u001b[90m, \u001b[39m5…\n",
      "$ sleep_rem    \u001b[3m\u001b[90m<dbl>\u001b[39m\u001b[23m \u001b[31mNA\u001b[39m\u001b[90m, \u001b[39m1.8\u001b[90m, \u001b[39m2.4\u001b[90m, \u001b[39m2.3\u001b[90m, \u001b[39m0.7\u001b[90m, \u001b[39m2.2\u001b[90m, \u001b[39m1.4\u001b[90m, \u001b[39m\u001b[31mNA\u001b[39m\u001b[90m, \u001b[39m2.9\u001b[90m, \u001b[39m\u001b[31mNA\u001b[39m\u001b[90m, \u001b[39m0.6\u001b[90m, \u001b[39m0.8\u001b[90m, \u001b[39m…\n",
      "$ sleep_cycle  \u001b[3m\u001b[90m<dbl>\u001b[39m\u001b[23m \u001b[31mNA\u001b[39m\u001b[90m, \u001b[39m\u001b[31mNA\u001b[39m\u001b[90m, \u001b[39m\u001b[31mNA\u001b[39m\u001b[90m, \u001b[39m0.1333333\u001b[90m, \u001b[39m0.6666667\u001b[90m, \u001b[39m0.7666667\u001b[90m, \u001b[39m0.3833333\u001b[90m, \u001b[39m\u001b[31mN\u001b[39m…\n",
      "$ awake        \u001b[3m\u001b[90m<dbl>\u001b[39m\u001b[23m 11.9\u001b[90m, \u001b[39m7.0\u001b[90m, \u001b[39m9.6\u001b[90m, \u001b[39m9.1\u001b[90m, \u001b[39m20.0\u001b[90m, \u001b[39m9.6\u001b[90m, \u001b[39m15.3\u001b[90m, \u001b[39m17.0\u001b[90m, \u001b[39m13.9\u001b[90m, \u001b[39m21.0\u001b[90m, \u001b[39m1…\n",
      "$ brainwt      \u001b[3m\u001b[90m<dbl>\u001b[39m\u001b[23m \u001b[31mNA\u001b[39m\u001b[90m, \u001b[39m0.01550\u001b[90m, \u001b[39m\u001b[31mNA\u001b[39m\u001b[90m, \u001b[39m0.00029\u001b[90m, \u001b[39m0.42300\u001b[90m, \u001b[39m\u001b[31mNA\u001b[39m\u001b[90m, \u001b[39m\u001b[31mNA\u001b[39m\u001b[90m, \u001b[39m\u001b[31mNA\u001b[39m\u001b[90m, \u001b[39m0.07000\u001b[90m, \u001b[39m0…\n",
      "$ bodywt       \u001b[3m\u001b[90m<dbl>\u001b[39m\u001b[23m 50.000\u001b[90m, \u001b[39m0.480\u001b[90m, \u001b[39m1.350\u001b[90m, \u001b[39m0.019\u001b[90m, \u001b[39m600.000\u001b[90m, \u001b[39m3.850\u001b[90m, \u001b[39m20.490\u001b[90m, \u001b[39m0.04…\n"
     ]
    }
   ],
   "source": [
    "library(ggplot2)\n",
    "library(dplyr)\n",
    "\n",
    "\n",
    "msleep <- ggplot2::msleep # explicitly assign for clarity\n",
    "dplyr::glimpse(msleep) # or head(msleep) to preview the first rows\n"
   ]
  },
  {
   "cell_type": "code",
   "execution_count": 2,
   "id": "01032330",
   "metadata": {
    "vscode": {
     "languageId": "r"
    }
   },
   "outputs": [
    {
     "data": {
      "text/html": [
       "<table class=\"dataframe\">\n",
       "<caption>A tibble: 6 × 11</caption>\n",
       "<thead>\n",
       "\t<tr><th scope=col>name</th><th scope=col>genus</th><th scope=col>vore</th><th scope=col>order</th><th scope=col>conservation</th><th scope=col>sleep_total</th><th scope=col>sleep_rem</th><th scope=col>sleep_cycle</th><th scope=col>awake</th><th scope=col>brainwt</th><th scope=col>bodywt</th></tr>\n",
       "\t<tr><th scope=col>&lt;chr&gt;</th><th scope=col>&lt;chr&gt;</th><th scope=col>&lt;chr&gt;</th><th scope=col>&lt;chr&gt;</th><th scope=col>&lt;chr&gt;</th><th scope=col>&lt;dbl&gt;</th><th scope=col>&lt;dbl&gt;</th><th scope=col>&lt;dbl&gt;</th><th scope=col>&lt;dbl&gt;</th><th scope=col>&lt;dbl&gt;</th><th scope=col>&lt;dbl&gt;</th></tr>\n",
       "</thead>\n",
       "<tbody>\n",
       "\t<tr><td>Cheetah                   </td><td>Acinonyx  </td><td>carni</td><td>Carnivora   </td><td>lc          </td><td>12.1</td><td> NA</td><td>       NA</td><td>11.9</td><td>     NA</td><td> 50.000</td></tr>\n",
       "\t<tr><td>Owl monkey                </td><td>Aotus     </td><td>omni </td><td>Primates    </td><td>NA          </td><td>17.0</td><td>1.8</td><td>       NA</td><td> 7.0</td><td>0.01550</td><td>  0.480</td></tr>\n",
       "\t<tr><td>Mountain beaver           </td><td>Aplodontia</td><td>herbi</td><td>Rodentia    </td><td>nt          </td><td>14.4</td><td>2.4</td><td>       NA</td><td> 9.6</td><td>     NA</td><td>  1.350</td></tr>\n",
       "\t<tr><td>Greater short-tailed shrew</td><td>Blarina   </td><td>omni </td><td>Soricomorpha</td><td>lc          </td><td>14.9</td><td>2.3</td><td>0.1333333</td><td> 9.1</td><td>0.00029</td><td>  0.019</td></tr>\n",
       "\t<tr><td>Cow                       </td><td>Bos       </td><td>herbi</td><td>Artiodactyla</td><td>domesticated</td><td> 4.0</td><td>0.7</td><td>0.6666667</td><td>20.0</td><td>0.42300</td><td>600.000</td></tr>\n",
       "\t<tr><td>Three-toed sloth          </td><td>Bradypus  </td><td>herbi</td><td>Pilosa      </td><td>NA          </td><td>14.4</td><td>2.2</td><td>0.7666667</td><td> 9.6</td><td>     NA</td><td>  3.850</td></tr>\n",
       "</tbody>\n",
       "</table>\n"
      ],
      "text/latex": [
       "A tibble: 6 × 11\n",
       "\\begin{tabular}{lllllllllll}\n",
       " name & genus & vore & order & conservation & sleep\\_total & sleep\\_rem & sleep\\_cycle & awake & brainwt & bodywt\\\\\n",
       " <chr> & <chr> & <chr> & <chr> & <chr> & <dbl> & <dbl> & <dbl> & <dbl> & <dbl> & <dbl>\\\\\n",
       "\\hline\n",
       "\t Cheetah                    & Acinonyx   & carni & Carnivora    & lc           & 12.1 &  NA &        NA & 11.9 &      NA &  50.000\\\\\n",
       "\t Owl monkey                 & Aotus      & omni  & Primates     & NA           & 17.0 & 1.8 &        NA &  7.0 & 0.01550 &   0.480\\\\\n",
       "\t Mountain beaver            & Aplodontia & herbi & Rodentia     & nt           & 14.4 & 2.4 &        NA &  9.6 &      NA &   1.350\\\\\n",
       "\t Greater short-tailed shrew & Blarina    & omni  & Soricomorpha & lc           & 14.9 & 2.3 & 0.1333333 &  9.1 & 0.00029 &   0.019\\\\\n",
       "\t Cow                        & Bos        & herbi & Artiodactyla & domesticated &  4.0 & 0.7 & 0.6666667 & 20.0 & 0.42300 & 600.000\\\\\n",
       "\t Three-toed sloth           & Bradypus   & herbi & Pilosa       & NA           & 14.4 & 2.2 & 0.7666667 &  9.6 &      NA &   3.850\\\\\n",
       "\\end{tabular}\n"
      ],
      "text/markdown": [
       "\n",
       "A tibble: 6 × 11\n",
       "\n",
       "| name &lt;chr&gt; | genus &lt;chr&gt; | vore &lt;chr&gt; | order &lt;chr&gt; | conservation &lt;chr&gt; | sleep_total &lt;dbl&gt; | sleep_rem &lt;dbl&gt; | sleep_cycle &lt;dbl&gt; | awake &lt;dbl&gt; | brainwt &lt;dbl&gt; | bodywt &lt;dbl&gt; |\n",
       "|---|---|---|---|---|---|---|---|---|---|---|\n",
       "| Cheetah                    | Acinonyx   | carni | Carnivora    | lc           | 12.1 |  NA |        NA | 11.9 |      NA |  50.000 |\n",
       "| Owl monkey                 | Aotus      | omni  | Primates     | NA           | 17.0 | 1.8 |        NA |  7.0 | 0.01550 |   0.480 |\n",
       "| Mountain beaver            | Aplodontia | herbi | Rodentia     | nt           | 14.4 | 2.4 |        NA |  9.6 |      NA |   1.350 |\n",
       "| Greater short-tailed shrew | Blarina    | omni  | Soricomorpha | lc           | 14.9 | 2.3 | 0.1333333 |  9.1 | 0.00029 |   0.019 |\n",
       "| Cow                        | Bos        | herbi | Artiodactyla | domesticated |  4.0 | 0.7 | 0.6666667 | 20.0 | 0.42300 | 600.000 |\n",
       "| Three-toed sloth           | Bradypus   | herbi | Pilosa       | NA           | 14.4 | 2.2 | 0.7666667 |  9.6 |      NA |   3.850 |\n",
       "\n"
      ],
      "text/plain": [
       "  name                       genus      vore  order        conservation\n",
       "1 Cheetah                    Acinonyx   carni Carnivora    lc          \n",
       "2 Owl monkey                 Aotus      omni  Primates     NA          \n",
       "3 Mountain beaver            Aplodontia herbi Rodentia     nt          \n",
       "4 Greater short-tailed shrew Blarina    omni  Soricomorpha lc          \n",
       "5 Cow                        Bos        herbi Artiodactyla domesticated\n",
       "6 Three-toed sloth           Bradypus   herbi Pilosa       NA          \n",
       "  sleep_total sleep_rem sleep_cycle awake brainwt bodywt \n",
       "1 12.1         NA              NA   11.9       NA  50.000\n",
       "2 17.0        1.8              NA    7.0  0.01550   0.480\n",
       "3 14.4        2.4              NA    9.6       NA   1.350\n",
       "4 14.9        2.3       0.1333333    9.1  0.00029   0.019\n",
       "5  4.0        0.7       0.6666667   20.0  0.42300 600.000\n",
       "6 14.4        2.2       0.7666667    9.6       NA   3.850"
      ]
     },
     "metadata": {},
     "output_type": "display_data"
    }
   ],
   "source": [
    "head(msleep)\n"
   ]
  },
  {
   "cell_type": "code",
   "execution_count": 3,
   "id": "084bd853",
   "metadata": {
    "vscode": {
     "languageId": "r"
    }
   },
   "outputs": [
    {
     "data": {
      "text/html": [
       "10.433734939759"
      ],
      "text/latex": [
       "10.433734939759"
      ],
      "text/markdown": [
       "10.433734939759"
      ],
      "text/plain": [
       "[1] 10.43373"
      ]
     },
     "metadata": {},
     "output_type": "display_data"
    }
   ],
   "source": [
    "mean(msleep$sleep_total)\n"
   ]
  },
  {
   "cell_type": "code",
   "execution_count": 4,
   "id": "c51f4eb2",
   "metadata": {
    "vscode": {
     "languageId": "r"
    }
   },
   "outputs": [
    {
     "data": {
      "text/html": [
       "10.1"
      ],
      "text/latex": [
       "10.1"
      ],
      "text/markdown": [
       "10.1"
      ],
      "text/plain": [
       "[1] 10.1"
      ]
     },
     "metadata": {},
     "output_type": "display_data"
    }
   ],
   "source": [
    "median(msleep$sleep_total)\n"
   ]
  },
  {
   "cell_type": "code",
   "execution_count": 5,
   "id": "036b38ac",
   "metadata": {
    "vscode": {
     "languageId": "r"
    }
   },
   "outputs": [
    {
     "data": {
      "text/html": [
       "<table class=\"dataframe\">\n",
       "<caption>A tibble: 6 × 2</caption>\n",
       "<thead>\n",
       "\t<tr><th scope=col>sleep_total</th><th scope=col>n</th></tr>\n",
       "\t<tr><th scope=col>&lt;dbl&gt;</th><th scope=col>&lt;int&gt;</th></tr>\n",
       "</thead>\n",
       "<tbody>\n",
       "\t<tr><td>12.5</td><td>4</td></tr>\n",
       "\t<tr><td>10.1</td><td>3</td></tr>\n",
       "\t<tr><td> 5.3</td><td>2</td></tr>\n",
       "\t<tr><td> 6.3</td><td>2</td></tr>\n",
       "\t<tr><td> 8.4</td><td>2</td></tr>\n",
       "\t<tr><td> 8.7</td><td>2</td></tr>\n",
       "</tbody>\n",
       "</table>\n"
      ],
      "text/latex": [
       "A tibble: 6 × 2\n",
       "\\begin{tabular}{ll}\n",
       " sleep\\_total & n\\\\\n",
       " <dbl> & <int>\\\\\n",
       "\\hline\n",
       "\t 12.5 & 4\\\\\n",
       "\t 10.1 & 3\\\\\n",
       "\t  5.3 & 2\\\\\n",
       "\t  6.3 & 2\\\\\n",
       "\t  8.4 & 2\\\\\n",
       "\t  8.7 & 2\\\\\n",
       "\\end{tabular}\n"
      ],
      "text/markdown": [
       "\n",
       "A tibble: 6 × 2\n",
       "\n",
       "| sleep_total &lt;dbl&gt; | n &lt;int&gt; |\n",
       "|---|---|\n",
       "| 12.5 | 4 |\n",
       "| 10.1 | 3 |\n",
       "|  5.3 | 2 |\n",
       "|  6.3 | 2 |\n",
       "|  8.4 | 2 |\n",
       "|  8.7 | 2 |\n",
       "\n"
      ],
      "text/plain": [
       "  sleep_total n\n",
       "1 12.5        4\n",
       "2 10.1        3\n",
       "3  5.3        2\n",
       "4  6.3        2\n",
       "5  8.4        2\n",
       "6  8.7        2"
      ]
     },
     "metadata": {},
     "output_type": "display_data"
    }
   ],
   "source": [
    "# Count and sort 'sleep_totat' descending\n",
    "head(msleep %>% count(sleep_total, sort = TRUE))\n"
   ]
  },
  {
   "cell_type": "code",
   "execution_count": 6,
   "id": "45d273ee",
   "metadata": {
    "vscode": {
     "languageId": "r"
    }
   },
   "outputs": [
    {
     "data": {
      "text/html": [
       "<table class=\"dataframe\">\n",
       "<caption>A tibble: 5 × 2</caption>\n",
       "<thead>\n",
       "\t<tr><th scope=col>vore</th><th scope=col>n</th></tr>\n",
       "\t<tr><th scope=col>&lt;chr&gt;</th><th scope=col>&lt;int&gt;</th></tr>\n",
       "</thead>\n",
       "<tbody>\n",
       "\t<tr><td>herbi  </td><td>32</td></tr>\n",
       "\t<tr><td>omni   </td><td>20</td></tr>\n",
       "\t<tr><td>carni  </td><td>19</td></tr>\n",
       "\t<tr><td>NA     </td><td> 7</td></tr>\n",
       "\t<tr><td>insecti</td><td> 5</td></tr>\n",
       "</tbody>\n",
       "</table>\n"
      ],
      "text/latex": [
       "A tibble: 5 × 2\n",
       "\\begin{tabular}{ll}\n",
       " vore & n\\\\\n",
       " <chr> & <int>\\\\\n",
       "\\hline\n",
       "\t herbi   & 32\\\\\n",
       "\t omni    & 20\\\\\n",
       "\t carni   & 19\\\\\n",
       "\t NA      &  7\\\\\n",
       "\t insecti &  5\\\\\n",
       "\\end{tabular}\n"
      ],
      "text/markdown": [
       "\n",
       "A tibble: 5 × 2\n",
       "\n",
       "| vore &lt;chr&gt; | n &lt;int&gt; |\n",
       "|---|---|\n",
       "| herbi   | 32 |\n",
       "| omni    | 20 |\n",
       "| carni   | 19 |\n",
       "| NA      |  7 |\n",
       "| insecti |  5 |\n",
       "\n"
      ],
      "text/plain": [
       "  vore    n \n",
       "1 herbi   32\n",
       "2 omni    20\n",
       "3 carni   19\n",
       "4 NA       7\n",
       "5 insecti  5"
      ]
     },
     "metadata": {},
     "output_type": "display_data"
    }
   ],
   "source": [
    "# Count and sort 'vore' descending\n",
    "head(msleep %>% count(vore, sort = TRUE))\n"
   ]
  },
  {
   "cell_type": "code",
   "execution_count": 7,
   "id": "1480365f",
   "metadata": {
    "vscode": {
     "languageId": "r"
    }
   },
   "outputs": [
    {
     "data": {
      "text/html": [
       "<table class=\"dataframe\">\n",
       "<caption>A tibble: 1 × 2</caption>\n",
       "<thead>\n",
       "\t<tr><th scope=col>mean_sleep</th><th scope=col>median</th></tr>\n",
       "\t<tr><th scope=col>&lt;dbl&gt;</th><th scope=col>&lt;dbl&gt;</th></tr>\n",
       "</thead>\n",
       "<tbody>\n",
       "\t<tr><td>14.94</td><td>18.1</td></tr>\n",
       "</tbody>\n",
       "</table>\n"
      ],
      "text/latex": [
       "A tibble: 1 × 2\n",
       "\\begin{tabular}{ll}\n",
       " mean\\_sleep & median\\\\\n",
       " <dbl> & <dbl>\\\\\n",
       "\\hline\n",
       "\t 14.94 & 18.1\\\\\n",
       "\\end{tabular}\n"
      ],
      "text/markdown": [
       "\n",
       "A tibble: 1 × 2\n",
       "\n",
       "| mean_sleep &lt;dbl&gt; | median &lt;dbl&gt; |\n",
       "|---|---|\n",
       "| 14.94 | 18.1 |\n",
       "\n"
      ],
      "text/plain": [
       "  mean_sleep median\n",
       "1 14.94      18.1  "
      ]
     },
     "metadata": {},
     "output_type": "display_data"
    }
   ],
   "source": [
    "# Filter rows where dietary category is \"insectivores\" (vore == \"insecti\")\n",
    "msleep %>%\n",
    "  filter(vore == \"insecti\") %>%\n",
    "  summarise(mean_sleep = mean(sleep_total), median = median(sleep_total))\n"
   ]
  },
  {
   "cell_type": "code",
   "execution_count": 8,
   "id": "19cea68c",
   "metadata": {
    "vscode": {
     "languageId": "r"
    }
   },
   "outputs": [
    {
     "name": "stderr",
     "output_type": "stream",
     "text": [
      "\u001b[1m\u001b[22m`stat_bin()` using `bins = 30`. Pick better value with `binwidth`.\n"
     ]
    },
    {
     "data": {
      "image/png": "[encoded data removed]",
      "text/plain": [
       "plot without title"
      ]
     },
     "metadata": {
      "image/png": {
       "height": 420,
       "width": 420
      }
     },
     "output_type": "display_data"
    }
   ],
   "source": [
    "# Filter the dataset to include only rows where the dietary category is \"insectivores\"\n",
    "msleep %>%\n",
    "  filter(vore == \"insecti\") %>%\n",
    "  # Create a histogram of total sleep hours for insectivores\n",
    "  ggplot(aes(x = sleep_total)) +\n",
    "  geom_histogram() +\n",
    "  # Add labels for the plot title and axes\n",
    "  labs(title = \"Sleep totals for insectivores\", x = \"hours\", y = \"count\")\n"
   ]
  },
  {
   "cell_type": "code",
   "execution_count": 9,
   "id": "82641c99",
   "metadata": {
    "vscode": {
     "languageId": "r"
    }
   },
   "outputs": [],
   "source": [
    "# readRDS from a URL needs a connection; use \"rb\" mode for binary\n",
    "food_consumption <- readRDS(url(\"https://assets.datacamp.com/production/repositories/5758/datasets/db0baead85e109313372094f52254abaae4ea57f/food_consumption.rds\", \"rb\"))\n"
   ]
  },
  {
   "cell_type": "code",
   "execution_count": 10,
   "id": "bb69b4ea",
   "metadata": {
    "vscode": {
     "languageId": "r"
    }
   },
   "outputs": [
    {
     "name": "stderr",
     "output_type": "stream",
     "text": [
      "\u001b[1m\u001b[22m`stat_bin()` using `bins = 30`. Pick better value with `binwidth`.\n"
     ]
    },
    {
     "data": {
      "image/png": "[encoded data removed]",
      "text/plain": [
       "plot without title"
      ]
     },
     "metadata": {
      "image/png": {
       "height": 420,
       "width": 420
      }
     },
     "output_type": "display_data"
    }
   ],
   "source": [
    "# Filter the dataset to include only rows where the food category is \"rice\"\n",
    "food_consumption %>%\n",
    "  # Filter for rows where the food_category column equals \"rice\"\n",
    "  filter(food_category == \"rice\") %>%\n",
    "  # Create a histogram to visualize the distribution of CO2 emissions\n",
    "  ggplot(aes(x = co2_emission)) +\n",
    "  geom_histogram() # Plot histogram with default binwidth\n"
   ]
  },
  {
   "cell_type": "code",
   "execution_count": null,
   "id": "676be6a8",
   "metadata": {
    "vscode": {
     "languageId": "r"
    }
   },
   "outputs": [
    {
     "data": {
      "text/html": [
       "<table class=\"dataframe\">\n",
       "<caption>A tibble: 1 × 2</caption>\n",
       "<thead>\n",
       "\t<tr><th scope=col>mean_co2</th><th scope=col>median_co2</th></tr>\n",
       "\t<tr><th scope=col>&lt;dbl&gt;</th><th scope=col>&lt;dbl&gt;</th></tr>\n",
       "</thead>\n",
       "<tbody>\n",
       "\t<tr><td>37.59162</td><td>15.2</td></tr>\n",
       "</tbody>\n",
       "</table>\n"
      ],
      "text/latex": [
       "A tibble: 1 × 2\n",
       "\\begin{tabular}{ll}\n",
       " mean\\_co2 & median\\_co2\\\\\n",
       " <dbl> & <dbl>\\\\\n",
       "\\hline\n",
       "\t 37.59162 & 15.2\\\\\n",
       "\\end{tabular}\n"
      ],
      "text/markdown": [
       "\n",
       "A tibble: 1 × 2\n",
       "\n",
       "| mean_co2 &lt;dbl&gt; | median_co2 &lt;dbl&gt; |\n",
       "|---|---|\n",
       "| 37.59162 | 15.2 |\n",
       "\n"
      ],
      "text/plain": [
       "  mean_co2 median_co2\n",
       "1 37.59162 15.2      "
      ]
     },
     "metadata": {},
     "output_type": "display_data"
    }
   ],
   "source": [
    "food_consumption %>%\n",
    "  filter(food_category == \"rice\") %>%\n",
    "  summarise(\n",
    "    mean_co2 = mean(co2_emission),\n",
    "    median_co2 = median(co2_emission)\n",
    "  )\n"
   ]
  },
  {
   "cell_type": "code",
   "execution_count": null,
   "id": "b7b13c36",
   "metadata": {
    "vscode": {
     "languageId": "r"
    }
   },
   "outputs": [],
   "source": [
    "# option 1 -> it would show mean, median, mode, min, max, standard deviation\n",
    "food_consumption[food_consumption[\"food_category\"] == \"Rice\"].describe()\n",
    "\n",
    "# option 2 -> group by and calculate statistics of group\n",
    "food_consumption.groupby([\"food_category\", \"co2_emission\"])[[\"Rice\"]].agg(\"median\", \"mean\")"
   ]
  },
  {
   "cell_type": "markdown",
   "id": "44920f5d",
   "metadata": {},
   "source": [
    "## What is Spread?\n",
    "\n",
    "While measures of center (like the mean or median) describe a \"typical\" value in a dataset, they don't provide information about how the data is distributed around that center. **Spread** (also called variability or dispersion) refers to how stretched out or squeezed together the data points are. A dataset with a small spread has data points that are clustered closely together, while a large spread indicates that the data points are far apart.\n",
    "\n",
    "### Measures Based on the Mean\n",
    "\n",
    "These measures quantify spread in relation to the dataset's mean.\n",
    "\n",
    "#### Variance\n",
    "\n",
    "The **variance** is a fundamental measure of spread, defined as the average of the **squared** distances of each data point from the mean.\n",
    "\n",
    "The process involves:\n",
    "\n",
    "1.  Calculating the mean of the data.\n",
    "2.  Finding the distance (deviation) of each data point from the mean.\n",
    "3.  Squaring each of these distances.\n",
    "4.  Averaging the squared distances.\n",
    "\n",
    "The formula for the sample variance ($s^2$) is:\n",
    "\n",
    "$$s^2 = \\frac{\\sum_{i=1}^{n} (x_i - \\bar{x})^2}{n-1}$$\n",
    "\n",
    "Squaring the distances ensures that all values are positive and that larger deviations from the mean are penalized more heavily. In R, this is calculated with the `var()` function.\n",
    "\n",
    "```r\n",
    "# R code\n",
    "# Assuming 'msleep' is a tibble in the R environment\n",
    "var(msleep$sleep_total)\n",
    "\n",
    "# [1] 19.80568\n",
    "```\n",
    "\n",
    "#### Standard Deviation\n",
    "\n",
    "The **standard deviation** is the square root of the variance. Its primary advantage is that it is measured in the **same units as the original data**, making it much more interpretable than variance. It represents a \"typical\" distance of an observation from the mean.\n",
    "\n",
    "$$s = \\sqrt{\\frac{\\sum_{i=1}^{n} (x_i - \\bar{x})^2}{n-1}}$$\n",
    "\n",
    "In R, this is calculated with the `sd()` function.\n",
    "\n",
    "```r\n",
    "# R code\n",
    "sd(msleep$sleep_total)\n",
    "\n",
    "# [1] 4.450357\n",
    "```\n",
    "\n",
    "#### Mean Absolute Deviation (MAD)\n",
    "\n",
    "The **mean absolute deviation (MAD)** is the average of the **absolute** distances of each data point from the mean. Unlike the standard deviation, it penalizes all distances equally. While less common than standard deviation, it provides another intuitive measure of spread.\n",
    "\n",
    "$$\\text{MAD} = \\frac{\\sum_{i=1}^{n} |x_i - \\bar{x}|}{n}$$\n",
    "\n",
    "```r\n",
    "# R code\n",
    "mean(abs(msleep$sleep_total - mean(msleep$sleep_total)))\n",
    "\n",
    "# [1] 3.566701\n",
    "```\n",
    "\n",
    "### Measures Based on Quantiles\n",
    "\n",
    "These measures describe spread based on how data is divided into equal-sized groups. They are robust to outliers.\n",
    "\n",
    "#### Quartiles and the Interquartile Range (IQR)\n",
    "\n",
    "**Quantiles** are cut points that divide a distribution into continuous intervals with equal probabilities. **Quartiles** are a specific type of quantile that divides the data into four equal parts:\n",
    "\n",
    "  * **Q1 (First Quartile)**: The 25th percentile. 25% of the data falls below this value.\n",
    "  * **Q2 (Second Quartile)**: The 50th percentile, which is the **median**.\n",
    "  * **Q3 (Third Quartile)**: The 75th percentile. 75% of the data falls below this value.\n",
    "\n",
    "The **interquartile range (IQR)** is the distance between the third and first quartiles. It represents the spread of the middle 50% of the data and is highly robust to outliers.\n",
    "\n",
    "$$\\text{IQR} = Q_3 - Q_1$$\n",
    "\n",
    "In R, the `quantile()` function can be used to find these values, and `IQR()` calculates the IQR directly.\n",
    "\n",
    "```r\n",
    "# R code\n",
    "# Get the quartiles\n",
    "quantile(msleep$sleep_total)\n",
    "\n",
    "#       0%      25%      50%      75%     100% \n",
    "#     1.90     7.85    10.10    13.75    19.90\n",
    "\n",
    "# Calculate the IQR\n",
    "IQR(msleep$sleep_total)\n",
    "\n",
    "# [1] 5.9\n",
    "```\n",
    "\n",
    "#### Identifying Outliers\n",
    "\n",
    "The IQR is commonly used to define a rule of thumb for identifying **outliers**. An outlier is a data point that is substantially different from the others. A point is considered a potential outlier if it falls outside the following range:\n",
    "\n",
    "  * **Lower Bound**: $Q_1 - 1.5 \\\\times \\\\text{IQR}$\n",
    "  * **Upper Bound**: $Q_3 + 1.5 \\\\times \\\\text{IQR}$\n",
    "\n",
    "We can use this rule to programmatically identify outliers in R.\n",
    "\n",
    "```r\n",
    "# R code using dplyr\n",
    "# Assuming %>% is loaded from library(dplyr)\n",
    "\n",
    "# 1. Calculate Q1, Q3, and IQR for bodywt\n",
    "q1_bodywt <- quantile(msleep$bodywt, 0.25, na.rm = TRUE)\n",
    "q3_bodywt <- quantile(msleep$bodywt, 0.75, na.rm = TRUE)\n",
    "iqr_bodywt <- IQR(msleep$bodywt, na.rm = TRUE)\n",
    "\n",
    "# 2. Define the outlier thresholds\n",
    "lower_threshold <- q1_bodywt - 1.5 * iqr_bodywt\n",
    "upper_threshold <- q3_bodywt + 1.5 * iqr_bodywt\n",
    "\n",
    "# 3. Filter the data to find outliers\n",
    "msleep %>%\n",
    "  filter(bodywt < lower_threshold | bodywt > upper_threshold) %>%\n",
    "  select(name, bodywt)\n",
    "\n",
    "# # A tibble: 11 × 2\n",
    "#    name                           bodywt\n",
    "#    <chr>                           <dbl>\n",
    "#  1 Cow                              600 \n",
    "#  2 Northern fur seal                20.5\n",
    "#  3 Asian elephant                 2547  \n",
    "#  4 Horse                            521  \n",
    "#  5 Potto                             1.1\n",
    "#  6 Human                            62  \n",
    "#  7 African elephant               6654  \n",
    "#  8 Giraffe                          529  \n",
    "#  9 Pilot whale                      800  \n",
    "# 10 Gray seal                        31  \n",
    "# 11 Walrus                          1617 \n",
    "```"
   ]
  },
  {
   "cell_type": "code",
   "execution_count": 12,
   "id": "3c3de911",
   "metadata": {
    "vscode": {
     "languageId": "r"
    }
   },
   "outputs": [
    {
     "data": {
      "text/html": [
       "19.8056773435204"
      ],
      "text/latex": [
       "19.8056773435204"
      ],
      "text/markdown": [
       "19.8056773435204"
      ],
      "text/plain": [
       "[1] 19.80568"
      ]
     },
     "metadata": {},
     "output_type": "display_data"
    }
   ],
   "source": [
    "# Calculate deviations from the mean (distance of each value from the mean)\n",
    "dists <- msleep$sleep_total - mean(msleep$sleep_total)\n",
    "\n",
    "# Square each deviation to eliminate negative values and emphasize larger deviations\n",
    "squared_dists <- (dists)^2\n",
    "\n",
    "# Sum the squared deviations (numerator of the variance formula)\n",
    "sum_squared_dists <- sum(squared_dists)\n",
    "\n",
    "# Divide by the number of observations minus 1 (unbiased estimator for variance)\n",
    "sum_squared_dists / (length(msleep$sleep_total) - 1)\n"
   ]
  },
  {
   "cell_type": "code",
   "execution_count": 13,
   "id": "1a703a68",
   "metadata": {
    "vscode": {
     "languageId": "r"
    }
   },
   "outputs": [
    {
     "data": {
      "text/html": [
       "19.8056773435204"
      ],
      "text/latex": [
       "19.8056773435204"
      ],
      "text/markdown": [
       "19.8056773435204"
      ],
      "text/plain": [
       "[1] 19.80568"
      ]
     },
     "metadata": {},
     "output_type": "display_data"
    }
   ],
   "source": [
    "# Calculate the variance of the 'sleep_total' column\n",
    "var(msleep$sleep_total)\n"
   ]
  },
  {
   "cell_type": "code",
   "execution_count": 14,
   "id": "b9a02cab",
   "metadata": {
    "vscode": {
     "languageId": "r"
    }
   },
   "outputs": [
    {
     "data": {
      "text/html": [
       "4.45035699057058"
      ],
      "text/latex": [
       "4.45035699057058"
      ],
      "text/markdown": [
       "4.45035699057058"
      ],
      "text/plain": [
       "[1] 4.450357"
      ]
     },
     "metadata": {},
     "output_type": "display_data"
    }
   ],
   "source": [
    "# Calculate the standard deviation as the square root of the variance\n",
    "sqrt(var(msleep$sleep_total))\n"
   ]
  },
  {
   "cell_type": "code",
   "execution_count": 15,
   "id": "125cde4e",
   "metadata": {
    "vscode": {
     "languageId": "r"
    }
   },
   "outputs": [
    {
     "data": {
      "text/html": [
       "4.45035699057058"
      ],
      "text/latex": [
       "4.45035699057058"
      ],
      "text/markdown": [
       "4.45035699057058"
      ],
      "text/plain": [
       "[1] 4.450357"
      ]
     },
     "metadata": {},
     "output_type": "display_data"
    }
   ],
   "source": [
    "# Calculate the standard deviation of the 'sleep_total' column\n",
    "sd(msleep$sleep_total)\n"
   ]
  },
  {
   "cell_type": "code",
   "execution_count": 16,
   "id": "931052f8",
   "metadata": {
    "vscode": {
     "languageId": "r"
    }
   },
   "outputs": [
    {
     "name": "stdout",
     "output_type": "stream",
     "text": [
      "[1] 3.566701\n"
     ]
    }
   ],
   "source": [
    "# Calculate deviations from the mean (distance of each value from the mean)\n",
    "dists <- msleep$sleep_total - mean(msleep$sleep_total)\n",
    "\n",
    "# Calculate the mean absolute deviation\n",
    "print(mean(abs(dists)))\n"
   ]
  },
  {
   "cell_type": "code",
   "execution_count": 17,
   "id": "3c2f4c18",
   "metadata": {
    "vscode": {
     "languageId": "r"
    }
   },
   "outputs": [
    {
     "name": "stdout",
     "output_type": "stream",
     "text": [
      "   0%   25%   50%   75%  100% \n",
      " 1.90  7.85 10.10 13.75 19.90 \n"
     ]
    }
   ],
   "source": [
    "# Print the quantiles of the 'sleep_total' column (0%, 25%, 50%, 75%, 100%)\n",
    "print(quantile(msleep$sleep_total))\n"
   ]
  },
  {
   "cell_type": "code",
   "execution_count": 18,
   "id": "2026ff56",
   "metadata": {
    "vscode": {
     "languageId": "r"
    }
   },
   "outputs": [
    {
     "data": {
      "image/png": "[encoded data removed]",
      "text/plain": [
       "plot without title"
      ]
     },
     "metadata": {
      "image/png": {
       "height": 420,
       "width": 420
      }
     },
     "output_type": "display_data"
    }
   ],
   "source": [
    "# Boxplots display the median, quartiles (Q1, Q3), and potential outliers\n",
    "ggplot(msleep, aes(y = sleep_total)) + # Set the y-axis to 'sleep_total'\n",
    "  geom_boxplot()\n"
   ]
  },
  {
   "cell_type": "code",
   "execution_count": 19,
   "id": "d5ce64de",
   "metadata": {
    "vscode": {
     "languageId": "r"
    }
   },
   "outputs": [
    {
     "name": "stdout",
     "output_type": "stream",
     "text": [
      "   0%   20%   40%   60%   80%  100% \n",
      " 1.90  6.24  9.48 11.14 14.40 19.90 \n"
     ]
    }
   ],
   "source": [
    "# Print quantiles at specified probabilities (0%, 20%, 40%, 60%, 80%, 100%)\n",
    "print(quantile(msleep$sleep_total, probs = c(0, 0.2, 0.4, 0.6, 0.8, 1)))\n"
   ]
  },
  {
   "cell_type": "code",
   "execution_count": 20,
   "id": "8cd1c50c",
   "metadata": {
    "vscode": {
     "languageId": "r"
    }
   },
   "outputs": [
    {
     "name": "stdout",
     "output_type": "stream",
     "text": [
      "   0%   20%   40%   60%   80%  100% \n",
      " 1.90  6.24  9.48 11.14 14.40 19.90 \n"
     ]
    }
   ],
   "source": [
    "# Print quantiles at specified probabilities (0%, 20%, 40%, 60%, 80%, 100%)\n",
    "print(quantile(msleep$sleep_total, probs = seq(0, 1, 0.2)))\n"
   ]
  },
  {
   "cell_type": "code",
   "execution_count": 21,
   "id": "1ea71a73",
   "metadata": {
    "vscode": {
     "languageId": "r"
    }
   },
   "outputs": [
    {
     "name": "stdout",
     "output_type": "stream",
     "text": [
      "75% \n",
      "5.9 \n"
     ]
    }
   ],
   "source": [
    "# Calculate the interquartile range (IQR)\n",
    "iqr <- quantile(msleep$sleep_total, 0.75) - quantile(msleep$sleep_total, 0.25)\n",
    "\n",
    "# Print the calculated IQR, which represents the spread of the middle 50% of the data\n",
    "print(iqr)\n"
   ]
  },
  {
   "cell_type": "code",
   "execution_count": 22,
   "id": "ab353218",
   "metadata": {
    "vscode": {
     "languageId": "r"
    }
   },
   "outputs": [],
   "source": [
    "# Calculate the interquartile range (IQR)\n",
    "iqr <- quantile(msleep$bodywt, 0.75) - quantile(msleep$bodywt, 0.25)\n",
    "\n",
    "# Calculate the lower threshold for outliers as Q1 - 1.5 * IQR\n",
    "lower_threshold <- quantile(msleep$bodywt, 0.25) - 1.5 * iqr\n",
    "\n",
    "# Calculate the upper threshold for outliers as Q3 + 1.5 * IQR\n",
    "upper_threshold <- quantile(msleep$bodywt, 0.75) + 1.5 * iqr\n"
   ]
  },
  {
   "cell_type": "code",
   "execution_count": 23,
   "id": "a66cce87",
   "metadata": {
    "vscode": {
     "languageId": "r"
    }
   },
   "outputs": [
    {
     "data": {
      "text/html": [
       "<table class=\"dataframe\">\n",
       "<caption>A tibble: 11 × 4</caption>\n",
       "<thead>\n",
       "\t<tr><th scope=col>name</th><th scope=col>vore</th><th scope=col>sleep_total</th><th scope=col>bodywt</th></tr>\n",
       "\t<tr><th scope=col>&lt;chr&gt;</th><th scope=col>&lt;chr&gt;</th><th scope=col>&lt;dbl&gt;</th><th scope=col>&lt;dbl&gt;</th></tr>\n",
       "</thead>\n",
       "<tbody>\n",
       "\t<tr><td>Cow                 </td><td>herbi</td><td> 4.0</td><td> 600.000</td></tr>\n",
       "\t<tr><td>Asian elephant      </td><td>herbi</td><td> 3.9</td><td>2547.000</td></tr>\n",
       "\t<tr><td>Horse               </td><td>herbi</td><td> 2.9</td><td> 521.000</td></tr>\n",
       "\t<tr><td>Donkey              </td><td>herbi</td><td> 3.1</td><td> 187.000</td></tr>\n",
       "\t<tr><td>Giraffe             </td><td>herbi</td><td> 1.9</td><td> 899.995</td></tr>\n",
       "\t<tr><td>Pilot whale         </td><td>carni</td><td> 2.7</td><td> 800.000</td></tr>\n",
       "\t<tr><td>African elephant    </td><td>herbi</td><td> 3.3</td><td>6654.000</td></tr>\n",
       "\t<tr><td>Tiger               </td><td>carni</td><td>15.8</td><td> 162.564</td></tr>\n",
       "\t<tr><td>Lion                </td><td>carni</td><td>13.5</td><td> 161.499</td></tr>\n",
       "\t<tr><td>Brazilian tapir     </td><td>herbi</td><td> 4.4</td><td> 207.501</td></tr>\n",
       "\t<tr><td>Bottle-nosed dolphin</td><td>carni</td><td> 5.2</td><td> 173.330</td></tr>\n",
       "</tbody>\n",
       "</table>\n"
      ],
      "text/latex": [
       "A tibble: 11 × 4\n",
       "\\begin{tabular}{llll}\n",
       " name & vore & sleep\\_total & bodywt\\\\\n",
       " <chr> & <chr> & <dbl> & <dbl>\\\\\n",
       "\\hline\n",
       "\t Cow                  & herbi &  4.0 &  600.000\\\\\n",
       "\t Asian elephant       & herbi &  3.9 & 2547.000\\\\\n",
       "\t Horse                & herbi &  2.9 &  521.000\\\\\n",
       "\t Donkey               & herbi &  3.1 &  187.000\\\\\n",
       "\t Giraffe              & herbi &  1.9 &  899.995\\\\\n",
       "\t Pilot whale          & carni &  2.7 &  800.000\\\\\n",
       "\t African elephant     & herbi &  3.3 & 6654.000\\\\\n",
       "\t Tiger                & carni & 15.8 &  162.564\\\\\n",
       "\t Lion                 & carni & 13.5 &  161.499\\\\\n",
       "\t Brazilian tapir      & herbi &  4.4 &  207.501\\\\\n",
       "\t Bottle-nosed dolphin & carni &  5.2 &  173.330\\\\\n",
       "\\end{tabular}\n"
      ],
      "text/markdown": [
       "\n",
       "A tibble: 11 × 4\n",
       "\n",
       "| name &lt;chr&gt; | vore &lt;chr&gt; | sleep_total &lt;dbl&gt; | bodywt &lt;dbl&gt; |\n",
       "|---|---|---|---|\n",
       "| Cow                  | herbi |  4.0 |  600.000 |\n",
       "| Asian elephant       | herbi |  3.9 | 2547.000 |\n",
       "| Horse                | herbi |  2.9 |  521.000 |\n",
       "| Donkey               | herbi |  3.1 |  187.000 |\n",
       "| Giraffe              | herbi |  1.9 |  899.995 |\n",
       "| Pilot whale          | carni |  2.7 |  800.000 |\n",
       "| African elephant     | herbi |  3.3 | 6654.000 |\n",
       "| Tiger                | carni | 15.8 |  162.564 |\n",
       "| Lion                 | carni | 13.5 |  161.499 |\n",
       "| Brazilian tapir      | herbi |  4.4 |  207.501 |\n",
       "| Bottle-nosed dolphin | carni |  5.2 |  173.330 |\n",
       "\n"
      ],
      "text/plain": [
       "   name                 vore  sleep_total bodywt  \n",
       "1  Cow                  herbi  4.0         600.000\n",
       "2  Asian elephant       herbi  3.9        2547.000\n",
       "3  Horse                herbi  2.9         521.000\n",
       "4  Donkey               herbi  3.1         187.000\n",
       "5  Giraffe              herbi  1.9         899.995\n",
       "6  Pilot whale          carni  2.7         800.000\n",
       "7  African elephant     herbi  3.3        6654.000\n",
       "8  Tiger                carni 15.8         162.564\n",
       "9  Lion                 carni 13.5         161.499\n",
       "10 Brazilian tapir      herbi  4.4         207.501\n",
       "11 Bottle-nosed dolphin carni  5.2         173.330"
      ]
     },
     "metadata": {},
     "output_type": "display_data"
    }
   ],
   "source": [
    "msleep %>%\n",
    "  filter(bodywt < lower_threshold | bodywt > upper_threshold) %>%\n",
    "  select(name, vore, sleep_total, bodywt)\n"
   ]
  },
  {
   "cell_type": "code",
   "execution_count": 24,
   "id": "030ae995",
   "metadata": {
    "vscode": {
     "languageId": "r"
    }
   },
   "outputs": [
    {
     "data": {
      "text/html": [
       "23133.9736385584"
      ],
      "text/latex": [
       "23133.9736385584"
      ],
      "text/markdown": [
       "23133.9736385584"
      ],
      "text/plain": [
       "[1] 23133.97"
      ]
     },
     "metadata": {},
     "output_type": "display_data"
    }
   ],
   "source": [
    "# Calculate the variance of co2_emission in the food_consumption dataset.\n",
    "var(food_consumption$co2_emission)\n"
   ]
  },
  {
   "cell_type": "code",
   "execution_count": 25,
   "id": "16a32689",
   "metadata": {
    "vscode": {
     "languageId": "r"
    }
   },
   "outputs": [
    {
     "data": {
      "text/html": [
       "152.098565537478"
      ],
      "text/latex": [
       "152.098565537478"
      ],
      "text/markdown": [
       "152.098565537478"
      ],
      "text/plain": [
       "[1] 152.0986"
      ]
     },
     "metadata": {},
     "output_type": "display_data"
    }
   ],
   "source": [
    "# Calculate the standard deviation of co2_emission in the food_consumption dataset.\n",
    "sd(food_consumption$co2_emission)\n"
   ]
  },
  {
   "cell_type": "code",
   "execution_count": 27,
   "id": "42fc43d5",
   "metadata": {
    "vscode": {
     "languageId": "r"
    }
   },
   "outputs": [
    {
     "name": "stdout",
     "output_type": "stream",
     "text": [
      "       0%       25%       50%       75%      100% \n",
      "   0.0000    5.2100   16.5300   62.5975 1712.0000 \n"
     ]
    }
   ],
   "source": [
    "# Calculate the quartiles of co2_emission\n",
    "print(quantile(food_consumption$co2_emission))\n"
   ]
  },
  {
   "cell_type": "code",
   "execution_count": 30,
   "id": "26af6152",
   "metadata": {
    "vscode": {
     "languageId": "r"
    }
   },
   "outputs": [
    {
     "name": "stdout",
     "output_type": "stream",
     "text": [
      "      0%      20%      40%      60%      80%     100% \n",
      "   0.000    3.540   11.026   25.590   99.978 1712.000 \n"
     ]
    }
   ],
   "source": [
    "# Calculate the quintiles of co2_emission\n",
    "print(quantile(food_consumption$co2_emission, probs = seq(0, 1, 0.2)))\n"
   ]
  },
  {
   "cell_type": "code",
   "execution_count": 32,
   "id": "2d0e8ff0",
   "metadata": {
    "vscode": {
     "languageId": "r"
    }
   },
   "outputs": [
    {
     "name": "stdout",
     "output_type": "stream",
     "text": [
      "      0%      10%      20%      30%      40%      50%      60%      70% \n",
      "   0.000    0.668    3.540    7.040   11.026   16.530   25.590   44.271 \n",
      "     80%      90%     100% \n",
      "  99.978  203.629 1712.000 \n"
     ]
    }
   ],
   "source": [
    "# Calculate the deciles of co2_emission\n",
    "print(quantile(food_consumption$co2_emission, probs = seq(0, 1, 0.1)))\n"
   ]
  },
  {
   "cell_type": "code",
   "execution_count": 34,
   "id": "ba86dbcb",
   "metadata": {
    "vscode": {
     "languageId": "r"
    }
   },
   "outputs": [
    {
     "name": "stdout",
     "output_type": "stream",
     "text": [
      "    75% \n",
      "57.3875 \n"
     ]
    }
   ],
   "source": [
    "# Compute the 25th percentile and 75th percentile of co2_emission\n",
    "q1 <- quantile(food_consumption$co2_emission, 0.25)\n",
    "q3 <- quantile(food_consumption$co2_emission, 0.75)\n",
    "\n",
    "# Compute the IQR of co2_emission\n",
    "iqr <- quantile(food_consumption$co2_emission, 0.75) - quantile(food_consumption$co2_emission, 0.25)\n",
    "print(iqr)\n"
   ]
  },
  {
   "cell_type": "code",
   "execution_count": 39,
   "id": "b4a26306",
   "metadata": {
    "vscode": {
     "languageId": "r"
    }
   },
   "outputs": [
    {
     "data": {
      "text/html": [
       "<strong>25%:</strong> -80.87125"
      ],
      "text/latex": [
       "\\textbf{25\\textbackslash{}\\%:} -80.87125"
      ],
      "text/markdown": [
       "**25%:** -80.87125"
      ],
      "text/plain": [
       "      25% \n",
       "-80.87125 "
      ]
     },
     "metadata": {},
     "output_type": "display_data"
    },
    {
     "data": {
      "text/html": [
       "<strong>75%:</strong> 148.67875"
      ],
      "text/latex": [
       "\\textbf{75\\textbackslash{}\\%:} 148.67875"
      ],
      "text/markdown": [
       "**75%:** 148.67875"
      ],
      "text/plain": [
       "     75% \n",
       "148.6788 "
      ]
     },
     "metadata": {},
     "output_type": "display_data"
    }
   ],
   "source": [
    "# Calculate the lower and upper cutoffs for outliers\n",
    "lower <- quantile(food_consumption$co2_emission, 0.25) - 1.5 * iqr\n",
    "upper <- quantile(food_consumption$co2_emission, 0.75) + 1.5 * iqr\n",
    "\n",
    "lower\n",
    "upper\n"
   ]
  },
  {
   "cell_type": "code",
   "execution_count": 46,
   "id": "f4c6c123",
   "metadata": {
    "vscode": {
     "languageId": "r"
    }
   },
   "outputs": [
    {
     "data": {
      "text/html": [
       "<table class=\"dataframe\">\n",
       "<caption>A spec_tbl_df: 6 × 4</caption>\n",
       "<thead>\n",
       "\t<tr><th scope=col>country</th><th scope=col>food_category</th><th scope=col>consumption</th><th scope=col>co2_emission</th></tr>\n",
       "\t<tr><th scope=col>&lt;chr&gt;</th><th scope=col>&lt;fct&gt;</th><th scope=col>&lt;dbl&gt;</th><th scope=col>&lt;dbl&gt;</th></tr>\n",
       "</thead>\n",
       "<tbody>\n",
       "\t<tr><td>Argentina</td><td>beef     </td><td> 55.48</td><td>1712.00</td></tr>\n",
       "\t<tr><td>Argentina</td><td>dairy    </td><td>195.08</td><td> 277.87</td></tr>\n",
       "\t<tr><td>Australia</td><td>beef     </td><td> 33.86</td><td>1044.85</td></tr>\n",
       "\t<tr><td>Australia</td><td>lamb_goat</td><td>  9.87</td><td> 345.65</td></tr>\n",
       "\t<tr><td>Australia</td><td>dairy    </td><td>234.49</td><td> 334.01</td></tr>\n",
       "\t<tr><td>Albania  </td><td>beef     </td><td> 22.50</td><td> 694.30</td></tr>\n",
       "</tbody>\n",
       "</table>\n"
      ],
      "text/latex": [
       "A spec\\_tbl\\_df: 6 × 4\n",
       "\\begin{tabular}{llll}\n",
       " country & food\\_category & consumption & co2\\_emission\\\\\n",
       " <chr> & <fct> & <dbl> & <dbl>\\\\\n",
       "\\hline\n",
       "\t Argentina & beef      &  55.48 & 1712.00\\\\\n",
       "\t Argentina & dairy     & 195.08 &  277.87\\\\\n",
       "\t Australia & beef      &  33.86 & 1044.85\\\\\n",
       "\t Australia & lamb\\_goat &   9.87 &  345.65\\\\\n",
       "\t Australia & dairy     & 234.49 &  334.01\\\\\n",
       "\t Albania   & beef      &  22.50 &  694.30\\\\\n",
       "\\end{tabular}\n"
      ],
      "text/markdown": [
       "\n",
       "A spec_tbl_df: 6 × 4\n",
       "\n",
       "| country &lt;chr&gt; | food_category &lt;fct&gt; | consumption &lt;dbl&gt; | co2_emission &lt;dbl&gt; |\n",
       "|---|---|---|---|\n",
       "| Argentina | beef      |  55.48 | 1712.00 |\n",
       "| Argentina | dairy     | 195.08 |  277.87 |\n",
       "| Australia | beef      |  33.86 | 1044.85 |\n",
       "| Australia | lamb_goat |   9.87 |  345.65 |\n",
       "| Australia | dairy     | 234.49 |  334.01 |\n",
       "| Albania   | beef      |  22.50 |  694.30 |\n",
       "\n"
      ],
      "text/plain": [
       "  country   food_category consumption co2_emission\n",
       "1 Argentina beef           55.48      1712.00     \n",
       "2 Argentina dairy         195.08       277.87     \n",
       "3 Australia beef           33.86      1044.85     \n",
       "4 Australia lamb_goat       9.87       345.65     \n",
       "5 Australia dairy         234.49       334.01     \n",
       "6 Albania   beef           22.50       694.30     "
      ]
     },
     "metadata": {},
     "output_type": "display_data"
    }
   ],
   "source": [
    "head(food_consumption %>%\n",
    "  filter(co2_emission < lower | co2_emission > upper))\n"
   ]
  },
  {
   "cell_type": "markdown",
   "id": "684cec77",
   "metadata": {},
   "source": [
    "**Probability** is a measure of the likelihood of an event occurring, calculated as the ratio of favorable outcomes to the total number of possible outcomes. This concept is fundamental to understanding sampling. Events can be **independent**, where one outcome does not affect another (like sampling **with replacement**), or **dependent**, where one outcome changes the probability of another (like sampling **without replacement**).\n",
    "\n",
    "### Measuring Chance\n",
    "\n",
    "Probability provides a mathematical framework for quantifying uncertainty. The probability of an event is a number between 0 and 1, where 0 indicates an impossible event and 1 indicates an event that is certain to happen.\n",
    "\n",
    "The basic formula for the probability of an event is:\n",
    "\n",
    "$$P(\\text{event}) = \\frac{\\text{Number of ways the event can happen}}{\\text{Total number of possible outcomes}}$$\n",
    "\n",
    "For example, when assigning one of four salespeople to a meeting, the total number of possible outcomes is four. The probability of any single salesperson, such as Brian, being chosen is:\n",
    "\n",
    "$$P(\\text{Brian}) = \\frac{1}{4} = 0.25 \\quad \\text{or} \\quad 25\\%$$\n",
    "\n",
    "### Sampling Without Replacement and Dependent Events\n",
    "\n",
    "**Sampling without replacement** is a process where once an item is selected from a population, it is not returned and cannot be selected again. This is the default behavior for sampling in many scenarios, including the `dplyr::sample_n()` function in R.\n",
    "\n",
    "```r\n",
    "# R code using the dplyr package\n",
    "# Assume 'sales_counts' is a tibble in the R environment with 4 rows\n",
    "\n",
    "# Set a seed for reproducibility\n",
    "set.seed(5)\n",
    "# Sample 2 rows without replacement (the default)\n",
    "sales_counts %>%\n",
    "  sample_n(2)\n",
    "\n",
    "# # A tibble: 2 × 2\n",
    "#   name      n_sales\n",
    "#   <chr>       <dbl>\n",
    "# 1 Brian         126\n",
    "# 2 Damian         69\n",
    "```\n",
    "\n",
    "This method of sampling leads to **dependent events**. Two events are dependent if the outcome of the first event affects the probability of the second event.\n",
    "\n",
    "Consider selecting two salespeople without replacement. The probability of picking Brian first is $1/4$. *Given that Brian was picked first*, there are only three salespeople left. The probability of then picking Claire second is now $1/3$. Since the probability of the second event changed based on the outcome of the first, the events are dependent.\n",
    "\n",
    "### Sampling With Replacement and Independent Events\n",
    "\n",
    "**Sampling with replacement** is a process where an item is returned to the population after being selected, making it available for all subsequent selections. This is specified in R by setting `replace = TRUE` in the sampling function.\n",
    "\n",
    "```r\n",
    "# R code using the dplyr package\n",
    "set.seed(42)\n",
    "# Sample 2 rows with replacement\n",
    "sales_counts %>%\n",
    "  sample_n(2, replace = TRUE)\n",
    "  \n",
    "# # A tibble: 2 × 2\n",
    "#   name      n_sales\n",
    "#   <chr>       <dbl>\n",
    "# 1 Damian         69\n",
    "# 2 Damian         69\n",
    "```\n",
    "\n",
    "This method of sampling leads to **independent events**. Two events are independent if the outcome of the first event has no effect on the probability of the second.\n",
    "\n",
    "When sampling with replacement, the probability of picking Brian first is $1/4$. Because Brian is \"put back into the pool,\" the total number of outcomes for the second pick remains four. The probability of picking Claire second is still $1/4$, regardless of who was picked first. Since the probability of the second event is unaffected by the first, the events are independent."
   ]
  },
  {
   "cell_type": "code",
   "execution_count": null,
   "id": "937a099f",
   "metadata": {
    "vscode": {
     "languageId": "r"
    }
   },
   "outputs": [],
   "source": []
  }
 ],
 "metadata": {
  "kernelspec": {
   "display_name": "R",
   "language": "R",
   "name": "ir"
  },
  "language_info": {
   "codemirror_mode": "r",
   "file_extension": ".r",
   "mimetype": "text/x-r-source",
   "name": "R",
   "pygments_lexer": "r",
   "version": "4.5.1"
  }
 },
 "nbformat": 4,
 "nbformat_minor": 5
}
